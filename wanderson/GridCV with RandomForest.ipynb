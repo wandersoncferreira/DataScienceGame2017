{
 "cells": [
  {
   "cell_type": "code",
   "execution_count": 2,
   "metadata": {
    "collapsed": false,
    "deletable": true,
    "editable": true
   },
   "outputs": [
    {
     "name": "stderr",
     "output_type": "stream",
     "text": [
      "/home/bartuka/miniconda3/lib/python3.5/site-packages/sklearn/cross_validation.py:44: DeprecationWarning: This module was deprecated in version 0.18 in favor of the model_selection module into which all the refactored classes and functions are moved. Also note that the interface of the new CV iterators are different from that of this module. This module will be removed in 0.20.\n",
      "  \"This module will be removed in 0.20.\", DeprecationWarning)\n",
      "/home/bartuka/miniconda3/lib/python3.5/site-packages/sklearn/grid_search.py:43: DeprecationWarning: This module was deprecated in version 0.18 in favor of the model_selection module into which all the refactored classes and functions are moved. This module will be removed in 0.20.\n",
      "  DeprecationWarning)\n"
     ]
    }
   ],
   "source": [
    "import gzip\n",
    "import csv\n",
    "import random\n",
    "from copy import copy\n",
    "import pandas as pd\n",
    "import numpy as np\n",
    "import matplotlib.pyplot as plt\n",
    "from sklearn import metrics\n",
    "from sklearn.metrics import confusion_matrix\n",
    "from sklearn.metrics import accuracy_score\n",
    "from sklearn.grid_search import GridSearchCV\n",
    "from greenpyce.feature_engineering import TargetEncoder\n",
    "from greenpyce.feature_engineering import onehot\n",
    "from greenpyce.feature_engineering import RankCategorical\n",
    "from greenpyce.feature_engineering import LabelCount\n",
    "from greenpyce.feature_engineering import time_count_between_dates\n",
    "from sklearn.model_selection import train_test_split\n",
    "from sklearn.ensemble import RandomForestClassifier\n",
    "\n",
    "# The universe and everything else\n",
    "random.seed(42)"
   ]
  },
  {
   "cell_type": "markdown",
   "metadata": {
    "collapsed": true,
    "deletable": true,
    "editable": true
   },
   "source": [
    "## Helper functions"
   ]
  },
  {
   "cell_type": "code",
   "execution_count": 3,
   "metadata": {
    "collapsed": true,
    "deletable": true,
    "editable": true
   },
   "outputs": [],
   "source": [
    "def complete_report(y_test, y_pred):\n",
    "    print(\"*********************************\")\n",
    "    print(\"Accuracy: {0:.2f}\".format(accuracy_score(y_test, y_pred)))\n",
    "    print(\"Precision: {0}\".format(metrics.precision_score(y_test, y_pred)))\n",
    "    print(\"Recall: {0}\".format(metrics.recall_score(y_test, y_pred)))\n",
    "    print(\"F1-Score: {0}\".format(metrics.f1_score(y_test, y_pred)))\n",
    "    conf_m = confusion_matrix(y_test, y_pred)\n",
    "    print(conf_m)\n",
    "    try: \n",
    "        print(\"Roc Area: {0}\".format(metrics.roc_auc_score(y_test, y_pred))) \n",
    "        roc_curve_label(y_test, y_pred)\n",
    "    except:\n",
    "        print(\"--\")\n",
    "    print(\"*********************************\")\n",
    "    \n",
    "    return metrics.roc_auc_score(y_test, y_pred)\n",
    "        \n",
    "def roc_curve_label(y_test, y_pred):\n",
    "    plt.figsize=(10,6)\n",
    "    fpr, tpr, _ = metrics.roc_curve(y_test, y_pred)\n",
    "    plt.figure(1)\n",
    "    plt.plot([0, 1], [0, 1], 'k--')\n",
    "    plt.plot(fpr, tpr, label='RT + LR')\n",
    "    plt.xlabel('False positive rate')\n",
    "    plt.ylabel('True positive rate')\n",
    "    plt.title('ROC curve')\n",
    "    plt.legend(loc='best')\n",
    "    plt.show()\n",
    "    \n",
    "    \n",
    "def expand_date_info(df, columns, hour_feats=False):\n",
    "    \"\"\"\n",
    "    Create year, month, day, hour and minute from a datetime column.\n",
    "    \"\"\"\n",
    "    for column in columns:\n",
    "        df[column + \"_DAY\"] = df[column].apply(lambda x: x.day)\n",
    "        df[column + \"_MONTH\"] = df[column].apply(lambda x: x.month)\n",
    "        df[column + \"_YEAR\"] = df[column].apply(lambda x: x.year)\n",
    "        if hour_feats:\n",
    "            df[column + \"_HOUR\"] = df[column].apply(lambda x: x.hour)\n",
    "\n",
    "    return df\n",
    "\n",
    "def parse_date(x):\n",
    "    text = \"\"\n",
    "    year = int(x / 10000)\n",
    "    month = int((x % 10000) / 100)\n",
    "    day = (x % 100)\n",
    "    text = str(year) + \"-\" + str(month) + \"-\" + str(day)\n",
    "    \n",
    "    return text\n",
    "\n",
    "\n",
    "def build_kaggle_submission(model, df_test, features, filename=\"my_submission\"):\n",
    "    \"\"\"\n",
    "    Build a compressed Kaggle Submission\n",
    "    \n",
    "    df_test : Dataframe com os dados de teste\n",
    "    model : Modelo treinado\n",
    "    features : Lista de features usadas para o treinamento\n",
    "    filename : Nome do arquivo de submissão\n",
    "    \"\"\"\n",
    "    \n",
    "    preds = model.predict_proba(df_test[features])\n",
    "    preds = preds[:, 1]\n",
    "    \n",
    "    with gzip.open(filename + '.csv.gz', 'wt') as outf:\n",
    "        fo = csv.writer(outf, lineterminator='\\n')\n",
    "        fo.writerow([\"sample_id\", \"is_listened\"])       \n",
    "        for i, pred in enumerate(preds):\n",
    "            fo.writerow([i, pred])"
   ]
  },
  {
   "cell_type": "markdown",
   "metadata": {
    "deletable": true,
    "editable": true
   },
   "source": [
    "## GridSearch definition"
   ]
  },
  {
   "cell_type": "code",
   "execution_count": 5,
   "metadata": {
    "collapsed": true,
    "deletable": true,
    "editable": true
   },
   "outputs": [],
   "source": [
    "def optimize_model(model, X, y, params_grid, cross_validation):\n",
    "    model_tmp = copy(model)\n",
    "    search = GridSearchCV(estimator=model_tmp, param_grid=params_grid, cv=cross_validation, verbose=True)\n",
    "    search.fit(X, y)\n",
    "    \n",
    "    print(\"Best score: \", search.best_score_)\n",
    "    print(\"Best params: \", search.best_params_)\n",
    "    \n",
    "    # input the best params inside the model and return the model with the right params\n",
    "    best_params = search.best_params_\n",
    "    model_tmp = model_tmp.set_params(**best_params)\n",
    "    return model_tmp, best_params"
   ]
  },
  {
   "cell_type": "markdown",
   "metadata": {
    "deletable": true,
    "editable": true
   },
   "source": [
    "## Feature engineering"
   ]
  },
  {
   "cell_type": "markdown",
   "metadata": {
    "deletable": true,
    "editable": true
   },
   "source": [
    "### User specific features"
   ]
  },
  {
   "cell_type": "code",
   "execution_count": 51,
   "metadata": {
    "collapsed": false,
    "deletable": true,
    "editable": true
   },
   "outputs": [],
   "source": [
    "df_train = pd.read_csv(\"../data/train.csv\")\n",
    "df_test = pd.read_csv(\"../data/test.csv\")\n",
    "nmidia_feats = pd.read_csv(\"../features/nmidia_feats.csv\", sep=\";\")"
   ]
  },
  {
   "cell_type": "code",
   "execution_count": 57,
   "metadata": {
    "collapsed": true,
    "deletable": true,
    "editable": true
   },
   "outputs": [],
   "source": [
    "nmidia_feats[\"user_id\"] = nmidia_feats[\"index\"]"
   ]
  },
  {
   "cell_type": "code",
   "execution_count": 59,
   "metadata": {
    "collapsed": false
   },
   "outputs": [
    {
     "data": {
      "text/plain": [
       "1319"
      ]
     },
     "execution_count": 59,
     "metadata": {},
     "output_type": "execute_result"
    }
   ],
   "source": [
    "nmidia_feats.__len__()"
   ]
  },
  {
   "cell_type": "code",
   "execution_count": 54,
   "metadata": {
    "collapsed": true,
    "deletable": true,
    "editable": true
   },
   "outputs": [],
   "source": [
    "user_features_used = [\"user_id\", \"nartist_with_flow\", \"nartist_with_flow_listened\", \"nmidia_regular_listened\", \"nmidia_regular\",\n",
    "                      \"nmidia_with_flow\", \"nartist_regular_listened\", \"nartist_regular\", \"nmidia_with_flow_listened\"]\n",
    "df_user_feats = nmidia_feats[user_features_used]"
   ]
  },
  {
   "cell_type": "code",
   "execution_count": 55,
   "metadata": {
    "collapsed": false,
    "deletable": true,
    "editable": true
   },
   "outputs": [
    {
     "data": {
      "text/html": [
       "<div>\n",
       "<table border=\"1\" class=\"dataframe\">\n",
       "  <thead>\n",
       "    <tr style=\"text-align: right;\">\n",
       "      <th></th>\n",
       "      <th>sample_id</th>\n",
       "      <th>genre_id</th>\n",
       "      <th>ts_listen</th>\n",
       "      <th>media_id</th>\n",
       "      <th>album_id</th>\n",
       "      <th>context_type</th>\n",
       "      <th>release_date</th>\n",
       "      <th>platform_name</th>\n",
       "      <th>platform_family</th>\n",
       "      <th>media_duration</th>\n",
       "      <th>...</th>\n",
       "      <th>artist_id</th>\n",
       "      <th>user_age</th>\n",
       "      <th>nartist_with_flow</th>\n",
       "      <th>nartist_with_flow_listened</th>\n",
       "      <th>nmidia_regular_listened</th>\n",
       "      <th>nmidia_regular</th>\n",
       "      <th>nmidia_with_flow</th>\n",
       "      <th>nartist_regular_listened</th>\n",
       "      <th>nartist_regular</th>\n",
       "      <th>nmidia_with_flow_listened</th>\n",
       "    </tr>\n",
       "  </thead>\n",
       "  <tbody>\n",
       "    <tr>\n",
       "      <th>0</th>\n",
       "      <td>1</td>\n",
       "      <td>2744</td>\n",
       "      <td>1479317140</td>\n",
       "      <td>876497</td>\n",
       "      <td>99692</td>\n",
       "      <td>1</td>\n",
       "      <td>19851231</td>\n",
       "      <td>0</td>\n",
       "      <td>0</td>\n",
       "      <td>307</td>\n",
       "      <td>...</td>\n",
       "      <td>26</td>\n",
       "      <td>28</td>\n",
       "      <td>0</td>\n",
       "      <td>0</td>\n",
       "      <td>1</td>\n",
       "      <td>1</td>\n",
       "      <td>0</td>\n",
       "      <td>1</td>\n",
       "      <td>1</td>\n",
       "      <td>0</td>\n",
       "    </tr>\n",
       "    <tr>\n",
       "      <th>1</th>\n",
       "      <td>3</td>\n",
       "      <td>2744</td>\n",
       "      <td>1478457729</td>\n",
       "      <td>876500</td>\n",
       "      <td>99692</td>\n",
       "      <td>1</td>\n",
       "      <td>19851231</td>\n",
       "      <td>2</td>\n",
       "      <td>1</td>\n",
       "      <td>265</td>\n",
       "      <td>...</td>\n",
       "      <td>26</td>\n",
       "      <td>30</td>\n",
       "      <td>0</td>\n",
       "      <td>0</td>\n",
       "      <td>0</td>\n",
       "      <td>1</td>\n",
       "      <td>0</td>\n",
       "      <td>0</td>\n",
       "      <td>1</td>\n",
       "      <td>0</td>\n",
       "    </tr>\n",
       "    <tr>\n",
       "      <th>2</th>\n",
       "      <td>4</td>\n",
       "      <td>2744</td>\n",
       "      <td>1480448560</td>\n",
       "      <td>876504</td>\n",
       "      <td>99692</td>\n",
       "      <td>1</td>\n",
       "      <td>19851231</td>\n",
       "      <td>2</td>\n",
       "      <td>1</td>\n",
       "      <td>356</td>\n",
       "      <td>...</td>\n",
       "      <td>26</td>\n",
       "      <td>29</td>\n",
       "      <td>1</td>\n",
       "      <td>1</td>\n",
       "      <td>7</td>\n",
       "      <td>7</td>\n",
       "      <td>4</td>\n",
       "      <td>1</td>\n",
       "      <td>1</td>\n",
       "      <td>4</td>\n",
       "    </tr>\n",
       "    <tr>\n",
       "      <th>3</th>\n",
       "      <td>5</td>\n",
       "      <td>2744</td>\n",
       "      <td>1479410530</td>\n",
       "      <td>876497</td>\n",
       "      <td>99692</td>\n",
       "      <td>1</td>\n",
       "      <td>19851231</td>\n",
       "      <td>0</td>\n",
       "      <td>0</td>\n",
       "      <td>307</td>\n",
       "      <td>...</td>\n",
       "      <td>26</td>\n",
       "      <td>21</td>\n",
       "      <td>0</td>\n",
       "      <td>0</td>\n",
       "      <td>1</td>\n",
       "      <td>1</td>\n",
       "      <td>0</td>\n",
       "      <td>1</td>\n",
       "      <td>1</td>\n",
       "      <td>0</td>\n",
       "    </tr>\n",
       "    <tr>\n",
       "      <th>4</th>\n",
       "      <td>12</td>\n",
       "      <td>18</td>\n",
       "      <td>1480623636</td>\n",
       "      <td>3084955</td>\n",
       "      <td>298859</td>\n",
       "      <td>1</td>\n",
       "      <td>20090413</td>\n",
       "      <td>0</td>\n",
       "      <td>0</td>\n",
       "      <td>131</td>\n",
       "      <td>...</td>\n",
       "      <td>7085</td>\n",
       "      <td>22</td>\n",
       "      <td>1</td>\n",
       "      <td>1</td>\n",
       "      <td>2</td>\n",
       "      <td>2</td>\n",
       "      <td>2</td>\n",
       "      <td>1</td>\n",
       "      <td>1</td>\n",
       "      <td>1</td>\n",
       "    </tr>\n",
       "  </tbody>\n",
       "</table>\n",
       "<p>5 rows × 23 columns</p>\n",
       "</div>"
      ],
      "text/plain": [
       "   sample_id  genre_id   ts_listen  media_id  album_id  context_type  \\\n",
       "0          1      2744  1479317140    876497     99692             1   \n",
       "1          3      2744  1478457729    876500     99692             1   \n",
       "2          4      2744  1480448560    876504     99692             1   \n",
       "3          5      2744  1479410530    876497     99692             1   \n",
       "4         12        18  1480623636   3084955    298859             1   \n",
       "\n",
       "   release_date  platform_name  platform_family  media_duration  \\\n",
       "0      19851231              0                0             307   \n",
       "1      19851231              2                1             265   \n",
       "2      19851231              2                1             356   \n",
       "3      19851231              0                0             307   \n",
       "4      20090413              0                0             131   \n",
       "\n",
       "             ...              artist_id  user_age  nartist_with_flow  \\\n",
       "0            ...                     26        28                  0   \n",
       "1            ...                     26        30                  0   \n",
       "2            ...                     26        29                  1   \n",
       "3            ...                     26        21                  0   \n",
       "4            ...                   7085        22                  1   \n",
       "\n",
       "   nartist_with_flow_listened  nmidia_regular_listened  nmidia_regular  \\\n",
       "0                           0                        1               1   \n",
       "1                           0                        0               1   \n",
       "2                           1                        7               7   \n",
       "3                           0                        1               1   \n",
       "4                           1                        2               2   \n",
       "\n",
       "   nmidia_with_flow  nartist_regular_listened  nartist_regular  \\\n",
       "0                 0                         1                1   \n",
       "1                 0                         0                1   \n",
       "2                 4                         1                1   \n",
       "3                 0                         1                1   \n",
       "4                 2                         1                1   \n",
       "\n",
       "   nmidia_with_flow_listened  \n",
       "0                          0  \n",
       "1                          0  \n",
       "2                          4  \n",
       "3                          0  \n",
       "4                          1  \n",
       "\n",
       "[5 rows x 23 columns]"
      ]
     },
     "execution_count": 55,
     "metadata": {},
     "output_type": "execute_result"
    }
   ],
   "source": [
    "df_train = pd.merge(df_train, df_user_feats, on=\"user_id\")\n",
    "df_test = pd.merge(df_test, df_user_feats, on=\"user_id\")\n",
    "df_test.head()"
   ]
  },
  {
   "cell_type": "code",
   "execution_count": 36,
   "metadata": {
    "collapsed": false,
    "deletable": true,
    "editable": true
   },
   "outputs": [
    {
     "data": {
      "text/html": [
       "<div>\n",
       "<table border=\"1\" class=\"dataframe\">\n",
       "  <thead>\n",
       "    <tr style=\"text-align: right;\">\n",
       "      <th></th>\n",
       "      <th>sample_id</th>\n",
       "      <th>genre_id</th>\n",
       "      <th>ts_listen</th>\n",
       "      <th>media_id</th>\n",
       "      <th>album_id</th>\n",
       "      <th>context_type</th>\n",
       "      <th>release_date</th>\n",
       "      <th>platform_name</th>\n",
       "      <th>platform_family</th>\n",
       "      <th>media_duration</th>\n",
       "      <th>...</th>\n",
       "      <th>nmidia_regular</th>\n",
       "      <th>nmidia_with_flow</th>\n",
       "      <th>nartist_regular_listened</th>\n",
       "      <th>nartist_regular</th>\n",
       "      <th>nmidia_with_flow_listened</th>\n",
       "      <th>year</th>\n",
       "      <th>text</th>\n",
       "      <th>release_date_DAY</th>\n",
       "      <th>release_date_MONTH</th>\n",
       "      <th>release_date_YEAR</th>\n",
       "    </tr>\n",
       "  </thead>\n",
       "  <tbody>\n",
       "    <tr>\n",
       "      <th>0</th>\n",
       "      <td>1</td>\n",
       "      <td>2744</td>\n",
       "      <td>1479317140</td>\n",
       "      <td>876497</td>\n",
       "      <td>99692</td>\n",
       "      <td>1</td>\n",
       "      <td>1985-12-31</td>\n",
       "      <td>0</td>\n",
       "      <td>0</td>\n",
       "      <td>307</td>\n",
       "      <td>...</td>\n",
       "      <td>1</td>\n",
       "      <td>0</td>\n",
       "      <td>1</td>\n",
       "      <td>1</td>\n",
       "      <td>0</td>\n",
       "      <td>1985</td>\n",
       "      <td>1985-12-31</td>\n",
       "      <td>31</td>\n",
       "      <td>12</td>\n",
       "      <td>1985</td>\n",
       "    </tr>\n",
       "    <tr>\n",
       "      <th>1</th>\n",
       "      <td>3</td>\n",
       "      <td>2744</td>\n",
       "      <td>1478457729</td>\n",
       "      <td>876500</td>\n",
       "      <td>99692</td>\n",
       "      <td>1</td>\n",
       "      <td>1985-12-31</td>\n",
       "      <td>2</td>\n",
       "      <td>1</td>\n",
       "      <td>265</td>\n",
       "      <td>...</td>\n",
       "      <td>1</td>\n",
       "      <td>0</td>\n",
       "      <td>0</td>\n",
       "      <td>1</td>\n",
       "      <td>0</td>\n",
       "      <td>1985</td>\n",
       "      <td>1985-12-31</td>\n",
       "      <td>31</td>\n",
       "      <td>12</td>\n",
       "      <td>1985</td>\n",
       "    </tr>\n",
       "    <tr>\n",
       "      <th>2</th>\n",
       "      <td>4</td>\n",
       "      <td>2744</td>\n",
       "      <td>1480448560</td>\n",
       "      <td>876504</td>\n",
       "      <td>99692</td>\n",
       "      <td>1</td>\n",
       "      <td>1985-12-31</td>\n",
       "      <td>2</td>\n",
       "      <td>1</td>\n",
       "      <td>356</td>\n",
       "      <td>...</td>\n",
       "      <td>7</td>\n",
       "      <td>4</td>\n",
       "      <td>1</td>\n",
       "      <td>1</td>\n",
       "      <td>4</td>\n",
       "      <td>1985</td>\n",
       "      <td>1985-12-31</td>\n",
       "      <td>31</td>\n",
       "      <td>12</td>\n",
       "      <td>1985</td>\n",
       "    </tr>\n",
       "    <tr>\n",
       "      <th>3</th>\n",
       "      <td>5</td>\n",
       "      <td>2744</td>\n",
       "      <td>1479410530</td>\n",
       "      <td>876497</td>\n",
       "      <td>99692</td>\n",
       "      <td>1</td>\n",
       "      <td>1985-12-31</td>\n",
       "      <td>0</td>\n",
       "      <td>0</td>\n",
       "      <td>307</td>\n",
       "      <td>...</td>\n",
       "      <td>1</td>\n",
       "      <td>0</td>\n",
       "      <td>1</td>\n",
       "      <td>1</td>\n",
       "      <td>0</td>\n",
       "      <td>1985</td>\n",
       "      <td>1985-12-31</td>\n",
       "      <td>31</td>\n",
       "      <td>12</td>\n",
       "      <td>1985</td>\n",
       "    </tr>\n",
       "    <tr>\n",
       "      <th>4</th>\n",
       "      <td>12</td>\n",
       "      <td>18</td>\n",
       "      <td>1480623636</td>\n",
       "      <td>3084955</td>\n",
       "      <td>298859</td>\n",
       "      <td>1</td>\n",
       "      <td>2009-04-13</td>\n",
       "      <td>0</td>\n",
       "      <td>0</td>\n",
       "      <td>131</td>\n",
       "      <td>...</td>\n",
       "      <td>2</td>\n",
       "      <td>2</td>\n",
       "      <td>1</td>\n",
       "      <td>1</td>\n",
       "      <td>1</td>\n",
       "      <td>2009</td>\n",
       "      <td>2009-04-13</td>\n",
       "      <td>13</td>\n",
       "      <td>4</td>\n",
       "      <td>2009</td>\n",
       "    </tr>\n",
       "  </tbody>\n",
       "</table>\n",
       "<p>5 rows × 28 columns</p>\n",
       "</div>"
      ],
      "text/plain": [
       "   sample_id  genre_id   ts_listen  media_id  album_id  context_type  \\\n",
       "0          1      2744  1479317140    876497     99692             1   \n",
       "1          3      2744  1478457729    876500     99692             1   \n",
       "2          4      2744  1480448560    876504     99692             1   \n",
       "3          5      2744  1479410530    876497     99692             1   \n",
       "4         12        18  1480623636   3084955    298859             1   \n",
       "\n",
       "  release_date  platform_name  platform_family  media_duration  \\\n",
       "0   1985-12-31              0                0             307   \n",
       "1   1985-12-31              2                1             265   \n",
       "2   1985-12-31              2                1             356   \n",
       "3   1985-12-31              0                0             307   \n",
       "4   2009-04-13              0                0             131   \n",
       "\n",
       "         ...          nmidia_regular  nmidia_with_flow  \\\n",
       "0        ...                       1                 0   \n",
       "1        ...                       1                 0   \n",
       "2        ...                       7                 4   \n",
       "3        ...                       1                 0   \n",
       "4        ...                       2                 2   \n",
       "\n",
       "   nartist_regular_listened  nartist_regular  nmidia_with_flow_listened  year  \\\n",
       "0                         1                1                          0  1985   \n",
       "1                         0                1                          0  1985   \n",
       "2                         1                1                          4  1985   \n",
       "3                         1                1                          0  1985   \n",
       "4                         1                1                          1  2009   \n",
       "\n",
       "        text  release_date_DAY  release_date_MONTH  release_date_YEAR  \n",
       "0 1985-12-31                31                  12               1985  \n",
       "1 1985-12-31                31                  12               1985  \n",
       "2 1985-12-31                31                  12               1985  \n",
       "3 1985-12-31                31                  12               1985  \n",
       "4 2009-04-13                13                   4               2009  \n",
       "\n",
       "[5 rows x 28 columns]"
      ]
     },
     "execution_count": 36,
     "metadata": {},
     "output_type": "execute_result"
    }
   ],
   "source": [
    "df_train[\"year\"] = df_train[\"release_date\"].apply(lambda x: x // 10000)\n",
    "df_train.drop(df_train[df_train[\"year\"] > 2017].index , inplace=True)\n",
    "df_train[\"text\"] = df_train[\"release_date\"].apply(lambda x : parse_date(x))\n",
    "df_train[\"text\"] = df_train[\"text\"].apply(lambda x : pd.to_datetime(x))\n",
    "df_train[\"release_date\"] = df_train[\"text\"]\n",
    "expand_date_info(df_train, [\"release_date\"]).head()\n",
    "\n",
    "\n",
    "df_test[\"year\"] = df_test[\"release_date\"].apply(lambda x : x // 10000)\n",
    "df_test.drop(df_test[df_test[\"year\"] > 2017].index , inplace=True)\n",
    "df_test[\"text\"] = df_test[\"release_date\"].apply(lambda x : parse_date(x))\n",
    "df_test[\"text\"] = df_test[\"text\"].apply(lambda x : pd.to_datetime(x))\n",
    "df_test[\"release_date\"] = df_test[\"text\"]\n",
    "expand_date_info(df_test, [\"release_date\"]).head()"
   ]
  },
  {
   "cell_type": "code",
   "execution_count": 37,
   "metadata": {
    "collapsed": true,
    "deletable": true,
    "editable": true
   },
   "outputs": [],
   "source": [
    "df_train.drop([\"text\", \"release_date\"], axis=1, inplace=True)\n",
    "df_test.drop([\"text\", \"release_date\"], axis=1, inplace=True)"
   ]
  },
  {
   "cell_type": "code",
   "execution_count": 38,
   "metadata": {
    "collapsed": true,
    "deletable": true,
    "editable": true
   },
   "outputs": [],
   "source": [
    "df_train[\"media_duration\"] = df_train[\"media_duration\"].apply(lambda x: round(x / 60.0))\n",
    "df_test[\"media_duration\"] = df_test[\"media_duration\"].apply(lambda x : round(x / 60.0))"
   ]
  },
  {
   "cell_type": "code",
   "execution_count": 39,
   "metadata": {
    "collapsed": true,
    "deletable": true,
    "editable": true
   },
   "outputs": [],
   "source": [
    "cols_for_target_encoder = [\"genre_id\", \"context_type\", \"user_id\", \"media_id\", \"media_duration\"]\n",
    "cols_for_onehot = [\"platform_name\", \"platform_family\", \"listen_type\", \"user_gender\", \"user_age\"]\n",
    "cols_for_rank = [\"artist_id\"]\n",
    "\n",
    "target = \"is_listened\""
   ]
  },
  {
   "cell_type": "code",
   "execution_count": 40,
   "metadata": {
    "collapsed": true,
    "deletable": true,
    "editable": true
   },
   "outputs": [],
   "source": [
    "te = TargetEncoder(cols_for_target_encoder, \"is_listened\", inplace=True)\n",
    "te.fit(df_train)\n",
    "\n",
    "te.transform(df_train)\n",
    "te.transform(df_test)"
   ]
  },
  {
   "cell_type": "code",
   "execution_count": 41,
   "metadata": {
    "collapsed": true,
    "deletable": true,
    "editable": true
   },
   "outputs": [],
   "source": [
    "rc = RankCategorical(cols_for_rank)\n",
    "rc.fit(df_train)\n",
    "rc.transform(df_train)\n",
    "rc.transform(df_test)"
   ]
  },
  {
   "cell_type": "code",
   "execution_count": 42,
   "metadata": {
    "collapsed": false,
    "deletable": true,
    "editable": true
   },
   "outputs": [],
   "source": [
    "df_train = onehot(df_train, cols_for_onehot)\n",
    "df_test = onehot(df_test, cols_for_onehot)"
   ]
  },
  {
   "cell_type": "code",
   "execution_count": 46,
   "metadata": {
    "collapsed": true
   },
   "outputs": [],
   "source": [
    "df_test[\"listen_type_1\"] = 1"
   ]
  },
  {
   "cell_type": "code",
   "execution_count": 47,
   "metadata": {
    "collapsed": false,
    "deletable": true,
    "editable": true
   },
   "outputs": [
    {
     "data": {
      "text/plain": [
       "['genre_id',\n",
       " 'ts_listen',\n",
       " 'media_id',\n",
       " 'album_id',\n",
       " 'context_type',\n",
       " 'media_duration',\n",
       " 'user_id',\n",
       " 'artist_id',\n",
       " 'nartist_with_flow',\n",
       " 'nartist_with_flow_listened',\n",
       " 'nmidia_regular_listened',\n",
       " 'nmidia_regular',\n",
       " 'nmidia_with_flow',\n",
       " 'nartist_regular_listened',\n",
       " 'nartist_regular',\n",
       " 'nmidia_with_flow_listened',\n",
       " 'year',\n",
       " 'release_date_DAY',\n",
       " 'release_date_MONTH',\n",
       " 'release_date_YEAR',\n",
       " 'platform_name_1',\n",
       " 'platform_name_2',\n",
       " 'platform_family_1',\n",
       " 'platform_family_2',\n",
       " 'listen_type_1',\n",
       " 'user_gender_1',\n",
       " 'user_age_19',\n",
       " 'user_age_20',\n",
       " 'user_age_21',\n",
       " 'user_age_22',\n",
       " 'user_age_23',\n",
       " 'user_age_24',\n",
       " 'user_age_25',\n",
       " 'user_age_26',\n",
       " 'user_age_27',\n",
       " 'user_age_28',\n",
       " 'user_age_29',\n",
       " 'user_age_30']"
      ]
     },
     "execution_count": 47,
     "metadata": {},
     "output_type": "execute_result"
    }
   ],
   "source": [
    "features = [col for col in df_train.columns.values if col != target]\n",
    "features"
   ]
  },
  {
   "cell_type": "code",
   "execution_count": 48,
   "metadata": {
    "collapsed": false
   },
   "outputs": [
    {
     "data": {
      "text/plain": [
       "Index(['sample_id', 'genre_id', 'ts_listen', 'media_id', 'album_id',\n",
       "       'context_type', 'media_duration', 'user_id', 'artist_id',\n",
       "       'nartist_with_flow', 'nartist_with_flow_listened',\n",
       "       'nmidia_regular_listened', 'nmidia_regular', 'nmidia_with_flow',\n",
       "       'nartist_regular_listened', 'nartist_regular',\n",
       "       'nmidia_with_flow_listened', 'year', 'release_date_DAY',\n",
       "       'release_date_MONTH', 'release_date_YEAR', 'platform_name_1',\n",
       "       'platform_name_2', 'platform_family_1', 'platform_family_2',\n",
       "       'user_gender_1', 'user_age_19', 'user_age_20', 'user_age_21',\n",
       "       'user_age_22', 'user_age_23', 'user_age_24', 'user_age_25',\n",
       "       'user_age_26', 'user_age_27', 'user_age_28', 'user_age_29',\n",
       "       'user_age_30', 'listen_type_1'],\n",
       "      dtype='object')"
      ]
     },
     "execution_count": 48,
     "metadata": {},
     "output_type": "execute_result"
    }
   ],
   "source": [
    "df_test.columns"
   ]
  },
  {
   "cell_type": "markdown",
   "metadata": {
    "deletable": true,
    "editable": true
   },
   "source": [
    "## RandomForestClassifier params to be used in GridSearch\n",
    "\n",
    "parametros utilizados no modelo:\n",
    "\n",
    "    - n_estimators = numero de arvores\n",
    "    - criterion = funcao que mede a qualidade dos splits. Opções são gini que mede a impureza Gini e \"entropy\" que mede o ganho de informação.\n",
    "    - max_features = o numero de features que deve ser considerada para cada split\n",
    "    - max_depth = profundidade das arvores\n",
    "    - oob_score = utiliza leave-one-out para calcular acurácia de validação fora da amostra   "
   ]
  },
  {
   "cell_type": "code",
   "execution_count": 24,
   "metadata": {
    "collapsed": false,
    "deletable": true,
    "editable": true
   },
   "outputs": [],
   "source": [
    "grid_params = {\"n_estimators\": [12, 15, 18], \n",
    "               \"criterion\": [\"gini\", \"entropy\"],\n",
    "               \"max_features\": [\"auto\", \"sqrt\", None],\n",
    "               \"max_depth\": [15, 20, 30, None]\n",
    "               }\n",
    "\n",
    "grid_params = {\"n_estimators\": [18],\n",
    "               \"criterion\": [\"entropy\"],\n",
    "               \"max_features\": [None],\n",
    "               \"max_depth\": [None]\n",
    "               }"
   ]
  },
  {
   "cell_type": "code",
   "execution_count": 26,
   "metadata": {
    "collapsed": false,
    "deletable": true,
    "editable": true,
    "scrolled": true
   },
   "outputs": [
    {
     "name": "stdout",
     "output_type": "stream",
     "text": [
      "Fitting 2 folds for each of 1 candidates, totalling 2 fits\n"
     ]
    },
    {
     "name": "stderr",
     "output_type": "stream",
     "text": [
      "/home/bartuka/miniconda3/lib/python3.5/site-packages/sklearn/ensemble/forest.py:439: UserWarning: Some inputs do not have OOB scores. This probably means too few trees were used to compute any reliable oob estimates.\n",
      "  warn(\"Some inputs do not have OOB scores. \"\n",
      "/home/bartuka/miniconda3/lib/python3.5/site-packages/sklearn/ensemble/forest.py:444: RuntimeWarning: invalid value encountered in true_divide\n",
      "  predictions[k].sum(axis=1)[:, np.newaxis])\n",
      "/home/bartuka/miniconda3/lib/python3.5/site-packages/sklearn/ensemble/forest.py:439: UserWarning: Some inputs do not have OOB scores. This probably means too few trees were used to compute any reliable oob estimates.\n",
      "  warn(\"Some inputs do not have OOB scores. \"\n",
      "/home/bartuka/miniconda3/lib/python3.5/site-packages/sklearn/ensemble/forest.py:444: RuntimeWarning: invalid value encountered in true_divide\n",
      "  predictions[k].sum(axis=1)[:, np.newaxis])\n",
      "[Parallel(n_jobs=1)]: Done   2 out of   2 | elapsed:  1.2min finished\n"
     ]
    },
    {
     "name": "stdout",
     "output_type": "stream",
     "text": [
      "Best score:  0.7342572465677567\n",
      "Best params:  {'criterion': 'entropy', 'max_depth': None, 'max_features': None, 'n_estimators': 18}\n"
     ]
    },
    {
     "name": "stderr",
     "output_type": "stream",
     "text": [
      "/home/bartuka/miniconda3/lib/python3.5/site-packages/sklearn/ensemble/forest.py:439: UserWarning: Some inputs do not have OOB scores. This probably means too few trees were used to compute any reliable oob estimates.\n",
      "  warn(\"Some inputs do not have OOB scores. \"\n",
      "/home/bartuka/miniconda3/lib/python3.5/site-packages/sklearn/ensemble/forest.py:444: RuntimeWarning: invalid value encountered in true_divide\n",
      "  predictions[k].sum(axis=1)[:, np.newaxis])\n"
     ]
    }
   ],
   "source": [
    "X = df_train[features]\n",
    "y = df_train[target]\n",
    "\n",
    "model = RandomForestClassifier(oob_score=True, n_jobs = 10)\n",
    "best_model, best_params = optimize_model(model, X, y, grid_params, 2)"
   ]
  },
  {
   "cell_type": "markdown",
   "metadata": {
    "deletable": true,
    "editable": true
   },
   "source": [
    "## Aplicação do modelo RandomForest com os melhores parametros encontrados pelo GridSearchCV"
   ]
  },
  {
   "cell_type": "code",
   "execution_count": 27,
   "metadata": {
    "collapsed": false,
    "deletable": true,
    "editable": true
   },
   "outputs": [
    {
     "name": "stderr",
     "output_type": "stream",
     "text": [
      "/home/bartuka/miniconda3/lib/python3.5/site-packages/sklearn/ensemble/forest.py:439: UserWarning: Some inputs do not have OOB scores. This probably means too few trees were used to compute any reliable oob estimates.\n",
      "  warn(\"Some inputs do not have OOB scores. \"\n",
      "/home/bartuka/miniconda3/lib/python3.5/site-packages/sklearn/ensemble/forest.py:444: RuntimeWarning: invalid value encountered in true_divide\n",
      "  predictions[k].sum(axis=1)[:, np.newaxis])\n"
     ]
    },
    {
     "name": "stdout",
     "output_type": "stream",
     "text": [
      "*********************************\n",
      "Accuracy: 0.81\n",
      "Precision: 0.8623415540439303\n",
      "Recall: 0.8636718327951116\n",
      "F1-Score: 0.8630061807810996\n",
      "[[ 57109  22969]\n",
      " [ 22712 143886]]\n",
      "Roc Area: 0.7884194974060725\n"
     ]
    },
    {
     "data": {
      "image/png": "[encoded data removed]",
      "text/plain": [
       "<matplotlib.figure.Figure at 0x7fcb3ca42e80>"
      ]
     },
     "metadata": {},
     "output_type": "display_data"
    },
    {
     "name": "stdout",
     "output_type": "stream",
     "text": [
      "*********************************\n"
     ]
    },
    {
     "data": {
      "text/plain": [
       "0.78841949740607253"
      ]
     },
     "execution_count": 27,
     "metadata": {},
     "output_type": "execute_result"
    }
   ],
   "source": [
    "X_train, X_test, y_train, y_test = train_test_split(df_train[features], df_train[target], test_size = 0.2)\n",
    "best_model.fit(X_train, y_train)\n",
    "best_model.score(X_test, y_test)\n",
    "complete_report(y_test, best_model.predict(X_test))"
   ]
  },
  {
   "cell_type": "code",
   "execution_count": 49,
   "metadata": {
    "collapsed": false
   },
   "outputs": [],
   "source": [
    "build_kaggle_submission(best_model, df_test, features, filename=\"my_submission\")"
   ]
  },
  {
   "cell_type": "code",
   "execution_count": 50,
   "metadata": {
    "collapsed": false
   },
   "outputs": [
    {
     "data": {
      "text/plain": [
       "1319"
      ]
     },
     "execution_count": 50,
     "metadata": {},
     "output_type": "execute_result"
    }
   ],
   "source": [
    "len(df_test)"
   ]
  },
  {
   "cell_type": "code",
   "execution_count": null,
   "metadata": {
    "collapsed": true
   },
   "outputs": [],
   "source": []
  }
 ],
 "metadata": {
  "kernelspec": {
   "display_name": "Python [default]",
   "language": "python",
   "name": "python3"
  },
  "language_info": {
   "codemirror_mode": {
    "name": "ipython",
    "version": 3
   },
   "file_extension": ".py",
   "mimetype": "text/x-python",
   "name": "python",
   "nbconvert_exporter": "python",
   "pygments_lexer": "ipython3",
   "version": "3.5.2"
  }
 },
 "nbformat": 4,
 "nbformat_minor": 2
}
