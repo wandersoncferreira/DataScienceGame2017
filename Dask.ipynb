{
 "cells": [
  {
   "cell_type": "code",
   "execution_count": 1,
   "metadata": {
    "collapsed": false,
    "deletable": true,
    "editable": true
   },
   "outputs": [],
   "source": [
    "import dask.dataframe as dd\n",
    "from datetime import datetime\n",
    "import numpy as np\n",
    "from tqdm import tqdm"
   ]
  },
  {
   "cell_type": "code",
   "execution_count": 5,
   "metadata": {
    "collapsed": false,
    "deletable": true,
    "editable": true
   },
   "outputs": [],
   "source": [
    "df_treino = dd.read_csv(\"data/train.csv\")"
   ]
  },
  {
   "cell_type": "code",
   "execution_count": 8,
   "metadata": {
    "collapsed": false
   },
   "outputs": [],
   "source": [
    "df_treino[\"ts_datetime\"] = df_treino.ts_listen.map(lambda x: datetime.fromtimestamp(x))\n",
    "df_new = df_treino.compute()"
   ]
  },
  {
   "cell_type": "code",
   "execution_count": 13,
   "metadata": {
    "collapsed": false,
    "deletable": true,
    "editable": true
   },
   "outputs": [],
   "source": [
    "users = df_new[\"user_id\"].unique()"
   ]
  },
  {
   "cell_type": "code",
   "execution_count": 14,
   "metadata": {
    "collapsed": true,
    "deletable": true,
    "editable": true
   },
   "outputs": [],
   "source": [
    "import pandas as pd\n",
    "from datetime import datetime, timedelta\n",
    "import numpy as np\n",
    "\n",
    "def time_offset_rolling_df_count(data_df_ser, window_i_s, min_periods_i=1, center_b=False):\n",
    "    def calculate_count_ts(ts):\n",
    "        \"\"\"Function (closure) to apply that actually computes the rolling mean\"\"\"\n",
    "        if center_b == False:\n",
    "            dslice_df_ser = data_df_ser[\n",
    "                ts-pd.datetools.to_offset(window_i_s).delta+timedelta(0,0,1):\n",
    "                ts\n",
    "            ]\n",
    "            # adding a microsecond because when slicing with labels start and endpoint\n",
    "            # are inclusive\n",
    "        else:\n",
    "            dslice_df_ser = data_df_ser[\n",
    "                ts-pd.datetools.to_offset(window_i_s).delta/2+timedelta(0,0,1):\n",
    "                ts+pd.datetools.to_offset(window_i_s).delta/2\n",
    "            ]\n",
    "        if  (isinstance(dslice_df_ser, pd.DataFrame) and dslice_df_ser.shape[0] < min_periods_i) or \\\n",
    "            (isinstance(dslice_df_ser, pd.Series) and dslice_df_ser.size < min_periods_i):\n",
    "            return dslice_df_ser.count()*np.nan   # keeps number format and whether Series or DataFrame\n",
    "        else:\n",
    "            return dslice_df_ser.count()\n",
    "\n",
    "    idx_ser = pd.Series(data_df_ser.index.to_pydatetime(), index=data_df_ser.index)\n",
    "    count_df_ser = idx_ser.apply(calculate_count_ts)\n",
    "    return count_df_ser\n",
    "\n",
    "\n",
    "def time_offset_rolling_df_sum(data_df_ser, window_i_s, min_periods_i=1, center_b=False):\n",
    "    def calculate_sum_ts(ts):\n",
    "        \"\"\"Function (closure) to apply that actually computes the rolling mean\"\"\"\n",
    "        if center_b == False:\n",
    "            dslice_df_ser = data_df_ser[\n",
    "                ts-pd.datetools.to_offset(window_i_s).delta+timedelta(0,0,1):\n",
    "                ts\n",
    "            ]\n",
    "            # adding a microsecond because when slicing with labels start and endpoint\n",
    "            # are inclusive\n",
    "        else:\n",
    "            dslice_df_ser = data_df_ser[\n",
    "                ts-pd.datetools.to_offset(window_i_s).delta/2+timedelta(0,0,1):\n",
    "                ts+pd.datetools.to_offset(window_i_s).delta/2\n",
    "            ]\n",
    "        if  (isinstance(dslice_df_ser, pd.DataFrame) and dslice_df_ser.shape[0] < min_periods_i) or \\\n",
    "            (isinstance(dslice_df_ser, pd.Series) and dslice_df_ser.size < min_periods_i):\n",
    "            return dslice_df_ser.sum()*np.nan   # keeps number format and whether Series or DataFrame\n",
    "        else:\n",
    "            return dslice_df_ser.sum()\n",
    "\n",
    "    idx_ser = pd.Series(data_df_ser.index.to_pydatetime(), index=data_df_ser.index)\n",
    "    sum_df_ser = idx_ser.apply(calculate_sum_ts)\n",
    "    return sum_df_ser"
   ]
  },
  {
   "cell_type": "code",
   "execution_count": 15,
   "metadata": {
    "collapsed": true,
    "deletable": true,
    "editable": true
   },
   "outputs": [],
   "source": [
    "last_x_min = \"120min\""
   ]
  },
  {
   "cell_type": "code",
   "execution_count": 21,
   "metadata": {
    "collapsed": true,
    "deletable": true,
    "editable": true
   },
   "outputs": [],
   "source": [
    "def df_user_completed(user_id):\n",
    "    df_user = df_new[(df_new[\"user_id\"] == user_id)].copy()\n",
    "    df_user = df_user.reset_index()\n",
    "    df_user = df_user.set_index(\"ts_datetime\")\n",
    "    df_user = df_user.sort_index()\n",
    "    df_rolling_count = time_offset_rolling_df_count(df_user, window_i_s=last_x_min)\n",
    "    df_rolling_sum = time_offset_rolling_df_sum(df_user, window_i_s=last_x_min)\n",
    "\n",
    "    df_user[\"count_listened_{}\".format(last_x_min)] = df_rolling_count[\"is_listened\"]\n",
    "    df_user[\"sum_listened_{}\".format(last_x_min)] = df_rolling_sum[\"is_listened\"]\n",
    "    df_user = df_user.reset_index()\n",
    "    return df_user"
   ]
  },
  {
   "cell_type": "code",
   "execution_count": 22,
   "metadata": {
    "collapsed": false,
    "deletable": true,
    "editable": true
   },
   "outputs": [],
   "source": [
    "from dask import compute, delayed\n",
    "values = [delayed(df_user_completed)(user_id) for user_id in users]"
   ]
  },
  {
   "cell_type": "code",
   "execution_count": null,
   "metadata": {
    "collapsed": false,
    "deletable": true,
    "editable": true
   },
   "outputs": [],
   "source": [
    "import dask.multiprocessing\n",
    "results = compute(*values, get=dask.multiprocessing.get)"
   ]
  },
  {
   "cell_type": "code",
   "execution_count": null,
   "metadata": {
    "collapsed": true,
    "deletable": true,
    "editable": true
   },
   "outputs": [],
   "source": []
  }
 ],
 "metadata": {
  "kernelspec": {
   "display_name": "Python 2",
   "language": "python",
   "name": "python2"
  },
  "language_info": {
   "codemirror_mode": {
    "name": "ipython",
    "version": 2
   },
   "file_extension": ".py",
   "mimetype": "text/x-python",
   "name": "python",
   "nbconvert_exporter": "python",
   "pygments_lexer": "ipython2",
   "version": "2.7.13"
  }
 },
 "nbformat": 4,
 "nbformat_minor": 2
}
