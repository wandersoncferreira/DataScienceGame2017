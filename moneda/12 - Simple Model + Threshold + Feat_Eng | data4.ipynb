{
 "cells": [
  {
   "cell_type": "markdown",
   "metadata": {
    "deletable": true,
    "editable": true,
    "ein.tags": [
     "worksheet-0"
    ],
    "slideshow": {
     "slide_type": "-"
    }
   },
   "source": [
    "### Data Science Game 2017\n",
    "\n",
    "Data fields\n",
    "\n",
    "    media_id - identifiant of the song listened by the user\n",
    "    album_id - identifiant of the album of the song\n",
    "    media_duration - duration of the song\n",
    "    user_gender -  gender of the user\n",
    "    user_id -  anonymized id of the user\n",
    "    context_type - type of content where the song was listened: playlist, album ...\n",
    "    release_date - release date of the song with the format YYYYMMDD\n",
    "    ts_listen - timestamp of the listening in UNIX time\n",
    "    platform_name - type of os\n",
    "    platform_family - type of device\n",
    "    user_age - age of the user\n",
    "    listen_type - if the songs was listened in a flow or not\n",
    "    artist_id - identifiant of the artist of the song\n",
    "    genre_id - identifiant of the genre of the song\n",
    "    is_listened - 1 if the track was listened, 0 otherwise\n"
   ]
  },
  {
   "cell_type": "code",
   "execution_count": 1,
   "metadata": {
    "autoscroll": "json-false",
    "collapsed": false,
    "deletable": true,
    "editable": true,
    "ein.tags": [
     "worksheet-0"
    ],
    "slideshow": {
     "slide_type": "-"
    }
   },
   "outputs": [],
   "source": [
    "import pandas as pd"
   ]
  },
  {
   "cell_type": "code",
   "execution_count": 2,
   "metadata": {
    "autoscroll": "json-false",
    "collapsed": false,
    "deletable": true,
    "editable": true,
    "ein.tags": [
     "worksheet-0"
    ],
    "slideshow": {
     "slide_type": "-"
    }
   },
   "outputs": [],
   "source": [
    "df_train = pd.read_csv(\"../data/train_data4.csv\")\n",
    "df_test = pd.read_csv(\"../data/test_data4.csv\")\n",
    "\n",
    "df_train[\"user_id_id\"] = df_train[\"user_id\"]\n",
    "df_test[\"user_id_id\"] = df_test[\"user_id\"]"
   ]
  },
  {
   "cell_type": "code",
   "execution_count": 3,
   "metadata": {
    "collapsed": false,
    "deletable": true,
    "editable": true
   },
   "outputs": [
    {
     "data": {
      "text/plain": [
       "7558817"
      ]
     },
     "execution_count": 3,
     "metadata": {},
     "output_type": "execute_result"
    }
   ],
   "source": [
    "len(df_train)"
   ]
  },
  {
   "cell_type": "markdown",
   "metadata": {
    "deletable": true,
    "editable": true,
    "ein.tags": [
     "worksheet-0"
    ],
    "slideshow": {
     "slide_type": "-"
    }
   },
   "source": [
    "### Analisando quantidade de registro por usuário"
   ]
  },
  {
   "cell_type": "code",
   "execution_count": 4,
   "metadata": {
    "autoscroll": "json-false",
    "collapsed": false,
    "deletable": true,
    "editable": true,
    "ein.tags": [
     "worksheet-0"
    ],
    "slideshow": {
     "slide_type": "-"
    }
   },
   "outputs": [
    {
     "data": {
      "text/plain": [
       "count    19918.000000\n",
       "mean       379.496787\n",
       "std        508.267045\n",
       "min          1.000000\n",
       "25%         66.000000\n",
       "50%        197.000000\n",
       "75%        495.000000\n",
       "max       6317.000000\n",
       "Name: user_id, dtype: float64"
      ]
     },
     "execution_count": 4,
     "metadata": {},
     "output_type": "execute_result"
    }
   ],
   "source": [
    "import matplotlib.pyplot as plt\n",
    "import seaborn as sns\n",
    "#plt.style.use(['dark_background'])\n",
    "#plt.style.use('ggplot')\n",
    "register_count = df_train[\"user_id\"].value_counts()\n",
    "register_count.describe()\n",
    "# plt.show()"
   ]
  },
  {
   "cell_type": "code",
   "execution_count": 5,
   "metadata": {
    "autoscroll": "json-false",
    "collapsed": false,
    "deletable": true,
    "editable": true,
    "ein.tags": [
     "worksheet-0"
    ],
    "slideshow": {
     "slide_type": "-"
    }
   },
   "outputs": [
    {
     "data": {
      "text/plain": [
       "(array([  1.61650000e+04,   2.60900000e+03,   7.13000000e+02,\n",
       "          2.60000000e+02,   9.50000000e+01,   3.80000000e+01,\n",
       "          2.10000000e+01,   8.00000000e+00,   6.00000000e+00,\n",
       "          3.00000000e+00]),\n",
       " array([  1.00000000e+00,   6.32600000e+02,   1.26420000e+03,\n",
       "          1.89580000e+03,   2.52740000e+03,   3.15900000e+03,\n",
       "          3.79060000e+03,   4.42220000e+03,   5.05380000e+03,\n",
       "          5.68540000e+03,   6.31700000e+03]),\n",
       " <a list of 10 Patch objects>)"
      ]
     },
     "execution_count": 5,
     "metadata": {},
     "output_type": "execute_result"
    },
    {
     "name": "stderr",
     "output_type": "stream",
     "text": [
      "/home/ubuntu/anaconda3/envs/ml/lib/python2.7/site-packages/matplotlib/font_manager.py:1297: UserWarning: findfont: Font family [u'sans-serif'] not found. Falling back to DejaVu Sans\n",
      "  (prop.get_family(), self.defaultFamily[fontext]))\n"
     ]
    },
    {
     "data": {
      "image/png": "[encoded data removed]",
      "text/plain": [
       "<matplotlib.figure.Figure at 0x7f86bb9271d0>"
      ]
     },
     "metadata": {},
     "output_type": "display_data"
    }
   ],
   "source": [
    "%matplotlib inline\n",
    "plt.hist(df_train[\"user_id\"].value_counts())"
   ]
  },
  {
   "cell_type": "code",
   "execution_count": 6,
   "metadata": {
    "autoscroll": "json-false",
    "collapsed": false,
    "deletable": true,
    "editable": true,
    "ein.tags": [
     "worksheet-0"
    ],
    "slideshow": {
     "slide_type": "-"
    }
   },
   "outputs": [
    {
     "name": "stdout",
     "output_type": "stream",
     "text": [
      "252\n",
      "19666\n"
     ]
    }
   ],
   "source": [
    "threshold = 1\n",
    "\n",
    "user_for_general_model = register_count[(register_count <= threshold)].index\n",
    "user_for_specific_model = register_count[(register_count > threshold)].index\n",
    "print(len(user_for_general_model))\n",
    "print(len(user_for_specific_model))"
   ]
  },
  {
   "cell_type": "code",
   "execution_count": 7,
   "metadata": {
    "autoscroll": "json-false",
    "collapsed": false,
    "deletable": true,
    "editable": true,
    "ein.tags": [
     "worksheet-0"
    ],
    "slideshow": {
     "slide_type": "-"
    }
   },
   "outputs": [
    {
     "data": {
      "text/plain": [
       "Index([u'Unnamed: 0', u'Unnamed: 0.1', u'genre_id', u'ts_listen', u'media_id',\n",
       "       u'album_id', u'context_type', u'release_date', u'platform_name',\n",
       "       u'platform_family', u'media_duration', u'listen_type', u'user_gender',\n",
       "       u'user_id', u'artist_id', u'user_age', u'is_listened', u'text', u'year',\n",
       "       u'diff_ts_listen_AND_release_date_D',\n",
       "       u'diff_ts_listen_AND_release_date_M',\n",
       "       u'diff_ts_listen_AND_release_date_Y', u'release_date_DAY',\n",
       "       u'release_date_MONTH', u'release_date_YEAR', u'ts_listen_DAY_OF_WEEK',\n",
       "       u'ts_listen_PERIOD_OF_DAY', u'user_age_group', u'diff_user_song_age',\n",
       "       u'media_decade', u'artist_albuns', u'artist_fans', u'artist_radio',\n",
       "       u'media_bpm', u'media_rank', u'user_id_id'],\n",
       "      dtype='object')"
      ]
     },
     "execution_count": 7,
     "metadata": {},
     "output_type": "execute_result"
    }
   ],
   "source": [
    "### select users for specific\n",
    "df_train = df_train[df_train[\"user_id\"].isin(user_for_specific_model)]\n",
    "df_test = df_test[df_test[\"user_id\"].isin(user_for_specific_model)]\n",
    "df_train.columns"
   ]
  },
  {
   "cell_type": "code",
   "execution_count": 8,
   "metadata": {
    "autoscroll": "json-false",
    "collapsed": false,
    "deletable": true,
    "editable": true,
    "ein.tags": [
     "worksheet-0"
    ],
    "slideshow": {
     "slide_type": "-"
    }
   },
   "outputs": [
    {
     "data": {
      "text/html": [
       "<div>\n",
       "<table border=\"1\" class=\"dataframe\">\n",
       "  <thead>\n",
       "    <tr style=\"text-align: right;\">\n",
       "      <th></th>\n",
       "      <th>genre_id</th>\n",
       "      <th>ts_listen</th>\n",
       "      <th>media_id</th>\n",
       "      <th>album_id</th>\n",
       "      <th>context_type</th>\n",
       "      <th>release_date</th>\n",
       "      <th>platform_name</th>\n",
       "      <th>platform_family</th>\n",
       "      <th>media_duration</th>\n",
       "      <th>listen_type</th>\n",
       "      <th>...</th>\n",
       "      <th>ts_listen_PERIOD_OF_DAY</th>\n",
       "      <th>user_age_group</th>\n",
       "      <th>diff_user_song_age</th>\n",
       "      <th>media_decade</th>\n",
       "      <th>artist_albuns</th>\n",
       "      <th>artist_fans</th>\n",
       "      <th>artist_radio</th>\n",
       "      <th>media_bpm</th>\n",
       "      <th>media_rank</th>\n",
       "      <th>user_id_id</th>\n",
       "    </tr>\n",
       "  </thead>\n",
       "  <tbody>\n",
       "    <tr>\n",
       "      <th>0</th>\n",
       "      <td>25471</td>\n",
       "      <td>2016-12-01 11:00:15</td>\n",
       "      <td>222606</td>\n",
       "      <td>41774</td>\n",
       "      <td>12</td>\n",
       "      <td>2004-07-04 00:00:00</td>\n",
       "      <td>1</td>\n",
       "      <td>0</td>\n",
       "      <td>4.0</td>\n",
       "      <td>0</td>\n",
       "      <td>...</td>\n",
       "      <td>0</td>\n",
       "      <td>2</td>\n",
       "      <td>16.580822</td>\n",
       "      <td>7</td>\n",
       "      <td>1.0</td>\n",
       "      <td>32.0</td>\n",
       "      <td>1.0</td>\n",
       "      <td>100.1</td>\n",
       "      <td>292784.0</td>\n",
       "      <td>9241</td>\n",
       "    </tr>\n",
       "    <tr>\n",
       "      <th>1</th>\n",
       "      <td>25571</td>\n",
       "      <td>2016-11-30 20:25:35</td>\n",
       "      <td>250467</td>\n",
       "      <td>43941</td>\n",
       "      <td>0</td>\n",
       "      <td>2006-03-01 00:00:00</td>\n",
       "      <td>2</td>\n",
       "      <td>1</td>\n",
       "      <td>3.0</td>\n",
       "      <td>0</td>\n",
       "      <td>...</td>\n",
       "      <td>2</td>\n",
       "      <td>2</td>\n",
       "      <td>19.241096</td>\n",
       "      <td>7</td>\n",
       "      <td>18.0</td>\n",
       "      <td>6204.0</td>\n",
       "      <td>1.0</td>\n",
       "      <td>160.2</td>\n",
       "      <td>317348.0</td>\n",
       "      <td>16547</td>\n",
       "    </tr>\n",
       "    <tr>\n",
       "      <th>2</th>\n",
       "      <td>16</td>\n",
       "      <td>2016-11-19 11:59:13</td>\n",
       "      <td>305197</td>\n",
       "      <td>48078</td>\n",
       "      <td>1</td>\n",
       "      <td>2014-07-14 00:00:00</td>\n",
       "      <td>2</td>\n",
       "      <td>1</td>\n",
       "      <td>2.0</td>\n",
       "      <td>1</td>\n",
       "      <td>...</td>\n",
       "      <td>0</td>\n",
       "      <td>2</td>\n",
       "      <td>26.646575</td>\n",
       "      <td>8</td>\n",
       "      <td>23.0</td>\n",
       "      <td>20022.0</td>\n",
       "      <td>1.0</td>\n",
       "      <td>90.1</td>\n",
       "      <td>309034.0</td>\n",
       "      <td>7665</td>\n",
       "    </tr>\n",
       "    <tr>\n",
       "      <th>3</th>\n",
       "      <td>7</td>\n",
       "      <td>2016-11-26 07:21:38</td>\n",
       "      <td>900502</td>\n",
       "      <td>71521</td>\n",
       "      <td>0</td>\n",
       "      <td>2000-10-30 00:00:00</td>\n",
       "      <td>0</td>\n",
       "      <td>0</td>\n",
       "      <td>4.0</td>\n",
       "      <td>0</td>\n",
       "      <td>...</td>\n",
       "      <td>0</td>\n",
       "      <td>2</td>\n",
       "      <td>13.915068</td>\n",
       "      <td>6</td>\n",
       "      <td>56.0</td>\n",
       "      <td>442765.0</td>\n",
       "      <td>1.0</td>\n",
       "      <td>124.9</td>\n",
       "      <td>291331.0</td>\n",
       "      <td>1580</td>\n",
       "    </tr>\n",
       "    <tr>\n",
       "      <th>4</th>\n",
       "      <td>7</td>\n",
       "      <td>2016-11-05 16:02:54</td>\n",
       "      <td>542335</td>\n",
       "      <td>71718</td>\n",
       "      <td>0</td>\n",
       "      <td>2008-02-15 00:00:00</td>\n",
       "      <td>0</td>\n",
       "      <td>0</td>\n",
       "      <td>3.0</td>\n",
       "      <td>0</td>\n",
       "      <td>...</td>\n",
       "      <td>1</td>\n",
       "      <td>1</td>\n",
       "      <td>15.271233</td>\n",
       "      <td>7</td>\n",
       "      <td>65.0</td>\n",
       "      <td>28423.0</td>\n",
       "      <td>1.0</td>\n",
       "      <td>120.0</td>\n",
       "      <td>406872.0</td>\n",
       "      <td>1812</td>\n",
       "    </tr>\n",
       "  </tbody>\n",
       "</table>\n",
       "<p>5 rows × 34 columns</p>\n",
       "</div>"
      ],
      "text/plain": [
       "   genre_id            ts_listen  media_id  album_id  context_type  \\\n",
       "0     25471  2016-12-01 11:00:15    222606     41774            12   \n",
       "1     25571  2016-11-30 20:25:35    250467     43941             0   \n",
       "2        16  2016-11-19 11:59:13    305197     48078             1   \n",
       "3         7  2016-11-26 07:21:38    900502     71521             0   \n",
       "4         7  2016-11-05 16:02:54    542335     71718             0   \n",
       "\n",
       "          release_date  platform_name  platform_family  media_duration  \\\n",
       "0  2004-07-04 00:00:00              1                0             4.0   \n",
       "1  2006-03-01 00:00:00              2                1             3.0   \n",
       "2  2014-07-14 00:00:00              2                1             2.0   \n",
       "3  2000-10-30 00:00:00              0                0             4.0   \n",
       "4  2008-02-15 00:00:00              0                0             3.0   \n",
       "\n",
       "   listen_type     ...      ts_listen_PERIOD_OF_DAY  user_age_group  \\\n",
       "0            0     ...                            0               2   \n",
       "1            0     ...                            2               2   \n",
       "2            1     ...                            0               2   \n",
       "3            0     ...                            0               2   \n",
       "4            0     ...                            1               1   \n",
       "\n",
       "   diff_user_song_age  media_decade  artist_albuns artist_fans  artist_radio  \\\n",
       "0           16.580822             7            1.0        32.0           1.0   \n",
       "1           19.241096             7           18.0      6204.0           1.0   \n",
       "2           26.646575             8           23.0     20022.0           1.0   \n",
       "3           13.915068             6           56.0    442765.0           1.0   \n",
       "4           15.271233             7           65.0     28423.0           1.0   \n",
       "\n",
       "   media_bpm  media_rank  user_id_id  \n",
       "0      100.1    292784.0        9241  \n",
       "1      160.2    317348.0       16547  \n",
       "2       90.1    309034.0        7665  \n",
       "3      124.9    291331.0        1580  \n",
       "4      120.0    406872.0        1812  \n",
       "\n",
       "[5 rows x 34 columns]"
      ]
     },
     "execution_count": 8,
     "metadata": {},
     "output_type": "execute_result"
    }
   ],
   "source": [
    "to_drop = ['Unnamed: 0', 'Unnamed: 0.1']\n",
    "df_train.drop(to_drop, axis = 1,inplace=True)\n",
    "df_train.head()"
   ]
  },
  {
   "cell_type": "code",
   "execution_count": 9,
   "metadata": {
    "autoscroll": "json-false",
    "collapsed": false,
    "deletable": true,
    "editable": true,
    "ein.tags": [
     "worksheet-0"
    ],
    "slideshow": {
     "slide_type": "-"
    }
   },
   "outputs": [
    {
     "data": {
      "text/html": [
       "<div>\n",
       "<table border=\"1\" class=\"dataframe\">\n",
       "  <thead>\n",
       "    <tr style=\"text-align: right;\">\n",
       "      <th></th>\n",
       "      <th>genre_id</th>\n",
       "      <th>ts_listen</th>\n",
       "      <th>media_id</th>\n",
       "      <th>album_id</th>\n",
       "      <th>context_type</th>\n",
       "      <th>release_date</th>\n",
       "      <th>platform_name</th>\n",
       "      <th>platform_family</th>\n",
       "      <th>media_duration</th>\n",
       "      <th>listen_type</th>\n",
       "      <th>...</th>\n",
       "      <th>ts_listen_PERIOD_OF_DAY</th>\n",
       "      <th>user_age_group</th>\n",
       "      <th>diff_user_song_age</th>\n",
       "      <th>media_decade</th>\n",
       "      <th>artist_albuns</th>\n",
       "      <th>artist_fans</th>\n",
       "      <th>artist_radio</th>\n",
       "      <th>media_bpm</th>\n",
       "      <th>media_rank</th>\n",
       "      <th>user_id_id</th>\n",
       "    </tr>\n",
       "  </thead>\n",
       "  <tbody>\n",
       "    <tr>\n",
       "      <th>0</th>\n",
       "      <td>25471</td>\n",
       "      <td>2016-12-01 11:00:15</td>\n",
       "      <td>222606</td>\n",
       "      <td>41774</td>\n",
       "      <td>12</td>\n",
       "      <td>2004-07-04 00:00:00</td>\n",
       "      <td>1</td>\n",
       "      <td>0</td>\n",
       "      <td>4.0</td>\n",
       "      <td>0</td>\n",
       "      <td>...</td>\n",
       "      <td>0</td>\n",
       "      <td>2</td>\n",
       "      <td>16.580822</td>\n",
       "      <td>7</td>\n",
       "      <td>1.0</td>\n",
       "      <td>32.0</td>\n",
       "      <td>1.0</td>\n",
       "      <td>100.1</td>\n",
       "      <td>292784.0</td>\n",
       "      <td>9241</td>\n",
       "    </tr>\n",
       "    <tr>\n",
       "      <th>1</th>\n",
       "      <td>25571</td>\n",
       "      <td>2016-11-30 20:25:35</td>\n",
       "      <td>250467</td>\n",
       "      <td>43941</td>\n",
       "      <td>0</td>\n",
       "      <td>2006-03-01 00:00:00</td>\n",
       "      <td>2</td>\n",
       "      <td>1</td>\n",
       "      <td>3.0</td>\n",
       "      <td>0</td>\n",
       "      <td>...</td>\n",
       "      <td>2</td>\n",
       "      <td>2</td>\n",
       "      <td>19.241096</td>\n",
       "      <td>7</td>\n",
       "      <td>18.0</td>\n",
       "      <td>6204.0</td>\n",
       "      <td>1.0</td>\n",
       "      <td>160.2</td>\n",
       "      <td>317348.0</td>\n",
       "      <td>16547</td>\n",
       "    </tr>\n",
       "    <tr>\n",
       "      <th>2</th>\n",
       "      <td>16</td>\n",
       "      <td>2016-11-19 11:59:13</td>\n",
       "      <td>305197</td>\n",
       "      <td>48078</td>\n",
       "      <td>1</td>\n",
       "      <td>2014-07-14 00:00:00</td>\n",
       "      <td>2</td>\n",
       "      <td>1</td>\n",
       "      <td>2.0</td>\n",
       "      <td>1</td>\n",
       "      <td>...</td>\n",
       "      <td>0</td>\n",
       "      <td>2</td>\n",
       "      <td>26.646575</td>\n",
       "      <td>8</td>\n",
       "      <td>23.0</td>\n",
       "      <td>20022.0</td>\n",
       "      <td>1.0</td>\n",
       "      <td>90.1</td>\n",
       "      <td>309034.0</td>\n",
       "      <td>7665</td>\n",
       "    </tr>\n",
       "    <tr>\n",
       "      <th>3</th>\n",
       "      <td>7</td>\n",
       "      <td>2016-11-26 07:21:38</td>\n",
       "      <td>900502</td>\n",
       "      <td>71521</td>\n",
       "      <td>0</td>\n",
       "      <td>2000-10-30 00:00:00</td>\n",
       "      <td>0</td>\n",
       "      <td>0</td>\n",
       "      <td>4.0</td>\n",
       "      <td>0</td>\n",
       "      <td>...</td>\n",
       "      <td>0</td>\n",
       "      <td>2</td>\n",
       "      <td>13.915068</td>\n",
       "      <td>6</td>\n",
       "      <td>56.0</td>\n",
       "      <td>442765.0</td>\n",
       "      <td>1.0</td>\n",
       "      <td>124.9</td>\n",
       "      <td>291331.0</td>\n",
       "      <td>1580</td>\n",
       "    </tr>\n",
       "    <tr>\n",
       "      <th>4</th>\n",
       "      <td>7</td>\n",
       "      <td>2016-11-05 16:02:54</td>\n",
       "      <td>542335</td>\n",
       "      <td>71718</td>\n",
       "      <td>0</td>\n",
       "      <td>2008-02-15 00:00:00</td>\n",
       "      <td>0</td>\n",
       "      <td>0</td>\n",
       "      <td>3.0</td>\n",
       "      <td>0</td>\n",
       "      <td>...</td>\n",
       "      <td>1</td>\n",
       "      <td>1</td>\n",
       "      <td>15.271233</td>\n",
       "      <td>7</td>\n",
       "      <td>65.0</td>\n",
       "      <td>28423.0</td>\n",
       "      <td>1.0</td>\n",
       "      <td>120.0</td>\n",
       "      <td>406872.0</td>\n",
       "      <td>1812</td>\n",
       "    </tr>\n",
       "  </tbody>\n",
       "</table>\n",
       "<p>5 rows × 34 columns</p>\n",
       "</div>"
      ],
      "text/plain": [
       "   genre_id            ts_listen  media_id  album_id  context_type         release_date  platform_name  platform_family  media_duration  listen_type     ...      ts_listen_PERIOD_OF_DAY  \\\n",
       "0     25471  2016-12-01 11:00:15    222606     41774            12  2004-07-04 00:00:00              1                0             4.0            0     ...                            0   \n",
       "1     25571  2016-11-30 20:25:35    250467     43941             0  2006-03-01 00:00:00              2                1             3.0            0     ...                            2   \n",
       "2        16  2016-11-19 11:59:13    305197     48078             1  2014-07-14 00:00:00              2                1             2.0            1     ...                            0   \n",
       "3         7  2016-11-26 07:21:38    900502     71521             0  2000-10-30 00:00:00              0                0             4.0            0     ...                            0   \n",
       "4         7  2016-11-05 16:02:54    542335     71718             0  2008-02-15 00:00:00              0                0             3.0            0     ...                            1   \n",
       "\n",
       "   user_age_group  diff_user_song_age  media_decade  artist_albuns artist_fans  artist_radio  media_bpm  media_rank  user_id_id  \n",
       "0               2           16.580822             7            1.0        32.0           1.0      100.1    292784.0        9241  \n",
       "1               2           19.241096             7           18.0      6204.0           1.0      160.2    317348.0       16547  \n",
       "2               2           26.646575             8           23.0     20022.0           1.0       90.1    309034.0        7665  \n",
       "3               2           13.915068             6           56.0    442765.0           1.0      124.9    291331.0        1580  \n",
       "4               1           15.271233             7           65.0     28423.0           1.0      120.0    406872.0        1812  \n",
       "\n",
       "[5 rows x 34 columns]"
      ]
     },
     "execution_count": 9,
     "metadata": {},
     "output_type": "execute_result"
    }
   ],
   "source": [
    "#pd.set_option('display.height', 1000)\n",
    "#pd.set_option('display.max_rows', 500)\n",
    "#pd.set_option('display.max_columns', 500)\n",
    "pd.set_option('display.width', 200)\n",
    "#pd.set_option(\"precision\", 2)\n",
    "df_train.head()"
   ]
  },
  {
   "cell_type": "code",
   "execution_count": 10,
   "metadata": {
    "autoscroll": "json-false",
    "collapsed": false,
    "deletable": true,
    "editable": true,
    "ein.tags": [
     "worksheet-0"
    ],
    "slideshow": {
     "slide_type": "-"
    }
   },
   "outputs": [],
   "source": [
    "# pd.isnull(df_train).sum()[pd.isnull(df_train).sum() > 0]"
   ]
  },
  {
   "cell_type": "code",
   "execution_count": 11,
   "metadata": {
    "autoscroll": "json-false",
    "collapsed": false,
    "deletable": true,
    "editable": true,
    "ein.tags": [
     "worksheet-0"
    ],
    "slideshow": {
     "slide_type": "-"
    }
   },
   "outputs": [],
   "source": [
    "# df_train[df_train[\"release_date_YEAR\"] == 1900][[\"media_id\", \"ts_listen\"]]"
   ]
  },
  {
   "cell_type": "code",
   "execution_count": 12,
   "metadata": {
    "autoscroll": "json-false",
    "collapsed": false,
    "deletable": true,
    "editable": true,
    "ein.tags": [
     "worksheet-0"
    ],
    "slideshow": {
     "slide_type": "-"
    }
   },
   "outputs": [],
   "source": [
    "# df_train[df_train[\"release_date_YEAR\"] == 1900][[\"media_id\", \"ts_listen\"]]"
   ]
  },
  {
   "cell_type": "markdown",
   "metadata": {
    "deletable": true,
    "editable": true,
    "ein.tags": [
     "worksheet-0"
    ],
    "slideshow": {
     "slide_type": "-"
    }
   },
   "source": [
    "### Append User Specific"
   ]
  },
  {
   "cell_type": "code",
   "execution_count": 13,
   "metadata": {
    "autoscroll": "json-false",
    "collapsed": false,
    "deletable": true,
    "editable": true,
    "ein.tags": [
     "worksheet-0"
    ],
    "slideshow": {
     "slide_type": "-"
    }
   },
   "outputs": [
    {
     "data": {
      "text/plain": [
       "array(['user_id', 'nmidia_regular_listened', 'nmidia_with_flow_listened',\n",
       "       'nmidia_regular', 'nmidia_with_flow'], dtype=object)"
      ]
     },
     "execution_count": 13,
     "metadata": {},
     "output_type": "execute_result"
    }
   ],
   "source": [
    "df_user = pd.read_csv(\"../data/nmidia_feats.csv\", sep=\";\")\n",
    "# pd.isnull(df_user).sum()[pd.isnull(df_user).sum() > 0]\n",
    "\n",
    "\n",
    "df_user = df_user.drop([\"nmidia_with_flow_listened_PROP\", \"nmidia_regular_listened_PROP\", \"nmidia_PROP_diff\"], axis=1)\n",
    "\n",
    "\n",
    "df_user.columns.values"
   ]
  },
  {
   "cell_type": "code",
   "execution_count": 14,
   "metadata": {
    "autoscroll": "json-false",
    "collapsed": false,
    "deletable": true,
    "editable": true,
    "ein.tags": [
     "worksheet-0"
    ],
    "slideshow": {
     "slide_type": "-"
    }
   },
   "outputs": [],
   "source": [
    "# x = pd.isnull(df_user).sum()\n",
    "# x[x > 0]"
   ]
  },
  {
   "cell_type": "code",
   "execution_count": 15,
   "metadata": {
    "autoscroll": "json-false",
    "collapsed": false,
    "deletable": true,
    "editable": true,
    "ein.tags": [
     "worksheet-0"
    ],
    "slideshow": {
     "slide_type": "-"
    }
   },
   "outputs": [
    {
     "data": {
      "text/html": [
       "<div>\n",
       "<table border=\"1\" class=\"dataframe\">\n",
       "  <thead>\n",
       "    <tr style=\"text-align: right;\">\n",
       "      <th></th>\n",
       "      <th>genre_id</th>\n",
       "      <th>ts_listen</th>\n",
       "      <th>media_id</th>\n",
       "      <th>album_id</th>\n",
       "      <th>context_type</th>\n",
       "      <th>release_date</th>\n",
       "      <th>platform_name</th>\n",
       "      <th>platform_family</th>\n",
       "      <th>media_duration</th>\n",
       "      <th>listen_type</th>\n",
       "      <th>...</th>\n",
       "      <th>artist_albuns</th>\n",
       "      <th>artist_fans</th>\n",
       "      <th>artist_radio</th>\n",
       "      <th>media_bpm</th>\n",
       "      <th>media_rank</th>\n",
       "      <th>user_id_id</th>\n",
       "      <th>nmidia_regular_listened</th>\n",
       "      <th>nmidia_with_flow_listened</th>\n",
       "      <th>nmidia_regular</th>\n",
       "      <th>nmidia_with_flow</th>\n",
       "    </tr>\n",
       "  </thead>\n",
       "  <tbody>\n",
       "    <tr>\n",
       "      <th>0</th>\n",
       "      <td>25471</td>\n",
       "      <td>2016-12-01 11:00:15</td>\n",
       "      <td>222606</td>\n",
       "      <td>41774</td>\n",
       "      <td>12</td>\n",
       "      <td>2004-07-04 00:00:00</td>\n",
       "      <td>1</td>\n",
       "      <td>0</td>\n",
       "      <td>4.0</td>\n",
       "      <td>0</td>\n",
       "      <td>...</td>\n",
       "      <td>1.0</td>\n",
       "      <td>32.0</td>\n",
       "      <td>1.0</td>\n",
       "      <td>100.1</td>\n",
       "      <td>292784.0</td>\n",
       "      <td>9241</td>\n",
       "      <td>41</td>\n",
       "      <td>48</td>\n",
       "      <td>57</td>\n",
       "      <td>71</td>\n",
       "    </tr>\n",
       "    <tr>\n",
       "      <th>1</th>\n",
       "      <td>7</td>\n",
       "      <td>2016-12-01 10:48:50</td>\n",
       "      <td>4301418</td>\n",
       "      <td>400118</td>\n",
       "      <td>9</td>\n",
       "      <td>2009-10-16 00:00:00</td>\n",
       "      <td>1</td>\n",
       "      <td>0</td>\n",
       "      <td>7.0</td>\n",
       "      <td>0</td>\n",
       "      <td>...</td>\n",
       "      <td>15.0</td>\n",
       "      <td>174688.0</td>\n",
       "      <td>1.0</td>\n",
       "      <td>102.0</td>\n",
       "      <td>884679.0</td>\n",
       "      <td>9241</td>\n",
       "      <td>41</td>\n",
       "      <td>48</td>\n",
       "      <td>57</td>\n",
       "      <td>71</td>\n",
       "    </tr>\n",
       "    <tr>\n",
       "      <th>2</th>\n",
       "      <td>10</td>\n",
       "      <td>2016-11-30 11:48:22</td>\n",
       "      <td>983248</td>\n",
       "      <td>109347</td>\n",
       "      <td>0</td>\n",
       "      <td>2002-10-21 00:00:00</td>\n",
       "      <td>1</td>\n",
       "      <td>0</td>\n",
       "      <td>3.0</td>\n",
       "      <td>0</td>\n",
       "      <td>...</td>\n",
       "      <td>4.0</td>\n",
       "      <td>333536.0</td>\n",
       "      <td>1.0</td>\n",
       "      <td>129.0</td>\n",
       "      <td>783895.0</td>\n",
       "      <td>9241</td>\n",
       "      <td>41</td>\n",
       "      <td>48</td>\n",
       "      <td>57</td>\n",
       "      <td>71</td>\n",
       "    </tr>\n",
       "    <tr>\n",
       "      <th>3</th>\n",
       "      <td>10</td>\n",
       "      <td>2016-12-01 07:18:24</td>\n",
       "      <td>983248</td>\n",
       "      <td>109347</td>\n",
       "      <td>0</td>\n",
       "      <td>2002-10-21 00:00:00</td>\n",
       "      <td>1</td>\n",
       "      <td>0</td>\n",
       "      <td>3.0</td>\n",
       "      <td>0</td>\n",
       "      <td>...</td>\n",
       "      <td>4.0</td>\n",
       "      <td>333536.0</td>\n",
       "      <td>1.0</td>\n",
       "      <td>129.0</td>\n",
       "      <td>783895.0</td>\n",
       "      <td>9241</td>\n",
       "      <td>41</td>\n",
       "      <td>48</td>\n",
       "      <td>57</td>\n",
       "      <td>71</td>\n",
       "    </tr>\n",
       "    <tr>\n",
       "      <th>4</th>\n",
       "      <td>10</td>\n",
       "      <td>2016-11-29 09:42:52</td>\n",
       "      <td>983248</td>\n",
       "      <td>109347</td>\n",
       "      <td>1</td>\n",
       "      <td>2002-10-21 00:00:00</td>\n",
       "      <td>1</td>\n",
       "      <td>0</td>\n",
       "      <td>3.0</td>\n",
       "      <td>1</td>\n",
       "      <td>...</td>\n",
       "      <td>4.0</td>\n",
       "      <td>333536.0</td>\n",
       "      <td>1.0</td>\n",
       "      <td>129.0</td>\n",
       "      <td>783895.0</td>\n",
       "      <td>9241</td>\n",
       "      <td>41</td>\n",
       "      <td>48</td>\n",
       "      <td>57</td>\n",
       "      <td>71</td>\n",
       "    </tr>\n",
       "  </tbody>\n",
       "</table>\n",
       "<p>5 rows × 38 columns</p>\n",
       "</div>"
      ],
      "text/plain": [
       "   genre_id            ts_listen  media_id  album_id  context_type         release_date  platform_name  platform_family  media_duration  listen_type        ...         artist_albuns  artist_fans  \\\n",
       "0     25471  2016-12-01 11:00:15    222606     41774            12  2004-07-04 00:00:00              1                0             4.0            0        ...                   1.0         32.0   \n",
       "1         7  2016-12-01 10:48:50   4301418    400118             9  2009-10-16 00:00:00              1                0             7.0            0        ...                  15.0     174688.0   \n",
       "2        10  2016-11-30 11:48:22    983248    109347             0  2002-10-21 00:00:00              1                0             3.0            0        ...                   4.0     333536.0   \n",
       "3        10  2016-12-01 07:18:24    983248    109347             0  2002-10-21 00:00:00              1                0             3.0            0        ...                   4.0     333536.0   \n",
       "4        10  2016-11-29 09:42:52    983248    109347             1  2002-10-21 00:00:00              1                0             3.0            1        ...                   4.0     333536.0   \n",
       "\n",
       "   artist_radio  media_bpm  media_rank user_id_id  nmidia_regular_listened  nmidia_with_flow_listened  nmidia_regular  nmidia_with_flow  \n",
       "0           1.0      100.1    292784.0       9241                       41                         48              57                71  \n",
       "1           1.0      102.0    884679.0       9241                       41                         48              57                71  \n",
       "2           1.0      129.0    783895.0       9241                       41                         48              57                71  \n",
       "3           1.0      129.0    783895.0       9241                       41                         48              57                71  \n",
       "4           1.0      129.0    783895.0       9241                       41                         48              57                71  \n",
       "\n",
       "[5 rows x 38 columns]"
      ]
     },
     "execution_count": 15,
     "metadata": {},
     "output_type": "execute_result"
    }
   ],
   "source": [
    "df_train = pd.merge(df_train, df_user, on=\"user_id\")\n",
    "df_test = pd.merge(df_test, df_user, on=\"user_id\")\n",
    "df_train.head()"
   ]
  },
  {
   "cell_type": "code",
   "execution_count": null,
   "metadata": {
    "collapsed": true,
    "deletable": true,
    "editable": true
   },
   "outputs": [],
   "source": []
  },
  {
   "cell_type": "code",
   "execution_count": null,
   "metadata": {
    "collapsed": false,
    "deletable": true,
    "editable": true
   },
   "outputs": [],
   "source": []
  },
  {
   "cell_type": "markdown",
   "metadata": {
    "deletable": true,
    "editable": true,
    "ein.tags": [
     "worksheet-0"
    ],
    "slideshow": {
     "slide_type": "-"
    }
   },
   "source": [
    "### Check for NA\n",
    "#### Ver depois sobre o user_age_group!"
   ]
  },
  {
   "cell_type": "code",
   "execution_count": 16,
   "metadata": {
    "autoscroll": "json-false",
    "collapsed": false,
    "deletable": true,
    "editable": true,
    "ein.tags": [
     "worksheet-0"
    ],
    "slideshow": {
     "slide_type": "-"
    }
   },
   "outputs": [],
   "source": [
    "# x = pd.isnull(df_train).sum()\n",
    "# x[x > 0]"
   ]
  },
  {
   "cell_type": "code",
   "execution_count": 17,
   "metadata": {
    "autoscroll": "json-false",
    "collapsed": false,
    "deletable": true,
    "editable": true,
    "ein.tags": [
     "worksheet-0"
    ],
    "slideshow": {
     "slide_type": "-"
    }
   },
   "outputs": [],
   "source": [
    "# df_train.dropna(inplace=True)"
   ]
  },
  {
   "cell_type": "code",
   "execution_count": 18,
   "metadata": {
    "autoscroll": "json-false",
    "collapsed": false,
    "deletable": true,
    "editable": true,
    "ein.tags": [
     "worksheet-0"
    ],
    "slideshow": {
     "slide_type": "-"
    }
   },
   "outputs": [],
   "source": [
    "# x = pd.isnull(df_train).sum()\n",
    "# x[x > 0]\n",
    "# del x"
   ]
  },
  {
   "cell_type": "code",
   "execution_count": 19,
   "metadata": {
    "autoscroll": "json-false",
    "collapsed": false,
    "deletable": true,
    "editable": true,
    "ein.tags": [
     "worksheet-0"
    ],
    "slideshow": {
     "slide_type": "-"
    }
   },
   "outputs": [],
   "source": [
    "y = df_train[\"is_listened\"].values"
   ]
  },
  {
   "cell_type": "code",
   "execution_count": 20,
   "metadata": {
    "autoscroll": "json-false",
    "collapsed": false,
    "deletable": true,
    "editable": true,
    "ein.tags": [
     "worksheet-0"
    ],
    "slideshow": {
     "slide_type": "-"
    }
   },
   "outputs": [],
   "source": [
    "categorical_cols = [\"genre_id\",\n",
    "                   \"media_id\",\n",
    "                   \"album_id\",\n",
    "                   \"context_type\",\n",
    "                   \"release_date\",\n",
    "                   \"platform_name\",\n",
    "                   \"platform_family\",\n",
    "                   \"listen_type\",\n",
    "                   \"user_gender\",\n",
    "                   \"user_id\",\n",
    "                   \"artist_id\",\n",
    "                   \"user_age\"]"
   ]
  },
  {
   "cell_type": "markdown",
   "metadata": {
    "deletable": true,
    "editable": true,
    "ein.tags": [
     "worksheet-0"
    ],
    "slideshow": {
     "slide_type": "-"
    }
   },
   "source": [
    "### Let's inspect the categorical variables!"
   ]
  },
  {
   "cell_type": "code",
   "execution_count": 21,
   "metadata": {
    "autoscroll": "json-false",
    "collapsed": false,
    "deletable": true,
    "editable": true,
    "ein.tags": [
     "worksheet-0"
    ],
    "slideshow": {
     "slide_type": "-"
    }
   },
   "outputs": [
    {
     "name": "stdout",
     "output_type": "stream",
     "text": [
      "genre_id: 2922\n",
      "media_id: 452947\n",
      "album_id: 151454\n",
      "context_type: 74\n",
      "release_date: 8901\n",
      "platform_name: 3\n",
      "platform_family: 3\n",
      "listen_type: 2\n",
      "user_gender: 2\n",
      "user_id: 19666\n",
      "artist_id: 67128\n",
      "user_age: 13\n"
     ]
    }
   ],
   "source": [
    "for col in categorical_cols:\n",
    "    print(\"{}: {}\".format(col, len(df_train[col].unique())))"
   ]
  },
  {
   "cell_type": "markdown",
   "metadata": {
    "deletable": true,
    "editable": true,
    "ein.tags": [
     "worksheet-0"
    ],
    "slideshow": {
     "slide_type": "-"
    }
   },
   "source": [
    "### Strategy\n",
    "1. Apply onehot to categorical with few classes\n",
    "2. Rank categories to artist id\n",
    "3. target encoder for context and genre\n",
    "4. discard media, album, release date and user_id"
   ]
  },
  {
   "cell_type": "code",
   "execution_count": 22,
   "metadata": {
    "autoscroll": "json-false",
    "collapsed": false,
    "deletable": true,
    "editable": true,
    "ein.tags": [
     "worksheet-0"
    ],
    "slideshow": {
     "slide_type": "-"
    }
   },
   "outputs": [],
   "source": [
    "from greenpyce.feature_engineering import TargetEncoder\n",
    "from greenpyce.feature_engineering import onehot\n",
    "from greenpyce.feature_engineering import RankCategorical\n",
    "from greenpyce.feature_engineering import LabelCount"
   ]
  },
  {
   "cell_type": "code",
   "execution_count": 23,
   "metadata": {
    "autoscroll": "json-false",
    "collapsed": false,
    "deletable": true,
    "editable": true,
    "ein.tags": [
     "worksheet-0"
    ],
    "slideshow": {
     "slide_type": "-"
    }
   },
   "outputs": [
    {
     "data": {
      "text/plain": [
       "array(['genre_id', 'ts_listen', 'media_id', 'album_id', 'context_type',\n",
       "       'release_date', 'platform_name', 'platform_family',\n",
       "       'media_duration', 'listen_type', 'user_gender', 'user_id',\n",
       "       'artist_id', 'user_age', 'is_listened', 'text', 'year',\n",
       "       'diff_ts_listen_AND_release_date_D',\n",
       "       'diff_ts_listen_AND_release_date_M',\n",
       "       'diff_ts_listen_AND_release_date_Y', 'release_date_DAY',\n",
       "       'release_date_MONTH', 'release_date_YEAR', 'ts_listen_DAY_OF_WEEK',\n",
       "       'ts_listen_PERIOD_OF_DAY', 'user_age_group', 'diff_user_song_age',\n",
       "       'media_decade', 'artist_albuns', 'artist_fans', 'artist_radio',\n",
       "       'media_bpm', 'media_rank', 'user_id_id', 'nmidia_regular_listened',\n",
       "       'nmidia_with_flow_listened', 'nmidia_regular', 'nmidia_with_flow'], dtype=object)"
      ]
     },
     "execution_count": 23,
     "metadata": {},
     "output_type": "execute_result"
    }
   ],
   "source": [
    "df_train.columns.values"
   ]
  },
  {
   "cell_type": "markdown",
   "metadata": {
    "deletable": true,
    "editable": true,
    "ein.tags": [
     "worksheet-0"
    ],
    "slideshow": {
     "slide_type": "-"
    }
   },
   "source": [
    "Index([u'Unnamed: 0', u'Unnamed: 0.1', u'genre_id', u'ts_listen', u'media_id',\n",
    "       u'album_id', u'context_type', u'release_date', u'platform_name',\n",
    "       u'platform_family', u'media_duration', u'listen_type', u'user_gender',\n",
    "       u'user_id', u'artist_id', u'user_age', u'is_listened', u'text', u'year',\n",
    "       u'diff_ts_listen_AND_release_date_D',\n",
    "       u'diff_ts_listen_AND_release_date_M',\n",
    "       u'diff_ts_listen_AND_release_date_Y', u'release_date_DAY',\n",
    "       u'release_date_MONTH', u'release_date_YEAR', u'ts_listen_DAY_OF_WEEK',\n",
    "       u'ts_listen_PERIOD_OF_DAY', u'user_age_group', u'diff_user_song_age',\n",
    "       u'media_decade'],\n",
    "      dtype='object')"
   ]
  },
  {
   "cell_type": "code",
   "execution_count": 27,
   "metadata": {
    "autoscroll": "json-false",
    "collapsed": false,
    "deletable": true,
    "editable": true,
    "ein.tags": [
     "worksheet-0"
    ],
    "slideshow": {
     "slide_type": "-"
    }
   },
   "outputs": [],
   "source": [
    "cols_for_target_encoder = [\"genre_id\", \n",
    "                           \"context_type\", \n",
    "                           \"user_id\", \n",
    "                           \"media_id\", \n",
    "                           \"artist_radio\",\n",
    "                           \"listen_type\"]\n",
    "\n",
    "cols_for_onehot = [\"platform_name\", \n",
    "                   \"platform_family\", \n",
    "                   \"user_age\",\n",
    "                   \"user_age_group\",\n",
    "                   \"media_decade\",\n",
    "                   \"user_gender\", \n",
    "                   \"user_age_group\", \n",
    "                   \"ts_listen_DAY_OF_WEEK\",\n",
    "                  \"ts_listen_PERIOD_OF_DAY\"]\n",
    "\n",
    "cols_for_rank = [\"artist_id\",\n",
    "                \"artist_fans\"]\n",
    "\n",
    "\n",
    "target = \"is_listened\""
   ]
  },
  {
   "cell_type": "code",
   "execution_count": null,
   "metadata": {
    "collapsed": true,
    "deletable": true,
    "editable": true
   },
   "outputs": [],
   "source": []
  },
  {
   "cell_type": "code",
   "execution_count": 28,
   "metadata": {
    "autoscroll": "json-false",
    "collapsed": false,
    "deletable": true,
    "editable": true,
    "ein.tags": [
     "worksheet-0"
    ],
    "slideshow": {
     "slide_type": "-"
    }
   },
   "outputs": [],
   "source": [
    "te = TargetEncoder(cols_for_target_encoder, \"is_listened\")"
   ]
  },
  {
   "cell_type": "code",
   "execution_count": 29,
   "metadata": {
    "autoscroll": "json-false",
    "collapsed": false,
    "deletable": true,
    "editable": true,
    "ein.tags": [
     "worksheet-0"
    ],
    "slideshow": {
     "slide_type": "-"
    }
   },
   "outputs": [],
   "source": [
    "te.fit(df_train)"
   ]
  },
  {
   "cell_type": "code",
   "execution_count": 30,
   "metadata": {
    "autoscroll": "json-false",
    "collapsed": false,
    "deletable": true,
    "editable": true,
    "ein.tags": [
     "worksheet-0"
    ],
    "slideshow": {
     "slide_type": "-"
    }
   },
   "outputs": [],
   "source": [
    "te.transform(df_train)\n",
    "te.transform(df_test)\n",
    "del te"
   ]
  },
  {
   "cell_type": "code",
   "execution_count": 31,
   "metadata": {
    "collapsed": false,
    "deletable": true,
    "editable": true
   },
   "outputs": [
    {
     "name": "stdout",
     "output_type": "stream",
     "text": [
      "das\n"
     ]
    }
   ],
   "source": [
    "print(\"das\")"
   ]
  },
  {
   "cell_type": "code",
   "execution_count": 32,
   "metadata": {
    "collapsed": false,
    "deletable": true,
    "editable": true
   },
   "outputs": [
    {
     "name": "stdout",
     "output_type": "stream",
     "text": [
      "teste\n"
     ]
    }
   ],
   "source": [
    "print(\"teste\")"
   ]
  },
  {
   "cell_type": "code",
   "execution_count": 33,
   "metadata": {
    "autoscroll": "json-false",
    "collapsed": false,
    "deletable": true,
    "editable": true,
    "ein.tags": [
     "worksheet-0"
    ],
    "slideshow": {
     "slide_type": "-"
    }
   },
   "outputs": [],
   "source": [
    "rc = RankCategorical(cols_for_rank)\n",
    "rc.fit(df_train)\n",
    "rc.transform(df_train)\n",
    "rc.transform(df_test)\n",
    "del rc"
   ]
  },
  {
   "cell_type": "code",
   "execution_count": 34,
   "metadata": {
    "autoscroll": "json-false",
    "collapsed": false,
    "deletable": true,
    "editable": true,
    "ein.tags": [
     "worksheet-0"
    ],
    "slideshow": {
     "slide_type": "-"
    }
   },
   "outputs": [],
   "source": [
    "# rc = RankCategorical([\"media_decade\"])\n",
    "# rc.fit(df_train)\n",
    "# rc.transform(df_train)\n",
    "# rc.transform(df_test)\n",
    "# del rc"
   ]
  },
  {
   "cell_type": "code",
   "execution_count": 35,
   "metadata": {
    "autoscroll": "json-false",
    "collapsed": false,
    "deletable": true,
    "editable": true,
    "ein.tags": [
     "worksheet-0"
    ],
    "slideshow": {
     "slide_type": "-"
    }
   },
   "outputs": [],
   "source": [
    "# lc = RankCategorical(cols_for_count)\n",
    "# lc.fit(df_train)\n",
    "# lc.transform(df_train)\n",
    "# lc.transform(df_test)"
   ]
  },
  {
   "cell_type": "code",
   "execution_count": 36,
   "metadata": {
    "autoscroll": "json-false",
    "collapsed": false,
    "deletable": true,
    "editable": true,
    "ein.tags": [
     "worksheet-0"
    ],
    "slideshow": {
     "slide_type": "-"
    }
   },
   "outputs": [
    {
     "data": {
      "text/html": [
       "<div>\n",
       "<table border=\"1\" class=\"dataframe\">\n",
       "  <thead>\n",
       "    <tr style=\"text-align: right;\">\n",
       "      <th></th>\n",
       "      <th>genre_id</th>\n",
       "      <th>ts_listen</th>\n",
       "      <th>media_id</th>\n",
       "      <th>album_id</th>\n",
       "      <th>context_type</th>\n",
       "      <th>release_date</th>\n",
       "      <th>platform_name</th>\n",
       "      <th>platform_family</th>\n",
       "      <th>media_duration</th>\n",
       "      <th>listen_type</th>\n",
       "      <th>...</th>\n",
       "      <th>artist_albuns</th>\n",
       "      <th>artist_fans</th>\n",
       "      <th>artist_radio</th>\n",
       "      <th>media_bpm</th>\n",
       "      <th>media_rank</th>\n",
       "      <th>user_id_id</th>\n",
       "      <th>nmidia_regular_listened</th>\n",
       "      <th>nmidia_with_flow_listened</th>\n",
       "      <th>nmidia_regular</th>\n",
       "      <th>nmidia_with_flow</th>\n",
       "    </tr>\n",
       "  </thead>\n",
       "  <tbody>\n",
       "    <tr>\n",
       "      <th>0</th>\n",
       "      <td>0.688147</td>\n",
       "      <td>2016-12-01 11:00:15</td>\n",
       "      <td>0.000000</td>\n",
       "      <td>41774</td>\n",
       "      <td>0.695605</td>\n",
       "      <td>2004-07-04 00:00:00</td>\n",
       "      <td>1</td>\n",
       "      <td>0</td>\n",
       "      <td>4.0</td>\n",
       "      <td>0.721117</td>\n",
       "      <td>...</td>\n",
       "      <td>1.0</td>\n",
       "      <td>1516</td>\n",
       "      <td>0.684035</td>\n",
       "      <td>100.1</td>\n",
       "      <td>292784.0</td>\n",
       "      <td>9241</td>\n",
       "      <td>41</td>\n",
       "      <td>48</td>\n",
       "      <td>57</td>\n",
       "      <td>71</td>\n",
       "    </tr>\n",
       "    <tr>\n",
       "      <th>1</th>\n",
       "      <td>0.663153</td>\n",
       "      <td>2016-12-01 10:48:50</td>\n",
       "      <td>0.736878</td>\n",
       "      <td>400118</td>\n",
       "      <td>0.758072</td>\n",
       "      <td>2009-10-16 00:00:00</td>\n",
       "      <td>1</td>\n",
       "      <td>0</td>\n",
       "      <td>7.0</td>\n",
       "      <td>0.721117</td>\n",
       "      <td>...</td>\n",
       "      <td>15.0</td>\n",
       "      <td>606</td>\n",
       "      <td>0.684035</td>\n",
       "      <td>102.0</td>\n",
       "      <td>884679.0</td>\n",
       "      <td>9241</td>\n",
       "      <td>41</td>\n",
       "      <td>48</td>\n",
       "      <td>57</td>\n",
       "      <td>71</td>\n",
       "    </tr>\n",
       "    <tr>\n",
       "      <th>2</th>\n",
       "      <td>0.724498</td>\n",
       "      <td>2016-11-30 11:48:22</td>\n",
       "      <td>0.631609</td>\n",
       "      <td>109347</td>\n",
       "      <td>0.688533</td>\n",
       "      <td>2002-10-21 00:00:00</td>\n",
       "      <td>1</td>\n",
       "      <td>0</td>\n",
       "      <td>3.0</td>\n",
       "      <td>0.721117</td>\n",
       "      <td>...</td>\n",
       "      <td>4.0</td>\n",
       "      <td>66</td>\n",
       "      <td>0.684035</td>\n",
       "      <td>129.0</td>\n",
       "      <td>783895.0</td>\n",
       "      <td>9241</td>\n",
       "      <td>41</td>\n",
       "      <td>48</td>\n",
       "      <td>57</td>\n",
       "      <td>71</td>\n",
       "    </tr>\n",
       "    <tr>\n",
       "      <th>3</th>\n",
       "      <td>0.724498</td>\n",
       "      <td>2016-12-01 07:18:24</td>\n",
       "      <td>0.631609</td>\n",
       "      <td>109347</td>\n",
       "      <td>0.688533</td>\n",
       "      <td>2002-10-21 00:00:00</td>\n",
       "      <td>1</td>\n",
       "      <td>0</td>\n",
       "      <td>3.0</td>\n",
       "      <td>0.721117</td>\n",
       "      <td>...</td>\n",
       "      <td>4.0</td>\n",
       "      <td>66</td>\n",
       "      <td>0.684035</td>\n",
       "      <td>129.0</td>\n",
       "      <td>783895.0</td>\n",
       "      <td>9241</td>\n",
       "      <td>41</td>\n",
       "      <td>48</td>\n",
       "      <td>57</td>\n",
       "      <td>71</td>\n",
       "    </tr>\n",
       "    <tr>\n",
       "      <th>4</th>\n",
       "      <td>0.724498</td>\n",
       "      <td>2016-11-29 09:42:52</td>\n",
       "      <td>0.631609</td>\n",
       "      <td>109347</td>\n",
       "      <td>0.573602</td>\n",
       "      <td>2002-10-21 00:00:00</td>\n",
       "      <td>1</td>\n",
       "      <td>0</td>\n",
       "      <td>3.0</td>\n",
       "      <td>0.600280</td>\n",
       "      <td>...</td>\n",
       "      <td>4.0</td>\n",
       "      <td>66</td>\n",
       "      <td>0.684035</td>\n",
       "      <td>129.0</td>\n",
       "      <td>783895.0</td>\n",
       "      <td>9241</td>\n",
       "      <td>41</td>\n",
       "      <td>48</td>\n",
       "      <td>57</td>\n",
       "      <td>71</td>\n",
       "    </tr>\n",
       "  </tbody>\n",
       "</table>\n",
       "<p>5 rows × 38 columns</p>\n",
       "</div>"
      ],
      "text/plain": [
       "   genre_id            ts_listen  media_id  album_id  context_type         release_date  platform_name  platform_family  media_duration  listen_type        ...         artist_albuns  artist_fans  \\\n",
       "0  0.688147  2016-12-01 11:00:15  0.000000     41774      0.695605  2004-07-04 00:00:00              1                0             4.0     0.721117        ...                   1.0         1516   \n",
       "1  0.663153  2016-12-01 10:48:50  0.736878    400118      0.758072  2009-10-16 00:00:00              1                0             7.0     0.721117        ...                  15.0          606   \n",
       "2  0.724498  2016-11-30 11:48:22  0.631609    109347      0.688533  2002-10-21 00:00:00              1                0             3.0     0.721117        ...                   4.0           66   \n",
       "3  0.724498  2016-12-01 07:18:24  0.631609    109347      0.688533  2002-10-21 00:00:00              1                0             3.0     0.721117        ...                   4.0           66   \n",
       "4  0.724498  2016-11-29 09:42:52  0.631609    109347      0.573602  2002-10-21 00:00:00              1                0             3.0     0.600280        ...                   4.0           66   \n",
       "\n",
       "   artist_radio  media_bpm  media_rank user_id_id  nmidia_regular_listened  nmidia_with_flow_listened  nmidia_regular  nmidia_with_flow  \n",
       "0      0.684035      100.1    292784.0       9241                       41                         48              57                71  \n",
       "1      0.684035      102.0    884679.0       9241                       41                         48              57                71  \n",
       "2      0.684035      129.0    783895.0       9241                       41                         48              57                71  \n",
       "3      0.684035      129.0    783895.0       9241                       41                         48              57                71  \n",
       "4      0.684035      129.0    783895.0       9241                       41                         48              57                71  \n",
       "\n",
       "[5 rows x 38 columns]"
      ]
     },
     "execution_count": 36,
     "metadata": {},
     "output_type": "execute_result"
    }
   ],
   "source": [
    "df_train.head()"
   ]
  },
  {
   "cell_type": "code",
   "execution_count": 37,
   "metadata": {
    "autoscroll": "json-false",
    "collapsed": false,
    "deletable": true,
    "editable": true,
    "ein.tags": [
     "worksheet-0"
    ],
    "slideshow": {
     "slide_type": "-"
    }
   },
   "outputs": [],
   "source": [
    "df_train = onehot(df_train, cols_for_onehot)\n",
    "df_test = onehot(df_test, cols_for_onehot)"
   ]
  },
  {
   "cell_type": "code",
   "execution_count": 38,
   "metadata": {
    "autoscroll": "json-false",
    "collapsed": false,
    "deletable": true,
    "editable": true,
    "ein.tags": [
     "worksheet-0"
    ],
    "slideshow": {
     "slide_type": "-"
    }
   },
   "outputs": [
    {
     "name": "stdout",
     "output_type": "stream",
     "text": [
      "   genre_id            ts_listen  media_id  album_id  context_type         release_date  media_duration  listen_type   user_id  artist_id            ...              user_age_group_2  \\\n",
      "0  0.688147  2016-12-01 11:00:15  0.000000     41774      0.695605  2004-07-04 00:00:00             4.0     0.721117  0.676991      58019            ...                             1   \n",
      "1  0.663153  2016-12-01 10:48:50  0.736878    400118      0.758072  2009-10-16 00:00:00             7.0     0.721117  0.676991        599            ...                             1   \n",
      "2  0.724498  2016-11-30 11:48:22  0.631609    109347      0.688533  2002-10-21 00:00:00             3.0     0.721117  0.676991         66            ...                             1   \n",
      "3  0.724498  2016-12-01 07:18:24  0.631609    109347      0.688533  2002-10-21 00:00:00             3.0     0.721117  0.676991         66            ...                             1   \n",
      "4  0.724498  2016-11-29 09:42:52  0.631609    109347      0.573602  2002-10-21 00:00:00             3.0     0.600280  0.676991         66            ...                             1   \n",
      "\n",
      "  ts_listen_DAY_OF_WEEK_1  ts_listen_DAY_OF_WEEK_2  ts_listen_DAY_OF_WEEK_3  ts_listen_DAY_OF_WEEK_4  ts_listen_DAY_OF_WEEK_5  ts_listen_DAY_OF_WEEK_6  ts_listen_PERIOD_OF_DAY_1  \\\n",
      "0                       0                        0                        1                        0                        0                        0                          0   \n",
      "1                       0                        0                        1                        0                        0                        0                          0   \n",
      "2                       0                        1                        0                        0                        0                        0                          0   \n",
      "3                       0                        0                        1                        0                        0                        0                          0   \n",
      "4                       1                        0                        0                        0                        0                        0                          0   \n",
      "\n",
      "   ts_listen_PERIOD_OF_DAY_2  ts_listen_PERIOD_OF_DAY_3  \n",
      "0                          0                          0  \n",
      "1                          0                          0  \n",
      "2                          0                          0  \n",
      "3                          0                          0  \n",
      "4                          0                          0  \n",
      "\n",
      "[5 rows x 68 columns]\n"
     ]
    }
   ],
   "source": [
    "print(df_train.head())"
   ]
  },
  {
   "cell_type": "code",
   "execution_count": 39,
   "metadata": {
    "autoscroll": "json-false",
    "collapsed": false,
    "deletable": true,
    "editable": true,
    "ein.tags": [
     "worksheet-0"
    ],
    "slideshow": {
     "slide_type": "-"
    }
   },
   "outputs": [],
   "source": [
    "#df_train = rank_categorical(df_train, cols_for_rank)"
   ]
  },
  {
   "cell_type": "code",
   "execution_count": 40,
   "metadata": {
    "autoscroll": "json-false",
    "collapsed": false,
    "deletable": true,
    "editable": true,
    "ein.tags": [
     "worksheet-0"
    ],
    "slideshow": {
     "slide_type": "-"
    }
   },
   "outputs": [
    {
     "data": {
      "text/plain": [
       "array(['genre_id', 'ts_listen', 'media_id', 'album_id', 'context_type',\n",
       "       'release_date', 'media_duration', 'listen_type', 'user_id',\n",
       "       'artist_id', 'is_listened', 'text', 'year',\n",
       "       'diff_ts_listen_AND_release_date_D',\n",
       "       'diff_ts_listen_AND_release_date_M',\n",
       "       'diff_ts_listen_AND_release_date_Y', 'release_date_DAY',\n",
       "       'release_date_MONTH', 'release_date_YEAR', 'diff_user_song_age',\n",
       "       'artist_albuns', 'artist_fans', 'artist_radio', 'media_bpm',\n",
       "       'media_rank', 'user_id_id', 'nmidia_regular_listened',\n",
       "       'nmidia_with_flow_listened', 'nmidia_regular', 'nmidia_with_flow',\n",
       "       'platform_name_1', 'platform_name_2', 'platform_family_1',\n",
       "       'platform_family_2', 'user_age_19', 'user_age_20', 'user_age_21',\n",
       "       'user_age_22', 'user_age_23', 'user_age_24', 'user_age_25',\n",
       "       'user_age_26', 'user_age_27', 'user_age_28', 'user_age_29',\n",
       "       'user_age_30', 'user_age_group_1', 'user_age_group_2',\n",
       "       'media_decade_1', 'media_decade_2', 'media_decade_3',\n",
       "       'media_decade_4', 'media_decade_5', 'media_decade_6',\n",
       "       'media_decade_7', 'media_decade_8', 'user_gender_1',\n",
       "       'user_age_group_1', 'user_age_group_2', 'ts_listen_DAY_OF_WEEK_1',\n",
       "       'ts_listen_DAY_OF_WEEK_2', 'ts_listen_DAY_OF_WEEK_3',\n",
       "       'ts_listen_DAY_OF_WEEK_4', 'ts_listen_DAY_OF_WEEK_5',\n",
       "       'ts_listen_DAY_OF_WEEK_6', 'ts_listen_PERIOD_OF_DAY_1',\n",
       "       'ts_listen_PERIOD_OF_DAY_2', 'ts_listen_PERIOD_OF_DAY_3'], dtype=object)"
      ]
     },
     "execution_count": 40,
     "metadata": {},
     "output_type": "execute_result"
    }
   ],
   "source": [
    "df_train.columns.values"
   ]
  },
  {
   "cell_type": "code",
   "execution_count": 41,
   "metadata": {
    "autoscroll": "json-false",
    "collapsed": false,
    "deletable": true,
    "editable": true,
    "ein.tags": [
     "worksheet-0"
    ],
    "slideshow": {
     "slide_type": "-"
    }
   },
   "outputs": [],
   "source": [
    "%timeit\n",
    "### Drop\n",
    "to_drop = ['ts_listen', 'album_id', 'release_date', 'artist_id', \"year\", \"text\", 'release_date_DAY', 'release_date_MONTH']#, \"nmidia_with_flow_listened_PROP\", \"nmidia_PROP_diff\", \"nmidia_regular_listened_PROP\"]\n",
    "df_train.drop(to_drop, axis = 1,inplace=True)\n",
    "df_test.drop(to_drop, axis = 1,inplace=True)"
   ]
  },
  {
   "cell_type": "code",
   "execution_count": 42,
   "metadata": {
    "autoscroll": "json-false",
    "collapsed": false,
    "deletable": true,
    "editable": true,
    "ein.tags": [
     "worksheet-0"
    ],
    "slideshow": {
     "slide_type": "-"
    }
   },
   "outputs": [],
   "source": [
    "# to_drop = [\"year\", \"text\"]\n",
    "# df_train.drop(to_drop, axis = 1,inplace=True)"
   ]
  },
  {
   "cell_type": "code",
   "execution_count": 43,
   "metadata": {
    "autoscroll": "json-false",
    "collapsed": false,
    "deletable": true,
    "editable": true,
    "ein.tags": [
     "worksheet-0"
    ],
    "slideshow": {
     "slide_type": "-"
    }
   },
   "outputs": [
    {
     "data": {
      "text/plain": [
       "['genre_id',\n",
       " 'media_id',\n",
       " 'context_type',\n",
       " 'media_duration',\n",
       " 'listen_type',\n",
       " 'user_id',\n",
       " 'diff_ts_listen_AND_release_date_D',\n",
       " 'diff_ts_listen_AND_release_date_M',\n",
       " 'diff_ts_listen_AND_release_date_Y',\n",
       " 'release_date_YEAR',\n",
       " 'diff_user_song_age',\n",
       " 'artist_albuns',\n",
       " 'artist_fans',\n",
       " 'artist_radio',\n",
       " 'media_bpm',\n",
       " 'media_rank',\n",
       " 'user_id_id',\n",
       " 'nmidia_regular_listened',\n",
       " 'nmidia_with_flow_listened',\n",
       " 'nmidia_regular',\n",
       " 'nmidia_with_flow',\n",
       " 'platform_name_1',\n",
       " 'platform_name_2',\n",
       " 'platform_family_1',\n",
       " 'platform_family_2',\n",
       " 'user_age_19',\n",
       " 'user_age_20',\n",
       " 'user_age_21',\n",
       " 'user_age_22',\n",
       " 'user_age_23',\n",
       " 'user_age_24',\n",
       " 'user_age_25',\n",
       " 'user_age_26',\n",
       " 'user_age_27',\n",
       " 'user_age_28',\n",
       " 'user_age_29',\n",
       " 'user_age_30',\n",
       " 'user_age_group_1',\n",
       " 'user_age_group_2',\n",
       " 'media_decade_1',\n",
       " 'media_decade_2',\n",
       " 'media_decade_3',\n",
       " 'media_decade_4',\n",
       " 'media_decade_5',\n",
       " 'media_decade_6',\n",
       " 'media_decade_7',\n",
       " 'media_decade_8',\n",
       " 'user_gender_1',\n",
       " 'user_age_group_1',\n",
       " 'user_age_group_2',\n",
       " 'ts_listen_DAY_OF_WEEK_1',\n",
       " 'ts_listen_DAY_OF_WEEK_2',\n",
       " 'ts_listen_DAY_OF_WEEK_3',\n",
       " 'ts_listen_DAY_OF_WEEK_4',\n",
       " 'ts_listen_DAY_OF_WEEK_5',\n",
       " 'ts_listen_DAY_OF_WEEK_6',\n",
       " 'ts_listen_PERIOD_OF_DAY_1',\n",
       " 'ts_listen_PERIOD_OF_DAY_2',\n",
       " 'ts_listen_PERIOD_OF_DAY_3']"
      ]
     },
     "execution_count": 43,
     "metadata": {},
     "output_type": "execute_result"
    }
   ],
   "source": [
    "features = [col for col in df_train.columns.values if col != target]\n",
    "features"
   ]
  },
  {
   "cell_type": "code",
   "execution_count": 44,
   "metadata": {
    "collapsed": false,
    "deletable": true,
    "editable": true
   },
   "outputs": [],
   "source": [
    "\n",
    "df_train.fillna(0, inplace=True)\n",
    "df_test.fillna(0, inplace=True)"
   ]
  },
  {
   "cell_type": "code",
   "execution_count": 45,
   "metadata": {
    "collapsed": false,
    "deletable": true,
    "editable": true
   },
   "outputs": [
    {
     "data": {
      "text/plain": [
       "genre_id                             0\n",
       "media_id                             0\n",
       "context_type                         0\n",
       "media_duration                       0\n",
       "listen_type                          0\n",
       "user_id                              0\n",
       "is_listened                          0\n",
       "diff_ts_listen_AND_release_date_D    0\n",
       "diff_ts_listen_AND_release_date_M    0\n",
       "diff_ts_listen_AND_release_date_Y    0\n",
       "release_date_YEAR                    0\n",
       "diff_user_song_age                   0\n",
       "artist_albuns                        0\n",
       "artist_fans                          0\n",
       "artist_radio                         0\n",
       "media_bpm                            0\n",
       "media_rank                           0\n",
       "user_id_id                           0\n",
       "nmidia_regular_listened              0\n",
       "nmidia_with_flow_listened            0\n",
       "nmidia_regular                       0\n",
       "nmidia_with_flow                     0\n",
       "platform_name_1                      0\n",
       "platform_name_2                      0\n",
       "platform_family_1                    0\n",
       "platform_family_2                    0\n",
       "user_age_19                          0\n",
       "user_age_20                          0\n",
       "user_age_21                          0\n",
       "user_age_22                          0\n",
       "user_age_23                          0\n",
       "user_age_24                          0\n",
       "user_age_25                          0\n",
       "user_age_26                          0\n",
       "user_age_27                          0\n",
       "user_age_28                          0\n",
       "user_age_29                          0\n",
       "user_age_30                          0\n",
       "user_age_group_1                     0\n",
       "user_age_group_2                     0\n",
       "media_decade_1                       0\n",
       "media_decade_2                       0\n",
       "media_decade_3                       0\n",
       "media_decade_4                       0\n",
       "media_decade_5                       0\n",
       "media_decade_6                       0\n",
       "media_decade_7                       0\n",
       "media_decade_8                       0\n",
       "user_gender_1                        0\n",
       "user_age_group_1                     0\n",
       "user_age_group_2                     0\n",
       "ts_listen_DAY_OF_WEEK_1              0\n",
       "ts_listen_DAY_OF_WEEK_2              0\n",
       "ts_listen_DAY_OF_WEEK_3              0\n",
       "ts_listen_DAY_OF_WEEK_4              0\n",
       "ts_listen_DAY_OF_WEEK_5              0\n",
       "ts_listen_DAY_OF_WEEK_6              0\n",
       "ts_listen_PERIOD_OF_DAY_1            0\n",
       "ts_listen_PERIOD_OF_DAY_2            0\n",
       "ts_listen_PERIOD_OF_DAY_3            0\n",
       "dtype: int64"
      ]
     },
     "execution_count": 45,
     "metadata": {},
     "output_type": "execute_result"
    }
   ],
   "source": [
    "pd.isnull(df_train).sum()"
   ]
  },
  {
   "cell_type": "code",
   "execution_count": 46,
   "metadata": {
    "autoscroll": "json-false",
    "collapsed": false,
    "deletable": true,
    "editable": true,
    "ein.tags": [
     "worksheet-0"
    ],
    "slideshow": {
     "slide_type": "-"
    }
   },
   "outputs": [],
   "source": [
    "from sklearn.model_selection import train_test_split"
   ]
  },
  {
   "cell_type": "code",
   "execution_count": 47,
   "metadata": {
    "autoscroll": "json-false",
    "collapsed": false,
    "deletable": true,
    "editable": true,
    "ein.tags": [
     "worksheet-0"
    ],
    "slideshow": {
     "slide_type": "-"
    }
   },
   "outputs": [
    {
     "data": {
      "text/plain": [
       "69"
      ]
     },
     "execution_count": 47,
     "metadata": {},
     "output_type": "execute_result"
    }
   ],
   "source": [
    "X_train, X_test, y_train, y_test = train_test_split(df_train[features], df_train[target], test_size = 0.2)\n",
    "import gc\n",
    "gc.collect()"
   ]
  },
  {
   "cell_type": "markdown",
   "metadata": {
    "deletable": true,
    "editable": true,
    "ein.tags": [
     "worksheet-0"
    ],
    "slideshow": {
     "slide_type": "-"
    }
   },
   "source": [
    "### Feature Selection"
   ]
  },
  {
   "cell_type": "code",
   "execution_count": 55,
   "metadata": {
    "autoscroll": "json-false",
    "collapsed": false,
    "deletable": true,
    "editable": true,
    "ein.tags": [
     "worksheet-0"
    ],
    "slideshow": {
     "slide_type": "-"
    }
   },
   "outputs": [
    {
     "ename": "MemoryError",
     "evalue": "",
     "output_type": "error",
     "traceback": [
      "\u001b[0;31m---------------------------------------------------------------------------\u001b[0m",
      "\u001b[0;31mMemoryError\u001b[0m                               Traceback (most recent call last)",
      "\u001b[0;32m<ipython-input-55-dd50f55bd0c9>\u001b[0m in \u001b[0;36m<module>\u001b[0;34m()\u001b[0m\n\u001b[1;32m      5\u001b[0m \u001b[0;34m\u001b[0m\u001b[0m\n\u001b[1;32m      6\u001b[0m \u001b[0mselection_rule\u001b[0m \u001b[0;34m=\u001b[0m \u001b[0mfeature_selection\u001b[0m\u001b[0;34m.\u001b[0m\u001b[0mSelectFdr\u001b[0m\u001b[0;34m(\u001b[0m\u001b[0mfunction_rule_selection\u001b[0m\u001b[0;34m,\u001b[0m \u001b[0malpha_cutoff\u001b[0m\u001b[0;34m)\u001b[0m\u001b[0;34m\u001b[0m\u001b[0m\n\u001b[0;32m----> 7\u001b[0;31m \u001b[0mselection_rule\u001b[0m\u001b[0;34m.\u001b[0m\u001b[0mfit\u001b[0m\u001b[0;34m(\u001b[0m\u001b[0mX_train\u001b[0m\u001b[0;34m,\u001b[0m \u001b[0my_train\u001b[0m\u001b[0;34m)\u001b[0m\u001b[0;34m;\u001b[0m\u001b[0;34m\u001b[0m\u001b[0m\n\u001b[0m\u001b[1;32m      8\u001b[0m \u001b[0;34m\u001b[0m\u001b[0m\n\u001b[1;32m      9\u001b[0m \u001b[0mall_pvalues\u001b[0m \u001b[0;34m=\u001b[0m \u001b[0mlist\u001b[0m\u001b[0;34m(\u001b[0m\u001b[0mfilter\u001b[0m\u001b[0;34m(\u001b[0m\u001b[0;32mlambda\u001b[0m \u001b[0mx\u001b[0m\u001b[0;34m:\u001b[0m \u001b[0mpd\u001b[0m\u001b[0;34m.\u001b[0m\u001b[0mnotnull\u001b[0m\u001b[0;34m(\u001b[0m\u001b[0mx\u001b[0m\u001b[0;34m[\u001b[0m\u001b[0;36m0\u001b[0m\u001b[0;34m]\u001b[0m\u001b[0;34m)\u001b[0m\u001b[0;34m,\u001b[0m \u001b[0mzip\u001b[0m\u001b[0;34m(\u001b[0m\u001b[0mselection_rule\u001b[0m\u001b[0;34m.\u001b[0m\u001b[0mpvalues_\u001b[0m\u001b[0;34m,\u001b[0m \u001b[0mall_features\u001b[0m\u001b[0;34m)\u001b[0m\u001b[0;34m)\u001b[0m\u001b[0;34m)\u001b[0m\u001b[0;34m\u001b[0m\u001b[0m\n",
      "\u001b[0;32m/home/ubuntu/anaconda3/envs/ml/lib/python2.7/site-packages/sklearn/feature_selection/univariate_selection.pyc\u001b[0m in \u001b[0;36mfit\u001b[0;34m(self, X, y)\u001b[0m\n\u001b[1;32m    328\u001b[0m \u001b[0;34m\u001b[0m\u001b[0m\n\u001b[1;32m    329\u001b[0m         \u001b[0mself\u001b[0m\u001b[0;34m.\u001b[0m\u001b[0m_check_params\u001b[0m\u001b[0;34m(\u001b[0m\u001b[0mX\u001b[0m\u001b[0;34m,\u001b[0m \u001b[0my\u001b[0m\u001b[0;34m)\u001b[0m\u001b[0;34m\u001b[0m\u001b[0m\n\u001b[0;32m--> 330\u001b[0;31m         \u001b[0mscore_func_ret\u001b[0m \u001b[0;34m=\u001b[0m \u001b[0mself\u001b[0m\u001b[0;34m.\u001b[0m\u001b[0mscore_func\u001b[0m\u001b[0;34m(\u001b[0m\u001b[0mX\u001b[0m\u001b[0;34m,\u001b[0m \u001b[0my\u001b[0m\u001b[0;34m)\u001b[0m\u001b[0;34m\u001b[0m\u001b[0m\n\u001b[0m\u001b[1;32m    331\u001b[0m         \u001b[0;32mif\u001b[0m \u001b[0misinstance\u001b[0m\u001b[0;34m(\u001b[0m\u001b[0mscore_func_ret\u001b[0m\u001b[0;34m,\u001b[0m \u001b[0;34m(\u001b[0m\u001b[0mlist\u001b[0m\u001b[0;34m,\u001b[0m \u001b[0mtuple\u001b[0m\u001b[0;34m)\u001b[0m\u001b[0;34m)\u001b[0m\u001b[0;34m:\u001b[0m\u001b[0;34m\u001b[0m\u001b[0m\n\u001b[1;32m    332\u001b[0m             \u001b[0mself\u001b[0m\u001b[0;34m.\u001b[0m\u001b[0mscores_\u001b[0m\u001b[0;34m,\u001b[0m \u001b[0mself\u001b[0m\u001b[0;34m.\u001b[0m\u001b[0mpvalues_\u001b[0m \u001b[0;34m=\u001b[0m \u001b[0mscore_func_ret\u001b[0m\u001b[0;34m\u001b[0m\u001b[0m\n",
      "\u001b[0;32m/home/ubuntu/anaconda3/envs/ml/lib/python2.7/site-packages/sklearn/feature_selection/univariate_selection.pyc\u001b[0m in \u001b[0;36mf_classif\u001b[0;34m(X, y)\u001b[0m\n\u001b[1;32m    146\u001b[0m     \"\"\"\n\u001b[1;32m    147\u001b[0m     \u001b[0mX\u001b[0m\u001b[0;34m,\u001b[0m \u001b[0my\u001b[0m \u001b[0;34m=\u001b[0m \u001b[0mcheck_X_y\u001b[0m\u001b[0;34m(\u001b[0m\u001b[0mX\u001b[0m\u001b[0;34m,\u001b[0m \u001b[0my\u001b[0m\u001b[0;34m,\u001b[0m \u001b[0;34m[\u001b[0m\u001b[0;34m'csr'\u001b[0m\u001b[0;34m,\u001b[0m \u001b[0;34m'csc'\u001b[0m\u001b[0;34m,\u001b[0m \u001b[0;34m'coo'\u001b[0m\u001b[0;34m]\u001b[0m\u001b[0;34m)\u001b[0m\u001b[0;34m\u001b[0m\u001b[0m\n\u001b[0;32m--> 148\u001b[0;31m     \u001b[0margs\u001b[0m \u001b[0;34m=\u001b[0m \u001b[0;34m[\u001b[0m\u001b[0mX\u001b[0m\u001b[0;34m[\u001b[0m\u001b[0msafe_mask\u001b[0m\u001b[0;34m(\u001b[0m\u001b[0mX\u001b[0m\u001b[0;34m,\u001b[0m \u001b[0my\u001b[0m \u001b[0;34m==\u001b[0m \u001b[0mk\u001b[0m\u001b[0;34m)\u001b[0m\u001b[0;34m]\u001b[0m \u001b[0;32mfor\u001b[0m \u001b[0mk\u001b[0m \u001b[0;32min\u001b[0m \u001b[0mnp\u001b[0m\u001b[0;34m.\u001b[0m\u001b[0munique\u001b[0m\u001b[0;34m(\u001b[0m\u001b[0my\u001b[0m\u001b[0;34m)\u001b[0m\u001b[0;34m]\u001b[0m\u001b[0;34m\u001b[0m\u001b[0m\n\u001b[0m\u001b[1;32m    149\u001b[0m     \u001b[0;32mreturn\u001b[0m \u001b[0mf_oneway\u001b[0m\u001b[0;34m(\u001b[0m\u001b[0;34m*\u001b[0m\u001b[0margs\u001b[0m\u001b[0;34m)\u001b[0m\u001b[0;34m\u001b[0m\u001b[0m\n\u001b[1;32m    150\u001b[0m \u001b[0;34m\u001b[0m\u001b[0m\n",
      "\u001b[0;31mMemoryError\u001b[0m: "
     ]
    }
   ],
   "source": [
    "from sklearn import feature_selection\n",
    "all_features = features\n",
    "function_rule_selection = feature_selection.f_classif\n",
    "alpha_cutoff = 0.01\n",
    "\n",
    "selection_rule = feature_selection.SelectFdr(function_rule_selection, alpha_cutoff)\n",
    "selection_rule.fit(X_train, y_train);\n",
    "\n",
    "all_pvalues = list(filter(lambda x: pd.notnull(x[0]), zip(selection_rule.pvalues_, all_features)))\n",
    "#print(all_pvalues)\n",
    "filtered_pvalues = list(filter(lambda x: x[0]<=alpha_cutoff, all_pvalues))\n",
    "#print(filtered_pvalues)\n",
    "all_select_features = list(map(lambda x: x[1], filtered_pvalues))\n",
    "\n",
    "print(\"{0} selected variables from {1}, {2:.2f}%\".format(len(all_select_features), \n",
    "                                                        len(all_features), \n",
    "                                                        len(filtered_pvalues)*100/float(len(all_features))))\n",
    "print(all_select_features)\n",
    "#print(filtered_pvalues)"
   ]
  },
  {
   "cell_type": "code",
   "execution_count": null,
   "metadata": {
    "autoscroll": "json-false",
    "collapsed": false,
    "deletable": true,
    "editable": true,
    "ein.tags": [
     "worksheet-0"
    ],
    "slideshow": {
     "slide_type": "-"
    }
   },
   "outputs": [],
   "source": [
    "features = all_select_features\n",
    "X_train, X_test, y_train, y_test = train_test_split(df_train[features], df_train[target], test_size = 0.2)"
   ]
  },
  {
   "cell_type": "code",
   "execution_count": 49,
   "metadata": {
    "autoscroll": "json-false",
    "collapsed": false,
    "deletable": true,
    "editable": true,
    "ein.tags": [
     "worksheet-0"
    ],
    "slideshow": {
     "slide_type": "-"
    }
   },
   "outputs": [],
   "source": [
    "from sklearn import metrics\n",
    "from sklearn.metrics import confusion_matrix\n",
    "from sklearn.metrics import accuracy_score\n",
    "import matplotlib.pyplot as plt\n",
    "\n",
    "def complete_report(y_test, y_pred):\n",
    "    print(\"*********************************\")\n",
    "    print(\"Accuracy: {0:.2f}\".format(accuracy_score(y_test, y_pred)))\n",
    "    print(\"Precision: {0}\".format(metrics.precision_score(y_test, y_pred)))\n",
    "    print(\"Recall: {0}\".format(metrics.recall_score(y_test, y_pred)))\n",
    "    print(\"F1-Score: {0}\".format(metrics.f1_score(y_test, y_pred)))\n",
    "    conf_m = confusion_matrix(y_test, y_pred)\n",
    "    print(conf_m)\n",
    "    try: \n",
    "        print(\"Roc Area: {0}\".format(metrics.roc_auc_score(y_test, y_pred))) \n",
    "        roc_curve_label(y_test, y_pred)\n",
    "    except:\n",
    "        print(\"--\")\n",
    "    print(\"*********************************\")\n",
    "    \n",
    "    return metrics.roc_auc_score(y_test, y_pred)\n",
    "        \n",
    "def roc_curve_label(y_test, y_pred):\n",
    "    plt.figsize=(10,6)\n",
    "    fpr, tpr, _ = metrics.roc_curve(y_test, y_pred)\n",
    "    plt.figure(1)\n",
    "    plt.plot([0, 1], [0, 1], 'k--')\n",
    "    plt.plot(fpr, tpr, label='RT + LR')\n",
    "    plt.xlabel('False positive rate')\n",
    "    plt.ylabel('True positive rate')\n",
    "    plt.title('ROC curve')\n",
    "    plt.legend(loc='best')\n",
    "    plt.show()"
   ]
  },
  {
   "cell_type": "code",
   "execution_count": 50,
   "metadata": {
    "autoscroll": "json-false",
    "collapsed": false,
    "deletable": true,
    "editable": true,
    "ein.tags": [
     "worksheet-0"
    ],
    "slideshow": {
     "slide_type": "-"
    }
   },
   "outputs": [],
   "source": [
    "# %timeit\n",
    "# from sklearn.tree import DecisionTreeClassifier\n",
    "# model = DecisionTreeClassifier()\n",
    "# model.fit(X_train, y_train)"
   ]
  },
  {
   "cell_type": "code",
   "execution_count": 51,
   "metadata": {
    "autoscroll": "json-false",
    "collapsed": false,
    "deletable": true,
    "editable": true,
    "ein.tags": [
     "worksheet-0"
    ],
    "slideshow": {
     "slide_type": "-"
    }
   },
   "outputs": [],
   "source": [
    "# print(model.score(X_test, y_test))\n",
    "# complete_report(y_test, model.predict(X_test))"
   ]
  },
  {
   "cell_type": "markdown",
   "metadata": {
    "deletable": true,
    "editable": true,
    "ein.tags": [
     "worksheet-0"
    ],
    "slideshow": {
     "slide_type": "-"
    }
   },
   "source": [
    "acc: 0.70345496362865445  \n",
    "roc: 0.6912675674785278"
   ]
  },
  {
   "cell_type": "code",
   "execution_count": 52,
   "metadata": {
    "autoscroll": "json-false",
    "collapsed": false,
    "deletable": true,
    "editable": true,
    "ein.tags": [
     "worksheet-0"
    ],
    "slideshow": {
     "slide_type": "-"
    }
   },
   "outputs": [],
   "source": [
    "from sklearn.metrics import confusion_matrix"
   ]
  },
  {
   "cell_type": "code",
   "execution_count": 53,
   "metadata": {
    "autoscroll": "json-false",
    "collapsed": false,
    "deletable": true,
    "editable": true,
    "ein.tags": [
     "worksheet-0"
    ],
    "slideshow": {
     "slide_type": "-"
    }
   },
   "outputs": [],
   "source": [
    "# confusion_matrix(y_test, model.predict(X_test))"
   ]
  },
  {
   "cell_type": "code",
   "execution_count": 54,
   "metadata": {
    "autoscroll": "json-false",
    "collapsed": false,
    "deletable": true,
    "editable": true,
    "ein.tags": [
     "worksheet-0"
    ],
    "slideshow": {
     "slide_type": "-"
    }
   },
   "outputs": [
    {
     "ename": "MemoryError",
     "evalue": "",
     "output_type": "error",
     "traceback": [
      "\u001b[0;31m---------------------------------------------------------------------------\u001b[0m",
      "\u001b[0;31mMemoryError\u001b[0m                               Traceback (most recent call last)",
      "\u001b[0;32m<ipython-input-54-6f482b238ef9>\u001b[0m in \u001b[0;36m<module>\u001b[0;34m()\u001b[0m\n\u001b[1;32m      2\u001b[0m \u001b[0;34m\u001b[0m\u001b[0m\n\u001b[1;32m      3\u001b[0m \u001b[0mmodel\u001b[0m \u001b[0;34m=\u001b[0m \u001b[0mRandomForestClassifier\u001b[0m\u001b[0;34m(\u001b[0m\u001b[0mn_jobs\u001b[0m\u001b[0;34m=\u001b[0m\u001b[0;36m4\u001b[0m\u001b[0;34m)\u001b[0m\u001b[0;34m\u001b[0m\u001b[0m\n\u001b[0;32m----> 4\u001b[0;31m \u001b[0mmodel\u001b[0m\u001b[0;34m.\u001b[0m\u001b[0mfit\u001b[0m\u001b[0;34m(\u001b[0m\u001b[0mX_train\u001b[0m\u001b[0;34m,\u001b[0m \u001b[0my_train\u001b[0m\u001b[0;34m)\u001b[0m\u001b[0;34m\u001b[0m\u001b[0m\n\u001b[0m\u001b[1;32m      5\u001b[0m \u001b[0mmodel\u001b[0m\u001b[0;34m.\u001b[0m\u001b[0mscore\u001b[0m\u001b[0;34m(\u001b[0m\u001b[0mX_test\u001b[0m\u001b[0;34m,\u001b[0m \u001b[0my_test\u001b[0m\u001b[0;34m)\u001b[0m\u001b[0;34m\u001b[0m\u001b[0m\n",
      "\u001b[0;32m/home/ubuntu/anaconda3/envs/ml/lib/python2.7/site-packages/sklearn/ensemble/forest.pyc\u001b[0m in \u001b[0;36mfit\u001b[0;34m(self, X, y, sample_weight)\u001b[0m\n\u001b[1;32m    245\u001b[0m         \"\"\"\n\u001b[1;32m    246\u001b[0m         \u001b[0;31m# Validate or convert input data\u001b[0m\u001b[0;34m\u001b[0m\u001b[0;34m\u001b[0m\u001b[0m\n\u001b[0;32m--> 247\u001b[0;31m         \u001b[0mX\u001b[0m \u001b[0;34m=\u001b[0m \u001b[0mcheck_array\u001b[0m\u001b[0;34m(\u001b[0m\u001b[0mX\u001b[0m\u001b[0;34m,\u001b[0m \u001b[0maccept_sparse\u001b[0m\u001b[0;34m=\u001b[0m\u001b[0;34m\"csc\"\u001b[0m\u001b[0;34m,\u001b[0m \u001b[0mdtype\u001b[0m\u001b[0;34m=\u001b[0m\u001b[0mDTYPE\u001b[0m\u001b[0;34m)\u001b[0m\u001b[0;34m\u001b[0m\u001b[0m\n\u001b[0m\u001b[1;32m    248\u001b[0m         \u001b[0my\u001b[0m \u001b[0;34m=\u001b[0m \u001b[0mcheck_array\u001b[0m\u001b[0;34m(\u001b[0m\u001b[0my\u001b[0m\u001b[0;34m,\u001b[0m \u001b[0maccept_sparse\u001b[0m\u001b[0;34m=\u001b[0m\u001b[0;34m'csc'\u001b[0m\u001b[0;34m,\u001b[0m \u001b[0mensure_2d\u001b[0m\u001b[0;34m=\u001b[0m\u001b[0mFalse\u001b[0m\u001b[0;34m,\u001b[0m \u001b[0mdtype\u001b[0m\u001b[0;34m=\u001b[0m\u001b[0mNone\u001b[0m\u001b[0;34m)\u001b[0m\u001b[0;34m\u001b[0m\u001b[0m\n\u001b[1;32m    249\u001b[0m         \u001b[0;32mif\u001b[0m \u001b[0missparse\u001b[0m\u001b[0;34m(\u001b[0m\u001b[0mX\u001b[0m\u001b[0;34m)\u001b[0m\u001b[0;34m:\u001b[0m\u001b[0;34m\u001b[0m\u001b[0m\n",
      "\u001b[0;32m/home/ubuntu/anaconda3/envs/ml/lib/python2.7/site-packages/sklearn/utils/validation.pyc\u001b[0m in \u001b[0;36mcheck_array\u001b[0;34m(array, accept_sparse, dtype, order, copy, force_all_finite, ensure_2d, allow_nd, ensure_min_samples, ensure_min_features, warn_on_dtype, estimator)\u001b[0m\n\u001b[1;32m    380\u001b[0m                                       force_all_finite)\n\u001b[1;32m    381\u001b[0m     \u001b[0;32melse\u001b[0m\u001b[0;34m:\u001b[0m\u001b[0;34m\u001b[0m\u001b[0m\n\u001b[0;32m--> 382\u001b[0;31m         \u001b[0marray\u001b[0m \u001b[0;34m=\u001b[0m \u001b[0mnp\u001b[0m\u001b[0;34m.\u001b[0m\u001b[0marray\u001b[0m\u001b[0;34m(\u001b[0m\u001b[0marray\u001b[0m\u001b[0;34m,\u001b[0m \u001b[0mdtype\u001b[0m\u001b[0;34m=\u001b[0m\u001b[0mdtype\u001b[0m\u001b[0;34m,\u001b[0m \u001b[0morder\u001b[0m\u001b[0;34m=\u001b[0m\u001b[0morder\u001b[0m\u001b[0;34m,\u001b[0m \u001b[0mcopy\u001b[0m\u001b[0;34m=\u001b[0m\u001b[0mcopy\u001b[0m\u001b[0;34m)\u001b[0m\u001b[0;34m\u001b[0m\u001b[0m\n\u001b[0m\u001b[1;32m    383\u001b[0m \u001b[0;34m\u001b[0m\u001b[0m\n\u001b[1;32m    384\u001b[0m         \u001b[0;32mif\u001b[0m \u001b[0mensure_2d\u001b[0m\u001b[0;34m:\u001b[0m\u001b[0;34m\u001b[0m\u001b[0m\n",
      "\u001b[0;32m/home/ubuntu/anaconda3/envs/ml/lib/python2.7/site-packages/pandas/core/generic.pyc\u001b[0m in \u001b[0;36m__array__\u001b[0;34m(self, dtype)\u001b[0m\n\u001b[1;32m    945\u001b[0m \u001b[0;34m\u001b[0m\u001b[0m\n\u001b[1;32m    946\u001b[0m     \u001b[0;32mdef\u001b[0m \u001b[0m__array__\u001b[0m\u001b[0;34m(\u001b[0m\u001b[0mself\u001b[0m\u001b[0;34m,\u001b[0m \u001b[0mdtype\u001b[0m\u001b[0;34m=\u001b[0m\u001b[0mNone\u001b[0m\u001b[0;34m)\u001b[0m\u001b[0;34m:\u001b[0m\u001b[0;34m\u001b[0m\u001b[0m\n\u001b[0;32m--> 947\u001b[0;31m         \u001b[0;32mreturn\u001b[0m \u001b[0m_values_from_object\u001b[0m\u001b[0;34m(\u001b[0m\u001b[0mself\u001b[0m\u001b[0;34m)\u001b[0m\u001b[0;34m\u001b[0m\u001b[0m\n\u001b[0m\u001b[1;32m    948\u001b[0m \u001b[0;34m\u001b[0m\u001b[0m\n\u001b[1;32m    949\u001b[0m     \u001b[0;32mdef\u001b[0m \u001b[0m__array_wrap__\u001b[0m\u001b[0;34m(\u001b[0m\u001b[0mself\u001b[0m\u001b[0;34m,\u001b[0m \u001b[0mresult\u001b[0m\u001b[0;34m,\u001b[0m \u001b[0mcontext\u001b[0m\u001b[0;34m=\u001b[0m\u001b[0mNone\u001b[0m\u001b[0;34m)\u001b[0m\u001b[0;34m:\u001b[0m\u001b[0;34m\u001b[0m\u001b[0m\n",
      "\u001b[0;32mpandas/lib.pyx\u001b[0m in \u001b[0;36mpandas.lib.values_from_object (pandas/lib.c:4652)\u001b[0;34m()\u001b[0m\n",
      "\u001b[0;32m/home/ubuntu/anaconda3/envs/ml/lib/python2.7/site-packages/pandas/core/generic.pyc\u001b[0m in \u001b[0;36mget_values\u001b[0;34m(self)\u001b[0m\n\u001b[1;32m   2938\u001b[0m     \u001b[0;32mdef\u001b[0m \u001b[0mget_values\u001b[0m\u001b[0;34m(\u001b[0m\u001b[0mself\u001b[0m\u001b[0;34m)\u001b[0m\u001b[0;34m:\u001b[0m\u001b[0;34m\u001b[0m\u001b[0m\n\u001b[1;32m   2939\u001b[0m         \u001b[0;34m\"\"\"same as values (but handles sparseness conversions)\"\"\"\u001b[0m\u001b[0;34m\u001b[0m\u001b[0m\n\u001b[0;32m-> 2940\u001b[0;31m         \u001b[0;32mreturn\u001b[0m \u001b[0mself\u001b[0m\u001b[0;34m.\u001b[0m\u001b[0mas_matrix\u001b[0m\u001b[0;34m(\u001b[0m\u001b[0;34m)\u001b[0m\u001b[0;34m\u001b[0m\u001b[0m\n\u001b[0m\u001b[1;32m   2941\u001b[0m \u001b[0;34m\u001b[0m\u001b[0m\n\u001b[1;32m   2942\u001b[0m     \u001b[0;32mdef\u001b[0m \u001b[0mget_dtype_counts\u001b[0m\u001b[0;34m(\u001b[0m\u001b[0mself\u001b[0m\u001b[0;34m)\u001b[0m\u001b[0;34m:\u001b[0m\u001b[0;34m\u001b[0m\u001b[0m\n",
      "\u001b[0;32m/home/ubuntu/anaconda3/envs/ml/lib/python2.7/site-packages/pandas/core/generic.pyc\u001b[0m in \u001b[0;36mas_matrix\u001b[0;34m(self, columns)\u001b[0m\n\u001b[1;32m   2905\u001b[0m         \u001b[0mself\u001b[0m\u001b[0;34m.\u001b[0m\u001b[0m_consolidate_inplace\u001b[0m\u001b[0;34m(\u001b[0m\u001b[0;34m)\u001b[0m\u001b[0;34m\u001b[0m\u001b[0m\n\u001b[1;32m   2906\u001b[0m         \u001b[0;32mif\u001b[0m \u001b[0mself\u001b[0m\u001b[0;34m.\u001b[0m\u001b[0m_AXIS_REVERSED\u001b[0m\u001b[0;34m:\u001b[0m\u001b[0;34m\u001b[0m\u001b[0m\n\u001b[0;32m-> 2907\u001b[0;31m             \u001b[0;32mreturn\u001b[0m \u001b[0mself\u001b[0m\u001b[0;34m.\u001b[0m\u001b[0m_data\u001b[0m\u001b[0;34m.\u001b[0m\u001b[0mas_matrix\u001b[0m\u001b[0;34m(\u001b[0m\u001b[0mcolumns\u001b[0m\u001b[0;34m)\u001b[0m\u001b[0;34m.\u001b[0m\u001b[0mT\u001b[0m\u001b[0;34m\u001b[0m\u001b[0m\n\u001b[0m\u001b[1;32m   2908\u001b[0m         \u001b[0;32mreturn\u001b[0m \u001b[0mself\u001b[0m\u001b[0;34m.\u001b[0m\u001b[0m_data\u001b[0m\u001b[0;34m.\u001b[0m\u001b[0mas_matrix\u001b[0m\u001b[0;34m(\u001b[0m\u001b[0mcolumns\u001b[0m\u001b[0;34m)\u001b[0m\u001b[0;34m\u001b[0m\u001b[0m\n\u001b[1;32m   2909\u001b[0m \u001b[0;34m\u001b[0m\u001b[0m\n",
      "\u001b[0;32m/home/ubuntu/anaconda3/envs/ml/lib/python2.7/site-packages/pandas/core/internals.pyc\u001b[0m in \u001b[0;36mas_matrix\u001b[0;34m(self, items)\u001b[0m\n\u001b[1;32m   3401\u001b[0m             \u001b[0;32mreturn\u001b[0m \u001b[0mmgr\u001b[0m\u001b[0;34m.\u001b[0m\u001b[0mblocks\u001b[0m\u001b[0;34m[\u001b[0m\u001b[0;36m0\u001b[0m\u001b[0;34m]\u001b[0m\u001b[0;34m.\u001b[0m\u001b[0mget_values\u001b[0m\u001b[0;34m(\u001b[0m\u001b[0;34m)\u001b[0m\u001b[0;34m\u001b[0m\u001b[0m\n\u001b[1;32m   3402\u001b[0m         \u001b[0;32melse\u001b[0m\u001b[0;34m:\u001b[0m\u001b[0;34m\u001b[0m\u001b[0m\n\u001b[0;32m-> 3403\u001b[0;31m             \u001b[0;32mreturn\u001b[0m \u001b[0mmgr\u001b[0m\u001b[0;34m.\u001b[0m\u001b[0m_interleave\u001b[0m\u001b[0;34m(\u001b[0m\u001b[0;34m)\u001b[0m\u001b[0;34m\u001b[0m\u001b[0m\n\u001b[0m\u001b[1;32m   3404\u001b[0m \u001b[0;34m\u001b[0m\u001b[0m\n\u001b[1;32m   3405\u001b[0m     \u001b[0;32mdef\u001b[0m \u001b[0m_interleave\u001b[0m\u001b[0;34m(\u001b[0m\u001b[0mself\u001b[0m\u001b[0;34m)\u001b[0m\u001b[0;34m:\u001b[0m\u001b[0;34m\u001b[0m\u001b[0m\n",
      "\u001b[0;32m/home/ubuntu/anaconda3/envs/ml/lib/python2.7/site-packages/pandas/core/internals.pyc\u001b[0m in \u001b[0;36m_interleave\u001b[0;34m(self)\u001b[0m\n\u001b[1;32m   3410\u001b[0m         \u001b[0mdtype\u001b[0m \u001b[0;34m=\u001b[0m \u001b[0m_interleaved_dtype\u001b[0m\u001b[0;34m(\u001b[0m\u001b[0mself\u001b[0m\u001b[0;34m.\u001b[0m\u001b[0mblocks\u001b[0m\u001b[0;34m)\u001b[0m\u001b[0;34m\u001b[0m\u001b[0m\n\u001b[1;32m   3411\u001b[0m \u001b[0;34m\u001b[0m\u001b[0m\n\u001b[0;32m-> 3412\u001b[0;31m         \u001b[0mresult\u001b[0m \u001b[0;34m=\u001b[0m \u001b[0mnp\u001b[0m\u001b[0;34m.\u001b[0m\u001b[0mempty\u001b[0m\u001b[0;34m(\u001b[0m\u001b[0mself\u001b[0m\u001b[0;34m.\u001b[0m\u001b[0mshape\u001b[0m\u001b[0;34m,\u001b[0m \u001b[0mdtype\u001b[0m\u001b[0;34m=\u001b[0m\u001b[0mdtype\u001b[0m\u001b[0;34m)\u001b[0m\u001b[0;34m\u001b[0m\u001b[0m\n\u001b[0m\u001b[1;32m   3413\u001b[0m \u001b[0;34m\u001b[0m\u001b[0m\n\u001b[1;32m   3414\u001b[0m         \u001b[0;32mif\u001b[0m \u001b[0mresult\u001b[0m\u001b[0;34m.\u001b[0m\u001b[0mshape\u001b[0m\u001b[0;34m[\u001b[0m\u001b[0;36m0\u001b[0m\u001b[0;34m]\u001b[0m \u001b[0;34m==\u001b[0m \u001b[0;36m0\u001b[0m\u001b[0;34m:\u001b[0m\u001b[0;34m\u001b[0m\u001b[0m\n",
      "\u001b[0;31mMemoryError\u001b[0m: "
     ]
    }
   ],
   "source": [
    "from sklearn.ensemble import RandomForestClassifier\n",
    "\n",
    "model = RandomForestClassifier(n_jobs=4)\n",
    "model.fit(X_train, y_train)\n",
    "model.score(X_test, y_test)"
   ]
  },
  {
   "cell_type": "code",
   "execution_count": null,
   "metadata": {
    "autoscroll": "json-false",
    "collapsed": false,
    "deletable": true,
    "editable": true,
    "ein.tags": [
     "worksheet-0"
    ],
    "slideshow": {
     "slide_type": "-"
    }
   },
   "outputs": [],
   "source": [
    "complete_report(y_test, model.predict(X_test))"
   ]
  },
  {
   "cell_type": "code",
   "execution_count": null,
   "metadata": {
    "autoscroll": "json-false",
    "collapsed": false,
    "deletable": true,
    "editable": true,
    "ein.tags": [
     "worksheet-0"
    ],
    "slideshow": {
     "slide_type": "-"
    }
   },
   "outputs": [],
   "source": [
    "roc_curve_label(y_test, model.predict(X_test))"
   ]
  },
  {
   "cell_type": "code",
   "execution_count": null,
   "metadata": {
    "collapsed": false,
    "deletable": true,
    "editable": true
   },
   "outputs": [],
   "source": [
    "print(len(df_test))"
   ]
  },
  {
   "cell_type": "markdown",
   "metadata": {},
   "source": [
    ".7411"
   ]
  },
  {
   "cell_type": "code",
   "execution_count": 56,
   "metadata": {
    "autoscroll": "json-false",
    "collapsed": false,
    "deletable": true,
    "editable": true,
    "ein.tags": [
     "worksheet-0"
    ],
    "slideshow": {
     "slide_type": "-"
    }
   },
   "outputs": [
    {
     "data": {
      "text/plain": [
       "0    0.9\n",
       "1    0.6\n",
       "2    0.5\n",
       "3    0.5\n",
       "4    0.9\n",
       "Name: prediction, dtype: float64"
      ]
     },
     "execution_count": 56,
     "metadata": {},
     "output_type": "execute_result"
    }
   ],
   "source": [
    "df_test_group_1 = df_test#[df_test[\"user_id\"].isin(user_for_specific_model)].copy(deep=True)\n",
    "p = model.predict_proba(df_test_group_1[features])\n",
    "p = p[:, 1]\n",
    "df_test_group_1[\"prediction\"] = p\n",
    "df_test_group_1[\"prediction\"].head()"
   ]
  },
  {
   "cell_type": "code",
   "execution_count": 57,
   "metadata": {
    "collapsed": false,
    "deletable": true,
    "editable": true
   },
   "outputs": [],
   "source": [
    "df_test_group_1.fillna(0, inplace=True)"
   ]
  },
  {
   "cell_type": "code",
   "execution_count": 58,
   "metadata": {
    "collapsed": false,
    "deletable": true,
    "editable": true
   },
   "outputs": [
    {
     "name": "stdout",
     "output_type": "stream",
     "text": [
      "19666\n",
      "19666\n"
     ]
    }
   ],
   "source": [
    "print(len(df_test))\n",
    "print(len(df_test_group_1))\n",
    "df_test_group_1[[\"prediction\", \"user_id_id\"]]\n",
    "df_test_group_1[[\"prediction\", \"user_id_id\"]].to_csv(\"group1.csv\")"
   ]
  },
  {
   "cell_type": "code",
   "execution_count": 59,
   "metadata": {
    "collapsed": false,
    "deletable": true,
    "editable": true
   },
   "outputs": [],
   "source": [
    "import gc\n",
    "gc.collect()\n",
    "del df_test_group_1"
   ]
  },
  {
   "cell_type": "code",
   "execution_count": null,
   "metadata": {
    "collapsed": true,
    "deletable": true,
    "editable": true
   },
   "outputs": [],
   "source": []
  },
  {
   "cell_type": "code",
   "execution_count": 3,
   "metadata": {
    "collapsed": false,
    "deletable": true,
    "editable": true
   },
   "outputs": [
    {
     "name": "stdout",
     "output_type": "stream",
     "text": [
      "252\n",
      "19666\n"
     ]
    },
    {
     "data": {
      "text/plain": [
       "['Unnamed: 0',\n",
       " 'Unnamed: 0.1',\n",
       " 'genre_id',\n",
       " 'media_id',\n",
       " 'context_type',\n",
       " 'media_duration',\n",
       " 'listen_type',\n",
       " 'user_id',\n",
       " 'user_age',\n",
       " 'diff_ts_listen_AND_release_date_D',\n",
       " 'diff_ts_listen_AND_release_date_M',\n",
       " 'diff_ts_listen_AND_release_date_Y',\n",
       " 'release_date_DAY',\n",
       " 'release_date_MONTH',\n",
       " 'release_date_YEAR',\n",
       " 'diff_user_song_age',\n",
       " 'media_decade',\n",
       " 'artist_albuns',\n",
       " 'artist_fans',\n",
       " 'artist_radio',\n",
       " 'media_bpm',\n",
       " 'media_rank',\n",
       " 'user_id_id',\n",
       " 'platform_name_1',\n",
       " 'platform_name_2',\n",
       " 'platform_family_1',\n",
       " 'platform_family_2',\n",
       " 'user_gender_1',\n",
       " 'user_age_group_1',\n",
       " 'user_age_group_2',\n",
       " 'ts_listen_DAY_OF_WEEK_1',\n",
       " 'ts_listen_DAY_OF_WEEK_2',\n",
       " 'ts_listen_DAY_OF_WEEK_3',\n",
       " 'ts_listen_DAY_OF_WEEK_4',\n",
       " 'ts_listen_DAY_OF_WEEK_5',\n",
       " 'ts_listen_DAY_OF_WEEK_6',\n",
       " 'ts_listen_PERIOD_OF_DAY_1',\n",
       " 'ts_listen_PERIOD_OF_DAY_2',\n",
       " 'ts_listen_PERIOD_OF_DAY_3']"
      ]
     },
     "execution_count": 3,
     "metadata": {},
     "output_type": "execute_result"
    }
   ],
   "source": [
    "import pandas as pd\n",
    "from greenpyce.feature_engineering import TargetEncoder\n",
    "from greenpyce.feature_engineering import onehot\n",
    "from greenpyce.feature_engineering import RankCategorical\n",
    "from greenpyce.feature_engineering import LabelCount\n",
    "df_train = pd.read_csv(\"../data/train_data4.csv\")\n",
    "df_test = pd.read_csv(\"../data/test_data4.csv\")\n",
    "\n",
    "df_train[\"user_id_id\"] = df_train[\"user_id\"]\n",
    "df_test[\"user_id_id\"] = df_test[\"user_id\"]\n",
    "\n",
    "# df_user = pd.read_csv(\"../data/nmidia_feats.csv\", sep=\";\")\n",
    "# # pd.isnull(df_user).sum()[pd.isnull(df_user).sum() > 0]\n",
    "# df_user = df_user.drop([\"nmidia_with_flow_listened_PROP\", \"nmidia_regular_listened_PROP\", \"nmidia_PROP_diff\"], axis=1)\n",
    "# df_user.columns.values\n",
    "# df_train = pd.merge(df_train, df_user, on=\"user_id\")\n",
    "# df_test = pd.merge(df_test, df_user, on=\"user_id\")\n",
    "# del df_user\n",
    "\n",
    "\n",
    "### select users for general\n",
    "\n",
    "#df_train = df_train[df_train[\"user_id\"].isin(user_for_general_model)]\n",
    "\n",
    "threshold = 1\n",
    "\n",
    "register_count = df_train[\"user_id\"].value_counts()\n",
    "\n",
    "user_for_general_model = register_count[(register_count <= threshold)].index\n",
    "user_for_specific_model = register_count[(register_count > threshold)].index\n",
    "print(len(user_for_general_model))\n",
    "print(len(user_for_specific_model))\n",
    "\n",
    "cols_for_target_encoder = [\"genre_id\", \n",
    "                           \"context_type\", \n",
    "                           \"user_id\", \n",
    "                           \"media_id\", \n",
    "                           \"artist_radio\",\n",
    "                           \"listen_type\"]\n",
    "\n",
    "cols_for_onehot = [\"platform_name\", \n",
    "                   \"platform_family\", \n",
    "                   \"user_age\",\n",
    "                   \"user_age_group\",\n",
    "                   \"media_decade\",\n",
    "                   \"user_gender\", \n",
    "                   \"user_age_group\", \n",
    "                   \"ts_listen_DAY_OF_WEEK\",\n",
    "                  \"ts_listen_PERIOD_OF_DAY\"]\n",
    "\n",
    "cols_for_rank = [\"artist_id\",\n",
    "                \"artist_fans\"]\n",
    "\n",
    "\n",
    "target = \"is_listened\"\n",
    "\n",
    "df_test = df_test[df_test[\"user_id\"].isin(user_for_general_model)]\n",
    "df_train.columns\n",
    "\n",
    "te = TargetEncoder(cols_for_target_encoder, \"is_listened\")\n",
    "te.fit(df_train)\n",
    "te.transform(df_train)\n",
    "te.transform(df_test)\n",
    "del te\n",
    "\n",
    "rc = RankCategorical(cols_for_rank)\n",
    "rc.fit(df_train)\n",
    "rc.transform(df_train)\n",
    "rc.transform(df_test)\n",
    "del rc\n",
    "\n",
    "rc = RankCategorical([\"media_decade\"])\n",
    "rc.fit(df_train)\n",
    "rc.transform(df_train)\n",
    "rc.transform(df_test)\n",
    "del rc\n",
    "\n",
    "df_train = onehot(df_train, cols_for_onehot)\n",
    "df_test = onehot(df_test, cols_for_onehot)\n",
    "\n",
    "%timeit\n",
    "### Drop\n",
    "to_drop = ['ts_listen', 'album_id', 'release_date', 'artist_id', \"year\", \"text\"]#, \"nmidia_with_flow_listened_PROP\", \"nmidia_PROP_diff\", \"nmidia_regular_listened_PROP\"]\n",
    "df_train.drop(to_drop, axis = 1,inplace=True)\n",
    "df_test.drop(to_drop, axis = 1,inplace=True)\n",
    "\n",
    "features = [col for col in df_train.columns.values if col != target]\n",
    "features"
   ]
  },
  {
   "cell_type": "code",
   "execution_count": 4,
   "metadata": {
    "collapsed": false,
    "deletable": true,
    "editable": true
   },
   "outputs": [
    {
     "data": {
      "text/plain": [
       "['Unnamed: 0',\n",
       " 'Unnamed: 0.1',\n",
       " 'genre_id',\n",
       " 'media_id',\n",
       " 'context_type',\n",
       " 'media_duration',\n",
       " 'listen_type',\n",
       " 'user_id',\n",
       " 'user_age',\n",
       " 'diff_ts_listen_AND_release_date_D',\n",
       " 'diff_ts_listen_AND_release_date_M',\n",
       " 'diff_ts_listen_AND_release_date_Y',\n",
       " 'release_date_DAY',\n",
       " 'release_date_MONTH',\n",
       " 'release_date_YEAR',\n",
       " 'diff_user_song_age',\n",
       " 'media_decade',\n",
       " 'artist_albuns',\n",
       " 'artist_fans',\n",
       " 'artist_radio',\n",
       " 'media_bpm',\n",
       " 'media_rank',\n",
       " 'user_id_id',\n",
       " 'platform_name_1',\n",
       " 'platform_name_2',\n",
       " 'platform_family_1',\n",
       " 'platform_family_2',\n",
       " 'user_gender_1',\n",
       " 'user_age_group_1',\n",
       " 'user_age_group_2',\n",
       " 'ts_listen_DAY_OF_WEEK_1',\n",
       " 'ts_listen_DAY_OF_WEEK_2',\n",
       " 'ts_listen_DAY_OF_WEEK_3',\n",
       " 'ts_listen_DAY_OF_WEEK_4',\n",
       " 'ts_listen_DAY_OF_WEEK_5',\n",
       " 'ts_listen_DAY_OF_WEEK_6',\n",
       " 'ts_listen_PERIOD_OF_DAY_1',\n",
       " 'ts_listen_PERIOD_OF_DAY_2',\n",
       " 'ts_listen_PERIOD_OF_DAY_3']"
      ]
     },
     "execution_count": 4,
     "metadata": {},
     "output_type": "execute_result"
    }
   ],
   "source": [
    "features"
   ]
  },
  {
   "cell_type": "code",
   "execution_count": 5,
   "metadata": {
    "collapsed": false,
    "deletable": true,
    "editable": true
   },
   "outputs": [
    {
     "data": {
      "text/plain": [
       "252"
      ]
     },
     "execution_count": 5,
     "metadata": {},
     "output_type": "execute_result"
    }
   ],
   "source": [
    "len(df_test)"
   ]
  },
  {
   "cell_type": "code",
   "execution_count": 6,
   "metadata": {
    "autoscroll": "json-false",
    "collapsed": false,
    "deletable": true,
    "editable": true,
    "ein.tags": [
     "worksheet-0"
    ],
    "slideshow": {
     "slide_type": "-"
    }
   },
   "outputs": [],
   "source": [
    "features = ['genre_id',\n",
    " 'media_id',\n",
    " 'context_type',\n",
    " 'media_duration',\n",
    " 'listen_type',\n",
    " 'user_id',\n",
    " 'user_age',\n",
    " 'diff_ts_listen_AND_release_date_D',\n",
    " 'diff_ts_listen_AND_release_date_M',\n",
    " 'diff_ts_listen_AND_release_date_Y',\n",
    " 'release_date_YEAR',\n",
    " 'diff_user_song_age',\n",
    " 'media_decade',\n",
    " 'platform_name_1',\n",
    " 'platform_name_2',\n",
    " 'platform_family_1',\n",
    " 'platform_family_2',\n",
    " 'artist_albuns',\n",
    " 'artist_fans',\n",
    " 'artist_radio',\n",
    " 'media_bpm',\n",
    " 'media_rank',\n",
    " 'user_gender_1',\n",
    " 'user_age_group_1',\n",
    " 'user_age_group_2',\n",
    " 'ts_listen_DAY_OF_WEEK_1',\n",
    " 'ts_listen_DAY_OF_WEEK_2',\n",
    " 'ts_listen_DAY_OF_WEEK_3',\n",
    " 'ts_listen_DAY_OF_WEEK_4',\n",
    " 'ts_listen_DAY_OF_WEEK_5',\n",
    " 'ts_listen_DAY_OF_WEEK_6',\n",
    " 'ts_listen_PERIOD_OF_DAY_1',\n",
    " 'ts_listen_PERIOD_OF_DAY_2',\n",
    " 'ts_listen_PERIOD_OF_DAY_3']"
   ]
  },
  {
   "cell_type": "code",
   "execution_count": 14,
   "metadata": {
    "collapsed": false,
    "deletable": true,
    "editable": true
   },
   "outputs": [
    {
     "data": {
      "text/plain": [
       "Unnamed: 0                           0\n",
       "Unnamed: 0.1                         0\n",
       "sample_id                            0\n",
       "genre_id                             0\n",
       "media_id                             0\n",
       "context_type                         0\n",
       "media_duration                       0\n",
       "listen_type                          0\n",
       "user_id                              0\n",
       "user_age                             0\n",
       "diff_ts_listen_AND_release_date_D    0\n",
       "diff_ts_listen_AND_release_date_M    0\n",
       "diff_ts_listen_AND_release_date_Y    0\n",
       "release_date_DAY                     0\n",
       "release_date_MONTH                   0\n",
       "release_date_YEAR                    0\n",
       "diff_user_song_age                   0\n",
       "media_decade                         0\n",
       "media_bpm                            0\n",
       "media_rank                           0\n",
       "artist_albuns                        0\n",
       "artist_fans                          0\n",
       "artist_radio                         0\n",
       "user_id_id                           0\n",
       "platform_name_1                      0\n",
       "platform_name_2                      0\n",
       "platform_family_1                    0\n",
       "platform_family_2                    0\n",
       "user_gender_1                        0\n",
       "user_age_group_1                     0\n",
       "user_age_group_2                     0\n",
       "ts_listen_DAY_OF_WEEK_1              0\n",
       "ts_listen_DAY_OF_WEEK_2              0\n",
       "ts_listen_DAY_OF_WEEK_3              0\n",
       "ts_listen_DAY_OF_WEEK_4              0\n",
       "ts_listen_DAY_OF_WEEK_5              0\n",
       "ts_listen_DAY_OF_WEEK_6              0\n",
       "ts_listen_PERIOD_OF_DAY_1            0\n",
       "ts_listen_PERIOD_OF_DAY_2            0\n",
       "ts_listen_PERIOD_OF_DAY_3            0\n",
       "dtype: int64"
      ]
     },
     "execution_count": 14,
     "metadata": {},
     "output_type": "execute_result"
    }
   ],
   "source": [
    "df_test = df_test.fillna(df_train.mean())\n",
    "pd.isnull(df_test).sum()"
   ]
  },
  {
   "cell_type": "code",
   "execution_count": 7,
   "metadata": {
    "autoscroll": "json-false",
    "collapsed": false,
    "deletable": true,
    "editable": true,
    "ein.tags": [
     "worksheet-0"
    ],
    "slideshow": {
     "slide_type": "-"
    }
   },
   "outputs": [
    {
     "name": "stderr",
     "output_type": "stream",
     "text": [
      "/home/ubuntu/anaconda3/envs/ml/lib/python2.7/site-packages/sklearn/feature_selection/univariate_selection.py:113: UserWarning: Features [19] are constant.\n",
      "  UserWarning)\n",
      "/home/ubuntu/anaconda3/envs/ml/lib/python2.7/site-packages/sklearn/feature_selection/univariate_selection.py:114: RuntimeWarning: invalid value encountered in divide\n",
      "  f = msb / msw\n"
     ]
    },
    {
     "name": "stdout",
     "output_type": "stream",
     "text": [
      "31 selected variables from 34, 91.18%\n",
      "['genre_id', 'media_id', 'context_type', 'media_duration', 'listen_type', 'user_id', 'user_age', 'diff_ts_listen_AND_release_date_D', 'diff_ts_listen_AND_release_date_M', 'diff_ts_listen_AND_release_date_Y', 'release_date_YEAR', 'diff_user_song_age', 'media_decade', 'platform_name_1', 'platform_name_2', 'platform_family_1', 'platform_family_2', 'artist_albuns', 'artist_fans', 'media_bpm', 'media_rank', 'user_gender_1', 'user_age_group_1', 'user_age_group_2', 'ts_listen_DAY_OF_WEEK_1', 'ts_listen_DAY_OF_WEEK_4', 'ts_listen_DAY_OF_WEEK_5', 'ts_listen_DAY_OF_WEEK_6', 'ts_listen_PERIOD_OF_DAY_1', 'ts_listen_PERIOD_OF_DAY_2', 'ts_listen_PERIOD_OF_DAY_3']\n"
     ]
    }
   ],
   "source": [
    "from sklearn.model_selection import train_test_split\n",
    "X_train, X_test, y_train, y_test = train_test_split(df_train[features], df_train[target], test_size = 0.2)\n",
    "\n",
    "from sklearn import feature_selection\n",
    "all_features = features\n",
    "function_rule_selection = feature_selection.f_classif\n",
    "alpha_cutoff = 0.01\n",
    "\n",
    "selection_rule = feature_selection.SelectFdr(function_rule_selection, alpha_cutoff)\n",
    "selection_rule.fit(X_train, y_train);\n",
    "\n",
    "all_pvalues = list(filter(lambda x: pd.notnull(x[0]), zip(selection_rule.pvalues_, all_features)))\n",
    "#print(all_pvalues)\n",
    "filtered_pvalues = list(filter(lambda x: x[0]<=alpha_cutoff, all_pvalues))\n",
    "#print(filtered_pvalues)\n",
    "all_select_features = list(map(lambda x: x[1], filtered_pvalues))\n",
    "\n",
    "print(\"{0} selected variables from {1}, {2:.2f}%\".format(len(all_select_features), \n",
    "                                                        len(all_features), \n",
    "                                                        len(filtered_pvalues)*100/float(len(all_features))))\n",
    "print(all_select_features)\n",
    "#print(filtered_pvalues)\n",
    "\n",
    "features = all_select_features\n",
    "X_train, X_test, y_train, y_test = train_test_split(df_train[features], df_train[target], test_size = 0.2)"
   ]
  },
  {
   "cell_type": "code",
   "execution_count": 8,
   "metadata": {
    "autoscroll": "json-false",
    "collapsed": false,
    "deletable": true,
    "editable": true,
    "ein.tags": [
     "worksheet-0"
    ],
    "slideshow": {
     "slide_type": "-"
    }
   },
   "outputs": [
    {
     "data": {
      "text/plain": [
       "0.76559899561042599"
      ]
     },
     "execution_count": 8,
     "metadata": {},
     "output_type": "execute_result"
    }
   ],
   "source": [
    "from sklearn.ensemble import RandomForestClassifier\n",
    "\n",
    "model = RandomForestClassifier(n_jobs=4)\n",
    "model.fit(X_train, y_train)\n",
    "model.score(X_test, y_test)"
   ]
  },
  {
   "cell_type": "code",
   "execution_count": 9,
   "metadata": {
    "collapsed": true,
    "deletable": true,
    "editable": true
   },
   "outputs": [],
   "source": [
    "### 0.7678"
   ]
  },
  {
   "cell_type": "code",
   "execution_count": 10,
   "metadata": {
    "collapsed": false,
    "deletable": true,
    "editable": true
   },
   "outputs": [],
   "source": [
    "#df_test[df_test[\"user_id\"].isin(user_for_general_model)].head()"
   ]
  },
  {
   "cell_type": "code",
   "execution_count": 15,
   "metadata": {
    "autoscroll": "json-false",
    "collapsed": false,
    "deletable": true,
    "editable": true,
    "ein.tags": [
     "worksheet-0"
    ],
    "slideshow": {
     "slide_type": "-"
    }
   },
   "outputs": [
    {
     "data": {
      "text/plain": [
       "140    0.8\n",
       "266    0.3\n",
       "321    1.0\n",
       "326    0.1\n",
       "363    0.8\n",
       "Name: prediction, dtype: float64"
      ]
     },
     "execution_count": 15,
     "metadata": {},
     "output_type": "execute_result"
    }
   ],
   "source": [
    "df_test_group_2 = df_test #[df_test[\"user_id\"].isin(user_for_general_model)].copy(deep=True)\n",
    "p = model.predict_proba(df_test_group_2[features])\n",
    "p = p[:, 1]\n",
    "df_test_group_2[\"prediction\"] = p\n",
    "df_test_group_2[\"prediction\"].head()"
   ]
  },
  {
   "cell_type": "code",
   "execution_count": 16,
   "metadata": {
    "autoscroll": "json-false",
    "collapsed": false,
    "deletable": true,
    "editable": true,
    "ein.tags": [
     "worksheet-0"
    ],
    "slideshow": {
     "slide_type": "-"
    }
   },
   "outputs": [],
   "source": [
    "df_test_group_2[[\"user_id_id\", \"prediction\"]].to_csv(\"group2.csv\")"
   ]
  },
  {
   "cell_type": "code",
   "execution_count": 17,
   "metadata": {
    "collapsed": true,
    "deletable": true,
    "editable": true
   },
   "outputs": [],
   "source": [
    "df_test_group_1 = pd.read_csv(\"group1.csv\", index_col=\"user_id_id\")\n",
    "df_test_group_2 = pd.read_csv(\"group2.csv\", index_col=\"user_id_id\")"
   ]
  },
  {
   "cell_type": "code",
   "execution_count": 18,
   "metadata": {
    "autoscroll": "json-false",
    "collapsed": false,
    "deletable": true,
    "editable": true,
    "ein.tags": [
     "worksheet-0"
    ],
    "slideshow": {
     "slide_type": "-"
    }
   },
   "outputs": [],
   "source": [
    "df_test = pd.read_csv(\"../data/test_data4.csv\")\n",
    "#df_test = df_test[\"user_id\"]\n",
    "#df_test[\"user_id_id\"] = df_test[\"user_id\"]\n",
    "# df_test = pd.merge(df_test, df_test_group_1[[\"user_id\", \"prediction\"]], on=\"user_id\")\n",
    "# df_test = pd.merge(df_test, df_test_group_2[[\"user_id\", \"prediction\"]], on=\"user_id\")\n",
    "df_test = pd.merge(df_test, df_test_group_1[[\"prediction\"]], left_on=\"user_id\", right_index=True, how=\"outer\")\n",
    "#df_test.join(df_test_group_2[[\"prediction\"]])\n",
    "df_test = pd.merge(df_test, df_test_group_2[[\"prediction\"]], left_on=\"user_id\", right_index=True, how=\"outer\")"
   ]
  },
  {
   "cell_type": "code",
   "execution_count": 19,
   "metadata": {
    "collapsed": false,
    "deletable": true,
    "editable": true
   },
   "outputs": [
    {
     "name": "stdout",
     "output_type": "stream",
     "text": [
      "19666\n",
      "252\n",
      "19918\n"
     ]
    }
   ],
   "source": [
    "print(len(df_test_group_1))\n",
    "print(len(df_test_group_2))\n",
    "print(len(df_test))"
   ]
  },
  {
   "cell_type": "code",
   "execution_count": 20,
   "metadata": {
    "collapsed": false,
    "deletable": true,
    "editable": true
   },
   "outputs": [],
   "source": [
    "#pd.set_option(\"precision\", 10)\n",
    "#df_test_group_2[[\"user_id\", \"prediction\"]].head()\n",
    "a = pd.read_csv(\"../data/test_data4.csv\")"
   ]
  },
  {
   "cell_type": "code",
   "execution_count": 21,
   "metadata": {
    "collapsed": false,
    "deletable": true,
    "editable": true
   },
   "outputs": [
    {
     "data": {
      "text/plain": [
       "0    17698\n",
       "1    10525\n",
       "2     8716\n",
       "3     5443\n",
       "4     7600\n",
       "Name: user_id, dtype: int64"
      ]
     },
     "execution_count": 21,
     "metadata": {},
     "output_type": "execute_result"
    }
   ],
   "source": [
    "a[\"user_id\"].head()"
   ]
  },
  {
   "cell_type": "code",
   "execution_count": 22,
   "metadata": {
    "collapsed": false,
    "deletable": true,
    "editable": true
   },
   "outputs": [
    {
     "data": {
      "text/html": [
       "<div>\n",
       "<table border=\"1\" class=\"dataframe\">\n",
       "  <thead>\n",
       "    <tr style=\"text-align: right;\">\n",
       "      <th></th>\n",
       "      <th>Unnamed: 0</th>\n",
       "      <th>Unnamed: 0.1</th>\n",
       "      <th>sample_id</th>\n",
       "      <th>genre_id</th>\n",
       "      <th>ts_listen</th>\n",
       "      <th>media_id</th>\n",
       "      <th>album_id</th>\n",
       "      <th>context_type</th>\n",
       "      <th>release_date</th>\n",
       "      <th>platform_name</th>\n",
       "      <th>...</th>\n",
       "      <th>user_age_group</th>\n",
       "      <th>diff_user_song_age</th>\n",
       "      <th>media_decade</th>\n",
       "      <th>media_bpm</th>\n",
       "      <th>media_rank</th>\n",
       "      <th>artist_albuns</th>\n",
       "      <th>artist_fans</th>\n",
       "      <th>artist_radio</th>\n",
       "      <th>prediction_x</th>\n",
       "      <th>prediction_y</th>\n",
       "    </tr>\n",
       "  </thead>\n",
       "  <tbody>\n",
       "    <tr>\n",
       "      <th>0</th>\n",
       "      <td>0</td>\n",
       "      <td>0</td>\n",
       "      <td>0</td>\n",
       "      <td>50</td>\n",
       "      <td>2016-11-02 14:32:51</td>\n",
       "      <td>683078</td>\n",
       "      <td>82356</td>\n",
       "      <td>1</td>\n",
       "      <td>2002-10-08 00:00:00</td>\n",
       "      <td>0</td>\n",
       "      <td>...</td>\n",
       "      <td>2</td>\n",
       "      <td>15.920548</td>\n",
       "      <td>7</td>\n",
       "      <td>181.0</td>\n",
       "      <td>293191.0</td>\n",
       "      <td>25.0</td>\n",
       "      <td>31649.0</td>\n",
       "      <td>1.0</td>\n",
       "      <td>0.9</td>\n",
       "      <td>NaN</td>\n",
       "    </tr>\n",
       "    <tr>\n",
       "      <th>1</th>\n",
       "      <td>1</td>\n",
       "      <td>1</td>\n",
       "      <td>1</td>\n",
       "      <td>2744</td>\n",
       "      <td>2016-11-16 15:25:40</td>\n",
       "      <td>876497</td>\n",
       "      <td>99692</td>\n",
       "      <td>1</td>\n",
       "      <td>1985-12-31 00:00:00</td>\n",
       "      <td>0</td>\n",
       "      <td>...</td>\n",
       "      <td>2</td>\n",
       "      <td>-2.898630</td>\n",
       "      <td>5</td>\n",
       "      <td>88.0</td>\n",
       "      <td>743839.0</td>\n",
       "      <td>10.0</td>\n",
       "      <td>585650.0</td>\n",
       "      <td>1.0</td>\n",
       "      <td>0.6</td>\n",
       "      <td>NaN</td>\n",
       "    </tr>\n",
       "    <tr>\n",
       "      <th>2</th>\n",
       "      <td>2</td>\n",
       "      <td>2</td>\n",
       "      <td>2</td>\n",
       "      <td>2744</td>\n",
       "      <td>2016-11-19 07:06:01</td>\n",
       "      <td>876497</td>\n",
       "      <td>99692</td>\n",
       "      <td>1</td>\n",
       "      <td>1985-12-31 00:00:00</td>\n",
       "      <td>0</td>\n",
       "      <td>...</td>\n",
       "      <td>2</td>\n",
       "      <td>-3.906849</td>\n",
       "      <td>5</td>\n",
       "      <td>88.0</td>\n",
       "      <td>743839.0</td>\n",
       "      <td>10.0</td>\n",
       "      <td>585650.0</td>\n",
       "      <td>1.0</td>\n",
       "      <td>0.5</td>\n",
       "      <td>NaN</td>\n",
       "    </tr>\n",
       "    <tr>\n",
       "      <th>3</th>\n",
       "      <td>3</td>\n",
       "      <td>3</td>\n",
       "      <td>3</td>\n",
       "      <td>2744</td>\n",
       "      <td>2016-11-06 16:42:09</td>\n",
       "      <td>876500</td>\n",
       "      <td>99692</td>\n",
       "      <td>1</td>\n",
       "      <td>1985-12-31 00:00:00</td>\n",
       "      <td>2</td>\n",
       "      <td>...</td>\n",
       "      <td>2</td>\n",
       "      <td>-0.871233</td>\n",
       "      <td>5</td>\n",
       "      <td>107.0</td>\n",
       "      <td>630042.0</td>\n",
       "      <td>10.0</td>\n",
       "      <td>585650.0</td>\n",
       "      <td>1.0</td>\n",
       "      <td>0.5</td>\n",
       "      <td>NaN</td>\n",
       "    </tr>\n",
       "    <tr>\n",
       "      <th>4</th>\n",
       "      <td>4</td>\n",
       "      <td>4</td>\n",
       "      <td>4</td>\n",
       "      <td>2744</td>\n",
       "      <td>2016-11-29 17:42:40</td>\n",
       "      <td>876504</td>\n",
       "      <td>99692</td>\n",
       "      <td>1</td>\n",
       "      <td>1985-12-31 00:00:00</td>\n",
       "      <td>2</td>\n",
       "      <td>...</td>\n",
       "      <td>2</td>\n",
       "      <td>-1.934247</td>\n",
       "      <td>5</td>\n",
       "      <td>110.0</td>\n",
       "      <td>372256.0</td>\n",
       "      <td>10.0</td>\n",
       "      <td>585650.0</td>\n",
       "      <td>1.0</td>\n",
       "      <td>0.9</td>\n",
       "      <td>NaN</td>\n",
       "    </tr>\n",
       "  </tbody>\n",
       "</table>\n",
       "<p>5 rows × 37 columns</p>\n",
       "</div>"
      ],
      "text/plain": [
       "   Unnamed: 0  Unnamed: 0.1  sample_id  genre_id            ts_listen  \\\n",
       "0           0             0          0        50  2016-11-02 14:32:51   \n",
       "1           1             1          1      2744  2016-11-16 15:25:40   \n",
       "2           2             2          2      2744  2016-11-19 07:06:01   \n",
       "3           3             3          3      2744  2016-11-06 16:42:09   \n",
       "4           4             4          4      2744  2016-11-29 17:42:40   \n",
       "\n",
       "   media_id  album_id  context_type         release_date  platform_name  \\\n",
       "0    683078     82356             1  2002-10-08 00:00:00              0   \n",
       "1    876497     99692             1  1985-12-31 00:00:00              0   \n",
       "2    876497     99692             1  1985-12-31 00:00:00              0   \n",
       "3    876500     99692             1  1985-12-31 00:00:00              2   \n",
       "4    876504     99692             1  1985-12-31 00:00:00              2   \n",
       "\n",
       "       ...       user_age_group  diff_user_song_age  media_decade  media_bpm  \\\n",
       "0      ...                    2           15.920548             7      181.0   \n",
       "1      ...                    2           -2.898630             5       88.0   \n",
       "2      ...                    2           -3.906849             5       88.0   \n",
       "3      ...                    2           -0.871233             5      107.0   \n",
       "4      ...                    2           -1.934247             5      110.0   \n",
       "\n",
       "   media_rank  artist_albuns  artist_fans artist_radio  prediction_x  \\\n",
       "0    293191.0           25.0      31649.0          1.0           0.9   \n",
       "1    743839.0           10.0     585650.0          1.0           0.6   \n",
       "2    743839.0           10.0     585650.0          1.0           0.5   \n",
       "3    630042.0           10.0     585650.0          1.0           0.5   \n",
       "4    372256.0           10.0     585650.0          1.0           0.9   \n",
       "\n",
       "   prediction_y  \n",
       "0           NaN  \n",
       "1           NaN  \n",
       "2           NaN  \n",
       "3           NaN  \n",
       "4           NaN  \n",
       "\n",
       "[5 rows x 37 columns]"
      ]
     },
     "execution_count": 22,
     "metadata": {},
     "output_type": "execute_result"
    }
   ],
   "source": [
    "df_test.head()"
   ]
  },
  {
   "cell_type": "code",
   "execution_count": 23,
   "metadata": {
    "collapsed": true,
    "deletable": true,
    "editable": true
   },
   "outputs": [],
   "source": [
    "df_test[\"prediction_x\"].fillna(0, inplace=True)\n",
    "df_test[\"prediction_y\"].fillna(0, inplace=True)\n",
    "df_test[\"prediction\"] = df_test[\"prediction_x\"] + df_test[\"prediction_y\"]"
   ]
  },
  {
   "cell_type": "code",
   "execution_count": 24,
   "metadata": {
    "collapsed": false,
    "deletable": true,
    "editable": true
   },
   "outputs": [
    {
     "data": {
      "text/plain": [
       "0    0.9\n",
       "1    0.6\n",
       "2    0.5\n",
       "3    0.5\n",
       "4    0.9\n",
       "Name: prediction, dtype: float64"
      ]
     },
     "execution_count": 24,
     "metadata": {},
     "output_type": "execute_result"
    }
   ],
   "source": [
    "df_test[\"prediction\"].head()"
   ]
  },
  {
   "cell_type": "code",
   "execution_count": 25,
   "metadata": {
    "collapsed": false,
    "deletable": true,
    "editable": true
   },
   "outputs": [
    {
     "data": {
      "text/plain": [
       "0.90000000000000002"
      ]
     },
     "execution_count": 25,
     "metadata": {},
     "output_type": "execute_result"
    }
   ],
   "source": [
    "df_test.ix[8716][\"prediction\"]"
   ]
  },
  {
   "cell_type": "code",
   "execution_count": 26,
   "metadata": {
    "collapsed": false,
    "deletable": true,
    "editable": true
   },
   "outputs": [
    {
     "data": {
      "text/plain": [
       "array([ 0.9,  0.6,  0.5,  0.5,  0.9])"
      ]
     },
     "execution_count": 26,
     "metadata": {},
     "output_type": "execute_result"
    }
   ],
   "source": [
    "df_test[\"prediction\"].values[:5]"
   ]
  },
  {
   "cell_type": "code",
   "execution_count": 27,
   "metadata": {
    "collapsed": false,
    "deletable": true,
    "editable": true
   },
   "outputs": [
    {
     "data": {
      "text/plain": [
       "19918"
      ]
     },
     "execution_count": 27,
     "metadata": {},
     "output_type": "execute_result"
    }
   ],
   "source": [
    "len(df_test)"
   ]
  },
  {
   "cell_type": "code",
   "execution_count": 28,
   "metadata": {
    "collapsed": false,
    "deletable": true,
    "editable": true
   },
   "outputs": [
    {
     "data": {
      "text/plain": [
       "0"
      ]
     },
     "execution_count": 28,
     "metadata": {},
     "output_type": "execute_result"
    }
   ],
   "source": [
    "(df_test[\"prediction\"] > 1.0).sum()"
   ]
  },
  {
   "cell_type": "code",
   "execution_count": 29,
   "metadata": {
    "collapsed": false,
    "deletable": true,
    "editable": true
   },
   "outputs": [
    {
     "data": {
      "text/plain": [
       "0"
      ]
     },
     "execution_count": 29,
     "metadata": {},
     "output_type": "execute_result"
    }
   ],
   "source": [
    "pd.isnull(df_test[\"prediction_y\"]).sum()"
   ]
  },
  {
   "cell_type": "code",
   "execution_count": 30,
   "metadata": {
    "collapsed": true,
    "deletable": true,
    "editable": true
   },
   "outputs": [],
   "source": [
    "#df_test[\"prediction\"] = df_test[\"prediction\"].apply(lambda x : 1 if x > 1 else x)"
   ]
  },
  {
   "cell_type": "code",
   "execution_count": 31,
   "metadata": {
    "autoscroll": "json-false",
    "collapsed": false,
    "deletable": true,
    "editable": true,
    "ein.tags": [
     "worksheet-0"
    ],
    "slideshow": {
     "slide_type": "-"
    }
   },
   "outputs": [],
   "source": [
    "import gzip\n",
    "import csv\n",
    "import numpy as np\n",
    "\n",
    "def build_kaggle_submission(preds, filename=\"my_submission\"):\n",
    "    \"\"\"\n",
    "    Build a compressed Kaggle Submission\n",
    "    \n",
    "    preds: array with predictions\n",
    "    \"\"\"\n",
    "    with gzip.open(filename + '.csv.gz', 'wt') as outf:\n",
    "        fo = csv.writer(outf, lineterminator='\\n')\n",
    "        fo.writerow([\"sample_id\", \"is_listened\"])       \n",
    "        for i, pred in enumerate(preds):\n",
    "            fo.writerow([i, pred])"
   ]
  },
  {
   "cell_type": "code",
   "execution_count": 32,
   "metadata": {
    "autoscroll": "json-false",
    "collapsed": false,
    "deletable": true,
    "editable": true,
    "ein.tags": [
     "worksheet-0"
    ],
    "slideshow": {
     "slide_type": "-"
    }
   },
   "outputs": [],
   "source": [
    "#p = model.predict_proba(df_test[features])\n",
    "#p = p[:, 1]\n",
    "p = df_test[\"prediction\"].values"
   ]
  },
  {
   "cell_type": "code",
   "execution_count": 33,
   "metadata": {
    "autoscroll": "json-false",
    "collapsed": false,
    "deletable": true,
    "editable": true,
    "ein.tags": [
     "worksheet-0"
    ],
    "slideshow": {
     "slide_type": "-"
    }
   },
   "outputs": [],
   "source": [
    "build_kaggle_submission(p, \"note12_0\")"
   ]
  },
  {
   "cell_type": "code",
   "execution_count": 34,
   "metadata": {
    "autoscroll": "json-false",
    "collapsed": false,
    "deletable": true,
    "editable": true,
    "ein.tags": [
     "worksheet-0"
    ],
    "slideshow": {
     "slide_type": "-"
    }
   },
   "outputs": [
    {
     "name": "stdout",
     "output_type": "stream",
     "text": [
      "1572.23404\n",
      "9.560672\n",
      "6.4e-05\n"
     ]
    }
   ],
   "source": [
    "import sys\n",
    "print(sys.getsizeof(df_train) / 1e6)\n",
    "print(sys.getsizeof(df_test) / 1e6)\n",
    "print(sys.getsizeof(model) / 1e6)"
   ]
  },
  {
   "cell_type": "code",
   "execution_count": 35,
   "metadata": {
    "collapsed": false,
    "deletable": true,
    "editable": true
   },
   "outputs": [
    {
     "name": "stdout",
     "output_type": "stream",
     "text": [
      "0-EDA.ipynb\r\n",
      "10 - XGBoost + Threshold + data_4.ipynb\r\n",
      "1 - First Model.ipynb\r\n",
      "2_models_user_groups.csv.gz\r\n",
      "2 - Simple Model + Features.ipynb\r\n",
      "3 - Simple Model + User Specific.ipynb\r\n",
      "4 - XGBoost + User Specific.ipynb\r\n",
      "5 - XGBoost + Feature Selection.ipynb\r\n",
      "6 - Simple Model + User Specific + Some fixes.ipynb\r\n",
      "7 - Simple Model + User Specific + 2 models-Copy1.ipynb\r\n",
      "7 - Simple Model + User Specific + 2 models.ipynb\r\n",
      "8 - Deezer_API_features.ipynb\r\n",
      "8 - Simple Model + User Specific + 2 models thresholds.ipynb\r\n",
      "9 - Simple Model + Threshold + data_4.ipynb\r\n",
      "Construindo Funcoes pro DataGame.ipynb\r\n",
      "Feature Engineering.ipynb\r\n",
      "Feature Engineering - User Specific.ipynb\r\n",
      "features.py\r\n",
      "group1.csv\r\n",
      "group2.csv\r\n",
      "img\r\n",
      "nmidia_feats.csv\r\n",
      "__pycache__\r\n",
      "qtd_musicas_diferentes_flow_noflow.csv\r\n",
      "rand_2m_data4_2.csv.gz\r\n",
      "rand_2m_data4.csv.gz\r\n",
      "rand_2_models.csv.gz\r\n",
      "rand_2_models_fix.csv.gz\r\n",
      "rand_2_models_threshold_15.csv.gz\r\n",
      "rand_2_models_threshold_1.csv.gz\r\n",
      "rand_2_models_threshold_2.csv.gz\r\n",
      "rand_2_models_threshold_30.csv.gz\r\n",
      "rand_2_models_threshold_5.csv.gz\r\n",
      "rand_all_data_m2.csv.gz\r\n",
      "rand_test.csv.gz\r\n",
      "submissions\r\n",
      "Untitled.ipynb\r\n",
      "XGBoost.ipynb\r\n"
     ]
    }
   ],
   "source": [
    "!ls"
   ]
  },
  {
   "cell_type": "code",
   "execution_count": null,
   "metadata": {
    "collapsed": true,
    "deletable": true,
    "editable": true
   },
   "outputs": [],
   "source": []
  },
  {
   "cell_type": "code",
   "execution_count": null,
   "metadata": {
    "collapsed": true,
    "deletable": true,
    "editable": true
   },
   "outputs": [],
   "source": []
  },
  {
   "cell_type": "code",
   "execution_count": null,
   "metadata": {
    "collapsed": true,
    "deletable": true,
    "editable": true
   },
   "outputs": [],
   "source": []
  },
  {
   "cell_type": "code",
   "execution_count": null,
   "metadata": {
    "collapsed": true,
    "deletable": true,
    "editable": true
   },
   "outputs": [],
   "source": []
  },
  {
   "cell_type": "code",
   "execution_count": null,
   "metadata": {
    "collapsed": true,
    "deletable": true,
    "editable": true
   },
   "outputs": [],
   "source": []
  }
 ],
 "metadata": {
  "kernelspec": {
   "display_name": "Python 2",
   "language": "python",
   "name": "python2"
  },
  "language_info": {
   "codemirror_mode": {
    "name": "ipython",
    "version": 2
   },
   "file_extension": ".py",
   "mimetype": "text/x-python",
   "name": "python",
   "nbconvert_exporter": "python",
   "pygments_lexer": "ipython2",
   "version": "2.7.13"
  },
  "name": "6 - Simple Model + User Specific + 2 models.ipynb"
 },
 "nbformat": 4,
 "nbformat_minor": 2
}
