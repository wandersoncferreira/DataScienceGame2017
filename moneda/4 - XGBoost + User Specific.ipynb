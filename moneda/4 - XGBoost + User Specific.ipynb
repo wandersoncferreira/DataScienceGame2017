{
 "cells": [
  {
   "cell_type": "markdown",
   "metadata": {
    "deletable": true,
    "editable": true
   },
   "source": [
    "### Data Science Game 2017\n",
    "\n",
    "Data fields\n",
    "\n",
    "    media_id - identifiant of the song listened by the user\n",
    "    album_id - identifiant of the album of the song\n",
    "    media_duration - duration of the song\n",
    "    user_gender -  gender of the user\n",
    "    user_id -  anonymized id of the user\n",
    "    context_type - type of content where the song was listened: playlist, album ...\n",
    "    release_date - release date of the song with the format YYYYMMDD\n",
    "    ts_listen - timestamp of the listening in UNIX time\n",
    "    platform_name - type of os\n",
    "    platform_family - type of device\n",
    "    user_age - age of the user\n",
    "    listen_type - if the songs was listened in a flow or not\n",
    "    artist_id - identifiant of the artist of the song\n",
    "    genre_id - identifiant of the genre of the song\n",
    "    is_listened - 1 if the track was listened, 0 otherwise\n"
   ]
  },
  {
   "cell_type": "code",
   "execution_count": 62,
   "metadata": {
    "collapsed": false
   },
   "outputs": [],
   "source": [
    "import numpy as np \n",
    "import pandas as pd"
   ]
  },
  {
   "cell_type": "code",
   "execution_count": 216,
   "metadata": {
    "collapsed": false,
    "deletable": true,
    "editable": true
   },
   "outputs": [],
   "source": [
    "df_train = pd.read_csv(\"../data/train_data3.csv\", nrows=300000)\n",
    "df_test = pd.read_csv(\"../data/test_data3.csv\")"
   ]
  },
  {
   "cell_type": "markdown",
   "metadata": {
    "deletable": true,
    "editable": true
   },
   "source": [
    "### Arrumando coisas que vieram erradas"
   ]
  },
  {
   "cell_type": "code",
   "execution_count": 217,
   "metadata": {
    "collapsed": false,
    "deletable": true,
    "editable": true
   },
   "outputs": [],
   "source": [
    "df_test = df_test.set_value(df_test[df_test[\"listen_type\"] == 0].index, \"listen_type\", 1)"
   ]
  },
  {
   "cell_type": "code",
   "execution_count": 218,
   "metadata": {
    "collapsed": false,
    "deletable": true,
    "editable": true
   },
   "outputs": [
    {
     "data": {
      "text/plain": [
       "Index([u'Unnamed: 0', u'genre_id', u'ts_listen', u'media_id', u'album_id',\n",
       "       u'context_type', u'release_date', u'platform_name', u'platform_family',\n",
       "       u'media_duration', u'listen_type', u'user_gender', u'user_id',\n",
       "       u'artist_id', u'user_age', u'is_listened', u'text', u'year',\n",
       "       u'diff_ts_listen_AND_release_date_D',\n",
       "       u'diff_ts_listen_AND_release_date_M',\n",
       "       u'diff_ts_listen_AND_release_date_Y', u'release_date_DAY',\n",
       "       u'release_date_MONTH', u'release_date_YEAR', u'ts_listen_DAY_OF_WEEK',\n",
       "       u'ts_listen_PERIOD_OF_DAY', u'user_age_group', u'diff_user_song_age',\n",
       "       u'media_decade'],\n",
       "      dtype='object')"
      ]
     },
     "execution_count": 218,
     "metadata": {},
     "output_type": "execute_result"
    }
   ],
   "source": [
    "df_train.columns"
   ]
  },
  {
   "cell_type": "code",
   "execution_count": 219,
   "metadata": {
    "collapsed": false,
    "deletable": true,
    "editable": true
   },
   "outputs": [
    {
     "data": {
      "text/html": [
       "<div>\n",
       "<table border=\"1\" class=\"dataframe\">\n",
       "  <thead>\n",
       "    <tr style=\"text-align: right;\">\n",
       "      <th></th>\n",
       "      <th>genre_id</th>\n",
       "      <th>ts_listen</th>\n",
       "      <th>media_id</th>\n",
       "      <th>album_id</th>\n",
       "      <th>context_type</th>\n",
       "      <th>release_date</th>\n",
       "      <th>platform_name</th>\n",
       "      <th>platform_family</th>\n",
       "      <th>media_duration</th>\n",
       "      <th>listen_type</th>\n",
       "      <th>...</th>\n",
       "      <th>diff_ts_listen_AND_release_date_M</th>\n",
       "      <th>diff_ts_listen_AND_release_date_Y</th>\n",
       "      <th>release_date_DAY</th>\n",
       "      <th>release_date_MONTH</th>\n",
       "      <th>release_date_YEAR</th>\n",
       "      <th>ts_listen_DAY_OF_WEEK</th>\n",
       "      <th>ts_listen_PERIOD_OF_DAY</th>\n",
       "      <th>user_age_group</th>\n",
       "      <th>diff_user_song_age</th>\n",
       "      <th>media_decade</th>\n",
       "    </tr>\n",
       "  </thead>\n",
       "  <tbody>\n",
       "    <tr>\n",
       "      <th>0</th>\n",
       "      <td>25471</td>\n",
       "      <td>2016-12-01 11:00:15</td>\n",
       "      <td>222606</td>\n",
       "      <td>41774</td>\n",
       "      <td>12</td>\n",
       "      <td>2004-07-04 00:00:00</td>\n",
       "      <td>1</td>\n",
       "      <td>0</td>\n",
       "      <td>4.0</td>\n",
       "      <td>0</td>\n",
       "      <td>...</td>\n",
       "      <td>151.100000</td>\n",
       "      <td>12.419178</td>\n",
       "      <td>4</td>\n",
       "      <td>7</td>\n",
       "      <td>2004</td>\n",
       "      <td>3</td>\n",
       "      <td>0</td>\n",
       "      <td>2</td>\n",
       "      <td>16.580822</td>\n",
       "      <td>7</td>\n",
       "    </tr>\n",
       "    <tr>\n",
       "      <th>1</th>\n",
       "      <td>25571</td>\n",
       "      <td>2016-11-30 20:25:35</td>\n",
       "      <td>250467</td>\n",
       "      <td>43941</td>\n",
       "      <td>0</td>\n",
       "      <td>2006-03-01 00:00:00</td>\n",
       "      <td>2</td>\n",
       "      <td>1</td>\n",
       "      <td>3.0</td>\n",
       "      <td>0</td>\n",
       "      <td>...</td>\n",
       "      <td>130.900000</td>\n",
       "      <td>10.758904</td>\n",
       "      <td>1</td>\n",
       "      <td>3</td>\n",
       "      <td>2006</td>\n",
       "      <td>2</td>\n",
       "      <td>2</td>\n",
       "      <td>2</td>\n",
       "      <td>19.241096</td>\n",
       "      <td>7</td>\n",
       "    </tr>\n",
       "    <tr>\n",
       "      <th>2</th>\n",
       "      <td>16</td>\n",
       "      <td>2016-11-19 11:59:13</td>\n",
       "      <td>305197</td>\n",
       "      <td>48078</td>\n",
       "      <td>1</td>\n",
       "      <td>2014-07-14 00:00:00</td>\n",
       "      <td>2</td>\n",
       "      <td>1</td>\n",
       "      <td>2.0</td>\n",
       "      <td>1</td>\n",
       "      <td>...</td>\n",
       "      <td>28.633333</td>\n",
       "      <td>2.353425</td>\n",
       "      <td>14</td>\n",
       "      <td>7</td>\n",
       "      <td>2014</td>\n",
       "      <td>5</td>\n",
       "      <td>0</td>\n",
       "      <td>2</td>\n",
       "      <td>26.646575</td>\n",
       "      <td>8</td>\n",
       "    </tr>\n",
       "    <tr>\n",
       "      <th>3</th>\n",
       "      <td>7</td>\n",
       "      <td>2016-11-26 07:21:38</td>\n",
       "      <td>900502</td>\n",
       "      <td>71521</td>\n",
       "      <td>0</td>\n",
       "      <td>2000-10-30 00:00:00</td>\n",
       "      <td>0</td>\n",
       "      <td>0</td>\n",
       "      <td>4.0</td>\n",
       "      <td>0</td>\n",
       "      <td>...</td>\n",
       "      <td>195.700000</td>\n",
       "      <td>16.084932</td>\n",
       "      <td>30</td>\n",
       "      <td>10</td>\n",
       "      <td>2000</td>\n",
       "      <td>5</td>\n",
       "      <td>0</td>\n",
       "      <td>2</td>\n",
       "      <td>13.915068</td>\n",
       "      <td>6</td>\n",
       "    </tr>\n",
       "    <tr>\n",
       "      <th>4</th>\n",
       "      <td>7</td>\n",
       "      <td>2016-11-05 16:02:54</td>\n",
       "      <td>542335</td>\n",
       "      <td>71718</td>\n",
       "      <td>0</td>\n",
       "      <td>2008-02-15 00:00:00</td>\n",
       "      <td>0</td>\n",
       "      <td>0</td>\n",
       "      <td>3.0</td>\n",
       "      <td>0</td>\n",
       "      <td>...</td>\n",
       "      <td>106.200000</td>\n",
       "      <td>8.728767</td>\n",
       "      <td>15</td>\n",
       "      <td>2</td>\n",
       "      <td>2008</td>\n",
       "      <td>5</td>\n",
       "      <td>1</td>\n",
       "      <td>1</td>\n",
       "      <td>15.271233</td>\n",
       "      <td>7</td>\n",
       "    </tr>\n",
       "  </tbody>\n",
       "</table>\n",
       "<p>5 rows × 28 columns</p>\n",
       "</div>"
      ],
      "text/plain": [
       "   genre_id            ts_listen  media_id  album_id  context_type  \\\n",
       "0     25471  2016-12-01 11:00:15    222606     41774            12   \n",
       "1     25571  2016-11-30 20:25:35    250467     43941             0   \n",
       "2        16  2016-11-19 11:59:13    305197     48078             1   \n",
       "3         7  2016-11-26 07:21:38    900502     71521             0   \n",
       "4         7  2016-11-05 16:02:54    542335     71718             0   \n",
       "\n",
       "          release_date  platform_name  platform_family  media_duration  \\\n",
       "0  2004-07-04 00:00:00              1                0             4.0   \n",
       "1  2006-03-01 00:00:00              2                1             3.0   \n",
       "2  2014-07-14 00:00:00              2                1             2.0   \n",
       "3  2000-10-30 00:00:00              0                0             4.0   \n",
       "4  2008-02-15 00:00:00              0                0             3.0   \n",
       "\n",
       "   listen_type      ...       diff_ts_listen_AND_release_date_M  \\\n",
       "0            0      ...                              151.100000   \n",
       "1            0      ...                              130.900000   \n",
       "2            1      ...                               28.633333   \n",
       "3            0      ...                              195.700000   \n",
       "4            0      ...                              106.200000   \n",
       "\n",
       "   diff_ts_listen_AND_release_date_Y  release_date_DAY  release_date_MONTH  \\\n",
       "0                          12.419178                 4                   7   \n",
       "1                          10.758904                 1                   3   \n",
       "2                           2.353425                14                   7   \n",
       "3                          16.084932                30                  10   \n",
       "4                           8.728767                15                   2   \n",
       "\n",
       "   release_date_YEAR ts_listen_DAY_OF_WEEK  ts_listen_PERIOD_OF_DAY  \\\n",
       "0               2004                     3                        0   \n",
       "1               2006                     2                        2   \n",
       "2               2014                     5                        0   \n",
       "3               2000                     5                        0   \n",
       "4               2008                     5                        1   \n",
       "\n",
       "   user_age_group  diff_user_song_age  media_decade  \n",
       "0               2           16.580822             7  \n",
       "1               2           19.241096             7  \n",
       "2               2           26.646575             8  \n",
       "3               2           13.915068             6  \n",
       "4               1           15.271233             7  \n",
       "\n",
       "[5 rows x 28 columns]"
      ]
     },
     "execution_count": 219,
     "metadata": {},
     "output_type": "execute_result"
    }
   ],
   "source": [
    "to_drop = ['Unnamed: 0']\n",
    "df_train.drop(to_drop, axis = 1,inplace=True)\n",
    "df_train.head()"
   ]
  },
  {
   "cell_type": "code",
   "execution_count": 220,
   "metadata": {
    "collapsed": false,
    "deletable": true,
    "editable": true
   },
   "outputs": [
    {
     "data": {
      "text/plain": [
       "Series([], dtype: int64)"
      ]
     },
     "execution_count": 220,
     "metadata": {},
     "output_type": "execute_result"
    }
   ],
   "source": [
    "pd.isnull(df_train).sum()[pd.isnull(df_train).sum() > 0]"
   ]
  },
  {
   "cell_type": "markdown",
   "metadata": {
    "deletable": true,
    "editable": true
   },
   "source": [
    "### Append User Specific"
   ]
  },
  {
   "cell_type": "code",
   "execution_count": 221,
   "metadata": {
    "collapsed": false,
    "deletable": true,
    "editable": true
   },
   "outputs": [
    {
     "data": {
      "text/plain": [
       "array(['user_id', 'nmidia_regular_listened', 'nmidia_with_flow_listened',\n",
       "       'nmidia_regular', 'nmidia_with_flow',\n",
       "       'nmidia_with_flow_listened_PROP', 'nmidia_regular_listened_PROP',\n",
       "       'nmidia_PROP_diff'], dtype=object)"
      ]
     },
     "execution_count": 221,
     "metadata": {},
     "output_type": "execute_result"
    }
   ],
   "source": [
    "df_user = pd.read_csv(\"../data/nmidia_feats.csv\", sep=\";\")\n",
    "pd.isnull(df_user).sum()[pd.isnull(df_user).sum() > 0]\n",
    "#df_user = df_user.drop([\"nmidia_with_flow_listened_PROP\", \"nmidia_regular_listened_PROP\", \"nmidia_PROP_diff\"], axis=1)\n",
    "df_user.columns.values"
   ]
  },
  {
   "cell_type": "code",
   "execution_count": 222,
   "metadata": {
    "collapsed": false,
    "deletable": true,
    "editable": true
   },
   "outputs": [
    {
     "data": {
      "text/plain": [
       "nmidia_with_flow_listened_PROP    3947\n",
       "nmidia_regular_listened_PROP       429\n",
       "nmidia_PROP_diff                  4400\n",
       "dtype: int64"
      ]
     },
     "execution_count": 222,
     "metadata": {},
     "output_type": "execute_result"
    }
   ],
   "source": [
    "pd.isnull(df_user).sum()[pd.isnull(df_user).sum() > 0]"
   ]
  },
  {
   "cell_type": "code",
   "execution_count": 223,
   "metadata": {
    "collapsed": false,
    "deletable": true,
    "editable": true
   },
   "outputs": [
    {
     "data": {
      "text/html": [
       "<div>\n",
       "<table border=\"1\" class=\"dataframe\">\n",
       "  <thead>\n",
       "    <tr style=\"text-align: right;\">\n",
       "      <th></th>\n",
       "      <th>genre_id</th>\n",
       "      <th>ts_listen</th>\n",
       "      <th>media_id</th>\n",
       "      <th>album_id</th>\n",
       "      <th>context_type</th>\n",
       "      <th>release_date</th>\n",
       "      <th>platform_name</th>\n",
       "      <th>platform_family</th>\n",
       "      <th>media_duration</th>\n",
       "      <th>listen_type</th>\n",
       "      <th>...</th>\n",
       "      <th>user_age_group</th>\n",
       "      <th>diff_user_song_age</th>\n",
       "      <th>media_decade</th>\n",
       "      <th>nmidia_regular_listened</th>\n",
       "      <th>nmidia_with_flow_listened</th>\n",
       "      <th>nmidia_regular</th>\n",
       "      <th>nmidia_with_flow</th>\n",
       "      <th>nmidia_with_flow_listened_PROP</th>\n",
       "      <th>nmidia_regular_listened_PROP</th>\n",
       "      <th>nmidia_PROP_diff</th>\n",
       "    </tr>\n",
       "  </thead>\n",
       "  <tbody>\n",
       "    <tr>\n",
       "      <th>0</th>\n",
       "      <td>25471</td>\n",
       "      <td>2016-12-01 11:00:15</td>\n",
       "      <td>222606</td>\n",
       "      <td>41774</td>\n",
       "      <td>12</td>\n",
       "      <td>2004-07-04 00:00:00</td>\n",
       "      <td>1</td>\n",
       "      <td>0</td>\n",
       "      <td>4.0</td>\n",
       "      <td>0</td>\n",
       "      <td>...</td>\n",
       "      <td>2</td>\n",
       "      <td>16.580822</td>\n",
       "      <td>7</td>\n",
       "      <td>41</td>\n",
       "      <td>48</td>\n",
       "      <td>57</td>\n",
       "      <td>71</td>\n",
       "      <td>0.676056</td>\n",
       "      <td>0.719298</td>\n",
       "      <td>0.939883</td>\n",
       "    </tr>\n",
       "    <tr>\n",
       "      <th>1</th>\n",
       "      <td>7</td>\n",
       "      <td>2016-12-01 10:48:50</td>\n",
       "      <td>4301418</td>\n",
       "      <td>400118</td>\n",
       "      <td>9</td>\n",
       "      <td>2009-10-16 00:00:00</td>\n",
       "      <td>1</td>\n",
       "      <td>0</td>\n",
       "      <td>7.0</td>\n",
       "      <td>0</td>\n",
       "      <td>...</td>\n",
       "      <td>2</td>\n",
       "      <td>21.868493</td>\n",
       "      <td>7</td>\n",
       "      <td>41</td>\n",
       "      <td>48</td>\n",
       "      <td>57</td>\n",
       "      <td>71</td>\n",
       "      <td>0.676056</td>\n",
       "      <td>0.719298</td>\n",
       "      <td>0.939883</td>\n",
       "    </tr>\n",
       "    <tr>\n",
       "      <th>2</th>\n",
       "      <td>10</td>\n",
       "      <td>2016-11-30 11:48:22</td>\n",
       "      <td>983248</td>\n",
       "      <td>109347</td>\n",
       "      <td>0</td>\n",
       "      <td>2002-10-21 00:00:00</td>\n",
       "      <td>1</td>\n",
       "      <td>0</td>\n",
       "      <td>3.0</td>\n",
       "      <td>0</td>\n",
       "      <td>...</td>\n",
       "      <td>2</td>\n",
       "      <td>14.879452</td>\n",
       "      <td>7</td>\n",
       "      <td>41</td>\n",
       "      <td>48</td>\n",
       "      <td>57</td>\n",
       "      <td>71</td>\n",
       "      <td>0.676056</td>\n",
       "      <td>0.719298</td>\n",
       "      <td>0.939883</td>\n",
       "    </tr>\n",
       "    <tr>\n",
       "      <th>3</th>\n",
       "      <td>10</td>\n",
       "      <td>2016-12-01 07:18:24</td>\n",
       "      <td>983248</td>\n",
       "      <td>109347</td>\n",
       "      <td>0</td>\n",
       "      <td>2002-10-21 00:00:00</td>\n",
       "      <td>1</td>\n",
       "      <td>0</td>\n",
       "      <td>3.0</td>\n",
       "      <td>0</td>\n",
       "      <td>...</td>\n",
       "      <td>2</td>\n",
       "      <td>14.876712</td>\n",
       "      <td>7</td>\n",
       "      <td>41</td>\n",
       "      <td>48</td>\n",
       "      <td>57</td>\n",
       "      <td>71</td>\n",
       "      <td>0.676056</td>\n",
       "      <td>0.719298</td>\n",
       "      <td>0.939883</td>\n",
       "    </tr>\n",
       "    <tr>\n",
       "      <th>4</th>\n",
       "      <td>10</td>\n",
       "      <td>2016-11-29 09:42:52</td>\n",
       "      <td>983248</td>\n",
       "      <td>109347</td>\n",
       "      <td>1</td>\n",
       "      <td>2002-10-21 00:00:00</td>\n",
       "      <td>1</td>\n",
       "      <td>0</td>\n",
       "      <td>3.0</td>\n",
       "      <td>1</td>\n",
       "      <td>...</td>\n",
       "      <td>2</td>\n",
       "      <td>14.882192</td>\n",
       "      <td>7</td>\n",
       "      <td>41</td>\n",
       "      <td>48</td>\n",
       "      <td>57</td>\n",
       "      <td>71</td>\n",
       "      <td>0.676056</td>\n",
       "      <td>0.719298</td>\n",
       "      <td>0.939883</td>\n",
       "    </tr>\n",
       "  </tbody>\n",
       "</table>\n",
       "<p>5 rows × 35 columns</p>\n",
       "</div>"
      ],
      "text/plain": [
       "   genre_id            ts_listen  media_id  album_id  context_type  \\\n",
       "0     25471  2016-12-01 11:00:15    222606     41774            12   \n",
       "1         7  2016-12-01 10:48:50   4301418    400118             9   \n",
       "2        10  2016-11-30 11:48:22    983248    109347             0   \n",
       "3        10  2016-12-01 07:18:24    983248    109347             0   \n",
       "4        10  2016-11-29 09:42:52    983248    109347             1   \n",
       "\n",
       "          release_date  platform_name  platform_family  media_duration  \\\n",
       "0  2004-07-04 00:00:00              1                0             4.0   \n",
       "1  2009-10-16 00:00:00              1                0             7.0   \n",
       "2  2002-10-21 00:00:00              1                0             3.0   \n",
       "3  2002-10-21 00:00:00              1                0             3.0   \n",
       "4  2002-10-21 00:00:00              1                0             3.0   \n",
       "\n",
       "   listen_type        ...         user_age_group  diff_user_song_age  \\\n",
       "0            0        ...                      2           16.580822   \n",
       "1            0        ...                      2           21.868493   \n",
       "2            0        ...                      2           14.879452   \n",
       "3            0        ...                      2           14.876712   \n",
       "4            1        ...                      2           14.882192   \n",
       "\n",
       "   media_decade  nmidia_regular_listened  nmidia_with_flow_listened  \\\n",
       "0             7                       41                         48   \n",
       "1             7                       41                         48   \n",
       "2             7                       41                         48   \n",
       "3             7                       41                         48   \n",
       "4             7                       41                         48   \n",
       "\n",
       "  nmidia_regular  nmidia_with_flow  nmidia_with_flow_listened_PROP  \\\n",
       "0             57                71                        0.676056   \n",
       "1             57                71                        0.676056   \n",
       "2             57                71                        0.676056   \n",
       "3             57                71                        0.676056   \n",
       "4             57                71                        0.676056   \n",
       "\n",
       "   nmidia_regular_listened_PROP  nmidia_PROP_diff  \n",
       "0                      0.719298          0.939883  \n",
       "1                      0.719298          0.939883  \n",
       "2                      0.719298          0.939883  \n",
       "3                      0.719298          0.939883  \n",
       "4                      0.719298          0.939883  \n",
       "\n",
       "[5 rows x 35 columns]"
      ]
     },
     "execution_count": 223,
     "metadata": {},
     "output_type": "execute_result"
    }
   ],
   "source": [
    "df_train = pd.merge(df_train, df_user, on=\"user_id\")\n",
    "df_test = pd.merge(df_test, df_user, on=\"user_id\")\n",
    "df_train.head()"
   ]
  },
  {
   "cell_type": "code",
   "execution_count": 224,
   "metadata": {
    "collapsed": false,
    "deletable": true,
    "editable": true
   },
   "outputs": [],
   "source": [
    "df_train.replace([np.inf, -np.inf], np.nan, inplace=True)"
   ]
  },
  {
   "cell_type": "markdown",
   "metadata": {
    "deletable": true,
    "editable": true
   },
   "source": [
    "### Check for NA\n",
    "#### Ver depois sobre o user_age_group!"
   ]
  },
  {
   "cell_type": "code",
   "execution_count": 225,
   "metadata": {
    "collapsed": false,
    "deletable": true,
    "editable": true
   },
   "outputs": [
    {
     "data": {
      "text/plain": [
       "nmidia_with_flow_listened_PROP    25125\n",
       "nmidia_regular_listened_PROP       1022\n",
       "nmidia_PROP_diff                  26424\n",
       "dtype: int64"
      ]
     },
     "execution_count": 225,
     "metadata": {},
     "output_type": "execute_result"
    }
   ],
   "source": [
    "pd.isnull(df_train).sum()[pd.isnull(df_train).sum() > 0]"
   ]
  },
  {
   "cell_type": "code",
   "execution_count": 226,
   "metadata": {
    "collapsed": true,
    "deletable": true,
    "editable": true
   },
   "outputs": [],
   "source": [
    "df_train.dropna(inplace=True)"
   ]
  },
  {
   "cell_type": "code",
   "execution_count": 227,
   "metadata": {
    "collapsed": false,
    "deletable": true,
    "editable": true
   },
   "outputs": [],
   "source": [
    "y = df_train[\"is_listened\"].values"
   ]
  },
  {
   "cell_type": "code",
   "execution_count": 228,
   "metadata": {
    "collapsed": true,
    "deletable": true,
    "editable": true
   },
   "outputs": [],
   "source": [
    "categorical_cols = [\"genre_id\",\n",
    "                   \"media_id\",\n",
    "                   \"album_id\",\n",
    "                   \"context_type\",\n",
    "                   \"release_date\",\n",
    "                   \"platform_name\",\n",
    "                   \"platform_family\",\n",
    "                   \"listen_type\",\n",
    "                   \"user_gender\",\n",
    "                   \"user_id\",\n",
    "                   \"artist_id\",\n",
    "                   \"user_age\"]"
   ]
  },
  {
   "cell_type": "markdown",
   "metadata": {
    "deletable": true,
    "editable": true
   },
   "source": [
    "### Let's inspect the categorical variables!"
   ]
  },
  {
   "cell_type": "code",
   "execution_count": 229,
   "metadata": {
    "collapsed": false,
    "deletable": true,
    "editable": true
   },
   "outputs": [
    {
     "name": "stdout",
     "output_type": "stream",
     "text": [
      "genre_id: 475\n",
      "media_id: 8485\n",
      "album_id: 2895\n",
      "context_type: 65\n",
      "release_date: 1714\n",
      "platform_name: 3\n",
      "platform_family: 3\n",
      "listen_type: 2\n",
      "user_gender: 2\n",
      "user_id: 13304\n",
      "artist_id: 3225\n",
      "user_age: 13\n"
     ]
    }
   ],
   "source": [
    "for col in categorical_cols:\n",
    "    print(\"{}: {}\".format(col, len(df_train[col].unique())))"
   ]
  },
  {
   "cell_type": "markdown",
   "metadata": {
    "deletable": true,
    "editable": true
   },
   "source": [
    "### Strategy\n",
    "1. Apply onehot to categorical with few classes\n",
    "2. Rank categories to artist id\n",
    "3. target encoder for context and genre\n",
    "4. discard media, album, release date and user_id"
   ]
  },
  {
   "cell_type": "code",
   "execution_count": 230,
   "metadata": {
    "collapsed": false,
    "deletable": true,
    "editable": true
   },
   "outputs": [],
   "source": [
    "from greenpyce.feature_engineering import TargetEncoder\n",
    "from greenpyce.feature_engineering import onehot\n",
    "from greenpyce.feature_engineering import RankCategorical\n",
    "from greenpyce.feature_engineering import LabelCount"
   ]
  },
  {
   "cell_type": "code",
   "execution_count": 231,
   "metadata": {
    "collapsed": false,
    "deletable": true,
    "editable": true
   },
   "outputs": [
    {
     "data": {
      "text/plain": [
       "array(['genre_id', 'ts_listen', 'media_id', 'album_id', 'context_type',\n",
       "       'release_date', 'platform_name', 'platform_family',\n",
       "       'media_duration', 'listen_type', 'user_gender', 'user_id',\n",
       "       'artist_id', 'user_age', 'is_listened', 'text', 'year',\n",
       "       'diff_ts_listen_AND_release_date_D',\n",
       "       'diff_ts_listen_AND_release_date_M',\n",
       "       'diff_ts_listen_AND_release_date_Y', 'release_date_DAY',\n",
       "       'release_date_MONTH', 'release_date_YEAR', 'ts_listen_DAY_OF_WEEK',\n",
       "       'ts_listen_PERIOD_OF_DAY', 'user_age_group', 'diff_user_song_age',\n",
       "       'media_decade', 'nmidia_regular_listened',\n",
       "       'nmidia_with_flow_listened', 'nmidia_regular', 'nmidia_with_flow',\n",
       "       'nmidia_with_flow_listened_PROP', 'nmidia_regular_listened_PROP',\n",
       "       'nmidia_PROP_diff'], dtype=object)"
      ]
     },
     "execution_count": 231,
     "metadata": {},
     "output_type": "execute_result"
    }
   ],
   "source": [
    "df_train.columns.values"
   ]
  },
  {
   "cell_type": "markdown",
   "metadata": {
    "deletable": true,
    "editable": true
   },
   "source": [
    "Index([u'Unnamed: 0', u'Unnamed: 0.1', u'genre_id', u'ts_listen', u'media_id',\n",
    "       u'album_id', u'context_type', u'release_date', u'platform_name',\n",
    "       u'platform_family', u'media_duration', u'listen_type', u'user_gender',\n",
    "       u'user_id', u'artist_id', u'user_age', u'is_listened', u'text', u'year',\n",
    "       u'diff_ts_listen_AND_release_date_D',\n",
    "       u'diff_ts_listen_AND_release_date_M',\n",
    "       u'diff_ts_listen_AND_release_date_Y', u'release_date_DAY',\n",
    "       u'release_date_MONTH', u'release_date_YEAR', u'ts_listen_DAY_OF_WEEK',\n",
    "       u'ts_listen_PERIOD_OF_DAY', u'user_age_group', u'diff_user_song_age',\n",
    "       u'media_decade'],\n",
    "      dtype='object')"
   ]
  },
  {
   "cell_type": "code",
   "execution_count": 232,
   "metadata": {
    "collapsed": true,
    "deletable": true,
    "editable": true
   },
   "outputs": [],
   "source": [
    "cols_for_target_encoder = [\"genre_id\", \n",
    "                           \"context_type\", \n",
    "                           \"user_id\", \n",
    "                           \"media_id\", \n",
    "                           \"listen_type\"]\n",
    "\n",
    "cols_for_onehot = [\"platform_name\", \n",
    "                   \"platform_family\", \n",
    "                   \"listen_type\", \n",
    "                   \"user_gender\", \n",
    "                   \"user_age_group\", \n",
    "                   \"ts_listen_DAY_OF_WEEK\",\n",
    "                  \"ts_listen_PERIOD_OF_DAY\"]\n",
    "\n",
    "cols_for_rank = [\"artist_id\",\n",
    "                \"media_decade\"]\n",
    "\n",
    "\n",
    "target = \"is_listened\""
   ]
  },
  {
   "cell_type": "code",
   "execution_count": 233,
   "metadata": {
    "collapsed": true,
    "deletable": true,
    "editable": true
   },
   "outputs": [],
   "source": [
    "te = TargetEncoder(cols_for_target_encoder, \"is_listened\")"
   ]
  },
  {
   "cell_type": "code",
   "execution_count": 234,
   "metadata": {
    "collapsed": true,
    "deletable": true,
    "editable": true
   },
   "outputs": [],
   "source": [
    "te.fit(df_train)"
   ]
  },
  {
   "cell_type": "code",
   "execution_count": 235,
   "metadata": {
    "collapsed": false,
    "deletable": true,
    "editable": true
   },
   "outputs": [],
   "source": [
    "te.transform(df_train)\n",
    "te.transform(df_test)"
   ]
  },
  {
   "cell_type": "code",
   "execution_count": 236,
   "metadata": {
    "collapsed": false,
    "deletable": true,
    "editable": true
   },
   "outputs": [],
   "source": [
    "rc = RankCategorical(cols_for_rank)\n",
    "rc.fit(df_train)\n",
    "rc.transform(df_train)\n",
    "rc.transform(df_test)"
   ]
  },
  {
   "cell_type": "code",
   "execution_count": 237,
   "metadata": {
    "collapsed": true,
    "deletable": true,
    "editable": true
   },
   "outputs": [],
   "source": [
    "rc = RankCategorical([\"media_decade\"])\n",
    "rc.fit(df_train)\n",
    "rc.transform(df_train)\n",
    "rc.transform(df_test)"
   ]
  },
  {
   "cell_type": "code",
   "execution_count": 238,
   "metadata": {
    "collapsed": true,
    "deletable": true,
    "editable": true
   },
   "outputs": [],
   "source": [
    "# lc = RankCategorical(cols_for_count)\n",
    "# lc.fit(df_train)\n",
    "# lc.transform(df_train)\n",
    "# lc.transform(df_test)"
   ]
  },
  {
   "cell_type": "code",
   "execution_count": 239,
   "metadata": {
    "collapsed": false,
    "deletable": true,
    "editable": true
   },
   "outputs": [
    {
     "data": {
      "text/html": [
       "<div>\n",
       "<table border=\"1\" class=\"dataframe\">\n",
       "  <thead>\n",
       "    <tr style=\"text-align: right;\">\n",
       "      <th></th>\n",
       "      <th>genre_id</th>\n",
       "      <th>ts_listen</th>\n",
       "      <th>media_id</th>\n",
       "      <th>album_id</th>\n",
       "      <th>context_type</th>\n",
       "      <th>release_date</th>\n",
       "      <th>platform_name</th>\n",
       "      <th>platform_family</th>\n",
       "      <th>media_duration</th>\n",
       "      <th>listen_type</th>\n",
       "      <th>...</th>\n",
       "      <th>user_age_group</th>\n",
       "      <th>diff_user_song_age</th>\n",
       "      <th>media_decade</th>\n",
       "      <th>nmidia_regular_listened</th>\n",
       "      <th>nmidia_with_flow_listened</th>\n",
       "      <th>nmidia_regular</th>\n",
       "      <th>nmidia_with_flow</th>\n",
       "      <th>nmidia_with_flow_listened_PROP</th>\n",
       "      <th>nmidia_regular_listened_PROP</th>\n",
       "      <th>nmidia_PROP_diff</th>\n",
       "    </tr>\n",
       "  </thead>\n",
       "  <tbody>\n",
       "    <tr>\n",
       "      <th>0</th>\n",
       "      <td>0.555556</td>\n",
       "      <td>2016-12-01 11:00:15</td>\n",
       "      <td>0.000000</td>\n",
       "      <td>41774</td>\n",
       "      <td>0.785394</td>\n",
       "      <td>2004-07-04 00:00:00</td>\n",
       "      <td>1</td>\n",
       "      <td>0</td>\n",
       "      <td>4.0</td>\n",
       "      <td>0.740817</td>\n",
       "      <td>...</td>\n",
       "      <td>2</td>\n",
       "      <td>16.580822</td>\n",
       "      <td>2</td>\n",
       "      <td>41</td>\n",
       "      <td>48</td>\n",
       "      <td>57</td>\n",
       "      <td>71</td>\n",
       "      <td>0.676056</td>\n",
       "      <td>0.719298</td>\n",
       "      <td>0.939883</td>\n",
       "    </tr>\n",
       "    <tr>\n",
       "      <th>1</th>\n",
       "      <td>0.649682</td>\n",
       "      <td>2016-12-01 10:48:50</td>\n",
       "      <td>0.737024</td>\n",
       "      <td>400118</td>\n",
       "      <td>0.808375</td>\n",
       "      <td>2009-10-16 00:00:00</td>\n",
       "      <td>1</td>\n",
       "      <td>0</td>\n",
       "      <td>7.0</td>\n",
       "      <td>0.740817</td>\n",
       "      <td>...</td>\n",
       "      <td>2</td>\n",
       "      <td>21.868493</td>\n",
       "      <td>2</td>\n",
       "      <td>41</td>\n",
       "      <td>48</td>\n",
       "      <td>57</td>\n",
       "      <td>71</td>\n",
       "      <td>0.676056</td>\n",
       "      <td>0.719298</td>\n",
       "      <td>0.939883</td>\n",
       "    </tr>\n",
       "    <tr>\n",
       "      <th>2</th>\n",
       "      <td>0.712928</td>\n",
       "      <td>2016-11-30 11:48:22</td>\n",
       "      <td>0.631133</td>\n",
       "      <td>109347</td>\n",
       "      <td>0.694706</td>\n",
       "      <td>2002-10-21 00:00:00</td>\n",
       "      <td>1</td>\n",
       "      <td>0</td>\n",
       "      <td>3.0</td>\n",
       "      <td>0.740817</td>\n",
       "      <td>...</td>\n",
       "      <td>2</td>\n",
       "      <td>14.879452</td>\n",
       "      <td>2</td>\n",
       "      <td>41</td>\n",
       "      <td>48</td>\n",
       "      <td>57</td>\n",
       "      <td>71</td>\n",
       "      <td>0.676056</td>\n",
       "      <td>0.719298</td>\n",
       "      <td>0.939883</td>\n",
       "    </tr>\n",
       "    <tr>\n",
       "      <th>3</th>\n",
       "      <td>0.712928</td>\n",
       "      <td>2016-12-01 07:18:24</td>\n",
       "      <td>0.631133</td>\n",
       "      <td>109347</td>\n",
       "      <td>0.694706</td>\n",
       "      <td>2002-10-21 00:00:00</td>\n",
       "      <td>1</td>\n",
       "      <td>0</td>\n",
       "      <td>3.0</td>\n",
       "      <td>0.740817</td>\n",
       "      <td>...</td>\n",
       "      <td>2</td>\n",
       "      <td>14.876712</td>\n",
       "      <td>2</td>\n",
       "      <td>41</td>\n",
       "      <td>48</td>\n",
       "      <td>57</td>\n",
       "      <td>71</td>\n",
       "      <td>0.676056</td>\n",
       "      <td>0.719298</td>\n",
       "      <td>0.939883</td>\n",
       "    </tr>\n",
       "    <tr>\n",
       "      <th>4</th>\n",
       "      <td>0.712928</td>\n",
       "      <td>2016-11-29 09:42:52</td>\n",
       "      <td>0.631133</td>\n",
       "      <td>109347</td>\n",
       "      <td>0.584781</td>\n",
       "      <td>2002-10-21 00:00:00</td>\n",
       "      <td>1</td>\n",
       "      <td>0</td>\n",
       "      <td>3.0</td>\n",
       "      <td>0.623331</td>\n",
       "      <td>...</td>\n",
       "      <td>2</td>\n",
       "      <td>14.882192</td>\n",
       "      <td>2</td>\n",
       "      <td>41</td>\n",
       "      <td>48</td>\n",
       "      <td>57</td>\n",
       "      <td>71</td>\n",
       "      <td>0.676056</td>\n",
       "      <td>0.719298</td>\n",
       "      <td>0.939883</td>\n",
       "    </tr>\n",
       "  </tbody>\n",
       "</table>\n",
       "<p>5 rows × 35 columns</p>\n",
       "</div>"
      ],
      "text/plain": [
       "   genre_id            ts_listen  media_id  album_id  context_type  \\\n",
       "0  0.555556  2016-12-01 11:00:15  0.000000     41774      0.785394   \n",
       "1  0.649682  2016-12-01 10:48:50  0.737024    400118      0.808375   \n",
       "2  0.712928  2016-11-30 11:48:22  0.631133    109347      0.694706   \n",
       "3  0.712928  2016-12-01 07:18:24  0.631133    109347      0.694706   \n",
       "4  0.712928  2016-11-29 09:42:52  0.631133    109347      0.584781   \n",
       "\n",
       "          release_date  platform_name  platform_family  media_duration  \\\n",
       "0  2004-07-04 00:00:00              1                0             4.0   \n",
       "1  2009-10-16 00:00:00              1                0             7.0   \n",
       "2  2002-10-21 00:00:00              1                0             3.0   \n",
       "3  2002-10-21 00:00:00              1                0             3.0   \n",
       "4  2002-10-21 00:00:00              1                0             3.0   \n",
       "\n",
       "   listen_type        ...         user_age_group  diff_user_song_age  \\\n",
       "0     0.740817        ...                      2           16.580822   \n",
       "1     0.740817        ...                      2           21.868493   \n",
       "2     0.740817        ...                      2           14.879452   \n",
       "3     0.740817        ...                      2           14.876712   \n",
       "4     0.623331        ...                      2           14.882192   \n",
       "\n",
       "   media_decade  nmidia_regular_listened  nmidia_with_flow_listened  \\\n",
       "0             2                       41                         48   \n",
       "1             2                       41                         48   \n",
       "2             2                       41                         48   \n",
       "3             2                       41                         48   \n",
       "4             2                       41                         48   \n",
       "\n",
       "  nmidia_regular  nmidia_with_flow  nmidia_with_flow_listened_PROP  \\\n",
       "0             57                71                        0.676056   \n",
       "1             57                71                        0.676056   \n",
       "2             57                71                        0.676056   \n",
       "3             57                71                        0.676056   \n",
       "4             57                71                        0.676056   \n",
       "\n",
       "   nmidia_regular_listened_PROP  nmidia_PROP_diff  \n",
       "0                      0.719298          0.939883  \n",
       "1                      0.719298          0.939883  \n",
       "2                      0.719298          0.939883  \n",
       "3                      0.719298          0.939883  \n",
       "4                      0.719298          0.939883  \n",
       "\n",
       "[5 rows x 35 columns]"
      ]
     },
     "execution_count": 239,
     "metadata": {},
     "output_type": "execute_result"
    }
   ],
   "source": [
    "df_train.head()"
   ]
  },
  {
   "cell_type": "code",
   "execution_count": 240,
   "metadata": {
    "collapsed": false,
    "deletable": true,
    "editable": true
   },
   "outputs": [],
   "source": [
    "df_train = onehot(df_train, cols_for_onehot)\n",
    "df_test = onehot(df_test, cols_for_onehot)"
   ]
  },
  {
   "cell_type": "code",
   "execution_count": 241,
   "metadata": {
    "collapsed": false,
    "deletable": true,
    "editable": true
   },
   "outputs": [
    {
     "data": {
      "text/html": [
       "<div>\n",
       "<table border=\"1\" class=\"dataframe\">\n",
       "  <thead>\n",
       "    <tr style=\"text-align: right;\">\n",
       "      <th></th>\n",
       "      <th>genre_id</th>\n",
       "      <th>ts_listen</th>\n",
       "      <th>media_id</th>\n",
       "      <th>album_id</th>\n",
       "      <th>context_type</th>\n",
       "      <th>release_date</th>\n",
       "      <th>media_duration</th>\n",
       "      <th>user_id</th>\n",
       "      <th>artist_id</th>\n",
       "      <th>user_age</th>\n",
       "      <th>...</th>\n",
       "      <th>user_age_group_2</th>\n",
       "      <th>ts_listen_DAY_OF_WEEK_1</th>\n",
       "      <th>ts_listen_DAY_OF_WEEK_2</th>\n",
       "      <th>ts_listen_DAY_OF_WEEK_3</th>\n",
       "      <th>ts_listen_DAY_OF_WEEK_4</th>\n",
       "      <th>ts_listen_DAY_OF_WEEK_5</th>\n",
       "      <th>ts_listen_DAY_OF_WEEK_6</th>\n",
       "      <th>ts_listen_PERIOD_OF_DAY_1</th>\n",
       "      <th>ts_listen_PERIOD_OF_DAY_2</th>\n",
       "      <th>ts_listen_PERIOD_OF_DAY_3</th>\n",
       "    </tr>\n",
       "  </thead>\n",
       "  <tbody>\n",
       "    <tr>\n",
       "      <th>0</th>\n",
       "      <td>0.555556</td>\n",
       "      <td>2016-12-01 11:00:15</td>\n",
       "      <td>0.000000</td>\n",
       "      <td>41774</td>\n",
       "      <td>0.785394</td>\n",
       "      <td>2004-07-04 00:00:00</td>\n",
       "      <td>4.0</td>\n",
       "      <td>0.4</td>\n",
       "      <td>2606</td>\n",
       "      <td>29</td>\n",
       "      <td>...</td>\n",
       "      <td>1</td>\n",
       "      <td>0</td>\n",
       "      <td>0</td>\n",
       "      <td>1</td>\n",
       "      <td>0</td>\n",
       "      <td>0</td>\n",
       "      <td>0</td>\n",
       "      <td>0</td>\n",
       "      <td>0</td>\n",
       "      <td>0</td>\n",
       "    </tr>\n",
       "    <tr>\n",
       "      <th>1</th>\n",
       "      <td>0.649682</td>\n",
       "      <td>2016-12-01 10:48:50</td>\n",
       "      <td>0.737024</td>\n",
       "      <td>400118</td>\n",
       "      <td>0.808375</td>\n",
       "      <td>2009-10-16 00:00:00</td>\n",
       "      <td>7.0</td>\n",
       "      <td>0.4</td>\n",
       "      <td>17</td>\n",
       "      <td>29</td>\n",
       "      <td>...</td>\n",
       "      <td>1</td>\n",
       "      <td>0</td>\n",
       "      <td>0</td>\n",
       "      <td>1</td>\n",
       "      <td>0</td>\n",
       "      <td>0</td>\n",
       "      <td>0</td>\n",
       "      <td>0</td>\n",
       "      <td>0</td>\n",
       "      <td>0</td>\n",
       "    </tr>\n",
       "    <tr>\n",
       "      <th>2</th>\n",
       "      <td>0.712928</td>\n",
       "      <td>2016-11-30 11:48:22</td>\n",
       "      <td>0.631133</td>\n",
       "      <td>109347</td>\n",
       "      <td>0.694706</td>\n",
       "      <td>2002-10-21 00:00:00</td>\n",
       "      <td>3.0</td>\n",
       "      <td>0.4</td>\n",
       "      <td>3</td>\n",
       "      <td>29</td>\n",
       "      <td>...</td>\n",
       "      <td>1</td>\n",
       "      <td>0</td>\n",
       "      <td>1</td>\n",
       "      <td>0</td>\n",
       "      <td>0</td>\n",
       "      <td>0</td>\n",
       "      <td>0</td>\n",
       "      <td>0</td>\n",
       "      <td>0</td>\n",
       "      <td>0</td>\n",
       "    </tr>\n",
       "    <tr>\n",
       "      <th>3</th>\n",
       "      <td>0.712928</td>\n",
       "      <td>2016-12-01 07:18:24</td>\n",
       "      <td>0.631133</td>\n",
       "      <td>109347</td>\n",
       "      <td>0.694706</td>\n",
       "      <td>2002-10-21 00:00:00</td>\n",
       "      <td>3.0</td>\n",
       "      <td>0.4</td>\n",
       "      <td>3</td>\n",
       "      <td>29</td>\n",
       "      <td>...</td>\n",
       "      <td>1</td>\n",
       "      <td>0</td>\n",
       "      <td>0</td>\n",
       "      <td>1</td>\n",
       "      <td>0</td>\n",
       "      <td>0</td>\n",
       "      <td>0</td>\n",
       "      <td>0</td>\n",
       "      <td>0</td>\n",
       "      <td>0</td>\n",
       "    </tr>\n",
       "    <tr>\n",
       "      <th>4</th>\n",
       "      <td>0.712928</td>\n",
       "      <td>2016-11-29 09:42:52</td>\n",
       "      <td>0.631133</td>\n",
       "      <td>109347</td>\n",
       "      <td>0.584781</td>\n",
       "      <td>2002-10-21 00:00:00</td>\n",
       "      <td>3.0</td>\n",
       "      <td>0.4</td>\n",
       "      <td>3</td>\n",
       "      <td>29</td>\n",
       "      <td>...</td>\n",
       "      <td>1</td>\n",
       "      <td>1</td>\n",
       "      <td>0</td>\n",
       "      <td>0</td>\n",
       "      <td>0</td>\n",
       "      <td>0</td>\n",
       "      <td>0</td>\n",
       "      <td>0</td>\n",
       "      <td>0</td>\n",
       "      <td>0</td>\n",
       "    </tr>\n",
       "  </tbody>\n",
       "</table>\n",
       "<p>5 rows × 45 columns</p>\n",
       "</div>"
      ],
      "text/plain": [
       "   genre_id            ts_listen  media_id  album_id  context_type  \\\n",
       "0  0.555556  2016-12-01 11:00:15  0.000000     41774      0.785394   \n",
       "1  0.649682  2016-12-01 10:48:50  0.737024    400118      0.808375   \n",
       "2  0.712928  2016-11-30 11:48:22  0.631133    109347      0.694706   \n",
       "3  0.712928  2016-12-01 07:18:24  0.631133    109347      0.694706   \n",
       "4  0.712928  2016-11-29 09:42:52  0.631133    109347      0.584781   \n",
       "\n",
       "          release_date  media_duration  user_id  artist_id  user_age  \\\n",
       "0  2004-07-04 00:00:00             4.0      0.4       2606        29   \n",
       "1  2009-10-16 00:00:00             7.0      0.4         17        29   \n",
       "2  2002-10-21 00:00:00             3.0      0.4          3        29   \n",
       "3  2002-10-21 00:00:00             3.0      0.4          3        29   \n",
       "4  2002-10-21 00:00:00             3.0      0.4          3        29   \n",
       "\n",
       "             ...              user_age_group_2 ts_listen_DAY_OF_WEEK_1  \\\n",
       "0            ...                             1                       0   \n",
       "1            ...                             1                       0   \n",
       "2            ...                             1                       0   \n",
       "3            ...                             1                       0   \n",
       "4            ...                             1                       1   \n",
       "\n",
       "   ts_listen_DAY_OF_WEEK_2  ts_listen_DAY_OF_WEEK_3  ts_listen_DAY_OF_WEEK_4  \\\n",
       "0                        0                        1                        0   \n",
       "1                        0                        1                        0   \n",
       "2                        1                        0                        0   \n",
       "3                        0                        1                        0   \n",
       "4                        0                        0                        0   \n",
       "\n",
       "   ts_listen_DAY_OF_WEEK_5  ts_listen_DAY_OF_WEEK_6  \\\n",
       "0                        0                        0   \n",
       "1                        0                        0   \n",
       "2                        0                        0   \n",
       "3                        0                        0   \n",
       "4                        0                        0   \n",
       "\n",
       "   ts_listen_PERIOD_OF_DAY_1  ts_listen_PERIOD_OF_DAY_2  \\\n",
       "0                          0                          0   \n",
       "1                          0                          0   \n",
       "2                          0                          0   \n",
       "3                          0                          0   \n",
       "4                          0                          0   \n",
       "\n",
       "   ts_listen_PERIOD_OF_DAY_3  \n",
       "0                          0  \n",
       "1                          0  \n",
       "2                          0  \n",
       "3                          0  \n",
       "4                          0  \n",
       "\n",
       "[5 rows x 45 columns]"
      ]
     },
     "execution_count": 241,
     "metadata": {},
     "output_type": "execute_result"
    }
   ],
   "source": [
    "df_train.head()"
   ]
  },
  {
   "cell_type": "code",
   "execution_count": 242,
   "metadata": {
    "collapsed": false,
    "deletable": true,
    "editable": true
   },
   "outputs": [],
   "source": [
    "#df_train = rank_categorical(df_train, cols_for_rank)"
   ]
  },
  {
   "cell_type": "code",
   "execution_count": 243,
   "metadata": {
    "collapsed": false,
    "deletable": true,
    "editable": true
   },
   "outputs": [
    {
     "data": {
      "text/plain": [
       "array(['genre_id', 'ts_listen', 'media_id', 'album_id', 'context_type',\n",
       "       'release_date', 'media_duration', 'user_id', 'artist_id',\n",
       "       'user_age', 'is_listened', 'text', 'year',\n",
       "       'diff_ts_listen_AND_release_date_D',\n",
       "       'diff_ts_listen_AND_release_date_M',\n",
       "       'diff_ts_listen_AND_release_date_Y', 'release_date_DAY',\n",
       "       'release_date_MONTH', 'release_date_YEAR', 'diff_user_song_age',\n",
       "       'media_decade', 'nmidia_regular_listened',\n",
       "       'nmidia_with_flow_listened', 'nmidia_regular', 'nmidia_with_flow',\n",
       "       'nmidia_with_flow_listened_PROP', 'nmidia_regular_listened_PROP',\n",
       "       'nmidia_PROP_diff', 'platform_name_1', 'platform_name_2',\n",
       "       'platform_family_1', 'platform_family_2',\n",
       "       'listen_type_0.740816696115', 'user_gender_1', 'user_age_group_1',\n",
       "       'user_age_group_2', 'ts_listen_DAY_OF_WEEK_1',\n",
       "       'ts_listen_DAY_OF_WEEK_2', 'ts_listen_DAY_OF_WEEK_3',\n",
       "       'ts_listen_DAY_OF_WEEK_4', 'ts_listen_DAY_OF_WEEK_5',\n",
       "       'ts_listen_DAY_OF_WEEK_6', 'ts_listen_PERIOD_OF_DAY_1',\n",
       "       'ts_listen_PERIOD_OF_DAY_2', 'ts_listen_PERIOD_OF_DAY_3'], dtype=object)"
      ]
     },
     "execution_count": 243,
     "metadata": {},
     "output_type": "execute_result"
    }
   ],
   "source": [
    "df_train.columns.values"
   ]
  },
  {
   "cell_type": "code",
   "execution_count": 244,
   "metadata": {
    "collapsed": false,
    "deletable": true,
    "editable": true
   },
   "outputs": [],
   "source": [
    "### Drop\n",
    "to_drop = ['ts_listen', 'album_id', 'release_date', 'artist_id', \"year\", \"text\"]\n",
    "df_train.drop(to_drop, axis = 1,inplace=True)\n",
    "df_test.drop(to_drop, axis = 1,inplace=True)"
   ]
  },
  {
   "cell_type": "code",
   "execution_count": 245,
   "metadata": {
    "collapsed": false,
    "deletable": true,
    "editable": true
   },
   "outputs": [
    {
     "data": {
      "text/plain": [
       "Series([], dtype: int64)"
      ]
     },
     "execution_count": 245,
     "metadata": {},
     "output_type": "execute_result"
    }
   ],
   "source": [
    "# to_drop = [\"year\", \"text\"]\n",
    "# df_train.drop(to_drop, axis = 1,inplace=True)\n",
    "pd.isnull(df_train).sum()[pd.isnull(df_train).sum() > 0]\n",
    "#pd.isnull(df_test).sum()[pd.isnull(df_test).sum() > 0]"
   ]
  },
  {
   "cell_type": "code",
   "execution_count": 246,
   "metadata": {
    "collapsed": false,
    "deletable": true,
    "editable": true
   },
   "outputs": [
    {
     "data": {
      "text/plain": [
       "['genre_id',\n",
       " 'media_id',\n",
       " 'context_type',\n",
       " 'media_duration',\n",
       " 'user_id',\n",
       " 'user_age',\n",
       " 'diff_ts_listen_AND_release_date_D',\n",
       " 'diff_ts_listen_AND_release_date_M',\n",
       " 'diff_ts_listen_AND_release_date_Y',\n",
       " 'release_date_DAY',\n",
       " 'release_date_MONTH',\n",
       " 'release_date_YEAR',\n",
       " 'diff_user_song_age',\n",
       " 'media_decade',\n",
       " 'nmidia_regular_listened',\n",
       " 'nmidia_with_flow_listened',\n",
       " 'nmidia_regular',\n",
       " 'nmidia_with_flow',\n",
       " 'nmidia_with_flow_listened_PROP',\n",
       " 'nmidia_regular_listened_PROP',\n",
       " 'nmidia_PROP_diff',\n",
       " 'platform_name_1',\n",
       " 'platform_name_2',\n",
       " 'platform_family_1',\n",
       " 'platform_family_2',\n",
       " 'listen_type_0.740816696115',\n",
       " 'user_gender_1',\n",
       " 'user_age_group_1',\n",
       " 'user_age_group_2',\n",
       " 'ts_listen_DAY_OF_WEEK_1',\n",
       " 'ts_listen_DAY_OF_WEEK_2',\n",
       " 'ts_listen_DAY_OF_WEEK_3',\n",
       " 'ts_listen_DAY_OF_WEEK_4',\n",
       " 'ts_listen_DAY_OF_WEEK_5',\n",
       " 'ts_listen_DAY_OF_WEEK_6',\n",
       " 'ts_listen_PERIOD_OF_DAY_1',\n",
       " 'ts_listen_PERIOD_OF_DAY_2',\n",
       " 'ts_listen_PERIOD_OF_DAY_3']"
      ]
     },
     "execution_count": 246,
     "metadata": {},
     "output_type": "execute_result"
    }
   ],
   "source": [
    "features = [col for col in df_train.columns.values if col != target]\n",
    "features"
   ]
  },
  {
   "cell_type": "code",
   "execution_count": 247,
   "metadata": {
    "collapsed": true,
    "deletable": true,
    "editable": true
   },
   "outputs": [],
   "source": [
    "from sklearn.model_selection import train_test_split"
   ]
  },
  {
   "cell_type": "code",
   "execution_count": 248,
   "metadata": {
    "collapsed": false,
    "deletable": true,
    "editable": true
   },
   "outputs": [],
   "source": [
    "X_train, X_test, y_train, y_test = train_test_split(df_train[features], df_train[target], test_size = 0.2)"
   ]
  },
  {
   "cell_type": "code",
   "execution_count": 249,
   "metadata": {
    "collapsed": false,
    "deletable": true,
    "editable": true
   },
   "outputs": [],
   "source": [
    "#X_train.applymap(lambda x : math.isnan(x))"
   ]
  },
  {
   "cell_type": "code",
   "execution_count": 250,
   "metadata": {
    "collapsed": false,
    "deletable": true,
    "editable": true
   },
   "outputs": [
    {
     "data": {
      "text/plain": [
       "Series([], dtype: int64)"
      ]
     },
     "execution_count": 250,
     "metadata": {},
     "output_type": "execute_result"
    }
   ],
   "source": [
    "pd.isnull(X_train.replace([np.inf, -np.inf], np.nan)).sum()[pd.isnull(X_train.replace([np.inf, -np.inf], np.nan)).sum() > 0]"
   ]
  },
  {
   "cell_type": "markdown",
   "metadata": {
    "deletable": true,
    "editable": true
   },
   "source": [
    "### Feature Selection"
   ]
  },
  {
   "cell_type": "code",
   "execution_count": 251,
   "metadata": {
    "collapsed": false,
    "deletable": true,
    "editable": true
   },
   "outputs": [
    {
     "name": "stdout",
     "output_type": "stream",
     "text": [
      "32 selected variables from 38, 84.21%\n",
      "['genre_id', 'media_id', 'context_type', 'media_duration', 'user_id', 'diff_ts_listen_AND_release_date_D', 'diff_ts_listen_AND_release_date_M', 'diff_ts_listen_AND_release_date_Y', 'release_date_DAY', 'release_date_MONTH', 'release_date_YEAR', 'diff_user_song_age', 'media_decade', 'nmidia_regular_listened', 'nmidia_with_flow_listened', 'nmidia_regular', 'nmidia_with_flow', 'nmidia_with_flow_listened_PROP', 'nmidia_regular_listened_PROP', 'nmidia_PROP_diff', 'platform_name_2', 'platform_family_1', 'platform_family_2', 'listen_type_0.740816696115', 'user_gender_1', 'user_age_group_1', 'user_age_group_2', 'ts_listen_DAY_OF_WEEK_5', 'ts_listen_DAY_OF_WEEK_6', 'ts_listen_PERIOD_OF_DAY_1', 'ts_listen_PERIOD_OF_DAY_2', 'ts_listen_PERIOD_OF_DAY_3']\n"
     ]
    }
   ],
   "source": [
    "from sklearn import feature_selection\n",
    "all_features = features\n",
    "function_rule_selection = feature_selection.f_classif\n",
    "alpha_cutoff = 0.01\n",
    "\n",
    "selection_rule = feature_selection.SelectFdr(function_rule_selection, alpha_cutoff)\n",
    "selection_rule.fit(X_train, y_train);\n",
    "\n",
    "all_pvalues = list(filter(lambda x: pd.notnull(x[0]), zip(selection_rule.pvalues_, all_features)))\n",
    "#print(all_pvalues)\n",
    "filtered_pvalues = list(filter(lambda x: x[0]<=alpha_cutoff, all_pvalues))\n",
    "#print(filtered_pvalues)\n",
    "all_select_features = list(map(lambda x: x[1], filtered_pvalues))\n",
    "\n",
    "print(\"{0} selected variables from {1}, {2:.2f}%\".format(len(all_select_features), \n",
    "                                                        len(all_features), \n",
    "                                                        len(filtered_pvalues)*100/float(len(all_features))))\n",
    "print(all_select_features)\n",
    "#print(filtered_pvalues)"
   ]
  },
  {
   "cell_type": "code",
   "execution_count": 252,
   "metadata": {
    "collapsed": true,
    "deletable": true,
    "editable": true
   },
   "outputs": [],
   "source": [
    "feaures = all_select_features\n",
    "X_train, X_test, y_train, y_test = train_test_split(df_train[features], df_train[target], test_size = 0.3)\n",
    "X_val, X_test, y_val, y_test = train_test_split(X_test, y_test, test_size = 0.5)"
   ]
  },
  {
   "cell_type": "code",
   "execution_count": 253,
   "metadata": {
    "collapsed": true,
    "deletable": true,
    "editable": true
   },
   "outputs": [],
   "source": [
    "from sklearn import metrics\n",
    "from sklearn.metrics import confusion_matrix\n",
    "from sklearn.metrics import accuracy_score\n",
    "import matplotlib.pyplot as plt\n",
    "\n",
    "def complete_report(y_test, y_pred):\n",
    "    print(\"*********************************\")\n",
    "    print(\"Accuracy: {0:.2f}\".format(accuracy_score(y_test, y_pred)))\n",
    "    print(\"Precision: {0}\".format(metrics.precision_score(y_test, y_pred)))\n",
    "    print(\"Recall: {0}\".format(metrics.recall_score(y_test, y_pred)))\n",
    "    print(\"F1-Score: {0}\".format(metrics.f1_score(y_test, y_pred)))\n",
    "    conf_m = confusion_matrix(y_test, y_pred)\n",
    "    print(conf_m)\n",
    "    try: \n",
    "        print(\"Roc Area: {0}\".format(metrics.roc_auc_score(y_test, y_pred))) \n",
    "        roc_curve_label(y_test, y_pred)\n",
    "    except:\n",
    "        print(\"--\")\n",
    "    print(\"*********************************\")\n",
    "    \n",
    "    return metrics.roc_auc_score(y_test, y_pred)\n",
    "        \n",
    "def roc_curve_label(y_test, y_pred):\n",
    "    plt.figsize=(10,6)\n",
    "    fpr, tpr, _ = metrics.roc_curve(y_test, y_pred)\n",
    "    plt.figure(1)\n",
    "    plt.plot([0, 1], [0, 1], 'k--')\n",
    "    plt.plot(fpr, tpr, label='RT + LR')\n",
    "    plt.xlabel('False positive rate')\n",
    "    plt.ylabel('True positive rate')\n",
    "    plt.title('ROC curve')\n",
    "    plt.legend(loc='best')\n",
    "    plt.show()"
   ]
  },
  {
   "cell_type": "code",
   "execution_count": 254,
   "metadata": {
    "collapsed": false,
    "deletable": true,
    "editable": true
   },
   "outputs": [
    {
     "data": {
      "text/plain": [
       "DecisionTreeClassifier(class_weight=None, criterion='gini', max_depth=None,\n",
       "            max_features=None, max_leaf_nodes=None,\n",
       "            min_impurity_split=1e-07, min_samples_leaf=1,\n",
       "            min_samples_split=2, min_weight_fraction_leaf=0.0,\n",
       "            presort=False, random_state=None, splitter='best')"
      ]
     },
     "execution_count": 254,
     "metadata": {},
     "output_type": "execute_result"
    }
   ],
   "source": [
    "from sklearn.tree import DecisionTreeClassifier\n",
    "model = DecisionTreeClassifier()\n",
    "model.fit(X_train, y_train)"
   ]
  },
  {
   "cell_type": "code",
   "execution_count": 255,
   "metadata": {
    "collapsed": false,
    "deletable": true,
    "editable": true
   },
   "outputs": [
    {
     "name": "stdout",
     "output_type": "stream",
     "text": [
      "0.736725394156\n",
      "*********************************\n",
      "Accuracy: 0.74\n",
      "Precision: 0.818410129408\n",
      "Recall: 0.807370703004\n",
      "F1-Score: 0.812852936082\n",
      "[[ 6770  5206]\n",
      " [ 5598 23463]]\n",
      "Roc Area: 0.686333982097\n"
     ]
    },
    {
     "data": {
      "image/png": "[encoded data removed]",
      "text/plain": [
       "<matplotlib.figure.Figure at 0x7f7cdd92ba90>"
      ]
     },
     "metadata": {},
     "output_type": "display_data"
    },
    {
     "name": "stdout",
     "output_type": "stream",
     "text": [
      "*********************************\n"
     ]
    },
    {
     "data": {
      "text/plain": [
       "0.6863339820965354"
      ]
     },
     "execution_count": 255,
     "metadata": {},
     "output_type": "execute_result"
    }
   ],
   "source": [
    "print(model.score(X_test, y_test))\n",
    "complete_report(y_test, model.predict(X_test))"
   ]
  },
  {
   "cell_type": "markdown",
   "metadata": {
    "deletable": true,
    "editable": true
   },
   "source": [
    "acc: 0.70345496362865445  \n",
    "roc: 0.6912675674785278"
   ]
  },
  {
   "cell_type": "code",
   "execution_count": 256,
   "metadata": {
    "collapsed": false,
    "deletable": true,
    "editable": true
   },
   "outputs": [],
   "source": [
    "from sklearn.metrics import confusion_matrix"
   ]
  },
  {
   "cell_type": "code",
   "execution_count": 257,
   "metadata": {
    "collapsed": true,
    "deletable": true,
    "editable": true
   },
   "outputs": [],
   "source": [
    "from sklearn.metrics import log_loss"
   ]
  },
  {
   "cell_type": "code",
   "execution_count": 258,
   "metadata": {
    "collapsed": false,
    "deletable": true,
    "editable": true
   },
   "outputs": [
    {
     "data": {
      "text/plain": [
       "9.0932841795169388"
      ]
     },
     "execution_count": 258,
     "metadata": {},
     "output_type": "execute_result"
    }
   ],
   "source": [
    "log_loss(y_test, model.predict(X_test))"
   ]
  },
  {
   "cell_type": "code",
   "execution_count": 259,
   "metadata": {
    "collapsed": false,
    "deletable": true,
    "editable": true
   },
   "outputs": [
    {
     "data": {
      "text/plain": [
       "array([[ 6770,  5206],\n",
       "       [ 5598, 23463]])"
      ]
     },
     "execution_count": 259,
     "metadata": {},
     "output_type": "execute_result"
    }
   ],
   "source": [
    "confusion_matrix(y_test, model.predict(X_test))"
   ]
  },
  {
   "cell_type": "code",
   "execution_count": 260,
   "metadata": {
    "collapsed": false,
    "deletable": true,
    "editable": true
   },
   "outputs": [],
   "source": [
    "counts = df_train[target].value_counts()\n",
    "class_ratio = counts[1] / np.sum(counts.values) "
   ]
  },
  {
   "cell_type": "code",
   "execution_count": 261,
   "metadata": {
    "collapsed": false
   },
   "outputs": [],
   "source": [
    "# y_train = pd.get_dummies(y_train).as_matrix()\n",
    "# y_val = pd.get_dummies(y_val).as_matrix()\n",
    "# y_test = pd.get_dummies(y_test).as_matrix()"
   ]
  },
  {
   "cell_type": "code",
   "execution_count": 262,
   "metadata": {
    "collapsed": false
   },
   "outputs": [],
   "source": [
    "# from keras.utils import np_utils\n",
    "\n",
    "# nb_classes = 2\n",
    "\n",
    "# y_train = np_utils.to_categorical(y_train, nb_classes)\n",
    "# y_val = np_utils.to_categorical(y_val, nb_classes)\n",
    "# y_test = np_utils.to_categorical(y_test, nb_classes)"
   ]
  },
  {
   "cell_type": "code",
   "execution_count": 263,
   "metadata": {
    "collapsed": false
   },
   "outputs": [
    {
     "data": {
      "text/plain": [
       "array([[ 0.76467532,  0.76361386,  0.58478087, ...,  1.        ,\n",
       "         0.        ,  0.        ],\n",
       "       [ 0.55526036,  0.46589817,  0.58478087, ...,  1.        ,\n",
       "         0.        ,  0.        ],\n",
       "       [ 0.73282672,  0.72403234,  0.73351043, ...,  0.        ,\n",
       "         1.        ,  0.        ],\n",
       "       ..., \n",
       "       [ 0.73282672,  0.57913669,  0.69470647, ...,  1.        ,\n",
       "         0.        ,  0.        ],\n",
       "       [ 0.73282672,  0.64705882,  0.69470647, ...,  1.        ,\n",
       "         0.        ,  0.        ],\n",
       "       [ 0.64968211,  0.68932039,  0.69470647, ...,  0.        ,\n",
       "         0.        ,  0.        ]])"
      ]
     },
     "execution_count": 263,
     "metadata": {},
     "output_type": "execute_result"
    }
   ],
   "source": [
    "np.random.randint(2, size=5)\n",
    "np.random.rand(5,10)\n",
    "X_train.as_matrix()"
   ]
  },
  {
   "cell_type": "code",
   "execution_count": 268,
   "metadata": {
    "collapsed": false,
    "deletable": true,
    "editable": true,
    "scrolled": true
   },
   "outputs": [
    {
     "name": "stdout",
     "output_type": "stream",
     "text": [
      "[0]\ttrain-mlogloss:0.602174\tvalidation-mlogloss:0.614878\n",
      "Multiple eval metrics have been passed: 'validation-mlogloss' will be used for early stopping.\n",
      "\n",
      "Will train until validation-mlogloss hasn't improved in 5 rounds.\n",
      "[1]\ttrain-mlogloss:0.539159\tvalidation-mlogloss:0.562924\n",
      "[2]\ttrain-mlogloss:0.492344\tvalidation-mlogloss:0.52682\n",
      "[3]\ttrain-mlogloss:0.456261\tvalidation-mlogloss:0.500967\n",
      "[4]\ttrain-mlogloss:0.42742\tvalidation-mlogloss:0.482194\n",
      "[5]\ttrain-mlogloss:0.404244\tvalidation-mlogloss:0.468765\n",
      "[6]\ttrain-mlogloss:0.385374\tvalidation-mlogloss:0.458797\n",
      "[7]\ttrain-mlogloss:0.369142\tvalidation-mlogloss:0.451573\n",
      "[8]\ttrain-mlogloss:0.355044\tvalidation-mlogloss:0.446387\n",
      "[9]\ttrain-mlogloss:0.342825\tvalidation-mlogloss:0.442737\n",
      "[10]\ttrain-mlogloss:0.33213\tvalidation-mlogloss:0.440437\n",
      "[11]\ttrain-mlogloss:0.322783\tvalidation-mlogloss:0.43874\n",
      "[12]\ttrain-mlogloss:0.313957\tvalidation-mlogloss:0.437719\n",
      "[13]\ttrain-mlogloss:0.306174\tvalidation-mlogloss:0.437218\n",
      "[14]\ttrain-mlogloss:0.29939\tvalidation-mlogloss:0.436894\n",
      "[15]\ttrain-mlogloss:0.293101\tvalidation-mlogloss:0.436604\n",
      "[16]\ttrain-mlogloss:0.287077\tvalidation-mlogloss:0.436755\n",
      "[17]\ttrain-mlogloss:0.281716\tvalidation-mlogloss:0.437169\n",
      "[18]\ttrain-mlogloss:0.276963\tvalidation-mlogloss:0.43771\n",
      "[19]\ttrain-mlogloss:0.272752\tvalidation-mlogloss:0.438363\n",
      "[20]\ttrain-mlogloss:0.267866\tvalidation-mlogloss:0.438951\n",
      "Stopping. Best iteration:\n",
      "[15]\ttrain-mlogloss:0.293101\tvalidation-mlogloss:0.436604\n",
      "\n",
      "[ 0.25782794  0.74217206]\n",
      "Tempo de execução: 0m45s\n"
     ]
    }
   ],
   "source": [
    "import xgboost as xgb\n",
    "from time import time\n",
    "\n",
    "start = time()\n",
    "xg_train = xgb.DMatrix(X_train, label=y_train, missing=np.NaN)\n",
    "xg_test = xgb.DMatrix(X_test, label=y_test, missing=np.NaN)\n",
    "xg_val = xgb.DMatrix(X_val, label=y_val, missing=np.NaN)\n",
    "param = {'max_depth':30, \n",
    "         'eta':0.2, \n",
    "         'silent':0, \n",
    "         'objective':'multi:softprob', \n",
    "         \"booster\": \"gbtree\", \n",
    "         \"max_delta_step\":1,\n",
    "         \"alpha\": 1,\n",
    "         \"lambda\": 0,\n",
    "         #\"scale_pos_weight\": class_ratio,\n",
    "         \"eval_metric\": \"mlogloss\"}\n",
    "\n",
    "### Objectives\n",
    "## 'binary:logistic'\n",
    "## 'multi:softprob'\n",
    "param['num_class'] = 2\n",
    "param[\"min_child_weight\"] = 10\n",
    "param[\"colsample_bytree\"] = 1\n",
    "num_round = 300\n",
    "\n",
    "watchlist = [(xg_train,'train'), (xg_val,'validation')]\n",
    "\n",
    "\n",
    "bst = xgb.train(param, \n",
    "                xg_train, \n",
    "                num_round, \n",
    "                watchlist,\n",
    "                early_stopping_rounds=5)\n",
    "\n",
    "yprob = bst.predict( xg_test )#.reshape( y_test.shape[0], 2)\n",
    "print(yprob[0])\n",
    "\n",
    "print('Tempo de execução: {0}m{1}s'.format(int((time()-start)/60),\n",
    "             int((time()-start)%60 )))"
   ]
  },
  {
   "cell_type": "code",
   "execution_count": 285,
   "metadata": {
    "collapsed": false,
    "deletable": true,
    "editable": true
   },
   "outputs": [
    {
     "data": {
      "text/plain": [
       "array([ 0.83456075,  0.99716765,  0.25781035, ...,  0.67473608,\n",
       "        0.88432848,  0.39489666], dtype=float32)"
      ]
     },
     "execution_count": 285,
     "metadata": {},
     "output_type": "execute_result"
    }
   ],
   "source": [
    "yprob = bst.predict( xg_test )#.reshape( y_test.shape[0], 2)\n",
    "yprob"
   ]
  },
  {
   "cell_type": "code",
   "execution_count": 287,
   "metadata": {
    "collapsed": false,
    "deletable": true,
    "editable": true
   },
   "outputs": [
    {
     "name": "stdout",
     "output_type": "stream",
     "text": [
      "[[ 6272  5704]\n",
      " [ 2585 26476]]\n",
      "*********************************\n",
      "Accuracy: 0.80\n",
      "Precision: 0.822747047856\n",
      "Recall: 0.91104917243\n",
      "F1-Score: 0.864649499518\n",
      "[[ 6272  5704]\n",
      " [ 2585 26476]]\n",
      "Roc Area: 0.717381633643\n"
     ]
    },
    {
     "data": {
      "image/png": "[encoded data removed]",
      "text/plain": [
       "<matplotlib.figure.Figure at 0x7f7cc6753210>"
      ]
     },
     "metadata": {},
     "output_type": "display_data"
    },
    {
     "name": "stdout",
     "output_type": "stream",
     "text": [
      "*********************************\n"
     ]
    },
    {
     "data": {
      "text/plain": [
       "0.71738163364339225"
      ]
     },
     "execution_count": 287,
     "metadata": {},
     "output_type": "execute_result"
    }
   ],
   "source": [
    "y_pred = [1 if y > 0.5 else 0 for y in yprob]\n",
    "print(metrics.confusion_matrix(y_test, y_pred))\n",
    "\n",
    "complete_report(y_test, y_pred)"
   ]
  },
  {
   "cell_type": "code",
   "execution_count": 288,
   "metadata": {
    "collapsed": false,
    "deletable": true,
    "editable": true
   },
   "outputs": [
    {
     "name": "stdout",
     "output_type": "stream",
     "text": [
      "('diff_user_song_age', 4825)\n",
      "('media_id', 4515)\n",
      "('diff_ts_listen_AND_release_date_D', 4233)\n",
      "('nmidia_regular_listened_PROP', 3025)\n",
      "('user_id', 3017)\n",
      "('nmidia_PROP_diff', 2688)\n",
      "('nmidia_with_flow_listened_PROP', 2523)\n",
      "('nmidia_with_flow', 2454)\n",
      "('nmidia_regular', 2445)\n",
      "('nmidia_regular_listened', 2358)\n",
      "('nmidia_with_flow_listened', 2002)\n",
      "('context_type', 1442)\n",
      "('release_date_DAY', 1110)\n",
      "('ts_listen_PERIOD_OF_DAY_1', 803)\n",
      "('user_age', 765)\n",
      "('genre_id', 736)\n",
      "('media_duration', 710)\n",
      "('release_date_MONTH', 678)\n",
      "('user_gender_1', 368)\n",
      "('ts_listen_PERIOD_OF_DAY_2', 354)\n",
      "('listen_type_0.740816696115', 302)\n",
      "('ts_listen_DAY_OF_WEEK_3', 293)\n",
      "('ts_listen_DAY_OF_WEEK_5', 283)\n",
      "('ts_listen_PERIOD_OF_DAY_3', 279)\n",
      "('ts_listen_DAY_OF_WEEK_2', 279)\n",
      "('ts_listen_DAY_OF_WEEK_1', 265)\n",
      "('ts_listen_DAY_OF_WEEK_4', 262)\n",
      "('ts_listen_DAY_OF_WEEK_6', 238)\n",
      "('user_age_group_1', 150)\n",
      "('platform_name_1', 142)\n",
      "('platform_name_2', 85)\n",
      "('platform_family_2', 42)\n",
      "('release_date_YEAR', 22)\n"
     ]
    }
   ],
   "source": [
    "### Verificando a importância de cada feature para a previsão do modelo\n",
    "import operator\n",
    "importance = bst.get_fscore()\n",
    "importance = sorted(importance.items(), key=operator.itemgetter(1), reverse=True)\n",
    "for item in importance:\n",
    "    print(item)"
   ]
  },
  {
   "cell_type": "code",
   "execution_count": 291,
   "metadata": {
    "collapsed": false,
    "deletable": true,
    "editable": true
   },
   "outputs": [
    {
     "name": "stdout",
     "output_type": "stream",
     "text": [
      "The gvmagic extension is already loaded. To reload it, use:\n",
      "  %reload_ext gvmagic\n"
     ]
    }
   ],
   "source": [
    "%load_ext gvmagic\n",
    "graph = xgb.to_graphviz(bst, num_trees=2)"
   ]
  },
  {
   "cell_type": "code",
   "execution_count": 294,
   "metadata": {
    "collapsed": false
   },
   "outputs": [
    {
     "data": {
      "text/plain": [
       "'the-great-tree.pdf'"
      ]
     },
     "execution_count": 294,
     "metadata": {},
     "output_type": "execute_result"
    }
   ],
   "source": [
    "graph.render('the-great-tree', view=True)"
   ]
  },
  {
   "cell_type": "code",
   "execution_count": null,
   "metadata": {
    "collapsed": true,
    "deletable": true,
    "editable": true
   },
   "outputs": [],
   "source": [
    "import gzip\n",
    "import csv\n",
    "import numpy as np\n",
    "\n",
    "def build_kaggle_submission(preds, filename=\"my_submission\"):\n",
    "    \"\"\"\n",
    "    Build a compressed Kaggle Submission\n",
    "    \n",
    "    preds: array with predictions\n",
    "    \"\"\"\n",
    "    with gzip.open(filename + '.csv.gz', 'wt') as outf:\n",
    "        fo = csv.writer(outf, lineterminator='\\n')\n",
    "        fo.writerow([\"sample_id\", \"is_listened\"])       \n",
    "        for i, pred in enumerate(preds):\n",
    "            fo.writerow([i, pred])"
   ]
  },
  {
   "cell_type": "code",
   "execution_count": 195,
   "metadata": {
    "collapsed": true,
    "deletable": true,
    "editable": true
   },
   "outputs": [],
   "source": [
    "p = model.predict_proba(df_test[features])"
   ]
  },
  {
   "cell_type": "code",
   "execution_count": 196,
   "metadata": {
    "collapsed": false,
    "deletable": true,
    "editable": true
   },
   "outputs": [],
   "source": [
    "p = p[:, 1]"
   ]
  },
  {
   "cell_type": "code",
   "execution_count": 197,
   "metadata": {
    "collapsed": false,
    "deletable": true,
    "editable": true
   },
   "outputs": [],
   "source": [
    "build_kaggle_submission(p, \"random_forest_user_feats\")"
   ]
  },
  {
   "cell_type": "code",
   "execution_count": 198,
   "metadata": {
    "collapsed": false,
    "deletable": true,
    "editable": true
   },
   "outputs": [
    {
     "name": "stdout",
     "output_type": "stream",
     "text": [
      "1242.442859\n",
      "3.684862\n",
      "6.4e-05\n"
     ]
    }
   ],
   "source": [
    "import sys\n",
    "print(sys.getsizeof(df_train) / 1e6)\n",
    "print(sys.getsizeof(df_test) / 1e6)\n",
    "print(sys.getsizeof(model) / 1e6)"
   ]
  },
  {
   "cell_type": "markdown",
   "metadata": {},
   "source": [
    "### Binary"
   ]
  },
  {
   "cell_type": "code",
   "execution_count": 305,
   "metadata": {
    "collapsed": false
   },
   "outputs": [
    {
     "name": "stdout",
     "output_type": "stream",
     "text": [
      "[0]\ttrain-auc:0.795701\tvalidation-auc:0.78683\n",
      "Multiple eval metrics have been passed: 'validation-auc' will be used for early stopping.\n",
      "\n",
      "Will train until validation-auc hasn't improved in 5 rounds.\n",
      "[1]\ttrain-auc:0.810239\tvalidation-auc:0.799388\n",
      "[2]\ttrain-auc:0.82441\tvalidation-auc:0.812498\n",
      "[3]\ttrain-auc:0.834372\tvalidation-auc:0.822105\n",
      "[4]\ttrain-auc:0.840239\tvalidation-auc:0.826905\n",
      "[5]\ttrain-auc:0.843932\tvalidation-auc:0.829881\n",
      "[6]\ttrain-auc:0.846441\tvalidation-auc:0.832519\n",
      "[7]\ttrain-auc:0.847553\tvalidation-auc:0.833543\n",
      "[8]\ttrain-auc:0.848541\tvalidation-auc:0.834534\n",
      "[9]\ttrain-auc:0.849127\tvalidation-auc:0.835239\n",
      "[10]\ttrain-auc:0.849485\tvalidation-auc:0.835385\n",
      "[11]\ttrain-auc:0.849718\tvalidation-auc:0.835665\n",
      "[12]\ttrain-auc:0.85012\tvalidation-auc:0.835747\n",
      "[13]\ttrain-auc:0.850494\tvalidation-auc:0.835867\n",
      "[14]\ttrain-auc:0.850785\tvalidation-auc:0.835978\n",
      "[15]\ttrain-auc:0.850991\tvalidation-auc:0.836092\n",
      "[16]\ttrain-auc:0.851121\tvalidation-auc:0.836173\n",
      "[17]\ttrain-auc:0.851286\tvalidation-auc:0.836233\n",
      "[18]\ttrain-auc:0.851709\tvalidation-auc:0.836624\n",
      "[19]\ttrain-auc:0.851835\tvalidation-auc:0.836743\n",
      "[20]\ttrain-auc:0.852075\tvalidation-auc:0.836861\n",
      "[21]\ttrain-auc:0.852216\tvalidation-auc:0.836933\n",
      "[22]\ttrain-auc:0.852539\tvalidation-auc:0.837192\n",
      "[23]\ttrain-auc:0.852676\tvalidation-auc:0.837342\n",
      "[24]\ttrain-auc:0.85273\tvalidation-auc:0.837386\n",
      "[25]\ttrain-auc:0.852854\tvalidation-auc:0.837461\n",
      "[26]\ttrain-auc:0.852934\tvalidation-auc:0.837479\n",
      "[27]\ttrain-auc:0.853399\tvalidation-auc:0.837602\n",
      "[28]\ttrain-auc:0.853594\tvalidation-auc:0.83768\n",
      "[29]\ttrain-auc:0.853773\tvalidation-auc:0.837718\n",
      "[30]\ttrain-auc:0.854029\tvalidation-auc:0.837805\n",
      "[31]\ttrain-auc:0.85459\tvalidation-auc:0.837934\n",
      "[32]\ttrain-auc:0.854934\tvalidation-auc:0.838068\n",
      "[33]\ttrain-auc:0.855301\tvalidation-auc:0.838038\n",
      "[34]\ttrain-auc:0.856445\tvalidation-auc:0.838431\n",
      "[35]\ttrain-auc:0.856826\tvalidation-auc:0.838402\n",
      "[36]\ttrain-auc:0.857617\tvalidation-auc:0.838584\n",
      "[37]\ttrain-auc:0.858517\tvalidation-auc:0.838768\n",
      "[38]\ttrain-auc:0.858892\tvalidation-auc:0.838717\n",
      "[39]\ttrain-auc:0.859355\tvalidation-auc:0.838795\n",
      "[40]\ttrain-auc:0.859739\tvalidation-auc:0.838851\n",
      "[41]\ttrain-auc:0.860533\tvalidation-auc:0.838973\n",
      "[42]\ttrain-auc:0.861037\tvalidation-auc:0.838962\n",
      "[43]\ttrain-auc:0.861901\tvalidation-auc:0.839079\n",
      "[44]\ttrain-auc:0.86296\tvalidation-auc:0.839101\n",
      "[45]\ttrain-auc:0.86462\tvalidation-auc:0.839375\n",
      "[46]\ttrain-auc:0.864922\tvalidation-auc:0.839379\n",
      "[47]\ttrain-auc:0.865711\tvalidation-auc:0.839521\n",
      "[48]\ttrain-auc:0.866401\tvalidation-auc:0.839632\n",
      "[49]\ttrain-auc:0.866959\tvalidation-auc:0.839675\n",
      "[50]\ttrain-auc:0.867267\tvalidation-auc:0.839698\n",
      "[51]\ttrain-auc:0.867557\tvalidation-auc:0.839693\n",
      "[52]\ttrain-auc:0.868312\tvalidation-auc:0.8398\n",
      "[53]\ttrain-auc:0.869126\tvalidation-auc:0.839928\n",
      "[54]\ttrain-auc:0.869302\tvalidation-auc:0.839925\n",
      "[55]\ttrain-auc:0.870595\tvalidation-auc:0.840024\n",
      "[56]\ttrain-auc:0.871211\tvalidation-auc:0.840059\n",
      "[57]\ttrain-auc:0.871799\tvalidation-auc:0.840088\n",
      "[58]\ttrain-auc:0.872592\tvalidation-auc:0.840034\n",
      "[59]\ttrain-auc:0.873471\tvalidation-auc:0.84018\n",
      "[60]\ttrain-auc:0.874042\tvalidation-auc:0.840275\n",
      "[61]\ttrain-auc:0.874142\tvalidation-auc:0.840274\n",
      "[62]\ttrain-auc:0.874736\tvalidation-auc:0.840257\n",
      "[63]\ttrain-auc:0.87503\tvalidation-auc:0.84018\n",
      "[64]\ttrain-auc:0.875904\tvalidation-auc:0.840263\n",
      "[65]\ttrain-auc:0.876026\tvalidation-auc:0.840267\n",
      "Stopping. Best iteration:\n",
      "[60]\ttrain-auc:0.874042\tvalidation-auc:0.840275\n",
      "\n",
      "0.825356\n",
      "Tempo de execução: 0m27s\n"
     ]
    }
   ],
   "source": [
    "import xgboost as xgb\n",
    "from time import time\n",
    "\n",
    "start = time()\n",
    "xg_train = xgb.DMatrix(X_train, label=y_train.values, missing=np.NaN)\n",
    "xg_test = xgb.DMatrix(X_test, label=y_test.values, missing=np.NaN)\n",
    "xg_val = xgb.DMatrix(X_val, label=y_val.values, missing=np.NaN)\n",
    "param = {'max_depth':10, \n",
    "         'eta':0.2, \n",
    "         'silent':0, \n",
    "         'objective':'binary:logistic', \n",
    "         \"booster\": \"gbtree\", \n",
    "         \"max_delta_step\":1,\n",
    "         \"alpha\": 1,\n",
    "         \"lambda\": 0,\n",
    "         #\"scale_pos_weight\": class_ratio,\n",
    "         \"eval_metric\": \"auc\",\n",
    "          \"verbose\": 1}\n",
    "\n",
    "### Objectives\n",
    "## 'binary:logistic'\n",
    "## 'multi:softprob'\n",
    "#param['num_class'] = 2\n",
    "param[\"min_child_weight\"] = 10\n",
    "param[\"colsample_bytree\"] = 1\n",
    "num_round = 300\n",
    "\n",
    "watchlist = [(xg_train,'train'), (xg_val,'validation')]\n",
    "#watchlist = [(xg_val,'validation')]\n",
    "\n",
    "bst = xgb.train(param, \n",
    "                xg_train, \n",
    "                num_round,\n",
    "                watchlist,\n",
    "                early_stopping_rounds=5)\n",
    "\n",
    "yprob = bst.predict( xg_test ) #.reshape( y_test.shape[0], 2)\n",
    "print(yprob[0])\n",
    "\n",
    "print('Tempo de execução: {0}m{1}s'.format(int((time()-start)/60),\n",
    "             int((time()-start)%60 )))"
   ]
  },
  {
   "cell_type": "code",
   "execution_count": 164,
   "metadata": {
    "collapsed": false
   },
   "outputs": [],
   "source": [
    "data = np.random.rand(5,10) # 5 entities, each contains 10 features\n",
    "label = np.random.randint(2, size=5) # binary target\n",
    "dtrain = xgb.DMatrix( data, label=label)\n",
    "\n",
    "param = {'max_depth':2, 'eta':1, 'silent':1, 'objective':'binary:logistic' }\n",
    "param['nthread'] = 4\n",
    "param['eval_metric'] = 'auc'\n",
    "\n",
    "num_round = 10\n",
    "bst = xgb.train( param, dtrain, num_round, verbose_eval=1)\n",
    "\n"
   ]
  },
  {
   "cell_type": "markdown",
   "metadata": {
    "collapsed": true,
    "deletable": true,
    "editable": true
   },
   "source": [
    "### GridSearch and XGBoost"
   ]
  },
  {
   "cell_type": "code",
   "execution_count": null,
   "metadata": {
    "collapsed": false,
    "deletable": true,
    "editable": true
   },
   "outputs": [],
   "source": [
    "from keras.models import Sequential\n",
    "from keras.layers.core import Dense, Activation, Reshape\n",
    "from keras.layers.embeddings import Embedding\n",
    "from keras.callbacks import ModelCheckpoint\n",
    "import numpy as np"
   ]
  },
  {
   "cell_type": "code",
   "execution_count": null,
   "metadata": {
    "collapsed": false,
    "deletable": true,
    "editable": true
   },
   "outputs": [],
   "source": [
    "model = Sequential()\n",
    "model.add(Embedding(df_train[\"album_id\"].max(), 64, input_length=10))\n",
    "model.add(Dense(1, activation=\"relu\"))\n",
    "# the model will take as input an integer matrix of size (batch, input_length).\n",
    "# the largest integer (i.e. word index) in the input should be no larger than 999 (vocabulary size).\n",
    "# now model.output_shape == (None, 10, 64), where None is the batch dimension.\n",
    "\n",
    "input_array = np.random.randint(1000, size=(32, 10))\n",
    "print(input_array)\n",
    "model.compile('rmsprop', 'mse')\n",
    "model.fit(input_array, np.array([1]))\n",
    "\n",
    "output_array = model.predict(input_array)\n",
    "#assert output_array.shape == (32, 10, 64)\n",
    "print(output_array)"
   ]
  },
  {
   "cell_type": "code",
   "execution_count": null,
   "metadata": {
    "collapsed": false,
    "deletable": true,
    "editable": true
   },
   "outputs": [],
   "source": [
    "df_train[\"album_id\"].max()"
   ]
  },
  {
   "cell_type": "code",
   "execution_count": null,
   "metadata": {
    "collapsed": false,
    "deletable": true,
    "editable": true
   },
   "outputs": [],
   "source": [
    "output_array"
   ]
  },
  {
   "cell_type": "code",
   "execution_count": null,
   "metadata": {
    "collapsed": true,
    "deletable": true,
    "editable": true
   },
   "outputs": [],
   "source": []
  }
 ],
 "metadata": {
  "kernelspec": {
   "display_name": "Python 2",
   "language": "python",
   "name": "python2"
  },
  "language_info": {
   "codemirror_mode": {
    "name": "ipython",
    "version": 2
   },
   "file_extension": ".py",
   "mimetype": "text/x-python",
   "name": "python",
   "nbconvert_exporter": "python",
   "pygments_lexer": "ipython2",
   "version": "2.7.13"
  }
 },
 "nbformat": 4,
 "nbformat_minor": 2
}
