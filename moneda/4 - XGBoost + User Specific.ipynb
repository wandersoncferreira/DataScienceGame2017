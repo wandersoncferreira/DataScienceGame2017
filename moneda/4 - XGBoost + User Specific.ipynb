{
 "cells": [
  {
   "cell_type": "markdown",
   "metadata": {
    "deletable": true,
    "editable": true
   },
   "source": [
    "### Data Science Game 2017\n",
    "\n",
    "Data fields\n",
    "\n",
    "    media_id - identifiant of the song listened by the user\n",
    "    album_id - identifiant of the album of the song\n",
    "    media_duration - duration of the song\n",
    "    user_gender -  gender of the user\n",
    "    user_id -  anonymized id of the user\n",
    "    context_type - type of content where the song was listened: playlist, album ...\n",
    "    release_date - release date of the song with the format YYYYMMDD\n",
    "    ts_listen - timestamp of the listening in UNIX time\n",
    "    platform_name - type of os\n",
    "    platform_family - type of device\n",
    "    user_age - age of the user\n",
    "    listen_type - if the songs was listened in a flow or not\n",
    "    artist_id - identifiant of the artist of the song\n",
    "    genre_id - identifiant of the genre of the song\n",
    "    is_listened - 1 if the track was listened, 0 otherwise\n"
   ]
  },
  {
   "cell_type": "code",
   "execution_count": 120,
   "metadata": {
    "collapsed": true,
    "deletable": true,
    "editable": true
   },
   "outputs": [],
   "source": [
    "import pandas as pd"
   ]
  },
  {
   "cell_type": "code",
   "execution_count": 121,
   "metadata": {
    "collapsed": false,
    "deletable": true,
    "editable": true
   },
   "outputs": [],
   "source": [
    "df_train = pd.read_csv(\"../data/train_data3.csv\", nrows=3000)\n",
    "df_test = pd.read_csv(\"../data/test_data3.csv\")"
   ]
  },
  {
   "cell_type": "markdown",
   "metadata": {},
   "source": [
    "### Arrumando coisas que vieram erradas"
   ]
  },
  {
   "cell_type": "code",
   "execution_count": 122,
   "metadata": {
    "collapsed": false
   },
   "outputs": [],
   "source": [
    "df_test = df_test.set_value(df_test[df_test[\"listen_type\"] == 0].index, \"listen_type\", 1)"
   ]
  },
  {
   "cell_type": "code",
   "execution_count": null,
   "metadata": {
    "collapsed": true
   },
   "outputs": [],
   "source": []
  },
  {
   "cell_type": "code",
   "execution_count": 123,
   "metadata": {
    "collapsed": false,
    "deletable": true,
    "editable": true
   },
   "outputs": [
    {
     "data": {
      "text/plain": [
       "Index([u'Unnamed: 0', u'genre_id', u'ts_listen', u'media_id', u'album_id',\n",
       "       u'context_type', u'release_date', u'platform_name', u'platform_family',\n",
       "       u'media_duration', u'listen_type', u'user_gender', u'user_id',\n",
       "       u'artist_id', u'user_age', u'is_listened', u'text', u'year',\n",
       "       u'diff_ts_listen_AND_release_date_D',\n",
       "       u'diff_ts_listen_AND_release_date_M',\n",
       "       u'diff_ts_listen_AND_release_date_Y', u'release_date_DAY',\n",
       "       u'release_date_MONTH', u'release_date_YEAR', u'ts_listen_DAY_OF_WEEK',\n",
       "       u'ts_listen_PERIOD_OF_DAY', u'user_age_group', u'diff_user_song_age',\n",
       "       u'media_decade'],\n",
       "      dtype='object')"
      ]
     },
     "execution_count": 123,
     "metadata": {},
     "output_type": "execute_result"
    }
   ],
   "source": [
    "df_train.columns"
   ]
  },
  {
   "cell_type": "code",
   "execution_count": 124,
   "metadata": {
    "collapsed": false,
    "deletable": true,
    "editable": true
   },
   "outputs": [
    {
     "data": {
      "text/html": [
       "<div>\n",
       "<table border=\"1\" class=\"dataframe\">\n",
       "  <thead>\n",
       "    <tr style=\"text-align: right;\">\n",
       "      <th></th>\n",
       "      <th>genre_id</th>\n",
       "      <th>ts_listen</th>\n",
       "      <th>media_id</th>\n",
       "      <th>album_id</th>\n",
       "      <th>context_type</th>\n",
       "      <th>release_date</th>\n",
       "      <th>platform_name</th>\n",
       "      <th>platform_family</th>\n",
       "      <th>media_duration</th>\n",
       "      <th>listen_type</th>\n",
       "      <th>...</th>\n",
       "      <th>diff_ts_listen_AND_release_date_M</th>\n",
       "      <th>diff_ts_listen_AND_release_date_Y</th>\n",
       "      <th>release_date_DAY</th>\n",
       "      <th>release_date_MONTH</th>\n",
       "      <th>release_date_YEAR</th>\n",
       "      <th>ts_listen_DAY_OF_WEEK</th>\n",
       "      <th>ts_listen_PERIOD_OF_DAY</th>\n",
       "      <th>user_age_group</th>\n",
       "      <th>diff_user_song_age</th>\n",
       "      <th>media_decade</th>\n",
       "    </tr>\n",
       "  </thead>\n",
       "  <tbody>\n",
       "    <tr>\n",
       "      <th>0</th>\n",
       "      <td>25471</td>\n",
       "      <td>2016-12-01 11:00:15</td>\n",
       "      <td>222606</td>\n",
       "      <td>41774</td>\n",
       "      <td>12</td>\n",
       "      <td>2004-07-04 00:00:00</td>\n",
       "      <td>1</td>\n",
       "      <td>0</td>\n",
       "      <td>4.0</td>\n",
       "      <td>0</td>\n",
       "      <td>...</td>\n",
       "      <td>151.100000</td>\n",
       "      <td>12.419178</td>\n",
       "      <td>4</td>\n",
       "      <td>7</td>\n",
       "      <td>2004</td>\n",
       "      <td>3</td>\n",
       "      <td>0</td>\n",
       "      <td>2</td>\n",
       "      <td>16.580822</td>\n",
       "      <td>7</td>\n",
       "    </tr>\n",
       "    <tr>\n",
       "      <th>1</th>\n",
       "      <td>25571</td>\n",
       "      <td>2016-11-30 20:25:35</td>\n",
       "      <td>250467</td>\n",
       "      <td>43941</td>\n",
       "      <td>0</td>\n",
       "      <td>2006-03-01 00:00:00</td>\n",
       "      <td>2</td>\n",
       "      <td>1</td>\n",
       "      <td>3.0</td>\n",
       "      <td>0</td>\n",
       "      <td>...</td>\n",
       "      <td>130.900000</td>\n",
       "      <td>10.758904</td>\n",
       "      <td>1</td>\n",
       "      <td>3</td>\n",
       "      <td>2006</td>\n",
       "      <td>2</td>\n",
       "      <td>2</td>\n",
       "      <td>2</td>\n",
       "      <td>19.241096</td>\n",
       "      <td>7</td>\n",
       "    </tr>\n",
       "    <tr>\n",
       "      <th>2</th>\n",
       "      <td>16</td>\n",
       "      <td>2016-11-19 11:59:13</td>\n",
       "      <td>305197</td>\n",
       "      <td>48078</td>\n",
       "      <td>1</td>\n",
       "      <td>2014-07-14 00:00:00</td>\n",
       "      <td>2</td>\n",
       "      <td>1</td>\n",
       "      <td>2.0</td>\n",
       "      <td>1</td>\n",
       "      <td>...</td>\n",
       "      <td>28.633333</td>\n",
       "      <td>2.353425</td>\n",
       "      <td>14</td>\n",
       "      <td>7</td>\n",
       "      <td>2014</td>\n",
       "      <td>5</td>\n",
       "      <td>0</td>\n",
       "      <td>2</td>\n",
       "      <td>26.646575</td>\n",
       "      <td>8</td>\n",
       "    </tr>\n",
       "    <tr>\n",
       "      <th>3</th>\n",
       "      <td>7</td>\n",
       "      <td>2016-11-26 07:21:38</td>\n",
       "      <td>900502</td>\n",
       "      <td>71521</td>\n",
       "      <td>0</td>\n",
       "      <td>2000-10-30 00:00:00</td>\n",
       "      <td>0</td>\n",
       "      <td>0</td>\n",
       "      <td>4.0</td>\n",
       "      <td>0</td>\n",
       "      <td>...</td>\n",
       "      <td>195.700000</td>\n",
       "      <td>16.084932</td>\n",
       "      <td>30</td>\n",
       "      <td>10</td>\n",
       "      <td>2000</td>\n",
       "      <td>5</td>\n",
       "      <td>0</td>\n",
       "      <td>2</td>\n",
       "      <td>13.915068</td>\n",
       "      <td>6</td>\n",
       "    </tr>\n",
       "    <tr>\n",
       "      <th>4</th>\n",
       "      <td>7</td>\n",
       "      <td>2016-11-05 16:02:54</td>\n",
       "      <td>542335</td>\n",
       "      <td>71718</td>\n",
       "      <td>0</td>\n",
       "      <td>2008-02-15 00:00:00</td>\n",
       "      <td>0</td>\n",
       "      <td>0</td>\n",
       "      <td>3.0</td>\n",
       "      <td>0</td>\n",
       "      <td>...</td>\n",
       "      <td>106.200000</td>\n",
       "      <td>8.728767</td>\n",
       "      <td>15</td>\n",
       "      <td>2</td>\n",
       "      <td>2008</td>\n",
       "      <td>5</td>\n",
       "      <td>1</td>\n",
       "      <td>1</td>\n",
       "      <td>15.271233</td>\n",
       "      <td>7</td>\n",
       "    </tr>\n",
       "  </tbody>\n",
       "</table>\n",
       "<p>5 rows × 28 columns</p>\n",
       "</div>"
      ],
      "text/plain": [
       "   genre_id            ts_listen  media_id  album_id  context_type  \\\n",
       "0     25471  2016-12-01 11:00:15    222606     41774            12   \n",
       "1     25571  2016-11-30 20:25:35    250467     43941             0   \n",
       "2        16  2016-11-19 11:59:13    305197     48078             1   \n",
       "3         7  2016-11-26 07:21:38    900502     71521             0   \n",
       "4         7  2016-11-05 16:02:54    542335     71718             0   \n",
       "\n",
       "          release_date  platform_name  platform_family  media_duration  \\\n",
       "0  2004-07-04 00:00:00              1                0             4.0   \n",
       "1  2006-03-01 00:00:00              2                1             3.0   \n",
       "2  2014-07-14 00:00:00              2                1             2.0   \n",
       "3  2000-10-30 00:00:00              0                0             4.0   \n",
       "4  2008-02-15 00:00:00              0                0             3.0   \n",
       "\n",
       "   listen_type      ...       diff_ts_listen_AND_release_date_M  \\\n",
       "0            0      ...                              151.100000   \n",
       "1            0      ...                              130.900000   \n",
       "2            1      ...                               28.633333   \n",
       "3            0      ...                              195.700000   \n",
       "4            0      ...                              106.200000   \n",
       "\n",
       "   diff_ts_listen_AND_release_date_Y  release_date_DAY  release_date_MONTH  \\\n",
       "0                          12.419178                 4                   7   \n",
       "1                          10.758904                 1                   3   \n",
       "2                           2.353425                14                   7   \n",
       "3                          16.084932                30                  10   \n",
       "4                           8.728767                15                   2   \n",
       "\n",
       "   release_date_YEAR ts_listen_DAY_OF_WEEK  ts_listen_PERIOD_OF_DAY  \\\n",
       "0               2004                     3                        0   \n",
       "1               2006                     2                        2   \n",
       "2               2014                     5                        0   \n",
       "3               2000                     5                        0   \n",
       "4               2008                     5                        1   \n",
       "\n",
       "   user_age_group  diff_user_song_age  media_decade  \n",
       "0               2           16.580822             7  \n",
       "1               2           19.241096             7  \n",
       "2               2           26.646575             8  \n",
       "3               2           13.915068             6  \n",
       "4               1           15.271233             7  \n",
       "\n",
       "[5 rows x 28 columns]"
      ]
     },
     "execution_count": 124,
     "metadata": {},
     "output_type": "execute_result"
    }
   ],
   "source": [
    "to_drop = ['Unnamed: 0']\n",
    "df_train.drop(to_drop, axis = 1,inplace=True)\n",
    "df_train.head()"
   ]
  },
  {
   "cell_type": "code",
   "execution_count": 125,
   "metadata": {
    "collapsed": false,
    "deletable": true,
    "editable": true
   },
   "outputs": [
    {
     "data": {
      "text/plain": [
       "Series([], dtype: int64)"
      ]
     },
     "execution_count": 125,
     "metadata": {},
     "output_type": "execute_result"
    }
   ],
   "source": [
    "pd.isnull(df_train).sum()[pd.isnull(df_train).sum() > 0]"
   ]
  },
  {
   "cell_type": "markdown",
   "metadata": {
    "deletable": true,
    "editable": true
   },
   "source": [
    "### Append User Specific"
   ]
  },
  {
   "cell_type": "code",
   "execution_count": 126,
   "metadata": {
    "collapsed": false,
    "deletable": true,
    "editable": true
   },
   "outputs": [
    {
     "data": {
      "text/plain": [
       "array(['user_id', 'nmidia_regular_listened', 'nmidia_with_flow_listened',\n",
       "       'nmidia_regular', 'nmidia_with_flow',\n",
       "       'nmidia_with_flow_listened_PROP', 'nmidia_regular_listened_PROP',\n",
       "       'nmidia_PROP_diff'], dtype=object)"
      ]
     },
     "execution_count": 126,
     "metadata": {},
     "output_type": "execute_result"
    }
   ],
   "source": [
    "df_user = pd.read_csv(\"../data/nmidia_feats.csv\", sep=\";\")\n",
    "pd.isnull(df_user).sum()[pd.isnull(df_user).sum() > 0]\n",
    "#df_user = df_user.drop([\"nmidia_with_flow_listened_PROP\", \"nmidia_regular_listened_PROP\", \"nmidia_PROP_diff\"], axis=1)\n",
    "df_user.columns.values"
   ]
  },
  {
   "cell_type": "code",
   "execution_count": 127,
   "metadata": {
    "collapsed": false,
    "deletable": true,
    "editable": true
   },
   "outputs": [
    {
     "data": {
      "text/plain": [
       "nmidia_with_flow_listened_PROP    3947\n",
       "nmidia_regular_listened_PROP       429\n",
       "nmidia_PROP_diff                  4400\n",
       "dtype: int64"
      ]
     },
     "execution_count": 127,
     "metadata": {},
     "output_type": "execute_result"
    }
   ],
   "source": [
    "pd.isnull(df_user).sum()[pd.isnull(df_user).sum() > 0]"
   ]
  },
  {
   "cell_type": "code",
   "execution_count": 128,
   "metadata": {
    "collapsed": false,
    "deletable": true,
    "editable": true
   },
   "outputs": [
    {
     "data": {
      "text/html": [
       "<div>\n",
       "<table border=\"1\" class=\"dataframe\">\n",
       "  <thead>\n",
       "    <tr style=\"text-align: right;\">\n",
       "      <th></th>\n",
       "      <th>genre_id</th>\n",
       "      <th>ts_listen</th>\n",
       "      <th>media_id</th>\n",
       "      <th>album_id</th>\n",
       "      <th>context_type</th>\n",
       "      <th>release_date</th>\n",
       "      <th>platform_name</th>\n",
       "      <th>platform_family</th>\n",
       "      <th>media_duration</th>\n",
       "      <th>listen_type</th>\n",
       "      <th>...</th>\n",
       "      <th>user_age_group</th>\n",
       "      <th>diff_user_song_age</th>\n",
       "      <th>media_decade</th>\n",
       "      <th>nmidia_regular_listened</th>\n",
       "      <th>nmidia_with_flow_listened</th>\n",
       "      <th>nmidia_regular</th>\n",
       "      <th>nmidia_with_flow</th>\n",
       "      <th>nmidia_with_flow_listened_PROP</th>\n",
       "      <th>nmidia_regular_listened_PROP</th>\n",
       "      <th>nmidia_PROP_diff</th>\n",
       "    </tr>\n",
       "  </thead>\n",
       "  <tbody>\n",
       "    <tr>\n",
       "      <th>0</th>\n",
       "      <td>25471</td>\n",
       "      <td>2016-12-01 11:00:15</td>\n",
       "      <td>222606</td>\n",
       "      <td>41774</td>\n",
       "      <td>12</td>\n",
       "      <td>2004-07-04 00:00:00</td>\n",
       "      <td>1</td>\n",
       "      <td>0</td>\n",
       "      <td>4.0</td>\n",
       "      <td>0</td>\n",
       "      <td>...</td>\n",
       "      <td>2</td>\n",
       "      <td>16.580822</td>\n",
       "      <td>7</td>\n",
       "      <td>41</td>\n",
       "      <td>48</td>\n",
       "      <td>57</td>\n",
       "      <td>71</td>\n",
       "      <td>0.676056</td>\n",
       "      <td>0.719298</td>\n",
       "      <td>0.939883</td>\n",
       "    </tr>\n",
       "    <tr>\n",
       "      <th>1</th>\n",
       "      <td>25571</td>\n",
       "      <td>2016-11-30 20:25:35</td>\n",
       "      <td>250467</td>\n",
       "      <td>43941</td>\n",
       "      <td>0</td>\n",
       "      <td>2006-03-01 00:00:00</td>\n",
       "      <td>2</td>\n",
       "      <td>1</td>\n",
       "      <td>3.0</td>\n",
       "      <td>0</td>\n",
       "      <td>...</td>\n",
       "      <td>2</td>\n",
       "      <td>19.241096</td>\n",
       "      <td>7</td>\n",
       "      <td>22</td>\n",
       "      <td>0</td>\n",
       "      <td>37</td>\n",
       "      <td>1</td>\n",
       "      <td>0.000000</td>\n",
       "      <td>0.594595</td>\n",
       "      <td>0.000000</td>\n",
       "    </tr>\n",
       "    <tr>\n",
       "      <th>2</th>\n",
       "      <td>16</td>\n",
       "      <td>2016-11-19 11:59:13</td>\n",
       "      <td>305197</td>\n",
       "      <td>48078</td>\n",
       "      <td>1</td>\n",
       "      <td>2014-07-14 00:00:00</td>\n",
       "      <td>2</td>\n",
       "      <td>1</td>\n",
       "      <td>2.0</td>\n",
       "      <td>1</td>\n",
       "      <td>...</td>\n",
       "      <td>2</td>\n",
       "      <td>26.646575</td>\n",
       "      <td>8</td>\n",
       "      <td>180</td>\n",
       "      <td>75</td>\n",
       "      <td>181</td>\n",
       "      <td>77</td>\n",
       "      <td>0.974026</td>\n",
       "      <td>0.994475</td>\n",
       "      <td>0.979437</td>\n",
       "    </tr>\n",
       "    <tr>\n",
       "      <th>3</th>\n",
       "      <td>7</td>\n",
       "      <td>2016-11-26 07:21:38</td>\n",
       "      <td>900502</td>\n",
       "      <td>71521</td>\n",
       "      <td>0</td>\n",
       "      <td>2000-10-30 00:00:00</td>\n",
       "      <td>0</td>\n",
       "      <td>0</td>\n",
       "      <td>4.0</td>\n",
       "      <td>0</td>\n",
       "      <td>...</td>\n",
       "      <td>2</td>\n",
       "      <td>13.915068</td>\n",
       "      <td>6</td>\n",
       "      <td>303</td>\n",
       "      <td>142</td>\n",
       "      <td>476</td>\n",
       "      <td>241</td>\n",
       "      <td>0.589212</td>\n",
       "      <td>0.636555</td>\n",
       "      <td>0.925626</td>\n",
       "    </tr>\n",
       "    <tr>\n",
       "      <th>4</th>\n",
       "      <td>107695</td>\n",
       "      <td>2016-12-01 04:13:06</td>\n",
       "      <td>1345183</td>\n",
       "      <td>138895</td>\n",
       "      <td>1</td>\n",
       "      <td>2006-11-28 00:00:00</td>\n",
       "      <td>0</td>\n",
       "      <td>0</td>\n",
       "      <td>5.0</td>\n",
       "      <td>1</td>\n",
       "      <td>...</td>\n",
       "      <td>2</td>\n",
       "      <td>19.983562</td>\n",
       "      <td>7</td>\n",
       "      <td>303</td>\n",
       "      <td>142</td>\n",
       "      <td>476</td>\n",
       "      <td>241</td>\n",
       "      <td>0.589212</td>\n",
       "      <td>0.636555</td>\n",
       "      <td>0.925626</td>\n",
       "    </tr>\n",
       "  </tbody>\n",
       "</table>\n",
       "<p>5 rows × 35 columns</p>\n",
       "</div>"
      ],
      "text/plain": [
       "   genre_id            ts_listen  media_id  album_id  context_type  \\\n",
       "0     25471  2016-12-01 11:00:15    222606     41774            12   \n",
       "1     25571  2016-11-30 20:25:35    250467     43941             0   \n",
       "2        16  2016-11-19 11:59:13    305197     48078             1   \n",
       "3         7  2016-11-26 07:21:38    900502     71521             0   \n",
       "4    107695  2016-12-01 04:13:06   1345183    138895             1   \n",
       "\n",
       "          release_date  platform_name  platform_family  media_duration  \\\n",
       "0  2004-07-04 00:00:00              1                0             4.0   \n",
       "1  2006-03-01 00:00:00              2                1             3.0   \n",
       "2  2014-07-14 00:00:00              2                1             2.0   \n",
       "3  2000-10-30 00:00:00              0                0             4.0   \n",
       "4  2006-11-28 00:00:00              0                0             5.0   \n",
       "\n",
       "   listen_type        ...         user_age_group  diff_user_song_age  \\\n",
       "0            0        ...                      2           16.580822   \n",
       "1            0        ...                      2           19.241096   \n",
       "2            1        ...                      2           26.646575   \n",
       "3            0        ...                      2           13.915068   \n",
       "4            1        ...                      2           19.983562   \n",
       "\n",
       "   media_decade  nmidia_regular_listened  nmidia_with_flow_listened  \\\n",
       "0             7                       41                         48   \n",
       "1             7                       22                          0   \n",
       "2             8                      180                         75   \n",
       "3             6                      303                        142   \n",
       "4             7                      303                        142   \n",
       "\n",
       "  nmidia_regular  nmidia_with_flow  nmidia_with_flow_listened_PROP  \\\n",
       "0             57                71                        0.676056   \n",
       "1             37                 1                        0.000000   \n",
       "2            181                77                        0.974026   \n",
       "3            476               241                        0.589212   \n",
       "4            476               241                        0.589212   \n",
       "\n",
       "   nmidia_regular_listened_PROP  nmidia_PROP_diff  \n",
       "0                      0.719298          0.939883  \n",
       "1                      0.594595          0.000000  \n",
       "2                      0.994475          0.979437  \n",
       "3                      0.636555          0.925626  \n",
       "4                      0.636555          0.925626  \n",
       "\n",
       "[5 rows x 35 columns]"
      ]
     },
     "execution_count": 128,
     "metadata": {},
     "output_type": "execute_result"
    }
   ],
   "source": [
    "df_train = pd.merge(df_train, df_user, on=\"user_id\")\n",
    "df_test = pd.merge(df_test, df_user, on=\"user_id\")\n",
    "df_train.head()"
   ]
  },
  {
   "cell_type": "code",
   "execution_count": 129,
   "metadata": {
    "collapsed": true
   },
   "outputs": [],
   "source": [
    "df_train.replace([np.inf, -np.inf], np.nan, inplace=True)"
   ]
  },
  {
   "cell_type": "markdown",
   "metadata": {
    "deletable": true,
    "editable": true
   },
   "source": [
    "### Check for NA\n",
    "#### Ver depois sobre o user_age_group!"
   ]
  },
  {
   "cell_type": "code",
   "execution_count": 130,
   "metadata": {
    "collapsed": false,
    "deletable": true,
    "editable": true
   },
   "outputs": [
    {
     "data": {
      "text/plain": [
       "nmidia_with_flow_listened_PROP    107\n",
       "nmidia_regular_listened_PROP       15\n",
       "nmidia_PROP_diff                  123\n",
       "dtype: int64"
      ]
     },
     "execution_count": 130,
     "metadata": {},
     "output_type": "execute_result"
    }
   ],
   "source": [
    "pd.isnull(df_train).sum()[pd.isnull(df_train).sum() > 0]"
   ]
  },
  {
   "cell_type": "code",
   "execution_count": 131,
   "metadata": {
    "collapsed": true,
    "deletable": true,
    "editable": true
   },
   "outputs": [],
   "source": [
    "df_train.dropna(inplace=True)"
   ]
  },
  {
   "cell_type": "code",
   "execution_count": 132,
   "metadata": {
    "collapsed": false,
    "deletable": true,
    "editable": true
   },
   "outputs": [],
   "source": [
    "y = df_train[\"is_listened\"].values"
   ]
  },
  {
   "cell_type": "code",
   "execution_count": 133,
   "metadata": {
    "collapsed": true,
    "deletable": true,
    "editable": true
   },
   "outputs": [],
   "source": [
    "categorical_cols = [\"genre_id\",\n",
    "                   \"media_id\",\n",
    "                   \"album_id\",\n",
    "                   \"context_type\",\n",
    "                   \"release_date\",\n",
    "                   \"platform_name\",\n",
    "                   \"platform_family\",\n",
    "                   \"listen_type\",\n",
    "                   \"user_gender\",\n",
    "                   \"user_id\",\n",
    "                   \"artist_id\",\n",
    "                   \"user_age\"]"
   ]
  },
  {
   "cell_type": "markdown",
   "metadata": {
    "deletable": true,
    "editable": true
   },
   "source": [
    "### Let's inspect the categorical variables!"
   ]
  },
  {
   "cell_type": "code",
   "execution_count": 134,
   "metadata": {
    "collapsed": false,
    "deletable": true,
    "editable": true
   },
   "outputs": [
    {
     "name": "stdout",
     "output_type": "stream",
     "text": [
      "genre_id: 32\n",
      "media_id: 268\n",
      "album_id: 81\n",
      "context_type: 34\n",
      "release_date: 74\n",
      "platform_name: 3\n",
      "platform_family: 3\n",
      "listen_type: 2\n",
      "user_gender: 2\n",
      "user_id: 1248\n",
      "artist_id: 96\n",
      "user_age: 13\n"
     ]
    }
   ],
   "source": [
    "for col in categorical_cols:\n",
    "    print(\"{}: {}\".format(col, len(df_train[col].unique())))"
   ]
  },
  {
   "cell_type": "markdown",
   "metadata": {
    "deletable": true,
    "editable": true
   },
   "source": [
    "### Strategy\n",
    "1. Apply onehot to categorical with few classes\n",
    "2. Rank categories to artist id\n",
    "3. target encoder for context and genre\n",
    "4. discard media, album, release date and user_id"
   ]
  },
  {
   "cell_type": "code",
   "execution_count": 135,
   "metadata": {
    "collapsed": false,
    "deletable": true,
    "editable": true
   },
   "outputs": [],
   "source": [
    "from greenpyce.feature_engineering import TargetEncoder\n",
    "from greenpyce.feature_engineering import onehot\n",
    "from greenpyce.feature_engineering import RankCategorical\n",
    "from greenpyce.feature_engineering import LabelCount"
   ]
  },
  {
   "cell_type": "code",
   "execution_count": 136,
   "metadata": {
    "collapsed": false,
    "deletable": true,
    "editable": true
   },
   "outputs": [
    {
     "data": {
      "text/plain": [
       "array(['genre_id', 'ts_listen', 'media_id', 'album_id', 'context_type',\n",
       "       'release_date', 'platform_name', 'platform_family',\n",
       "       'media_duration', 'listen_type', 'user_gender', 'user_id',\n",
       "       'artist_id', 'user_age', 'is_listened', 'text', 'year',\n",
       "       'diff_ts_listen_AND_release_date_D',\n",
       "       'diff_ts_listen_AND_release_date_M',\n",
       "       'diff_ts_listen_AND_release_date_Y', 'release_date_DAY',\n",
       "       'release_date_MONTH', 'release_date_YEAR', 'ts_listen_DAY_OF_WEEK',\n",
       "       'ts_listen_PERIOD_OF_DAY', 'user_age_group', 'diff_user_song_age',\n",
       "       'media_decade', 'nmidia_regular_listened',\n",
       "       'nmidia_with_flow_listened', 'nmidia_regular', 'nmidia_with_flow',\n",
       "       'nmidia_with_flow_listened_PROP', 'nmidia_regular_listened_PROP',\n",
       "       'nmidia_PROP_diff'], dtype=object)"
      ]
     },
     "execution_count": 136,
     "metadata": {},
     "output_type": "execute_result"
    }
   ],
   "source": [
    "df_train.columns.values"
   ]
  },
  {
   "cell_type": "markdown",
   "metadata": {
    "deletable": true,
    "editable": true
   },
   "source": [
    "Index([u'Unnamed: 0', u'Unnamed: 0.1', u'genre_id', u'ts_listen', u'media_id',\n",
    "       u'album_id', u'context_type', u'release_date', u'platform_name',\n",
    "       u'platform_family', u'media_duration', u'listen_type', u'user_gender',\n",
    "       u'user_id', u'artist_id', u'user_age', u'is_listened', u'text', u'year',\n",
    "       u'diff_ts_listen_AND_release_date_D',\n",
    "       u'diff_ts_listen_AND_release_date_M',\n",
    "       u'diff_ts_listen_AND_release_date_Y', u'release_date_DAY',\n",
    "       u'release_date_MONTH', u'release_date_YEAR', u'ts_listen_DAY_OF_WEEK',\n",
    "       u'ts_listen_PERIOD_OF_DAY', u'user_age_group', u'diff_user_song_age',\n",
    "       u'media_decade'],\n",
    "      dtype='object')"
   ]
  },
  {
   "cell_type": "code",
   "execution_count": 137,
   "metadata": {
    "collapsed": true,
    "deletable": true,
    "editable": true
   },
   "outputs": [],
   "source": [
    "cols_for_target_encoder = [\"genre_id\", \n",
    "                           \"context_type\", \n",
    "                           \"user_id\", \n",
    "                           \"media_id\", \n",
    "                           \"listen_type\"]\n",
    "\n",
    "cols_for_onehot = [\"platform_name\", \n",
    "                   \"platform_family\", \n",
    "                   \"listen_type\", \n",
    "                   \"user_gender\", \n",
    "                   \"user_age_group\", \n",
    "                   \"ts_listen_DAY_OF_WEEK\",\n",
    "                  \"ts_listen_PERIOD_OF_DAY\"]\n",
    "\n",
    "cols_for_rank = [\"artist_id\"]\n",
    "                #\"media_decade\"]\n",
    "\n",
    "\n",
    "target = \"is_listened\""
   ]
  },
  {
   "cell_type": "code",
   "execution_count": 138,
   "metadata": {
    "collapsed": true,
    "deletable": true,
    "editable": true
   },
   "outputs": [],
   "source": [
    "te = TargetEncoder(cols_for_target_encoder, \"is_listened\")"
   ]
  },
  {
   "cell_type": "code",
   "execution_count": 139,
   "metadata": {
    "collapsed": true,
    "deletable": true,
    "editable": true
   },
   "outputs": [],
   "source": [
    "te.fit(df_train)"
   ]
  },
  {
   "cell_type": "code",
   "execution_count": 140,
   "metadata": {
    "collapsed": false,
    "deletable": true,
    "editable": true
   },
   "outputs": [],
   "source": [
    "te.transform(df_train)\n",
    "te.transform(df_test)"
   ]
  },
  {
   "cell_type": "code",
   "execution_count": 141,
   "metadata": {
    "collapsed": false,
    "deletable": true,
    "editable": true
   },
   "outputs": [],
   "source": [
    "rc = RankCategorical(cols_for_rank)\n",
    "rc.fit(df_train)\n",
    "rc.transform(df_train)\n",
    "rc.transform(df_test)"
   ]
  },
  {
   "cell_type": "code",
   "execution_count": 142,
   "metadata": {
    "collapsed": true,
    "deletable": true,
    "editable": true
   },
   "outputs": [],
   "source": [
    "rc = RankCategorical([\"media_decade\"])\n",
    "rc.fit(df_train)\n",
    "rc.transform(df_train)\n",
    "rc.transform(df_test)"
   ]
  },
  {
   "cell_type": "code",
   "execution_count": 143,
   "metadata": {
    "collapsed": true,
    "deletable": true,
    "editable": true
   },
   "outputs": [],
   "source": [
    "# lc = RankCategorical(cols_for_count)\n",
    "# lc.fit(df_train)\n",
    "# lc.transform(df_train)\n",
    "# lc.transform(df_test)"
   ]
  },
  {
   "cell_type": "code",
   "execution_count": 144,
   "metadata": {
    "collapsed": false,
    "deletable": true,
    "editable": true
   },
   "outputs": [
    {
     "data": {
      "text/html": [
       "<div>\n",
       "<table border=\"1\" class=\"dataframe\">\n",
       "  <thead>\n",
       "    <tr style=\"text-align: right;\">\n",
       "      <th></th>\n",
       "      <th>genre_id</th>\n",
       "      <th>ts_listen</th>\n",
       "      <th>media_id</th>\n",
       "      <th>album_id</th>\n",
       "      <th>context_type</th>\n",
       "      <th>release_date</th>\n",
       "      <th>platform_name</th>\n",
       "      <th>platform_family</th>\n",
       "      <th>media_duration</th>\n",
       "      <th>listen_type</th>\n",
       "      <th>...</th>\n",
       "      <th>user_age_group</th>\n",
       "      <th>diff_user_song_age</th>\n",
       "      <th>media_decade</th>\n",
       "      <th>nmidia_regular_listened</th>\n",
       "      <th>nmidia_with_flow_listened</th>\n",
       "      <th>nmidia_regular</th>\n",
       "      <th>nmidia_with_flow</th>\n",
       "      <th>nmidia_with_flow_listened_PROP</th>\n",
       "      <th>nmidia_regular_listened_PROP</th>\n",
       "      <th>nmidia_PROP_diff</th>\n",
       "    </tr>\n",
       "  </thead>\n",
       "  <tbody>\n",
       "    <tr>\n",
       "      <th>0</th>\n",
       "      <td>0.000000</td>\n",
       "      <td>2016-12-01 11:00:15</td>\n",
       "      <td>0.0</td>\n",
       "      <td>41774</td>\n",
       "      <td>0.729730</td>\n",
       "      <td>2004-07-04 00:00:00</td>\n",
       "      <td>1</td>\n",
       "      <td>0</td>\n",
       "      <td>4.0</td>\n",
       "      <td>0.668147</td>\n",
       "      <td>...</td>\n",
       "      <td>2</td>\n",
       "      <td>16.580822</td>\n",
       "      <td>2</td>\n",
       "      <td>41</td>\n",
       "      <td>48</td>\n",
       "      <td>57</td>\n",
       "      <td>71</td>\n",
       "      <td>0.676056</td>\n",
       "      <td>0.719298</td>\n",
       "      <td>0.939883</td>\n",
       "    </tr>\n",
       "    <tr>\n",
       "      <th>1</th>\n",
       "      <td>1.000000</td>\n",
       "      <td>2016-11-30 20:25:35</td>\n",
       "      <td>1.0</td>\n",
       "      <td>43941</td>\n",
       "      <td>0.627104</td>\n",
       "      <td>2006-03-01 00:00:00</td>\n",
       "      <td>2</td>\n",
       "      <td>1</td>\n",
       "      <td>3.0</td>\n",
       "      <td>0.668147</td>\n",
       "      <td>...</td>\n",
       "      <td>2</td>\n",
       "      <td>19.241096</td>\n",
       "      <td>2</td>\n",
       "      <td>22</td>\n",
       "      <td>0</td>\n",
       "      <td>37</td>\n",
       "      <td>1</td>\n",
       "      <td>0.000000</td>\n",
       "      <td>0.594595</td>\n",
       "      <td>0.000000</td>\n",
       "    </tr>\n",
       "    <tr>\n",
       "      <th>2</th>\n",
       "      <td>1.000000</td>\n",
       "      <td>2016-11-19 11:59:13</td>\n",
       "      <td>1.0</td>\n",
       "      <td>48078</td>\n",
       "      <td>0.585062</td>\n",
       "      <td>2014-07-14 00:00:00</td>\n",
       "      <td>2</td>\n",
       "      <td>1</td>\n",
       "      <td>2.0</td>\n",
       "      <td>0.621395</td>\n",
       "      <td>...</td>\n",
       "      <td>2</td>\n",
       "      <td>26.646575</td>\n",
       "      <td>4</td>\n",
       "      <td>180</td>\n",
       "      <td>75</td>\n",
       "      <td>181</td>\n",
       "      <td>77</td>\n",
       "      <td>0.974026</td>\n",
       "      <td>0.994475</td>\n",
       "      <td>0.979437</td>\n",
       "    </tr>\n",
       "    <tr>\n",
       "      <th>3</th>\n",
       "      <td>0.624172</td>\n",
       "      <td>2016-11-26 07:21:38</td>\n",
       "      <td>0.0</td>\n",
       "      <td>71521</td>\n",
       "      <td>0.627104</td>\n",
       "      <td>2000-10-30 00:00:00</td>\n",
       "      <td>0</td>\n",
       "      <td>0</td>\n",
       "      <td>4.0</td>\n",
       "      <td>0.668147</td>\n",
       "      <td>...</td>\n",
       "      <td>2</td>\n",
       "      <td>13.915068</td>\n",
       "      <td>3</td>\n",
       "      <td>303</td>\n",
       "      <td>142</td>\n",
       "      <td>476</td>\n",
       "      <td>241</td>\n",
       "      <td>0.589212</td>\n",
       "      <td>0.636555</td>\n",
       "      <td>0.925626</td>\n",
       "    </tr>\n",
       "    <tr>\n",
       "      <th>4</th>\n",
       "      <td>0.714286</td>\n",
       "      <td>2016-12-01 04:13:06</td>\n",
       "      <td>1.0</td>\n",
       "      <td>138895</td>\n",
       "      <td>0.585062</td>\n",
       "      <td>2006-11-28 00:00:00</td>\n",
       "      <td>0</td>\n",
       "      <td>0</td>\n",
       "      <td>5.0</td>\n",
       "      <td>0.621395</td>\n",
       "      <td>...</td>\n",
       "      <td>2</td>\n",
       "      <td>19.983562</td>\n",
       "      <td>2</td>\n",
       "      <td>303</td>\n",
       "      <td>142</td>\n",
       "      <td>476</td>\n",
       "      <td>241</td>\n",
       "      <td>0.589212</td>\n",
       "      <td>0.636555</td>\n",
       "      <td>0.925626</td>\n",
       "    </tr>\n",
       "  </tbody>\n",
       "</table>\n",
       "<p>5 rows × 35 columns</p>\n",
       "</div>"
      ],
      "text/plain": [
       "   genre_id            ts_listen  media_id  album_id  context_type  \\\n",
       "0  0.000000  2016-12-01 11:00:15       0.0     41774      0.729730   \n",
       "1  1.000000  2016-11-30 20:25:35       1.0     43941      0.627104   \n",
       "2  1.000000  2016-11-19 11:59:13       1.0     48078      0.585062   \n",
       "3  0.624172  2016-11-26 07:21:38       0.0     71521      0.627104   \n",
       "4  0.714286  2016-12-01 04:13:06       1.0    138895      0.585062   \n",
       "\n",
       "          release_date  platform_name  platform_family  media_duration  \\\n",
       "0  2004-07-04 00:00:00              1                0             4.0   \n",
       "1  2006-03-01 00:00:00              2                1             3.0   \n",
       "2  2014-07-14 00:00:00              2                1             2.0   \n",
       "3  2000-10-30 00:00:00              0                0             4.0   \n",
       "4  2006-11-28 00:00:00              0                0             5.0   \n",
       "\n",
       "   listen_type        ...         user_age_group  diff_user_song_age  \\\n",
       "0     0.668147        ...                      2           16.580822   \n",
       "1     0.668147        ...                      2           19.241096   \n",
       "2     0.621395        ...                      2           26.646575   \n",
       "3     0.668147        ...                      2           13.915068   \n",
       "4     0.621395        ...                      2           19.983562   \n",
       "\n",
       "   media_decade  nmidia_regular_listened  nmidia_with_flow_listened  \\\n",
       "0             2                       41                         48   \n",
       "1             2                       22                          0   \n",
       "2             4                      180                         75   \n",
       "3             3                      303                        142   \n",
       "4             2                      303                        142   \n",
       "\n",
       "  nmidia_regular  nmidia_with_flow  nmidia_with_flow_listened_PROP  \\\n",
       "0             57                71                        0.676056   \n",
       "1             37                 1                        0.000000   \n",
       "2            181                77                        0.974026   \n",
       "3            476               241                        0.589212   \n",
       "4            476               241                        0.589212   \n",
       "\n",
       "   nmidia_regular_listened_PROP  nmidia_PROP_diff  \n",
       "0                      0.719298          0.939883  \n",
       "1                      0.594595          0.000000  \n",
       "2                      0.994475          0.979437  \n",
       "3                      0.636555          0.925626  \n",
       "4                      0.636555          0.925626  \n",
       "\n",
       "[5 rows x 35 columns]"
      ]
     },
     "execution_count": 144,
     "metadata": {},
     "output_type": "execute_result"
    }
   ],
   "source": [
    "df_train.head()"
   ]
  },
  {
   "cell_type": "code",
   "execution_count": 145,
   "metadata": {
    "collapsed": false,
    "deletable": true,
    "editable": true
   },
   "outputs": [],
   "source": [
    "df_train = onehot(df_train, cols_for_onehot)\n",
    "df_test = onehot(df_test, cols_for_onehot)"
   ]
  },
  {
   "cell_type": "code",
   "execution_count": 146,
   "metadata": {
    "collapsed": false,
    "deletable": true,
    "editable": true
   },
   "outputs": [
    {
     "data": {
      "text/html": [
       "<div>\n",
       "<table border=\"1\" class=\"dataframe\">\n",
       "  <thead>\n",
       "    <tr style=\"text-align: right;\">\n",
       "      <th></th>\n",
       "      <th>genre_id</th>\n",
       "      <th>ts_listen</th>\n",
       "      <th>media_id</th>\n",
       "      <th>album_id</th>\n",
       "      <th>context_type</th>\n",
       "      <th>release_date</th>\n",
       "      <th>media_duration</th>\n",
       "      <th>user_id</th>\n",
       "      <th>artist_id</th>\n",
       "      <th>user_age</th>\n",
       "      <th>...</th>\n",
       "      <th>user_age_group_2</th>\n",
       "      <th>ts_listen_DAY_OF_WEEK_1</th>\n",
       "      <th>ts_listen_DAY_OF_WEEK_2</th>\n",
       "      <th>ts_listen_DAY_OF_WEEK_3</th>\n",
       "      <th>ts_listen_DAY_OF_WEEK_4</th>\n",
       "      <th>ts_listen_DAY_OF_WEEK_5</th>\n",
       "      <th>ts_listen_DAY_OF_WEEK_6</th>\n",
       "      <th>ts_listen_PERIOD_OF_DAY_1</th>\n",
       "      <th>ts_listen_PERIOD_OF_DAY_2</th>\n",
       "      <th>ts_listen_PERIOD_OF_DAY_3</th>\n",
       "    </tr>\n",
       "  </thead>\n",
       "  <tbody>\n",
       "    <tr>\n",
       "      <th>0</th>\n",
       "      <td>0.000000</td>\n",
       "      <td>2016-12-01 11:00:15</td>\n",
       "      <td>0.0</td>\n",
       "      <td>41774</td>\n",
       "      <td>0.729730</td>\n",
       "      <td>2004-07-04 00:00:00</td>\n",
       "      <td>4.0</td>\n",
       "      <td>0.000000</td>\n",
       "      <td>89</td>\n",
       "      <td>29</td>\n",
       "      <td>...</td>\n",
       "      <td>1</td>\n",
       "      <td>0</td>\n",
       "      <td>0</td>\n",
       "      <td>1</td>\n",
       "      <td>0</td>\n",
       "      <td>0</td>\n",
       "      <td>0</td>\n",
       "      <td>0</td>\n",
       "      <td>0</td>\n",
       "      <td>0</td>\n",
       "    </tr>\n",
       "    <tr>\n",
       "      <th>1</th>\n",
       "      <td>1.000000</td>\n",
       "      <td>2016-11-30 20:25:35</td>\n",
       "      <td>1.0</td>\n",
       "      <td>43941</td>\n",
       "      <td>0.627104</td>\n",
       "      <td>2006-03-01 00:00:00</td>\n",
       "      <td>3.0</td>\n",
       "      <td>1.000000</td>\n",
       "      <td>96</td>\n",
       "      <td>30</td>\n",
       "      <td>...</td>\n",
       "      <td>1</td>\n",
       "      <td>0</td>\n",
       "      <td>1</td>\n",
       "      <td>0</td>\n",
       "      <td>0</td>\n",
       "      <td>0</td>\n",
       "      <td>0</td>\n",
       "      <td>0</td>\n",
       "      <td>1</td>\n",
       "      <td>0</td>\n",
       "    </tr>\n",
       "    <tr>\n",
       "      <th>2</th>\n",
       "      <td>1.000000</td>\n",
       "      <td>2016-11-19 11:59:13</td>\n",
       "      <td>1.0</td>\n",
       "      <td>48078</td>\n",
       "      <td>0.585062</td>\n",
       "      <td>2014-07-14 00:00:00</td>\n",
       "      <td>2.0</td>\n",
       "      <td>1.000000</td>\n",
       "      <td>70</td>\n",
       "      <td>29</td>\n",
       "      <td>...</td>\n",
       "      <td>1</td>\n",
       "      <td>0</td>\n",
       "      <td>0</td>\n",
       "      <td>0</td>\n",
       "      <td>0</td>\n",
       "      <td>1</td>\n",
       "      <td>0</td>\n",
       "      <td>0</td>\n",
       "      <td>0</td>\n",
       "      <td>0</td>\n",
       "    </tr>\n",
       "    <tr>\n",
       "      <th>3</th>\n",
       "      <td>0.624172</td>\n",
       "      <td>2016-11-26 07:21:38</td>\n",
       "      <td>0.0</td>\n",
       "      <td>71521</td>\n",
       "      <td>0.627104</td>\n",
       "      <td>2000-10-30 00:00:00</td>\n",
       "      <td>4.0</td>\n",
       "      <td>0.666667</td>\n",
       "      <td>57</td>\n",
       "      <td>30</td>\n",
       "      <td>...</td>\n",
       "      <td>1</td>\n",
       "      <td>0</td>\n",
       "      <td>0</td>\n",
       "      <td>0</td>\n",
       "      <td>0</td>\n",
       "      <td>1</td>\n",
       "      <td>0</td>\n",
       "      <td>0</td>\n",
       "      <td>0</td>\n",
       "      <td>0</td>\n",
       "    </tr>\n",
       "    <tr>\n",
       "      <th>4</th>\n",
       "      <td>0.714286</td>\n",
       "      <td>2016-12-01 04:13:06</td>\n",
       "      <td>1.0</td>\n",
       "      <td>138895</td>\n",
       "      <td>0.585062</td>\n",
       "      <td>2006-11-28 00:00:00</td>\n",
       "      <td>5.0</td>\n",
       "      <td>0.666667</td>\n",
       "      <td>28</td>\n",
       "      <td>30</td>\n",
       "      <td>...</td>\n",
       "      <td>1</td>\n",
       "      <td>0</td>\n",
       "      <td>0</td>\n",
       "      <td>1</td>\n",
       "      <td>0</td>\n",
       "      <td>0</td>\n",
       "      <td>0</td>\n",
       "      <td>0</td>\n",
       "      <td>0</td>\n",
       "      <td>1</td>\n",
       "    </tr>\n",
       "  </tbody>\n",
       "</table>\n",
       "<p>5 rows × 45 columns</p>\n",
       "</div>"
      ],
      "text/plain": [
       "   genre_id            ts_listen  media_id  album_id  context_type  \\\n",
       "0  0.000000  2016-12-01 11:00:15       0.0     41774      0.729730   \n",
       "1  1.000000  2016-11-30 20:25:35       1.0     43941      0.627104   \n",
       "2  1.000000  2016-11-19 11:59:13       1.0     48078      0.585062   \n",
       "3  0.624172  2016-11-26 07:21:38       0.0     71521      0.627104   \n",
       "4  0.714286  2016-12-01 04:13:06       1.0    138895      0.585062   \n",
       "\n",
       "          release_date  media_duration   user_id  artist_id  user_age  \\\n",
       "0  2004-07-04 00:00:00             4.0  0.000000         89        29   \n",
       "1  2006-03-01 00:00:00             3.0  1.000000         96        30   \n",
       "2  2014-07-14 00:00:00             2.0  1.000000         70        29   \n",
       "3  2000-10-30 00:00:00             4.0  0.666667         57        30   \n",
       "4  2006-11-28 00:00:00             5.0  0.666667         28        30   \n",
       "\n",
       "             ...              user_age_group_2 ts_listen_DAY_OF_WEEK_1  \\\n",
       "0            ...                             1                       0   \n",
       "1            ...                             1                       0   \n",
       "2            ...                             1                       0   \n",
       "3            ...                             1                       0   \n",
       "4            ...                             1                       0   \n",
       "\n",
       "   ts_listen_DAY_OF_WEEK_2  ts_listen_DAY_OF_WEEK_3  ts_listen_DAY_OF_WEEK_4  \\\n",
       "0                        0                        1                        0   \n",
       "1                        1                        0                        0   \n",
       "2                        0                        0                        0   \n",
       "3                        0                        0                        0   \n",
       "4                        0                        1                        0   \n",
       "\n",
       "   ts_listen_DAY_OF_WEEK_5  ts_listen_DAY_OF_WEEK_6  \\\n",
       "0                        0                        0   \n",
       "1                        0                        0   \n",
       "2                        1                        0   \n",
       "3                        1                        0   \n",
       "4                        0                        0   \n",
       "\n",
       "   ts_listen_PERIOD_OF_DAY_1  ts_listen_PERIOD_OF_DAY_2  \\\n",
       "0                          0                          0   \n",
       "1                          0                          1   \n",
       "2                          0                          0   \n",
       "3                          0                          0   \n",
       "4                          0                          0   \n",
       "\n",
       "   ts_listen_PERIOD_OF_DAY_3  \n",
       "0                          0  \n",
       "1                          0  \n",
       "2                          0  \n",
       "3                          0  \n",
       "4                          1  \n",
       "\n",
       "[5 rows x 45 columns]"
      ]
     },
     "execution_count": 146,
     "metadata": {},
     "output_type": "execute_result"
    }
   ],
   "source": [
    "df_train.head()"
   ]
  },
  {
   "cell_type": "code",
   "execution_count": 147,
   "metadata": {
    "collapsed": false,
    "deletable": true,
    "editable": true
   },
   "outputs": [],
   "source": [
    "#df_train = rank_categorical(df_train, cols_for_rank)"
   ]
  },
  {
   "cell_type": "code",
   "execution_count": 148,
   "metadata": {
    "collapsed": false,
    "deletable": true,
    "editable": true
   },
   "outputs": [
    {
     "data": {
      "text/plain": [
       "array(['genre_id', 'ts_listen', 'media_id', 'album_id', 'context_type',\n",
       "       'release_date', 'media_duration', 'user_id', 'artist_id',\n",
       "       'user_age', 'is_listened', 'text', 'year',\n",
       "       'diff_ts_listen_AND_release_date_D',\n",
       "       'diff_ts_listen_AND_release_date_M',\n",
       "       'diff_ts_listen_AND_release_date_Y', 'release_date_DAY',\n",
       "       'release_date_MONTH', 'release_date_YEAR', 'diff_user_song_age',\n",
       "       'media_decade', 'nmidia_regular_listened',\n",
       "       'nmidia_with_flow_listened', 'nmidia_regular', 'nmidia_with_flow',\n",
       "       'nmidia_with_flow_listened_PROP', 'nmidia_regular_listened_PROP',\n",
       "       'nmidia_PROP_diff', 'platform_name_1', 'platform_name_2',\n",
       "       'platform_family_1', 'platform_family_2',\n",
       "       'listen_type_0.668146503885', 'user_gender_1', 'user_age_group_1',\n",
       "       'user_age_group_2', 'ts_listen_DAY_OF_WEEK_1',\n",
       "       'ts_listen_DAY_OF_WEEK_2', 'ts_listen_DAY_OF_WEEK_3',\n",
       "       'ts_listen_DAY_OF_WEEK_4', 'ts_listen_DAY_OF_WEEK_5',\n",
       "       'ts_listen_DAY_OF_WEEK_6', 'ts_listen_PERIOD_OF_DAY_1',\n",
       "       'ts_listen_PERIOD_OF_DAY_2', 'ts_listen_PERIOD_OF_DAY_3'], dtype=object)"
      ]
     },
     "execution_count": 148,
     "metadata": {},
     "output_type": "execute_result"
    }
   ],
   "source": [
    "df_train.columns.values"
   ]
  },
  {
   "cell_type": "code",
   "execution_count": 149,
   "metadata": {
    "collapsed": false,
    "deletable": true,
    "editable": true
   },
   "outputs": [],
   "source": [
    "### Drop\n",
    "to_drop = ['ts_listen', 'album_id', 'release_date', 'artist_id', \"year\", \"text\"]\n",
    "df_train.drop(to_drop, axis = 1,inplace=True)\n",
    "df_test.drop(to_drop, axis = 1,inplace=True)"
   ]
  },
  {
   "cell_type": "code",
   "execution_count": 150,
   "metadata": {
    "collapsed": false,
    "deletable": true,
    "editable": true
   },
   "outputs": [
    {
     "data": {
      "text/plain": [
       "Series([], dtype: int64)"
      ]
     },
     "execution_count": 150,
     "metadata": {},
     "output_type": "execute_result"
    }
   ],
   "source": [
    "# to_drop = [\"year\", \"text\"]\n",
    "# df_train.drop(to_drop, axis = 1,inplace=True)\n",
    "pd.isnull(df_train).sum()[pd.isnull(df_train).sum() > 0]\n",
    "#pd.isnull(df_test).sum()[pd.isnull(df_test).sum() > 0]"
   ]
  },
  {
   "cell_type": "code",
   "execution_count": 151,
   "metadata": {
    "collapsed": false,
    "deletable": true,
    "editable": true
   },
   "outputs": [
    {
     "data": {
      "text/plain": [
       "['genre_id',\n",
       " 'media_id',\n",
       " 'context_type',\n",
       " 'media_duration',\n",
       " 'user_id',\n",
       " 'user_age',\n",
       " 'diff_ts_listen_AND_release_date_D',\n",
       " 'diff_ts_listen_AND_release_date_M',\n",
       " 'diff_ts_listen_AND_release_date_Y',\n",
       " 'release_date_DAY',\n",
       " 'release_date_MONTH',\n",
       " 'release_date_YEAR',\n",
       " 'diff_user_song_age',\n",
       " 'media_decade',\n",
       " 'nmidia_regular_listened',\n",
       " 'nmidia_with_flow_listened',\n",
       " 'nmidia_regular',\n",
       " 'nmidia_with_flow',\n",
       " 'nmidia_with_flow_listened_PROP',\n",
       " 'nmidia_regular_listened_PROP',\n",
       " 'nmidia_PROP_diff',\n",
       " 'platform_name_1',\n",
       " 'platform_name_2',\n",
       " 'platform_family_1',\n",
       " 'platform_family_2',\n",
       " 'listen_type_0.668146503885',\n",
       " 'user_gender_1',\n",
       " 'user_age_group_1',\n",
       " 'user_age_group_2',\n",
       " 'ts_listen_DAY_OF_WEEK_1',\n",
       " 'ts_listen_DAY_OF_WEEK_2',\n",
       " 'ts_listen_DAY_OF_WEEK_3',\n",
       " 'ts_listen_DAY_OF_WEEK_4',\n",
       " 'ts_listen_DAY_OF_WEEK_5',\n",
       " 'ts_listen_DAY_OF_WEEK_6',\n",
       " 'ts_listen_PERIOD_OF_DAY_1',\n",
       " 'ts_listen_PERIOD_OF_DAY_2',\n",
       " 'ts_listen_PERIOD_OF_DAY_3']"
      ]
     },
     "execution_count": 151,
     "metadata": {},
     "output_type": "execute_result"
    }
   ],
   "source": [
    "features = [col for col in df_train.columns.values if col != target]\n",
    "features"
   ]
  },
  {
   "cell_type": "code",
   "execution_count": 152,
   "metadata": {
    "collapsed": true,
    "deletable": true,
    "editable": true
   },
   "outputs": [],
   "source": [
    "from sklearn.model_selection import train_test_split"
   ]
  },
  {
   "cell_type": "code",
   "execution_count": 153,
   "metadata": {
    "collapsed": false,
    "deletable": true,
    "editable": true
   },
   "outputs": [],
   "source": [
    "X_train, X_test, y_train, y_test = train_test_split(df_train[features], df_train[target], test_size = 0.2)"
   ]
  },
  {
   "cell_type": "code",
   "execution_count": 154,
   "metadata": {
    "collapsed": false
   },
   "outputs": [],
   "source": [
    "#X_train.applymap(lambda x : math.isnan(x))"
   ]
  },
  {
   "cell_type": "code",
   "execution_count": 155,
   "metadata": {
    "collapsed": false
   },
   "outputs": [
    {
     "data": {
      "text/plain": [
       "Series([], dtype: int64)"
      ]
     },
     "execution_count": 155,
     "metadata": {},
     "output_type": "execute_result"
    }
   ],
   "source": [
    "pd.isnull(X_train.replace([np.inf, -np.inf], np.nan)).sum()[pd.isnull(X_train.replace([np.inf, -np.inf], np.nan)).sum() > 0]"
   ]
  },
  {
   "cell_type": "markdown",
   "metadata": {
    "deletable": true,
    "editable": true
   },
   "source": [
    "### Feature Selection"
   ]
  },
  {
   "cell_type": "code",
   "execution_count": 156,
   "metadata": {
    "collapsed": false,
    "deletable": true,
    "editable": true
   },
   "outputs": [
    {
     "name": "stdout",
     "output_type": "stream",
     "text": [
      "18 selected variables from 38, 47.37%\n",
      "['genre_id', 'media_id', 'context_type', 'user_id', 'release_date_DAY', 'release_date_MONTH', 'media_decade', 'nmidia_regular_listened', 'nmidia_with_flow_listened', 'nmidia_with_flow', 'nmidia_with_flow_listened_PROP', 'nmidia_regular_listened_PROP', 'nmidia_PROP_diff', 'platform_name_2', 'platform_family_1', 'platform_family_2', 'user_gender_1', 'ts_listen_DAY_OF_WEEK_4']\n"
     ]
    }
   ],
   "source": [
    "from sklearn import feature_selection\n",
    "all_features = features\n",
    "function_rule_selection = feature_selection.f_classif\n",
    "alpha_cutoff = 0.01\n",
    "\n",
    "selection_rule = feature_selection.SelectFdr(function_rule_selection, alpha_cutoff)\n",
    "selection_rule.fit(X_train, y_train);\n",
    "\n",
    "all_pvalues = list(filter(lambda x: pd.notnull(x[0]), zip(selection_rule.pvalues_, all_features)))\n",
    "#print(all_pvalues)\n",
    "filtered_pvalues = list(filter(lambda x: x[0]<=alpha_cutoff, all_pvalues))\n",
    "#print(filtered_pvalues)\n",
    "all_select_features = list(map(lambda x: x[1], filtered_pvalues))\n",
    "\n",
    "print(\"{0} selected variables from {1}, {2:.2f}%\".format(len(all_select_features), \n",
    "                                                        len(all_features), \n",
    "                                                        len(filtered_pvalues)*100/float(len(all_features))))\n",
    "print(all_select_features)\n",
    "#print(filtered_pvalues)"
   ]
  },
  {
   "cell_type": "code",
   "execution_count": 157,
   "metadata": {
    "collapsed": true,
    "deletable": true,
    "editable": true
   },
   "outputs": [],
   "source": [
    "feaures = all_select_features\n",
    "X_train, X_test, y_train, y_test = train_test_split(df_train[features], df_train[target], test_size = 0.4)\n",
    "X_val, X_test, y_val, y_test = train_test_split(X_test, y_test, test_size = 0.5)"
   ]
  },
  {
   "cell_type": "code",
   "execution_count": 158,
   "metadata": {
    "collapsed": true,
    "deletable": true,
    "editable": true
   },
   "outputs": [],
   "source": [
    "from sklearn import metrics\n",
    "from sklearn.metrics import confusion_matrix\n",
    "from sklearn.metrics import accuracy_score\n",
    "import matplotlib.pyplot as plt\n",
    "\n",
    "def complete_report(y_test, y_pred):\n",
    "    print(\"*********************************\")\n",
    "    print(\"Accuracy: {0:.2f}\".format(accuracy_score(y_test, y_pred)))\n",
    "    print(\"Precision: {0}\".format(metrics.precision_score(y_test, y_pred)))\n",
    "    print(\"Recall: {0}\".format(metrics.recall_score(y_test, y_pred)))\n",
    "    print(\"F1-Score: {0}\".format(metrics.f1_score(y_test, y_pred)))\n",
    "    conf_m = confusion_matrix(y_test, y_pred)\n",
    "    print(conf_m)\n",
    "    try: \n",
    "        print(\"Roc Area: {0}\".format(metrics.roc_auc_score(y_test, y_pred))) \n",
    "        roc_curve_label(y_test, y_pred)\n",
    "    except:\n",
    "        print(\"--\")\n",
    "    print(\"*********************************\")\n",
    "    \n",
    "    return metrics.roc_auc_score(y_test, y_pred)\n",
    "        \n",
    "def roc_curve_label(y_test, y_pred):\n",
    "    plt.figsize=(10,6)\n",
    "    fpr, tpr, _ = metrics.roc_curve(y_test, y_pred)\n",
    "    plt.figure(1)\n",
    "    plt.plot([0, 1], [0, 1], 'k--')\n",
    "    plt.plot(fpr, tpr, label='RT + LR')\n",
    "    plt.xlabel('False positive rate')\n",
    "    plt.ylabel('True positive rate')\n",
    "    plt.title('ROC curve')\n",
    "    plt.legend(loc='best')\n",
    "    plt.show()"
   ]
  },
  {
   "cell_type": "code",
   "execution_count": 159,
   "metadata": {
    "collapsed": false,
    "deletable": true,
    "editable": true
   },
   "outputs": [
    {
     "data": {
      "text/plain": [
       "DecisionTreeClassifier(class_weight=None, criterion='gini', max_depth=None,\n",
       "            max_features=None, max_leaf_nodes=None,\n",
       "            min_impurity_split=1e-07, min_samples_leaf=1,\n",
       "            min_samples_split=2, min_weight_fraction_leaf=0.0,\n",
       "            presort=False, random_state=None, splitter='best')"
      ]
     },
     "execution_count": 159,
     "metadata": {},
     "output_type": "execute_result"
    }
   ],
   "source": [
    "from sklearn.tree import DecisionTreeClassifier\n",
    "model = DecisionTreeClassifier()\n",
    "model.fit(X_train, y_train)"
   ]
  },
  {
   "cell_type": "code",
   "execution_count": 160,
   "metadata": {
    "collapsed": false,
    "deletable": true,
    "editable": true
   },
   "outputs": [
    {
     "name": "stdout",
     "output_type": "stream",
     "text": [
      "0.822916666667\n",
      "*********************************\n",
      "Accuracy: 0.82\n",
      "Precision: 0.855191256831\n",
      "Recall: 0.864640883978\n",
      "F1-Score: 0.85989010989\n",
      "[[161  53]\n",
      " [ 49 313]]\n",
      "Roc Area: 0.808488666288\n"
     ]
    },
    {
     "data": {
      "image/png": "[encoded data removed]",
      "text/plain": [
       "<matplotlib.figure.Figure at 0x7f0388c8a390>"
      ]
     },
     "metadata": {},
     "output_type": "display_data"
    },
    {
     "name": "stdout",
     "output_type": "stream",
     "text": [
      "*********************************\n"
     ]
    },
    {
     "data": {
      "text/plain": [
       "0.80848866628801563"
      ]
     },
     "execution_count": 160,
     "metadata": {},
     "output_type": "execute_result"
    }
   ],
   "source": [
    "print(model.score(X_test, y_test))\n",
    "complete_report(y_test, model.predict(X_test))"
   ]
  },
  {
   "cell_type": "markdown",
   "metadata": {
    "deletable": true,
    "editable": true
   },
   "source": [
    "acc: 0.70345496362865445  \n",
    "roc: 0.6912675674785278"
   ]
  },
  {
   "cell_type": "code",
   "execution_count": 161,
   "metadata": {
    "collapsed": false,
    "deletable": true,
    "editable": true
   },
   "outputs": [],
   "source": [
    "from sklearn.metrics import confusion_matrix"
   ]
  },
  {
   "cell_type": "code",
   "execution_count": 162,
   "metadata": {
    "collapsed": false,
    "deletable": true,
    "editable": true
   },
   "outputs": [
    {
     "data": {
      "text/plain": [
       "array([[161,  53],\n",
       "       [ 49, 313]])"
      ]
     },
     "execution_count": 162,
     "metadata": {},
     "output_type": "execute_result"
    }
   ],
   "source": [
    "confusion_matrix(y_test, model.predict(X_test))"
   ]
  },
  {
   "cell_type": "code",
   "execution_count": 174,
   "metadata": {
    "collapsed": false
   },
   "outputs": [],
   "source": [
    "counts = df_train[target].value_counts()\n",
    "class_ratio = counts[1] / np.sum(counts.values) "
   ]
  },
  {
   "cell_type": "code",
   "execution_count": 175,
   "metadata": {
    "collapsed": false,
    "deletable": true,
    "editable": true
   },
   "outputs": [
    {
     "name": "stdout",
     "output_type": "stream",
     "text": [
      "[0]\ttrain-mlogloss:0.572134\tvalidation-mlogloss:0.572147\n",
      "Multiple eval metrics have been passed: 'validation-mlogloss' will be used for early stopping.\n",
      "\n",
      "Will train until validation-mlogloss hasn't improved in 5 rounds.\n",
      "[1]\ttrain-mlogloss:0.489923\tvalidation-mlogloss:0.490313\n",
      "[2]\ttrain-mlogloss:0.431299\tvalidation-mlogloss:0.433349\n",
      "[3]\ttrain-mlogloss:0.384294\tvalidation-mlogloss:0.39014\n",
      "[4]\ttrain-mlogloss:0.34852\tvalidation-mlogloss:0.356785\n",
      "[5]\ttrain-mlogloss:0.320922\tvalidation-mlogloss:0.331106\n",
      "[6]\ttrain-mlogloss:0.297802\tvalidation-mlogloss:0.31167\n",
      "[7]\ttrain-mlogloss:0.279914\tvalidation-mlogloss:0.295359\n",
      "[8]\ttrain-mlogloss:0.264896\tvalidation-mlogloss:0.283964\n",
      "[9]\ttrain-mlogloss:0.252097\tvalidation-mlogloss:0.275556\n",
      "[10]\ttrain-mlogloss:0.242663\tvalidation-mlogloss:0.2665\n",
      "[11]\ttrain-mlogloss:0.234142\tvalidation-mlogloss:0.262131\n",
      "[12]\ttrain-mlogloss:0.226188\tvalidation-mlogloss:0.254871\n",
      "[13]\ttrain-mlogloss:0.219802\tvalidation-mlogloss:0.250313\n",
      "[14]\ttrain-mlogloss:0.213951\tvalidation-mlogloss:0.246856\n",
      "[15]\ttrain-mlogloss:0.208716\tvalidation-mlogloss:0.244589\n",
      "[16]\ttrain-mlogloss:0.203522\tvalidation-mlogloss:0.243323\n",
      "[17]\ttrain-mlogloss:0.199891\tvalidation-mlogloss:0.241821\n",
      "[18]\ttrain-mlogloss:0.195891\tvalidation-mlogloss:0.241618\n",
      "[19]\ttrain-mlogloss:0.193098\tvalidation-mlogloss:0.241565\n",
      "[20]\ttrain-mlogloss:0.190461\tvalidation-mlogloss:0.240897\n",
      "[21]\ttrain-mlogloss:0.187653\tvalidation-mlogloss:0.240351\n",
      "[22]\ttrain-mlogloss:0.1862\tvalidation-mlogloss:0.239858\n",
      "[23]\ttrain-mlogloss:0.184459\tvalidation-mlogloss:0.239502\n",
      "[24]\ttrain-mlogloss:0.183105\tvalidation-mlogloss:0.239183\n",
      "[25]\ttrain-mlogloss:0.1806\tvalidation-mlogloss:0.24015\n",
      "[26]\ttrain-mlogloss:0.179494\tvalidation-mlogloss:0.240685\n",
      "[27]\ttrain-mlogloss:0.177329\tvalidation-mlogloss:0.24138\n",
      "[28]\ttrain-mlogloss:0.176478\tvalidation-mlogloss:0.241963\n",
      "[29]\ttrain-mlogloss:0.175274\tvalidation-mlogloss:0.242568\n",
      "Stopping. Best iteration:\n",
      "[24]\ttrain-mlogloss:0.183105\tvalidation-mlogloss:0.239183\n",
      "\n",
      "[ 0.00997512  0.99002492]\n",
      "Tempo de execução: 0m1s\n"
     ]
    }
   ],
   "source": [
    "import xgboost as xgb\n",
    "from time import time\n",
    "\n",
    "start = time()\n",
    "xg_train = xgb.DMatrix(X_train, label=y_train, missing=np.NaN)\n",
    "xg_test = xgb.DMatrix(X_test, label=y_test, missing=np.NaN)\n",
    "xg_val = xgb.DMatrix(X_val, label=y_val, missing=np.NaN)\n",
    "param = {'max_depth':52, \n",
    "         'eta':0.2, \n",
    "         'silent':0, \n",
    "         'objective':'multi:softprob', \n",
    "         \"booster\": \"gbtree\", \n",
    "         \"max_delta_step\":1,\n",
    "         \"alpha\": 5,\n",
    "         \"lambda\": 2,\n",
    "         \"scale_pos_weight\": class_ratio,\n",
    "         \"eval_metric\": \"mlogloss\"}\n",
    "\n",
    "### Objectives\n",
    "## 'binary:logistic'\n",
    "## 'multi:softprob'\n",
    "param['num_class'] = 2\n",
    "param[\"min_child_weight\"] = 1\n",
    "param[\"colsample_bytree\"] = 1\n",
    "num_round = 33\n",
    "\n",
    "watchlist = [(xg_train,'train'), (xg_val,'validation')]\n",
    "\n",
    "\n",
    "bst = xgb.train(param, \n",
    "                xg_train, \n",
    "                num_round, \n",
    "                watchlist,\n",
    "                early_stopping_rounds=5)\n",
    "\n",
    "yprob = bst.predict( xg_test ).reshape( y_test.shape[0], 2)\n",
    "print(yprob[0])\n",
    "\n",
    "print('Tempo de execução: {0}m{1}s'.format(int((time()-start)/60),\n",
    "             int((time()-start)%60 )))"
   ]
  },
  {
   "cell_type": "code",
   "execution_count": 177,
   "metadata": {
    "collapsed": true
   },
   "outputs": [],
   "source": [
    "yprob = bst.predict( xg_test ).reshape( y_test.shape[0], 2)"
   ]
  },
  {
   "cell_type": "code",
   "execution_count": 184,
   "metadata": {
    "collapsed": false
   },
   "outputs": [
    {
     "name": "stdout",
     "output_type": "stream",
     "text": [
      "[[162  52]\n",
      " [ 35 327]]\n",
      "*********************************\n",
      "Accuracy: 0.85\n",
      "Precision: 0.862796833773\n",
      "Recall: 0.903314917127\n",
      "F1-Score: 0.882591093117\n",
      "[[162  52]\n",
      " [ 35 327]]\n",
      "Roc Area: 0.830162131461\n"
     ]
    },
    {
     "data": {
      "image/png": "[encoded data removed]",
      "text/plain": [
       "<matplotlib.figure.Figure at 0x7f037f094c90>"
      ]
     },
     "metadata": {},
     "output_type": "display_data"
    },
    {
     "name": "stdout",
     "output_type": "stream",
     "text": [
      "*********************************\n"
     ]
    },
    {
     "data": {
      "text/plain": [
       "0.83016213146073214"
      ]
     },
     "execution_count": 184,
     "metadata": {},
     "output_type": "execute_result"
    }
   ],
   "source": [
    "y_pred = [1 if y[0] <= 0.5 else 0 for y in yprob]\n",
    "print(metrics.confusion_matrix(y_test, y_pred))\n",
    "\n",
    "complete_report(y_test, y_pred)"
   ]
  },
  {
   "cell_type": "code",
   "execution_count": 176,
   "metadata": {
    "collapsed": false,
    "deletable": true,
    "editable": true
   },
   "outputs": [
    {
     "name": "stdout",
     "output_type": "stream",
     "text": [
      "*********************************\n",
      "Accuracy: 0.82\n",
      "Precision: 0.855191256831\n",
      "Recall: 0.864640883978\n",
      "F1-Score: 0.85989010989\n",
      "[[161  53]\n",
      " [ 49 313]]\n",
      "Roc Area: 0.808488666288\n"
     ]
    },
    {
     "data": {
      "image/png": "[encoded data removed]",
      "text/plain": [
       "<matplotlib.figure.Figure at 0x7f0388c986d0>"
      ]
     },
     "metadata": {},
     "output_type": "display_data"
    },
    {
     "name": "stdout",
     "output_type": "stream",
     "text": [
      "*********************************\n"
     ]
    },
    {
     "data": {
      "text/plain": [
       "0.80848866628801563"
      ]
     },
     "execution_count": 176,
     "metadata": {},
     "output_type": "execute_result"
    }
   ],
   "source": [
    "complete_report(y_test, model.predict(X_test))"
   ]
  },
  {
   "cell_type": "code",
   "execution_count": 193,
   "metadata": {
    "collapsed": false,
    "deletable": true,
    "editable": true
   },
   "outputs": [
    {
     "data": {
      "image/png": "[encoded data removed]",
      "text/plain": [
       "<matplotlib.figure.Figure at 0x7fe245cae790>"
      ]
     },
     "metadata": {},
     "output_type": "display_data"
    }
   ],
   "source": [
    "roc_curve_label(y_test, model.predict(X_test))"
   ]
  },
  {
   "cell_type": "code",
   "execution_count": 194,
   "metadata": {
    "collapsed": true,
    "deletable": true,
    "editable": true
   },
   "outputs": [],
   "source": [
    "import gzip\n",
    "import csv\n",
    "import numpy as np\n",
    "\n",
    "def build_kaggle_submission(preds, filename=\"my_submission\"):\n",
    "    \"\"\"\n",
    "    Build a compressed Kaggle Submission\n",
    "    \n",
    "    preds: array with predictions\n",
    "    \"\"\"\n",
    "    with gzip.open(filename + '.csv.gz', 'wt') as outf:\n",
    "        fo = csv.writer(outf, lineterminator='\\n')\n",
    "        fo.writerow([\"sample_id\", \"is_listened\"])       \n",
    "        for i, pred in enumerate(preds):\n",
    "            fo.writerow([i, pred])"
   ]
  },
  {
   "cell_type": "code",
   "execution_count": 195,
   "metadata": {
    "collapsed": true,
    "deletable": true,
    "editable": true
   },
   "outputs": [],
   "source": [
    "p = model.predict_proba(df_test[features])"
   ]
  },
  {
   "cell_type": "code",
   "execution_count": 196,
   "metadata": {
    "collapsed": false,
    "deletable": true,
    "editable": true
   },
   "outputs": [],
   "source": [
    "p = p[:, 1]"
   ]
  },
  {
   "cell_type": "code",
   "execution_count": 197,
   "metadata": {
    "collapsed": false,
    "deletable": true,
    "editable": true
   },
   "outputs": [],
   "source": [
    "build_kaggle_submission(p, \"random_forest_user_feats\")"
   ]
  },
  {
   "cell_type": "code",
   "execution_count": 198,
   "metadata": {
    "collapsed": false,
    "deletable": true,
    "editable": true
   },
   "outputs": [
    {
     "name": "stdout",
     "output_type": "stream",
     "text": [
      "1242.442859\n",
      "3.684862\n",
      "6.4e-05\n"
     ]
    }
   ],
   "source": [
    "import sys\n",
    "print(sys.getsizeof(df_train) / 1e6)\n",
    "print(sys.getsizeof(df_test) / 1e6)\n",
    "print(sys.getsizeof(model) / 1e6)"
   ]
  },
  {
   "cell_type": "markdown",
   "metadata": {
    "collapsed": true,
    "deletable": true,
    "editable": true
   },
   "source": [
    "### GridSearch and XGBoost"
   ]
  },
  {
   "cell_type": "code",
   "execution_count": null,
   "metadata": {
    "collapsed": false,
    "deletable": true,
    "editable": true
   },
   "outputs": [],
   "source": [
    "from keras.models import Sequential\n",
    "from keras.layers.core import Dense, Activation, Reshape\n",
    "from keras.layers.embeddings import Embedding\n",
    "from keras.callbacks import ModelCheckpoint\n",
    "import numpy as np"
   ]
  },
  {
   "cell_type": "code",
   "execution_count": null,
   "metadata": {
    "collapsed": false,
    "deletable": true,
    "editable": true
   },
   "outputs": [],
   "source": [
    "model = Sequential()\n",
    "model.add(Embedding(df_train[\"album_id\"].max(), 64, input_length=10))\n",
    "model.add(Dense(1, activation=\"relu\"))\n",
    "# the model will take as input an integer matrix of size (batch, input_length).\n",
    "# the largest integer (i.e. word index) in the input should be no larger than 999 (vocabulary size).\n",
    "# now model.output_shape == (None, 10, 64), where None is the batch dimension.\n",
    "\n",
    "input_array = np.random.randint(1000, size=(32, 10))\n",
    "print(input_array)\n",
    "model.compile('rmsprop', 'mse')\n",
    "model.fit(input_array, np.array([1]))\n",
    "\n",
    "output_array = model.predict(input_array)\n",
    "#assert output_array.shape == (32, 10, 64)\n",
    "print(output_array)"
   ]
  },
  {
   "cell_type": "code",
   "execution_count": null,
   "metadata": {
    "collapsed": false,
    "deletable": true,
    "editable": true
   },
   "outputs": [],
   "source": [
    "df_train[\"album_id\"].max()"
   ]
  },
  {
   "cell_type": "code",
   "execution_count": null,
   "metadata": {
    "collapsed": false,
    "deletable": true,
    "editable": true
   },
   "outputs": [],
   "source": [
    "output_array"
   ]
  },
  {
   "cell_type": "code",
   "execution_count": null,
   "metadata": {
    "collapsed": true,
    "deletable": true,
    "editable": true
   },
   "outputs": [],
   "source": []
  }
 ],
 "metadata": {
  "kernelspec": {
   "display_name": "Python 2",
   "language": "python",
   "name": "python2"
  },
  "language_info": {
   "codemirror_mode": {
    "name": "ipython",
    "version": 2
   },
   "file_extension": ".py",
   "mimetype": "text/x-python",
   "name": "python",
   "nbconvert_exporter": "python",
   "pygments_lexer": "ipython2",
   "version": "2.7.13"
  }
 },
 "nbformat": 4,
 "nbformat_minor": 2
}
