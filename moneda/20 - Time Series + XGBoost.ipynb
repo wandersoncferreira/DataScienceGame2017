{
 "cells": [
  {
   "cell_type": "markdown",
   "metadata": {
    "deletable": true,
    "editable": true,
    "ein.tags": [
     "worksheet-0"
    ],
    "slideshow": {
     "slide_type": "-"
    }
   },
   "source": [
    "### Data Science Game 2017\n",
    "\n",
    "Data fields\n",
    "\n",
    "    media_id - identifiant of the song listened by the user\n",
    "    album_id - identifiant of the album of the song\n",
    "    media_duration - duration of the song\n",
    "    user_gender -  gender of the user\n",
    "    user_id -  anonymized id of the user\n",
    "    context_type - type of content where the song was listened: playlist, album ...\n",
    "    release_date - release date of the song with the format YYYYMMDD\n",
    "    ts_listen - timestamp of the listening in UNIX time\n",
    "    platform_name - type of os\n",
    "    platform_family - type of device\n",
    "    user_age - age of the user\n",
    "    listen_type - if the songs was listened in a flow or not\n",
    "    artist_id - identifiant of the artist of the song\n",
    "    genre_id - identifiant of the genre of the song\n",
    "    is_listened - 1 if the track was listened, 0 otherwise\n"
   ]
  },
  {
   "cell_type": "code",
   "execution_count": 1,
   "metadata": {
    "autoscroll": "json-false",
    "collapsed": false,
    "deletable": true,
    "editable": true,
    "ein.tags": [
     "worksheet-0"
    ],
    "slideshow": {
     "slide_type": "-"
    }
   },
   "outputs": [],
   "source": [
    "import pandas as pd\n",
    "import numpy as np"
   ]
  },
  {
   "cell_type": "code",
   "execution_count": 2,
   "metadata": {
    "autoscroll": "json-false",
    "collapsed": false,
    "deletable": true,
    "editable": true,
    "ein.tags": [
     "worksheet-0"
    ],
    "slideshow": {
     "slide_type": "-"
    }
   },
   "outputs": [],
   "source": [
    "df_train = pd.read_csv(\"../data/train_data4.csv\")\n",
    "df_test = pd.read_csv(\"../data/test_data4.csv\")\n",
    "\n",
    "df_train[\"user_id_id\"] = df_train[\"user_id\"]\n",
    "df_test[\"user_id_id\"] = df_test[\"user_id\"]"
   ]
  },
  {
   "cell_type": "code",
   "execution_count": 3,
   "metadata": {
    "collapsed": false,
    "deletable": true,
    "editable": true
   },
   "outputs": [],
   "source": [
    "len(df_train)\n",
    "test_user_ids = df_test[\"user_id\"].unique()\n",
    "df_train[\"ts_listen\"] = pd.to_datetime(df_train[\"ts_listen\"] )\n",
    "df_test[\"ts_listen\"] = pd.to_datetime(df_test[\"ts_listen\"] )\n"
   ]
  },
  {
   "cell_type": "code",
   "execution_count": 4,
   "metadata": {
    "collapsed": false,
    "deletable": true,
    "editable": true
   },
   "outputs": [],
   "source": [
    "def print_full(x):\n",
    "    pd.set_option('display.max_rows', len(x))\n",
    "    print(x)\n",
    "    pd.reset_option('display.max_rows')\n",
    "\n",
    "def delayed_data(data, delayed_columns, delays=1, start_delay=1):\n",
    "    \"\"\" Retorna um Dataframe com o delay indicado aplicado na lista de colunas indicadas\n",
    "    \n",
    "    Params:\n",
    "        data: um dataframe com os dados originais\n",
    "        delayed_columns: uma lista de strings com o nome das colunas que quero aplicar o delay\n",
    "        delays: um int com a quantidade de delays desejados\n",
    "    Returns:\n",
    "        df: um dataframe com as colunas indicadas delayadas e já com os dados deslocados retirados\n",
    "    \"\"\"\n",
    "    new_columns_names = []\n",
    "    df = pd.DataFrame()\n",
    "    df = data.copy()\n",
    "\n",
    "    ### Aplico a série de delay em todas as colunas\n",
    "    for column in delayed_columns:\n",
    "        for i in range(start_delay, delays + 1):   \n",
    "            ### Crio uma nova coluna com o delay\n",
    "            new_columns_names.append(column + \"_delayed_\" + str(i))\n",
    "            df[column + \"_delayed_\" + str(i)] = df[column].shift(i)\n",
    "            \n",
    "    ### Excluo os dados que ficam com NaN por causa\n",
    "    ### do deslocamento.\n",
    "    df = df.iloc[delays:]\n",
    "    return df, new_columns_names\n",
    "\n",
    "def random_sampler(df, user_ids, multiple=1):\n",
    "    \"\"\"\n",
    "    df: a DataFrame to sample from;\n",
    "    user_ids: a list / array with user ids you want to see in your sample\n",
    "    multiple: the quantity of examples each id should present in the sample,\n",
    "              if there is not enough examples in the df for a certain id,\n",
    "              it returns all of them.\n",
    "    ---\n",
    "    sample_index: an array with df indices for the sample\n",
    "    \"\"\"\n",
    "    sample_index = []\n",
    "    for user_id in user_ids:\n",
    "        #l = df[df[\"user_id\"] == user_id].index.values\n",
    "        l = df[df[\"user_id\"] == user_id].iloc[-1].index\n",
    "        if multiple <= len(l):\n",
    "            x = np.random.choice(l, multiple, replace=False) \n",
    "            sample_index.append(x)\n",
    "        else:\n",
    "            sample_index.append(l)\n",
    "    return np.concatenate(sample_index, axis=0)\n",
    "\n",
    "\n",
    "def time_series_split(data, proportion=0.8, val=True, verbose=1):\n",
    "    \"\"\"\n",
    "    \"\"\"\n",
    "    ### Estou assumindo que o target sempre será a partir da primeira coluna\n",
    "    features = data.columns.values[1:]\n",
    "    target = data.columns.values[0]\n",
    "    train_size = int(len(data) * proportion)\n",
    "    X_train = data.iloc[0:train_size][features]\n",
    "    y_train = data.iloc[0:train_size][target]\n",
    "    \n",
    "    #test_prop = 1.0 - proportion / 2.0\n",
    "    X_test = data.iloc[train_size:][features]\n",
    "    y_test = data.iloc[train_size:][target]\n",
    "    \n",
    "    if val:\n",
    "        index = int(len(X_test)/2)\n",
    "        X_val = X_test[:index]\n",
    "        y_val = y_test[:index]\n",
    "\n",
    "        X_test = X_test[index:]\n",
    "        y_test = y_test[index:]\n",
    "\n",
    "        if verbose:\n",
    "            print(\"Tamanho do treino: {0}, teste {1} e validação {2}.\".format(len(X_train), len(X_test), len(X_val)))\n",
    "        return X_train, y_train, X_val, y_val, X_test, y_test\n",
    "    else:\n",
    "        if verbose:\n",
    "            print(\"Tamanho do treino: {0}, teste {1}.\".format(len(X_train), len(X_test)))\n",
    "        return X_train, y_train, X_test, y_test\n",
    "\n",
    "#ids_for_test = random_sampler(df_train, test_user_ids)"
   ]
  },
  {
   "cell_type": "markdown",
   "metadata": {
    "deletable": true,
    "editable": true,
    "ein.tags": [
     "worksheet-0"
    ],
    "slideshow": {
     "slide_type": "-"
    }
   },
   "source": [
    "### Analisando quantidade de registro por usuário"
   ]
  },
  {
   "cell_type": "code",
   "execution_count": 5,
   "metadata": {
    "autoscroll": "json-false",
    "collapsed": false,
    "deletable": true,
    "editable": true,
    "ein.tags": [
     "worksheet-0"
    ],
    "slideshow": {
     "slide_type": "-"
    }
   },
   "outputs": [
    {
     "data": {
      "text/plain": [
       "count    19472.000000\n",
       "mean       154.067379\n",
       "std        206.007957\n",
       "min          1.000000\n",
       "25%         27.000000\n",
       "50%         81.000000\n",
       "75%        200.000000\n",
       "max       2577.000000\n",
       "Name: user_id, dtype: float64"
      ]
     },
     "execution_count": 5,
     "metadata": {},
     "output_type": "execute_result"
    }
   ],
   "source": [
    "import matplotlib.pyplot as plt\n",
    "import seaborn as sns\n",
    "#plt.style.use(['dark_background'])\n",
    "#plt.style.use('ggplot')\n",
    "register_count = df_train[\"user_id\"].value_counts()\n",
    "register_count.describe()\n",
    "# plt.show()"
   ]
  },
  {
   "cell_type": "code",
   "execution_count": 6,
   "metadata": {
    "collapsed": false,
    "deletable": true,
    "editable": true
   },
   "outputs": [
    {
     "data": {
      "text/plain": [
       "array([1, 2, 0, 7, 9])"
      ]
     },
     "execution_count": 6,
     "metadata": {},
     "output_type": "execute_result"
    }
   ],
   "source": [
    "register_count[:5].index.values"
   ]
  },
  {
   "cell_type": "code",
   "execution_count": 7,
   "metadata": {
    "collapsed": true,
    "deletable": true,
    "editable": true
   },
   "outputs": [],
   "source": [
    "df_train = df_train[df_train[\"user_id\"].isin(register_count[:].index.values)]"
   ]
  },
  {
   "cell_type": "code",
   "execution_count": 8,
   "metadata": {
    "autoscroll": "json-false",
    "collapsed": false,
    "deletable": true,
    "editable": true,
    "ein.tags": [
     "worksheet-0"
    ],
    "slideshow": {
     "slide_type": "-"
    }
   },
   "outputs": [
    {
     "data": {
      "text/plain": [
       "(array([  1.58590000e+04,   2.51900000e+03,   6.74000000e+02,\n",
       "          2.44000000e+02,   9.80000000e+01,   4.90000000e+01,\n",
       "          1.50000000e+01,   6.00000000e+00,   5.00000000e+00,\n",
       "          3.00000000e+00]),\n",
       " array([  1.00000000e+00,   2.58600000e+02,   5.16200000e+02,\n",
       "          7.73800000e+02,   1.03140000e+03,   1.28900000e+03,\n",
       "          1.54660000e+03,   1.80420000e+03,   2.06180000e+03,\n",
       "          2.31940000e+03,   2.57700000e+03]),\n",
       " <a list of 10 Patch objects>)"
      ]
     },
     "execution_count": 8,
     "metadata": {},
     "output_type": "execute_result"
    },
    {
     "data": {
      "image/png": "[encoded data removed]",
      "text/plain": [
       "<matplotlib.figure.Figure at 0x7f5709aa1e90>"
      ]
     },
     "metadata": {},
     "output_type": "display_data"
    }
   ],
   "source": [
    "%matplotlib inline\n",
    "plt.hist(df_train[\"user_id\"].value_counts())"
   ]
  },
  {
   "cell_type": "code",
   "execution_count": 9,
   "metadata": {
    "autoscroll": "json-false",
    "collapsed": false,
    "deletable": true,
    "editable": true,
    "ein.tags": [
     "worksheet-0"
    ],
    "slideshow": {
     "slide_type": "-"
    }
   },
   "outputs": [
    {
     "name": "stdout",
     "output_type": "stream",
     "text": [
      "5351\n",
      "14121\n"
     ]
    }
   ],
   "source": [
    "threshold = 30\n",
    "\n",
    "user_for_general_model = register_count[(register_count <= threshold)].index\n",
    "user_for_specific_model = register_count[(register_count > threshold)].index\n",
    "print(len(user_for_general_model))\n",
    "print(len(user_for_specific_model))"
   ]
  },
  {
   "cell_type": "code",
   "execution_count": 10,
   "metadata": {
    "collapsed": false,
    "deletable": true,
    "editable": true
   },
   "outputs": [
    {
     "name": "stdout",
     "output_type": "stream",
     "text": [
      "3000000\n",
      "19918\n"
     ]
    }
   ],
   "source": [
    "print(len(df_train))\n",
    "print(len(df_test))"
   ]
  },
  {
   "cell_type": "code",
   "execution_count": 11,
   "metadata": {
    "collapsed": false,
    "deletable": true,
    "editable": true
   },
   "outputs": [
    {
     "name": "stdout",
     "output_type": "stream",
     "text": [
      "Unnamed: 0                           0\n",
      "Unnamed: 0.1                         0\n",
      "sample_id                            0\n",
      "genre_id                             0\n",
      "ts_listen                            0\n",
      "media_id                             0\n",
      "album_id                             0\n",
      "context_type                         0\n",
      "release_date                         0\n",
      "platform_name                        0\n",
      "platform_family                      0\n",
      "media_duration                       0\n",
      "listen_type                          0\n",
      "user_gender                          0\n",
      "user_id                              0\n",
      "artist_id                            0\n",
      "user_age                             0\n",
      "text                                 0\n",
      "year                                 0\n",
      "diff_ts_listen_AND_release_date_D    0\n",
      "diff_ts_listen_AND_release_date_M    0\n",
      "diff_ts_listen_AND_release_date_Y    0\n",
      "release_date_DAY                     0\n",
      "release_date_MONTH                   0\n",
      "release_date_YEAR                    0\n",
      "ts_listen_DAY_OF_WEEK                0\n",
      "ts_listen_PERIOD_OF_DAY              0\n",
      "user_age_group                       0\n",
      "diff_user_song_age                   0\n",
      "media_decade                         0\n",
      "media_bpm                            0\n",
      "media_rank                           0\n",
      "artist_albuns                        0\n",
      "artist_fans                          0\n",
      "artist_radio                         0\n",
      "user_id_id                           0\n",
      "dtype: int64\n"
     ]
    }
   ],
   "source": [
    "d = pd.isnull(df_test).sum()\n",
    "cols_w_na = d[d > 0].index\n",
    "\n",
    "for column in cols_w_na:\n",
    "    try:\n",
    "        df_test[column] = df_test[column].fillna(df_train[column].mean(skipna=True))\n",
    "    except:\n",
    "        df_test[column].fillna(0, inplace=True)\n",
    "\n",
    "print_full(pd.isnull(df_test).sum())"
   ]
  },
  {
   "cell_type": "code",
   "execution_count": 12,
   "metadata": {
    "collapsed": false,
    "deletable": true,
    "editable": true,
    "scrolled": true
   },
   "outputs": [
    {
     "name": "stderr",
     "output_type": "stream",
     "text": [
      "100%|██████████| 135/135 [00:19<00:00,  8.08it/s]\n"
     ]
    },
    {
     "name": "stdout",
     "output_type": "stream",
     "text": [
      "188506\n"
     ]
    },
    {
     "data": {
      "text/html": [
       "<div>\n",
       "<table border=\"1\" class=\"dataframe\">\n",
       "  <thead>\n",
       "    <tr style=\"text-align: right;\">\n",
       "      <th></th>\n",
       "      <th>Unnamed: 0</th>\n",
       "      <th>Unnamed: 0.1</th>\n",
       "      <th>album_id</th>\n",
       "      <th>artist_albuns</th>\n",
       "      <th>artist_fans</th>\n",
       "      <th>artist_id</th>\n",
       "      <th>artist_radio</th>\n",
       "      <th>context_type</th>\n",
       "      <th>diff_ts_listen_AND_release_date_D</th>\n",
       "      <th>diff_ts_listen_AND_release_date_M</th>\n",
       "      <th>...</th>\n",
       "      <th>flows_listened_mean_last_10_delayed_1</th>\n",
       "      <th>flows_listened_mean_last_10_delayed_2</th>\n",
       "      <th>flows_listened_mean_last_10_delayed_3</th>\n",
       "      <th>flows_listened_mean_last_10_delayed_4</th>\n",
       "      <th>flows_listened_mean_last_10_delayed_5</th>\n",
       "      <th>flows_listened_mean_last_10_delayed_6</th>\n",
       "      <th>flows_listened_mean_last_10_delayed_7</th>\n",
       "      <th>flows_listened_mean_last_10_delayed_8</th>\n",
       "      <th>flows_listened_mean_last_10_delayed_9</th>\n",
       "      <th>flows_listened_mean_last_10_delayed_10</th>\n",
       "    </tr>\n",
       "  </thead>\n",
       "  <tbody>\n",
       "    <tr>\n",
       "      <th>1064243</th>\n",
       "      <td>1064243</td>\n",
       "      <td>1064243</td>\n",
       "      <td>12599758</td>\n",
       "      <td>44.0</td>\n",
       "      <td>5231155.0</td>\n",
       "      <td>293585</td>\n",
       "      <td>1.0</td>\n",
       "      <td>0</td>\n",
       "      <td>235.0</td>\n",
       "      <td>7.833333</td>\n",
       "      <td>...</td>\n",
       "      <td>0.0</td>\n",
       "      <td>0.0</td>\n",
       "      <td>0.0</td>\n",
       "      <td>0.0</td>\n",
       "      <td>0.0</td>\n",
       "      <td>0.0</td>\n",
       "      <td>0.0</td>\n",
       "      <td>0.0</td>\n",
       "      <td>0.0</td>\n",
       "      <td>0.1</td>\n",
       "    </tr>\n",
       "    <tr>\n",
       "      <th>1117361</th>\n",
       "      <td>1117361</td>\n",
       "      <td>1117361</td>\n",
       "      <td>12599760</td>\n",
       "      <td>7.0</td>\n",
       "      <td>144341.0</td>\n",
       "      <td>7890062</td>\n",
       "      <td>1.0</td>\n",
       "      <td>0</td>\n",
       "      <td>306.0</td>\n",
       "      <td>10.200000</td>\n",
       "      <td>...</td>\n",
       "      <td>0.0</td>\n",
       "      <td>0.0</td>\n",
       "      <td>0.0</td>\n",
       "      <td>0.0</td>\n",
       "      <td>0.0</td>\n",
       "      <td>0.0</td>\n",
       "      <td>0.0</td>\n",
       "      <td>0.0</td>\n",
       "      <td>0.0</td>\n",
       "      <td>0.0</td>\n",
       "    </tr>\n",
       "    <tr>\n",
       "      <th>2780987</th>\n",
       "      <td>2780987</td>\n",
       "      <td>2780993</td>\n",
       "      <td>10333912</td>\n",
       "      <td>31.0</td>\n",
       "      <td>3608525.0</td>\n",
       "      <td>249599</td>\n",
       "      <td>1.0</td>\n",
       "      <td>0</td>\n",
       "      <td>525.0</td>\n",
       "      <td>17.500000</td>\n",
       "      <td>...</td>\n",
       "      <td>0.0</td>\n",
       "      <td>0.0</td>\n",
       "      <td>0.0</td>\n",
       "      <td>0.0</td>\n",
       "      <td>0.0</td>\n",
       "      <td>0.0</td>\n",
       "      <td>0.0</td>\n",
       "      <td>0.0</td>\n",
       "      <td>0.0</td>\n",
       "      <td>0.0</td>\n",
       "    </tr>\n",
       "    <tr>\n",
       "      <th>1986424</th>\n",
       "      <td>1986424</td>\n",
       "      <td>1986424</td>\n",
       "      <td>7294375</td>\n",
       "      <td>20.0</td>\n",
       "      <td>851006.0</td>\n",
       "      <td>2137231</td>\n",
       "      <td>1.0</td>\n",
       "      <td>0</td>\n",
       "      <td>998.0</td>\n",
       "      <td>33.266667</td>\n",
       "      <td>...</td>\n",
       "      <td>0.0</td>\n",
       "      <td>0.0</td>\n",
       "      <td>0.0</td>\n",
       "      <td>0.0</td>\n",
       "      <td>0.0</td>\n",
       "      <td>0.0</td>\n",
       "      <td>0.0</td>\n",
       "      <td>0.0</td>\n",
       "      <td>0.0</td>\n",
       "      <td>0.0</td>\n",
       "    </tr>\n",
       "    <tr>\n",
       "      <th>1177075</th>\n",
       "      <td>1177075</td>\n",
       "      <td>1177075</td>\n",
       "      <td>13726996</td>\n",
       "      <td>89.0</td>\n",
       "      <td>1777037.0</td>\n",
       "      <td>169361</td>\n",
       "      <td>1.0</td>\n",
       "      <td>0</td>\n",
       "      <td>88.0</td>\n",
       "      <td>2.933333</td>\n",
       "      <td>...</td>\n",
       "      <td>0.0</td>\n",
       "      <td>0.0</td>\n",
       "      <td>0.0</td>\n",
       "      <td>0.0</td>\n",
       "      <td>0.0</td>\n",
       "      <td>0.0</td>\n",
       "      <td>0.0</td>\n",
       "      <td>0.0</td>\n",
       "      <td>0.0</td>\n",
       "      <td>0.0</td>\n",
       "    </tr>\n",
       "  </tbody>\n",
       "</table>\n",
       "<p>5 rows × 99 columns</p>\n",
       "</div>"
      ],
      "text/plain": [
       "         Unnamed: 0  Unnamed: 0.1  album_id  artist_albuns  artist_fans  \\\n",
       "1064243     1064243       1064243  12599758           44.0    5231155.0   \n",
       "1117361     1117361       1117361  12599760            7.0     144341.0   \n",
       "2780987     2780987       2780993  10333912           31.0    3608525.0   \n",
       "1986424     1986424       1986424   7294375           20.0     851006.0   \n",
       "1177075     1177075       1177075  13726996           89.0    1777037.0   \n",
       "\n",
       "         artist_id  artist_radio  context_type  \\\n",
       "1064243     293585           1.0             0   \n",
       "1117361    7890062           1.0             0   \n",
       "2780987     249599           1.0             0   \n",
       "1986424    2137231           1.0             0   \n",
       "1177075     169361           1.0             0   \n",
       "\n",
       "         diff_ts_listen_AND_release_date_D  diff_ts_listen_AND_release_date_M  \\\n",
       "1064243                              235.0                           7.833333   \n",
       "1117361                              306.0                          10.200000   \n",
       "2780987                              525.0                          17.500000   \n",
       "1986424                              998.0                          33.266667   \n",
       "1177075                               88.0                           2.933333   \n",
       "\n",
       "                          ...                    \\\n",
       "1064243                   ...                     \n",
       "1117361                   ...                     \n",
       "2780987                   ...                     \n",
       "1986424                   ...                     \n",
       "1177075                   ...                     \n",
       "\n",
       "         flows_listened_mean_last_10_delayed_1  \\\n",
       "1064243                                    0.0   \n",
       "1117361                                    0.0   \n",
       "2780987                                    0.0   \n",
       "1986424                                    0.0   \n",
       "1177075                                    0.0   \n",
       "\n",
       "         flows_listened_mean_last_10_delayed_2  \\\n",
       "1064243                                    0.0   \n",
       "1117361                                    0.0   \n",
       "2780987                                    0.0   \n",
       "1986424                                    0.0   \n",
       "1177075                                    0.0   \n",
       "\n",
       "         flows_listened_mean_last_10_delayed_3  \\\n",
       "1064243                                    0.0   \n",
       "1117361                                    0.0   \n",
       "2780987                                    0.0   \n",
       "1986424                                    0.0   \n",
       "1177075                                    0.0   \n",
       "\n",
       "         flows_listened_mean_last_10_delayed_4  \\\n",
       "1064243                                    0.0   \n",
       "1117361                                    0.0   \n",
       "2780987                                    0.0   \n",
       "1986424                                    0.0   \n",
       "1177075                                    0.0   \n",
       "\n",
       "         flows_listened_mean_last_10_delayed_5  \\\n",
       "1064243                                    0.0   \n",
       "1117361                                    0.0   \n",
       "2780987                                    0.0   \n",
       "1986424                                    0.0   \n",
       "1177075                                    0.0   \n",
       "\n",
       "         flows_listened_mean_last_10_delayed_6  \\\n",
       "1064243                                    0.0   \n",
       "1117361                                    0.0   \n",
       "2780987                                    0.0   \n",
       "1986424                                    0.0   \n",
       "1177075                                    0.0   \n",
       "\n",
       "         flows_listened_mean_last_10_delayed_7  \\\n",
       "1064243                                    0.0   \n",
       "1117361                                    0.0   \n",
       "2780987                                    0.0   \n",
       "1986424                                    0.0   \n",
       "1177075                                    0.0   \n",
       "\n",
       "         flows_listened_mean_last_10_delayed_8  \\\n",
       "1064243                                    0.0   \n",
       "1117361                                    0.0   \n",
       "2780987                                    0.0   \n",
       "1986424                                    0.0   \n",
       "1177075                                    0.0   \n",
       "\n",
       "         flows_listened_mean_last_10_delayed_9  \\\n",
       "1064243                                    0.0   \n",
       "1117361                                    0.0   \n",
       "2780987                                    0.0   \n",
       "1986424                                    0.0   \n",
       "1177075                                    0.0   \n",
       "\n",
       "         flows_listened_mean_last_10_delayed_10  \n",
       "1064243                                     0.1  \n",
       "1117361                                     0.0  \n",
       "2780987                                     0.0  \n",
       "1986424                                     0.0  \n",
       "1177075                                     0.0  \n",
       "\n",
       "[5 rows x 99 columns]"
      ]
     },
     "execution_count": 12,
     "metadata": {},
     "output_type": "execute_result"
    }
   ],
   "source": [
    "users = df_train[\"user_id\"].unique()[:50]\n",
    "from tqdm import tqdm\n",
    "all_dfs = []\n",
    "\n",
    "df_train[\"is_train\"] = 1\n",
    "df_train[\"sample_id\"] = 1\n",
    "df_test[\"is_train\"] = 0\n",
    "df_test[\"is_listened\"] = 0\n",
    "\n",
    "df_train_ = pd.concat([df_train, df_test])\n",
    "\n",
    "#print(pd.isnull(df_train_).sum())\n",
    "\n",
    "#print(pd.isnull(df_train_[df_train_[\"is_train\"] == 0]).sum())\n",
    "\n",
    "df_train_[\"is_listened\"] = df_train_[\"is_listened\"].apply(lambda x : float(x))\n",
    "df_train_[\"listen_type\"] = df_train_[\"listen_type\"].apply(lambda x : float(x))\n",
    "#print(len(df_train_))\n",
    "\n",
    "for user in tqdm(user_for_specific_model[:]):\n",
    "    df = df_train_[df_train_[\"user_id\"] == user] #.copy(deep=True)\n",
    "    #print(len(df))\n",
    "    #df = df.sort(\"ts_listen\")\n",
    "    df = df.sort_values(by = \"ts_listen\")\n",
    "    \n",
    "    df[\"flow_listened\"] = df[\"is_listened\"] * df[\"listen_type\"]\n",
    "    df[\"flows_listened_last_10\"] = df[\"flow_listened\"].rolling(10).apply(lambda x : np.sum(x))\n",
    "    df[\"flows_listened_mean_last_10\"] = df[\"flow_listened\"].rolling(10).apply(lambda x : np.mean(x))\n",
    "    \n",
    "    #print(df[\"flow_listened\"].head())\n",
    "    \n",
    "    #print(df[\"flows_listened_mean_last_10\"].head(15))\n",
    "    \n",
    "    #print(df[\"flow_listened\"].head())\n",
    "    #df.drop([\"flow_listened\"], axis=1, inplace=True)\n",
    "    #print(pd.isnull(df).sum())\n",
    "    \n",
    "    #print(pd.isnull(df_train_[df_train_[\"is_train\"] == 0]).sum())\n",
    "    \n",
    "    df[\"diff_last_ts_listen\"] = df[\"ts_listen\"].diff()\n",
    "    df.dropna(inplace=True)\n",
    "    \n",
    "    \n",
    "    df[\"diff_last_ts_listen\"] = df[\"diff_last_ts_listen\"].apply(lambda x : x.seconds / 3600.0)\n",
    "    \n",
    "    df, cols = delayed_data(df, [\"diff_last_ts_listen\", \n",
    "                                 \"is_listened\", \n",
    "                                 \"listen_type\", \n",
    "                                 \"flow_listened\",\n",
    "                                 \"flows_listened_last_10\", \n",
    "                                 \"flows_listened_mean_last_10\"], 10)\n",
    "    \n",
    "    \n",
    "    #print(\"null\")\n",
    "    #print(pd.isnull(df).sum().sum())\n",
    "    df.drop([\"flow_listened\",\n",
    "            \"flows_listened_last_10\",\n",
    "            \"flows_listened_mean_last_10\"], axis=1, inplace=True)\n",
    "    \n",
    "    #print(\"len final: {}\".format(len(df)))\n",
    "    \n",
    "\n",
    "\n",
    "    #print(\"len final: {}\".format(len(df)))\n",
    "    \n",
    "    all_dfs.append(df)\n",
    "    \n",
    "df_train_ = pd.concat(all_dfs)\n",
    "print(len(df_train_))\n",
    "df_train_.head()"
   ]
  },
  {
   "cell_type": "code",
   "execution_count": 13,
   "metadata": {
    "collapsed": false
   },
   "outputs": [
    {
     "data": {
      "text/html": [
       "<div>\n",
       "<table border=\"1\" class=\"dataframe\">\n",
       "  <thead>\n",
       "    <tr style=\"text-align: right;\">\n",
       "      <th></th>\n",
       "      <th>Unnamed: 0</th>\n",
       "      <th>Unnamed: 0.1</th>\n",
       "      <th>sample_id</th>\n",
       "      <th>genre_id</th>\n",
       "      <th>ts_listen</th>\n",
       "      <th>media_id</th>\n",
       "      <th>album_id</th>\n",
       "      <th>context_type</th>\n",
       "      <th>release_date</th>\n",
       "      <th>platform_name</th>\n",
       "      <th>...</th>\n",
       "      <th>diff_user_song_age</th>\n",
       "      <th>media_decade</th>\n",
       "      <th>media_bpm</th>\n",
       "      <th>media_rank</th>\n",
       "      <th>artist_albuns</th>\n",
       "      <th>artist_fans</th>\n",
       "      <th>artist_radio</th>\n",
       "      <th>user_id_id</th>\n",
       "      <th>is_train</th>\n",
       "      <th>is_listened</th>\n",
       "    </tr>\n",
       "  </thead>\n",
       "  <tbody>\n",
       "    <tr>\n",
       "      <th>0</th>\n",
       "      <td>0</td>\n",
       "      <td>0</td>\n",
       "      <td>0</td>\n",
       "      <td>50</td>\n",
       "      <td>2016-11-02 14:32:51</td>\n",
       "      <td>683078</td>\n",
       "      <td>82356</td>\n",
       "      <td>1</td>\n",
       "      <td>2002-10-08 00:00:00</td>\n",
       "      <td>0</td>\n",
       "      <td>...</td>\n",
       "      <td>15.920548</td>\n",
       "      <td>7</td>\n",
       "      <td>181.0</td>\n",
       "      <td>293191.0</td>\n",
       "      <td>25.0</td>\n",
       "      <td>31649.0</td>\n",
       "      <td>1.0</td>\n",
       "      <td>17698</td>\n",
       "      <td>0</td>\n",
       "      <td>0</td>\n",
       "    </tr>\n",
       "    <tr>\n",
       "      <th>1</th>\n",
       "      <td>1</td>\n",
       "      <td>1</td>\n",
       "      <td>1</td>\n",
       "      <td>2744</td>\n",
       "      <td>2016-11-16 15:25:40</td>\n",
       "      <td>876497</td>\n",
       "      <td>99692</td>\n",
       "      <td>1</td>\n",
       "      <td>1985-12-31 00:00:00</td>\n",
       "      <td>0</td>\n",
       "      <td>...</td>\n",
       "      <td>-2.898630</td>\n",
       "      <td>5</td>\n",
       "      <td>88.0</td>\n",
       "      <td>743839.0</td>\n",
       "      <td>10.0</td>\n",
       "      <td>585650.0</td>\n",
       "      <td>1.0</td>\n",
       "      <td>10525</td>\n",
       "      <td>0</td>\n",
       "      <td>0</td>\n",
       "    </tr>\n",
       "    <tr>\n",
       "      <th>2</th>\n",
       "      <td>2</td>\n",
       "      <td>2</td>\n",
       "      <td>2</td>\n",
       "      <td>2744</td>\n",
       "      <td>2016-11-19 07:06:01</td>\n",
       "      <td>876497</td>\n",
       "      <td>99692</td>\n",
       "      <td>1</td>\n",
       "      <td>1985-12-31 00:00:00</td>\n",
       "      <td>0</td>\n",
       "      <td>...</td>\n",
       "      <td>-3.906849</td>\n",
       "      <td>5</td>\n",
       "      <td>88.0</td>\n",
       "      <td>743839.0</td>\n",
       "      <td>10.0</td>\n",
       "      <td>585650.0</td>\n",
       "      <td>1.0</td>\n",
       "      <td>8716</td>\n",
       "      <td>0</td>\n",
       "      <td>0</td>\n",
       "    </tr>\n",
       "    <tr>\n",
       "      <th>3</th>\n",
       "      <td>3</td>\n",
       "      <td>3</td>\n",
       "      <td>3</td>\n",
       "      <td>2744</td>\n",
       "      <td>2016-11-06 16:42:09</td>\n",
       "      <td>876500</td>\n",
       "      <td>99692</td>\n",
       "      <td>1</td>\n",
       "      <td>1985-12-31 00:00:00</td>\n",
       "      <td>2</td>\n",
       "      <td>...</td>\n",
       "      <td>-0.871233</td>\n",
       "      <td>5</td>\n",
       "      <td>107.0</td>\n",
       "      <td>630042.0</td>\n",
       "      <td>10.0</td>\n",
       "      <td>585650.0</td>\n",
       "      <td>1.0</td>\n",
       "      <td>5443</td>\n",
       "      <td>0</td>\n",
       "      <td>0</td>\n",
       "    </tr>\n",
       "    <tr>\n",
       "      <th>4</th>\n",
       "      <td>4</td>\n",
       "      <td>4</td>\n",
       "      <td>4</td>\n",
       "      <td>2744</td>\n",
       "      <td>2016-11-29 17:42:40</td>\n",
       "      <td>876504</td>\n",
       "      <td>99692</td>\n",
       "      <td>1</td>\n",
       "      <td>1985-12-31 00:00:00</td>\n",
       "      <td>2</td>\n",
       "      <td>...</td>\n",
       "      <td>-1.934247</td>\n",
       "      <td>5</td>\n",
       "      <td>110.0</td>\n",
       "      <td>372256.0</td>\n",
       "      <td>10.0</td>\n",
       "      <td>585650.0</td>\n",
       "      <td>1.0</td>\n",
       "      <td>7600</td>\n",
       "      <td>0</td>\n",
       "      <td>0</td>\n",
       "    </tr>\n",
       "  </tbody>\n",
       "</table>\n",
       "<p>5 rows × 38 columns</p>\n",
       "</div>"
      ],
      "text/plain": [
       "   Unnamed: 0  Unnamed: 0.1  sample_id  genre_id           ts_listen  \\\n",
       "0           0             0          0        50 2016-11-02 14:32:51   \n",
       "1           1             1          1      2744 2016-11-16 15:25:40   \n",
       "2           2             2          2      2744 2016-11-19 07:06:01   \n",
       "3           3             3          3      2744 2016-11-06 16:42:09   \n",
       "4           4             4          4      2744 2016-11-29 17:42:40   \n",
       "\n",
       "   media_id  album_id  context_type         release_date  platform_name  \\\n",
       "0    683078     82356             1  2002-10-08 00:00:00              0   \n",
       "1    876497     99692             1  1985-12-31 00:00:00              0   \n",
       "2    876497     99692             1  1985-12-31 00:00:00              0   \n",
       "3    876500     99692             1  1985-12-31 00:00:00              2   \n",
       "4    876504     99692             1  1985-12-31 00:00:00              2   \n",
       "\n",
       "      ...       diff_user_song_age  media_decade  media_bpm  media_rank  \\\n",
       "0     ...                15.920548             7      181.0    293191.0   \n",
       "1     ...                -2.898630             5       88.0    743839.0   \n",
       "2     ...                -3.906849             5       88.0    743839.0   \n",
       "3     ...                -0.871233             5      107.0    630042.0   \n",
       "4     ...                -1.934247             5      110.0    372256.0   \n",
       "\n",
       "   artist_albuns  artist_fans  artist_radio user_id_id  is_train  is_listened  \n",
       "0           25.0      31649.0           1.0      17698         0            0  \n",
       "1           10.0     585650.0           1.0      10525         0            0  \n",
       "2           10.0     585650.0           1.0       8716         0            0  \n",
       "3           10.0     585650.0           1.0       5443         0            0  \n",
       "4           10.0     585650.0           1.0       7600         0            0  \n",
       "\n",
       "[5 rows x 38 columns]"
      ]
     },
     "execution_count": 13,
     "metadata": {},
     "output_type": "execute_result"
    }
   ],
   "source": [
    "df_test.head()"
   ]
  },
  {
   "cell_type": "code",
   "execution_count": 14,
   "metadata": {
    "collapsed": false,
    "deletable": true,
    "editable": true
   },
   "outputs": [
    {
     "data": {
      "text/plain": [
       "1064243    1\n",
       "1117361    1\n",
       "2780987    1\n",
       "1986424    1\n",
       "1177075    1\n",
       "Name: is_train, dtype: int64"
      ]
     },
     "execution_count": 14,
     "metadata": {},
     "output_type": "execute_result"
    }
   ],
   "source": [
    "df_train_[\"is_train\"].head()"
   ]
  },
  {
   "cell_type": "code",
   "execution_count": 15,
   "metadata": {
    "collapsed": false,
    "deletable": true,
    "editable": true
   },
   "outputs": [
    {
     "name": "stdout",
     "output_type": "stream",
     "text": [
      "188371\n",
      "135\n"
     ]
    },
    {
     "name": "stderr",
     "output_type": "stream",
     "text": [
      "/home/lgmoneda/miniconda2/envs/ml/lib/python2.7/site-packages/ipykernel/__main__.py:4: SettingWithCopyWarning: \n",
      "A value is trying to be set on a copy of a slice from a DataFrame\n",
      "\n",
      "See the caveats in the documentation: http://pandas.pydata.org/pandas-docs/stable/indexing.html#indexing-view-versus-copy\n"
     ]
    }
   ],
   "source": [
    "df_train = df_train_[df_train_[\"is_train\"] == 1]\n",
    "df_test = df_train_[df_train_[\"is_train\"] == 0]\n",
    "    \n",
    "df_test.drop([\"is_listened\"], axis=1, inplace=True)\n",
    "\n",
    "print(len(df_train))\n",
    "print(len(df_test))"
   ]
  },
  {
   "cell_type": "code",
   "execution_count": 16,
   "metadata": {
    "collapsed": false,
    "deletable": true,
    "editable": true
   },
   "outputs": [
    {
     "name": "stdout",
     "output_type": "stream",
     "text": [
      "Unnamed: 0                                         int64\n",
      "Unnamed: 0.1                                       int64\n",
      "album_id                                           int64\n",
      "artist_albuns                                    float64\n",
      "artist_fans                                      float64\n",
      "artist_id                                          int64\n",
      "artist_radio                                     float64\n",
      "context_type                                       int64\n",
      "diff_ts_listen_AND_release_date_D                float64\n",
      "diff_ts_listen_AND_release_date_M                float64\n",
      "diff_ts_listen_AND_release_date_Y                float64\n",
      "diff_user_song_age                               float64\n",
      "genre_id                                           int64\n",
      "is_listened                                      float64\n",
      "is_train                                           int64\n",
      "listen_type                                      float64\n",
      "media_bpm                                        float64\n",
      "media_decade                                       int64\n",
      "media_duration                                   float64\n",
      "media_id                                           int64\n",
      "media_rank                                       float64\n",
      "platform_family                                    int64\n",
      "platform_name                                      int64\n",
      "release_date                                      object\n",
      "release_date_DAY                                   int64\n",
      "release_date_MONTH                                 int64\n",
      "release_date_YEAR                                  int64\n",
      "sample_id                                          int64\n",
      "text                                              object\n",
      "ts_listen                                 datetime64[ns]\n",
      "ts_listen_DAY_OF_WEEK                              int64\n",
      "ts_listen_PERIOD_OF_DAY                            int64\n",
      "user_age                                           int64\n",
      "user_age_group                                     int64\n",
      "user_gender                                        int64\n",
      "user_id                                            int64\n",
      "user_id_id                                         int64\n",
      "year                                               int64\n",
      "diff_last_ts_listen                              float64\n",
      "diff_last_ts_listen_delayed_1                    float64\n",
      "diff_last_ts_listen_delayed_2                    float64\n",
      "diff_last_ts_listen_delayed_3                    float64\n",
      "diff_last_ts_listen_delayed_4                    float64\n",
      "diff_last_ts_listen_delayed_5                    float64\n",
      "diff_last_ts_listen_delayed_6                    float64\n",
      "diff_last_ts_listen_delayed_7                    float64\n",
      "diff_last_ts_listen_delayed_8                    float64\n",
      "diff_last_ts_listen_delayed_9                    float64\n",
      "diff_last_ts_listen_delayed_10                   float64\n",
      "is_listened_delayed_1                            float64\n",
      "is_listened_delayed_2                            float64\n",
      "is_listened_delayed_3                            float64\n",
      "is_listened_delayed_4                            float64\n",
      "is_listened_delayed_5                            float64\n",
      "is_listened_delayed_6                            float64\n",
      "is_listened_delayed_7                            float64\n",
      "is_listened_delayed_8                            float64\n",
      "is_listened_delayed_9                            float64\n",
      "is_listened_delayed_10                           float64\n",
      "listen_type_delayed_1                            float64\n",
      "listen_type_delayed_2                            float64\n",
      "listen_type_delayed_3                            float64\n",
      "listen_type_delayed_4                            float64\n",
      "listen_type_delayed_5                            float64\n",
      "listen_type_delayed_6                            float64\n",
      "listen_type_delayed_7                            float64\n",
      "listen_type_delayed_8                            float64\n",
      "listen_type_delayed_9                            float64\n",
      "listen_type_delayed_10                           float64\n",
      "flow_listened_delayed_1                          float64\n",
      "flow_listened_delayed_2                          float64\n",
      "flow_listened_delayed_3                          float64\n",
      "flow_listened_delayed_4                          float64\n",
      "flow_listened_delayed_5                          float64\n",
      "flow_listened_delayed_6                          float64\n",
      "flow_listened_delayed_7                          float64\n",
      "flow_listened_delayed_8                          float64\n",
      "flow_listened_delayed_9                          float64\n",
      "flow_listened_delayed_10                         float64\n",
      "flows_listened_last_10_delayed_1                 float64\n",
      "flows_listened_last_10_delayed_2                 float64\n",
      "flows_listened_last_10_delayed_3                 float64\n",
      "flows_listened_last_10_delayed_4                 float64\n",
      "flows_listened_last_10_delayed_5                 float64\n",
      "flows_listened_last_10_delayed_6                 float64\n",
      "flows_listened_last_10_delayed_7                 float64\n",
      "flows_listened_last_10_delayed_8                 float64\n",
      "flows_listened_last_10_delayed_9                 float64\n",
      "flows_listened_last_10_delayed_10                float64\n",
      "flows_listened_mean_last_10_delayed_1            float64\n",
      "flows_listened_mean_last_10_delayed_2            float64\n",
      "flows_listened_mean_last_10_delayed_3            float64\n",
      "flows_listened_mean_last_10_delayed_4            float64\n",
      "flows_listened_mean_last_10_delayed_5            float64\n",
      "flows_listened_mean_last_10_delayed_6            float64\n",
      "flows_listened_mean_last_10_delayed_7            float64\n",
      "flows_listened_mean_last_10_delayed_8            float64\n",
      "flows_listened_mean_last_10_delayed_9            float64\n",
      "flows_listened_mean_last_10_delayed_10           float64\n",
      "dtype: object\n"
     ]
    }
   ],
   "source": [
    "print_full(df_train.dtypes[:])"
   ]
  },
  {
   "cell_type": "code",
   "execution_count": 17,
   "metadata": {
    "collapsed": false,
    "deletable": true,
    "editable": true
   },
   "outputs": [
    {
     "data": {
      "text/html": [
       "<div>\n",
       "<table border=\"1\" class=\"dataframe\">\n",
       "  <thead>\n",
       "    <tr style=\"text-align: right;\">\n",
       "      <th></th>\n",
       "      <th>Unnamed: 0</th>\n",
       "      <th>Unnamed: 0.1</th>\n",
       "      <th>album_id</th>\n",
       "      <th>artist_albuns</th>\n",
       "      <th>artist_fans</th>\n",
       "      <th>artist_id</th>\n",
       "      <th>artist_radio</th>\n",
       "      <th>context_type</th>\n",
       "      <th>diff_ts_listen_AND_release_date_D</th>\n",
       "      <th>diff_ts_listen_AND_release_date_M</th>\n",
       "      <th>...</th>\n",
       "      <th>flows_listened_mean_last_10_delayed_1</th>\n",
       "      <th>flows_listened_mean_last_10_delayed_2</th>\n",
       "      <th>flows_listened_mean_last_10_delayed_3</th>\n",
       "      <th>flows_listened_mean_last_10_delayed_4</th>\n",
       "      <th>flows_listened_mean_last_10_delayed_5</th>\n",
       "      <th>flows_listened_mean_last_10_delayed_6</th>\n",
       "      <th>flows_listened_mean_last_10_delayed_7</th>\n",
       "      <th>flows_listened_mean_last_10_delayed_8</th>\n",
       "      <th>flows_listened_mean_last_10_delayed_9</th>\n",
       "      <th>flows_listened_mean_last_10_delayed_10</th>\n",
       "    </tr>\n",
       "  </thead>\n",
       "  <tbody>\n",
       "    <tr>\n",
       "      <th>1064243</th>\n",
       "      <td>1064243</td>\n",
       "      <td>1064243</td>\n",
       "      <td>12599758</td>\n",
       "      <td>44.0</td>\n",
       "      <td>5231155.0</td>\n",
       "      <td>293585</td>\n",
       "      <td>1.0</td>\n",
       "      <td>0</td>\n",
       "      <td>235.0</td>\n",
       "      <td>7.833333</td>\n",
       "      <td>...</td>\n",
       "      <td>0.0</td>\n",
       "      <td>0.0</td>\n",
       "      <td>0.0</td>\n",
       "      <td>0.0</td>\n",
       "      <td>0.0</td>\n",
       "      <td>0.0</td>\n",
       "      <td>0.0</td>\n",
       "      <td>0.0</td>\n",
       "      <td>0.0</td>\n",
       "      <td>0.1</td>\n",
       "    </tr>\n",
       "    <tr>\n",
       "      <th>1117361</th>\n",
       "      <td>1117361</td>\n",
       "      <td>1117361</td>\n",
       "      <td>12599760</td>\n",
       "      <td>7.0</td>\n",
       "      <td>144341.0</td>\n",
       "      <td>7890062</td>\n",
       "      <td>1.0</td>\n",
       "      <td>0</td>\n",
       "      <td>306.0</td>\n",
       "      <td>10.200000</td>\n",
       "      <td>...</td>\n",
       "      <td>0.0</td>\n",
       "      <td>0.0</td>\n",
       "      <td>0.0</td>\n",
       "      <td>0.0</td>\n",
       "      <td>0.0</td>\n",
       "      <td>0.0</td>\n",
       "      <td>0.0</td>\n",
       "      <td>0.0</td>\n",
       "      <td>0.0</td>\n",
       "      <td>0.0</td>\n",
       "    </tr>\n",
       "    <tr>\n",
       "      <th>2780987</th>\n",
       "      <td>2780987</td>\n",
       "      <td>2780993</td>\n",
       "      <td>10333912</td>\n",
       "      <td>31.0</td>\n",
       "      <td>3608525.0</td>\n",
       "      <td>249599</td>\n",
       "      <td>1.0</td>\n",
       "      <td>0</td>\n",
       "      <td>525.0</td>\n",
       "      <td>17.500000</td>\n",
       "      <td>...</td>\n",
       "      <td>0.0</td>\n",
       "      <td>0.0</td>\n",
       "      <td>0.0</td>\n",
       "      <td>0.0</td>\n",
       "      <td>0.0</td>\n",
       "      <td>0.0</td>\n",
       "      <td>0.0</td>\n",
       "      <td>0.0</td>\n",
       "      <td>0.0</td>\n",
       "      <td>0.0</td>\n",
       "    </tr>\n",
       "    <tr>\n",
       "      <th>1986424</th>\n",
       "      <td>1986424</td>\n",
       "      <td>1986424</td>\n",
       "      <td>7294375</td>\n",
       "      <td>20.0</td>\n",
       "      <td>851006.0</td>\n",
       "      <td>2137231</td>\n",
       "      <td>1.0</td>\n",
       "      <td>0</td>\n",
       "      <td>998.0</td>\n",
       "      <td>33.266667</td>\n",
       "      <td>...</td>\n",
       "      <td>0.0</td>\n",
       "      <td>0.0</td>\n",
       "      <td>0.0</td>\n",
       "      <td>0.0</td>\n",
       "      <td>0.0</td>\n",
       "      <td>0.0</td>\n",
       "      <td>0.0</td>\n",
       "      <td>0.0</td>\n",
       "      <td>0.0</td>\n",
       "      <td>0.0</td>\n",
       "    </tr>\n",
       "    <tr>\n",
       "      <th>1177075</th>\n",
       "      <td>1177075</td>\n",
       "      <td>1177075</td>\n",
       "      <td>13726996</td>\n",
       "      <td>89.0</td>\n",
       "      <td>1777037.0</td>\n",
       "      <td>169361</td>\n",
       "      <td>1.0</td>\n",
       "      <td>0</td>\n",
       "      <td>88.0</td>\n",
       "      <td>2.933333</td>\n",
       "      <td>...</td>\n",
       "      <td>0.0</td>\n",
       "      <td>0.0</td>\n",
       "      <td>0.0</td>\n",
       "      <td>0.0</td>\n",
       "      <td>0.0</td>\n",
       "      <td>0.0</td>\n",
       "      <td>0.0</td>\n",
       "      <td>0.0</td>\n",
       "      <td>0.0</td>\n",
       "      <td>0.0</td>\n",
       "    </tr>\n",
       "  </tbody>\n",
       "</table>\n",
       "<p>5 rows × 99 columns</p>\n",
       "</div>"
      ],
      "text/plain": [
       "         Unnamed: 0  Unnamed: 0.1  album_id  artist_albuns  artist_fans  \\\n",
       "1064243     1064243       1064243  12599758           44.0    5231155.0   \n",
       "1117361     1117361       1117361  12599760            7.0     144341.0   \n",
       "2780987     2780987       2780993  10333912           31.0    3608525.0   \n",
       "1986424     1986424       1986424   7294375           20.0     851006.0   \n",
       "1177075     1177075       1177075  13726996           89.0    1777037.0   \n",
       "\n",
       "         artist_id  artist_radio  context_type  \\\n",
       "1064243     293585           1.0             0   \n",
       "1117361    7890062           1.0             0   \n",
       "2780987     249599           1.0             0   \n",
       "1986424    2137231           1.0             0   \n",
       "1177075     169361           1.0             0   \n",
       "\n",
       "         diff_ts_listen_AND_release_date_D  diff_ts_listen_AND_release_date_M  \\\n",
       "1064243                              235.0                           7.833333   \n",
       "1117361                              306.0                          10.200000   \n",
       "2780987                              525.0                          17.500000   \n",
       "1986424                              998.0                          33.266667   \n",
       "1177075                               88.0                           2.933333   \n",
       "\n",
       "                          ...                    \\\n",
       "1064243                   ...                     \n",
       "1117361                   ...                     \n",
       "2780987                   ...                     \n",
       "1986424                   ...                     \n",
       "1177075                   ...                     \n",
       "\n",
       "         flows_listened_mean_last_10_delayed_1  \\\n",
       "1064243                                    0.0   \n",
       "1117361                                    0.0   \n",
       "2780987                                    0.0   \n",
       "1986424                                    0.0   \n",
       "1177075                                    0.0   \n",
       "\n",
       "         flows_listened_mean_last_10_delayed_2  \\\n",
       "1064243                                    0.0   \n",
       "1117361                                    0.0   \n",
       "2780987                                    0.0   \n",
       "1986424                                    0.0   \n",
       "1177075                                    0.0   \n",
       "\n",
       "         flows_listened_mean_last_10_delayed_3  \\\n",
       "1064243                                    0.0   \n",
       "1117361                                    0.0   \n",
       "2780987                                    0.0   \n",
       "1986424                                    0.0   \n",
       "1177075                                    0.0   \n",
       "\n",
       "         flows_listened_mean_last_10_delayed_4  \\\n",
       "1064243                                    0.0   \n",
       "1117361                                    0.0   \n",
       "2780987                                    0.0   \n",
       "1986424                                    0.0   \n",
       "1177075                                    0.0   \n",
       "\n",
       "         flows_listened_mean_last_10_delayed_5  \\\n",
       "1064243                                    0.0   \n",
       "1117361                                    0.0   \n",
       "2780987                                    0.0   \n",
       "1986424                                    0.0   \n",
       "1177075                                    0.0   \n",
       "\n",
       "         flows_listened_mean_last_10_delayed_6  \\\n",
       "1064243                                    0.0   \n",
       "1117361                                    0.0   \n",
       "2780987                                    0.0   \n",
       "1986424                                    0.0   \n",
       "1177075                                    0.0   \n",
       "\n",
       "         flows_listened_mean_last_10_delayed_7  \\\n",
       "1064243                                    0.0   \n",
       "1117361                                    0.0   \n",
       "2780987                                    0.0   \n",
       "1986424                                    0.0   \n",
       "1177075                                    0.0   \n",
       "\n",
       "         flows_listened_mean_last_10_delayed_8  \\\n",
       "1064243                                    0.0   \n",
       "1117361                                    0.0   \n",
       "2780987                                    0.0   \n",
       "1986424                                    0.0   \n",
       "1177075                                    0.0   \n",
       "\n",
       "         flows_listened_mean_last_10_delayed_9  \\\n",
       "1064243                                    0.0   \n",
       "1117361                                    0.0   \n",
       "2780987                                    0.0   \n",
       "1986424                                    0.0   \n",
       "1177075                                    0.0   \n",
       "\n",
       "         flows_listened_mean_last_10_delayed_10  \n",
       "1064243                                     0.1  \n",
       "1117361                                     0.0  \n",
       "2780987                                     0.0  \n",
       "1986424                                     0.0  \n",
       "1177075                                     0.0  \n",
       "\n",
       "[5 rows x 99 columns]"
      ]
     },
     "execution_count": 17,
     "metadata": {},
     "output_type": "execute_result"
    }
   ],
   "source": [
    "df_train.head()"
   ]
  },
  {
   "cell_type": "code",
   "execution_count": 18,
   "metadata": {
    "autoscroll": "json-false",
    "collapsed": false,
    "deletable": true,
    "editable": true,
    "ein.tags": [
     "worksheet-0"
    ],
    "slideshow": {
     "slide_type": "-"
    }
   },
   "outputs": [
    {
     "data": {
      "text/html": [
       "<div>\n",
       "<table border=\"1\" class=\"dataframe\">\n",
       "  <thead>\n",
       "    <tr style=\"text-align: right;\">\n",
       "      <th></th>\n",
       "      <th>Unnamed: 0</th>\n",
       "      <th>Unnamed: 0.1</th>\n",
       "      <th>album_id</th>\n",
       "      <th>artist_albuns</th>\n",
       "      <th>artist_fans</th>\n",
       "      <th>artist_id</th>\n",
       "      <th>artist_radio</th>\n",
       "      <th>context_type</th>\n",
       "      <th>diff_ts_listen_AND_release_date_D</th>\n",
       "      <th>diff_ts_listen_AND_release_date_M</th>\n",
       "      <th>...</th>\n",
       "      <th>flows_listened_mean_last_10_delayed_1</th>\n",
       "      <th>flows_listened_mean_last_10_delayed_2</th>\n",
       "      <th>flows_listened_mean_last_10_delayed_3</th>\n",
       "      <th>flows_listened_mean_last_10_delayed_4</th>\n",
       "      <th>flows_listened_mean_last_10_delayed_5</th>\n",
       "      <th>flows_listened_mean_last_10_delayed_6</th>\n",
       "      <th>flows_listened_mean_last_10_delayed_7</th>\n",
       "      <th>flows_listened_mean_last_10_delayed_8</th>\n",
       "      <th>flows_listened_mean_last_10_delayed_9</th>\n",
       "      <th>flows_listened_mean_last_10_delayed_10</th>\n",
       "    </tr>\n",
       "  </thead>\n",
       "  <tbody>\n",
       "    <tr>\n",
       "      <th>6026</th>\n",
       "      <td>6026</td>\n",
       "      <td>6026</td>\n",
       "      <td>10804138</td>\n",
       "      <td>14.0</td>\n",
       "      <td>104390.0</td>\n",
       "      <td>4052518</td>\n",
       "      <td>1.0</td>\n",
       "      <td>1</td>\n",
       "      <td>504.0</td>\n",
       "      <td>16.800000</td>\n",
       "      <td>...</td>\n",
       "      <td>0.0</td>\n",
       "      <td>0.0</td>\n",
       "      <td>0.0</td>\n",
       "      <td>0.0</td>\n",
       "      <td>0.0</td>\n",
       "      <td>0.0</td>\n",
       "      <td>0.0</td>\n",
       "      <td>0.0</td>\n",
       "      <td>0.0</td>\n",
       "      <td>0.0</td>\n",
       "    </tr>\n",
       "    <tr>\n",
       "      <th>9627</th>\n",
       "      <td>9627</td>\n",
       "      <td>9627</td>\n",
       "      <td>11516526</td>\n",
       "      <td>9.0</td>\n",
       "      <td>3506.0</td>\n",
       "      <td>5328949</td>\n",
       "      <td>1.0</td>\n",
       "      <td>1</td>\n",
       "      <td>363.0</td>\n",
       "      <td>12.100000</td>\n",
       "      <td>...</td>\n",
       "      <td>0.0</td>\n",
       "      <td>0.0</td>\n",
       "      <td>0.0</td>\n",
       "      <td>0.0</td>\n",
       "      <td>0.0</td>\n",
       "      <td>0.0</td>\n",
       "      <td>0.0</td>\n",
       "      <td>0.0</td>\n",
       "      <td>0.0</td>\n",
       "      <td>0.0</td>\n",
       "    </tr>\n",
       "    <tr>\n",
       "      <th>14561</th>\n",
       "      <td>14561</td>\n",
       "      <td>14561</td>\n",
       "      <td>12219078</td>\n",
       "      <td>5.0</td>\n",
       "      <td>297242.0</td>\n",
       "      <td>468920</td>\n",
       "      <td>1.0</td>\n",
       "      <td>1</td>\n",
       "      <td>416.0</td>\n",
       "      <td>13.866667</td>\n",
       "      <td>...</td>\n",
       "      <td>1.0</td>\n",
       "      <td>0.9</td>\n",
       "      <td>0.8</td>\n",
       "      <td>0.7</td>\n",
       "      <td>0.6</td>\n",
       "      <td>0.5</td>\n",
       "      <td>0.4</td>\n",
       "      <td>0.3</td>\n",
       "      <td>0.2</td>\n",
       "      <td>0.1</td>\n",
       "    </tr>\n",
       "    <tr>\n",
       "      <th>17323</th>\n",
       "      <td>17323</td>\n",
       "      <td>17323</td>\n",
       "      <td>11645048</td>\n",
       "      <td>5.0</td>\n",
       "      <td>253719.0</td>\n",
       "      <td>4944278</td>\n",
       "      <td>1.0</td>\n",
       "      <td>20</td>\n",
       "      <td>349.0</td>\n",
       "      <td>11.633333</td>\n",
       "      <td>...</td>\n",
       "      <td>0.0</td>\n",
       "      <td>0.0</td>\n",
       "      <td>0.0</td>\n",
       "      <td>0.0</td>\n",
       "      <td>0.0</td>\n",
       "      <td>0.0</td>\n",
       "      <td>0.0</td>\n",
       "      <td>0.0</td>\n",
       "      <td>0.0</td>\n",
       "      <td>0.0</td>\n",
       "    </tr>\n",
       "    <tr>\n",
       "      <th>7383</th>\n",
       "      <td>7383</td>\n",
       "      <td>7383</td>\n",
       "      <td>227814</td>\n",
       "      <td>2.0</td>\n",
       "      <td>23.0</td>\n",
       "      <td>16659</td>\n",
       "      <td>1.0</td>\n",
       "      <td>1</td>\n",
       "      <td>12023.0</td>\n",
       "      <td>400.766667</td>\n",
       "      <td>...</td>\n",
       "      <td>0.0</td>\n",
       "      <td>0.0</td>\n",
       "      <td>0.0</td>\n",
       "      <td>0.0</td>\n",
       "      <td>0.0</td>\n",
       "      <td>0.0</td>\n",
       "      <td>0.0</td>\n",
       "      <td>0.0</td>\n",
       "      <td>0.0</td>\n",
       "      <td>0.0</td>\n",
       "    </tr>\n",
       "  </tbody>\n",
       "</table>\n",
       "<p>5 rows × 98 columns</p>\n",
       "</div>"
      ],
      "text/plain": [
       "       Unnamed: 0  Unnamed: 0.1  album_id  artist_albuns  artist_fans  \\\n",
       "6026         6026          6026  10804138           14.0     104390.0   \n",
       "9627         9627          9627  11516526            9.0       3506.0   \n",
       "14561       14561         14561  12219078            5.0     297242.0   \n",
       "17323       17323         17323  11645048            5.0     253719.0   \n",
       "7383         7383          7383    227814            2.0         23.0   \n",
       "\n",
       "       artist_id  artist_radio  context_type  \\\n",
       "6026     4052518           1.0             1   \n",
       "9627     5328949           1.0             1   \n",
       "14561     468920           1.0             1   \n",
       "17323    4944278           1.0            20   \n",
       "7383       16659           1.0             1   \n",
       "\n",
       "       diff_ts_listen_AND_release_date_D  diff_ts_listen_AND_release_date_M  \\\n",
       "6026                               504.0                          16.800000   \n",
       "9627                               363.0                          12.100000   \n",
       "14561                              416.0                          13.866667   \n",
       "17323                              349.0                          11.633333   \n",
       "7383                             12023.0                         400.766667   \n",
       "\n",
       "                        ...                    \\\n",
       "6026                    ...                     \n",
       "9627                    ...                     \n",
       "14561                   ...                     \n",
       "17323                   ...                     \n",
       "7383                    ...                     \n",
       "\n",
       "       flows_listened_mean_last_10_delayed_1  \\\n",
       "6026                                     0.0   \n",
       "9627                                     0.0   \n",
       "14561                                    1.0   \n",
       "17323                                    0.0   \n",
       "7383                                     0.0   \n",
       "\n",
       "       flows_listened_mean_last_10_delayed_2  \\\n",
       "6026                                     0.0   \n",
       "9627                                     0.0   \n",
       "14561                                    0.9   \n",
       "17323                                    0.0   \n",
       "7383                                     0.0   \n",
       "\n",
       "       flows_listened_mean_last_10_delayed_3  \\\n",
       "6026                                     0.0   \n",
       "9627                                     0.0   \n",
       "14561                                    0.8   \n",
       "17323                                    0.0   \n",
       "7383                                     0.0   \n",
       "\n",
       "       flows_listened_mean_last_10_delayed_4  \\\n",
       "6026                                     0.0   \n",
       "9627                                     0.0   \n",
       "14561                                    0.7   \n",
       "17323                                    0.0   \n",
       "7383                                     0.0   \n",
       "\n",
       "       flows_listened_mean_last_10_delayed_5  \\\n",
       "6026                                     0.0   \n",
       "9627                                     0.0   \n",
       "14561                                    0.6   \n",
       "17323                                    0.0   \n",
       "7383                                     0.0   \n",
       "\n",
       "       flows_listened_mean_last_10_delayed_6  \\\n",
       "6026                                     0.0   \n",
       "9627                                     0.0   \n",
       "14561                                    0.5   \n",
       "17323                                    0.0   \n",
       "7383                                     0.0   \n",
       "\n",
       "       flows_listened_mean_last_10_delayed_7  \\\n",
       "6026                                     0.0   \n",
       "9627                                     0.0   \n",
       "14561                                    0.4   \n",
       "17323                                    0.0   \n",
       "7383                                     0.0   \n",
       "\n",
       "       flows_listened_mean_last_10_delayed_8  \\\n",
       "6026                                     0.0   \n",
       "9627                                     0.0   \n",
       "14561                                    0.3   \n",
       "17323                                    0.0   \n",
       "7383                                     0.0   \n",
       "\n",
       "       flows_listened_mean_last_10_delayed_9  \\\n",
       "6026                                     0.0   \n",
       "9627                                     0.0   \n",
       "14561                                    0.2   \n",
       "17323                                    0.0   \n",
       "7383                                     0.0   \n",
       "\n",
       "       flows_listened_mean_last_10_delayed_10  \n",
       "6026                                      0.0  \n",
       "9627                                      0.0  \n",
       "14561                                     0.1  \n",
       "17323                                     0.0  \n",
       "7383                                      0.0  \n",
       "\n",
       "[5 rows x 98 columns]"
      ]
     },
     "execution_count": 18,
     "metadata": {},
     "output_type": "execute_result"
    }
   ],
   "source": [
    "df_test.head()\n",
    "# ### select users for specific\n",
    "# df_train = df_train[df_train[\"user_id\"].isin(user_for_specific_model)]\n",
    "# df_test = df_test[df_test[\"user_id\"].isin(user_for_specific_model)]\n",
    "# df_train.columns"
   ]
  },
  {
   "cell_type": "code",
   "execution_count": 19,
   "metadata": {
    "autoscroll": "json-false",
    "collapsed": false,
    "deletable": true,
    "editable": true,
    "ein.tags": [
     "worksheet-0"
    ],
    "slideshow": {
     "slide_type": "-"
    }
   },
   "outputs": [
    {
     "name": "stderr",
     "output_type": "stream",
     "text": [
      "/home/lgmoneda/miniconda2/envs/ml/lib/python2.7/site-packages/ipykernel/__main__.py:2: SettingWithCopyWarning: \n",
      "A value is trying to be set on a copy of a slice from a DataFrame\n",
      "\n",
      "See the caveats in the documentation: http://pandas.pydata.org/pandas-docs/stable/indexing.html#indexing-view-versus-copy\n",
      "  from ipykernel import kernelapp as app\n"
     ]
    },
    {
     "data": {
      "text/html": [
       "<div>\n",
       "<table border=\"1\" class=\"dataframe\">\n",
       "  <thead>\n",
       "    <tr style=\"text-align: right;\">\n",
       "      <th></th>\n",
       "      <th>album_id</th>\n",
       "      <th>artist_albuns</th>\n",
       "      <th>artist_fans</th>\n",
       "      <th>artist_id</th>\n",
       "      <th>artist_radio</th>\n",
       "      <th>context_type</th>\n",
       "      <th>diff_ts_listen_AND_release_date_D</th>\n",
       "      <th>diff_ts_listen_AND_release_date_M</th>\n",
       "      <th>diff_ts_listen_AND_release_date_Y</th>\n",
       "      <th>diff_user_song_age</th>\n",
       "      <th>...</th>\n",
       "      <th>flows_listened_mean_last_10_delayed_1</th>\n",
       "      <th>flows_listened_mean_last_10_delayed_2</th>\n",
       "      <th>flows_listened_mean_last_10_delayed_3</th>\n",
       "      <th>flows_listened_mean_last_10_delayed_4</th>\n",
       "      <th>flows_listened_mean_last_10_delayed_5</th>\n",
       "      <th>flows_listened_mean_last_10_delayed_6</th>\n",
       "      <th>flows_listened_mean_last_10_delayed_7</th>\n",
       "      <th>flows_listened_mean_last_10_delayed_8</th>\n",
       "      <th>flows_listened_mean_last_10_delayed_9</th>\n",
       "      <th>flows_listened_mean_last_10_delayed_10</th>\n",
       "    </tr>\n",
       "  </thead>\n",
       "  <tbody>\n",
       "    <tr>\n",
       "      <th>1064243</th>\n",
       "      <td>12599758</td>\n",
       "      <td>44.0</td>\n",
       "      <td>5231155.0</td>\n",
       "      <td>293585</td>\n",
       "      <td>1.0</td>\n",
       "      <td>0</td>\n",
       "      <td>235.0</td>\n",
       "      <td>7.833333</td>\n",
       "      <td>0.643836</td>\n",
       "      <td>26.356164</td>\n",
       "      <td>...</td>\n",
       "      <td>0.0</td>\n",
       "      <td>0.0</td>\n",
       "      <td>0.0</td>\n",
       "      <td>0.0</td>\n",
       "      <td>0.0</td>\n",
       "      <td>0.0</td>\n",
       "      <td>0.0</td>\n",
       "      <td>0.0</td>\n",
       "      <td>0.0</td>\n",
       "      <td>0.1</td>\n",
       "    </tr>\n",
       "    <tr>\n",
       "      <th>1117361</th>\n",
       "      <td>12599760</td>\n",
       "      <td>7.0</td>\n",
       "      <td>144341.0</td>\n",
       "      <td>7890062</td>\n",
       "      <td>1.0</td>\n",
       "      <td>0</td>\n",
       "      <td>306.0</td>\n",
       "      <td>10.200000</td>\n",
       "      <td>0.838356</td>\n",
       "      <td>26.161644</td>\n",
       "      <td>...</td>\n",
       "      <td>0.0</td>\n",
       "      <td>0.0</td>\n",
       "      <td>0.0</td>\n",
       "      <td>0.0</td>\n",
       "      <td>0.0</td>\n",
       "      <td>0.0</td>\n",
       "      <td>0.0</td>\n",
       "      <td>0.0</td>\n",
       "      <td>0.0</td>\n",
       "      <td>0.0</td>\n",
       "    </tr>\n",
       "    <tr>\n",
       "      <th>2780987</th>\n",
       "      <td>10333912</td>\n",
       "      <td>31.0</td>\n",
       "      <td>3608525.0</td>\n",
       "      <td>249599</td>\n",
       "      <td>1.0</td>\n",
       "      <td>0</td>\n",
       "      <td>525.0</td>\n",
       "      <td>17.500000</td>\n",
       "      <td>1.438356</td>\n",
       "      <td>25.561644</td>\n",
       "      <td>...</td>\n",
       "      <td>0.0</td>\n",
       "      <td>0.0</td>\n",
       "      <td>0.0</td>\n",
       "      <td>0.0</td>\n",
       "      <td>0.0</td>\n",
       "      <td>0.0</td>\n",
       "      <td>0.0</td>\n",
       "      <td>0.0</td>\n",
       "      <td>0.0</td>\n",
       "      <td>0.0</td>\n",
       "    </tr>\n",
       "    <tr>\n",
       "      <th>1986424</th>\n",
       "      <td>7294375</td>\n",
       "      <td>20.0</td>\n",
       "      <td>851006.0</td>\n",
       "      <td>2137231</td>\n",
       "      <td>1.0</td>\n",
       "      <td>0</td>\n",
       "      <td>998.0</td>\n",
       "      <td>33.266667</td>\n",
       "      <td>2.734247</td>\n",
       "      <td>24.265753</td>\n",
       "      <td>...</td>\n",
       "      <td>0.0</td>\n",
       "      <td>0.0</td>\n",
       "      <td>0.0</td>\n",
       "      <td>0.0</td>\n",
       "      <td>0.0</td>\n",
       "      <td>0.0</td>\n",
       "      <td>0.0</td>\n",
       "      <td>0.0</td>\n",
       "      <td>0.0</td>\n",
       "      <td>0.0</td>\n",
       "    </tr>\n",
       "    <tr>\n",
       "      <th>1177075</th>\n",
       "      <td>13726996</td>\n",
       "      <td>89.0</td>\n",
       "      <td>1777037.0</td>\n",
       "      <td>169361</td>\n",
       "      <td>1.0</td>\n",
       "      <td>0</td>\n",
       "      <td>88.0</td>\n",
       "      <td>2.933333</td>\n",
       "      <td>0.241096</td>\n",
       "      <td>26.758904</td>\n",
       "      <td>...</td>\n",
       "      <td>0.0</td>\n",
       "      <td>0.0</td>\n",
       "      <td>0.0</td>\n",
       "      <td>0.0</td>\n",
       "      <td>0.0</td>\n",
       "      <td>0.0</td>\n",
       "      <td>0.0</td>\n",
       "      <td>0.0</td>\n",
       "      <td>0.0</td>\n",
       "      <td>0.0</td>\n",
       "    </tr>\n",
       "  </tbody>\n",
       "</table>\n",
       "<p>5 rows × 97 columns</p>\n",
       "</div>"
      ],
      "text/plain": [
       "         album_id  artist_albuns  artist_fans  artist_id  artist_radio  \\\n",
       "1064243  12599758           44.0    5231155.0     293585           1.0   \n",
       "1117361  12599760            7.0     144341.0    7890062           1.0   \n",
       "2780987  10333912           31.0    3608525.0     249599           1.0   \n",
       "1986424   7294375           20.0     851006.0    2137231           1.0   \n",
       "1177075  13726996           89.0    1777037.0     169361           1.0   \n",
       "\n",
       "         context_type  diff_ts_listen_AND_release_date_D  \\\n",
       "1064243             0                              235.0   \n",
       "1117361             0                              306.0   \n",
       "2780987             0                              525.0   \n",
       "1986424             0                              998.0   \n",
       "1177075             0                               88.0   \n",
       "\n",
       "         diff_ts_listen_AND_release_date_M  diff_ts_listen_AND_release_date_Y  \\\n",
       "1064243                           7.833333                           0.643836   \n",
       "1117361                          10.200000                           0.838356   \n",
       "2780987                          17.500000                           1.438356   \n",
       "1986424                          33.266667                           2.734247   \n",
       "1177075                           2.933333                           0.241096   \n",
       "\n",
       "         diff_user_song_age                   ...                    \\\n",
       "1064243           26.356164                   ...                     \n",
       "1117361           26.161644                   ...                     \n",
       "2780987           25.561644                   ...                     \n",
       "1986424           24.265753                   ...                     \n",
       "1177075           26.758904                   ...                     \n",
       "\n",
       "         flows_listened_mean_last_10_delayed_1  \\\n",
       "1064243                                    0.0   \n",
       "1117361                                    0.0   \n",
       "2780987                                    0.0   \n",
       "1986424                                    0.0   \n",
       "1177075                                    0.0   \n",
       "\n",
       "         flows_listened_mean_last_10_delayed_2  \\\n",
       "1064243                                    0.0   \n",
       "1117361                                    0.0   \n",
       "2780987                                    0.0   \n",
       "1986424                                    0.0   \n",
       "1177075                                    0.0   \n",
       "\n",
       "         flows_listened_mean_last_10_delayed_3  \\\n",
       "1064243                                    0.0   \n",
       "1117361                                    0.0   \n",
       "2780987                                    0.0   \n",
       "1986424                                    0.0   \n",
       "1177075                                    0.0   \n",
       "\n",
       "         flows_listened_mean_last_10_delayed_4  \\\n",
       "1064243                                    0.0   \n",
       "1117361                                    0.0   \n",
       "2780987                                    0.0   \n",
       "1986424                                    0.0   \n",
       "1177075                                    0.0   \n",
       "\n",
       "         flows_listened_mean_last_10_delayed_5  \\\n",
       "1064243                                    0.0   \n",
       "1117361                                    0.0   \n",
       "2780987                                    0.0   \n",
       "1986424                                    0.0   \n",
       "1177075                                    0.0   \n",
       "\n",
       "         flows_listened_mean_last_10_delayed_6  \\\n",
       "1064243                                    0.0   \n",
       "1117361                                    0.0   \n",
       "2780987                                    0.0   \n",
       "1986424                                    0.0   \n",
       "1177075                                    0.0   \n",
       "\n",
       "         flows_listened_mean_last_10_delayed_7  \\\n",
       "1064243                                    0.0   \n",
       "1117361                                    0.0   \n",
       "2780987                                    0.0   \n",
       "1986424                                    0.0   \n",
       "1177075                                    0.0   \n",
       "\n",
       "         flows_listened_mean_last_10_delayed_8  \\\n",
       "1064243                                    0.0   \n",
       "1117361                                    0.0   \n",
       "2780987                                    0.0   \n",
       "1986424                                    0.0   \n",
       "1177075                                    0.0   \n",
       "\n",
       "         flows_listened_mean_last_10_delayed_9  \\\n",
       "1064243                                    0.0   \n",
       "1117361                                    0.0   \n",
       "2780987                                    0.0   \n",
       "1986424                                    0.0   \n",
       "1177075                                    0.0   \n",
       "\n",
       "         flows_listened_mean_last_10_delayed_10  \n",
       "1064243                                     0.1  \n",
       "1117361                                     0.0  \n",
       "2780987                                     0.0  \n",
       "1986424                                     0.0  \n",
       "1177075                                     0.0  \n",
       "\n",
       "[5 rows x 97 columns]"
      ]
     },
     "execution_count": 19,
     "metadata": {},
     "output_type": "execute_result"
    }
   ],
   "source": [
    "to_drop = ['Unnamed: 0', 'Unnamed: 0.1']\n",
    "df_train.drop(to_drop, axis = 1,inplace=True)\n",
    "df_train.head()"
   ]
  },
  {
   "cell_type": "code",
   "execution_count": 20,
   "metadata": {
    "autoscroll": "json-false",
    "collapsed": false,
    "deletable": true,
    "editable": true,
    "ein.tags": [
     "worksheet-0"
    ],
    "slideshow": {
     "slide_type": "-"
    }
   },
   "outputs": [
    {
     "data": {
      "text/html": [
       "<div>\n",
       "<table border=\"1\" class=\"dataframe\">\n",
       "  <thead>\n",
       "    <tr style=\"text-align: right;\">\n",
       "      <th></th>\n",
       "      <th>album_id</th>\n",
       "      <th>artist_albuns</th>\n",
       "      <th>artist_fans</th>\n",
       "      <th>artist_id</th>\n",
       "      <th>artist_radio</th>\n",
       "      <th>context_type</th>\n",
       "      <th>diff_ts_listen_AND_release_date_D</th>\n",
       "      <th>diff_ts_listen_AND_release_date_M</th>\n",
       "      <th>diff_ts_listen_AND_release_date_Y</th>\n",
       "      <th>diff_user_song_age</th>\n",
       "      <th>...</th>\n",
       "      <th>flows_listened_mean_last_10_delayed_1</th>\n",
       "      <th>flows_listened_mean_last_10_delayed_2</th>\n",
       "      <th>flows_listened_mean_last_10_delayed_3</th>\n",
       "      <th>flows_listened_mean_last_10_delayed_4</th>\n",
       "      <th>flows_listened_mean_last_10_delayed_5</th>\n",
       "      <th>flows_listened_mean_last_10_delayed_6</th>\n",
       "      <th>flows_listened_mean_last_10_delayed_7</th>\n",
       "      <th>flows_listened_mean_last_10_delayed_8</th>\n",
       "      <th>flows_listened_mean_last_10_delayed_9</th>\n",
       "      <th>flows_listened_mean_last_10_delayed_10</th>\n",
       "    </tr>\n",
       "  </thead>\n",
       "  <tbody>\n",
       "    <tr>\n",
       "      <th>1064243</th>\n",
       "      <td>12599758</td>\n",
       "      <td>44.0</td>\n",
       "      <td>5231155.0</td>\n",
       "      <td>293585</td>\n",
       "      <td>1.0</td>\n",
       "      <td>0</td>\n",
       "      <td>235.0</td>\n",
       "      <td>7.833333</td>\n",
       "      <td>0.643836</td>\n",
       "      <td>26.356164</td>\n",
       "      <td>...</td>\n",
       "      <td>0.0</td>\n",
       "      <td>0.0</td>\n",
       "      <td>0.0</td>\n",
       "      <td>0.0</td>\n",
       "      <td>0.0</td>\n",
       "      <td>0.0</td>\n",
       "      <td>0.0</td>\n",
       "      <td>0.0</td>\n",
       "      <td>0.0</td>\n",
       "      <td>0.1</td>\n",
       "    </tr>\n",
       "    <tr>\n",
       "      <th>1117361</th>\n",
       "      <td>12599760</td>\n",
       "      <td>7.0</td>\n",
       "      <td>144341.0</td>\n",
       "      <td>7890062</td>\n",
       "      <td>1.0</td>\n",
       "      <td>0</td>\n",
       "      <td>306.0</td>\n",
       "      <td>10.200000</td>\n",
       "      <td>0.838356</td>\n",
       "      <td>26.161644</td>\n",
       "      <td>...</td>\n",
       "      <td>0.0</td>\n",
       "      <td>0.0</td>\n",
       "      <td>0.0</td>\n",
       "      <td>0.0</td>\n",
       "      <td>0.0</td>\n",
       "      <td>0.0</td>\n",
       "      <td>0.0</td>\n",
       "      <td>0.0</td>\n",
       "      <td>0.0</td>\n",
       "      <td>0.0</td>\n",
       "    </tr>\n",
       "    <tr>\n",
       "      <th>2780987</th>\n",
       "      <td>10333912</td>\n",
       "      <td>31.0</td>\n",
       "      <td>3608525.0</td>\n",
       "      <td>249599</td>\n",
       "      <td>1.0</td>\n",
       "      <td>0</td>\n",
       "      <td>525.0</td>\n",
       "      <td>17.500000</td>\n",
       "      <td>1.438356</td>\n",
       "      <td>25.561644</td>\n",
       "      <td>...</td>\n",
       "      <td>0.0</td>\n",
       "      <td>0.0</td>\n",
       "      <td>0.0</td>\n",
       "      <td>0.0</td>\n",
       "      <td>0.0</td>\n",
       "      <td>0.0</td>\n",
       "      <td>0.0</td>\n",
       "      <td>0.0</td>\n",
       "      <td>0.0</td>\n",
       "      <td>0.0</td>\n",
       "    </tr>\n",
       "    <tr>\n",
       "      <th>1986424</th>\n",
       "      <td>7294375</td>\n",
       "      <td>20.0</td>\n",
       "      <td>851006.0</td>\n",
       "      <td>2137231</td>\n",
       "      <td>1.0</td>\n",
       "      <td>0</td>\n",
       "      <td>998.0</td>\n",
       "      <td>33.266667</td>\n",
       "      <td>2.734247</td>\n",
       "      <td>24.265753</td>\n",
       "      <td>...</td>\n",
       "      <td>0.0</td>\n",
       "      <td>0.0</td>\n",
       "      <td>0.0</td>\n",
       "      <td>0.0</td>\n",
       "      <td>0.0</td>\n",
       "      <td>0.0</td>\n",
       "      <td>0.0</td>\n",
       "      <td>0.0</td>\n",
       "      <td>0.0</td>\n",
       "      <td>0.0</td>\n",
       "    </tr>\n",
       "    <tr>\n",
       "      <th>1177075</th>\n",
       "      <td>13726996</td>\n",
       "      <td>89.0</td>\n",
       "      <td>1777037.0</td>\n",
       "      <td>169361</td>\n",
       "      <td>1.0</td>\n",
       "      <td>0</td>\n",
       "      <td>88.0</td>\n",
       "      <td>2.933333</td>\n",
       "      <td>0.241096</td>\n",
       "      <td>26.758904</td>\n",
       "      <td>...</td>\n",
       "      <td>0.0</td>\n",
       "      <td>0.0</td>\n",
       "      <td>0.0</td>\n",
       "      <td>0.0</td>\n",
       "      <td>0.0</td>\n",
       "      <td>0.0</td>\n",
       "      <td>0.0</td>\n",
       "      <td>0.0</td>\n",
       "      <td>0.0</td>\n",
       "      <td>0.0</td>\n",
       "    </tr>\n",
       "  </tbody>\n",
       "</table>\n",
       "<p>5 rows × 97 columns</p>\n",
       "</div>"
      ],
      "text/plain": [
       "         album_id  artist_albuns  artist_fans  artist_id  artist_radio  context_type  diff_ts_listen_AND_release_date_D  diff_ts_listen_AND_release_date_M  diff_ts_listen_AND_release_date_Y  \\\n",
       "1064243  12599758           44.0    5231155.0     293585           1.0             0                              235.0                           7.833333                           0.643836   \n",
       "1117361  12599760            7.0     144341.0    7890062           1.0             0                              306.0                          10.200000                           0.838356   \n",
       "2780987  10333912           31.0    3608525.0     249599           1.0             0                              525.0                          17.500000                           1.438356   \n",
       "1986424   7294375           20.0     851006.0    2137231           1.0             0                              998.0                          33.266667                           2.734247   \n",
       "1177075  13726996           89.0    1777037.0     169361           1.0             0                               88.0                           2.933333                           0.241096   \n",
       "\n",
       "         diff_user_song_age                   ...                    flows_listened_mean_last_10_delayed_1  flows_listened_mean_last_10_delayed_2  flows_listened_mean_last_10_delayed_3  \\\n",
       "1064243           26.356164                   ...                                                      0.0                                    0.0                                    0.0   \n",
       "1117361           26.161644                   ...                                                      0.0                                    0.0                                    0.0   \n",
       "2780987           25.561644                   ...                                                      0.0                                    0.0                                    0.0   \n",
       "1986424           24.265753                   ...                                                      0.0                                    0.0                                    0.0   \n",
       "1177075           26.758904                   ...                                                      0.0                                    0.0                                    0.0   \n",
       "\n",
       "         flows_listened_mean_last_10_delayed_4  flows_listened_mean_last_10_delayed_5  flows_listened_mean_last_10_delayed_6  flows_listened_mean_last_10_delayed_7  \\\n",
       "1064243                                    0.0                                    0.0                                    0.0                                    0.0   \n",
       "1117361                                    0.0                                    0.0                                    0.0                                    0.0   \n",
       "2780987                                    0.0                                    0.0                                    0.0                                    0.0   \n",
       "1986424                                    0.0                                    0.0                                    0.0                                    0.0   \n",
       "1177075                                    0.0                                    0.0                                    0.0                                    0.0   \n",
       "\n",
       "         flows_listened_mean_last_10_delayed_8  flows_listened_mean_last_10_delayed_9  flows_listened_mean_last_10_delayed_10  \n",
       "1064243                                    0.0                                    0.0                                     0.1  \n",
       "1117361                                    0.0                                    0.0                                     0.0  \n",
       "2780987                                    0.0                                    0.0                                     0.0  \n",
       "1986424                                    0.0                                    0.0                                     0.0  \n",
       "1177075                                    0.0                                    0.0                                     0.0  \n",
       "\n",
       "[5 rows x 97 columns]"
      ]
     },
     "execution_count": 20,
     "metadata": {},
     "output_type": "execute_result"
    }
   ],
   "source": [
    "#pd.set_option('display.height', 1000)\n",
    "#pd.set_option('display.max_rows', 500)\n",
    "#pd.set_option('display.max_columns', 500)\n",
    "pd.set_option('display.width', 200)\n",
    "#pd.set_option(\"precision\", 2)\n",
    "df_train.head()"
   ]
  },
  {
   "cell_type": "code",
   "execution_count": 21,
   "metadata": {
    "autoscroll": "json-false",
    "collapsed": false,
    "deletable": true,
    "editable": true,
    "ein.tags": [
     "worksheet-0"
    ],
    "slideshow": {
     "slide_type": "-"
    }
   },
   "outputs": [],
   "source": [
    "# pd.isnull(df_train).sum()[pd.isnull(df_train).sum() > 0]"
   ]
  },
  {
   "cell_type": "code",
   "execution_count": 22,
   "metadata": {
    "autoscroll": "json-false",
    "collapsed": false,
    "deletable": true,
    "editable": true,
    "ein.tags": [
     "worksheet-0"
    ],
    "slideshow": {
     "slide_type": "-"
    }
   },
   "outputs": [],
   "source": [
    "# df_train[df_train[\"release_date_YEAR\"] == 1900][[\"media_id\", \"ts_listen\"]]"
   ]
  },
  {
   "cell_type": "code",
   "execution_count": 23,
   "metadata": {
    "autoscroll": "json-false",
    "collapsed": false,
    "deletable": true,
    "editable": true,
    "ein.tags": [
     "worksheet-0"
    ],
    "slideshow": {
     "slide_type": "-"
    }
   },
   "outputs": [],
   "source": [
    "# df_train[df_train[\"release_date_YEAR\"] == 1900][[\"media_id\", \"ts_listen\"]]"
   ]
  },
  {
   "cell_type": "markdown",
   "metadata": {
    "deletable": true,
    "editable": true,
    "ein.tags": [
     "worksheet-0"
    ],
    "slideshow": {
     "slide_type": "-"
    }
   },
   "source": [
    "### Append User Specific"
   ]
  },
  {
   "cell_type": "code",
   "execution_count": 24,
   "metadata": {
    "autoscroll": "json-false",
    "collapsed": false,
    "deletable": true,
    "editable": true,
    "ein.tags": [
     "worksheet-0"
    ],
    "slideshow": {
     "slide_type": "-"
    }
   },
   "outputs": [
    {
     "data": {
      "text/plain": [
       "array(['user_id', 'nmidia_regular_listened', 'nmidia_with_flow_listened',\n",
       "       'nmidia_regular', 'nmidia_with_flow',\n",
       "       'nmidia_with_flow_listened_PROP', 'nmidia_regular_listened_PROP',\n",
       "       'nmidia_PROP_diff'], dtype=object)"
      ]
     },
     "execution_count": 24,
     "metadata": {},
     "output_type": "execute_result"
    }
   ],
   "source": [
    "df_user = pd.read_csv(\"../data/nmidia_feats.csv\", sep=\";\")\n",
    "# pd.isnull(df_user).sum()[pd.isnull(df_user).sum() > 0]\n",
    "\n",
    "\n",
    "#df_user = df_user.drop([\"nmidia_with_flow_listened_PROP\", \"nmidia_regular_listened_PROP\", \"nmidia_PROP_diff\"], axis=1)\n",
    "df_user.fillna(0, inplace=True)\n",
    "\n",
    "df_user[\"nmidia_PROP_diff\"] = df_user['nmidia_with_flow_listened_PROP'] - df_user['nmidia_regular_listened_PROP']\n",
    "\n",
    "df_user.columns.values"
   ]
  },
  {
   "cell_type": "code",
   "execution_count": 25,
   "metadata": {
    "autoscroll": "json-false",
    "collapsed": false,
    "deletable": true,
    "editable": true,
    "ein.tags": [
     "worksheet-0"
    ],
    "slideshow": {
     "slide_type": "-"
    }
   },
   "outputs": [],
   "source": [
    "# x = pd.isnull(df_user).sum()\n",
    "# x[x > 0]"
   ]
  },
  {
   "cell_type": "code",
   "execution_count": 26,
   "metadata": {
    "autoscroll": "json-false",
    "collapsed": false,
    "deletable": true,
    "editable": true,
    "ein.tags": [
     "worksheet-0"
    ],
    "slideshow": {
     "slide_type": "-"
    }
   },
   "outputs": [
    {
     "data": {
      "text/html": [
       "<div>\n",
       "<table border=\"1\" class=\"dataframe\">\n",
       "  <thead>\n",
       "    <tr style=\"text-align: right;\">\n",
       "      <th></th>\n",
       "      <th>album_id</th>\n",
       "      <th>artist_albuns</th>\n",
       "      <th>artist_fans</th>\n",
       "      <th>artist_id</th>\n",
       "      <th>artist_radio</th>\n",
       "      <th>context_type</th>\n",
       "      <th>diff_ts_listen_AND_release_date_D</th>\n",
       "      <th>diff_ts_listen_AND_release_date_M</th>\n",
       "      <th>diff_ts_listen_AND_release_date_Y</th>\n",
       "      <th>diff_user_song_age</th>\n",
       "      <th>...</th>\n",
       "      <th>flows_listened_mean_last_10_delayed_8</th>\n",
       "      <th>flows_listened_mean_last_10_delayed_9</th>\n",
       "      <th>flows_listened_mean_last_10_delayed_10</th>\n",
       "      <th>nmidia_regular_listened</th>\n",
       "      <th>nmidia_with_flow_listened</th>\n",
       "      <th>nmidia_regular</th>\n",
       "      <th>nmidia_with_flow</th>\n",
       "      <th>nmidia_with_flow_listened_PROP</th>\n",
       "      <th>nmidia_regular_listened_PROP</th>\n",
       "      <th>nmidia_PROP_diff</th>\n",
       "    </tr>\n",
       "  </thead>\n",
       "  <tbody>\n",
       "    <tr>\n",
       "      <th>0</th>\n",
       "      <td>12599758</td>\n",
       "      <td>44.0</td>\n",
       "      <td>5231155.0</td>\n",
       "      <td>293585</td>\n",
       "      <td>1.0</td>\n",
       "      <td>0</td>\n",
       "      <td>235.0</td>\n",
       "      <td>7.833333</td>\n",
       "      <td>0.643836</td>\n",
       "      <td>26.356164</td>\n",
       "      <td>...</td>\n",
       "      <td>0.0</td>\n",
       "      <td>0.0</td>\n",
       "      <td>0.1</td>\n",
       "      <td>1745</td>\n",
       "      <td>1151</td>\n",
       "      <td>1772</td>\n",
       "      <td>1158</td>\n",
       "      <td>0.993955</td>\n",
       "      <td>0.984763</td>\n",
       "      <td>0.009192</td>\n",
       "    </tr>\n",
       "    <tr>\n",
       "      <th>1</th>\n",
       "      <td>12599760</td>\n",
       "      <td>7.0</td>\n",
       "      <td>144341.0</td>\n",
       "      <td>7890062</td>\n",
       "      <td>1.0</td>\n",
       "      <td>0</td>\n",
       "      <td>306.0</td>\n",
       "      <td>10.200000</td>\n",
       "      <td>0.838356</td>\n",
       "      <td>26.161644</td>\n",
       "      <td>...</td>\n",
       "      <td>0.0</td>\n",
       "      <td>0.0</td>\n",
       "      <td>0.0</td>\n",
       "      <td>1745</td>\n",
       "      <td>1151</td>\n",
       "      <td>1772</td>\n",
       "      <td>1158</td>\n",
       "      <td>0.993955</td>\n",
       "      <td>0.984763</td>\n",
       "      <td>0.009192</td>\n",
       "    </tr>\n",
       "    <tr>\n",
       "      <th>2</th>\n",
       "      <td>10333912</td>\n",
       "      <td>31.0</td>\n",
       "      <td>3608525.0</td>\n",
       "      <td>249599</td>\n",
       "      <td>1.0</td>\n",
       "      <td>0</td>\n",
       "      <td>525.0</td>\n",
       "      <td>17.500000</td>\n",
       "      <td>1.438356</td>\n",
       "      <td>25.561644</td>\n",
       "      <td>...</td>\n",
       "      <td>0.0</td>\n",
       "      <td>0.0</td>\n",
       "      <td>0.0</td>\n",
       "      <td>1745</td>\n",
       "      <td>1151</td>\n",
       "      <td>1772</td>\n",
       "      <td>1158</td>\n",
       "      <td>0.993955</td>\n",
       "      <td>0.984763</td>\n",
       "      <td>0.009192</td>\n",
       "    </tr>\n",
       "    <tr>\n",
       "      <th>3</th>\n",
       "      <td>7294375</td>\n",
       "      <td>20.0</td>\n",
       "      <td>851006.0</td>\n",
       "      <td>2137231</td>\n",
       "      <td>1.0</td>\n",
       "      <td>0</td>\n",
       "      <td>998.0</td>\n",
       "      <td>33.266667</td>\n",
       "      <td>2.734247</td>\n",
       "      <td>24.265753</td>\n",
       "      <td>...</td>\n",
       "      <td>0.0</td>\n",
       "      <td>0.0</td>\n",
       "      <td>0.0</td>\n",
       "      <td>1745</td>\n",
       "      <td>1151</td>\n",
       "      <td>1772</td>\n",
       "      <td>1158</td>\n",
       "      <td>0.993955</td>\n",
       "      <td>0.984763</td>\n",
       "      <td>0.009192</td>\n",
       "    </tr>\n",
       "    <tr>\n",
       "      <th>4</th>\n",
       "      <td>13726996</td>\n",
       "      <td>89.0</td>\n",
       "      <td>1777037.0</td>\n",
       "      <td>169361</td>\n",
       "      <td>1.0</td>\n",
       "      <td>0</td>\n",
       "      <td>88.0</td>\n",
       "      <td>2.933333</td>\n",
       "      <td>0.241096</td>\n",
       "      <td>26.758904</td>\n",
       "      <td>...</td>\n",
       "      <td>0.0</td>\n",
       "      <td>0.0</td>\n",
       "      <td>0.0</td>\n",
       "      <td>1745</td>\n",
       "      <td>1151</td>\n",
       "      <td>1772</td>\n",
       "      <td>1158</td>\n",
       "      <td>0.993955</td>\n",
       "      <td>0.984763</td>\n",
       "      <td>0.009192</td>\n",
       "    </tr>\n",
       "  </tbody>\n",
       "</table>\n",
       "<p>5 rows × 104 columns</p>\n",
       "</div>"
      ],
      "text/plain": [
       "   album_id  artist_albuns  artist_fans  artist_id  artist_radio  context_type  diff_ts_listen_AND_release_date_D  diff_ts_listen_AND_release_date_M  diff_ts_listen_AND_release_date_Y  \\\n",
       "0  12599758           44.0    5231155.0     293585           1.0             0                              235.0                           7.833333                           0.643836   \n",
       "1  12599760            7.0     144341.0    7890062           1.0             0                              306.0                          10.200000                           0.838356   \n",
       "2  10333912           31.0    3608525.0     249599           1.0             0                              525.0                          17.500000                           1.438356   \n",
       "3   7294375           20.0     851006.0    2137231           1.0             0                              998.0                          33.266667                           2.734247   \n",
       "4  13726996           89.0    1777037.0     169361           1.0             0                               88.0                           2.933333                           0.241096   \n",
       "\n",
       "   diff_user_song_age        ...         flows_listened_mean_last_10_delayed_8  flows_listened_mean_last_10_delayed_9  flows_listened_mean_last_10_delayed_10  nmidia_regular_listened  \\\n",
       "0           26.356164        ...                                           0.0                                    0.0                                     0.1                     1745   \n",
       "1           26.161644        ...                                           0.0                                    0.0                                     0.0                     1745   \n",
       "2           25.561644        ...                                           0.0                                    0.0                                     0.0                     1745   \n",
       "3           24.265753        ...                                           0.0                                    0.0                                     0.0                     1745   \n",
       "4           26.758904        ...                                           0.0                                    0.0                                     0.0                     1745   \n",
       "\n",
       "   nmidia_with_flow_listened  nmidia_regular  nmidia_with_flow  nmidia_with_flow_listened_PROP  nmidia_regular_listened_PROP  nmidia_PROP_diff  \n",
       "0                       1151            1772              1158                        0.993955                      0.984763          0.009192  \n",
       "1                       1151            1772              1158                        0.993955                      0.984763          0.009192  \n",
       "2                       1151            1772              1158                        0.993955                      0.984763          0.009192  \n",
       "3                       1151            1772              1158                        0.993955                      0.984763          0.009192  \n",
       "4                       1151            1772              1158                        0.993955                      0.984763          0.009192  \n",
       "\n",
       "[5 rows x 104 columns]"
      ]
     },
     "execution_count": 26,
     "metadata": {},
     "output_type": "execute_result"
    }
   ],
   "source": [
    "df_train = pd.merge(df_train, df_user, on=\"user_id\")\n",
    "df_test = pd.merge(df_test, df_user, on=\"user_id\")\n",
    "df_train.head()"
   ]
  },
  {
   "cell_type": "code",
   "execution_count": null,
   "metadata": {
    "collapsed": true,
    "deletable": true,
    "editable": true
   },
   "outputs": [],
   "source": []
  },
  {
   "cell_type": "code",
   "execution_count": null,
   "metadata": {
    "collapsed": false,
    "deletable": true,
    "editable": true
   },
   "outputs": [],
   "source": []
  },
  {
   "cell_type": "markdown",
   "metadata": {
    "deletable": true,
    "editable": true,
    "ein.tags": [
     "worksheet-0"
    ],
    "slideshow": {
     "slide_type": "-"
    }
   },
   "source": [
    "### Check for NA\n",
    "#### Ver depois sobre o user_age_group!"
   ]
  },
  {
   "cell_type": "code",
   "execution_count": 27,
   "metadata": {
    "autoscroll": "json-false",
    "collapsed": false,
    "deletable": true,
    "editable": true,
    "ein.tags": [
     "worksheet-0"
    ],
    "slideshow": {
     "slide_type": "-"
    }
   },
   "outputs": [],
   "source": [
    "# x = pd.isnull(df_train).sum()\n",
    "# x[x > 0]"
   ]
  },
  {
   "cell_type": "code",
   "execution_count": 28,
   "metadata": {
    "autoscroll": "json-false",
    "collapsed": false,
    "deletable": true,
    "editable": true,
    "ein.tags": [
     "worksheet-0"
    ],
    "slideshow": {
     "slide_type": "-"
    }
   },
   "outputs": [],
   "source": [
    "# df_train.dropna(inplace=True)"
   ]
  },
  {
   "cell_type": "code",
   "execution_count": 29,
   "metadata": {
    "autoscroll": "json-false",
    "collapsed": false,
    "deletable": true,
    "editable": true,
    "ein.tags": [
     "worksheet-0"
    ],
    "slideshow": {
     "slide_type": "-"
    }
   },
   "outputs": [],
   "source": [
    "# x = pd.isnull(df_train).sum()\n",
    "# x[x > 0]\n",
    "# del x"
   ]
  },
  {
   "cell_type": "code",
   "execution_count": 30,
   "metadata": {
    "autoscroll": "json-false",
    "collapsed": false,
    "deletable": true,
    "editable": true,
    "ein.tags": [
     "worksheet-0"
    ],
    "slideshow": {
     "slide_type": "-"
    }
   },
   "outputs": [],
   "source": [
    "y = df_train[\"is_listened\"].values"
   ]
  },
  {
   "cell_type": "code",
   "execution_count": 31,
   "metadata": {
    "autoscroll": "json-false",
    "collapsed": false,
    "deletable": true,
    "editable": true,
    "ein.tags": [
     "worksheet-0"
    ],
    "slideshow": {
     "slide_type": "-"
    }
   },
   "outputs": [],
   "source": [
    "categorical_cols = [\"genre_id\",\n",
    "                   \"media_id\",\n",
    "                   \"album_id\",\n",
    "                   \"context_type\",\n",
    "                   \"release_date\",\n",
    "                   \"platform_name\",\n",
    "                   \"platform_family\",\n",
    "                   \"listen_type\",\n",
    "                   \"user_gender\",\n",
    "                   \"user_id\",\n",
    "                   \"artist_id\",\n",
    "                   \"user_age\"]"
   ]
  },
  {
   "cell_type": "code",
   "execution_count": 32,
   "metadata": {
    "collapsed": false,
    "deletable": true,
    "editable": true
   },
   "outputs": [
    {
     "name": "stdout",
     "output_type": "stream",
     "text": [
      "104\n",
      "104\n"
     ]
    }
   ],
   "source": [
    "print(len(df_train.columns))\n",
    "print(len(set(df_train.columns)))"
   ]
  },
  {
   "cell_type": "markdown",
   "metadata": {
    "deletable": true,
    "editable": true,
    "ein.tags": [
     "worksheet-0"
    ],
    "slideshow": {
     "slide_type": "-"
    }
   },
   "source": [
    "### Let's inspect the categorical variables!"
   ]
  },
  {
   "cell_type": "code",
   "execution_count": 33,
   "metadata": {
    "autoscroll": "json-false",
    "collapsed": false,
    "deletable": true,
    "editable": true,
    "ein.tags": [
     "worksheet-0"
    ],
    "slideshow": {
     "slide_type": "-"
    }
   },
   "outputs": [
    {
     "name": "stdout",
     "output_type": "stream",
     "text": [
      "genre_id: 757\n",
      "media_id: 23969\n",
      "album_id: 11488\n",
      "context_type: 52\n",
      "release_date: 3570\n",
      "platform_name: 3\n",
      "platform_family: 3\n",
      "listen_type: 2\n",
      "user_gender: 2\n",
      "user_id: 135\n",
      "artist_id: 7706\n",
      "user_age: 13\n"
     ]
    }
   ],
   "source": [
    "for col in categorical_cols:\n",
    "    print(\"{}: {}\".format(col, len(df_train[col].unique())))"
   ]
  },
  {
   "cell_type": "markdown",
   "metadata": {
    "deletable": true,
    "editable": true,
    "ein.tags": [
     "worksheet-0"
    ],
    "slideshow": {
     "slide_type": "-"
    }
   },
   "source": [
    "### Strategy\n",
    "1. Apply onehot to categorical with few classes\n",
    "2. Rank categories to artist id\n",
    "3. target encoder for context and genre\n",
    "4. discard media, album, release date and user_id"
   ]
  },
  {
   "cell_type": "code",
   "execution_count": 34,
   "metadata": {
    "autoscroll": "json-false",
    "collapsed": false,
    "deletable": true,
    "editable": true,
    "ein.tags": [
     "worksheet-0"
    ],
    "slideshow": {
     "slide_type": "-"
    }
   },
   "outputs": [],
   "source": [
    "from greenpyce.feature_engineering import TargetEncoder\n",
    "from greenpyce.feature_engineering import onehot\n",
    "from greenpyce.feature_engineering import RankCategorical\n",
    "from greenpyce.feature_engineering import LabelCount"
   ]
  },
  {
   "cell_type": "code",
   "execution_count": 35,
   "metadata": {
    "autoscroll": "json-false",
    "collapsed": false,
    "deletable": true,
    "editable": true,
    "ein.tags": [
     "worksheet-0"
    ],
    "slideshow": {
     "slide_type": "-"
    }
   },
   "outputs": [
    {
     "data": {
      "text/plain": [
       "array(['album_id', 'artist_albuns', 'artist_fans', 'artist_id',\n",
       "       'artist_radio', 'context_type', 'diff_ts_listen_AND_release_date_D',\n",
       "       'diff_ts_listen_AND_release_date_M',\n",
       "       'diff_ts_listen_AND_release_date_Y', 'diff_user_song_age',\n",
       "       'genre_id', 'is_listened', 'is_train', 'listen_type', 'media_bpm',\n",
       "       'media_decade', 'media_duration', 'media_id', 'media_rank',\n",
       "       'platform_family', 'platform_name', 'release_date',\n",
       "       'release_date_DAY', 'release_date_MONTH', 'release_date_YEAR',\n",
       "       'sample_id', 'text', 'ts_listen', 'ts_listen_DAY_OF_WEEK',\n",
       "       'ts_listen_PERIOD_OF_DAY', 'user_age', 'user_age_group',\n",
       "       'user_gender', 'user_id', 'user_id_id', 'year',\n",
       "       'diff_last_ts_listen', 'diff_last_ts_listen_delayed_1',\n",
       "       'diff_last_ts_listen_delayed_2', 'diff_last_ts_listen_delayed_3',\n",
       "       'diff_last_ts_listen_delayed_4', 'diff_last_ts_listen_delayed_5',\n",
       "       'diff_last_ts_listen_delayed_6', 'diff_last_ts_listen_delayed_7',\n",
       "       'diff_last_ts_listen_delayed_8', 'diff_last_ts_listen_delayed_9',\n",
       "       'diff_last_ts_listen_delayed_10', 'is_listened_delayed_1',\n",
       "       'is_listened_delayed_2', 'is_listened_delayed_3',\n",
       "       'is_listened_delayed_4', 'is_listened_delayed_5',\n",
       "       'is_listened_delayed_6', 'is_listened_delayed_7',\n",
       "       'is_listened_delayed_8', 'is_listened_delayed_9',\n",
       "       'is_listened_delayed_10', 'listen_type_delayed_1',\n",
       "       'listen_type_delayed_2', 'listen_type_delayed_3',\n",
       "       'listen_type_delayed_4', 'listen_type_delayed_5',\n",
       "       'listen_type_delayed_6', 'listen_type_delayed_7',\n",
       "       'listen_type_delayed_8', 'listen_type_delayed_9',\n",
       "       'listen_type_delayed_10', 'flow_listened_delayed_1',\n",
       "       'flow_listened_delayed_2', 'flow_listened_delayed_3',\n",
       "       'flow_listened_delayed_4', 'flow_listened_delayed_5',\n",
       "       'flow_listened_delayed_6', 'flow_listened_delayed_7',\n",
       "       'flow_listened_delayed_8', 'flow_listened_delayed_9',\n",
       "       'flow_listened_delayed_10', 'flows_listened_last_10_delayed_1',\n",
       "       'flows_listened_last_10_delayed_2',\n",
       "       'flows_listened_last_10_delayed_3',\n",
       "       'flows_listened_last_10_delayed_4',\n",
       "       'flows_listened_last_10_delayed_5',\n",
       "       'flows_listened_last_10_delayed_6',\n",
       "       'flows_listened_last_10_delayed_7',\n",
       "       'flows_listened_last_10_delayed_8',\n",
       "       'flows_listened_last_10_delayed_9',\n",
       "       'flows_listened_last_10_delayed_10',\n",
       "       'flows_listened_mean_last_10_delayed_1',\n",
       "       'flows_listened_mean_last_10_delayed_2',\n",
       "       'flows_listened_mean_last_10_delayed_3',\n",
       "       'flows_listened_mean_last_10_delayed_4',\n",
       "       'flows_listened_mean_last_10_delayed_5',\n",
       "       'flows_listened_mean_last_10_delayed_6',\n",
       "       'flows_listened_mean_last_10_delayed_7',\n",
       "       'flows_listened_mean_last_10_delayed_8',\n",
       "       'flows_listened_mean_last_10_delayed_9',\n",
       "       'flows_listened_mean_last_10_delayed_10', 'nmidia_regular_listened',\n",
       "       'nmidia_with_flow_listened', 'nmidia_regular', 'nmidia_with_flow',\n",
       "       'nmidia_with_flow_listened_PROP', 'nmidia_regular_listened_PROP',\n",
       "       'nmidia_PROP_diff'], dtype=object)"
      ]
     },
     "execution_count": 35,
     "metadata": {},
     "output_type": "execute_result"
    }
   ],
   "source": [
    "df_train.columns.values"
   ]
  },
  {
   "cell_type": "markdown",
   "metadata": {
    "deletable": true,
    "editable": true,
    "ein.tags": [
     "worksheet-0"
    ],
    "slideshow": {
     "slide_type": "-"
    }
   },
   "source": [
    "Index([u'Unnamed: 0', u'Unnamed: 0.1', u'genre_id', u'ts_listen', u'media_id',\n",
    "       u'album_id', u'context_type', u'release_date', u'platform_name',\n",
    "       u'platform_family', u'media_duration', u'listen_type', u'user_gender',\n",
    "       u'user_id', u'artist_id', u'user_age', u'is_listened', u'text', u'year',\n",
    "       u'diff_ts_listen_AND_release_date_D',\n",
    "       u'diff_ts_listen_AND_release_date_M',\n",
    "       u'diff_ts_listen_AND_release_date_Y', u'release_date_DAY',\n",
    "       u'release_date_MONTH', u'release_date_YEAR', u'ts_listen_DAY_OF_WEEK',\n",
    "       u'ts_listen_PERIOD_OF_DAY', u'user_age_group', u'diff_user_song_age',\n",
    "       u'media_decade'],\n",
    "      dtype='object')"
   ]
  },
  {
   "cell_type": "markdown",
   "metadata": {
    "deletable": true,
    "editable": true
   },
   "source": [
    "('media_rank', 108554)\n",
    "('media_bpm', 105514)\n",
    "('diff_user_song_age', 100350)\n",
    "('artist_fans', 99141)\n",
    "('artist_albuns', 95015)\n",
    "('album_id', 80906)\n",
    "('diff_ts_listen_AND_release_date_Y', 77166)\n",
    "('media_id', 73054)\n",
    "('nmidia_regular_listened_PROP', 71187)\n",
    "('nmidia_regular_listened', 69962)\n",
    "('nmidia_PROP_diff', 64373)\n",
    "('nmidia_with_flow_listened', 62142)\n",
    "('nmidia_regular', 59499)\n",
    "('nmidia_with_flow', 57739)\n",
    "('user_id', 56269)\n",
    "('nmidia_with_flow_listened_PROP', 55801)\n",
    "('genre_id', 36985)\n",
    "('context_type', 29875)\n",
    "('ts_listen_PERIOD_OF_DAY_1', 26963)\n",
    "('media_duration', 23570)\n",
    "('release_date_YEAR', 18939)\n",
    "('user_gender_1', 15002)\n",
    "('ts_listen_PERIOD_OF_DAY_2', 10208)\n",
    "('ts_listen_DAY_OF_WEEK_1', 9843)\n",
    "('ts_listen_DAY_OF_WEEK_3', 9767)\n",
    "('ts_listen_DAY_OF_WEEK_4', 9611)\n",
    "('ts_listen_DAY_OF_WEEK_5', 9029)"
   ]
  },
  {
   "cell_type": "code",
   "execution_count": 36,
   "metadata": {
    "autoscroll": "json-false",
    "collapsed": false,
    "deletable": true,
    "editable": true,
    "ein.tags": [
     "worksheet-0"
    ],
    "slideshow": {
     "slide_type": "-"
    }
   },
   "outputs": [],
   "source": [
    "cols_for_target_encoder = [\"user_id\"]\n",
    "\n",
    "cols_for_onehot = [\"platform_name\", \n",
    "                   \"platform_family\", \n",
    "                   \"user_age\",\n",
    "                   \"listen_type\",\n",
    "                   \"artist_radio\",\n",
    "                   \"user_age_group\",\n",
    "                   \"media_decade\",\n",
    "                   \"user_gender\", \n",
    "                   \"ts_listen_DAY_OF_WEEK\",\n",
    "                   \"ts_listen_PERIOD_OF_DAY\"]\n",
    "\n",
    "cols_for_rank = [\"artist_id\",\n",
    "                 \"genre_id\",\n",
    "                \"artist_fans\",\n",
    "                \"media_id\", \n",
    "                 \"album_id\",\n",
    "                \"context_type\"]\n",
    "\n",
    "\n",
    "target = \"is_listened\""
   ]
  },
  {
   "cell_type": "code",
   "execution_count": null,
   "metadata": {
    "collapsed": true,
    "deletable": true,
    "editable": true
   },
   "outputs": [],
   "source": []
  },
  {
   "cell_type": "code",
   "execution_count": 37,
   "metadata": {
    "autoscroll": "json-false",
    "collapsed": false,
    "deletable": true,
    "editable": true,
    "ein.tags": [
     "worksheet-0"
    ],
    "slideshow": {
     "slide_type": "-"
    }
   },
   "outputs": [],
   "source": [
    "te = TargetEncoder(cols_for_target_encoder, \"is_listened\")"
   ]
  },
  {
   "cell_type": "code",
   "execution_count": 38,
   "metadata": {
    "autoscroll": "json-false",
    "collapsed": false,
    "deletable": true,
    "editable": true,
    "ein.tags": [
     "worksheet-0"
    ],
    "slideshow": {
     "slide_type": "-"
    }
   },
   "outputs": [],
   "source": [
    "te.fit(df_train)"
   ]
  },
  {
   "cell_type": "code",
   "execution_count": 39,
   "metadata": {
    "autoscroll": "json-false",
    "collapsed": false,
    "deletable": true,
    "editable": true,
    "ein.tags": [
     "worksheet-0"
    ],
    "slideshow": {
     "slide_type": "-"
    }
   },
   "outputs": [],
   "source": [
    "te.transform(df_train)\n",
    "te.transform(df_test)\n",
    "del te"
   ]
  },
  {
   "cell_type": "code",
   "execution_count": 40,
   "metadata": {
    "collapsed": false,
    "deletable": true,
    "editable": true
   },
   "outputs": [
    {
     "name": "stdout",
     "output_type": "stream",
     "text": [
      "das\n"
     ]
    }
   ],
   "source": [
    "print(\"das\")"
   ]
  },
  {
   "cell_type": "code",
   "execution_count": 41,
   "metadata": {
    "collapsed": false,
    "deletable": true,
    "editable": true
   },
   "outputs": [
    {
     "name": "stdout",
     "output_type": "stream",
     "text": [
      "teste\n"
     ]
    }
   ],
   "source": [
    "print(\"teste\")"
   ]
  },
  {
   "cell_type": "code",
   "execution_count": 42,
   "metadata": {
    "autoscroll": "json-false",
    "collapsed": false,
    "deletable": true,
    "editable": true,
    "ein.tags": [
     "worksheet-0"
    ],
    "slideshow": {
     "slide_type": "-"
    }
   },
   "outputs": [],
   "source": [
    "rc = RankCategorical(cols_for_rank)\n",
    "rc.fit(df_train)\n",
    "rc.transform(df_train)\n",
    "rc.transform(df_test)\n",
    "del rc"
   ]
  },
  {
   "cell_type": "code",
   "execution_count": 43,
   "metadata": {
    "autoscroll": "json-false",
    "collapsed": false,
    "deletable": true,
    "editable": true,
    "ein.tags": [
     "worksheet-0"
    ],
    "slideshow": {
     "slide_type": "-"
    }
   },
   "outputs": [],
   "source": [
    "# rc = RankCategorical([\"media_decade\"])\n",
    "# rc.fit(df_train)\n",
    "# rc.transform(df_train)\n",
    "# rc.transform(df_test)\n",
    "# del rc"
   ]
  },
  {
   "cell_type": "code",
   "execution_count": 44,
   "metadata": {
    "autoscroll": "json-false",
    "collapsed": false,
    "deletable": true,
    "editable": true,
    "ein.tags": [
     "worksheet-0"
    ],
    "slideshow": {
     "slide_type": "-"
    }
   },
   "outputs": [],
   "source": [
    "# lc = RankCategorical(cols_for_count)\n",
    "# lc.fit(df_train)\n",
    "# lc.transform(df_train)\n",
    "# lc.transform(df_test)"
   ]
  },
  {
   "cell_type": "code",
   "execution_count": 45,
   "metadata": {
    "autoscroll": "json-false",
    "collapsed": false,
    "deletable": true,
    "editable": true,
    "ein.tags": [
     "worksheet-0"
    ],
    "slideshow": {
     "slide_type": "-"
    }
   },
   "outputs": [
    {
     "data": {
      "text/html": [
       "<div>\n",
       "<table border=\"1\" class=\"dataframe\">\n",
       "  <thead>\n",
       "    <tr style=\"text-align: right;\">\n",
       "      <th></th>\n",
       "      <th>album_id</th>\n",
       "      <th>artist_albuns</th>\n",
       "      <th>artist_fans</th>\n",
       "      <th>artist_id</th>\n",
       "      <th>artist_radio</th>\n",
       "      <th>context_type</th>\n",
       "      <th>diff_ts_listen_AND_release_date_D</th>\n",
       "      <th>diff_ts_listen_AND_release_date_M</th>\n",
       "      <th>diff_ts_listen_AND_release_date_Y</th>\n",
       "      <th>diff_user_song_age</th>\n",
       "      <th>...</th>\n",
       "      <th>flows_listened_mean_last_10_delayed_8</th>\n",
       "      <th>flows_listened_mean_last_10_delayed_9</th>\n",
       "      <th>flows_listened_mean_last_10_delayed_10</th>\n",
       "      <th>nmidia_regular_listened</th>\n",
       "      <th>nmidia_with_flow_listened</th>\n",
       "      <th>nmidia_regular</th>\n",
       "      <th>nmidia_with_flow</th>\n",
       "      <th>nmidia_with_flow_listened_PROP</th>\n",
       "      <th>nmidia_regular_listened_PROP</th>\n",
       "      <th>nmidia_PROP_diff</th>\n",
       "    </tr>\n",
       "  </thead>\n",
       "  <tbody>\n",
       "    <tr>\n",
       "      <th>0</th>\n",
       "      <td>1043</td>\n",
       "      <td>44.0</td>\n",
       "      <td>161</td>\n",
       "      <td>162</td>\n",
       "      <td>1.0</td>\n",
       "      <td>1</td>\n",
       "      <td>235.0</td>\n",
       "      <td>7.833333</td>\n",
       "      <td>0.643836</td>\n",
       "      <td>26.356164</td>\n",
       "      <td>...</td>\n",
       "      <td>0.0</td>\n",
       "      <td>0.0</td>\n",
       "      <td>0.1</td>\n",
       "      <td>1745</td>\n",
       "      <td>1151</td>\n",
       "      <td>1772</td>\n",
       "      <td>1158</td>\n",
       "      <td>0.993955</td>\n",
       "      <td>0.984763</td>\n",
       "      <td>0.009192</td>\n",
       "    </tr>\n",
       "    <tr>\n",
       "      <th>1</th>\n",
       "      <td>36</td>\n",
       "      <td>7.0</td>\n",
       "      <td>73</td>\n",
       "      <td>73</td>\n",
       "      <td>1.0</td>\n",
       "      <td>1</td>\n",
       "      <td>306.0</td>\n",
       "      <td>10.200000</td>\n",
       "      <td>0.838356</td>\n",
       "      <td>26.161644</td>\n",
       "      <td>...</td>\n",
       "      <td>0.0</td>\n",
       "      <td>0.0</td>\n",
       "      <td>0.0</td>\n",
       "      <td>1745</td>\n",
       "      <td>1151</td>\n",
       "      <td>1772</td>\n",
       "      <td>1158</td>\n",
       "      <td>0.993955</td>\n",
       "      <td>0.984763</td>\n",
       "      <td>0.009192</td>\n",
       "    </tr>\n",
       "    <tr>\n",
       "      <th>2</th>\n",
       "      <td>57</td>\n",
       "      <td>31.0</td>\n",
       "      <td>66</td>\n",
       "      <td>66</td>\n",
       "      <td>1.0</td>\n",
       "      <td>1</td>\n",
       "      <td>525.0</td>\n",
       "      <td>17.500000</td>\n",
       "      <td>1.438356</td>\n",
       "      <td>25.561644</td>\n",
       "      <td>...</td>\n",
       "      <td>0.0</td>\n",
       "      <td>0.0</td>\n",
       "      <td>0.0</td>\n",
       "      <td>1745</td>\n",
       "      <td>1151</td>\n",
       "      <td>1772</td>\n",
       "      <td>1158</td>\n",
       "      <td>0.993955</td>\n",
       "      <td>0.984763</td>\n",
       "      <td>0.009192</td>\n",
       "    </tr>\n",
       "    <tr>\n",
       "      <th>3</th>\n",
       "      <td>103</td>\n",
       "      <td>20.0</td>\n",
       "      <td>125</td>\n",
       "      <td>125</td>\n",
       "      <td>1.0</td>\n",
       "      <td>1</td>\n",
       "      <td>998.0</td>\n",
       "      <td>33.266667</td>\n",
       "      <td>2.734247</td>\n",
       "      <td>24.265753</td>\n",
       "      <td>...</td>\n",
       "      <td>0.0</td>\n",
       "      <td>0.0</td>\n",
       "      <td>0.0</td>\n",
       "      <td>1745</td>\n",
       "      <td>1151</td>\n",
       "      <td>1772</td>\n",
       "      <td>1158</td>\n",
       "      <td>0.993955</td>\n",
       "      <td>0.984763</td>\n",
       "      <td>0.009192</td>\n",
       "    </tr>\n",
       "    <tr>\n",
       "      <th>4</th>\n",
       "      <td>2735</td>\n",
       "      <td>89.0</td>\n",
       "      <td>192</td>\n",
       "      <td>191</td>\n",
       "      <td>1.0</td>\n",
       "      <td>1</td>\n",
       "      <td>88.0</td>\n",
       "      <td>2.933333</td>\n",
       "      <td>0.241096</td>\n",
       "      <td>26.758904</td>\n",
       "      <td>...</td>\n",
       "      <td>0.0</td>\n",
       "      <td>0.0</td>\n",
       "      <td>0.0</td>\n",
       "      <td>1745</td>\n",
       "      <td>1151</td>\n",
       "      <td>1772</td>\n",
       "      <td>1158</td>\n",
       "      <td>0.993955</td>\n",
       "      <td>0.984763</td>\n",
       "      <td>0.009192</td>\n",
       "    </tr>\n",
       "  </tbody>\n",
       "</table>\n",
       "<p>5 rows × 104 columns</p>\n",
       "</div>"
      ],
      "text/plain": [
       "   album_id  artist_albuns  artist_fans  artist_id  artist_radio  context_type  diff_ts_listen_AND_release_date_D  diff_ts_listen_AND_release_date_M  diff_ts_listen_AND_release_date_Y  \\\n",
       "0      1043           44.0          161        162           1.0             1                              235.0                           7.833333                           0.643836   \n",
       "1        36            7.0           73         73           1.0             1                              306.0                          10.200000                           0.838356   \n",
       "2        57           31.0           66         66           1.0             1                              525.0                          17.500000                           1.438356   \n",
       "3       103           20.0          125        125           1.0             1                              998.0                          33.266667                           2.734247   \n",
       "4      2735           89.0          192        191           1.0             1                               88.0                           2.933333                           0.241096   \n",
       "\n",
       "   diff_user_song_age        ...         flows_listened_mean_last_10_delayed_8  flows_listened_mean_last_10_delayed_9  flows_listened_mean_last_10_delayed_10  nmidia_regular_listened  \\\n",
       "0           26.356164        ...                                           0.0                                    0.0                                     0.1                     1745   \n",
       "1           26.161644        ...                                           0.0                                    0.0                                     0.0                     1745   \n",
       "2           25.561644        ...                                           0.0                                    0.0                                     0.0                     1745   \n",
       "3           24.265753        ...                                           0.0                                    0.0                                     0.0                     1745   \n",
       "4           26.758904        ...                                           0.0                                    0.0                                     0.0                     1745   \n",
       "\n",
       "   nmidia_with_flow_listened  nmidia_regular  nmidia_with_flow  nmidia_with_flow_listened_PROP  nmidia_regular_listened_PROP  nmidia_PROP_diff  \n",
       "0                       1151            1772              1158                        0.993955                      0.984763          0.009192  \n",
       "1                       1151            1772              1158                        0.993955                      0.984763          0.009192  \n",
       "2                       1151            1772              1158                        0.993955                      0.984763          0.009192  \n",
       "3                       1151            1772              1158                        0.993955                      0.984763          0.009192  \n",
       "4                       1151            1772              1158                        0.993955                      0.984763          0.009192  \n",
       "\n",
       "[5 rows x 104 columns]"
      ]
     },
     "execution_count": 45,
     "metadata": {},
     "output_type": "execute_result"
    }
   ],
   "source": [
    "df_train.head()"
   ]
  },
  {
   "cell_type": "code",
   "execution_count": 46,
   "metadata": {
    "autoscroll": "json-false",
    "collapsed": false,
    "deletable": true,
    "editable": true,
    "ein.tags": [
     "worksheet-0"
    ],
    "slideshow": {
     "slide_type": "-"
    }
   },
   "outputs": [],
   "source": [
    "df_train = onehot(df_train, cols_for_onehot)\n",
    "df_test = onehot(df_test, cols_for_onehot)"
   ]
  },
  {
   "cell_type": "code",
   "execution_count": 47,
   "metadata": {
    "autoscroll": "json-false",
    "collapsed": false,
    "deletable": true,
    "editable": true,
    "ein.tags": [
     "worksheet-0"
    ],
    "slideshow": {
     "slide_type": "-"
    }
   },
   "outputs": [
    {
     "name": "stdout",
     "output_type": "stream",
     "text": [
      "   album_id  artist_albuns  artist_fans  artist_id  context_type  diff_ts_listen_AND_release_date_D  diff_ts_listen_AND_release_date_M  diff_ts_listen_AND_release_date_Y  diff_user_song_age  \\\n",
      "0      1043           44.0          161        162             1                              235.0                           7.833333                           0.643836           26.356164   \n",
      "1        36            7.0           73         73             1                              306.0                          10.200000                           0.838356           26.161644   \n",
      "2        57           31.0           66         66             1                              525.0                          17.500000                           1.438356           25.561644   \n",
      "3       103           20.0          125        125             1                              998.0                          33.266667                           2.734247           24.265753   \n",
      "4      2735           89.0          192        191             1                               88.0                           2.933333                           0.241096           26.758904   \n",
      "\n",
      "   genre_id            ...              user_gender_1  ts_listen_DAY_OF_WEEK_1  ts_listen_DAY_OF_WEEK_2  ts_listen_DAY_OF_WEEK_3  ts_listen_DAY_OF_WEEK_4  ts_listen_DAY_OF_WEEK_5  \\\n",
      "0         1            ...                          1                        1                        0                        0                        0                        0   \n",
      "1         1            ...                          1                        1                        0                        0                        0                        0   \n",
      "2         1            ...                          1                        1                        0                        0                        0                        0   \n",
      "3        25            ...                          1                        1                        0                        0                        0                        0   \n",
      "4         1            ...                          1                        1                        0                        0                        0                        0   \n",
      "\n",
      "  ts_listen_DAY_OF_WEEK_6  ts_listen_PERIOD_OF_DAY_1  ts_listen_PERIOD_OF_DAY_2  ts_listen_PERIOD_OF_DAY_3  \n",
      "0                       0                          0                          0                          0  \n",
      "1                       0                          0                          0                          0  \n",
      "2                       0                          0                          0                          0  \n",
      "3                       0                          0                          0                          0  \n",
      "4                       0                          0                          0                          0  \n",
      "\n",
      "[5 rows x 131 columns]\n"
     ]
    }
   ],
   "source": [
    "print(df_train.head())"
   ]
  },
  {
   "cell_type": "code",
   "execution_count": 48,
   "metadata": {
    "autoscroll": "json-false",
    "collapsed": false,
    "deletable": true,
    "editable": true,
    "ein.tags": [
     "worksheet-0"
    ],
    "slideshow": {
     "slide_type": "-"
    }
   },
   "outputs": [
    {
     "data": {
      "text/plain": [
       "Counter({'album_id': 1,\n",
       "         'artist_albuns': 1,\n",
       "         'artist_fans': 1,\n",
       "         'artist_id': 1,\n",
       "         'context_type': 1,\n",
       "         'diff_last_ts_listen': 1,\n",
       "         'diff_last_ts_listen_delayed_1': 1,\n",
       "         'diff_last_ts_listen_delayed_10': 1,\n",
       "         'diff_last_ts_listen_delayed_2': 1,\n",
       "         'diff_last_ts_listen_delayed_3': 1,\n",
       "         'diff_last_ts_listen_delayed_4': 1,\n",
       "         'diff_last_ts_listen_delayed_5': 1,\n",
       "         'diff_last_ts_listen_delayed_6': 1,\n",
       "         'diff_last_ts_listen_delayed_7': 1,\n",
       "         'diff_last_ts_listen_delayed_8': 1,\n",
       "         'diff_last_ts_listen_delayed_9': 1,\n",
       "         'diff_ts_listen_AND_release_date_D': 1,\n",
       "         'diff_ts_listen_AND_release_date_M': 1,\n",
       "         'diff_ts_listen_AND_release_date_Y': 1,\n",
       "         'diff_user_song_age': 1,\n",
       "         'flow_listened_delayed_1': 1,\n",
       "         'flow_listened_delayed_10': 1,\n",
       "         'flow_listened_delayed_2': 1,\n",
       "         'flow_listened_delayed_3': 1,\n",
       "         'flow_listened_delayed_4': 1,\n",
       "         'flow_listened_delayed_5': 1,\n",
       "         'flow_listened_delayed_6': 1,\n",
       "         'flow_listened_delayed_7': 1,\n",
       "         'flow_listened_delayed_8': 1,\n",
       "         'flow_listened_delayed_9': 1,\n",
       "         'flows_listened_last_10_delayed_1': 1,\n",
       "         'flows_listened_last_10_delayed_10': 1,\n",
       "         'flows_listened_last_10_delayed_2': 1,\n",
       "         'flows_listened_last_10_delayed_3': 1,\n",
       "         'flows_listened_last_10_delayed_4': 1,\n",
       "         'flows_listened_last_10_delayed_5': 1,\n",
       "         'flows_listened_last_10_delayed_6': 1,\n",
       "         'flows_listened_last_10_delayed_7': 1,\n",
       "         'flows_listened_last_10_delayed_8': 1,\n",
       "         'flows_listened_last_10_delayed_9': 1,\n",
       "         'flows_listened_mean_last_10_delayed_1': 1,\n",
       "         'flows_listened_mean_last_10_delayed_10': 1,\n",
       "         'flows_listened_mean_last_10_delayed_2': 1,\n",
       "         'flows_listened_mean_last_10_delayed_3': 1,\n",
       "         'flows_listened_mean_last_10_delayed_4': 1,\n",
       "         'flows_listened_mean_last_10_delayed_5': 1,\n",
       "         'flows_listened_mean_last_10_delayed_6': 1,\n",
       "         'flows_listened_mean_last_10_delayed_7': 1,\n",
       "         'flows_listened_mean_last_10_delayed_8': 1,\n",
       "         'flows_listened_mean_last_10_delayed_9': 1,\n",
       "         'genre_id': 1,\n",
       "         'is_listened': 1,\n",
       "         'is_listened_delayed_1': 1,\n",
       "         'is_listened_delayed_10': 1,\n",
       "         'is_listened_delayed_2': 1,\n",
       "         'is_listened_delayed_3': 1,\n",
       "         'is_listened_delayed_4': 1,\n",
       "         'is_listened_delayed_5': 1,\n",
       "         'is_listened_delayed_6': 1,\n",
       "         'is_listened_delayed_7': 1,\n",
       "         'is_listened_delayed_8': 1,\n",
       "         'is_listened_delayed_9': 1,\n",
       "         'is_train': 1,\n",
       "         'listen_type_1.0': 1,\n",
       "         'listen_type_delayed_1': 1,\n",
       "         'listen_type_delayed_10': 1,\n",
       "         'listen_type_delayed_2': 1,\n",
       "         'listen_type_delayed_3': 1,\n",
       "         'listen_type_delayed_4': 1,\n",
       "         'listen_type_delayed_5': 1,\n",
       "         'listen_type_delayed_6': 1,\n",
       "         'listen_type_delayed_7': 1,\n",
       "         'listen_type_delayed_8': 1,\n",
       "         'listen_type_delayed_9': 1,\n",
       "         'media_bpm': 1,\n",
       "         'media_decade_1': 1,\n",
       "         'media_decade_2': 1,\n",
       "         'media_decade_3': 1,\n",
       "         'media_decade_4': 1,\n",
       "         'media_decade_5': 1,\n",
       "         'media_decade_6': 1,\n",
       "         'media_decade_7': 1,\n",
       "         'media_decade_8': 1,\n",
       "         'media_duration': 1,\n",
       "         'media_id': 1,\n",
       "         'media_rank': 1,\n",
       "         'nmidia_PROP_diff': 1,\n",
       "         'nmidia_regular': 1,\n",
       "         'nmidia_regular_listened': 1,\n",
       "         'nmidia_regular_listened_PROP': 1,\n",
       "         'nmidia_with_flow': 1,\n",
       "         'nmidia_with_flow_listened': 1,\n",
       "         'nmidia_with_flow_listened_PROP': 1,\n",
       "         'platform_family_1': 1,\n",
       "         'platform_family_2': 1,\n",
       "         'platform_name_1': 1,\n",
       "         'platform_name_2': 1,\n",
       "         'release_date': 1,\n",
       "         'release_date_DAY': 1,\n",
       "         'release_date_MONTH': 1,\n",
       "         'release_date_YEAR': 1,\n",
       "         'sample_id': 1,\n",
       "         'text': 1,\n",
       "         'ts_listen': 1,\n",
       "         'ts_listen_DAY_OF_WEEK_1': 1,\n",
       "         'ts_listen_DAY_OF_WEEK_2': 1,\n",
       "         'ts_listen_DAY_OF_WEEK_3': 1,\n",
       "         'ts_listen_DAY_OF_WEEK_4': 1,\n",
       "         'ts_listen_DAY_OF_WEEK_5': 1,\n",
       "         'ts_listen_DAY_OF_WEEK_6': 1,\n",
       "         'ts_listen_PERIOD_OF_DAY_1': 1,\n",
       "         'ts_listen_PERIOD_OF_DAY_2': 1,\n",
       "         'ts_listen_PERIOD_OF_DAY_3': 1,\n",
       "         'user_age_19': 1,\n",
       "         'user_age_20': 1,\n",
       "         'user_age_21': 1,\n",
       "         'user_age_22': 1,\n",
       "         'user_age_23': 1,\n",
       "         'user_age_24': 1,\n",
       "         'user_age_25': 1,\n",
       "         'user_age_26': 1,\n",
       "         'user_age_27': 1,\n",
       "         'user_age_28': 1,\n",
       "         'user_age_29': 1,\n",
       "         'user_age_30': 1,\n",
       "         'user_age_group_1': 1,\n",
       "         'user_age_group_2': 1,\n",
       "         'user_gender_1': 1,\n",
       "         'user_id': 1,\n",
       "         'user_id_id': 1,\n",
       "         'year': 1})"
      ]
     },
     "execution_count": 48,
     "metadata": {},
     "output_type": "execute_result"
    }
   ],
   "source": [
    "#df_train = rank_categorical(df_train, cols_for_rank)\n",
    "from collections import Counter\n",
    "Counter(list(df_train.columns))"
   ]
  },
  {
   "cell_type": "code",
   "execution_count": 49,
   "metadata": {
    "collapsed": false,
    "deletable": true,
    "editable": true
   },
   "outputs": [
    {
     "name": "stdout",
     "output_type": "stream",
     "text": [
      "131\n",
      "131\n"
     ]
    }
   ],
   "source": [
    "print(len(df_train.columns))\n",
    "print(len(set(df_train.columns)))"
   ]
  },
  {
   "cell_type": "code",
   "execution_count": 50,
   "metadata": {
    "autoscroll": "json-false",
    "collapsed": false,
    "deletable": true,
    "editable": true,
    "ein.tags": [
     "worksheet-0"
    ],
    "slideshow": {
     "slide_type": "-"
    }
   },
   "outputs": [
    {
     "data": {
      "text/plain": [
       "array(['album_id', 'artist_albuns', 'artist_fans', 'artist_id',\n",
       "       'context_type', 'diff_ts_listen_AND_release_date_D',\n",
       "       'diff_ts_listen_AND_release_date_M',\n",
       "       'diff_ts_listen_AND_release_date_Y', 'diff_user_song_age',\n",
       "       'genre_id', 'is_listened', 'is_train', 'media_bpm',\n",
       "       'media_duration', 'media_id', 'media_rank', 'release_date',\n",
       "       'release_date_DAY', 'release_date_MONTH', 'release_date_YEAR',\n",
       "       'sample_id', 'text', 'ts_listen', 'user_id', 'user_id_id', 'year',\n",
       "       'diff_last_ts_listen', 'diff_last_ts_listen_delayed_1',\n",
       "       'diff_last_ts_listen_delayed_2', 'diff_last_ts_listen_delayed_3',\n",
       "       'diff_last_ts_listen_delayed_4', 'diff_last_ts_listen_delayed_5',\n",
       "       'diff_last_ts_listen_delayed_6', 'diff_last_ts_listen_delayed_7',\n",
       "       'diff_last_ts_listen_delayed_8', 'diff_last_ts_listen_delayed_9',\n",
       "       'diff_last_ts_listen_delayed_10', 'is_listened_delayed_1',\n",
       "       'is_listened_delayed_2', 'is_listened_delayed_3',\n",
       "       'is_listened_delayed_4', 'is_listened_delayed_5',\n",
       "       'is_listened_delayed_6', 'is_listened_delayed_7',\n",
       "       'is_listened_delayed_8', 'is_listened_delayed_9',\n",
       "       'is_listened_delayed_10', 'listen_type_delayed_1',\n",
       "       'listen_type_delayed_2', 'listen_type_delayed_3',\n",
       "       'listen_type_delayed_4', 'listen_type_delayed_5',\n",
       "       'listen_type_delayed_6', 'listen_type_delayed_7',\n",
       "       'listen_type_delayed_8', 'listen_type_delayed_9',\n",
       "       'listen_type_delayed_10', 'flow_listened_delayed_1',\n",
       "       'flow_listened_delayed_2', 'flow_listened_delayed_3',\n",
       "       'flow_listened_delayed_4', 'flow_listened_delayed_5',\n",
       "       'flow_listened_delayed_6', 'flow_listened_delayed_7',\n",
       "       'flow_listened_delayed_8', 'flow_listened_delayed_9',\n",
       "       'flow_listened_delayed_10', 'flows_listened_last_10_delayed_1',\n",
       "       'flows_listened_last_10_delayed_2',\n",
       "       'flows_listened_last_10_delayed_3',\n",
       "       'flows_listened_last_10_delayed_4',\n",
       "       'flows_listened_last_10_delayed_5',\n",
       "       'flows_listened_last_10_delayed_6',\n",
       "       'flows_listened_last_10_delayed_7',\n",
       "       'flows_listened_last_10_delayed_8',\n",
       "       'flows_listened_last_10_delayed_9',\n",
       "       'flows_listened_last_10_delayed_10',\n",
       "       'flows_listened_mean_last_10_delayed_1',\n",
       "       'flows_listened_mean_last_10_delayed_2',\n",
       "       'flows_listened_mean_last_10_delayed_3',\n",
       "       'flows_listened_mean_last_10_delayed_4',\n",
       "       'flows_listened_mean_last_10_delayed_5',\n",
       "       'flows_listened_mean_last_10_delayed_6',\n",
       "       'flows_listened_mean_last_10_delayed_7',\n",
       "       'flows_listened_mean_last_10_delayed_8',\n",
       "       'flows_listened_mean_last_10_delayed_9',\n",
       "       'flows_listened_mean_last_10_delayed_10', 'nmidia_regular_listened',\n",
       "       'nmidia_with_flow_listened', 'nmidia_regular', 'nmidia_with_flow',\n",
       "       'nmidia_with_flow_listened_PROP', 'nmidia_regular_listened_PROP',\n",
       "       'nmidia_PROP_diff', 'platform_name_1', 'platform_name_2',\n",
       "       'platform_family_1', 'platform_family_2', 'user_age_19',\n",
       "       'user_age_20', 'user_age_21', 'user_age_22', 'user_age_23',\n",
       "       'user_age_24', 'user_age_25', 'user_age_26', 'user_age_27',\n",
       "       'user_age_28', 'user_age_29', 'user_age_30', 'listen_type_1.0',\n",
       "       'user_age_group_1', 'user_age_group_2', 'media_decade_1',\n",
       "       'media_decade_2', 'media_decade_3', 'media_decade_4',\n",
       "       'media_decade_5', 'media_decade_6', 'media_decade_7',\n",
       "       'media_decade_8', 'user_gender_1', 'ts_listen_DAY_OF_WEEK_1',\n",
       "       'ts_listen_DAY_OF_WEEK_2', 'ts_listen_DAY_OF_WEEK_3',\n",
       "       'ts_listen_DAY_OF_WEEK_4', 'ts_listen_DAY_OF_WEEK_5',\n",
       "       'ts_listen_DAY_OF_WEEK_6', 'ts_listen_PERIOD_OF_DAY_1',\n",
       "       'ts_listen_PERIOD_OF_DAY_2', 'ts_listen_PERIOD_OF_DAY_3'], dtype=object)"
      ]
     },
     "execution_count": 50,
     "metadata": {},
     "output_type": "execute_result"
    }
   ],
   "source": [
    "df_train.columns.values"
   ]
  },
  {
   "cell_type": "code",
   "execution_count": 51,
   "metadata": {
    "collapsed": false,
    "deletable": true,
    "editable": true
   },
   "outputs": [
    {
     "name": "stdout",
     "output_type": "stream",
     "text": [
      "131\n",
      "131\n"
     ]
    }
   ],
   "source": [
    "print(len(df_train.columns))\n",
    "print(len(set(df_train.columns)))"
   ]
  },
  {
   "cell_type": "code",
   "execution_count": 52,
   "metadata": {
    "autoscroll": "json-false",
    "collapsed": false,
    "deletable": true,
    "editable": true,
    "ein.tags": [
     "worksheet-0"
    ],
    "slideshow": {
     "slide_type": "-"
    }
   },
   "outputs": [],
   "source": [
    "%timeit\n",
    "### Drop\n",
    "to_drop = ['ts_listen', 'release_date', \"year\", \"text\", 'release_date_DAY', 'release_date_MONTH']#, \"nmidia_with_flow_listened_PROP\", \"nmidia_PROP_diff\", \"nmidia_regular_listened_PROP\"]\n",
    "df_train.drop(to_drop, axis = 1,inplace=True)\n",
    "df_test.drop(to_drop, axis = 1,inplace=True)"
   ]
  },
  {
   "cell_type": "code",
   "execution_count": 53,
   "metadata": {
    "autoscroll": "json-false",
    "collapsed": false,
    "deletable": true,
    "editable": true,
    "ein.tags": [
     "worksheet-0"
    ],
    "slideshow": {
     "slide_type": "-"
    }
   },
   "outputs": [],
   "source": [
    "# to_drop = [\"year\", \"text\"]\n",
    "# df_train.drop(to_drop, axis = 1,inplace=True)"
   ]
  },
  {
   "cell_type": "code",
   "execution_count": 54,
   "metadata": {
    "autoscroll": "json-false",
    "collapsed": false,
    "deletable": true,
    "editable": true,
    "ein.tags": [
     "worksheet-0"
    ],
    "slideshow": {
     "slide_type": "-"
    }
   },
   "outputs": [
    {
     "data": {
      "text/plain": [
       "['album_id',\n",
       " 'artist_albuns',\n",
       " 'artist_fans',\n",
       " 'artist_id',\n",
       " 'context_type',\n",
       " 'diff_ts_listen_AND_release_date_D',\n",
       " 'diff_ts_listen_AND_release_date_M',\n",
       " 'diff_ts_listen_AND_release_date_Y',\n",
       " 'diff_user_song_age',\n",
       " 'genre_id',\n",
       " 'is_train',\n",
       " 'media_bpm',\n",
       " 'media_duration',\n",
       " 'media_id',\n",
       " 'media_rank',\n",
       " 'release_date_YEAR',\n",
       " 'sample_id',\n",
       " 'user_id',\n",
       " 'diff_last_ts_listen',\n",
       " 'diff_last_ts_listen_delayed_1',\n",
       " 'diff_last_ts_listen_delayed_2',\n",
       " 'diff_last_ts_listen_delayed_3',\n",
       " 'diff_last_ts_listen_delayed_4',\n",
       " 'diff_last_ts_listen_delayed_5',\n",
       " 'diff_last_ts_listen_delayed_6',\n",
       " 'diff_last_ts_listen_delayed_7',\n",
       " 'diff_last_ts_listen_delayed_8',\n",
       " 'diff_last_ts_listen_delayed_9',\n",
       " 'diff_last_ts_listen_delayed_10',\n",
       " 'is_listened_delayed_1',\n",
       " 'is_listened_delayed_2',\n",
       " 'is_listened_delayed_3',\n",
       " 'is_listened_delayed_4',\n",
       " 'is_listened_delayed_5',\n",
       " 'is_listened_delayed_6',\n",
       " 'is_listened_delayed_7',\n",
       " 'is_listened_delayed_8',\n",
       " 'is_listened_delayed_9',\n",
       " 'is_listened_delayed_10',\n",
       " 'listen_type_delayed_1',\n",
       " 'listen_type_delayed_2',\n",
       " 'listen_type_delayed_3',\n",
       " 'listen_type_delayed_4',\n",
       " 'listen_type_delayed_5',\n",
       " 'listen_type_delayed_6',\n",
       " 'listen_type_delayed_7',\n",
       " 'listen_type_delayed_8',\n",
       " 'listen_type_delayed_9',\n",
       " 'listen_type_delayed_10',\n",
       " 'flow_listened_delayed_1',\n",
       " 'flow_listened_delayed_2',\n",
       " 'flow_listened_delayed_3',\n",
       " 'flow_listened_delayed_4',\n",
       " 'flow_listened_delayed_5',\n",
       " 'flow_listened_delayed_6',\n",
       " 'flow_listened_delayed_7',\n",
       " 'flow_listened_delayed_8',\n",
       " 'flow_listened_delayed_9',\n",
       " 'flow_listened_delayed_10',\n",
       " 'flows_listened_last_10_delayed_1',\n",
       " 'flows_listened_last_10_delayed_2',\n",
       " 'flows_listened_last_10_delayed_3',\n",
       " 'flows_listened_last_10_delayed_4',\n",
       " 'flows_listened_last_10_delayed_5',\n",
       " 'flows_listened_last_10_delayed_6',\n",
       " 'flows_listened_last_10_delayed_7',\n",
       " 'flows_listened_last_10_delayed_8',\n",
       " 'flows_listened_last_10_delayed_9',\n",
       " 'flows_listened_last_10_delayed_10',\n",
       " 'flows_listened_mean_last_10_delayed_1',\n",
       " 'flows_listened_mean_last_10_delayed_2',\n",
       " 'flows_listened_mean_last_10_delayed_3',\n",
       " 'flows_listened_mean_last_10_delayed_4',\n",
       " 'flows_listened_mean_last_10_delayed_5',\n",
       " 'flows_listened_mean_last_10_delayed_6',\n",
       " 'flows_listened_mean_last_10_delayed_7',\n",
       " 'flows_listened_mean_last_10_delayed_8',\n",
       " 'flows_listened_mean_last_10_delayed_9',\n",
       " 'flows_listened_mean_last_10_delayed_10',\n",
       " 'nmidia_regular_listened',\n",
       " 'nmidia_with_flow_listened',\n",
       " 'nmidia_regular',\n",
       " 'nmidia_with_flow',\n",
       " 'nmidia_with_flow_listened_PROP',\n",
       " 'nmidia_regular_listened_PROP',\n",
       " 'nmidia_PROP_diff',\n",
       " 'platform_name_1',\n",
       " 'platform_name_2',\n",
       " 'platform_family_1',\n",
       " 'platform_family_2',\n",
       " 'user_age_19',\n",
       " 'user_age_20',\n",
       " 'user_age_21',\n",
       " 'user_age_22',\n",
       " 'user_age_23',\n",
       " 'user_age_24',\n",
       " 'user_age_25',\n",
       " 'user_age_26',\n",
       " 'user_age_27',\n",
       " 'user_age_28',\n",
       " 'user_age_29',\n",
       " 'user_age_30',\n",
       " 'listen_type_1.0',\n",
       " 'user_age_group_1',\n",
       " 'user_age_group_2',\n",
       " 'media_decade_1',\n",
       " 'media_decade_2',\n",
       " 'media_decade_3',\n",
       " 'media_decade_4',\n",
       " 'media_decade_5',\n",
       " 'media_decade_6',\n",
       " 'media_decade_7',\n",
       " 'media_decade_8',\n",
       " 'user_gender_1',\n",
       " 'ts_listen_DAY_OF_WEEK_1',\n",
       " 'ts_listen_DAY_OF_WEEK_2',\n",
       " 'ts_listen_DAY_OF_WEEK_3',\n",
       " 'ts_listen_DAY_OF_WEEK_4',\n",
       " 'ts_listen_DAY_OF_WEEK_5',\n",
       " 'ts_listen_DAY_OF_WEEK_6',\n",
       " 'ts_listen_PERIOD_OF_DAY_1',\n",
       " 'ts_listen_PERIOD_OF_DAY_2',\n",
       " 'ts_listen_PERIOD_OF_DAY_3']"
      ]
     },
     "execution_count": 54,
     "metadata": {},
     "output_type": "execute_result"
    }
   ],
   "source": [
    "ignore_list = [target, \"user_id_id\"]\n",
    "features = [col for col in df_train.columns.values if col not in ignore_list]\n",
    "features"
   ]
  },
  {
   "cell_type": "code",
   "execution_count": null,
   "metadata": {
    "collapsed": true,
    "deletable": true,
    "editable": true
   },
   "outputs": [],
   "source": []
  },
  {
   "cell_type": "code",
   "execution_count": 55,
   "metadata": {
    "collapsed": false,
    "deletable": true,
    "editable": true
   },
   "outputs": [
    {
     "data": {
      "text/plain": [
       "array([0, 0, 0, 0, 0, 0, 0, 0, 0, 0, 0, 0, 0, 0, 0, 0, 0, 0, 0, 0, 0, 0, 0,\n",
       "       0, 0, 0, 0, 0, 0, 0, 0, 0, 0, 0, 0, 0, 0, 0, 0, 0, 0, 0, 0, 0, 0, 0,\n",
       "       0, 0, 0, 0, 0, 0, 0, 0, 0, 0, 0, 0, 0, 0, 0, 0, 0, 0, 0, 0, 0, 0, 0,\n",
       "       0, 0, 0, 0, 0, 0, 0, 0, 0, 0, 0, 0, 0, 0, 0, 0, 0, 0, 0, 0, 0, 0, 0,\n",
       "       0, 0, 0, 0, 0, 0, 0, 0, 0, 0, 0, 0, 0, 0, 0, 0, 0, 0, 0, 0, 0, 0, 0,\n",
       "       0, 0, 0, 0, 0, 0, 0, 0, 0, 0])"
      ]
     },
     "execution_count": 55,
     "metadata": {},
     "output_type": "execute_result"
    }
   ],
   "source": [
    "pd.isnull(df_train).sum().values"
   ]
  },
  {
   "cell_type": "code",
   "execution_count": 56,
   "metadata": {
    "collapsed": false,
    "deletable": true,
    "editable": true
   },
   "outputs": [
    {
     "data": {
      "text/plain": [
       "album_id                             0\n",
       "artist_albuns                        0\n",
       "artist_fans                          0\n",
       "artist_id                            0\n",
       "context_type                         0\n",
       "diff_ts_listen_AND_release_date_D    0\n",
       "diff_ts_listen_AND_release_date_M    0\n",
       "diff_ts_listen_AND_release_date_Y    0\n",
       "diff_user_song_age                   0\n",
       "genre_id                             0\n",
       "is_listened                          0\n",
       "is_train                             0\n",
       "media_bpm                            0\n",
       "media_duration                       0\n",
       "media_id                             0\n",
       "media_rank                           0\n",
       "release_date_YEAR                    0\n",
       "sample_id                            0\n",
       "user_id                              0\n",
       "user_id_id                           0\n",
       "diff_last_ts_listen                  0\n",
       "diff_last_ts_listen_delayed_1        0\n",
       "diff_last_ts_listen_delayed_2        0\n",
       "diff_last_ts_listen_delayed_3        0\n",
       "diff_last_ts_listen_delayed_4        0\n",
       "diff_last_ts_listen_delayed_5        0\n",
       "diff_last_ts_listen_delayed_6        0\n",
       "diff_last_ts_listen_delayed_7        0\n",
       "diff_last_ts_listen_delayed_8        0\n",
       "diff_last_ts_listen_delayed_9        0\n",
       "                                    ..\n",
       "user_age_22                          0\n",
       "user_age_23                          0\n",
       "user_age_24                          0\n",
       "user_age_25                          0\n",
       "user_age_26                          0\n",
       "user_age_27                          0\n",
       "user_age_28                          0\n",
       "user_age_29                          0\n",
       "user_age_30                          0\n",
       "listen_type_1.0                      0\n",
       "user_age_group_1                     0\n",
       "user_age_group_2                     0\n",
       "media_decade_1                       0\n",
       "media_decade_2                       0\n",
       "media_decade_3                       0\n",
       "media_decade_4                       0\n",
       "media_decade_5                       0\n",
       "media_decade_6                       0\n",
       "media_decade_7                       0\n",
       "media_decade_8                       0\n",
       "user_gender_1                        0\n",
       "ts_listen_DAY_OF_WEEK_1              0\n",
       "ts_listen_DAY_OF_WEEK_2              0\n",
       "ts_listen_DAY_OF_WEEK_3              0\n",
       "ts_listen_DAY_OF_WEEK_4              0\n",
       "ts_listen_DAY_OF_WEEK_5              0\n",
       "ts_listen_DAY_OF_WEEK_6              0\n",
       "ts_listen_PERIOD_OF_DAY_1            0\n",
       "ts_listen_PERIOD_OF_DAY_2            0\n",
       "ts_listen_PERIOD_OF_DAY_3            0\n",
       "dtype: int64"
      ]
     },
     "execution_count": 56,
     "metadata": {},
     "output_type": "execute_result"
    }
   ],
   "source": [
    "import numpy as np\n",
    "np.sum(np.isinf(df_train))"
   ]
  },
  {
   "cell_type": "code",
   "execution_count": null,
   "metadata": {
    "collapsed": true,
    "deletable": true,
    "editable": true
   },
   "outputs": [],
   "source": []
  },
  {
   "cell_type": "code",
   "execution_count": 57,
   "metadata": {
    "collapsed": false,
    "deletable": true,
    "editable": true
   },
   "outputs": [
    {
     "name": "stdout",
     "output_type": "stream",
     "text": [
      "Unnamed: 0                                0\n",
      "Unnamed: 0.1                              0\n",
      "album_id                                  0\n",
      "artist_albuns                             0\n",
      "artist_fans                               0\n",
      "artist_id                                 0\n",
      "context_type                              0\n",
      "diff_ts_listen_AND_release_date_D         0\n",
      "diff_ts_listen_AND_release_date_M         0\n",
      "diff_ts_listen_AND_release_date_Y         0\n",
      "diff_user_song_age                        0\n",
      "genre_id                                  0\n",
      "is_train                                  0\n",
      "media_bpm                                 0\n",
      "media_duration                            0\n",
      "media_id                                  0\n",
      "media_rank                                0\n",
      "release_date_YEAR                         0\n",
      "sample_id                                 0\n",
      "user_id                                   0\n",
      "user_id_id                                0\n",
      "diff_last_ts_listen                       0\n",
      "diff_last_ts_listen_delayed_1             0\n",
      "diff_last_ts_listen_delayed_2             0\n",
      "diff_last_ts_listen_delayed_3             0\n",
      "diff_last_ts_listen_delayed_4             0\n",
      "diff_last_ts_listen_delayed_5             0\n",
      "diff_last_ts_listen_delayed_6             0\n",
      "diff_last_ts_listen_delayed_7             0\n",
      "diff_last_ts_listen_delayed_8             0\n",
      "diff_last_ts_listen_delayed_9             0\n",
      "diff_last_ts_listen_delayed_10            0\n",
      "is_listened_delayed_1                     0\n",
      "is_listened_delayed_2                     0\n",
      "is_listened_delayed_3                     0\n",
      "is_listened_delayed_4                     0\n",
      "is_listened_delayed_5                     0\n",
      "is_listened_delayed_6                     0\n",
      "is_listened_delayed_7                     0\n",
      "is_listened_delayed_8                     0\n",
      "is_listened_delayed_9                     0\n",
      "is_listened_delayed_10                    0\n",
      "listen_type_delayed_1                     0\n",
      "listen_type_delayed_2                     0\n",
      "listen_type_delayed_3                     0\n",
      "listen_type_delayed_4                     0\n",
      "listen_type_delayed_5                     0\n",
      "listen_type_delayed_6                     0\n",
      "listen_type_delayed_7                     0\n",
      "listen_type_delayed_8                     0\n",
      "listen_type_delayed_9                     0\n",
      "listen_type_delayed_10                    0\n",
      "flow_listened_delayed_1                   0\n",
      "flow_listened_delayed_2                   0\n",
      "flow_listened_delayed_3                   0\n",
      "flow_listened_delayed_4                   0\n",
      "flow_listened_delayed_5                   0\n",
      "flow_listened_delayed_6                   0\n",
      "flow_listened_delayed_7                   0\n",
      "flow_listened_delayed_8                   0\n",
      "flow_listened_delayed_9                   0\n",
      "flow_listened_delayed_10                  0\n",
      "flows_listened_last_10_delayed_1          0\n",
      "flows_listened_last_10_delayed_2          0\n",
      "flows_listened_last_10_delayed_3          0\n",
      "flows_listened_last_10_delayed_4          0\n",
      "flows_listened_last_10_delayed_5          0\n",
      "flows_listened_last_10_delayed_6          0\n",
      "flows_listened_last_10_delayed_7          0\n",
      "flows_listened_last_10_delayed_8          0\n",
      "flows_listened_last_10_delayed_9          0\n",
      "flows_listened_last_10_delayed_10         0\n",
      "flows_listened_mean_last_10_delayed_1     0\n",
      "flows_listened_mean_last_10_delayed_2     0\n",
      "flows_listened_mean_last_10_delayed_3     0\n",
      "flows_listened_mean_last_10_delayed_4     0\n",
      "flows_listened_mean_last_10_delayed_5     0\n",
      "flows_listened_mean_last_10_delayed_6     0\n",
      "flows_listened_mean_last_10_delayed_7     0\n",
      "flows_listened_mean_last_10_delayed_8     0\n",
      "flows_listened_mean_last_10_delayed_9     0\n",
      "flows_listened_mean_last_10_delayed_10    0\n",
      "nmidia_regular_listened                   0\n",
      "nmidia_with_flow_listened                 0\n",
      "nmidia_regular                            0\n",
      "nmidia_with_flow                          0\n",
      "nmidia_with_flow_listened_PROP            0\n",
      "nmidia_regular_listened_PROP              0\n",
      "nmidia_PROP_diff                          0\n",
      "platform_name_1                           0\n",
      "platform_name_2                           0\n",
      "platform_family_1                         0\n",
      "platform_family_2                         0\n",
      "user_age_19                               0\n",
      "user_age_20                               0\n",
      "user_age_21                               0\n",
      "user_age_22                               0\n",
      "user_age_23                               0\n",
      "user_age_24                               0\n",
      "user_age_25                               0\n",
      "user_age_26                               0\n",
      "user_age_27                               0\n",
      "user_age_28                               0\n",
      "user_age_29                               0\n",
      "user_age_30                               0\n",
      "user_age_group_1                          0\n",
      "user_age_group_2                          0\n",
      "media_decade_4                            0\n",
      "media_decade_5                            0\n",
      "media_decade_6                            0\n",
      "media_decade_7                            0\n",
      "media_decade_8                            0\n",
      "user_gender_1                             0\n",
      "ts_listen_DAY_OF_WEEK_1                   0\n",
      "ts_listen_DAY_OF_WEEK_2                   0\n",
      "ts_listen_DAY_OF_WEEK_3                   0\n",
      "ts_listen_DAY_OF_WEEK_4                   0\n",
      "ts_listen_DAY_OF_WEEK_5                   0\n",
      "ts_listen_DAY_OF_WEEK_6                   0\n",
      "ts_listen_PERIOD_OF_DAY_1                 0\n",
      "ts_listen_PERIOD_OF_DAY_2                 0\n",
      "ts_listen_PERIOD_OF_DAY_3                 0\n",
      "dtype: int64\n"
     ]
    }
   ],
   "source": [
    "print_full(pd.isnull(df_test).sum()[:])"
   ]
  },
  {
   "cell_type": "code",
   "execution_count": null,
   "metadata": {
    "collapsed": false,
    "deletable": true,
    "editable": true
   },
   "outputs": [],
   "source": []
  },
  {
   "cell_type": "code",
   "execution_count": 58,
   "metadata": {
    "collapsed": false,
    "deletable": true,
    "editable": true
   },
   "outputs": [
    {
     "data": {
      "text/plain": [
       "array([0, 0, 0, 0, 0, 0, 0, 0, 0, 0, 0, 0, 0, 0, 0, 0, 0, 0, 0, 0, 0, 0, 0,\n",
       "       0, 0, 0, 0, 0, 0, 0, 0, 0, 0, 0, 0, 0, 0, 0, 0, 0, 0, 0, 0, 0, 0, 0,\n",
       "       0, 0, 0, 0, 0, 0, 0, 0, 0, 0, 0, 0, 0, 0, 0, 0, 0, 0, 0, 0, 0, 0, 0,\n",
       "       0, 0, 0, 0, 0, 0, 0, 0, 0, 0, 0, 0, 0, 0, 0, 0, 0, 0, 0, 0, 0, 0, 0,\n",
       "       0, 0, 0, 0, 0, 0, 0, 0, 0, 0, 0, 0, 0, 0, 0, 0, 0, 0, 0, 0, 0, 0, 0,\n",
       "       0, 0, 0, 0, 0, 0, 0])"
      ]
     },
     "execution_count": 58,
     "metadata": {},
     "output_type": "execute_result"
    }
   ],
   "source": [
    "np.sum(np.isinf(df_test)).values"
   ]
  },
  {
   "cell_type": "code",
   "execution_count": 59,
   "metadata": {
    "collapsed": false,
    "deletable": true,
    "editable": true
   },
   "outputs": [
    {
     "data": {
      "text/plain": [
       "0"
      ]
     },
     "execution_count": 59,
     "metadata": {},
     "output_type": "execute_result"
    }
   ],
   "source": [
    "for column in features:\n",
    "    try:\n",
    "        df_test[column] = df_test[column].fillna(df_train[column].mean(skipna=True))\n",
    "    except:\n",
    "        df_test[column] = 0\n",
    "\n",
    "#df_test = df_test.fillna(df_train.mean(skipna=True), axis=1)\n",
    "df_test = df_test.applymap(lambda x : float(x))\n",
    "pd.isnull(df_test).sum().sum()"
   ]
  },
  {
   "cell_type": "code",
   "execution_count": 60,
   "metadata": {
    "collapsed": false,
    "deletable": true,
    "editable": true
   },
   "outputs": [
    {
     "data": {
      "text/plain": [
       "array([0, 0, 0, 0, 0, 0, 0, 0, 0, 0, 0, 0, 0, 0, 0, 0, 0, 0, 0, 0, 0, 0, 0,\n",
       "       0, 0, 0, 0, 0, 0, 0, 0, 0, 0, 0, 0, 0, 0, 0, 0, 0, 0, 0, 0, 0, 0, 0,\n",
       "       0, 0, 0, 0, 0, 0, 0, 0, 0, 0, 0, 0, 0, 0, 0, 0, 0, 0, 0, 0, 0, 0, 0,\n",
       "       0, 0, 0, 0, 0, 0, 0, 0, 0, 0, 0, 0, 0, 0, 0, 0, 0, 0, 0, 0, 0, 0, 0,\n",
       "       0, 0, 0, 0, 0, 0, 0, 0, 0, 0, 0, 0, 0, 0, 0, 0, 0, 0, 0, 0, 0, 0, 0,\n",
       "       0, 0, 0, 0, 0, 0, 0, 0, 0, 0, 0])"
      ]
     },
     "execution_count": 60,
     "metadata": {},
     "output_type": "execute_result"
    }
   ],
   "source": [
    "np.sum(np.isinf(df_test)).values"
   ]
  },
  {
   "cell_type": "code",
   "execution_count": 61,
   "metadata": {
    "collapsed": false,
    "deletable": true,
    "editable": true
   },
   "outputs": [],
   "source": [
    "# df_train.fillna(0, inplace=True)\n",
    "# df_test.fillna(0, inplace=True)"
   ]
  },
  {
   "cell_type": "code",
   "execution_count": 62,
   "metadata": {
    "collapsed": false,
    "deletable": true,
    "editable": true
   },
   "outputs": [],
   "source": [
    "# pd.isnull(df_train).sum()"
   ]
  },
  {
   "cell_type": "code",
   "execution_count": 63,
   "metadata": {
    "autoscroll": "json-false",
    "collapsed": false,
    "deletable": true,
    "editable": true,
    "ein.tags": [
     "worksheet-0"
    ],
    "slideshow": {
     "slide_type": "-"
    }
   },
   "outputs": [],
   "source": [
    "from sklearn.model_selection import train_test_split\n",
    "features = list(set(features))"
   ]
  },
  {
   "cell_type": "code",
   "execution_count": 64,
   "metadata": {
    "collapsed": true,
    "deletable": true,
    "editable": true
   },
   "outputs": [],
   "source": [
    "# features = ['media_duration',\n",
    "#  'user_id',\n",
    "#  'artist_id',\n",
    "#  'diff_ts_listen_AND_release_date_M',\n",
    "#  'diff_ts_listen_AND_release_date_Y',\n",
    "#  'release_date_YEAR',\n",
    "#  'diff_user_song_age',\n",
    "#  'artist_albuns',\n",
    "#  'artist_fans',\n",
    "#  'media_bpm',\n",
    "#  'media_rank',\n",
    "#  'nmidia_regular_listened',\n",
    "#  'nmidia_with_flow_listened',\n",
    "#  'nmidia_regular',\n",
    "#  'nmidia_with_flow',\n",
    "#  'nmidia_with_flow_listened_PROP',\n",
    "#  'nmidia_regular_listened_PROP',\n",
    "#  'nmidia_PROP_diff',\n",
    "#  'listen_type_1',\n",
    "#  'user_gender_1',\n",
    "#  'ts_listen_DAY_OF_WEEK_1',\n",
    "#  'ts_listen_DAY_OF_WEEK_2',\n",
    "#  'ts_listen_DAY_OF_WEEK_3',\n",
    "#  'ts_listen_DAY_OF_WEEK_4',\n",
    "#  'ts_listen_DAY_OF_WEEK_5',\n",
    "#  'ts_listen_DAY_OF_WEEK_6',\n",
    "#  'ts_listen_PERIOD_OF_DAY_1',\n",
    "#  'ts_listen_PERIOD_OF_DAY_2',\n",
    "#  'ts_listen_PERIOD_OF_DAY_3']"
   ]
  },
  {
   "cell_type": "code",
   "execution_count": 65,
   "metadata": {
    "autoscroll": "json-false",
    "collapsed": false,
    "deletable": true,
    "editable": true,
    "ein.tags": [
     "worksheet-0"
    ],
    "slideshow": {
     "slide_type": "-"
    }
   },
   "outputs": [
    {
     "data": {
      "text/plain": [
       "68"
      ]
     },
     "execution_count": 65,
     "metadata": {},
     "output_type": "execute_result"
    }
   ],
   "source": [
    "X_train, X_test, y_train, y_test = train_test_split(df_train[features], df_train[target], test_size = 0.2)\n",
    "import gc\n",
    "gc.collect()"
   ]
  },
  {
   "cell_type": "markdown",
   "metadata": {
    "deletable": true,
    "editable": true,
    "ein.tags": [
     "worksheet-0"
    ],
    "slideshow": {
     "slide_type": "-"
    }
   },
   "source": [
    "### Feature Selection"
   ]
  },
  {
   "cell_type": "code",
   "execution_count": 66,
   "metadata": {
    "autoscroll": "json-false",
    "collapsed": false,
    "deletable": true,
    "editable": true,
    "ein.tags": [
     "worksheet-0"
    ],
    "slideshow": {
     "slide_type": "-"
    }
   },
   "outputs": [
    {
     "name": "stdout",
     "output_type": "stream",
     "text": [
      "107 selected variables from 123, 86.99%\n",
      "['diff_user_song_age', 'flows_listened_mean_last_10_delayed_2', 'flows_listened_mean_last_10_delayed_3', 'flows_listened_mean_last_10_delayed_1', 'flows_listened_mean_last_10_delayed_6', 'media_duration', 'flows_listened_mean_last_10_delayed_4', 'flows_listened_mean_last_10_delayed_5', 'flows_listened_mean_last_10_delayed_8', 'flows_listened_mean_last_10_delayed_9', 'flows_listened_mean_last_10_delayed_10', 'nmidia_with_flow', 'diff_last_ts_listen', 'flows_listened_last_10_delayed_3', 'flows_listened_last_10_delayed_2', 'flows_listened_last_10_delayed_1', 'flows_listened_last_10_delayed_7', 'flows_listened_last_10_delayed_6', 'flows_listened_last_10_delayed_5', 'flows_listened_last_10_delayed_4', 'flows_listened_last_10_delayed_9', 'flows_listened_last_10_delayed_8', 'flows_listened_mean_last_10_delayed_7', 'album_id', 'diff_last_ts_listen_delayed_9', 'diff_last_ts_listen_delayed_8', 'flow_listened_delayed_10', 'diff_last_ts_listen_delayed_1', 'diff_last_ts_listen_delayed_3', 'diff_last_ts_listen_delayed_2', 'diff_last_ts_listen_delayed_5', 'diff_last_ts_listen_delayed_6', 'ts_listen_PERIOD_OF_DAY_2', 'listen_type_delayed_9', 'listen_type_delayed_8', 'listen_type_1.0', 'listen_type_delayed_3', 'listen_type_delayed_2', 'listen_type_delayed_1', 'ts_listen_PERIOD_OF_DAY_3', 'listen_type_delayed_7', 'listen_type_delayed_6', 'listen_type_delayed_5', 'listen_type_delayed_4', 'diff_last_ts_listen_delayed_10', 'listen_type_delayed_10', 'context_type', 'genre_id', 'platform_name_2', 'platform_name_1', 'ts_listen_DAY_OF_WEEK_6', 'diff_ts_listen_AND_release_date_Y', 'user_id', 'nmidia_regular_listened', 'user_age_19', 'diff_ts_listen_AND_release_date_M', 'nmidia_with_flow_listened', 'diff_ts_listen_AND_release_date_D', 'media_rank', 'media_id', 'nmidia_with_flow_listened_PROP', 'media_bpm', 'user_age_25', 'platform_family_1', 'platform_family_2', 'user_age_26', 'user_age_21', 'user_age_20', 'user_age_23', 'flows_listened_last_10_delayed_10', 'user_age_29', 'user_age_28', 'flow_listened_delayed_8', 'flow_listened_delayed_9', 'flow_listened_delayed_4', 'flow_listened_delayed_5', 'flow_listened_delayed_6', 'flow_listened_delayed_7', 'flow_listened_delayed_1', 'flow_listened_delayed_2', 'flow_listened_delayed_3', 'release_date_YEAR', 'user_age_30', 'nmidia_regular_listened_PROP', 'nmidia_regular', 'user_gender_1', 'ts_listen_DAY_OF_WEEK_1', 'ts_listen_DAY_OF_WEEK_3', 'ts_listen_DAY_OF_WEEK_2', 'ts_listen_DAY_OF_WEEK_4', 'is_listened_delayed_8', 'is_listened_delayed_9', 'is_listened_delayed_6', 'is_listened_delayed_7', 'is_listened_delayed_4', 'is_listened_delayed_5', 'is_listened_delayed_2', 'is_listened_delayed_3', 'is_listened_delayed_1', 'media_decade_2', 'media_decade_4', 'media_decade_7', 'media_decade_8', 'user_age_group_1', 'user_age_group_2', 'nmidia_PROP_diff', 'is_listened_delayed_10']\n"
     ]
    },
    {
     "name": "stderr",
     "output_type": "stream",
     "text": [
      "/home/lgmoneda/miniconda2/envs/ml/lib/python2.7/site-packages/sklearn/feature_selection/univariate_selection.py:113: UserWarning: Features [59 66] are constant.\n",
      "  UserWarning)\n",
      "/home/lgmoneda/miniconda2/envs/ml/lib/python2.7/site-packages/sklearn/feature_selection/univariate_selection.py:114: RuntimeWarning: invalid value encountered in divide\n",
      "  f = msb / msw\n"
     ]
    }
   ],
   "source": [
    "from sklearn import feature_selection\n",
    "all_features = features\n",
    "function_rule_selection = feature_selection.f_classif\n",
    "alpha_cutoff = 0.01\n",
    "\n",
    "selection_rule = feature_selection.SelectFdr(function_rule_selection, alpha_cutoff)\n",
    "selection_rule.fit(X_train, y_train);\n",
    "\n",
    "all_pvalues = list(filter(lambda x: pd.notnull(x[0]), zip(selection_rule.pvalues_, all_features)))\n",
    "#print(all_pvalues)\n",
    "filtered_pvalues = list(filter(lambda x: x[0]<=alpha_cutoff, all_pvalues))\n",
    "#print(filtered_pvalues)\n",
    "all_select_features = list(map(lambda x: x[1], filtered_pvalues))\n",
    "\n",
    "print(\"{0} selected variables from {1}, {2:.2f}%\".format(len(all_select_features), \n",
    "                                                        len(all_features), \n",
    "                                                        len(filtered_pvalues)*100/float(len(all_features))))\n",
    "print(all_select_features)\n",
    "#print(filtered_pvalues)"
   ]
  },
  {
   "cell_type": "code",
   "execution_count": 67,
   "metadata": {
    "autoscroll": "json-false",
    "collapsed": false,
    "deletable": true,
    "editable": true,
    "ein.tags": [
     "worksheet-0"
    ],
    "slideshow": {
     "slide_type": "-"
    }
   },
   "outputs": [],
   "source": [
    "features = all_select_features\n",
    "X_train, X_test, y_train, y_test = train_test_split(df_train[features], df_train[target], test_size = 0.2)"
   ]
  },
  {
   "cell_type": "code",
   "execution_count": 68,
   "metadata": {
    "autoscroll": "json-false",
    "collapsed": false,
    "deletable": true,
    "editable": true,
    "ein.tags": [
     "worksheet-0"
    ],
    "slideshow": {
     "slide_type": "-"
    }
   },
   "outputs": [],
   "source": [
    "from sklearn import metrics\n",
    "from sklearn.metrics import confusion_matrix\n",
    "from sklearn.metrics import accuracy_score\n",
    "import matplotlib.pyplot as plt\n",
    "\n",
    "def complete_report(y_test, y_pred):\n",
    "    print(\"*********************************\")\n",
    "    print(\"Accuracy: {0:.2f}\".format(accuracy_score(y_test, y_pred)))\n",
    "    print(\"Precision: {0}\".format(metrics.precision_score(y_test, y_pred)))\n",
    "    print(\"Recall: {0}\".format(metrics.recall_score(y_test, y_pred)))\n",
    "    print(\"F1-Score: {0}\".format(metrics.f1_score(y_test, y_pred)))\n",
    "    conf_m = confusion_matrix(y_test, y_pred)\n",
    "    print(conf_m)\n",
    "    try: \n",
    "        print(\"Roc Area: {0}\".format(metrics.roc_auc_score(y_test, y_pred))) \n",
    "        roc_curve_label(y_test, y_pred)\n",
    "    except:\n",
    "        print(\"--\")\n",
    "    print(\"*********************************\")\n",
    "    \n",
    "    return metrics.roc_auc_score(y_test, y_pred)\n",
    "        \n",
    "def roc_curve_label(y_test, y_pred):\n",
    "    plt.figsize=(10,6)\n",
    "    fpr, tpr, _ = metrics.roc_curve(y_test, y_pred)\n",
    "    plt.figure(1)\n",
    "    plt.plot([0, 1], [0, 1], 'k--')\n",
    "    plt.plot(fpr, tpr, label='RT + LR')\n",
    "    plt.xlabel('False positive rate')\n",
    "    plt.ylabel('True positive rate')\n",
    "    plt.title('ROC curve')\n",
    "    plt.legend(loc='best')\n",
    "    plt.show()"
   ]
  },
  {
   "cell_type": "code",
   "execution_count": 69,
   "metadata": {
    "autoscroll": "json-false",
    "collapsed": false,
    "deletable": true,
    "editable": true,
    "ein.tags": [
     "worksheet-0"
    ],
    "slideshow": {
     "slide_type": "-"
    }
   },
   "outputs": [],
   "source": [
    "# %timeit\n",
    "# from sklearn.tree import DecisionTreeClassifier\n",
    "# model = DecisionTreeClassifier()\n",
    "# model.fit(X_train, y_train)"
   ]
  },
  {
   "cell_type": "code",
   "execution_count": 70,
   "metadata": {
    "autoscroll": "json-false",
    "collapsed": false,
    "deletable": true,
    "editable": true,
    "ein.tags": [
     "worksheet-0"
    ],
    "slideshow": {
     "slide_type": "-"
    }
   },
   "outputs": [
    {
     "name": "stdout",
     "output_type": "stream",
     "text": [
      "107\n",
      "107\n"
     ]
    }
   ],
   "source": [
    "# print(model.score(X_test, y_test))\n",
    "# complete_report(y_test, model.predict(X_test))\n",
    "print(len(X_train.columns))\n",
    "print(len(set(X_train.columns)))"
   ]
  },
  {
   "cell_type": "code",
   "execution_count": 71,
   "metadata": {
    "collapsed": false,
    "deletable": true,
    "editable": true
   },
   "outputs": [
    {
     "name": "stdout",
     "output_type": "stream",
     "text": [
      "107\n",
      "107\n"
     ]
    }
   ],
   "source": [
    "print(len(features))\n",
    "print(len(set(features)))"
   ]
  },
  {
   "cell_type": "markdown",
   "metadata": {
    "deletable": true,
    "editable": true,
    "ein.tags": [
     "worksheet-0"
    ],
    "slideshow": {
     "slide_type": "-"
    }
   },
   "source": [
    "acc: 0.70345496362865445  \n",
    "roc: 0.6912675674785278"
   ]
  },
  {
   "cell_type": "code",
   "execution_count": 72,
   "metadata": {
    "autoscroll": "json-false",
    "collapsed": false,
    "deletable": true,
    "editable": true,
    "ein.tags": [
     "worksheet-0"
    ],
    "slideshow": {
     "slide_type": "-"
    }
   },
   "outputs": [],
   "source": [
    "from sklearn.metrics import confusion_matrix"
   ]
  },
  {
   "cell_type": "code",
   "execution_count": 74,
   "metadata": {
    "collapsed": false,
    "deletable": true,
    "editable": true
   },
   "outputs": [
    {
     "name": "stdout",
     "output_type": "stream",
     "text": [
      "*********************************\n",
      "Accuracy: 0.86\n",
      "Precision: 0.91526283375\n",
      "Recall: 0.897382161759\n",
      "F1-Score: 0.906234306622\n",
      "[[ 7183  2339]\n",
      " [ 2889 25264]]\n",
      "Roc Area: 0.825870244921\n"
     ]
    },
    {
     "data": {
      "image/png": "[encoded data removed]",
      "text/plain": [
       "<matplotlib.figure.Figure at 0x7f57069e5650>"
      ]
     },
     "metadata": {},
     "output_type": "display_data"
    },
    {
     "name": "stdout",
     "output_type": "stream",
     "text": [
      "*********************************\n"
     ]
    },
    {
     "data": {
      "text/plain": [
       "0.82587024492064776"
      ]
     },
     "execution_count": 74,
     "metadata": {},
     "output_type": "execute_result"
    }
   ],
   "source": [
    "from sklearn.ensemble import RandomForestClassifier\n",
    "\n",
    "model = RandomForestClassifier(n_jobs=-1)\n",
    "model.fit(X_train, y_train)\n",
    "model.score(X_test, y_test)\n",
    "complete_report(y_test, model.predict(X_test))"
   ]
  },
  {
   "cell_type": "code",
   "execution_count": 75,
   "metadata": {
    "collapsed": false,
    "deletable": true,
    "editable": true
   },
   "outputs": [
    {
     "data": {
      "text/plain": [
       "107"
      ]
     },
     "execution_count": 75,
     "metadata": {},
     "output_type": "execute_result"
    }
   ],
   "source": [
    "len(X_train.columns)"
   ]
  },
  {
   "cell_type": "code",
   "execution_count": 77,
   "metadata": {
    "collapsed": true
   },
   "outputs": [],
   "source": [
    "X_train, X_test, y_train, y_test = train_test_split(df_train[features], df_train[target], test_size = 0.3)\n",
    "X_val, X_test, y_val, y_test = train_test_split(X_test, y_test, test_size = 0.5)"
   ]
  },
  {
   "cell_type": "code",
   "execution_count": 83,
   "metadata": {
    "autoscroll": "json-false",
    "collapsed": false,
    "deletable": true,
    "editable": true,
    "ein.tags": [
     "worksheet-0"
    ],
    "slideshow": {
     "slide_type": "-"
    }
   },
   "outputs": [
    {
     "name": "stdout",
     "output_type": "stream",
     "text": [
      "[0]\ttrain-auc:0.864605\ttest-auc:0.857573\tvalidation-auc:0.858411\n",
      "Multiple eval metrics have been passed: 'validation-auc' will be used for early stopping.\n",
      "\n",
      "Will train until validation-auc hasn't improved in 5 rounds.\n",
      "[1]\ttrain-auc:0.90327\ttest-auc:0.895986\tvalidation-auc:0.896608\n",
      "[2]\ttrain-auc:0.916568\ttest-auc:0.910364\tvalidation-auc:0.908504\n",
      "[3]\ttrain-auc:0.92217\ttest-auc:0.915079\tvalidation-auc:0.913548\n",
      "[4]\ttrain-auc:0.926543\ttest-auc:0.919005\tvalidation-auc:0.917168\n",
      "[5]\ttrain-auc:0.930337\ttest-auc:0.92184\tvalidation-auc:0.92152\n",
      "[6]\ttrain-auc:0.934056\ttest-auc:0.924865\tvalidation-auc:0.924454\n",
      "[7]\ttrain-auc:0.936758\ttest-auc:0.927037\tvalidation-auc:0.926761\n",
      "[8]\ttrain-auc:0.938843\ttest-auc:0.928288\tvalidation-auc:0.928578\n",
      "[9]\ttrain-auc:0.942428\ttest-auc:0.930717\tvalidation-auc:0.930806\n",
      "[10]\ttrain-auc:0.943816\ttest-auc:0.93127\tvalidation-auc:0.931422\n",
      "[11]\ttrain-auc:0.945413\ttest-auc:0.932014\tvalidation-auc:0.931951\n",
      "[12]\ttrain-auc:0.946862\ttest-auc:0.932278\tvalidation-auc:0.93209\n",
      "[13]\ttrain-auc:0.94792\ttest-auc:0.932637\tvalidation-auc:0.932409\n",
      "[14]\ttrain-auc:0.948913\ttest-auc:0.933167\tvalidation-auc:0.933126\n",
      "[15]\ttrain-auc:0.950152\ttest-auc:0.933656\tvalidation-auc:0.933504\n",
      "[16]\ttrain-auc:0.951089\ttest-auc:0.934072\tvalidation-auc:0.933813\n",
      "[17]\ttrain-auc:0.951994\ttest-auc:0.934277\tvalidation-auc:0.934195\n",
      "[18]\ttrain-auc:0.952869\ttest-auc:0.934396\tvalidation-auc:0.934265\n",
      "[19]\ttrain-auc:0.95378\ttest-auc:0.934631\tvalidation-auc:0.934372\n",
      "[20]\ttrain-auc:0.95456\ttest-auc:0.934863\tvalidation-auc:0.934296\n",
      "[21]\ttrain-auc:0.9553\ttest-auc:0.935025\tvalidation-auc:0.934418\n",
      "[22]\ttrain-auc:0.956119\ttest-auc:0.935147\tvalidation-auc:0.934466\n",
      "[23]\ttrain-auc:0.95704\ttest-auc:0.935219\tvalidation-auc:0.934545\n",
      "[24]\ttrain-auc:0.957851\ttest-auc:0.935311\tvalidation-auc:0.934541\n",
      "[25]\ttrain-auc:0.958587\ttest-auc:0.935233\tvalidation-auc:0.934534\n",
      "[26]\ttrain-auc:0.959318\ttest-auc:0.935459\tvalidation-auc:0.934676\n",
      "[27]\ttrain-auc:0.960125\ttest-auc:0.935459\tvalidation-auc:0.934654\n",
      "[28]\ttrain-auc:0.960893\ttest-auc:0.935419\tvalidation-auc:0.93474\n",
      "[29]\ttrain-auc:0.96167\ttest-auc:0.935417\tvalidation-auc:0.934736\n",
      "0.968081\n",
      "Tempo de execução: 0m18s\n"
     ]
    }
   ],
   "source": [
    "import xgboost as xgb\n",
    "from time import time\n",
    "import numpy as np\n",
    "\n",
    "start = time()\n",
    "xg_train = xgb.DMatrix(X_train, label=y_train.values, missing=np.NaN)\n",
    "xg_test = xgb.DMatrix(X_test, label=y_test.values, missing=np.NaN)\n",
    "xg_val = xgb.DMatrix(X_val, label=y_val.values, missing=np.NaN)\n",
    "param = {'max_depth':50, \n",
    "         'eta':0.2, \n",
    "         'silent':0, \n",
    "         'objective':'binary:logistic', \n",
    "         \"booster\": \"gbtree\", \n",
    "         \"max_delta_step\":1,\n",
    "         \"alpha\": 0.2,\n",
    "         \"lambda\": 0.2,\n",
    "         #\"scale_pos_weight\": class_ratio,\n",
    "         \"eval_metric\": \"auc\",\n",
    "          \"verbose\": 1}\n",
    "\n",
    "### Objectives\n",
    "## 'binary:logistic'\n",
    "## 'multi:softprob'\n",
    "#param['num_class'] = 2\n",
    "param[\"min_child_weight\"] = 30\n",
    "param[\"colsample_bytree\"] = 0.5\n",
    "num_round = 30\n",
    "\n",
    "watchlist = [(xg_train,'train'), (xg_test,'test'), (xg_val,'validation')]\n",
    "#watchlist = [(xg_val,'validation')]\n",
    "\n",
    "bst = xgb.train(param, \n",
    "                xg_train, \n",
    "                num_round,\n",
    "                watchlist,\n",
    "                early_stopping_rounds=5)\n",
    "\n",
    "yprob = bst.predict( xg_test ) #.reshape( y_test.shape[0], 2)\n",
    "print(yprob[0])\n",
    "\n",
    "print('Tempo de execução: {0}m{1}s'.format(int((time()-start)/60),\n",
    "             int((time()-start)%60 )))"
   ]
  },
  {
   "cell_type": "code",
   "execution_count": 84,
   "metadata": {
    "collapsed": false,
    "deletable": true,
    "editable": true
   },
   "outputs": [
    {
     "name": "stdout",
     "output_type": "stream",
     "text": [
      "('media_id', 633)\n",
      "('media_rank', 526)\n",
      "('diff_last_ts_listen', 458)\n",
      "('diff_last_ts_listen_delayed_6', 440)\n",
      "('diff_ts_listen_AND_release_date_Y', 433)\n",
      "('diff_last_ts_listen_delayed_1', 364)\n",
      "('diff_user_song_age', 354)\n",
      "('diff_last_ts_listen_delayed_3', 351)\n",
      "('album_id', 344)\n",
      "('diff_last_ts_listen_delayed_2', 328)\n",
      "('diff_last_ts_listen_delayed_5', 321)\n",
      "('media_bpm', 318)\n",
      "('nmidia_with_flow_listened_PROP', 282)\n",
      "('nmidia_regular_listened_PROP', 273)\n",
      "('nmidia_with_flow', 272)\n",
      "('diff_last_ts_listen_delayed_9', 254)\n",
      "('diff_last_ts_listen_delayed_8', 246)\n",
      "('diff_last_ts_listen_delayed_10', 242)\n",
      "('diff_ts_listen_AND_release_date_M', 237)\n",
      "('user_id', 212)\n",
      "('nmidia_PROP_diff', 204)\n",
      "('nmidia_regular', 197)\n",
      "('nmidia_regular_listened', 175)\n",
      "('nmidia_with_flow_listened', 153)\n",
      "('context_type', 110)\n",
      "('genre_id', 108)\n",
      "('diff_ts_listen_AND_release_date_D', 87)\n",
      "('media_duration', 63)\n",
      "('flows_listened_mean_last_10_delayed_1', 60)\n",
      "('flows_listened_last_10_delayed_1', 55)\n",
      "('is_listened_delayed_5', 52)\n",
      "('listen_type_1.0', 51)\n",
      "('is_listened_delayed_4', 45)\n",
      "('is_listened_delayed_8', 43)\n",
      "('is_listened_delayed_3', 38)\n",
      "('is_listened_delayed_6', 35)\n",
      "('flows_listened_mean_last_10_delayed_3', 34)\n",
      "('flows_listened_mean_last_10_delayed_5', 33)\n",
      "('user_gender_1', 32)\n",
      "('flows_listened_mean_last_10_delayed_10', 31)\n",
      "('ts_listen_PERIOD_OF_DAY_2', 30)\n",
      "('platform_name_2', 30)\n",
      "('is_listened_delayed_2', 29)\n",
      "('flows_listened_mean_last_10_delayed_4', 28)\n",
      "('is_listened_delayed_9', 28)\n",
      "('is_listened_delayed_7', 27)\n",
      "('is_listened_delayed_10', 27)\n",
      "('flows_listened_mean_last_10_delayed_9', 26)\n",
      "('flows_listened_last_10_delayed_10', 25)\n",
      "('listen_type_delayed_1', 24)\n",
      "('is_listened_delayed_1', 24)\n",
      "('user_age_group_2', 24)\n",
      "('flows_listened_last_10_delayed_7', 23)\n",
      "('flows_listened_mean_last_10_delayed_6', 21)\n",
      "('flows_listened_last_10_delayed_2', 21)\n",
      "('user_age_group_1', 21)\n",
      "('flows_listened_mean_last_10_delayed_8', 20)\n",
      "('flows_listened_mean_last_10_delayed_2', 17)\n",
      "('flows_listened_mean_last_10_delayed_7', 17)\n",
      "('flows_listened_last_10_delayed_8', 17)\n",
      "('platform_name_1', 16)\n",
      "('listen_type_delayed_3', 15)\n",
      "('flows_listened_last_10_delayed_5', 14)\n",
      "('listen_type_delayed_2', 14)\n",
      "('platform_family_1', 14)\n",
      "('platform_family_2', 14)\n",
      "('ts_listen_DAY_OF_WEEK_4', 14)\n",
      "('flows_listened_last_10_delayed_3', 13)\n",
      "('ts_listen_PERIOD_OF_DAY_3', 12)\n",
      "('listen_type_delayed_6', 12)\n",
      "('flows_listened_last_10_delayed_4', 10)\n",
      "('user_age_20', 10)\n",
      "('flow_listened_delayed_1', 10)\n",
      "('flow_listened_delayed_2', 10)\n",
      "('ts_listen_DAY_OF_WEEK_3', 10)\n",
      "('flows_listened_last_10_delayed_9', 8)\n",
      "('listen_type_delayed_9', 8)\n",
      "('listen_type_delayed_5', 8)\n",
      "('flows_listened_last_10_delayed_6', 7)\n",
      "('listen_type_delayed_10', 7)\n",
      "('listen_type_delayed_7', 7)\n",
      "('ts_listen_DAY_OF_WEEK_6', 7)\n",
      "('user_age_21', 7)\n",
      "('flow_listened_delayed_6', 7)\n",
      "('media_decade_7', 7)\n",
      "('flow_listened_delayed_10', 6)\n",
      "('listen_type_delayed_8', 6)\n",
      "('listen_type_delayed_4', 6)\n",
      "('flow_listened_delayed_5', 6)\n",
      "('ts_listen_DAY_OF_WEEK_1', 6)\n",
      "('user_age_28', 5)\n",
      "('flow_listened_delayed_9', 5)\n",
      "('flow_listened_delayed_4', 5)\n",
      "('flow_listened_delayed_8', 4)\n",
      "('flow_listened_delayed_3', 4)\n",
      "('release_date_YEAR', 4)\n",
      "('user_age_30', 4)\n",
      "('user_age_25', 3)\n",
      "('user_age_26', 3)\n",
      "('user_age_29', 3)\n",
      "('flow_listened_delayed_7', 2)\n",
      "('ts_listen_DAY_OF_WEEK_2', 2)\n",
      "('media_decade_8', 2)\n",
      "('user_age_19', 1)\n",
      "('user_age_23', 1)\n"
     ]
    }
   ],
   "source": [
    "y_pred = [1 if y > 0.5 else 0 for y in yprob]\n",
    "#print(metrics.confusion_matrix(y_test, y_pred))\n",
    "yprob = bst.predict( xg_test ) \n",
    "#complete_report(y_test, yprob)\n",
    "len(yprob)\n",
    "\n",
    "### Verificando a importância de cada feature para a previsão do modelo\n",
    "import operator\n",
    "importance = bst.get_fscore()\n",
    "importance = sorted(importance.items(), key=operator.itemgetter(1), reverse=True)\n",
    "for item in importance:\n",
    "    print(item)"
   ]
  },
  {
   "cell_type": "code",
   "execution_count": 85,
   "metadata": {
    "collapsed": false
   },
   "outputs": [
    {
     "name": "stdout",
     "output_type": "stream",
     "text": [
      "*********************************\n",
      "Accuracy: 0.88\n",
      "Precision: 0.916827126286\n",
      "Recall: 0.920501697473\n",
      "F1-Score: 0.918660737394\n",
      "[[ 5277  1771]\n",
      " [ 1686 19522]]\n",
      "Roc Area: 0.834612369735\n"
     ]
    },
    {
     "data": {
      "image/png": "[encoded data removed]",
      "text/plain": [
       "<matplotlib.figure.Figure at 0x7f5705033d50>"
      ]
     },
     "metadata": {},
     "output_type": "display_data"
    },
    {
     "name": "stdout",
     "output_type": "stream",
     "text": [
      "*********************************\n"
     ]
    },
    {
     "data": {
      "text/plain": [
       "0.83461236973519082"
      ]
     },
     "execution_count": 85,
     "metadata": {},
     "output_type": "execute_result"
    }
   ],
   "source": [
    "complete_report(y_test, y_pred)"
   ]
  },
  {
   "cell_type": "code",
   "execution_count": 86,
   "metadata": {
    "autoscroll": "json-false",
    "collapsed": false,
    "deletable": true,
    "editable": true,
    "ein.tags": [
     "worksheet-0"
    ],
    "slideshow": {
     "slide_type": "-"
    }
   },
   "outputs": [
    {
     "data": {
      "text/plain": [
       "0    0.976637\n",
       "1    0.925276\n",
       "2    0.972263\n",
       "3    0.364014\n",
       "4    0.895846\n",
       "Name: prediction, dtype: float32"
      ]
     },
     "execution_count": 86,
     "metadata": {},
     "output_type": "execute_result"
    }
   ],
   "source": [
    "df_test_group_1 = df_test[df_test[\"user_id_id\"].isin(user_for_specific_model)].copy(deep=True)\n",
    "xg_sub = xgb.DMatrix(df_test_group_1[features], missing=np.NaN)\n",
    "p = bst.predict(xg_sub)\n",
    "\n",
    "#p = model.predict_proba(df_test_group_1[features])\n",
    "#p = p[:, 1]\n",
    "df_test_group_1[\"prediction\"] = p\n",
    "df_test_group_1[\"prediction\"].head()"
   ]
  },
  {
   "cell_type": "code",
   "execution_count": 87,
   "metadata": {
    "collapsed": false,
    "deletable": true,
    "editable": true
   },
   "outputs": [
    {
     "name": "stdout",
     "output_type": "stream",
     "text": [
      "135\n",
      "135\n"
     ]
    }
   ],
   "source": [
    "print(len(df_test))\n",
    "print(len(df_test_group_1))\n",
    "df_test_group_1[[\"prediction\", \"user_id_id\"]]\n",
    "df_test_group_1[[\"prediction\", \"user_id_id\"]].to_csv(\"group1.csv\")"
   ]
  },
  {
   "cell_type": "code",
   "execution_count": 88,
   "metadata": {
    "collapsed": false,
    "deletable": true,
    "editable": true
   },
   "outputs": [],
   "source": [
    "import gc\n",
    "gc.collect()\n",
    "del df_test_group_1"
   ]
  },
  {
   "cell_type": "code",
   "execution_count": null,
   "metadata": {
    "collapsed": true,
    "deletable": true,
    "editable": true
   },
   "outputs": [],
   "source": []
  },
  {
   "cell_type": "code",
   "execution_count": 89,
   "metadata": {
    "collapsed": false,
    "deletable": true,
    "editable": true
   },
   "outputs": [
    {
     "ename": "KeyboardInterrupt",
     "evalue": "",
     "output_type": "error",
     "traceback": [
      "\u001b[0;31m---------------------------------------------------------------------------\u001b[0m",
      "\u001b[0;31mKeyboardInterrupt\u001b[0m                         Traceback (most recent call last)",
      "\u001b[0;32m<ipython-input-89-fd0b0b1d2441>\u001b[0m in \u001b[0;36m<module>\u001b[0;34m()\u001b[0m\n\u001b[1;32m      4\u001b[0m \u001b[0;32mfrom\u001b[0m \u001b[0mgreenpyce\u001b[0m\u001b[0;34m.\u001b[0m\u001b[0mfeature_engineering\u001b[0m \u001b[0;32mimport\u001b[0m \u001b[0mRankCategorical\u001b[0m\u001b[0;34m\u001b[0m\u001b[0m\n\u001b[1;32m      5\u001b[0m \u001b[0;32mfrom\u001b[0m \u001b[0mgreenpyce\u001b[0m\u001b[0;34m.\u001b[0m\u001b[0mfeature_engineering\u001b[0m \u001b[0;32mimport\u001b[0m \u001b[0mLabelCount\u001b[0m\u001b[0;34m\u001b[0m\u001b[0m\n\u001b[0;32m----> 6\u001b[0;31m \u001b[0mdf_train\u001b[0m \u001b[0;34m=\u001b[0m \u001b[0mpd\u001b[0m\u001b[0;34m.\u001b[0m\u001b[0mread_csv\u001b[0m\u001b[0;34m(\u001b[0m\u001b[0;34m\"../data/train_data4.csv\"\u001b[0m\u001b[0;34m)\u001b[0m\u001b[0;34m\u001b[0m\u001b[0m\n\u001b[0m\u001b[1;32m      7\u001b[0m \u001b[0mdf_test\u001b[0m \u001b[0;34m=\u001b[0m \u001b[0mpd\u001b[0m\u001b[0;34m.\u001b[0m\u001b[0mread_csv\u001b[0m\u001b[0;34m(\u001b[0m\u001b[0;34m\"../data/test_data4.csv\"\u001b[0m\u001b[0;34m)\u001b[0m\u001b[0;34m\u001b[0m\u001b[0m\n\u001b[1;32m      8\u001b[0m \u001b[0;34m\u001b[0m\u001b[0m\n",
      "\u001b[0;32m/home/lgmoneda/miniconda2/envs/ml/lib/python2.7/site-packages/pandas/io/parsers.pyc\u001b[0m in \u001b[0;36mparser_f\u001b[0;34m(filepath_or_buffer, sep, delimiter, header, names, index_col, usecols, squeeze, prefix, mangle_dupe_cols, dtype, engine, converters, true_values, false_values, skipinitialspace, skiprows, nrows, na_values, keep_default_na, na_filter, verbose, skip_blank_lines, parse_dates, infer_datetime_format, keep_date_col, date_parser, dayfirst, iterator, chunksize, compression, thousands, decimal, lineterminator, quotechar, quoting, escapechar, comment, encoding, dialect, tupleize_cols, error_bad_lines, warn_bad_lines, skipfooter, skip_footer, doublequote, delim_whitespace, as_recarray, compact_ints, use_unsigned, low_memory, buffer_lines, memory_map, float_precision)\u001b[0m\n\u001b[1;32m    644\u001b[0m                     skip_blank_lines=skip_blank_lines)\n\u001b[1;32m    645\u001b[0m \u001b[0;34m\u001b[0m\u001b[0m\n\u001b[0;32m--> 646\u001b[0;31m         \u001b[0;32mreturn\u001b[0m \u001b[0m_read\u001b[0m\u001b[0;34m(\u001b[0m\u001b[0mfilepath_or_buffer\u001b[0m\u001b[0;34m,\u001b[0m \u001b[0mkwds\u001b[0m\u001b[0;34m)\u001b[0m\u001b[0;34m\u001b[0m\u001b[0m\n\u001b[0m\u001b[1;32m    647\u001b[0m \u001b[0;34m\u001b[0m\u001b[0m\n\u001b[1;32m    648\u001b[0m     \u001b[0mparser_f\u001b[0m\u001b[0;34m.\u001b[0m\u001b[0m__name__\u001b[0m \u001b[0;34m=\u001b[0m \u001b[0mname\u001b[0m\u001b[0;34m\u001b[0m\u001b[0m\n",
      "\u001b[0;32m/home/lgmoneda/miniconda2/envs/ml/lib/python2.7/site-packages/pandas/io/parsers.pyc\u001b[0m in \u001b[0;36m_read\u001b[0;34m(filepath_or_buffer, kwds)\u001b[0m\n\u001b[1;32m    399\u001b[0m         \u001b[0;32mreturn\u001b[0m \u001b[0mparser\u001b[0m\u001b[0;34m\u001b[0m\u001b[0m\n\u001b[1;32m    400\u001b[0m \u001b[0;34m\u001b[0m\u001b[0m\n\u001b[0;32m--> 401\u001b[0;31m     \u001b[0mdata\u001b[0m \u001b[0;34m=\u001b[0m \u001b[0mparser\u001b[0m\u001b[0;34m.\u001b[0m\u001b[0mread\u001b[0m\u001b[0;34m(\u001b[0m\u001b[0;34m)\u001b[0m\u001b[0;34m\u001b[0m\u001b[0m\n\u001b[0m\u001b[1;32m    402\u001b[0m     \u001b[0mparser\u001b[0m\u001b[0;34m.\u001b[0m\u001b[0mclose\u001b[0m\u001b[0;34m(\u001b[0m\u001b[0;34m)\u001b[0m\u001b[0;34m\u001b[0m\u001b[0m\n\u001b[1;32m    403\u001b[0m     \u001b[0;32mreturn\u001b[0m \u001b[0mdata\u001b[0m\u001b[0;34m\u001b[0m\u001b[0m\n",
      "\u001b[0;32m/home/lgmoneda/miniconda2/envs/ml/lib/python2.7/site-packages/pandas/io/parsers.pyc\u001b[0m in \u001b[0;36mread\u001b[0;34m(self, nrows)\u001b[0m\n\u001b[1;32m    937\u001b[0m                 \u001b[0;32mraise\u001b[0m \u001b[0mValueError\u001b[0m\u001b[0;34m(\u001b[0m\u001b[0;34m'skipfooter not supported for iteration'\u001b[0m\u001b[0;34m)\u001b[0m\u001b[0;34m\u001b[0m\u001b[0m\n\u001b[1;32m    938\u001b[0m \u001b[0;34m\u001b[0m\u001b[0m\n\u001b[0;32m--> 939\u001b[0;31m         \u001b[0mret\u001b[0m \u001b[0;34m=\u001b[0m \u001b[0mself\u001b[0m\u001b[0;34m.\u001b[0m\u001b[0m_engine\u001b[0m\u001b[0;34m.\u001b[0m\u001b[0mread\u001b[0m\u001b[0;34m(\u001b[0m\u001b[0mnrows\u001b[0m\u001b[0;34m)\u001b[0m\u001b[0;34m\u001b[0m\u001b[0m\n\u001b[0m\u001b[1;32m    940\u001b[0m \u001b[0;34m\u001b[0m\u001b[0m\n\u001b[1;32m    941\u001b[0m         \u001b[0;32mif\u001b[0m \u001b[0mself\u001b[0m\u001b[0;34m.\u001b[0m\u001b[0moptions\u001b[0m\u001b[0;34m.\u001b[0m\u001b[0mget\u001b[0m\u001b[0;34m(\u001b[0m\u001b[0;34m'as_recarray'\u001b[0m\u001b[0;34m)\u001b[0m\u001b[0;34m:\u001b[0m\u001b[0;34m\u001b[0m\u001b[0m\n",
      "\u001b[0;32m/home/lgmoneda/miniconda2/envs/ml/lib/python2.7/site-packages/pandas/io/parsers.pyc\u001b[0m in \u001b[0;36mread\u001b[0;34m(self, nrows)\u001b[0m\n\u001b[1;32m   1506\u001b[0m     \u001b[0;32mdef\u001b[0m \u001b[0mread\u001b[0m\u001b[0;34m(\u001b[0m\u001b[0mself\u001b[0m\u001b[0;34m,\u001b[0m \u001b[0mnrows\u001b[0m\u001b[0;34m=\u001b[0m\u001b[0mNone\u001b[0m\u001b[0;34m)\u001b[0m\u001b[0;34m:\u001b[0m\u001b[0;34m\u001b[0m\u001b[0m\n\u001b[1;32m   1507\u001b[0m         \u001b[0;32mtry\u001b[0m\u001b[0;34m:\u001b[0m\u001b[0;34m\u001b[0m\u001b[0m\n\u001b[0;32m-> 1508\u001b[0;31m             \u001b[0mdata\u001b[0m \u001b[0;34m=\u001b[0m \u001b[0mself\u001b[0m\u001b[0;34m.\u001b[0m\u001b[0m_reader\u001b[0m\u001b[0;34m.\u001b[0m\u001b[0mread\u001b[0m\u001b[0;34m(\u001b[0m\u001b[0mnrows\u001b[0m\u001b[0;34m)\u001b[0m\u001b[0;34m\u001b[0m\u001b[0m\n\u001b[0m\u001b[1;32m   1509\u001b[0m         \u001b[0;32mexcept\u001b[0m \u001b[0mStopIteration\u001b[0m\u001b[0;34m:\u001b[0m\u001b[0;34m\u001b[0m\u001b[0m\n\u001b[1;32m   1510\u001b[0m             \u001b[0;32mif\u001b[0m \u001b[0mself\u001b[0m\u001b[0;34m.\u001b[0m\u001b[0m_first_chunk\u001b[0m\u001b[0;34m:\u001b[0m\u001b[0;34m\u001b[0m\u001b[0m\n",
      "\u001b[0;32mpandas/parser.pyx\u001b[0m in \u001b[0;36mpandas.parser.TextReader.read (pandas/parser.c:10415)\u001b[0;34m()\u001b[0m\n",
      "\u001b[0;32mpandas/parser.pyx\u001b[0m in \u001b[0;36mpandas.parser.TextReader._read_low_memory (pandas/parser.c:10691)\u001b[0;34m()\u001b[0m\n",
      "\u001b[0;32mpandas/parser.pyx\u001b[0m in \u001b[0;36mpandas.parser.TextReader._read_rows (pandas/parser.c:11728)\u001b[0;34m()\u001b[0m\n",
      "\u001b[0;32mpandas/parser.pyx\u001b[0m in \u001b[0;36mpandas.parser.TextReader._convert_column_data (pandas/parser.c:13162)\u001b[0;34m()\u001b[0m\n",
      "\u001b[0;32mpandas/parser.pyx\u001b[0m in \u001b[0;36mpandas.parser.TextReader._convert_tokens (pandas/parser.c:14116)\u001b[0;34m()\u001b[0m\n",
      "\u001b[0;32mpandas/parser.pyx\u001b[0m in \u001b[0;36mpandas.parser.TextReader._convert_with_dtype (pandas/parser.c:14783)\u001b[0;34m()\u001b[0m\n",
      "\u001b[0;32m/home/lgmoneda/miniconda2/envs/ml/lib/python2.7/site-packages/pandas/types/common.pyc\u001b[0m in \u001b[0;36mis_integer_dtype\u001b[0;34m(arr_or_dtype)\u001b[0m\n\u001b[1;32m    151\u001b[0m \u001b[0;34m\u001b[0m\u001b[0m\n\u001b[1;32m    152\u001b[0m \u001b[0;34m\u001b[0m\u001b[0m\n\u001b[0;32m--> 153\u001b[0;31m \u001b[0;32mdef\u001b[0m \u001b[0mis_integer_dtype\u001b[0m\u001b[0;34m(\u001b[0m\u001b[0marr_or_dtype\u001b[0m\u001b[0;34m)\u001b[0m\u001b[0;34m:\u001b[0m\u001b[0;34m\u001b[0m\u001b[0m\n\u001b[0m\u001b[1;32m    154\u001b[0m     \u001b[0mtipo\u001b[0m \u001b[0;34m=\u001b[0m \u001b[0m_get_dtype_type\u001b[0m\u001b[0;34m(\u001b[0m\u001b[0marr_or_dtype\u001b[0m\u001b[0;34m)\u001b[0m\u001b[0;34m\u001b[0m\u001b[0m\n\u001b[1;32m    155\u001b[0m     return (issubclass(tipo, np.integer) and\n",
      "\u001b[0;31mKeyboardInterrupt\u001b[0m: "
     ]
    }
   ],
   "source": [
    "import pandas as pd\n",
    "from greenpyce.feature_engineering import TargetEncoder\n",
    "from greenpyce.feature_engineering import onehot\n",
    "from greenpyce.feature_engineering import RankCategorical\n",
    "from greenpyce.feature_engineering import LabelCount\n",
    "df_train = pd.read_csv(\"../data/train_data4.csv\")\n",
    "df_test = pd.read_csv(\"../data/test_data4.csv\")\n",
    "\n",
    "df_train[\"user_id_id\"] = df_train[\"user_id\"]\n",
    "df_test[\"user_id_id\"] = df_test[\"user_id\"]\n",
    "\n",
    "to_drop = ['Unnamed: 0', 'Unnamed: 0.1']\n",
    "df_train.drop(to_drop, axis = 1,inplace=True)\n",
    "\n",
    "# df_user = pd.read_csv(\"../data/nmidia_feats.csv\", sep=\";\")\n",
    "# # pd.isnull(df_user).sum()[pd.isnull(df_user).sum() > 0]\n",
    "# df_user = df_user.drop([\"nmidia_with_flow_listened_PROP\", \"nmidia_regular_listened_PROP\", \"nmidia_PROP_diff\"], axis=1)\n",
    "# df_user.columns.values\n",
    "# df_train = pd.merge(df_train, df_user, on=\"user_id\")\n",
    "# df_test = pd.merge(df_test, df_user, on=\"user_id\")\n",
    "# del df_user\n",
    "\n",
    "\n",
    "### select users for general\n",
    "\n",
    "#df_train = df_train[df_train[\"user_id\"].isin(user_for_general_model)]\n",
    "\n",
    "threshold = 30\n",
    "\n",
    "register_count = df_train[\"user_id\"].value_counts()\n",
    "\n",
    "user_for_general_model = register_count[(register_count <= threshold)].index\n",
    "user_for_specific_model = register_count[(register_count > threshold)].index\n",
    "print(len(user_for_general_model))\n",
    "print(len(user_for_specific_model))\n",
    "\n",
    "cols_for_target_encoder = [\"genre_id\", \n",
    "                           \"media_id\", \n",
    "                           \"artist_radio\"]\n",
    "\n",
    "cols_for_onehot = [\"platform_name\", \n",
    "                   \"user_age\",\n",
    "                   \"listen_type\",\n",
    "                   \"user_gender\", \n",
    "                   \"ts_listen_DAY_OF_WEEK\",\n",
    "                  \"ts_listen_PERIOD_OF_DAY\"]\n",
    "\n",
    "cols_for_rank = [\"artist_id\",\n",
    "                \"artist_fans\"]\n",
    "\n",
    "target = \"is_listened\"\n",
    "\n",
    "df_test = df_test[df_test[\"user_id\"].isin(user_for_general_model)]\n",
    "df_train.columns\n",
    "\n",
    "te = TargetEncoder(cols_for_target_encoder, \"is_listened\")\n",
    "te.fit(df_train)\n",
    "te.transform(df_train)\n",
    "te.transform(df_test)\n",
    "del te\n",
    "\n",
    "rc = RankCategorical(cols_for_rank)\n",
    "rc.fit(df_train)\n",
    "rc.transform(df_train)\n",
    "rc.transform(df_test)\n",
    "del rc\n",
    "\n",
    "rc = RankCategorical([\"media_decade\"])\n",
    "rc.fit(df_train)\n",
    "rc.transform(df_train)\n",
    "rc.transform(df_test)\n",
    "del rc\n",
    "\n",
    "df_train = onehot(df_train, cols_for_onehot)\n",
    "df_test = onehot(df_test, cols_for_onehot)\n",
    "\n",
    "%timeit\n",
    "### Drop\n",
    "to_drop = ['ts_listen', 'album_id', 'release_date', 'artist_id', \"year\", \"text\"]#, \"nmidia_with_flow_listened_PROP\", \"nmidia_PROP_diff\", \"nmidia_regular_listened_PROP\"]\n",
    "df_train.drop(to_drop, axis = 1,inplace=True)\n",
    "df_test.drop(to_drop, axis = 1,inplace=True)\n",
    "\n",
    "features = [col for col in df_train.columns.values if col != target]\n",
    "features"
   ]
  },
  {
   "cell_type": "code",
   "execution_count": null,
   "metadata": {
    "collapsed": false,
    "deletable": true,
    "editable": true
   },
   "outputs": [],
   "source": [
    "features"
   ]
  },
  {
   "cell_type": "code",
   "execution_count": null,
   "metadata": {
    "collapsed": false,
    "deletable": true,
    "editable": true
   },
   "outputs": [],
   "source": [
    "len(df_test)"
   ]
  },
  {
   "cell_type": "code",
   "execution_count": null,
   "metadata": {
    "autoscroll": "json-false",
    "collapsed": false,
    "deletable": true,
    "editable": true,
    "ein.tags": [
     "worksheet-0"
    ],
    "slideshow": {
     "slide_type": "-"
    }
   },
   "outputs": [],
   "source": [
    "# features =['genre_id', \n",
    "#            'media_id', \n",
    "#            'context_type', \n",
    "#     #       'media_duration', \n",
    "#            'listen_type', \n",
    "#     #       'user_id', \n",
    "#    #        'diff_ts_listen_AND_release_date_D', \n",
    "#            'diff_ts_listen_AND_release_date_M', \n",
    "#    #        'diff_ts_listen_AND_release_date_Y', \n",
    "#     #       'release_date_YEAR', \n",
    "#            'diff_user_song_age', \n",
    "#            'artist_albuns', \n",
    "#            'artist_fans', \n",
    "#            'artist_radio', \n",
    "#            'media_bpm', \n",
    "#            'media_rank', \n",
    "#            #'user_id_id', \n",
    "# #            'nmidia_regular_listened', \n",
    "# #            'nmidia_with_flow_listened', \n",
    "# #            'nmidia_regular', \n",
    "# #            'nmidia_with_flow', \n",
    "#            'platform_name_1', \n",
    "#            'platform_name_2', \n",
    "#            'platform_family_1', \n",
    "#            'platform_family_2', \n",
    "#            'user_age_19', \n",
    "#            'user_age_20', \n",
    "#            'user_age_21', \n",
    "#            'user_age_22', \n",
    "#            'user_age_23', \n",
    "#            'user_age_25', \n",
    "#            'user_age_26', \n",
    "#            'user_age_27', \n",
    "#            'user_age_28', \n",
    "#            'user_age_29', \n",
    "#            'user_age_30', \n",
    "#            'user_age_group_1',\n",
    "#            'user_age_group_2', \n",
    "# #            'media_decade_1', \n",
    "#            'media_decade_2',\n",
    "#            'media_decade_5', \n",
    "#            'media_decade_7', \n",
    "#            'media_decade_8', \n",
    "#            'user_gender_1', \n",
    "#            'user_age_group_1', \n",
    "#            'user_age_group_2', \n",
    "#            'ts_listen_DAY_OF_WEEK_1',\n",
    "#            'ts_listen_DAY_OF_WEEK_2', \n",
    "#            'ts_listen_DAY_OF_WEEK_3', \n",
    "#            'ts_listen_DAY_OF_WEEK_4', \n",
    "#            'ts_listen_DAY_OF_WEEK_5',\n",
    "#            'ts_listen_PERIOD_OF_DAY_2', \n",
    "#            'ts_listen_PERIOD_OF_DAY_3']"
   ]
  },
  {
   "cell_type": "markdown",
   "metadata": {
    "deletable": true,
    "editable": true
   },
   "source": [
    "['genre_id', 'media_id', 'context_type', 'media_duration', 'listen_type', 'user_id', 'diff_ts_listen_AND_release_date_D', 'diff_ts_listen_AND_release_date_M', 'diff_ts_listen_AND_release_date_Y', 'release_date_YEAR', 'diff_user_song_age', 'artist_albuns', 'artist_fans', 'artist_radio', 'media_bpm', 'media_rank', 'user_id_id', 'nmidia_regular_listened', 'nmidia_with_flow_listened', 'nmidia_regular', 'nmidia_with_flow', 'platform_name_1', 'platform_name_2', 'platform_family_1', 'platform_family_2', 'user_age_19', 'user_age_20', 'user_age_21', 'user_age_22', 'user_age_23', 'user_age_25', 'user_age_26', 'user_age_27', 'user_age_28', 'user_age_29', 'user_age_30', 'user_age_group_1', 'user_age_group_2', 'media_decade_1', 'media_decade_2', 'media_decade_5', 'media_decade_7', 'media_decade_8', 'user_gender_1', 'user_age_group_1', 'user_age_group_2', 'ts_listen_DAY_OF_WEEK_1', 'ts_listen_DAY_OF_WEEK_2', 'ts_listen_DAY_OF_WEEK_3', 'ts_listen_DAY_OF_WEEK_4', 'ts_listen_DAY_OF_WEEK_5', 'ts_listen_PERIOD_OF_DAY_2', 'ts_listen_PERIOD_OF_DAY_3']"
   ]
  },
  {
   "cell_type": "code",
   "execution_count": null,
   "metadata": {
    "collapsed": false,
    "deletable": true,
    "editable": true
   },
   "outputs": [],
   "source": [
    "### 0.7678\n",
    "\n",
    "for column in features:\n",
    "    try:\n",
    "        df_test[column] = df_test[column].fillna(df_train[column].mean(skipna=True))\n",
    "    except:\n",
    "        df_test[column] = 0\n",
    "\n",
    "#df_test = df_test.fillna(df_train.mean(skipna=True), axis=1)\n",
    "df_test = df_test.applymap(lambda x : float(x))\n",
    "pd.isnull(df_test).sum().sum()"
   ]
  },
  {
   "cell_type": "code",
   "execution_count": null,
   "metadata": {
    "collapsed": false,
    "deletable": true,
    "editable": true
   },
   "outputs": [],
   "source": [
    "# df_test = df_test.fillna(df_train.mean(skipna=True).to_dict, axis=1)#.dropna(axis=1, how='all')\n",
    "# pd.isnull(df_test).sum()\n",
    "# df_train.mean(skipna=True).to_dict\n",
    "features = ['media_duration',\n",
    " 'artist_id',\n",
    " 'diff_ts_listen_AND_release_date_M',\n",
    " 'diff_user_song_age',\n",
    " 'artist_albuns',\n",
    " 'artist_fans',\n",
    " 'media_bpm',\n",
    " 'media_rank',\n",
    " 'listen_type_1',\n",
    " 'user_gender_1',\n",
    " 'ts_listen_DAY_OF_WEEK_1',\n",
    " 'ts_listen_DAY_OF_WEEK_2',\n",
    " 'ts_listen_DAY_OF_WEEK_3',\n",
    " 'ts_listen_DAY_OF_WEEK_4',\n",
    " 'ts_listen_DAY_OF_WEEK_5',\n",
    " 'ts_listen_DAY_OF_WEEK_6',\n",
    " 'ts_listen_PERIOD_OF_DAY_1',\n",
    " 'ts_listen_PERIOD_OF_DAY_2',\n",
    " 'ts_listen_PERIOD_OF_DAY_3']"
   ]
  },
  {
   "cell_type": "code",
   "execution_count": null,
   "metadata": {
    "autoscroll": "json-false",
    "collapsed": false,
    "deletable": true,
    "editable": true,
    "ein.tags": [
     "worksheet-0"
    ],
    "slideshow": {
     "slide_type": "-"
    }
   },
   "outputs": [],
   "source": [
    "from sklearn.model_selection import train_test_split\n",
    "X_train, X_test, y_train, y_test = train_test_split(df_train[features], df_train[target], test_size = 0.2)\n",
    "\n",
    "from sklearn import feature_selection\n",
    "all_features = features\n",
    "function_rule_selection = feature_selection.f_classif\n",
    "alpha_cutoff = 0.001\n",
    "\n",
    "selection_rule = feature_selection.SelectFdr(function_rule_selection, alpha_cutoff)\n",
    "selection_rule.fit(X_train, y_train);\n",
    "\n",
    "all_pvalues = list(filter(lambda x: pd.notnull(x[0]), zip(selection_rule.pvalues_, all_features)))\n",
    "#print(all_pvalues)\n",
    "filtered_pvalues = list(filter(lambda x: x[0]<=alpha_cutoff, all_pvalues))\n",
    "#print(filtered_pvalues)\n",
    "all_select_features = list(map(lambda x: x[1], filtered_pvalues))\n",
    "\n",
    "print(\"{0} selected variables from {1}, {2:.2f}%\".format(len(all_select_features), \n",
    "                                                        len(all_features), \n",
    "                                                        len(filtered_pvalues)*100/float(len(all_features))))\n",
    "print(all_select_features)\n",
    "#print(filtered_pvalues)\n",
    "\n",
    "features = all_select_features\n",
    "X_train, X_test, y_train, y_test = train_test_split(df_train[features], df_train[target], test_size = 0.3)\n",
    "X_val, X_test, y_val, y_test = train_test_split(X_test, y_test, test_size = 0.5)"
   ]
  },
  {
   "cell_type": "code",
   "execution_count": null,
   "metadata": {
    "autoscroll": "json-false",
    "collapsed": false,
    "deletable": true,
    "editable": true,
    "ein.tags": [
     "worksheet-0"
    ],
    "slideshow": {
     "slide_type": "-"
    }
   },
   "outputs": [],
   "source": [
    "import xgboost as xgb\n",
    "from time import time\n",
    "import numpy as np\n",
    "\n",
    "start = time()\n",
    "xg_train = xgb.DMatrix(X_train, label=y_train.values, missing=np.NaN)\n",
    "xg_test = xgb.DMatrix(X_test, label=y_test.values, missing=np.NaN)\n",
    "xg_val = xgb.DMatrix(X_val, label=y_val.values, missing=np.NaN)\n",
    "param = {'max_depth':5, \n",
    "         'eta':0.2, \n",
    "         'silent':0, \n",
    "         'objective':'binary:logistic', \n",
    "         \"booster\": \"gbtree\", \n",
    "         \"max_delta_step\":1,\n",
    "         \"alpha\": 0,\n",
    "         \"lambda\": 0,\n",
    "         #\"scale_pos_weight\": class_ratio,\n",
    "         \"eval_metric\": \"auc\",\n",
    "          \"verbose\": 1}\n",
    "\n",
    "### Objectives\n",
    "## 'binary:logistic'\n",
    "## 'multi:softprob'\n",
    "#param['num_class'] = 2\n",
    "param[\"min_child_weight\"] = 30\n",
    "param[\"colsample_bytree\"] = 0.5\n",
    "num_round = 300\n",
    "\n",
    "watchlist = [(xg_train,'train'), (xg_test,'test'), (xg_val,'validation')]\n",
    "#watchlist = [(xg_val,'validation')]\n",
    "\n",
    "bst = xgb.train(param, \n",
    "                xg_train, \n",
    "                num_round,\n",
    "                watchlist,\n",
    "                early_stopping_rounds=5)\n",
    "\n",
    "yprob = bst.predict( xg_test ) #.reshape( y_test.shape[0], 2)\n",
    "print(yprob[0])\n",
    "\n",
    "print('Tempo de execução: {0}m{1}s'.format(int((time()-start)/60),\n",
    "             int((time()-start)%60 )))"
   ]
  },
  {
   "cell_type": "code",
   "execution_count": null,
   "metadata": {
    "autoscroll": "json-false",
    "collapsed": false,
    "deletable": true,
    "editable": true,
    "ein.tags": [
     "worksheet-0"
    ],
    "slideshow": {
     "slide_type": "-"
    }
   },
   "outputs": [],
   "source": [
    "df_test_group_2 = df_test[df_test[\"user_id_id\"].isin(user_for_general_model)].copy(deep=True)\n",
    "xg_sub = xgb.DMatrix(df_test_group_2[features], missing=np.NaN)\n",
    "p = bst.predict(xg_sub)\n",
    "df_test_group_2[\"prediction\"] = p\n",
    "df_test_group_2[\"prediction\"].head()"
   ]
  },
  {
   "cell_type": "code",
   "execution_count": null,
   "metadata": {
    "autoscroll": "json-false",
    "collapsed": false,
    "deletable": true,
    "editable": true,
    "ein.tags": [
     "worksheet-0"
    ],
    "slideshow": {
     "slide_type": "-"
    }
   },
   "outputs": [],
   "source": [
    "df_test_group_2[[\"user_id_id\", \"prediction\"]].to_csv(\"group2.csv\")"
   ]
  },
  {
   "cell_type": "code",
   "execution_count": null,
   "metadata": {
    "collapsed": true,
    "deletable": true,
    "editable": true
   },
   "outputs": [],
   "source": [
    "df_test_group_1 = pd.read_csv(\"group1.csv\", index_col=\"user_id_id\")\n",
    "df_test_group_2 = pd.read_csv(\"group2.csv\", index_col=\"user_id_id\")"
   ]
  },
  {
   "cell_type": "code",
   "execution_count": null,
   "metadata": {
    "autoscroll": "json-false",
    "collapsed": false,
    "deletable": true,
    "editable": true,
    "ein.tags": [
     "worksheet-0"
    ],
    "slideshow": {
     "slide_type": "-"
    }
   },
   "outputs": [],
   "source": [
    "df_test = pd.read_csv(\"../data/test_data4.csv\")\n",
    "#df_test = df_test[\"user_id\"]\n",
    "#df_test[\"user_id_id\"] = df_test[\"user_id\"]\n",
    "# df_test = pd.merge(df_test, df_test_group_1[[\"user_id\", \"prediction\"]], on=\"user_id\")\n",
    "# df_test = pd.merge(df_test, df_test_group_2[[\"user_id\", \"prediction\"]], on=\"user_id\")\n",
    "df_test = pd.merge(df_test, df_test_group_1[[\"prediction\"]], left_on=\"user_id\", right_index=True, how=\"outer\")\n",
    "#df_test.join(df_test_group_2[[\"prediction\"]])\n",
    "df_test = pd.merge(df_test, df_test_group_2[[\"prediction\"]], left_on=\"user_id\", right_index=True, how=\"outer\")"
   ]
  },
  {
   "cell_type": "code",
   "execution_count": null,
   "metadata": {
    "collapsed": false,
    "deletable": true,
    "editable": true
   },
   "outputs": [],
   "source": [
    "print(len(df_test_group_1))\n",
    "print(len(df_test_group_2))\n",
    "print(len(df_test))"
   ]
  },
  {
   "cell_type": "code",
   "execution_count": null,
   "metadata": {
    "collapsed": false,
    "deletable": true,
    "editable": true
   },
   "outputs": [],
   "source": [
    "#pd.set_option(\"precision\", 10)\n",
    "#df_test_group_2[[\"user_id\", \"prediction\"]].head()\n",
    "a = pd.read_csv(\"../data/test_data4.csv\")"
   ]
  },
  {
   "cell_type": "code",
   "execution_count": null,
   "metadata": {
    "collapsed": false,
    "deletable": true,
    "editable": true
   },
   "outputs": [],
   "source": [
    "a[\"user_id\"].head()"
   ]
  },
  {
   "cell_type": "code",
   "execution_count": null,
   "metadata": {
    "collapsed": false,
    "deletable": true,
    "editable": true
   },
   "outputs": [],
   "source": [
    "df_test.head()"
   ]
  },
  {
   "cell_type": "code",
   "execution_count": null,
   "metadata": {
    "collapsed": true,
    "deletable": true,
    "editable": true
   },
   "outputs": [],
   "source": [
    "df_test[\"prediction_x\"].fillna(0, inplace=True)\n",
    "df_test[\"prediction_y\"].fillna(0, inplace=True)\n",
    "df_test[\"prediction\"] = df_test[\"prediction_x\"] + df_test[\"prediction_y\"]"
   ]
  },
  {
   "cell_type": "code",
   "execution_count": null,
   "metadata": {
    "collapsed": false,
    "deletable": true,
    "editable": true
   },
   "outputs": [],
   "source": [
    "df_test[\"prediction\"].head()"
   ]
  },
  {
   "cell_type": "code",
   "execution_count": null,
   "metadata": {
    "collapsed": false,
    "deletable": true,
    "editable": true
   },
   "outputs": [],
   "source": [
    "df_test.ix[8716][\"prediction\"]"
   ]
  },
  {
   "cell_type": "code",
   "execution_count": null,
   "metadata": {
    "collapsed": false,
    "deletable": true,
    "editable": true
   },
   "outputs": [],
   "source": [
    "df_test[\"prediction\"].values[:5]"
   ]
  },
  {
   "cell_type": "code",
   "execution_count": null,
   "metadata": {
    "collapsed": false,
    "deletable": true,
    "editable": true
   },
   "outputs": [],
   "source": [
    "len(df_test)"
   ]
  },
  {
   "cell_type": "code",
   "execution_count": null,
   "metadata": {
    "collapsed": false,
    "deletable": true,
    "editable": true
   },
   "outputs": [],
   "source": [
    "(df_test[\"prediction\"] > 1.0).sum()"
   ]
  },
  {
   "cell_type": "code",
   "execution_count": null,
   "metadata": {
    "collapsed": false,
    "deletable": true,
    "editable": true
   },
   "outputs": [],
   "source": [
    "(df_test[\"prediction\"] == 1.0).sum()"
   ]
  },
  {
   "cell_type": "code",
   "execution_count": null,
   "metadata": {
    "collapsed": false,
    "deletable": true,
    "editable": true
   },
   "outputs": [],
   "source": [
    "(df_test[\"prediction\"] == 0).sum()"
   ]
  },
  {
   "cell_type": "code",
   "execution_count": null,
   "metadata": {
    "collapsed": false,
    "deletable": true,
    "editable": true
   },
   "outputs": [],
   "source": [
    "pd.isnull(df_test[\"prediction_y\"]).sum()"
   ]
  },
  {
   "cell_type": "code",
   "execution_count": null,
   "metadata": {
    "collapsed": true,
    "deletable": true,
    "editable": true
   },
   "outputs": [],
   "source": [
    "#df_test[\"prediction\"] = df_test[\"prediction\"].apply(lambda x : 1 if x > 1 else x)"
   ]
  },
  {
   "cell_type": "code",
   "execution_count": null,
   "metadata": {
    "autoscroll": "json-false",
    "collapsed": false,
    "deletable": true,
    "editable": true,
    "ein.tags": [
     "worksheet-0"
    ],
    "slideshow": {
     "slide_type": "-"
    }
   },
   "outputs": [],
   "source": [
    "import gzip\n",
    "import csv\n",
    "import numpy as np\n",
    "\n",
    "def build_kaggle_submission(preds, filename=\"my_submission\"):\n",
    "    \"\"\"\n",
    "    Build a compressed Kaggle Submission\n",
    "    \n",
    "    preds: array with predictions\n",
    "    \"\"\"\n",
    "    with gzip.open(filename + '.csv.gz', 'wt') as outf:\n",
    "        fo = csv.writer(outf, lineterminator='\\n')\n",
    "        fo.writerow([\"sample_id\", \"is_listened\"])       \n",
    "        for i, pred in enumerate(preds):\n",
    "            fo.writerow([i, pred])"
   ]
  },
  {
   "cell_type": "code",
   "execution_count": null,
   "metadata": {
    "autoscroll": "json-false",
    "collapsed": false,
    "deletable": true,
    "editable": true,
    "ein.tags": [
     "worksheet-0"
    ],
    "slideshow": {
     "slide_type": "-"
    }
   },
   "outputs": [],
   "source": [
    "#p = model.predict_proba(df_test[features])\n",
    "#p = p[:, 1]\n",
    "p = df_test[\"prediction\"].values"
   ]
  },
  {
   "cell_type": "code",
   "execution_count": null,
   "metadata": {
    "autoscroll": "json-false",
    "collapsed": false,
    "deletable": true,
    "editable": true,
    "ein.tags": [
     "worksheet-0"
    ],
    "slideshow": {
     "slide_type": "-"
    }
   },
   "outputs": [],
   "source": [
    "build_kaggle_submission(p, \"note20_1\")"
   ]
  },
  {
   "cell_type": "code",
   "execution_count": null,
   "metadata": {
    "autoscroll": "json-false",
    "collapsed": false,
    "deletable": true,
    "editable": true,
    "ein.tags": [
     "worksheet-0"
    ],
    "slideshow": {
     "slide_type": "-"
    }
   },
   "outputs": [],
   "source": [
    "import sys\n",
    "print(sys.getsizeof(df_train) / 1e6)\n",
    "print(sys.getsizeof(df_test) / 1e6)\n",
    "print(sys.getsizeof(model) / 1e6)"
   ]
  },
  {
   "cell_type": "code",
   "execution_count": null,
   "metadata": {
    "collapsed": false,
    "deletable": true,
    "editable": true
   },
   "outputs": [],
   "source": [
    "!ls"
   ]
  },
  {
   "cell_type": "code",
   "execution_count": null,
   "metadata": {
    "collapsed": true,
    "deletable": true,
    "editable": true
   },
   "outputs": [],
   "source": []
  },
  {
   "cell_type": "code",
   "execution_count": null,
   "metadata": {
    "collapsed": true,
    "deletable": true,
    "editable": true
   },
   "outputs": [],
   "source": []
  },
  {
   "cell_type": "code",
   "execution_count": null,
   "metadata": {
    "collapsed": true,
    "deletable": true,
    "editable": true
   },
   "outputs": [],
   "source": []
  },
  {
   "cell_type": "code",
   "execution_count": null,
   "metadata": {
    "collapsed": true,
    "deletable": true,
    "editable": true
   },
   "outputs": [],
   "source": []
  },
  {
   "cell_type": "code",
   "execution_count": null,
   "metadata": {
    "collapsed": true,
    "deletable": true,
    "editable": true
   },
   "outputs": [],
   "source": []
  }
 ],
 "metadata": {
  "kernelspec": {
   "display_name": "Python 2",
   "language": "python",
   "name": "python2"
  },
  "language_info": {
   "codemirror_mode": {
    "name": "ipython",
    "version": 2
   },
   "file_extension": ".py",
   "mimetype": "text/x-python",
   "name": "python",
   "nbconvert_exporter": "python",
   "pygments_lexer": "ipython2",
   "version": "2.7.13"
  },
  "name": "6 - Simple Model + User Specific + 2 models.ipynb"
 },
 "nbformat": 4,
 "nbformat_minor": 2
}
