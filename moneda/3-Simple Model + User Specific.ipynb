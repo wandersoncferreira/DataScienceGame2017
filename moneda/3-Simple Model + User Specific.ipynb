{
 "cells": [
  {
   "cell_type": "markdown",
   "metadata": {
    "deletable": true,
    "editable": true
   },
   "source": [
    "### Data Science Game 2017\n",
    "\n",
    "Data fields\n",
    "\n",
    "    media_id - identifiant of the song listened by the user\n",
    "    album_id - identifiant of the album of the song\n",
    "    media_duration - duration of the song\n",
    "    user_gender -  gender of the user\n",
    "    user_id -  anonymized id of the user\n",
    "    context_type - type of content where the song was listened: playlist, album ...\n",
    "    release_date - release date of the song with the format YYYYMMDD\n",
    "    ts_listen - timestamp of the listening in UNIX time\n",
    "    platform_name - type of os\n",
    "    platform_family - type of device\n",
    "    user_age - age of the user\n",
    "    listen_type - if the songs was listened in a flow or not\n",
    "    artist_id - identifiant of the artist of the song\n",
    "    genre_id - identifiant of the genre of the song\n",
    "    is_listened - 1 if the track was listened, 0 otherwise\n"
   ]
  },
  {
   "cell_type": "code",
   "execution_count": 1,
   "metadata": {
    "collapsed": true,
    "deletable": true,
    "editable": true
   },
   "outputs": [],
   "source": [
    "import pandas as pd"
   ]
  },
  {
   "cell_type": "code",
   "execution_count": 2,
   "metadata": {
    "collapsed": false,
    "deletable": true,
    "editable": true
   },
   "outputs": [],
   "source": [
    "df_train = pd.read_csv(\"../data/train_data3.csv\")\n",
    "df_test = pd.read_csv(\"../data/test_data3.csv\")"
   ]
  },
  {
   "cell_type": "code",
   "execution_count": 3,
   "metadata": {
    "collapsed": false,
    "deletable": true,
    "editable": true
   },
   "outputs": [
    {
     "data": {
      "text/plain": [
       "Index([u'Unnamed: 0', u'Unnamed: 0.1', u'genre_id', u'ts_listen', u'media_id',\n",
       "       u'album_id', u'context_type', u'release_date', u'platform_name',\n",
       "       u'platform_family', u'media_duration', u'listen_type', u'user_gender',\n",
       "       u'user_id', u'artist_id', u'user_age', u'is_listened', u'text', u'year',\n",
       "       u'diff_ts_listen_AND_release_date_D',\n",
       "       u'diff_ts_listen_AND_release_date_M',\n",
       "       u'diff_ts_listen_AND_release_date_Y', u'release_date_DAY',\n",
       "       u'release_date_MONTH', u'release_date_YEAR', u'ts_listen_DAY_OF_WEEK',\n",
       "       u'ts_listen_PERIOD_OF_DAY', u'user_age_group', u'diff_user_song_age',\n",
       "       u'media_decade'],\n",
       "      dtype='object')"
      ]
     },
     "execution_count": 3,
     "metadata": {},
     "output_type": "execute_result"
    }
   ],
   "source": [
    "df_train.columns"
   ]
  },
  {
   "cell_type": "code",
   "execution_count": 4,
   "metadata": {
    "collapsed": false,
    "deletable": true,
    "editable": true
   },
   "outputs": [
    {
     "data": {
      "text/html": [
       "<div>\n",
       "<table border=\"1\" class=\"dataframe\">\n",
       "  <thead>\n",
       "    <tr style=\"text-align: right;\">\n",
       "      <th></th>\n",
       "      <th>genre_id</th>\n",
       "      <th>ts_listen</th>\n",
       "      <th>media_id</th>\n",
       "      <th>album_id</th>\n",
       "      <th>context_type</th>\n",
       "      <th>release_date</th>\n",
       "      <th>platform_name</th>\n",
       "      <th>platform_family</th>\n",
       "      <th>media_duration</th>\n",
       "      <th>listen_type</th>\n",
       "      <th>...</th>\n",
       "      <th>diff_ts_listen_AND_release_date_M</th>\n",
       "      <th>diff_ts_listen_AND_release_date_Y</th>\n",
       "      <th>release_date_DAY</th>\n",
       "      <th>release_date_MONTH</th>\n",
       "      <th>release_date_YEAR</th>\n",
       "      <th>ts_listen_DAY_OF_WEEK</th>\n",
       "      <th>ts_listen_PERIOD_OF_DAY</th>\n",
       "      <th>user_age_group</th>\n",
       "      <th>diff_user_song_age</th>\n",
       "      <th>media_decade</th>\n",
       "    </tr>\n",
       "  </thead>\n",
       "  <tbody>\n",
       "    <tr>\n",
       "      <th>0</th>\n",
       "      <td>25471</td>\n",
       "      <td>2016-12-01 11:00:15</td>\n",
       "      <td>222606</td>\n",
       "      <td>41774</td>\n",
       "      <td>12</td>\n",
       "      <td>2004-07-04</td>\n",
       "      <td>1</td>\n",
       "      <td>0</td>\n",
       "      <td>4.0</td>\n",
       "      <td>0</td>\n",
       "      <td>...</td>\n",
       "      <td>151.100000</td>\n",
       "      <td>12.419178</td>\n",
       "      <td>4</td>\n",
       "      <td>7</td>\n",
       "      <td>2004</td>\n",
       "      <td>3</td>\n",
       "      <td>0</td>\n",
       "      <td>2.0</td>\n",
       "      <td>16.580822</td>\n",
       "      <td>7.0</td>\n",
       "    </tr>\n",
       "    <tr>\n",
       "      <th>1</th>\n",
       "      <td>25571</td>\n",
       "      <td>2016-11-30 20:25:35</td>\n",
       "      <td>250467</td>\n",
       "      <td>43941</td>\n",
       "      <td>0</td>\n",
       "      <td>2006-03-01</td>\n",
       "      <td>2</td>\n",
       "      <td>1</td>\n",
       "      <td>3.0</td>\n",
       "      <td>0</td>\n",
       "      <td>...</td>\n",
       "      <td>130.900000</td>\n",
       "      <td>10.758904</td>\n",
       "      <td>1</td>\n",
       "      <td>3</td>\n",
       "      <td>2006</td>\n",
       "      <td>2</td>\n",
       "      <td>2</td>\n",
       "      <td>2.0</td>\n",
       "      <td>19.241096</td>\n",
       "      <td>7.0</td>\n",
       "    </tr>\n",
       "    <tr>\n",
       "      <th>2</th>\n",
       "      <td>16</td>\n",
       "      <td>2016-11-19 11:59:13</td>\n",
       "      <td>305197</td>\n",
       "      <td>48078</td>\n",
       "      <td>1</td>\n",
       "      <td>2014-07-14</td>\n",
       "      <td>2</td>\n",
       "      <td>1</td>\n",
       "      <td>2.0</td>\n",
       "      <td>1</td>\n",
       "      <td>...</td>\n",
       "      <td>28.633333</td>\n",
       "      <td>2.353425</td>\n",
       "      <td>14</td>\n",
       "      <td>7</td>\n",
       "      <td>2014</td>\n",
       "      <td>5</td>\n",
       "      <td>0</td>\n",
       "      <td>2.0</td>\n",
       "      <td>26.646575</td>\n",
       "      <td>8.0</td>\n",
       "    </tr>\n",
       "    <tr>\n",
       "      <th>3</th>\n",
       "      <td>7</td>\n",
       "      <td>2016-11-26 07:21:38</td>\n",
       "      <td>900502</td>\n",
       "      <td>71521</td>\n",
       "      <td>0</td>\n",
       "      <td>2000-10-30</td>\n",
       "      <td>0</td>\n",
       "      <td>0</td>\n",
       "      <td>4.0</td>\n",
       "      <td>0</td>\n",
       "      <td>...</td>\n",
       "      <td>195.700000</td>\n",
       "      <td>16.084932</td>\n",
       "      <td>30</td>\n",
       "      <td>10</td>\n",
       "      <td>2000</td>\n",
       "      <td>5</td>\n",
       "      <td>0</td>\n",
       "      <td>2.0</td>\n",
       "      <td>13.915068</td>\n",
       "      <td>6.0</td>\n",
       "    </tr>\n",
       "    <tr>\n",
       "      <th>4</th>\n",
       "      <td>7</td>\n",
       "      <td>2016-11-05 16:02:54</td>\n",
       "      <td>542335</td>\n",
       "      <td>71718</td>\n",
       "      <td>0</td>\n",
       "      <td>2008-02-15</td>\n",
       "      <td>0</td>\n",
       "      <td>0</td>\n",
       "      <td>3.0</td>\n",
       "      <td>0</td>\n",
       "      <td>...</td>\n",
       "      <td>106.200000</td>\n",
       "      <td>8.728767</td>\n",
       "      <td>15</td>\n",
       "      <td>2</td>\n",
       "      <td>2008</td>\n",
       "      <td>5</td>\n",
       "      <td>1</td>\n",
       "      <td>1.0</td>\n",
       "      <td>15.271233</td>\n",
       "      <td>7.0</td>\n",
       "    </tr>\n",
       "  </tbody>\n",
       "</table>\n",
       "<p>5 rows × 28 columns</p>\n",
       "</div>"
      ],
      "text/plain": [
       "   genre_id            ts_listen  media_id  album_id  context_type  \\\n",
       "0     25471  2016-12-01 11:00:15    222606     41774            12   \n",
       "1     25571  2016-11-30 20:25:35    250467     43941             0   \n",
       "2        16  2016-11-19 11:59:13    305197     48078             1   \n",
       "3         7  2016-11-26 07:21:38    900502     71521             0   \n",
       "4         7  2016-11-05 16:02:54    542335     71718             0   \n",
       "\n",
       "  release_date  platform_name  platform_family  media_duration  listen_type  \\\n",
       "0   2004-07-04              1                0             4.0            0   \n",
       "1   2006-03-01              2                1             3.0            0   \n",
       "2   2014-07-14              2                1             2.0            1   \n",
       "3   2000-10-30              0                0             4.0            0   \n",
       "4   2008-02-15              0                0             3.0            0   \n",
       "\n",
       "       ...       diff_ts_listen_AND_release_date_M  \\\n",
       "0      ...                              151.100000   \n",
       "1      ...                              130.900000   \n",
       "2      ...                               28.633333   \n",
       "3      ...                              195.700000   \n",
       "4      ...                              106.200000   \n",
       "\n",
       "   diff_ts_listen_AND_release_date_Y  release_date_DAY  release_date_MONTH  \\\n",
       "0                          12.419178                 4                   7   \n",
       "1                          10.758904                 1                   3   \n",
       "2                           2.353425                14                   7   \n",
       "3                          16.084932                30                  10   \n",
       "4                           8.728767                15                   2   \n",
       "\n",
       "   release_date_YEAR ts_listen_DAY_OF_WEEK  ts_listen_PERIOD_OF_DAY  \\\n",
       "0               2004                     3                        0   \n",
       "1               2006                     2                        2   \n",
       "2               2014                     5                        0   \n",
       "3               2000                     5                        0   \n",
       "4               2008                     5                        1   \n",
       "\n",
       "   user_age_group  diff_user_song_age  media_decade  \n",
       "0             2.0           16.580822           7.0  \n",
       "1             2.0           19.241096           7.0  \n",
       "2             2.0           26.646575           8.0  \n",
       "3             2.0           13.915068           6.0  \n",
       "4             1.0           15.271233           7.0  \n",
       "\n",
       "[5 rows x 28 columns]"
      ]
     },
     "execution_count": 4,
     "metadata": {},
     "output_type": "execute_result"
    }
   ],
   "source": [
    "to_drop = ['Unnamed: 0', 'Unnamed: 0.1']\n",
    "df_train.drop(to_drop, axis = 1,inplace=True)\n",
    "df_train.head()"
   ]
  },
  {
   "cell_type": "code",
   "execution_count": 5,
   "metadata": {
    "collapsed": false,
    "deletable": true,
    "editable": true
   },
   "outputs": [
    {
     "data": {
      "text/plain": [
       "user_age_group    537853\n",
       "media_decade        1554\n",
       "dtype: int64"
      ]
     },
     "execution_count": 5,
     "metadata": {},
     "output_type": "execute_result"
    }
   ],
   "source": [
    "pd.isnull(df_train).sum()[pd.isnull(df_train).sum() > 0]"
   ]
  },
  {
   "cell_type": "code",
   "execution_count": null,
   "metadata": {
    "collapsed": true
   },
   "outputs": [],
   "source": [
    "df_train[df_train[\"release_date_YEAR\"] == 1900][[\"media_id\", \"ts_listen\"]]"
   ]
  },
  {
   "cell_type": "code",
   "execution_count": 15,
   "metadata": {
    "collapsed": false
   },
   "outputs": [
    {
     "data": {
      "text/html": [
       "<div>\n",
       "<table border=\"1\" class=\"dataframe\">\n",
       "  <thead>\n",
       "    <tr style=\"text-align: right;\">\n",
       "      <th></th>\n",
       "      <th>media_id</th>\n",
       "      <th>ts_listen</th>\n",
       "    </tr>\n",
       "  </thead>\n",
       "  <tbody>\n",
       "    <tr>\n",
       "      <th>1924693</th>\n",
       "      <td>71089141</td>\n",
       "      <td>2016-11-13 00:49:01</td>\n",
       "    </tr>\n",
       "    <tr>\n",
       "      <th>1924694</th>\n",
       "      <td>71089141</td>\n",
       "      <td>2016-11-26 13:22:19</td>\n",
       "    </tr>\n",
       "    <tr>\n",
       "      <th>1924695</th>\n",
       "      <td>71089141</td>\n",
       "      <td>2016-11-05 06:37:20</td>\n",
       "    </tr>\n",
       "    <tr>\n",
       "      <th>1924696</th>\n",
       "      <td>71089141</td>\n",
       "      <td>2016-11-03 08:09:15</td>\n",
       "    </tr>\n",
       "    <tr>\n",
       "      <th>1924697</th>\n",
       "      <td>71089141</td>\n",
       "      <td>2016-11-01 17:12:53</td>\n",
       "    </tr>\n",
       "    <tr>\n",
       "      <th>1924698</th>\n",
       "      <td>71089141</td>\n",
       "      <td>2016-11-01 12:09:04</td>\n",
       "    </tr>\n",
       "    <tr>\n",
       "      <th>1947315</th>\n",
       "      <td>70834665</td>\n",
       "      <td>2016-11-05 19:12:28</td>\n",
       "    </tr>\n",
       "    <tr>\n",
       "      <th>1947316</th>\n",
       "      <td>70834665</td>\n",
       "      <td>2016-11-11 14:10:36</td>\n",
       "    </tr>\n",
       "    <tr>\n",
       "      <th>1947317</th>\n",
       "      <td>70834665</td>\n",
       "      <td>2016-11-06 18:41:02</td>\n",
       "    </tr>\n",
       "    <tr>\n",
       "      <th>1947318</th>\n",
       "      <td>70834665</td>\n",
       "      <td>2016-11-17 10:59:55</td>\n",
       "    </tr>\n",
       "    <tr>\n",
       "      <th>1947319</th>\n",
       "      <td>70834665</td>\n",
       "      <td>2016-11-24 13:33:55</td>\n",
       "    </tr>\n",
       "    <tr>\n",
       "      <th>2778988</th>\n",
       "      <td>94788542</td>\n",
       "      <td>2016-11-18 11:45:08</td>\n",
       "    </tr>\n",
       "    <tr>\n",
       "      <th>2778989</th>\n",
       "      <td>94788534</td>\n",
       "      <td>2016-11-18 12:00:06</td>\n",
       "    </tr>\n",
       "    <tr>\n",
       "      <th>2778990</th>\n",
       "      <td>94788538</td>\n",
       "      <td>2016-11-18 12:12:45</td>\n",
       "    </tr>\n",
       "    <tr>\n",
       "      <th>2778991</th>\n",
       "      <td>94788544</td>\n",
       "      <td>2016-11-18 12:17:44</td>\n",
       "    </tr>\n",
       "    <tr>\n",
       "      <th>2778992</th>\n",
       "      <td>94788530</td>\n",
       "      <td>2016-11-18 11:27:28</td>\n",
       "    </tr>\n",
       "    <tr>\n",
       "      <th>2778993</th>\n",
       "      <td>94788532</td>\n",
       "      <td>2016-11-18 10:58:44</td>\n",
       "    </tr>\n",
       "    <tr>\n",
       "      <th>2778994</th>\n",
       "      <td>94788534</td>\n",
       "      <td>2016-11-06 08:59:08</td>\n",
       "    </tr>\n",
       "    <tr>\n",
       "      <th>3719169</th>\n",
       "      <td>60876711</td>\n",
       "      <td>2016-11-23 20:56:29</td>\n",
       "    </tr>\n",
       "    <tr>\n",
       "      <th>3719170</th>\n",
       "      <td>60876711</td>\n",
       "      <td>2016-12-01 08:09:06</td>\n",
       "    </tr>\n",
       "    <tr>\n",
       "      <th>3719171</th>\n",
       "      <td>60876711</td>\n",
       "      <td>2016-11-02 10:27:20</td>\n",
       "    </tr>\n",
       "    <tr>\n",
       "      <th>3965403</th>\n",
       "      <td>76199407</td>\n",
       "      <td>2016-11-16 06:48:52</td>\n",
       "    </tr>\n",
       "    <tr>\n",
       "      <th>4430175</th>\n",
       "      <td>86991403</td>\n",
       "      <td>2016-11-04 07:40:15</td>\n",
       "    </tr>\n",
       "    <tr>\n",
       "      <th>4430176</th>\n",
       "      <td>86991403</td>\n",
       "      <td>2016-11-16 09:39:03</td>\n",
       "    </tr>\n",
       "    <tr>\n",
       "      <th>4615279</th>\n",
       "      <td>88291871</td>\n",
       "      <td>2016-11-17 18:16:43</td>\n",
       "    </tr>\n",
       "    <tr>\n",
       "      <th>5192002</th>\n",
       "      <td>84227719</td>\n",
       "      <td>2016-11-22 11:09:00</td>\n",
       "    </tr>\n",
       "    <tr>\n",
       "      <th>5374405</th>\n",
       "      <td>80969000</td>\n",
       "      <td>2016-11-03 06:00:23</td>\n",
       "    </tr>\n",
       "    <tr>\n",
       "      <th>5374454</th>\n",
       "      <td>82074036</td>\n",
       "      <td>2016-11-12 15:41:38</td>\n",
       "    </tr>\n",
       "    <tr>\n",
       "      <th>5374455</th>\n",
       "      <td>82074036</td>\n",
       "      <td>2016-11-30 09:48:33</td>\n",
       "    </tr>\n",
       "    <tr>\n",
       "      <th>5374456</th>\n",
       "      <td>82074036</td>\n",
       "      <td>2016-11-27 18:46:37</td>\n",
       "    </tr>\n",
       "    <tr>\n",
       "      <th>...</th>\n",
       "      <td>...</td>\n",
       "      <td>...</td>\n",
       "    </tr>\n",
       "    <tr>\n",
       "      <th>6381147</th>\n",
       "      <td>3157464</td>\n",
       "      <td>2016-10-30 10:42:48</td>\n",
       "    </tr>\n",
       "    <tr>\n",
       "      <th>6381148</th>\n",
       "      <td>3157464</td>\n",
       "      <td>2016-11-01 12:22:30</td>\n",
       "    </tr>\n",
       "    <tr>\n",
       "      <th>6381149</th>\n",
       "      <td>3157464</td>\n",
       "      <td>2016-11-02 07:13:12</td>\n",
       "    </tr>\n",
       "    <tr>\n",
       "      <th>6381150</th>\n",
       "      <td>3157464</td>\n",
       "      <td>2016-11-03 08:37:07</td>\n",
       "    </tr>\n",
       "    <tr>\n",
       "      <th>6381151</th>\n",
       "      <td>3157464</td>\n",
       "      <td>2016-11-03 12:44:27</td>\n",
       "    </tr>\n",
       "    <tr>\n",
       "      <th>6381152</th>\n",
       "      <td>3157464</td>\n",
       "      <td>2016-11-03 16:10:24</td>\n",
       "    </tr>\n",
       "    <tr>\n",
       "      <th>6381153</th>\n",
       "      <td>3157464</td>\n",
       "      <td>2016-11-05 09:04:51</td>\n",
       "    </tr>\n",
       "    <tr>\n",
       "      <th>6381154</th>\n",
       "      <td>3157464</td>\n",
       "      <td>2016-11-05 09:39:01</td>\n",
       "    </tr>\n",
       "    <tr>\n",
       "      <th>6381155</th>\n",
       "      <td>3157464</td>\n",
       "      <td>2016-11-11 13:48:56</td>\n",
       "    </tr>\n",
       "    <tr>\n",
       "      <th>6381156</th>\n",
       "      <td>3157464</td>\n",
       "      <td>2016-11-13 12:14:52</td>\n",
       "    </tr>\n",
       "    <tr>\n",
       "      <th>6381157</th>\n",
       "      <td>3157464</td>\n",
       "      <td>2016-11-13 14:28:08</td>\n",
       "    </tr>\n",
       "    <tr>\n",
       "      <th>6381158</th>\n",
       "      <td>3157464</td>\n",
       "      <td>2016-11-13 21:14:27</td>\n",
       "    </tr>\n",
       "    <tr>\n",
       "      <th>6381159</th>\n",
       "      <td>3157464</td>\n",
       "      <td>2016-11-12 22:52:51</td>\n",
       "    </tr>\n",
       "    <tr>\n",
       "      <th>6381160</th>\n",
       "      <td>3157464</td>\n",
       "      <td>2016-11-13 10:03:19</td>\n",
       "    </tr>\n",
       "    <tr>\n",
       "      <th>6381161</th>\n",
       "      <td>3157464</td>\n",
       "      <td>2016-11-15 22:54:26</td>\n",
       "    </tr>\n",
       "    <tr>\n",
       "      <th>6381162</th>\n",
       "      <td>3157464</td>\n",
       "      <td>2016-11-15 22:38:11</td>\n",
       "    </tr>\n",
       "    <tr>\n",
       "      <th>6381163</th>\n",
       "      <td>3157464</td>\n",
       "      <td>2016-11-16 18:34:15</td>\n",
       "    </tr>\n",
       "    <tr>\n",
       "      <th>6381164</th>\n",
       "      <td>3157464</td>\n",
       "      <td>2016-11-16 15:23:14</td>\n",
       "    </tr>\n",
       "    <tr>\n",
       "      <th>6381165</th>\n",
       "      <td>3157464</td>\n",
       "      <td>2016-11-16 14:58:00</td>\n",
       "    </tr>\n",
       "    <tr>\n",
       "      <th>6381166</th>\n",
       "      <td>3157464</td>\n",
       "      <td>2016-11-19 07:26:38</td>\n",
       "    </tr>\n",
       "    <tr>\n",
       "      <th>6381167</th>\n",
       "      <td>3157487</td>\n",
       "      <td>2016-11-22 10:11:12</td>\n",
       "    </tr>\n",
       "    <tr>\n",
       "      <th>6381168</th>\n",
       "      <td>3157464</td>\n",
       "      <td>2016-11-23 08:01:35</td>\n",
       "    </tr>\n",
       "    <tr>\n",
       "      <th>6381169</th>\n",
       "      <td>3157464</td>\n",
       "      <td>2016-11-23 14:27:17</td>\n",
       "    </tr>\n",
       "    <tr>\n",
       "      <th>6381170</th>\n",
       "      <td>3157464</td>\n",
       "      <td>2016-11-23 15:45:34</td>\n",
       "    </tr>\n",
       "    <tr>\n",
       "      <th>6381171</th>\n",
       "      <td>3157487</td>\n",
       "      <td>2016-11-23 06:09:19</td>\n",
       "    </tr>\n",
       "    <tr>\n",
       "      <th>6381172</th>\n",
       "      <td>3157464</td>\n",
       "      <td>2016-11-23 18:01:14</td>\n",
       "    </tr>\n",
       "    <tr>\n",
       "      <th>6381173</th>\n",
       "      <td>3157454</td>\n",
       "      <td>2016-11-24 14:52:30</td>\n",
       "    </tr>\n",
       "    <tr>\n",
       "      <th>6656023</th>\n",
       "      <td>81843038</td>\n",
       "      <td>2016-11-08 07:48:13</td>\n",
       "    </tr>\n",
       "    <tr>\n",
       "      <th>6656024</th>\n",
       "      <td>81843038</td>\n",
       "      <td>2016-11-08 09:11:43</td>\n",
       "    </tr>\n",
       "    <tr>\n",
       "      <th>7542038</th>\n",
       "      <td>13462422</td>\n",
       "      <td>2016-11-16 19:11:28</td>\n",
       "    </tr>\n",
       "  </tbody>\n",
       "</table>\n",
       "<p>1554 rows × 2 columns</p>\n",
       "</div>"
      ],
      "text/plain": [
       "         media_id            ts_listen\n",
       "1924693  71089141  2016-11-13 00:49:01\n",
       "1924694  71089141  2016-11-26 13:22:19\n",
       "1924695  71089141  2016-11-05 06:37:20\n",
       "1924696  71089141  2016-11-03 08:09:15\n",
       "1924697  71089141  2016-11-01 17:12:53\n",
       "1924698  71089141  2016-11-01 12:09:04\n",
       "1947315  70834665  2016-11-05 19:12:28\n",
       "1947316  70834665  2016-11-11 14:10:36\n",
       "1947317  70834665  2016-11-06 18:41:02\n",
       "1947318  70834665  2016-11-17 10:59:55\n",
       "1947319  70834665  2016-11-24 13:33:55\n",
       "2778988  94788542  2016-11-18 11:45:08\n",
       "2778989  94788534  2016-11-18 12:00:06\n",
       "2778990  94788538  2016-11-18 12:12:45\n",
       "2778991  94788544  2016-11-18 12:17:44\n",
       "2778992  94788530  2016-11-18 11:27:28\n",
       "2778993  94788532  2016-11-18 10:58:44\n",
       "2778994  94788534  2016-11-06 08:59:08\n",
       "3719169  60876711  2016-11-23 20:56:29\n",
       "3719170  60876711  2016-12-01 08:09:06\n",
       "3719171  60876711  2016-11-02 10:27:20\n",
       "3965403  76199407  2016-11-16 06:48:52\n",
       "4430175  86991403  2016-11-04 07:40:15\n",
       "4430176  86991403  2016-11-16 09:39:03\n",
       "4615279  88291871  2016-11-17 18:16:43\n",
       "5192002  84227719  2016-11-22 11:09:00\n",
       "5374405  80969000  2016-11-03 06:00:23\n",
       "5374454  82074036  2016-11-12 15:41:38\n",
       "5374455  82074036  2016-11-30 09:48:33\n",
       "5374456  82074036  2016-11-27 18:46:37\n",
       "...           ...                  ...\n",
       "6381147   3157464  2016-10-30 10:42:48\n",
       "6381148   3157464  2016-11-01 12:22:30\n",
       "6381149   3157464  2016-11-02 07:13:12\n",
       "6381150   3157464  2016-11-03 08:37:07\n",
       "6381151   3157464  2016-11-03 12:44:27\n",
       "6381152   3157464  2016-11-03 16:10:24\n",
       "6381153   3157464  2016-11-05 09:04:51\n",
       "6381154   3157464  2016-11-05 09:39:01\n",
       "6381155   3157464  2016-11-11 13:48:56\n",
       "6381156   3157464  2016-11-13 12:14:52\n",
       "6381157   3157464  2016-11-13 14:28:08\n",
       "6381158   3157464  2016-11-13 21:14:27\n",
       "6381159   3157464  2016-11-12 22:52:51\n",
       "6381160   3157464  2016-11-13 10:03:19\n",
       "6381161   3157464  2016-11-15 22:54:26\n",
       "6381162   3157464  2016-11-15 22:38:11\n",
       "6381163   3157464  2016-11-16 18:34:15\n",
       "6381164   3157464  2016-11-16 15:23:14\n",
       "6381165   3157464  2016-11-16 14:58:00\n",
       "6381166   3157464  2016-11-19 07:26:38\n",
       "6381167   3157487  2016-11-22 10:11:12\n",
       "6381168   3157464  2016-11-23 08:01:35\n",
       "6381169   3157464  2016-11-23 14:27:17\n",
       "6381170   3157464  2016-11-23 15:45:34\n",
       "6381171   3157487  2016-11-23 06:09:19\n",
       "6381172   3157464  2016-11-23 18:01:14\n",
       "6381173   3157454  2016-11-24 14:52:30\n",
       "6656023  81843038  2016-11-08 07:48:13\n",
       "6656024  81843038  2016-11-08 09:11:43\n",
       "7542038  13462422  2016-11-16 19:11:28\n",
       "\n",
       "[1554 rows x 2 columns]"
      ]
     },
     "execution_count": 15,
     "metadata": {},
     "output_type": "execute_result"
    }
   ],
   "source": [
    "df_train[df_train[\"release_date_YEAR\"] == 1900][[\"media_id\", \"ts_listen\"]]"
   ]
  },
  {
   "cell_type": "markdown",
   "metadata": {
    "deletable": true,
    "editable": true
   },
   "source": [
    "### Append User Specific"
   ]
  },
  {
   "cell_type": "code",
   "execution_count": 157,
   "metadata": {
    "collapsed": false,
    "deletable": true,
    "editable": true
   },
   "outputs": [
    {
     "data": {
      "text/plain": [
       "array(['user_id', 'nmidia_regular_listened', 'nmidia_with_flow_listened',\n",
       "       'nmidia_regular', 'nmidia_with_flow'], dtype=object)"
      ]
     },
     "execution_count": 157,
     "metadata": {},
     "output_type": "execute_result"
    }
   ],
   "source": [
    "df_user = pd.read_csv(\"../data/nmidia_feats.csv\", sep=\";\")\n",
    "pd.isnull(df_user).sum()[pd.isnull(df_user).sum() > 0]\n",
    "#df_user = df_user.drop([\"nmidia_with_flow_listened_PROP\", \"nmidia_regular_listened_PROP\", \"nmidia_PROP_diff\"], axis=1)\n",
    "df_user.columns.values"
   ]
  },
  {
   "cell_type": "code",
   "execution_count": 158,
   "metadata": {
    "collapsed": false,
    "deletable": true,
    "editable": true
   },
   "outputs": [
    {
     "data": {
      "text/plain": [
       "Series([], dtype: int64)"
      ]
     },
     "execution_count": 158,
     "metadata": {},
     "output_type": "execute_result"
    }
   ],
   "source": [
    "pd.isnull(df_user).sum()[pd.isnull(df_user).sum() > 0]"
   ]
  },
  {
   "cell_type": "code",
   "execution_count": 159,
   "metadata": {
    "collapsed": false,
    "deletable": true,
    "editable": true
   },
   "outputs": [
    {
     "data": {
      "text/html": [
       "<div>\n",
       "<table border=\"1\" class=\"dataframe\">\n",
       "  <thead>\n",
       "    <tr style=\"text-align: right;\">\n",
       "      <th></th>\n",
       "      <th>genre_id</th>\n",
       "      <th>ts_listen</th>\n",
       "      <th>media_id</th>\n",
       "      <th>album_id</th>\n",
       "      <th>context_type</th>\n",
       "      <th>release_date</th>\n",
       "      <th>platform_name</th>\n",
       "      <th>platform_family</th>\n",
       "      <th>media_duration</th>\n",
       "      <th>listen_type</th>\n",
       "      <th>...</th>\n",
       "      <th>release_date_YEAR</th>\n",
       "      <th>ts_listen_DAY_OF_WEEK</th>\n",
       "      <th>ts_listen_PERIOD_OF_DAY</th>\n",
       "      <th>user_age_group</th>\n",
       "      <th>diff_user_song_age</th>\n",
       "      <th>media_decade</th>\n",
       "      <th>nmidia_regular_listened</th>\n",
       "      <th>nmidia_with_flow_listened</th>\n",
       "      <th>nmidia_regular</th>\n",
       "      <th>nmidia_with_flow</th>\n",
       "    </tr>\n",
       "  </thead>\n",
       "  <tbody>\n",
       "    <tr>\n",
       "      <th>0</th>\n",
       "      <td>25471</td>\n",
       "      <td>2016-12-01 11:00:15</td>\n",
       "      <td>222606</td>\n",
       "      <td>41774</td>\n",
       "      <td>12</td>\n",
       "      <td>2004-07-04</td>\n",
       "      <td>1</td>\n",
       "      <td>0</td>\n",
       "      <td>4.0</td>\n",
       "      <td>0</td>\n",
       "      <td>...</td>\n",
       "      <td>2004</td>\n",
       "      <td>3</td>\n",
       "      <td>0</td>\n",
       "      <td>2.0</td>\n",
       "      <td>16.580822</td>\n",
       "      <td>7.0</td>\n",
       "      <td>41</td>\n",
       "      <td>48</td>\n",
       "      <td>57</td>\n",
       "      <td>71</td>\n",
       "    </tr>\n",
       "    <tr>\n",
       "      <th>1</th>\n",
       "      <td>7</td>\n",
       "      <td>2016-12-01 10:48:50</td>\n",
       "      <td>4301418</td>\n",
       "      <td>400118</td>\n",
       "      <td>9</td>\n",
       "      <td>2009-10-16</td>\n",
       "      <td>1</td>\n",
       "      <td>0</td>\n",
       "      <td>7.0</td>\n",
       "      <td>0</td>\n",
       "      <td>...</td>\n",
       "      <td>2009</td>\n",
       "      <td>3</td>\n",
       "      <td>0</td>\n",
       "      <td>2.0</td>\n",
       "      <td>21.868493</td>\n",
       "      <td>7.0</td>\n",
       "      <td>41</td>\n",
       "      <td>48</td>\n",
       "      <td>57</td>\n",
       "      <td>71</td>\n",
       "    </tr>\n",
       "    <tr>\n",
       "      <th>2</th>\n",
       "      <td>10</td>\n",
       "      <td>2016-11-30 11:48:22</td>\n",
       "      <td>983248</td>\n",
       "      <td>109347</td>\n",
       "      <td>0</td>\n",
       "      <td>2002-10-21</td>\n",
       "      <td>1</td>\n",
       "      <td>0</td>\n",
       "      <td>3.0</td>\n",
       "      <td>0</td>\n",
       "      <td>...</td>\n",
       "      <td>2002</td>\n",
       "      <td>2</td>\n",
       "      <td>0</td>\n",
       "      <td>2.0</td>\n",
       "      <td>14.879452</td>\n",
       "      <td>7.0</td>\n",
       "      <td>41</td>\n",
       "      <td>48</td>\n",
       "      <td>57</td>\n",
       "      <td>71</td>\n",
       "    </tr>\n",
       "    <tr>\n",
       "      <th>3</th>\n",
       "      <td>10</td>\n",
       "      <td>2016-12-01 07:18:24</td>\n",
       "      <td>983248</td>\n",
       "      <td>109347</td>\n",
       "      <td>0</td>\n",
       "      <td>2002-10-21</td>\n",
       "      <td>1</td>\n",
       "      <td>0</td>\n",
       "      <td>3.0</td>\n",
       "      <td>0</td>\n",
       "      <td>...</td>\n",
       "      <td>2002</td>\n",
       "      <td>3</td>\n",
       "      <td>0</td>\n",
       "      <td>2.0</td>\n",
       "      <td>14.876712</td>\n",
       "      <td>7.0</td>\n",
       "      <td>41</td>\n",
       "      <td>48</td>\n",
       "      <td>57</td>\n",
       "      <td>71</td>\n",
       "    </tr>\n",
       "    <tr>\n",
       "      <th>4</th>\n",
       "      <td>10</td>\n",
       "      <td>2016-11-29 09:42:52</td>\n",
       "      <td>983248</td>\n",
       "      <td>109347</td>\n",
       "      <td>1</td>\n",
       "      <td>2002-10-21</td>\n",
       "      <td>1</td>\n",
       "      <td>0</td>\n",
       "      <td>3.0</td>\n",
       "      <td>1</td>\n",
       "      <td>...</td>\n",
       "      <td>2002</td>\n",
       "      <td>1</td>\n",
       "      <td>0</td>\n",
       "      <td>2.0</td>\n",
       "      <td>14.882192</td>\n",
       "      <td>7.0</td>\n",
       "      <td>41</td>\n",
       "      <td>48</td>\n",
       "      <td>57</td>\n",
       "      <td>71</td>\n",
       "    </tr>\n",
       "  </tbody>\n",
       "</table>\n",
       "<p>5 rows × 32 columns</p>\n",
       "</div>"
      ],
      "text/plain": [
       "   genre_id            ts_listen  media_id  album_id  context_type  \\\n",
       "0     25471  2016-12-01 11:00:15    222606     41774            12   \n",
       "1         7  2016-12-01 10:48:50   4301418    400118             9   \n",
       "2        10  2016-11-30 11:48:22    983248    109347             0   \n",
       "3        10  2016-12-01 07:18:24    983248    109347             0   \n",
       "4        10  2016-11-29 09:42:52    983248    109347             1   \n",
       "\n",
       "  release_date  platform_name  platform_family  media_duration  listen_type  \\\n",
       "0   2004-07-04              1                0             4.0            0   \n",
       "1   2009-10-16              1                0             7.0            0   \n",
       "2   2002-10-21              1                0             3.0            0   \n",
       "3   2002-10-21              1                0             3.0            0   \n",
       "4   2002-10-21              1                0             3.0            1   \n",
       "\n",
       "         ...         release_date_YEAR  ts_listen_DAY_OF_WEEK  \\\n",
       "0        ...                      2004                      3   \n",
       "1        ...                      2009                      3   \n",
       "2        ...                      2002                      2   \n",
       "3        ...                      2002                      3   \n",
       "4        ...                      2002                      1   \n",
       "\n",
       "   ts_listen_PERIOD_OF_DAY  user_age_group  diff_user_song_age media_decade  \\\n",
       "0                        0             2.0           16.580822          7.0   \n",
       "1                        0             2.0           21.868493          7.0   \n",
       "2                        0             2.0           14.879452          7.0   \n",
       "3                        0             2.0           14.876712          7.0   \n",
       "4                        0             2.0           14.882192          7.0   \n",
       "\n",
       "   nmidia_regular_listened  nmidia_with_flow_listened  nmidia_regular  \\\n",
       "0                       41                         48              57   \n",
       "1                       41                         48              57   \n",
       "2                       41                         48              57   \n",
       "3                       41                         48              57   \n",
       "4                       41                         48              57   \n",
       "\n",
       "   nmidia_with_flow  \n",
       "0                71  \n",
       "1                71  \n",
       "2                71  \n",
       "3                71  \n",
       "4                71  \n",
       "\n",
       "[5 rows x 32 columns]"
      ]
     },
     "execution_count": 159,
     "metadata": {},
     "output_type": "execute_result"
    }
   ],
   "source": [
    "df_train = pd.merge(df_train, df_user, on=\"user_id\")\n",
    "df_test = pd.merge(df_test, df_user, on=\"user_id\")\n",
    "df_train.head()"
   ]
  },
  {
   "cell_type": "markdown",
   "metadata": {
    "deletable": true,
    "editable": true
   },
   "source": [
    "### Check for NA\n",
    "#### Ver depois sobre o user_age_group!"
   ]
  },
  {
   "cell_type": "code",
   "execution_count": 160,
   "metadata": {
    "collapsed": false,
    "deletable": true,
    "editable": true
   },
   "outputs": [
    {
     "data": {
      "text/plain": [
       "user_age_group    537853\n",
       "media_decade        1554\n",
       "dtype: int64"
      ]
     },
     "execution_count": 160,
     "metadata": {},
     "output_type": "execute_result"
    }
   ],
   "source": [
    "pd.isnull(df_train).sum()[pd.isnull(df_train).sum() > 0]"
   ]
  },
  {
   "cell_type": "code",
   "execution_count": 161,
   "metadata": {
    "collapsed": true,
    "deletable": true,
    "editable": true
   },
   "outputs": [],
   "source": [
    "df_train.dropna(inplace=True)"
   ]
  },
  {
   "cell_type": "code",
   "execution_count": 162,
   "metadata": {
    "collapsed": false,
    "deletable": true,
    "editable": true
   },
   "outputs": [],
   "source": [
    "y = df_train[\"is_listened\"].values"
   ]
  },
  {
   "cell_type": "code",
   "execution_count": 163,
   "metadata": {
    "collapsed": true,
    "deletable": true,
    "editable": true
   },
   "outputs": [],
   "source": [
    "categorical_cols = [\"genre_id\",\n",
    "                   \"media_id\",\n",
    "                   \"album_id\",\n",
    "                   \"context_type\",\n",
    "                   \"release_date\",\n",
    "                   \"platform_name\",\n",
    "                   \"platform_family\",\n",
    "                   \"listen_type\",\n",
    "                   \"user_gender\",\n",
    "                   \"user_id\",\n",
    "                   \"artist_id\",\n",
    "                   \"user_age\"]"
   ]
  },
  {
   "cell_type": "markdown",
   "metadata": {
    "deletable": true,
    "editable": true
   },
   "source": [
    "### Let's inspect the categorical variables!"
   ]
  },
  {
   "cell_type": "code",
   "execution_count": 164,
   "metadata": {
    "collapsed": false,
    "deletable": true,
    "editable": true
   },
   "outputs": [
    {
     "name": "stdout",
     "output_type": "stream",
     "text": [
      "genre_id: 2898\n",
      "media_id: 443308\n",
      "album_id: 148260\n",
      "context_type: 73\n",
      "release_date: 8853\n",
      "platform_name: 3\n",
      "platform_family: 3\n",
      "listen_type: 2\n",
      "user_gender: 2\n",
      "user_id: 17900\n",
      "artist_id: 65683\n",
      "user_age: 12\n"
     ]
    }
   ],
   "source": [
    "for col in categorical_cols:\n",
    "    print(\"{}: {}\".format(col, len(df_train[col].unique())))"
   ]
  },
  {
   "cell_type": "markdown",
   "metadata": {
    "deletable": true,
    "editable": true
   },
   "source": [
    "### Strategy\n",
    "1. Apply onehot to categorical with few classes\n",
    "2. Rank categories to artist id\n",
    "3. target encoder for context and genre\n",
    "4. discard media, album, release date and user_id"
   ]
  },
  {
   "cell_type": "code",
   "execution_count": 165,
   "metadata": {
    "collapsed": false,
    "deletable": true,
    "editable": true
   },
   "outputs": [],
   "source": [
    "from greenpyce.feature_engineering import TargetEncoder\n",
    "from greenpyce.feature_engineering import onehot\n",
    "from greenpyce.feature_engineering import RankCategorical\n",
    "from greenpyce.feature_engineering import LabelCount"
   ]
  },
  {
   "cell_type": "code",
   "execution_count": 166,
   "metadata": {
    "collapsed": false,
    "deletable": true,
    "editable": true
   },
   "outputs": [
    {
     "data": {
      "text/plain": [
       "array(['genre_id', 'ts_listen', 'media_id', 'album_id', 'context_type',\n",
       "       'release_date', 'platform_name', 'platform_family',\n",
       "       'media_duration', 'listen_type', 'user_gender', 'user_id',\n",
       "       'artist_id', 'user_age', 'is_listened', 'text', 'year',\n",
       "       'diff_ts_listen_AND_release_date_D',\n",
       "       'diff_ts_listen_AND_release_date_M',\n",
       "       'diff_ts_listen_AND_release_date_Y', 'release_date_DAY',\n",
       "       'release_date_MONTH', 'release_date_YEAR', 'ts_listen_DAY_OF_WEEK',\n",
       "       'ts_listen_PERIOD_OF_DAY', 'user_age_group', 'diff_user_song_age',\n",
       "       'media_decade', 'nmidia_regular_listened',\n",
       "       'nmidia_with_flow_listened', 'nmidia_regular', 'nmidia_with_flow'], dtype=object)"
      ]
     },
     "execution_count": 166,
     "metadata": {},
     "output_type": "execute_result"
    }
   ],
   "source": [
    "df_train.columns.values"
   ]
  },
  {
   "cell_type": "markdown",
   "metadata": {
    "deletable": true,
    "editable": true
   },
   "source": [
    "Index([u'Unnamed: 0', u'Unnamed: 0.1', u'genre_id', u'ts_listen', u'media_id',\n",
    "       u'album_id', u'context_type', u'release_date', u'platform_name',\n",
    "       u'platform_family', u'media_duration', u'listen_type', u'user_gender',\n",
    "       u'user_id', u'artist_id', u'user_age', u'is_listened', u'text', u'year',\n",
    "       u'diff_ts_listen_AND_release_date_D',\n",
    "       u'diff_ts_listen_AND_release_date_M',\n",
    "       u'diff_ts_listen_AND_release_date_Y', u'release_date_DAY',\n",
    "       u'release_date_MONTH', u'release_date_YEAR', u'ts_listen_DAY_OF_WEEK',\n",
    "       u'ts_listen_PERIOD_OF_DAY', u'user_age_group', u'diff_user_song_age',\n",
    "       u'media_decade'],\n",
    "      dtype='object')"
   ]
  },
  {
   "cell_type": "code",
   "execution_count": 167,
   "metadata": {
    "collapsed": true,
    "deletable": true,
    "editable": true
   },
   "outputs": [],
   "source": [
    "cols_for_target_encoder = [\"genre_id\", \n",
    "                           \"context_type\", \n",
    "                           \"user_id\", \n",
    "                           \"media_id\", \n",
    "                           \"listen_type\"]\n",
    "\n",
    "cols_for_onehot = [\"platform_name\", \n",
    "                   \"platform_family\", \n",
    "                   \"listen_type\", \n",
    "                   \"user_gender\", \n",
    "                   \"user_age_group\", \n",
    "                   \"ts_listen_DAY_OF_WEEK\",\n",
    "                  \"ts_listen_PERIOD_OF_DAY\"]\n",
    "\n",
    "cols_for_rank = [\"artist_id\"]\n",
    "                #\"media_decade\"]\n",
    "\n",
    "\n",
    "target = \"is_listened\""
   ]
  },
  {
   "cell_type": "code",
   "execution_count": 168,
   "metadata": {
    "collapsed": true,
    "deletable": true,
    "editable": true
   },
   "outputs": [],
   "source": [
    "te = TargetEncoder(cols_for_target_encoder, \"is_listened\")"
   ]
  },
  {
   "cell_type": "code",
   "execution_count": 169,
   "metadata": {
    "collapsed": true,
    "deletable": true,
    "editable": true
   },
   "outputs": [],
   "source": [
    "te.fit(df_train)"
   ]
  },
  {
   "cell_type": "code",
   "execution_count": 170,
   "metadata": {
    "collapsed": false,
    "deletable": true,
    "editable": true
   },
   "outputs": [],
   "source": [
    "te.transform(df_train)\n",
    "te.transform(df_test)"
   ]
  },
  {
   "cell_type": "code",
   "execution_count": 171,
   "metadata": {
    "collapsed": false,
    "deletable": true,
    "editable": true
   },
   "outputs": [],
   "source": [
    "rc = RankCategorical(cols_for_rank)\n",
    "rc.fit(df_train)\n",
    "rc.transform(df_train)\n",
    "rc.transform(df_test)"
   ]
  },
  {
   "cell_type": "code",
   "execution_count": 172,
   "metadata": {
    "collapsed": true,
    "deletable": true,
    "editable": true
   },
   "outputs": [],
   "source": [
    "rc = RankCategorical([\"media_decade\"])\n",
    "rc.fit(df_train)\n",
    "rc.transform(df_train)\n",
    "rc.transform(df_test)"
   ]
  },
  {
   "cell_type": "code",
   "execution_count": 173,
   "metadata": {
    "collapsed": true,
    "deletable": true,
    "editable": true
   },
   "outputs": [],
   "source": [
    "# lc = RankCategorical(cols_for_count)\n",
    "# lc.fit(df_train)\n",
    "# lc.transform(df_train)\n",
    "# lc.transform(df_test)"
   ]
  },
  {
   "cell_type": "code",
   "execution_count": 174,
   "metadata": {
    "collapsed": false,
    "deletable": true,
    "editable": true
   },
   "outputs": [
    {
     "data": {
      "text/html": [
       "<div>\n",
       "<table border=\"1\" class=\"dataframe\">\n",
       "  <thead>\n",
       "    <tr style=\"text-align: right;\">\n",
       "      <th></th>\n",
       "      <th>genre_id</th>\n",
       "      <th>ts_listen</th>\n",
       "      <th>media_id</th>\n",
       "      <th>album_id</th>\n",
       "      <th>context_type</th>\n",
       "      <th>release_date</th>\n",
       "      <th>platform_name</th>\n",
       "      <th>platform_family</th>\n",
       "      <th>media_duration</th>\n",
       "      <th>listen_type</th>\n",
       "      <th>...</th>\n",
       "      <th>release_date_YEAR</th>\n",
       "      <th>ts_listen_DAY_OF_WEEK</th>\n",
       "      <th>ts_listen_PERIOD_OF_DAY</th>\n",
       "      <th>user_age_group</th>\n",
       "      <th>diff_user_song_age</th>\n",
       "      <th>media_decade</th>\n",
       "      <th>nmidia_regular_listened</th>\n",
       "      <th>nmidia_with_flow_listened</th>\n",
       "      <th>nmidia_regular</th>\n",
       "      <th>nmidia_with_flow</th>\n",
       "    </tr>\n",
       "  </thead>\n",
       "  <tbody>\n",
       "    <tr>\n",
       "      <th>0</th>\n",
       "      <td>0.691194</td>\n",
       "      <td>2016-12-01 11:00:15</td>\n",
       "      <td>0.000000</td>\n",
       "      <td>41774</td>\n",
       "      <td>0.699260</td>\n",
       "      <td>2004-07-04</td>\n",
       "      <td>1</td>\n",
       "      <td>0</td>\n",
       "      <td>4.0</td>\n",
       "      <td>0.724121</td>\n",
       "      <td>...</td>\n",
       "      <td>2004</td>\n",
       "      <td>3</td>\n",
       "      <td>0</td>\n",
       "      <td>2.0</td>\n",
       "      <td>16.580822</td>\n",
       "      <td>2</td>\n",
       "      <td>41</td>\n",
       "      <td>48</td>\n",
       "      <td>57</td>\n",
       "      <td>71</td>\n",
       "    </tr>\n",
       "    <tr>\n",
       "      <th>1</th>\n",
       "      <td>0.666537</td>\n",
       "      <td>2016-12-01 10:48:50</td>\n",
       "      <td>0.739007</td>\n",
       "      <td>400118</td>\n",
       "      <td>0.758484</td>\n",
       "      <td>2009-10-16</td>\n",
       "      <td>1</td>\n",
       "      <td>0</td>\n",
       "      <td>7.0</td>\n",
       "      <td>0.724121</td>\n",
       "      <td>...</td>\n",
       "      <td>2009</td>\n",
       "      <td>3</td>\n",
       "      <td>0</td>\n",
       "      <td>2.0</td>\n",
       "      <td>21.868493</td>\n",
       "      <td>2</td>\n",
       "      <td>41</td>\n",
       "      <td>48</td>\n",
       "      <td>57</td>\n",
       "      <td>71</td>\n",
       "    </tr>\n",
       "    <tr>\n",
       "      <th>2</th>\n",
       "      <td>0.727470</td>\n",
       "      <td>2016-11-30 11:48:22</td>\n",
       "      <td>0.640273</td>\n",
       "      <td>109347</td>\n",
       "      <td>0.689701</td>\n",
       "      <td>2002-10-21</td>\n",
       "      <td>1</td>\n",
       "      <td>0</td>\n",
       "      <td>3.0</td>\n",
       "      <td>0.724121</td>\n",
       "      <td>...</td>\n",
       "      <td>2002</td>\n",
       "      <td>2</td>\n",
       "      <td>0</td>\n",
       "      <td>2.0</td>\n",
       "      <td>14.879452</td>\n",
       "      <td>2</td>\n",
       "      <td>41</td>\n",
       "      <td>48</td>\n",
       "      <td>57</td>\n",
       "      <td>71</td>\n",
       "    </tr>\n",
       "    <tr>\n",
       "      <th>3</th>\n",
       "      <td>0.727470</td>\n",
       "      <td>2016-12-01 07:18:24</td>\n",
       "      <td>0.640273</td>\n",
       "      <td>109347</td>\n",
       "      <td>0.689701</td>\n",
       "      <td>2002-10-21</td>\n",
       "      <td>1</td>\n",
       "      <td>0</td>\n",
       "      <td>3.0</td>\n",
       "      <td>0.724121</td>\n",
       "      <td>...</td>\n",
       "      <td>2002</td>\n",
       "      <td>3</td>\n",
       "      <td>0</td>\n",
       "      <td>2.0</td>\n",
       "      <td>14.876712</td>\n",
       "      <td>2</td>\n",
       "      <td>41</td>\n",
       "      <td>48</td>\n",
       "      <td>57</td>\n",
       "      <td>71</td>\n",
       "    </tr>\n",
       "    <tr>\n",
       "      <th>4</th>\n",
       "      <td>0.727470</td>\n",
       "      <td>2016-11-29 09:42:52</td>\n",
       "      <td>0.640273</td>\n",
       "      <td>109347</td>\n",
       "      <td>0.580230</td>\n",
       "      <td>2002-10-21</td>\n",
       "      <td>1</td>\n",
       "      <td>0</td>\n",
       "      <td>3.0</td>\n",
       "      <td>0.606895</td>\n",
       "      <td>...</td>\n",
       "      <td>2002</td>\n",
       "      <td>1</td>\n",
       "      <td>0</td>\n",
       "      <td>2.0</td>\n",
       "      <td>14.882192</td>\n",
       "      <td>2</td>\n",
       "      <td>41</td>\n",
       "      <td>48</td>\n",
       "      <td>57</td>\n",
       "      <td>71</td>\n",
       "    </tr>\n",
       "  </tbody>\n",
       "</table>\n",
       "<p>5 rows × 32 columns</p>\n",
       "</div>"
      ],
      "text/plain": [
       "   genre_id            ts_listen  media_id  album_id  context_type  \\\n",
       "0  0.691194  2016-12-01 11:00:15  0.000000     41774      0.699260   \n",
       "1  0.666537  2016-12-01 10:48:50  0.739007    400118      0.758484   \n",
       "2  0.727470  2016-11-30 11:48:22  0.640273    109347      0.689701   \n",
       "3  0.727470  2016-12-01 07:18:24  0.640273    109347      0.689701   \n",
       "4  0.727470  2016-11-29 09:42:52  0.640273    109347      0.580230   \n",
       "\n",
       "  release_date  platform_name  platform_family  media_duration  listen_type  \\\n",
       "0   2004-07-04              1                0             4.0     0.724121   \n",
       "1   2009-10-16              1                0             7.0     0.724121   \n",
       "2   2002-10-21              1                0             3.0     0.724121   \n",
       "3   2002-10-21              1                0             3.0     0.724121   \n",
       "4   2002-10-21              1                0             3.0     0.606895   \n",
       "\n",
       "         ...         release_date_YEAR  ts_listen_DAY_OF_WEEK  \\\n",
       "0        ...                      2004                      3   \n",
       "1        ...                      2009                      3   \n",
       "2        ...                      2002                      2   \n",
       "3        ...                      2002                      3   \n",
       "4        ...                      2002                      1   \n",
       "\n",
       "   ts_listen_PERIOD_OF_DAY  user_age_group  diff_user_song_age media_decade  \\\n",
       "0                        0             2.0           16.580822            2   \n",
       "1                        0             2.0           21.868493            2   \n",
       "2                        0             2.0           14.879452            2   \n",
       "3                        0             2.0           14.876712            2   \n",
       "4                        0             2.0           14.882192            2   \n",
       "\n",
       "   nmidia_regular_listened  nmidia_with_flow_listened  nmidia_regular  \\\n",
       "0                       41                         48              57   \n",
       "1                       41                         48              57   \n",
       "2                       41                         48              57   \n",
       "3                       41                         48              57   \n",
       "4                       41                         48              57   \n",
       "\n",
       "   nmidia_with_flow  \n",
       "0                71  \n",
       "1                71  \n",
       "2                71  \n",
       "3                71  \n",
       "4                71  \n",
       "\n",
       "[5 rows x 32 columns]"
      ]
     },
     "execution_count": 174,
     "metadata": {},
     "output_type": "execute_result"
    }
   ],
   "source": [
    "df_train.head()"
   ]
  },
  {
   "cell_type": "code",
   "execution_count": 175,
   "metadata": {
    "collapsed": false,
    "deletable": true,
    "editable": true
   },
   "outputs": [],
   "source": [
    "df_train = onehot(df_train, cols_for_onehot)\n",
    "df_test = onehot(df_test, cols_for_onehot)"
   ]
  },
  {
   "cell_type": "code",
   "execution_count": 176,
   "metadata": {
    "collapsed": false,
    "deletable": true,
    "editable": true
   },
   "outputs": [
    {
     "data": {
      "text/html": [
       "<div>\n",
       "<table border=\"1\" class=\"dataframe\">\n",
       "  <thead>\n",
       "    <tr style=\"text-align: right;\">\n",
       "      <th></th>\n",
       "      <th>genre_id</th>\n",
       "      <th>ts_listen</th>\n",
       "      <th>media_id</th>\n",
       "      <th>album_id</th>\n",
       "      <th>context_type</th>\n",
       "      <th>release_date</th>\n",
       "      <th>media_duration</th>\n",
       "      <th>user_id</th>\n",
       "      <th>artist_id</th>\n",
       "      <th>user_age</th>\n",
       "      <th>...</th>\n",
       "      <th>user_age_group_2.0</th>\n",
       "      <th>ts_listen_DAY_OF_WEEK_1</th>\n",
       "      <th>ts_listen_DAY_OF_WEEK_2</th>\n",
       "      <th>ts_listen_DAY_OF_WEEK_3</th>\n",
       "      <th>ts_listen_DAY_OF_WEEK_4</th>\n",
       "      <th>ts_listen_DAY_OF_WEEK_5</th>\n",
       "      <th>ts_listen_DAY_OF_WEEK_6</th>\n",
       "      <th>ts_listen_PERIOD_OF_DAY_1</th>\n",
       "      <th>ts_listen_PERIOD_OF_DAY_2</th>\n",
       "      <th>ts_listen_PERIOD_OF_DAY_3</th>\n",
       "    </tr>\n",
       "  </thead>\n",
       "  <tbody>\n",
       "    <tr>\n",
       "      <th>0</th>\n",
       "      <td>0.691194</td>\n",
       "      <td>2016-12-01 11:00:15</td>\n",
       "      <td>0.000000</td>\n",
       "      <td>41774</td>\n",
       "      <td>0.699260</td>\n",
       "      <td>2004-07-04</td>\n",
       "      <td>4.0</td>\n",
       "      <td>0.676991</td>\n",
       "      <td>58696</td>\n",
       "      <td>29</td>\n",
       "      <td>...</td>\n",
       "      <td>1</td>\n",
       "      <td>0</td>\n",
       "      <td>0</td>\n",
       "      <td>1</td>\n",
       "      <td>0</td>\n",
       "      <td>0</td>\n",
       "      <td>0</td>\n",
       "      <td>0</td>\n",
       "      <td>0</td>\n",
       "      <td>0</td>\n",
       "    </tr>\n",
       "    <tr>\n",
       "      <th>1</th>\n",
       "      <td>0.666537</td>\n",
       "      <td>2016-12-01 10:48:50</td>\n",
       "      <td>0.739007</td>\n",
       "      <td>400118</td>\n",
       "      <td>0.758484</td>\n",
       "      <td>2009-10-16</td>\n",
       "      <td>7.0</td>\n",
       "      <td>0.676991</td>\n",
       "      <td>593</td>\n",
       "      <td>29</td>\n",
       "      <td>...</td>\n",
       "      <td>1</td>\n",
       "      <td>0</td>\n",
       "      <td>0</td>\n",
       "      <td>1</td>\n",
       "      <td>0</td>\n",
       "      <td>0</td>\n",
       "      <td>0</td>\n",
       "      <td>0</td>\n",
       "      <td>0</td>\n",
       "      <td>0</td>\n",
       "    </tr>\n",
       "    <tr>\n",
       "      <th>2</th>\n",
       "      <td>0.727470</td>\n",
       "      <td>2016-11-30 11:48:22</td>\n",
       "      <td>0.640273</td>\n",
       "      <td>109347</td>\n",
       "      <td>0.689701</td>\n",
       "      <td>2002-10-21</td>\n",
       "      <td>3.0</td>\n",
       "      <td>0.676991</td>\n",
       "      <td>62</td>\n",
       "      <td>29</td>\n",
       "      <td>...</td>\n",
       "      <td>1</td>\n",
       "      <td>0</td>\n",
       "      <td>1</td>\n",
       "      <td>0</td>\n",
       "      <td>0</td>\n",
       "      <td>0</td>\n",
       "      <td>0</td>\n",
       "      <td>0</td>\n",
       "      <td>0</td>\n",
       "      <td>0</td>\n",
       "    </tr>\n",
       "    <tr>\n",
       "      <th>3</th>\n",
       "      <td>0.727470</td>\n",
       "      <td>2016-12-01 07:18:24</td>\n",
       "      <td>0.640273</td>\n",
       "      <td>109347</td>\n",
       "      <td>0.689701</td>\n",
       "      <td>2002-10-21</td>\n",
       "      <td>3.0</td>\n",
       "      <td>0.676991</td>\n",
       "      <td>62</td>\n",
       "      <td>29</td>\n",
       "      <td>...</td>\n",
       "      <td>1</td>\n",
       "      <td>0</td>\n",
       "      <td>0</td>\n",
       "      <td>1</td>\n",
       "      <td>0</td>\n",
       "      <td>0</td>\n",
       "      <td>0</td>\n",
       "      <td>0</td>\n",
       "      <td>0</td>\n",
       "      <td>0</td>\n",
       "    </tr>\n",
       "    <tr>\n",
       "      <th>4</th>\n",
       "      <td>0.727470</td>\n",
       "      <td>2016-11-29 09:42:52</td>\n",
       "      <td>0.640273</td>\n",
       "      <td>109347</td>\n",
       "      <td>0.580230</td>\n",
       "      <td>2002-10-21</td>\n",
       "      <td>3.0</td>\n",
       "      <td>0.676991</td>\n",
       "      <td>62</td>\n",
       "      <td>29</td>\n",
       "      <td>...</td>\n",
       "      <td>1</td>\n",
       "      <td>1</td>\n",
       "      <td>0</td>\n",
       "      <td>0</td>\n",
       "      <td>0</td>\n",
       "      <td>0</td>\n",
       "      <td>0</td>\n",
       "      <td>0</td>\n",
       "      <td>0</td>\n",
       "      <td>0</td>\n",
       "    </tr>\n",
       "  </tbody>\n",
       "</table>\n",
       "<p>5 rows × 42 columns</p>\n",
       "</div>"
      ],
      "text/plain": [
       "   genre_id            ts_listen  media_id  album_id  context_type  \\\n",
       "0  0.691194  2016-12-01 11:00:15  0.000000     41774      0.699260   \n",
       "1  0.666537  2016-12-01 10:48:50  0.739007    400118      0.758484   \n",
       "2  0.727470  2016-11-30 11:48:22  0.640273    109347      0.689701   \n",
       "3  0.727470  2016-12-01 07:18:24  0.640273    109347      0.689701   \n",
       "4  0.727470  2016-11-29 09:42:52  0.640273    109347      0.580230   \n",
       "\n",
       "  release_date  media_duration   user_id  artist_id  user_age  \\\n",
       "0   2004-07-04             4.0  0.676991      58696        29   \n",
       "1   2009-10-16             7.0  0.676991        593        29   \n",
       "2   2002-10-21             3.0  0.676991         62        29   \n",
       "3   2002-10-21             3.0  0.676991         62        29   \n",
       "4   2002-10-21             3.0  0.676991         62        29   \n",
       "\n",
       "             ...              user_age_group_2.0 ts_listen_DAY_OF_WEEK_1  \\\n",
       "0            ...                               1                       0   \n",
       "1            ...                               1                       0   \n",
       "2            ...                               1                       0   \n",
       "3            ...                               1                       0   \n",
       "4            ...                               1                       1   \n",
       "\n",
       "   ts_listen_DAY_OF_WEEK_2  ts_listen_DAY_OF_WEEK_3  ts_listen_DAY_OF_WEEK_4  \\\n",
       "0                        0                        1                        0   \n",
       "1                        0                        1                        0   \n",
       "2                        1                        0                        0   \n",
       "3                        0                        1                        0   \n",
       "4                        0                        0                        0   \n",
       "\n",
       "   ts_listen_DAY_OF_WEEK_5  ts_listen_DAY_OF_WEEK_6  \\\n",
       "0                        0                        0   \n",
       "1                        0                        0   \n",
       "2                        0                        0   \n",
       "3                        0                        0   \n",
       "4                        0                        0   \n",
       "\n",
       "   ts_listen_PERIOD_OF_DAY_1  ts_listen_PERIOD_OF_DAY_2  \\\n",
       "0                          0                          0   \n",
       "1                          0                          0   \n",
       "2                          0                          0   \n",
       "3                          0                          0   \n",
       "4                          0                          0   \n",
       "\n",
       "   ts_listen_PERIOD_OF_DAY_3  \n",
       "0                          0  \n",
       "1                          0  \n",
       "2                          0  \n",
       "3                          0  \n",
       "4                          0  \n",
       "\n",
       "[5 rows x 42 columns]"
      ]
     },
     "execution_count": 176,
     "metadata": {},
     "output_type": "execute_result"
    }
   ],
   "source": [
    "df_train.head()"
   ]
  },
  {
   "cell_type": "code",
   "execution_count": 177,
   "metadata": {
    "collapsed": false,
    "deletable": true,
    "editable": true
   },
   "outputs": [],
   "source": [
    "#df_train = rank_categorical(df_train, cols_for_rank)"
   ]
  },
  {
   "cell_type": "code",
   "execution_count": 178,
   "metadata": {
    "collapsed": false,
    "deletable": true,
    "editable": true
   },
   "outputs": [
    {
     "data": {
      "text/plain": [
       "array(['genre_id', 'ts_listen', 'media_id', 'album_id', 'context_type',\n",
       "       'release_date', 'media_duration', 'user_id', 'artist_id',\n",
       "       'user_age', 'is_listened', 'text', 'year',\n",
       "       'diff_ts_listen_AND_release_date_D',\n",
       "       'diff_ts_listen_AND_release_date_M',\n",
       "       'diff_ts_listen_AND_release_date_Y', 'release_date_DAY',\n",
       "       'release_date_MONTH', 'release_date_YEAR', 'diff_user_song_age',\n",
       "       'media_decade', 'nmidia_regular_listened',\n",
       "       'nmidia_with_flow_listened', 'nmidia_regular', 'nmidia_with_flow',\n",
       "       'platform_name_1', 'platform_name_2', 'platform_family_1',\n",
       "       'platform_family_2', 'listen_type_0.724121441309', 'user_gender_1',\n",
       "       'user_age_group_1.0', 'user_age_group_2.0',\n",
       "       'ts_listen_DAY_OF_WEEK_1', 'ts_listen_DAY_OF_WEEK_2',\n",
       "       'ts_listen_DAY_OF_WEEK_3', 'ts_listen_DAY_OF_WEEK_4',\n",
       "       'ts_listen_DAY_OF_WEEK_5', 'ts_listen_DAY_OF_WEEK_6',\n",
       "       'ts_listen_PERIOD_OF_DAY_1', 'ts_listen_PERIOD_OF_DAY_2',\n",
       "       'ts_listen_PERIOD_OF_DAY_3'], dtype=object)"
      ]
     },
     "execution_count": 178,
     "metadata": {},
     "output_type": "execute_result"
    }
   ],
   "source": [
    "df_train.columns.values"
   ]
  },
  {
   "cell_type": "code",
   "execution_count": 179,
   "metadata": {
    "collapsed": false,
    "deletable": true,
    "editable": true
   },
   "outputs": [],
   "source": [
    "### Drop\n",
    "to_drop = ['ts_listen', 'album_id', 'release_date', 'artist_id', \"year\", \"text\"]\n",
    "df_train.drop(to_drop, axis = 1,inplace=True)\n",
    "df_test.drop(to_drop, axis = 1,inplace=True)"
   ]
  },
  {
   "cell_type": "code",
   "execution_count": 180,
   "metadata": {
    "collapsed": true,
    "deletable": true,
    "editable": true
   },
   "outputs": [],
   "source": [
    "# to_drop = [\"year\", \"text\"]\n",
    "# df_train.drop(to_drop, axis = 1,inplace=True)"
   ]
  },
  {
   "cell_type": "code",
   "execution_count": 181,
   "metadata": {
    "collapsed": false,
    "deletable": true,
    "editable": true
   },
   "outputs": [
    {
     "data": {
      "text/plain": [
       "['genre_id',\n",
       " 'media_id',\n",
       " 'context_type',\n",
       " 'media_duration',\n",
       " 'user_id',\n",
       " 'user_age',\n",
       " 'diff_ts_listen_AND_release_date_D',\n",
       " 'diff_ts_listen_AND_release_date_M',\n",
       " 'diff_ts_listen_AND_release_date_Y',\n",
       " 'release_date_DAY',\n",
       " 'release_date_MONTH',\n",
       " 'release_date_YEAR',\n",
       " 'diff_user_song_age',\n",
       " 'media_decade',\n",
       " 'nmidia_regular_listened',\n",
       " 'nmidia_with_flow_listened',\n",
       " 'nmidia_regular',\n",
       " 'nmidia_with_flow',\n",
       " 'platform_name_1',\n",
       " 'platform_name_2',\n",
       " 'platform_family_1',\n",
       " 'platform_family_2',\n",
       " 'listen_type_0.724121441309',\n",
       " 'user_gender_1',\n",
       " 'user_age_group_1.0',\n",
       " 'user_age_group_2.0',\n",
       " 'ts_listen_DAY_OF_WEEK_1',\n",
       " 'ts_listen_DAY_OF_WEEK_2',\n",
       " 'ts_listen_DAY_OF_WEEK_3',\n",
       " 'ts_listen_DAY_OF_WEEK_4',\n",
       " 'ts_listen_DAY_OF_WEEK_5',\n",
       " 'ts_listen_DAY_OF_WEEK_6',\n",
       " 'ts_listen_PERIOD_OF_DAY_1',\n",
       " 'ts_listen_PERIOD_OF_DAY_2',\n",
       " 'ts_listen_PERIOD_OF_DAY_3']"
      ]
     },
     "execution_count": 181,
     "metadata": {},
     "output_type": "execute_result"
    }
   ],
   "source": [
    "features = [col for col in df_train.columns.values if col != target]\n",
    "features"
   ]
  },
  {
   "cell_type": "code",
   "execution_count": 182,
   "metadata": {
    "collapsed": true,
    "deletable": true,
    "editable": true
   },
   "outputs": [],
   "source": [
    "from sklearn.model_selection import train_test_split"
   ]
  },
  {
   "cell_type": "code",
   "execution_count": 183,
   "metadata": {
    "collapsed": false,
    "deletable": true,
    "editable": true
   },
   "outputs": [],
   "source": [
    "X_train, X_test, y_train, y_test = train_test_split(df_train[features], df_train[target], test_size = 0.2)"
   ]
  },
  {
   "cell_type": "markdown",
   "metadata": {
    "deletable": true,
    "editable": true
   },
   "source": [
    "### Feature Selection"
   ]
  },
  {
   "cell_type": "code",
   "execution_count": 184,
   "metadata": {
    "collapsed": false,
    "deletable": true,
    "editable": true
   },
   "outputs": [
    {
     "name": "stdout",
     "output_type": "stream",
     "text": [
      "33 selected variables from 35, 94.29%\n",
      "['genre_id', 'media_id', 'context_type', 'media_duration', 'user_id', 'user_age', 'diff_ts_listen_AND_release_date_D', 'diff_ts_listen_AND_release_date_M', 'diff_ts_listen_AND_release_date_Y', 'release_date_MONTH', 'release_date_YEAR', 'diff_user_song_age', 'media_decade', 'nmidia_regular_listened', 'nmidia_with_flow_listened', 'nmidia_regular', 'nmidia_with_flow', 'platform_name_1', 'platform_name_2', 'platform_family_1', 'platform_family_2', 'listen_type_0.724121441309', 'user_gender_1', 'user_age_group_1.0', 'user_age_group_2.0', 'ts_listen_DAY_OF_WEEK_1', 'ts_listen_DAY_OF_WEEK_3', 'ts_listen_DAY_OF_WEEK_4', 'ts_listen_DAY_OF_WEEK_5', 'ts_listen_DAY_OF_WEEK_6', 'ts_listen_PERIOD_OF_DAY_1', 'ts_listen_PERIOD_OF_DAY_2', 'ts_listen_PERIOD_OF_DAY_3']\n"
     ]
    }
   ],
   "source": [
    "from sklearn import feature_selection\n",
    "all_features = features\n",
    "function_rule_selection = feature_selection.f_classif\n",
    "alpha_cutoff = 0.01\n",
    "\n",
    "selection_rule = feature_selection.SelectFdr(function_rule_selection, alpha_cutoff)\n",
    "selection_rule.fit(X_train, y_train);\n",
    "\n",
    "all_pvalues = list(filter(lambda x: pd.notnull(x[0]), zip(selection_rule.pvalues_, all_features)))\n",
    "#print(all_pvalues)\n",
    "filtered_pvalues = list(filter(lambda x: x[0]<=alpha_cutoff, all_pvalues))\n",
    "#print(filtered_pvalues)\n",
    "all_select_features = list(map(lambda x: x[1], filtered_pvalues))\n",
    "\n",
    "print(\"{0} selected variables from {1}, {2:.2f}%\".format(len(all_select_features), \n",
    "                                                        len(all_features), \n",
    "                                                        len(filtered_pvalues)*100/float(len(all_features))))\n",
    "print(all_select_features)\n",
    "#print(filtered_pvalues)"
   ]
  },
  {
   "cell_type": "code",
   "execution_count": 185,
   "metadata": {
    "collapsed": true,
    "deletable": true,
    "editable": true
   },
   "outputs": [],
   "source": [
    "feaures = all_select_features\n",
    "X_train, X_test, y_train, y_test = train_test_split(df_train[features], df_train[target], test_size = 0.2)"
   ]
  },
  {
   "cell_type": "code",
   "execution_count": 186,
   "metadata": {
    "collapsed": true,
    "deletable": true,
    "editable": true
   },
   "outputs": [],
   "source": [
    "from sklearn import metrics\n",
    "from sklearn.metrics import confusion_matrix\n",
    "from sklearn.metrics import accuracy_score\n",
    "import matplotlib.pyplot as plt\n",
    "\n",
    "def complete_report(y_test, y_pred):\n",
    "    print(\"*********************************\")\n",
    "    print(\"Accuracy: {0:.2f}\".format(accuracy_score(y_test, y_pred)))\n",
    "    print(\"Precision: {0}\".format(metrics.precision_score(y_test, y_pred)))\n",
    "    print(\"Recall: {0}\".format(metrics.recall_score(y_test, y_pred)))\n",
    "    print(\"F1-Score: {0}\".format(metrics.f1_score(y_test, y_pred)))\n",
    "    conf_m = confusion_matrix(y_test, y_pred)\n",
    "    print(conf_m)\n",
    "    try: \n",
    "        print(\"Roc Area: {0}\".format(metrics.roc_auc_score(y_test, y_pred))) \n",
    "        roc_curve_label(y_test, y_pred)\n",
    "    except:\n",
    "        print(\"--\")\n",
    "    print(\"*********************************\")\n",
    "    \n",
    "    return metrics.roc_auc_score(y_test, y_pred)\n",
    "        \n",
    "def roc_curve_label(y_test, y_pred):\n",
    "    plt.figsize=(10,6)\n",
    "    fpr, tpr, _ = metrics.roc_curve(y_test, y_pred)\n",
    "    plt.figure(1)\n",
    "    plt.plot([0, 1], [0, 1], 'k--')\n",
    "    plt.plot(fpr, tpr, label='RT + LR')\n",
    "    plt.xlabel('False positive rate')\n",
    "    plt.ylabel('True positive rate')\n",
    "    plt.title('ROC curve')\n",
    "    plt.legend(loc='best')\n",
    "    plt.show()"
   ]
  },
  {
   "cell_type": "code",
   "execution_count": 187,
   "metadata": {
    "collapsed": false,
    "deletable": true,
    "editable": true
   },
   "outputs": [
    {
     "data": {
      "text/plain": [
       "DecisionTreeClassifier(class_weight=None, criterion='gini', max_depth=None,\n",
       "            max_features=None, max_leaf_nodes=None,\n",
       "            min_impurity_split=1e-07, min_samples_leaf=1,\n",
       "            min_samples_split=2, min_weight_fraction_leaf=0.0,\n",
       "            presort=False, random_state=None, splitter='best')"
      ]
     },
     "execution_count": 187,
     "metadata": {},
     "output_type": "execute_result"
    }
   ],
   "source": [
    "from sklearn.tree import DecisionTreeClassifier\n",
    "model = DecisionTreeClassifier()\n",
    "model.fit(X_train, y_train)"
   ]
  },
  {
   "cell_type": "code",
   "execution_count": 188,
   "metadata": {
    "collapsed": false,
    "deletable": true,
    "editable": true
   },
   "outputs": [
    {
     "name": "stdout",
     "output_type": "stream",
     "text": [
      "0.73988293963\n",
      "*********************************\n",
      "Accuracy: 0.74\n",
      "Precision: 0.815328656849\n",
      "Recall: 0.803374764533\n",
      "F1-Score: 0.809307571802\n",
      "[[263803 175517]\n",
      " [189659 774912]]\n",
      "Roc Area: 0.701927526125\n"
     ]
    },
    {
     "data": {
      "image/png": "[encoded data removed]",
      "text/plain": [
       "<matplotlib.figure.Figure at 0x7fe26499b390>"
      ]
     },
     "metadata": {},
     "output_type": "display_data"
    },
    {
     "name": "stdout",
     "output_type": "stream",
     "text": [
      "*********************************\n"
     ]
    },
    {
     "data": {
      "text/plain": [
       "0.70192752612500386"
      ]
     },
     "execution_count": 188,
     "metadata": {},
     "output_type": "execute_result"
    }
   ],
   "source": [
    "print(model.score(X_test, y_test))\n",
    "complete_report(y_test, model.predict(X_test))"
   ]
  },
  {
   "cell_type": "markdown",
   "metadata": {
    "deletable": true,
    "editable": true
   },
   "source": [
    "acc: 0.70345496362865445  \n",
    "roc: 0.6912675674785278"
   ]
  },
  {
   "cell_type": "code",
   "execution_count": 189,
   "metadata": {
    "collapsed": false,
    "deletable": true,
    "editable": true
   },
   "outputs": [],
   "source": [
    "from sklearn.metrics import confusion_matrix"
   ]
  },
  {
   "cell_type": "code",
   "execution_count": 190,
   "metadata": {
    "collapsed": false,
    "deletable": true,
    "editable": true
   },
   "outputs": [
    {
     "data": {
      "text/plain": [
       "array([[263803, 175517],\n",
       "       [189659, 774912]])"
      ]
     },
     "execution_count": 190,
     "metadata": {},
     "output_type": "execute_result"
    }
   ],
   "source": [
    "confusion_matrix(y_test, model.predict(X_test))"
   ]
  },
  {
   "cell_type": "code",
   "execution_count": 191,
   "metadata": {
    "collapsed": false,
    "deletable": true,
    "editable": true
   },
   "outputs": [
    {
     "data": {
      "text/plain": [
       "0.78365485639554633"
      ]
     },
     "execution_count": 191,
     "metadata": {},
     "output_type": "execute_result"
    }
   ],
   "source": [
    "from sklearn.ensemble import RandomForestClassifier\n",
    "\n",
    "model = RandomForestClassifier()\n",
    "model.fit(X_train, y_train)\n",
    "model.score(X_test, y_test)"
   ]
  },
  {
   "cell_type": "code",
   "execution_count": 192,
   "metadata": {
    "collapsed": false,
    "deletable": true,
    "editable": true
   },
   "outputs": [
    {
     "name": "stdout",
     "output_type": "stream",
     "text": [
      "*********************************\n",
      "Accuracy: 0.78\n",
      "Precision: 0.84001691734\n",
      "Recall: 0.846298509908\n",
      "F1-Score: 0.843146014032\n",
      "[[283851 155469]\n",
      " [148256 816315]]\n",
      "Roc Area: 0.746206479756\n"
     ]
    },
    {
     "data": {
      "image/png": "[encoded data removed]",
      "text/plain": [
       "<matplotlib.figure.Figure at 0x7fe2649df6d0>"
      ]
     },
     "metadata": {},
     "output_type": "display_data"
    },
    {
     "name": "stdout",
     "output_type": "stream",
     "text": [
      "*********************************\n"
     ]
    },
    {
     "data": {
      "text/plain": [
       "0.7462064797557233"
      ]
     },
     "execution_count": 192,
     "metadata": {},
     "output_type": "execute_result"
    }
   ],
   "source": [
    "complete_report(y_test, model.predict(X_test))"
   ]
  },
  {
   "cell_type": "code",
   "execution_count": 193,
   "metadata": {
    "collapsed": false,
    "deletable": true,
    "editable": true
   },
   "outputs": [
    {
     "data": {
      "image/png": "[encoded data removed]",
      "text/plain": [
       "<matplotlib.figure.Figure at 0x7fe245cae790>"
      ]
     },
     "metadata": {},
     "output_type": "display_data"
    }
   ],
   "source": [
    "roc_curve_label(y_test, model.predict(X_test))"
   ]
  },
  {
   "cell_type": "code",
   "execution_count": 194,
   "metadata": {
    "collapsed": true,
    "deletable": true,
    "editable": true
   },
   "outputs": [],
   "source": [
    "import gzip\n",
    "import csv\n",
    "import numpy as np\n",
    "\n",
    "def build_kaggle_submission(preds, filename=\"my_submission\"):\n",
    "    \"\"\"\n",
    "    Build a compressed Kaggle Submission\n",
    "    \n",
    "    preds: array with predictions\n",
    "    \"\"\"\n",
    "    with gzip.open(filename + '.csv.gz', 'wt') as outf:\n",
    "        fo = csv.writer(outf, lineterminator='\\n')\n",
    "        fo.writerow([\"sample_id\", \"is_listened\"])       \n",
    "        for i, pred in enumerate(preds):\n",
    "            fo.writerow([i, pred])"
   ]
  },
  {
   "cell_type": "code",
   "execution_count": 195,
   "metadata": {
    "collapsed": true,
    "deletable": true,
    "editable": true
   },
   "outputs": [],
   "source": [
    "p = model.predict_proba(df_test[features])"
   ]
  },
  {
   "cell_type": "code",
   "execution_count": 196,
   "metadata": {
    "collapsed": false,
    "deletable": true,
    "editable": true
   },
   "outputs": [],
   "source": [
    "p = p[:, 1]"
   ]
  },
  {
   "cell_type": "code",
   "execution_count": 197,
   "metadata": {
    "collapsed": false,
    "deletable": true,
    "editable": true
   },
   "outputs": [],
   "source": [
    "build_kaggle_submission(p, \"random_forest_user_feats\")"
   ]
  },
  {
   "cell_type": "code",
   "execution_count": 198,
   "metadata": {
    "collapsed": false,
    "deletable": true,
    "editable": true
   },
   "outputs": [
    {
     "name": "stdout",
     "output_type": "stream",
     "text": [
      "1242.442859\n",
      "3.684862\n",
      "6.4e-05\n"
     ]
    }
   ],
   "source": [
    "import sys\n",
    "print(sys.getsizeof(df_train) / 1e6)\n",
    "print(sys.getsizeof(df_test) / 1e6)\n",
    "print(sys.getsizeof(model) / 1e6)"
   ]
  },
  {
   "cell_type": "markdown",
   "metadata": {
    "collapsed": true,
    "deletable": true,
    "editable": true
   },
   "source": [
    "### GridSearch and XGBoost"
   ]
  },
  {
   "cell_type": "code",
   "execution_count": null,
   "metadata": {
    "collapsed": false,
    "deletable": true,
    "editable": true
   },
   "outputs": [],
   "source": [
    "from keras.models import Sequential\n",
    "from keras.layers.core import Dense, Activation, Reshape\n",
    "from keras.layers.embeddings import Embedding\n",
    "from keras.callbacks import ModelCheckpoint\n",
    "import numpy as np"
   ]
  },
  {
   "cell_type": "code",
   "execution_count": null,
   "metadata": {
    "collapsed": false,
    "deletable": true,
    "editable": true
   },
   "outputs": [],
   "source": [
    "model = Sequential()\n",
    "model.add(Embedding(df_train[\"album_id\"].max(), 64, input_length=10))\n",
    "model.add(Dense(1, activation=\"relu\"))\n",
    "# the model will take as input an integer matrix of size (batch, input_length).\n",
    "# the largest integer (i.e. word index) in the input should be no larger than 999 (vocabulary size).\n",
    "# now model.output_shape == (None, 10, 64), where None is the batch dimension.\n",
    "\n",
    "input_array = np.random.randint(1000, size=(32, 10))\n",
    "print(input_array)\n",
    "model.compile('rmsprop', 'mse')\n",
    "model.fit(input_array, np.array([1]))\n",
    "\n",
    "output_array = model.predict(input_array)\n",
    "#assert output_array.shape == (32, 10, 64)\n",
    "print(output_array)"
   ]
  },
  {
   "cell_type": "code",
   "execution_count": null,
   "metadata": {
    "collapsed": false,
    "deletable": true,
    "editable": true
   },
   "outputs": [],
   "source": [
    "df_train[\"album_id\"].max()"
   ]
  },
  {
   "cell_type": "code",
   "execution_count": null,
   "metadata": {
    "collapsed": false,
    "deletable": true,
    "editable": true
   },
   "outputs": [],
   "source": [
    "output_array"
   ]
  },
  {
   "cell_type": "code",
   "execution_count": null,
   "metadata": {
    "collapsed": true,
    "deletable": true,
    "editable": true
   },
   "outputs": [],
   "source": []
  }
 ],
 "metadata": {
  "kernelspec": {
   "display_name": "Python 2",
   "language": "python",
   "name": "python2"
  },
  "language_info": {
   "codemirror_mode": {
    "name": "ipython",
    "version": 2
   },
   "file_extension": ".py",
   "mimetype": "text/x-python",
   "name": "python",
   "nbconvert_exporter": "python",
   "pygments_lexer": "ipython2",
   "version": "2.7.13"
  }
 },
 "nbformat": 4,
 "nbformat_minor": 2
}
