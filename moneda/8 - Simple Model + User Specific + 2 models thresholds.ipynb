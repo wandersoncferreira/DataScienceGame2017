{
 "cells": [
  {
   "cell_type": "markdown",
   "metadata": {
    "ein.tags": [
     "worksheet-0"
    ],
    "slideshow": {
     "slide_type": "-"
    }
   },
   "source": [
    "### Data Science Game 2017\n",
    "\n",
    "Data fields\n",
    "\n",
    "    media_id - identifiant of the song listened by the user\n",
    "    album_id - identifiant of the album of the song\n",
    "    media_duration - duration of the song\n",
    "    user_gender -  gender of the user\n",
    "    user_id -  anonymized id of the user\n",
    "    context_type - type of content where the song was listened: playlist, album ...\n",
    "    release_date - release date of the song with the format YYYYMMDD\n",
    "    ts_listen - timestamp of the listening in UNIX time\n",
    "    platform_name - type of os\n",
    "    platform_family - type of device\n",
    "    user_age - age of the user\n",
    "    listen_type - if the songs was listened in a flow or not\n",
    "    artist_id - identifiant of the artist of the song\n",
    "    genre_id - identifiant of the genre of the song\n",
    "    is_listened - 1 if the track was listened, 0 otherwise\n"
   ]
  },
  {
   "cell_type": "code",
   "execution_count": 1,
   "metadata": {
    "autoscroll": "json-false",
    "collapsed": false,
    "ein.tags": [
     "worksheet-0"
    ],
    "slideshow": {
     "slide_type": "-"
    }
   },
   "outputs": [],
   "source": [
    "import pandas as pd"
   ]
  },
  {
   "cell_type": "code",
   "execution_count": 0,
   "metadata": {
    "autoscroll": "json-false",
    "collapsed": false,
    "ein.tags": [
     "worksheet-0"
    ],
    "slideshow": {
     "slide_type": "-"
    }
   },
   "outputs": [],
   "source": [
    "df_train = pd.read_csv(\"../data/train_data3.csv\")\n",
    "df_test = pd.read_csv(\"../data/test_data3.csv\")\n",
    "\n",
    "df_train[\"user_id_id\"] = df_train[\"user_id\"]\n",
    "df_test[\"user_id_id\"] = df_test[\"user_id\"]"
   ]
  },
  {
   "cell_type": "markdown",
   "metadata": {
    "ein.tags": [
     "worksheet-0"
    ],
    "slideshow": {
     "slide_type": "-"
    }
   },
   "source": [
    "### Analisando quantidade de registro por usuário"
   ]
  },
  {
   "cell_type": "code",
   "execution_count": 3,
   "metadata": {
    "autoscroll": "json-false",
    "collapsed": false,
    "ein.tags": [
     "worksheet-0"
    ],
    "slideshow": {
     "slide_type": "-"
    }
   },
   "outputs": [
    {
     "data": {
      "text/plain": [
       "count    19918.000000\nmean       379.496787\nstd        508.267045\nmin          1.000000\n25%         66.000000\n50%        197.000000\n75%        495.000000\nmax       6317.000000\nName: user_id, dtype: float64"
      ]
     },
     "execution_count": 3,
     "metadata": {},
     "output_type": "execute_result"
    }
   ],
   "source": [
    "import matplotlib.pyplot as plt\n",
    "import seaborn as sns\n",
    "#plt.style.use(['dark_background'])\n",
    "#plt.style.use('ggplot')\n",
    "register_count = df_train[\"user_id\"].value_counts()\n",
    "register_count.describe()\n",
    "# plt.show()"
   ]
  },
  {
   "cell_type": "code",
   "execution_count": 4,
   "metadata": {
    "autoscroll": "json-false",
    "collapsed": false,
    "ein.tags": [
     "worksheet-0"
    ],
    "slideshow": {
     "slide_type": "-"
    }
   },
   "outputs": [
    {
     "data": {
      "image/png": "[encoded data removed]",
      "text/plain": [
       "<matplotlib.figure.Figure at 0x7f98dcf18990>"
      ]
     },
     "metadata": {},
     "output_type": "display_data"
    },
    {
     "name": "stdout",
     "output_type": "stream",
     "text": [
      "/home/ubuntu/anaconda3/envs/ml/lib/python2.7/site-packages/matplotlib/font_manager.py:1297: UserWarning: findfont: Font family [u'sans-serif'] not found. Falling back to DejaVu Sans\n",
      "  (prop.get_family(), self.defaultFamily[fontext]))\n"
     ]
    },
    {
     "data": {
      "text/plain": [
       "(array([  1.61650000e+04,   2.60900000e+03,   7.13000000e+02,\n          2.60000000e+02,   9.50000000e+01,   3.80000000e+01,\n          2.10000000e+01,   8.00000000e+00,   6.00000000e+00,\n          3.00000000e+00]),\n array([  1.00000000e+00,   6.32600000e+02,   1.26420000e+03,\n          1.89580000e+03,   2.52740000e+03,   3.15900000e+03,\n          3.79060000e+03,   4.42220000e+03,   5.05380000e+03,\n          5.68540000e+03,   6.31700000e+03]),\n <a list of 10 Patch objects>)"
      ]
     },
     "execution_count": 4,
     "metadata": {},
     "output_type": "execute_result"
    }
   ],
   "source": [
    "%matplotlib inline\n",
    "plt.hist(df_train[\"user_id\"].value_counts())"
   ]
  },
  {
   "cell_type": "code",
   "execution_count": 5,
   "metadata": {
    "autoscroll": "json-false",
    "collapsed": false,
    "ein.tags": [
     "worksheet-0"
    ],
    "slideshow": {
     "slide_type": "-"
    }
   },
   "outputs": [
    {
     "name": "stdout",
     "output_type": "stream",
     "text": [
      "252\n",
      "19666\n"
     ]
    }
   ],
   "source": [
    "threshold = 1\n",
    "\n",
    "user_for_general_model = register_count[(register_count <= threshold)].index\n",
    "user_for_specific_model = register_count[(register_count > threshold)].index\n",
    "print(len(user_for_general_model))\n",
    "print(len(user_for_specific_model))"
   ]
  },
  {
   "cell_type": "code",
   "execution_count": 6,
   "metadata": {
    "autoscroll": "json-false",
    "collapsed": false,
    "ein.tags": [
     "worksheet-0"
    ],
    "slideshow": {
     "slide_type": "-"
    }
   },
   "outputs": [
    {
     "data": {
      "text/plain": [
       "Index([u'Unnamed: 0', u'genre_id', u'ts_listen', u'media_id', u'album_id',\n       u'context_type', u'release_date', u'platform_name', u'platform_family',\n       u'media_duration', u'listen_type', u'user_gender', u'user_id',\n       u'artist_id', u'user_age', u'is_listened', u'text', u'year',\n       u'diff_ts_listen_AND_release_date_D',\n       u'diff_ts_listen_AND_release_date_M',\n       u'diff_ts_listen_AND_release_date_Y', u'release_date_DAY',\n       u'release_date_MONTH', u'release_date_YEAR', u'ts_listen_DAY_OF_WEEK',\n       u'ts_listen_PERIOD_OF_DAY', u'user_age_group', u'diff_user_song_age',\n       u'media_decade', u'user_id_id'],\n      dtype='object')"
      ]
     },
     "execution_count": 6,
     "metadata": {},
     "output_type": "execute_result"
    }
   ],
   "source": [
    "### select users for specific\n",
    "df_train = df_train[df_train[\"user_id\"].isin(user_for_specific_model)]\n",
    "df_test = df_test[df_test[\"user_id\"].isin(user_for_specific_model)]\n",
    "df_train.columns"
   ]
  },
  {
   "cell_type": "code",
   "execution_count": 7,
   "metadata": {
    "autoscroll": "json-false",
    "collapsed": false,
    "ein.tags": [
     "worksheet-0"
    ],
    "slideshow": {
     "slide_type": "-"
    }
   },
   "outputs": [
    {
     "data": {
      "text/plain": [
       "   genre_id            ts_listen  media_id  album_id  context_type  \\\n0     25471  2016-12-01 11:00:15    222606     41774            12   \n1     25571  2016-11-30 20:25:35    250467     43941             0   \n2        16  2016-11-19 11:59:13    305197     48078             1   \n3         7  2016-11-26 07:21:38    900502     71521             0   \n4         7  2016-11-05 16:02:54    542335     71718             0   \n\n          release_date  platform_name  platform_family  media_duration  \\\n0  2004-07-04 00:00:00              1                0             4.0   \n1  2006-03-01 00:00:00              2                1             3.0   \n2  2014-07-14 00:00:00              2                1             2.0   \n3  2000-10-30 00:00:00              0                0             4.0   \n4  2008-02-15 00:00:00              0                0             3.0   \n\n   listen_type     ...      diff_ts_listen_AND_release_date_Y  \\\n0            0     ...                              12.419178   \n1            0     ...                              10.758904   \n2            1     ...                               2.353425   \n3            0     ...                              16.084932   \n4            0     ...                               8.728767   \n\n   release_date_DAY  release_date_MONTH  release_date_YEAR  \\\n0                 4                   7               2004   \n1                 1                   3               2006   \n2                14                   7               2014   \n3                30                  10               2000   \n4                15                   2               2008   \n\n   ts_listen_DAY_OF_WEEK ts_listen_PERIOD_OF_DAY  user_age_group  \\\n0                      3                       0               2   \n1                      2                       2               2   \n2                      5                       0               2   \n3                      5                       0               2   \n4                      5                       1               1   \n\n   diff_user_song_age  media_decade  user_id_id  \n0           16.580822             7        9241  \n1           19.241096             7       16547  \n2           26.646575             8        7665  \n3           13.915068             6        1580  \n4           15.271233             7        1812  \n\n[5 rows x 29 columns]",
       "text/html",
       "<div>\n<table border=\"1\" class=\"dataframe\">\n  <thead>\n    <tr style=\"text-align: right;\">\n      <th></th>\n      <th>genre_id</th>\n      <th>ts_listen</th>\n      <th>media_id</th>\n      <th>album_id</th>\n      <th>context_type</th>\n      <th>release_date</th>\n      <th>platform_name</th>\n      <th>platform_family</th>\n      <th>media_duration</th>\n      <th>listen_type</th>\n      <th>...</th>\n      <th>diff_ts_listen_AND_release_date_Y</th>\n      <th>release_date_DAY</th>\n      <th>release_date_MONTH</th>\n      <th>release_date_YEAR</th>\n      <th>ts_listen_DAY_OF_WEEK</th>\n      <th>ts_listen_PERIOD_OF_DAY</th>\n      <th>user_age_group</th>\n      <th>diff_user_song_age</th>\n      <th>media_decade</th>\n      <th>user_id_id</th>\n    </tr>\n  </thead>\n  <tbody>\n    <tr>\n      <th>0</th>\n      <td>25471</td>\n      <td>2016-12-01 11:00:15</td>\n      <td>222606</td>\n      <td>41774</td>\n      <td>12</td>\n      <td>2004-07-04 00:00:00</td>\n      <td>1</td>\n      <td>0</td>\n      <td>4.0</td>\n      <td>0</td>\n      <td>...</td>\n      <td>12.419178</td>\n      <td>4</td>\n      <td>7</td>\n      <td>2004</td>\n      <td>3</td>\n      <td>0</td>\n      <td>2</td>\n      <td>16.580822</td>\n      <td>7</td>\n      <td>9241</td>\n    </tr>\n    <tr>\n      <th>1</th>\n      <td>25571</td>\n      <td>2016-11-30 20:25:35</td>\n      <td>250467</td>\n      <td>43941</td>\n      <td>0</td>\n      <td>2006-03-01 00:00:00</td>\n      <td>2</td>\n      <td>1</td>\n      <td>3.0</td>\n      <td>0</td>\n      <td>...</td>\n      <td>10.758904</td>\n      <td>1</td>\n      <td>3</td>\n      <td>2006</td>\n      <td>2</td>\n      <td>2</td>\n      <td>2</td>\n      <td>19.241096</td>\n      <td>7</td>\n      <td>16547</td>\n    </tr>\n    <tr>\n      <th>2</th>\n      <td>16</td>\n      <td>2016-11-19 11:59:13</td>\n      <td>305197</td>\n      <td>48078</td>\n      <td>1</td>\n      <td>2014-07-14 00:00:00</td>\n      <td>2</td>\n      <td>1</td>\n      <td>2.0</td>\n      <td>1</td>\n      <td>...</td>\n      <td>2.353425</td>\n      <td>14</td>\n      <td>7</td>\n      <td>2014</td>\n      <td>5</td>\n      <td>0</td>\n      <td>2</td>\n      <td>26.646575</td>\n      <td>8</td>\n      <td>7665</td>\n    </tr>\n    <tr>\n      <th>3</th>\n      <td>7</td>\n      <td>2016-11-26 07:21:38</td>\n      <td>900502</td>\n      <td>71521</td>\n      <td>0</td>\n      <td>2000-10-30 00:00:00</td>\n      <td>0</td>\n      <td>0</td>\n      <td>4.0</td>\n      <td>0</td>\n      <td>...</td>\n      <td>16.084932</td>\n      <td>30</td>\n      <td>10</td>\n      <td>2000</td>\n      <td>5</td>\n      <td>0</td>\n      <td>2</td>\n      <td>13.915068</td>\n      <td>6</td>\n      <td>1580</td>\n    </tr>\n    <tr>\n      <th>4</th>\n      <td>7</td>\n      <td>2016-11-05 16:02:54</td>\n      <td>542335</td>\n      <td>71718</td>\n      <td>0</td>\n      <td>2008-02-15 00:00:00</td>\n      <td>0</td>\n      <td>0</td>\n      <td>3.0</td>\n      <td>0</td>\n      <td>...</td>\n      <td>8.728767</td>\n      <td>15</td>\n      <td>2</td>\n      <td>2008</td>\n      <td>5</td>\n      <td>1</td>\n      <td>1</td>\n      <td>15.271233</td>\n      <td>7</td>\n      <td>1812</td>\n    </tr>\n  </tbody>\n</table>\n<p>5 rows × 29 columns</p>\n</div>"
      ]
     },
     "execution_count": 7,
     "metadata": {},
     "output_type": "execute_result"
    }
   ],
   "source": [
    "to_drop = ['Unnamed: 0']\n",
    "df_train.drop(to_drop, axis = 1,inplace=True)\n",
    "df_train.head()"
   ]
  },
  {
   "cell_type": "code",
   "execution_count": 8,
   "metadata": {
    "autoscroll": "json-false",
    "collapsed": false,
    "ein.tags": [
     "worksheet-0"
    ],
    "slideshow": {
     "slide_type": "-"
    }
   },
   "outputs": [
    {
     "data": {
      "text/plain": [
       "   genre_id            ts_listen  media_id  album_id  context_type         release_date  platform_name  platform_family  media_duration  listen_type     ...      diff_ts_listen_AND_release_date_Y  \\\n0     25471  2016-12-01 11:00:15    222606     41774            12  2004-07-04 00:00:00              1                0             4.0            0     ...                              12.419178   \n1     25571  2016-11-30 20:25:35    250467     43941             0  2006-03-01 00:00:00              2                1             3.0            0     ...                              10.758904   \n2        16  2016-11-19 11:59:13    305197     48078             1  2014-07-14 00:00:00              2                1             2.0            1     ...                               2.353425   \n3         7  2016-11-26 07:21:38    900502     71521             0  2000-10-30 00:00:00              0                0             4.0            0     ...                              16.084932   \n4         7  2016-11-05 16:02:54    542335     71718             0  2008-02-15 00:00:00              0                0             3.0            0     ...                               8.728767   \n\n   release_date_DAY  release_date_MONTH  release_date_YEAR  ts_listen_DAY_OF_WEEK ts_listen_PERIOD_OF_DAY  user_age_group  diff_user_song_age  media_decade  user_id_id  \n0                 4                   7               2004                      3                       0               2           16.580822             7        9241  \n1                 1                   3               2006                      2                       2               2           19.241096             7       16547  \n2                14                   7               2014                      5                       0               2           26.646575             8        7665  \n3                30                  10               2000                      5                       0               2           13.915068             6        1580  \n4                15                   2               2008                      5                       1               1           15.271233             7        1812  \n\n[5 rows x 29 columns]",
       "text/html",
       "<div>\n<table border=\"1\" class=\"dataframe\">\n  <thead>\n    <tr style=\"text-align: right;\">\n      <th></th>\n      <th>genre_id</th>\n      <th>ts_listen</th>\n      <th>media_id</th>\n      <th>album_id</th>\n      <th>context_type</th>\n      <th>release_date</th>\n      <th>platform_name</th>\n      <th>platform_family</th>\n      <th>media_duration</th>\n      <th>listen_type</th>\n      <th>...</th>\n      <th>diff_ts_listen_AND_release_date_Y</th>\n      <th>release_date_DAY</th>\n      <th>release_date_MONTH</th>\n      <th>release_date_YEAR</th>\n      <th>ts_listen_DAY_OF_WEEK</th>\n      <th>ts_listen_PERIOD_OF_DAY</th>\n      <th>user_age_group</th>\n      <th>diff_user_song_age</th>\n      <th>media_decade</th>\n      <th>user_id_id</th>\n    </tr>\n  </thead>\n  <tbody>\n    <tr>\n      <th>0</th>\n      <td>25471</td>\n      <td>2016-12-01 11:00:15</td>\n      <td>222606</td>\n      <td>41774</td>\n      <td>12</td>\n      <td>2004-07-04 00:00:00</td>\n      <td>1</td>\n      <td>0</td>\n      <td>4.0</td>\n      <td>0</td>\n      <td>...</td>\n      <td>12.419178</td>\n      <td>4</td>\n      <td>7</td>\n      <td>2004</td>\n      <td>3</td>\n      <td>0</td>\n      <td>2</td>\n      <td>16.580822</td>\n      <td>7</td>\n      <td>9241</td>\n    </tr>\n    <tr>\n      <th>1</th>\n      <td>25571</td>\n      <td>2016-11-30 20:25:35</td>\n      <td>250467</td>\n      <td>43941</td>\n      <td>0</td>\n      <td>2006-03-01 00:00:00</td>\n      <td>2</td>\n      <td>1</td>\n      <td>3.0</td>\n      <td>0</td>\n      <td>...</td>\n      <td>10.758904</td>\n      <td>1</td>\n      <td>3</td>\n      <td>2006</td>\n      <td>2</td>\n      <td>2</td>\n      <td>2</td>\n      <td>19.241096</td>\n      <td>7</td>\n      <td>16547</td>\n    </tr>\n    <tr>\n      <th>2</th>\n      <td>16</td>\n      <td>2016-11-19 11:59:13</td>\n      <td>305197</td>\n      <td>48078</td>\n      <td>1</td>\n      <td>2014-07-14 00:00:00</td>\n      <td>2</td>\n      <td>1</td>\n      <td>2.0</td>\n      <td>1</td>\n      <td>...</td>\n      <td>2.353425</td>\n      <td>14</td>\n      <td>7</td>\n      <td>2014</td>\n      <td>5</td>\n      <td>0</td>\n      <td>2</td>\n      <td>26.646575</td>\n      <td>8</td>\n      <td>7665</td>\n    </tr>\n    <tr>\n      <th>3</th>\n      <td>7</td>\n      <td>2016-11-26 07:21:38</td>\n      <td>900502</td>\n      <td>71521</td>\n      <td>0</td>\n      <td>2000-10-30 00:00:00</td>\n      <td>0</td>\n      <td>0</td>\n      <td>4.0</td>\n      <td>0</td>\n      <td>...</td>\n      <td>16.084932</td>\n      <td>30</td>\n      <td>10</td>\n      <td>2000</td>\n      <td>5</td>\n      <td>0</td>\n      <td>2</td>\n      <td>13.915068</td>\n      <td>6</td>\n      <td>1580</td>\n    </tr>\n    <tr>\n      <th>4</th>\n      <td>7</td>\n      <td>2016-11-05 16:02:54</td>\n      <td>542335</td>\n      <td>71718</td>\n      <td>0</td>\n      <td>2008-02-15 00:00:00</td>\n      <td>0</td>\n      <td>0</td>\n      <td>3.0</td>\n      <td>0</td>\n      <td>...</td>\n      <td>8.728767</td>\n      <td>15</td>\n      <td>2</td>\n      <td>2008</td>\n      <td>5</td>\n      <td>1</td>\n      <td>1</td>\n      <td>15.271233</td>\n      <td>7</td>\n      <td>1812</td>\n    </tr>\n  </tbody>\n</table>\n<p>5 rows × 29 columns</p>\n</div>"
      ]
     },
     "execution_count": 8,
     "metadata": {},
     "output_type": "execute_result"
    }
   ],
   "source": [
    "#pd.set_option('display.height', 1000)\n",
    "#pd.set_option('display.max_rows', 500)\n",
    "#pd.set_option('display.max_columns', 500)\n",
    "pd.set_option('display.width', 200)\n",
    "#pd.set_option(\"precision\", 2)\n",
    "df_train.head()"
   ]
  },
  {
   "cell_type": "code",
   "execution_count": 9,
   "metadata": {
    "autoscroll": "json-false",
    "collapsed": false,
    "ein.tags": [
     "worksheet-0"
    ],
    "slideshow": {
     "slide_type": "-"
    }
   },
   "outputs": [],
   "source": [
    "# pd.isnull(df_train).sum()[pd.isnull(df_train).sum() > 0]"
   ]
  },
  {
   "cell_type": "code",
   "execution_count": 10,
   "metadata": {
    "autoscroll": "json-false",
    "collapsed": false,
    "ein.tags": [
     "worksheet-0"
    ],
    "slideshow": {
     "slide_type": "-"
    }
   },
   "outputs": [],
   "source": [
    "# df_train[df_train[\"release_date_YEAR\"] == 1900][[\"media_id\", \"ts_listen\"]]"
   ]
  },
  {
   "cell_type": "code",
   "execution_count": 11,
   "metadata": {
    "autoscroll": "json-false",
    "collapsed": false,
    "ein.tags": [
     "worksheet-0"
    ],
    "slideshow": {
     "slide_type": "-"
    }
   },
   "outputs": [],
   "source": [
    "# df_train[df_train[\"release_date_YEAR\"] == 1900][[\"media_id\", \"ts_listen\"]]"
   ]
  },
  {
   "cell_type": "markdown",
   "metadata": {
    "ein.tags": [
     "worksheet-0"
    ],
    "slideshow": {
     "slide_type": "-"
    }
   },
   "source": [
    "### Append User Specific"
   ]
  },
  {
   "cell_type": "code",
   "execution_count": 12,
   "metadata": {
    "autoscroll": "json-false",
    "collapsed": false,
    "ein.tags": [
     "worksheet-0"
    ],
    "slideshow": {
     "slide_type": "-"
    }
   },
   "outputs": [
    {
     "data": {
      "text/plain": [
       "array(['user_id', 'nmidia_regular_listened', 'nmidia_with_flow_listened',\n       'nmidia_regular', 'nmidia_with_flow'], dtype=object)"
      ]
     },
     "execution_count": 12,
     "metadata": {},
     "output_type": "execute_result"
    }
   ],
   "source": [
    "df_user = pd.read_csv(\"../data/nmidia_feats.csv\", sep=\";\")\n",
    "# pd.isnull(df_user).sum()[pd.isnull(df_user).sum() > 0]\n",
    "df_user = df_user.drop([\"nmidia_with_flow_listened_PROP\", \"nmidia_regular_listened_PROP\", \"nmidia_PROP_diff\"], axis=1)\n",
    "df_user.columns.values"
   ]
  },
  {
   "cell_type": "code",
   "execution_count": 13,
   "metadata": {
    "autoscroll": "json-false",
    "collapsed": false,
    "ein.tags": [
     "worksheet-0"
    ],
    "slideshow": {
     "slide_type": "-"
    }
   },
   "outputs": [],
   "source": [
    "# x = pd.isnull(df_user).sum()\n",
    "# x[x > 0]"
   ]
  },
  {
   "cell_type": "code",
   "execution_count": 14,
   "metadata": {
    "autoscroll": "json-false",
    "collapsed": false,
    "ein.tags": [
     "worksheet-0"
    ],
    "slideshow": {
     "slide_type": "-"
    }
   },
   "outputs": [
    {
     "data": {
      "text/plain": [
       "   genre_id            ts_listen  media_id  album_id  context_type         release_date  platform_name  platform_family  media_duration  listen_type        ...         ts_listen_DAY_OF_WEEK  \\\n0     25471  2016-12-01 11:00:15    222606     41774            12  2004-07-04 00:00:00              1                0             4.0            0        ...                             3   \n1         7  2016-12-01 10:48:50   4301418    400118             9  2009-10-16 00:00:00              1                0             7.0            0        ...                             3   \n2        10  2016-11-30 11:48:22    983248    109347             0  2002-10-21 00:00:00              1                0             3.0            0        ...                             2   \n3        10  2016-12-01 07:18:24    983248    109347             0  2002-10-21 00:00:00              1                0             3.0            0        ...                             3   \n4        10  2016-11-29 09:42:52    983248    109347             1  2002-10-21 00:00:00              1                0             3.0            1        ...                             1   \n\n   ts_listen_PERIOD_OF_DAY  user_age_group  diff_user_song_age  media_decade user_id_id  nmidia_regular_listened  nmidia_with_flow_listened  nmidia_regular  nmidia_with_flow  \n0                        0               2           16.580822             7       9241                       41                         48              57                71  \n1                        0               2           21.868493             7       9241                       41                         48              57                71  \n2                        0               2           14.879452             7       9241                       41                         48              57                71  \n3                        0               2           14.876712             7       9241                       41                         48              57                71  \n4                        0               2           14.882192             7       9241                       41                         48              57                71  \n\n[5 rows x 33 columns]",
       "text/html",
       "<div>\n<table border=\"1\" class=\"dataframe\">\n  <thead>\n    <tr style=\"text-align: right;\">\n      <th></th>\n      <th>genre_id</th>\n      <th>ts_listen</th>\n      <th>media_id</th>\n      <th>album_id</th>\n      <th>context_type</th>\n      <th>release_date</th>\n      <th>platform_name</th>\n      <th>platform_family</th>\n      <th>media_duration</th>\n      <th>listen_type</th>\n      <th>...</th>\n      <th>ts_listen_DAY_OF_WEEK</th>\n      <th>ts_listen_PERIOD_OF_DAY</th>\n      <th>user_age_group</th>\n      <th>diff_user_song_age</th>\n      <th>media_decade</th>\n      <th>user_id_id</th>\n      <th>nmidia_regular_listened</th>\n      <th>nmidia_with_flow_listened</th>\n      <th>nmidia_regular</th>\n      <th>nmidia_with_flow</th>\n    </tr>\n  </thead>\n  <tbody>\n    <tr>\n      <th>0</th>\n      <td>25471</td>\n      <td>2016-12-01 11:00:15</td>\n      <td>222606</td>\n      <td>41774</td>\n      <td>12</td>\n      <td>2004-07-04 00:00:00</td>\n      <td>1</td>\n      <td>0</td>\n      <td>4.0</td>\n      <td>0</td>\n      <td>...</td>\n      <td>3</td>\n      <td>0</td>\n      <td>2</td>\n      <td>16.580822</td>\n      <td>7</td>\n      <td>9241</td>\n      <td>41</td>\n      <td>48</td>\n      <td>57</td>\n      <td>71</td>\n    </tr>\n    <tr>\n      <th>1</th>\n      <td>7</td>\n      <td>2016-12-01 10:48:50</td>\n      <td>4301418</td>\n      <td>400118</td>\n      <td>9</td>\n      <td>2009-10-16 00:00:00</td>\n      <td>1</td>\n      <td>0</td>\n      <td>7.0</td>\n      <td>0</td>\n      <td>...</td>\n      <td>3</td>\n      <td>0</td>\n      <td>2</td>\n      <td>21.868493</td>\n      <td>7</td>\n      <td>9241</td>\n      <td>41</td>\n      <td>48</td>\n      <td>57</td>\n      <td>71</td>\n    </tr>\n    <tr>\n      <th>2</th>\n      <td>10</td>\n      <td>2016-11-30 11:48:22</td>\n      <td>983248</td>\n      <td>109347</td>\n      <td>0</td>\n      <td>2002-10-21 00:00:00</td>\n      <td>1</td>\n      <td>0</td>\n      <td>3.0</td>\n      <td>0</td>\n      <td>...</td>\n      <td>2</td>\n      <td>0</td>\n      <td>2</td>\n      <td>14.879452</td>\n      <td>7</td>\n      <td>9241</td>\n      <td>41</td>\n      <td>48</td>\n      <td>57</td>\n      <td>71</td>\n    </tr>\n    <tr>\n      <th>3</th>\n      <td>10</td>\n      <td>2016-12-01 07:18:24</td>\n      <td>983248</td>\n      <td>109347</td>\n      <td>0</td>\n      <td>2002-10-21 00:00:00</td>\n      <td>1</td>\n      <td>0</td>\n      <td>3.0</td>\n      <td>0</td>\n      <td>...</td>\n      <td>3</td>\n      <td>0</td>\n      <td>2</td>\n      <td>14.876712</td>\n      <td>7</td>\n      <td>9241</td>\n      <td>41</td>\n      <td>48</td>\n      <td>57</td>\n      <td>71</td>\n    </tr>\n    <tr>\n      <th>4</th>\n      <td>10</td>\n      <td>2016-11-29 09:42:52</td>\n      <td>983248</td>\n      <td>109347</td>\n      <td>1</td>\n      <td>2002-10-21 00:00:00</td>\n      <td>1</td>\n      <td>0</td>\n      <td>3.0</td>\n      <td>1</td>\n      <td>...</td>\n      <td>1</td>\n      <td>0</td>\n      <td>2</td>\n      <td>14.882192</td>\n      <td>7</td>\n      <td>9241</td>\n      <td>41</td>\n      <td>48</td>\n      <td>57</td>\n      <td>71</td>\n    </tr>\n  </tbody>\n</table>\n<p>5 rows × 33 columns</p>\n</div>"
      ]
     },
     "execution_count": 14,
     "metadata": {},
     "output_type": "execute_result"
    }
   ],
   "source": [
    "df_train = pd.merge(df_train, df_user, on=\"user_id\")\n",
    "df_test = pd.merge(df_test, df_user, on=\"user_id\")\n",
    "df_train.head()"
   ]
  },
  {
   "cell_type": "code",
   "execution_count": 0,
   "metadata": {
    "autoscroll": "json-false",
    "collapsed": false,
    "ein.tags": [
     "worksheet-0"
    ],
    "slideshow": {
     "slide_type": "-"
    }
   },
   "outputs": [],
   "source": []
  },
  {
   "cell_type": "code",
   "execution_count": 0,
   "metadata": {
    "autoscroll": "json-false",
    "collapsed": false,
    "ein.tags": [
     "worksheet-0"
    ],
    "slideshow": {
     "slide_type": "-"
    }
   },
   "outputs": [],
   "source": []
  },
  {
   "cell_type": "markdown",
   "metadata": {
    "ein.tags": [
     "worksheet-0"
    ],
    "slideshow": {
     "slide_type": "-"
    }
   },
   "source": [
    "### Check for NA\n",
    "#### Ver depois sobre o user_age_group!"
   ]
  },
  {
   "cell_type": "code",
   "execution_count": 15,
   "metadata": {
    "autoscroll": "json-false",
    "collapsed": false,
    "ein.tags": [
     "worksheet-0"
    ],
    "slideshow": {
     "slide_type": "-"
    }
   },
   "outputs": [],
   "source": [
    "# x = pd.isnull(df_train).sum()\n",
    "# x[x > 0]"
   ]
  },
  {
   "cell_type": "code",
   "execution_count": 16,
   "metadata": {
    "autoscroll": "json-false",
    "collapsed": false,
    "ein.tags": [
     "worksheet-0"
    ],
    "slideshow": {
     "slide_type": "-"
    }
   },
   "outputs": [],
   "source": [
    "# df_train.dropna(inplace=True)"
   ]
  },
  {
   "cell_type": "code",
   "execution_count": 17,
   "metadata": {
    "autoscroll": "json-false",
    "collapsed": false,
    "ein.tags": [
     "worksheet-0"
    ],
    "slideshow": {
     "slide_type": "-"
    }
   },
   "outputs": [],
   "source": [
    "# x = pd.isnull(df_train).sum()\n",
    "# x[x > 0]\n",
    "# del x"
   ]
  },
  {
   "cell_type": "code",
   "execution_count": 18,
   "metadata": {
    "autoscroll": "json-false",
    "collapsed": false,
    "ein.tags": [
     "worksheet-0"
    ],
    "slideshow": {
     "slide_type": "-"
    }
   },
   "outputs": [],
   "source": [
    "y = df_train[\"is_listened\"].values"
   ]
  },
  {
   "cell_type": "code",
   "execution_count": 19,
   "metadata": {
    "autoscroll": "json-false",
    "collapsed": false,
    "ein.tags": [
     "worksheet-0"
    ],
    "slideshow": {
     "slide_type": "-"
    }
   },
   "outputs": [],
   "source": [
    "categorical_cols = [\"genre_id\",\n",
    "                   \"media_id\",\n",
    "                   \"album_id\",\n",
    "                   \"context_type\",\n",
    "                   \"release_date\",\n",
    "                   \"platform_name\",\n",
    "                   \"platform_family\",\n",
    "                   \"listen_type\",\n",
    "                   \"user_gender\",\n",
    "                   \"user_id\",\n",
    "                   \"artist_id\",\n",
    "                   \"user_age\"]"
   ]
  },
  {
   "cell_type": "markdown",
   "metadata": {
    "ein.tags": [
     "worksheet-0"
    ],
    "slideshow": {
     "slide_type": "-"
    }
   },
   "source": [
    "### Let's inspect the categorical variables!"
   ]
  },
  {
   "cell_type": "code",
   "execution_count": 20,
   "metadata": {
    "autoscroll": "json-false",
    "collapsed": false,
    "ein.tags": [
     "worksheet-0"
    ],
    "slideshow": {
     "slide_type": "-"
    }
   },
   "outputs": [
    {
     "name": "stdout",
     "output_type": "stream",
     "text": [
      "genre_id: 2922\n",
      "media_id: 452947\n",
      "album_id: 151454\n",
      "context_type: 74\n",
      "release_date: 8901\n",
      "platform_name: 3\n",
      "platform_family: 3\n",
      "listen_type: 2\n",
      "user_gender: 2\n",
      "user_id: 19666\n",
      "artist_id: 67128\n",
      "user_age: 13\n"
     ]
    }
   ],
   "source": [
    "for col in categorical_cols:\n",
    "    print(\"{}: {}\".format(col, len(df_train[col].unique())))"
   ]
  },
  {
   "cell_type": "markdown",
   "metadata": {
    "ein.tags": [
     "worksheet-0"
    ],
    "slideshow": {
     "slide_type": "-"
    }
   },
   "source": [
    "### Strategy\n",
    "1. Apply onehot to categorical with few classes\n",
    "2. Rank categories to artist id\n",
    "3. target encoder for context and genre\n",
    "4. discard media, album, release date and user_id"
   ]
  },
  {
   "cell_type": "code",
   "execution_count": 21,
   "metadata": {
    "autoscroll": "json-false",
    "collapsed": false,
    "ein.tags": [
     "worksheet-0"
    ],
    "slideshow": {
     "slide_type": "-"
    }
   },
   "outputs": [],
   "source": [
    "from greenpyce.feature_engineering import TargetEncoder\n",
    "from greenpyce.feature_engineering import onehot\n",
    "from greenpyce.feature_engineering import RankCategorical\n",
    "from greenpyce.feature_engineering import LabelCount"
   ]
  },
  {
   "cell_type": "code",
   "execution_count": 22,
   "metadata": {
    "autoscroll": "json-false",
    "collapsed": false,
    "ein.tags": [
     "worksheet-0"
    ],
    "slideshow": {
     "slide_type": "-"
    }
   },
   "outputs": [
    {
     "data": {
      "text/plain": [
       "array(['genre_id', 'ts_listen', 'media_id', 'album_id', 'context_type',\n       'release_date', 'platform_name', 'platform_family',\n       'media_duration', 'listen_type', 'user_gender', 'user_id',\n       'artist_id', 'user_age', 'is_listened', 'text', 'year',\n       'diff_ts_listen_AND_release_date_D',\n       'diff_ts_listen_AND_release_date_M',\n       'diff_ts_listen_AND_release_date_Y', 'release_date_DAY',\n       'release_date_MONTH', 'release_date_YEAR', 'ts_listen_DAY_OF_WEEK',\n       'ts_listen_PERIOD_OF_DAY', 'user_age_group', 'diff_user_song_age',\n       'media_decade', 'user_id_id', 'nmidia_regular_listened',\n       'nmidia_with_flow_listened', 'nmidia_regular', 'nmidia_with_flow'], dtype=object)"
      ]
     },
     "execution_count": 22,
     "metadata": {},
     "output_type": "execute_result"
    }
   ],
   "source": [
    "df_train.columns.values"
   ]
  },
  {
   "cell_type": "markdown",
   "metadata": {
    "ein.tags": [
     "worksheet-0"
    ],
    "slideshow": {
     "slide_type": "-"
    }
   },
   "source": [
    "Index([u'Unnamed: 0', u'Unnamed: 0.1', u'genre_id', u'ts_listen', u'media_id',\n",
    "       u'album_id', u'context_type', u'release_date', u'platform_name',\n",
    "       u'platform_family', u'media_duration', u'listen_type', u'user_gender',\n",
    "       u'user_id', u'artist_id', u'user_age', u'is_listened', u'text', u'year',\n",
    "       u'diff_ts_listen_AND_release_date_D',\n",
    "       u'diff_ts_listen_AND_release_date_M',\n",
    "       u'diff_ts_listen_AND_release_date_Y', u'release_date_DAY',\n",
    "       u'release_date_MONTH', u'release_date_YEAR', u'ts_listen_DAY_OF_WEEK',\n",
    "       u'ts_listen_PERIOD_OF_DAY', u'user_age_group', u'diff_user_song_age',\n",
    "       u'media_decade'],\n",
    "      dtype='object')"
   ]
  },
  {
   "cell_type": "code",
   "execution_count": 23,
   "metadata": {
    "autoscroll": "json-false",
    "collapsed": false,
    "ein.tags": [
     "worksheet-0"
    ],
    "slideshow": {
     "slide_type": "-"
    }
   },
   "outputs": [],
   "source": [
    "cols_for_target_encoder = [\"genre_id\", \n",
    "                           \"context_type\", \n",
    "                           \"user_id\", \n",
    "                           \"media_id\", \n",
    "                           \"listen_type\"]\n",
    "\n",
    "cols_for_onehot = [\"platform_name\", \n",
    "                   \"platform_family\", \n",
    "#                   \"listen_type\", \n",
    "                   \"user_gender\", \n",
    "                   \"user_age_group\", \n",
    "                   \"ts_listen_DAY_OF_WEEK\",\n",
    "                  \"ts_listen_PERIOD_OF_DAY\"]\n",
    "\n",
    "cols_for_rank = [\"artist_id\"]\n",
    "                #\"media_decade\"]\n",
    "\n",
    "\n",
    "target = \"is_listened\""
   ]
  },
  {
   "cell_type": "code",
   "execution_count": 0,
   "metadata": {
    "autoscroll": "json-false",
    "collapsed": false,
    "ein.tags": [
     "worksheet-0"
    ],
    "slideshow": {
     "slide_type": "-"
    }
   },
   "outputs": [],
   "source": []
  },
  {
   "cell_type": "code",
   "execution_count": 24,
   "metadata": {
    "autoscroll": "json-false",
    "collapsed": false,
    "ein.tags": [
     "worksheet-0"
    ],
    "slideshow": {
     "slide_type": "-"
    }
   },
   "outputs": [],
   "source": [
    "te = TargetEncoder(cols_for_target_encoder, \"is_listened\")"
   ]
  },
  {
   "cell_type": "code",
   "execution_count": 25,
   "metadata": {
    "autoscroll": "json-false",
    "collapsed": false,
    "ein.tags": [
     "worksheet-0"
    ],
    "slideshow": {
     "slide_type": "-"
    }
   },
   "outputs": [],
   "source": [
    "te.fit(df_train)"
   ]
  },
  {
   "cell_type": "code",
   "execution_count": 26,
   "metadata": {
    "autoscroll": "json-false",
    "collapsed": false,
    "ein.tags": [
     "worksheet-0"
    ],
    "slideshow": {
     "slide_type": "-"
    }
   },
   "outputs": [],
   "source": [
    "te.transform(df_train)\n",
    "te.transform(df_test)\n",
    "del te"
   ]
  },
  {
   "cell_type": "code",
   "execution_count": 27,
   "metadata": {
    "autoscroll": "json-false",
    "collapsed": false,
    "ein.tags": [
     "worksheet-0"
    ],
    "slideshow": {
     "slide_type": "-"
    }
   },
   "outputs": [
    {
     "name": "stdout",
     "output_type": "stream",
     "text": [
      "das\n"
     ]
    }
   ],
   "source": [
    "print(\"das\")"
   ]
  },
  {
   "cell_type": "code",
   "execution_count": 28,
   "metadata": {
    "autoscroll": "json-false",
    "collapsed": false,
    "ein.tags": [
     "worksheet-0"
    ],
    "slideshow": {
     "slide_type": "-"
    }
   },
   "outputs": [
    {
     "name": "stdout",
     "output_type": "stream",
     "text": [
      "teste\n"
     ]
    }
   ],
   "source": [
    "print(\"teste\")"
   ]
  },
  {
   "cell_type": "code",
   "execution_count": 29,
   "metadata": {
    "autoscroll": "json-false",
    "collapsed": false,
    "ein.tags": [
     "worksheet-0"
    ],
    "slideshow": {
     "slide_type": "-"
    }
   },
   "outputs": [],
   "source": [
    "rc = RankCategorical(cols_for_rank)\n",
    "rc.fit(df_train)\n",
    "rc.transform(df_train)\n",
    "rc.transform(df_test)\n",
    "del rc"
   ]
  },
  {
   "cell_type": "code",
   "execution_count": 30,
   "metadata": {
    "autoscroll": "json-false",
    "collapsed": false,
    "ein.tags": [
     "worksheet-0"
    ],
    "slideshow": {
     "slide_type": "-"
    }
   },
   "outputs": [],
   "source": [
    "rc = RankCategorical([\"media_decade\"])\n",
    "rc.fit(df_train)\n",
    "rc.transform(df_train)\n",
    "rc.transform(df_test)\n",
    "del rc"
   ]
  },
  {
   "cell_type": "code",
   "execution_count": 31,
   "metadata": {
    "autoscroll": "json-false",
    "collapsed": false,
    "ein.tags": [
     "worksheet-0"
    ],
    "slideshow": {
     "slide_type": "-"
    }
   },
   "outputs": [],
   "source": [
    "# lc = RankCategorical(cols_for_count)\n",
    "# lc.fit(df_train)\n",
    "# lc.transform(df_train)\n",
    "# lc.transform(df_test)"
   ]
  },
  {
   "cell_type": "code",
   "execution_count": 32,
   "metadata": {
    "autoscroll": "json-false",
    "collapsed": false,
    "ein.tags": [
     "worksheet-0"
    ],
    "slideshow": {
     "slide_type": "-"
    }
   },
   "outputs": [
    {
     "data": {
      "text/plain": [
       "   genre_id            ts_listen  media_id  album_id  context_type         release_date  platform_name  platform_family  media_duration  listen_type        ...         ts_listen_DAY_OF_WEEK  \\\n0  0.688147  2016-12-01 11:00:15  0.000000     41774      0.695605  2004-07-04 00:00:00              1                0             4.0     0.721117        ...                             3   \n1  0.663153  2016-12-01 10:48:50  0.736878    400118      0.758072  2009-10-16 00:00:00              1                0             7.0     0.721117        ...                             3   \n2  0.724498  2016-11-30 11:48:22  0.631609    109347      0.688533  2002-10-21 00:00:00              1                0             3.0     0.721117        ...                             2   \n3  0.724498  2016-12-01 07:18:24  0.631609    109347      0.688533  2002-10-21 00:00:00              1                0             3.0     0.721117        ...                             3   \n4  0.724498  2016-11-29 09:42:52  0.631609    109347      0.573602  2002-10-21 00:00:00              1                0             3.0     0.600280        ...                             1   \n\n   ts_listen_PERIOD_OF_DAY  user_age_group  diff_user_song_age  media_decade user_id_id  nmidia_regular_listened  nmidia_with_flow_listened  nmidia_regular  nmidia_with_flow  \n0                        0               2           16.580822             2       9241                       41                         48              57                71  \n1                        0               2           21.868493             2       9241                       41                         48              57                71  \n2                        0               2           14.879452             2       9241                       41                         48              57                71  \n3                        0               2           14.876712             2       9241                       41                         48              57                71  \n4                        0               2           14.882192             2       9241                       41                         48              57                71  \n\n[5 rows x 33 columns]",
       "text/html",
       "<div>\n<table border=\"1\" class=\"dataframe\">\n  <thead>\n    <tr style=\"text-align: right;\">\n      <th></th>\n      <th>genre_id</th>\n      <th>ts_listen</th>\n      <th>media_id</th>\n      <th>album_id</th>\n      <th>context_type</th>\n      <th>release_date</th>\n      <th>platform_name</th>\n      <th>platform_family</th>\n      <th>media_duration</th>\n      <th>listen_type</th>\n      <th>...</th>\n      <th>ts_listen_DAY_OF_WEEK</th>\n      <th>ts_listen_PERIOD_OF_DAY</th>\n      <th>user_age_group</th>\n      <th>diff_user_song_age</th>\n      <th>media_decade</th>\n      <th>user_id_id</th>\n      <th>nmidia_regular_listened</th>\n      <th>nmidia_with_flow_listened</th>\n      <th>nmidia_regular</th>\n      <th>nmidia_with_flow</th>\n    </tr>\n  </thead>\n  <tbody>\n    <tr>\n      <th>0</th>\n      <td>0.688147</td>\n      <td>2016-12-01 11:00:15</td>\n      <td>0.000000</td>\n      <td>41774</td>\n      <td>0.695605</td>\n      <td>2004-07-04 00:00:00</td>\n      <td>1</td>\n      <td>0</td>\n      <td>4.0</td>\n      <td>0.721117</td>\n      <td>...</td>\n      <td>3</td>\n      <td>0</td>\n      <td>2</td>\n      <td>16.580822</td>\n      <td>2</td>\n      <td>9241</td>\n      <td>41</td>\n      <td>48</td>\n      <td>57</td>\n      <td>71</td>\n    </tr>\n    <tr>\n      <th>1</th>\n      <td>0.663153</td>\n      <td>2016-12-01 10:48:50</td>\n      <td>0.736878</td>\n      <td>400118</td>\n      <td>0.758072</td>\n      <td>2009-10-16 00:00:00</td>\n      <td>1</td>\n      <td>0</td>\n      <td>7.0</td>\n      <td>0.721117</td>\n      <td>...</td>\n      <td>3</td>\n      <td>0</td>\n      <td>2</td>\n      <td>21.868493</td>\n      <td>2</td>\n      <td>9241</td>\n      <td>41</td>\n      <td>48</td>\n      <td>57</td>\n      <td>71</td>\n    </tr>\n    <tr>\n      <th>2</th>\n      <td>0.724498</td>\n      <td>2016-11-30 11:48:22</td>\n      <td>0.631609</td>\n      <td>109347</td>\n      <td>0.688533</td>\n      <td>2002-10-21 00:00:00</td>\n      <td>1</td>\n      <td>0</td>\n      <td>3.0</td>\n      <td>0.721117</td>\n      <td>...</td>\n      <td>2</td>\n      <td>0</td>\n      <td>2</td>\n      <td>14.879452</td>\n      <td>2</td>\n      <td>9241</td>\n      <td>41</td>\n      <td>48</td>\n      <td>57</td>\n      <td>71</td>\n    </tr>\n    <tr>\n      <th>3</th>\n      <td>0.724498</td>\n      <td>2016-12-01 07:18:24</td>\n      <td>0.631609</td>\n      <td>109347</td>\n      <td>0.688533</td>\n      <td>2002-10-21 00:00:00</td>\n      <td>1</td>\n      <td>0</td>\n      <td>3.0</td>\n      <td>0.721117</td>\n      <td>...</td>\n      <td>3</td>\n      <td>0</td>\n      <td>2</td>\n      <td>14.876712</td>\n      <td>2</td>\n      <td>9241</td>\n      <td>41</td>\n      <td>48</td>\n      <td>57</td>\n      <td>71</td>\n    </tr>\n    <tr>\n      <th>4</th>\n      <td>0.724498</td>\n      <td>2016-11-29 09:42:52</td>\n      <td>0.631609</td>\n      <td>109347</td>\n      <td>0.573602</td>\n      <td>2002-10-21 00:00:00</td>\n      <td>1</td>\n      <td>0</td>\n      <td>3.0</td>\n      <td>0.600280</td>\n      <td>...</td>\n      <td>1</td>\n      <td>0</td>\n      <td>2</td>\n      <td>14.882192</td>\n      <td>2</td>\n      <td>9241</td>\n      <td>41</td>\n      <td>48</td>\n      <td>57</td>\n      <td>71</td>\n    </tr>\n  </tbody>\n</table>\n<p>5 rows × 33 columns</p>\n</div>"
      ]
     },
     "execution_count": 32,
     "metadata": {},
     "output_type": "execute_result"
    }
   ],
   "source": [
    "df_train.head()"
   ]
  },
  {
   "cell_type": "code",
   "execution_count": 33,
   "metadata": {
    "autoscroll": "json-false",
    "collapsed": false,
    "ein.tags": [
     "worksheet-0"
    ],
    "slideshow": {
     "slide_type": "-"
    }
   },
   "outputs": [],
   "source": [
    "df_train = onehot(df_train, cols_for_onehot)\n",
    "df_test = onehot(df_test, cols_for_onehot)"
   ]
  },
  {
   "cell_type": "code",
   "execution_count": 34,
   "metadata": {
    "autoscroll": "json-false",
    "collapsed": false,
    "ein.tags": [
     "worksheet-0"
    ],
    "slideshow": {
     "slide_type": "-"
    }
   },
   "outputs": [
    {
     "name": "stdout",
     "output_type": "stream",
     "text": [
      "   genre_id            ts_listen  media_id  album_id  context_type         release_date  media_duration  listen_type   user_id  artist_id            ...              user_age_group_2  \\\n",
      "0  0.688147  2016-12-01 11:00:15  0.000000     41774      0.695605  2004-07-04 00:00:00             4.0     0.721117  0.676991      58019            ...                             1   \n",
      "1  0.663153  2016-12-01 10:48:50  0.736878    400118      0.758072  2009-10-16 00:00:00             7.0     0.721117  0.676991        599            ...                             1   \n",
      "2  0.724498  2016-11-30 11:48:22  0.631609    109347      0.688533  2002-10-21 00:00:00             3.0     0.721117  0.676991         66            ...                             1   \n",
      "3  0.724498  2016-12-01 07:18:24  0.631609    109347      0.688533  2002-10-21 00:00:00             3.0     0.721117  0.676991         66            ...                             1   \n",
      "4  0.724498  2016-11-29 09:42:52  0.631609    109347      0.573602  2002-10-21 00:00:00             3.0     0.600280  0.676991         66            ...                             1   \n",
      "\n",
      "   ts_listen_DAY_OF_WEEK_1 ts_listen_DAY_OF_WEEK_2  ts_listen_DAY_OF_WEEK_3  ts_listen_DAY_OF_WEEK_4  ts_listen_DAY_OF_WEEK_5  ts_listen_DAY_OF_WEEK_6  ts_listen_PERIOD_OF_DAY_1  \\\n",
      "0                        0                       0                        1                        0                        0                        0                          0   \n",
      "1                        0                       0                        1                        0                        0                        0                          0   \n",
      "2                        0                       1                        0                        0                        0                        0                          0   \n",
      "3                        0                       0                        1                        0                        0                        0                          0   \n",
      "4                        1                       0                        0                        0                        0                        0                          0   \n",
      "\n",
      "   ts_listen_PERIOD_OF_DAY_2  ts_listen_PERIOD_OF_DAY_3  \n",
      "0                          0                          0  \n",
      "1                          0                          0  \n",
      "2                          0                          0  \n",
      "3                          0                          0  \n",
      "4                          0                          0  \n",
      "\n",
      "[5 rows x 43 columns]\n"
     ]
    }
   ],
   "source": [
    "print(df_train.head())"
   ]
  },
  {
   "cell_type": "code",
   "execution_count": 35,
   "metadata": {
    "autoscroll": "json-false",
    "collapsed": false,
    "ein.tags": [
     "worksheet-0"
    ],
    "slideshow": {
     "slide_type": "-"
    }
   },
   "outputs": [],
   "source": [
    "#df_train = rank_categorical(df_train, cols_for_rank)"
   ]
  },
  {
   "cell_type": "code",
   "execution_count": 36,
   "metadata": {
    "autoscroll": "json-false",
    "collapsed": false,
    "ein.tags": [
     "worksheet-0"
    ],
    "slideshow": {
     "slide_type": "-"
    }
   },
   "outputs": [
    {
     "data": {
      "text/plain": [
       "array(['genre_id', 'ts_listen', 'media_id', 'album_id', 'context_type',\n       'release_date', 'media_duration', 'listen_type', 'user_id',\n       'artist_id', 'user_age', 'is_listened', 'text', 'year',\n       'diff_ts_listen_AND_release_date_D',\n       'diff_ts_listen_AND_release_date_M',\n       'diff_ts_listen_AND_release_date_Y', 'release_date_DAY',\n       'release_date_MONTH', 'release_date_YEAR', 'diff_user_song_age',\n       'media_decade', 'user_id_id', 'nmidia_regular_listened',\n       'nmidia_with_flow_listened', 'nmidia_regular', 'nmidia_with_flow',\n       'platform_name_1', 'platform_name_2', 'platform_family_1',\n       'platform_family_2', 'user_gender_1', 'user_age_group_1',\n       'user_age_group_2', 'ts_listen_DAY_OF_WEEK_1',\n       'ts_listen_DAY_OF_WEEK_2', 'ts_listen_DAY_OF_WEEK_3',\n       'ts_listen_DAY_OF_WEEK_4', 'ts_listen_DAY_OF_WEEK_5',\n       'ts_listen_DAY_OF_WEEK_6', 'ts_listen_PERIOD_OF_DAY_1',\n       'ts_listen_PERIOD_OF_DAY_2', 'ts_listen_PERIOD_OF_DAY_3'], dtype=object)"
      ]
     },
     "execution_count": 36,
     "metadata": {},
     "output_type": "execute_result"
    }
   ],
   "source": [
    "df_train.columns.values"
   ]
  },
  {
   "cell_type": "code",
   "execution_count": 37,
   "metadata": {
    "autoscroll": "json-false",
    "collapsed": false,
    "ein.tags": [
     "worksheet-0"
    ],
    "slideshow": {
     "slide_type": "-"
    }
   },
   "outputs": [],
   "source": [
    "%timeit\n",
    "### Drop\n",
    "to_drop = ['ts_listen', 'album_id', 'release_date', 'artist_id', \"year\", \"text\", 'release_date_DAY', 'release_date_MONTH']#, \"nmidia_with_flow_listened_PROP\", \"nmidia_PROP_diff\", \"nmidia_regular_listened_PROP\"]\n",
    "df_train.drop(to_drop, axis = 1,inplace=True)\n",
    "df_test.drop(to_drop, axis = 1,inplace=True)"
   ]
  },
  {
   "cell_type": "code",
   "execution_count": 38,
   "metadata": {
    "autoscroll": "json-false",
    "collapsed": false,
    "ein.tags": [
     "worksheet-0"
    ],
    "slideshow": {
     "slide_type": "-"
    }
   },
   "outputs": [],
   "source": [
    "# to_drop = [\"year\", \"text\"]\n",
    "# df_train.drop(to_drop, axis = 1,inplace=True)"
   ]
  },
  {
   "cell_type": "code",
   "execution_count": 39,
   "metadata": {
    "autoscroll": "json-false",
    "collapsed": false,
    "ein.tags": [
     "worksheet-0"
    ],
    "slideshow": {
     "slide_type": "-"
    }
   },
   "outputs": [
    {
     "data": {
      "text/plain": [
       "['genre_id',\n 'media_id',\n 'context_type',\n 'media_duration',\n 'listen_type',\n 'user_id',\n 'user_age',\n 'diff_ts_listen_AND_release_date_D',\n 'diff_ts_listen_AND_release_date_M',\n 'diff_ts_listen_AND_release_date_Y',\n 'release_date_YEAR',\n 'diff_user_song_age',\n 'media_decade',\n 'user_id_id',\n 'nmidia_regular_listened',\n 'nmidia_with_flow_listened',\n 'nmidia_regular',\n 'nmidia_with_flow',\n 'platform_name_1',\n 'platform_name_2',\n 'platform_family_1',\n 'platform_family_2',\n 'user_gender_1',\n 'user_age_group_1',\n 'user_age_group_2',\n 'ts_listen_DAY_OF_WEEK_1',\n 'ts_listen_DAY_OF_WEEK_2',\n 'ts_listen_DAY_OF_WEEK_3',\n 'ts_listen_DAY_OF_WEEK_4',\n 'ts_listen_DAY_OF_WEEK_5',\n 'ts_listen_DAY_OF_WEEK_6',\n 'ts_listen_PERIOD_OF_DAY_1',\n 'ts_listen_PERIOD_OF_DAY_2',\n 'ts_listen_PERIOD_OF_DAY_3']"
      ]
     },
     "execution_count": 39,
     "metadata": {},
     "output_type": "execute_result"
    }
   ],
   "source": [
    "features = [col for col in df_train.columns.values if col != target]\n",
    "features"
   ]
  },
  {
   "cell_type": "code",
   "execution_count": 40,
   "metadata": {
    "autoscroll": "json-false",
    "collapsed": false,
    "ein.tags": [
     "worksheet-0"
    ],
    "slideshow": {
     "slide_type": "-"
    }
   },
   "outputs": [],
   "source": [
    "from sklearn.model_selection import train_test_split"
   ]
  },
  {
   "cell_type": "code",
   "execution_count": 41,
   "metadata": {
    "autoscroll": "json-false",
    "collapsed": false,
    "ein.tags": [
     "worksheet-0"
    ],
    "slideshow": {
     "slide_type": "-"
    }
   },
   "outputs": [],
   "source": [
    "X_train, X_test, y_train, y_test = train_test_split(df_train[features], df_train[target], test_size = 0.2)"
   ]
  },
  {
   "cell_type": "markdown",
   "metadata": {
    "ein.tags": [
     "worksheet-0"
    ],
    "slideshow": {
     "slide_type": "-"
    }
   },
   "source": [
    "### Feature Selection"
   ]
  },
  {
   "cell_type": "code",
   "execution_count": 42,
   "metadata": {
    "autoscroll": "json-false",
    "collapsed": false,
    "ein.tags": [
     "worksheet-0"
    ],
    "slideshow": {
     "slide_type": "-"
    }
   },
   "outputs": [
    {
     "name": "stdout",
     "output_type": "stream",
     "text": [
      "32 selected variables from 34, 94.12%\n",
      "['genre_id', 'media_id', 'context_type', 'media_duration', 'listen_type', 'user_id', 'user_age', 'diff_ts_listen_AND_release_date_D', 'diff_ts_listen_AND_release_date_M', 'diff_ts_listen_AND_release_date_Y', 'release_date_YEAR', 'diff_user_song_age', 'media_decade', 'user_id_id', 'nmidia_regular_listened', 'nmidia_with_flow_listened', 'nmidia_regular', 'nmidia_with_flow', 'platform_name_1', 'platform_name_2', 'platform_family_1', 'platform_family_2', 'user_gender_1', 'user_age_group_1', 'user_age_group_2', 'ts_listen_DAY_OF_WEEK_1', 'ts_listen_DAY_OF_WEEK_4', 'ts_listen_DAY_OF_WEEK_5', 'ts_listen_DAY_OF_WEEK_6', 'ts_listen_PERIOD_OF_DAY_1', 'ts_listen_PERIOD_OF_DAY_2', 'ts_listen_PERIOD_OF_DAY_3']\n"
     ]
    }
   ],
   "source": [
    "from sklearn import feature_selection\n",
    "all_features = features\n",
    "function_rule_selection = feature_selection.f_classif\n",
    "alpha_cutoff = 0.01\n",
    "\n",
    "selection_rule = feature_selection.SelectFdr(function_rule_selection, alpha_cutoff)\n",
    "selection_rule.fit(X_train, y_train);\n",
    "\n",
    "all_pvalues = list(filter(lambda x: pd.notnull(x[0]), zip(selection_rule.pvalues_, all_features)))\n",
    "#print(all_pvalues)\n",
    "filtered_pvalues = list(filter(lambda x: x[0]<=alpha_cutoff, all_pvalues))\n",
    "#print(filtered_pvalues)\n",
    "all_select_features = list(map(lambda x: x[1], filtered_pvalues))\n",
    "\n",
    "print(\"{0} selected variables from {1}, {2:.2f}%\".format(len(all_select_features), \n",
    "                                                        len(all_features), \n",
    "                                                        len(filtered_pvalues)*100/float(len(all_features))))\n",
    "print(all_select_features)\n",
    "#print(filtered_pvalues)"
   ]
  },
  {
   "cell_type": "code",
   "execution_count": 43,
   "metadata": {
    "autoscroll": "json-false",
    "collapsed": false,
    "ein.tags": [
     "worksheet-0"
    ],
    "slideshow": {
     "slide_type": "-"
    }
   },
   "outputs": [],
   "source": [
    "features = all_select_features\n",
    "X_train, X_test, y_train, y_test = train_test_split(df_train[features], df_train[target], test_size = 0.2)"
   ]
  },
  {
   "cell_type": "code",
   "execution_count": 44,
   "metadata": {
    "autoscroll": "json-false",
    "collapsed": false,
    "ein.tags": [
     "worksheet-0"
    ],
    "slideshow": {
     "slide_type": "-"
    }
   },
   "outputs": [],
   "source": [
    "from sklearn import metrics\n",
    "from sklearn.metrics import confusion_matrix\n",
    "from sklearn.metrics import accuracy_score\n",
    "import matplotlib.pyplot as plt\n",
    "\n",
    "def complete_report(y_test, y_pred):\n",
    "    print(\"*********************************\")\n",
    "    print(\"Accuracy: {0:.2f}\".format(accuracy_score(y_test, y_pred)))\n",
    "    print(\"Precision: {0}\".format(metrics.precision_score(y_test, y_pred)))\n",
    "    print(\"Recall: {0}\".format(metrics.recall_score(y_test, y_pred)))\n",
    "    print(\"F1-Score: {0}\".format(metrics.f1_score(y_test, y_pred)))\n",
    "    conf_m = confusion_matrix(y_test, y_pred)\n",
    "    print(conf_m)\n",
    "    try: \n",
    "        print(\"Roc Area: {0}\".format(metrics.roc_auc_score(y_test, y_pred))) \n",
    "        roc_curve_label(y_test, y_pred)\n",
    "    except:\n",
    "        print(\"--\")\n",
    "    print(\"*********************************\")\n",
    "    \n",
    "    return metrics.roc_auc_score(y_test, y_pred)\n",
    "        \n",
    "def roc_curve_label(y_test, y_pred):\n",
    "    plt.figsize=(10,6)\n",
    "    fpr, tpr, _ = metrics.roc_curve(y_test, y_pred)\n",
    "    plt.figure(1)\n",
    "    plt.plot([0, 1], [0, 1], 'k--')\n",
    "    plt.plot(fpr, tpr, label='RT + LR')\n",
    "    plt.xlabel('False positive rate')\n",
    "    plt.ylabel('True positive rate')\n",
    "    plt.title('ROC curve')\n",
    "    plt.legend(loc='best')\n",
    "    plt.show()"
   ]
  },
  {
   "cell_type": "code",
   "execution_count": 45,
   "metadata": {
    "autoscroll": "json-false",
    "collapsed": false,
    "ein.tags": [
     "worksheet-0"
    ],
    "slideshow": {
     "slide_type": "-"
    }
   },
   "outputs": [],
   "source": [
    "# %timeit\n",
    "# from sklearn.tree import DecisionTreeClassifier\n",
    "# model = DecisionTreeClassifier()\n",
    "# model.fit(X_train, y_train)"
   ]
  },
  {
   "cell_type": "code",
   "execution_count": 46,
   "metadata": {
    "autoscroll": "json-false",
    "collapsed": false,
    "ein.tags": [
     "worksheet-0"
    ],
    "slideshow": {
     "slide_type": "-"
    }
   },
   "outputs": [],
   "source": [
    "# print(model.score(X_test, y_test))\n",
    "# complete_report(y_test, model.predict(X_test))"
   ]
  },
  {
   "cell_type": "markdown",
   "metadata": {
    "ein.tags": [
     "worksheet-0"
    ],
    "slideshow": {
     "slide_type": "-"
    }
   },
   "source": [
    "acc: 0.70345496362865445  \n",
    "roc: 0.6912675674785278"
   ]
  },
  {
   "cell_type": "code",
   "execution_count": 47,
   "metadata": {
    "autoscroll": "json-false",
    "collapsed": false,
    "ein.tags": [
     "worksheet-0"
    ],
    "slideshow": {
     "slide_type": "-"
    }
   },
   "outputs": [],
   "source": [
    "from sklearn.metrics import confusion_matrix"
   ]
  },
  {
   "cell_type": "code",
   "execution_count": 48,
   "metadata": {
    "autoscroll": "json-false",
    "collapsed": false,
    "ein.tags": [
     "worksheet-0"
    ],
    "slideshow": {
     "slide_type": "-"
    }
   },
   "outputs": [],
   "source": [
    "# confusion_matrix(y_test, model.predict(X_test))"
   ]
  },
  {
   "cell_type": "code",
   "execution_count": 49,
   "metadata": {
    "autoscroll": "json-false",
    "collapsed": false,
    "ein.tags": [
     "worksheet-0"
    ],
    "slideshow": {
     "slide_type": "-"
    }
   },
   "outputs": [
    {
     "data": {
      "text/plain": [
       "0.7803419035226925"
      ]
     },
     "execution_count": 49,
     "metadata": {},
     "output_type": "execute_result"
    }
   ],
   "source": [
    "from sklearn.ensemble import RandomForestClassifier\n",
    "\n",
    "model = RandomForestClassifier(n_jobs=4)\n",
    "model.fit(X_train, y_train)\n",
    "model.score(X_test, y_test)"
   ]
  },
  {
   "cell_type": "code",
   "execution_count": 50,
   "metadata": {
    "autoscroll": "json-false",
    "collapsed": false,
    "ein.tags": [
     "worksheet-0"
    ],
    "slideshow": {
     "slide_type": "-"
    }
   },
   "outputs": [
    {
     "data": {
      "text/plain": [
       "0.74408514056392527"
      ]
     },
     "execution_count": 50,
     "metadata": {},
     "output_type": "execute_result"
    },
    {
     "name": "stdout",
     "output_type": "stream",
     "text": [
      "*********************************\n"
     ]
    },
    {
     "data": {
      "image/png": "[encoded data removed]",
      "text/plain": [
       "<matplotlib.figure.Figure at 0x7f98da5ab850>"
      ]
     },
     "metadata": {},
     "output_type": "display_data"
    },
    {
     "name": "stdout",
     "output_type": "stream",
     "text": [
      "*********************************\n",
      "Accuracy: 0.78\n",
      "Precision: 0.837176651028\n",
      "Recall: 0.842688249428\n",
      "F1-Score: 0.839923408514\n",
      "[[308492 169433]\n",
      " [162627 871161]]\n",
      "Roc Area: 0.744085140564\n"
     ]
    }
   ],
   "source": [
    "complete_report(y_test, model.predict(X_test))"
   ]
  },
  {
   "cell_type": "code",
   "execution_count": 51,
   "metadata": {
    "autoscroll": "json-false",
    "collapsed": false,
    "ein.tags": [
     "worksheet-0"
    ],
    "slideshow": {
     "slide_type": "-"
    }
   },
   "outputs": [
    {
     "data": {
      "image/png": "[encoded data removed]",
      "text/plain": [
       "<matplotlib.figure.Figure at 0x7f98da634e50>"
      ]
     },
     "metadata": {},
     "output_type": "display_data"
    }
   ],
   "source": [
    "roc_curve_label(y_test, model.predict(X_test))"
   ]
  },
  {
   "cell_type": "code",
   "execution_count": 52,
   "metadata": {
    "autoscroll": "json-false",
    "collapsed": false,
    "ein.tags": [
     "worksheet-0"
    ],
    "slideshow": {
     "slide_type": "-"
    }
   },
   "outputs": [
    {
     "name": "stdout",
     "output_type": "stream",
     "text": [
      "19666\n"
     ]
    }
   ],
   "source": [
    "print(len(df_test))"
   ]
  },
  {
   "cell_type": "code",
   "execution_count": 53,
   "metadata": {
    "autoscroll": "json-false",
    "collapsed": false,
    "ein.tags": [
     "worksheet-0"
    ],
    "slideshow": {
     "slide_type": "-"
    }
   },
   "outputs": [
    {
     "data": {
      "text/plain": [
       "0    0.9\n1    0.6\n2    0.9\n3    0.5\n4    0.7\nName: prediction, dtype: float64"
      ]
     },
     "execution_count": 53,
     "metadata": {},
     "output_type": "execute_result"
    }
   ],
   "source": [
    "df_test_group_1 = df_test#[df_test[\"user_id\"].isin(user_for_specific_model)].copy(deep=True)\n",
    "p = model.predict_proba(df_test_group_1[features])\n",
    "p = p[:, 1]\n",
    "df_test_group_1[\"prediction\"] = p\n",
    "df_test_group_1[\"prediction\"].head()"
   ]
  },
  {
   "cell_type": "code",
   "execution_count": 54,
   "metadata": {
    "autoscroll": "json-false",
    "collapsed": false,
    "ein.tags": [
     "worksheet-0"
    ],
    "slideshow": {
     "slide_type": "-"
    }
   },
   "outputs": [
    {
     "name": "stdout",
     "output_type": "stream",
     "text": [
      "19666\n",
      "19666\n"
     ]
    }
   ],
   "source": [
    "print(len(df_test))\n",
    "print(len(df_test_group_1))\n",
    "df_test_group_1[[\"prediction\", \"user_id_id\"]]\n",
    "df_test_group_1[[\"prediction\", \"user_id_id\"]].to_csv(\"group1.csv\")"
   ]
  },
  {
   "cell_type": "code",
   "execution_count": 55,
   "metadata": {
    "autoscroll": "json-false",
    "collapsed": false,
    "ein.tags": [
     "worksheet-0"
    ],
    "slideshow": {
     "slide_type": "-"
    }
   },
   "outputs": [],
   "source": [
    "import gc\n",
    "gc.collect()\n",
    "del df_test_group_1"
   ]
  },
  {
   "cell_type": "code",
   "execution_count": 56,
   "metadata": {
    "autoscroll": "json-false",
    "collapsed": false,
    "ein.tags": [
     "worksheet-0"
    ],
    "slideshow": {
     "slide_type": "-"
    }
   },
   "outputs": [
    {
     "data": {
      "text/plain": [
       "['Unnamed: 0',\n 'genre_id',\n 'media_id',\n 'context_type',\n 'media_duration',\n 'listen_type',\n 'user_id',\n 'user_age',\n 'diff_ts_listen_AND_release_date_D',\n 'diff_ts_listen_AND_release_date_M',\n 'diff_ts_listen_AND_release_date_Y',\n 'release_date_DAY',\n 'release_date_MONTH',\n 'release_date_YEAR',\n 'diff_user_song_age',\n 'media_decade',\n 'user_id_id',\n 'platform_name_1',\n 'platform_name_2',\n 'platform_family_1',\n 'platform_family_2',\n 'user_gender_1',\n 'user_age_group_1',\n 'user_age_group_2',\n 'ts_listen_DAY_OF_WEEK_1',\n 'ts_listen_DAY_OF_WEEK_2',\n 'ts_listen_DAY_OF_WEEK_3',\n 'ts_listen_DAY_OF_WEEK_4',\n 'ts_listen_DAY_OF_WEEK_5',\n 'ts_listen_DAY_OF_WEEK_6',\n 'ts_listen_PERIOD_OF_DAY_1',\n 'ts_listen_PERIOD_OF_DAY_2',\n 'ts_listen_PERIOD_OF_DAY_3']"
      ]
     },
     "execution_count": 56,
     "metadata": {},
     "output_type": "execute_result"
    }
   ],
   "source": [
    "import pandas as pd\n",
    "df_train = pd.read_csv(\"../data/train_data3.csv\")\n",
    "df_test = pd.read_csv(\"../data/test_data3.csv\")\n",
    "\n",
    "df_train[\"user_id_id\"] = df_train[\"user_id\"]\n",
    "df_test[\"user_id_id\"] = df_test[\"user_id\"]\n",
    "\n",
    "# df_user = pd.read_csv(\"../data/nmidia_feats.csv\", sep=\";\")\n",
    "# # pd.isnull(df_user).sum()[pd.isnull(df_user).sum() > 0]\n",
    "# df_user = df_user.drop([\"nmidia_with_flow_listened_PROP\", \"nmidia_regular_listened_PROP\", \"nmidia_PROP_diff\"], axis=1)\n",
    "# df_user.columns.values\n",
    "# df_train = pd.merge(df_train, df_user, on=\"user_id\")\n",
    "# df_test = pd.merge(df_test, df_user, on=\"user_id\")\n",
    "# del df_user\n",
    "\n",
    "\n",
    "### select users for general\n",
    "df_train = df_train[df_train[\"user_id\"].isin(user_for_general_model)]\n",
    "df_test = df_test[df_test[\"user_id\"].isin(user_for_general_model)]\n",
    "df_train.columns\n",
    "\n",
    "te = TargetEncoder(cols_for_target_encoder, \"is_listened\")\n",
    "te.fit(df_train)\n",
    "te.transform(df_train)\n",
    "te.transform(df_test)\n",
    "del te\n",
    "\n",
    "rc = RankCategorical(cols_for_rank)\n",
    "rc.fit(df_train)\n",
    "rc.transform(df_train)\n",
    "rc.transform(df_test)\n",
    "del rc\n",
    "\n",
    "rc = RankCategorical([\"media_decade\"])\n",
    "rc.fit(df_train)\n",
    "rc.transform(df_train)\n",
    "rc.transform(df_test)\n",
    "del rc\n",
    "\n",
    "df_train = onehot(df_train, cols_for_onehot)\n",
    "df_test = onehot(df_test, cols_for_onehot)\n",
    "\n",
    "%timeit\n",
    "### Drop\n",
    "to_drop = ['ts_listen', 'album_id', 'release_date', 'artist_id', \"year\", \"text\"]#, \"nmidia_with_flow_listened_PROP\", \"nmidia_PROP_diff\", \"nmidia_regular_listened_PROP\"]\n",
    "df_train.drop(to_drop, axis = 1,inplace=True)\n",
    "df_test.drop(to_drop, axis = 1,inplace=True)\n",
    "\n",
    "features = [col for col in df_train.columns.values if col != target]\n",
    "features"
   ]
  },
  {
   "cell_type": "code",
   "execution_count": 57,
   "metadata": {
    "autoscroll": "json-false",
    "collapsed": false,
    "ein.tags": [
     "worksheet-0"
    ],
    "slideshow": {
     "slide_type": "-"
    }
   },
   "outputs": [
    {
     "data": {
      "text/plain": [
       "252"
      ]
     },
     "execution_count": 57,
     "metadata": {},
     "output_type": "execute_result"
    }
   ],
   "source": [
    "len(df_test)"
   ]
  },
  {
   "cell_type": "code",
   "execution_count": 58,
   "metadata": {
    "autoscroll": "json-false",
    "collapsed": false,
    "ein.tags": [
     "worksheet-0"
    ],
    "slideshow": {
     "slide_type": "-"
    }
   },
   "outputs": [],
   "source": [
    "features = ['genre_id',\n",
    " 'media_id',\n",
    " 'context_type',\n",
    " 'media_duration',\n",
    " 'listen_type',\n",
    " 'user_id',\n",
    " 'user_age',\n",
    " 'diff_ts_listen_AND_release_date_D',\n",
    " 'diff_ts_listen_AND_release_date_M',\n",
    " 'diff_ts_listen_AND_release_date_Y',\n",
    " 'release_date_YEAR',\n",
    " 'diff_user_song_age',\n",
    " 'media_decade',\n",
    " 'platform_name_1',\n",
    " 'platform_name_2',\n",
    " 'platform_family_1',\n",
    " 'platform_family_2',\n",
    " 'user_gender_1',\n",
    " 'user_age_group_1',\n",
    " 'user_age_group_2',\n",
    " 'ts_listen_DAY_OF_WEEK_1',\n",
    " 'ts_listen_DAY_OF_WEEK_2',\n",
    " 'ts_listen_DAY_OF_WEEK_3',\n",
    " 'ts_listen_DAY_OF_WEEK_4',\n",
    " 'ts_listen_DAY_OF_WEEK_5',\n",
    " 'ts_listen_DAY_OF_WEEK_6',\n",
    " 'ts_listen_PERIOD_OF_DAY_1',\n",
    " 'ts_listen_PERIOD_OF_DAY_2',\n",
    " 'ts_listen_PERIOD_OF_DAY_3']"
   ]
  },
  {
   "cell_type": "code",
   "execution_count": 59,
   "metadata": {
    "autoscroll": "json-false",
    "collapsed": false,
    "ein.tags": [
     "worksheet-0"
    ],
    "slideshow": {
     "slide_type": "-"
    }
   },
   "outputs": [
    {
     "name": "stdout",
     "output_type": "stream",
     "text": [
      "/home/ubuntu/anaconda3/envs/ml/lib/python2.7/site-packages/sklearn/feature_selection/univariate_selection.py:114: RuntimeWarning: divide by zero encountered in divide\n",
      "  f = msb / msw\n"
     ]
    },
    {
     "name": "stdout",
     "output_type": "stream",
     "text": [
      "4 selected variables from 29, 13.79%\n",
      "['genre_id', 'media_id', 'context_type', 'user_id']\n"
     ]
    }
   ],
   "source": [
    "from sklearn.model_selection import train_test_split\n",
    "X_train, X_test, y_train, y_test = train_test_split(df_train[features], df_train[target], test_size = 0.2)\n",
    "\n",
    "from sklearn import feature_selection\n",
    "all_features = features\n",
    "function_rule_selection = feature_selection.f_classif\n",
    "alpha_cutoff = 0.01\n",
    "\n",
    "selection_rule = feature_selection.SelectFdr(function_rule_selection, alpha_cutoff)\n",
    "selection_rule.fit(X_train, y_train);\n",
    "\n",
    "all_pvalues = list(filter(lambda x: pd.notnull(x[0]), zip(selection_rule.pvalues_, all_features)))\n",
    "#print(all_pvalues)\n",
    "filtered_pvalues = list(filter(lambda x: x[0]<=alpha_cutoff, all_pvalues))\n",
    "#print(filtered_pvalues)\n",
    "all_select_features = list(map(lambda x: x[1], filtered_pvalues))\n",
    "\n",
    "print(\"{0} selected variables from {1}, {2:.2f}%\".format(len(all_select_features), \n",
    "                                                        len(all_features), \n",
    "                                                        len(filtered_pvalues)*100/float(len(all_features))))\n",
    "print(all_select_features)\n",
    "#print(filtered_pvalues)\n",
    "\n",
    "features = all_select_features\n",
    "X_train, X_test, y_train, y_test = train_test_split(df_train[features], df_train[target], test_size = 0.2)"
   ]
  },
  {
   "cell_type": "code",
   "execution_count": 60,
   "metadata": {
    "autoscroll": "json-false",
    "collapsed": false,
    "ein.tags": [
     "worksheet-0"
    ],
    "slideshow": {
     "slide_type": "-"
    }
   },
   "outputs": [
    {
     "data": {
      "text/plain": [
       "1.0"
      ]
     },
     "execution_count": 60,
     "metadata": {},
     "output_type": "execute_result"
    }
   ],
   "source": [
    "from sklearn.ensemble import RandomForestClassifier\n",
    "\n",
    "model = RandomForestClassifier(n_jobs=4)\n",
    "model.fit(X_train, y_train)\n",
    "model.score(X_test, y_test)"
   ]
  },
  {
   "cell_type": "code",
   "execution_count": 61,
   "metadata": {
    "autoscroll": "json-false",
    "collapsed": false,
    "ein.tags": [
     "worksheet-0"
    ],
    "slideshow": {
     "slide_type": "-"
    }
   },
   "outputs": [],
   "source": [
    "### 0.7678"
   ]
  },
  {
   "cell_type": "code",
   "execution_count": 62,
   "metadata": {
    "autoscroll": "json-false",
    "collapsed": false,
    "ein.tags": [
     "worksheet-0"
    ],
    "slideshow": {
     "slide_type": "-"
    }
   },
   "outputs": [],
   "source": [
    "#df_test[df_test[\"user_id\"].isin(user_for_general_model)].head()"
   ]
  },
  {
   "cell_type": "code",
   "execution_count": 63,
   "metadata": {
    "autoscroll": "json-false",
    "collapsed": false,
    "ein.tags": [
     "worksheet-0"
    ],
    "slideshow": {
     "slide_type": "-"
    }
   },
   "outputs": [
    {
     "data": {
      "text/plain": [
       "140    0.9\n266    0.0\n321    1.0\n326    0.1\n363    1.0\nName: prediction, dtype: float64"
      ]
     },
     "execution_count": 63,
     "metadata": {},
     "output_type": "execute_result"
    }
   ],
   "source": [
    "df_test_group_2 = df_test #[df_test[\"user_id\"].isin(user_for_general_model)].copy(deep=True)\n",
    "p = model.predict_proba(df_test_group_2[features])\n",
    "p = p[:, 1]\n",
    "df_test_group_2[\"prediction\"] = p\n",
    "df_test_group_2[\"prediction\"].head()"
   ]
  },
  {
   "cell_type": "code",
   "execution_count": 64,
   "metadata": {
    "autoscroll": "json-false",
    "collapsed": false,
    "ein.tags": [
     "worksheet-0"
    ],
    "slideshow": {
     "slide_type": "-"
    }
   },
   "outputs": [],
   "source": [
    "df_test_group_2[[\"user_id_id\", \"prediction\"]].to_csv(\"group2.csv\")"
   ]
  },
  {
   "cell_type": "code",
   "execution_count": 65,
   "metadata": {
    "autoscroll": "json-false",
    "collapsed": false,
    "ein.tags": [
     "worksheet-0"
    ],
    "slideshow": {
     "slide_type": "-"
    }
   },
   "outputs": [],
   "source": [
    "df_test_group_1 = pd.read_csv(\"group1.csv\", index_col=\"user_id_id\")\n",
    "df_test_group_2 = pd.read_csv(\"group2.csv\", index_col=\"user_id_id\")"
   ]
  },
  {
   "cell_type": "code",
   "execution_count": 66,
   "metadata": {
    "autoscroll": "json-false",
    "collapsed": false,
    "ein.tags": [
     "worksheet-0"
    ],
    "slideshow": {
     "slide_type": "-"
    }
   },
   "outputs": [],
   "source": [
    "df_test = pd.read_csv(\"../data/test_data3.csv\")\n",
    "#df_test = df_test[\"user_id\"]\n",
    "#df_test[\"user_id_id\"] = df_test[\"user_id\"]\n",
    "# df_test = pd.merge(df_test, df_test_group_1[[\"user_id\", \"prediction\"]], on=\"user_id\")\n",
    "# df_test = pd.merge(df_test, df_test_group_2[[\"user_id\", \"prediction\"]], on=\"user_id\")\n",
    "df_test = pd.merge(df_test, df_test_group_1[[\"prediction\"]], left_on=\"user_id\", right_index=True, how=\"outer\")\n",
    "#df_test.join(df_test_group_2[[\"prediction\"]])\n",
    "df_test = pd.merge(df_test, df_test_group_2[[\"prediction\"]], left_on=\"user_id\", right_index=True, how=\"outer\")"
   ]
  },
  {
   "cell_type": "code",
   "execution_count": 67,
   "metadata": {
    "autoscroll": "json-false",
    "collapsed": false,
    "ein.tags": [
     "worksheet-0"
    ],
    "slideshow": {
     "slide_type": "-"
    }
   },
   "outputs": [
    {
     "name": "stdout",
     "output_type": "stream",
     "text": [
      "19666\n",
      "252\n",
      "19918\n"
     ]
    }
   ],
   "source": [
    "print(len(df_test_group_1))\n",
    "print(len(df_test_group_2))\n",
    "print(len(df_test))"
   ]
  },
  {
   "cell_type": "code",
   "execution_count": 68,
   "metadata": {
    "autoscroll": "json-false",
    "collapsed": false,
    "ein.tags": [
     "worksheet-0"
    ],
    "slideshow": {
     "slide_type": "-"
    }
   },
   "outputs": [],
   "source": [
    "#pd.set_option(\"precision\", 10)\n",
    "#df_test_group_2[[\"user_id\", \"prediction\"]].head()\n",
    "a = pd.read_csv(\"../data/test_data3.csv\")"
   ]
  },
  {
   "cell_type": "code",
   "execution_count": 69,
   "metadata": {
    "autoscroll": "json-false",
    "collapsed": false,
    "ein.tags": [
     "worksheet-0"
    ],
    "slideshow": {
     "slide_type": "-"
    }
   },
   "outputs": [
    {
     "data": {
      "text/plain": [
       "0    17698\n1    10525\n2     8716\n3     5443\n4     7600\nName: user_id, dtype: int64"
      ]
     },
     "execution_count": 69,
     "metadata": {},
     "output_type": "execute_result"
    }
   ],
   "source": [
    "a[\"user_id\"].head()"
   ]
  },
  {
   "cell_type": "code",
   "execution_count": 70,
   "metadata": {
    "autoscroll": "json-false",
    "collapsed": false,
    "ein.tags": [
     "worksheet-0"
    ],
    "slideshow": {
     "slide_type": "-"
    }
   },
   "outputs": [
    {
     "data": {
      "text/plain": [
       "   Unnamed: 0  sample_id  genre_id            ts_listen  media_id  album_id  context_type         release_date  platform_name  platform_family      ...       release_date_DAY  release_date_MONTH  \\\n0           0          0        50  2016-11-02 14:32:51    683078     82356             1  2002-10-08 00:00:00              0                0      ...                      8                  10   \n1           1          1      2744  2016-11-16 15:25:40    876497     99692             1  1985-12-31 00:00:00              0                0      ...                     31                  12   \n2           2          2      2744  2016-11-19 07:06:01    876497     99692             1  1985-12-31 00:00:00              0                0      ...                     31                  12   \n3           3          3      2744  2016-11-06 16:42:09    876500     99692             1  1985-12-31 00:00:00              2                1      ...                     31                  12   \n4           4          4      2744  2016-11-29 17:42:40    876504     99692             1  1985-12-31 00:00:00              2                1      ...                     31                  12   \n\n   release_date_YEAR  ts_listen_DAY_OF_WEEK  ts_listen_PERIOD_OF_DAY  user_age_group diff_user_song_age  media_decade  prediction_x  prediction_y  \n0               2002                      2                        1               2          15.920548             7           0.9           NaN  \n1               1985                      2                        1               2          -2.898630             5           0.6           NaN  \n2               1985                      5                        0               2          -3.906849             5           0.9           NaN  \n3               1985                      6                        1               2          -0.871233             5           0.5           NaN  \n4               1985                      1                        1               2          -1.934247             5           0.7           NaN  \n\n[5 rows x 31 columns]",
       "text/html",
       "<div>\n<table border=\"1\" class=\"dataframe\">\n  <thead>\n    <tr style=\"text-align: right;\">\n      <th></th>\n      <th>Unnamed: 0</th>\n      <th>sample_id</th>\n      <th>genre_id</th>\n      <th>ts_listen</th>\n      <th>media_id</th>\n      <th>album_id</th>\n      <th>context_type</th>\n      <th>release_date</th>\n      <th>platform_name</th>\n      <th>platform_family</th>\n      <th>...</th>\n      <th>release_date_DAY</th>\n      <th>release_date_MONTH</th>\n      <th>release_date_YEAR</th>\n      <th>ts_listen_DAY_OF_WEEK</th>\n      <th>ts_listen_PERIOD_OF_DAY</th>\n      <th>user_age_group</th>\n      <th>diff_user_song_age</th>\n      <th>media_decade</th>\n      <th>prediction_x</th>\n      <th>prediction_y</th>\n    </tr>\n  </thead>\n  <tbody>\n    <tr>\n      <th>0</th>\n      <td>0</td>\n      <td>0</td>\n      <td>50</td>\n      <td>2016-11-02 14:32:51</td>\n      <td>683078</td>\n      <td>82356</td>\n      <td>1</td>\n      <td>2002-10-08 00:00:00</td>\n      <td>0</td>\n      <td>0</td>\n      <td>...</td>\n      <td>8</td>\n      <td>10</td>\n      <td>2002</td>\n      <td>2</td>\n      <td>1</td>\n      <td>2</td>\n      <td>15.920548</td>\n      <td>7</td>\n      <td>0.9</td>\n      <td>NaN</td>\n    </tr>\n    <tr>\n      <th>1</th>\n      <td>1</td>\n      <td>1</td>\n      <td>2744</td>\n      <td>2016-11-16 15:25:40</td>\n      <td>876497</td>\n      <td>99692</td>\n      <td>1</td>\n      <td>1985-12-31 00:00:00</td>\n      <td>0</td>\n      <td>0</td>\n      <td>...</td>\n      <td>31</td>\n      <td>12</td>\n      <td>1985</td>\n      <td>2</td>\n      <td>1</td>\n      <td>2</td>\n      <td>-2.898630</td>\n      <td>5</td>\n      <td>0.6</td>\n      <td>NaN</td>\n    </tr>\n    <tr>\n      <th>2</th>\n      <td>2</td>\n      <td>2</td>\n      <td>2744</td>\n      <td>2016-11-19 07:06:01</td>\n      <td>876497</td>\n      <td>99692</td>\n      <td>1</td>\n      <td>1985-12-31 00:00:00</td>\n      <td>0</td>\n      <td>0</td>\n      <td>...</td>\n      <td>31</td>\n      <td>12</td>\n      <td>1985</td>\n      <td>5</td>\n      <td>0</td>\n      <td>2</td>\n      <td>-3.906849</td>\n      <td>5</td>\n      <td>0.9</td>\n      <td>NaN</td>\n    </tr>\n    <tr>\n      <th>3</th>\n      <td>3</td>\n      <td>3</td>\n      <td>2744</td>\n      <td>2016-11-06 16:42:09</td>\n      <td>876500</td>\n      <td>99692</td>\n      <td>1</td>\n      <td>1985-12-31 00:00:00</td>\n      <td>2</td>\n      <td>1</td>\n      <td>...</td>\n      <td>31</td>\n      <td>12</td>\n      <td>1985</td>\n      <td>6</td>\n      <td>1</td>\n      <td>2</td>\n      <td>-0.871233</td>\n      <td>5</td>\n      <td>0.5</td>\n      <td>NaN</td>\n    </tr>\n    <tr>\n      <th>4</th>\n      <td>4</td>\n      <td>4</td>\n      <td>2744</td>\n      <td>2016-11-29 17:42:40</td>\n      <td>876504</td>\n      <td>99692</td>\n      <td>1</td>\n      <td>1985-12-31 00:00:00</td>\n      <td>2</td>\n      <td>1</td>\n      <td>...</td>\n      <td>31</td>\n      <td>12</td>\n      <td>1985</td>\n      <td>1</td>\n      <td>1</td>\n      <td>2</td>\n      <td>-1.934247</td>\n      <td>5</td>\n      <td>0.7</td>\n      <td>NaN</td>\n    </tr>\n  </tbody>\n</table>\n<p>5 rows × 31 columns</p>\n</div>"
      ]
     },
     "execution_count": 70,
     "metadata": {},
     "output_type": "execute_result"
    }
   ],
   "source": [
    "df_test.head()"
   ]
  },
  {
   "cell_type": "code",
   "execution_count": 71,
   "metadata": {
    "autoscroll": "json-false",
    "collapsed": false,
    "ein.tags": [
     "worksheet-0"
    ],
    "slideshow": {
     "slide_type": "-"
    }
   },
   "outputs": [],
   "source": [
    "df_test[\"prediction_x\"].fillna(0, inplace=True)\n",
    "df_test[\"prediction_y\"].fillna(0, inplace=True)\n",
    "df_test[\"prediction\"] = df_test[\"prediction_x\"] + df_test[\"prediction_y\"]"
   ]
  },
  {
   "cell_type": "code",
   "execution_count": 72,
   "metadata": {
    "autoscroll": "json-false",
    "collapsed": false,
    "ein.tags": [
     "worksheet-0"
    ],
    "slideshow": {
     "slide_type": "-"
    }
   },
   "outputs": [
    {
     "data": {
      "text/plain": [
       "0    0.9\n1    0.6\n2    0.9\n3    0.5\n4    0.7\nName: prediction, dtype: float64"
      ]
     },
     "execution_count": 72,
     "metadata": {},
     "output_type": "execute_result"
    }
   ],
   "source": [
    "df_test[\"prediction\"].head()"
   ]
  },
  {
   "cell_type": "code",
   "execution_count": 73,
   "metadata": {
    "autoscroll": "json-false",
    "collapsed": false,
    "ein.tags": [
     "worksheet-0"
    ],
    "slideshow": {
     "slide_type": "-"
    }
   },
   "outputs": [
    {
     "data": {
      "text/plain": [
       "1.0"
      ]
     },
     "execution_count": 73,
     "metadata": {},
     "output_type": "execute_result"
    }
   ],
   "source": [
    "df_test.ix[8716][\"prediction\"]"
   ]
  },
  {
   "cell_type": "code",
   "execution_count": 74,
   "metadata": {
    "autoscroll": "json-false",
    "collapsed": false,
    "ein.tags": [
     "worksheet-0"
    ],
    "slideshow": {
     "slide_type": "-"
    }
   },
   "outputs": [
    {
     "data": {
      "text/plain": [
       "array([ 0.9,  0.6,  0.9,  0.5,  0.7])"
      ]
     },
     "execution_count": 74,
     "metadata": {},
     "output_type": "execute_result"
    }
   ],
   "source": [
    "df_test[\"prediction\"].values[:5]"
   ]
  },
  {
   "cell_type": "code",
   "execution_count": 75,
   "metadata": {
    "autoscroll": "json-false",
    "collapsed": false,
    "ein.tags": [
     "worksheet-0"
    ],
    "slideshow": {
     "slide_type": "-"
    }
   },
   "outputs": [
    {
     "data": {
      "text/plain": [
       "19918"
      ]
     },
     "execution_count": 75,
     "metadata": {},
     "output_type": "execute_result"
    }
   ],
   "source": [
    "len(df_test)"
   ]
  },
  {
   "cell_type": "code",
   "execution_count": 76,
   "metadata": {
    "autoscroll": "json-false",
    "collapsed": false,
    "ein.tags": [
     "worksheet-0"
    ],
    "slideshow": {
     "slide_type": "-"
    }
   },
   "outputs": [
    {
     "data": {
      "text/plain": [
       "0"
      ]
     },
     "execution_count": 76,
     "metadata": {},
     "output_type": "execute_result"
    }
   ],
   "source": [
    "(df_test[\"prediction\"] > 1.0).sum()"
   ]
  },
  {
   "cell_type": "code",
   "execution_count": 77,
   "metadata": {
    "autoscroll": "json-false",
    "collapsed": false,
    "ein.tags": [
     "worksheet-0"
    ],
    "slideshow": {
     "slide_type": "-"
    }
   },
   "outputs": [
    {
     "data": {
      "text/plain": [
       "0"
      ]
     },
     "execution_count": 77,
     "metadata": {},
     "output_type": "execute_result"
    }
   ],
   "source": [
    "pd.isnull(df_test[\"prediction_y\"]).sum()"
   ]
  },
  {
   "cell_type": "code",
   "execution_count": 78,
   "metadata": {
    "autoscroll": "json-false",
    "collapsed": false,
    "ein.tags": [
     "worksheet-0"
    ],
    "slideshow": {
     "slide_type": "-"
    }
   },
   "outputs": [],
   "source": [
    "#df_test[\"prediction\"] = df_test[\"prediction\"].apply(lambda x : 1 if x > 1 else x)"
   ]
  },
  {
   "cell_type": "code",
   "execution_count": 79,
   "metadata": {
    "autoscroll": "json-false",
    "collapsed": false,
    "ein.tags": [
     "worksheet-0"
    ],
    "slideshow": {
     "slide_type": "-"
    }
   },
   "outputs": [],
   "source": [
    "import gzip\n",
    "import csv\n",
    "import numpy as np\n",
    "\n",
    "def build_kaggle_submission(preds, filename=\"my_submission\"):\n",
    "    \"\"\"\n",
    "    Build a compressed Kaggle Submission\n",
    "    \n",
    "    preds: array with predictions\n",
    "    \"\"\"\n",
    "    with gzip.open(filename + '.csv.gz', 'wt') as outf:\n",
    "        fo = csv.writer(outf, lineterminator='\\n')\n",
    "        fo.writerow([\"sample_id\", \"is_listened\"])       \n",
    "        for i, pred in enumerate(preds):\n",
    "            fo.writerow([i, pred])"
   ]
  },
  {
   "cell_type": "code",
   "execution_count": 80,
   "metadata": {
    "autoscroll": "json-false",
    "collapsed": false,
    "ein.tags": [
     "worksheet-0"
    ],
    "slideshow": {
     "slide_type": "-"
    }
   },
   "outputs": [],
   "source": [
    "#p = model.predict_proba(df_test[features])\n",
    "#p = p[:, 1]\n",
    "p = df_test[\"prediction\"].values"
   ]
  },
  {
   "cell_type": "code",
   "execution_count": 81,
   "metadata": {
    "autoscroll": "json-false",
    "collapsed": false,
    "ein.tags": [
     "worksheet-0"
    ],
    "slideshow": {
     "slide_type": "-"
    }
   },
   "outputs": [],
   "source": [
    "build_kaggle_submission(p, \"rand_2_models_threshold_1\")"
   ]
  },
  {
   "cell_type": "code",
   "execution_count": 82,
   "metadata": {
    "autoscroll": "json-false",
    "collapsed": false,
    "ein.tags": [
     "worksheet-0"
    ],
    "slideshow": {
     "slide_type": "-"
    }
   },
   "outputs": [
    {
     "name": "stdout",
     "output_type": "stream",
     "text": [
      "0.08504\n",
      "8.604608\n",
      "6.4e-05\n"
     ]
    }
   ],
   "source": [
    "import sys\n",
    "print(sys.getsizeof(df_train) / 1e6)\n",
    "print(sys.getsizeof(df_test) / 1e6)\n",
    "print(sys.getsizeof(model) / 1e6)"
   ]
  }
 ],
 "metadata": {
  "kernelspec": {
   "display_name": "Python 2",
   "name": "python2"
  },
  "language_info": {
   "codemirror_mode": {
    "name": "ipython",
    "version": 2
   },
   "file_extension": ".py",
   "mimetype": "text/x-python",
   "name": "python",
   "nbconvert_exporter": "python",
   "pygments_lexer": "ipython2",
   "version": "2.7.13"
  },
  "name": "8 - Simple Model + User Specific + 2 models thresholds.ipynb"
 },
 "nbformat": 4,
 "nbformat_minor": 2
}
