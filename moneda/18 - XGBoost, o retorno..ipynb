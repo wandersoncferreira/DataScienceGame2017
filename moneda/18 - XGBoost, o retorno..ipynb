{
 "cells": [
  {
   "cell_type": "markdown",
   "metadata": {
    "deletable": true,
    "editable": true,
    "ein.tags": [
     "worksheet-0"
    ],
    "slideshow": {
     "slide_type": "-"
    }
   },
   "source": [
    "### Data Science Game 2017\n",
    "\n",
    "Data fields\n",
    "\n",
    "    media_id - identifiant of the song listened by the user\n",
    "    album_id - identifiant of the album of the song\n",
    "    media_duration - duration of the song\n",
    "    user_gender -  gender of the user\n",
    "    user_id -  anonymized id of the user\n",
    "    context_type - type of content where the song was listened: playlist, album ...\n",
    "    release_date - release date of the song with the format YYYYMMDD\n",
    "    ts_listen - timestamp of the listening in UNIX time\n",
    "    platform_name - type of os\n",
    "    platform_family - type of device\n",
    "    user_age - age of the user\n",
    "    listen_type - if the songs was listened in a flow or not\n",
    "    artist_id - identifiant of the artist of the song\n",
    "    genre_id - identifiant of the genre of the song\n",
    "    is_listened - 1 if the track was listened, 0 otherwise\n"
   ]
  },
  {
   "cell_type": "code",
   "execution_count": 1,
   "metadata": {
    "autoscroll": "json-false",
    "collapsed": false,
    "deletable": true,
    "editable": true,
    "ein.tags": [
     "worksheet-0"
    ],
    "slideshow": {
     "slide_type": "-"
    }
   },
   "outputs": [],
   "source": [
    "import pandas as pd"
   ]
  },
  {
   "cell_type": "code",
   "execution_count": 2,
   "metadata": {
    "autoscroll": "json-false",
    "collapsed": false,
    "deletable": true,
    "editable": true,
    "ein.tags": [
     "worksheet-0"
    ],
    "slideshow": {
     "slide_type": "-"
    }
   },
   "outputs": [],
   "source": [
    "df_train = pd.read_csv(\"../data/train_data4.csv\")\n",
    "df_test = pd.read_csv(\"../data/test_data4.csv\")\n",
    "\n",
    "df_train[\"user_id_id\"] = df_train[\"user_id\"]\n",
    "df_test[\"user_id_id\"] = df_test[\"user_id\"]"
   ]
  },
  {
   "cell_type": "code",
   "execution_count": 3,
   "metadata": {
    "collapsed": false,
    "deletable": true,
    "editable": true
   },
   "outputs": [
    {
     "data": {
      "text/plain": [
       "7558817"
      ]
     },
     "execution_count": 3,
     "metadata": {},
     "output_type": "execute_result"
    }
   ],
   "source": [
    "len(df_train)"
   ]
  },
  {
   "cell_type": "code",
   "execution_count": 4,
   "metadata": {
    "collapsed": false,
    "deletable": true,
    "editable": true
   },
   "outputs": [
    {
     "data": {
      "text/plain": [
       "0"
      ]
     },
     "execution_count": 4,
     "metadata": {},
     "output_type": "execute_result"
    }
   ],
   "source": [
    "df_train[\"user_id_id\"].min()"
   ]
  },
  {
   "cell_type": "code",
   "execution_count": 5,
   "metadata": {
    "collapsed": false,
    "deletable": true,
    "editable": true
   },
   "outputs": [
    {
     "data": {
      "text/plain": [
       "0"
      ]
     },
     "execution_count": 5,
     "metadata": {},
     "output_type": "execute_result"
    }
   ],
   "source": [
    "df_test[\"user_id_id\"].min()"
   ]
  },
  {
   "cell_type": "markdown",
   "metadata": {
    "deletable": true,
    "editable": true,
    "ein.tags": [
     "worksheet-0"
    ],
    "slideshow": {
     "slide_type": "-"
    }
   },
   "source": [
    "### Analisando quantidade de registro por usuário"
   ]
  },
  {
   "cell_type": "code",
   "execution_count": 6,
   "metadata": {
    "autoscroll": "json-false",
    "collapsed": false,
    "deletable": true,
    "editable": true,
    "ein.tags": [
     "worksheet-0"
    ],
    "slideshow": {
     "slide_type": "-"
    }
   },
   "outputs": [
    {
     "data": {
      "text/plain": [
       "count    19918.000000\n",
       "mean       379.496787\n",
       "std        508.267045\n",
       "min          1.000000\n",
       "25%         66.000000\n",
       "50%        197.000000\n",
       "75%        495.000000\n",
       "max       6317.000000\n",
       "Name: user_id, dtype: float64"
      ]
     },
     "execution_count": 6,
     "metadata": {},
     "output_type": "execute_result"
    }
   ],
   "source": [
    "import matplotlib.pyplot as plt\n",
    "import seaborn as sns\n",
    "#plt.style.use(['dark_background'])\n",
    "#plt.style.use('ggplot')\n",
    "register_count = df_train[\"user_id\"].value_counts()\n",
    "register_count.describe()\n",
    "# plt.show()"
   ]
  },
  {
   "cell_type": "code",
   "execution_count": 7,
   "metadata": {
    "collapsed": false,
    "deletable": true,
    "editable": true
   },
   "outputs": [
    {
     "data": {
      "text/plain": [
       "array([0, 1, 2, 3, 4])"
      ]
     },
     "execution_count": 7,
     "metadata": {},
     "output_type": "execute_result"
    }
   ],
   "source": [
    "register_count[:5].index.values"
   ]
  },
  {
   "cell_type": "code",
   "execution_count": 8,
   "metadata": {
    "collapsed": true,
    "deletable": true,
    "editable": true
   },
   "outputs": [],
   "source": [
    "df_train = df_train[df_train[\"user_id\"].isin(register_count[:].index.values)]"
   ]
  },
  {
   "cell_type": "code",
   "execution_count": 9,
   "metadata": {
    "autoscroll": "json-false",
    "collapsed": false,
    "deletable": true,
    "editable": true,
    "ein.tags": [
     "worksheet-0"
    ],
    "slideshow": {
     "slide_type": "-"
    }
   },
   "outputs": [
    {
     "data": {
      "text/plain": [
       "(array([  1.61650000e+04,   2.60900000e+03,   7.13000000e+02,\n",
       "          2.60000000e+02,   9.50000000e+01,   3.80000000e+01,\n",
       "          2.10000000e+01,   8.00000000e+00,   6.00000000e+00,\n",
       "          3.00000000e+00]),\n",
       " array([  1.00000000e+00,   6.32600000e+02,   1.26420000e+03,\n",
       "          1.89580000e+03,   2.52740000e+03,   3.15900000e+03,\n",
       "          3.79060000e+03,   4.42220000e+03,   5.05380000e+03,\n",
       "          5.68540000e+03,   6.31700000e+03]),\n",
       " <a list of 10 Patch objects>)"
      ]
     },
     "execution_count": 9,
     "metadata": {},
     "output_type": "execute_result"
    },
    {
     "name": "stderr",
     "output_type": "stream",
     "text": [
      "/home/ubuntu/anaconda3/envs/ml/lib/python2.7/site-packages/matplotlib/font_manager.py:1297: UserWarning: findfont: Font family [u'sans-serif'] not found. Falling back to DejaVu Sans\n",
      "  (prop.get_family(), self.defaultFamily[fontext]))\n"
     ]
    },
    {
     "data": {
      "image/png": "[encoded data removed]",
      "text/plain": [
       "<matplotlib.figure.Figure at 0x7fb350860850>"
      ]
     },
     "metadata": {},
     "output_type": "display_data"
    }
   ],
   "source": [
    "%matplotlib inline\n",
    "plt.hist(df_train[\"user_id\"].value_counts())"
   ]
  },
  {
   "cell_type": "code",
   "execution_count": 10,
   "metadata": {
    "autoscroll": "json-false",
    "collapsed": false,
    "deletable": true,
    "editable": true,
    "ein.tags": [
     "worksheet-0"
    ],
    "slideshow": {
     "slide_type": "-"
    }
   },
   "outputs": [
    {
     "name": "stdout",
     "output_type": "stream",
     "text": [
      "2630\n",
      "17288\n"
     ]
    }
   ],
   "source": [
    "threshold = 30\n",
    "\n",
    "user_for_general_model = register_count[(register_count <= threshold)].index\n",
    "user_for_specific_model = register_count[(register_count > threshold)].index\n",
    "print(len(user_for_general_model))\n",
    "print(len(user_for_specific_model))"
   ]
  },
  {
   "cell_type": "code",
   "execution_count": 11,
   "metadata": {
    "autoscroll": "json-false",
    "collapsed": false,
    "deletable": true,
    "editable": true,
    "ein.tags": [
     "worksheet-0"
    ],
    "slideshow": {
     "slide_type": "-"
    }
   },
   "outputs": [],
   "source": [
    "# ### select users for specific\n",
    "# df_train = df_train[df_train[\"user_id\"].isin(user_for_specific_model)]\n",
    "# df_test = df_test[df_test[\"user_id\"].isin(user_for_specific_model)]\n",
    "# df_train.columns"
   ]
  },
  {
   "cell_type": "code",
   "execution_count": 12,
   "metadata": {
    "autoscroll": "json-false",
    "collapsed": false,
    "deletable": true,
    "editable": true,
    "ein.tags": [
     "worksheet-0"
    ],
    "slideshow": {
     "slide_type": "-"
    }
   },
   "outputs": [
    {
     "data": {
      "text/html": [
       "<div>\n",
       "<table border=\"1\" class=\"dataframe\">\n",
       "  <thead>\n",
       "    <tr style=\"text-align: right;\">\n",
       "      <th></th>\n",
       "      <th>genre_id</th>\n",
       "      <th>ts_listen</th>\n",
       "      <th>media_id</th>\n",
       "      <th>album_id</th>\n",
       "      <th>context_type</th>\n",
       "      <th>release_date</th>\n",
       "      <th>platform_name</th>\n",
       "      <th>platform_family</th>\n",
       "      <th>media_duration</th>\n",
       "      <th>listen_type</th>\n",
       "      <th>...</th>\n",
       "      <th>ts_listen_PERIOD_OF_DAY</th>\n",
       "      <th>user_age_group</th>\n",
       "      <th>diff_user_song_age</th>\n",
       "      <th>media_decade</th>\n",
       "      <th>artist_albuns</th>\n",
       "      <th>artist_fans</th>\n",
       "      <th>artist_radio</th>\n",
       "      <th>media_bpm</th>\n",
       "      <th>media_rank</th>\n",
       "      <th>user_id_id</th>\n",
       "    </tr>\n",
       "  </thead>\n",
       "  <tbody>\n",
       "    <tr>\n",
       "      <th>0</th>\n",
       "      <td>25471</td>\n",
       "      <td>2016-12-01 11:00:15</td>\n",
       "      <td>222606</td>\n",
       "      <td>41774</td>\n",
       "      <td>12</td>\n",
       "      <td>2004-07-04 00:00:00</td>\n",
       "      <td>1</td>\n",
       "      <td>0</td>\n",
       "      <td>4.0</td>\n",
       "      <td>0</td>\n",
       "      <td>...</td>\n",
       "      <td>0</td>\n",
       "      <td>2</td>\n",
       "      <td>16.580822</td>\n",
       "      <td>7</td>\n",
       "      <td>1.0</td>\n",
       "      <td>32.0</td>\n",
       "      <td>1.0</td>\n",
       "      <td>100.1</td>\n",
       "      <td>292784.0</td>\n",
       "      <td>9241</td>\n",
       "    </tr>\n",
       "    <tr>\n",
       "      <th>1</th>\n",
       "      <td>25571</td>\n",
       "      <td>2016-11-30 20:25:35</td>\n",
       "      <td>250467</td>\n",
       "      <td>43941</td>\n",
       "      <td>0</td>\n",
       "      <td>2006-03-01 00:00:00</td>\n",
       "      <td>2</td>\n",
       "      <td>1</td>\n",
       "      <td>3.0</td>\n",
       "      <td>0</td>\n",
       "      <td>...</td>\n",
       "      <td>2</td>\n",
       "      <td>2</td>\n",
       "      <td>19.241096</td>\n",
       "      <td>7</td>\n",
       "      <td>18.0</td>\n",
       "      <td>6204.0</td>\n",
       "      <td>1.0</td>\n",
       "      <td>160.2</td>\n",
       "      <td>317348.0</td>\n",
       "      <td>16547</td>\n",
       "    </tr>\n",
       "    <tr>\n",
       "      <th>2</th>\n",
       "      <td>16</td>\n",
       "      <td>2016-11-19 11:59:13</td>\n",
       "      <td>305197</td>\n",
       "      <td>48078</td>\n",
       "      <td>1</td>\n",
       "      <td>2014-07-14 00:00:00</td>\n",
       "      <td>2</td>\n",
       "      <td>1</td>\n",
       "      <td>2.0</td>\n",
       "      <td>1</td>\n",
       "      <td>...</td>\n",
       "      <td>0</td>\n",
       "      <td>2</td>\n",
       "      <td>26.646575</td>\n",
       "      <td>8</td>\n",
       "      <td>23.0</td>\n",
       "      <td>20022.0</td>\n",
       "      <td>1.0</td>\n",
       "      <td>90.1</td>\n",
       "      <td>309034.0</td>\n",
       "      <td>7665</td>\n",
       "    </tr>\n",
       "    <tr>\n",
       "      <th>3</th>\n",
       "      <td>7</td>\n",
       "      <td>2016-11-26 07:21:38</td>\n",
       "      <td>900502</td>\n",
       "      <td>71521</td>\n",
       "      <td>0</td>\n",
       "      <td>2000-10-30 00:00:00</td>\n",
       "      <td>0</td>\n",
       "      <td>0</td>\n",
       "      <td>4.0</td>\n",
       "      <td>0</td>\n",
       "      <td>...</td>\n",
       "      <td>0</td>\n",
       "      <td>2</td>\n",
       "      <td>13.915068</td>\n",
       "      <td>6</td>\n",
       "      <td>56.0</td>\n",
       "      <td>442765.0</td>\n",
       "      <td>1.0</td>\n",
       "      <td>124.9</td>\n",
       "      <td>291331.0</td>\n",
       "      <td>1580</td>\n",
       "    </tr>\n",
       "    <tr>\n",
       "      <th>4</th>\n",
       "      <td>7</td>\n",
       "      <td>2016-11-05 16:02:54</td>\n",
       "      <td>542335</td>\n",
       "      <td>71718</td>\n",
       "      <td>0</td>\n",
       "      <td>2008-02-15 00:00:00</td>\n",
       "      <td>0</td>\n",
       "      <td>0</td>\n",
       "      <td>3.0</td>\n",
       "      <td>0</td>\n",
       "      <td>...</td>\n",
       "      <td>1</td>\n",
       "      <td>1</td>\n",
       "      <td>15.271233</td>\n",
       "      <td>7</td>\n",
       "      <td>65.0</td>\n",
       "      <td>28423.0</td>\n",
       "      <td>1.0</td>\n",
       "      <td>120.0</td>\n",
       "      <td>406872.0</td>\n",
       "      <td>1812</td>\n",
       "    </tr>\n",
       "  </tbody>\n",
       "</table>\n",
       "<p>5 rows × 34 columns</p>\n",
       "</div>"
      ],
      "text/plain": [
       "   genre_id            ts_listen  media_id  album_id  context_type  \\\n",
       "0     25471  2016-12-01 11:00:15    222606     41774            12   \n",
       "1     25571  2016-11-30 20:25:35    250467     43941             0   \n",
       "2        16  2016-11-19 11:59:13    305197     48078             1   \n",
       "3         7  2016-11-26 07:21:38    900502     71521             0   \n",
       "4         7  2016-11-05 16:02:54    542335     71718             0   \n",
       "\n",
       "          release_date  platform_name  platform_family  media_duration  \\\n",
       "0  2004-07-04 00:00:00              1                0             4.0   \n",
       "1  2006-03-01 00:00:00              2                1             3.0   \n",
       "2  2014-07-14 00:00:00              2                1             2.0   \n",
       "3  2000-10-30 00:00:00              0                0             4.0   \n",
       "4  2008-02-15 00:00:00              0                0             3.0   \n",
       "\n",
       "   listen_type     ...      ts_listen_PERIOD_OF_DAY  user_age_group  \\\n",
       "0            0     ...                            0               2   \n",
       "1            0     ...                            2               2   \n",
       "2            1     ...                            0               2   \n",
       "3            0     ...                            0               2   \n",
       "4            0     ...                            1               1   \n",
       "\n",
       "   diff_user_song_age  media_decade  artist_albuns artist_fans  artist_radio  \\\n",
       "0           16.580822             7            1.0        32.0           1.0   \n",
       "1           19.241096             7           18.0      6204.0           1.0   \n",
       "2           26.646575             8           23.0     20022.0           1.0   \n",
       "3           13.915068             6           56.0    442765.0           1.0   \n",
       "4           15.271233             7           65.0     28423.0           1.0   \n",
       "\n",
       "   media_bpm  media_rank  user_id_id  \n",
       "0      100.1    292784.0        9241  \n",
       "1      160.2    317348.0       16547  \n",
       "2       90.1    309034.0        7665  \n",
       "3      124.9    291331.0        1580  \n",
       "4      120.0    406872.0        1812  \n",
       "\n",
       "[5 rows x 34 columns]"
      ]
     },
     "execution_count": 12,
     "metadata": {},
     "output_type": "execute_result"
    }
   ],
   "source": [
    "to_drop = ['Unnamed: 0', 'Unnamed: 0.1']\n",
    "df_train.drop(to_drop, axis = 1,inplace=True)\n",
    "df_train.head()"
   ]
  },
  {
   "cell_type": "code",
   "execution_count": 13,
   "metadata": {
    "autoscroll": "json-false",
    "collapsed": false,
    "deletable": true,
    "editable": true,
    "ein.tags": [
     "worksheet-0"
    ],
    "slideshow": {
     "slide_type": "-"
    }
   },
   "outputs": [
    {
     "data": {
      "text/html": [
       "<div>\n",
       "<table border=\"1\" class=\"dataframe\">\n",
       "  <thead>\n",
       "    <tr style=\"text-align: right;\">\n",
       "      <th></th>\n",
       "      <th>genre_id</th>\n",
       "      <th>ts_listen</th>\n",
       "      <th>media_id</th>\n",
       "      <th>album_id</th>\n",
       "      <th>context_type</th>\n",
       "      <th>release_date</th>\n",
       "      <th>platform_name</th>\n",
       "      <th>platform_family</th>\n",
       "      <th>media_duration</th>\n",
       "      <th>listen_type</th>\n",
       "      <th>...</th>\n",
       "      <th>ts_listen_PERIOD_OF_DAY</th>\n",
       "      <th>user_age_group</th>\n",
       "      <th>diff_user_song_age</th>\n",
       "      <th>media_decade</th>\n",
       "      <th>artist_albuns</th>\n",
       "      <th>artist_fans</th>\n",
       "      <th>artist_radio</th>\n",
       "      <th>media_bpm</th>\n",
       "      <th>media_rank</th>\n",
       "      <th>user_id_id</th>\n",
       "    </tr>\n",
       "  </thead>\n",
       "  <tbody>\n",
       "    <tr>\n",
       "      <th>0</th>\n",
       "      <td>25471</td>\n",
       "      <td>2016-12-01 11:00:15</td>\n",
       "      <td>222606</td>\n",
       "      <td>41774</td>\n",
       "      <td>12</td>\n",
       "      <td>2004-07-04 00:00:00</td>\n",
       "      <td>1</td>\n",
       "      <td>0</td>\n",
       "      <td>4.0</td>\n",
       "      <td>0</td>\n",
       "      <td>...</td>\n",
       "      <td>0</td>\n",
       "      <td>2</td>\n",
       "      <td>16.580822</td>\n",
       "      <td>7</td>\n",
       "      <td>1.0</td>\n",
       "      <td>32.0</td>\n",
       "      <td>1.0</td>\n",
       "      <td>100.1</td>\n",
       "      <td>292784.0</td>\n",
       "      <td>9241</td>\n",
       "    </tr>\n",
       "    <tr>\n",
       "      <th>1</th>\n",
       "      <td>25571</td>\n",
       "      <td>2016-11-30 20:25:35</td>\n",
       "      <td>250467</td>\n",
       "      <td>43941</td>\n",
       "      <td>0</td>\n",
       "      <td>2006-03-01 00:00:00</td>\n",
       "      <td>2</td>\n",
       "      <td>1</td>\n",
       "      <td>3.0</td>\n",
       "      <td>0</td>\n",
       "      <td>...</td>\n",
       "      <td>2</td>\n",
       "      <td>2</td>\n",
       "      <td>19.241096</td>\n",
       "      <td>7</td>\n",
       "      <td>18.0</td>\n",
       "      <td>6204.0</td>\n",
       "      <td>1.0</td>\n",
       "      <td>160.2</td>\n",
       "      <td>317348.0</td>\n",
       "      <td>16547</td>\n",
       "    </tr>\n",
       "    <tr>\n",
       "      <th>2</th>\n",
       "      <td>16</td>\n",
       "      <td>2016-11-19 11:59:13</td>\n",
       "      <td>305197</td>\n",
       "      <td>48078</td>\n",
       "      <td>1</td>\n",
       "      <td>2014-07-14 00:00:00</td>\n",
       "      <td>2</td>\n",
       "      <td>1</td>\n",
       "      <td>2.0</td>\n",
       "      <td>1</td>\n",
       "      <td>...</td>\n",
       "      <td>0</td>\n",
       "      <td>2</td>\n",
       "      <td>26.646575</td>\n",
       "      <td>8</td>\n",
       "      <td>23.0</td>\n",
       "      <td>20022.0</td>\n",
       "      <td>1.0</td>\n",
       "      <td>90.1</td>\n",
       "      <td>309034.0</td>\n",
       "      <td>7665</td>\n",
       "    </tr>\n",
       "    <tr>\n",
       "      <th>3</th>\n",
       "      <td>7</td>\n",
       "      <td>2016-11-26 07:21:38</td>\n",
       "      <td>900502</td>\n",
       "      <td>71521</td>\n",
       "      <td>0</td>\n",
       "      <td>2000-10-30 00:00:00</td>\n",
       "      <td>0</td>\n",
       "      <td>0</td>\n",
       "      <td>4.0</td>\n",
       "      <td>0</td>\n",
       "      <td>...</td>\n",
       "      <td>0</td>\n",
       "      <td>2</td>\n",
       "      <td>13.915068</td>\n",
       "      <td>6</td>\n",
       "      <td>56.0</td>\n",
       "      <td>442765.0</td>\n",
       "      <td>1.0</td>\n",
       "      <td>124.9</td>\n",
       "      <td>291331.0</td>\n",
       "      <td>1580</td>\n",
       "    </tr>\n",
       "    <tr>\n",
       "      <th>4</th>\n",
       "      <td>7</td>\n",
       "      <td>2016-11-05 16:02:54</td>\n",
       "      <td>542335</td>\n",
       "      <td>71718</td>\n",
       "      <td>0</td>\n",
       "      <td>2008-02-15 00:00:00</td>\n",
       "      <td>0</td>\n",
       "      <td>0</td>\n",
       "      <td>3.0</td>\n",
       "      <td>0</td>\n",
       "      <td>...</td>\n",
       "      <td>1</td>\n",
       "      <td>1</td>\n",
       "      <td>15.271233</td>\n",
       "      <td>7</td>\n",
       "      <td>65.0</td>\n",
       "      <td>28423.0</td>\n",
       "      <td>1.0</td>\n",
       "      <td>120.0</td>\n",
       "      <td>406872.0</td>\n",
       "      <td>1812</td>\n",
       "    </tr>\n",
       "  </tbody>\n",
       "</table>\n",
       "<p>5 rows × 34 columns</p>\n",
       "</div>"
      ],
      "text/plain": [
       "   genre_id            ts_listen  media_id  album_id  context_type         release_date  platform_name  platform_family  media_duration  listen_type     ...      ts_listen_PERIOD_OF_DAY  \\\n",
       "0     25471  2016-12-01 11:00:15    222606     41774            12  2004-07-04 00:00:00              1                0             4.0            0     ...                            0   \n",
       "1     25571  2016-11-30 20:25:35    250467     43941             0  2006-03-01 00:00:00              2                1             3.0            0     ...                            2   \n",
       "2        16  2016-11-19 11:59:13    305197     48078             1  2014-07-14 00:00:00              2                1             2.0            1     ...                            0   \n",
       "3         7  2016-11-26 07:21:38    900502     71521             0  2000-10-30 00:00:00              0                0             4.0            0     ...                            0   \n",
       "4         7  2016-11-05 16:02:54    542335     71718             0  2008-02-15 00:00:00              0                0             3.0            0     ...                            1   \n",
       "\n",
       "   user_age_group  diff_user_song_age  media_decade  artist_albuns artist_fans  artist_radio  media_bpm  media_rank  user_id_id  \n",
       "0               2           16.580822             7            1.0        32.0           1.0      100.1    292784.0        9241  \n",
       "1               2           19.241096             7           18.0      6204.0           1.0      160.2    317348.0       16547  \n",
       "2               2           26.646575             8           23.0     20022.0           1.0       90.1    309034.0        7665  \n",
       "3               2           13.915068             6           56.0    442765.0           1.0      124.9    291331.0        1580  \n",
       "4               1           15.271233             7           65.0     28423.0           1.0      120.0    406872.0        1812  \n",
       "\n",
       "[5 rows x 34 columns]"
      ]
     },
     "execution_count": 13,
     "metadata": {},
     "output_type": "execute_result"
    }
   ],
   "source": [
    "#pd.set_option('display.height', 1000)\n",
    "#pd.set_option('display.max_rows', 500)\n",
    "#pd.set_option('display.max_columns', 500)\n",
    "pd.set_option('display.width', 200)\n",
    "#pd.set_option(\"precision\", 2)\n",
    "df_train.head()"
   ]
  },
  {
   "cell_type": "code",
   "execution_count": 14,
   "metadata": {
    "autoscroll": "json-false",
    "collapsed": false,
    "deletable": true,
    "editable": true,
    "ein.tags": [
     "worksheet-0"
    ],
    "slideshow": {
     "slide_type": "-"
    }
   },
   "outputs": [],
   "source": [
    "# pd.isnull(df_train).sum()[pd.isnull(df_train).sum() > 0]"
   ]
  },
  {
   "cell_type": "code",
   "execution_count": 15,
   "metadata": {
    "autoscroll": "json-false",
    "collapsed": false,
    "deletable": true,
    "editable": true,
    "ein.tags": [
     "worksheet-0"
    ],
    "slideshow": {
     "slide_type": "-"
    }
   },
   "outputs": [],
   "source": [
    "# df_train[df_train[\"release_date_YEAR\"] == 1900][[\"media_id\", \"ts_listen\"]]"
   ]
  },
  {
   "cell_type": "code",
   "execution_count": 16,
   "metadata": {
    "autoscroll": "json-false",
    "collapsed": false,
    "deletable": true,
    "editable": true,
    "ein.tags": [
     "worksheet-0"
    ],
    "slideshow": {
     "slide_type": "-"
    }
   },
   "outputs": [],
   "source": [
    "# df_train[df_train[\"release_date_YEAR\"] == 1900][[\"media_id\", \"ts_listen\"]]"
   ]
  },
  {
   "cell_type": "markdown",
   "metadata": {
    "deletable": true,
    "editable": true,
    "ein.tags": [
     "worksheet-0"
    ],
    "slideshow": {
     "slide_type": "-"
    }
   },
   "source": [
    "### Append User Specific"
   ]
  },
  {
   "cell_type": "code",
   "execution_count": 17,
   "metadata": {
    "autoscroll": "json-false",
    "collapsed": false,
    "deletable": true,
    "editable": true,
    "ein.tags": [
     "worksheet-0"
    ],
    "slideshow": {
     "slide_type": "-"
    }
   },
   "outputs": [
    {
     "data": {
      "text/plain": [
       "array(['user_id', 'nmidia_regular_listened', 'nmidia_with_flow_listened',\n",
       "       'nmidia_regular', 'nmidia_with_flow',\n",
       "       'nmidia_with_flow_listened_PROP', 'nmidia_regular_listened_PROP',\n",
       "       'nmidia_PROP_diff'], dtype=object)"
      ]
     },
     "execution_count": 17,
     "metadata": {},
     "output_type": "execute_result"
    }
   ],
   "source": [
    "df_user = pd.read_csv(\"../data/nmidia_feats.csv\", sep=\";\")\n",
    "# pd.isnull(df_user).sum()[pd.isnull(df_user).sum() > 0]\n",
    "\n",
    "\n",
    "#df_user = df_user.drop([\"nmidia_with_flow_listened_PROP\", \"nmidia_regular_listened_PROP\", \"nmidia_PROP_diff\"], axis=1)\n",
    "df_user.fillna(0, inplace=True)\n",
    "\n",
    "df_user[\"nmidia_PROP_diff\"] = df_user['nmidia_with_flow_listened_PROP'] - df_user['nmidia_regular_listened_PROP']\n",
    "\n",
    "df_user.columns.values"
   ]
  },
  {
   "cell_type": "code",
   "execution_count": 18,
   "metadata": {
    "autoscroll": "json-false",
    "collapsed": false,
    "deletable": true,
    "editable": true,
    "ein.tags": [
     "worksheet-0"
    ],
    "slideshow": {
     "slide_type": "-"
    }
   },
   "outputs": [],
   "source": [
    "# x = pd.isnull(df_user).sum()\n",
    "# x[x > 0]"
   ]
  },
  {
   "cell_type": "code",
   "execution_count": 19,
   "metadata": {
    "autoscroll": "json-false",
    "collapsed": false,
    "deletable": true,
    "editable": true,
    "ein.tags": [
     "worksheet-0"
    ],
    "slideshow": {
     "slide_type": "-"
    }
   },
   "outputs": [
    {
     "data": {
      "text/html": [
       "<div>\n",
       "<table border=\"1\" class=\"dataframe\">\n",
       "  <thead>\n",
       "    <tr style=\"text-align: right;\">\n",
       "      <th></th>\n",
       "      <th>genre_id</th>\n",
       "      <th>ts_listen</th>\n",
       "      <th>media_id</th>\n",
       "      <th>album_id</th>\n",
       "      <th>context_type</th>\n",
       "      <th>release_date</th>\n",
       "      <th>platform_name</th>\n",
       "      <th>platform_family</th>\n",
       "      <th>media_duration</th>\n",
       "      <th>listen_type</th>\n",
       "      <th>...</th>\n",
       "      <th>media_bpm</th>\n",
       "      <th>media_rank</th>\n",
       "      <th>user_id_id</th>\n",
       "      <th>nmidia_regular_listened</th>\n",
       "      <th>nmidia_with_flow_listened</th>\n",
       "      <th>nmidia_regular</th>\n",
       "      <th>nmidia_with_flow</th>\n",
       "      <th>nmidia_with_flow_listened_PROP</th>\n",
       "      <th>nmidia_regular_listened_PROP</th>\n",
       "      <th>nmidia_PROP_diff</th>\n",
       "    </tr>\n",
       "  </thead>\n",
       "  <tbody>\n",
       "    <tr>\n",
       "      <th>0</th>\n",
       "      <td>25471</td>\n",
       "      <td>2016-12-01 11:00:15</td>\n",
       "      <td>222606</td>\n",
       "      <td>41774</td>\n",
       "      <td>12</td>\n",
       "      <td>2004-07-04 00:00:00</td>\n",
       "      <td>1</td>\n",
       "      <td>0</td>\n",
       "      <td>4.0</td>\n",
       "      <td>0</td>\n",
       "      <td>...</td>\n",
       "      <td>100.1</td>\n",
       "      <td>292784.0</td>\n",
       "      <td>9241</td>\n",
       "      <td>41</td>\n",
       "      <td>48</td>\n",
       "      <td>57</td>\n",
       "      <td>71</td>\n",
       "      <td>0.676056</td>\n",
       "      <td>0.719298</td>\n",
       "      <td>-0.043242</td>\n",
       "    </tr>\n",
       "    <tr>\n",
       "      <th>1</th>\n",
       "      <td>7</td>\n",
       "      <td>2016-12-01 10:48:50</td>\n",
       "      <td>4301418</td>\n",
       "      <td>400118</td>\n",
       "      <td>9</td>\n",
       "      <td>2009-10-16 00:00:00</td>\n",
       "      <td>1</td>\n",
       "      <td>0</td>\n",
       "      <td>7.0</td>\n",
       "      <td>0</td>\n",
       "      <td>...</td>\n",
       "      <td>102.0</td>\n",
       "      <td>884679.0</td>\n",
       "      <td>9241</td>\n",
       "      <td>41</td>\n",
       "      <td>48</td>\n",
       "      <td>57</td>\n",
       "      <td>71</td>\n",
       "      <td>0.676056</td>\n",
       "      <td>0.719298</td>\n",
       "      <td>-0.043242</td>\n",
       "    </tr>\n",
       "    <tr>\n",
       "      <th>2</th>\n",
       "      <td>10</td>\n",
       "      <td>2016-11-30 11:48:22</td>\n",
       "      <td>983248</td>\n",
       "      <td>109347</td>\n",
       "      <td>0</td>\n",
       "      <td>2002-10-21 00:00:00</td>\n",
       "      <td>1</td>\n",
       "      <td>0</td>\n",
       "      <td>3.0</td>\n",
       "      <td>0</td>\n",
       "      <td>...</td>\n",
       "      <td>129.0</td>\n",
       "      <td>783895.0</td>\n",
       "      <td>9241</td>\n",
       "      <td>41</td>\n",
       "      <td>48</td>\n",
       "      <td>57</td>\n",
       "      <td>71</td>\n",
       "      <td>0.676056</td>\n",
       "      <td>0.719298</td>\n",
       "      <td>-0.043242</td>\n",
       "    </tr>\n",
       "    <tr>\n",
       "      <th>3</th>\n",
       "      <td>10</td>\n",
       "      <td>2016-12-01 07:18:24</td>\n",
       "      <td>983248</td>\n",
       "      <td>109347</td>\n",
       "      <td>0</td>\n",
       "      <td>2002-10-21 00:00:00</td>\n",
       "      <td>1</td>\n",
       "      <td>0</td>\n",
       "      <td>3.0</td>\n",
       "      <td>0</td>\n",
       "      <td>...</td>\n",
       "      <td>129.0</td>\n",
       "      <td>783895.0</td>\n",
       "      <td>9241</td>\n",
       "      <td>41</td>\n",
       "      <td>48</td>\n",
       "      <td>57</td>\n",
       "      <td>71</td>\n",
       "      <td>0.676056</td>\n",
       "      <td>0.719298</td>\n",
       "      <td>-0.043242</td>\n",
       "    </tr>\n",
       "    <tr>\n",
       "      <th>4</th>\n",
       "      <td>10</td>\n",
       "      <td>2016-11-29 09:42:52</td>\n",
       "      <td>983248</td>\n",
       "      <td>109347</td>\n",
       "      <td>1</td>\n",
       "      <td>2002-10-21 00:00:00</td>\n",
       "      <td>1</td>\n",
       "      <td>0</td>\n",
       "      <td>3.0</td>\n",
       "      <td>1</td>\n",
       "      <td>...</td>\n",
       "      <td>129.0</td>\n",
       "      <td>783895.0</td>\n",
       "      <td>9241</td>\n",
       "      <td>41</td>\n",
       "      <td>48</td>\n",
       "      <td>57</td>\n",
       "      <td>71</td>\n",
       "      <td>0.676056</td>\n",
       "      <td>0.719298</td>\n",
       "      <td>-0.043242</td>\n",
       "    </tr>\n",
       "  </tbody>\n",
       "</table>\n",
       "<p>5 rows × 41 columns</p>\n",
       "</div>"
      ],
      "text/plain": [
       "   genre_id            ts_listen  media_id  album_id  context_type         release_date  platform_name  platform_family  media_duration  listen_type        ...         media_bpm  media_rank  \\\n",
       "0     25471  2016-12-01 11:00:15    222606     41774            12  2004-07-04 00:00:00              1                0             4.0            0        ...             100.1    292784.0   \n",
       "1         7  2016-12-01 10:48:50   4301418    400118             9  2009-10-16 00:00:00              1                0             7.0            0        ...             102.0    884679.0   \n",
       "2        10  2016-11-30 11:48:22    983248    109347             0  2002-10-21 00:00:00              1                0             3.0            0        ...             129.0    783895.0   \n",
       "3        10  2016-12-01 07:18:24    983248    109347             0  2002-10-21 00:00:00              1                0             3.0            0        ...             129.0    783895.0   \n",
       "4        10  2016-11-29 09:42:52    983248    109347             1  2002-10-21 00:00:00              1                0             3.0            1        ...             129.0    783895.0   \n",
       "\n",
       "   user_id_id  nmidia_regular_listened  nmidia_with_flow_listened nmidia_regular  nmidia_with_flow  nmidia_with_flow_listened_PROP  nmidia_regular_listened_PROP  nmidia_PROP_diff  \n",
       "0        9241                       41                         48             57                71                        0.676056                      0.719298         -0.043242  \n",
       "1        9241                       41                         48             57                71                        0.676056                      0.719298         -0.043242  \n",
       "2        9241                       41                         48             57                71                        0.676056                      0.719298         -0.043242  \n",
       "3        9241                       41                         48             57                71                        0.676056                      0.719298         -0.043242  \n",
       "4        9241                       41                         48             57                71                        0.676056                      0.719298         -0.043242  \n",
       "\n",
       "[5 rows x 41 columns]"
      ]
     },
     "execution_count": 19,
     "metadata": {},
     "output_type": "execute_result"
    }
   ],
   "source": [
    "df_train = pd.merge(df_train, df_user, on=\"user_id\")\n",
    "df_test = pd.merge(df_test, df_user, on=\"user_id\")\n",
    "df_train.head()"
   ]
  },
  {
   "cell_type": "code",
   "execution_count": null,
   "metadata": {
    "collapsed": true,
    "deletable": true,
    "editable": true
   },
   "outputs": [],
   "source": []
  },
  {
   "cell_type": "code",
   "execution_count": null,
   "metadata": {
    "collapsed": false,
    "deletable": true,
    "editable": true
   },
   "outputs": [],
   "source": []
  },
  {
   "cell_type": "markdown",
   "metadata": {
    "deletable": true,
    "editable": true,
    "ein.tags": [
     "worksheet-0"
    ],
    "slideshow": {
     "slide_type": "-"
    }
   },
   "source": [
    "### Check for NA\n",
    "#### Ver depois sobre o user_age_group!"
   ]
  },
  {
   "cell_type": "code",
   "execution_count": 20,
   "metadata": {
    "autoscroll": "json-false",
    "collapsed": false,
    "deletable": true,
    "editable": true,
    "ein.tags": [
     "worksheet-0"
    ],
    "slideshow": {
     "slide_type": "-"
    }
   },
   "outputs": [],
   "source": [
    "# x = pd.isnull(df_train).sum()\n",
    "# x[x > 0]"
   ]
  },
  {
   "cell_type": "code",
   "execution_count": 21,
   "metadata": {
    "autoscroll": "json-false",
    "collapsed": false,
    "deletable": true,
    "editable": true,
    "ein.tags": [
     "worksheet-0"
    ],
    "slideshow": {
     "slide_type": "-"
    }
   },
   "outputs": [],
   "source": [
    "# df_train.dropna(inplace=True)"
   ]
  },
  {
   "cell_type": "code",
   "execution_count": 22,
   "metadata": {
    "autoscroll": "json-false",
    "collapsed": false,
    "deletable": true,
    "editable": true,
    "ein.tags": [
     "worksheet-0"
    ],
    "slideshow": {
     "slide_type": "-"
    }
   },
   "outputs": [],
   "source": [
    "# x = pd.isnull(df_train).sum()\n",
    "# x[x > 0]\n",
    "# del x"
   ]
  },
  {
   "cell_type": "code",
   "execution_count": 23,
   "metadata": {
    "autoscroll": "json-false",
    "collapsed": false,
    "deletable": true,
    "editable": true,
    "ein.tags": [
     "worksheet-0"
    ],
    "slideshow": {
     "slide_type": "-"
    }
   },
   "outputs": [],
   "source": [
    "y = df_train[\"is_listened\"].values"
   ]
  },
  {
   "cell_type": "code",
   "execution_count": 24,
   "metadata": {
    "autoscroll": "json-false",
    "collapsed": false,
    "deletable": true,
    "editable": true,
    "ein.tags": [
     "worksheet-0"
    ],
    "slideshow": {
     "slide_type": "-"
    }
   },
   "outputs": [],
   "source": [
    "categorical_cols = [\"genre_id\",\n",
    "                   \"media_id\",\n",
    "                   \"album_id\",\n",
    "                   \"context_type\",\n",
    "                   \"release_date\",\n",
    "                   \"platform_name\",\n",
    "                   \"platform_family\",\n",
    "                   \"listen_type\",\n",
    "                   \"user_gender\",\n",
    "                   \"user_id\",\n",
    "                   \"artist_id\",\n",
    "                   \"user_age\"]"
   ]
  },
  {
   "cell_type": "code",
   "execution_count": 25,
   "metadata": {
    "collapsed": false
   },
   "outputs": [
    {
     "name": "stdout",
     "output_type": "stream",
     "text": [
      "41\n",
      "41\n"
     ]
    }
   ],
   "source": [
    "print(len(df_train.columns))\n",
    "print(len(set(df_train.columns)))"
   ]
  },
  {
   "cell_type": "markdown",
   "metadata": {
    "deletable": true,
    "editable": true,
    "ein.tags": [
     "worksheet-0"
    ],
    "slideshow": {
     "slide_type": "-"
    }
   },
   "source": [
    "### Let's inspect the categorical variables!"
   ]
  },
  {
   "cell_type": "code",
   "execution_count": 26,
   "metadata": {
    "autoscroll": "json-false",
    "collapsed": false,
    "deletable": true,
    "editable": true,
    "ein.tags": [
     "worksheet-0"
    ],
    "slideshow": {
     "slide_type": "-"
    }
   },
   "outputs": [
    {
     "name": "stdout",
     "output_type": "stream",
     "text": [
      "genre_id: 2922\n",
      "media_id: 452965\n",
      "album_id: 151464\n",
      "context_type: 74\n",
      "release_date: 8901\n",
      "platform_name: 3\n",
      "platform_family: 3\n",
      "listen_type: 2\n",
      "user_gender: 2\n",
      "user_id: 19918\n",
      "artist_id: 67135\n",
      "user_age: 13\n"
     ]
    }
   ],
   "source": [
    "for col in categorical_cols:\n",
    "    print(\"{}: {}\".format(col, len(df_train[col].unique())))"
   ]
  },
  {
   "cell_type": "markdown",
   "metadata": {
    "deletable": true,
    "editable": true,
    "ein.tags": [
     "worksheet-0"
    ],
    "slideshow": {
     "slide_type": "-"
    }
   },
   "source": [
    "### Strategy\n",
    "1. Apply onehot to categorical with few classes\n",
    "2. Rank categories to artist id\n",
    "3. target encoder for context and genre\n",
    "4. discard media, album, release date and user_id"
   ]
  },
  {
   "cell_type": "code",
   "execution_count": 27,
   "metadata": {
    "autoscroll": "json-false",
    "collapsed": false,
    "deletable": true,
    "editable": true,
    "ein.tags": [
     "worksheet-0"
    ],
    "slideshow": {
     "slide_type": "-"
    }
   },
   "outputs": [],
   "source": [
    "from greenpyce.feature_engineering import TargetEncoder\n",
    "from greenpyce.feature_engineering import onehot\n",
    "from greenpyce.feature_engineering import RankCategorical\n",
    "from greenpyce.feature_engineering import LabelCount"
   ]
  },
  {
   "cell_type": "code",
   "execution_count": 28,
   "metadata": {
    "autoscroll": "json-false",
    "collapsed": false,
    "deletable": true,
    "editable": true,
    "ein.tags": [
     "worksheet-0"
    ],
    "slideshow": {
     "slide_type": "-"
    }
   },
   "outputs": [
    {
     "data": {
      "text/plain": [
       "array(['genre_id', 'ts_listen', 'media_id', 'album_id', 'context_type',\n",
       "       'release_date', 'platform_name', 'platform_family',\n",
       "       'media_duration', 'listen_type', 'user_gender', 'user_id',\n",
       "       'artist_id', 'user_age', 'is_listened', 'text', 'year',\n",
       "       'diff_ts_listen_AND_release_date_D',\n",
       "       'diff_ts_listen_AND_release_date_M',\n",
       "       'diff_ts_listen_AND_release_date_Y', 'release_date_DAY',\n",
       "       'release_date_MONTH', 'release_date_YEAR', 'ts_listen_DAY_OF_WEEK',\n",
       "       'ts_listen_PERIOD_OF_DAY', 'user_age_group', 'diff_user_song_age',\n",
       "       'media_decade', 'artist_albuns', 'artist_fans', 'artist_radio',\n",
       "       'media_bpm', 'media_rank', 'user_id_id', 'nmidia_regular_listened',\n",
       "       'nmidia_with_flow_listened', 'nmidia_regular', 'nmidia_with_flow',\n",
       "       'nmidia_with_flow_listened_PROP', 'nmidia_regular_listened_PROP',\n",
       "       'nmidia_PROP_diff'], dtype=object)"
      ]
     },
     "execution_count": 28,
     "metadata": {},
     "output_type": "execute_result"
    }
   ],
   "source": [
    "df_train.columns.values"
   ]
  },
  {
   "cell_type": "markdown",
   "metadata": {
    "deletable": true,
    "editable": true,
    "ein.tags": [
     "worksheet-0"
    ],
    "slideshow": {
     "slide_type": "-"
    }
   },
   "source": [
    "Index([u'Unnamed: 0', u'Unnamed: 0.1', u'genre_id', u'ts_listen', u'media_id',\n",
    "       u'album_id', u'context_type', u'release_date', u'platform_name',\n",
    "       u'platform_family', u'media_duration', u'listen_type', u'user_gender',\n",
    "       u'user_id', u'artist_id', u'user_age', u'is_listened', u'text', u'year',\n",
    "       u'diff_ts_listen_AND_release_date_D',\n",
    "       u'diff_ts_listen_AND_release_date_M',\n",
    "       u'diff_ts_listen_AND_release_date_Y', u'release_date_DAY',\n",
    "       u'release_date_MONTH', u'release_date_YEAR', u'ts_listen_DAY_OF_WEEK',\n",
    "       u'ts_listen_PERIOD_OF_DAY', u'user_age_group', u'diff_user_song_age',\n",
    "       u'media_decade'],\n",
    "      dtype='object')"
   ]
  },
  {
   "cell_type": "code",
   "execution_count": 29,
   "metadata": {
    "autoscroll": "json-false",
    "collapsed": false,
    "deletable": true,
    "editable": true,
    "ein.tags": [
     "worksheet-0"
    ],
    "slideshow": {
     "slide_type": "-"
    }
   },
   "outputs": [],
   "source": [
    "cols_for_target_encoder = [\"genre_id\", \n",
    "                           \"user_id\", \n",
    "                           \"media_id\", \n",
    "                           \"album_id\"]\n",
    "\n",
    "cols_for_onehot = [\"platform_name\", \n",
    "                   \"platform_family\", \n",
    "                   \"user_age\",\n",
    "                   \"listen_type\",\n",
    "                   \"artist_radio\",\n",
    "                   \"user_age_group\",\n",
    "                   \"media_decade\",\n",
    "                   \"user_gender\", \n",
    "                   \"ts_listen_DAY_OF_WEEK\",\n",
    "                   \"ts_listen_PERIOD_OF_DAY\"]\n",
    "\n",
    "cols_for_rank = [\"artist_id\",\n",
    "                \"artist_fans\",\n",
    "                \"context_type\"]\n",
    "\n",
    "\n",
    "target = \"is_listened\""
   ]
  },
  {
   "cell_type": "code",
   "execution_count": null,
   "metadata": {
    "collapsed": true,
    "deletable": true,
    "editable": true
   },
   "outputs": [],
   "source": []
  },
  {
   "cell_type": "code",
   "execution_count": 30,
   "metadata": {
    "autoscroll": "json-false",
    "collapsed": false,
    "deletable": true,
    "editable": true,
    "ein.tags": [
     "worksheet-0"
    ],
    "slideshow": {
     "slide_type": "-"
    }
   },
   "outputs": [],
   "source": [
    "te = TargetEncoder(cols_for_target_encoder, \"is_listened\")"
   ]
  },
  {
   "cell_type": "code",
   "execution_count": 31,
   "metadata": {
    "autoscroll": "json-false",
    "collapsed": false,
    "deletable": true,
    "editable": true,
    "ein.tags": [
     "worksheet-0"
    ],
    "slideshow": {
     "slide_type": "-"
    }
   },
   "outputs": [],
   "source": [
    "te.fit(df_train)"
   ]
  },
  {
   "cell_type": "code",
   "execution_count": 32,
   "metadata": {
    "autoscroll": "json-false",
    "collapsed": false,
    "deletable": true,
    "editable": true,
    "ein.tags": [
     "worksheet-0"
    ],
    "slideshow": {
     "slide_type": "-"
    }
   },
   "outputs": [],
   "source": [
    "te.transform(df_train)\n",
    "te.transform(df_test)\n",
    "del te"
   ]
  },
  {
   "cell_type": "code",
   "execution_count": 33,
   "metadata": {
    "collapsed": false,
    "deletable": true,
    "editable": true
   },
   "outputs": [
    {
     "name": "stdout",
     "output_type": "stream",
     "text": [
      "das\n"
     ]
    }
   ],
   "source": [
    "print(\"das\")"
   ]
  },
  {
   "cell_type": "code",
   "execution_count": 34,
   "metadata": {
    "collapsed": false,
    "deletable": true,
    "editable": true
   },
   "outputs": [
    {
     "name": "stdout",
     "output_type": "stream",
     "text": [
      "teste\n"
     ]
    }
   ],
   "source": [
    "print(\"teste\")"
   ]
  },
  {
   "cell_type": "code",
   "execution_count": 35,
   "metadata": {
    "autoscroll": "json-false",
    "collapsed": false,
    "deletable": true,
    "editable": true,
    "ein.tags": [
     "worksheet-0"
    ],
    "slideshow": {
     "slide_type": "-"
    }
   },
   "outputs": [],
   "source": [
    "rc = RankCategorical(cols_for_rank)\n",
    "rc.fit(df_train)\n",
    "rc.transform(df_train)\n",
    "rc.transform(df_test)\n",
    "del rc"
   ]
  },
  {
   "cell_type": "code",
   "execution_count": 36,
   "metadata": {
    "autoscroll": "json-false",
    "collapsed": false,
    "deletable": true,
    "editable": true,
    "ein.tags": [
     "worksheet-0"
    ],
    "slideshow": {
     "slide_type": "-"
    }
   },
   "outputs": [],
   "source": [
    "# rc = RankCategorical([\"media_decade\"])\n",
    "# rc.fit(df_train)\n",
    "# rc.transform(df_train)\n",
    "# rc.transform(df_test)\n",
    "# del rc"
   ]
  },
  {
   "cell_type": "code",
   "execution_count": 37,
   "metadata": {
    "autoscroll": "json-false",
    "collapsed": false,
    "deletable": true,
    "editable": true,
    "ein.tags": [
     "worksheet-0"
    ],
    "slideshow": {
     "slide_type": "-"
    }
   },
   "outputs": [],
   "source": [
    "# lc = RankCategorical(cols_for_count)\n",
    "# lc.fit(df_train)\n",
    "# lc.transform(df_train)\n",
    "# lc.transform(df_test)"
   ]
  },
  {
   "cell_type": "code",
   "execution_count": 38,
   "metadata": {
    "autoscroll": "json-false",
    "collapsed": false,
    "deletable": true,
    "editable": true,
    "ein.tags": [
     "worksheet-0"
    ],
    "slideshow": {
     "slide_type": "-"
    }
   },
   "outputs": [
    {
     "data": {
      "text/html": [
       "<div>\n",
       "<table border=\"1\" class=\"dataframe\">\n",
       "  <thead>\n",
       "    <tr style=\"text-align: right;\">\n",
       "      <th></th>\n",
       "      <th>genre_id</th>\n",
       "      <th>ts_listen</th>\n",
       "      <th>media_id</th>\n",
       "      <th>album_id</th>\n",
       "      <th>context_type</th>\n",
       "      <th>release_date</th>\n",
       "      <th>platform_name</th>\n",
       "      <th>platform_family</th>\n",
       "      <th>media_duration</th>\n",
       "      <th>listen_type</th>\n",
       "      <th>...</th>\n",
       "      <th>media_bpm</th>\n",
       "      <th>media_rank</th>\n",
       "      <th>user_id_id</th>\n",
       "      <th>nmidia_regular_listened</th>\n",
       "      <th>nmidia_with_flow_listened</th>\n",
       "      <th>nmidia_regular</th>\n",
       "      <th>nmidia_with_flow</th>\n",
       "      <th>nmidia_with_flow_listened_PROP</th>\n",
       "      <th>nmidia_regular_listened_PROP</th>\n",
       "      <th>nmidia_PROP_diff</th>\n",
       "    </tr>\n",
       "  </thead>\n",
       "  <tbody>\n",
       "    <tr>\n",
       "      <th>0</th>\n",
       "      <td>0.688147</td>\n",
       "      <td>2016-12-01 11:00:15</td>\n",
       "      <td>0.000000</td>\n",
       "      <td>0.000000</td>\n",
       "      <td>13</td>\n",
       "      <td>2004-07-04 00:00:00</td>\n",
       "      <td>1</td>\n",
       "      <td>0</td>\n",
       "      <td>4.0</td>\n",
       "      <td>0</td>\n",
       "      <td>...</td>\n",
       "      <td>100.1</td>\n",
       "      <td>292784.0</td>\n",
       "      <td>9241</td>\n",
       "      <td>41</td>\n",
       "      <td>48</td>\n",
       "      <td>57</td>\n",
       "      <td>71</td>\n",
       "      <td>0.676056</td>\n",
       "      <td>0.719298</td>\n",
       "      <td>-0.043242</td>\n",
       "    </tr>\n",
       "    <tr>\n",
       "      <th>1</th>\n",
       "      <td>0.663153</td>\n",
       "      <td>2016-12-01 10:48:50</td>\n",
       "      <td>0.736878</td>\n",
       "      <td>0.701284</td>\n",
       "      <td>10</td>\n",
       "      <td>2009-10-16 00:00:00</td>\n",
       "      <td>1</td>\n",
       "      <td>0</td>\n",
       "      <td>7.0</td>\n",
       "      <td>0</td>\n",
       "      <td>...</td>\n",
       "      <td>102.0</td>\n",
       "      <td>884679.0</td>\n",
       "      <td>9241</td>\n",
       "      <td>41</td>\n",
       "      <td>48</td>\n",
       "      <td>57</td>\n",
       "      <td>71</td>\n",
       "      <td>0.676056</td>\n",
       "      <td>0.719298</td>\n",
       "      <td>-0.043242</td>\n",
       "    </tr>\n",
       "    <tr>\n",
       "      <th>2</th>\n",
       "      <td>0.724500</td>\n",
       "      <td>2016-11-30 11:48:22</td>\n",
       "      <td>0.631609</td>\n",
       "      <td>0.709250</td>\n",
       "      <td>1</td>\n",
       "      <td>2002-10-21 00:00:00</td>\n",
       "      <td>1</td>\n",
       "      <td>0</td>\n",
       "      <td>3.0</td>\n",
       "      <td>0</td>\n",
       "      <td>...</td>\n",
       "      <td>129.0</td>\n",
       "      <td>783895.0</td>\n",
       "      <td>9241</td>\n",
       "      <td>41</td>\n",
       "      <td>48</td>\n",
       "      <td>57</td>\n",
       "      <td>71</td>\n",
       "      <td>0.676056</td>\n",
       "      <td>0.719298</td>\n",
       "      <td>-0.043242</td>\n",
       "    </tr>\n",
       "    <tr>\n",
       "      <th>3</th>\n",
       "      <td>0.724500</td>\n",
       "      <td>2016-12-01 07:18:24</td>\n",
       "      <td>0.631609</td>\n",
       "      <td>0.709250</td>\n",
       "      <td>1</td>\n",
       "      <td>2002-10-21 00:00:00</td>\n",
       "      <td>1</td>\n",
       "      <td>0</td>\n",
       "      <td>3.0</td>\n",
       "      <td>0</td>\n",
       "      <td>...</td>\n",
       "      <td>129.0</td>\n",
       "      <td>783895.0</td>\n",
       "      <td>9241</td>\n",
       "      <td>41</td>\n",
       "      <td>48</td>\n",
       "      <td>57</td>\n",
       "      <td>71</td>\n",
       "      <td>0.676056</td>\n",
       "      <td>0.719298</td>\n",
       "      <td>-0.043242</td>\n",
       "    </tr>\n",
       "    <tr>\n",
       "      <th>4</th>\n",
       "      <td>0.724500</td>\n",
       "      <td>2016-11-29 09:42:52</td>\n",
       "      <td>0.631609</td>\n",
       "      <td>0.709250</td>\n",
       "      <td>2</td>\n",
       "      <td>2002-10-21 00:00:00</td>\n",
       "      <td>1</td>\n",
       "      <td>0</td>\n",
       "      <td>3.0</td>\n",
       "      <td>1</td>\n",
       "      <td>...</td>\n",
       "      <td>129.0</td>\n",
       "      <td>783895.0</td>\n",
       "      <td>9241</td>\n",
       "      <td>41</td>\n",
       "      <td>48</td>\n",
       "      <td>57</td>\n",
       "      <td>71</td>\n",
       "      <td>0.676056</td>\n",
       "      <td>0.719298</td>\n",
       "      <td>-0.043242</td>\n",
       "    </tr>\n",
       "  </tbody>\n",
       "</table>\n",
       "<p>5 rows × 41 columns</p>\n",
       "</div>"
      ],
      "text/plain": [
       "   genre_id            ts_listen  media_id  album_id  context_type         release_date  platform_name  platform_family  media_duration  listen_type        ...         media_bpm  media_rank  \\\n",
       "0  0.688147  2016-12-01 11:00:15  0.000000  0.000000            13  2004-07-04 00:00:00              1                0             4.0            0        ...             100.1    292784.0   \n",
       "1  0.663153  2016-12-01 10:48:50  0.736878  0.701284            10  2009-10-16 00:00:00              1                0             7.0            0        ...             102.0    884679.0   \n",
       "2  0.724500  2016-11-30 11:48:22  0.631609  0.709250             1  2002-10-21 00:00:00              1                0             3.0            0        ...             129.0    783895.0   \n",
       "3  0.724500  2016-12-01 07:18:24  0.631609  0.709250             1  2002-10-21 00:00:00              1                0             3.0            0        ...             129.0    783895.0   \n",
       "4  0.724500  2016-11-29 09:42:52  0.631609  0.709250             2  2002-10-21 00:00:00              1                0             3.0            1        ...             129.0    783895.0   \n",
       "\n",
       "   user_id_id  nmidia_regular_listened  nmidia_with_flow_listened nmidia_regular  nmidia_with_flow  nmidia_with_flow_listened_PROP  nmidia_regular_listened_PROP  nmidia_PROP_diff  \n",
       "0        9241                       41                         48             57                71                        0.676056                      0.719298         -0.043242  \n",
       "1        9241                       41                         48             57                71                        0.676056                      0.719298         -0.043242  \n",
       "2        9241                       41                         48             57                71                        0.676056                      0.719298         -0.043242  \n",
       "3        9241                       41                         48             57                71                        0.676056                      0.719298         -0.043242  \n",
       "4        9241                       41                         48             57                71                        0.676056                      0.719298         -0.043242  \n",
       "\n",
       "[5 rows x 41 columns]"
      ]
     },
     "execution_count": 38,
     "metadata": {},
     "output_type": "execute_result"
    }
   ],
   "source": [
    "df_train.head()"
   ]
  },
  {
   "cell_type": "code",
   "execution_count": 39,
   "metadata": {
    "autoscroll": "json-false",
    "collapsed": false,
    "deletable": true,
    "editable": true,
    "ein.tags": [
     "worksheet-0"
    ],
    "slideshow": {
     "slide_type": "-"
    }
   },
   "outputs": [],
   "source": [
    "df_train = onehot(df_train, cols_for_onehot)\n",
    "df_test = onehot(df_test, cols_for_onehot)"
   ]
  },
  {
   "cell_type": "code",
   "execution_count": 40,
   "metadata": {
    "autoscroll": "json-false",
    "collapsed": false,
    "deletable": true,
    "editable": true,
    "ein.tags": [
     "worksheet-0"
    ],
    "slideshow": {
     "slide_type": "-"
    }
   },
   "outputs": [
    {
     "name": "stdout",
     "output_type": "stream",
     "text": [
      "   genre_id            ts_listen  media_id  album_id  context_type         release_date  media_duration   user_id  artist_id  is_listened            ...             user_gender_1  \\\n",
      "0  0.688147  2016-12-01 11:00:15  0.000000  0.000000            13  2004-07-04 00:00:00             4.0  0.676991      56514            0            ...                         0   \n",
      "1  0.663153  2016-12-01 10:48:50  0.736878  0.701284            10  2009-10-16 00:00:00             7.0  0.676991        599            1            ...                         0   \n",
      "2  0.724500  2016-11-30 11:48:22  0.631609  0.709250             1  2002-10-21 00:00:00             3.0  0.676991         66            0            ...                         0   \n",
      "3  0.724500  2016-12-01 07:18:24  0.631609  0.709250             1  2002-10-21 00:00:00             3.0  0.676991         66            0            ...                         0   \n",
      "4  0.724500  2016-11-29 09:42:52  0.631609  0.709250             2  2002-10-21 00:00:00             3.0  0.676991         66            1            ...                         0   \n",
      "\n",
      "   ts_listen_DAY_OF_WEEK_1  ts_listen_DAY_OF_WEEK_2  ts_listen_DAY_OF_WEEK_3  ts_listen_DAY_OF_WEEK_4  ts_listen_DAY_OF_WEEK_5  ts_listen_DAY_OF_WEEK_6  ts_listen_PERIOD_OF_DAY_1  \\\n",
      "0                        0                        0                        1                        0                        0                        0                          0   \n",
      "1                        0                        0                        1                        0                        0                        0                          0   \n",
      "2                        0                        1                        0                        0                        0                        0                          0   \n",
      "3                        0                        0                        1                        0                        0                        0                          0   \n",
      "4                        1                        0                        0                        0                        0                        0                          0   \n",
      "\n",
      "   ts_listen_PERIOD_OF_DAY_2  ts_listen_PERIOD_OF_DAY_3  \n",
      "0                          0                          0  \n",
      "1                          0                          0  \n",
      "2                          0                          0  \n",
      "3                          0                          0  \n",
      "4                          0                          0  \n",
      "\n",
      "[5 rows x 68 columns]\n"
     ]
    }
   ],
   "source": [
    "print(df_train.head())"
   ]
  },
  {
   "cell_type": "code",
   "execution_count": 41,
   "metadata": {
    "autoscroll": "json-false",
    "collapsed": false,
    "deletable": true,
    "editable": true,
    "ein.tags": [
     "worksheet-0"
    ],
    "slideshow": {
     "slide_type": "-"
    }
   },
   "outputs": [
    {
     "data": {
      "text/plain": [
       "Counter({'album_id': 1,\n",
       "         'artist_albuns': 1,\n",
       "         'artist_fans': 1,\n",
       "         'artist_id': 1,\n",
       "         'context_type': 1,\n",
       "         'diff_ts_listen_AND_release_date_D': 1,\n",
       "         'diff_ts_listen_AND_release_date_M': 1,\n",
       "         'diff_ts_listen_AND_release_date_Y': 1,\n",
       "         'diff_user_song_age': 1,\n",
       "         'genre_id': 1,\n",
       "         'is_listened': 1,\n",
       "         'listen_type_1': 1,\n",
       "         'media_bpm': 1,\n",
       "         'media_decade_1': 1,\n",
       "         'media_decade_2': 1,\n",
       "         'media_decade_3': 1,\n",
       "         'media_decade_4': 1,\n",
       "         'media_decade_5': 1,\n",
       "         'media_decade_6': 1,\n",
       "         'media_decade_7': 1,\n",
       "         'media_decade_8': 1,\n",
       "         'media_duration': 1,\n",
       "         'media_id': 1,\n",
       "         'media_rank': 1,\n",
       "         'nmidia_PROP_diff': 1,\n",
       "         'nmidia_regular': 1,\n",
       "         'nmidia_regular_listened': 1,\n",
       "         'nmidia_regular_listened_PROP': 1,\n",
       "         'nmidia_with_flow': 1,\n",
       "         'nmidia_with_flow_listened': 1,\n",
       "         'nmidia_with_flow_listened_PROP': 1,\n",
       "         'platform_family_1': 1,\n",
       "         'platform_family_2': 1,\n",
       "         'platform_name_1': 1,\n",
       "         'platform_name_2': 1,\n",
       "         'release_date': 1,\n",
       "         'release_date_DAY': 1,\n",
       "         'release_date_MONTH': 1,\n",
       "         'release_date_YEAR': 1,\n",
       "         'text': 1,\n",
       "         'ts_listen': 1,\n",
       "         'ts_listen_DAY_OF_WEEK_1': 1,\n",
       "         'ts_listen_DAY_OF_WEEK_2': 1,\n",
       "         'ts_listen_DAY_OF_WEEK_3': 1,\n",
       "         'ts_listen_DAY_OF_WEEK_4': 1,\n",
       "         'ts_listen_DAY_OF_WEEK_5': 1,\n",
       "         'ts_listen_DAY_OF_WEEK_6': 1,\n",
       "         'ts_listen_PERIOD_OF_DAY_1': 1,\n",
       "         'ts_listen_PERIOD_OF_DAY_2': 1,\n",
       "         'ts_listen_PERIOD_OF_DAY_3': 1,\n",
       "         'user_age_19': 1,\n",
       "         'user_age_20': 1,\n",
       "         'user_age_21': 1,\n",
       "         'user_age_22': 1,\n",
       "         'user_age_23': 1,\n",
       "         'user_age_24': 1,\n",
       "         'user_age_25': 1,\n",
       "         'user_age_26': 1,\n",
       "         'user_age_27': 1,\n",
       "         'user_age_28': 1,\n",
       "         'user_age_29': 1,\n",
       "         'user_age_30': 1,\n",
       "         'user_age_group_1': 1,\n",
       "         'user_age_group_2': 1,\n",
       "         'user_gender_1': 1,\n",
       "         'user_id': 1,\n",
       "         'user_id_id': 1,\n",
       "         'year': 1})"
      ]
     },
     "execution_count": 41,
     "metadata": {},
     "output_type": "execute_result"
    }
   ],
   "source": [
    "#df_train = rank_categorical(df_train, cols_for_rank)\n",
    "from collections import Counter\n",
    "Counter(list(df_train.columns))"
   ]
  },
  {
   "cell_type": "code",
   "execution_count": 42,
   "metadata": {
    "collapsed": false
   },
   "outputs": [
    {
     "name": "stdout",
     "output_type": "stream",
     "text": [
      "68\n",
      "68\n"
     ]
    }
   ],
   "source": [
    "print(len(df_train.columns))\n",
    "print(len(set(df_train.columns)))"
   ]
  },
  {
   "cell_type": "code",
   "execution_count": 43,
   "metadata": {
    "autoscroll": "json-false",
    "collapsed": false,
    "deletable": true,
    "editable": true,
    "ein.tags": [
     "worksheet-0"
    ],
    "slideshow": {
     "slide_type": "-"
    }
   },
   "outputs": [
    {
     "data": {
      "text/plain": [
       "array(['genre_id', 'ts_listen', 'media_id', 'album_id', 'context_type',\n",
       "       'release_date', 'media_duration', 'user_id', 'artist_id',\n",
       "       'is_listened', 'text', 'year', 'diff_ts_listen_AND_release_date_D',\n",
       "       'diff_ts_listen_AND_release_date_M',\n",
       "       'diff_ts_listen_AND_release_date_Y', 'release_date_DAY',\n",
       "       'release_date_MONTH', 'release_date_YEAR', 'diff_user_song_age',\n",
       "       'artist_albuns', 'artist_fans', 'media_bpm', 'media_rank',\n",
       "       'user_id_id', 'nmidia_regular_listened',\n",
       "       'nmidia_with_flow_listened', 'nmidia_regular', 'nmidia_with_flow',\n",
       "       'nmidia_with_flow_listened_PROP', 'nmidia_regular_listened_PROP',\n",
       "       'nmidia_PROP_diff', 'platform_name_1', 'platform_name_2',\n",
       "       'platform_family_1', 'platform_family_2', 'user_age_19',\n",
       "       'user_age_20', 'user_age_21', 'user_age_22', 'user_age_23',\n",
       "       'user_age_24', 'user_age_25', 'user_age_26', 'user_age_27',\n",
       "       'user_age_28', 'user_age_29', 'user_age_30', 'listen_type_1',\n",
       "       'user_age_group_1', 'user_age_group_2', 'media_decade_1',\n",
       "       'media_decade_2', 'media_decade_3', 'media_decade_4',\n",
       "       'media_decade_5', 'media_decade_6', 'media_decade_7',\n",
       "       'media_decade_8', 'user_gender_1', 'ts_listen_DAY_OF_WEEK_1',\n",
       "       'ts_listen_DAY_OF_WEEK_2', 'ts_listen_DAY_OF_WEEK_3',\n",
       "       'ts_listen_DAY_OF_WEEK_4', 'ts_listen_DAY_OF_WEEK_5',\n",
       "       'ts_listen_DAY_OF_WEEK_6', 'ts_listen_PERIOD_OF_DAY_1',\n",
       "       'ts_listen_PERIOD_OF_DAY_2', 'ts_listen_PERIOD_OF_DAY_3'], dtype=object)"
      ]
     },
     "execution_count": 43,
     "metadata": {},
     "output_type": "execute_result"
    }
   ],
   "source": [
    "df_train.columns.values"
   ]
  },
  {
   "cell_type": "code",
   "execution_count": 44,
   "metadata": {
    "collapsed": false
   },
   "outputs": [
    {
     "name": "stdout",
     "output_type": "stream",
     "text": [
      "68\n",
      "68\n"
     ]
    }
   ],
   "source": [
    "print(len(df_train.columns))\n",
    "print(len(set(df_train.columns)))"
   ]
  },
  {
   "cell_type": "code",
   "execution_count": 45,
   "metadata": {
    "autoscroll": "json-false",
    "collapsed": false,
    "deletable": true,
    "editable": true,
    "ein.tags": [
     "worksheet-0"
    ],
    "slideshow": {
     "slide_type": "-"
    }
   },
   "outputs": [],
   "source": [
    "%timeit\n",
    "### Drop\n",
    "to_drop = ['ts_listen', 'release_date', \"year\", \"text\", 'release_date_DAY', 'release_date_MONTH']#, \"nmidia_with_flow_listened_PROP\", \"nmidia_PROP_diff\", \"nmidia_regular_listened_PROP\"]\n",
    "df_train.drop(to_drop, axis = 1,inplace=True)\n",
    "df_test.drop(to_drop, axis = 1,inplace=True)"
   ]
  },
  {
   "cell_type": "code",
   "execution_count": 46,
   "metadata": {
    "autoscroll": "json-false",
    "collapsed": false,
    "deletable": true,
    "editable": true,
    "ein.tags": [
     "worksheet-0"
    ],
    "slideshow": {
     "slide_type": "-"
    }
   },
   "outputs": [],
   "source": [
    "# to_drop = [\"year\", \"text\"]\n",
    "# df_train.drop(to_drop, axis = 1,inplace=True)"
   ]
  },
  {
   "cell_type": "code",
   "execution_count": 47,
   "metadata": {
    "autoscroll": "json-false",
    "collapsed": false,
    "deletable": true,
    "editable": true,
    "ein.tags": [
     "worksheet-0"
    ],
    "slideshow": {
     "slide_type": "-"
    }
   },
   "outputs": [
    {
     "data": {
      "text/plain": [
       "['genre_id',\n",
       " 'media_id',\n",
       " 'album_id',\n",
       " 'context_type',\n",
       " 'media_duration',\n",
       " 'user_id',\n",
       " 'artist_id',\n",
       " 'diff_ts_listen_AND_release_date_D',\n",
       " 'diff_ts_listen_AND_release_date_M',\n",
       " 'diff_ts_listen_AND_release_date_Y',\n",
       " 'release_date_YEAR',\n",
       " 'diff_user_song_age',\n",
       " 'artist_albuns',\n",
       " 'artist_fans',\n",
       " 'media_bpm',\n",
       " 'media_rank',\n",
       " 'nmidia_regular_listened',\n",
       " 'nmidia_with_flow_listened',\n",
       " 'nmidia_regular',\n",
       " 'nmidia_with_flow',\n",
       " 'nmidia_with_flow_listened_PROP',\n",
       " 'nmidia_regular_listened_PROP',\n",
       " 'nmidia_PROP_diff',\n",
       " 'platform_name_1',\n",
       " 'platform_name_2',\n",
       " 'platform_family_1',\n",
       " 'platform_family_2',\n",
       " 'user_age_19',\n",
       " 'user_age_20',\n",
       " 'user_age_21',\n",
       " 'user_age_22',\n",
       " 'user_age_23',\n",
       " 'user_age_24',\n",
       " 'user_age_25',\n",
       " 'user_age_26',\n",
       " 'user_age_27',\n",
       " 'user_age_28',\n",
       " 'user_age_29',\n",
       " 'user_age_30',\n",
       " 'listen_type_1',\n",
       " 'user_age_group_1',\n",
       " 'user_age_group_2',\n",
       " 'media_decade_1',\n",
       " 'media_decade_2',\n",
       " 'media_decade_3',\n",
       " 'media_decade_4',\n",
       " 'media_decade_5',\n",
       " 'media_decade_6',\n",
       " 'media_decade_7',\n",
       " 'media_decade_8',\n",
       " 'user_gender_1',\n",
       " 'ts_listen_DAY_OF_WEEK_1',\n",
       " 'ts_listen_DAY_OF_WEEK_2',\n",
       " 'ts_listen_DAY_OF_WEEK_3',\n",
       " 'ts_listen_DAY_OF_WEEK_4',\n",
       " 'ts_listen_DAY_OF_WEEK_5',\n",
       " 'ts_listen_DAY_OF_WEEK_6',\n",
       " 'ts_listen_PERIOD_OF_DAY_1',\n",
       " 'ts_listen_PERIOD_OF_DAY_2',\n",
       " 'ts_listen_PERIOD_OF_DAY_3']"
      ]
     },
     "execution_count": 47,
     "metadata": {},
     "output_type": "execute_result"
    }
   ],
   "source": [
    "ignore_list = [target, \"user_id_id\"]\n",
    "features = [col for col in df_train.columns.values if col not in ignore_list]\n",
    "features"
   ]
  },
  {
   "cell_type": "code",
   "execution_count": null,
   "metadata": {
    "collapsed": true
   },
   "outputs": [],
   "source": []
  },
  {
   "cell_type": "code",
   "execution_count": 48,
   "metadata": {
    "collapsed": false,
    "deletable": true,
    "editable": true
   },
   "outputs": [
    {
     "data": {
      "text/plain": [
       "array([0, 0, 0, 0, 0, 0, 0, 0, 0, 0, 0, 0, 0, 0, 0, 0, 0, 0, 0, 0, 0, 0, 0,\n",
       "       0, 0, 0, 0, 0, 0, 0, 0, 0, 0, 0, 0, 0, 0, 0, 0, 0, 0, 0, 0, 0, 0, 0,\n",
       "       0, 0, 0, 0, 0, 0, 0, 0, 0, 0, 0, 0, 0, 0, 0, 0])"
      ]
     },
     "execution_count": 48,
     "metadata": {},
     "output_type": "execute_result"
    }
   ],
   "source": [
    "pd.isnull(df_train).sum().values"
   ]
  },
  {
   "cell_type": "code",
   "execution_count": 49,
   "metadata": {
    "collapsed": false,
    "deletable": true,
    "editable": true
   },
   "outputs": [
    {
     "data": {
      "text/plain": [
       "genre_id                             0\n",
       "media_id                             0\n",
       "album_id                             0\n",
       "context_type                         0\n",
       "media_duration                       0\n",
       "user_id                              0\n",
       "artist_id                            0\n",
       "is_listened                          0\n",
       "diff_ts_listen_AND_release_date_D    0\n",
       "diff_ts_listen_AND_release_date_M    0\n",
       "diff_ts_listen_AND_release_date_Y    0\n",
       "release_date_YEAR                    0\n",
       "diff_user_song_age                   0\n",
       "artist_albuns                        0\n",
       "artist_fans                          0\n",
       "media_bpm                            0\n",
       "media_rank                           0\n",
       "user_id_id                           0\n",
       "nmidia_regular_listened              0\n",
       "nmidia_with_flow_listened            0\n",
       "nmidia_regular                       0\n",
       "nmidia_with_flow                     0\n",
       "nmidia_with_flow_listened_PROP       0\n",
       "nmidia_regular_listened_PROP         0\n",
       "nmidia_PROP_diff                     0\n",
       "platform_name_1                      0\n",
       "platform_name_2                      0\n",
       "platform_family_1                    0\n",
       "platform_family_2                    0\n",
       "user_age_19                          0\n",
       "                                    ..\n",
       "user_age_22                          0\n",
       "user_age_23                          0\n",
       "user_age_24                          0\n",
       "user_age_25                          0\n",
       "user_age_26                          0\n",
       "user_age_27                          0\n",
       "user_age_28                          0\n",
       "user_age_29                          0\n",
       "user_age_30                          0\n",
       "listen_type_1                        0\n",
       "user_age_group_1                     0\n",
       "user_age_group_2                     0\n",
       "media_decade_1                       0\n",
       "media_decade_2                       0\n",
       "media_decade_3                       0\n",
       "media_decade_4                       0\n",
       "media_decade_5                       0\n",
       "media_decade_6                       0\n",
       "media_decade_7                       0\n",
       "media_decade_8                       0\n",
       "user_gender_1                        0\n",
       "ts_listen_DAY_OF_WEEK_1              0\n",
       "ts_listen_DAY_OF_WEEK_2              0\n",
       "ts_listen_DAY_OF_WEEK_3              0\n",
       "ts_listen_DAY_OF_WEEK_4              0\n",
       "ts_listen_DAY_OF_WEEK_5              0\n",
       "ts_listen_DAY_OF_WEEK_6              0\n",
       "ts_listen_PERIOD_OF_DAY_1            0\n",
       "ts_listen_PERIOD_OF_DAY_2            0\n",
       "ts_listen_PERIOD_OF_DAY_3            0\n",
       "dtype: int64"
      ]
     },
     "execution_count": 49,
     "metadata": {},
     "output_type": "execute_result"
    }
   ],
   "source": [
    "import numpy as np\n",
    "np.sum(np.isinf(df_train))"
   ]
  },
  {
   "cell_type": "code",
   "execution_count": 50,
   "metadata": {
    "collapsed": true,
    "deletable": true,
    "editable": true
   },
   "outputs": [],
   "source": [
    "def print_full(x):\n",
    "    pd.set_option('display.max_rows', len(x))\n",
    "    print(x)\n",
    "    pd.reset_option('display.max_rows')"
   ]
  },
  {
   "cell_type": "code",
   "execution_count": 51,
   "metadata": {
    "collapsed": false,
    "deletable": true,
    "editable": true
   },
   "outputs": [
    {
     "name": "stdout",
     "output_type": "stream",
     "text": [
      "Unnamed: 0                             0\n",
      "Unnamed: 0.1                           0\n",
      "sample_id                              0\n",
      "genre_id                               0\n",
      "media_id                               0\n",
      "album_id                               0\n",
      "context_type                           0\n",
      "media_duration                         0\n",
      "user_id                                0\n",
      "artist_id                              0\n",
      "diff_ts_listen_AND_release_date_D      0\n",
      "diff_ts_listen_AND_release_date_M      0\n",
      "diff_ts_listen_AND_release_date_Y      0\n",
      "release_date_YEAR                      0\n",
      "diff_user_song_age                     0\n",
      "media_bpm                            337\n",
      "media_rank                           337\n",
      "artist_albuns                         61\n",
      "artist_fans                            0\n",
      "user_id_id                             0\n",
      "nmidia_regular_listened                0\n",
      "nmidia_with_flow_listened              0\n",
      "nmidia_regular                         0\n",
      "nmidia_with_flow                       0\n",
      "nmidia_with_flow_listened_PROP         0\n",
      "nmidia_regular_listened_PROP           0\n",
      "nmidia_PROP_diff                       0\n",
      "platform_name_1                        0\n",
      "platform_name_2                        0\n",
      "platform_family_1                      0\n",
      "platform_family_2                      0\n",
      "user_age_19                            0\n",
      "user_age_20                            0\n",
      "user_age_21                            0\n",
      "user_age_22                            0\n",
      "user_age_23                            0\n",
      "user_age_24                            0\n",
      "user_age_25                            0\n",
      "user_age_26                            0\n",
      "user_age_27                            0\n",
      "user_age_28                            0\n",
      "user_age_29                            0\n",
      "user_age_30                            0\n",
      "listen_type_1                          0\n",
      "user_age_group_1                       0\n",
      "user_age_group_2                       0\n",
      "media_decade_2                         0\n",
      "media_decade_3                         0\n",
      "media_decade_4                         0\n",
      "media_decade_5                         0\n",
      "media_decade_6                         0\n",
      "media_decade_7                         0\n",
      "media_decade_8                         0\n",
      "user_gender_1                          0\n",
      "ts_listen_DAY_OF_WEEK_1                0\n",
      "ts_listen_DAY_OF_WEEK_2                0\n",
      "ts_listen_DAY_OF_WEEK_3                0\n",
      "ts_listen_DAY_OF_WEEK_4                0\n",
      "ts_listen_DAY_OF_WEEK_5                0\n",
      "ts_listen_DAY_OF_WEEK_6                0\n",
      "ts_listen_PERIOD_OF_DAY_1              0\n",
      "ts_listen_PERIOD_OF_DAY_2              0\n",
      "ts_listen_PERIOD_OF_DAY_3              0\n",
      "dtype: int64\n"
     ]
    }
   ],
   "source": [
    "print_full(pd.isnull(df_test).sum()[:])"
   ]
  },
  {
   "cell_type": "code",
   "execution_count": null,
   "metadata": {
    "collapsed": false,
    "deletable": true,
    "editable": true
   },
   "outputs": [],
   "source": []
  },
  {
   "cell_type": "code",
   "execution_count": 52,
   "metadata": {
    "collapsed": false,
    "deletable": true,
    "editable": true
   },
   "outputs": [
    {
     "data": {
      "text/plain": [
       "array([0, 0, 0, 0, 0, 0, 0, 0, 0, 0, 0, 0, 0, 0, 0, 0, 0, 0, 0, 0, 0, 0, 0,\n",
       "       0, 0, 0, 0, 0, 0, 0, 0, 0, 0, 0, 0, 0, 0, 0, 0, 0, 0, 0, 0, 0, 0, 0,\n",
       "       0, 0, 0, 0, 0, 0, 0, 0, 0, 0, 0, 0, 0, 0, 0, 0, 0])"
      ]
     },
     "execution_count": 52,
     "metadata": {},
     "output_type": "execute_result"
    }
   ],
   "source": [
    "np.sum(np.isinf(df_test)).values"
   ]
  },
  {
   "cell_type": "code",
   "execution_count": 53,
   "metadata": {
    "collapsed": false,
    "deletable": true,
    "editable": true
   },
   "outputs": [
    {
     "data": {
      "text/plain": [
       "0"
      ]
     },
     "execution_count": 53,
     "metadata": {},
     "output_type": "execute_result"
    }
   ],
   "source": [
    "for column in features:\n",
    "    try:\n",
    "        df_test[column] = df_test[column].fillna(df_train[column].mean(skipna=True))\n",
    "    except:\n",
    "        df_test[column] = 0\n",
    "\n",
    "#df_test = df_test.fillna(df_train.mean(skipna=True), axis=1)\n",
    "df_test = df_test.applymap(lambda x : float(x))\n",
    "pd.isnull(df_test).sum().sum()"
   ]
  },
  {
   "cell_type": "code",
   "execution_count": 54,
   "metadata": {
    "collapsed": false,
    "deletable": true,
    "editable": true
   },
   "outputs": [
    {
     "data": {
      "text/plain": [
       "array([0, 0, 0, 0, 0, 0, 0, 0, 0, 0, 0, 0, 0, 0, 0, 0, 0, 0, 0, 0, 0, 0, 0,\n",
       "       0, 0, 0, 0, 0, 0, 0, 0, 0, 0, 0, 0, 0, 0, 0, 0, 0, 0, 0, 0, 0, 0, 0,\n",
       "       0, 0, 0, 0, 0, 0, 0, 0, 0, 0, 0, 0, 0, 0, 0, 0, 0, 0])"
      ]
     },
     "execution_count": 54,
     "metadata": {},
     "output_type": "execute_result"
    }
   ],
   "source": [
    "np.sum(np.isinf(df_test)).values"
   ]
  },
  {
   "cell_type": "code",
   "execution_count": 55,
   "metadata": {
    "collapsed": false,
    "deletable": true,
    "editable": true
   },
   "outputs": [],
   "source": [
    "# df_train.fillna(0, inplace=True)\n",
    "# df_test.fillna(0, inplace=True)"
   ]
  },
  {
   "cell_type": "code",
   "execution_count": 56,
   "metadata": {
    "collapsed": false,
    "deletable": true,
    "editable": true
   },
   "outputs": [],
   "source": [
    "# pd.isnull(df_train).sum()"
   ]
  },
  {
   "cell_type": "code",
   "execution_count": 57,
   "metadata": {
    "autoscroll": "json-false",
    "collapsed": false,
    "deletable": true,
    "editable": true,
    "ein.tags": [
     "worksheet-0"
    ],
    "slideshow": {
     "slide_type": "-"
    }
   },
   "outputs": [],
   "source": [
    "from sklearn.model_selection import train_test_split\n",
    "features = list(set(features))"
   ]
  },
  {
   "cell_type": "code",
   "execution_count": 58,
   "metadata": {
    "autoscroll": "json-false",
    "collapsed": false,
    "deletable": true,
    "editable": true,
    "ein.tags": [
     "worksheet-0"
    ],
    "slideshow": {
     "slide_type": "-"
    }
   },
   "outputs": [
    {
     "data": {
      "text/plain": [
       "350"
      ]
     },
     "execution_count": 58,
     "metadata": {},
     "output_type": "execute_result"
    }
   ],
   "source": [
    "X_train, X_test, y_train, y_test = train_test_split(df_train[features], df_train[target], test_size = 0.2)\n",
    "import gc\n",
    "gc.collect()"
   ]
  },
  {
   "cell_type": "markdown",
   "metadata": {
    "deletable": true,
    "editable": true,
    "ein.tags": [
     "worksheet-0"
    ],
    "slideshow": {
     "slide_type": "-"
    }
   },
   "source": [
    "### Feature Selection"
   ]
  },
  {
   "cell_type": "code",
   "execution_count": 59,
   "metadata": {
    "autoscroll": "json-false",
    "collapsed": false,
    "deletable": true,
    "editable": true,
    "ein.tags": [
     "worksheet-0"
    ],
    "slideshow": {
     "slide_type": "-"
    }
   },
   "outputs": [
    {
     "name": "stdout",
     "output_type": "stream",
     "text": [
      "54 selected variables from 60, 90.00%\n",
      "['diff_user_song_age', 'platform_name_2', 'platform_name_1', 'album_id', 'user_age_group_1', 'media_decade_6', 'media_duration', 'release_date_YEAR', 'user_age_30', 'diff_ts_listen_AND_release_date_Y', 'user_id', 'nmidia_regular_listened', 'user_age_19', 'ts_listen_PERIOD_OF_DAY_1', 'nmidia_regular_listened_PROP', 'diff_ts_listen_AND_release_date_M', 'nmidia_with_flow_listened', 'diff_ts_listen_AND_release_date_D', 'media_rank', 'media_id', 'nmidia_regular', 'ts_listen_PERIOD_OF_DAY_2', 'ts_listen_PERIOD_OF_DAY_3', 'nmidia_with_flow', 'user_age_27', 'user_gender_1', 'ts_listen_DAY_OF_WEEK_1', 'nmidia_with_flow_listened_PROP', 'ts_listen_DAY_OF_WEEK_3', 'media_decade_3', 'ts_listen_DAY_OF_WEEK_5', 'ts_listen_DAY_OF_WEEK_4', 'ts_listen_DAY_OF_WEEK_6', 'media_decade_5', 'media_bpm', 'user_age_25', 'platform_family_1', 'platform_family_2', 'user_age_26', 'user_age_21', 'user_age_20', 'user_age_23', 'user_age_22', 'context_type', 'media_decade_7', 'user_age_29', 'user_age_28', 'user_age_group_2', 'nmidia_PROP_diff', 'media_decade_8', 'artist_albuns', 'artist_fans', 'listen_type_1', 'genre_id']\n"
     ]
    }
   ],
   "source": [
    "from sklearn import feature_selection\n",
    "all_features = features\n",
    "function_rule_selection = feature_selection.f_classif\n",
    "alpha_cutoff = 0.01\n",
    "\n",
    "selection_rule = feature_selection.SelectFdr(function_rule_selection, alpha_cutoff)\n",
    "selection_rule.fit(X_train, y_train);\n",
    "\n",
    "all_pvalues = list(filter(lambda x: pd.notnull(x[0]), zip(selection_rule.pvalues_, all_features)))\n",
    "#print(all_pvalues)\n",
    "filtered_pvalues = list(filter(lambda x: x[0]<=alpha_cutoff, all_pvalues))\n",
    "#print(filtered_pvalues)\n",
    "all_select_features = list(map(lambda x: x[1], filtered_pvalues))\n",
    "\n",
    "print(\"{0} selected variables from {1}, {2:.2f}%\".format(len(all_select_features), \n",
    "                                                        len(all_features), \n",
    "                                                        len(filtered_pvalues)*100/float(len(all_features))))\n",
    "print(all_select_features)\n",
    "#print(filtered_pvalues)"
   ]
  },
  {
   "cell_type": "code",
   "execution_count": 60,
   "metadata": {
    "autoscroll": "json-false",
    "collapsed": false,
    "deletable": true,
    "editable": true,
    "ein.tags": [
     "worksheet-0"
    ],
    "slideshow": {
     "slide_type": "-"
    }
   },
   "outputs": [],
   "source": [
    "features = all_select_features\n",
    "X_train, X_test, y_train, y_test = train_test_split(df_train[features], df_train[target], test_size = 0.2)"
   ]
  },
  {
   "cell_type": "code",
   "execution_count": 61,
   "metadata": {
    "autoscroll": "json-false",
    "collapsed": false,
    "deletable": true,
    "editable": true,
    "ein.tags": [
     "worksheet-0"
    ],
    "slideshow": {
     "slide_type": "-"
    }
   },
   "outputs": [],
   "source": [
    "from sklearn import metrics\n",
    "from sklearn.metrics import confusion_matrix\n",
    "from sklearn.metrics import accuracy_score\n",
    "import matplotlib.pyplot as plt\n",
    "\n",
    "def complete_report(y_test, y_pred):\n",
    "    print(\"*********************************\")\n",
    "    print(\"Accuracy: {0:.2f}\".format(accuracy_score(y_test, y_pred)))\n",
    "    print(\"Precision: {0}\".format(metrics.precision_score(y_test, y_pred)))\n",
    "    print(\"Recall: {0}\".format(metrics.recall_score(y_test, y_pred)))\n",
    "    print(\"F1-Score: {0}\".format(metrics.f1_score(y_test, y_pred)))\n",
    "    conf_m = confusion_matrix(y_test, y_pred)\n",
    "    print(conf_m)\n",
    "    try: \n",
    "        print(\"Roc Area: {0}\".format(metrics.roc_auc_score(y_test, y_pred))) \n",
    "        roc_curve_label(y_test, y_pred)\n",
    "    except:\n",
    "        print(\"--\")\n",
    "    print(\"*********************************\")\n",
    "    \n",
    "    return metrics.roc_auc_score(y_test, y_pred)\n",
    "        \n",
    "def roc_curve_label(y_test, y_pred):\n",
    "    plt.figsize=(10,6)\n",
    "    fpr, tpr, _ = metrics.roc_curve(y_test, y_pred)\n",
    "    plt.figure(1)\n",
    "    plt.plot([0, 1], [0, 1], 'k--')\n",
    "    plt.plot(fpr, tpr, label='RT + LR')\n",
    "    plt.xlabel('False positive rate')\n",
    "    plt.ylabel('True positive rate')\n",
    "    plt.title('ROC curve')\n",
    "    plt.legend(loc='best')\n",
    "    plt.show()"
   ]
  },
  {
   "cell_type": "code",
   "execution_count": 62,
   "metadata": {
    "autoscroll": "json-false",
    "collapsed": false,
    "deletable": true,
    "editable": true,
    "ein.tags": [
     "worksheet-0"
    ],
    "slideshow": {
     "slide_type": "-"
    }
   },
   "outputs": [],
   "source": [
    "# %timeit\n",
    "# from sklearn.tree import DecisionTreeClassifier\n",
    "# model = DecisionTreeClassifier()\n",
    "# model.fit(X_train, y_train)"
   ]
  },
  {
   "cell_type": "code",
   "execution_count": 63,
   "metadata": {
    "autoscroll": "json-false",
    "collapsed": false,
    "deletable": true,
    "editable": true,
    "ein.tags": [
     "worksheet-0"
    ],
    "slideshow": {
     "slide_type": "-"
    }
   },
   "outputs": [
    {
     "name": "stdout",
     "output_type": "stream",
     "text": [
      "54\n",
      "54\n"
     ]
    }
   ],
   "source": [
    "# print(model.score(X_test, y_test))\n",
    "# complete_report(y_test, model.predict(X_test))\n",
    "print(len(X_train.columns))\n",
    "print(len(set(X_train.columns)))"
   ]
  },
  {
   "cell_type": "code",
   "execution_count": 64,
   "metadata": {
    "collapsed": false
   },
   "outputs": [
    {
     "name": "stdout",
     "output_type": "stream",
     "text": [
      "54\n",
      "54\n"
     ]
    }
   ],
   "source": [
    "print(len(features))\n",
    "print(len(set(features)))"
   ]
  },
  {
   "cell_type": "markdown",
   "metadata": {
    "deletable": true,
    "editable": true,
    "ein.tags": [
     "worksheet-0"
    ],
    "slideshow": {
     "slide_type": "-"
    }
   },
   "source": [
    "acc: 0.70345496362865445  \n",
    "roc: 0.6912675674785278"
   ]
  },
  {
   "cell_type": "code",
   "execution_count": 65,
   "metadata": {
    "autoscroll": "json-false",
    "collapsed": false,
    "deletable": true,
    "editable": true,
    "ein.tags": [
     "worksheet-0"
    ],
    "slideshow": {
     "slide_type": "-"
    }
   },
   "outputs": [],
   "source": [
    "from sklearn.metrics import confusion_matrix"
   ]
  },
  {
   "cell_type": "code",
   "execution_count": 66,
   "metadata": {
    "autoscroll": "json-false",
    "collapsed": false,
    "deletable": true,
    "editable": true,
    "ein.tags": [
     "worksheet-0"
    ],
    "slideshow": {
     "slide_type": "-"
    }
   },
   "outputs": [],
   "source": [
    "X_train, X_test, y_train, y_test = train_test_split(df_train[features], df_train[target], test_size = 0.3)\n",
    "X_val, X_test, y_val, y_test = train_test_split(X_test, y_test, test_size = 0.5)"
   ]
  },
  {
   "cell_type": "code",
   "execution_count": 67,
   "metadata": {
    "collapsed": false
   },
   "outputs": [
    {
     "data": {
      "text/plain": [
       "54"
      ]
     },
     "execution_count": 67,
     "metadata": {},
     "output_type": "execute_result"
    }
   ],
   "source": [
    "len(X_train.columns)"
   ]
  },
  {
   "cell_type": "code",
   "execution_count": 68,
   "metadata": {
    "autoscroll": "json-false",
    "collapsed": false,
    "deletable": true,
    "editable": true,
    "ein.tags": [
     "worksheet-0"
    ],
    "slideshow": {
     "slide_type": "-"
    }
   },
   "outputs": [
    {
     "name": "stdout",
     "output_type": "stream",
     "text": [
      "[0]\ttrain-auc:0.796356\ttest-auc:0.774766\tvalidation-auc:0.773311\n",
      "Multiple eval metrics have been passed: 'validation-auc' will be used for early stopping.\n",
      "\n",
      "Will train until validation-auc hasn't improved in 5 rounds.\n",
      "[1]\ttrain-auc:0.82677\ttest-auc:0.80215\tvalidation-auc:0.801235\n",
      "[2]\ttrain-auc:0.848\ttest-auc:0.819115\tvalidation-auc:0.818325\n",
      "[3]\ttrain-auc:0.863625\ttest-auc:0.830544\tvalidation-auc:0.829772\n",
      "[4]\ttrain-auc:0.874418\ttest-auc:0.838013\tvalidation-auc:0.837493\n",
      "[5]\ttrain-auc:0.882553\ttest-auc:0.843053\tvalidation-auc:0.842389\n",
      "[6]\ttrain-auc:0.888924\ttest-auc:0.84661\tvalidation-auc:0.845824\n",
      "[7]\ttrain-auc:0.894023\ttest-auc:0.848907\tvalidation-auc:0.848034\n",
      "[8]\ttrain-auc:0.898506\ttest-auc:0.85051\tvalidation-auc:0.849651\n",
      "[9]\ttrain-auc:0.90226\ttest-auc:0.851747\tvalidation-auc:0.850809\n",
      "[10]\ttrain-auc:0.905515\ttest-auc:0.852635\tvalidation-auc:0.851743\n",
      "[11]\ttrain-auc:0.908311\ttest-auc:0.853376\tvalidation-auc:0.852522\n",
      "[12]\ttrain-auc:0.911089\ttest-auc:0.854028\tvalidation-auc:0.853149\n",
      "[13]\ttrain-auc:0.913347\ttest-auc:0.85484\tvalidation-auc:0.853976\n",
      "[14]\ttrain-auc:0.915319\ttest-auc:0.855351\tvalidation-auc:0.854501\n",
      "[15]\ttrain-auc:0.917476\ttest-auc:0.855962\tvalidation-auc:0.855064\n",
      "[16]\ttrain-auc:0.919334\ttest-auc:0.856395\tvalidation-auc:0.855533\n",
      "[17]\ttrain-auc:0.921201\ttest-auc:0.856827\tvalidation-auc:0.856028\n",
      "[18]\ttrain-auc:0.92292\ttest-auc:0.85718\tvalidation-auc:0.856387\n",
      "[19]\ttrain-auc:0.924612\ttest-auc:0.857469\tvalidation-auc:0.856642\n",
      "[20]\ttrain-auc:0.926154\ttest-auc:0.858037\tvalidation-auc:0.857212\n",
      "[21]\ttrain-auc:0.927749\ttest-auc:0.858481\tvalidation-auc:0.857691\n",
      "[22]\ttrain-auc:0.929393\ttest-auc:0.858803\tvalidation-auc:0.857968\n",
      "[23]\ttrain-auc:0.931097\ttest-auc:0.859061\tvalidation-auc:0.858256\n",
      "[24]\ttrain-auc:0.932551\ttest-auc:0.859156\tvalidation-auc:0.85835\n",
      "[25]\ttrain-auc:0.933938\ttest-auc:0.859332\tvalidation-auc:0.858523\n",
      "[26]\ttrain-auc:0.935361\ttest-auc:0.859572\tvalidation-auc:0.858777\n",
      "[27]\ttrain-auc:0.93675\ttest-auc:0.859879\tvalidation-auc:0.859087\n",
      "[28]\ttrain-auc:0.938072\ttest-auc:0.859944\tvalidation-auc:0.859196\n",
      "[29]\ttrain-auc:0.939515\ttest-auc:0.860208\tvalidation-auc:0.859468\n",
      "[30]\ttrain-auc:0.940603\ttest-auc:0.860296\tvalidation-auc:0.859545\n",
      "[31]\ttrain-auc:0.941968\ttest-auc:0.860529\tvalidation-auc:0.859784\n",
      "[32]\ttrain-auc:0.943142\ttest-auc:0.860707\tvalidation-auc:0.859969\n",
      "[33]\ttrain-auc:0.944345\ttest-auc:0.861009\tvalidation-auc:0.860302\n",
      "[34]\ttrain-auc:0.945646\ttest-auc:0.861133\tvalidation-auc:0.860403\n",
      "[35]\ttrain-auc:0.946949\ttest-auc:0.861209\tvalidation-auc:0.860493\n",
      "[36]\ttrain-auc:0.948369\ttest-auc:0.861376\tvalidation-auc:0.860651\n",
      "[37]\ttrain-auc:0.949398\ttest-auc:0.861496\tvalidation-auc:0.860739\n",
      "[38]\ttrain-auc:0.950477\ttest-auc:0.861659\tvalidation-auc:0.860918\n",
      "[39]\ttrain-auc:0.951438\ttest-auc:0.861652\tvalidation-auc:0.860918\n",
      "[40]\ttrain-auc:0.952354\ttest-auc:0.861708\tvalidation-auc:0.861007\n",
      "[41]\ttrain-auc:0.95331\ttest-auc:0.861744\tvalidation-auc:0.861025\n",
      "[42]\ttrain-auc:0.953898\ttest-auc:0.861836\tvalidation-auc:0.861116\n",
      "[43]\ttrain-auc:0.954526\ttest-auc:0.86192\tvalidation-auc:0.861212\n",
      "[44]\ttrain-auc:0.955608\ttest-auc:0.861946\tvalidation-auc:0.861214\n",
      "[45]\ttrain-auc:0.956651\ttest-auc:0.86198\tvalidation-auc:0.86128\n",
      "[46]\ttrain-auc:0.957674\ttest-auc:0.862167\tvalidation-auc:0.861466\n",
      "[47]\ttrain-auc:0.958466\ttest-auc:0.862182\tvalidation-auc:0.86149\n",
      "[48]\ttrain-auc:0.959367\ttest-auc:0.862247\tvalidation-auc:0.861551\n",
      "[49]\ttrain-auc:0.960312\ttest-auc:0.862289\tvalidation-auc:0.861593\n",
      "[50]\ttrain-auc:0.961199\ttest-auc:0.862324\tvalidation-auc:0.861624\n",
      "[51]\ttrain-auc:0.961968\ttest-auc:0.862295\tvalidation-auc:0.861598\n",
      "[52]\ttrain-auc:0.962635\ttest-auc:0.862301\tvalidation-auc:0.8616\n",
      "[53]\ttrain-auc:0.963434\ttest-auc:0.862285\tvalidation-auc:0.861572\n",
      "[54]\ttrain-auc:0.964253\ttest-auc:0.862388\tvalidation-auc:0.861694\n",
      "[55]\ttrain-auc:0.965203\ttest-auc:0.862397\tvalidation-auc:0.861691\n",
      "[56]\ttrain-auc:0.966089\ttest-auc:0.862418\tvalidation-auc:0.861646\n",
      "[57]\ttrain-auc:0.966911\ttest-auc:0.862436\tvalidation-auc:0.86168\n",
      "[58]\ttrain-auc:0.967685\ttest-auc:0.862378\tvalidation-auc:0.861658\n",
      "[59]\ttrain-auc:0.968356\ttest-auc:0.862325\tvalidation-auc:0.861609\n",
      "Stopping. Best iteration:\n",
      "[54]\ttrain-auc:0.964253\ttest-auc:0.862388\tvalidation-auc:0.861694\n",
      "\n",
      "0.820739\n",
      "Tempo de execução: 302m40s\n"
     ]
    }
   ],
   "source": [
    "import xgboost as xgb\n",
    "from time import time\n",
    "import numpy as np\n",
    "\n",
    "start = time()\n",
    "xg_train = xgb.DMatrix(X_train, label=y_train.values, missing=np.NaN)\n",
    "xg_test = xgb.DMatrix(X_test, label=y_test.values, missing=np.NaN)\n",
    "xg_val = xgb.DMatrix(X_val, label=y_val.values, missing=np.NaN)\n",
    "param = {'max_depth':25, \n",
    "         'eta':0.2, \n",
    "         'silent':0, \n",
    "         'objective':'binary:logistic', \n",
    "         \"booster\": \"gbtree\", \n",
    "         \"max_delta_step\":1,\n",
    "         \"alpha\": 1,\n",
    "         \"lambda\": 0,\n",
    "         #\"scale_pos_weight\": class_ratio,\n",
    "         \"eval_metric\": \"auc\",\n",
    "          \"verbose\": 1}\n",
    "\n",
    "### Objectives\n",
    "## 'binary:logistic'\n",
    "## 'multi:softprob'\n",
    "#param['num_class'] = 2\n",
    "param[\"min_child_weight\"] = 10\n",
    "param[\"colsample_bytree\"] = 1\n",
    "num_round = 500\n",
    "\n",
    "watchlist = [(xg_train,'train'), (xg_test,'test'), (xg_val,'validation')]\n",
    "#watchlist = [(xg_val,'validation')]\n",
    "\n",
    "bst = xgb.train(param, \n",
    "                xg_train, \n",
    "                num_round,\n",
    "                watchlist,\n",
    "                early_stopping_rounds=5)\n",
    "\n",
    "yprob = bst.predict( xg_test ) #.reshape( y_test.shape[0], 2)\n",
    "print(yprob[0])\n",
    "\n",
    "print('Tempo de execução: {0}m{1}s'.format(int((time()-start)/60),\n",
    "             int((time()-start)%60 )))"
   ]
  },
  {
   "cell_type": "code",
   "execution_count": 69,
   "metadata": {
    "collapsed": false
   },
   "outputs": [
    {
     "name": "stdout",
     "output_type": "stream",
     "text": [
      "('media_rank', 108554)\n",
      "('media_bpm', 105514)\n",
      "('diff_user_song_age', 100350)\n",
      "('artist_fans', 99141)\n",
      "('artist_albuns', 95015)\n",
      "('album_id', 80906)\n",
      "('diff_ts_listen_AND_release_date_Y', 77166)\n",
      "('media_id', 73054)\n",
      "('nmidia_regular_listened_PROP', 71187)\n",
      "('nmidia_regular_listened', 69962)\n",
      "('nmidia_PROP_diff', 64373)\n",
      "('nmidia_with_flow_listened', 62142)\n",
      "('nmidia_regular', 59499)\n",
      "('nmidia_with_flow', 57739)\n",
      "('user_id', 56269)\n",
      "('nmidia_with_flow_listened_PROP', 55801)\n",
      "('genre_id', 36985)\n",
      "('context_type', 29875)\n",
      "('ts_listen_PERIOD_OF_DAY_1', 26963)\n",
      "('media_duration', 23570)\n",
      "('release_date_YEAR', 18939)\n",
      "('user_gender_1', 15002)\n",
      "('ts_listen_PERIOD_OF_DAY_2', 10208)\n",
      "('ts_listen_DAY_OF_WEEK_1', 9843)\n",
      "('ts_listen_DAY_OF_WEEK_3', 9767)\n",
      "('ts_listen_DAY_OF_WEEK_4', 9611)\n",
      "('ts_listen_DAY_OF_WEEK_5', 9029)\n",
      "('user_age_group_1', 8835)\n",
      "('platform_name_1', 7579)\n",
      "('ts_listen_PERIOD_OF_DAY_3', 7153)\n",
      "('ts_listen_DAY_OF_WEEK_6', 6587)\n",
      "('user_age_group_2', 6165)\n",
      "('listen_type_1', 4874)\n",
      "('media_decade_7', 3732)\n",
      "('user_age_26', 2781)\n",
      "('user_age_27', 2777)\n",
      "('user_age_25', 2599)\n",
      "('user_age_21', 2563)\n",
      "('user_age_28', 2466)\n",
      "('user_age_29', 2450)\n",
      "('user_age_23', 2421)\n",
      "('user_age_20', 2409)\n",
      "('user_age_22', 2385)\n",
      "('platform_name_2', 2371)\n",
      "('user_age_30', 2367)\n",
      "('user_age_19', 2318)\n",
      "('platform_family_2', 1696)\n",
      "('media_decade_6', 882)\n",
      "('media_decade_5', 232)\n",
      "('media_decade_3', 49)\n"
     ]
    }
   ],
   "source": [
    "y_pred = [1 if y > 0.5 else 0 for y in yprob]\n",
    "#print(metrics.confusion_matrix(y_test, y_pred))\n",
    "yprob = bst.predict( xg_test ) \n",
    "#complete_report(y_test, yprob)\n",
    "len(yprob)\n",
    "\n",
    "### Verificando a importância de cada feature para a previsão do modelo\n",
    "import operator\n",
    "importance = bst.get_fscore()\n",
    "importance = sorted(importance.items(), key=operator.itemgetter(1), reverse=True)\n",
    "for item in importance:\n",
    "    print(item)"
   ]
  },
  {
   "cell_type": "code",
   "execution_count": 70,
   "metadata": {
    "autoscroll": "json-false",
    "collapsed": false,
    "deletable": true,
    "editable": true,
    "ein.tags": [
     "worksheet-0"
    ],
    "slideshow": {
     "slide_type": "-"
    }
   },
   "outputs": [
    {
     "data": {
      "text/plain": [
       "1    0.471430\n",
       "2    0.823140\n",
       "3    0.981467\n",
       "4    0.855134\n",
       "5    0.546260\n",
       "Name: prediction, dtype: float32"
      ]
     },
     "execution_count": 70,
     "metadata": {},
     "output_type": "execute_result"
    }
   ],
   "source": [
    "df_test_group_1 = df_test[df_test[\"user_id_id\"].isin(user_for_specific_model)].copy(deep=True)\n",
    "xg_sub = xgb.DMatrix(df_test_group_1[features], missing=np.NaN)\n",
    "p = bst.predict(xg_sub)\n",
    "\n",
    "#p = model.predict_proba(df_test_group_1[features])\n",
    "#p = p[:, 1]\n",
    "df_test_group_1[\"prediction\"] = p\n",
    "df_test_group_1[\"prediction\"].head()"
   ]
  },
  {
   "cell_type": "code",
   "execution_count": 71,
   "metadata": {
    "collapsed": false
   },
   "outputs": [
    {
     "name": "stdout",
     "output_type": "stream",
     "text": [
      "19918\n",
      "17288\n"
     ]
    }
   ],
   "source": [
    "print(len(df_test))\n",
    "print(len(df_test_group_1))\n",
    "df_test_group_1[[\"prediction\", \"user_id_id\"]]\n",
    "df_test_group_1[[\"prediction\", \"user_id_id\"]].to_csv(\"group1.csv\")"
   ]
  },
  {
   "cell_type": "code",
   "execution_count": 72,
   "metadata": {
    "collapsed": false,
    "deletable": true,
    "editable": true
   },
   "outputs": [],
   "source": [
    "import gc\n",
    "gc.collect()\n",
    "del df_test_group_1"
   ]
  },
  {
   "cell_type": "code",
   "execution_count": null,
   "metadata": {
    "collapsed": true,
    "deletable": true,
    "editable": true
   },
   "outputs": [],
   "source": []
  },
  {
   "cell_type": "code",
   "execution_count": 73,
   "metadata": {
    "collapsed": false,
    "deletable": true,
    "editable": true
   },
   "outputs": [
    {
     "name": "stdout",
     "output_type": "stream",
     "text": [
      "2630\n",
      "17288\n"
     ]
    },
    {
     "data": {
      "text/plain": [
       "['genre_id',\n",
       " 'media_id',\n",
       " 'context_type',\n",
       " 'platform_family',\n",
       " 'media_duration',\n",
       " 'user_id',\n",
       " 'diff_ts_listen_AND_release_date_D',\n",
       " 'diff_ts_listen_AND_release_date_M',\n",
       " 'diff_ts_listen_AND_release_date_Y',\n",
       " 'release_date_DAY',\n",
       " 'release_date_MONTH',\n",
       " 'release_date_YEAR',\n",
       " 'user_age_group',\n",
       " 'diff_user_song_age',\n",
       " 'media_decade',\n",
       " 'artist_albuns',\n",
       " 'artist_fans',\n",
       " 'artist_radio',\n",
       " 'media_bpm',\n",
       " 'media_rank',\n",
       " 'user_id_id',\n",
       " 'platform_name_1',\n",
       " 'platform_name_2',\n",
       " 'user_age_19',\n",
       " 'user_age_20',\n",
       " 'user_age_21',\n",
       " 'user_age_22',\n",
       " 'user_age_23',\n",
       " 'user_age_24',\n",
       " 'user_age_25',\n",
       " 'user_age_26',\n",
       " 'user_age_27',\n",
       " 'user_age_28',\n",
       " 'user_age_29',\n",
       " 'user_age_30',\n",
       " 'listen_type_1',\n",
       " 'user_gender_1',\n",
       " 'ts_listen_DAY_OF_WEEK_1',\n",
       " 'ts_listen_DAY_OF_WEEK_2',\n",
       " 'ts_listen_DAY_OF_WEEK_3',\n",
       " 'ts_listen_DAY_OF_WEEK_4',\n",
       " 'ts_listen_DAY_OF_WEEK_5',\n",
       " 'ts_listen_DAY_OF_WEEK_6',\n",
       " 'ts_listen_PERIOD_OF_DAY_1',\n",
       " 'ts_listen_PERIOD_OF_DAY_2',\n",
       " 'ts_listen_PERIOD_OF_DAY_3']"
      ]
     },
     "execution_count": 73,
     "metadata": {},
     "output_type": "execute_result"
    }
   ],
   "source": [
    "import pandas as pd\n",
    "from greenpyce.feature_engineering import TargetEncoder\n",
    "from greenpyce.feature_engineering import onehot\n",
    "from greenpyce.feature_engineering import RankCategorical\n",
    "from greenpyce.feature_engineering import LabelCount\n",
    "df_train = pd.read_csv(\"../data/train_data4.csv\")\n",
    "df_test = pd.read_csv(\"../data/test_data4.csv\")\n",
    "\n",
    "df_train[\"user_id_id\"] = df_train[\"user_id\"]\n",
    "df_test[\"user_id_id\"] = df_test[\"user_id\"]\n",
    "\n",
    "to_drop = ['Unnamed: 0', 'Unnamed: 0.1']\n",
    "df_train.drop(to_drop, axis = 1,inplace=True)\n",
    "\n",
    "# df_user = pd.read_csv(\"../data/nmidia_feats.csv\", sep=\";\")\n",
    "# # pd.isnull(df_user).sum()[pd.isnull(df_user).sum() > 0]\n",
    "# df_user = df_user.drop([\"nmidia_with_flow_listened_PROP\", \"nmidia_regular_listened_PROP\", \"nmidia_PROP_diff\"], axis=1)\n",
    "# df_user.columns.values\n",
    "# df_train = pd.merge(df_train, df_user, on=\"user_id\")\n",
    "# df_test = pd.merge(df_test, df_user, on=\"user_id\")\n",
    "# del df_user\n",
    "\n",
    "\n",
    "### select users for general\n",
    "\n",
    "#df_train = df_train[df_train[\"user_id\"].isin(user_for_general_model)]\n",
    "\n",
    "threshold = 30\n",
    "\n",
    "register_count = df_train[\"user_id\"].value_counts()\n",
    "\n",
    "user_for_general_model = register_count[(register_count <= threshold)].index\n",
    "user_for_specific_model = register_count[(register_count > threshold)].index\n",
    "print(len(user_for_general_model))\n",
    "print(len(user_for_specific_model))\n",
    "\n",
    "cols_for_target_encoder = [\"genre_id\", \n",
    "                           \"media_id\", \n",
    "                           \"artist_radio\"]\n",
    "\n",
    "cols_for_onehot = [\"platform_name\", \n",
    "                   \"user_age\",\n",
    "                   \"listen_type\",\n",
    "                   \"user_gender\", \n",
    "                   \"ts_listen_DAY_OF_WEEK\",\n",
    "                  \"ts_listen_PERIOD_OF_DAY\"]\n",
    "\n",
    "cols_for_rank = [\"artist_id\",\n",
    "                \"artist_fans\"]\n",
    "\n",
    "target = \"is_listened\"\n",
    "\n",
    "df_test = df_test[df_test[\"user_id\"].isin(user_for_general_model)]\n",
    "df_train.columns\n",
    "\n",
    "te = TargetEncoder(cols_for_target_encoder, \"is_listened\")\n",
    "te.fit(df_train)\n",
    "te.transform(df_train)\n",
    "te.transform(df_test)\n",
    "del te\n",
    "\n",
    "rc = RankCategorical(cols_for_rank)\n",
    "rc.fit(df_train)\n",
    "rc.transform(df_train)\n",
    "rc.transform(df_test)\n",
    "del rc\n",
    "\n",
    "rc = RankCategorical([\"media_decade\"])\n",
    "rc.fit(df_train)\n",
    "rc.transform(df_train)\n",
    "rc.transform(df_test)\n",
    "del rc\n",
    "\n",
    "df_train = onehot(df_train, cols_for_onehot)\n",
    "df_test = onehot(df_test, cols_for_onehot)\n",
    "\n",
    "%timeit\n",
    "### Drop\n",
    "to_drop = ['ts_listen', 'album_id', 'release_date', 'artist_id', \"year\", \"text\"]#, \"nmidia_with_flow_listened_PROP\", \"nmidia_PROP_diff\", \"nmidia_regular_listened_PROP\"]\n",
    "df_train.drop(to_drop, axis = 1,inplace=True)\n",
    "df_test.drop(to_drop, axis = 1,inplace=True)\n",
    "\n",
    "features = [col for col in df_train.columns.values if col != target]\n",
    "features"
   ]
  },
  {
   "cell_type": "code",
   "execution_count": 74,
   "metadata": {
    "collapsed": false,
    "deletable": true,
    "editable": true
   },
   "outputs": [
    {
     "data": {
      "text/plain": [
       "['genre_id',\n",
       " 'media_id',\n",
       " 'context_type',\n",
       " 'platform_family',\n",
       " 'media_duration',\n",
       " 'user_id',\n",
       " 'diff_ts_listen_AND_release_date_D',\n",
       " 'diff_ts_listen_AND_release_date_M',\n",
       " 'diff_ts_listen_AND_release_date_Y',\n",
       " 'release_date_DAY',\n",
       " 'release_date_MONTH',\n",
       " 'release_date_YEAR',\n",
       " 'user_age_group',\n",
       " 'diff_user_song_age',\n",
       " 'media_decade',\n",
       " 'artist_albuns',\n",
       " 'artist_fans',\n",
       " 'artist_radio',\n",
       " 'media_bpm',\n",
       " 'media_rank',\n",
       " 'user_id_id',\n",
       " 'platform_name_1',\n",
       " 'platform_name_2',\n",
       " 'user_age_19',\n",
       " 'user_age_20',\n",
       " 'user_age_21',\n",
       " 'user_age_22',\n",
       " 'user_age_23',\n",
       " 'user_age_24',\n",
       " 'user_age_25',\n",
       " 'user_age_26',\n",
       " 'user_age_27',\n",
       " 'user_age_28',\n",
       " 'user_age_29',\n",
       " 'user_age_30',\n",
       " 'listen_type_1',\n",
       " 'user_gender_1',\n",
       " 'ts_listen_DAY_OF_WEEK_1',\n",
       " 'ts_listen_DAY_OF_WEEK_2',\n",
       " 'ts_listen_DAY_OF_WEEK_3',\n",
       " 'ts_listen_DAY_OF_WEEK_4',\n",
       " 'ts_listen_DAY_OF_WEEK_5',\n",
       " 'ts_listen_DAY_OF_WEEK_6',\n",
       " 'ts_listen_PERIOD_OF_DAY_1',\n",
       " 'ts_listen_PERIOD_OF_DAY_2',\n",
       " 'ts_listen_PERIOD_OF_DAY_3']"
      ]
     },
     "execution_count": 74,
     "metadata": {},
     "output_type": "execute_result"
    }
   ],
   "source": [
    "features"
   ]
  },
  {
   "cell_type": "code",
   "execution_count": 75,
   "metadata": {
    "collapsed": false,
    "deletable": true,
    "editable": true
   },
   "outputs": [
    {
     "data": {
      "text/plain": [
       "2630"
      ]
     },
     "execution_count": 75,
     "metadata": {},
     "output_type": "execute_result"
    }
   ],
   "source": [
    "len(df_test)"
   ]
  },
  {
   "cell_type": "code",
   "execution_count": 76,
   "metadata": {
    "autoscroll": "json-false",
    "collapsed": false,
    "deletable": true,
    "editable": true,
    "ein.tags": [
     "worksheet-0"
    ],
    "slideshow": {
     "slide_type": "-"
    }
   },
   "outputs": [],
   "source": [
    "# features =['genre_id', \n",
    "#            'media_id', \n",
    "#            'context_type', \n",
    "#     #       'media_duration', \n",
    "#            'listen_type', \n",
    "#     #       'user_id', \n",
    "#    #        'diff_ts_listen_AND_release_date_D', \n",
    "#            'diff_ts_listen_AND_release_date_M', \n",
    "#    #        'diff_ts_listen_AND_release_date_Y', \n",
    "#     #       'release_date_YEAR', \n",
    "#            'diff_user_song_age', \n",
    "#            'artist_albuns', \n",
    "#            'artist_fans', \n",
    "#            'artist_radio', \n",
    "#            'media_bpm', \n",
    "#            'media_rank', \n",
    "#            #'user_id_id', \n",
    "# #            'nmidia_regular_listened', \n",
    "# #            'nmidia_with_flow_listened', \n",
    "# #            'nmidia_regular', \n",
    "# #            'nmidia_with_flow', \n",
    "#            'platform_name_1', \n",
    "#            'platform_name_2', \n",
    "#            'platform_family_1', \n",
    "#            'platform_family_2', \n",
    "#            'user_age_19', \n",
    "#            'user_age_20', \n",
    "#            'user_age_21', \n",
    "#            'user_age_22', \n",
    "#            'user_age_23', \n",
    "#            'user_age_25', \n",
    "#            'user_age_26', \n",
    "#            'user_age_27', \n",
    "#            'user_age_28', \n",
    "#            'user_age_29', \n",
    "#            'user_age_30', \n",
    "#            'user_age_group_1',\n",
    "#            'user_age_group_2', \n",
    "# #            'media_decade_1', \n",
    "#            'media_decade_2',\n",
    "#            'media_decade_5', \n",
    "#            'media_decade_7', \n",
    "#            'media_decade_8', \n",
    "#            'user_gender_1', \n",
    "#            'user_age_group_1', \n",
    "#            'user_age_group_2', \n",
    "#            'ts_listen_DAY_OF_WEEK_1',\n",
    "#            'ts_listen_DAY_OF_WEEK_2', \n",
    "#            'ts_listen_DAY_OF_WEEK_3', \n",
    "#            'ts_listen_DAY_OF_WEEK_4', \n",
    "#            'ts_listen_DAY_OF_WEEK_5',\n",
    "#            'ts_listen_PERIOD_OF_DAY_2', \n",
    "#            'ts_listen_PERIOD_OF_DAY_3']"
   ]
  },
  {
   "cell_type": "markdown",
   "metadata": {
    "deletable": true,
    "editable": true
   },
   "source": [
    "['genre_id', 'media_id', 'context_type', 'media_duration', 'listen_type', 'user_id', 'diff_ts_listen_AND_release_date_D', 'diff_ts_listen_AND_release_date_M', 'diff_ts_listen_AND_release_date_Y', 'release_date_YEAR', 'diff_user_song_age', 'artist_albuns', 'artist_fans', 'artist_radio', 'media_bpm', 'media_rank', 'user_id_id', 'nmidia_regular_listened', 'nmidia_with_flow_listened', 'nmidia_regular', 'nmidia_with_flow', 'platform_name_1', 'platform_name_2', 'platform_family_1', 'platform_family_2', 'user_age_19', 'user_age_20', 'user_age_21', 'user_age_22', 'user_age_23', 'user_age_25', 'user_age_26', 'user_age_27', 'user_age_28', 'user_age_29', 'user_age_30', 'user_age_group_1', 'user_age_group_2', 'media_decade_1', 'media_decade_2', 'media_decade_5', 'media_decade_7', 'media_decade_8', 'user_gender_1', 'user_age_group_1', 'user_age_group_2', 'ts_listen_DAY_OF_WEEK_1', 'ts_listen_DAY_OF_WEEK_2', 'ts_listen_DAY_OF_WEEK_3', 'ts_listen_DAY_OF_WEEK_4', 'ts_listen_DAY_OF_WEEK_5', 'ts_listen_PERIOD_OF_DAY_2', 'ts_listen_PERIOD_OF_DAY_3']"
   ]
  },
  {
   "cell_type": "code",
   "execution_count": 77,
   "metadata": {
    "collapsed": false,
    "deletable": true,
    "editable": true
   },
   "outputs": [
    {
     "data": {
      "text/plain": [
       "0"
      ]
     },
     "execution_count": 77,
     "metadata": {},
     "output_type": "execute_result"
    }
   ],
   "source": [
    "### 0.7678\n",
    "\n",
    "for column in features:\n",
    "    try:\n",
    "        df_test[column] = df_test[column].fillna(df_train[column].mean(skipna=True))\n",
    "    except:\n",
    "        df_test[column] = 0\n",
    "\n",
    "#df_test = df_test.fillna(df_train.mean(skipna=True), axis=1)\n",
    "df_test = df_test.applymap(lambda x : float(x))\n",
    "pd.isnull(df_test).sum().sum()"
   ]
  },
  {
   "cell_type": "code",
   "execution_count": 78,
   "metadata": {
    "collapsed": false,
    "deletable": true,
    "editable": true
   },
   "outputs": [],
   "source": [
    "# df_test = df_test.fillna(df_train.mean(skipna=True).to_dict, axis=1)#.dropna(axis=1, how='all')\n",
    "# pd.isnull(df_test).sum()\n",
    "# df_train.mean(skipna=True).to_dict"
   ]
  },
  {
   "cell_type": "code",
   "execution_count": 79,
   "metadata": {
    "autoscroll": "json-false",
    "collapsed": false,
    "deletable": true,
    "editable": true,
    "ein.tags": [
     "worksheet-0"
    ],
    "slideshow": {
     "slide_type": "-"
    }
   },
   "outputs": [
    {
     "name": "stdout",
     "output_type": "stream",
     "text": [
      "41 selected variables from 46, 89.13%\n",
      "['genre_id', 'media_id', 'context_type', 'platform_family', 'media_duration', 'user_id', 'diff_ts_listen_AND_release_date_D', 'diff_ts_listen_AND_release_date_M', 'diff_ts_listen_AND_release_date_Y', 'release_date_MONTH', 'release_date_YEAR', 'user_age_group', 'diff_user_song_age', 'media_decade', 'artist_albuns', 'artist_fans', 'media_bpm', 'media_rank', 'user_id_id', 'platform_name_1', 'platform_name_2', 'user_age_19', 'user_age_20', 'user_age_21', 'user_age_22', 'user_age_23', 'user_age_25', 'user_age_26', 'user_age_27', 'user_age_28', 'user_age_29', 'user_age_30', 'listen_type_1', 'user_gender_1', 'ts_listen_DAY_OF_WEEK_1', 'ts_listen_DAY_OF_WEEK_4', 'ts_listen_DAY_OF_WEEK_5', 'ts_listen_DAY_OF_WEEK_6', 'ts_listen_PERIOD_OF_DAY_1', 'ts_listen_PERIOD_OF_DAY_2', 'ts_listen_PERIOD_OF_DAY_3']\n"
     ]
    }
   ],
   "source": [
    "from sklearn.model_selection import train_test_split\n",
    "X_train, X_test, y_train, y_test = train_test_split(df_train[features], df_train[target], test_size = 0.2)\n",
    "\n",
    "from sklearn import feature_selection\n",
    "all_features = features\n",
    "function_rule_selection = feature_selection.f_classif\n",
    "alpha_cutoff = 0.001\n",
    "\n",
    "selection_rule = feature_selection.SelectFdr(function_rule_selection, alpha_cutoff)\n",
    "selection_rule.fit(X_train, y_train);\n",
    "\n",
    "all_pvalues = list(filter(lambda x: pd.notnull(x[0]), zip(selection_rule.pvalues_, all_features)))\n",
    "#print(all_pvalues)\n",
    "filtered_pvalues = list(filter(lambda x: x[0]<=alpha_cutoff, all_pvalues))\n",
    "#print(filtered_pvalues)\n",
    "all_select_features = list(map(lambda x: x[1], filtered_pvalues))\n",
    "\n",
    "print(\"{0} selected variables from {1}, {2:.2f}%\".format(len(all_select_features), \n",
    "                                                        len(all_features), \n",
    "                                                        len(filtered_pvalues)*100/float(len(all_features))))\n",
    "print(all_select_features)\n",
    "#print(filtered_pvalues)\n",
    "\n",
    "features = all_select_features\n",
    "X_train, X_test, y_train, y_test = train_test_split(df_train[features], df_train[target], test_size = 0.3)\n",
    "X_val, X_test, y_val, y_test = train_test_split(X_test, y_test, test_size = 0.5)"
   ]
  },
  {
   "cell_type": "code",
   "execution_count": 80,
   "metadata": {
    "autoscroll": "json-false",
    "collapsed": false,
    "deletable": true,
    "editable": true,
    "ein.tags": [
     "worksheet-0"
    ],
    "slideshow": {
     "slide_type": "-"
    }
   },
   "outputs": [
    {
     "name": "stdout",
     "output_type": "stream",
     "text": [
      "[0]\ttrain-auc:0.743263\ttest-auc:0.711155\tvalidation-auc:0.711299\n",
      "Multiple eval metrics have been passed: 'validation-auc' will be used for early stopping.\n",
      "\n",
      "Will train until validation-auc hasn't improved in 5 rounds.\n",
      "[1]\ttrain-auc:0.78717\ttest-auc:0.747544\tvalidation-auc:0.747305\n",
      "[2]\ttrain-auc:0.811938\ttest-auc:0.766601\tvalidation-auc:0.766285\n",
      "[3]\ttrain-auc:0.829333\ttest-auc:0.779269\tvalidation-auc:0.778891\n",
      "[4]\ttrain-auc:0.841691\ttest-auc:0.787153\tvalidation-auc:0.787059\n",
      "[5]\ttrain-auc:0.850541\ttest-auc:0.792118\tvalidation-auc:0.792094\n",
      "[6]\ttrain-auc:0.858407\ttest-auc:0.796109\tvalidation-auc:0.796068\n",
      "[7]\ttrain-auc:0.864833\ttest-auc:0.798926\tvalidation-auc:0.798876\n",
      "[8]\ttrain-auc:0.87031\ttest-auc:0.80079\tvalidation-auc:0.800768\n",
      "[9]\ttrain-auc:0.875102\ttest-auc:0.802745\tvalidation-auc:0.802709\n",
      "[10]\ttrain-auc:0.879129\ttest-auc:0.803986\tvalidation-auc:0.804059\n",
      "[11]\ttrain-auc:0.882736\ttest-auc:0.805115\tvalidation-auc:0.805245\n",
      "[12]\ttrain-auc:0.886093\ttest-auc:0.806314\tvalidation-auc:0.80645\n",
      "[13]\ttrain-auc:0.888926\ttest-auc:0.807111\tvalidation-auc:0.807234\n",
      "[14]\ttrain-auc:0.891696\ttest-auc:0.807911\tvalidation-auc:0.808018\n",
      "[15]\ttrain-auc:0.894385\ttest-auc:0.808625\tvalidation-auc:0.808676\n",
      "[16]\ttrain-auc:0.896967\ttest-auc:0.809411\tvalidation-auc:0.809435\n",
      "[17]\ttrain-auc:0.899638\ttest-auc:0.81007\tvalidation-auc:0.810132\n",
      "[18]\ttrain-auc:0.90204\ttest-auc:0.810961\tvalidation-auc:0.811061\n",
      "[19]\ttrain-auc:0.904319\ttest-auc:0.8116\tvalidation-auc:0.811721\n",
      "[20]\ttrain-auc:0.906969\ttest-auc:0.812137\tvalidation-auc:0.812323\n",
      "[21]\ttrain-auc:0.90914\ttest-auc:0.812439\tvalidation-auc:0.812585\n",
      "[22]\ttrain-auc:0.911522\ttest-auc:0.813011\tvalidation-auc:0.813158\n",
      "[23]\ttrain-auc:0.913335\ttest-auc:0.813746\tvalidation-auc:0.813923\n",
      "[24]\ttrain-auc:0.91564\ttest-auc:0.814557\tvalidation-auc:0.814808\n",
      "[25]\ttrain-auc:0.917589\ttest-auc:0.815123\tvalidation-auc:0.815367\n",
      "[26]\ttrain-auc:0.919365\ttest-auc:0.815182\tvalidation-auc:0.815475\n",
      "[27]\ttrain-auc:0.921293\ttest-auc:0.816643\tvalidation-auc:0.816973\n",
      "[28]\ttrain-auc:0.922877\ttest-auc:0.816955\tvalidation-auc:0.817314\n",
      "[29]\ttrain-auc:0.924654\ttest-auc:0.817731\tvalidation-auc:0.818045\n",
      "[30]\ttrain-auc:0.926111\ttest-auc:0.818481\tvalidation-auc:0.818784\n",
      "[31]\ttrain-auc:0.927332\ttest-auc:0.819087\tvalidation-auc:0.819357\n",
      "[32]\ttrain-auc:0.928553\ttest-auc:0.819906\tvalidation-auc:0.820241\n",
      "[33]\ttrain-auc:0.929821\ttest-auc:0.820026\tvalidation-auc:0.820372\n",
      "[34]\ttrain-auc:0.931092\ttest-auc:0.820704\tvalidation-auc:0.821074\n",
      "[35]\ttrain-auc:0.932606\ttest-auc:0.821174\tvalidation-auc:0.821498\n",
      "[36]\ttrain-auc:0.933749\ttest-auc:0.821309\tvalidation-auc:0.821691\n",
      "[37]\ttrain-auc:0.935109\ttest-auc:0.821438\tvalidation-auc:0.821838\n",
      "[38]\ttrain-auc:0.93629\ttest-auc:0.821573\tvalidation-auc:0.821973\n",
      "[39]\ttrain-auc:0.937472\ttest-auc:0.821869\tvalidation-auc:0.822277\n",
      "[40]\ttrain-auc:0.938555\ttest-auc:0.821957\tvalidation-auc:0.822386\n",
      "[41]\ttrain-auc:0.939546\ttest-auc:0.822402\tvalidation-auc:0.822829\n",
      "[42]\ttrain-auc:0.940514\ttest-auc:0.822369\tvalidation-auc:0.822802\n",
      "[43]\ttrain-auc:0.941473\ttest-auc:0.822597\tvalidation-auc:0.823008\n",
      "[44]\ttrain-auc:0.94251\ttest-auc:0.82294\tvalidation-auc:0.823337\n",
      "[45]\ttrain-auc:0.943554\ttest-auc:0.823272\tvalidation-auc:0.823681\n",
      "[46]\ttrain-auc:0.944766\ttest-auc:0.823221\tvalidation-auc:0.823658\n",
      "[47]\ttrain-auc:0.945754\ttest-auc:0.823216\tvalidation-auc:0.823632\n",
      "[48]\ttrain-auc:0.946967\ttest-auc:0.823381\tvalidation-auc:0.823797\n",
      "[49]\ttrain-auc:0.947809\ttest-auc:0.823649\tvalidation-auc:0.82403\n",
      "[50]\ttrain-auc:0.94865\ttest-auc:0.823671\tvalidation-auc:0.824088\n",
      "[51]\ttrain-auc:0.949535\ttest-auc:0.823604\tvalidation-auc:0.824061\n",
      "[52]\ttrain-auc:0.950269\ttest-auc:0.823847\tvalidation-auc:0.824299\n",
      "[53]\ttrain-auc:0.951086\ttest-auc:0.823897\tvalidation-auc:0.824377\n",
      "[54]\ttrain-auc:0.951886\ttest-auc:0.824188\tvalidation-auc:0.824668\n",
      "[55]\ttrain-auc:0.952727\ttest-auc:0.824126\tvalidation-auc:0.824595\n",
      "[56]\ttrain-auc:0.953494\ttest-auc:0.824099\tvalidation-auc:0.824592\n",
      "[57]\ttrain-auc:0.954258\ttest-auc:0.82425\tvalidation-auc:0.82475\n",
      "[58]\ttrain-auc:0.955006\ttest-auc:0.824393\tvalidation-auc:0.824893\n",
      "[59]\ttrain-auc:0.95571\ttest-auc:0.82462\tvalidation-auc:0.825088\n",
      "[60]\ttrain-auc:0.956555\ttest-auc:0.824886\tvalidation-auc:0.825395\n",
      "[61]\ttrain-auc:0.957109\ttest-auc:0.824953\tvalidation-auc:0.825478\n",
      "[62]\ttrain-auc:0.957867\ttest-auc:0.824985\tvalidation-auc:0.825515\n",
      "[63]\ttrain-auc:0.958531\ttest-auc:0.825315\tvalidation-auc:0.825805\n",
      "[64]\ttrain-auc:0.959235\ttest-auc:0.825581\tvalidation-auc:0.826034\n",
      "[65]\ttrain-auc:0.959938\ttest-auc:0.825788\tvalidation-auc:0.826238\n",
      "[66]\ttrain-auc:0.960832\ttest-auc:0.825634\tvalidation-auc:0.826108\n",
      "[67]\ttrain-auc:0.961595\ttest-auc:0.825669\tvalidation-auc:0.826139\n",
      "[68]\ttrain-auc:0.962113\ttest-auc:0.825774\tvalidation-auc:0.826254\n",
      "[69]\ttrain-auc:0.962646\ttest-auc:0.82577\tvalidation-auc:0.826262\n",
      "[70]\ttrain-auc:0.963183\ttest-auc:0.825775\tvalidation-auc:0.826246\n",
      "[71]\ttrain-auc:0.963801\ttest-auc:0.825718\tvalidation-auc:0.826215\n",
      "[72]\ttrain-auc:0.964321\ttest-auc:0.825711\tvalidation-auc:0.826227\n",
      "[73]\ttrain-auc:0.964884\ttest-auc:0.825986\tvalidation-auc:0.82651\n",
      "[74]\ttrain-auc:0.965386\ttest-auc:0.825998\tvalidation-auc:0.82655\n",
      "[75]\ttrain-auc:0.965847\ttest-auc:0.826113\tvalidation-auc:0.8267\n",
      "[76]\ttrain-auc:0.966295\ttest-auc:0.826037\tvalidation-auc:0.826603\n",
      "[77]\ttrain-auc:0.966922\ttest-auc:0.825931\tvalidation-auc:0.826519\n",
      "[78]\ttrain-auc:0.967294\ttest-auc:0.825903\tvalidation-auc:0.826512\n",
      "[79]\ttrain-auc:0.96776\ttest-auc:0.825949\tvalidation-auc:0.826558\n",
      "[80]\ttrain-auc:0.968269\ttest-auc:0.825859\tvalidation-auc:0.826468\n",
      "Stopping. Best iteration:\n",
      "[75]\ttrain-auc:0.965847\ttest-auc:0.826113\tvalidation-auc:0.8267\n",
      "\n",
      "0.543625\n",
      "Tempo de execução: 395m53s\n"
     ]
    }
   ],
   "source": [
    "import xgboost as xgb\n",
    "from time import time\n",
    "import numpy as np\n",
    "\n",
    "start = time()\n",
    "xg_train = xgb.DMatrix(X_train, label=y_train.values, missing=np.NaN)\n",
    "xg_test = xgb.DMatrix(X_test, label=y_test.values, missing=np.NaN)\n",
    "xg_val = xgb.DMatrix(X_val, label=y_val.values, missing=np.NaN)\n",
    "param = {'max_depth':25, \n",
    "         'eta':0.2, \n",
    "         'silent':0, \n",
    "         'objective':'binary:logistic', \n",
    "         \"booster\": \"gbtree\", \n",
    "         \"max_delta_step\":1,\n",
    "         \"alpha\": 1,\n",
    "         \"lambda\": 0,\n",
    "         #\"scale_pos_weight\": class_ratio,\n",
    "         \"eval_metric\": \"auc\",\n",
    "          \"verbose\": 1}\n",
    "\n",
    "### Objectives\n",
    "## 'binary:logistic'\n",
    "## 'multi:softprob'\n",
    "#param['num_class'] = 2\n",
    "param[\"min_child_weight\"] = 10\n",
    "param[\"colsample_bytree\"] = 1\n",
    "num_round = 500\n",
    "\n",
    "watchlist = [(xg_train,'train'), (xg_test,'test'), (xg_val,'validation')]\n",
    "#watchlist = [(xg_val,'validation')]\n",
    "\n",
    "bst = xgb.train(param, \n",
    "                xg_train, \n",
    "                num_round,\n",
    "                watchlist,\n",
    "                early_stopping_rounds=5)\n",
    "\n",
    "yprob = bst.predict( xg_test ) #.reshape( y_test.shape[0], 2)\n",
    "print(yprob[0])\n",
    "\n",
    "print('Tempo de execução: {0}m{1}s'.format(int((time()-start)/60),\n",
    "             int((time()-start)%60 )))"
   ]
  },
  {
   "cell_type": "code",
   "execution_count": 81,
   "metadata": {
    "autoscroll": "json-false",
    "collapsed": false,
    "deletable": true,
    "editable": true,
    "ein.tags": [
     "worksheet-0"
    ],
    "slideshow": {
     "slide_type": "-"
    }
   },
   "outputs": [
    {
     "data": {
      "text/plain": [
       "0     0.670718\n",
       "6     0.705967\n",
       "14    0.480348\n",
       "16    0.505779\n",
       "19    0.537910\n",
       "Name: prediction, dtype: float32"
      ]
     },
     "execution_count": 81,
     "metadata": {},
     "output_type": "execute_result"
    }
   ],
   "source": [
    "df_test_group_2 = df_test[df_test[\"user_id_id\"].isin(user_for_general_model)].copy(deep=True)\n",
    "xg_sub = xgb.DMatrix(df_test_group_2[features], missing=np.NaN)\n",
    "p = bst.predict(xg_sub)\n",
    "df_test_group_2[\"prediction\"] = p\n",
    "df_test_group_2[\"prediction\"].head()"
   ]
  },
  {
   "cell_type": "code",
   "execution_count": 82,
   "metadata": {
    "autoscroll": "json-false",
    "collapsed": false,
    "deletable": true,
    "editable": true,
    "ein.tags": [
     "worksheet-0"
    ],
    "slideshow": {
     "slide_type": "-"
    }
   },
   "outputs": [],
   "source": [
    "df_test_group_2[[\"user_id_id\", \"prediction\"]].to_csv(\"group2.csv\")"
   ]
  },
  {
   "cell_type": "code",
   "execution_count": 83,
   "metadata": {
    "collapsed": true,
    "deletable": true,
    "editable": true
   },
   "outputs": [],
   "source": [
    "df_test_group_1 = pd.read_csv(\"group1.csv\", index_col=\"user_id_id\")\n",
    "df_test_group_2 = pd.read_csv(\"group2.csv\", index_col=\"user_id_id\")"
   ]
  },
  {
   "cell_type": "code",
   "execution_count": 84,
   "metadata": {
    "autoscroll": "json-false",
    "collapsed": false,
    "deletable": true,
    "editable": true,
    "ein.tags": [
     "worksheet-0"
    ],
    "slideshow": {
     "slide_type": "-"
    }
   },
   "outputs": [],
   "source": [
    "df_test = pd.read_csv(\"../data/test_data4.csv\")\n",
    "#df_test = df_test[\"user_id\"]\n",
    "#df_test[\"user_id_id\"] = df_test[\"user_id\"]\n",
    "# df_test = pd.merge(df_test, df_test_group_1[[\"user_id\", \"prediction\"]], on=\"user_id\")\n",
    "# df_test = pd.merge(df_test, df_test_group_2[[\"user_id\", \"prediction\"]], on=\"user_id\")\n",
    "df_test = pd.merge(df_test, df_test_group_1[[\"prediction\"]], left_on=\"user_id\", right_index=True, how=\"outer\")\n",
    "#df_test.join(df_test_group_2[[\"prediction\"]])\n",
    "df_test = pd.merge(df_test, df_test_group_2[[\"prediction\"]], left_on=\"user_id\", right_index=True, how=\"outer\")"
   ]
  },
  {
   "cell_type": "code",
   "execution_count": 85,
   "metadata": {
    "collapsed": false,
    "deletable": true,
    "editable": true
   },
   "outputs": [
    {
     "name": "stdout",
     "output_type": "stream",
     "text": [
      "17288\n",
      "2630\n",
      "19918\n"
     ]
    }
   ],
   "source": [
    "print(len(df_test_group_1))\n",
    "print(len(df_test_group_2))\n",
    "print(len(df_test))"
   ]
  },
  {
   "cell_type": "code",
   "execution_count": 86,
   "metadata": {
    "collapsed": false,
    "deletable": true,
    "editable": true
   },
   "outputs": [],
   "source": [
    "#pd.set_option(\"precision\", 10)\n",
    "#df_test_group_2[[\"user_id\", \"prediction\"]].head()\n",
    "a = pd.read_csv(\"../data/test_data4.csv\")"
   ]
  },
  {
   "cell_type": "code",
   "execution_count": 87,
   "metadata": {
    "collapsed": false,
    "deletable": true,
    "editable": true
   },
   "outputs": [
    {
     "data": {
      "text/plain": [
       "0    17698\n",
       "1    10525\n",
       "2     8716\n",
       "3     5443\n",
       "4     7600\n",
       "Name: user_id, dtype: int64"
      ]
     },
     "execution_count": 87,
     "metadata": {},
     "output_type": "execute_result"
    }
   ],
   "source": [
    "a[\"user_id\"].head()"
   ]
  },
  {
   "cell_type": "code",
   "execution_count": 88,
   "metadata": {
    "collapsed": false,
    "deletable": true,
    "editable": true
   },
   "outputs": [
    {
     "data": {
      "text/html": [
       "<div>\n",
       "<table border=\"1\" class=\"dataframe\">\n",
       "  <thead>\n",
       "    <tr style=\"text-align: right;\">\n",
       "      <th></th>\n",
       "      <th>Unnamed: 0</th>\n",
       "      <th>Unnamed: 0.1</th>\n",
       "      <th>sample_id</th>\n",
       "      <th>genre_id</th>\n",
       "      <th>ts_listen</th>\n",
       "      <th>media_id</th>\n",
       "      <th>album_id</th>\n",
       "      <th>context_type</th>\n",
       "      <th>release_date</th>\n",
       "      <th>platform_name</th>\n",
       "      <th>...</th>\n",
       "      <th>user_age_group</th>\n",
       "      <th>diff_user_song_age</th>\n",
       "      <th>media_decade</th>\n",
       "      <th>media_bpm</th>\n",
       "      <th>media_rank</th>\n",
       "      <th>artist_albuns</th>\n",
       "      <th>artist_fans</th>\n",
       "      <th>artist_radio</th>\n",
       "      <th>prediction_x</th>\n",
       "      <th>prediction_y</th>\n",
       "    </tr>\n",
       "  </thead>\n",
       "  <tbody>\n",
       "    <tr>\n",
       "      <th>0</th>\n",
       "      <td>0</td>\n",
       "      <td>0</td>\n",
       "      <td>0</td>\n",
       "      <td>50</td>\n",
       "      <td>2016-11-02 14:32:51</td>\n",
       "      <td>683078</td>\n",
       "      <td>82356</td>\n",
       "      <td>1</td>\n",
       "      <td>2002-10-08 00:00:00</td>\n",
       "      <td>0</td>\n",
       "      <td>...</td>\n",
       "      <td>2</td>\n",
       "      <td>15.920548</td>\n",
       "      <td>7</td>\n",
       "      <td>181.0</td>\n",
       "      <td>293191.0</td>\n",
       "      <td>25.0</td>\n",
       "      <td>31649.0</td>\n",
       "      <td>1.0</td>\n",
       "      <td>NaN</td>\n",
       "      <td>0.670718</td>\n",
       "    </tr>\n",
       "    <tr>\n",
       "      <th>1</th>\n",
       "      <td>1</td>\n",
       "      <td>1</td>\n",
       "      <td>1</td>\n",
       "      <td>2744</td>\n",
       "      <td>2016-11-16 15:25:40</td>\n",
       "      <td>876497</td>\n",
       "      <td>99692</td>\n",
       "      <td>1</td>\n",
       "      <td>1985-12-31 00:00:00</td>\n",
       "      <td>0</td>\n",
       "      <td>...</td>\n",
       "      <td>2</td>\n",
       "      <td>-2.898630</td>\n",
       "      <td>5</td>\n",
       "      <td>88.0</td>\n",
       "      <td>743839.0</td>\n",
       "      <td>10.0</td>\n",
       "      <td>585650.0</td>\n",
       "      <td>1.0</td>\n",
       "      <td>0.471430</td>\n",
       "      <td>NaN</td>\n",
       "    </tr>\n",
       "    <tr>\n",
       "      <th>2</th>\n",
       "      <td>2</td>\n",
       "      <td>2</td>\n",
       "      <td>2</td>\n",
       "      <td>2744</td>\n",
       "      <td>2016-11-19 07:06:01</td>\n",
       "      <td>876497</td>\n",
       "      <td>99692</td>\n",
       "      <td>1</td>\n",
       "      <td>1985-12-31 00:00:00</td>\n",
       "      <td>0</td>\n",
       "      <td>...</td>\n",
       "      <td>2</td>\n",
       "      <td>-3.906849</td>\n",
       "      <td>5</td>\n",
       "      <td>88.0</td>\n",
       "      <td>743839.0</td>\n",
       "      <td>10.0</td>\n",
       "      <td>585650.0</td>\n",
       "      <td>1.0</td>\n",
       "      <td>0.823140</td>\n",
       "      <td>NaN</td>\n",
       "    </tr>\n",
       "    <tr>\n",
       "      <th>3</th>\n",
       "      <td>3</td>\n",
       "      <td>3</td>\n",
       "      <td>3</td>\n",
       "      <td>2744</td>\n",
       "      <td>2016-11-06 16:42:09</td>\n",
       "      <td>876500</td>\n",
       "      <td>99692</td>\n",
       "      <td>1</td>\n",
       "      <td>1985-12-31 00:00:00</td>\n",
       "      <td>2</td>\n",
       "      <td>...</td>\n",
       "      <td>2</td>\n",
       "      <td>-0.871233</td>\n",
       "      <td>5</td>\n",
       "      <td>107.0</td>\n",
       "      <td>630042.0</td>\n",
       "      <td>10.0</td>\n",
       "      <td>585650.0</td>\n",
       "      <td>1.0</td>\n",
       "      <td>0.981467</td>\n",
       "      <td>NaN</td>\n",
       "    </tr>\n",
       "    <tr>\n",
       "      <th>4</th>\n",
       "      <td>4</td>\n",
       "      <td>4</td>\n",
       "      <td>4</td>\n",
       "      <td>2744</td>\n",
       "      <td>2016-11-29 17:42:40</td>\n",
       "      <td>876504</td>\n",
       "      <td>99692</td>\n",
       "      <td>1</td>\n",
       "      <td>1985-12-31 00:00:00</td>\n",
       "      <td>2</td>\n",
       "      <td>...</td>\n",
       "      <td>2</td>\n",
       "      <td>-1.934247</td>\n",
       "      <td>5</td>\n",
       "      <td>110.0</td>\n",
       "      <td>372256.0</td>\n",
       "      <td>10.0</td>\n",
       "      <td>585650.0</td>\n",
       "      <td>1.0</td>\n",
       "      <td>0.855134</td>\n",
       "      <td>NaN</td>\n",
       "    </tr>\n",
       "  </tbody>\n",
       "</table>\n",
       "<p>5 rows × 37 columns</p>\n",
       "</div>"
      ],
      "text/plain": [
       "   Unnamed: 0  Unnamed: 0.1  sample_id  genre_id            ts_listen  media_id  album_id  context_type         release_date  platform_name      ...       user_age_group  diff_user_song_age  \\\n",
       "0           0             0          0        50  2016-11-02 14:32:51    683078     82356             1  2002-10-08 00:00:00              0      ...                    2           15.920548   \n",
       "1           1             1          1      2744  2016-11-16 15:25:40    876497     99692             1  1985-12-31 00:00:00              0      ...                    2           -2.898630   \n",
       "2           2             2          2      2744  2016-11-19 07:06:01    876497     99692             1  1985-12-31 00:00:00              0      ...                    2           -3.906849   \n",
       "3           3             3          3      2744  2016-11-06 16:42:09    876500     99692             1  1985-12-31 00:00:00              2      ...                    2           -0.871233   \n",
       "4           4             4          4      2744  2016-11-29 17:42:40    876504     99692             1  1985-12-31 00:00:00              2      ...                    2           -1.934247   \n",
       "\n",
       "   media_decade  media_bpm  media_rank  artist_albuns  artist_fans artist_radio  prediction_x  prediction_y  \n",
       "0             7      181.0    293191.0           25.0      31649.0          1.0           NaN      0.670718  \n",
       "1             5       88.0    743839.0           10.0     585650.0          1.0      0.471430           NaN  \n",
       "2             5       88.0    743839.0           10.0     585650.0          1.0      0.823140           NaN  \n",
       "3             5      107.0    630042.0           10.0     585650.0          1.0      0.981467           NaN  \n",
       "4             5      110.0    372256.0           10.0     585650.0          1.0      0.855134           NaN  \n",
       "\n",
       "[5 rows x 37 columns]"
      ]
     },
     "execution_count": 88,
     "metadata": {},
     "output_type": "execute_result"
    }
   ],
   "source": [
    "df_test.head()"
   ]
  },
  {
   "cell_type": "code",
   "execution_count": 89,
   "metadata": {
    "collapsed": true,
    "deletable": true,
    "editable": true
   },
   "outputs": [],
   "source": [
    "df_test[\"prediction_x\"].fillna(0, inplace=True)\n",
    "df_test[\"prediction_y\"].fillna(0, inplace=True)\n",
    "df_test[\"prediction\"] = df_test[\"prediction_x\"] + df_test[\"prediction_y\"]"
   ]
  },
  {
   "cell_type": "code",
   "execution_count": 90,
   "metadata": {
    "collapsed": false,
    "deletable": true,
    "editable": true
   },
   "outputs": [
    {
     "data": {
      "text/plain": [
       "0    0.670718\n",
       "1    0.471430\n",
       "2    0.823140\n",
       "3    0.981467\n",
       "4    0.855134\n",
       "Name: prediction, dtype: float64"
      ]
     },
     "execution_count": 90,
     "metadata": {},
     "output_type": "execute_result"
    }
   ],
   "source": [
    "df_test[\"prediction\"].head()"
   ]
  },
  {
   "cell_type": "code",
   "execution_count": 91,
   "metadata": {
    "collapsed": false,
    "deletable": true,
    "editable": true
   },
   "outputs": [
    {
     "data": {
      "text/plain": [
       "0.96833336353300004"
      ]
     },
     "execution_count": 91,
     "metadata": {},
     "output_type": "execute_result"
    }
   ],
   "source": [
    "df_test.ix[8716][\"prediction\"]"
   ]
  },
  {
   "cell_type": "code",
   "execution_count": 92,
   "metadata": {
    "collapsed": false,
    "deletable": true,
    "editable": true
   },
   "outputs": [
    {
     "data": {
      "text/plain": [
       "array([ 0.67071807,  0.47142956,  0.82314032,  0.98146707,  0.85513425])"
      ]
     },
     "execution_count": 92,
     "metadata": {},
     "output_type": "execute_result"
    }
   ],
   "source": [
    "df_test[\"prediction\"].values[:5]"
   ]
  },
  {
   "cell_type": "code",
   "execution_count": 93,
   "metadata": {
    "collapsed": false,
    "deletable": true,
    "editable": true
   },
   "outputs": [
    {
     "data": {
      "text/plain": [
       "19918"
      ]
     },
     "execution_count": 93,
     "metadata": {},
     "output_type": "execute_result"
    }
   ],
   "source": [
    "len(df_test)"
   ]
  },
  {
   "cell_type": "code",
   "execution_count": 94,
   "metadata": {
    "collapsed": false,
    "deletable": true,
    "editable": true
   },
   "outputs": [
    {
     "data": {
      "text/plain": [
       "0"
      ]
     },
     "execution_count": 94,
     "metadata": {},
     "output_type": "execute_result"
    }
   ],
   "source": [
    "(df_test[\"prediction\"] > 1.0).sum()"
   ]
  },
  {
   "cell_type": "code",
   "execution_count": 95,
   "metadata": {
    "collapsed": false
   },
   "outputs": [
    {
     "data": {
      "text/plain": [
       "0"
      ]
     },
     "execution_count": 95,
     "metadata": {},
     "output_type": "execute_result"
    }
   ],
   "source": [
    "(df_test[\"prediction\"] == 1.0).sum()"
   ]
  },
  {
   "cell_type": "code",
   "execution_count": 96,
   "metadata": {
    "collapsed": false
   },
   "outputs": [
    {
     "data": {
      "text/plain": [
       "0"
      ]
     },
     "execution_count": 96,
     "metadata": {},
     "output_type": "execute_result"
    }
   ],
   "source": [
    "(df_test[\"prediction\"] == 0).sum()"
   ]
  },
  {
   "cell_type": "code",
   "execution_count": 97,
   "metadata": {
    "collapsed": false,
    "deletable": true,
    "editable": true
   },
   "outputs": [
    {
     "data": {
      "text/plain": [
       "0"
      ]
     },
     "execution_count": 97,
     "metadata": {},
     "output_type": "execute_result"
    }
   ],
   "source": [
    "pd.isnull(df_test[\"prediction_y\"]).sum()"
   ]
  },
  {
   "cell_type": "code",
   "execution_count": 98,
   "metadata": {
    "collapsed": true,
    "deletable": true,
    "editable": true
   },
   "outputs": [],
   "source": [
    "#df_test[\"prediction\"] = df_test[\"prediction\"].apply(lambda x : 1 if x > 1 else x)"
   ]
  },
  {
   "cell_type": "code",
   "execution_count": 99,
   "metadata": {
    "autoscroll": "json-false",
    "collapsed": false,
    "deletable": true,
    "editable": true,
    "ein.tags": [
     "worksheet-0"
    ],
    "slideshow": {
     "slide_type": "-"
    }
   },
   "outputs": [],
   "source": [
    "import gzip\n",
    "import csv\n",
    "import numpy as np\n",
    "\n",
    "def build_kaggle_submission(preds, filename=\"my_submission\"):\n",
    "    \"\"\"\n",
    "    Build a compressed Kaggle Submission\n",
    "    \n",
    "    preds: array with predictions\n",
    "    \"\"\"\n",
    "    with gzip.open(filename + '.csv.gz', 'wt') as outf:\n",
    "        fo = csv.writer(outf, lineterminator='\\n')\n",
    "        fo.writerow([\"sample_id\", \"is_listened\"])       \n",
    "        for i, pred in enumerate(preds):\n",
    "            fo.writerow([i, pred])"
   ]
  },
  {
   "cell_type": "code",
   "execution_count": 100,
   "metadata": {
    "autoscroll": "json-false",
    "collapsed": false,
    "deletable": true,
    "editable": true,
    "ein.tags": [
     "worksheet-0"
    ],
    "slideshow": {
     "slide_type": "-"
    }
   },
   "outputs": [],
   "source": [
    "#p = model.predict_proba(df_test[features])\n",
    "#p = p[:, 1]\n",
    "p = df_test[\"prediction\"].values"
   ]
  },
  {
   "cell_type": "code",
   "execution_count": 101,
   "metadata": {
    "autoscroll": "json-false",
    "collapsed": false,
    "deletable": true,
    "editable": true,
    "ein.tags": [
     "worksheet-0"
    ],
    "slideshow": {
     "slide_type": "-"
    }
   },
   "outputs": [],
   "source": [
    "build_kaggle_submission(p, \"note18_2\")"
   ]
  },
  {
   "cell_type": "code",
   "execution_count": 102,
   "metadata": {
    "autoscroll": "json-false",
    "collapsed": false,
    "deletable": true,
    "editable": true,
    "ein.tags": [
     "worksheet-0"
    ],
    "slideshow": {
     "slide_type": "-"
    }
   },
   "outputs": [
    {
     "name": "stdout",
     "output_type": "stream",
     "text": [
      "1519.322321\n",
      "9.560672\n"
     ]
    },
    {
     "ename": "NameError",
     "evalue": "name 'model' is not defined",
     "output_type": "error",
     "traceback": [
      "\u001b[0;31m---------------------------------------------------------------------------\u001b[0m",
      "\u001b[0;31mNameError\u001b[0m                                 Traceback (most recent call last)",
      "\u001b[0;32m<ipython-input-102-1dd8d9ddf2d8>\u001b[0m in \u001b[0;36m<module>\u001b[0;34m()\u001b[0m\n\u001b[1;32m      2\u001b[0m \u001b[0;32mprint\u001b[0m\u001b[0;34m(\u001b[0m\u001b[0msys\u001b[0m\u001b[0;34m.\u001b[0m\u001b[0mgetsizeof\u001b[0m\u001b[0;34m(\u001b[0m\u001b[0mdf_train\u001b[0m\u001b[0;34m)\u001b[0m \u001b[0;34m/\u001b[0m \u001b[0;36m1e6\u001b[0m\u001b[0;34m)\u001b[0m\u001b[0;34m\u001b[0m\u001b[0m\n\u001b[1;32m      3\u001b[0m \u001b[0;32mprint\u001b[0m\u001b[0;34m(\u001b[0m\u001b[0msys\u001b[0m\u001b[0;34m.\u001b[0m\u001b[0mgetsizeof\u001b[0m\u001b[0;34m(\u001b[0m\u001b[0mdf_test\u001b[0m\u001b[0;34m)\u001b[0m \u001b[0;34m/\u001b[0m \u001b[0;36m1e6\u001b[0m\u001b[0;34m)\u001b[0m\u001b[0;34m\u001b[0m\u001b[0m\n\u001b[0;32m----> 4\u001b[0;31m \u001b[0;32mprint\u001b[0m\u001b[0;34m(\u001b[0m\u001b[0msys\u001b[0m\u001b[0;34m.\u001b[0m\u001b[0mgetsizeof\u001b[0m\u001b[0;34m(\u001b[0m\u001b[0mmodel\u001b[0m\u001b[0;34m)\u001b[0m \u001b[0;34m/\u001b[0m \u001b[0;36m1e6\u001b[0m\u001b[0;34m)\u001b[0m\u001b[0;34m\u001b[0m\u001b[0m\n\u001b[0m",
      "\u001b[0;31mNameError\u001b[0m: name 'model' is not defined"
     ]
    }
   ],
   "source": [
    "import sys\n",
    "print(sys.getsizeof(df_train) / 1e6)\n",
    "print(sys.getsizeof(df_test) / 1e6)\n",
    "print(sys.getsizeof(model) / 1e6)"
   ]
  },
  {
   "cell_type": "code",
   "execution_count": null,
   "metadata": {
    "collapsed": false,
    "deletable": true,
    "editable": true
   },
   "outputs": [],
   "source": [
    "!ls"
   ]
  },
  {
   "cell_type": "code",
   "execution_count": null,
   "metadata": {
    "collapsed": true,
    "deletable": true,
    "editable": true
   },
   "outputs": [],
   "source": []
  },
  {
   "cell_type": "code",
   "execution_count": null,
   "metadata": {
    "collapsed": true,
    "deletable": true,
    "editable": true
   },
   "outputs": [],
   "source": []
  },
  {
   "cell_type": "code",
   "execution_count": null,
   "metadata": {
    "collapsed": true,
    "deletable": true,
    "editable": true
   },
   "outputs": [],
   "source": []
  },
  {
   "cell_type": "code",
   "execution_count": null,
   "metadata": {
    "collapsed": true,
    "deletable": true,
    "editable": true
   },
   "outputs": [],
   "source": []
  },
  {
   "cell_type": "code",
   "execution_count": null,
   "metadata": {
    "collapsed": true,
    "deletable": true,
    "editable": true
   },
   "outputs": [],
   "source": []
  }
 ],
 "metadata": {
  "kernelspec": {
   "display_name": "Python 2",
   "language": "python",
   "name": "python2"
  },
  "language_info": {
   "codemirror_mode": {
    "name": "ipython",
    "version": 2
   },
   "file_extension": ".py",
   "mimetype": "text/x-python",
   "name": "python",
   "nbconvert_exporter": "python",
   "pygments_lexer": "ipython2",
   "version": "2.7.13"
  },
  "name": "6 - Simple Model + User Specific + 2 models.ipynb"
 },
 "nbformat": 4,
 "nbformat_minor": 2
}
