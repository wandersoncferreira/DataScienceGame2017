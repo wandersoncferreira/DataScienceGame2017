{
 "cells": [
  {
   "cell_type": "markdown",
   "metadata": {
    "deletable": true,
    "editable": true
   },
   "source": [
    "### Data Science Game 2017\n",
    "#### Original Features\n",
    "\n",
    "Data fields\n",
    "\n",
    "    media_id - identifiant of the song listened by the user\n",
    "    album_id - identifiant of the album of the song\n",
    "    media_duration - duration of the song\n",
    "    user_gender -  gender of the user\n",
    "    user_id -  anonymized id of the user\n",
    "    context_type - type of content where the song was listened: playlist, album ...\n",
    "    release_date - release date of the song with the format YYYYMMDD\n",
    "    ts_listen - timestamp of the listening in UNIX time\n",
    "    platform_name - type of os\n",
    "    platform_family - type of device\n",
    "    user_age - age of the user\n",
    "    listen_type - if the songs was listened in a flow or not\n",
    "    artist_id - identifiant of the artist of the song\n",
    "    genre_id - identifiant of the genre of the song\n",
    "    is_listened - 1 if the track was listened, 0 otherwise\n",
    "\n"
   ]
  },
  {
   "cell_type": "markdown",
   "metadata": {
    "deletable": true,
    "editable": true
   },
   "source": [
    "### Day count"
   ]
  },
  {
   "cell_type": "code",
   "execution_count": 26,
   "metadata": {
    "collapsed": true,
    "deletable": true,
    "editable": true
   },
   "outputs": [],
   "source": [
    "import pandas as pd"
   ]
  },
  {
   "cell_type": "code",
   "execution_count": 27,
   "metadata": {
    "collapsed": true,
    "deletable": true,
    "editable": true
   },
   "outputs": [],
   "source": [
    "df_train = pd.read_csv(\"../data/train.csv\", nrows=1000)\n",
    "df_test = pd.read_csv(\"../data/test.csv\")"
   ]
  },
  {
   "cell_type": "code",
   "execution_count": 28,
   "metadata": {
    "collapsed": false,
    "deletable": true,
    "editable": true
   },
   "outputs": [],
   "source": [
    "import datetime\n",
    "df_train[\"ts_listen\"] = df_train[\"ts_listen\"].apply(lambda x : datetime.datetime.fromtimestamp(x)) \n",
    "df_test[\"ts_listen\"] = df_test[\"ts_listen\"].apply(lambda x : datetime.datetime.fromtimestamp(x)) "
   ]
  },
  {
   "cell_type": "code",
   "execution_count": 29,
   "metadata": {
    "collapsed": false,
    "deletable": true,
    "editable": true
   },
   "outputs": [
    {
     "data": {
      "text/plain": [
       "Timedelta('0 days 14:34:40')"
      ]
     },
     "execution_count": 29,
     "metadata": {},
     "output_type": "execute_result"
    }
   ],
   "source": [
    "df_train.iloc[0][\"ts_listen\"] - df_train.iloc[1][\"ts_listen\"]"
   ]
  },
  {
   "cell_type": "code",
   "execution_count": 30,
   "metadata": {
    "collapsed": false,
    "deletable": true,
    "editable": true
   },
   "outputs": [
    {
     "data": {
      "text/plain": [
       "0"
      ]
     },
     "execution_count": 30,
     "metadata": {},
     "output_type": "execute_result"
    }
   ],
   "source": [
    "(df_train.iloc[0][\"ts_listen\"] - df_train.iloc[1][\"ts_listen\"]).days"
   ]
  },
  {
   "cell_type": "code",
   "execution_count": 31,
   "metadata": {
    "collapsed": false,
    "deletable": true,
    "editable": true
   },
   "outputs": [
    {
     "data": {
      "text/plain": [
       "Timestamp('2016-12-01 11:00:15')"
      ]
     },
     "execution_count": 31,
     "metadata": {},
     "output_type": "execute_result"
    }
   ],
   "source": [
    "df_train.iloc[0][\"ts_listen\"]"
   ]
  },
  {
   "cell_type": "code",
   "execution_count": 32,
   "metadata": {
    "collapsed": false,
    "deletable": true,
    "editable": true
   },
   "outputs": [
    {
     "data": {
      "text/plain": [
       "Timestamp('2016-11-30 20:25:35')"
      ]
     },
     "execution_count": 32,
     "metadata": {},
     "output_type": "execute_result"
    }
   ],
   "source": [
    "df_train.iloc[1][\"ts_listen\"]"
   ]
  },
  {
   "cell_type": "code",
   "execution_count": 33,
   "metadata": {
    "collapsed": false,
    "deletable": true,
    "editable": true
   },
   "outputs": [],
   "source": [
    "from greenpyce.feature_engineering import onehot"
   ]
  },
  {
   "cell_type": "code",
   "execution_count": 34,
   "metadata": {
    "collapsed": false,
    "deletable": true,
    "editable": true
   },
   "outputs": [],
   "source": [
    "from greenpyce.feature_engineering import time_count_between_dates"
   ]
  },
  {
   "cell_type": "code",
   "execution_count": 35,
   "metadata": {
    "collapsed": false,
    "deletable": true,
    "editable": true
   },
   "outputs": [
    {
     "data": {
      "text/plain": [
       "995    19851231\n",
       "996    19851231\n",
       "997    19851231\n",
       "998    19851231\n",
       "999    19851231\n",
       "Name: release_date, dtype: int64"
      ]
     },
     "execution_count": 35,
     "metadata": {},
     "output_type": "execute_result"
    }
   ],
   "source": [
    "df_train[\"release_date\"].tail()"
   ]
  },
  {
   "cell_type": "code",
   "execution_count": 36,
   "metadata": {
    "collapsed": true,
    "deletable": true,
    "editable": true
   },
   "outputs": [],
   "source": [
    "def parse_date(x):\n",
    "    text = \"\"\n",
    "    year = x / 10000\n",
    "    month = (x % 10000) / 100\n",
    "    day = (x % 100)\n",
    "    text = str(year) + \"-\" + str(month) + \"-\" + str(day)\n",
    "    \n",
    "    return text\n",
    "\n",
    "#df_train[\"text\"] = df_train[\"release_date\"].apply(lambda x : parse_date(x))\n",
    "df_test[\"text\"] = df_test[\"release_date\"].apply(lambda x : parse_date(x))"
   ]
  },
  {
   "cell_type": "code",
   "execution_count": 37,
   "metadata": {
    "collapsed": false,
    "deletable": true,
    "editable": true
   },
   "outputs": [],
   "source": [
    "# df_train[\"text\"].head()"
   ]
  },
  {
   "cell_type": "code",
   "execution_count": 38,
   "metadata": {
    "collapsed": true,
    "deletable": true,
    "editable": true
   },
   "outputs": [],
   "source": [
    "#df_train[\"year\"] = df_train[\"release_date\"].apply(lambda x : x / 10000 )\n",
    "df_test[\"year\"] = df_test[\"release_date\"].apply(lambda x : x / 10000 )"
   ]
  },
  {
   "cell_type": "code",
   "execution_count": 39,
   "metadata": {
    "collapsed": false,
    "deletable": true,
    "editable": true
   },
   "outputs": [],
   "source": [
    "# df_train[\"year\"].describe()"
   ]
  },
  {
   "cell_type": "markdown",
   "metadata": {
    "deletable": true,
    "editable": true
   },
   "source": [
    "### Year 3000!\n",
    "Exclude rows with release date after 2017."
   ]
  },
  {
   "cell_type": "code",
   "execution_count": 40,
   "metadata": {
    "collapsed": true,
    "deletable": true,
    "editable": true
   },
   "outputs": [],
   "source": [
    "#df_train.drop(df_train[df_train[\"year\"] > 2017].index , inplace=True)"
   ]
  },
  {
   "cell_type": "code",
   "execution_count": 41,
   "metadata": {
    "collapsed": false,
    "deletable": true,
    "editable": true
   },
   "outputs": [],
   "source": [
    "#df_train[\"text\"] = df_train[\"text\"].apply(lambda x : pd.to_datetime(x)) \n",
    "df_test[\"text\"] = df_test[\"text\"].apply(lambda x : pd.to_datetime(x)) "
   ]
  },
  {
   "cell_type": "code",
   "execution_count": 42,
   "metadata": {
    "collapsed": false,
    "deletable": true,
    "editable": true
   },
   "outputs": [],
   "source": [
    "#df_train[\"text\"].head()"
   ]
  },
  {
   "cell_type": "code",
   "execution_count": null,
   "metadata": {
    "collapsed": true,
    "deletable": true,
    "editable": true
   },
   "outputs": [],
   "source": []
  },
  {
   "cell_type": "code",
   "execution_count": 43,
   "metadata": {
    "collapsed": false,
    "deletable": true,
    "editable": true
   },
   "outputs": [],
   "source": [
    "#df_train[\"release_date\"] = df_train[\"text\"]\n",
    "df_test[\"release_date\"] = df_test[\"text\"]"
   ]
  },
  {
   "cell_type": "code",
   "execution_count": 44,
   "metadata": {
    "collapsed": false,
    "deletable": true,
    "editable": true
   },
   "outputs": [
    {
     "data": {
      "text/html": [
       "<div>\n",
       "<table border=\"1\" class=\"dataframe\">\n",
       "  <thead>\n",
       "    <tr style=\"text-align: right;\">\n",
       "      <th></th>\n",
       "      <th>sample_id</th>\n",
       "      <th>genre_id</th>\n",
       "      <th>ts_listen</th>\n",
       "      <th>media_id</th>\n",
       "      <th>album_id</th>\n",
       "      <th>context_type</th>\n",
       "      <th>release_date</th>\n",
       "      <th>platform_name</th>\n",
       "      <th>platform_family</th>\n",
       "      <th>media_duration</th>\n",
       "      <th>listen_type</th>\n",
       "      <th>user_gender</th>\n",
       "      <th>user_id</th>\n",
       "      <th>artist_id</th>\n",
       "      <th>user_age</th>\n",
       "      <th>text</th>\n",
       "      <th>year</th>\n",
       "      <th>diff_ts_listen_AND_release_date_D</th>\n",
       "      <th>diff_ts_listen_AND_release_date_M</th>\n",
       "      <th>diff_ts_listen_AND_release_date_Y</th>\n",
       "    </tr>\n",
       "  </thead>\n",
       "  <tbody>\n",
       "    <tr>\n",
       "      <th>0</th>\n",
       "      <td>0</td>\n",
       "      <td>50</td>\n",
       "      <td>2016-11-02 14:32:51</td>\n",
       "      <td>683078</td>\n",
       "      <td>82356</td>\n",
       "      <td>1</td>\n",
       "      <td>2002-10-08</td>\n",
       "      <td>0</td>\n",
       "      <td>0</td>\n",
       "      <td>542</td>\n",
       "      <td>1</td>\n",
       "      <td>0</td>\n",
       "      <td>17698</td>\n",
       "      <td>2076</td>\n",
       "      <td>30</td>\n",
       "      <td>2002-10-08</td>\n",
       "      <td>2002</td>\n",
       "      <td>5139.0</td>\n",
       "      <td>171.300000</td>\n",
       "      <td>14.079452</td>\n",
       "    </tr>\n",
       "    <tr>\n",
       "      <th>1</th>\n",
       "      <td>1</td>\n",
       "      <td>2744</td>\n",
       "      <td>2016-11-16 15:25:40</td>\n",
       "      <td>876497</td>\n",
       "      <td>99692</td>\n",
       "      <td>1</td>\n",
       "      <td>1985-12-31</td>\n",
       "      <td>0</td>\n",
       "      <td>0</td>\n",
       "      <td>307</td>\n",
       "      <td>1</td>\n",
       "      <td>0</td>\n",
       "      <td>10525</td>\n",
       "      <td>26</td>\n",
       "      <td>28</td>\n",
       "      <td>1985-12-31</td>\n",
       "      <td>1985</td>\n",
       "      <td>11278.0</td>\n",
       "      <td>375.933333</td>\n",
       "      <td>30.898630</td>\n",
       "    </tr>\n",
       "    <tr>\n",
       "      <th>2</th>\n",
       "      <td>2</td>\n",
       "      <td>2744</td>\n",
       "      <td>2016-11-19 07:06:01</td>\n",
       "      <td>876497</td>\n",
       "      <td>99692</td>\n",
       "      <td>1</td>\n",
       "      <td>1985-12-31</td>\n",
       "      <td>0</td>\n",
       "      <td>0</td>\n",
       "      <td>307</td>\n",
       "      <td>1</td>\n",
       "      <td>0</td>\n",
       "      <td>8716</td>\n",
       "      <td>26</td>\n",
       "      <td>27</td>\n",
       "      <td>1985-12-31</td>\n",
       "      <td>1985</td>\n",
       "      <td>11281.0</td>\n",
       "      <td>376.033333</td>\n",
       "      <td>30.906849</td>\n",
       "    </tr>\n",
       "    <tr>\n",
       "      <th>3</th>\n",
       "      <td>3</td>\n",
       "      <td>2744</td>\n",
       "      <td>2016-11-06 16:42:09</td>\n",
       "      <td>876500</td>\n",
       "      <td>99692</td>\n",
       "      <td>1</td>\n",
       "      <td>1985-12-31</td>\n",
       "      <td>2</td>\n",
       "      <td>1</td>\n",
       "      <td>265</td>\n",
       "      <td>1</td>\n",
       "      <td>0</td>\n",
       "      <td>5443</td>\n",
       "      <td>26</td>\n",
       "      <td>30</td>\n",
       "      <td>1985-12-31</td>\n",
       "      <td>1985</td>\n",
       "      <td>11268.0</td>\n",
       "      <td>375.600000</td>\n",
       "      <td>30.871233</td>\n",
       "    </tr>\n",
       "    <tr>\n",
       "      <th>4</th>\n",
       "      <td>4</td>\n",
       "      <td>2744</td>\n",
       "      <td>2016-11-29 17:42:40</td>\n",
       "      <td>876504</td>\n",
       "      <td>99692</td>\n",
       "      <td>1</td>\n",
       "      <td>1985-12-31</td>\n",
       "      <td>2</td>\n",
       "      <td>1</td>\n",
       "      <td>356</td>\n",
       "      <td>1</td>\n",
       "      <td>0</td>\n",
       "      <td>7600</td>\n",
       "      <td>26</td>\n",
       "      <td>29</td>\n",
       "      <td>1985-12-31</td>\n",
       "      <td>1985</td>\n",
       "      <td>11291.0</td>\n",
       "      <td>376.366667</td>\n",
       "      <td>30.934247</td>\n",
       "    </tr>\n",
       "  </tbody>\n",
       "</table>\n",
       "</div>"
      ],
      "text/plain": [
       "   sample_id  genre_id           ts_listen  media_id  album_id  context_type  \\\n",
       "0          0        50 2016-11-02 14:32:51    683078     82356             1   \n",
       "1          1      2744 2016-11-16 15:25:40    876497     99692             1   \n",
       "2          2      2744 2016-11-19 07:06:01    876497     99692             1   \n",
       "3          3      2744 2016-11-06 16:42:09    876500     99692             1   \n",
       "4          4      2744 2016-11-29 17:42:40    876504     99692             1   \n",
       "\n",
       "  release_date  platform_name  platform_family  media_duration  listen_type  \\\n",
       "0   2002-10-08              0                0             542            1   \n",
       "1   1985-12-31              0                0             307            1   \n",
       "2   1985-12-31              0                0             307            1   \n",
       "3   1985-12-31              2                1             265            1   \n",
       "4   1985-12-31              2                1             356            1   \n",
       "\n",
       "   user_gender  user_id  artist_id  user_age       text  year  \\\n",
       "0            0    17698       2076        30 2002-10-08  2002   \n",
       "1            0    10525         26        28 1985-12-31  1985   \n",
       "2            0     8716         26        27 1985-12-31  1985   \n",
       "3            0     5443         26        30 1985-12-31  1985   \n",
       "4            0     7600         26        29 1985-12-31  1985   \n",
       "\n",
       "   diff_ts_listen_AND_release_date_D  diff_ts_listen_AND_release_date_M  \\\n",
       "0                             5139.0                         171.300000   \n",
       "1                            11278.0                         375.933333   \n",
       "2                            11281.0                         376.033333   \n",
       "3                            11268.0                         375.600000   \n",
       "4                            11291.0                         376.366667   \n",
       "\n",
       "   diff_ts_listen_AND_release_date_Y  \n",
       "0                          14.079452  \n",
       "1                          30.898630  \n",
       "2                          30.906849  \n",
       "3                          30.871233  \n",
       "4                          30.934247  "
      ]
     },
     "execution_count": 44,
     "metadata": {},
     "output_type": "execute_result"
    }
   ],
   "source": [
    "#time_count_between_dates(df_train, \"release_date\", [\"ts_listen\"]).head()\n",
    "time_count_between_dates(df_test, \"release_date\", [\"ts_listen\"]).head()"
   ]
  },
  {
   "cell_type": "code",
   "execution_count": 45,
   "metadata": {
    "collapsed": true,
    "deletable": true,
    "editable": true
   },
   "outputs": [],
   "source": [
    "#df_train.to_csv(\"train_data1.csv\")"
   ]
  },
  {
   "cell_type": "markdown",
   "metadata": {
    "deletable": true,
    "editable": true
   },
   "source": [
    "### Round media duration\n",
    "Seconds are just noise!"
   ]
  },
  {
   "cell_type": "code",
   "execution_count": 46,
   "metadata": {
    "collapsed": false,
    "deletable": true,
    "editable": true
   },
   "outputs": [
    {
     "data": {
      "text/plain": [
       "0    223\n",
       "1    171\n",
       "2    149\n",
       "3    240\n",
       "4    150\n",
       "Name: media_duration, dtype: int64"
      ]
     },
     "execution_count": 46,
     "metadata": {},
     "output_type": "execute_result"
    }
   ],
   "source": [
    "df_train[\"media_duration\"].head()"
   ]
  },
  {
   "cell_type": "code",
   "execution_count": 47,
   "metadata": {
    "collapsed": false,
    "deletable": true,
    "editable": true
   },
   "outputs": [
    {
     "data": {
      "text/plain": [
       "0    223\n",
       "1    171\n",
       "2    149\n",
       "3    240\n",
       "4    150\n",
       "Name: media_duration, dtype: int64"
      ]
     },
     "execution_count": 47,
     "metadata": {},
     "output_type": "execute_result"
    }
   ],
   "source": [
    "#df_train[\"media_duration\"] = df_train[\"media_duration\"].apply(lambda x : round(x / 60.0))\n",
    "df_test[\"media_duration\"] = df_test[\"media_duration\"].apply(lambda x : round(x / 60.0))\n",
    "df_train[\"media_duration\"].head()"
   ]
  },
  {
   "cell_type": "code",
   "execution_count": 48,
   "metadata": {
    "collapsed": true,
    "deletable": true,
    "editable": true
   },
   "outputs": [],
   "source": [
    "def expand_date_info(df, columns, hour_feats=False):\n",
    "    \"\"\"\n",
    "    Create year, month, day, hour and minute from a datetime column.\n",
    "    \"\"\"\n",
    "    for column in columns:\n",
    "        df[column + \"_DAY\"] = df[column].apply(lambda x: x.day)\n",
    "        df[column + \"_MONTH\"] = df[column].apply(lambda x: x.month)\n",
    "        df[column + \"_YEAR\"] = df[column].apply(lambda x: x.year)\n",
    "        if hour_feats:\n",
    "            df[column + \"_HOUR\"] = df[column].apply(lambda x: x.hour)\n",
    "\n",
    "    return df"
   ]
  },
  {
   "cell_type": "code",
   "execution_count": 49,
   "metadata": {
    "collapsed": false,
    "deletable": true,
    "editable": true
   },
   "outputs": [
    {
     "data": {
      "text/html": [
       "<div>\n",
       "<table border=\"1\" class=\"dataframe\">\n",
       "  <thead>\n",
       "    <tr style=\"text-align: right;\">\n",
       "      <th></th>\n",
       "      <th>sample_id</th>\n",
       "      <th>genre_id</th>\n",
       "      <th>ts_listen</th>\n",
       "      <th>media_id</th>\n",
       "      <th>album_id</th>\n",
       "      <th>context_type</th>\n",
       "      <th>release_date</th>\n",
       "      <th>platform_name</th>\n",
       "      <th>platform_family</th>\n",
       "      <th>media_duration</th>\n",
       "      <th>...</th>\n",
       "      <th>artist_id</th>\n",
       "      <th>user_age</th>\n",
       "      <th>text</th>\n",
       "      <th>year</th>\n",
       "      <th>diff_ts_listen_AND_release_date_D</th>\n",
       "      <th>diff_ts_listen_AND_release_date_M</th>\n",
       "      <th>diff_ts_listen_AND_release_date_Y</th>\n",
       "      <th>release_date_DAY</th>\n",
       "      <th>release_date_MONTH</th>\n",
       "      <th>release_date_YEAR</th>\n",
       "    </tr>\n",
       "  </thead>\n",
       "  <tbody>\n",
       "    <tr>\n",
       "      <th>0</th>\n",
       "      <td>0</td>\n",
       "      <td>50</td>\n",
       "      <td>2016-11-02 14:32:51</td>\n",
       "      <td>683078</td>\n",
       "      <td>82356</td>\n",
       "      <td>1</td>\n",
       "      <td>2002-10-08</td>\n",
       "      <td>0</td>\n",
       "      <td>0</td>\n",
       "      <td>9.0</td>\n",
       "      <td>...</td>\n",
       "      <td>2076</td>\n",
       "      <td>30</td>\n",
       "      <td>2002-10-08</td>\n",
       "      <td>2002</td>\n",
       "      <td>5139.0</td>\n",
       "      <td>171.300000</td>\n",
       "      <td>14.079452</td>\n",
       "      <td>8</td>\n",
       "      <td>10</td>\n",
       "      <td>2002</td>\n",
       "    </tr>\n",
       "    <tr>\n",
       "      <th>1</th>\n",
       "      <td>1</td>\n",
       "      <td>2744</td>\n",
       "      <td>2016-11-16 15:25:40</td>\n",
       "      <td>876497</td>\n",
       "      <td>99692</td>\n",
       "      <td>1</td>\n",
       "      <td>1985-12-31</td>\n",
       "      <td>0</td>\n",
       "      <td>0</td>\n",
       "      <td>5.0</td>\n",
       "      <td>...</td>\n",
       "      <td>26</td>\n",
       "      <td>28</td>\n",
       "      <td>1985-12-31</td>\n",
       "      <td>1985</td>\n",
       "      <td>11278.0</td>\n",
       "      <td>375.933333</td>\n",
       "      <td>30.898630</td>\n",
       "      <td>31</td>\n",
       "      <td>12</td>\n",
       "      <td>1985</td>\n",
       "    </tr>\n",
       "    <tr>\n",
       "      <th>2</th>\n",
       "      <td>2</td>\n",
       "      <td>2744</td>\n",
       "      <td>2016-11-19 07:06:01</td>\n",
       "      <td>876497</td>\n",
       "      <td>99692</td>\n",
       "      <td>1</td>\n",
       "      <td>1985-12-31</td>\n",
       "      <td>0</td>\n",
       "      <td>0</td>\n",
       "      <td>5.0</td>\n",
       "      <td>...</td>\n",
       "      <td>26</td>\n",
       "      <td>27</td>\n",
       "      <td>1985-12-31</td>\n",
       "      <td>1985</td>\n",
       "      <td>11281.0</td>\n",
       "      <td>376.033333</td>\n",
       "      <td>30.906849</td>\n",
       "      <td>31</td>\n",
       "      <td>12</td>\n",
       "      <td>1985</td>\n",
       "    </tr>\n",
       "    <tr>\n",
       "      <th>3</th>\n",
       "      <td>3</td>\n",
       "      <td>2744</td>\n",
       "      <td>2016-11-06 16:42:09</td>\n",
       "      <td>876500</td>\n",
       "      <td>99692</td>\n",
       "      <td>1</td>\n",
       "      <td>1985-12-31</td>\n",
       "      <td>2</td>\n",
       "      <td>1</td>\n",
       "      <td>4.0</td>\n",
       "      <td>...</td>\n",
       "      <td>26</td>\n",
       "      <td>30</td>\n",
       "      <td>1985-12-31</td>\n",
       "      <td>1985</td>\n",
       "      <td>11268.0</td>\n",
       "      <td>375.600000</td>\n",
       "      <td>30.871233</td>\n",
       "      <td>31</td>\n",
       "      <td>12</td>\n",
       "      <td>1985</td>\n",
       "    </tr>\n",
       "    <tr>\n",
       "      <th>4</th>\n",
       "      <td>4</td>\n",
       "      <td>2744</td>\n",
       "      <td>2016-11-29 17:42:40</td>\n",
       "      <td>876504</td>\n",
       "      <td>99692</td>\n",
       "      <td>1</td>\n",
       "      <td>1985-12-31</td>\n",
       "      <td>2</td>\n",
       "      <td>1</td>\n",
       "      <td>6.0</td>\n",
       "      <td>...</td>\n",
       "      <td>26</td>\n",
       "      <td>29</td>\n",
       "      <td>1985-12-31</td>\n",
       "      <td>1985</td>\n",
       "      <td>11291.0</td>\n",
       "      <td>376.366667</td>\n",
       "      <td>30.934247</td>\n",
       "      <td>31</td>\n",
       "      <td>12</td>\n",
       "      <td>1985</td>\n",
       "    </tr>\n",
       "  </tbody>\n",
       "</table>\n",
       "<p>5 rows × 23 columns</p>\n",
       "</div>"
      ],
      "text/plain": [
       "   sample_id  genre_id           ts_listen  media_id  album_id  context_type  \\\n",
       "0          0        50 2016-11-02 14:32:51    683078     82356             1   \n",
       "1          1      2744 2016-11-16 15:25:40    876497     99692             1   \n",
       "2          2      2744 2016-11-19 07:06:01    876497     99692             1   \n",
       "3          3      2744 2016-11-06 16:42:09    876500     99692             1   \n",
       "4          4      2744 2016-11-29 17:42:40    876504     99692             1   \n",
       "\n",
       "  release_date  platform_name  platform_family  media_duration  \\\n",
       "0   2002-10-08              0                0             9.0   \n",
       "1   1985-12-31              0                0             5.0   \n",
       "2   1985-12-31              0                0             5.0   \n",
       "3   1985-12-31              2                1             4.0   \n",
       "4   1985-12-31              2                1             6.0   \n",
       "\n",
       "         ...          artist_id  user_age       text  year  \\\n",
       "0        ...               2076        30 2002-10-08  2002   \n",
       "1        ...                 26        28 1985-12-31  1985   \n",
       "2        ...                 26        27 1985-12-31  1985   \n",
       "3        ...                 26        30 1985-12-31  1985   \n",
       "4        ...                 26        29 1985-12-31  1985   \n",
       "\n",
       "   diff_ts_listen_AND_release_date_D diff_ts_listen_AND_release_date_M  \\\n",
       "0                             5139.0                        171.300000   \n",
       "1                            11278.0                        375.933333   \n",
       "2                            11281.0                        376.033333   \n",
       "3                            11268.0                        375.600000   \n",
       "4                            11291.0                        376.366667   \n",
       "\n",
       "   diff_ts_listen_AND_release_date_Y  release_date_DAY  release_date_MONTH  \\\n",
       "0                          14.079452                 8                  10   \n",
       "1                          30.898630                31                  12   \n",
       "2                          30.906849                31                  12   \n",
       "3                          30.871233                31                  12   \n",
       "4                          30.934247                31                  12   \n",
       "\n",
       "   release_date_YEAR  \n",
       "0               2002  \n",
       "1               1985  \n",
       "2               1985  \n",
       "3               1985  \n",
       "4               1985  \n",
       "\n",
       "[5 rows x 23 columns]"
      ]
     },
     "execution_count": 49,
     "metadata": {},
     "output_type": "execute_result"
    }
   ],
   "source": [
    "#expand_date_info(df_train, [\"release_date\"]).head()\n",
    "expand_date_info(df_test, [\"release_date\"]).head()"
   ]
  },
  {
   "cell_type": "code",
   "execution_count": 50,
   "metadata": {
    "collapsed": true,
    "deletable": true,
    "editable": true
   },
   "outputs": [],
   "source": [
    "def day_of_week(df, columns):\n",
    "    \"\"\"\n",
    "    Creates a new column with day of week information for given datetime columns.\n",
    "    0: Monday\n",
    "    6: Sunday\n",
    "    \"\"\"\n",
    "    for column in columns:\n",
    "        df[column + \"_DAY_OF_WEEK\"] = df[column].apply(lambda x: x.weekday())\n",
    "\n",
    "    return df"
   ]
  },
  {
   "cell_type": "code",
   "execution_count": 51,
   "metadata": {
    "collapsed": false,
    "deletable": true,
    "editable": true
   },
   "outputs": [
    {
     "data": {
      "text/html": [
       "<div>\n",
       "<table border=\"1\" class=\"dataframe\">\n",
       "  <thead>\n",
       "    <tr style=\"text-align: right;\">\n",
       "      <th></th>\n",
       "      <th>sample_id</th>\n",
       "      <th>genre_id</th>\n",
       "      <th>ts_listen</th>\n",
       "      <th>media_id</th>\n",
       "      <th>album_id</th>\n",
       "      <th>context_type</th>\n",
       "      <th>release_date</th>\n",
       "      <th>platform_name</th>\n",
       "      <th>platform_family</th>\n",
       "      <th>media_duration</th>\n",
       "      <th>...</th>\n",
       "      <th>user_age</th>\n",
       "      <th>text</th>\n",
       "      <th>year</th>\n",
       "      <th>diff_ts_listen_AND_release_date_D</th>\n",
       "      <th>diff_ts_listen_AND_release_date_M</th>\n",
       "      <th>diff_ts_listen_AND_release_date_Y</th>\n",
       "      <th>release_date_DAY</th>\n",
       "      <th>release_date_MONTH</th>\n",
       "      <th>release_date_YEAR</th>\n",
       "      <th>ts_listen_DAY_OF_WEEK</th>\n",
       "    </tr>\n",
       "  </thead>\n",
       "  <tbody>\n",
       "    <tr>\n",
       "      <th>0</th>\n",
       "      <td>0</td>\n",
       "      <td>50</td>\n",
       "      <td>2016-11-02 14:32:51</td>\n",
       "      <td>683078</td>\n",
       "      <td>82356</td>\n",
       "      <td>1</td>\n",
       "      <td>2002-10-08</td>\n",
       "      <td>0</td>\n",
       "      <td>0</td>\n",
       "      <td>9.0</td>\n",
       "      <td>...</td>\n",
       "      <td>30</td>\n",
       "      <td>2002-10-08</td>\n",
       "      <td>2002</td>\n",
       "      <td>5139.0</td>\n",
       "      <td>171.300000</td>\n",
       "      <td>14.079452</td>\n",
       "      <td>8</td>\n",
       "      <td>10</td>\n",
       "      <td>2002</td>\n",
       "      <td>2</td>\n",
       "    </tr>\n",
       "    <tr>\n",
       "      <th>1</th>\n",
       "      <td>1</td>\n",
       "      <td>2744</td>\n",
       "      <td>2016-11-16 15:25:40</td>\n",
       "      <td>876497</td>\n",
       "      <td>99692</td>\n",
       "      <td>1</td>\n",
       "      <td>1985-12-31</td>\n",
       "      <td>0</td>\n",
       "      <td>0</td>\n",
       "      <td>5.0</td>\n",
       "      <td>...</td>\n",
       "      <td>28</td>\n",
       "      <td>1985-12-31</td>\n",
       "      <td>1985</td>\n",
       "      <td>11278.0</td>\n",
       "      <td>375.933333</td>\n",
       "      <td>30.898630</td>\n",
       "      <td>31</td>\n",
       "      <td>12</td>\n",
       "      <td>1985</td>\n",
       "      <td>2</td>\n",
       "    </tr>\n",
       "    <tr>\n",
       "      <th>2</th>\n",
       "      <td>2</td>\n",
       "      <td>2744</td>\n",
       "      <td>2016-11-19 07:06:01</td>\n",
       "      <td>876497</td>\n",
       "      <td>99692</td>\n",
       "      <td>1</td>\n",
       "      <td>1985-12-31</td>\n",
       "      <td>0</td>\n",
       "      <td>0</td>\n",
       "      <td>5.0</td>\n",
       "      <td>...</td>\n",
       "      <td>27</td>\n",
       "      <td>1985-12-31</td>\n",
       "      <td>1985</td>\n",
       "      <td>11281.0</td>\n",
       "      <td>376.033333</td>\n",
       "      <td>30.906849</td>\n",
       "      <td>31</td>\n",
       "      <td>12</td>\n",
       "      <td>1985</td>\n",
       "      <td>5</td>\n",
       "    </tr>\n",
       "    <tr>\n",
       "      <th>3</th>\n",
       "      <td>3</td>\n",
       "      <td>2744</td>\n",
       "      <td>2016-11-06 16:42:09</td>\n",
       "      <td>876500</td>\n",
       "      <td>99692</td>\n",
       "      <td>1</td>\n",
       "      <td>1985-12-31</td>\n",
       "      <td>2</td>\n",
       "      <td>1</td>\n",
       "      <td>4.0</td>\n",
       "      <td>...</td>\n",
       "      <td>30</td>\n",
       "      <td>1985-12-31</td>\n",
       "      <td>1985</td>\n",
       "      <td>11268.0</td>\n",
       "      <td>375.600000</td>\n",
       "      <td>30.871233</td>\n",
       "      <td>31</td>\n",
       "      <td>12</td>\n",
       "      <td>1985</td>\n",
       "      <td>6</td>\n",
       "    </tr>\n",
       "    <tr>\n",
       "      <th>4</th>\n",
       "      <td>4</td>\n",
       "      <td>2744</td>\n",
       "      <td>2016-11-29 17:42:40</td>\n",
       "      <td>876504</td>\n",
       "      <td>99692</td>\n",
       "      <td>1</td>\n",
       "      <td>1985-12-31</td>\n",
       "      <td>2</td>\n",
       "      <td>1</td>\n",
       "      <td>6.0</td>\n",
       "      <td>...</td>\n",
       "      <td>29</td>\n",
       "      <td>1985-12-31</td>\n",
       "      <td>1985</td>\n",
       "      <td>11291.0</td>\n",
       "      <td>376.366667</td>\n",
       "      <td>30.934247</td>\n",
       "      <td>31</td>\n",
       "      <td>12</td>\n",
       "      <td>1985</td>\n",
       "      <td>1</td>\n",
       "    </tr>\n",
       "  </tbody>\n",
       "</table>\n",
       "<p>5 rows × 24 columns</p>\n",
       "</div>"
      ],
      "text/plain": [
       "   sample_id  genre_id           ts_listen  media_id  album_id  context_type  \\\n",
       "0          0        50 2016-11-02 14:32:51    683078     82356             1   \n",
       "1          1      2744 2016-11-16 15:25:40    876497     99692             1   \n",
       "2          2      2744 2016-11-19 07:06:01    876497     99692             1   \n",
       "3          3      2744 2016-11-06 16:42:09    876500     99692             1   \n",
       "4          4      2744 2016-11-29 17:42:40    876504     99692             1   \n",
       "\n",
       "  release_date  platform_name  platform_family  media_duration  \\\n",
       "0   2002-10-08              0                0             9.0   \n",
       "1   1985-12-31              0                0             5.0   \n",
       "2   1985-12-31              0                0             5.0   \n",
       "3   1985-12-31              2                1             4.0   \n",
       "4   1985-12-31              2                1             6.0   \n",
       "\n",
       "           ...            user_age       text  year  \\\n",
       "0          ...                  30 2002-10-08  2002   \n",
       "1          ...                  28 1985-12-31  1985   \n",
       "2          ...                  27 1985-12-31  1985   \n",
       "3          ...                  30 1985-12-31  1985   \n",
       "4          ...                  29 1985-12-31  1985   \n",
       "\n",
       "   diff_ts_listen_AND_release_date_D  diff_ts_listen_AND_release_date_M  \\\n",
       "0                             5139.0                         171.300000   \n",
       "1                            11278.0                         375.933333   \n",
       "2                            11281.0                         376.033333   \n",
       "3                            11268.0                         375.600000   \n",
       "4                            11291.0                         376.366667   \n",
       "\n",
       "  diff_ts_listen_AND_release_date_Y  release_date_DAY  release_date_MONTH  \\\n",
       "0                         14.079452                 8                  10   \n",
       "1                         30.898630                31                  12   \n",
       "2                         30.906849                31                  12   \n",
       "3                         30.871233                31                  12   \n",
       "4                         30.934247                31                  12   \n",
       "\n",
       "   release_date_YEAR  ts_listen_DAY_OF_WEEK  \n",
       "0               2002                      2  \n",
       "1               1985                      2  \n",
       "2               1985                      5  \n",
       "3               1985                      6  \n",
       "4               1985                      1  \n",
       "\n",
       "[5 rows x 24 columns]"
      ]
     },
     "execution_count": 51,
     "metadata": {},
     "output_type": "execute_result"
    }
   ],
   "source": [
    "#day_of_week(df_train, [\"ts_listen\"]).head()\n",
    "day_of_week(df_test, [\"ts_listen\"]).head()"
   ]
  },
  {
   "cell_type": "code",
   "execution_count": 52,
   "metadata": {
    "collapsed": false,
    "deletable": true,
    "editable": true
   },
   "outputs": [],
   "source": [
    "def period_of_day(df, columns):\n",
    "    \"\"\"\n",
    "    Creates a new column with period of day information for given datetime columns.\n",
    "    \"\"\"\n",
    "    period_dict = {}\n",
    "    period_dict[\"Morning\"] = {\"interval\": range(6, 12), \"encode\": 0}\n",
    "    period_dict[\"Afternoon\"] = {\"interval\": range(12, 18), \"encode\": 1}\n",
    "    period_dict[\"Night\"] = {\"interval\": range(18, 24), \"encode\": 2}\n",
    "    period_dict[\"Late\"] = {\"interval\": range(0, 6), \"encode\": 3}\n",
    "\n",
    "    def what_period(x, period_dict):\n",
    "        for key, value in period_dict.items():\n",
    "            if x in value[\"interval\"]:\n",
    "                return value[\"encode\"]\n",
    "        \n",
    "    for column in columns:\n",
    "        df[column + \"_PERIOD_OF_DAY\"] = df[column].apply(lambda x: what_period(x.hour, period_dict))\n",
    "\n",
    "\n",
    "    return df"
   ]
  },
  {
   "cell_type": "code",
   "execution_count": 53,
   "metadata": {
    "collapsed": true,
    "deletable": true,
    "editable": true
   },
   "outputs": [],
   "source": [
    "period_dict = {}\n",
    "period_dict[\"Morning\"] = {\"interval\": range(6, 12), \"encode\": 0}\n",
    "period_dict[\"Afternoon\"] = {\"interval\": range(12, 17), \"encode\": 1}\n",
    "period_dict[\"Night\"] = {\"interval\": range(18, 23), \"encode\": 2}\n",
    "period_dict[\"Late\"] = {\"interval\": range(0, 5), \"encode\": 3}\n",
    "\n",
    "def what_period(x, period_dict):\n",
    "    for key, value in period_dict.items():\n",
    "        if x in value[\"interval\"]:\n",
    "            return value[\"encode\"]"
   ]
  },
  {
   "cell_type": "code",
   "execution_count": 54,
   "metadata": {
    "collapsed": false,
    "deletable": true,
    "editable": true
   },
   "outputs": [
    {
     "data": {
      "text/html": [
       "<div>\n",
       "<table border=\"1\" class=\"dataframe\">\n",
       "  <thead>\n",
       "    <tr style=\"text-align: right;\">\n",
       "      <th></th>\n",
       "      <th>sample_id</th>\n",
       "      <th>genre_id</th>\n",
       "      <th>ts_listen</th>\n",
       "      <th>media_id</th>\n",
       "      <th>album_id</th>\n",
       "      <th>context_type</th>\n",
       "      <th>release_date</th>\n",
       "      <th>platform_name</th>\n",
       "      <th>platform_family</th>\n",
       "      <th>media_duration</th>\n",
       "      <th>...</th>\n",
       "      <th>text</th>\n",
       "      <th>year</th>\n",
       "      <th>diff_ts_listen_AND_release_date_D</th>\n",
       "      <th>diff_ts_listen_AND_release_date_M</th>\n",
       "      <th>diff_ts_listen_AND_release_date_Y</th>\n",
       "      <th>release_date_DAY</th>\n",
       "      <th>release_date_MONTH</th>\n",
       "      <th>release_date_YEAR</th>\n",
       "      <th>ts_listen_DAY_OF_WEEK</th>\n",
       "      <th>ts_listen_PERIOD_OF_DAY</th>\n",
       "    </tr>\n",
       "  </thead>\n",
       "  <tbody>\n",
       "    <tr>\n",
       "      <th>0</th>\n",
       "      <td>0</td>\n",
       "      <td>50</td>\n",
       "      <td>2016-11-02 14:32:51</td>\n",
       "      <td>683078</td>\n",
       "      <td>82356</td>\n",
       "      <td>1</td>\n",
       "      <td>2002-10-08</td>\n",
       "      <td>0</td>\n",
       "      <td>0</td>\n",
       "      <td>9.0</td>\n",
       "      <td>...</td>\n",
       "      <td>2002-10-08</td>\n",
       "      <td>2002</td>\n",
       "      <td>5139.0</td>\n",
       "      <td>171.300000</td>\n",
       "      <td>14.079452</td>\n",
       "      <td>8</td>\n",
       "      <td>10</td>\n",
       "      <td>2002</td>\n",
       "      <td>2</td>\n",
       "      <td>1</td>\n",
       "    </tr>\n",
       "    <tr>\n",
       "      <th>1</th>\n",
       "      <td>1</td>\n",
       "      <td>2744</td>\n",
       "      <td>2016-11-16 15:25:40</td>\n",
       "      <td>876497</td>\n",
       "      <td>99692</td>\n",
       "      <td>1</td>\n",
       "      <td>1985-12-31</td>\n",
       "      <td>0</td>\n",
       "      <td>0</td>\n",
       "      <td>5.0</td>\n",
       "      <td>...</td>\n",
       "      <td>1985-12-31</td>\n",
       "      <td>1985</td>\n",
       "      <td>11278.0</td>\n",
       "      <td>375.933333</td>\n",
       "      <td>30.898630</td>\n",
       "      <td>31</td>\n",
       "      <td>12</td>\n",
       "      <td>1985</td>\n",
       "      <td>2</td>\n",
       "      <td>1</td>\n",
       "    </tr>\n",
       "    <tr>\n",
       "      <th>2</th>\n",
       "      <td>2</td>\n",
       "      <td>2744</td>\n",
       "      <td>2016-11-19 07:06:01</td>\n",
       "      <td>876497</td>\n",
       "      <td>99692</td>\n",
       "      <td>1</td>\n",
       "      <td>1985-12-31</td>\n",
       "      <td>0</td>\n",
       "      <td>0</td>\n",
       "      <td>5.0</td>\n",
       "      <td>...</td>\n",
       "      <td>1985-12-31</td>\n",
       "      <td>1985</td>\n",
       "      <td>11281.0</td>\n",
       "      <td>376.033333</td>\n",
       "      <td>30.906849</td>\n",
       "      <td>31</td>\n",
       "      <td>12</td>\n",
       "      <td>1985</td>\n",
       "      <td>5</td>\n",
       "      <td>0</td>\n",
       "    </tr>\n",
       "    <tr>\n",
       "      <th>3</th>\n",
       "      <td>3</td>\n",
       "      <td>2744</td>\n",
       "      <td>2016-11-06 16:42:09</td>\n",
       "      <td>876500</td>\n",
       "      <td>99692</td>\n",
       "      <td>1</td>\n",
       "      <td>1985-12-31</td>\n",
       "      <td>2</td>\n",
       "      <td>1</td>\n",
       "      <td>4.0</td>\n",
       "      <td>...</td>\n",
       "      <td>1985-12-31</td>\n",
       "      <td>1985</td>\n",
       "      <td>11268.0</td>\n",
       "      <td>375.600000</td>\n",
       "      <td>30.871233</td>\n",
       "      <td>31</td>\n",
       "      <td>12</td>\n",
       "      <td>1985</td>\n",
       "      <td>6</td>\n",
       "      <td>1</td>\n",
       "    </tr>\n",
       "    <tr>\n",
       "      <th>4</th>\n",
       "      <td>4</td>\n",
       "      <td>2744</td>\n",
       "      <td>2016-11-29 17:42:40</td>\n",
       "      <td>876504</td>\n",
       "      <td>99692</td>\n",
       "      <td>1</td>\n",
       "      <td>1985-12-31</td>\n",
       "      <td>2</td>\n",
       "      <td>1</td>\n",
       "      <td>6.0</td>\n",
       "      <td>...</td>\n",
       "      <td>1985-12-31</td>\n",
       "      <td>1985</td>\n",
       "      <td>11291.0</td>\n",
       "      <td>376.366667</td>\n",
       "      <td>30.934247</td>\n",
       "      <td>31</td>\n",
       "      <td>12</td>\n",
       "      <td>1985</td>\n",
       "      <td>1</td>\n",
       "      <td>1</td>\n",
       "    </tr>\n",
       "  </tbody>\n",
       "</table>\n",
       "<p>5 rows × 25 columns</p>\n",
       "</div>"
      ],
      "text/plain": [
       "   sample_id  genre_id           ts_listen  media_id  album_id  context_type  \\\n",
       "0          0        50 2016-11-02 14:32:51    683078     82356             1   \n",
       "1          1      2744 2016-11-16 15:25:40    876497     99692             1   \n",
       "2          2      2744 2016-11-19 07:06:01    876497     99692             1   \n",
       "3          3      2744 2016-11-06 16:42:09    876500     99692             1   \n",
       "4          4      2744 2016-11-29 17:42:40    876504     99692             1   \n",
       "\n",
       "  release_date  platform_name  platform_family  media_duration  \\\n",
       "0   2002-10-08              0                0             9.0   \n",
       "1   1985-12-31              0                0             5.0   \n",
       "2   1985-12-31              0                0             5.0   \n",
       "3   1985-12-31              2                1             4.0   \n",
       "4   1985-12-31              2                1             6.0   \n",
       "\n",
       "            ...                  text  year  \\\n",
       "0           ...            2002-10-08  2002   \n",
       "1           ...            1985-12-31  1985   \n",
       "2           ...            1985-12-31  1985   \n",
       "3           ...            1985-12-31  1985   \n",
       "4           ...            1985-12-31  1985   \n",
       "\n",
       "   diff_ts_listen_AND_release_date_D  diff_ts_listen_AND_release_date_M  \\\n",
       "0                             5139.0                         171.300000   \n",
       "1                            11278.0                         375.933333   \n",
       "2                            11281.0                         376.033333   \n",
       "3                            11268.0                         375.600000   \n",
       "4                            11291.0                         376.366667   \n",
       "\n",
       "   diff_ts_listen_AND_release_date_Y release_date_DAY  release_date_MONTH  \\\n",
       "0                          14.079452                8                  10   \n",
       "1                          30.898630               31                  12   \n",
       "2                          30.906849               31                  12   \n",
       "3                          30.871233               31                  12   \n",
       "4                          30.934247               31                  12   \n",
       "\n",
       "   release_date_YEAR  ts_listen_DAY_OF_WEEK  ts_listen_PERIOD_OF_DAY  \n",
       "0               2002                      2                        1  \n",
       "1               1985                      2                        1  \n",
       "2               1985                      5                        0  \n",
       "3               1985                      6                        1  \n",
       "4               1985                      1                        1  \n",
       "\n",
       "[5 rows x 25 columns]"
      ]
     },
     "execution_count": 54,
     "metadata": {},
     "output_type": "execute_result"
    }
   ],
   "source": [
    "#period_of_day(df_train, [\"ts_listen\"]).head()\n",
    "period_of_day(df_test, [\"ts_listen\"]).head()"
   ]
  },
  {
   "cell_type": "code",
   "execution_count": 55,
   "metadata": {
    "collapsed": true,
    "deletable": true,
    "editable": true
   },
   "outputs": [],
   "source": [
    "#df_train.to_csv(\"train_data1.csv\")"
   ]
  },
  {
   "cell_type": "markdown",
   "metadata": {
    "collapsed": true,
    "deletable": true,
    "editable": true
   },
   "source": [
    "### Checkpoint!"
   ]
  },
  {
   "cell_type": "code",
   "execution_count": 56,
   "metadata": {
    "collapsed": true,
    "deletable": true,
    "editable": true
   },
   "outputs": [],
   "source": [
    "import pandas as pd\n",
    "#df_train = pd.read_csv(\"train_data1.csv\")"
   ]
  },
  {
   "cell_type": "markdown",
   "metadata": {
    "collapsed": true,
    "deletable": true,
    "editable": true
   },
   "source": [
    "### Bin user ages"
   ]
  },
  {
   "cell_type": "code",
   "execution_count": 57,
   "metadata": {
    "collapsed": false,
    "deletable": true,
    "editable": true
   },
   "outputs": [],
   "source": [
    "#df_train[\"user_age_group\"] = pd.cut(df_train[\"user_age\"], [18, 21, 25, 30], labels=[0, 1, 2])\n",
    "df_test[\"user_age_group\"] = pd.cut(df_test[\"user_age\"], [18, 21, 25, 30], labels=[0, 1, 2])"
   ]
  },
  {
   "cell_type": "code",
   "execution_count": 58,
   "metadata": {
    "collapsed": false,
    "deletable": true,
    "editable": true
   },
   "outputs": [],
   "source": [
    "# df_train[\"user_age_group\"].head()"
   ]
  },
  {
   "cell_type": "code",
   "execution_count": 59,
   "metadata": {
    "collapsed": true,
    "deletable": true,
    "editable": true
   },
   "outputs": [],
   "source": [
    "#df_train[\"diff_user_song_age\"] = df_train[\"user_age\"] - df_train[\"diff_ts_listen_AND_release_date_Y\"]\n",
    "df_test[\"diff_user_song_age\"] = df_test[\"user_age\"] - df_test[\"diff_ts_listen_AND_release_date_Y\"]"
   ]
  },
  {
   "cell_type": "code",
   "execution_count": 60,
   "metadata": {
    "collapsed": false,
    "deletable": true,
    "editable": true
   },
   "outputs": [],
   "source": [
    "# df_train[\"release_date_YEAR\"].describe()"
   ]
  },
  {
   "cell_type": "code",
   "execution_count": 61,
   "metadata": {
    "collapsed": false,
    "deletable": true,
    "editable": true
   },
   "outputs": [],
   "source": [
    "#df_train[\"media_decade\"] = pd.cut(df_train[\"release_date_YEAR\"], [1900] + [years for years in range(1940, 2030, 10)], labels=[i for i in range(9)])\n",
    "df_test[\"media_decade\"] = pd.cut(df_test[\"release_date_YEAR\"], [1900] + [years for years in range(1940, 2030, 10)], labels=[i for i in range(9)])"
   ]
  },
  {
   "cell_type": "code",
   "execution_count": 62,
   "metadata": {
    "collapsed": false,
    "deletable": true,
    "editable": true
   },
   "outputs": [],
   "source": [
    "# df_train[\"media_decade\"].head()"
   ]
  },
  {
   "cell_type": "code",
   "execution_count": 63,
   "metadata": {
    "collapsed": true,
    "deletable": true,
    "editable": true
   },
   "outputs": [],
   "source": [
    "# df_train.to_csv(\"train_data2.csv\")\n",
    "df_test.to_csv(\"test_data2.csv\")"
   ]
  },
  {
   "cell_type": "code",
   "execution_count": null,
   "metadata": {
    "collapsed": true,
    "deletable": true,
    "editable": true
   },
   "outputs": [],
   "source": []
  }
 ],
 "metadata": {
  "kernelspec": {
   "display_name": "Python 2",
   "language": "python",
   "name": "python2"
  },
  "language_info": {
   "codemirror_mode": {
    "name": "ipython",
    "version": 2
   },
   "file_extension": ".py",
   "mimetype": "text/x-python",
   "name": "python",
   "nbconvert_exporter": "python",
   "pygments_lexer": "ipython2",
   "version": "2.7.13"
  }
 },
 "nbformat": 4,
 "nbformat_minor": 2
}
