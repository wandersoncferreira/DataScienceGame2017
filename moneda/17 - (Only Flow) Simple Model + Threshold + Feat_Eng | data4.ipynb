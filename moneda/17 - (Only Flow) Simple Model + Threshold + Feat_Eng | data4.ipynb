{
 "cells": [
  {
   "cell_type": "markdown",
   "metadata": {
    "deletable": true,
    "editable": true,
    "ein.tags": [
     "worksheet-0"
    ],
    "slideshow": {
     "slide_type": "-"
    }
   },
   "source": [
    "### Data Science Game 2017\n",
    "\n",
    "Data fields\n",
    "\n",
    "    media_id - identifiant of the song listened by the user\n",
    "    album_id - identifiant of the album of the song\n",
    "    media_duration - duration of the song\n",
    "    user_gender -  gender of the user\n",
    "    user_id -  anonymized id of the user\n",
    "    context_type - type of content where the song was listened: playlist, album ...\n",
    "    release_date - release date of the song with the format YYYYMMDD\n",
    "    ts_listen - timestamp of the listening in UNIX time\n",
    "    platform_name - type of os\n",
    "    platform_family - type of device\n",
    "    user_age - age of the user\n",
    "    listen_type - if the songs was listened in a flow or not\n",
    "    artist_id - identifiant of the artist of the song\n",
    "    genre_id - identifiant of the genre of the song\n",
    "    is_listened - 1 if the track was listened, 0 otherwise\n"
   ]
  },
  {
   "cell_type": "code",
   "execution_count": 1,
   "metadata": {
    "autoscroll": "json-false",
    "collapsed": false,
    "deletable": true,
    "editable": true,
    "ein.tags": [
     "worksheet-0"
    ],
    "slideshow": {
     "slide_type": "-"
    }
   },
   "outputs": [],
   "source": [
    "import pandas as pd"
   ]
  },
  {
   "cell_type": "code",
   "execution_count": 2,
   "metadata": {
    "autoscroll": "json-false",
    "collapsed": false,
    "deletable": true,
    "editable": true,
    "ein.tags": [
     "worksheet-0"
    ],
    "slideshow": {
     "slide_type": "-"
    }
   },
   "outputs": [
    {
     "data": {
      "text/plain": [
       "Index([u'Unnamed: 0', u'Unnamed: 0.1', u'genre_id', u'ts_listen', u'media_id',\n",
       "       u'album_id', u'context_type', u'release_date', u'platform_name',\n",
       "       u'platform_family', u'media_duration', u'listen_type', u'user_gender',\n",
       "       u'user_id', u'artist_id', u'user_age', u'is_listened', u'text', u'year',\n",
       "       u'diff_ts_listen_AND_release_date_D',\n",
       "       u'diff_ts_listen_AND_release_date_M',\n",
       "       u'diff_ts_listen_AND_release_date_Y', u'release_date_DAY',\n",
       "       u'release_date_MONTH', u'release_date_YEAR', u'ts_listen_DAY_OF_WEEK',\n",
       "       u'ts_listen_PERIOD_OF_DAY', u'user_age_group', u'diff_user_song_age',\n",
       "       u'media_decade', u'artist_albuns', u'artist_fans', u'artist_radio',\n",
       "       u'media_bpm', u'media_rank', u'user_id_id'],\n",
       "      dtype='object')"
      ]
     },
     "execution_count": 2,
     "metadata": {},
     "output_type": "execute_result"
    }
   ],
   "source": [
    "df_train = pd.read_csv(\"../data/train_data4.csv\")\n",
    "df_test = pd.read_csv(\"../data/test_data4.csv\")\n",
    "\n",
    "df_train[\"user_id_id\"] = df_train[\"user_id\"]\n",
    "df_test[\"user_id_id\"] = df_test[\"user_id\"]\n",
    "\n",
    "df_train.columns"
   ]
  },
  {
   "cell_type": "code",
   "execution_count": 3,
   "metadata": {
    "collapsed": true
   },
   "outputs": [],
   "source": [
    "df_train = df_train[df_train[\"listen_type\"] == 1]"
   ]
  },
  {
   "cell_type": "code",
   "execution_count": 4,
   "metadata": {
    "collapsed": false,
    "deletable": true,
    "editable": true
   },
   "outputs": [
    {
     "data": {
      "text/plain": [
       "2319609"
      ]
     },
     "execution_count": 4,
     "metadata": {},
     "output_type": "execute_result"
    }
   ],
   "source": [
    "len(df_train)"
   ]
  },
  {
   "cell_type": "code",
   "execution_count": 5,
   "metadata": {
    "collapsed": false,
    "deletable": true,
    "editable": true
   },
   "outputs": [
    {
     "data": {
      "text/plain": [
       "0"
      ]
     },
     "execution_count": 5,
     "metadata": {},
     "output_type": "execute_result"
    }
   ],
   "source": [
    "df_train[\"user_id_id\"].min()"
   ]
  },
  {
   "cell_type": "code",
   "execution_count": 6,
   "metadata": {
    "collapsed": false,
    "deletable": true,
    "editable": true
   },
   "outputs": [
    {
     "data": {
      "text/plain": [
       "0"
      ]
     },
     "execution_count": 6,
     "metadata": {},
     "output_type": "execute_result"
    }
   ],
   "source": [
    "df_test[\"user_id_id\"].min()"
   ]
  },
  {
   "cell_type": "markdown",
   "metadata": {
    "deletable": true,
    "editable": true,
    "ein.tags": [
     "worksheet-0"
    ],
    "slideshow": {
     "slide_type": "-"
    }
   },
   "source": [
    "### Analisando quantidade de registro por usuário"
   ]
  },
  {
   "cell_type": "code",
   "execution_count": 7,
   "metadata": {
    "autoscroll": "json-false",
    "collapsed": false,
    "deletable": true,
    "editable": true,
    "ein.tags": [
     "worksheet-0"
    ],
    "slideshow": {
     "slide_type": "-"
    }
   },
   "outputs": [
    {
     "data": {
      "text/plain": [
       "count    15971.000000\n",
       "mean       145.238808\n",
       "std        286.287041\n",
       "min          1.000000\n",
       "25%          9.000000\n",
       "50%         41.000000\n",
       "75%        151.000000\n",
       "max       4679.000000\n",
       "Name: user_id, dtype: float64"
      ]
     },
     "execution_count": 7,
     "metadata": {},
     "output_type": "execute_result"
    }
   ],
   "source": [
    "import matplotlib.pyplot as plt\n",
    "import seaborn as sns\n",
    "#plt.style.use(['dark_background'])\n",
    "#plt.style.use('ggplot')\n",
    "register_count = df_train[\"user_id\"].value_counts()\n",
    "register_count.describe()\n",
    "# plt.show()"
   ]
  },
  {
   "cell_type": "code",
   "execution_count": 8,
   "metadata": {
    "collapsed": false,
    "deletable": true,
    "editable": true
   },
   "outputs": [
    {
     "data": {
      "text/plain": [
       "array([ 4, 32, 10,  2, 22])"
      ]
     },
     "execution_count": 8,
     "metadata": {},
     "output_type": "execute_result"
    }
   ],
   "source": [
    "register_count[:5].index.values"
   ]
  },
  {
   "cell_type": "code",
   "execution_count": 9,
   "metadata": {
    "collapsed": true,
    "deletable": true,
    "editable": true
   },
   "outputs": [],
   "source": [
    "df_train = df_train[df_train[\"user_id\"].isin(register_count[:].index.values)]"
   ]
  },
  {
   "cell_type": "code",
   "execution_count": 10,
   "metadata": {
    "autoscroll": "json-false",
    "collapsed": false,
    "deletable": true,
    "editable": true,
    "ein.tags": [
     "worksheet-0"
    ],
    "slideshow": {
     "slide_type": "-"
    }
   },
   "outputs": [
    {
     "data": {
      "text/plain": [
       "(array([  1.46930000e+04,   8.85000000e+02,   2.33000000e+02,\n",
       "          9.10000000e+01,   2.90000000e+01,   2.20000000e+01,\n",
       "          1.00000000e+01,   5.00000000e+00,   2.00000000e+00,\n",
       "          1.00000000e+00]),\n",
       " array([  1.00000000e+00,   4.68800000e+02,   9.36600000e+02,\n",
       "          1.40440000e+03,   1.87220000e+03,   2.34000000e+03,\n",
       "          2.80780000e+03,   3.27560000e+03,   3.74340000e+03,\n",
       "          4.21120000e+03,   4.67900000e+03]),\n",
       " <a list of 10 Patch objects>)"
      ]
     },
     "execution_count": 10,
     "metadata": {},
     "output_type": "execute_result"
    },
    {
     "name": "stderr",
     "output_type": "stream",
     "text": [
      "/home/ubuntu/anaconda3/envs/ml/lib/python2.7/site-packages/matplotlib/font_manager.py:1297: UserWarning: findfont: Font family [u'sans-serif'] not found. Falling back to DejaVu Sans\n",
      "  (prop.get_family(), self.defaultFamily[fontext]))\n"
     ]
    },
    {
     "data": {
      "image/png": "[encoded data removed]",
      "text/plain": [
       "<matplotlib.figure.Figure at 0x7f4825f961d0>"
      ]
     },
     "metadata": {},
     "output_type": "display_data"
    }
   ],
   "source": [
    "%matplotlib inline\n",
    "plt.hist(df_train[\"user_id\"].value_counts())"
   ]
  },
  {
   "cell_type": "code",
   "execution_count": 11,
   "metadata": {
    "autoscroll": "json-false",
    "collapsed": false,
    "deletable": true,
    "editable": true,
    "ein.tags": [
     "worksheet-0"
    ],
    "slideshow": {
     "slide_type": "-"
    }
   },
   "outputs": [
    {
     "name": "stdout",
     "output_type": "stream",
     "text": [
      "7133\n",
      "8838\n"
     ]
    }
   ],
   "source": [
    "threshold = 30\n",
    "\n",
    "user_for_general_model = register_count[(register_count <= threshold)].index\n",
    "user_for_specific_model = register_count[(register_count > threshold)].index\n",
    "print(len(user_for_general_model))\n",
    "print(len(user_for_specific_model))"
   ]
  },
  {
   "cell_type": "code",
   "execution_count": 12,
   "metadata": {
    "autoscroll": "json-false",
    "collapsed": false,
    "deletable": true,
    "editable": true,
    "ein.tags": [
     "worksheet-0"
    ],
    "slideshow": {
     "slide_type": "-"
    }
   },
   "outputs": [],
   "source": [
    "# ### select users for specific\n",
    "# df_train = df_train[df_train[\"user_id\"].isin(user_for_specific_model)]\n",
    "# df_test = df_test[df_test[\"user_id\"].isin(user_for_specific_model)]\n",
    "# df_train.columns"
   ]
  },
  {
   "cell_type": "code",
   "execution_count": 13,
   "metadata": {
    "autoscroll": "json-false",
    "collapsed": false,
    "deletable": true,
    "editable": true,
    "ein.tags": [
     "worksheet-0"
    ],
    "slideshow": {
     "slide_type": "-"
    }
   },
   "outputs": [
    {
     "data": {
      "text/html": [
       "<div>\n",
       "<table border=\"1\" class=\"dataframe\">\n",
       "  <thead>\n",
       "    <tr style=\"text-align: right;\">\n",
       "      <th></th>\n",
       "      <th>genre_id</th>\n",
       "      <th>ts_listen</th>\n",
       "      <th>media_id</th>\n",
       "      <th>album_id</th>\n",
       "      <th>context_type</th>\n",
       "      <th>release_date</th>\n",
       "      <th>platform_name</th>\n",
       "      <th>platform_family</th>\n",
       "      <th>media_duration</th>\n",
       "      <th>listen_type</th>\n",
       "      <th>...</th>\n",
       "      <th>ts_listen_PERIOD_OF_DAY</th>\n",
       "      <th>user_age_group</th>\n",
       "      <th>diff_user_song_age</th>\n",
       "      <th>media_decade</th>\n",
       "      <th>artist_albuns</th>\n",
       "      <th>artist_fans</th>\n",
       "      <th>artist_radio</th>\n",
       "      <th>media_bpm</th>\n",
       "      <th>media_rank</th>\n",
       "      <th>user_id_id</th>\n",
       "    </tr>\n",
       "  </thead>\n",
       "  <tbody>\n",
       "    <tr>\n",
       "      <th>2</th>\n",
       "      <td>16</td>\n",
       "      <td>2016-11-19 11:59:13</td>\n",
       "      <td>305197</td>\n",
       "      <td>48078</td>\n",
       "      <td>1</td>\n",
       "      <td>2014-07-14 00:00:00</td>\n",
       "      <td>2</td>\n",
       "      <td>1</td>\n",
       "      <td>2.0</td>\n",
       "      <td>1</td>\n",
       "      <td>...</td>\n",
       "      <td>0</td>\n",
       "      <td>2</td>\n",
       "      <td>26.646575</td>\n",
       "      <td>8</td>\n",
       "      <td>23.0</td>\n",
       "      <td>20022.0</td>\n",
       "      <td>1.0</td>\n",
       "      <td>90.1</td>\n",
       "      <td>309034.0</td>\n",
       "      <td>7665</td>\n",
       "    </tr>\n",
       "    <tr>\n",
       "      <th>7</th>\n",
       "      <td>7</td>\n",
       "      <td>2016-11-05 11:48:29</td>\n",
       "      <td>542335</td>\n",
       "      <td>71718</td>\n",
       "      <td>1</td>\n",
       "      <td>2008-02-15 00:00:00</td>\n",
       "      <td>1</td>\n",
       "      <td>0</td>\n",
       "      <td>3.0</td>\n",
       "      <td>1</td>\n",
       "      <td>...</td>\n",
       "      <td>0</td>\n",
       "      <td>2</td>\n",
       "      <td>20.271233</td>\n",
       "      <td>7</td>\n",
       "      <td>65.0</td>\n",
       "      <td>28423.0</td>\n",
       "      <td>1.0</td>\n",
       "      <td>120.0</td>\n",
       "      <td>406872.0</td>\n",
       "      <td>10325</td>\n",
       "    </tr>\n",
       "    <tr>\n",
       "      <th>9</th>\n",
       "      <td>7</td>\n",
       "      <td>2016-11-15 10:51:44</td>\n",
       "      <td>542335</td>\n",
       "      <td>71718</td>\n",
       "      <td>1</td>\n",
       "      <td>2008-02-15 00:00:00</td>\n",
       "      <td>1</td>\n",
       "      <td>2</td>\n",
       "      <td>3.0</td>\n",
       "      <td>1</td>\n",
       "      <td>...</td>\n",
       "      <td>0</td>\n",
       "      <td>2</td>\n",
       "      <td>19.243836</td>\n",
       "      <td>7</td>\n",
       "      <td>65.0</td>\n",
       "      <td>28423.0</td>\n",
       "      <td>1.0</td>\n",
       "      <td>120.0</td>\n",
       "      <td>406872.0</td>\n",
       "      <td>51</td>\n",
       "    </tr>\n",
       "    <tr>\n",
       "      <th>12</th>\n",
       "      <td>7</td>\n",
       "      <td>2016-11-05 12:36:43</td>\n",
       "      <td>542341</td>\n",
       "      <td>71718</td>\n",
       "      <td>1</td>\n",
       "      <td>2008-02-15 00:00:00</td>\n",
       "      <td>0</td>\n",
       "      <td>0</td>\n",
       "      <td>3.0</td>\n",
       "      <td>1</td>\n",
       "      <td>...</td>\n",
       "      <td>1</td>\n",
       "      <td>0</td>\n",
       "      <td>12.271233</td>\n",
       "      <td>7</td>\n",
       "      <td>65.0</td>\n",
       "      <td>28423.0</td>\n",
       "      <td>1.0</td>\n",
       "      <td>123.0</td>\n",
       "      <td>288018.0</td>\n",
       "      <td>822</td>\n",
       "    </tr>\n",
       "    <tr>\n",
       "      <th>13</th>\n",
       "      <td>7</td>\n",
       "      <td>2016-11-24 04:18:46</td>\n",
       "      <td>542335</td>\n",
       "      <td>71718</td>\n",
       "      <td>1</td>\n",
       "      <td>2008-02-15 00:00:00</td>\n",
       "      <td>0</td>\n",
       "      <td>0</td>\n",
       "      <td>3.0</td>\n",
       "      <td>1</td>\n",
       "      <td>...</td>\n",
       "      <td>3</td>\n",
       "      <td>0</td>\n",
       "      <td>11.219178</td>\n",
       "      <td>7</td>\n",
       "      <td>65.0</td>\n",
       "      <td>28423.0</td>\n",
       "      <td>1.0</td>\n",
       "      <td>120.0</td>\n",
       "      <td>406872.0</td>\n",
       "      <td>2946</td>\n",
       "    </tr>\n",
       "  </tbody>\n",
       "</table>\n",
       "<p>5 rows × 34 columns</p>\n",
       "</div>"
      ],
      "text/plain": [
       "    genre_id            ts_listen  media_id  album_id  context_type  \\\n",
       "2         16  2016-11-19 11:59:13    305197     48078             1   \n",
       "7          7  2016-11-05 11:48:29    542335     71718             1   \n",
       "9          7  2016-11-15 10:51:44    542335     71718             1   \n",
       "12         7  2016-11-05 12:36:43    542341     71718             1   \n",
       "13         7  2016-11-24 04:18:46    542335     71718             1   \n",
       "\n",
       "           release_date  platform_name  platform_family  media_duration  \\\n",
       "2   2014-07-14 00:00:00              2                1             2.0   \n",
       "7   2008-02-15 00:00:00              1                0             3.0   \n",
       "9   2008-02-15 00:00:00              1                2             3.0   \n",
       "12  2008-02-15 00:00:00              0                0             3.0   \n",
       "13  2008-02-15 00:00:00              0                0             3.0   \n",
       "\n",
       "    listen_type     ...      ts_listen_PERIOD_OF_DAY  user_age_group  \\\n",
       "2             1     ...                            0               2   \n",
       "7             1     ...                            0               2   \n",
       "9             1     ...                            0               2   \n",
       "12            1     ...                            1               0   \n",
       "13            1     ...                            3               0   \n",
       "\n",
       "    diff_user_song_age  media_decade  artist_albuns artist_fans  artist_radio  \\\n",
       "2            26.646575             8           23.0     20022.0           1.0   \n",
       "7            20.271233             7           65.0     28423.0           1.0   \n",
       "9            19.243836             7           65.0     28423.0           1.0   \n",
       "12           12.271233             7           65.0     28423.0           1.0   \n",
       "13           11.219178             7           65.0     28423.0           1.0   \n",
       "\n",
       "    media_bpm  media_rank  user_id_id  \n",
       "2        90.1    309034.0        7665  \n",
       "7       120.0    406872.0       10325  \n",
       "9       120.0    406872.0          51  \n",
       "12      123.0    288018.0         822  \n",
       "13      120.0    406872.0        2946  \n",
       "\n",
       "[5 rows x 34 columns]"
      ]
     },
     "execution_count": 13,
     "metadata": {},
     "output_type": "execute_result"
    }
   ],
   "source": [
    "to_drop = ['Unnamed: 0', 'Unnamed: 0.1']\n",
    "df_train.drop(to_drop, axis = 1,inplace=True)\n",
    "df_train.head()"
   ]
  },
  {
   "cell_type": "code",
   "execution_count": 14,
   "metadata": {
    "autoscroll": "json-false",
    "collapsed": false,
    "deletable": true,
    "editable": true,
    "ein.tags": [
     "worksheet-0"
    ],
    "slideshow": {
     "slide_type": "-"
    }
   },
   "outputs": [
    {
     "data": {
      "text/html": [
       "<div>\n",
       "<table border=\"1\" class=\"dataframe\">\n",
       "  <thead>\n",
       "    <tr style=\"text-align: right;\">\n",
       "      <th></th>\n",
       "      <th>genre_id</th>\n",
       "      <th>ts_listen</th>\n",
       "      <th>media_id</th>\n",
       "      <th>album_id</th>\n",
       "      <th>context_type</th>\n",
       "      <th>release_date</th>\n",
       "      <th>platform_name</th>\n",
       "      <th>platform_family</th>\n",
       "      <th>media_duration</th>\n",
       "      <th>listen_type</th>\n",
       "      <th>...</th>\n",
       "      <th>ts_listen_PERIOD_OF_DAY</th>\n",
       "      <th>user_age_group</th>\n",
       "      <th>diff_user_song_age</th>\n",
       "      <th>media_decade</th>\n",
       "      <th>artist_albuns</th>\n",
       "      <th>artist_fans</th>\n",
       "      <th>artist_radio</th>\n",
       "      <th>media_bpm</th>\n",
       "      <th>media_rank</th>\n",
       "      <th>user_id_id</th>\n",
       "    </tr>\n",
       "  </thead>\n",
       "  <tbody>\n",
       "    <tr>\n",
       "      <th>2</th>\n",
       "      <td>16</td>\n",
       "      <td>2016-11-19 11:59:13</td>\n",
       "      <td>305197</td>\n",
       "      <td>48078</td>\n",
       "      <td>1</td>\n",
       "      <td>2014-07-14 00:00:00</td>\n",
       "      <td>2</td>\n",
       "      <td>1</td>\n",
       "      <td>2.0</td>\n",
       "      <td>1</td>\n",
       "      <td>...</td>\n",
       "      <td>0</td>\n",
       "      <td>2</td>\n",
       "      <td>26.646575</td>\n",
       "      <td>8</td>\n",
       "      <td>23.0</td>\n",
       "      <td>20022.0</td>\n",
       "      <td>1.0</td>\n",
       "      <td>90.1</td>\n",
       "      <td>309034.0</td>\n",
       "      <td>7665</td>\n",
       "    </tr>\n",
       "    <tr>\n",
       "      <th>7</th>\n",
       "      <td>7</td>\n",
       "      <td>2016-11-05 11:48:29</td>\n",
       "      <td>542335</td>\n",
       "      <td>71718</td>\n",
       "      <td>1</td>\n",
       "      <td>2008-02-15 00:00:00</td>\n",
       "      <td>1</td>\n",
       "      <td>0</td>\n",
       "      <td>3.0</td>\n",
       "      <td>1</td>\n",
       "      <td>...</td>\n",
       "      <td>0</td>\n",
       "      <td>2</td>\n",
       "      <td>20.271233</td>\n",
       "      <td>7</td>\n",
       "      <td>65.0</td>\n",
       "      <td>28423.0</td>\n",
       "      <td>1.0</td>\n",
       "      <td>120.0</td>\n",
       "      <td>406872.0</td>\n",
       "      <td>10325</td>\n",
       "    </tr>\n",
       "    <tr>\n",
       "      <th>9</th>\n",
       "      <td>7</td>\n",
       "      <td>2016-11-15 10:51:44</td>\n",
       "      <td>542335</td>\n",
       "      <td>71718</td>\n",
       "      <td>1</td>\n",
       "      <td>2008-02-15 00:00:00</td>\n",
       "      <td>1</td>\n",
       "      <td>2</td>\n",
       "      <td>3.0</td>\n",
       "      <td>1</td>\n",
       "      <td>...</td>\n",
       "      <td>0</td>\n",
       "      <td>2</td>\n",
       "      <td>19.243836</td>\n",
       "      <td>7</td>\n",
       "      <td>65.0</td>\n",
       "      <td>28423.0</td>\n",
       "      <td>1.0</td>\n",
       "      <td>120.0</td>\n",
       "      <td>406872.0</td>\n",
       "      <td>51</td>\n",
       "    </tr>\n",
       "    <tr>\n",
       "      <th>12</th>\n",
       "      <td>7</td>\n",
       "      <td>2016-11-05 12:36:43</td>\n",
       "      <td>542341</td>\n",
       "      <td>71718</td>\n",
       "      <td>1</td>\n",
       "      <td>2008-02-15 00:00:00</td>\n",
       "      <td>0</td>\n",
       "      <td>0</td>\n",
       "      <td>3.0</td>\n",
       "      <td>1</td>\n",
       "      <td>...</td>\n",
       "      <td>1</td>\n",
       "      <td>0</td>\n",
       "      <td>12.271233</td>\n",
       "      <td>7</td>\n",
       "      <td>65.0</td>\n",
       "      <td>28423.0</td>\n",
       "      <td>1.0</td>\n",
       "      <td>123.0</td>\n",
       "      <td>288018.0</td>\n",
       "      <td>822</td>\n",
       "    </tr>\n",
       "    <tr>\n",
       "      <th>13</th>\n",
       "      <td>7</td>\n",
       "      <td>2016-11-24 04:18:46</td>\n",
       "      <td>542335</td>\n",
       "      <td>71718</td>\n",
       "      <td>1</td>\n",
       "      <td>2008-02-15 00:00:00</td>\n",
       "      <td>0</td>\n",
       "      <td>0</td>\n",
       "      <td>3.0</td>\n",
       "      <td>1</td>\n",
       "      <td>...</td>\n",
       "      <td>3</td>\n",
       "      <td>0</td>\n",
       "      <td>11.219178</td>\n",
       "      <td>7</td>\n",
       "      <td>65.0</td>\n",
       "      <td>28423.0</td>\n",
       "      <td>1.0</td>\n",
       "      <td>120.0</td>\n",
       "      <td>406872.0</td>\n",
       "      <td>2946</td>\n",
       "    </tr>\n",
       "  </tbody>\n",
       "</table>\n",
       "<p>5 rows × 34 columns</p>\n",
       "</div>"
      ],
      "text/plain": [
       "    genre_id            ts_listen  media_id  album_id  context_type         release_date  platform_name  platform_family  media_duration  listen_type     ...      ts_listen_PERIOD_OF_DAY  \\\n",
       "2         16  2016-11-19 11:59:13    305197     48078             1  2014-07-14 00:00:00              2                1             2.0            1     ...                            0   \n",
       "7          7  2016-11-05 11:48:29    542335     71718             1  2008-02-15 00:00:00              1                0             3.0            1     ...                            0   \n",
       "9          7  2016-11-15 10:51:44    542335     71718             1  2008-02-15 00:00:00              1                2             3.0            1     ...                            0   \n",
       "12         7  2016-11-05 12:36:43    542341     71718             1  2008-02-15 00:00:00              0                0             3.0            1     ...                            1   \n",
       "13         7  2016-11-24 04:18:46    542335     71718             1  2008-02-15 00:00:00              0                0             3.0            1     ...                            3   \n",
       "\n",
       "    user_age_group  diff_user_song_age  media_decade  artist_albuns artist_fans  artist_radio  media_bpm  media_rank  user_id_id  \n",
       "2                2           26.646575             8           23.0     20022.0           1.0       90.1    309034.0        7665  \n",
       "7                2           20.271233             7           65.0     28423.0           1.0      120.0    406872.0       10325  \n",
       "9                2           19.243836             7           65.0     28423.0           1.0      120.0    406872.0          51  \n",
       "12               0           12.271233             7           65.0     28423.0           1.0      123.0    288018.0         822  \n",
       "13               0           11.219178             7           65.0     28423.0           1.0      120.0    406872.0        2946  \n",
       "\n",
       "[5 rows x 34 columns]"
      ]
     },
     "execution_count": 14,
     "metadata": {},
     "output_type": "execute_result"
    }
   ],
   "source": [
    "#pd.set_option('display.height', 1000)\n",
    "#pd.set_option('display.max_rows', 500)\n",
    "#pd.set_option('display.max_columns', 500)\n",
    "pd.set_option('display.width', 200)\n",
    "#pd.set_option(\"precision\", 2)\n",
    "df_train.head()"
   ]
  },
  {
   "cell_type": "code",
   "execution_count": 15,
   "metadata": {
    "autoscroll": "json-false",
    "collapsed": false,
    "deletable": true,
    "editable": true,
    "ein.tags": [
     "worksheet-0"
    ],
    "slideshow": {
     "slide_type": "-"
    }
   },
   "outputs": [],
   "source": [
    "# pd.isnull(df_train).sum()[pd.isnull(df_train).sum() > 0]"
   ]
  },
  {
   "cell_type": "code",
   "execution_count": 16,
   "metadata": {
    "autoscroll": "json-false",
    "collapsed": false,
    "deletable": true,
    "editable": true,
    "ein.tags": [
     "worksheet-0"
    ],
    "slideshow": {
     "slide_type": "-"
    }
   },
   "outputs": [],
   "source": [
    "# df_train[df_train[\"release_date_YEAR\"] == 1900][[\"media_id\", \"ts_listen\"]]"
   ]
  },
  {
   "cell_type": "code",
   "execution_count": 17,
   "metadata": {
    "autoscroll": "json-false",
    "collapsed": false,
    "deletable": true,
    "editable": true,
    "ein.tags": [
     "worksheet-0"
    ],
    "slideshow": {
     "slide_type": "-"
    }
   },
   "outputs": [],
   "source": [
    "# df_train[df_train[\"release_date_YEAR\"] == 1900][[\"media_id\", \"ts_listen\"]]"
   ]
  },
  {
   "cell_type": "markdown",
   "metadata": {
    "deletable": true,
    "editable": true,
    "ein.tags": [
     "worksheet-0"
    ],
    "slideshow": {
     "slide_type": "-"
    }
   },
   "source": [
    "### Append User Specific"
   ]
  },
  {
   "cell_type": "code",
   "execution_count": 18,
   "metadata": {
    "autoscroll": "json-false",
    "collapsed": false,
    "deletable": true,
    "editable": true,
    "ein.tags": [
     "worksheet-0"
    ],
    "slideshow": {
     "slide_type": "-"
    }
   },
   "outputs": [
    {
     "data": {
      "text/plain": [
       "array(['user_id', 'nmidia_regular_listened', 'nmidia_with_flow_listened',\n",
       "       'nmidia_regular', 'nmidia_with_flow',\n",
       "       'nmidia_with_flow_listened_PROP', 'nmidia_regular_listened_PROP',\n",
       "       'nmidia_PROP_diff'], dtype=object)"
      ]
     },
     "execution_count": 18,
     "metadata": {},
     "output_type": "execute_result"
    }
   ],
   "source": [
    "df_user = pd.read_csv(\"../data/nmidia_feats.csv\", sep=\";\")\n",
    "# pd.isnull(df_user).sum()[pd.isnull(df_user).sum() > 0]\n",
    "\n",
    "\n",
    "#df_user = df_user.drop([\"nmidia_with_flow_listened_PROP\", \"nmidia_regular_listened_PROP\", \"nmidia_PROP_diff\"], axis=1)\n",
    "df_user.fillna(0, inplace=True)\n",
    "\n",
    "df_user[\"nmidia_PROP_diff\"] = df_user['nmidia_with_flow_listened_PROP'] - df_user['nmidia_regular_listened_PROP']\n",
    "\n",
    "df_user.columns.values"
   ]
  },
  {
   "cell_type": "code",
   "execution_count": 19,
   "metadata": {
    "autoscroll": "json-false",
    "collapsed": false,
    "deletable": true,
    "editable": true,
    "ein.tags": [
     "worksheet-0"
    ],
    "slideshow": {
     "slide_type": "-"
    }
   },
   "outputs": [],
   "source": [
    "# x = pd.isnull(df_user).sum()\n",
    "# x[x > 0]"
   ]
  },
  {
   "cell_type": "code",
   "execution_count": 20,
   "metadata": {
    "autoscroll": "json-false",
    "collapsed": false,
    "deletable": true,
    "editable": true,
    "ein.tags": [
     "worksheet-0"
    ],
    "slideshow": {
     "slide_type": "-"
    }
   },
   "outputs": [
    {
     "data": {
      "text/html": [
       "<div>\n",
       "<table border=\"1\" class=\"dataframe\">\n",
       "  <thead>\n",
       "    <tr style=\"text-align: right;\">\n",
       "      <th></th>\n",
       "      <th>genre_id</th>\n",
       "      <th>ts_listen</th>\n",
       "      <th>media_id</th>\n",
       "      <th>album_id</th>\n",
       "      <th>context_type</th>\n",
       "      <th>release_date</th>\n",
       "      <th>platform_name</th>\n",
       "      <th>platform_family</th>\n",
       "      <th>media_duration</th>\n",
       "      <th>listen_type</th>\n",
       "      <th>...</th>\n",
       "      <th>media_bpm</th>\n",
       "      <th>media_rank</th>\n",
       "      <th>user_id_id</th>\n",
       "      <th>nmidia_regular_listened</th>\n",
       "      <th>nmidia_with_flow_listened</th>\n",
       "      <th>nmidia_regular</th>\n",
       "      <th>nmidia_with_flow</th>\n",
       "      <th>nmidia_with_flow_listened_PROP</th>\n",
       "      <th>nmidia_regular_listened_PROP</th>\n",
       "      <th>nmidia_PROP_diff</th>\n",
       "    </tr>\n",
       "  </thead>\n",
       "  <tbody>\n",
       "    <tr>\n",
       "      <th>0</th>\n",
       "      <td>16</td>\n",
       "      <td>2016-11-19 11:59:13</td>\n",
       "      <td>305197</td>\n",
       "      <td>48078</td>\n",
       "      <td>1</td>\n",
       "      <td>2014-07-14 00:00:00</td>\n",
       "      <td>2</td>\n",
       "      <td>1</td>\n",
       "      <td>2.0</td>\n",
       "      <td>1</td>\n",
       "      <td>...</td>\n",
       "      <td>90.1</td>\n",
       "      <td>309034.0</td>\n",
       "      <td>7665</td>\n",
       "      <td>180</td>\n",
       "      <td>75</td>\n",
       "      <td>181</td>\n",
       "      <td>77</td>\n",
       "      <td>0.974026</td>\n",
       "      <td>0.994475</td>\n",
       "      <td>-0.020449</td>\n",
       "    </tr>\n",
       "    <tr>\n",
       "      <th>1</th>\n",
       "      <td>421</td>\n",
       "      <td>2016-11-26 14:32:54</td>\n",
       "      <td>14499482</td>\n",
       "      <td>1332715</td>\n",
       "      <td>1</td>\n",
       "      <td>2011-11-04 00:00:00</td>\n",
       "      <td>2</td>\n",
       "      <td>1</td>\n",
       "      <td>4.0</td>\n",
       "      <td>1</td>\n",
       "      <td>...</td>\n",
       "      <td>124.0</td>\n",
       "      <td>735595.0</td>\n",
       "      <td>7665</td>\n",
       "      <td>180</td>\n",
       "      <td>75</td>\n",
       "      <td>181</td>\n",
       "      <td>77</td>\n",
       "      <td>0.974026</td>\n",
       "      <td>0.994475</td>\n",
       "      <td>-0.020449</td>\n",
       "    </tr>\n",
       "    <tr>\n",
       "      <th>2</th>\n",
       "      <td>171</td>\n",
       "      <td>2016-11-02 17:31:32</td>\n",
       "      <td>56832761</td>\n",
       "      <td>5549701</td>\n",
       "      <td>13</td>\n",
       "      <td>2012-09-18 00:00:00</td>\n",
       "      <td>0</td>\n",
       "      <td>0</td>\n",
       "      <td>2.0</td>\n",
       "      <td>1</td>\n",
       "      <td>...</td>\n",
       "      <td>149.8</td>\n",
       "      <td>289694.0</td>\n",
       "      <td>7665</td>\n",
       "      <td>180</td>\n",
       "      <td>75</td>\n",
       "      <td>181</td>\n",
       "      <td>77</td>\n",
       "      <td>0.974026</td>\n",
       "      <td>0.994475</td>\n",
       "      <td>-0.020449</td>\n",
       "    </tr>\n",
       "    <tr>\n",
       "      <th>3</th>\n",
       "      <td>0</td>\n",
       "      <td>2016-11-26 14:20:14</td>\n",
       "      <td>126503749</td>\n",
       "      <td>13326085</td>\n",
       "      <td>1</td>\n",
       "      <td>2016-06-17 00:00:00</td>\n",
       "      <td>2</td>\n",
       "      <td>1</td>\n",
       "      <td>4.0</td>\n",
       "      <td>1</td>\n",
       "      <td>...</td>\n",
       "      <td>136.0</td>\n",
       "      <td>673886.0</td>\n",
       "      <td>7665</td>\n",
       "      <td>180</td>\n",
       "      <td>75</td>\n",
       "      <td>181</td>\n",
       "      <td>77</td>\n",
       "      <td>0.974026</td>\n",
       "      <td>0.994475</td>\n",
       "      <td>-0.020449</td>\n",
       "    </tr>\n",
       "    <tr>\n",
       "      <th>4</th>\n",
       "      <td>0</td>\n",
       "      <td>2016-11-04 17:23:58</td>\n",
       "      <td>133895026</td>\n",
       "      <td>14268142</td>\n",
       "      <td>13</td>\n",
       "      <td>2016-09-30 00:00:00</td>\n",
       "      <td>0</td>\n",
       "      <td>0</td>\n",
       "      <td>3.0</td>\n",
       "      <td>1</td>\n",
       "      <td>...</td>\n",
       "      <td>0.0</td>\n",
       "      <td>762208.0</td>\n",
       "      <td>7665</td>\n",
       "      <td>180</td>\n",
       "      <td>75</td>\n",
       "      <td>181</td>\n",
       "      <td>77</td>\n",
       "      <td>0.974026</td>\n",
       "      <td>0.994475</td>\n",
       "      <td>-0.020449</td>\n",
       "    </tr>\n",
       "  </tbody>\n",
       "</table>\n",
       "<p>5 rows × 41 columns</p>\n",
       "</div>"
      ],
      "text/plain": [
       "   genre_id            ts_listen   media_id  album_id  context_type         release_date  platform_name  platform_family  media_duration  listen_type        ...         media_bpm  media_rank  \\\n",
       "0        16  2016-11-19 11:59:13     305197     48078             1  2014-07-14 00:00:00              2                1             2.0            1        ...              90.1    309034.0   \n",
       "1       421  2016-11-26 14:32:54   14499482   1332715             1  2011-11-04 00:00:00              2                1             4.0            1        ...             124.0    735595.0   \n",
       "2       171  2016-11-02 17:31:32   56832761   5549701            13  2012-09-18 00:00:00              0                0             2.0            1        ...             149.8    289694.0   \n",
       "3         0  2016-11-26 14:20:14  126503749  13326085             1  2016-06-17 00:00:00              2                1             4.0            1        ...             136.0    673886.0   \n",
       "4         0  2016-11-04 17:23:58  133895026  14268142            13  2016-09-30 00:00:00              0                0             3.0            1        ...               0.0    762208.0   \n",
       "\n",
       "   user_id_id  nmidia_regular_listened  nmidia_with_flow_listened nmidia_regular  nmidia_with_flow  nmidia_with_flow_listened_PROP  nmidia_regular_listened_PROP  nmidia_PROP_diff  \n",
       "0        7665                      180                         75            181                77                        0.974026                      0.994475         -0.020449  \n",
       "1        7665                      180                         75            181                77                        0.974026                      0.994475         -0.020449  \n",
       "2        7665                      180                         75            181                77                        0.974026                      0.994475         -0.020449  \n",
       "3        7665                      180                         75            181                77                        0.974026                      0.994475         -0.020449  \n",
       "4        7665                      180                         75            181                77                        0.974026                      0.994475         -0.020449  \n",
       "\n",
       "[5 rows x 41 columns]"
      ]
     },
     "execution_count": 20,
     "metadata": {},
     "output_type": "execute_result"
    }
   ],
   "source": [
    "df_train = pd.merge(df_train, df_user, on=\"user_id\")\n",
    "df_test = pd.merge(df_test, df_user, on=\"user_id\")\n",
    "df_train.head()"
   ]
  },
  {
   "cell_type": "code",
   "execution_count": null,
   "metadata": {
    "collapsed": true,
    "deletable": true,
    "editable": true
   },
   "outputs": [],
   "source": []
  },
  {
   "cell_type": "code",
   "execution_count": null,
   "metadata": {
    "collapsed": false,
    "deletable": true,
    "editable": true
   },
   "outputs": [],
   "source": []
  },
  {
   "cell_type": "markdown",
   "metadata": {
    "deletable": true,
    "editable": true,
    "ein.tags": [
     "worksheet-0"
    ],
    "slideshow": {
     "slide_type": "-"
    }
   },
   "source": [
    "### Check for NA\n",
    "#### Ver depois sobre o user_age_group!"
   ]
  },
  {
   "cell_type": "code",
   "execution_count": 21,
   "metadata": {
    "autoscroll": "json-false",
    "collapsed": false,
    "deletable": true,
    "editable": true,
    "ein.tags": [
     "worksheet-0"
    ],
    "slideshow": {
     "slide_type": "-"
    }
   },
   "outputs": [],
   "source": [
    "# x = pd.isnull(df_train).sum()\n",
    "# x[x > 0]"
   ]
  },
  {
   "cell_type": "code",
   "execution_count": 22,
   "metadata": {
    "autoscroll": "json-false",
    "collapsed": false,
    "deletable": true,
    "editable": true,
    "ein.tags": [
     "worksheet-0"
    ],
    "slideshow": {
     "slide_type": "-"
    }
   },
   "outputs": [],
   "source": [
    "# df_train.dropna(inplace=True)"
   ]
  },
  {
   "cell_type": "code",
   "execution_count": 23,
   "metadata": {
    "autoscroll": "json-false",
    "collapsed": false,
    "deletable": true,
    "editable": true,
    "ein.tags": [
     "worksheet-0"
    ],
    "slideshow": {
     "slide_type": "-"
    }
   },
   "outputs": [],
   "source": [
    "# x = pd.isnull(df_train).sum()\n",
    "# x[x > 0]\n",
    "# del x"
   ]
  },
  {
   "cell_type": "code",
   "execution_count": 24,
   "metadata": {
    "autoscroll": "json-false",
    "collapsed": false,
    "deletable": true,
    "editable": true,
    "ein.tags": [
     "worksheet-0"
    ],
    "slideshow": {
     "slide_type": "-"
    }
   },
   "outputs": [],
   "source": [
    "y = df_train[\"is_listened\"].values"
   ]
  },
  {
   "cell_type": "code",
   "execution_count": 25,
   "metadata": {
    "autoscroll": "json-false",
    "collapsed": false,
    "deletable": true,
    "editable": true,
    "ein.tags": [
     "worksheet-0"
    ],
    "slideshow": {
     "slide_type": "-"
    }
   },
   "outputs": [],
   "source": [
    "categorical_cols = [\"genre_id\",\n",
    "                   \"media_id\",\n",
    "                   \"album_id\",\n",
    "                   \"context_type\",\n",
    "                   \"release_date\",\n",
    "                   \"platform_name\",\n",
    "                   \"platform_family\",\n",
    "                   \"listen_type\",\n",
    "                   \"user_gender\",\n",
    "                   \"user_id\",\n",
    "                   \"artist_id\",\n",
    "                   \"user_age\"]"
   ]
  },
  {
   "cell_type": "markdown",
   "metadata": {
    "deletable": true,
    "editable": true,
    "ein.tags": [
     "worksheet-0"
    ],
    "slideshow": {
     "slide_type": "-"
    }
   },
   "source": [
    "### Let's inspect the categorical variables!"
   ]
  },
  {
   "cell_type": "code",
   "execution_count": 26,
   "metadata": {
    "autoscroll": "json-false",
    "collapsed": false,
    "deletable": true,
    "editable": true,
    "ein.tags": [
     "worksheet-0"
    ],
    "slideshow": {
     "slide_type": "-"
    }
   },
   "outputs": [
    {
     "name": "stdout",
     "output_type": "stream",
     "text": [
      "genre_id: 1923\n",
      "media_id: 151718\n",
      "album_id: 71900\n",
      "context_type: 38\n",
      "release_date: 7174\n",
      "platform_name: 3\n",
      "platform_family: 3\n",
      "listen_type: 1\n",
      "user_gender: 2\n",
      "user_id: 15971\n",
      "artist_id: 30829\n",
      "user_age: 13\n"
     ]
    }
   ],
   "source": [
    "for col in categorical_cols:\n",
    "    print(\"{}: {}\".format(col, len(df_train[col].unique())))"
   ]
  },
  {
   "cell_type": "markdown",
   "metadata": {
    "deletable": true,
    "editable": true,
    "ein.tags": [
     "worksheet-0"
    ],
    "slideshow": {
     "slide_type": "-"
    }
   },
   "source": [
    "### Strategy\n",
    "1. Apply onehot to categorical with few classes\n",
    "2. Rank categories to artist id\n",
    "3. target encoder for context and genre\n",
    "4. discard media, album, release date and user_id"
   ]
  },
  {
   "cell_type": "code",
   "execution_count": 27,
   "metadata": {
    "autoscroll": "json-false",
    "collapsed": false,
    "deletable": true,
    "editable": true,
    "ein.tags": [
     "worksheet-0"
    ],
    "slideshow": {
     "slide_type": "-"
    }
   },
   "outputs": [],
   "source": [
    "from greenpyce.feature_engineering import TargetEncoder\n",
    "from greenpyce.feature_engineering import onehot\n",
    "from greenpyce.feature_engineering import RankCategorical\n",
    "from greenpyce.feature_engineering import LabelCount"
   ]
  },
  {
   "cell_type": "code",
   "execution_count": 28,
   "metadata": {
    "autoscroll": "json-false",
    "collapsed": false,
    "deletable": true,
    "editable": true,
    "ein.tags": [
     "worksheet-0"
    ],
    "slideshow": {
     "slide_type": "-"
    }
   },
   "outputs": [
    {
     "data": {
      "text/plain": [
       "array(['genre_id', 'ts_listen', 'media_id', 'album_id', 'context_type',\n",
       "       'release_date', 'platform_name', 'platform_family',\n",
       "       'media_duration', 'listen_type', 'user_gender', 'user_id',\n",
       "       'artist_id', 'user_age', 'is_listened', 'text', 'year',\n",
       "       'diff_ts_listen_AND_release_date_D',\n",
       "       'diff_ts_listen_AND_release_date_M',\n",
       "       'diff_ts_listen_AND_release_date_Y', 'release_date_DAY',\n",
       "       'release_date_MONTH', 'release_date_YEAR', 'ts_listen_DAY_OF_WEEK',\n",
       "       'ts_listen_PERIOD_OF_DAY', 'user_age_group', 'diff_user_song_age',\n",
       "       'media_decade', 'artist_albuns', 'artist_fans', 'artist_radio',\n",
       "       'media_bpm', 'media_rank', 'user_id_id', 'nmidia_regular_listened',\n",
       "       'nmidia_with_flow_listened', 'nmidia_regular', 'nmidia_with_flow',\n",
       "       'nmidia_with_flow_listened_PROP', 'nmidia_regular_listened_PROP',\n",
       "       'nmidia_PROP_diff'], dtype=object)"
      ]
     },
     "execution_count": 28,
     "metadata": {},
     "output_type": "execute_result"
    }
   ],
   "source": [
    "df_train.columns.values"
   ]
  },
  {
   "cell_type": "markdown",
   "metadata": {
    "deletable": true,
    "editable": true,
    "ein.tags": [
     "worksheet-0"
    ],
    "slideshow": {
     "slide_type": "-"
    }
   },
   "source": [
    "Index([u'Unnamed: 0', u'Unnamed: 0.1', u'genre_id', u'ts_listen', u'media_id',\n",
    "       u'album_id', u'context_type', u'release_date', u'platform_name',\n",
    "       u'platform_family', u'media_duration', u'listen_type', u'user_gender',\n",
    "       u'user_id', u'artist_id', u'user_age', u'is_listened', u'text', u'year',\n",
    "       u'diff_ts_listen_AND_release_date_D',\n",
    "       u'diff_ts_listen_AND_release_date_M',\n",
    "       u'diff_ts_listen_AND_release_date_Y', u'release_date_DAY',\n",
    "       u'release_date_MONTH', u'release_date_YEAR', u'ts_listen_DAY_OF_WEEK',\n",
    "       u'ts_listen_PERIOD_OF_DAY', u'user_age_group', u'diff_user_song_age',\n",
    "       u'media_decade'],\n",
    "      dtype='object')"
   ]
  },
  {
   "cell_type": "code",
   "execution_count": 29,
   "metadata": {
    "autoscroll": "json-false",
    "collapsed": false,
    "deletable": true,
    "editable": true,
    "ein.tags": [
     "worksheet-0"
    ],
    "slideshow": {
     "slide_type": "-"
    }
   },
   "outputs": [],
   "source": [
    "cols_for_target_encoder = [\"genre_id\", \n",
    "                           \"context_type\", \n",
    "                           \"user_id\", \n",
    "                           \"media_id\", \n",
    "                           \"album_id\",\n",
    "                           \"listen_type\"]\n",
    "\n",
    "cols_for_onehot = [\"platform_name\", \n",
    "                   \"platform_family\", \n",
    "                   \"user_age\",\n",
    "                   \"artist_radio\",\n",
    "                   \"user_age_group\",\n",
    "                   \"media_decade\",\n",
    "                   \"user_gender\", \n",
    "                   \"user_age_group\", \n",
    "                   \"ts_listen_DAY_OF_WEEK\",\n",
    "                  \"ts_listen_PERIOD_OF_DAY\"]\n",
    "\n",
    "cols_for_rank = [\"artist_id\",\n",
    "                \"artist_fans\"]\n",
    "\n",
    "\n",
    "target = \"is_listened\""
   ]
  },
  {
   "cell_type": "code",
   "execution_count": null,
   "metadata": {
    "collapsed": true,
    "deletable": true,
    "editable": true
   },
   "outputs": [],
   "source": []
  },
  {
   "cell_type": "code",
   "execution_count": 30,
   "metadata": {
    "autoscroll": "json-false",
    "collapsed": false,
    "deletable": true,
    "editable": true,
    "ein.tags": [
     "worksheet-0"
    ],
    "slideshow": {
     "slide_type": "-"
    }
   },
   "outputs": [],
   "source": [
    "te = TargetEncoder(cols_for_target_encoder, \"is_listened\")"
   ]
  },
  {
   "cell_type": "code",
   "execution_count": 31,
   "metadata": {
    "autoscroll": "json-false",
    "collapsed": false,
    "deletable": true,
    "editable": true,
    "ein.tags": [
     "worksheet-0"
    ],
    "slideshow": {
     "slide_type": "-"
    }
   },
   "outputs": [],
   "source": [
    "te.fit(df_train)"
   ]
  },
  {
   "cell_type": "code",
   "execution_count": 32,
   "metadata": {
    "autoscroll": "json-false",
    "collapsed": false,
    "deletable": true,
    "editable": true,
    "ein.tags": [
     "worksheet-0"
    ],
    "slideshow": {
     "slide_type": "-"
    }
   },
   "outputs": [],
   "source": [
    "te.transform(df_train)\n",
    "te.transform(df_test)\n",
    "del te"
   ]
  },
  {
   "cell_type": "code",
   "execution_count": 33,
   "metadata": {
    "collapsed": false,
    "deletable": true,
    "editable": true
   },
   "outputs": [
    {
     "name": "stdout",
     "output_type": "stream",
     "text": [
      "das\n"
     ]
    }
   ],
   "source": [
    "print(\"das\")"
   ]
  },
  {
   "cell_type": "code",
   "execution_count": 34,
   "metadata": {
    "collapsed": false,
    "deletable": true,
    "editable": true
   },
   "outputs": [
    {
     "name": "stdout",
     "output_type": "stream",
     "text": [
      "teste\n"
     ]
    }
   ],
   "source": [
    "print(\"teste\")"
   ]
  },
  {
   "cell_type": "code",
   "execution_count": 35,
   "metadata": {
    "autoscroll": "json-false",
    "collapsed": false,
    "deletable": true,
    "editable": true,
    "ein.tags": [
     "worksheet-0"
    ],
    "slideshow": {
     "slide_type": "-"
    }
   },
   "outputs": [],
   "source": [
    "rc = RankCategorical(cols_for_rank)\n",
    "rc.fit(df_train)\n",
    "rc.transform(df_train)\n",
    "rc.transform(df_test)\n",
    "del rc"
   ]
  },
  {
   "cell_type": "code",
   "execution_count": 36,
   "metadata": {
    "autoscroll": "json-false",
    "collapsed": false,
    "deletable": true,
    "editable": true,
    "ein.tags": [
     "worksheet-0"
    ],
    "slideshow": {
     "slide_type": "-"
    }
   },
   "outputs": [],
   "source": [
    "# rc = RankCategorical([\"media_decade\"])\n",
    "# rc.fit(df_train)\n",
    "# rc.transform(df_train)\n",
    "# rc.transform(df_test)\n",
    "# del rc"
   ]
  },
  {
   "cell_type": "code",
   "execution_count": 37,
   "metadata": {
    "autoscroll": "json-false",
    "collapsed": false,
    "deletable": true,
    "editable": true,
    "ein.tags": [
     "worksheet-0"
    ],
    "slideshow": {
     "slide_type": "-"
    }
   },
   "outputs": [],
   "source": [
    "# lc = RankCategorical(cols_for_count)\n",
    "# lc.fit(df_train)\n",
    "# lc.transform(df_train)\n",
    "# lc.transform(df_test)"
   ]
  },
  {
   "cell_type": "code",
   "execution_count": 38,
   "metadata": {
    "autoscroll": "json-false",
    "collapsed": false,
    "deletable": true,
    "editable": true,
    "ein.tags": [
     "worksheet-0"
    ],
    "slideshow": {
     "slide_type": "-"
    }
   },
   "outputs": [
    {
     "data": {
      "text/html": [
       "<div>\n",
       "<table border=\"1\" class=\"dataframe\">\n",
       "  <thead>\n",
       "    <tr style=\"text-align: right;\">\n",
       "      <th></th>\n",
       "      <th>genre_id</th>\n",
       "      <th>ts_listen</th>\n",
       "      <th>media_id</th>\n",
       "      <th>album_id</th>\n",
       "      <th>context_type</th>\n",
       "      <th>release_date</th>\n",
       "      <th>platform_name</th>\n",
       "      <th>platform_family</th>\n",
       "      <th>media_duration</th>\n",
       "      <th>listen_type</th>\n",
       "      <th>...</th>\n",
       "      <th>media_bpm</th>\n",
       "      <th>media_rank</th>\n",
       "      <th>user_id_id</th>\n",
       "      <th>nmidia_regular_listened</th>\n",
       "      <th>nmidia_with_flow_listened</th>\n",
       "      <th>nmidia_regular</th>\n",
       "      <th>nmidia_with_flow</th>\n",
       "      <th>nmidia_with_flow_listened_PROP</th>\n",
       "      <th>nmidia_regular_listened_PROP</th>\n",
       "      <th>nmidia_PROP_diff</th>\n",
       "    </tr>\n",
       "  </thead>\n",
       "  <tbody>\n",
       "    <tr>\n",
       "      <th>0</th>\n",
       "      <td>0.663128</td>\n",
       "      <td>2016-11-19 11:59:13</td>\n",
       "      <td>1.000000</td>\n",
       "      <td>1.000000</td>\n",
       "      <td>0.573595</td>\n",
       "      <td>2014-07-14 00:00:00</td>\n",
       "      <td>2</td>\n",
       "      <td>1</td>\n",
       "      <td>2.0</td>\n",
       "      <td>0.600282</td>\n",
       "      <td>...</td>\n",
       "      <td>90.1</td>\n",
       "      <td>309034.0</td>\n",
       "      <td>7665</td>\n",
       "      <td>180</td>\n",
       "      <td>75</td>\n",
       "      <td>181</td>\n",
       "      <td>77</td>\n",
       "      <td>0.974026</td>\n",
       "      <td>0.994475</td>\n",
       "      <td>-0.020449</td>\n",
       "    </tr>\n",
       "    <tr>\n",
       "      <th>1</th>\n",
       "      <td>0.614716</td>\n",
       "      <td>2016-11-26 14:32:54</td>\n",
       "      <td>0.700000</td>\n",
       "      <td>0.698083</td>\n",
       "      <td>0.573595</td>\n",
       "      <td>2011-11-04 00:00:00</td>\n",
       "      <td>2</td>\n",
       "      <td>1</td>\n",
       "      <td>4.0</td>\n",
       "      <td>0.600282</td>\n",
       "      <td>...</td>\n",
       "      <td>124.0</td>\n",
       "      <td>735595.0</td>\n",
       "      <td>7665</td>\n",
       "      <td>180</td>\n",
       "      <td>75</td>\n",
       "      <td>181</td>\n",
       "      <td>77</td>\n",
       "      <td>0.974026</td>\n",
       "      <td>0.994475</td>\n",
       "      <td>-0.020449</td>\n",
       "    </tr>\n",
       "    <tr>\n",
       "      <th>2</th>\n",
       "      <td>0.706176</td>\n",
       "      <td>2016-11-02 17:31:32</td>\n",
       "      <td>1.000000</td>\n",
       "      <td>1.000000</td>\n",
       "      <td>0.539710</td>\n",
       "      <td>2012-09-18 00:00:00</td>\n",
       "      <td>0</td>\n",
       "      <td>0</td>\n",
       "      <td>2.0</td>\n",
       "      <td>0.600282</td>\n",
       "      <td>...</td>\n",
       "      <td>149.8</td>\n",
       "      <td>289694.0</td>\n",
       "      <td>7665</td>\n",
       "      <td>180</td>\n",
       "      <td>75</td>\n",
       "      <td>181</td>\n",
       "      <td>77</td>\n",
       "      <td>0.974026</td>\n",
       "      <td>0.994475</td>\n",
       "      <td>-0.020449</td>\n",
       "    </tr>\n",
       "    <tr>\n",
       "      <th>3</th>\n",
       "      <td>0.605322</td>\n",
       "      <td>2016-11-26 14:20:14</td>\n",
       "      <td>0.765957</td>\n",
       "      <td>0.765957</td>\n",
       "      <td>0.573595</td>\n",
       "      <td>2016-06-17 00:00:00</td>\n",
       "      <td>2</td>\n",
       "      <td>1</td>\n",
       "      <td>4.0</td>\n",
       "      <td>0.600282</td>\n",
       "      <td>...</td>\n",
       "      <td>136.0</td>\n",
       "      <td>673886.0</td>\n",
       "      <td>7665</td>\n",
       "      <td>180</td>\n",
       "      <td>75</td>\n",
       "      <td>181</td>\n",
       "      <td>77</td>\n",
       "      <td>0.974026</td>\n",
       "      <td>0.994475</td>\n",
       "      <td>-0.020449</td>\n",
       "    </tr>\n",
       "    <tr>\n",
       "      <th>4</th>\n",
       "      <td>0.605322</td>\n",
       "      <td>2016-11-04 17:23:58</td>\n",
       "      <td>0.712500</td>\n",
       "      <td>0.681818</td>\n",
       "      <td>0.539710</td>\n",
       "      <td>2016-09-30 00:00:00</td>\n",
       "      <td>0</td>\n",
       "      <td>0</td>\n",
       "      <td>3.0</td>\n",
       "      <td>0.600282</td>\n",
       "      <td>...</td>\n",
       "      <td>0.0</td>\n",
       "      <td>762208.0</td>\n",
       "      <td>7665</td>\n",
       "      <td>180</td>\n",
       "      <td>75</td>\n",
       "      <td>181</td>\n",
       "      <td>77</td>\n",
       "      <td>0.974026</td>\n",
       "      <td>0.994475</td>\n",
       "      <td>-0.020449</td>\n",
       "    </tr>\n",
       "  </tbody>\n",
       "</table>\n",
       "<p>5 rows × 41 columns</p>\n",
       "</div>"
      ],
      "text/plain": [
       "   genre_id            ts_listen  media_id  album_id  context_type         release_date  platform_name  platform_family  media_duration  listen_type        ...         media_bpm  media_rank  \\\n",
       "0  0.663128  2016-11-19 11:59:13  1.000000  1.000000      0.573595  2014-07-14 00:00:00              2                1             2.0     0.600282        ...              90.1    309034.0   \n",
       "1  0.614716  2016-11-26 14:32:54  0.700000  0.698083      0.573595  2011-11-04 00:00:00              2                1             4.0     0.600282        ...             124.0    735595.0   \n",
       "2  0.706176  2016-11-02 17:31:32  1.000000  1.000000      0.539710  2012-09-18 00:00:00              0                0             2.0     0.600282        ...             149.8    289694.0   \n",
       "3  0.605322  2016-11-26 14:20:14  0.765957  0.765957      0.573595  2016-06-17 00:00:00              2                1             4.0     0.600282        ...             136.0    673886.0   \n",
       "4  0.605322  2016-11-04 17:23:58  0.712500  0.681818      0.539710  2016-09-30 00:00:00              0                0             3.0     0.600282        ...               0.0    762208.0   \n",
       "\n",
       "   user_id_id  nmidia_regular_listened  nmidia_with_flow_listened nmidia_regular  nmidia_with_flow  nmidia_with_flow_listened_PROP  nmidia_regular_listened_PROP  nmidia_PROP_diff  \n",
       "0        7665                      180                         75            181                77                        0.974026                      0.994475         -0.020449  \n",
       "1        7665                      180                         75            181                77                        0.974026                      0.994475         -0.020449  \n",
       "2        7665                      180                         75            181                77                        0.974026                      0.994475         -0.020449  \n",
       "3        7665                      180                         75            181                77                        0.974026                      0.994475         -0.020449  \n",
       "4        7665                      180                         75            181                77                        0.974026                      0.994475         -0.020449  \n",
       "\n",
       "[5 rows x 41 columns]"
      ]
     },
     "execution_count": 38,
     "metadata": {},
     "output_type": "execute_result"
    }
   ],
   "source": [
    "df_train.head()"
   ]
  },
  {
   "cell_type": "code",
   "execution_count": 39,
   "metadata": {
    "autoscroll": "json-false",
    "collapsed": false,
    "deletable": true,
    "editable": true,
    "ein.tags": [
     "worksheet-0"
    ],
    "slideshow": {
     "slide_type": "-"
    }
   },
   "outputs": [],
   "source": [
    "df_train = onehot(df_train, cols_for_onehot)\n",
    "df_test = onehot(df_test, cols_for_onehot)"
   ]
  },
  {
   "cell_type": "code",
   "execution_count": 40,
   "metadata": {
    "autoscroll": "json-false",
    "collapsed": false,
    "deletable": true,
    "editable": true,
    "ein.tags": [
     "worksheet-0"
    ],
    "slideshow": {
     "slide_type": "-"
    }
   },
   "outputs": [
    {
     "name": "stdout",
     "output_type": "stream",
     "text": [
      "   genre_id            ts_listen  media_id  album_id  context_type         release_date  media_duration  listen_type   user_id  artist_id            ...              user_age_group_2  \\\n",
      "0  0.663128  2016-11-19 11:59:13  1.000000  1.000000      0.573595  2014-07-14 00:00:00             2.0     0.600282  0.977273       7911            ...                             1   \n",
      "1  0.614716  2016-11-26 14:32:54  0.700000  0.698083      0.573595  2011-11-04 00:00:00             4.0     0.600282  0.977273        876            ...                             1   \n",
      "2  0.706176  2016-11-02 17:31:32  1.000000  1.000000      0.539710  2012-09-18 00:00:00             2.0     0.600282  0.977273       8128            ...                             1   \n",
      "3  0.605322  2016-11-26 14:20:14  0.765957  0.765957      0.573595  2016-06-17 00:00:00             4.0     0.600282  0.977273        153            ...                             1   \n",
      "4  0.605322  2016-11-04 17:23:58  0.712500  0.681818      0.539710  2016-09-30 00:00:00             3.0     0.600282  0.977273        522            ...                             1   \n",
      "\n",
      "  ts_listen_DAY_OF_WEEK_1  ts_listen_DAY_OF_WEEK_2  ts_listen_DAY_OF_WEEK_3  ts_listen_DAY_OF_WEEK_4  ts_listen_DAY_OF_WEEK_5  ts_listen_DAY_OF_WEEK_6  ts_listen_PERIOD_OF_DAY_1  \\\n",
      "0                       0                        0                        0                        0                        1                        0                          0   \n",
      "1                       0                        0                        0                        0                        1                        0                          1   \n",
      "2                       0                        1                        0                        0                        0                        0                          1   \n",
      "3                       0                        0                        0                        0                        1                        0                          1   \n",
      "4                       0                        0                        0                        1                        0                        0                          1   \n",
      "\n",
      "   ts_listen_PERIOD_OF_DAY_2  ts_listen_PERIOD_OF_DAY_3  \n",
      "0                          0                          0  \n",
      "1                          0                          0  \n",
      "2                          0                          0  \n",
      "3                          0                          0  \n",
      "4                          0                          0  \n",
      "\n",
      "[5 rows x 70 columns]\n"
     ]
    }
   ],
   "source": [
    "print(df_train.head())"
   ]
  },
  {
   "cell_type": "code",
   "execution_count": 41,
   "metadata": {
    "autoscroll": "json-false",
    "collapsed": false,
    "deletable": true,
    "editable": true,
    "ein.tags": [
     "worksheet-0"
    ],
    "slideshow": {
     "slide_type": "-"
    }
   },
   "outputs": [],
   "source": [
    "#df_train = rank_categorical(df_train, cols_for_rank)"
   ]
  },
  {
   "cell_type": "code",
   "execution_count": 42,
   "metadata": {
    "autoscroll": "json-false",
    "collapsed": false,
    "deletable": true,
    "editable": true,
    "ein.tags": [
     "worksheet-0"
    ],
    "slideshow": {
     "slide_type": "-"
    }
   },
   "outputs": [
    {
     "data": {
      "text/plain": [
       "array(['genre_id', 'ts_listen', 'media_id', 'album_id', 'context_type',\n",
       "       'release_date', 'media_duration', 'listen_type', 'user_id',\n",
       "       'artist_id', 'is_listened', 'text', 'year',\n",
       "       'diff_ts_listen_AND_release_date_D',\n",
       "       'diff_ts_listen_AND_release_date_M',\n",
       "       'diff_ts_listen_AND_release_date_Y', 'release_date_DAY',\n",
       "       'release_date_MONTH', 'release_date_YEAR', 'diff_user_song_age',\n",
       "       'artist_albuns', 'artist_fans', 'media_bpm', 'media_rank',\n",
       "       'user_id_id', 'nmidia_regular_listened',\n",
       "       'nmidia_with_flow_listened', 'nmidia_regular', 'nmidia_with_flow',\n",
       "       'nmidia_with_flow_listened_PROP', 'nmidia_regular_listened_PROP',\n",
       "       'nmidia_PROP_diff', 'platform_name_1', 'platform_name_2',\n",
       "       'platform_family_1', 'platform_family_2', 'user_age_19',\n",
       "       'user_age_20', 'user_age_21', 'user_age_22', 'user_age_23',\n",
       "       'user_age_24', 'user_age_25', 'user_age_26', 'user_age_27',\n",
       "       'user_age_28', 'user_age_29', 'user_age_30', 'user_age_group_1',\n",
       "       'user_age_group_2', 'media_decade_1', 'media_decade_2',\n",
       "       'media_decade_3', 'media_decade_4', 'media_decade_5',\n",
       "       'media_decade_6', 'media_decade_7', 'media_decade_8',\n",
       "       'user_gender_1', 'user_age_group_1', 'user_age_group_2',\n",
       "       'ts_listen_DAY_OF_WEEK_1', 'ts_listen_DAY_OF_WEEK_2',\n",
       "       'ts_listen_DAY_OF_WEEK_3', 'ts_listen_DAY_OF_WEEK_4',\n",
       "       'ts_listen_DAY_OF_WEEK_5', 'ts_listen_DAY_OF_WEEK_6',\n",
       "       'ts_listen_PERIOD_OF_DAY_1', 'ts_listen_PERIOD_OF_DAY_2',\n",
       "       'ts_listen_PERIOD_OF_DAY_3'], dtype=object)"
      ]
     },
     "execution_count": 42,
     "metadata": {},
     "output_type": "execute_result"
    }
   ],
   "source": [
    "df_train.columns.values"
   ]
  },
  {
   "cell_type": "code",
   "execution_count": 43,
   "metadata": {
    "autoscroll": "json-false",
    "collapsed": false,
    "deletable": true,
    "editable": true,
    "ein.tags": [
     "worksheet-0"
    ],
    "slideshow": {
     "slide_type": "-"
    }
   },
   "outputs": [],
   "source": [
    "%timeit\n",
    "### Drop\n",
    "to_drop = ['ts_listen', 'release_date', \"year\", \"text\", 'release_date_DAY', 'release_date_MONTH']#, \"nmidia_with_flow_listened_PROP\", \"nmidia_PROP_diff\", \"nmidia_regular_listened_PROP\"]\n",
    "df_train.drop(to_drop, axis = 1,inplace=True)\n",
    "df_test.drop(to_drop, axis = 1,inplace=True)"
   ]
  },
  {
   "cell_type": "code",
   "execution_count": 44,
   "metadata": {
    "autoscroll": "json-false",
    "collapsed": false,
    "deletable": true,
    "editable": true,
    "ein.tags": [
     "worksheet-0"
    ],
    "slideshow": {
     "slide_type": "-"
    }
   },
   "outputs": [],
   "source": [
    "# to_drop = [\"year\", \"text\"]\n",
    "# df_train.drop(to_drop, axis = 1,inplace=True)"
   ]
  },
  {
   "cell_type": "code",
   "execution_count": 45,
   "metadata": {
    "autoscroll": "json-false",
    "collapsed": false,
    "deletable": true,
    "editable": true,
    "ein.tags": [
     "worksheet-0"
    ],
    "slideshow": {
     "slide_type": "-"
    }
   },
   "outputs": [
    {
     "data": {
      "text/plain": [
       "['genre_id',\n",
       " 'media_id',\n",
       " 'album_id',\n",
       " 'context_type',\n",
       " 'media_duration',\n",
       " 'listen_type',\n",
       " 'user_id',\n",
       " 'artist_id',\n",
       " 'diff_ts_listen_AND_release_date_D',\n",
       " 'diff_ts_listen_AND_release_date_M',\n",
       " 'diff_ts_listen_AND_release_date_Y',\n",
       " 'release_date_YEAR',\n",
       " 'diff_user_song_age',\n",
       " 'artist_albuns',\n",
       " 'artist_fans',\n",
       " 'media_bpm',\n",
       " 'media_rank',\n",
       " 'nmidia_regular_listened',\n",
       " 'nmidia_with_flow_listened',\n",
       " 'nmidia_regular',\n",
       " 'nmidia_with_flow',\n",
       " 'nmidia_with_flow_listened_PROP',\n",
       " 'nmidia_regular_listened_PROP',\n",
       " 'nmidia_PROP_diff',\n",
       " 'platform_name_1',\n",
       " 'platform_name_2',\n",
       " 'platform_family_1',\n",
       " 'platform_family_2',\n",
       " 'user_age_19',\n",
       " 'user_age_20',\n",
       " 'user_age_21',\n",
       " 'user_age_22',\n",
       " 'user_age_23',\n",
       " 'user_age_24',\n",
       " 'user_age_25',\n",
       " 'user_age_26',\n",
       " 'user_age_27',\n",
       " 'user_age_28',\n",
       " 'user_age_29',\n",
       " 'user_age_30',\n",
       " 'user_age_group_1',\n",
       " 'user_age_group_2',\n",
       " 'media_decade_1',\n",
       " 'media_decade_2',\n",
       " 'media_decade_3',\n",
       " 'media_decade_4',\n",
       " 'media_decade_5',\n",
       " 'media_decade_6',\n",
       " 'media_decade_7',\n",
       " 'media_decade_8',\n",
       " 'user_gender_1',\n",
       " 'user_age_group_1',\n",
       " 'user_age_group_2',\n",
       " 'ts_listen_DAY_OF_WEEK_1',\n",
       " 'ts_listen_DAY_OF_WEEK_2',\n",
       " 'ts_listen_DAY_OF_WEEK_3',\n",
       " 'ts_listen_DAY_OF_WEEK_4',\n",
       " 'ts_listen_DAY_OF_WEEK_5',\n",
       " 'ts_listen_DAY_OF_WEEK_6',\n",
       " 'ts_listen_PERIOD_OF_DAY_1',\n",
       " 'ts_listen_PERIOD_OF_DAY_2',\n",
       " 'ts_listen_PERIOD_OF_DAY_3']"
      ]
     },
     "execution_count": 45,
     "metadata": {},
     "output_type": "execute_result"
    }
   ],
   "source": [
    "ignore_list = [target, \"user_id_id\"]\n",
    "features = [col for col in df_train.columns.values if col not in ignore_list]\n",
    "features"
   ]
  },
  {
   "cell_type": "code",
   "execution_count": 46,
   "metadata": {
    "collapsed": false,
    "deletable": true,
    "editable": true
   },
   "outputs": [
    {
     "data": {
      "text/plain": [
       "array([0, 0, 0, 0, 0, 0, 0, 0, 0, 0, 0, 0, 0, 0, 0, 0, 0, 0, 0, 0, 0, 0, 0,\n",
       "       0, 0, 0, 0, 0, 0, 0, 0, 0, 0, 0, 0, 0, 0, 0, 0, 0, 0, 0, 0, 0, 0, 0,\n",
       "       0, 0, 0, 0, 0, 0, 0, 0, 0, 0, 0, 0, 0, 0, 0, 0, 0, 0])"
      ]
     },
     "execution_count": 46,
     "metadata": {},
     "output_type": "execute_result"
    }
   ],
   "source": [
    "pd.isnull(df_train).sum().values"
   ]
  },
  {
   "cell_type": "code",
   "execution_count": 47,
   "metadata": {
    "collapsed": false,
    "deletable": true,
    "editable": true
   },
   "outputs": [
    {
     "data": {
      "text/plain": [
       "genre_id                             0\n",
       "media_id                             0\n",
       "album_id                             0\n",
       "context_type                         0\n",
       "media_duration                       0\n",
       "listen_type                          0\n",
       "user_id                              0\n",
       "artist_id                            0\n",
       "is_listened                          0\n",
       "diff_ts_listen_AND_release_date_D    0\n",
       "diff_ts_listen_AND_release_date_M    0\n",
       "diff_ts_listen_AND_release_date_Y    0\n",
       "release_date_YEAR                    0\n",
       "diff_user_song_age                   0\n",
       "artist_albuns                        0\n",
       "artist_fans                          0\n",
       "media_bpm                            0\n",
       "media_rank                           0\n",
       "user_id_id                           0\n",
       "nmidia_regular_listened              0\n",
       "nmidia_with_flow_listened            0\n",
       "nmidia_regular                       0\n",
       "nmidia_with_flow                     0\n",
       "nmidia_with_flow_listened_PROP       0\n",
       "nmidia_regular_listened_PROP         0\n",
       "nmidia_PROP_diff                     0\n",
       "platform_name_1                      0\n",
       "platform_name_2                      0\n",
       "platform_family_1                    0\n",
       "platform_family_2                    0\n",
       "                                    ..\n",
       "user_age_23                          0\n",
       "user_age_24                          0\n",
       "user_age_25                          0\n",
       "user_age_26                          0\n",
       "user_age_27                          0\n",
       "user_age_28                          0\n",
       "user_age_29                          0\n",
       "user_age_30                          0\n",
       "user_age_group_1                     0\n",
       "user_age_group_2                     0\n",
       "media_decade_1                       0\n",
       "media_decade_2                       0\n",
       "media_decade_3                       0\n",
       "media_decade_4                       0\n",
       "media_decade_5                       0\n",
       "media_decade_6                       0\n",
       "media_decade_7                       0\n",
       "media_decade_8                       0\n",
       "user_gender_1                        0\n",
       "user_age_group_1                     0\n",
       "user_age_group_2                     0\n",
       "ts_listen_DAY_OF_WEEK_1              0\n",
       "ts_listen_DAY_OF_WEEK_2              0\n",
       "ts_listen_DAY_OF_WEEK_3              0\n",
       "ts_listen_DAY_OF_WEEK_4              0\n",
       "ts_listen_DAY_OF_WEEK_5              0\n",
       "ts_listen_DAY_OF_WEEK_6              0\n",
       "ts_listen_PERIOD_OF_DAY_1            0\n",
       "ts_listen_PERIOD_OF_DAY_2            0\n",
       "ts_listen_PERIOD_OF_DAY_3            0\n",
       "dtype: int64"
      ]
     },
     "execution_count": 47,
     "metadata": {},
     "output_type": "execute_result"
    }
   ],
   "source": [
    "import numpy as np\n",
    "np.sum(np.isinf(df_train))"
   ]
  },
  {
   "cell_type": "code",
   "execution_count": 48,
   "metadata": {
    "collapsed": true,
    "deletable": true,
    "editable": true
   },
   "outputs": [],
   "source": [
    "def print_full(x):\n",
    "    pd.set_option('display.max_rows', len(x))\n",
    "    print(x)\n",
    "    pd.reset_option('display.max_rows')"
   ]
  },
  {
   "cell_type": "code",
   "execution_count": 49,
   "metadata": {
    "collapsed": false,
    "deletable": true,
    "editable": true
   },
   "outputs": [
    {
     "name": "stdout",
     "output_type": "stream",
     "text": [
      "Unnamed: 0                             0\n",
      "Unnamed: 0.1                           0\n",
      "sample_id                              0\n",
      "genre_id                               0\n",
      "media_id                               0\n",
      "album_id                               0\n",
      "context_type                           0\n",
      "media_duration                         0\n",
      "listen_type                            0\n",
      "user_id                                0\n",
      "artist_id                              0\n",
      "diff_ts_listen_AND_release_date_D      0\n",
      "diff_ts_listen_AND_release_date_M      0\n",
      "diff_ts_listen_AND_release_date_Y      0\n",
      "release_date_YEAR                      0\n",
      "diff_user_song_age                     0\n",
      "media_bpm                            337\n",
      "media_rank                           337\n",
      "artist_albuns                         61\n",
      "artist_fans                            0\n",
      "user_id_id                             0\n",
      "nmidia_regular_listened                0\n",
      "nmidia_with_flow_listened              0\n",
      "nmidia_regular                         0\n",
      "nmidia_with_flow                       0\n",
      "nmidia_with_flow_listened_PROP         0\n",
      "nmidia_regular_listened_PROP           0\n",
      "nmidia_PROP_diff                       0\n",
      "platform_name_1                        0\n",
      "platform_name_2                        0\n",
      "platform_family_1                      0\n",
      "platform_family_2                      0\n",
      "user_age_19                            0\n",
      "user_age_20                            0\n",
      "user_age_21                            0\n",
      "user_age_22                            0\n",
      "user_age_23                            0\n",
      "user_age_24                            0\n",
      "user_age_25                            0\n",
      "user_age_26                            0\n",
      "user_age_27                            0\n",
      "user_age_28                            0\n",
      "user_age_29                            0\n",
      "user_age_30                            0\n",
      "user_age_group_1                       0\n",
      "user_age_group_2                       0\n",
      "media_decade_2                         0\n",
      "media_decade_3                         0\n",
      "media_decade_4                         0\n",
      "media_decade_5                         0\n",
      "media_decade_6                         0\n",
      "media_decade_7                         0\n",
      "media_decade_8                         0\n",
      "user_gender_1                          0\n",
      "user_age_group_1                       0\n",
      "user_age_group_2                       0\n",
      "ts_listen_DAY_OF_WEEK_1                0\n",
      "ts_listen_DAY_OF_WEEK_2                0\n",
      "ts_listen_DAY_OF_WEEK_3                0\n",
      "ts_listen_DAY_OF_WEEK_4                0\n",
      "ts_listen_DAY_OF_WEEK_5                0\n",
      "ts_listen_DAY_OF_WEEK_6                0\n",
      "ts_listen_PERIOD_OF_DAY_1              0\n",
      "ts_listen_PERIOD_OF_DAY_2              0\n",
      "ts_listen_PERIOD_OF_DAY_3              0\n",
      "dtype: int64\n"
     ]
    }
   ],
   "source": [
    "print_full(pd.isnull(df_test).sum()[:])"
   ]
  },
  {
   "cell_type": "code",
   "execution_count": null,
   "metadata": {
    "collapsed": false,
    "deletable": true,
    "editable": true
   },
   "outputs": [],
   "source": []
  },
  {
   "cell_type": "code",
   "execution_count": 50,
   "metadata": {
    "collapsed": false,
    "deletable": true,
    "editable": true
   },
   "outputs": [
    {
     "data": {
      "text/plain": [
       "array([0, 0, 0, 0, 0, 0, 0, 0, 0, 0, 0, 0, 0, 0, 0, 0, 0, 0, 0, 0, 0, 0, 0,\n",
       "       0, 0, 0, 0, 0, 0, 0, 0, 0, 0, 0, 0, 0, 0, 0, 0, 0, 0, 0, 0, 0, 0, 0,\n",
       "       0, 0, 0, 0, 0, 0, 0, 0, 0, 0, 0, 0, 0, 0, 0, 0, 0, 0, 0])"
      ]
     },
     "execution_count": 50,
     "metadata": {},
     "output_type": "execute_result"
    }
   ],
   "source": [
    "np.sum(np.isinf(df_test)).values"
   ]
  },
  {
   "cell_type": "code",
   "execution_count": 51,
   "metadata": {
    "collapsed": false,
    "deletable": true,
    "editable": true
   },
   "outputs": [
    {
     "data": {
      "text/plain": [
       "0"
      ]
     },
     "execution_count": 51,
     "metadata": {},
     "output_type": "execute_result"
    }
   ],
   "source": [
    "for column in features:\n",
    "    try:\n",
    "        df_test[column] = df_test[column].fillna(df_train[column].mean(skipna=True))\n",
    "    except:\n",
    "        df_test[column] = 0\n",
    "\n",
    "#df_test = df_test.fillna(df_train.mean(skipna=True), axis=1)\n",
    "df_test = df_test.applymap(lambda x : float(x))\n",
    "pd.isnull(df_test).sum().sum()"
   ]
  },
  {
   "cell_type": "code",
   "execution_count": 52,
   "metadata": {
    "collapsed": false,
    "deletable": true,
    "editable": true
   },
   "outputs": [
    {
     "data": {
      "text/plain": [
       "array([0, 0, 0, 0, 0, 0, 0, 0, 0, 0, 0, 0, 0, 0, 0, 0, 0, 0, 0, 0, 0, 0, 0,\n",
       "       0, 0, 0, 0, 0, 0, 0, 0, 0, 0, 0, 0, 0, 0, 0, 0, 0, 0, 0, 0, 0, 0, 0,\n",
       "       0, 0, 0, 0, 0, 0, 0, 0, 0, 0, 0, 0, 0, 0, 0, 0, 0, 0, 0, 0])"
      ]
     },
     "execution_count": 52,
     "metadata": {},
     "output_type": "execute_result"
    }
   ],
   "source": [
    "np.sum(np.isinf(df_test)).values"
   ]
  },
  {
   "cell_type": "code",
   "execution_count": 53,
   "metadata": {
    "collapsed": false,
    "deletable": true,
    "editable": true
   },
   "outputs": [],
   "source": [
    "# df_train.fillna(0, inplace=True)\n",
    "# df_test.fillna(0, inplace=True)"
   ]
  },
  {
   "cell_type": "code",
   "execution_count": 54,
   "metadata": {
    "collapsed": false,
    "deletable": true,
    "editable": true
   },
   "outputs": [],
   "source": [
    "# pd.isnull(df_train).sum()"
   ]
  },
  {
   "cell_type": "code",
   "execution_count": 55,
   "metadata": {
    "autoscroll": "json-false",
    "collapsed": false,
    "deletable": true,
    "editable": true,
    "ein.tags": [
     "worksheet-0"
    ],
    "slideshow": {
     "slide_type": "-"
    }
   },
   "outputs": [],
   "source": [
    "from sklearn.model_selection import train_test_split"
   ]
  },
  {
   "cell_type": "code",
   "execution_count": 56,
   "metadata": {
    "autoscroll": "json-false",
    "collapsed": false,
    "deletable": true,
    "editable": true,
    "ein.tags": [
     "worksheet-0"
    ],
    "slideshow": {
     "slide_type": "-"
    }
   },
   "outputs": [
    {
     "data": {
      "text/plain": [
       "93"
      ]
     },
     "execution_count": 56,
     "metadata": {},
     "output_type": "execute_result"
    }
   ],
   "source": [
    "X_train, X_test, y_train, y_test = train_test_split(df_train[features], df_train[target], test_size = 0.2)\n",
    "import gc\n",
    "gc.collect()"
   ]
  },
  {
   "cell_type": "markdown",
   "metadata": {
    "deletable": true,
    "editable": true,
    "ein.tags": [
     "worksheet-0"
    ],
    "slideshow": {
     "slide_type": "-"
    }
   },
   "source": [
    "### Feature Selection"
   ]
  },
  {
   "cell_type": "code",
   "execution_count": 57,
   "metadata": {
    "autoscroll": "json-false",
    "collapsed": false,
    "deletable": true,
    "editable": true,
    "ein.tags": [
     "worksheet-0"
    ],
    "slideshow": {
     "slide_type": "-"
    }
   },
   "outputs": [
    {
     "name": "stdout",
     "output_type": "stream",
     "text": [
      "57 selected variables from 62, 91.94%\n",
      "['genre_id', 'media_id', 'album_id', 'context_type', 'media_duration', 'listen_type', 'user_id', 'artist_id', 'diff_ts_listen_AND_release_date_D', 'diff_ts_listen_AND_release_date_M', 'diff_ts_listen_AND_release_date_Y', 'release_date_YEAR', 'diff_user_song_age', 'artist_fans', 'media_rank', 'nmidia_regular_listened', 'nmidia_with_flow_listened', 'nmidia_regular', 'nmidia_with_flow', 'nmidia_with_flow_listened_PROP', 'nmidia_regular_listened_PROP', 'nmidia_PROP_diff', 'platform_name_1', 'platform_name_2', 'platform_family_1', 'platform_family_2', 'user_age_19', 'user_age_20', 'user_age_21', 'user_age_22', 'user_age_23', 'user_age_25', 'user_age_26', 'user_age_27', 'user_age_28', 'user_age_29', 'user_age_30', 'user_age_group_1', 'user_age_group_2', 'media_decade_1', 'media_decade_2', 'media_decade_3', 'media_decade_4', 'media_decade_5', 'media_decade_7', 'media_decade_8', 'user_gender_1', 'user_age_group_1', 'user_age_group_2', 'ts_listen_DAY_OF_WEEK_1', 'ts_listen_DAY_OF_WEEK_2', 'ts_listen_DAY_OF_WEEK_3', 'ts_listen_DAY_OF_WEEK_4', 'ts_listen_DAY_OF_WEEK_5', 'ts_listen_DAY_OF_WEEK_6', 'ts_listen_PERIOD_OF_DAY_1', 'ts_listen_PERIOD_OF_DAY_3']\n"
     ]
    }
   ],
   "source": [
    "from sklearn import feature_selection\n",
    "all_features = features\n",
    "function_rule_selection = feature_selection.f_classif\n",
    "alpha_cutoff = 0.01\n",
    "\n",
    "selection_rule = feature_selection.SelectFdr(function_rule_selection, alpha_cutoff)\n",
    "selection_rule.fit(X_train, y_train);\n",
    "\n",
    "all_pvalues = list(filter(lambda x: pd.notnull(x[0]), zip(selection_rule.pvalues_, all_features)))\n",
    "#print(all_pvalues)\n",
    "filtered_pvalues = list(filter(lambda x: x[0]<=alpha_cutoff, all_pvalues))\n",
    "#print(filtered_pvalues)\n",
    "all_select_features = list(map(lambda x: x[1], filtered_pvalues))\n",
    "\n",
    "print(\"{0} selected variables from {1}, {2:.2f}%\".format(len(all_select_features), \n",
    "                                                        len(all_features), \n",
    "                                                        len(filtered_pvalues)*100/float(len(all_features))))\n",
    "print(all_select_features)\n",
    "#print(filtered_pvalues)"
   ]
  },
  {
   "cell_type": "code",
   "execution_count": 58,
   "metadata": {
    "autoscroll": "json-false",
    "collapsed": false,
    "deletable": true,
    "editable": true,
    "ein.tags": [
     "worksheet-0"
    ],
    "slideshow": {
     "slide_type": "-"
    }
   },
   "outputs": [],
   "source": [
    "features = all_select_features\n",
    "X_train, X_test, y_train, y_test = train_test_split(df_train[features], df_train[target], test_size = 0.2)"
   ]
  },
  {
   "cell_type": "code",
   "execution_count": 59,
   "metadata": {
    "autoscroll": "json-false",
    "collapsed": false,
    "deletable": true,
    "editable": true,
    "ein.tags": [
     "worksheet-0"
    ],
    "slideshow": {
     "slide_type": "-"
    }
   },
   "outputs": [],
   "source": [
    "from sklearn import metrics\n",
    "from sklearn.metrics import confusion_matrix\n",
    "from sklearn.metrics import accuracy_score\n",
    "import matplotlib.pyplot as plt\n",
    "\n",
    "def complete_report(y_test, y_pred):\n",
    "    print(\"*********************************\")\n",
    "    print(\"Accuracy: {0:.2f}\".format(accuracy_score(y_test, y_pred)))\n",
    "    print(\"Precision: {0}\".format(metrics.precision_score(y_test, y_pred)))\n",
    "    print(\"Recall: {0}\".format(metrics.recall_score(y_test, y_pred)))\n",
    "    print(\"F1-Score: {0}\".format(metrics.f1_score(y_test, y_pred)))\n",
    "    conf_m = confusion_matrix(y_test, y_pred)\n",
    "    print(conf_m)\n",
    "    try: \n",
    "        print(\"Roc Area: {0}\".format(metrics.roc_auc_score(y_test, y_pred))) \n",
    "        roc_curve_label(y_test, y_pred)\n",
    "    except:\n",
    "        print(\"--\")\n",
    "    print(\"*********************************\")\n",
    "    \n",
    "    return metrics.roc_auc_score(y_test, y_pred)\n",
    "        \n",
    "def roc_curve_label(y_test, y_pred):\n",
    "    plt.figsize=(10,6)\n",
    "    fpr, tpr, _ = metrics.roc_curve(y_test, y_pred)\n",
    "    plt.figure(1)\n",
    "    plt.plot([0, 1], [0, 1], 'k--')\n",
    "    plt.plot(fpr, tpr, label='RT + LR')\n",
    "    plt.xlabel('False positive rate')\n",
    "    plt.ylabel('True positive rate')\n",
    "    plt.title('ROC curve')\n",
    "    plt.legend(loc='best')\n",
    "    plt.show()"
   ]
  },
  {
   "cell_type": "code",
   "execution_count": 60,
   "metadata": {
    "autoscroll": "json-false",
    "collapsed": false,
    "deletable": true,
    "editable": true,
    "ein.tags": [
     "worksheet-0"
    ],
    "slideshow": {
     "slide_type": "-"
    }
   },
   "outputs": [],
   "source": [
    "# %timeit\n",
    "# from sklearn.tree import DecisionTreeClassifier\n",
    "# model = DecisionTreeClassifier()\n",
    "# model.fit(X_train, y_train)"
   ]
  },
  {
   "cell_type": "code",
   "execution_count": 61,
   "metadata": {
    "autoscroll": "json-false",
    "collapsed": false,
    "deletable": true,
    "editable": true,
    "ein.tags": [
     "worksheet-0"
    ],
    "slideshow": {
     "slide_type": "-"
    }
   },
   "outputs": [],
   "source": [
    "# print(model.score(X_test, y_test))\n",
    "# complete_report(y_test, model.predict(X_test))"
   ]
  },
  {
   "cell_type": "markdown",
   "metadata": {
    "deletable": true,
    "editable": true,
    "ein.tags": [
     "worksheet-0"
    ],
    "slideshow": {
     "slide_type": "-"
    }
   },
   "source": [
    "acc: 0.70345496362865445  \n",
    "roc: 0.6912675674785278"
   ]
  },
  {
   "cell_type": "code",
   "execution_count": 62,
   "metadata": {
    "autoscroll": "json-false",
    "collapsed": false,
    "deletable": true,
    "editable": true,
    "ein.tags": [
     "worksheet-0"
    ],
    "slideshow": {
     "slide_type": "-"
    }
   },
   "outputs": [],
   "source": [
    "from sklearn.metrics import confusion_matrix"
   ]
  },
  {
   "cell_type": "code",
   "execution_count": 63,
   "metadata": {
    "autoscroll": "json-false",
    "collapsed": false,
    "deletable": true,
    "editable": true,
    "ein.tags": [
     "worksheet-0"
    ],
    "slideshow": {
     "slide_type": "-"
    }
   },
   "outputs": [],
   "source": [
    "# confusion_matrix(y_test, model.predict(X_test))"
   ]
  },
  {
   "cell_type": "code",
   "execution_count": 64,
   "metadata": {
    "autoscroll": "json-false",
    "collapsed": false,
    "deletable": true,
    "editable": true,
    "ein.tags": [
     "worksheet-0"
    ],
    "slideshow": {
     "slide_type": "-"
    }
   },
   "outputs": [
    {
     "data": {
      "text/plain": [
       "0.78136195308694134"
      ]
     },
     "execution_count": 64,
     "metadata": {},
     "output_type": "execute_result"
    }
   ],
   "source": [
    "from sklearn.ensemble import RandomForestClassifier\n",
    "\n",
    "model = RandomForestClassifier(n_jobs=-1)\n",
    "model.fit(X_train, y_train)\n",
    "model.score(X_test, y_test)"
   ]
  },
  {
   "cell_type": "code",
   "execution_count": 65,
   "metadata": {
    "autoscroll": "json-false",
    "collapsed": false,
    "deletable": true,
    "editable": true,
    "ein.tags": [
     "worksheet-0"
    ],
    "slideshow": {
     "slide_type": "-"
    }
   },
   "outputs": [
    {
     "name": "stdout",
     "output_type": "stream",
     "text": [
      "*********************************\n",
      "Accuracy: 0.78\n",
      "Precision: 0.828631676204\n",
      "Recall: 0.800493789837\n",
      "F1-Score: 0.814319737418\n",
      "[[140073  45998]\n",
      " [ 55433 222418]]\n",
      "Roc Area: 0.77664353921\n"
     ]
    },
    {
     "data": {
      "image/png": "[encoded data removed]",
      "text/plain": [
       "<matplotlib.figure.Figure at 0x7f47f05a1350>"
      ]
     },
     "metadata": {},
     "output_type": "display_data"
    },
    {
     "name": "stdout",
     "output_type": "stream",
     "text": [
      "*********************************\n"
     ]
    },
    {
     "data": {
      "text/plain": [
       "0.77664353921019447"
      ]
     },
     "execution_count": 65,
     "metadata": {},
     "output_type": "execute_result"
    }
   ],
   "source": [
    "complete_report(y_test, model.predict(X_test))"
   ]
  },
  {
   "cell_type": "markdown",
   "metadata": {
    "deletable": true,
    "editable": true
   },
   "source": [
    "0.7434"
   ]
  },
  {
   "cell_type": "code",
   "execution_count": 66,
   "metadata": {
    "autoscroll": "json-false",
    "collapsed": false,
    "deletable": true,
    "editable": true,
    "ein.tags": [
     "worksheet-0"
    ],
    "slideshow": {
     "slide_type": "-"
    }
   },
   "outputs": [
    {
     "data": {
      "image/png": "[encoded data removed]",
      "text/plain": [
       "<matplotlib.figure.Figure at 0x7f47ee466350>"
      ]
     },
     "metadata": {},
     "output_type": "display_data"
    }
   ],
   "source": [
    "roc_curve_label(y_test, model.predict(X_test))"
   ]
  },
  {
   "cell_type": "code",
   "execution_count": 67,
   "metadata": {
    "collapsed": false,
    "deletable": true,
    "editable": true
   },
   "outputs": [
    {
     "name": "stdout",
     "output_type": "stream",
     "text": [
      "19918\n"
     ]
    }
   ],
   "source": [
    "print(len(df_test))"
   ]
  },
  {
   "cell_type": "code",
   "execution_count": 68,
   "metadata": {
    "collapsed": false,
    "deletable": true,
    "editable": true
   },
   "outputs": [
    {
     "data": {
      "text/plain": [
       "0"
      ]
     },
     "execution_count": 68,
     "metadata": {},
     "output_type": "execute_result"
    }
   ],
   "source": [
    "pd.isnull(df_test).sum().sum()"
   ]
  },
  {
   "cell_type": "code",
   "execution_count": 69,
   "metadata": {
    "collapsed": false,
    "deletable": true,
    "editable": true
   },
   "outputs": [
    {
     "data": {
      "text/plain": [
       "array([0, 0, 0, 0, 0, 0, 0, 0, 0, 0, 0, 0, 0, 0, 0, 0, 0, 0, 0, 0, 0, 0, 0,\n",
       "       0, 0, 0, 0, 0, 0, 0, 0, 0, 0, 0, 0, 0, 0, 0, 0, 0, 0, 0, 0, 0, 0, 0,\n",
       "       0, 0, 0, 0, 0, 0, 0, 0, 0, 0, 0, 0, 0, 0, 0, 0, 0, 0, 0, 0])"
      ]
     },
     "execution_count": 69,
     "metadata": {},
     "output_type": "execute_result"
    }
   ],
   "source": [
    "np.sum(np.isinf(df_test)).values"
   ]
  },
  {
   "cell_type": "code",
   "execution_count": 76,
   "metadata": {
    "collapsed": false
   },
   "outputs": [
    {
     "data": {
      "text/plain": [
       "8838"
      ]
     },
     "execution_count": 76,
     "metadata": {},
     "output_type": "execute_result"
    }
   ],
   "source": [
    "len(df_test)\n",
    "#len(df_test_group_1 )\n",
    "len(user_for_specific_model)"
   ]
  },
  {
   "cell_type": "markdown",
   "metadata": {
    "deletable": true,
    "editable": true
   },
   "source": [
    ".7411"
   ]
  },
  {
   "cell_type": "code",
   "execution_count": 77,
   "metadata": {
    "autoscroll": "json-false",
    "collapsed": false,
    "deletable": true,
    "editable": true,
    "ein.tags": [
     "worksheet-0"
    ],
    "slideshow": {
     "slide_type": "-"
    }
   },
   "outputs": [
    {
     "data": {
      "text/plain": [
       "2    0.5\n",
       "4    0.9\n",
       "5    0.2\n",
       "7    0.8\n",
       "8    0.4\n",
       "Name: prediction, dtype: float64"
      ]
     },
     "execution_count": 77,
     "metadata": {},
     "output_type": "execute_result"
    }
   ],
   "source": [
    "df_test_group_1 = df_test[df_test[\"user_id_id\"].isin(user_for_specific_model)].copy(deep=True)\n",
    "try: \n",
    "    df_test_group_1[\"media_decade_1\"]\n",
    "except:\n",
    "    df_test_group_1[\"media_decade_1\"] = 0\n",
    "    \n",
    "p = model.predict_proba(df_test_group_1[features])\n",
    "p = p[:, 1]\n",
    "df_test_group_1[\"prediction\"] = p\n",
    "df_test_group_1[\"prediction\"].head()"
   ]
  },
  {
   "cell_type": "code",
   "execution_count": 78,
   "metadata": {
    "collapsed": false,
    "deletable": true,
    "editable": true
   },
   "outputs": [],
   "source": [
    "df_test_group_1.fillna(0, inplace=True)"
   ]
  },
  {
   "cell_type": "code",
   "execution_count": 79,
   "metadata": {
    "collapsed": false,
    "deletable": true,
    "editable": true
   },
   "outputs": [
    {
     "name": "stdout",
     "output_type": "stream",
     "text": [
      "19918\n",
      "8838\n"
     ]
    }
   ],
   "source": [
    "print(len(df_test))\n",
    "print(len(df_test_group_1))\n",
    "df_test_group_1[[\"prediction\", \"user_id_id\"]]\n",
    "df_test_group_1[[\"prediction\", \"user_id_id\"]].to_csv(\"group1.csv\")\n",
    "df_test_group_1[[\"prediction\", \"user_id_id\"]].to_csv(\"only_flow_above_30regs.csv\")"
   ]
  },
  {
   "cell_type": "code",
   "execution_count": 413,
   "metadata": {
    "collapsed": false,
    "deletable": true,
    "editable": true
   },
   "outputs": [],
   "source": [
    "import gc\n",
    "gc.collect()\n",
    "del df_test_group_1"
   ]
  },
  {
   "cell_type": "code",
   "execution_count": null,
   "metadata": {
    "collapsed": true,
    "deletable": true,
    "editable": true
   },
   "outputs": [],
   "source": []
  },
  {
   "cell_type": "code",
   "execution_count": 103,
   "metadata": {
    "collapsed": false,
    "deletable": true,
    "editable": true
   },
   "outputs": [
    {
     "name": "stdout",
     "output_type": "stream",
     "text": [
      "7133\n",
      "8838\n"
     ]
    },
    {
     "data": {
      "text/plain": [
       "['Unnamed: 0',\n",
       " 'Unnamed: 0.1',\n",
       " 'genre_id',\n",
       " 'media_id',\n",
       " 'context_type',\n",
       " 'media_duration',\n",
       " 'listen_type',\n",
       " 'user_id',\n",
       " 'diff_ts_listen_AND_release_date_D',\n",
       " 'diff_ts_listen_AND_release_date_M',\n",
       " 'diff_ts_listen_AND_release_date_Y',\n",
       " 'release_date_DAY',\n",
       " 'release_date_MONTH',\n",
       " 'release_date_YEAR',\n",
       " 'diff_user_song_age',\n",
       " 'artist_albuns',\n",
       " 'artist_fans',\n",
       " 'artist_radio',\n",
       " 'media_bpm',\n",
       " 'media_rank',\n",
       " 'user_id_id',\n",
       " 'platform_name_1',\n",
       " 'platform_name_2',\n",
       " 'platform_family_1',\n",
       " 'platform_family_2',\n",
       " 'user_age_19',\n",
       " 'user_age_20',\n",
       " 'user_age_21',\n",
       " 'user_age_22',\n",
       " 'user_age_23',\n",
       " 'user_age_24',\n",
       " 'user_age_25',\n",
       " 'user_age_26',\n",
       " 'user_age_27',\n",
       " 'user_age_28',\n",
       " 'user_age_29',\n",
       " 'user_age_30',\n",
       " 'user_age_group_1',\n",
       " 'user_age_group_2',\n",
       " 'media_decade_2',\n",
       " 'media_decade_3',\n",
       " 'media_decade_4',\n",
       " 'media_decade_5',\n",
       " 'media_decade_6',\n",
       " 'media_decade_7',\n",
       " 'media_decade_8',\n",
       " 'media_decade_9',\n",
       " 'user_gender_1',\n",
       " 'user_age_group_1',\n",
       " 'user_age_group_2',\n",
       " 'ts_listen_DAY_OF_WEEK_1',\n",
       " 'ts_listen_DAY_OF_WEEK_2',\n",
       " 'ts_listen_DAY_OF_WEEK_3',\n",
       " 'ts_listen_DAY_OF_WEEK_4',\n",
       " 'ts_listen_DAY_OF_WEEK_5',\n",
       " 'ts_listen_DAY_OF_WEEK_6',\n",
       " 'ts_listen_PERIOD_OF_DAY_1',\n",
       " 'ts_listen_PERIOD_OF_DAY_2',\n",
       " 'ts_listen_PERIOD_OF_DAY_3']"
      ]
     },
     "execution_count": 103,
     "metadata": {},
     "output_type": "execute_result"
    }
   ],
   "source": [
    "import pandas as pd\n",
    "from greenpyce.feature_engineering import TargetEncoder\n",
    "from greenpyce.feature_engineering import onehot\n",
    "from greenpyce.feature_engineering import RankCategorical\n",
    "from greenpyce.feature_engineering import LabelCount\n",
    "df_train = pd.read_csv(\"../data/train_data4.csv\")\n",
    "df_test = pd.read_csv(\"../data/test_data4.csv\")\n",
    "\n",
    "df_train[\"user_id_id\"] = df_train[\"user_id\"]\n",
    "df_test[\"user_id_id\"] = df_test[\"user_id\"]\n",
    "\n",
    "df_train = df_train[df_train[\"listen_type\"] == 1]\n",
    "\n",
    "# df_user = pd.read_csv(\"../data/nmidia_feats.csv\", sep=\";\")\n",
    "# # pd.isnull(df_user).sum()[pd.isnull(df_user).sum() > 0]\n",
    "# df_user = df_user.drop([\"nmidia_with_flow_listened_PROP\", \"nmidia_regular_listened_PROP\", \"nmidia_PROP_diff\"], axis=1)\n",
    "# df_user.columns.values\n",
    "# df_train = pd.merge(df_train, df_user, on=\"user_id\")\n",
    "# df_test = pd.merge(df_test, df_user, on=\"user_id\")\n",
    "# del df_user\n",
    "\n",
    "\n",
    "### select users for general\n",
    "\n",
    "#df_train = df_train[df_train[\"user_id\"].isin(user_for_general_model)]\n",
    "\n",
    "threshold = 30\n",
    "\n",
    "register_count = df_train[\"user_id\"].value_counts()\n",
    "\n",
    "user_for_general_model = register_count[(register_count <= threshold)].index\n",
    "user_for_specific_model = register_count[(register_count > threshold)].index\n",
    "print(len(user_for_general_model))\n",
    "print(len(user_for_specific_model))\n",
    "\n",
    "cols_for_target_encoder = [\"genre_id\", \n",
    "                           \"context_type\", \n",
    "                           \"user_id\", \n",
    "                           \"media_id\", \n",
    "                           \"artist_radio\",\n",
    "                           \"listen_type\"]\n",
    "\n",
    "cols_for_onehot = [\"platform_name\", \n",
    "                   \"platform_family\", \n",
    "                   \"user_age\",\n",
    "                   \"user_age_group\",\n",
    "                   \"media_decade\",\n",
    "                   \"user_gender\", \n",
    "                   \"user_age_group\", \n",
    "                   \"ts_listen_DAY_OF_WEEK\",\n",
    "                  \"ts_listen_PERIOD_OF_DAY\"]\n",
    "\n",
    "cols_for_rank = [\"artist_id\",\n",
    "                \"artist_fans\"]\n",
    "\n",
    "\n",
    "target = \"is_listened\"\n",
    "\n",
    "df_test = df_test[df_test[\"user_id\"].isin(user_for_general_model)]\n",
    "df_train.columns\n",
    "\n",
    "te = TargetEncoder(cols_for_target_encoder, \"is_listened\")\n",
    "te.fit(df_train)\n",
    "te.transform(df_train)\n",
    "te.transform(df_test)\n",
    "del te\n",
    "\n",
    "rc = RankCategorical(cols_for_rank)\n",
    "rc.fit(df_train)\n",
    "rc.transform(df_train)\n",
    "rc.transform(df_test)\n",
    "del rc\n",
    "\n",
    "rc = RankCategorical([\"media_decade\"])\n",
    "rc.fit(df_train)\n",
    "rc.transform(df_train)\n",
    "rc.transform(df_test)\n",
    "del rc\n",
    "\n",
    "df_train = onehot(df_train, cols_for_onehot)\n",
    "df_test = onehot(df_test, cols_for_onehot)\n",
    "\n",
    "%timeit\n",
    "### Drop\n",
    "to_drop = ['ts_listen', 'album_id', 'release_date', 'artist_id', \"year\", \"text\"]#, \"nmidia_with_flow_listened_PROP\", \"nmidia_PROP_diff\", \"nmidia_regular_listened_PROP\"]\n",
    "df_train.drop(to_drop, axis = 1,inplace=True)\n",
    "df_test.drop(to_drop, axis = 1,inplace=True)\n",
    "\n",
    "features = [col for col in df_train.columns.values if col != target]\n",
    "features"
   ]
  },
  {
   "cell_type": "code",
   "execution_count": 104,
   "metadata": {
    "collapsed": false,
    "deletable": true,
    "editable": true
   },
   "outputs": [
    {
     "data": {
      "text/plain": [
       "['Unnamed: 0',\n",
       " 'Unnamed: 0.1',\n",
       " 'genre_id',\n",
       " 'media_id',\n",
       " 'context_type',\n",
       " 'media_duration',\n",
       " 'listen_type',\n",
       " 'user_id',\n",
       " 'diff_ts_listen_AND_release_date_D',\n",
       " 'diff_ts_listen_AND_release_date_M',\n",
       " 'diff_ts_listen_AND_release_date_Y',\n",
       " 'release_date_DAY',\n",
       " 'release_date_MONTH',\n",
       " 'release_date_YEAR',\n",
       " 'diff_user_song_age',\n",
       " 'artist_albuns',\n",
       " 'artist_fans',\n",
       " 'artist_radio',\n",
       " 'media_bpm',\n",
       " 'media_rank',\n",
       " 'user_id_id',\n",
       " 'platform_name_1',\n",
       " 'platform_name_2',\n",
       " 'platform_family_1',\n",
       " 'platform_family_2',\n",
       " 'user_age_19',\n",
       " 'user_age_20',\n",
       " 'user_age_21',\n",
       " 'user_age_22',\n",
       " 'user_age_23',\n",
       " 'user_age_24',\n",
       " 'user_age_25',\n",
       " 'user_age_26',\n",
       " 'user_age_27',\n",
       " 'user_age_28',\n",
       " 'user_age_29',\n",
       " 'user_age_30',\n",
       " 'user_age_group_1',\n",
       " 'user_age_group_2',\n",
       " 'media_decade_2',\n",
       " 'media_decade_3',\n",
       " 'media_decade_4',\n",
       " 'media_decade_5',\n",
       " 'media_decade_6',\n",
       " 'media_decade_7',\n",
       " 'media_decade_8',\n",
       " 'media_decade_9',\n",
       " 'user_gender_1',\n",
       " 'user_age_group_1',\n",
       " 'user_age_group_2',\n",
       " 'ts_listen_DAY_OF_WEEK_1',\n",
       " 'ts_listen_DAY_OF_WEEK_2',\n",
       " 'ts_listen_DAY_OF_WEEK_3',\n",
       " 'ts_listen_DAY_OF_WEEK_4',\n",
       " 'ts_listen_DAY_OF_WEEK_5',\n",
       " 'ts_listen_DAY_OF_WEEK_6',\n",
       " 'ts_listen_PERIOD_OF_DAY_1',\n",
       " 'ts_listen_PERIOD_OF_DAY_2',\n",
       " 'ts_listen_PERIOD_OF_DAY_3']"
      ]
     },
     "execution_count": 104,
     "metadata": {},
     "output_type": "execute_result"
    }
   ],
   "source": [
    "features"
   ]
  },
  {
   "cell_type": "code",
   "execution_count": 105,
   "metadata": {
    "collapsed": false,
    "deletable": true,
    "editable": true
   },
   "outputs": [
    {
     "data": {
      "text/plain": [
       "7133"
      ]
     },
     "execution_count": 105,
     "metadata": {},
     "output_type": "execute_result"
    }
   ],
   "source": [
    "len(df_test)"
   ]
  },
  {
   "cell_type": "code",
   "execution_count": 106,
   "metadata": {
    "autoscroll": "json-false",
    "collapsed": false,
    "deletable": true,
    "editable": true,
    "ein.tags": [
     "worksheet-0"
    ],
    "slideshow": {
     "slide_type": "-"
    }
   },
   "outputs": [],
   "source": [
    "features =['genre_id', \n",
    "           'media_id', \n",
    "           'context_type', \n",
    "    #       'media_duration', \n",
    "           'listen_type', \n",
    "    #       'user_id', \n",
    "   #        'diff_ts_listen_AND_release_date_D', \n",
    "           'diff_ts_listen_AND_release_date_M', \n",
    "   #        'diff_ts_listen_AND_release_date_Y', \n",
    "    #       'release_date_YEAR', \n",
    "           'diff_user_song_age', \n",
    "           'artist_albuns', \n",
    "           'artist_fans', \n",
    "           'artist_radio', \n",
    "           'media_bpm', \n",
    "           'media_rank', \n",
    "           #'user_id_id', \n",
    "#            'nmidia_regular_listened', \n",
    "#            'nmidia_with_flow_listened', \n",
    "#            'nmidia_regular', \n",
    "#            'nmidia_with_flow', \n",
    "           'platform_name_1', \n",
    "           'platform_name_2', \n",
    "           'platform_family_1', \n",
    "           'platform_family_2', \n",
    "           'user_age_19', \n",
    "           'user_age_20', \n",
    "           'user_age_21', \n",
    "           'user_age_22', \n",
    "           'user_age_23', \n",
    "           'user_age_25', \n",
    "           'user_age_26', \n",
    "           'user_age_27', \n",
    "           'user_age_28', \n",
    "           'user_age_29', \n",
    "           'user_age_30', \n",
    "           'user_age_group_1',\n",
    "           'user_age_group_2', \n",
    "#            'media_decade_1', \n",
    "           'media_decade_2',\n",
    "           'media_decade_5', \n",
    "           'media_decade_7', \n",
    "           'media_decade_8', \n",
    "           'user_gender_1', \n",
    "           'user_age_group_1', \n",
    "           'user_age_group_2', \n",
    "           'ts_listen_DAY_OF_WEEK_1',\n",
    "           'ts_listen_DAY_OF_WEEK_2', \n",
    "           'ts_listen_DAY_OF_WEEK_3', \n",
    "           'ts_listen_DAY_OF_WEEK_4', \n",
    "           'ts_listen_DAY_OF_WEEK_5',\n",
    "           'ts_listen_PERIOD_OF_DAY_2', \n",
    "           'ts_listen_PERIOD_OF_DAY_3']"
   ]
  },
  {
   "cell_type": "markdown",
   "metadata": {
    "deletable": true,
    "editable": true
   },
   "source": [
    "['genre_id', 'media_id', 'context_type', 'media_duration', 'listen_type', 'user_id', 'diff_ts_listen_AND_release_date_D', 'diff_ts_listen_AND_release_date_M', 'diff_ts_listen_AND_release_date_Y', 'release_date_YEAR', 'diff_user_song_age', 'artist_albuns', 'artist_fans', 'artist_radio', 'media_bpm', 'media_rank', 'user_id_id', 'nmidia_regular_listened', 'nmidia_with_flow_listened', 'nmidia_regular', 'nmidia_with_flow', 'platform_name_1', 'platform_name_2', 'platform_family_1', 'platform_family_2', 'user_age_19', 'user_age_20', 'user_age_21', 'user_age_22', 'user_age_23', 'user_age_25', 'user_age_26', 'user_age_27', 'user_age_28', 'user_age_29', 'user_age_30', 'user_age_group_1', 'user_age_group_2', 'media_decade_1', 'media_decade_2', 'media_decade_5', 'media_decade_7', 'media_decade_8', 'user_gender_1', 'user_age_group_1', 'user_age_group_2', 'ts_listen_DAY_OF_WEEK_1', 'ts_listen_DAY_OF_WEEK_2', 'ts_listen_DAY_OF_WEEK_3', 'ts_listen_DAY_OF_WEEK_4', 'ts_listen_DAY_OF_WEEK_5', 'ts_listen_PERIOD_OF_DAY_2', 'ts_listen_PERIOD_OF_DAY_3']"
   ]
  },
  {
   "cell_type": "code",
   "execution_count": 107,
   "metadata": {
    "collapsed": false,
    "deletable": true,
    "editable": true
   },
   "outputs": [
    {
     "data": {
      "text/plain": [
       "0"
      ]
     },
     "execution_count": 107,
     "metadata": {},
     "output_type": "execute_result"
    }
   ],
   "source": [
    "### 0.7678\n",
    "\n",
    "for column in features:\n",
    "    try:\n",
    "        df_test[column] = df_test[column].fillna(df_train[column].mean(skipna=True))\n",
    "    except:\n",
    "        df_test[column] = 0\n",
    "\n",
    "#df_test = df_test.fillna(df_train.mean(skipna=True), axis=1)\n",
    "df_test = df_test.applymap(lambda x : float(x))\n",
    "pd.isnull(df_test).sum().sum()"
   ]
  },
  {
   "cell_type": "code",
   "execution_count": 108,
   "metadata": {
    "collapsed": false,
    "deletable": true,
    "editable": true
   },
   "outputs": [],
   "source": [
    "# df_test = df_test.fillna(df_train.mean(skipna=True).to_dict, axis=1)#.dropna(axis=1, how='all')\n",
    "# pd.isnull(df_test).sum()\n",
    "# df_train.mean(skipna=True).to_dict"
   ]
  },
  {
   "cell_type": "code",
   "execution_count": 109,
   "metadata": {
    "autoscroll": "json-false",
    "collapsed": false,
    "deletable": true,
    "editable": true,
    "ein.tags": [
     "worksheet-0"
    ],
    "slideshow": {
     "slide_type": "-"
    }
   },
   "outputs": [
    {
     "name": "stdout",
     "output_type": "stream",
     "text": [
      "39 selected variables from 42, 92.86%\n",
      "['genre_id', 'media_id', 'context_type', 'listen_type', 'diff_ts_listen_AND_release_date_M', 'diff_user_song_age', 'artist_fans', 'artist_radio', 'media_rank', 'platform_name_1', 'platform_name_2', 'platform_family_1', 'platform_family_2', 'user_age_19', 'user_age_20', 'user_age_21', 'user_age_22', 'user_age_23', 'user_age_25', 'user_age_26', 'user_age_27', 'user_age_28', 'user_age_29', 'user_age_30', 'user_age_group_1', 'user_age_group_2', 'media_decade_2', 'media_decade_5', 'media_decade_7', 'media_decade_8', 'user_age_group_1', 'user_age_group_2', 'ts_listen_DAY_OF_WEEK_1', 'ts_listen_DAY_OF_WEEK_2', 'ts_listen_DAY_OF_WEEK_3', 'ts_listen_DAY_OF_WEEK_4', 'ts_listen_DAY_OF_WEEK_5', 'ts_listen_PERIOD_OF_DAY_2', 'ts_listen_PERIOD_OF_DAY_3']\n"
     ]
    }
   ],
   "source": [
    "from sklearn.model_selection import train_test_split\n",
    "X_train, X_test, y_train, y_test = train_test_split(df_train[features], df_train[target], test_size = 0.2)\n",
    "\n",
    "from sklearn import feature_selection\n",
    "all_features = features\n",
    "function_rule_selection = feature_selection.f_classif\n",
    "alpha_cutoff = 0.001\n",
    "\n",
    "selection_rule = feature_selection.SelectFdr(function_rule_selection, alpha_cutoff)\n",
    "selection_rule.fit(X_train, y_train);\n",
    "\n",
    "all_pvalues = list(filter(lambda x: pd.notnull(x[0]), zip(selection_rule.pvalues_, all_features)))\n",
    "#print(all_pvalues)\n",
    "filtered_pvalues = list(filter(lambda x: x[0]<=alpha_cutoff, all_pvalues))\n",
    "#print(filtered_pvalues)\n",
    "all_select_features = list(map(lambda x: x[1], filtered_pvalues))\n",
    "\n",
    "print(\"{0} selected variables from {1}, {2:.2f}%\".format(len(all_select_features), \n",
    "                                                        len(all_features), \n",
    "                                                        len(filtered_pvalues)*100/float(len(all_features))))\n",
    "print(all_select_features)\n",
    "#print(filtered_pvalues)\n",
    "\n",
    "features = all_select_features\n",
    "X_train, X_test, y_train, y_test = train_test_split(df_train[features], df_train[target], test_size = 0.2)"
   ]
  },
  {
   "cell_type": "code",
   "execution_count": 110,
   "metadata": {
    "autoscroll": "json-false",
    "collapsed": false,
    "deletable": true,
    "editable": true,
    "ein.tags": [
     "worksheet-0"
    ],
    "slideshow": {
     "slide_type": "-"
    }
   },
   "outputs": [
    {
     "data": {
      "text/plain": [
       "0.66351886739581223"
      ]
     },
     "execution_count": 110,
     "metadata": {},
     "output_type": "execute_result"
    }
   ],
   "source": [
    "from sklearn.ensemble import RandomForestClassifier\n",
    "\n",
    "model = RandomForestClassifier(n_jobs=-1)\n",
    "model.fit(X_train, y_train)\n",
    "model.score(X_test, y_test)"
   ]
  },
  {
   "cell_type": "code",
   "execution_count": 111,
   "metadata": {
    "autoscroll": "json-false",
    "collapsed": false,
    "deletable": true,
    "editable": true,
    "ein.tags": [
     "worksheet-0"
    ],
    "slideshow": {
     "slide_type": "-"
    }
   },
   "outputs": [
    {
     "data": {
      "text/plain": [
       "0     0.3\n",
       "1     0.8\n",
       "3     0.9\n",
       "14    0.3\n",
       "16    0.4\n",
       "Name: prediction, dtype: float64"
      ]
     },
     "execution_count": 111,
     "metadata": {},
     "output_type": "execute_result"
    }
   ],
   "source": [
    "df_test_group_2 = df_test #[df_test[\"user_id\"].isin(user_for_general_model)].copy(deep=True)\n",
    "df_test_group_2[\"media_decade_7\"] = 0\n",
    "p = model.predict_proba(df_test_group_2[features])\n",
    "p = p[:, 1]\n",
    "df_test_group_2[\"prediction\"] = p\n",
    "df_test_group_2[\"prediction\"].head()"
   ]
  },
  {
   "cell_type": "code",
   "execution_count": 112,
   "metadata": {
    "autoscroll": "json-false",
    "collapsed": false,
    "deletable": true,
    "editable": true,
    "ein.tags": [
     "worksheet-0"
    ],
    "slideshow": {
     "slide_type": "-"
    }
   },
   "outputs": [],
   "source": [
    "df_test_group_2[[\"user_id_id\", \"prediction\"]].to_csv(\"group2.csv\")"
   ]
  },
  {
   "cell_type": "code",
   "execution_count": 113,
   "metadata": {
    "collapsed": true,
    "deletable": true,
    "editable": true
   },
   "outputs": [],
   "source": [
    "df_test_group_1 = pd.read_csv(\"group1.csv\", index_col=\"user_id_id\")\n",
    "df_test_group_2 = pd.read_csv(\"group2.csv\", index_col=\"user_id_id\")"
   ]
  },
  {
   "cell_type": "code",
   "execution_count": 114,
   "metadata": {
    "autoscroll": "json-false",
    "collapsed": false,
    "deletable": true,
    "editable": true,
    "ein.tags": [
     "worksheet-0"
    ],
    "slideshow": {
     "slide_type": "-"
    }
   },
   "outputs": [],
   "source": [
    "df_test = pd.read_csv(\"../data/test_data4.csv\")\n",
    "#df_test = df_test[\"user_id\"]\n",
    "#df_test[\"user_id_id\"] = df_test[\"user_id\"]\n",
    "# df_test = pd.merge(df_test, df_test_group_1[[\"user_id\", \"prediction\"]], on=\"user_id\")\n",
    "# df_test = pd.merge(df_test, df_test_group_2[[\"user_id\", \"prediction\"]], on=\"user_id\")\n",
    "df_test = pd.merge(df_test, df_test_group_1[[\"prediction\"]], left_on=\"user_id\", right_index=True, how=\"outer\")\n",
    "#df_test.join(df_test_group_2[[\"prediction\"]])\n",
    "df_test = pd.merge(df_test, df_test_group_2[[\"prediction\"]], left_on=\"user_id\", right_index=True, how=\"outer\")"
   ]
  },
  {
   "cell_type": "code",
   "execution_count": 115,
   "metadata": {
    "collapsed": false,
    "deletable": true,
    "editable": true
   },
   "outputs": [
    {
     "name": "stdout",
     "output_type": "stream",
     "text": [
      "19918\n",
      "7133\n",
      "19918\n"
     ]
    }
   ],
   "source": [
    "print(len(df_test_group_1))\n",
    "print(len(df_test_group_2))\n",
    "print(len(df_test))"
   ]
  },
  {
   "cell_type": "code",
   "execution_count": 116,
   "metadata": {
    "collapsed": false,
    "deletable": true,
    "editable": true
   },
   "outputs": [],
   "source": [
    "#pd.set_option(\"precision\", 10)\n",
    "#df_test_group_2[[\"user_id\", \"prediction\"]].head()\n",
    "a = pd.read_csv(\"../data/test_data4.csv\")"
   ]
  },
  {
   "cell_type": "code",
   "execution_count": 117,
   "metadata": {
    "collapsed": false,
    "deletable": true,
    "editable": true
   },
   "outputs": [
    {
     "data": {
      "text/plain": [
       "0    17698\n",
       "1    10525\n",
       "2     8716\n",
       "3     5443\n",
       "4     7600\n",
       "Name: user_id, dtype: int64"
      ]
     },
     "execution_count": 117,
     "metadata": {},
     "output_type": "execute_result"
    }
   ],
   "source": [
    "a[\"user_id\"].head()"
   ]
  },
  {
   "cell_type": "code",
   "execution_count": 118,
   "metadata": {
    "collapsed": false,
    "deletable": true,
    "editable": true
   },
   "outputs": [
    {
     "data": {
      "text/html": [
       "<div>\n",
       "<table border=\"1\" class=\"dataframe\">\n",
       "  <thead>\n",
       "    <tr style=\"text-align: right;\">\n",
       "      <th></th>\n",
       "      <th>Unnamed: 0</th>\n",
       "      <th>Unnamed: 0.1</th>\n",
       "      <th>sample_id</th>\n",
       "      <th>genre_id</th>\n",
       "      <th>ts_listen</th>\n",
       "      <th>media_id</th>\n",
       "      <th>album_id</th>\n",
       "      <th>context_type</th>\n",
       "      <th>release_date</th>\n",
       "      <th>platform_name</th>\n",
       "      <th>...</th>\n",
       "      <th>user_age_group</th>\n",
       "      <th>diff_user_song_age</th>\n",
       "      <th>media_decade</th>\n",
       "      <th>media_bpm</th>\n",
       "      <th>media_rank</th>\n",
       "      <th>artist_albuns</th>\n",
       "      <th>artist_fans</th>\n",
       "      <th>artist_radio</th>\n",
       "      <th>prediction_x</th>\n",
       "      <th>prediction_y</th>\n",
       "    </tr>\n",
       "  </thead>\n",
       "  <tbody>\n",
       "    <tr>\n",
       "      <th>0</th>\n",
       "      <td>0</td>\n",
       "      <td>0</td>\n",
       "      <td>0</td>\n",
       "      <td>50</td>\n",
       "      <td>2016-11-02 14:32:51</td>\n",
       "      <td>683078</td>\n",
       "      <td>82356</td>\n",
       "      <td>1</td>\n",
       "      <td>2002-10-08 00:00:00</td>\n",
       "      <td>0</td>\n",
       "      <td>...</td>\n",
       "      <td>2</td>\n",
       "      <td>15.920548</td>\n",
       "      <td>7</td>\n",
       "      <td>181.0</td>\n",
       "      <td>293191.0</td>\n",
       "      <td>25.0</td>\n",
       "      <td>31649.0</td>\n",
       "      <td>1.0</td>\n",
       "      <td>0.8</td>\n",
       "      <td>0.3</td>\n",
       "    </tr>\n",
       "    <tr>\n",
       "      <th>1</th>\n",
       "      <td>1</td>\n",
       "      <td>1</td>\n",
       "      <td>1</td>\n",
       "      <td>2744</td>\n",
       "      <td>2016-11-16 15:25:40</td>\n",
       "      <td>876497</td>\n",
       "      <td>99692</td>\n",
       "      <td>1</td>\n",
       "      <td>1985-12-31 00:00:00</td>\n",
       "      <td>0</td>\n",
       "      <td>...</td>\n",
       "      <td>2</td>\n",
       "      <td>-2.898630</td>\n",
       "      <td>5</td>\n",
       "      <td>88.0</td>\n",
       "      <td>743839.0</td>\n",
       "      <td>10.0</td>\n",
       "      <td>585650.0</td>\n",
       "      <td>1.0</td>\n",
       "      <td>0.4</td>\n",
       "      <td>0.8</td>\n",
       "    </tr>\n",
       "    <tr>\n",
       "      <th>2</th>\n",
       "      <td>2</td>\n",
       "      <td>2</td>\n",
       "      <td>2</td>\n",
       "      <td>2744</td>\n",
       "      <td>2016-11-19 07:06:01</td>\n",
       "      <td>876497</td>\n",
       "      <td>99692</td>\n",
       "      <td>1</td>\n",
       "      <td>1985-12-31 00:00:00</td>\n",
       "      <td>0</td>\n",
       "      <td>...</td>\n",
       "      <td>2</td>\n",
       "      <td>-3.906849</td>\n",
       "      <td>5</td>\n",
       "      <td>88.0</td>\n",
       "      <td>743839.0</td>\n",
       "      <td>10.0</td>\n",
       "      <td>585650.0</td>\n",
       "      <td>1.0</td>\n",
       "      <td>0.7</td>\n",
       "      <td>NaN</td>\n",
       "    </tr>\n",
       "    <tr>\n",
       "      <th>3</th>\n",
       "      <td>3</td>\n",
       "      <td>3</td>\n",
       "      <td>3</td>\n",
       "      <td>2744</td>\n",
       "      <td>2016-11-06 16:42:09</td>\n",
       "      <td>876500</td>\n",
       "      <td>99692</td>\n",
       "      <td>1</td>\n",
       "      <td>1985-12-31 00:00:00</td>\n",
       "      <td>2</td>\n",
       "      <td>...</td>\n",
       "      <td>2</td>\n",
       "      <td>-0.871233</td>\n",
       "      <td>5</td>\n",
       "      <td>107.0</td>\n",
       "      <td>630042.0</td>\n",
       "      <td>10.0</td>\n",
       "      <td>585650.0</td>\n",
       "      <td>1.0</td>\n",
       "      <td>0.9</td>\n",
       "      <td>0.9</td>\n",
       "    </tr>\n",
       "    <tr>\n",
       "      <th>4</th>\n",
       "      <td>4</td>\n",
       "      <td>4</td>\n",
       "      <td>4</td>\n",
       "      <td>2744</td>\n",
       "      <td>2016-11-29 17:42:40</td>\n",
       "      <td>876504</td>\n",
       "      <td>99692</td>\n",
       "      <td>1</td>\n",
       "      <td>1985-12-31 00:00:00</td>\n",
       "      <td>2</td>\n",
       "      <td>...</td>\n",
       "      <td>2</td>\n",
       "      <td>-1.934247</td>\n",
       "      <td>5</td>\n",
       "      <td>110.0</td>\n",
       "      <td>372256.0</td>\n",
       "      <td>10.0</td>\n",
       "      <td>585650.0</td>\n",
       "      <td>1.0</td>\n",
       "      <td>0.9</td>\n",
       "      <td>NaN</td>\n",
       "    </tr>\n",
       "  </tbody>\n",
       "</table>\n",
       "<p>5 rows × 37 columns</p>\n",
       "</div>"
      ],
      "text/plain": [
       "   Unnamed: 0  Unnamed: 0.1  sample_id  genre_id            ts_listen  media_id  album_id  context_type         release_date  platform_name      ...       user_age_group  diff_user_song_age  \\\n",
       "0           0             0          0        50  2016-11-02 14:32:51    683078     82356             1  2002-10-08 00:00:00              0      ...                    2           15.920548   \n",
       "1           1             1          1      2744  2016-11-16 15:25:40    876497     99692             1  1985-12-31 00:00:00              0      ...                    2           -2.898630   \n",
       "2           2             2          2      2744  2016-11-19 07:06:01    876497     99692             1  1985-12-31 00:00:00              0      ...                    2           -3.906849   \n",
       "3           3             3          3      2744  2016-11-06 16:42:09    876500     99692             1  1985-12-31 00:00:00              2      ...                    2           -0.871233   \n",
       "4           4             4          4      2744  2016-11-29 17:42:40    876504     99692             1  1985-12-31 00:00:00              2      ...                    2           -1.934247   \n",
       "\n",
       "   media_decade  media_bpm  media_rank  artist_albuns  artist_fans artist_radio  prediction_x  prediction_y  \n",
       "0             7      181.0    293191.0           25.0      31649.0          1.0           0.8           0.3  \n",
       "1             5       88.0    743839.0           10.0     585650.0          1.0           0.4           0.8  \n",
       "2             5       88.0    743839.0           10.0     585650.0          1.0           0.7           NaN  \n",
       "3             5      107.0    630042.0           10.0     585650.0          1.0           0.9           0.9  \n",
       "4             5      110.0    372256.0           10.0     585650.0          1.0           0.9           NaN  \n",
       "\n",
       "[5 rows x 37 columns]"
      ]
     },
     "execution_count": 118,
     "metadata": {},
     "output_type": "execute_result"
    }
   ],
   "source": [
    "df_test.head()"
   ]
  },
  {
   "cell_type": "code",
   "execution_count": 119,
   "metadata": {
    "collapsed": true,
    "deletable": true,
    "editable": true
   },
   "outputs": [],
   "source": [
    "df_test[\"prediction_x\"].fillna(0, inplace=True)\n",
    "df_test[\"prediction_y\"].fillna(0, inplace=True)\n",
    "df_test[\"prediction\"] = df_test[\"prediction_x\"] + df_test[\"prediction_y\"]"
   ]
  },
  {
   "cell_type": "code",
   "execution_count": 120,
   "metadata": {
    "collapsed": false,
    "deletable": true,
    "editable": true
   },
   "outputs": [
    {
     "data": {
      "text/plain": [
       "0    1.1\n",
       "1    1.2\n",
       "2    0.7\n",
       "3    1.8\n",
       "4    0.9\n",
       "Name: prediction, dtype: float64"
      ]
     },
     "execution_count": 120,
     "metadata": {},
     "output_type": "execute_result"
    }
   ],
   "source": [
    "df_test[\"prediction\"].head()"
   ]
  },
  {
   "cell_type": "code",
   "execution_count": 121,
   "metadata": {
    "collapsed": false,
    "deletable": true,
    "editable": true
   },
   "outputs": [
    {
     "data": {
      "text/plain": [
       "0.90000000000000002"
      ]
     },
     "execution_count": 121,
     "metadata": {},
     "output_type": "execute_result"
    }
   ],
   "source": [
    "df_test.ix[8716][\"prediction\"]"
   ]
  },
  {
   "cell_type": "code",
   "execution_count": 122,
   "metadata": {
    "collapsed": false,
    "deletable": true,
    "editable": true
   },
   "outputs": [
    {
     "data": {
      "text/plain": [
       "array([ 1.1,  1.2,  0.7,  1.8,  0.9])"
      ]
     },
     "execution_count": 122,
     "metadata": {},
     "output_type": "execute_result"
    }
   ],
   "source": [
    "df_test[\"prediction\"].values[:5]"
   ]
  },
  {
   "cell_type": "code",
   "execution_count": 123,
   "metadata": {
    "collapsed": false,
    "deletable": true,
    "editable": true
   },
   "outputs": [
    {
     "data": {
      "text/plain": [
       "19918"
      ]
     },
     "execution_count": 123,
     "metadata": {},
     "output_type": "execute_result"
    }
   ],
   "source": [
    "len(df_test)"
   ]
  },
  {
   "cell_type": "code",
   "execution_count": 124,
   "metadata": {
    "collapsed": false,
    "deletable": true,
    "editable": true
   },
   "outputs": [
    {
     "data": {
      "text/plain": [
       "3622"
      ]
     },
     "execution_count": 124,
     "metadata": {},
     "output_type": "execute_result"
    }
   ],
   "source": [
    "(df_test[\"prediction\"] > 1.0).sum()"
   ]
  },
  {
   "cell_type": "code",
   "execution_count": 125,
   "metadata": {
    "collapsed": false,
    "deletable": true,
    "editable": true
   },
   "outputs": [
    {
     "data": {
      "text/plain": [
       "0"
      ]
     },
     "execution_count": 125,
     "metadata": {},
     "output_type": "execute_result"
    }
   ],
   "source": [
    "pd.isnull(df_test[\"prediction_y\"]).sum()"
   ]
  },
  {
   "cell_type": "code",
   "execution_count": 437,
   "metadata": {
    "collapsed": true,
    "deletable": true,
    "editable": true
   },
   "outputs": [],
   "source": [
    "#df_test[\"prediction\"] = df_test[\"prediction\"].apply(lambda x : 1 if x > 1 else x)"
   ]
  },
  {
   "cell_type": "code",
   "execution_count": 93,
   "metadata": {
    "autoscroll": "json-false",
    "collapsed": false,
    "deletable": true,
    "editable": true,
    "ein.tags": [
     "worksheet-0"
    ],
    "slideshow": {
     "slide_type": "-"
    }
   },
   "outputs": [],
   "source": [
    "import gzip\n",
    "import csv\n",
    "import numpy as np\n",
    "\n",
    "def build_kaggle_submission(preds, filename=\"my_submission\"):\n",
    "    \"\"\"\n",
    "    Build a compressed Kaggle Submission\n",
    "    \n",
    "    preds: array with predictions\n",
    "    \"\"\"\n",
    "    with gzip.open(filename + '.csv.gz', 'wt') as outf:\n",
    "        fo = csv.writer(outf, lineterminator='\\n')\n",
    "        fo.writerow([\"sample_id\", \"is_listened\"])       \n",
    "        for i, pred in enumerate(preds):\n",
    "            fo.writerow([i, pred])"
   ]
  },
  {
   "cell_type": "code",
   "execution_count": 94,
   "metadata": {
    "autoscroll": "json-false",
    "collapsed": false,
    "deletable": true,
    "editable": true,
    "ein.tags": [
     "worksheet-0"
    ],
    "slideshow": {
     "slide_type": "-"
    }
   },
   "outputs": [],
   "source": [
    "#p = model.predict_proba(df_test[features])\n",
    "#p = p[:, 1]\n",
    "p = df_test[\"prediction\"].values"
   ]
  },
  {
   "cell_type": "code",
   "execution_count": 95,
   "metadata": {
    "autoscroll": "json-false",
    "collapsed": false,
    "deletable": true,
    "editable": true,
    "ein.tags": [
     "worksheet-0"
    ],
    "slideshow": {
     "slide_type": "-"
    }
   },
   "outputs": [],
   "source": [
    "build_kaggle_submission(p, \"note12_5\")"
   ]
  },
  {
   "cell_type": "code",
   "execution_count": 96,
   "metadata": {
    "autoscroll": "json-false",
    "collapsed": false,
    "deletable": true,
    "editable": true,
    "ein.tags": [
     "worksheet-0"
    ],
    "slideshow": {
     "slide_type": "-"
    }
   },
   "outputs": [
    {
     "name": "stdout",
     "output_type": "stream",
     "text": [
      "1617.586942\n",
      "9.560672\n",
      "6.4e-05\n"
     ]
    }
   ],
   "source": [
    "import sys\n",
    "print(sys.getsizeof(df_train) / 1e6)\n",
    "print(sys.getsizeof(df_test) / 1e6)\n",
    "print(sys.getsizeof(model) / 1e6)"
   ]
  },
  {
   "cell_type": "code",
   "execution_count": 97,
   "metadata": {
    "collapsed": false,
    "deletable": true,
    "editable": true
   },
   "outputs": [
    {
     "name": "stdout",
     "output_type": "stream",
     "text": [
      "0-EDA.ipynb\r\n",
      "10 - XGBoost + Threshold + data_4.ipynb\r\n",
      "11 - XGBoost + Two Models | Data4.ipynb\r\n",
      "12 - Simple Model + Threshold + Feat_Eng | data4.ipynb\r\n",
      "13 - Sampler representativo da submisssao.ipynb\r\n",
      "14 - vqv.ipynb\r\n",
      "1 - First Model.ipynb\r\n",
      "2_models_user_groups.csv.gz\r\n",
      "2 - Simple Model + Features.ipynb\r\n",
      "3 - Simple Model + User Specific.ipynb\r\n",
      "4 - XGBoost + User Specific.ipynb\r\n",
      "5 - XGBoost + Feature Selection.ipynb\r\n",
      "6 - Simple Model + User Specific + Some fixes.ipynb\r\n",
      "7 - Simple Model + User Specific + 2 models-Copy1.ipynb\r\n",
      "7 - Simple Model + User Specific + 2 models.ipynb\r\n",
      "8 - Deezer_API_features.ipynb\r\n",
      "8 - Simple Model + User Specific + 2 models thresholds.ipynb\r\n",
      "9 - Simple Model + Threshold + data_4.ipynb\r\n",
      "Construindo Funcoes pro DataGame.ipynb\r\n",
      "Feature Engineering.ipynb\r\n",
      "Feature Engineering - User Specific.ipynb\r\n",
      "features.py\r\n",
      "group1.csv\r\n",
      "group2.csv\r\n",
      "img\r\n",
      "nmidia_feats.csv\r\n",
      "note12_1.csv.gz\r\n",
      "note12_2.csv.gz\r\n",
      "note12_3.csv.gz\r\n",
      "note12_4.csv.gz\r\n",
      "note12_5.csv.gz\r\n",
      "__pycache__\r\n",
      "qtd_musicas_diferentes_flow_noflow.csv\r\n",
      "rand_2m_data4_2.csv.gz\r\n",
      "rand_2m_data4.csv.gz\r\n",
      "rand_2_models.csv.gz\r\n",
      "rand_2_models_fix.csv.gz\r\n",
      "rand_2_models_threshold_15.csv.gz\r\n",
      "rand_2_models_threshold_1.csv.gz\r\n",
      "rand_2_models_threshold_2.csv.gz\r\n",
      "rand_2_models_threshold_30.csv.gz\r\n",
      "rand_2_models_threshold_5.csv.gz\r\n",
      "rand_all_data_m2.csv.gz\r\n",
      "rand_test.csv.gz\r\n",
      "submissions\r\n",
      "test_user.csv\r\n",
      "Untitled.ipynb\r\n",
      "xgb_all_data_m2.csv.gz\r\n",
      "XGBoost.ipynb\r\n"
     ]
    }
   ],
   "source": [
    "!ls"
   ]
  },
  {
   "cell_type": "code",
   "execution_count": null,
   "metadata": {
    "collapsed": true,
    "deletable": true,
    "editable": true
   },
   "outputs": [],
   "source": []
  },
  {
   "cell_type": "code",
   "execution_count": null,
   "metadata": {
    "collapsed": true,
    "deletable": true,
    "editable": true
   },
   "outputs": [],
   "source": []
  },
  {
   "cell_type": "code",
   "execution_count": null,
   "metadata": {
    "collapsed": true,
    "deletable": true,
    "editable": true
   },
   "outputs": [],
   "source": []
  },
  {
   "cell_type": "code",
   "execution_count": null,
   "metadata": {
    "collapsed": true,
    "deletable": true,
    "editable": true
   },
   "outputs": [],
   "source": []
  },
  {
   "cell_type": "code",
   "execution_count": null,
   "metadata": {
    "collapsed": true,
    "deletable": true,
    "editable": true
   },
   "outputs": [],
   "source": []
  }
 ],
 "metadata": {
  "kernelspec": {
   "display_name": "Python 2",
   "language": "python",
   "name": "python2"
  },
  "language_info": {
   "codemirror_mode": {
    "name": "ipython",
    "version": 2
   },
   "file_extension": ".py",
   "mimetype": "text/x-python",
   "name": "python",
   "nbconvert_exporter": "python",
   "pygments_lexer": "ipython2",
   "version": "2.7.13"
  },
  "name": "6 - Simple Model + User Specific + 2 models.ipynb"
 },
 "nbformat": 4,
 "nbformat_minor": 2
}
