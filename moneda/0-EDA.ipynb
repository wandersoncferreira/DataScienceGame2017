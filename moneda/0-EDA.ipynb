{
 "cells": [
  {
   "cell_type": "code",
   "execution_count": 1,
   "metadata": {
    "collapsed": true,
    "deletable": true,
    "editable": true
   },
   "outputs": [],
   "source": [
    "import pandas as pd\n",
    "df_train = pd.read_csv(\"../data/train.csv\")\n",
    "df_test = pd.read_csv(\"../data/test.csv\")"
   ]
  },
  {
   "cell_type": "code",
   "execution_count": 2,
   "metadata": {
    "collapsed": false,
    "deletable": true,
    "editable": true
   },
   "outputs": [
    {
     "data": {
      "text/plain": [
       "array(['genre_id', 'ts_listen', 'media_id', 'album_id', 'context_type',\n",
       "       'release_date', 'platform_name', 'platform_family',\n",
       "       'media_duration', 'listen_type', 'user_gender', 'user_id',\n",
       "       'artist_id', 'user_age', 'is_listened'], dtype=object)"
      ]
     },
     "execution_count": 2,
     "metadata": {},
     "output_type": "execute_result"
    }
   ],
   "source": [
    "df_train.columns.values"
   ]
  },
  {
   "cell_type": "code",
   "execution_count": 13,
   "metadata": {
    "collapsed": false,
    "deletable": true,
    "editable": true
   },
   "outputs": [
    {
     "data": {
      "text/plain": [
       "0         3666789\n",
       "7          929538\n",
       "10         288272\n",
       "25         269032\n",
       "27         187946\n",
       "14         177117\n",
       "734        141076\n",
       "297        137968\n",
       "77         101100\n",
       "2744        84702\n",
       "50          79158\n",
       "3           74856\n",
       "1130        73099\n",
       "3645        66320\n",
       "18          64782\n",
       "421         61931\n",
       "1106        48117\n",
       "9           46758\n",
       "1           40582\n",
       "25481       36103\n",
       "109         30838\n",
       "745         28916\n",
       "25471       22982\n",
       "2           21620\n",
       "17          19528\n",
       "1175        18930\n",
       "723         18316\n",
       "82          17844\n",
       "2794        17338\n",
       "171         16534\n",
       "           ...   \n",
       "52201           1\n",
       "89031           1\n",
       "117725          1\n",
       "100405          1\n",
       "84001           1\n",
       "396             1\n",
       "11221           1\n",
       "6152            1\n",
       "7119            1\n",
       "7113            1\n",
       "30721           1\n",
       "11200           1\n",
       "6166            1\n",
       "125945          1\n",
       "117755          1\n",
       "39891           1\n",
       "406             1\n",
       "11198           1\n",
       "6171            1\n",
       "7095            1\n",
       "117645          1\n",
       "6168            1\n",
       "35771           1\n",
       "178251          1\n",
       "830             1\n",
       "74171           1\n",
       "153711          1\n",
       "417             1\n",
       "824             1\n",
       "907             1\n",
       "Name: genre_id, dtype: int64"
      ]
     },
     "execution_count": 13,
     "metadata": {},
     "output_type": "execute_result"
    }
   ],
   "source": [
    "df_train[\"genre_id\"].value_counts()"
   ]
  },
  {
   "cell_type": "code",
   "execution_count": 38,
   "metadata": {
    "collapsed": false,
    "deletable": true,
    "editable": true
   },
   "outputs": [
    {
     "data": {
      "text/plain": [
       "30    725423\n",
       "26    645781\n",
       "27    630940\n",
       "28    604114\n",
       "29    600411\n",
       "25    600156\n",
       "21    554507\n",
       "23    552388\n",
       "20    540783\n",
       "24    540401\n",
       "18    537853\n",
       "22    515061\n",
       "19    511015\n",
       "Name: user_age, dtype: int64"
      ]
     },
     "execution_count": 38,
     "metadata": {},
     "output_type": "execute_result"
    }
   ],
   "source": [
    "df_train[\"user_age\"].value_counts()"
   ]
  },
  {
   "cell_type": "code",
   "execution_count": 21,
   "metadata": {
    "collapsed": false,
    "deletable": true,
    "editable": true
   },
   "outputs": [
    {
     "data": {
      "image/png": "[encoded data removed]",
      "text/plain": [
       "<matplotlib.figure.Figure at 0x7f642cbc0550>"
      ]
     },
     "metadata": {},
     "output_type": "display_data"
    }
   ],
   "source": [
    "import matplotlib.pyplot as plt\n",
    "\n",
    "plt.hist(df_train[\"user_age\"].values, bins=13)\n",
    "plt.show()"
   ]
  },
  {
   "cell_type": "code",
   "execution_count": 39,
   "metadata": {
    "collapsed": false,
    "deletable": true,
    "editable": true
   },
   "outputs": [
    {
     "data": {
      "text/plain": [
       "1478278734    21\n",
       "1478276960    20\n",
       "1478540862    19\n",
       "1478277556    19\n",
       "1478190746    19\n",
       "1478280657    18\n",
       "1478279039    18\n",
       "1478010106    18\n",
       "1478278302    18\n",
       "1478106524    18\n",
       "1478191943    18\n",
       "1478285362    18\n",
       "1478344787    18\n",
       "1478277472    18\n",
       "1478277183    18\n",
       "1478007706    17\n",
       "1478008306    17\n",
       "1478277493    17\n",
       "1478278194    17\n",
       "1478280909    17\n",
       "1478275829    17\n",
       "1478798505    17\n",
       "1479141423    17\n",
       "1478283843    17\n",
       "1478192868    17\n",
       "1478103633    17\n",
       "1478108363    17\n",
       "1478348432    17\n",
       "1478277536    17\n",
       "1478157147    17\n",
       "              ..\n",
       "1477588251     1\n",
       "1478300927     1\n",
       "1478309115     1\n",
       "1480192096     1\n",
       "1480495244     1\n",
       "1479778602     1\n",
       "1480331484     1\n",
       "1479782696     1\n",
       "1479786790     1\n",
       "1479799072     1\n",
       "1479680282     1\n",
       "1479684376     1\n",
       "1479696658     1\n",
       "1479717128     1\n",
       "1479721222     1\n",
       "1479733504     1\n",
       "1480397052     1\n",
       "1480335578     1\n",
       "1480474774     1\n",
       "1480356048     1\n",
       "1480368330     1\n",
       "1480380612     1\n",
       "1480384706     1\n",
       "1480540342     1\n",
       "1480556718     1\n",
       "1480585376     1\n",
       "1480458398     1\n",
       "1480462492     1\n",
       "1480470680     1\n",
       "1480591361     1\n",
       "Name: ts_listen, dtype: int64"
      ]
     },
     "execution_count": 39,
     "metadata": {},
     "output_type": "execute_result"
    }
   ],
   "source": [
    "df_train[\"ts_listen\"].value_counts()"
   ]
  },
  {
   "cell_type": "code",
   "execution_count": 28,
   "metadata": {
    "collapsed": false,
    "deletable": true,
    "editable": true
   },
   "outputs": [
    {
     "data": {
      "text/plain": [
       "1480635845.0"
      ]
     },
     "execution_count": 28,
     "metadata": {},
     "output_type": "execute_result"
    }
   ],
   "source": [
    "df_train[\"ts_listen\"].describe()[\"max\"]"
   ]
  },
  {
   "cell_type": "code",
   "execution_count": 29,
   "metadata": {
    "collapsed": false,
    "deletable": true,
    "editable": true
   },
   "outputs": [
    {
     "data": {
      "text/plain": [
       "1.0"
      ]
     },
     "execution_count": 29,
     "metadata": {},
     "output_type": "execute_result"
    }
   ],
   "source": [
    "df_train[\"ts_listen\"].describe()[\"min\"]"
   ]
  },
  {
   "cell_type": "code",
   "execution_count": 30,
   "metadata": {
    "collapsed": false,
    "deletable": true,
    "editable": true
   },
   "outputs": [
    {
     "data": {
      "text/html": [
       "<div>\n",
       "<table border=\"1\" class=\"dataframe\">\n",
       "  <thead>\n",
       "    <tr style=\"text-align: right;\">\n",
       "      <th></th>\n",
       "      <th>genre_id</th>\n",
       "      <th>ts_listen</th>\n",
       "      <th>media_id</th>\n",
       "      <th>album_id</th>\n",
       "      <th>context_type</th>\n",
       "      <th>release_date</th>\n",
       "      <th>platform_name</th>\n",
       "      <th>platform_family</th>\n",
       "      <th>media_duration</th>\n",
       "      <th>listen_type</th>\n",
       "      <th>user_gender</th>\n",
       "      <th>user_id</th>\n",
       "      <th>artist_id</th>\n",
       "      <th>user_age</th>\n",
       "      <th>is_listened</th>\n",
       "    </tr>\n",
       "  </thead>\n",
       "  <tbody>\n",
       "    <tr>\n",
       "      <th>5010516</th>\n",
       "      <td>0</td>\n",
       "      <td>1</td>\n",
       "      <td>128809249</td>\n",
       "      <td>13615007</td>\n",
       "      <td>0</td>\n",
       "      <td>20161021</td>\n",
       "      <td>1</td>\n",
       "      <td>0</td>\n",
       "      <td>454</td>\n",
       "      <td>0</td>\n",
       "      <td>0</td>\n",
       "      <td>4606</td>\n",
       "      <td>1690105</td>\n",
       "      <td>23</td>\n",
       "      <td>0</td>\n",
       "    </tr>\n",
       "  </tbody>\n",
       "</table>\n",
       "</div>"
      ],
      "text/plain": [
       "         genre_id  ts_listen   media_id  album_id  context_type  release_date  \\\n",
       "5010516         0          1  128809249  13615007             0      20161021   \n",
       "\n",
       "         platform_name  platform_family  media_duration  listen_type  \\\n",
       "5010516              1                0             454            0   \n",
       "\n",
       "         user_gender  user_id  artist_id  user_age  is_listened  \n",
       "5010516            0     4606    1690105        23            0  "
      ]
     },
     "execution_count": 30,
     "metadata": {},
     "output_type": "execute_result"
    }
   ],
   "source": [
    "df_train[df_train[\"ts_listen\"] == 1]"
   ]
  },
  {
   "cell_type": "code",
   "execution_count": 31,
   "metadata": {
    "collapsed": false,
    "deletable": true,
    "editable": true
   },
   "outputs": [
    {
     "data": {
      "text/plain": [
       "2.0"
      ]
     },
     "execution_count": 31,
     "metadata": {},
     "output_type": "execute_result"
    }
   ],
   "source": [
    "df_train.drop(5010516, inplace=True)\n",
    "df_train[\"ts_listen\"].describe()[\"min\"]"
   ]
  },
  {
   "cell_type": "code",
   "execution_count": 37,
   "metadata": {
    "collapsed": false,
    "deletable": true,
    "editable": true
   },
   "outputs": [
    {
     "data": {
      "text/html": [
       "<div>\n",
       "<table border=\"1\" class=\"dataframe\">\n",
       "  <thead>\n",
       "    <tr style=\"text-align: right;\">\n",
       "      <th></th>\n",
       "      <th>genre_id</th>\n",
       "      <th>ts_listen</th>\n",
       "      <th>media_id</th>\n",
       "      <th>album_id</th>\n",
       "      <th>context_type</th>\n",
       "      <th>release_date</th>\n",
       "      <th>platform_name</th>\n",
       "      <th>platform_family</th>\n",
       "      <th>media_duration</th>\n",
       "      <th>listen_type</th>\n",
       "      <th>user_gender</th>\n",
       "      <th>user_id</th>\n",
       "      <th>artist_id</th>\n",
       "      <th>user_age</th>\n",
       "      <th>is_listened</th>\n",
       "    </tr>\n",
       "  </thead>\n",
       "  <tbody>\n",
       "  </tbody>\n",
       "</table>\n",
       "</div>"
      ],
      "text/plain": [
       "Empty DataFrame\n",
       "Columns: [genre_id, ts_listen, media_id, album_id, context_type, release_date, platform_name, platform_family, media_duration, listen_type, user_gender, user_id, artist_id, user_age, is_listened]\n",
       "Index: []"
      ]
     },
     "execution_count": 37,
     "metadata": {},
     "output_type": "execute_result"
    }
   ],
   "source": [
    "df_train[df_train[\"ts_listen\"] == 1600]"
   ]
  },
  {
   "cell_type": "code",
   "execution_count": 40,
   "metadata": {
    "collapsed": true,
    "deletable": true,
    "editable": true
   },
   "outputs": [],
   "source": [
    "df_train.drop(df_train[df_train[\"ts_listen\"] < 1400000000].index, inplace=True)"
   ]
  },
  {
   "cell_type": "code",
   "execution_count": 41,
   "metadata": {
    "collapsed": false,
    "deletable": true,
    "editable": true
   },
   "outputs": [
    {
     "data": {
      "text/plain": [
       "1420070461.0"
      ]
     },
     "execution_count": 41,
     "metadata": {},
     "output_type": "execute_result"
    }
   ],
   "source": [
    "df_train[\"ts_listen\"].describe()[\"min\"]"
   ]
  },
  {
   "cell_type": "code",
   "execution_count": 43,
   "metadata": {
    "collapsed": false,
    "deletable": true,
    "editable": true
   },
   "outputs": [
    {
     "name": "stdout",
     "output_type": "stream",
     "text": [
      "2016-12-01 21:44:05\n",
      "2014-12-31 22:01:01\n"
     ]
    }
   ],
   "source": [
    "import datetime\n",
    "print(\n",
    "    datetime.datetime.fromtimestamp(\n",
    "        int(df_train[\"ts_listen\"].describe()[\"max\"])\n",
    "    ).strftime('%Y-%m-%d %H:%M:%S')\n",
    ")\n",
    "\n",
    "print(\n",
    "    datetime.datetime.fromtimestamp(\n",
    "        int(df_train[\"ts_listen\"].describe()[\"min\"])\n",
    "    ).strftime('%Y-%m-%d %H:%M:%S')\n",
    ")"
   ]
  },
  {
   "cell_type": "code",
   "execution_count": null,
   "metadata": {
    "collapsed": true,
    "deletable": true,
    "editable": true
   },
   "outputs": [],
   "source": []
  }
 ],
 "metadata": {
  "kernelspec": {
   "display_name": "Python 2",
   "language": "python",
   "name": "python2"
  },
  "language_info": {
   "codemirror_mode": {
    "name": "ipython",
    "version": 2
   },
   "file_extension": ".py",
   "mimetype": "text/x-python",
   "name": "python",
   "nbconvert_exporter": "python",
   "pygments_lexer": "ipython2",
   "version": "2.7.13"
  }
 },
 "nbformat": 4,
 "nbformat_minor": 2
}
