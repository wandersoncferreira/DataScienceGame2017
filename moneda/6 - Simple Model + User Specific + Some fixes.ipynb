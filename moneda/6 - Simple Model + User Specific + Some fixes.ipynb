{
 "cells": [
  {
   "cell_type": "markdown",
   "metadata": {
    "deletable": true,
    "editable": true,
    "ein.tags": [
     "worksheet-0"
    ],
    "slideshow": {
     "slide_type": "-"
    }
   },
   "source": [
    "### Data Science Game 2017\n",
    "\n",
    "Data fields\n",
    "\n",
    "    media_id - identifiant of the song listened by the user\n",
    "    album_id - identifiant of the album of the song\n",
    "    media_duration - duration of the song\n",
    "    user_gender -  gender of the user\n",
    "    user_id -  anonymized id of the user\n",
    "    context_type - type of content where the song was listened: playlist, album ...\n",
    "    release_date - release date of the song with the format YYYYMMDD\n",
    "    ts_listen - timestamp of the listening in UNIX time\n",
    "    platform_name - type of os\n",
    "    platform_family - type of device\n",
    "    user_age - age of the user\n",
    "    listen_type - if the songs was listened in a flow or not\n",
    "    artist_id - identifiant of the artist of the song\n",
    "    genre_id - identifiant of the genre of the song\n",
    "    is_listened - 1 if the track was listened, 0 otherwise\n"
   ]
  },
  {
   "cell_type": "code",
   "execution_count": 1,
   "metadata": {
    "collapsed": true,
    "deletable": true,
    "editable": true
   },
   "outputs": [],
   "source": [
    "import resource\n",
    "def using(point=\"\"):\n",
    "    usage=resource.getrusage(resource.RUSAGE_SELF)\n",
    "    return '''%s: usertime=%s systime=%s mem=%s mb\n",
    "           '''%(point,usage[0],usage[1],\n",
    "                (usage[2]*resource.getpagesize())/1000000.0 )"
   ]
  },
  {
   "cell_type": "code",
   "execution_count": 2,
   "metadata": {
    "autoscroll": "json-false",
    "collapsed": false,
    "deletable": true,
    "editable": true,
    "ein.tags": [
     "worksheet-0"
    ],
    "slideshow": {
     "slide_type": "-"
    }
   },
   "outputs": [],
   "source": [
    "import pandas as pd"
   ]
  },
  {
   "cell_type": "code",
   "execution_count": 3,
   "metadata": {
    "autoscroll": "json-false",
    "collapsed": false,
    "deletable": true,
    "editable": true,
    "ein.tags": [
     "worksheet-0"
    ],
    "slideshow": {
     "slide_type": "-"
    }
   },
   "outputs": [
    {
     "data": {
      "text/plain": [
       "'start: usertime=22.26 systime=2.184 mem=21182.152704 mb\\n           '"
      ]
     },
     "execution_count": 3,
     "metadata": {},
     "output_type": "execute_result"
    }
   ],
   "source": [
    "df_train = pd.read_csv(\"../data/train_data3.csv\")\n",
    "df_test = pd.read_csv(\"../data/test_data3.csv\")\n",
    "\n",
    "df_train[\"user_id_id\"] = df_train[\"user_id\"]\n",
    "df_test[\"user_id_id\"] = df_test[\"user_id\"]\n",
    "using(\"start\")"
   ]
  },
  {
   "cell_type": "markdown",
   "metadata": {
    "deletable": true,
    "editable": true,
    "ein.tags": [
     "worksheet-0"
    ],
    "slideshow": {
     "slide_type": "-"
    }
   },
   "source": [
    "### Analisando quantidade de registro por usuário"
   ]
  },
  {
   "cell_type": "code",
   "execution_count": 4,
   "metadata": {
    "autoscroll": "json-false",
    "collapsed": false,
    "deletable": true,
    "editable": true,
    "ein.tags": [
     "worksheet-0"
    ],
    "slideshow": {
     "slide_type": "-"
    }
   },
   "outputs": [
    {
     "data": {
      "text/plain": [
       "count    19918.000000\n",
       "mean       379.496787\n",
       "std        508.267045\n",
       "min          1.000000\n",
       "25%         66.000000\n",
       "50%        197.000000\n",
       "75%        495.000000\n",
       "max       6317.000000\n",
       "Name: user_id, dtype: float64"
      ]
     },
     "execution_count": 4,
     "metadata": {},
     "output_type": "execute_result"
    }
   ],
   "source": [
    "import matplotlib.pyplot as plt\n",
    "import seaborn as sns\n",
    "#plt.style.use(['dark_background'])\n",
    "#plt.style.use('ggplot')\n",
    "register_count = df_train[\"user_id\"].value_counts()\n",
    "register_count.describe()\n",
    "# plt.show()"
   ]
  },
  {
   "cell_type": "code",
   "execution_count": 5,
   "metadata": {
    "autoscroll": "json-false",
    "collapsed": false,
    "deletable": true,
    "editable": true,
    "ein.tags": [
     "worksheet-0"
    ],
    "slideshow": {
     "slide_type": "-"
    }
   },
   "outputs": [
    {
     "data": {
      "text/plain": [
       "(array([  1.61650000e+04,   2.60900000e+03,   7.13000000e+02,\n",
       "          2.60000000e+02,   9.50000000e+01,   3.80000000e+01,\n",
       "          2.10000000e+01,   8.00000000e+00,   6.00000000e+00,\n",
       "          3.00000000e+00]),\n",
       " array([  1.00000000e+00,   6.32600000e+02,   1.26420000e+03,\n",
       "          1.89580000e+03,   2.52740000e+03,   3.15900000e+03,\n",
       "          3.79060000e+03,   4.42220000e+03,   5.05380000e+03,\n",
       "          5.68540000e+03,   6.31700000e+03]),\n",
       " <a list of 10 Patch objects>)"
      ]
     },
     "execution_count": 5,
     "metadata": {},
     "output_type": "execute_result"
    },
    {
     "name": "stderr",
     "output_type": "stream",
     "text": [
      "/home/ubuntu/anaconda3/envs/ml/lib/python2.7/site-packages/matplotlib/font_manager.py:1297: UserWarning: findfont: Font family [u'sans-serif'] not found. Falling back to DejaVu Sans\n",
      "  (prop.get_family(), self.defaultFamily[fontext]))\n"
     ]
    },
    {
     "data": {
      "image/png": "[encoded data removed]",
      "text/plain": [
       "<matplotlib.figure.Figure at 0x7fa02dd03250>"
      ]
     },
     "metadata": {},
     "output_type": "display_data"
    }
   ],
   "source": [
    "%matplotlib inline\n",
    "plt.hist(df_train[\"user_id\"].value_counts())"
   ]
  },
  {
   "cell_type": "code",
   "execution_count": 6,
   "metadata": {
    "autoscroll": "json-false",
    "collapsed": false,
    "deletable": true,
    "editable": true,
    "ein.tags": [
     "worksheet-0"
    ],
    "slideshow": {
     "slide_type": "-"
    }
   },
   "outputs": [
    {
     "name": "stdout",
     "output_type": "stream",
     "text": [
      "6696\n",
      "13222\n"
     ]
    }
   ],
   "source": [
    "user_for_general_model = register_count[(register_count <= 100)].index\n",
    "user_for_specific_model = register_count[(register_count > 100)].index\n",
    "print(len(user_for_general_model))\n",
    "print(len(user_for_specific_model))"
   ]
  },
  {
   "cell_type": "code",
   "execution_count": 7,
   "metadata": {
    "autoscroll": "json-false",
    "collapsed": false,
    "deletable": true,
    "editable": true,
    "ein.tags": [
     "worksheet-0"
    ],
    "slideshow": {
     "slide_type": "-"
    }
   },
   "outputs": [
    {
     "data": {
      "text/plain": [
       "Index([u'Unnamed: 0', u'genre_id', u'ts_listen', u'media_id', u'album_id',\n",
       "       u'context_type', u'release_date', u'platform_name', u'platform_family',\n",
       "       u'media_duration', u'listen_type', u'user_gender', u'user_id',\n",
       "       u'artist_id', u'user_age', u'is_listened', u'text', u'year',\n",
       "       u'diff_ts_listen_AND_release_date_D',\n",
       "       u'diff_ts_listen_AND_release_date_M',\n",
       "       u'diff_ts_listen_AND_release_date_Y', u'release_date_DAY',\n",
       "       u'release_date_MONTH', u'release_date_YEAR', u'ts_listen_DAY_OF_WEEK',\n",
       "       u'ts_listen_PERIOD_OF_DAY', u'user_age_group', u'diff_user_song_age',\n",
       "       u'media_decade'],\n",
       "      dtype='object')"
      ]
     },
     "execution_count": 7,
     "metadata": {},
     "output_type": "execute_result"
    }
   ],
   "source": [
    "### select users for specific\n",
    "#df_train = df_train[df_train[\"user_id\"].isin(user_for_specific_model)]\n",
    "#df_test = df_test[df_test[\"user_id\"].isin(user_for_specific_model)]\n",
    "df_train.columns"
   ]
  },
  {
   "cell_type": "code",
   "execution_count": 8,
   "metadata": {
    "autoscroll": "json-false",
    "collapsed": false,
    "deletable": true,
    "editable": true,
    "ein.tags": [
     "worksheet-0"
    ],
    "slideshow": {
     "slide_type": "-"
    }
   },
   "outputs": [
    {
     "data": {
      "text/html": [
       "<div>\n",
       "<table border=\"1\" class=\"dataframe\">\n",
       "  <thead>\n",
       "    <tr style=\"text-align: right;\">\n",
       "      <th></th>\n",
       "      <th>genre_id</th>\n",
       "      <th>ts_listen</th>\n",
       "      <th>media_id</th>\n",
       "      <th>album_id</th>\n",
       "      <th>context_type</th>\n",
       "      <th>release_date</th>\n",
       "      <th>platform_name</th>\n",
       "      <th>platform_family</th>\n",
       "      <th>media_duration</th>\n",
       "      <th>listen_type</th>\n",
       "      <th>...</th>\n",
       "      <th>diff_ts_listen_AND_release_date_M</th>\n",
       "      <th>diff_ts_listen_AND_release_date_Y</th>\n",
       "      <th>release_date_DAY</th>\n",
       "      <th>release_date_MONTH</th>\n",
       "      <th>release_date_YEAR</th>\n",
       "      <th>ts_listen_DAY_OF_WEEK</th>\n",
       "      <th>ts_listen_PERIOD_OF_DAY</th>\n",
       "      <th>user_age_group</th>\n",
       "      <th>diff_user_song_age</th>\n",
       "      <th>media_decade</th>\n",
       "    </tr>\n",
       "  </thead>\n",
       "  <tbody>\n",
       "    <tr>\n",
       "      <th>0</th>\n",
       "      <td>25471</td>\n",
       "      <td>2016-12-01 11:00:15</td>\n",
       "      <td>222606</td>\n",
       "      <td>41774</td>\n",
       "      <td>12</td>\n",
       "      <td>2004-07-04 00:00:00</td>\n",
       "      <td>1</td>\n",
       "      <td>0</td>\n",
       "      <td>4.0</td>\n",
       "      <td>0</td>\n",
       "      <td>...</td>\n",
       "      <td>151.100000</td>\n",
       "      <td>12.419178</td>\n",
       "      <td>4</td>\n",
       "      <td>7</td>\n",
       "      <td>2004</td>\n",
       "      <td>3</td>\n",
       "      <td>0</td>\n",
       "      <td>2</td>\n",
       "      <td>16.580822</td>\n",
       "      <td>7</td>\n",
       "    </tr>\n",
       "    <tr>\n",
       "      <th>1</th>\n",
       "      <td>25571</td>\n",
       "      <td>2016-11-30 20:25:35</td>\n",
       "      <td>250467</td>\n",
       "      <td>43941</td>\n",
       "      <td>0</td>\n",
       "      <td>2006-03-01 00:00:00</td>\n",
       "      <td>2</td>\n",
       "      <td>1</td>\n",
       "      <td>3.0</td>\n",
       "      <td>0</td>\n",
       "      <td>...</td>\n",
       "      <td>130.900000</td>\n",
       "      <td>10.758904</td>\n",
       "      <td>1</td>\n",
       "      <td>3</td>\n",
       "      <td>2006</td>\n",
       "      <td>2</td>\n",
       "      <td>2</td>\n",
       "      <td>2</td>\n",
       "      <td>19.241096</td>\n",
       "      <td>7</td>\n",
       "    </tr>\n",
       "    <tr>\n",
       "      <th>2</th>\n",
       "      <td>16</td>\n",
       "      <td>2016-11-19 11:59:13</td>\n",
       "      <td>305197</td>\n",
       "      <td>48078</td>\n",
       "      <td>1</td>\n",
       "      <td>2014-07-14 00:00:00</td>\n",
       "      <td>2</td>\n",
       "      <td>1</td>\n",
       "      <td>2.0</td>\n",
       "      <td>1</td>\n",
       "      <td>...</td>\n",
       "      <td>28.633333</td>\n",
       "      <td>2.353425</td>\n",
       "      <td>14</td>\n",
       "      <td>7</td>\n",
       "      <td>2014</td>\n",
       "      <td>5</td>\n",
       "      <td>0</td>\n",
       "      <td>2</td>\n",
       "      <td>26.646575</td>\n",
       "      <td>8</td>\n",
       "    </tr>\n",
       "    <tr>\n",
       "      <th>3</th>\n",
       "      <td>7</td>\n",
       "      <td>2016-11-26 07:21:38</td>\n",
       "      <td>900502</td>\n",
       "      <td>71521</td>\n",
       "      <td>0</td>\n",
       "      <td>2000-10-30 00:00:00</td>\n",
       "      <td>0</td>\n",
       "      <td>0</td>\n",
       "      <td>4.0</td>\n",
       "      <td>0</td>\n",
       "      <td>...</td>\n",
       "      <td>195.700000</td>\n",
       "      <td>16.084932</td>\n",
       "      <td>30</td>\n",
       "      <td>10</td>\n",
       "      <td>2000</td>\n",
       "      <td>5</td>\n",
       "      <td>0</td>\n",
       "      <td>2</td>\n",
       "      <td>13.915068</td>\n",
       "      <td>6</td>\n",
       "    </tr>\n",
       "    <tr>\n",
       "      <th>4</th>\n",
       "      <td>7</td>\n",
       "      <td>2016-11-05 16:02:54</td>\n",
       "      <td>542335</td>\n",
       "      <td>71718</td>\n",
       "      <td>0</td>\n",
       "      <td>2008-02-15 00:00:00</td>\n",
       "      <td>0</td>\n",
       "      <td>0</td>\n",
       "      <td>3.0</td>\n",
       "      <td>0</td>\n",
       "      <td>...</td>\n",
       "      <td>106.200000</td>\n",
       "      <td>8.728767</td>\n",
       "      <td>15</td>\n",
       "      <td>2</td>\n",
       "      <td>2008</td>\n",
       "      <td>5</td>\n",
       "      <td>1</td>\n",
       "      <td>1</td>\n",
       "      <td>15.271233</td>\n",
       "      <td>7</td>\n",
       "    </tr>\n",
       "  </tbody>\n",
       "</table>\n",
       "<p>5 rows × 28 columns</p>\n",
       "</div>"
      ],
      "text/plain": [
       "   genre_id            ts_listen  media_id  album_id  context_type  \\\n",
       "0     25471  2016-12-01 11:00:15    222606     41774            12   \n",
       "1     25571  2016-11-30 20:25:35    250467     43941             0   \n",
       "2        16  2016-11-19 11:59:13    305197     48078             1   \n",
       "3         7  2016-11-26 07:21:38    900502     71521             0   \n",
       "4         7  2016-11-05 16:02:54    542335     71718             0   \n",
       "\n",
       "          release_date  platform_name  platform_family  media_duration  \\\n",
       "0  2004-07-04 00:00:00              1                0             4.0   \n",
       "1  2006-03-01 00:00:00              2                1             3.0   \n",
       "2  2014-07-14 00:00:00              2                1             2.0   \n",
       "3  2000-10-30 00:00:00              0                0             4.0   \n",
       "4  2008-02-15 00:00:00              0                0             3.0   \n",
       "\n",
       "   listen_type      ...       diff_ts_listen_AND_release_date_M  \\\n",
       "0            0      ...                              151.100000   \n",
       "1            0      ...                              130.900000   \n",
       "2            1      ...                               28.633333   \n",
       "3            0      ...                              195.700000   \n",
       "4            0      ...                              106.200000   \n",
       "\n",
       "   diff_ts_listen_AND_release_date_Y  release_date_DAY  release_date_MONTH  \\\n",
       "0                          12.419178                 4                   7   \n",
       "1                          10.758904                 1                   3   \n",
       "2                           2.353425                14                   7   \n",
       "3                          16.084932                30                  10   \n",
       "4                           8.728767                15                   2   \n",
       "\n",
       "   release_date_YEAR ts_listen_DAY_OF_WEEK  ts_listen_PERIOD_OF_DAY  \\\n",
       "0               2004                     3                        0   \n",
       "1               2006                     2                        2   \n",
       "2               2014                     5                        0   \n",
       "3               2000                     5                        0   \n",
       "4               2008                     5                        1   \n",
       "\n",
       "   user_age_group  diff_user_song_age  media_decade  \n",
       "0               2           16.580822             7  \n",
       "1               2           19.241096             7  \n",
       "2               2           26.646575             8  \n",
       "3               2           13.915068             6  \n",
       "4               1           15.271233             7  \n",
       "\n",
       "[5 rows x 28 columns]"
      ]
     },
     "execution_count": 8,
     "metadata": {},
     "output_type": "execute_result"
    }
   ],
   "source": [
    "to_drop = ['Unnamed: 0']\n",
    "df_train.drop(to_drop, axis = 1,inplace=True)\n",
    "df_train.head()"
   ]
  },
  {
   "cell_type": "code",
   "execution_count": 9,
   "metadata": {
    "autoscroll": "json-false",
    "collapsed": false,
    "deletable": true,
    "editable": true,
    "ein.tags": [
     "worksheet-0"
    ],
    "slideshow": {
     "slide_type": "-"
    }
   },
   "outputs": [
    {
     "data": {
      "text/html": [
       "<div>\n",
       "<table border=\"1\" class=\"dataframe\">\n",
       "  <thead>\n",
       "    <tr style=\"text-align: right;\">\n",
       "      <th></th>\n",
       "      <th>genre_id</th>\n",
       "      <th>ts_listen</th>\n",
       "      <th>media_id</th>\n",
       "      <th>album_id</th>\n",
       "      <th>context_type</th>\n",
       "      <th>release_date</th>\n",
       "      <th>platform_name</th>\n",
       "      <th>platform_family</th>\n",
       "      <th>media_duration</th>\n",
       "      <th>listen_type</th>\n",
       "      <th>...</th>\n",
       "      <th>diff_ts_listen_AND_release_date_M</th>\n",
       "      <th>diff_ts_listen_AND_release_date_Y</th>\n",
       "      <th>release_date_DAY</th>\n",
       "      <th>release_date_MONTH</th>\n",
       "      <th>release_date_YEAR</th>\n",
       "      <th>ts_listen_DAY_OF_WEEK</th>\n",
       "      <th>ts_listen_PERIOD_OF_DAY</th>\n",
       "      <th>user_age_group</th>\n",
       "      <th>diff_user_song_age</th>\n",
       "      <th>media_decade</th>\n",
       "    </tr>\n",
       "  </thead>\n",
       "  <tbody>\n",
       "    <tr>\n",
       "      <th>0</th>\n",
       "      <td>25471</td>\n",
       "      <td>2016-12-01 11:00:15</td>\n",
       "      <td>222606</td>\n",
       "      <td>41774</td>\n",
       "      <td>12</td>\n",
       "      <td>2004-07-04 00:00:00</td>\n",
       "      <td>1</td>\n",
       "      <td>0</td>\n",
       "      <td>4.0</td>\n",
       "      <td>0</td>\n",
       "      <td>...</td>\n",
       "      <td>151.100000</td>\n",
       "      <td>12.419178</td>\n",
       "      <td>4</td>\n",
       "      <td>7</td>\n",
       "      <td>2004</td>\n",
       "      <td>3</td>\n",
       "      <td>0</td>\n",
       "      <td>2</td>\n",
       "      <td>16.580822</td>\n",
       "      <td>7</td>\n",
       "    </tr>\n",
       "    <tr>\n",
       "      <th>1</th>\n",
       "      <td>25571</td>\n",
       "      <td>2016-11-30 20:25:35</td>\n",
       "      <td>250467</td>\n",
       "      <td>43941</td>\n",
       "      <td>0</td>\n",
       "      <td>2006-03-01 00:00:00</td>\n",
       "      <td>2</td>\n",
       "      <td>1</td>\n",
       "      <td>3.0</td>\n",
       "      <td>0</td>\n",
       "      <td>...</td>\n",
       "      <td>130.900000</td>\n",
       "      <td>10.758904</td>\n",
       "      <td>1</td>\n",
       "      <td>3</td>\n",
       "      <td>2006</td>\n",
       "      <td>2</td>\n",
       "      <td>2</td>\n",
       "      <td>2</td>\n",
       "      <td>19.241096</td>\n",
       "      <td>7</td>\n",
       "    </tr>\n",
       "    <tr>\n",
       "      <th>2</th>\n",
       "      <td>16</td>\n",
       "      <td>2016-11-19 11:59:13</td>\n",
       "      <td>305197</td>\n",
       "      <td>48078</td>\n",
       "      <td>1</td>\n",
       "      <td>2014-07-14 00:00:00</td>\n",
       "      <td>2</td>\n",
       "      <td>1</td>\n",
       "      <td>2.0</td>\n",
       "      <td>1</td>\n",
       "      <td>...</td>\n",
       "      <td>28.633333</td>\n",
       "      <td>2.353425</td>\n",
       "      <td>14</td>\n",
       "      <td>7</td>\n",
       "      <td>2014</td>\n",
       "      <td>5</td>\n",
       "      <td>0</td>\n",
       "      <td>2</td>\n",
       "      <td>26.646575</td>\n",
       "      <td>8</td>\n",
       "    </tr>\n",
       "    <tr>\n",
       "      <th>3</th>\n",
       "      <td>7</td>\n",
       "      <td>2016-11-26 07:21:38</td>\n",
       "      <td>900502</td>\n",
       "      <td>71521</td>\n",
       "      <td>0</td>\n",
       "      <td>2000-10-30 00:00:00</td>\n",
       "      <td>0</td>\n",
       "      <td>0</td>\n",
       "      <td>4.0</td>\n",
       "      <td>0</td>\n",
       "      <td>...</td>\n",
       "      <td>195.700000</td>\n",
       "      <td>16.084932</td>\n",
       "      <td>30</td>\n",
       "      <td>10</td>\n",
       "      <td>2000</td>\n",
       "      <td>5</td>\n",
       "      <td>0</td>\n",
       "      <td>2</td>\n",
       "      <td>13.915068</td>\n",
       "      <td>6</td>\n",
       "    </tr>\n",
       "    <tr>\n",
       "      <th>4</th>\n",
       "      <td>7</td>\n",
       "      <td>2016-11-05 16:02:54</td>\n",
       "      <td>542335</td>\n",
       "      <td>71718</td>\n",
       "      <td>0</td>\n",
       "      <td>2008-02-15 00:00:00</td>\n",
       "      <td>0</td>\n",
       "      <td>0</td>\n",
       "      <td>3.0</td>\n",
       "      <td>0</td>\n",
       "      <td>...</td>\n",
       "      <td>106.200000</td>\n",
       "      <td>8.728767</td>\n",
       "      <td>15</td>\n",
       "      <td>2</td>\n",
       "      <td>2008</td>\n",
       "      <td>5</td>\n",
       "      <td>1</td>\n",
       "      <td>1</td>\n",
       "      <td>15.271233</td>\n",
       "      <td>7</td>\n",
       "    </tr>\n",
       "  </tbody>\n",
       "</table>\n",
       "<p>5 rows × 28 columns</p>\n",
       "</div>"
      ],
      "text/plain": [
       "   genre_id            ts_listen  media_id  album_id  context_type         release_date  platform_name  platform_family  media_duration  listen_type      ...       diff_ts_listen_AND_release_date_M  \\\n",
       "0     25471  2016-12-01 11:00:15    222606     41774            12  2004-07-04 00:00:00              1                0             4.0            0      ...                              151.100000   \n",
       "1     25571  2016-11-30 20:25:35    250467     43941             0  2006-03-01 00:00:00              2                1             3.0            0      ...                              130.900000   \n",
       "2        16  2016-11-19 11:59:13    305197     48078             1  2014-07-14 00:00:00              2                1             2.0            1      ...                               28.633333   \n",
       "3         7  2016-11-26 07:21:38    900502     71521             0  2000-10-30 00:00:00              0                0             4.0            0      ...                              195.700000   \n",
       "4         7  2016-11-05 16:02:54    542335     71718             0  2008-02-15 00:00:00              0                0             3.0            0      ...                              106.200000   \n",
       "\n",
       "   diff_ts_listen_AND_release_date_Y  release_date_DAY  release_date_MONTH  release_date_YEAR ts_listen_DAY_OF_WEEK  ts_listen_PERIOD_OF_DAY  user_age_group  diff_user_song_age  media_decade  \n",
       "0                          12.419178                 4                   7               2004                     3                        0               2           16.580822             7  \n",
       "1                          10.758904                 1                   3               2006                     2                        2               2           19.241096             7  \n",
       "2                           2.353425                14                   7               2014                     5                        0               2           26.646575             8  \n",
       "3                          16.084932                30                  10               2000                     5                        0               2           13.915068             6  \n",
       "4                           8.728767                15                   2               2008                     5                        1               1           15.271233             7  \n",
       "\n",
       "[5 rows x 28 columns]"
      ]
     },
     "execution_count": 9,
     "metadata": {},
     "output_type": "execute_result"
    }
   ],
   "source": [
    "#pd.set_option('display.height', 1000)\n",
    "#pd.set_option('display.max_rows', 500)\n",
    "#pd.set_option('display.max_columns', 500)\n",
    "pd.set_option('display.width', 200)\n",
    "#pd.set_option(\"precision\", 2)\n",
    "df_train.head()"
   ]
  },
  {
   "cell_type": "code",
   "execution_count": 10,
   "metadata": {
    "autoscroll": "json-false",
    "collapsed": false,
    "deletable": true,
    "editable": true,
    "ein.tags": [
     "worksheet-0"
    ],
    "slideshow": {
     "slide_type": "-"
    }
   },
   "outputs": [],
   "source": [
    "# pd.isnull(df_train).sum()[pd.isnull(df_train).sum() > 0]"
   ]
  },
  {
   "cell_type": "code",
   "execution_count": 11,
   "metadata": {
    "autoscroll": "json-false",
    "collapsed": false,
    "deletable": true,
    "editable": true,
    "ein.tags": [
     "worksheet-0"
    ],
    "slideshow": {
     "slide_type": "-"
    }
   },
   "outputs": [],
   "source": [
    "# df_train[df_train[\"release_date_YEAR\"] == 1900][[\"media_id\", \"ts_listen\"]]"
   ]
  },
  {
   "cell_type": "code",
   "execution_count": 12,
   "metadata": {
    "autoscroll": "json-false",
    "collapsed": false,
    "deletable": true,
    "editable": true,
    "ein.tags": [
     "worksheet-0"
    ],
    "slideshow": {
     "slide_type": "-"
    }
   },
   "outputs": [],
   "source": [
    "# df_train[df_train[\"release_date_YEAR\"] == 1900][[\"media_id\", \"ts_listen\"]]"
   ]
  },
  {
   "cell_type": "markdown",
   "metadata": {
    "deletable": true,
    "editable": true,
    "ein.tags": [
     "worksheet-0"
    ],
    "slideshow": {
     "slide_type": "-"
    }
   },
   "source": [
    "### Append User Specific"
   ]
  },
  {
   "cell_type": "code",
   "execution_count": 13,
   "metadata": {
    "autoscroll": "json-false",
    "collapsed": false,
    "deletable": true,
    "editable": true,
    "ein.tags": [
     "worksheet-0"
    ],
    "slideshow": {
     "slide_type": "-"
    }
   },
   "outputs": [
    {
     "data": {
      "text/plain": [
       "array(['user_id', 'nmidia_regular_listened', 'nmidia_with_flow_listened',\n",
       "       'nmidia_regular', 'nmidia_with_flow'], dtype=object)"
      ]
     },
     "execution_count": 13,
     "metadata": {},
     "output_type": "execute_result"
    }
   ],
   "source": [
    "df_user = pd.read_csv(\"../data/nmidia_feats.csv\", sep=\";\")\n",
    "# pd.isnull(df_user).sum()[pd.isnull(df_user).sum() > 0]\n",
    "df_user = df_user.drop([\"nmidia_with_flow_listened_PROP\", \"nmidia_regular_listened_PROP\", \"nmidia_PROP_diff\"], axis=1)\n",
    "df_user.columns.values"
   ]
  },
  {
   "cell_type": "code",
   "execution_count": 14,
   "metadata": {
    "autoscroll": "json-false",
    "collapsed": false,
    "deletable": true,
    "editable": true,
    "ein.tags": [
     "worksheet-0"
    ],
    "slideshow": {
     "slide_type": "-"
    }
   },
   "outputs": [],
   "source": [
    "# x = pd.isnull(df_user).sum()\n",
    "# x[x > 0]"
   ]
  },
  {
   "cell_type": "code",
   "execution_count": 15,
   "metadata": {
    "autoscroll": "json-false",
    "collapsed": false,
    "deletable": true,
    "editable": true,
    "ein.tags": [
     "worksheet-0"
    ],
    "slideshow": {
     "slide_type": "-"
    }
   },
   "outputs": [
    {
     "data": {
      "text/html": [
       "<div>\n",
       "<table border=\"1\" class=\"dataframe\">\n",
       "  <thead>\n",
       "    <tr style=\"text-align: right;\">\n",
       "      <th></th>\n",
       "      <th>genre_id</th>\n",
       "      <th>ts_listen</th>\n",
       "      <th>media_id</th>\n",
       "      <th>album_id</th>\n",
       "      <th>context_type</th>\n",
       "      <th>release_date</th>\n",
       "      <th>platform_name</th>\n",
       "      <th>platform_family</th>\n",
       "      <th>media_duration</th>\n",
       "      <th>listen_type</th>\n",
       "      <th>...</th>\n",
       "      <th>release_date_YEAR</th>\n",
       "      <th>ts_listen_DAY_OF_WEEK</th>\n",
       "      <th>ts_listen_PERIOD_OF_DAY</th>\n",
       "      <th>user_age_group</th>\n",
       "      <th>diff_user_song_age</th>\n",
       "      <th>media_decade</th>\n",
       "      <th>nmidia_regular_listened</th>\n",
       "      <th>nmidia_with_flow_listened</th>\n",
       "      <th>nmidia_regular</th>\n",
       "      <th>nmidia_with_flow</th>\n",
       "    </tr>\n",
       "  </thead>\n",
       "  <tbody>\n",
       "    <tr>\n",
       "      <th>0</th>\n",
       "      <td>25471</td>\n",
       "      <td>2016-12-01 11:00:15</td>\n",
       "      <td>222606</td>\n",
       "      <td>41774</td>\n",
       "      <td>12</td>\n",
       "      <td>2004-07-04 00:00:00</td>\n",
       "      <td>1</td>\n",
       "      <td>0</td>\n",
       "      <td>4.0</td>\n",
       "      <td>0</td>\n",
       "      <td>...</td>\n",
       "      <td>2004</td>\n",
       "      <td>3</td>\n",
       "      <td>0</td>\n",
       "      <td>2</td>\n",
       "      <td>16.580822</td>\n",
       "      <td>7</td>\n",
       "      <td>41</td>\n",
       "      <td>48</td>\n",
       "      <td>57</td>\n",
       "      <td>71</td>\n",
       "    </tr>\n",
       "    <tr>\n",
       "      <th>1</th>\n",
       "      <td>7</td>\n",
       "      <td>2016-12-01 10:48:50</td>\n",
       "      <td>4301418</td>\n",
       "      <td>400118</td>\n",
       "      <td>9</td>\n",
       "      <td>2009-10-16 00:00:00</td>\n",
       "      <td>1</td>\n",
       "      <td>0</td>\n",
       "      <td>7.0</td>\n",
       "      <td>0</td>\n",
       "      <td>...</td>\n",
       "      <td>2009</td>\n",
       "      <td>3</td>\n",
       "      <td>0</td>\n",
       "      <td>2</td>\n",
       "      <td>21.868493</td>\n",
       "      <td>7</td>\n",
       "      <td>41</td>\n",
       "      <td>48</td>\n",
       "      <td>57</td>\n",
       "      <td>71</td>\n",
       "    </tr>\n",
       "    <tr>\n",
       "      <th>2</th>\n",
       "      <td>10</td>\n",
       "      <td>2016-11-30 11:48:22</td>\n",
       "      <td>983248</td>\n",
       "      <td>109347</td>\n",
       "      <td>0</td>\n",
       "      <td>2002-10-21 00:00:00</td>\n",
       "      <td>1</td>\n",
       "      <td>0</td>\n",
       "      <td>3.0</td>\n",
       "      <td>0</td>\n",
       "      <td>...</td>\n",
       "      <td>2002</td>\n",
       "      <td>2</td>\n",
       "      <td>0</td>\n",
       "      <td>2</td>\n",
       "      <td>14.879452</td>\n",
       "      <td>7</td>\n",
       "      <td>41</td>\n",
       "      <td>48</td>\n",
       "      <td>57</td>\n",
       "      <td>71</td>\n",
       "    </tr>\n",
       "    <tr>\n",
       "      <th>3</th>\n",
       "      <td>10</td>\n",
       "      <td>2016-12-01 07:18:24</td>\n",
       "      <td>983248</td>\n",
       "      <td>109347</td>\n",
       "      <td>0</td>\n",
       "      <td>2002-10-21 00:00:00</td>\n",
       "      <td>1</td>\n",
       "      <td>0</td>\n",
       "      <td>3.0</td>\n",
       "      <td>0</td>\n",
       "      <td>...</td>\n",
       "      <td>2002</td>\n",
       "      <td>3</td>\n",
       "      <td>0</td>\n",
       "      <td>2</td>\n",
       "      <td>14.876712</td>\n",
       "      <td>7</td>\n",
       "      <td>41</td>\n",
       "      <td>48</td>\n",
       "      <td>57</td>\n",
       "      <td>71</td>\n",
       "    </tr>\n",
       "    <tr>\n",
       "      <th>4</th>\n",
       "      <td>10</td>\n",
       "      <td>2016-11-29 09:42:52</td>\n",
       "      <td>983248</td>\n",
       "      <td>109347</td>\n",
       "      <td>1</td>\n",
       "      <td>2002-10-21 00:00:00</td>\n",
       "      <td>1</td>\n",
       "      <td>0</td>\n",
       "      <td>3.0</td>\n",
       "      <td>1</td>\n",
       "      <td>...</td>\n",
       "      <td>2002</td>\n",
       "      <td>1</td>\n",
       "      <td>0</td>\n",
       "      <td>2</td>\n",
       "      <td>14.882192</td>\n",
       "      <td>7</td>\n",
       "      <td>41</td>\n",
       "      <td>48</td>\n",
       "      <td>57</td>\n",
       "      <td>71</td>\n",
       "    </tr>\n",
       "  </tbody>\n",
       "</table>\n",
       "<p>5 rows × 32 columns</p>\n",
       "</div>"
      ],
      "text/plain": [
       "   genre_id            ts_listen  media_id  album_id  context_type         release_date  platform_name  platform_family  media_duration  listen_type        ...         release_date_YEAR  \\\n",
       "0     25471  2016-12-01 11:00:15    222606     41774            12  2004-07-04 00:00:00              1                0             4.0            0        ...                      2004   \n",
       "1         7  2016-12-01 10:48:50   4301418    400118             9  2009-10-16 00:00:00              1                0             7.0            0        ...                      2009   \n",
       "2        10  2016-11-30 11:48:22    983248    109347             0  2002-10-21 00:00:00              1                0             3.0            0        ...                      2002   \n",
       "3        10  2016-12-01 07:18:24    983248    109347             0  2002-10-21 00:00:00              1                0             3.0            0        ...                      2002   \n",
       "4        10  2016-11-29 09:42:52    983248    109347             1  2002-10-21 00:00:00              1                0             3.0            1        ...                      2002   \n",
       "\n",
       "   ts_listen_DAY_OF_WEEK  ts_listen_PERIOD_OF_DAY  user_age_group  diff_user_song_age media_decade  nmidia_regular_listened  nmidia_with_flow_listened  nmidia_regular  nmidia_with_flow  \n",
       "0                      3                        0               2           16.580822            7                       41                         48              57                71  \n",
       "1                      3                        0               2           21.868493            7                       41                         48              57                71  \n",
       "2                      2                        0               2           14.879452            7                       41                         48              57                71  \n",
       "3                      3                        0               2           14.876712            7                       41                         48              57                71  \n",
       "4                      1                        0               2           14.882192            7                       41                         48              57                71  \n",
       "\n",
       "[5 rows x 32 columns]"
      ]
     },
     "execution_count": 15,
     "metadata": {},
     "output_type": "execute_result"
    }
   ],
   "source": [
    "df_train = pd.merge(df_train, df_user, on=\"user_id\")\n",
    "df_test = pd.merge(df_test, df_user, on=\"user_id\")\n",
    "df_train.head()"
   ]
  },
  {
   "cell_type": "code",
   "execution_count": null,
   "metadata": {
    "collapsed": true,
    "deletable": true,
    "editable": true
   },
   "outputs": [],
   "source": []
  },
  {
   "cell_type": "code",
   "execution_count": null,
   "metadata": {
    "collapsed": false,
    "deletable": true,
    "editable": true
   },
   "outputs": [],
   "source": []
  },
  {
   "cell_type": "markdown",
   "metadata": {
    "deletable": true,
    "editable": true,
    "ein.tags": [
     "worksheet-0"
    ],
    "slideshow": {
     "slide_type": "-"
    }
   },
   "source": [
    "### Check for NA\n",
    "#### Ver depois sobre o user_age_group!"
   ]
  },
  {
   "cell_type": "code",
   "execution_count": 16,
   "metadata": {
    "autoscroll": "json-false",
    "collapsed": false,
    "deletable": true,
    "editable": true,
    "ein.tags": [
     "worksheet-0"
    ],
    "slideshow": {
     "slide_type": "-"
    }
   },
   "outputs": [],
   "source": [
    "# x = pd.isnull(df_train).sum()\n",
    "# x[x > 0]"
   ]
  },
  {
   "cell_type": "code",
   "execution_count": 17,
   "metadata": {
    "autoscroll": "json-false",
    "collapsed": false,
    "deletable": true,
    "editable": true,
    "ein.tags": [
     "worksheet-0"
    ],
    "slideshow": {
     "slide_type": "-"
    }
   },
   "outputs": [],
   "source": [
    "# df_train.dropna(inplace=True)"
   ]
  },
  {
   "cell_type": "code",
   "execution_count": 18,
   "metadata": {
    "autoscroll": "json-false",
    "collapsed": false,
    "deletable": true,
    "editable": true,
    "ein.tags": [
     "worksheet-0"
    ],
    "slideshow": {
     "slide_type": "-"
    }
   },
   "outputs": [],
   "source": [
    "# x = pd.isnull(df_train).sum()\n",
    "# x[x > 0]\n",
    "# del x"
   ]
  },
  {
   "cell_type": "code",
   "execution_count": 19,
   "metadata": {
    "autoscroll": "json-false",
    "collapsed": false,
    "deletable": true,
    "editable": true,
    "ein.tags": [
     "worksheet-0"
    ],
    "slideshow": {
     "slide_type": "-"
    }
   },
   "outputs": [],
   "source": [
    "y = df_train[\"is_listened\"].values"
   ]
  },
  {
   "cell_type": "code",
   "execution_count": 20,
   "metadata": {
    "autoscroll": "json-false",
    "collapsed": false,
    "deletable": true,
    "editable": true,
    "ein.tags": [
     "worksheet-0"
    ],
    "slideshow": {
     "slide_type": "-"
    }
   },
   "outputs": [],
   "source": [
    "categorical_cols = [\"genre_id\",\n",
    "                   \"media_id\",\n",
    "                   \"album_id\",\n",
    "                   \"context_type\",\n",
    "                   \"release_date\",\n",
    "                   \"platform_name\",\n",
    "                   \"platform_family\",\n",
    "                   \"listen_type\",\n",
    "                   \"user_gender\",\n",
    "                   \"user_id\",\n",
    "                   \"artist_id\",\n",
    "                   \"user_age\"]"
   ]
  },
  {
   "cell_type": "markdown",
   "metadata": {
    "deletable": true,
    "editable": true,
    "ein.tags": [
     "worksheet-0"
    ],
    "slideshow": {
     "slide_type": "-"
    }
   },
   "source": [
    "### Let's inspect the categorical variables!"
   ]
  },
  {
   "cell_type": "code",
   "execution_count": 21,
   "metadata": {
    "autoscroll": "json-false",
    "collapsed": false,
    "deletable": true,
    "editable": true,
    "ein.tags": [
     "worksheet-0"
    ],
    "slideshow": {
     "slide_type": "-"
    }
   },
   "outputs": [
    {
     "name": "stdout",
     "output_type": "stream",
     "text": [
      "genre_id: 2922\n",
      "media_id: 452965\n",
      "album_id: 151464\n",
      "context_type: 74\n",
      "release_date: 8901\n",
      "platform_name: 3\n",
      "platform_family: 3\n",
      "listen_type: 2\n",
      "user_gender: 2\n",
      "user_id: 19918\n",
      "artist_id: 67135\n",
      "user_age: 13\n"
     ]
    }
   ],
   "source": [
    "for col in categorical_cols:\n",
    "    print(\"{}: {}\".format(col, len(df_train[col].unique())))"
   ]
  },
  {
   "cell_type": "markdown",
   "metadata": {
    "deletable": true,
    "editable": true,
    "ein.tags": [
     "worksheet-0"
    ],
    "slideshow": {
     "slide_type": "-"
    }
   },
   "source": [
    "### Strategy\n",
    "1. Apply onehot to categorical with few classes\n",
    "2. Rank categories to artist id\n",
    "3. target encoder for context and genre\n",
    "4. discard media, album, release date and user_id"
   ]
  },
  {
   "cell_type": "code",
   "execution_count": 22,
   "metadata": {
    "autoscroll": "json-false",
    "collapsed": false,
    "deletable": true,
    "editable": true,
    "ein.tags": [
     "worksheet-0"
    ],
    "slideshow": {
     "slide_type": "-"
    }
   },
   "outputs": [],
   "source": [
    "from greenpyce.feature_engineering import TargetEncoder\n",
    "from greenpyce.feature_engineering import onehot\n",
    "from greenpyce.feature_engineering import RankCategorical\n",
    "from greenpyce.feature_engineering import LabelCount"
   ]
  },
  {
   "cell_type": "code",
   "execution_count": 23,
   "metadata": {
    "autoscroll": "json-false",
    "collapsed": false,
    "deletable": true,
    "editable": true,
    "ein.tags": [
     "worksheet-0"
    ],
    "slideshow": {
     "slide_type": "-"
    }
   },
   "outputs": [
    {
     "data": {
      "text/plain": [
       "array(['genre_id', 'ts_listen', 'media_id', 'album_id', 'context_type',\n",
       "       'release_date', 'platform_name', 'platform_family',\n",
       "       'media_duration', 'listen_type', 'user_gender', 'user_id',\n",
       "       'artist_id', 'user_age', 'is_listened', 'text', 'year',\n",
       "       'diff_ts_listen_AND_release_date_D',\n",
       "       'diff_ts_listen_AND_release_date_M',\n",
       "       'diff_ts_listen_AND_release_date_Y', 'release_date_DAY',\n",
       "       'release_date_MONTH', 'release_date_YEAR', 'ts_listen_DAY_OF_WEEK',\n",
       "       'ts_listen_PERIOD_OF_DAY', 'user_age_group', 'diff_user_song_age',\n",
       "       'media_decade', 'nmidia_regular_listened',\n",
       "       'nmidia_with_flow_listened', 'nmidia_regular', 'nmidia_with_flow'], dtype=object)"
      ]
     },
     "execution_count": 23,
     "metadata": {},
     "output_type": "execute_result"
    }
   ],
   "source": [
    "df_train.columns.values"
   ]
  },
  {
   "cell_type": "markdown",
   "metadata": {
    "deletable": true,
    "editable": true,
    "ein.tags": [
     "worksheet-0"
    ],
    "slideshow": {
     "slide_type": "-"
    }
   },
   "source": [
    "Index([u'Unnamed: 0', u'Unnamed: 0.1', u'genre_id', u'ts_listen', u'media_id',\n",
    "       u'album_id', u'context_type', u'release_date', u'platform_name',\n",
    "       u'platform_family', u'media_duration', u'listen_type', u'user_gender',\n",
    "       u'user_id', u'artist_id', u'user_age', u'is_listened', u'text', u'year',\n",
    "       u'diff_ts_listen_AND_release_date_D',\n",
    "       u'diff_ts_listen_AND_release_date_M',\n",
    "       u'diff_ts_listen_AND_release_date_Y', u'release_date_DAY',\n",
    "       u'release_date_MONTH', u'release_date_YEAR', u'ts_listen_DAY_OF_WEEK',\n",
    "       u'ts_listen_PERIOD_OF_DAY', u'user_age_group', u'diff_user_song_age',\n",
    "       u'media_decade'],\n",
    "      dtype='object')"
   ]
  },
  {
   "cell_type": "code",
   "execution_count": 24,
   "metadata": {
    "autoscroll": "json-false",
    "collapsed": false,
    "deletable": true,
    "editable": true,
    "ein.tags": [
     "worksheet-0"
    ],
    "slideshow": {
     "slide_type": "-"
    }
   },
   "outputs": [],
   "source": [
    "cols_for_target_encoder = [\"genre_id\", \n",
    "                           \"context_type\", \n",
    "                           \"user_id\", \n",
    "                           \"media_id\", \n",
    "                           \"listen_type\"]\n",
    "\n",
    "cols_for_onehot = [\"platform_name\", \n",
    "                   \"platform_family\", \n",
    "#                   \"listen_type\", \n",
    "                   \"user_gender\", \n",
    "                   \"user_age_group\", \n",
    "                   \"ts_listen_DAY_OF_WEEK\",\n",
    "                  \"ts_listen_PERIOD_OF_DAY\"]\n",
    "\n",
    "cols_for_rank = [\"artist_id\"]\n",
    "                #\"media_decade\"]\n",
    "\n",
    "\n",
    "target = \"is_listened\""
   ]
  },
  {
   "cell_type": "code",
   "execution_count": null,
   "metadata": {
    "collapsed": true,
    "deletable": true,
    "editable": true
   },
   "outputs": [],
   "source": []
  },
  {
   "cell_type": "code",
   "execution_count": 25,
   "metadata": {
    "autoscroll": "json-false",
    "collapsed": false,
    "deletable": true,
    "editable": true,
    "ein.tags": [
     "worksheet-0"
    ],
    "slideshow": {
     "slide_type": "-"
    }
   },
   "outputs": [],
   "source": [
    "te = TargetEncoder(cols_for_target_encoder, \"is_listened\")"
   ]
  },
  {
   "cell_type": "code",
   "execution_count": 26,
   "metadata": {
    "autoscroll": "json-false",
    "collapsed": false,
    "deletable": true,
    "editable": true,
    "ein.tags": [
     "worksheet-0"
    ],
    "slideshow": {
     "slide_type": "-"
    }
   },
   "outputs": [],
   "source": [
    "te.fit(df_train)"
   ]
  },
  {
   "cell_type": "code",
   "execution_count": 27,
   "metadata": {
    "autoscroll": "json-false",
    "collapsed": false,
    "deletable": true,
    "editable": true,
    "ein.tags": [
     "worksheet-0"
    ],
    "slideshow": {
     "slide_type": "-"
    }
   },
   "outputs": [],
   "source": [
    "te.transform(df_train)\n",
    "te.transform(df_test)\n",
    "del te"
   ]
  },
  {
   "cell_type": "code",
   "execution_count": 28,
   "metadata": {
    "collapsed": false,
    "deletable": true,
    "editable": true
   },
   "outputs": [
    {
     "name": "stdout",
     "output_type": "stream",
     "text": [
      "das\n"
     ]
    }
   ],
   "source": [
    "print(\"das\")"
   ]
  },
  {
   "cell_type": "code",
   "execution_count": 29,
   "metadata": {
    "collapsed": false,
    "deletable": true,
    "editable": true
   },
   "outputs": [
    {
     "name": "stdout",
     "output_type": "stream",
     "text": [
      "teste\n"
     ]
    }
   ],
   "source": [
    "print(\"teste\")"
   ]
  },
  {
   "cell_type": "code",
   "execution_count": 30,
   "metadata": {
    "autoscroll": "json-false",
    "collapsed": false,
    "deletable": true,
    "editable": true,
    "ein.tags": [
     "worksheet-0"
    ],
    "slideshow": {
     "slide_type": "-"
    }
   },
   "outputs": [],
   "source": [
    "rc = RankCategorical(cols_for_rank)\n",
    "rc.fit(df_train)\n",
    "rc.transform(df_train)\n",
    "rc.transform(df_test)\n",
    "del rc"
   ]
  },
  {
   "cell_type": "code",
   "execution_count": 31,
   "metadata": {
    "autoscroll": "json-false",
    "collapsed": false,
    "deletable": true,
    "editable": true,
    "ein.tags": [
     "worksheet-0"
    ],
    "slideshow": {
     "slide_type": "-"
    }
   },
   "outputs": [],
   "source": [
    "rc = RankCategorical([\"media_decade\"])\n",
    "rc.fit(df_train)\n",
    "rc.transform(df_train)\n",
    "rc.transform(df_test)\n",
    "del rc"
   ]
  },
  {
   "cell_type": "code",
   "execution_count": 32,
   "metadata": {
    "autoscroll": "json-false",
    "collapsed": false,
    "deletable": true,
    "editable": true,
    "ein.tags": [
     "worksheet-0"
    ],
    "slideshow": {
     "slide_type": "-"
    }
   },
   "outputs": [],
   "source": [
    "# lc = RankCategorical(cols_for_count)\n",
    "# lc.fit(df_train)\n",
    "# lc.transform(df_train)\n",
    "# lc.transform(df_test)"
   ]
  },
  {
   "cell_type": "code",
   "execution_count": 33,
   "metadata": {
    "autoscroll": "json-false",
    "collapsed": false,
    "deletable": true,
    "editable": true,
    "ein.tags": [
     "worksheet-0"
    ],
    "slideshow": {
     "slide_type": "-"
    }
   },
   "outputs": [
    {
     "data": {
      "text/html": [
       "<div>\n",
       "<table border=\"1\" class=\"dataframe\">\n",
       "  <thead>\n",
       "    <tr style=\"text-align: right;\">\n",
       "      <th></th>\n",
       "      <th>genre_id</th>\n",
       "      <th>ts_listen</th>\n",
       "      <th>media_id</th>\n",
       "      <th>album_id</th>\n",
       "      <th>context_type</th>\n",
       "      <th>release_date</th>\n",
       "      <th>platform_name</th>\n",
       "      <th>platform_family</th>\n",
       "      <th>media_duration</th>\n",
       "      <th>listen_type</th>\n",
       "      <th>...</th>\n",
       "      <th>release_date_YEAR</th>\n",
       "      <th>ts_listen_DAY_OF_WEEK</th>\n",
       "      <th>ts_listen_PERIOD_OF_DAY</th>\n",
       "      <th>user_age_group</th>\n",
       "      <th>diff_user_song_age</th>\n",
       "      <th>media_decade</th>\n",
       "      <th>nmidia_regular_listened</th>\n",
       "      <th>nmidia_with_flow_listened</th>\n",
       "      <th>nmidia_regular</th>\n",
       "      <th>nmidia_with_flow</th>\n",
       "    </tr>\n",
       "  </thead>\n",
       "  <tbody>\n",
       "    <tr>\n",
       "      <th>0</th>\n",
       "      <td>0.688147</td>\n",
       "      <td>2016-12-01 11:00:15</td>\n",
       "      <td>0.000000</td>\n",
       "      <td>41774</td>\n",
       "      <td>0.695604</td>\n",
       "      <td>2004-07-04 00:00:00</td>\n",
       "      <td>1</td>\n",
       "      <td>0</td>\n",
       "      <td>4.0</td>\n",
       "      <td>0.721113</td>\n",
       "      <td>...</td>\n",
       "      <td>2004</td>\n",
       "      <td>3</td>\n",
       "      <td>0</td>\n",
       "      <td>2</td>\n",
       "      <td>16.580822</td>\n",
       "      <td>2</td>\n",
       "      <td>41</td>\n",
       "      <td>48</td>\n",
       "      <td>57</td>\n",
       "      <td>71</td>\n",
       "    </tr>\n",
       "    <tr>\n",
       "      <th>1</th>\n",
       "      <td>0.663153</td>\n",
       "      <td>2016-12-01 10:48:50</td>\n",
       "      <td>0.736878</td>\n",
       "      <td>400118</td>\n",
       "      <td>0.758048</td>\n",
       "      <td>2009-10-16 00:00:00</td>\n",
       "      <td>1</td>\n",
       "      <td>0</td>\n",
       "      <td>7.0</td>\n",
       "      <td>0.721113</td>\n",
       "      <td>...</td>\n",
       "      <td>2009</td>\n",
       "      <td>3</td>\n",
       "      <td>0</td>\n",
       "      <td>2</td>\n",
       "      <td>21.868493</td>\n",
       "      <td>2</td>\n",
       "      <td>41</td>\n",
       "      <td>48</td>\n",
       "      <td>57</td>\n",
       "      <td>71</td>\n",
       "    </tr>\n",
       "    <tr>\n",
       "      <th>2</th>\n",
       "      <td>0.724500</td>\n",
       "      <td>2016-11-30 11:48:22</td>\n",
       "      <td>0.631609</td>\n",
       "      <td>109347</td>\n",
       "      <td>0.688531</td>\n",
       "      <td>2002-10-21 00:00:00</td>\n",
       "      <td>1</td>\n",
       "      <td>0</td>\n",
       "      <td>3.0</td>\n",
       "      <td>0.721113</td>\n",
       "      <td>...</td>\n",
       "      <td>2002</td>\n",
       "      <td>2</td>\n",
       "      <td>0</td>\n",
       "      <td>2</td>\n",
       "      <td>14.879452</td>\n",
       "      <td>2</td>\n",
       "      <td>41</td>\n",
       "      <td>48</td>\n",
       "      <td>57</td>\n",
       "      <td>71</td>\n",
       "    </tr>\n",
       "    <tr>\n",
       "      <th>3</th>\n",
       "      <td>0.724500</td>\n",
       "      <td>2016-12-01 07:18:24</td>\n",
       "      <td>0.631609</td>\n",
       "      <td>109347</td>\n",
       "      <td>0.688531</td>\n",
       "      <td>2002-10-21 00:00:00</td>\n",
       "      <td>1</td>\n",
       "      <td>0</td>\n",
       "      <td>3.0</td>\n",
       "      <td>0.721113</td>\n",
       "      <td>...</td>\n",
       "      <td>2002</td>\n",
       "      <td>3</td>\n",
       "      <td>0</td>\n",
       "      <td>2</td>\n",
       "      <td>14.876712</td>\n",
       "      <td>2</td>\n",
       "      <td>41</td>\n",
       "      <td>48</td>\n",
       "      <td>57</td>\n",
       "      <td>71</td>\n",
       "    </tr>\n",
       "    <tr>\n",
       "      <th>4</th>\n",
       "      <td>0.724500</td>\n",
       "      <td>2016-11-29 09:42:52</td>\n",
       "      <td>0.631609</td>\n",
       "      <td>109347</td>\n",
       "      <td>0.573605</td>\n",
       "      <td>2002-10-21 00:00:00</td>\n",
       "      <td>1</td>\n",
       "      <td>0</td>\n",
       "      <td>3.0</td>\n",
       "      <td>0.600282</td>\n",
       "      <td>...</td>\n",
       "      <td>2002</td>\n",
       "      <td>1</td>\n",
       "      <td>0</td>\n",
       "      <td>2</td>\n",
       "      <td>14.882192</td>\n",
       "      <td>2</td>\n",
       "      <td>41</td>\n",
       "      <td>48</td>\n",
       "      <td>57</td>\n",
       "      <td>71</td>\n",
       "    </tr>\n",
       "  </tbody>\n",
       "</table>\n",
       "<p>5 rows × 32 columns</p>\n",
       "</div>"
      ],
      "text/plain": [
       "   genre_id            ts_listen  media_id  album_id  context_type         release_date  platform_name  platform_family  media_duration  listen_type        ...         release_date_YEAR  \\\n",
       "0  0.688147  2016-12-01 11:00:15  0.000000     41774      0.695604  2004-07-04 00:00:00              1                0             4.0     0.721113        ...                      2004   \n",
       "1  0.663153  2016-12-01 10:48:50  0.736878    400118      0.758048  2009-10-16 00:00:00              1                0             7.0     0.721113        ...                      2009   \n",
       "2  0.724500  2016-11-30 11:48:22  0.631609    109347      0.688531  2002-10-21 00:00:00              1                0             3.0     0.721113        ...                      2002   \n",
       "3  0.724500  2016-12-01 07:18:24  0.631609    109347      0.688531  2002-10-21 00:00:00              1                0             3.0     0.721113        ...                      2002   \n",
       "4  0.724500  2016-11-29 09:42:52  0.631609    109347      0.573605  2002-10-21 00:00:00              1                0             3.0     0.600282        ...                      2002   \n",
       "\n",
       "   ts_listen_DAY_OF_WEEK  ts_listen_PERIOD_OF_DAY  user_age_group  diff_user_song_age media_decade  nmidia_regular_listened  nmidia_with_flow_listened  nmidia_regular  nmidia_with_flow  \n",
       "0                      3                        0               2           16.580822            2                       41                         48              57                71  \n",
       "1                      3                        0               2           21.868493            2                       41                         48              57                71  \n",
       "2                      2                        0               2           14.879452            2                       41                         48              57                71  \n",
       "3                      3                        0               2           14.876712            2                       41                         48              57                71  \n",
       "4                      1                        0               2           14.882192            2                       41                         48              57                71  \n",
       "\n",
       "[5 rows x 32 columns]"
      ]
     },
     "execution_count": 33,
     "metadata": {},
     "output_type": "execute_result"
    }
   ],
   "source": [
    "df_train.head()"
   ]
  },
  {
   "cell_type": "code",
   "execution_count": 34,
   "metadata": {
    "autoscroll": "json-false",
    "collapsed": false,
    "deletable": true,
    "editable": true,
    "ein.tags": [
     "worksheet-0"
    ],
    "slideshow": {
     "slide_type": "-"
    }
   },
   "outputs": [],
   "source": [
    "df_train = onehot(df_train, cols_for_onehot)\n",
    "df_test = onehot(df_test, cols_for_onehot)"
   ]
  },
  {
   "cell_type": "code",
   "execution_count": 35,
   "metadata": {
    "autoscroll": "json-false",
    "collapsed": false,
    "deletable": true,
    "editable": true,
    "ein.tags": [
     "worksheet-0"
    ],
    "slideshow": {
     "slide_type": "-"
    }
   },
   "outputs": [
    {
     "name": "stdout",
     "output_type": "stream",
     "text": [
      "   genre_id            ts_listen  media_id  album_id  context_type         release_date  media_duration  listen_type   user_id  artist_id            ...              user_age_group_2  \\\n",
      "0  0.688147  2016-12-01 11:00:15  0.000000     41774      0.695604  2004-07-04 00:00:00             4.0     0.721113  0.676991      56514            ...                             1   \n",
      "1  0.663153  2016-12-01 10:48:50  0.736878    400118      0.758048  2009-10-16 00:00:00             7.0     0.721113  0.676991        599            ...                             1   \n",
      "2  0.724500  2016-11-30 11:48:22  0.631609    109347      0.688531  2002-10-21 00:00:00             3.0     0.721113  0.676991         66            ...                             1   \n",
      "3  0.724500  2016-12-01 07:18:24  0.631609    109347      0.688531  2002-10-21 00:00:00             3.0     0.721113  0.676991         66            ...                             1   \n",
      "4  0.724500  2016-11-29 09:42:52  0.631609    109347      0.573605  2002-10-21 00:00:00             3.0     0.600282  0.676991         66            ...                             1   \n",
      "\n",
      "   ts_listen_DAY_OF_WEEK_1 ts_listen_DAY_OF_WEEK_2  ts_listen_DAY_OF_WEEK_3  ts_listen_DAY_OF_WEEK_4  ts_listen_DAY_OF_WEEK_5  ts_listen_DAY_OF_WEEK_6  ts_listen_PERIOD_OF_DAY_1  \\\n",
      "0                        0                       0                        1                        0                        0                        0                          0   \n",
      "1                        0                       0                        1                        0                        0                        0                          0   \n",
      "2                        0                       1                        0                        0                        0                        0                          0   \n",
      "3                        0                       0                        1                        0                        0                        0                          0   \n",
      "4                        1                       0                        0                        0                        0                        0                          0   \n",
      "\n",
      "   ts_listen_PERIOD_OF_DAY_2  ts_listen_PERIOD_OF_DAY_3  \n",
      "0                          0                          0  \n",
      "1                          0                          0  \n",
      "2                          0                          0  \n",
      "3                          0                          0  \n",
      "4                          0                          0  \n",
      "\n",
      "[5 rows x 42 columns]\n"
     ]
    }
   ],
   "source": [
    "print(df_train.head())"
   ]
  },
  {
   "cell_type": "code",
   "execution_count": 36,
   "metadata": {
    "autoscroll": "json-false",
    "collapsed": false,
    "deletable": true,
    "editable": true,
    "ein.tags": [
     "worksheet-0"
    ],
    "slideshow": {
     "slide_type": "-"
    }
   },
   "outputs": [],
   "source": [
    "#df_train = rank_categorical(df_train, cols_for_rank)"
   ]
  },
  {
   "cell_type": "code",
   "execution_count": 37,
   "metadata": {
    "autoscroll": "json-false",
    "collapsed": false,
    "deletable": true,
    "editable": true,
    "ein.tags": [
     "worksheet-0"
    ],
    "slideshow": {
     "slide_type": "-"
    }
   },
   "outputs": [
    {
     "data": {
      "text/plain": [
       "array(['genre_id', 'ts_listen', 'media_id', 'album_id', 'context_type',\n",
       "       'release_date', 'media_duration', 'listen_type', 'user_id',\n",
       "       'artist_id', 'user_age', 'is_listened', 'text', 'year',\n",
       "       'diff_ts_listen_AND_release_date_D',\n",
       "       'diff_ts_listen_AND_release_date_M',\n",
       "       'diff_ts_listen_AND_release_date_Y', 'release_date_DAY',\n",
       "       'release_date_MONTH', 'release_date_YEAR', 'diff_user_song_age',\n",
       "       'media_decade', 'nmidia_regular_listened',\n",
       "       'nmidia_with_flow_listened', 'nmidia_regular', 'nmidia_with_flow',\n",
       "       'platform_name_1', 'platform_name_2', 'platform_family_1',\n",
       "       'platform_family_2', 'user_gender_1', 'user_age_group_1',\n",
       "       'user_age_group_2', 'ts_listen_DAY_OF_WEEK_1',\n",
       "       'ts_listen_DAY_OF_WEEK_2', 'ts_listen_DAY_OF_WEEK_3',\n",
       "       'ts_listen_DAY_OF_WEEK_4', 'ts_listen_DAY_OF_WEEK_5',\n",
       "       'ts_listen_DAY_OF_WEEK_6', 'ts_listen_PERIOD_OF_DAY_1',\n",
       "       'ts_listen_PERIOD_OF_DAY_2', 'ts_listen_PERIOD_OF_DAY_3'], dtype=object)"
      ]
     },
     "execution_count": 37,
     "metadata": {},
     "output_type": "execute_result"
    }
   ],
   "source": [
    "df_train.columns.values"
   ]
  },
  {
   "cell_type": "code",
   "execution_count": 38,
   "metadata": {
    "autoscroll": "json-false",
    "collapsed": false,
    "deletable": true,
    "editable": true,
    "ein.tags": [
     "worksheet-0"
    ],
    "slideshow": {
     "slide_type": "-"
    }
   },
   "outputs": [],
   "source": [
    "%timeit\n",
    "### Drop\n",
    "to_drop = ['ts_listen', 'album_id', 'release_date', 'artist_id', \"year\", \"text\"]#, \"nmidia_with_flow_listened_PROP\", \"nmidia_PROP_diff\", \"nmidia_regular_listened_PROP\"]\n",
    "df_train.drop(to_drop, axis = 1,inplace=True)\n",
    "df_test.drop(to_drop, axis = 1,inplace=True)"
   ]
  },
  {
   "cell_type": "code",
   "execution_count": 39,
   "metadata": {
    "autoscroll": "json-false",
    "collapsed": false,
    "deletable": true,
    "editable": true,
    "ein.tags": [
     "worksheet-0"
    ],
    "slideshow": {
     "slide_type": "-"
    }
   },
   "outputs": [],
   "source": [
    "# to_drop = [\"year\", \"text\"]\n",
    "# df_train.drop(to_drop, axis = 1,inplace=True)"
   ]
  },
  {
   "cell_type": "code",
   "execution_count": 40,
   "metadata": {
    "autoscroll": "json-false",
    "collapsed": false,
    "deletable": true,
    "editable": true,
    "ein.tags": [
     "worksheet-0"
    ],
    "slideshow": {
     "slide_type": "-"
    }
   },
   "outputs": [
    {
     "data": {
      "text/plain": [
       "['genre_id',\n",
       " 'media_id',\n",
       " 'context_type',\n",
       " 'media_duration',\n",
       " 'listen_type',\n",
       " 'user_id',\n",
       " 'user_age',\n",
       " 'diff_ts_listen_AND_release_date_D',\n",
       " 'diff_ts_listen_AND_release_date_M',\n",
       " 'diff_ts_listen_AND_release_date_Y',\n",
       " 'release_date_DAY',\n",
       " 'release_date_MONTH',\n",
       " 'release_date_YEAR',\n",
       " 'diff_user_song_age',\n",
       " 'media_decade',\n",
       " 'nmidia_regular_listened',\n",
       " 'nmidia_with_flow_listened',\n",
       " 'nmidia_regular',\n",
       " 'nmidia_with_flow',\n",
       " 'platform_name_1',\n",
       " 'platform_name_2',\n",
       " 'platform_family_1',\n",
       " 'platform_family_2',\n",
       " 'user_gender_1',\n",
       " 'user_age_group_1',\n",
       " 'user_age_group_2',\n",
       " 'ts_listen_DAY_OF_WEEK_1',\n",
       " 'ts_listen_DAY_OF_WEEK_2',\n",
       " 'ts_listen_DAY_OF_WEEK_3',\n",
       " 'ts_listen_DAY_OF_WEEK_4',\n",
       " 'ts_listen_DAY_OF_WEEK_5',\n",
       " 'ts_listen_DAY_OF_WEEK_6',\n",
       " 'ts_listen_PERIOD_OF_DAY_1',\n",
       " 'ts_listen_PERIOD_OF_DAY_2',\n",
       " 'ts_listen_PERIOD_OF_DAY_3']"
      ]
     },
     "execution_count": 40,
     "metadata": {},
     "output_type": "execute_result"
    }
   ],
   "source": [
    "features = [col for col in df_train.columns.values if col != target]\n",
    "features"
   ]
  },
  {
   "cell_type": "code",
   "execution_count": 41,
   "metadata": {
    "autoscroll": "json-false",
    "collapsed": false,
    "deletable": true,
    "editable": true,
    "ein.tags": [
     "worksheet-0"
    ],
    "slideshow": {
     "slide_type": "-"
    }
   },
   "outputs": [],
   "source": [
    "from sklearn.model_selection import train_test_split"
   ]
  },
  {
   "cell_type": "code",
   "execution_count": 42,
   "metadata": {
    "autoscroll": "json-false",
    "collapsed": false,
    "deletable": true,
    "editable": true,
    "ein.tags": [
     "worksheet-0"
    ],
    "slideshow": {
     "slide_type": "-"
    }
   },
   "outputs": [],
   "source": [
    "X_train, X_test, y_train, y_test = train_test_split(df_train[features], df_train[target], test_size = 0.2)"
   ]
  },
  {
   "cell_type": "markdown",
   "metadata": {
    "deletable": true,
    "editable": true,
    "ein.tags": [
     "worksheet-0"
    ],
    "slideshow": {
     "slide_type": "-"
    }
   },
   "source": [
    "### Feature Selection"
   ]
  },
  {
   "cell_type": "code",
   "execution_count": 43,
   "metadata": {
    "autoscroll": "json-false",
    "collapsed": false,
    "deletable": true,
    "editable": true,
    "ein.tags": [
     "worksheet-0"
    ],
    "slideshow": {
     "slide_type": "-"
    }
   },
   "outputs": [
    {
     "name": "stdout",
     "output_type": "stream",
     "text": [
      "32 selected variables from 35, 91.43%\n",
      "['genre_id', 'media_id', 'context_type', 'media_duration', 'listen_type', 'user_id', 'user_age', 'diff_ts_listen_AND_release_date_D', 'diff_ts_listen_AND_release_date_M', 'diff_ts_listen_AND_release_date_Y', 'release_date_MONTH', 'release_date_YEAR', 'diff_user_song_age', 'media_decade', 'nmidia_regular_listened', 'nmidia_with_flow_listened', 'nmidia_regular', 'nmidia_with_flow', 'platform_name_1', 'platform_name_2', 'platform_family_1', 'platform_family_2', 'user_gender_1', 'user_age_group_1', 'user_age_group_2', 'ts_listen_DAY_OF_WEEK_1', 'ts_listen_DAY_OF_WEEK_4', 'ts_listen_DAY_OF_WEEK_5', 'ts_listen_DAY_OF_WEEK_6', 'ts_listen_PERIOD_OF_DAY_1', 'ts_listen_PERIOD_OF_DAY_2', 'ts_listen_PERIOD_OF_DAY_3']\n"
     ]
    }
   ],
   "source": [
    "from sklearn import feature_selection\n",
    "all_features = features\n",
    "function_rule_selection = feature_selection.f_classif\n",
    "alpha_cutoff = 0.01\n",
    "\n",
    "selection_rule = feature_selection.SelectFdr(function_rule_selection, alpha_cutoff)\n",
    "selection_rule.fit(X_train, y_train);\n",
    "\n",
    "all_pvalues = list(filter(lambda x: pd.notnull(x[0]), zip(selection_rule.pvalues_, all_features)))\n",
    "#print(all_pvalues)\n",
    "filtered_pvalues = list(filter(lambda x: x[0]<=alpha_cutoff, all_pvalues))\n",
    "#print(filtered_pvalues)\n",
    "all_select_features = list(map(lambda x: x[1], filtered_pvalues))\n",
    "\n",
    "print(\"{0} selected variables from {1}, {2:.2f}%\".format(len(all_select_features), \n",
    "                                                        len(all_features), \n",
    "                                                        len(filtered_pvalues)*100/float(len(all_features))))\n",
    "print(all_select_features)\n",
    "#print(filtered_pvalues)"
   ]
  },
  {
   "cell_type": "code",
   "execution_count": 44,
   "metadata": {
    "autoscroll": "json-false",
    "collapsed": false,
    "deletable": true,
    "editable": true,
    "ein.tags": [
     "worksheet-0"
    ],
    "slideshow": {
     "slide_type": "-"
    }
   },
   "outputs": [],
   "source": [
    "features = all_select_features\n",
    "X_train, X_test, y_train, y_test = train_test_split(df_train[features], df_train[target], test_size = 0.2)"
   ]
  },
  {
   "cell_type": "code",
   "execution_count": 45,
   "metadata": {
    "autoscroll": "json-false",
    "collapsed": false,
    "deletable": true,
    "editable": true,
    "ein.tags": [
     "worksheet-0"
    ],
    "slideshow": {
     "slide_type": "-"
    }
   },
   "outputs": [],
   "source": [
    "from sklearn import metrics\n",
    "from sklearn.metrics import confusion_matrix\n",
    "from sklearn.metrics import accuracy_score\n",
    "import matplotlib.pyplot as plt\n",
    "\n",
    "def complete_report(y_test, y_pred):\n",
    "    print(\"*********************************\")\n",
    "    print(\"Accuracy: {0:.2f}\".format(accuracy_score(y_test, y_pred)))\n",
    "    print(\"Precision: {0}\".format(metrics.precision_score(y_test, y_pred)))\n",
    "    print(\"Recall: {0}\".format(metrics.recall_score(y_test, y_pred)))\n",
    "    print(\"F1-Score: {0}\".format(metrics.f1_score(y_test, y_pred)))\n",
    "    conf_m = confusion_matrix(y_test, y_pred)\n",
    "    print(conf_m)\n",
    "    try: \n",
    "        print(\"Roc Area: {0}\".format(metrics.roc_auc_score(y_test, y_pred))) \n",
    "        roc_curve_label(y_test, y_pred)\n",
    "    except:\n",
    "        print(\"--\")\n",
    "    print(\"*********************************\")\n",
    "    \n",
    "    return metrics.roc_auc_score(y_test, y_pred)\n",
    "        \n",
    "def roc_curve_label(y_test, y_pred):\n",
    "    plt.figsize=(10,6)\n",
    "    fpr, tpr, _ = metrics.roc_curve(y_test, y_pred)\n",
    "    plt.figure(1)\n",
    "    plt.plot([0, 1], [0, 1], 'k--')\n",
    "    plt.plot(fpr, tpr, label='RT + LR')\n",
    "    plt.xlabel('False positive rate')\n",
    "    plt.ylabel('True positive rate')\n",
    "    plt.title('ROC curve')\n",
    "    plt.legend(loc='best')\n",
    "    plt.show()"
   ]
  },
  {
   "cell_type": "code",
   "execution_count": 46,
   "metadata": {
    "autoscroll": "json-false",
    "collapsed": false,
    "deletable": true,
    "editable": true,
    "ein.tags": [
     "worksheet-0"
    ],
    "slideshow": {
     "slide_type": "-"
    }
   },
   "outputs": [],
   "source": [
    "# %timeit\n",
    "# from sklearn.tree import DecisionTreeClassifier\n",
    "# model = DecisionTreeClassifier()\n",
    "# model.fit(X_train, y_train)"
   ]
  },
  {
   "cell_type": "code",
   "execution_count": 47,
   "metadata": {
    "autoscroll": "json-false",
    "collapsed": false,
    "deletable": true,
    "editable": true,
    "ein.tags": [
     "worksheet-0"
    ],
    "slideshow": {
     "slide_type": "-"
    }
   },
   "outputs": [],
   "source": [
    "# print(model.score(X_test, y_test))\n",
    "# complete_report(y_test, model.predict(X_test))"
   ]
  },
  {
   "cell_type": "markdown",
   "metadata": {
    "deletable": true,
    "editable": true,
    "ein.tags": [
     "worksheet-0"
    ],
    "slideshow": {
     "slide_type": "-"
    }
   },
   "source": [
    "acc: 0.70345496362865445  \n",
    "roc: 0.6912675674785278"
   ]
  },
  {
   "cell_type": "code",
   "execution_count": 48,
   "metadata": {
    "autoscroll": "json-false",
    "collapsed": false,
    "deletable": true,
    "editable": true,
    "ein.tags": [
     "worksheet-0"
    ],
    "slideshow": {
     "slide_type": "-"
    }
   },
   "outputs": [],
   "source": [
    "from sklearn.metrics import confusion_matrix"
   ]
  },
  {
   "cell_type": "code",
   "execution_count": 49,
   "metadata": {
    "autoscroll": "json-false",
    "collapsed": false,
    "deletable": true,
    "editable": true,
    "ein.tags": [
     "worksheet-0"
    ],
    "slideshow": {
     "slide_type": "-"
    }
   },
   "outputs": [],
   "source": [
    "# confusion_matrix(y_test, model.predict(X_test))"
   ]
  },
  {
   "cell_type": "code",
   "execution_count": 50,
   "metadata": {
    "autoscroll": "json-false",
    "collapsed": false,
    "deletable": true,
    "editable": true,
    "ein.tags": [
     "worksheet-0"
    ],
    "slideshow": {
     "slide_type": "-"
    }
   },
   "outputs": [
    {
     "data": {
      "text/plain": [
       "0.77935378802511501"
      ]
     },
     "execution_count": 50,
     "metadata": {},
     "output_type": "execute_result"
    }
   ],
   "source": [
    "from sklearn.ensemble import RandomForestClassifier\n",
    "\n",
    "model = RandomForestClassifier(n_jobs=4)\n",
    "model.fit(X_train, y_train)\n",
    "model.score(X_test, y_test)"
   ]
  },
  {
   "cell_type": "code",
   "execution_count": 51,
   "metadata": {
    "autoscroll": "json-false",
    "collapsed": false,
    "deletable": true,
    "editable": true,
    "ein.tags": [
     "worksheet-0"
    ],
    "slideshow": {
     "slide_type": "-"
    }
   },
   "outputs": [
    {
     "name": "stdout",
     "output_type": "stream",
     "text": [
      "*********************************\n",
      "Accuracy: 0.78\n",
      "Precision: 0.836939023534\n",
      "Recall: 0.841272328424\n",
      "F1-Score: 0.839100081471\n",
      "[[308421 169459]\n",
      " [164106 869778]]\n",
      "Roc Area: 0.743333284828\n"
     ]
    },
    {
     "data": {
      "image/png": "[encoded data removed]",
      "text/plain": [
       "<matplotlib.figure.Figure at 0x7fa006447710>"
      ]
     },
     "metadata": {},
     "output_type": "display_data"
    },
    {
     "name": "stdout",
     "output_type": "stream",
     "text": [
      "*********************************\n"
     ]
    },
    {
     "data": {
      "text/plain": [
       "0.74333328482790006"
      ]
     },
     "execution_count": 51,
     "metadata": {},
     "output_type": "execute_result"
    }
   ],
   "source": [
    "complete_report(y_test, model.predict(X_test))"
   ]
  },
  {
   "cell_type": "code",
   "execution_count": 52,
   "metadata": {
    "autoscroll": "json-false",
    "collapsed": false,
    "deletable": true,
    "editable": true,
    "ein.tags": [
     "worksheet-0"
    ],
    "slideshow": {
     "slide_type": "-"
    }
   },
   "outputs": [
    {
     "data": {
      "image/png": "[encoded data removed]",
      "text/plain": [
       "<matplotlib.figure.Figure at 0x7fa05caf1650>"
      ]
     },
     "metadata": {},
     "output_type": "display_data"
    }
   ],
   "source": [
    "roc_curve_label(y_test, model.predict(X_test))"
   ]
  },
  {
   "cell_type": "code",
   "execution_count": 53,
   "metadata": {
    "collapsed": false,
    "deletable": true,
    "editable": true
   },
   "outputs": [
    {
     "name": "stdout",
     "output_type": "stream",
     "text": [
      "19918\n"
     ]
    }
   ],
   "source": [
    "print(len(df_test))"
   ]
  },
  {
   "cell_type": "code",
   "execution_count": 54,
   "metadata": {
    "autoscroll": "json-false",
    "collapsed": false,
    "deletable": true,
    "editable": true,
    "ein.tags": [
     "worksheet-0"
    ],
    "slideshow": {
     "slide_type": "-"
    }
   },
   "outputs": [
    {
     "data": {
      "text/plain": [
       "0    0.400\n",
       "1    0.700\n",
       "2    0.200\n",
       "3    0.800\n",
       "4    0.225\n",
       "Name: prediction, dtype: float64"
      ]
     },
     "execution_count": 54,
     "metadata": {},
     "output_type": "execute_result"
    }
   ],
   "source": [
    "df_test_group_1 = df_test#[df_test[\"user_id\"].isin(user_for_specific_model)].copy(deep=True)\n",
    "p = model.predict_proba(df_test_group_1[features])\n",
    "p = p[:, 1]\n",
    "df_test_group_1[\"prediction\"] = p\n",
    "df_test_group_1[\"prediction\"].head()"
   ]
  },
  {
   "cell_type": "code",
   "execution_count": 55,
   "metadata": {
    "collapsed": false,
    "deletable": true,
    "editable": true
   },
   "outputs": [
    {
     "name": "stdout",
     "output_type": "stream",
     "text": [
      "13222\n"
     ]
    }
   ],
   "source": [
    "print(len(df_test))"
   ]
  },
  {
   "cell_type": "code",
   "execution_count": 56,
   "metadata": {
    "collapsed": false,
    "deletable": true,
    "editable": true
   },
   "outputs": [
    {
     "data": {
      "text/plain": [
       "['Unnamed: 0',\n",
       " 'genre_id',\n",
       " 'media_id',\n",
       " 'context_type',\n",
       " 'media_duration',\n",
       " 'listen_type',\n",
       " 'user_id',\n",
       " 'user_age',\n",
       " 'diff_ts_listen_AND_release_date_D',\n",
       " 'diff_ts_listen_AND_release_date_M',\n",
       " 'diff_ts_listen_AND_release_date_Y',\n",
       " 'release_date_DAY',\n",
       " 'release_date_MONTH',\n",
       " 'release_date_YEAR',\n",
       " 'diff_user_song_age',\n",
       " 'media_decade',\n",
       " 'nmidia_regular_listened',\n",
       " 'nmidia_with_flow_listened',\n",
       " 'nmidia_regular',\n",
       " 'nmidia_with_flow',\n",
       " 'platform_name_1',\n",
       " 'platform_name_2',\n",
       " 'platform_family_1',\n",
       " 'platform_family_2',\n",
       " 'user_gender_1',\n",
       " 'user_age_group_1',\n",
       " 'user_age_group_2',\n",
       " 'ts_listen_DAY_OF_WEEK_1',\n",
       " 'ts_listen_DAY_OF_WEEK_2',\n",
       " 'ts_listen_DAY_OF_WEEK_3',\n",
       " 'ts_listen_DAY_OF_WEEK_4',\n",
       " 'ts_listen_DAY_OF_WEEK_5',\n",
       " 'ts_listen_DAY_OF_WEEK_6',\n",
       " 'ts_listen_PERIOD_OF_DAY_1',\n",
       " 'ts_listen_PERIOD_OF_DAY_2',\n",
       " 'ts_listen_PERIOD_OF_DAY_3']"
      ]
     },
     "execution_count": 56,
     "metadata": {},
     "output_type": "execute_result"
    }
   ],
   "source": [
    "df_train = pd.read_csv(\"../data/train_data3.csv\")\n",
    "df_test = pd.read_csv(\"../data/test_data3.csv\")\n",
    "\n",
    "df_user = pd.read_csv(\"../data/nmidia_feats.csv\", sep=\";\")\n",
    "# pd.isnull(df_user).sum()[pd.isnull(df_user).sum() > 0]\n",
    "df_user = df_user.drop([\"nmidia_with_flow_listened_PROP\", \"nmidia_regular_listened_PROP\", \"nmidia_PROP_diff\"], axis=1)\n",
    "df_user.columns.values\n",
    "df_train = pd.merge(df_train, df_user, on=\"user_id\")\n",
    "df_test = pd.merge(df_test, df_user, on=\"user_id\")\n",
    "\n",
    "\n",
    "### select users for general\n",
    "df_train = df_train[df_train[\"user_id\"].isin(user_for_general_model)]\n",
    "df_test = df_test[df_test[\"user_id\"].isin(user_for_general_model)]\n",
    "df_train.columns\n",
    "\n",
    "te = TargetEncoder(cols_for_target_encoder, \"is_listened\")\n",
    "te.fit(df_train)\n",
    "te.transform(df_train)\n",
    "te.transform(df_test)\n",
    "del te\n",
    "\n",
    "rc = RankCategorical(cols_for_rank)\n",
    "rc.fit(df_train)\n",
    "rc.transform(df_train)\n",
    "rc.transform(df_test)\n",
    "del rc\n",
    "\n",
    "rc = RankCategorical([\"media_decade\"])\n",
    "rc.fit(df_train)\n",
    "rc.transform(df_train)\n",
    "rc.transform(df_test)\n",
    "del rc\n",
    "\n",
    "df_train = onehot(df_train, cols_for_onehot)\n",
    "df_test = onehot(df_test, cols_for_onehot)\n",
    "\n",
    "%timeit\n",
    "### Drop\n",
    "to_drop = ['ts_listen', 'album_id', 'release_date', 'artist_id', \"year\", \"text\"]#, \"nmidia_with_flow_listened_PROP\", \"nmidia_PROP_diff\", \"nmidia_regular_listened_PROP\"]\n",
    "df_train.drop(to_drop, axis = 1,inplace=True)\n",
    "df_test.drop(to_drop, axis = 1,inplace=True)\n",
    "\n",
    "features = [col for col in df_train.columns.values if col != target]\n",
    "features"
   ]
  },
  {
   "cell_type": "code",
   "execution_count": 57,
   "metadata": {
    "collapsed": false,
    "deletable": true,
    "editable": true
   },
   "outputs": [
    {
     "data": {
      "text/plain": [
       "6696"
      ]
     },
     "execution_count": 57,
     "metadata": {},
     "output_type": "execute_result"
    }
   ],
   "source": [
    "len(df_test)"
   ]
  },
  {
   "cell_type": "code",
   "execution_count": 58,
   "metadata": {
    "autoscroll": "json-false",
    "collapsed": false,
    "deletable": true,
    "editable": true,
    "ein.tags": [
     "worksheet-0"
    ],
    "slideshow": {
     "slide_type": "-"
    }
   },
   "outputs": [],
   "source": [
    "features = ['genre_id',\n",
    " 'media_id',\n",
    " 'context_type',\n",
    " 'media_duration',\n",
    " 'listen_type',\n",
    " 'user_id',\n",
    " 'user_age',\n",
    " 'diff_ts_listen_AND_release_date_D',\n",
    " 'diff_ts_listen_AND_release_date_M',\n",
    " 'diff_ts_listen_AND_release_date_Y',\n",
    " 'release_date_YEAR',\n",
    " 'diff_user_song_age',\n",
    " 'media_decade',\n",
    " 'platform_name_1',\n",
    " 'platform_name_2',\n",
    " 'platform_family_1',\n",
    " 'platform_family_2',\n",
    " 'user_gender_1',\n",
    " 'user_age_group_1',\n",
    " 'user_age_group_2',\n",
    " 'ts_listen_DAY_OF_WEEK_1',\n",
    " 'ts_listen_DAY_OF_WEEK_2',\n",
    " 'ts_listen_DAY_OF_WEEK_3',\n",
    " 'ts_listen_DAY_OF_WEEK_4',\n",
    " 'ts_listen_DAY_OF_WEEK_5',\n",
    " 'ts_listen_DAY_OF_WEEK_6',\n",
    " 'ts_listen_PERIOD_OF_DAY_1',\n",
    " 'ts_listen_PERIOD_OF_DAY_2',\n",
    " 'ts_listen_PERIOD_OF_DAY_3']"
   ]
  },
  {
   "cell_type": "code",
   "execution_count": 59,
   "metadata": {
    "autoscroll": "json-false",
    "collapsed": false,
    "deletable": true,
    "editable": true,
    "ein.tags": [
     "worksheet-0"
    ],
    "slideshow": {
     "slide_type": "-"
    }
   },
   "outputs": [
    {
     "name": "stdout",
     "output_type": "stream",
     "text": [
      "23 selected variables from 29, 79.31%\n",
      "['genre_id', 'media_id', 'context_type', 'listen_type', 'user_id', 'user_age', 'diff_ts_listen_AND_release_date_D', 'diff_ts_listen_AND_release_date_M', 'diff_ts_listen_AND_release_date_Y', 'release_date_YEAR', 'diff_user_song_age', 'platform_name_1', 'platform_name_2', 'platform_family_1', 'platform_family_2', 'user_gender_1', 'user_age_group_1', 'user_age_group_2', 'ts_listen_DAY_OF_WEEK_1', 'ts_listen_DAY_OF_WEEK_6', 'ts_listen_PERIOD_OF_DAY_1', 'ts_listen_PERIOD_OF_DAY_2', 'ts_listen_PERIOD_OF_DAY_3']\n"
     ]
    }
   ],
   "source": [
    "X_train, X_test, y_train, y_test = train_test_split(df_train[features], df_train[target], test_size = 0.2)\n",
    "\n",
    "from sklearn import feature_selection\n",
    "all_features = features\n",
    "function_rule_selection = feature_selection.f_classif\n",
    "alpha_cutoff = 0.01\n",
    "\n",
    "selection_rule = feature_selection.SelectFdr(function_rule_selection, alpha_cutoff)\n",
    "selection_rule.fit(X_train, y_train);\n",
    "\n",
    "all_pvalues = list(filter(lambda x: pd.notnull(x[0]), zip(selection_rule.pvalues_, all_features)))\n",
    "#print(all_pvalues)\n",
    "filtered_pvalues = list(filter(lambda x: x[0]<=alpha_cutoff, all_pvalues))\n",
    "#print(filtered_pvalues)\n",
    "all_select_features = list(map(lambda x: x[1], filtered_pvalues))\n",
    "\n",
    "print(\"{0} selected variables from {1}, {2:.2f}%\".format(len(all_select_features), \n",
    "                                                        len(all_features), \n",
    "                                                        len(filtered_pvalues)*100/float(len(all_features))))\n",
    "print(all_select_features)\n",
    "#print(filtered_pvalues)\n",
    "\n",
    "features = all_select_features\n",
    "X_train, X_test, y_train, y_test = train_test_split(df_train[features], df_train[target], test_size = 0.2)"
   ]
  },
  {
   "cell_type": "code",
   "execution_count": 60,
   "metadata": {
    "autoscroll": "json-false",
    "collapsed": false,
    "deletable": true,
    "editable": true,
    "ein.tags": [
     "worksheet-0"
    ],
    "slideshow": {
     "slide_type": "-"
    }
   },
   "outputs": [
    {
     "data": {
      "text/plain": [
       "0.77051353614289697"
      ]
     },
     "execution_count": 60,
     "metadata": {},
     "output_type": "execute_result"
    }
   ],
   "source": [
    "model = RandomForestClassifier(n_jobs=4)\n",
    "model.fit(X_train, y_train)\n",
    "model.score(X_test, y_test)\n"
   ]
  },
  {
   "cell_type": "code",
   "execution_count": 61,
   "metadata": {
    "collapsed": false,
    "deletable": true,
    "editable": true
   },
   "outputs": [
    {
     "data": {
      "text/html": [
       "<div>\n",
       "<table border=\"1\" class=\"dataframe\">\n",
       "  <thead>\n",
       "    <tr style=\"text-align: right;\">\n",
       "      <th></th>\n",
       "      <th>Unnamed: 0</th>\n",
       "      <th>sample_id</th>\n",
       "      <th>genre_id</th>\n",
       "      <th>media_id</th>\n",
       "      <th>context_type</th>\n",
       "      <th>media_duration</th>\n",
       "      <th>listen_type</th>\n",
       "      <th>user_id</th>\n",
       "      <th>user_age</th>\n",
       "      <th>diff_ts_listen_AND_release_date_D</th>\n",
       "      <th>...</th>\n",
       "      <th>user_age_group_2</th>\n",
       "      <th>ts_listen_DAY_OF_WEEK_1</th>\n",
       "      <th>ts_listen_DAY_OF_WEEK_2</th>\n",
       "      <th>ts_listen_DAY_OF_WEEK_3</th>\n",
       "      <th>ts_listen_DAY_OF_WEEK_4</th>\n",
       "      <th>ts_listen_DAY_OF_WEEK_5</th>\n",
       "      <th>ts_listen_DAY_OF_WEEK_6</th>\n",
       "      <th>ts_listen_PERIOD_OF_DAY_1</th>\n",
       "      <th>ts_listen_PERIOD_OF_DAY_2</th>\n",
       "      <th>ts_listen_PERIOD_OF_DAY_3</th>\n",
       "    </tr>\n",
       "  </thead>\n",
       "  <tbody>\n",
       "  </tbody>\n",
       "</table>\n",
       "<p>0 rows × 37 columns</p>\n",
       "</div>"
      ],
      "text/plain": [
       "Empty DataFrame\n",
       "Columns: [Unnamed: 0, sample_id, genre_id, media_id, context_type, media_duration, listen_type, user_id, user_age, diff_ts_listen_AND_release_date_D, diff_ts_listen_AND_release_date_M, diff_ts_listen_AND_release_date_Y, release_date_DAY, release_date_MONTH, release_date_YEAR, diff_user_song_age, media_decade, nmidia_regular_listened, nmidia_with_flow_listened, nmidia_regular, nmidia_with_flow, platform_name_1, platform_name_2, platform_family_1, platform_family_2, user_gender_1, user_age_group_1, user_age_group_2, ts_listen_DAY_OF_WEEK_1, ts_listen_DAY_OF_WEEK_2, ts_listen_DAY_OF_WEEK_3, ts_listen_DAY_OF_WEEK_4, ts_listen_DAY_OF_WEEK_5, ts_listen_DAY_OF_WEEK_6, ts_listen_PERIOD_OF_DAY_1, ts_listen_PERIOD_OF_DAY_2, ts_listen_PERIOD_OF_DAY_3]\n",
       "Index: []\n",
       "\n",
       "[0 rows x 37 columns]"
      ]
     },
     "execution_count": 61,
     "metadata": {},
     "output_type": "execute_result"
    }
   ],
   "source": [
    "df_test[df_test[\"user_id\"].isin(user_for_general_model)].head()"
   ]
  },
  {
   "cell_type": "code",
   "execution_count": 62,
   "metadata": {
    "autoscroll": "json-false",
    "collapsed": false,
    "deletable": true,
    "editable": true,
    "ein.tags": [
     "worksheet-0"
    ],
    "slideshow": {
     "slide_type": "-"
    }
   },
   "outputs": [
    {
     "data": {
      "text/plain": [
       "0     1.0\n",
       "6     0.0\n",
       "8     0.5\n",
       "14    0.6\n",
       "15    1.0\n",
       "Name: prediction, dtype: float64"
      ]
     },
     "execution_count": 62,
     "metadata": {},
     "output_type": "execute_result"
    }
   ],
   "source": [
    "df_test_group_2 = df_test #[df_test[\"user_id\"].isin(user_for_general_model)].copy(deep=True)\n",
    "p = model.predict_proba(df_test_group_2[features])\n",
    "p = p[:, 1]\n",
    "df_test_group_2[\"prediction\"] = p\n",
    "df_test_group_2[\"prediction\"].head()"
   ]
  },
  {
   "cell_type": "code",
   "execution_count": 63,
   "metadata": {
    "autoscroll": "json-false",
    "collapsed": false,
    "deletable": true,
    "editable": true,
    "ein.tags": [
     "worksheet-0"
    ],
    "slideshow": {
     "slide_type": "-"
    }
   },
   "outputs": [
    {
     "data": {
      "text/html": [
       "<div>\n",
       "<table border=\"1\" class=\"dataframe\">\n",
       "  <thead>\n",
       "    <tr style=\"text-align: right;\">\n",
       "      <th></th>\n",
       "      <th>Unnamed: 0</th>\n",
       "      <th>sample_id</th>\n",
       "      <th>genre_id</th>\n",
       "      <th>media_id</th>\n",
       "      <th>context_type</th>\n",
       "      <th>media_duration</th>\n",
       "      <th>listen_type</th>\n",
       "      <th>user_id</th>\n",
       "      <th>user_age</th>\n",
       "      <th>diff_ts_listen_AND_release_date_D</th>\n",
       "      <th>...</th>\n",
       "      <th>ts_listen_DAY_OF_WEEK_1</th>\n",
       "      <th>ts_listen_DAY_OF_WEEK_2</th>\n",
       "      <th>ts_listen_DAY_OF_WEEK_3</th>\n",
       "      <th>ts_listen_DAY_OF_WEEK_4</th>\n",
       "      <th>ts_listen_DAY_OF_WEEK_5</th>\n",
       "      <th>ts_listen_DAY_OF_WEEK_6</th>\n",
       "      <th>ts_listen_PERIOD_OF_DAY_1</th>\n",
       "      <th>ts_listen_PERIOD_OF_DAY_2</th>\n",
       "      <th>ts_listen_PERIOD_OF_DAY_3</th>\n",
       "      <th>prediction</th>\n",
       "    </tr>\n",
       "  </thead>\n",
       "  <tbody>\n",
       "    <tr>\n",
       "      <th>0</th>\n",
       "      <td>0</td>\n",
       "      <td>0</td>\n",
       "      <td>0.583890</td>\n",
       "      <td>0.647680</td>\n",
       "      <td>0.546746</td>\n",
       "      <td>9.0</td>\n",
       "      <td>0.542075</td>\n",
       "      <td>1.000000</td>\n",
       "      <td>30</td>\n",
       "      <td>5139.0</td>\n",
       "      <td>...</td>\n",
       "      <td>0</td>\n",
       "      <td>1</td>\n",
       "      <td>0</td>\n",
       "      <td>0</td>\n",
       "      <td>0</td>\n",
       "      <td>0</td>\n",
       "      <td>1</td>\n",
       "      <td>0</td>\n",
       "      <td>0</td>\n",
       "      <td>1.0</td>\n",
       "    </tr>\n",
       "    <tr>\n",
       "      <th>6</th>\n",
       "      <td>6</td>\n",
       "      <td>6</td>\n",
       "      <td>0.627204</td>\n",
       "      <td>0.400000</td>\n",
       "      <td>0.546746</td>\n",
       "      <td>4.0</td>\n",
       "      <td>0.542075</td>\n",
       "      <td>0.090909</td>\n",
       "      <td>21</td>\n",
       "      <td>11293.0</td>\n",
       "      <td>...</td>\n",
       "      <td>0</td>\n",
       "      <td>0</td>\n",
       "      <td>1</td>\n",
       "      <td>0</td>\n",
       "      <td>0</td>\n",
       "      <td>0</td>\n",
       "      <td>0</td>\n",
       "      <td>0</td>\n",
       "      <td>0</td>\n",
       "      <td>0.0</td>\n",
       "    </tr>\n",
       "    <tr>\n",
       "      <th>8</th>\n",
       "      <td>8</td>\n",
       "      <td>8</td>\n",
       "      <td>0.578514</td>\n",
       "      <td>0.800000</td>\n",
       "      <td>0.546746</td>\n",
       "      <td>3.0</td>\n",
       "      <td>0.542075</td>\n",
       "      <td>0.315789</td>\n",
       "      <td>23</td>\n",
       "      <td>5012.0</td>\n",
       "      <td>...</td>\n",
       "      <td>0</td>\n",
       "      <td>1</td>\n",
       "      <td>0</td>\n",
       "      <td>0</td>\n",
       "      <td>0</td>\n",
       "      <td>0</td>\n",
       "      <td>1</td>\n",
       "      <td>0</td>\n",
       "      <td>0</td>\n",
       "      <td>0.5</td>\n",
       "    </tr>\n",
       "    <tr>\n",
       "      <th>14</th>\n",
       "      <td>14</td>\n",
       "      <td>14</td>\n",
       "      <td>0.670330</td>\n",
       "      <td>0.647680</td>\n",
       "      <td>0.468350</td>\n",
       "      <td>3.0</td>\n",
       "      <td>0.542075</td>\n",
       "      <td>0.666667</td>\n",
       "      <td>20</td>\n",
       "      <td>2411.0</td>\n",
       "      <td>...</td>\n",
       "      <td>0</td>\n",
       "      <td>0</td>\n",
       "      <td>0</td>\n",
       "      <td>0</td>\n",
       "      <td>1</td>\n",
       "      <td>0</td>\n",
       "      <td>0</td>\n",
       "      <td>0</td>\n",
       "      <td>1</td>\n",
       "      <td>0.6</td>\n",
       "    </tr>\n",
       "    <tr>\n",
       "      <th>15</th>\n",
       "      <td>15</td>\n",
       "      <td>15</td>\n",
       "      <td>0.700000</td>\n",
       "      <td>1.000000</td>\n",
       "      <td>0.546746</td>\n",
       "      <td>9.0</td>\n",
       "      <td>0.542075</td>\n",
       "      <td>0.968750</td>\n",
       "      <td>29</td>\n",
       "      <td>4009.0</td>\n",
       "      <td>...</td>\n",
       "      <td>0</td>\n",
       "      <td>0</td>\n",
       "      <td>0</td>\n",
       "      <td>0</td>\n",
       "      <td>1</td>\n",
       "      <td>0</td>\n",
       "      <td>0</td>\n",
       "      <td>0</td>\n",
       "      <td>0</td>\n",
       "      <td>1.0</td>\n",
       "    </tr>\n",
       "    <tr>\n",
       "      <th>16</th>\n",
       "      <td>16</td>\n",
       "      <td>16</td>\n",
       "      <td>0.631575</td>\n",
       "      <td>0.500000</td>\n",
       "      <td>0.468350</td>\n",
       "      <td>3.0</td>\n",
       "      <td>0.542075</td>\n",
       "      <td>0.611111</td>\n",
       "      <td>18</td>\n",
       "      <td>2304.0</td>\n",
       "      <td>...</td>\n",
       "      <td>1</td>\n",
       "      <td>0</td>\n",
       "      <td>0</td>\n",
       "      <td>0</td>\n",
       "      <td>0</td>\n",
       "      <td>0</td>\n",
       "      <td>1</td>\n",
       "      <td>0</td>\n",
       "      <td>0</td>\n",
       "      <td>0.2</td>\n",
       "    </tr>\n",
       "    <tr>\n",
       "      <th>19</th>\n",
       "      <td>19</td>\n",
       "      <td>19</td>\n",
       "      <td>0.677729</td>\n",
       "      <td>0.800000</td>\n",
       "      <td>0.546746</td>\n",
       "      <td>5.0</td>\n",
       "      <td>0.542075</td>\n",
       "      <td>0.444444</td>\n",
       "      <td>24</td>\n",
       "      <td>2076.0</td>\n",
       "      <td>...</td>\n",
       "      <td>1</td>\n",
       "      <td>0</td>\n",
       "      <td>0</td>\n",
       "      <td>0</td>\n",
       "      <td>0</td>\n",
       "      <td>0</td>\n",
       "      <td>0</td>\n",
       "      <td>0</td>\n",
       "      <td>0</td>\n",
       "      <td>0.5</td>\n",
       "    </tr>\n",
       "    <tr>\n",
       "      <th>25</th>\n",
       "      <td>25</td>\n",
       "      <td>25</td>\n",
       "      <td>0.797753</td>\n",
       "      <td>1.000000</td>\n",
       "      <td>0.546746</td>\n",
       "      <td>4.0</td>\n",
       "      <td>0.542075</td>\n",
       "      <td>0.910112</td>\n",
       "      <td>18</td>\n",
       "      <td>1760.0</td>\n",
       "      <td>...</td>\n",
       "      <td>0</td>\n",
       "      <td>0</td>\n",
       "      <td>0</td>\n",
       "      <td>0</td>\n",
       "      <td>0</td>\n",
       "      <td>0</td>\n",
       "      <td>1</td>\n",
       "      <td>0</td>\n",
       "      <td>0</td>\n",
       "      <td>1.0</td>\n",
       "    </tr>\n",
       "    <tr>\n",
       "      <th>29</th>\n",
       "      <td>29</td>\n",
       "      <td>29</td>\n",
       "      <td>0.750000</td>\n",
       "      <td>0.750000</td>\n",
       "      <td>0.546746</td>\n",
       "      <td>3.0</td>\n",
       "      <td>0.542075</td>\n",
       "      <td>0.900000</td>\n",
       "      <td>27</td>\n",
       "      <td>4334.0</td>\n",
       "      <td>...</td>\n",
       "      <td>0</td>\n",
       "      <td>0</td>\n",
       "      <td>0</td>\n",
       "      <td>0</td>\n",
       "      <td>1</td>\n",
       "      <td>0</td>\n",
       "      <td>0</td>\n",
       "      <td>0</td>\n",
       "      <td>0</td>\n",
       "      <td>1.0</td>\n",
       "    </tr>\n",
       "    <tr>\n",
       "      <th>33</th>\n",
       "      <td>33</td>\n",
       "      <td>33</td>\n",
       "      <td>0.750000</td>\n",
       "      <td>0.750000</td>\n",
       "      <td>0.546746</td>\n",
       "      <td>3.0</td>\n",
       "      <td>0.542075</td>\n",
       "      <td>0.578947</td>\n",
       "      <td>29</td>\n",
       "      <td>4345.0</td>\n",
       "      <td>...</td>\n",
       "      <td>0</td>\n",
       "      <td>1</td>\n",
       "      <td>0</td>\n",
       "      <td>0</td>\n",
       "      <td>0</td>\n",
       "      <td>0</td>\n",
       "      <td>1</td>\n",
       "      <td>0</td>\n",
       "      <td>0</td>\n",
       "      <td>0.7</td>\n",
       "    </tr>\n",
       "    <tr>\n",
       "      <th>39</th>\n",
       "      <td>39</td>\n",
       "      <td>39</td>\n",
       "      <td>0.747312</td>\n",
       "      <td>0.857143</td>\n",
       "      <td>0.546746</td>\n",
       "      <td>3.0</td>\n",
       "      <td>0.542075</td>\n",
       "      <td>0.493151</td>\n",
       "      <td>23</td>\n",
       "      <td>1526.0</td>\n",
       "      <td>...</td>\n",
       "      <td>0</td>\n",
       "      <td>0</td>\n",
       "      <td>0</td>\n",
       "      <td>0</td>\n",
       "      <td>0</td>\n",
       "      <td>0</td>\n",
       "      <td>1</td>\n",
       "      <td>0</td>\n",
       "      <td>0</td>\n",
       "      <td>0.7</td>\n",
       "    </tr>\n",
       "    <tr>\n",
       "      <th>44</th>\n",
       "      <td>44</td>\n",
       "      <td>44</td>\n",
       "      <td>0.631575</td>\n",
       "      <td>1.000000</td>\n",
       "      <td>0.546746</td>\n",
       "      <td>4.0</td>\n",
       "      <td>0.542075</td>\n",
       "      <td>0.736842</td>\n",
       "      <td>18</td>\n",
       "      <td>1149.0</td>\n",
       "      <td>...</td>\n",
       "      <td>0</td>\n",
       "      <td>0</td>\n",
       "      <td>0</td>\n",
       "      <td>0</td>\n",
       "      <td>1</td>\n",
       "      <td>0</td>\n",
       "      <td>0</td>\n",
       "      <td>1</td>\n",
       "      <td>0</td>\n",
       "      <td>1.0</td>\n",
       "    </tr>\n",
       "    <tr>\n",
       "      <th>45</th>\n",
       "      <td>45</td>\n",
       "      <td>45</td>\n",
       "      <td>0.578514</td>\n",
       "      <td>0.500000</td>\n",
       "      <td>0.546746</td>\n",
       "      <td>4.0</td>\n",
       "      <td>0.542075</td>\n",
       "      <td>0.833333</td>\n",
       "      <td>23</td>\n",
       "      <td>1184.0</td>\n",
       "      <td>...</td>\n",
       "      <td>1</td>\n",
       "      <td>0</td>\n",
       "      <td>0</td>\n",
       "      <td>0</td>\n",
       "      <td>0</td>\n",
       "      <td>0</td>\n",
       "      <td>0</td>\n",
       "      <td>0</td>\n",
       "      <td>1</td>\n",
       "      <td>0.8</td>\n",
       "    </tr>\n",
       "    <tr>\n",
       "      <th>46</th>\n",
       "      <td>46</td>\n",
       "      <td>46</td>\n",
       "      <td>0.584121</td>\n",
       "      <td>0.647680</td>\n",
       "      <td>0.546746</td>\n",
       "      <td>3.0</td>\n",
       "      <td>0.542075</td>\n",
       "      <td>0.500000</td>\n",
       "      <td>20</td>\n",
       "      <td>1034.0</td>\n",
       "      <td>...</td>\n",
       "      <td>0</td>\n",
       "      <td>0</td>\n",
       "      <td>0</td>\n",
       "      <td>0</td>\n",
       "      <td>1</td>\n",
       "      <td>0</td>\n",
       "      <td>1</td>\n",
       "      <td>0</td>\n",
       "      <td>0</td>\n",
       "      <td>0.2</td>\n",
       "    </tr>\n",
       "    <tr>\n",
       "      <th>52</th>\n",
       "      <td>52</td>\n",
       "      <td>52</td>\n",
       "      <td>0.578514</td>\n",
       "      <td>0.677419</td>\n",
       "      <td>0.546746</td>\n",
       "      <td>4.0</td>\n",
       "      <td>0.542075</td>\n",
       "      <td>0.726190</td>\n",
       "      <td>24</td>\n",
       "      <td>779.0</td>\n",
       "      <td>...</td>\n",
       "      <td>1</td>\n",
       "      <td>0</td>\n",
       "      <td>0</td>\n",
       "      <td>0</td>\n",
       "      <td>0</td>\n",
       "      <td>0</td>\n",
       "      <td>0</td>\n",
       "      <td>0</td>\n",
       "      <td>0</td>\n",
       "      <td>0.6</td>\n",
       "    </tr>\n",
       "    <tr>\n",
       "      <th>61</th>\n",
       "      <td>61</td>\n",
       "      <td>61</td>\n",
       "      <td>0.578514</td>\n",
       "      <td>0.564103</td>\n",
       "      <td>0.468350</td>\n",
       "      <td>4.0</td>\n",
       "      <td>0.542075</td>\n",
       "      <td>0.631579</td>\n",
       "      <td>19</td>\n",
       "      <td>738.0</td>\n",
       "      <td>...</td>\n",
       "      <td>0</td>\n",
       "      <td>0</td>\n",
       "      <td>0</td>\n",
       "      <td>0</td>\n",
       "      <td>0</td>\n",
       "      <td>0</td>\n",
       "      <td>0</td>\n",
       "      <td>0</td>\n",
       "      <td>0</td>\n",
       "      <td>0.5</td>\n",
       "    </tr>\n",
       "    <tr>\n",
       "      <th>62</th>\n",
       "      <td>62</td>\n",
       "      <td>62</td>\n",
       "      <td>0.578514</td>\n",
       "      <td>0.490566</td>\n",
       "      <td>0.546746</td>\n",
       "      <td>4.0</td>\n",
       "      <td>0.542075</td>\n",
       "      <td>0.785714</td>\n",
       "      <td>28</td>\n",
       "      <td>740.0</td>\n",
       "      <td>...</td>\n",
       "      <td>0</td>\n",
       "      <td>1</td>\n",
       "      <td>0</td>\n",
       "      <td>0</td>\n",
       "      <td>0</td>\n",
       "      <td>0</td>\n",
       "      <td>0</td>\n",
       "      <td>0</td>\n",
       "      <td>0</td>\n",
       "      <td>0.9</td>\n",
       "    </tr>\n",
       "    <tr>\n",
       "      <th>64</th>\n",
       "      <td>64</td>\n",
       "      <td>64</td>\n",
       "      <td>0.578514</td>\n",
       "      <td>0.564103</td>\n",
       "      <td>0.546746</td>\n",
       "      <td>4.0</td>\n",
       "      <td>0.542075</td>\n",
       "      <td>0.133333</td>\n",
       "      <td>18</td>\n",
       "      <td>733.0</td>\n",
       "      <td>...</td>\n",
       "      <td>0</td>\n",
       "      <td>1</td>\n",
       "      <td>0</td>\n",
       "      <td>0</td>\n",
       "      <td>0</td>\n",
       "      <td>0</td>\n",
       "      <td>1</td>\n",
       "      <td>0</td>\n",
       "      <td>0</td>\n",
       "      <td>0.1</td>\n",
       "    </tr>\n",
       "    <tr>\n",
       "      <th>65</th>\n",
       "      <td>65</td>\n",
       "      <td>65</td>\n",
       "      <td>0.578514</td>\n",
       "      <td>0.490566</td>\n",
       "      <td>0.546746</td>\n",
       "      <td>4.0</td>\n",
       "      <td>0.542075</td>\n",
       "      <td>0.562500</td>\n",
       "      <td>25</td>\n",
       "      <td>757.0</td>\n",
       "      <td>...</td>\n",
       "      <td>0</td>\n",
       "      <td>0</td>\n",
       "      <td>0</td>\n",
       "      <td>0</td>\n",
       "      <td>1</td>\n",
       "      <td>0</td>\n",
       "      <td>0</td>\n",
       "      <td>0</td>\n",
       "      <td>0</td>\n",
       "      <td>0.3</td>\n",
       "    </tr>\n",
       "    <tr>\n",
       "      <th>66</th>\n",
       "      <td>66</td>\n",
       "      <td>66</td>\n",
       "      <td>0.578514</td>\n",
       "      <td>0.490566</td>\n",
       "      <td>0.546746</td>\n",
       "      <td>4.0</td>\n",
       "      <td>0.542075</td>\n",
       "      <td>0.636364</td>\n",
       "      <td>28</td>\n",
       "      <td>748.0</td>\n",
       "      <td>...</td>\n",
       "      <td>0</td>\n",
       "      <td>0</td>\n",
       "      <td>1</td>\n",
       "      <td>0</td>\n",
       "      <td>0</td>\n",
       "      <td>0</td>\n",
       "      <td>1</td>\n",
       "      <td>0</td>\n",
       "      <td>0</td>\n",
       "      <td>0.5</td>\n",
       "    </tr>\n",
       "    <tr>\n",
       "      <th>70</th>\n",
       "      <td>70</td>\n",
       "      <td>70</td>\n",
       "      <td>0.578514</td>\n",
       "      <td>0.490566</td>\n",
       "      <td>0.546746</td>\n",
       "      <td>4.0</td>\n",
       "      <td>0.542075</td>\n",
       "      <td>1.000000</td>\n",
       "      <td>21</td>\n",
       "      <td>732.0</td>\n",
       "      <td>...</td>\n",
       "      <td>1</td>\n",
       "      <td>0</td>\n",
       "      <td>0</td>\n",
       "      <td>0</td>\n",
       "      <td>0</td>\n",
       "      <td>0</td>\n",
       "      <td>0</td>\n",
       "      <td>0</td>\n",
       "      <td>0</td>\n",
       "      <td>1.0</td>\n",
       "    </tr>\n",
       "    <tr>\n",
       "      <th>71</th>\n",
       "      <td>71</td>\n",
       "      <td>71</td>\n",
       "      <td>0.578514</td>\n",
       "      <td>0.687500</td>\n",
       "      <td>0.546746</td>\n",
       "      <td>4.0</td>\n",
       "      <td>0.542075</td>\n",
       "      <td>0.600000</td>\n",
       "      <td>18</td>\n",
       "      <td>751.0</td>\n",
       "      <td>...</td>\n",
       "      <td>0</td>\n",
       "      <td>0</td>\n",
       "      <td>0</td>\n",
       "      <td>0</td>\n",
       "      <td>0</td>\n",
       "      <td>1</td>\n",
       "      <td>0</td>\n",
       "      <td>1</td>\n",
       "      <td>0</td>\n",
       "      <td>0.7</td>\n",
       "    </tr>\n",
       "    <tr>\n",
       "      <th>80</th>\n",
       "      <td>80</td>\n",
       "      <td>80</td>\n",
       "      <td>0.578514</td>\n",
       "      <td>0.490566</td>\n",
       "      <td>0.546746</td>\n",
       "      <td>4.0</td>\n",
       "      <td>0.542075</td>\n",
       "      <td>0.589744</td>\n",
       "      <td>28</td>\n",
       "      <td>732.0</td>\n",
       "      <td>...</td>\n",
       "      <td>1</td>\n",
       "      <td>0</td>\n",
       "      <td>0</td>\n",
       "      <td>0</td>\n",
       "      <td>0</td>\n",
       "      <td>0</td>\n",
       "      <td>0</td>\n",
       "      <td>1</td>\n",
       "      <td>0</td>\n",
       "      <td>0.5</td>\n",
       "    </tr>\n",
       "    <tr>\n",
       "      <th>82</th>\n",
       "      <td>82</td>\n",
       "      <td>82</td>\n",
       "      <td>0.711340</td>\n",
       "      <td>0.647680</td>\n",
       "      <td>0.546746</td>\n",
       "      <td>3.0</td>\n",
       "      <td>0.542075</td>\n",
       "      <td>0.735294</td>\n",
       "      <td>30</td>\n",
       "      <td>718.0</td>\n",
       "      <td>...</td>\n",
       "      <td>0</td>\n",
       "      <td>0</td>\n",
       "      <td>0</td>\n",
       "      <td>1</td>\n",
       "      <td>0</td>\n",
       "      <td>0</td>\n",
       "      <td>0</td>\n",
       "      <td>0</td>\n",
       "      <td>0</td>\n",
       "      <td>0.5</td>\n",
       "    </tr>\n",
       "    <tr>\n",
       "      <th>84</th>\n",
       "      <td>84</td>\n",
       "      <td>84</td>\n",
       "      <td>1.000000</td>\n",
       "      <td>0.647680</td>\n",
       "      <td>0.546746</td>\n",
       "      <td>5.0</td>\n",
       "      <td>0.542075</td>\n",
       "      <td>0.896552</td>\n",
       "      <td>20</td>\n",
       "      <td>1227.0</td>\n",
       "      <td>...</td>\n",
       "      <td>0</td>\n",
       "      <td>0</td>\n",
       "      <td>1</td>\n",
       "      <td>0</td>\n",
       "      <td>0</td>\n",
       "      <td>0</td>\n",
       "      <td>1</td>\n",
       "      <td>0</td>\n",
       "      <td>0</td>\n",
       "      <td>0.7</td>\n",
       "    </tr>\n",
       "    <tr>\n",
       "      <th>85</th>\n",
       "      <td>85</td>\n",
       "      <td>85</td>\n",
       "      <td>0.647243</td>\n",
       "      <td>0.400000</td>\n",
       "      <td>0.468350</td>\n",
       "      <td>5.0</td>\n",
       "      <td>0.542075</td>\n",
       "      <td>0.583333</td>\n",
       "      <td>20</td>\n",
       "      <td>2880.0</td>\n",
       "      <td>...</td>\n",
       "      <td>0</td>\n",
       "      <td>0</td>\n",
       "      <td>0</td>\n",
       "      <td>0</td>\n",
       "      <td>0</td>\n",
       "      <td>1</td>\n",
       "      <td>1</td>\n",
       "      <td>0</td>\n",
       "      <td>0</td>\n",
       "      <td>0.1</td>\n",
       "    </tr>\n",
       "    <tr>\n",
       "      <th>95</th>\n",
       "      <td>95</td>\n",
       "      <td>95</td>\n",
       "      <td>0.647243</td>\n",
       "      <td>0.595745</td>\n",
       "      <td>0.546746</td>\n",
       "      <td>3.0</td>\n",
       "      <td>0.542075</td>\n",
       "      <td>0.916667</td>\n",
       "      <td>18</td>\n",
       "      <td>128.0</td>\n",
       "      <td>...</td>\n",
       "      <td>0</td>\n",
       "      <td>0</td>\n",
       "      <td>0</td>\n",
       "      <td>0</td>\n",
       "      <td>0</td>\n",
       "      <td>1</td>\n",
       "      <td>0</td>\n",
       "      <td>0</td>\n",
       "      <td>0</td>\n",
       "      <td>0.9</td>\n",
       "    </tr>\n",
       "    <tr>\n",
       "      <th>99</th>\n",
       "      <td>99</td>\n",
       "      <td>99</td>\n",
       "      <td>0.647243</td>\n",
       "      <td>0.633333</td>\n",
       "      <td>0.546746</td>\n",
       "      <td>3.0</td>\n",
       "      <td>0.542075</td>\n",
       "      <td>0.810127</td>\n",
       "      <td>24</td>\n",
       "      <td>138.0</td>\n",
       "      <td>...</td>\n",
       "      <td>0</td>\n",
       "      <td>1</td>\n",
       "      <td>0</td>\n",
       "      <td>0</td>\n",
       "      <td>0</td>\n",
       "      <td>0</td>\n",
       "      <td>0</td>\n",
       "      <td>0</td>\n",
       "      <td>1</td>\n",
       "      <td>0.7</td>\n",
       "    </tr>\n",
       "    <tr>\n",
       "      <th>101</th>\n",
       "      <td>101</td>\n",
       "      <td>101</td>\n",
       "      <td>0.647243</td>\n",
       "      <td>0.756281</td>\n",
       "      <td>0.546746</td>\n",
       "      <td>3.0</td>\n",
       "      <td>0.542075</td>\n",
       "      <td>0.555556</td>\n",
       "      <td>19</td>\n",
       "      <td>145.0</td>\n",
       "      <td>...</td>\n",
       "      <td>0</td>\n",
       "      <td>1</td>\n",
       "      <td>0</td>\n",
       "      <td>0</td>\n",
       "      <td>0</td>\n",
       "      <td>0</td>\n",
       "      <td>0</td>\n",
       "      <td>0</td>\n",
       "      <td>1</td>\n",
       "      <td>0.5</td>\n",
       "    </tr>\n",
       "    <tr>\n",
       "      <th>103</th>\n",
       "      <td>103</td>\n",
       "      <td>103</td>\n",
       "      <td>0.647243</td>\n",
       "      <td>0.595745</td>\n",
       "      <td>0.546746</td>\n",
       "      <td>3.0</td>\n",
       "      <td>0.542075</td>\n",
       "      <td>0.827586</td>\n",
       "      <td>22</td>\n",
       "      <td>116.0</td>\n",
       "      <td>...</td>\n",
       "      <td>1</td>\n",
       "      <td>0</td>\n",
       "      <td>0</td>\n",
       "      <td>0</td>\n",
       "      <td>0</td>\n",
       "      <td>0</td>\n",
       "      <td>1</td>\n",
       "      <td>0</td>\n",
       "      <td>0</td>\n",
       "      <td>0.8</td>\n",
       "    </tr>\n",
       "    <tr>\n",
       "      <th>...</th>\n",
       "      <td>...</td>\n",
       "      <td>...</td>\n",
       "      <td>...</td>\n",
       "      <td>...</td>\n",
       "      <td>...</td>\n",
       "      <td>...</td>\n",
       "      <td>...</td>\n",
       "      <td>...</td>\n",
       "      <td>...</td>\n",
       "      <td>...</td>\n",
       "      <td>...</td>\n",
       "      <td>...</td>\n",
       "      <td>...</td>\n",
       "      <td>...</td>\n",
       "      <td>...</td>\n",
       "      <td>...</td>\n",
       "      <td>...</td>\n",
       "      <td>...</td>\n",
       "      <td>...</td>\n",
       "      <td>...</td>\n",
       "      <td>...</td>\n",
       "    </tr>\n",
       "    <tr>\n",
       "      <th>19823</th>\n",
       "      <td>19823</td>\n",
       "      <td>19823</td>\n",
       "      <td>0.647243</td>\n",
       "      <td>0.647680</td>\n",
       "      <td>0.468350</td>\n",
       "      <td>3.0</td>\n",
       "      <td>0.542075</td>\n",
       "      <td>0.705882</td>\n",
       "      <td>27</td>\n",
       "      <td>308.0</td>\n",
       "      <td>...</td>\n",
       "      <td>0</td>\n",
       "      <td>0</td>\n",
       "      <td>1</td>\n",
       "      <td>0</td>\n",
       "      <td>0</td>\n",
       "      <td>0</td>\n",
       "      <td>0</td>\n",
       "      <td>0</td>\n",
       "      <td>0</td>\n",
       "      <td>0.7</td>\n",
       "    </tr>\n",
       "    <tr>\n",
       "      <th>19827</th>\n",
       "      <td>19827</td>\n",
       "      <td>19827</td>\n",
       "      <td>0.647243</td>\n",
       "      <td>0.714286</td>\n",
       "      <td>0.546746</td>\n",
       "      <td>3.0</td>\n",
       "      <td>0.542075</td>\n",
       "      <td>0.591837</td>\n",
       "      <td>25</td>\n",
       "      <td>150.0</td>\n",
       "      <td>...</td>\n",
       "      <td>0</td>\n",
       "      <td>0</td>\n",
       "      <td>0</td>\n",
       "      <td>0</td>\n",
       "      <td>0</td>\n",
       "      <td>0</td>\n",
       "      <td>0</td>\n",
       "      <td>1</td>\n",
       "      <td>0</td>\n",
       "      <td>0.4</td>\n",
       "    </tr>\n",
       "    <tr>\n",
       "      <th>19831</th>\n",
       "      <td>19831</td>\n",
       "      <td>19831</td>\n",
       "      <td>0.647243</td>\n",
       "      <td>0.710000</td>\n",
       "      <td>0.546746</td>\n",
       "      <td>3.0</td>\n",
       "      <td>0.542075</td>\n",
       "      <td>0.967742</td>\n",
       "      <td>29</td>\n",
       "      <td>42.0</td>\n",
       "      <td>...</td>\n",
       "      <td>0</td>\n",
       "      <td>0</td>\n",
       "      <td>0</td>\n",
       "      <td>1</td>\n",
       "      <td>0</td>\n",
       "      <td>0</td>\n",
       "      <td>1</td>\n",
       "      <td>0</td>\n",
       "      <td>0</td>\n",
       "      <td>0.9</td>\n",
       "    </tr>\n",
       "    <tr>\n",
       "      <th>19832</th>\n",
       "      <td>19832</td>\n",
       "      <td>19832</td>\n",
       "      <td>0.647243</td>\n",
       "      <td>0.710000</td>\n",
       "      <td>0.546746</td>\n",
       "      <td>3.0</td>\n",
       "      <td>0.542075</td>\n",
       "      <td>0.175258</td>\n",
       "      <td>23</td>\n",
       "      <td>48.0</td>\n",
       "      <td>...</td>\n",
       "      <td>0</td>\n",
       "      <td>0</td>\n",
       "      <td>1</td>\n",
       "      <td>0</td>\n",
       "      <td>0</td>\n",
       "      <td>0</td>\n",
       "      <td>1</td>\n",
       "      <td>0</td>\n",
       "      <td>0</td>\n",
       "      <td>0.1</td>\n",
       "    </tr>\n",
       "    <tr>\n",
       "      <th>19838</th>\n",
       "      <td>19838</td>\n",
       "      <td>19838</td>\n",
       "      <td>0.647243</td>\n",
       "      <td>0.558140</td>\n",
       "      <td>0.546746</td>\n",
       "      <td>4.0</td>\n",
       "      <td>0.542075</td>\n",
       "      <td>0.622222</td>\n",
       "      <td>25</td>\n",
       "      <td>7.0</td>\n",
       "      <td>...</td>\n",
       "      <td>0</td>\n",
       "      <td>0</td>\n",
       "      <td>0</td>\n",
       "      <td>1</td>\n",
       "      <td>0</td>\n",
       "      <td>0</td>\n",
       "      <td>0</td>\n",
       "      <td>0</td>\n",
       "      <td>0</td>\n",
       "      <td>0.6</td>\n",
       "    </tr>\n",
       "    <tr>\n",
       "      <th>19840</th>\n",
       "      <td>19840</td>\n",
       "      <td>19840</td>\n",
       "      <td>0.612836</td>\n",
       "      <td>0.647680</td>\n",
       "      <td>0.546746</td>\n",
       "      <td>4.0</td>\n",
       "      <td>0.542075</td>\n",
       "      <td>1.000000</td>\n",
       "      <td>19</td>\n",
       "      <td>3286.0</td>\n",
       "      <td>...</td>\n",
       "      <td>0</td>\n",
       "      <td>0</td>\n",
       "      <td>1</td>\n",
       "      <td>0</td>\n",
       "      <td>0</td>\n",
       "      <td>0</td>\n",
       "      <td>1</td>\n",
       "      <td>0</td>\n",
       "      <td>0</td>\n",
       "      <td>0.9</td>\n",
       "    </tr>\n",
       "    <tr>\n",
       "      <th>19842</th>\n",
       "      <td>19842</td>\n",
       "      <td>19842</td>\n",
       "      <td>0.631575</td>\n",
       "      <td>0.641026</td>\n",
       "      <td>0.546746</td>\n",
       "      <td>5.0</td>\n",
       "      <td>0.542075</td>\n",
       "      <td>0.636364</td>\n",
       "      <td>18</td>\n",
       "      <td>5136.0</td>\n",
       "      <td>...</td>\n",
       "      <td>0</td>\n",
       "      <td>0</td>\n",
       "      <td>0</td>\n",
       "      <td>0</td>\n",
       "      <td>1</td>\n",
       "      <td>0</td>\n",
       "      <td>1</td>\n",
       "      <td>0</td>\n",
       "      <td>0</td>\n",
       "      <td>0.6</td>\n",
       "    </tr>\n",
       "    <tr>\n",
       "      <th>19844</th>\n",
       "      <td>19844</td>\n",
       "      <td>19844</td>\n",
       "      <td>0.631575</td>\n",
       "      <td>0.641026</td>\n",
       "      <td>0.468350</td>\n",
       "      <td>5.0</td>\n",
       "      <td>0.542075</td>\n",
       "      <td>0.300000</td>\n",
       "      <td>23</td>\n",
       "      <td>5134.0</td>\n",
       "      <td>...</td>\n",
       "      <td>0</td>\n",
       "      <td>0</td>\n",
       "      <td>1</td>\n",
       "      <td>0</td>\n",
       "      <td>0</td>\n",
       "      <td>0</td>\n",
       "      <td>0</td>\n",
       "      <td>0</td>\n",
       "      <td>0</td>\n",
       "      <td>0.1</td>\n",
       "    </tr>\n",
       "    <tr>\n",
       "      <th>19845</th>\n",
       "      <td>19845</td>\n",
       "      <td>19845</td>\n",
       "      <td>0.631575</td>\n",
       "      <td>0.641026</td>\n",
       "      <td>0.546746</td>\n",
       "      <td>5.0</td>\n",
       "      <td>0.542075</td>\n",
       "      <td>1.000000</td>\n",
       "      <td>30</td>\n",
       "      <td>5113.0</td>\n",
       "      <td>...</td>\n",
       "      <td>0</td>\n",
       "      <td>0</td>\n",
       "      <td>1</td>\n",
       "      <td>0</td>\n",
       "      <td>0</td>\n",
       "      <td>0</td>\n",
       "      <td>1</td>\n",
       "      <td>0</td>\n",
       "      <td>0</td>\n",
       "      <td>1.0</td>\n",
       "    </tr>\n",
       "    <tr>\n",
       "      <th>19847</th>\n",
       "      <td>19847</td>\n",
       "      <td>19847</td>\n",
       "      <td>0.631575</td>\n",
       "      <td>0.642857</td>\n",
       "      <td>0.458716</td>\n",
       "      <td>4.0</td>\n",
       "      <td>0.542075</td>\n",
       "      <td>0.567164</td>\n",
       "      <td>18</td>\n",
       "      <td>11059.0</td>\n",
       "      <td>...</td>\n",
       "      <td>0</td>\n",
       "      <td>0</td>\n",
       "      <td>0</td>\n",
       "      <td>1</td>\n",
       "      <td>0</td>\n",
       "      <td>0</td>\n",
       "      <td>0</td>\n",
       "      <td>0</td>\n",
       "      <td>1</td>\n",
       "      <td>0.8</td>\n",
       "    </tr>\n",
       "    <tr>\n",
       "      <th>19852</th>\n",
       "      <td>19852</td>\n",
       "      <td>19852</td>\n",
       "      <td>0.547560</td>\n",
       "      <td>0.750000</td>\n",
       "      <td>0.468350</td>\n",
       "      <td>4.0</td>\n",
       "      <td>0.542075</td>\n",
       "      <td>0.681319</td>\n",
       "      <td>30</td>\n",
       "      <td>2799.0</td>\n",
       "      <td>...</td>\n",
       "      <td>0</td>\n",
       "      <td>0</td>\n",
       "      <td>0</td>\n",
       "      <td>0</td>\n",
       "      <td>0</td>\n",
       "      <td>0</td>\n",
       "      <td>1</td>\n",
       "      <td>0</td>\n",
       "      <td>0</td>\n",
       "      <td>0.7</td>\n",
       "    </tr>\n",
       "    <tr>\n",
       "      <th>19855</th>\n",
       "      <td>19855</td>\n",
       "      <td>19855</td>\n",
       "      <td>0.631575</td>\n",
       "      <td>0.750000</td>\n",
       "      <td>0.546746</td>\n",
       "      <td>4.0</td>\n",
       "      <td>0.542075</td>\n",
       "      <td>0.890625</td>\n",
       "      <td>27</td>\n",
       "      <td>4345.0</td>\n",
       "      <td>...</td>\n",
       "      <td>0</td>\n",
       "      <td>1</td>\n",
       "      <td>0</td>\n",
       "      <td>0</td>\n",
       "      <td>0</td>\n",
       "      <td>0</td>\n",
       "      <td>0</td>\n",
       "      <td>0</td>\n",
       "      <td>0</td>\n",
       "      <td>1.0</td>\n",
       "    </tr>\n",
       "    <tr>\n",
       "      <th>19859</th>\n",
       "      <td>19859</td>\n",
       "      <td>19859</td>\n",
       "      <td>0.613476</td>\n",
       "      <td>0.647680</td>\n",
       "      <td>0.546746</td>\n",
       "      <td>5.0</td>\n",
       "      <td>0.542075</td>\n",
       "      <td>0.578947</td>\n",
       "      <td>22</td>\n",
       "      <td>16394.0</td>\n",
       "      <td>...</td>\n",
       "      <td>0</td>\n",
       "      <td>0</td>\n",
       "      <td>0</td>\n",
       "      <td>0</td>\n",
       "      <td>1</td>\n",
       "      <td>0</td>\n",
       "      <td>0</td>\n",
       "      <td>0</td>\n",
       "      <td>0</td>\n",
       "      <td>0.9</td>\n",
       "    </tr>\n",
       "    <tr>\n",
       "      <th>19860</th>\n",
       "      <td>19860</td>\n",
       "      <td>19860</td>\n",
       "      <td>0.720812</td>\n",
       "      <td>0.647680</td>\n",
       "      <td>0.546746</td>\n",
       "      <td>4.0</td>\n",
       "      <td>0.542075</td>\n",
       "      <td>0.857143</td>\n",
       "      <td>30</td>\n",
       "      <td>2147.0</td>\n",
       "      <td>...</td>\n",
       "      <td>0</td>\n",
       "      <td>1</td>\n",
       "      <td>0</td>\n",
       "      <td>0</td>\n",
       "      <td>0</td>\n",
       "      <td>0</td>\n",
       "      <td>0</td>\n",
       "      <td>0</td>\n",
       "      <td>0</td>\n",
       "      <td>0.9</td>\n",
       "    </tr>\n",
       "    <tr>\n",
       "      <th>19864</th>\n",
       "      <td>19864</td>\n",
       "      <td>19864</td>\n",
       "      <td>0.646637</td>\n",
       "      <td>0.600000</td>\n",
       "      <td>0.546746</td>\n",
       "      <td>4.0</td>\n",
       "      <td>0.542075</td>\n",
       "      <td>0.714286</td>\n",
       "      <td>25</td>\n",
       "      <td>2503.0</td>\n",
       "      <td>...</td>\n",
       "      <td>1</td>\n",
       "      <td>0</td>\n",
       "      <td>0</td>\n",
       "      <td>0</td>\n",
       "      <td>0</td>\n",
       "      <td>0</td>\n",
       "      <td>0</td>\n",
       "      <td>1</td>\n",
       "      <td>0</td>\n",
       "      <td>0.7</td>\n",
       "    </tr>\n",
       "    <tr>\n",
       "      <th>19868</th>\n",
       "      <td>19868</td>\n",
       "      <td>19868</td>\n",
       "      <td>0.646637</td>\n",
       "      <td>0.600000</td>\n",
       "      <td>0.546746</td>\n",
       "      <td>4.0</td>\n",
       "      <td>0.542075</td>\n",
       "      <td>0.883721</td>\n",
       "      <td>25</td>\n",
       "      <td>2503.0</td>\n",
       "      <td>...</td>\n",
       "      <td>1</td>\n",
       "      <td>0</td>\n",
       "      <td>0</td>\n",
       "      <td>0</td>\n",
       "      <td>0</td>\n",
       "      <td>0</td>\n",
       "      <td>1</td>\n",
       "      <td>0</td>\n",
       "      <td>0</td>\n",
       "      <td>1.0</td>\n",
       "    </tr>\n",
       "    <tr>\n",
       "      <th>19869</th>\n",
       "      <td>19869</td>\n",
       "      <td>19869</td>\n",
       "      <td>0.646637</td>\n",
       "      <td>0.600000</td>\n",
       "      <td>0.468350</td>\n",
       "      <td>4.0</td>\n",
       "      <td>0.542075</td>\n",
       "      <td>0.000000</td>\n",
       "      <td>29</td>\n",
       "      <td>2525.0</td>\n",
       "      <td>...</td>\n",
       "      <td>0</td>\n",
       "      <td>1</td>\n",
       "      <td>0</td>\n",
       "      <td>0</td>\n",
       "      <td>0</td>\n",
       "      <td>0</td>\n",
       "      <td>0</td>\n",
       "      <td>0</td>\n",
       "      <td>0</td>\n",
       "      <td>0.2</td>\n",
       "    </tr>\n",
       "    <tr>\n",
       "      <th>19875</th>\n",
       "      <td>19875</td>\n",
       "      <td>19875</td>\n",
       "      <td>0.599425</td>\n",
       "      <td>0.750000</td>\n",
       "      <td>0.546746</td>\n",
       "      <td>4.0</td>\n",
       "      <td>0.542075</td>\n",
       "      <td>0.779661</td>\n",
       "      <td>25</td>\n",
       "      <td>1661.0</td>\n",
       "      <td>...</td>\n",
       "      <td>0</td>\n",
       "      <td>1</td>\n",
       "      <td>0</td>\n",
       "      <td>0</td>\n",
       "      <td>0</td>\n",
       "      <td>0</td>\n",
       "      <td>0</td>\n",
       "      <td>0</td>\n",
       "      <td>0</td>\n",
       "      <td>0.9</td>\n",
       "    </tr>\n",
       "    <tr>\n",
       "      <th>19876</th>\n",
       "      <td>19876</td>\n",
       "      <td>19876</td>\n",
       "      <td>0.599425</td>\n",
       "      <td>0.500000</td>\n",
       "      <td>0.546746</td>\n",
       "      <td>4.0</td>\n",
       "      <td>0.542075</td>\n",
       "      <td>0.815789</td>\n",
       "      <td>23</td>\n",
       "      <td>1648.0</td>\n",
       "      <td>...</td>\n",
       "      <td>0</td>\n",
       "      <td>0</td>\n",
       "      <td>1</td>\n",
       "      <td>0</td>\n",
       "      <td>0</td>\n",
       "      <td>0</td>\n",
       "      <td>0</td>\n",
       "      <td>0</td>\n",
       "      <td>0</td>\n",
       "      <td>0.5</td>\n",
       "    </tr>\n",
       "    <tr>\n",
       "      <th>19883</th>\n",
       "      <td>19883</td>\n",
       "      <td>19883</td>\n",
       "      <td>0.578514</td>\n",
       "      <td>1.000000</td>\n",
       "      <td>0.546746</td>\n",
       "      <td>6.0</td>\n",
       "      <td>0.542075</td>\n",
       "      <td>0.746835</td>\n",
       "      <td>25</td>\n",
       "      <td>2148.0</td>\n",
       "      <td>...</td>\n",
       "      <td>0</td>\n",
       "      <td>0</td>\n",
       "      <td>1</td>\n",
       "      <td>0</td>\n",
       "      <td>0</td>\n",
       "      <td>0</td>\n",
       "      <td>1</td>\n",
       "      <td>0</td>\n",
       "      <td>0</td>\n",
       "      <td>0.9</td>\n",
       "    </tr>\n",
       "    <tr>\n",
       "      <th>19887</th>\n",
       "      <td>19887</td>\n",
       "      <td>19887</td>\n",
       "      <td>0.578514</td>\n",
       "      <td>0.647680</td>\n",
       "      <td>0.546746</td>\n",
       "      <td>3.0</td>\n",
       "      <td>0.542075</td>\n",
       "      <td>0.172414</td>\n",
       "      <td>23</td>\n",
       "      <td>1011.0</td>\n",
       "      <td>...</td>\n",
       "      <td>0</td>\n",
       "      <td>0</td>\n",
       "      <td>0</td>\n",
       "      <td>0</td>\n",
       "      <td>0</td>\n",
       "      <td>0</td>\n",
       "      <td>0</td>\n",
       "      <td>1</td>\n",
       "      <td>0</td>\n",
       "      <td>0.0</td>\n",
       "    </tr>\n",
       "    <tr>\n",
       "      <th>19891</th>\n",
       "      <td>19891</td>\n",
       "      <td>19891</td>\n",
       "      <td>0.619523</td>\n",
       "      <td>1.000000</td>\n",
       "      <td>0.546746</td>\n",
       "      <td>4.0</td>\n",
       "      <td>0.542075</td>\n",
       "      <td>1.000000</td>\n",
       "      <td>27</td>\n",
       "      <td>898.0</td>\n",
       "      <td>...</td>\n",
       "      <td>0</td>\n",
       "      <td>1</td>\n",
       "      <td>0</td>\n",
       "      <td>0</td>\n",
       "      <td>0</td>\n",
       "      <td>0</td>\n",
       "      <td>1</td>\n",
       "      <td>0</td>\n",
       "      <td>0</td>\n",
       "      <td>0.9</td>\n",
       "    </tr>\n",
       "    <tr>\n",
       "      <th>19893</th>\n",
       "      <td>19893</td>\n",
       "      <td>19893</td>\n",
       "      <td>0.682028</td>\n",
       "      <td>1.000000</td>\n",
       "      <td>0.546746</td>\n",
       "      <td>3.0</td>\n",
       "      <td>0.542075</td>\n",
       "      <td>0.481013</td>\n",
       "      <td>20</td>\n",
       "      <td>20784.0</td>\n",
       "      <td>...</td>\n",
       "      <td>0</td>\n",
       "      <td>0</td>\n",
       "      <td>0</td>\n",
       "      <td>0</td>\n",
       "      <td>1</td>\n",
       "      <td>0</td>\n",
       "      <td>1</td>\n",
       "      <td>0</td>\n",
       "      <td>0</td>\n",
       "      <td>1.0</td>\n",
       "    </tr>\n",
       "    <tr>\n",
       "      <th>19896</th>\n",
       "      <td>19896</td>\n",
       "      <td>19896</td>\n",
       "      <td>0.578514</td>\n",
       "      <td>0.823529</td>\n",
       "      <td>0.546746</td>\n",
       "      <td>3.0</td>\n",
       "      <td>0.542075</td>\n",
       "      <td>0.263158</td>\n",
       "      <td>21</td>\n",
       "      <td>831.0</td>\n",
       "      <td>...</td>\n",
       "      <td>0</td>\n",
       "      <td>0</td>\n",
       "      <td>0</td>\n",
       "      <td>0</td>\n",
       "      <td>0</td>\n",
       "      <td>1</td>\n",
       "      <td>1</td>\n",
       "      <td>0</td>\n",
       "      <td>0</td>\n",
       "      <td>0.5</td>\n",
       "    </tr>\n",
       "    <tr>\n",
       "      <th>19900</th>\n",
       "      <td>19900</td>\n",
       "      <td>19900</td>\n",
       "      <td>0.647243</td>\n",
       "      <td>0.647680</td>\n",
       "      <td>0.546746</td>\n",
       "      <td>4.0</td>\n",
       "      <td>0.542075</td>\n",
       "      <td>0.824324</td>\n",
       "      <td>30</td>\n",
       "      <td>542.0</td>\n",
       "      <td>...</td>\n",
       "      <td>0</td>\n",
       "      <td>0</td>\n",
       "      <td>1</td>\n",
       "      <td>0</td>\n",
       "      <td>0</td>\n",
       "      <td>0</td>\n",
       "      <td>0</td>\n",
       "      <td>1</td>\n",
       "      <td>0</td>\n",
       "      <td>0.7</td>\n",
       "    </tr>\n",
       "    <tr>\n",
       "      <th>19902</th>\n",
       "      <td>19902</td>\n",
       "      <td>19902</td>\n",
       "      <td>0.647243</td>\n",
       "      <td>1.000000</td>\n",
       "      <td>0.546746</td>\n",
       "      <td>4.0</td>\n",
       "      <td>0.542075</td>\n",
       "      <td>0.727273</td>\n",
       "      <td>18</td>\n",
       "      <td>377.0</td>\n",
       "      <td>...</td>\n",
       "      <td>0</td>\n",
       "      <td>0</td>\n",
       "      <td>1</td>\n",
       "      <td>0</td>\n",
       "      <td>0</td>\n",
       "      <td>0</td>\n",
       "      <td>0</td>\n",
       "      <td>1</td>\n",
       "      <td>0</td>\n",
       "      <td>0.9</td>\n",
       "    </tr>\n",
       "    <tr>\n",
       "      <th>19903</th>\n",
       "      <td>19903</td>\n",
       "      <td>19903</td>\n",
       "      <td>0.647243</td>\n",
       "      <td>0.000000</td>\n",
       "      <td>0.468350</td>\n",
       "      <td>4.0</td>\n",
       "      <td>0.542075</td>\n",
       "      <td>0.717949</td>\n",
       "      <td>20</td>\n",
       "      <td>329.0</td>\n",
       "      <td>...</td>\n",
       "      <td>0</td>\n",
       "      <td>0</td>\n",
       "      <td>0</td>\n",
       "      <td>1</td>\n",
       "      <td>0</td>\n",
       "      <td>0</td>\n",
       "      <td>0</td>\n",
       "      <td>0</td>\n",
       "      <td>0</td>\n",
       "      <td>0.0</td>\n",
       "    </tr>\n",
       "    <tr>\n",
       "      <th>19906</th>\n",
       "      <td>19906</td>\n",
       "      <td>19906</td>\n",
       "      <td>0.647243</td>\n",
       "      <td>0.545455</td>\n",
       "      <td>0.468350</td>\n",
       "      <td>3.0</td>\n",
       "      <td>0.542075</td>\n",
       "      <td>0.557377</td>\n",
       "      <td>30</td>\n",
       "      <td>210.0</td>\n",
       "      <td>...</td>\n",
       "      <td>0</td>\n",
       "      <td>0</td>\n",
       "      <td>0</td>\n",
       "      <td>1</td>\n",
       "      <td>0</td>\n",
       "      <td>0</td>\n",
       "      <td>0</td>\n",
       "      <td>0</td>\n",
       "      <td>1</td>\n",
       "      <td>0.2</td>\n",
       "    </tr>\n",
       "    <tr>\n",
       "      <th>19907</th>\n",
       "      <td>19907</td>\n",
       "      <td>19907</td>\n",
       "      <td>0.647243</td>\n",
       "      <td>1.000000</td>\n",
       "      <td>0.468350</td>\n",
       "      <td>3.0</td>\n",
       "      <td>0.542075</td>\n",
       "      <td>0.964286</td>\n",
       "      <td>22</td>\n",
       "      <td>186.0</td>\n",
       "      <td>...</td>\n",
       "      <td>1</td>\n",
       "      <td>0</td>\n",
       "      <td>0</td>\n",
       "      <td>0</td>\n",
       "      <td>0</td>\n",
       "      <td>0</td>\n",
       "      <td>1</td>\n",
       "      <td>0</td>\n",
       "      <td>0</td>\n",
       "      <td>1.0</td>\n",
       "    </tr>\n",
       "    <tr>\n",
       "      <th>19911</th>\n",
       "      <td>19911</td>\n",
       "      <td>19911</td>\n",
       "      <td>0.647243</td>\n",
       "      <td>0.647680</td>\n",
       "      <td>0.546746</td>\n",
       "      <td>3.0</td>\n",
       "      <td>0.542075</td>\n",
       "      <td>0.682540</td>\n",
       "      <td>26</td>\n",
       "      <td>148.0</td>\n",
       "      <td>...</td>\n",
       "      <td>0</td>\n",
       "      <td>0</td>\n",
       "      <td>0</td>\n",
       "      <td>0</td>\n",
       "      <td>0</td>\n",
       "      <td>1</td>\n",
       "      <td>1</td>\n",
       "      <td>0</td>\n",
       "      <td>0</td>\n",
       "      <td>0.7</td>\n",
       "    </tr>\n",
       "  </tbody>\n",
       "</table>\n",
       "<p>6696 rows × 38 columns</p>\n",
       "</div>"
      ],
      "text/plain": [
       "       Unnamed: 0  sample_id  genre_id  media_id  context_type  media_duration  listen_type   user_id  user_age  diff_ts_listen_AND_release_date_D     ...      ts_listen_DAY_OF_WEEK_1  \\\n",
       "0               0          0  0.583890  0.647680      0.546746             9.0     0.542075  1.000000        30                             5139.0     ...                            0   \n",
       "6               6          6  0.627204  0.400000      0.546746             4.0     0.542075  0.090909        21                            11293.0     ...                            0   \n",
       "8               8          8  0.578514  0.800000      0.546746             3.0     0.542075  0.315789        23                             5012.0     ...                            0   \n",
       "14             14         14  0.670330  0.647680      0.468350             3.0     0.542075  0.666667        20                             2411.0     ...                            0   \n",
       "15             15         15  0.700000  1.000000      0.546746             9.0     0.542075  0.968750        29                             4009.0     ...                            0   \n",
       "16             16         16  0.631575  0.500000      0.468350             3.0     0.542075  0.611111        18                             2304.0     ...                            1   \n",
       "19             19         19  0.677729  0.800000      0.546746             5.0     0.542075  0.444444        24                             2076.0     ...                            1   \n",
       "25             25         25  0.797753  1.000000      0.546746             4.0     0.542075  0.910112        18                             1760.0     ...                            0   \n",
       "29             29         29  0.750000  0.750000      0.546746             3.0     0.542075  0.900000        27                             4334.0     ...                            0   \n",
       "33             33         33  0.750000  0.750000      0.546746             3.0     0.542075  0.578947        29                             4345.0     ...                            0   \n",
       "39             39         39  0.747312  0.857143      0.546746             3.0     0.542075  0.493151        23                             1526.0     ...                            0   \n",
       "44             44         44  0.631575  1.000000      0.546746             4.0     0.542075  0.736842        18                             1149.0     ...                            0   \n",
       "45             45         45  0.578514  0.500000      0.546746             4.0     0.542075  0.833333        23                             1184.0     ...                            1   \n",
       "46             46         46  0.584121  0.647680      0.546746             3.0     0.542075  0.500000        20                             1034.0     ...                            0   \n",
       "52             52         52  0.578514  0.677419      0.546746             4.0     0.542075  0.726190        24                              779.0     ...                            1   \n",
       "61             61         61  0.578514  0.564103      0.468350             4.0     0.542075  0.631579        19                              738.0     ...                            0   \n",
       "62             62         62  0.578514  0.490566      0.546746             4.0     0.542075  0.785714        28                              740.0     ...                            0   \n",
       "64             64         64  0.578514  0.564103      0.546746             4.0     0.542075  0.133333        18                              733.0     ...                            0   \n",
       "65             65         65  0.578514  0.490566      0.546746             4.0     0.542075  0.562500        25                              757.0     ...                            0   \n",
       "66             66         66  0.578514  0.490566      0.546746             4.0     0.542075  0.636364        28                              748.0     ...                            0   \n",
       "70             70         70  0.578514  0.490566      0.546746             4.0     0.542075  1.000000        21                              732.0     ...                            1   \n",
       "71             71         71  0.578514  0.687500      0.546746             4.0     0.542075  0.600000        18                              751.0     ...                            0   \n",
       "80             80         80  0.578514  0.490566      0.546746             4.0     0.542075  0.589744        28                              732.0     ...                            1   \n",
       "82             82         82  0.711340  0.647680      0.546746             3.0     0.542075  0.735294        30                              718.0     ...                            0   \n",
       "84             84         84  1.000000  0.647680      0.546746             5.0     0.542075  0.896552        20                             1227.0     ...                            0   \n",
       "85             85         85  0.647243  0.400000      0.468350             5.0     0.542075  0.583333        20                             2880.0     ...                            0   \n",
       "95             95         95  0.647243  0.595745      0.546746             3.0     0.542075  0.916667        18                              128.0     ...                            0   \n",
       "99             99         99  0.647243  0.633333      0.546746             3.0     0.542075  0.810127        24                              138.0     ...                            0   \n",
       "101           101        101  0.647243  0.756281      0.546746             3.0     0.542075  0.555556        19                              145.0     ...                            0   \n",
       "103           103        103  0.647243  0.595745      0.546746             3.0     0.542075  0.827586        22                              116.0     ...                            1   \n",
       "...           ...        ...       ...       ...           ...             ...          ...       ...       ...                                ...     ...                          ...   \n",
       "19823       19823      19823  0.647243  0.647680      0.468350             3.0     0.542075  0.705882        27                              308.0     ...                            0   \n",
       "19827       19827      19827  0.647243  0.714286      0.546746             3.0     0.542075  0.591837        25                              150.0     ...                            0   \n",
       "19831       19831      19831  0.647243  0.710000      0.546746             3.0     0.542075  0.967742        29                               42.0     ...                            0   \n",
       "19832       19832      19832  0.647243  0.710000      0.546746             3.0     0.542075  0.175258        23                               48.0     ...                            0   \n",
       "19838       19838      19838  0.647243  0.558140      0.546746             4.0     0.542075  0.622222        25                                7.0     ...                            0   \n",
       "19840       19840      19840  0.612836  0.647680      0.546746             4.0     0.542075  1.000000        19                             3286.0     ...                            0   \n",
       "19842       19842      19842  0.631575  0.641026      0.546746             5.0     0.542075  0.636364        18                             5136.0     ...                            0   \n",
       "19844       19844      19844  0.631575  0.641026      0.468350             5.0     0.542075  0.300000        23                             5134.0     ...                            0   \n",
       "19845       19845      19845  0.631575  0.641026      0.546746             5.0     0.542075  1.000000        30                             5113.0     ...                            0   \n",
       "19847       19847      19847  0.631575  0.642857      0.458716             4.0     0.542075  0.567164        18                            11059.0     ...                            0   \n",
       "19852       19852      19852  0.547560  0.750000      0.468350             4.0     0.542075  0.681319        30                             2799.0     ...                            0   \n",
       "19855       19855      19855  0.631575  0.750000      0.546746             4.0     0.542075  0.890625        27                             4345.0     ...                            0   \n",
       "19859       19859      19859  0.613476  0.647680      0.546746             5.0     0.542075  0.578947        22                            16394.0     ...                            0   \n",
       "19860       19860      19860  0.720812  0.647680      0.546746             4.0     0.542075  0.857143        30                             2147.0     ...                            0   \n",
       "19864       19864      19864  0.646637  0.600000      0.546746             4.0     0.542075  0.714286        25                             2503.0     ...                            1   \n",
       "19868       19868      19868  0.646637  0.600000      0.546746             4.0     0.542075  0.883721        25                             2503.0     ...                            1   \n",
       "19869       19869      19869  0.646637  0.600000      0.468350             4.0     0.542075  0.000000        29                             2525.0     ...                            0   \n",
       "19875       19875      19875  0.599425  0.750000      0.546746             4.0     0.542075  0.779661        25                             1661.0     ...                            0   \n",
       "19876       19876      19876  0.599425  0.500000      0.546746             4.0     0.542075  0.815789        23                             1648.0     ...                            0   \n",
       "19883       19883      19883  0.578514  1.000000      0.546746             6.0     0.542075  0.746835        25                             2148.0     ...                            0   \n",
       "19887       19887      19887  0.578514  0.647680      0.546746             3.0     0.542075  0.172414        23                             1011.0     ...                            0   \n",
       "19891       19891      19891  0.619523  1.000000      0.546746             4.0     0.542075  1.000000        27                              898.0     ...                            0   \n",
       "19893       19893      19893  0.682028  1.000000      0.546746             3.0     0.542075  0.481013        20                            20784.0     ...                            0   \n",
       "19896       19896      19896  0.578514  0.823529      0.546746             3.0     0.542075  0.263158        21                              831.0     ...                            0   \n",
       "19900       19900      19900  0.647243  0.647680      0.546746             4.0     0.542075  0.824324        30                              542.0     ...                            0   \n",
       "19902       19902      19902  0.647243  1.000000      0.546746             4.0     0.542075  0.727273        18                              377.0     ...                            0   \n",
       "19903       19903      19903  0.647243  0.000000      0.468350             4.0     0.542075  0.717949        20                              329.0     ...                            0   \n",
       "19906       19906      19906  0.647243  0.545455      0.468350             3.0     0.542075  0.557377        30                              210.0     ...                            0   \n",
       "19907       19907      19907  0.647243  1.000000      0.468350             3.0     0.542075  0.964286        22                              186.0     ...                            1   \n",
       "19911       19911      19911  0.647243  0.647680      0.546746             3.0     0.542075  0.682540        26                              148.0     ...                            0   \n",
       "\n",
       "       ts_listen_DAY_OF_WEEK_2  ts_listen_DAY_OF_WEEK_3  ts_listen_DAY_OF_WEEK_4  ts_listen_DAY_OF_WEEK_5  ts_listen_DAY_OF_WEEK_6  ts_listen_PERIOD_OF_DAY_1  ts_listen_PERIOD_OF_DAY_2  \\\n",
       "0                            1                        0                        0                        0                        0                          1                          0   \n",
       "6                            0                        1                        0                        0                        0                          0                          0   \n",
       "8                            1                        0                        0                        0                        0                          1                          0   \n",
       "14                           0                        0                        0                        1                        0                          0                          0   \n",
       "15                           0                        0                        0                        1                        0                          0                          0   \n",
       "16                           0                        0                        0                        0                        0                          1                          0   \n",
       "19                           0                        0                        0                        0                        0                          0                          0   \n",
       "25                           0                        0                        0                        0                        0                          1                          0   \n",
       "29                           0                        0                        0                        1                        0                          0                          0   \n",
       "33                           1                        0                        0                        0                        0                          1                          0   \n",
       "39                           0                        0                        0                        0                        0                          1                          0   \n",
       "44                           0                        0                        0                        1                        0                          0                          1   \n",
       "45                           0                        0                        0                        0                        0                          0                          0   \n",
       "46                           0                        0                        0                        1                        0                          1                          0   \n",
       "52                           0                        0                        0                        0                        0                          0                          0   \n",
       "61                           0                        0                        0                        0                        0                          0                          0   \n",
       "62                           1                        0                        0                        0                        0                          0                          0   \n",
       "64                           1                        0                        0                        0                        0                          1                          0   \n",
       "65                           0                        0                        0                        1                        0                          0                          0   \n",
       "66                           0                        1                        0                        0                        0                          1                          0   \n",
       "70                           0                        0                        0                        0                        0                          0                          0   \n",
       "71                           0                        0                        0                        0                        1                          0                          1   \n",
       "80                           0                        0                        0                        0                        0                          0                          1   \n",
       "82                           0                        0                        1                        0                        0                          0                          0   \n",
       "84                           0                        1                        0                        0                        0                          1                          0   \n",
       "85                           0                        0                        0                        0                        1                          1                          0   \n",
       "95                           0                        0                        0                        0                        1                          0                          0   \n",
       "99                           1                        0                        0                        0                        0                          0                          0   \n",
       "101                          1                        0                        0                        0                        0                          0                          0   \n",
       "103                          0                        0                        0                        0                        0                          1                          0   \n",
       "...                        ...                      ...                      ...                      ...                      ...                        ...                        ...   \n",
       "19823                        0                        1                        0                        0                        0                          0                          0   \n",
       "19827                        0                        0                        0                        0                        0                          0                          1   \n",
       "19831                        0                        0                        1                        0                        0                          1                          0   \n",
       "19832                        0                        1                        0                        0                        0                          1                          0   \n",
       "19838                        0                        0                        1                        0                        0                          0                          0   \n",
       "19840                        0                        1                        0                        0                        0                          1                          0   \n",
       "19842                        0                        0                        0                        1                        0                          1                          0   \n",
       "19844                        0                        1                        0                        0                        0                          0                          0   \n",
       "19845                        0                        1                        0                        0                        0                          1                          0   \n",
       "19847                        0                        0                        1                        0                        0                          0                          0   \n",
       "19852                        0                        0                        0                        0                        0                          1                          0   \n",
       "19855                        1                        0                        0                        0                        0                          0                          0   \n",
       "19859                        0                        0                        0                        1                        0                          0                          0   \n",
       "19860                        1                        0                        0                        0                        0                          0                          0   \n",
       "19864                        0                        0                        0                        0                        0                          0                          1   \n",
       "19868                        0                        0                        0                        0                        0                          1                          0   \n",
       "19869                        1                        0                        0                        0                        0                          0                          0   \n",
       "19875                        1                        0                        0                        0                        0                          0                          0   \n",
       "19876                        0                        1                        0                        0                        0                          0                          0   \n",
       "19883                        0                        1                        0                        0                        0                          1                          0   \n",
       "19887                        0                        0                        0                        0                        0                          0                          1   \n",
       "19891                        1                        0                        0                        0                        0                          1                          0   \n",
       "19893                        0                        0                        0                        1                        0                          1                          0   \n",
       "19896                        0                        0                        0                        0                        1                          1                          0   \n",
       "19900                        0                        1                        0                        0                        0                          0                          1   \n",
       "19902                        0                        1                        0                        0                        0                          0                          1   \n",
       "19903                        0                        0                        1                        0                        0                          0                          0   \n",
       "19906                        0                        0                        1                        0                        0                          0                          0   \n",
       "19907                        0                        0                        0                        0                        0                          1                          0   \n",
       "19911                        0                        0                        0                        0                        1                          1                          0   \n",
       "\n",
       "       ts_listen_PERIOD_OF_DAY_3  prediction  \n",
       "0                              0         1.0  \n",
       "6                              0         0.0  \n",
       "8                              0         0.5  \n",
       "14                             1         0.6  \n",
       "15                             0         1.0  \n",
       "16                             0         0.2  \n",
       "19                             0         0.5  \n",
       "25                             0         1.0  \n",
       "29                             0         1.0  \n",
       "33                             0         0.7  \n",
       "39                             0         0.7  \n",
       "44                             0         1.0  \n",
       "45                             1         0.8  \n",
       "46                             0         0.2  \n",
       "52                             0         0.6  \n",
       "61                             0         0.5  \n",
       "62                             0         0.9  \n",
       "64                             0         0.1  \n",
       "65                             0         0.3  \n",
       "66                             0         0.5  \n",
       "70                             0         1.0  \n",
       "71                             0         0.7  \n",
       "80                             0         0.5  \n",
       "82                             0         0.5  \n",
       "84                             0         0.7  \n",
       "85                             0         0.1  \n",
       "95                             0         0.9  \n",
       "99                             1         0.7  \n",
       "101                            1         0.5  \n",
       "103                            0         0.8  \n",
       "...                          ...         ...  \n",
       "19823                          0         0.7  \n",
       "19827                          0         0.4  \n",
       "19831                          0         0.9  \n",
       "19832                          0         0.1  \n",
       "19838                          0         0.6  \n",
       "19840                          0         0.9  \n",
       "19842                          0         0.6  \n",
       "19844                          0         0.1  \n",
       "19845                          0         1.0  \n",
       "19847                          1         0.8  \n",
       "19852                          0         0.7  \n",
       "19855                          0         1.0  \n",
       "19859                          0         0.9  \n",
       "19860                          0         0.9  \n",
       "19864                          0         0.7  \n",
       "19868                          0         1.0  \n",
       "19869                          0         0.2  \n",
       "19875                          0         0.9  \n",
       "19876                          0         0.5  \n",
       "19883                          0         0.9  \n",
       "19887                          0         0.0  \n",
       "19891                          0         0.9  \n",
       "19893                          0         1.0  \n",
       "19896                          0         0.5  \n",
       "19900                          0         0.7  \n",
       "19902                          0         0.9  \n",
       "19903                          0         0.0  \n",
       "19906                          1         0.2  \n",
       "19907                          0         1.0  \n",
       "19911                          0         0.7  \n",
       "\n",
       "[6696 rows x 38 columns]"
      ]
     },
     "execution_count": 63,
     "metadata": {},
     "output_type": "execute_result"
    }
   ],
   "source": [
    "df_test_group_2"
   ]
  },
  {
   "cell_type": "code",
   "execution_count": 64,
   "metadata": {
    "autoscroll": "json-false",
    "collapsed": false,
    "deletable": true,
    "editable": true,
    "ein.tags": [
     "worksheet-0"
    ],
    "slideshow": {
     "slide_type": "-"
    }
   },
   "outputs": [],
   "source": [
    "df_test = pd.read_csv(\"../data/test_data3.csv\", index_col=\"user_id\")\n",
    "# df_test = pd.merge(df_test, df_test_group_1[[\"user_id\", \"prediction\"]], on=\"user_id\")\n",
    "# df_test = pd.merge(df_test, df_test_group_2[[\"user_id\", \"prediction\"]], on=\"user_id\")\n",
    "df_test = pd.merge(df_test, df_test_group_1[[\"prediction\"]], left_index=True, right_index=True, how=\"outer\")\n",
    "#df_test.join(df_test_group_2[[\"prediction\"]])\n",
    "df_test = pd.merge(df_test, df_test_group_2[[\"prediction\"]], left_index=True, right_index=True, how=\"outer\")"
   ]
  },
  {
   "cell_type": "code",
   "execution_count": 65,
   "metadata": {
    "collapsed": false,
    "deletable": true,
    "editable": true
   },
   "outputs": [
    {
     "name": "stdout",
     "output_type": "stream",
     "text": [
      "13222\n",
      "6696\n",
      "19918\n"
     ]
    }
   ],
   "source": [
    "print(len(df_test_group_1))\n",
    "print(len(df_test_group_2))\n",
    "print(len(df_test))"
   ]
  },
  {
   "cell_type": "code",
   "execution_count": 66,
   "metadata": {
    "collapsed": false,
    "deletable": true,
    "editable": true
   },
   "outputs": [
    {
     "data": {
      "text/html": [
       "<div>\n",
       "<table border=\"1\" class=\"dataframe\">\n",
       "  <thead>\n",
       "    <tr style=\"text-align: right;\">\n",
       "      <th></th>\n",
       "      <th>user_id</th>\n",
       "      <th>prediction</th>\n",
       "    </tr>\n",
       "  </thead>\n",
       "  <tbody>\n",
       "    <tr>\n",
       "      <th>0</th>\n",
       "      <td>1.000000</td>\n",
       "      <td>1.0</td>\n",
       "    </tr>\n",
       "    <tr>\n",
       "      <th>6</th>\n",
       "      <td>0.090909</td>\n",
       "      <td>0.0</td>\n",
       "    </tr>\n",
       "    <tr>\n",
       "      <th>8</th>\n",
       "      <td>0.315789</td>\n",
       "      <td>0.5</td>\n",
       "    </tr>\n",
       "    <tr>\n",
       "      <th>14</th>\n",
       "      <td>0.666667</td>\n",
       "      <td>0.6</td>\n",
       "    </tr>\n",
       "    <tr>\n",
       "      <th>15</th>\n",
       "      <td>0.968750</td>\n",
       "      <td>1.0</td>\n",
       "    </tr>\n",
       "  </tbody>\n",
       "</table>\n",
       "</div>"
      ],
      "text/plain": [
       "     user_id  prediction\n",
       "0   1.000000         1.0\n",
       "6   0.090909         0.0\n",
       "8   0.315789         0.5\n",
       "14  0.666667         0.6\n",
       "15  0.968750         1.0"
      ]
     },
     "execution_count": 66,
     "metadata": {},
     "output_type": "execute_result"
    }
   ],
   "source": [
    "#pd.set_option(\"precision\", 10)\n",
    "df_test_group_2[[\"user_id\", \"prediction\"]].head()"
   ]
  },
  {
   "cell_type": "code",
   "execution_count": 67,
   "metadata": {
    "collapsed": false,
    "deletable": true,
    "editable": true
   },
   "outputs": [
    {
     "data": {
      "text/html": [
       "<div>\n",
       "<table border=\"1\" class=\"dataframe\">\n",
       "  <thead>\n",
       "    <tr style=\"text-align: right;\">\n",
       "      <th></th>\n",
       "      <th>Unnamed: 0</th>\n",
       "      <th>sample_id</th>\n",
       "      <th>genre_id</th>\n",
       "      <th>ts_listen</th>\n",
       "      <th>media_id</th>\n",
       "      <th>album_id</th>\n",
       "      <th>context_type</th>\n",
       "      <th>release_date</th>\n",
       "      <th>platform_name</th>\n",
       "      <th>platform_family</th>\n",
       "      <th>...</th>\n",
       "      <th>release_date_DAY</th>\n",
       "      <th>release_date_MONTH</th>\n",
       "      <th>release_date_YEAR</th>\n",
       "      <th>ts_listen_DAY_OF_WEEK</th>\n",
       "      <th>ts_listen_PERIOD_OF_DAY</th>\n",
       "      <th>user_age_group</th>\n",
       "      <th>diff_user_song_age</th>\n",
       "      <th>media_decade</th>\n",
       "      <th>prediction_x</th>\n",
       "      <th>prediction_y</th>\n",
       "    </tr>\n",
       "  </thead>\n",
       "  <tbody>\n",
       "    <tr>\n",
       "      <th>0</th>\n",
       "      <td>14561</td>\n",
       "      <td>14561</td>\n",
       "      <td>0</td>\n",
       "      <td>2016-12-01 15:49:02</td>\n",
       "      <td>117678828</td>\n",
       "      <td>12219078</td>\n",
       "      <td>1</td>\n",
       "      <td>2015-10-12 00:00:00</td>\n",
       "      <td>0</td>\n",
       "      <td>2</td>\n",
       "      <td>...</td>\n",
       "      <td>12</td>\n",
       "      <td>10</td>\n",
       "      <td>2015</td>\n",
       "      <td>3</td>\n",
       "      <td>1</td>\n",
       "      <td>2</td>\n",
       "      <td>24.860274</td>\n",
       "      <td>8</td>\n",
       "      <td>0.400</td>\n",
       "      <td>1.0</td>\n",
       "    </tr>\n",
       "    <tr>\n",
       "      <th>1</th>\n",
       "      <td>6026</td>\n",
       "      <td>6026</td>\n",
       "      <td>0</td>\n",
       "      <td>2016-12-01 15:50:39</td>\n",
       "      <td>103870206</td>\n",
       "      <td>10804138</td>\n",
       "      <td>1</td>\n",
       "      <td>2015-07-16 00:00:00</td>\n",
       "      <td>0</td>\n",
       "      <td>2</td>\n",
       "      <td>...</td>\n",
       "      <td>16</td>\n",
       "      <td>7</td>\n",
       "      <td>2015</td>\n",
       "      <td>3</td>\n",
       "      <td>1</td>\n",
       "      <td>2</td>\n",
       "      <td>25.619178</td>\n",
       "      <td>8</td>\n",
       "      <td>0.700</td>\n",
       "      <td>NaN</td>\n",
       "    </tr>\n",
       "    <tr>\n",
       "      <th>2</th>\n",
       "      <td>9627</td>\n",
       "      <td>9627</td>\n",
       "      <td>0</td>\n",
       "      <td>2016-12-01 14:18:35</td>\n",
       "      <td>110692486</td>\n",
       "      <td>11516526</td>\n",
       "      <td>1</td>\n",
       "      <td>2015-12-04 00:00:00</td>\n",
       "      <td>1</td>\n",
       "      <td>2</td>\n",
       "      <td>...</td>\n",
       "      <td>4</td>\n",
       "      <td>12</td>\n",
       "      <td>2015</td>\n",
       "      <td>3</td>\n",
       "      <td>1</td>\n",
       "      <td>0</td>\n",
       "      <td>18.005479</td>\n",
       "      <td>8</td>\n",
       "      <td>0.200</td>\n",
       "      <td>NaN</td>\n",
       "    </tr>\n",
       "    <tr>\n",
       "      <th>3</th>\n",
       "      <td>6064</td>\n",
       "      <td>6064</td>\n",
       "      <td>3645</td>\n",
       "      <td>2016-12-01 19:51:14</td>\n",
       "      <td>4628432</td>\n",
       "      <td>425785</td>\n",
       "      <td>1</td>\n",
       "      <td>2009-11-02 00:00:00</td>\n",
       "      <td>0</td>\n",
       "      <td>0</td>\n",
       "      <td>...</td>\n",
       "      <td>2</td>\n",
       "      <td>11</td>\n",
       "      <td>2009</td>\n",
       "      <td>3</td>\n",
       "      <td>2</td>\n",
       "      <td>0</td>\n",
       "      <td>12.915068</td>\n",
       "      <td>7</td>\n",
       "      <td>0.800</td>\n",
       "      <td>NaN</td>\n",
       "    </tr>\n",
       "    <tr>\n",
       "      <th>4</th>\n",
       "      <td>8065</td>\n",
       "      <td>8065</td>\n",
       "      <td>14</td>\n",
       "      <td>2016-12-01 03:51:47</td>\n",
       "      <td>71152679</td>\n",
       "      <td>6985314</td>\n",
       "      <td>1</td>\n",
       "      <td>2013-09-30 00:00:00</td>\n",
       "      <td>0</td>\n",
       "      <td>0</td>\n",
       "      <td>...</td>\n",
       "      <td>30</td>\n",
       "      <td>9</td>\n",
       "      <td>2013</td>\n",
       "      <td>3</td>\n",
       "      <td>3</td>\n",
       "      <td>0</td>\n",
       "      <td>15.827397</td>\n",
       "      <td>8</td>\n",
       "      <td>0.225</td>\n",
       "      <td>NaN</td>\n",
       "    </tr>\n",
       "  </tbody>\n",
       "</table>\n",
       "<p>5 rows × 30 columns</p>\n",
       "</div>"
      ],
      "text/plain": [
       "   Unnamed: 0  sample_id  genre_id            ts_listen   media_id  album_id  context_type         release_date  platform_name  platform_family      ...       release_date_DAY  release_date_MONTH  \\\n",
       "0       14561      14561         0  2016-12-01 15:49:02  117678828  12219078             1  2015-10-12 00:00:00              0                2      ...                     12                  10   \n",
       "1        6026       6026         0  2016-12-01 15:50:39  103870206  10804138             1  2015-07-16 00:00:00              0                2      ...                     16                   7   \n",
       "2        9627       9627         0  2016-12-01 14:18:35  110692486  11516526             1  2015-12-04 00:00:00              1                2      ...                      4                  12   \n",
       "3        6064       6064      3645  2016-12-01 19:51:14    4628432    425785             1  2009-11-02 00:00:00              0                0      ...                      2                  11   \n",
       "4        8065       8065        14  2016-12-01 03:51:47   71152679   6985314             1  2013-09-30 00:00:00              0                0      ...                     30                   9   \n",
       "\n",
       "   release_date_YEAR  ts_listen_DAY_OF_WEEK  ts_listen_PERIOD_OF_DAY user_age_group  diff_user_song_age  media_decade  prediction_x  prediction_y  \n",
       "0               2015                      3                        1              2           24.860274             8         0.400           1.0  \n",
       "1               2015                      3                        1              2           25.619178             8         0.700           NaN  \n",
       "2               2015                      3                        1              0           18.005479             8         0.200           NaN  \n",
       "3               2009                      3                        2              0           12.915068             7         0.800           NaN  \n",
       "4               2013                      3                        3              0           15.827397             8         0.225           NaN  \n",
       "\n",
       "[5 rows x 30 columns]"
      ]
     },
     "execution_count": 67,
     "metadata": {},
     "output_type": "execute_result"
    }
   ],
   "source": [
    "df_test.head()"
   ]
  },
  {
   "cell_type": "code",
   "execution_count": 68,
   "metadata": {
    "collapsed": true,
    "deletable": true,
    "editable": true
   },
   "outputs": [],
   "source": [
    "df_test[\"prediction_x\"].fillna(0, inplace=True)\n",
    "df_test[\"prediction_y\"].fillna(0, inplace=True)\n",
    "df_test[\"prediction\"] = df_test[\"prediction_x\"] + df_test[\"prediction_y\"]"
   ]
  },
  {
   "cell_type": "code",
   "execution_count": 69,
   "metadata": {
    "collapsed": false,
    "deletable": true,
    "editable": true
   },
   "outputs": [
    {
     "data": {
      "text/plain": [
       "0    1.400\n",
       "1    0.700\n",
       "2    0.200\n",
       "3    0.800\n",
       "4    0.225\n",
       "Name: prediction, dtype: float64"
      ]
     },
     "execution_count": 69,
     "metadata": {},
     "output_type": "execute_result"
    }
   ],
   "source": [
    "df_test[\"prediction\"].head()"
   ]
  },
  {
   "cell_type": "code",
   "execution_count": 70,
   "metadata": {
    "collapsed": false,
    "deletable": true,
    "editable": true
   },
   "outputs": [
    {
     "data": {
      "text/plain": [
       "array([ 1.4  ,  0.7  ,  0.2  ,  0.8  ,  0.225])"
      ]
     },
     "execution_count": 70,
     "metadata": {},
     "output_type": "execute_result"
    }
   ],
   "source": [
    "df_test[\"prediction\"].values[:5]"
   ]
  },
  {
   "cell_type": "code",
   "execution_count": 71,
   "metadata": {
    "collapsed": false
   },
   "outputs": [
    {
     "data": {
      "text/plain": [
       "19918"
      ]
     },
     "execution_count": 71,
     "metadata": {},
     "output_type": "execute_result"
    }
   ],
   "source": [
    "len(df_test)"
   ]
  },
  {
   "cell_type": "code",
   "execution_count": 78,
   "metadata": {
    "collapsed": false
   },
   "outputs": [
    {
     "data": {
      "text/plain": [
       "2684"
      ]
     },
     "execution_count": 78,
     "metadata": {},
     "output_type": "execute_result"
    }
   ],
   "source": [
    "(df_test[\"prediction\"] > 1.0).sum()"
   ]
  },
  {
   "cell_type": "code",
   "execution_count": 75,
   "metadata": {
    "collapsed": false
   },
   "outputs": [
    {
     "data": {
      "text/plain": [
       "0"
      ]
     },
     "execution_count": 75,
     "metadata": {},
     "output_type": "execute_result"
    }
   ],
   "source": [
    "pd.isnull(df_test[\"prediction_y\"]).sum()"
   ]
  },
  {
   "cell_type": "code",
   "execution_count": 79,
   "metadata": {
    "collapsed": true
   },
   "outputs": [],
   "source": [
    "df_test[\"prediction\"] = df_test[\"prediction\"].apply(lambda x : 1 if x > 1 else x)"
   ]
  },
  {
   "cell_type": "code",
   "execution_count": 56,
   "metadata": {
    "autoscroll": "json-false",
    "collapsed": false,
    "deletable": true,
    "editable": true,
    "ein.tags": [
     "worksheet-0"
    ],
    "slideshow": {
     "slide_type": "-"
    }
   },
   "outputs": [],
   "source": [
    "import gzip\n",
    "import csv\n",
    "import numpy as np\n",
    "\n",
    "def build_kaggle_submission(preds, filename=\"my_submission\"):\n",
    "    \"\"\"\n",
    "    Build a compressed Kaggle Submission\n",
    "    \n",
    "    preds: array with predictions\n",
    "    \"\"\"\n",
    "    with gzip.open(filename + '.csv.gz', 'wt') as outf:\n",
    "        fo = csv.writer(outf, lineterminator='\\n')\n",
    "        fo.writerow([\"sample_id\", \"is_listened\"])       \n",
    "        for i, pred in enumerate(preds):\n",
    "            fo.writerow([i, pred])"
   ]
  },
  {
   "cell_type": "code",
   "execution_count": 54,
   "metadata": {
    "autoscroll": "json-false",
    "collapsed": false,
    "deletable": true,
    "editable": true,
    "ein.tags": [
     "worksheet-0"
    ],
    "slideshow": {
     "slide_type": "-"
    }
   },
   "outputs": [],
   "source": [
    "p = model.predict_proba(df_test[features])\n",
    "p = p[:, 1]\n",
    "#p = df_test[\"prediction\"].values"
   ]
  },
  {
   "cell_type": "code",
   "execution_count": 57,
   "metadata": {
    "autoscroll": "json-false",
    "collapsed": false,
    "deletable": true,
    "editable": true,
    "ein.tags": [
     "worksheet-0"
    ],
    "slideshow": {
     "slide_type": "-"
    }
   },
   "outputs": [],
   "source": [
    "build_kaggle_submission(p, \"rand_test\")"
   ]
  },
  {
   "cell_type": "code",
   "execution_count": 198,
   "metadata": {
    "autoscroll": "json-false",
    "collapsed": false,
    "deletable": true,
    "editable": true,
    "ein.tags": [
     "worksheet-0"
    ],
    "slideshow": {
     "slide_type": "-"
    }
   },
   "outputs": [
    {
     "name": "stdout",
     "output_type": "stream",
     "text": [
      "1242.442859\n",
      "3.684862\n",
      "6.4e-05\n"
     ]
    }
   ],
   "source": [
    "import sys\n",
    "print(sys.getsizeof(df_train) / 1e6)\n",
    "print(sys.getsizeof(df_test) / 1e6)\n",
    "print(sys.getsizeof(model) / 1e6)"
   ]
  },
  {
   "cell_type": "markdown",
   "metadata": {
    "deletable": true,
    "editable": true,
    "ein.tags": [
     "worksheet-0"
    ],
    "slideshow": {
     "slide_type": "-"
    }
   },
   "source": [
    "### GridSearch and XGBoost"
   ]
  },
  {
   "cell_type": "code",
   "execution_count": 0,
   "metadata": {
    "autoscroll": "json-false",
    "collapsed": false,
    "deletable": true,
    "editable": true,
    "ein.tags": [
     "worksheet-0"
    ],
    "slideshow": {
     "slide_type": "-"
    }
   },
   "outputs": [],
   "source": [
    "from keras.models import Sequential\n",
    "from keras.layers.core import Dense, Activation, Reshape\n",
    "from keras.layers.embeddings import Embedding\n",
    "from keras.callbacks import ModelCheckpoint\n",
    "import numpy as np"
   ]
  },
  {
   "cell_type": "code",
   "execution_count": 0,
   "metadata": {
    "autoscroll": "json-false",
    "collapsed": false,
    "deletable": true,
    "editable": true,
    "ein.tags": [
     "worksheet-0"
    ],
    "slideshow": {
     "slide_type": "-"
    }
   },
   "outputs": [],
   "source": [
    "model = Sequential()\n",
    "model.add(Embedding(df_train[\"album_id\"].max(), 64, input_length=10))\n",
    "model.add(Dense(1, activation=\"relu\"))\n",
    "# the model will take as input an integer matrix of size (batch, input_length).\n",
    "# the largest integer (i.e. word index) in the input should be no larger than 999 (vocabulary size).\n",
    "# now model.output_shape == (None, 10, 64), where None is the batch dimension.\n",
    "\n",
    "input_array = np.random.randint(1000, size=(32, 10))\n",
    "print(input_array)\n",
    "model.compile('rmsprop', 'mse')\n",
    "model.fit(input_array, np.array([1]))\n",
    "\n",
    "output_array = model.predict(input_array)\n",
    "#assert output_array.shape == (32, 10, 64)\n",
    "print(output_array)"
   ]
  },
  {
   "cell_type": "code",
   "execution_count": 0,
   "metadata": {
    "autoscroll": "json-false",
    "collapsed": false,
    "deletable": true,
    "editable": true,
    "ein.tags": [
     "worksheet-0"
    ],
    "slideshow": {
     "slide_type": "-"
    }
   },
   "outputs": [],
   "source": [
    "df_train[\"album_id\"].max()"
   ]
  },
  {
   "cell_type": "code",
   "execution_count": 0,
   "metadata": {
    "autoscroll": "json-false",
    "collapsed": false,
    "deletable": true,
    "editable": true,
    "ein.tags": [
     "worksheet-0"
    ],
    "slideshow": {
     "slide_type": "-"
    }
   },
   "outputs": [],
   "source": [
    "output_array"
   ]
  },
  {
   "cell_type": "code",
   "execution_count": 0,
   "metadata": {
    "autoscroll": "json-false",
    "collapsed": false,
    "deletable": true,
    "editable": true,
    "ein.tags": [
     "worksheet-0"
    ],
    "slideshow": {
     "slide_type": "-"
    }
   },
   "outputs": [],
   "source": []
  }
 ],
 "metadata": {
  "kernelspec": {
   "display_name": "Python 2",
   "language": "python",
   "name": "python2"
  },
  "language_info": {
   "codemirror_mode": {
    "name": "ipython",
    "version": 2
   },
   "file_extension": ".py",
   "mimetype": "text/x-python",
   "name": "python",
   "nbconvert_exporter": "python",
   "pygments_lexer": "ipython2",
   "version": "2.7.13"
  },
  "name": "6 - Simple Model + User Specific + 2 models.ipynb"
 },
 "nbformat": 4,
 "nbformat_minor": 2
}
