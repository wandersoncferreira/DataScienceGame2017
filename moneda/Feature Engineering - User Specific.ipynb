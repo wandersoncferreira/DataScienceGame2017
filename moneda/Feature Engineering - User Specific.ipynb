{
 "cells": [
  {
   "cell_type": "code",
   "execution_count": 1,
   "metadata": {
    "autoscroll": "json-false",
    "collapsed": false,
    "ein.tags": [
     "worksheet-0"
    ],
    "slideshow": {
     "slide_type": "-"
    }
   },
   "outputs": [
    {
     "name": "stdout",
     "output_type": "stream",
     "text": [
      "height has been deprecated.\n",
      "\n"
     ]
    }
   ],
   "source": [
    "import pandas as pd\n",
    "import numpy as np\n",
    "pd.set_option('display.height', 1000)\n",
    "pd.set_option('display.max_rows', 500)\n",
    "pd.set_option('display.max_columns', 500)\n",
    "pd.set_option('display.width', 200)\n"
   ]
  },
  {
   "cell_type": "code",
   "execution_count": 2,
   "metadata": {
    "autoscroll": "json-false",
    "collapsed": false,
    "ein.tags": [
     "worksheet-0"
    ],
    "slideshow": {
     "slide_type": "-"
    }
   },
   "outputs": [
    {
     "data": {
      "text/plain": [
       "   Unnamed: 0  genre_id            ts_listen  media_id  album_id  context_type         release_date  platform_name  platform_family  media_duration  listen_type  user_gender  user_id  artist_id  \\\n",
       "0           0     25471  2016-12-01 11:00:15    222606     41774            12  2004-07-04 00:00:00              1                0             4.0            0            0     9241      55164   \n",
       "1           1     25571  2016-11-30 20:25:35    250467     43941             0  2006-03-01 00:00:00              2                1             3.0            0            0    16547      55830   \n",
       "2           2        16  2016-11-19 11:59:13    305197     48078             1  2014-07-14 00:00:00              2                1             2.0            1            1     7665       2704   \n",
       "3           3         7  2016-11-26 07:21:38    900502     71521             0  2000-10-30 00:00:00              0                0             4.0            0            1     1580        938   \n",
       "4           4         7  2016-11-05 16:02:54    542335     71718             0  2008-02-15 00:00:00              0                0             3.0            0            1     1812       2939   \n",
       "\n",
       "   user_age  is_listened                 text  year  diff_ts_listen_AND_release_date_D  diff_ts_listen_AND_release_date_M  diff_ts_listen_AND_release_date_Y  release_date_DAY  release_date_MONTH  \\\n",
       "0        29            0  2004-07-04 00:00:00  2004                             4533.0                         151.100000                          12.419178                 4                   7   \n",
       "1        30            1  2006-03-01 00:00:00  2006                             3927.0                         130.900000                          10.758904                 1                   3   \n",
       "2        29            1  2014-07-14 00:00:00  2014                              859.0                          28.633333                           2.353425                14                   7   \n",
       "3        30            0  2000-10-30 00:00:00  2000                             5871.0                         195.700000                          16.084932                30                  10   \n",
       "4        24            1  2008-02-15 00:00:00  2008                             3186.0                         106.200000                           8.728767                15                   2   \n",
       "\n",
       "   release_date_YEAR  ts_listen_DAY_OF_WEEK  ts_listen_PERIOD_OF_DAY  user_age_group  diff_user_song_age  media_decade  \n",
       "0               2004                      3                        0               2           16.580822             7  \n",
       "1               2006                      2                        2               2           19.241096             7  \n",
       "2               2014                      5                        0               2           26.646575             8  \n",
       "3               2000                      5                        0               2           13.915068             6  \n",
       "4               2008                      5                        1               1           15.271233             7  "
      ]
     },
     "execution_count": 2,
     "metadata": {},
     "output_type": "execute_result"
    }
   ],
   "source": [
    "df_train = pd.read_csv('../data/train_data3.csv', nrows=3000)\n",
    "df_train.head()"
   ]
  },
  {
   "cell_type": "markdown",
   "metadata": {
    "ein.tags": [
     "worksheet-0"
    ],
    "slideshow": {
     "slide_type": "-"
    }
   },
   "source": [
    "### Quantidade de músicas diferentes que ele ouviu no período de treino (em Flow e não Flow)"
   ]
  },
  {
   "cell_type": "code",
   "execution_count": 3,
   "metadata": {
    "autoscroll": "json-false",
    "collapsed": false,
    "ein.tags": [
     "worksheet-0"
    ],
    "slideshow": {
     "slide_type": "-"
    }
   },
   "outputs": [],
   "source": [
    "users_id = df_train[\"user_id\"].unique()\n",
    "dict_user = {}"
   ]
  },
  {
   "cell_type": "code",
   "execution_count": 4,
   "metadata": {
    "autoscroll": "json-false",
    "collapsed": false,
    "ein.tags": [
     "worksheet-0"
    ],
    "slideshow": {
     "slide_type": "-"
    }
   },
   "outputs": [],
   "source": [
    "# df_train[(df_train[\"user_id\"] == 1)][\"media_id\"].value_counts().values[0]"
   ]
  },
  {
   "cell_type": "code",
   "execution_count": 5,
   "metadata": {
    "autoscroll": "json-false",
    "collapsed": false,
    "ein.tags": [
     "worksheet-0"
    ],
    "slideshow": {
     "slide_type": "-"
    }
   },
   "outputs": [],
   "source": [
    "def stats_musics_listened(user_id, dict_user):\n",
    "    df_user = df_train[(df_train[\"user_id\"] == user_id)].copy()\n",
    "    \n",
    "    list_feats = [\"mean_media_duration_not_listened\", \n",
    "                  \"mean_media_duration_listened\",\n",
    "                  \"mean_media_age_not_listened\",\n",
    "                  \"mean_media_age_listened\"]\n",
    "    \n",
    "    mean_duration = df_user[(df_user[\"is_listened\"] == 0)][\"media_duration\"].mean()\n",
    "    mean_duration_listened = df_user[(df_user[\"is_listened\"] == 1)][\"media_duration\"].mean()\n",
    "    mean_age = df_user[(df_user[\"is_listened\"] == 0)][\"diff_ts_listen_AND_release_date_Y\"].mean()\n",
    "    mean_age_listened = df_user[(df_user[\"is_listened\"] == 1)][\"diff_ts_listen_AND_release_date_Y\"].mean()\n",
    "    \n",
    "    \n",
    "    # df_user[list_feats] = df_user.apply(lambda row: pd.Series([mean_duration, mean_duration_listened, mean_age, mean_age_listened]), axis=1)\n",
    "    # df_user.set_index(\"user_id\", inplace=True)\n",
    "    # df_user.fillna(0, inplace=True)\n",
    "    # return df_user[list_feats].iloc[0:1]\n",
    "\n",
    "    dict_user[user_id].update({\"mean_media_duration_not_listened\": mean_duration,\n",
    "                               \"mean_media_duration_listened\": mean_duration_listened,\n",
    "                               \"mean_media_age_not_listened\": mean_age,\n",
    "                               \"mean_media_age_listened\": mean_age_listened})\n",
    "    return dict_user\n"
   ]
  },
  {
   "cell_type": "code",
   "execution_count": 6,
   "metadata": {
    "autoscroll": "json-false",
    "collapsed": false,
    "ein.tags": [
     "worksheet-0"
    ],
    "slideshow": {
     "slide_type": "-"
    }
   },
   "outputs": [],
   "source": [
    "def number_musics_listened(user_id, dict_user):\n",
    "    df_user = df_train[(df_train[\"user_id\"] == user_id)]\n",
    "    max_repet = df_train[(df_train[\"user_id\"] == 1)][\"media_id\"].value_counts().values[0]\n",
    "    # case where is_listened was not fixed\n",
    "    with_flow = len(df_user[(df_user[\"listen_type\"] == 1)][\"media_id\"].unique())\n",
    "    regular = len(df_user[(df_user[\"listen_type\"] == 0)][\"media_id\"].unique())\n",
    "    \n",
    "    # case where is_listened equals to 1\n",
    "    with_flow_listened = len(df_user[(df_user[\"listen_type\"] == 1) & (df_user[\"is_listened\"] == 1)][\"media_id\"].unique())\n",
    "    regular_listened = len(df_user[(df_user[\"listen_type\"] == 0) & (df_user[\"is_listened\"] == 1)][\"media_id\"].unique())\n",
    "    dict_user[user_id].update({\"nmidia_with_flow\": with_flow, \"nmidia_regular\": regular, \"nmidia_with_flow_listened\": with_flow_listened,\n",
    "                          \"nmidia_regular_listened\": regular_listened, \"nmidia_max_repet\": max_repet})\n",
    "    return dict_user\n",
    "\n",
    "def number_of_artists_listened(user_id, dict_user):\n",
    "    df_user = df_train[(df_train[\"user_id\"] == user_id)]\n",
    "    # case where is_listened was not fixed\n",
    "    with_flow = len(df_user[(df_user[\"listen_type\"] == 1)][\"artist_id\"].unique())\n",
    "    regular = len(df_user[(df_user[\"listen_type\"] == 0)][\"artist_id\"].unique())\n",
    "    \n",
    "    # case where is_listened equals to 1\n",
    "    with_flow_listened = len(df_user[(df_user[\"listen_type\"] == 1) & (df_user[\"is_listened\"] == 1)][\"artist_id\"].unique())\n",
    "    regular_listened = len(df_user[(df_user[\"listen_type\"] == 0) & (df_user[\"is_listened\"] == 1)][\"artist_id\"].unique())\n",
    "    dict_user[user_id].update({\"nartist_with_flow\": with_flow, \"nartist_regular\": regular, \"nartist_with_flow_listened\": with_flow_listened,\n",
    "                          \"nartist_regular_listened\": regular_listened})\n",
    "    return dict_user\n",
    "\n",
    "def number_of_platform(user_id, dict_user):\n",
    "    df_user = df_train[(df_train[\"user_id\"] == user_id)]\n",
    "    # case where is_listened was not fixed\n",
    "    with_flow = len(df_user[(df_user[\"listen_type\"] == 1)][\"platform_name\"].unique())\n",
    "    regular = len(df_user[(df_user[\"listen_type\"] == 0)][\"platform_name\"].unique())\n",
    "    \n",
    "    # case where is_listened equals to 1\n",
    "    with_flow_listened = len(df_user[(df_user[\"listen_type\"] == 1) & (df_user[\"is_listened\"] == 1)][\"platform_name\"].unique())\n",
    "    regular_listened = len(df_user[(df_user[\"listen_type\"] == 0) & (df_user[\"is_listened\"] == 1)][\"platform_name\"].unique())\n",
    "    dict_user[user_id].update({\"nplatform_with_flow\": with_flow, \"nplatform_regular\": regular, \"nplatformt_with_flow_listened\": with_flow_listened,\n",
    "                          \"nplatform_regular_listened\": regular_listened})\n",
    "    return dict_user"
   ]
  },
  {
   "cell_type": "code",
   "execution_count": 7,
   "metadata": {
    "autoscroll": "json-false",
    "collapsed": false,
    "ein.tags": [
     "worksheet-0"
    ],
    "slideshow": {
     "slide_type": "-"
    }
   },
   "outputs": [
    {
     "name": "stdout",
     "output_type": "stream",
     "text": [
      "Restam: 319\n"
     ]
    },
    {
     "name": "stdout",
     "output_type": "stream",
     "text": [
      "Restam: 1319\n"
     ]
    }
   ],
   "source": [
    "for ind, user_id in enumerate(users_id):\n",
    "    dict_user[user_id] = {}\n",
    "    dict_user = number_musics_listened(user_id, dict_user)\n",
    "    dict_user = number_of_artists_listened(user_id, dict_user)\n",
    "    dict_user = number_of_platform(user_id, dict_user)\n",
    "\n",
    "    dict_user = stats_musics_listened(user_id, dict_user)\n",
    "    if ind % 1000 == 0:\n",
    "        print(\"Restam: {}\".format(len(users_id) - ind))"
   ]
  },
  {
   "cell_type": "code",
   "execution_count": 8,
   "metadata": {
    "autoscroll": "json-false",
    "collapsed": false,
    "ein.tags": [
     "worksheet-0"
    ],
    "slideshow": {
     "slide_type": "-"
    }
   },
   "outputs": [],
   "source": [
    "df_user_feat = pd.DataFrame.from_dict(dict_user, orient=\"index\")\n",
    "df_user_feat.reset_index(level=0, inplace=True)\n",
    "#df_user_feat.columns = [\"user_id\"] + [\"nmidia_\" + col for col in df_user_feat.columns[1:].tolist()]\n",
    "df_user_feat.to_csv(\"test_user.csv\", sep=\";\", index=None)"
   ]
  },
  {
   "cell_type": "code",
   "execution_count": 9,
   "metadata": {
    "autoscroll": "json-false",
    "collapsed": false,
    "ein.tags": [
     "worksheet-0"
    ],
    "slideshow": {
     "slide_type": "-"
    }
   },
   "outputs": [
    {
     "data": {
      "text/plain": [
       "   index  nartist_with_flow  nartist_with_flow_listened  nplatform_regular_listened  nmidia_regular_listened  mean_media_duration_not_listened  nmidia_regular  nplatform_regular  nmidia_with_flow  \\\n",
       "0      1                  1                           1                           1                        1                               NaN               1                  1                 1   \n",
       "1      3                  0                           0                           1                        3                               NaN               3                  1                 0   \n",
       "2      4                  1                           1                           0                        0                               4.4               0                  0                 2   \n",
       "3      5                  0                           0                           0                        0                               3.0               1                  1                 0   \n",
       "4     13                  1                           1                           1                        1                               NaN               1                  1                 1   \n",
       "\n",
       "   nplatformt_with_flow_listened  nplatform_with_flow  nmidia_max_repet  nartist_regular_listened  nartist_regular  nmidia_with_flow_listened  mean_media_age_listened  mean_media_age_not_listened  \\\n",
       "0                              1                    1                 2                         1                1                          1                20.683562                          NaN   \n",
       "1                              0                    0                 2                         2                2                          0                12.499543                          NaN   \n",
       "2                              1                    1                 2                         0                0                          1                30.931507                    30.916712   \n",
       "3                              0                    0                 2                         0                1                          0                      NaN                     9.871233   \n",
       "4                              1                    1                 2                         1                1                          1                20.671624                          NaN   \n",
       "\n",
       "   mean_media_duration_listened  \n",
       "0                      4.000000  \n",
       "1                      3.333333  \n",
       "2                      5.000000  \n",
       "3                           NaN  \n",
       "4                      4.000000  "
      ]
     },
     "execution_count": 9,
     "metadata": {},
     "output_type": "execute_result"
    }
   ],
   "source": [
    "df_user_feat.head()"
   ]
  },
  {
   "cell_type": "code",
   "execution_count": 17,
   "metadata": {
    "autoscroll": "json-false",
    "collapsed": false,
    "ein.tags": [
     "worksheet-0"
    ],
    "slideshow": {
     "slide_type": "-"
    }
   },
   "outputs": [],
   "source": [
    "df_user_feat[\"nmidia_with_flow_listened_PROP\"] = df_user_feat[\"nmidia_with_flow_listened\"] / df_user_feat[\"nmidia_with_flow\"]\n",
    "df_user_feat[\"nmidia_regular_listened_PROP\"] = df_user_feat[\"nmidia_regular_listened\"] / df_user_feat[\"nmidia_regular\"]\n",
    "df_user_feat[\"nmidia_PROP_diff\"] = df_user_feat[\"nmidia_with_flow_listened_PROP\"] / df_user_feat[\"nmidia_regular_listened_PROP\"]\n",
    "\n",
    "df_user_feat[\"nartist_with_flow_listened_PROP\"] = df_user_feat[\"nartist_with_flow_listened\"] / df_user_feat[\"nartist_with_flow\"]\n",
    "df_user_feat[\"nartist_regular_listened_PROP\"] = df_user_feat[\"nartist_regular_listened\"] / df_user_feat[\"nartist_regular\"]\n",
    "df_user_feat[\"nartist_PROP_diff\"] = df_user_feat[\"nartist_with_flow_listened_PROP\"] / df_user_feat[\"nartist_regular_listened_PROP\"]"
   ]
  },
  {
   "cell_type": "code",
   "execution_count": 18,
   "metadata": {
    "autoscroll": "json-false",
    "collapsed": false,
    "ein.tags": [
     "worksheet-0"
    ],
    "slideshow": {
     "slide_type": "-"
    }
   },
   "outputs": [],
   "source": [
    "df_user_feat.to_csv(\"nmidia_feats.csv\", sep=\";\", index=None)"
   ]
  },
  {
   "cell_type": "code",
   "execution_count": 0,
   "metadata": {
    "autoscroll": "json-false",
    "collapsed": false,
    "ein.tags": [
     "worksheet-0"
    ],
    "slideshow": {
     "slide_type": "-"
    }
   },
   "outputs": [],
   "source": []
  }
 ],
 "metadata": {
  "kernelspec": {
   "display_name": "Python 2",
   "name": "python2"
  },
  "language_info": {
   "codemirror_mode": {
    "name": "ipython",
    "version": 2
   },
   "file_extension": ".py",
   "mimetype": "text/x-python",
   "name": "python",
   "nbconvert_exporter": "python",
   "pygments_lexer": "ipython2",
   "version": "2.7.13"
  },
  "name": "Feature Engineering - User Specific.ipynb"
 },
 "nbformat": 4,
 "nbformat_minor": 2
}
