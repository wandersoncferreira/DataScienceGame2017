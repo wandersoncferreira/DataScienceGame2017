{
 "cells": [
  {
   "cell_type": "code",
   "execution_count": 3,
   "metadata": {
    "collapsed": false,
    "deletable": true,
    "editable": true
   },
   "outputs": [],
   "source": [
    "import pandas as pd\n",
    "import numpy as np\n",
    "import gzip\n",
    "import csv\n",
    "import numpy as np\n",
    "\n",
    "def build_kaggle_submission(preds, filename=\"my_submission\"):\n",
    "    \"\"\"\n",
    "    Build a compressed Kaggle Submission\n",
    "    \n",
    "    preds: array with predictions\n",
    "    \"\"\"\n",
    "    with gzip.open(filename + '.csv.gz', 'wt') as outf:\n",
    "        fo = csv.writer(outf, lineterminator='\\n')\n",
    "        fo.writerow([\"sample_id\", \"is_listened\"])       \n",
    "        for i, pred in enumerate(preds):\n",
    "            fo.writerow([i, pred])\n",
    "            \n",
    "df =pd.read_csv(\"preds.csv\")"
   ]
  },
  {
   "cell_type": "code",
   "execution_count": 2,
   "metadata": {
    "collapsed": false,
    "deletable": true,
    "editable": true
   },
   "outputs": [],
   "source": [
    "df = df.rename(columns={\"Unnamed: 0\": \"user_id_id\", \"0\": \"prediction\"})"
   ]
  },
  {
   "cell_type": "code",
   "execution_count": 3,
   "metadata": {
    "collapsed": false,
    "deletable": true,
    "editable": true
   },
   "outputs": [
    {
     "data": {
      "text/plain": [
       "0    [[ 0.01311813  0.98688187]]\n",
       "1                    [[ 0.  1.]]\n",
       "2                    [[ 0.  1.]]\n",
       "3                    [[ 0.  1.]]\n",
       "4                  [[ 0.9  0.1]]\n",
       "Name: prediction, dtype: object"
      ]
     },
     "execution_count": 3,
     "metadata": {},
     "output_type": "execute_result"
    }
   ],
   "source": [
    "df[\"prediction\"].head()"
   ]
  },
  {
   "cell_type": "code",
   "execution_count": 4,
   "metadata": {
    "collapsed": false,
    "deletable": true,
    "editable": true
   },
   "outputs": [
    {
     "data": {
      "text/plain": [
       "array([], dtype=float64)"
      ]
     },
     "execution_count": 4,
     "metadata": {},
     "output_type": "execute_result"
    }
   ],
   "source": [
    "np.fromstring('1 2', dtype=int, sep=' ')\n",
    "np.fromstring('[0.01311813  0.98688187]', dtype=float, sep=' ')"
   ]
  },
  {
   "cell_type": "code",
   "execution_count": 5,
   "metadata": {
    "collapsed": false,
    "deletable": true,
    "editable": true
   },
   "outputs": [],
   "source": [
    "df[\"prediction\"] = df[\"prediction\"].apply(lambda x : np.fromstring(x[2:-2], dtype=float, sep=' ')[-1])"
   ]
  },
  {
   "cell_type": "code",
   "execution_count": 6,
   "metadata": {
    "collapsed": true,
    "deletable": true,
    "editable": true
   },
   "outputs": [],
   "source": [
    "a = df[\"prediction\"].values"
   ]
  },
  {
   "cell_type": "code",
   "execution_count": 7,
   "metadata": {
    "collapsed": false,
    "deletable": true,
    "editable": true
   },
   "outputs": [
    {
     "data": {
      "text/plain": [
       "17287"
      ]
     },
     "execution_count": 7,
     "metadata": {},
     "output_type": "execute_result"
    }
   ],
   "source": [
    "df[\"user_id_id\"].max()"
   ]
  },
  {
   "cell_type": "code",
   "execution_count": 8,
   "metadata": {
    "collapsed": true,
    "deletable": true,
    "editable": true
   },
   "outputs": [],
   "source": [
    "other_sub = pd.read_csv(\"rand_all_data_m2.csv.gz\")"
   ]
  },
  {
   "cell_type": "code",
   "execution_count": 9,
   "metadata": {
    "collapsed": false,
    "deletable": true,
    "editable": true
   },
   "outputs": [],
   "source": [
    "b = other_sub.ix[17288:][\"is_listened\"].values"
   ]
  },
  {
   "cell_type": "code",
   "execution_count": 10,
   "metadata": {
    "collapsed": false,
    "deletable": true,
    "editable": true
   },
   "outputs": [],
   "source": [
    "v = np.hstack((a, b))"
   ]
  },
  {
   "cell_type": "code",
   "execution_count": 11,
   "metadata": {
    "collapsed": false,
    "deletable": true,
    "editable": true
   },
   "outputs": [
    {
     "data": {
      "text/plain": [
       "19918"
      ]
     },
     "execution_count": 11,
     "metadata": {},
     "output_type": "execute_result"
    }
   ],
   "source": [
    "len(v)"
   ]
  },
  {
   "cell_type": "code",
   "execution_count": 4,
   "metadata": {
    "collapsed": true,
    "deletable": true,
    "editable": true
   },
   "outputs": [],
   "source": [
    "import gzip\n",
    "import csv\n",
    "import numpy as np\n",
    "\n",
    "def build_kaggle_submission(preds, filename=\"my_submission\"):\n",
    "    \"\"\"\n",
    "    Build a compressed Kaggle Submission\n",
    "    \n",
    "    preds: array with predictions\n",
    "    \"\"\"\n",
    "    with gzip.open(filename + '.csv.gz', 'wt') as outf:\n",
    "        fo = csv.writer(outf, lineterminator='\\n')\n",
    "        fo.writerow([\"sample_id\", \"is_listened\"])       \n",
    "        for i, pred in enumerate(preds):\n",
    "            fo.writerow([i, pred])"
   ]
  },
  {
   "cell_type": "code",
   "execution_count": 13,
   "metadata": {
    "collapsed": true,
    "deletable": true,
    "editable": true
   },
   "outputs": [],
   "source": [
    "build_kaggle_submission(v, \"invividual\")"
   ]
  },
  {
   "cell_type": "code",
   "execution_count": 14,
   "metadata": {
    "collapsed": true,
    "deletable": true,
    "editable": true
   },
   "outputs": [],
   "source": [
    "a = pd.read_csv(\"rand_all_data_m2.csv.gz\")[\"is_listened\"].values\n",
    "b = pd.read_csv(\"rand_test.csv.gz\")[\"is_listened\"].values\n",
    "c = pd.read_csv(\"note12_4.csv.gz\")[\"is_listened\"].values"
   ]
  },
  {
   "cell_type": "code",
   "execution_count": 15,
   "metadata": {
    "collapsed": true,
    "deletable": true,
    "editable": true
   },
   "outputs": [],
   "source": [
    "d = 0.35 * a + 0.35 * b + 0.3* c"
   ]
  },
  {
   "cell_type": "code",
   "execution_count": 16,
   "metadata": {
    "collapsed": true,
    "deletable": true,
    "editable": true
   },
   "outputs": [],
   "source": [
    "build_kaggle_submission(d, \"merge2\")"
   ]
  },
  {
   "cell_type": "code",
   "execution_count": 17,
   "metadata": {
    "collapsed": true,
    "deletable": true,
    "editable": true
   },
   "outputs": [],
   "source": [
    "a = pd.read_csv(\"rand_all_data_m2.csv.gz\")[\"is_listened\"].values\n",
    "b = pd.read_csv(\"rand_test.csv.gz\")[\"is_listened\"].values\n",
    "c = pd.read_csv(\"note12_4.csv.gz\")[\"is_listened\"].values\n",
    "\n",
    "d = 0.4 * a + 0.4 * b + 0.2* c\n",
    "\n",
    "build_kaggle_submission(d, \"merge3\")"
   ]
  },
  {
   "cell_type": "code",
   "execution_count": 18,
   "metadata": {
    "collapsed": true,
    "deletable": true,
    "editable": true
   },
   "outputs": [],
   "source": [
    "a = pd.read_csv(\"rand_all_data_m2.csv.gz\")[\"is_listened\"].values\n",
    "b = pd.read_csv(\"rand_test.csv.gz\")[\"is_listened\"].values\n",
    "c = pd.read_csv(\"note12_4.csv.gz\")[\"is_listened\"].values\n",
    "\n",
    "d = 0.25 * a + 0.25 * b + 0.5* c\n",
    "\n",
    "build_kaggle_submission(d, \"merge4\")"
   ]
  },
  {
   "cell_type": "code",
   "execution_count": 19,
   "metadata": {
    "collapsed": true,
    "deletable": true,
    "editable": true
   },
   "outputs": [],
   "source": [
    "a = pd.read_csv(\"rand_all_data_m2.csv.gz\")[\"is_listened\"].values\n",
    "b = pd.read_csv(\"rand_test.csv.gz\")[\"is_listened\"].values\n",
    "c = pd.read_csv(\"note12_4.csv.gz\")[\"is_listened\"].values\n",
    "\n",
    "d = 0.35 * a + 0.3 * b + 0.35* c\n",
    "\n",
    "build_kaggle_submission(d, \"merge5\")"
   ]
  },
  {
   "cell_type": "code",
   "execution_count": 20,
   "metadata": {
    "collapsed": true,
    "deletable": true,
    "editable": true
   },
   "outputs": [],
   "source": [
    "a = pd.read_csv(\"rand_all_data_m2.csv.gz\")[\"is_listened\"].values\n",
    "b = pd.read_csv(\"rand_test.csv.gz\")[\"is_listened\"].values\n",
    "c = pd.read_csv(\"note12_4.csv.gz\")[\"is_listened\"].values\n",
    "\n",
    "d = 0.4 * a + 0.3 * b + 0.3* c\n",
    "\n",
    "build_kaggle_submission(d, \"merge6\")"
   ]
  },
  {
   "cell_type": "code",
   "execution_count": 21,
   "metadata": {
    "collapsed": false,
    "deletable": true,
    "editable": true
   },
   "outputs": [],
   "source": [
    "single_model_pred = pd.read_csv(\"single_model_pred_log.csv\")\n",
    "single_model_auc = pd.read_csv(\"single_model_auc_log.csv\")\n",
    "rocs = single_model_auc.to_dict()"
   ]
  },
  {
   "cell_type": "code",
   "execution_count": 22,
   "metadata": {
    "collapsed": false,
    "deletable": true,
    "editable": true
   },
   "outputs": [
    {
     "data": {
      "text/plain": [
       "709"
      ]
     },
     "execution_count": 22,
     "metadata": {},
     "output_type": "execute_result"
    }
   ],
   "source": [
    "### merge7 > 0.74\n",
    "### merge 8 > 0.78\n",
    "best = {k:a for k,a in rocs[\"0\"].items() if a > 0.78}\n",
    "len(best)"
   ]
  },
  {
   "cell_type": "code",
   "execution_count": 23,
   "metadata": {
    "collapsed": false,
    "deletable": true,
    "editable": true
   },
   "outputs": [
    {
     "data": {
      "text/plain": [
       "0.95999999999999996"
      ]
     },
     "execution_count": 23,
     "metadata": {},
     "output_type": "execute_result"
    }
   ],
   "source": [
    "d[0]"
   ]
  },
  {
   "cell_type": "code",
   "execution_count": 24,
   "metadata": {
    "collapsed": true,
    "deletable": true,
    "editable": true
   },
   "outputs": [],
   "source": [
    "for k, v in best.items():\n",
    "    d[k] = d[k]*0.7 + best[k] * 0.3"
   ]
  },
  {
   "cell_type": "code",
   "execution_count": 25,
   "metadata": {
    "collapsed": true,
    "deletable": true,
    "editable": true
   },
   "outputs": [],
   "source": [
    "build_kaggle_submission(d, \"merge8\")"
   ]
  },
  {
   "cell_type": "code",
   "execution_count": 26,
   "metadata": {
    "collapsed": false,
    "deletable": true,
    "editable": true
   },
   "outputs": [
    {
     "name": "stdout",
     "output_type": "stream",
     "text": [
      "1967\n"
     ]
    }
   ],
   "source": [
    "a = pd.read_csv(\"rand_all_data_m2.csv.gz\")[\"is_listened\"].values\n",
    "b = pd.read_csv(\"rand_test.csv.gz\")[\"is_listened\"].values\n",
    "c = pd.read_csv(\"note12_4.csv.gz\")[\"is_listened\"].values\n",
    "\n",
    "d = 0.4 * a + 0.3 * b + 0.3* c\n",
    "\n",
    "single_model_pred = pd.read_csv(\"single_model_pred_rand.csv\")\n",
    "single_model_auc = pd.read_csv(\"single_model_auc_rand.csv\")\n",
    "rocs = single_model_auc.to_dict()\n",
    "\n",
    "best = {k:a for k,a in rocs[\"0\"].items() if a > 0.74}\n",
    "print(len(best))\n",
    "\n",
    "for k, v in best.items():\n",
    "    d[k] = d[k]*0.6 + best[k] * 0.4\n",
    "    \n",
    "build_kaggle_submission(d, \"merge9\")"
   ]
  },
  {
   "cell_type": "code",
   "execution_count": 27,
   "metadata": {
    "collapsed": false,
    "deletable": true,
    "editable": true
   },
   "outputs": [
    {
     "name": "stdout",
     "output_type": "stream",
     "text": [
      "521\n"
     ]
    }
   ],
   "source": [
    "a = pd.read_csv(\"rand_all_data_m2.csv.gz\")[\"is_listened\"].values\n",
    "b = pd.read_csv(\"rand_test.csv.gz\")[\"is_listened\"].values\n",
    "c = pd.read_csv(\"note12_4.csv.gz\")[\"is_listened\"].values\n",
    "\n",
    "d = 0.4 * a + 0.3 * b + 0.3* c\n",
    "\n",
    "single_model_pred = pd.read_csv(\"single_model_pred_rand.csv\")\n",
    "single_model_auc = pd.read_csv(\"single_model_auc_rand.csv\")\n",
    "rocs = single_model_auc.to_dict()\n",
    "\n",
    "best = {k:a for k,a in rocs[\"0\"].items() if a > 0.84}\n",
    "print(len(best))\n",
    "\n",
    "for k, v in best.items():\n",
    "    d[k] = d[k]*0.8 + best[k] * 0.2\n",
    "    \n",
    "build_kaggle_submission(d, \"merge10\")"
   ]
  },
  {
   "cell_type": "markdown",
   "metadata": {
    "deletable": true,
    "editable": true
   },
   "source": [
    "### Melhorando users com poucos registros"
   ]
  },
  {
   "cell_type": "code",
   "execution_count": 35,
   "metadata": {
    "collapsed": false,
    "deletable": true,
    "editable": true
   },
   "outputs": [
    {
     "name": "stdout",
     "output_type": "stream",
     "text": [
      "1489\n"
     ]
    }
   ],
   "source": [
    "a = pd.read_csv(\"rand_all_data_m2.csv.gz\")[\"is_listened\"].values\n",
    "b = pd.read_csv(\"rand_test.csv.gz\")[\"is_listened\"].values\n",
    "c = pd.read_csv(\"note12_4.csv.gz\")[\"is_listened\"].values\n",
    "\n",
    "d = 0.4 * a + 0.3 * b + 0.3* c\n",
    "\n",
    "threshold = 15\n",
    "register_count = pd.read_csv(\"register_count.csv\")\n",
    "users_few_registers = register_count[(register_count[\"user_id\"] <= threshold)].index\n",
    "\n",
    "best = {k:a for k,a in rocs[\"0\"].items() if a > 0.84}\n",
    "print(len(users_few_registers))\n",
    "\n",
    "for k in users_few_registers:\n",
    "    d[k] = d[k]*0.5 + 0.54207543056463925 * 0.5\n",
    "    \n",
    "build_kaggle_submission(d, \"merge11\")"
   ]
  },
  {
   "cell_type": "code",
   "execution_count": 5,
   "metadata": {
    "collapsed": false,
    "deletable": true,
    "editable": true
   },
   "outputs": [],
   "source": [
    "a = pd.read_csv(\"rand_all_data_m2.csv.gz\")[\"is_listened\"].values\n",
    "b = pd.read_csv(\"rand_2_models_threshold_1.csv.gz\")[\"is_listened\"].values\n",
    "#b = pd.read_csv(\"rand_test.csv.gz\")[\"is_listened\"].values\n",
    "c = pd.read_csv(\"note12_4.csv.gz\")[\"is_listened\"].values\n",
    "\n",
    "d = 0.4 * a + 0.3 * b + 0.3* c\n",
    "\n",
    "build_kaggle_submission(d, \"merge16\")"
   ]
  },
  {
   "cell_type": "code",
   "execution_count": 22,
   "metadata": {
    "collapsed": true,
    "deletable": true,
    "editable": true
   },
   "outputs": [],
   "source": [
    "a = pd.read_csv(\"rand_all_data_m2.csv.gz\")[\"is_listened\"].values\n",
    "b = pd.read_csv(\"rand_2_models_threshold_1.csv.gz\")[\"is_listened\"].values\n",
    "#b = pd.read_csv(\"rand_test.csv.gz\")[\"is_listened\"].values \n",
    "c = pd.read_csv(\"note12_4.csv.gz\")[\"is_listened\"].values\n",
    "d = pd.read_csv(\"rand_2_models_threshold_5.csv.gz\")[\"is_listened\"].values\n",
    "\n",
    "e = 0.25 * a + 0.3 * b + 0.25* c + 0.2*d\n",
    "\n",
    "build_kaggle_submission(e, \"merge17\")"
   ]
  },
  {
   "cell_type": "code",
   "execution_count": 24,
   "metadata": {
    "collapsed": false,
    "deletable": true,
    "editable": true
   },
   "outputs": [],
   "source": [
    "a = pd.read_csv(\"rand_all_data_m2.csv.gz\")[\"is_listened\"].values\n",
    "b = pd.read_csv(\"rand_2_models_threshold_1.csv.gz\")[\"is_listened\"].values\n",
    "#b = pd.read_csv(\"rand_test.csv.gz\")[\"is_listened\"].values \n",
    "c = pd.read_csv(\"note12_4.csv.gz\")[\"is_listened\"].values\n",
    "d = pd.read_csv(\"rand_2_models_threshold_5.csv.gz\")[\"is_listened\"].values\n",
    "\n",
    "e = 0.25 * a + 0.3 * b + 0.25* c + 0.2*d\n",
    "\n",
    "\n",
    "new_model_pred = pd.read_csv(\"only_flow_above_30regs.csv\").drop(\"Unnamed: 0\", axis=1)\n",
    "new_preds = new_model_pred.to_dict()\n",
    "users = new_model_pred[\"user_id_id\"].unique()\n",
    "\n",
    "for user in users:\n",
    "    #e[int(user)] = (e[int(user)] * 0.5) + (new_model_pred[new_model_pred[\"user_id_id\"] == user][\"prediction\"].values[0]*0.5)\n",
    "    e[int(user)] = (e[int(user)] * 0.5) + (new_model_pred[new_model_pred[\"user_id_id\"] == user][\"prediction\"].values[0]*0.5)\n",
    "build_kaggle_submission(e, \"merge18\")"
   ]
  },
  {
   "cell_type": "code",
   "execution_count": 4,
   "metadata": {
    "collapsed": false,
    "deletable": true,
    "editable": true
   },
   "outputs": [],
   "source": [
    "a = pd.read_csv(\"rand_all_data_m2.csv.gz\")[\"is_listened\"].values\n",
    "b = pd.read_csv(\"rand_2_models_threshold_1.csv.gz\")[\"is_listened\"].values\n",
    "#b = pd.read_csv(\"rand_test.csv.gz\")[\"is_listened\"].values \n",
    "c = pd.read_csv(\"note12_4.csv.gz\")[\"is_listened\"].values\n",
    "d = pd.read_csv(\"rand_2_models_threshold_5.csv.gz\")[\"is_listened\"].values\n",
    "f = pd.read_csv(\"note18_2.csv.gz\")[\"is_listened\"].values\n",
    "\n",
    "e = 0.2 * a + 0.2 * b + 0.2* c + 0.2*d *0.2*f\n",
    "\n",
    "\n",
    "# new_model_pred = pd.read_csv(\"only_flow_above_30regs.csv\").drop(\"Unnamed: 0\", axis=1)\n",
    "# new_preds = new_model_pred.to_dict()\n",
    "# users = new_model_pred[\"user_id_id\"].unique()\n",
    "\n",
    "# for user in users:\n",
    "#     #e[int(user)] = (e[int(user)] * 0.5) + (new_model_pred[new_model_pred[\"user_id_id\"] == user][\"prediction\"].values[0]*0.5)\n",
    "#     e[int(user)] = (e[int(user)] * 0.5) + (new_model_pred[new_model_pred[\"user_id_id\"] == user][\"prediction\"].values[0]*0.5)\n",
    "build_kaggle_submission(e, \"merge19\")"
   ]
  },
  {
   "cell_type": "code",
   "execution_count": 6,
   "metadata": {
    "collapsed": true
   },
   "outputs": [],
   "source": [
    "a = pd.read_csv(\"rand_all_data_m2.csv.gz\")[\"is_listened\"].values\n",
    "b = pd.read_csv(\"rand_2_models_threshold_1.csv.gz\")[\"is_listened\"].values\n",
    "#b = pd.read_csv(\"rand_test.csv.gz\")[\"is_listened\"].values \n",
    "c = pd.read_csv(\"note12_4.csv.gz\")[\"is_listened\"].values\n",
    "d = pd.read_csv(\"rand_2_models_threshold_5.csv.gz\")[\"is_listened\"].values\n",
    "f = pd.read_csv(\"note18_2.csv.gz\")[\"is_listened\"].values\n",
    "\n",
    "e = 0.25 * a + 0.25 * b + 0.2* c + 0.2*d *0.1*f\n",
    "\n",
    "\n",
    "# new_model_pred = pd.read_csv(\"only_flow_above_30regs.csv\").drop(\"Unnamed: 0\", axis=1)\n",
    "# new_preds = new_model_pred.to_dict()\n",
    "# users = new_model_pred[\"user_id_id\"].unique()\n",
    "\n",
    "# for user in users:\n",
    "#     #e[int(user)] = (e[int(user)] * 0.5) + (new_model_pred[new_model_pred[\"user_id_id\"] == user][\"prediction\"].values[0]*0.5)\n",
    "#     e[int(user)] = (e[int(user)] * 0.5) + (new_model_pred[new_model_pred[\"user_id_id\"] == user][\"prediction\"].values[0]*0.5)\n",
    "build_kaggle_submission(e, \"merge20\")"
   ]
  },
  {
   "cell_type": "code",
   "execution_count": 7,
   "metadata": {
    "collapsed": true
   },
   "outputs": [],
   "source": [
    "a = pd.read_csv(\"rand_all_data_m2.csv.gz\")[\"is_listened\"].values\n",
    "b = pd.read_csv(\"rand_2_models_threshold_1.csv.gz\")[\"is_listened\"].values\n",
    "#b = pd.read_csv(\"rand_test.csv.gz\")[\"is_listened\"].values \n",
    "c = pd.read_csv(\"note12_4.csv.gz\")[\"is_listened\"].values\n",
    "d = pd.read_csv(\"rand_2_models_threshold_5.csv.gz\")[\"is_listened\"].values\n",
    "f = pd.read_csv(\"note18_2.csv.gz\")[\"is_listened\"].values\n",
    "\n",
    "\n",
    "#e = 0.25 * a + 0.3 * b + 0.25* c + 0.2*d\n",
    "e = 0.2 * a + 0.25 * b + 0.2* c + 0.2*d *0.15*f\n",
    "\n",
    "\n",
    "# new_model_pred = pd.read_csv(\"only_flow_above_30regs.csv\").drop(\"Unnamed: 0\", axis=1)\n",
    "# new_preds = new_model_pred.to_dict()\n",
    "# users = new_model_pred[\"user_id_id\"].unique()\n",
    "\n",
    "# for user in users:\n",
    "#     #e[int(user)] = (e[int(user)] * 0.5) + (new_model_pred[new_model_pred[\"user_id_id\"] == user][\"prediction\"].values[0]*0.5)\n",
    "#     e[int(user)] = (e[int(user)] * 0.5) + (new_model_pred[new_model_pred[\"user_id_id\"] == user][\"prediction\"].values[0]*0.5)\n",
    "build_kaggle_submission(e, \"merge21\")"
   ]
  },
  {
   "cell_type": "code",
   "execution_count": null,
   "metadata": {
    "collapsed": true
   },
   "outputs": [],
   "source": []
  }
 ],
 "metadata": {
  "anaconda-cloud": {},
  "kernelspec": {
   "display_name": "Python 2",
   "language": "python",
   "name": "python2"
  },
  "language_info": {
   "codemirror_mode": {
    "name": "ipython",
    "version": 2
   },
   "file_extension": ".py",
   "mimetype": "text/x-python",
   "name": "python",
   "nbconvert_exporter": "python",
   "pygments_lexer": "ipython2",
   "version": "2.7.13"
  }
 },
 "nbformat": 4,
 "nbformat_minor": 1
}
