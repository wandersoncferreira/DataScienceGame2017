{
 "cells": [
  {
   "cell_type": "code",
   "execution_count": 1,
   "metadata": {
    "collapsed": false
   },
   "outputs": [],
   "source": [
    "import pandas as pd\n",
    "import numpy as np\n",
    "df =pd.read_csv(\"preds.csv\")"
   ]
  },
  {
   "cell_type": "code",
   "execution_count": 2,
   "metadata": {
    "collapsed": false
   },
   "outputs": [],
   "source": [
    "df = df.rename(columns={\"Unnamed: 0\": \"user_id_id\", \"0\": \"prediction\"})"
   ]
  },
  {
   "cell_type": "code",
   "execution_count": 3,
   "metadata": {
    "collapsed": false
   },
   "outputs": [
    {
     "data": {
      "text/plain": [
       "0    [[ 0.01311813  0.98688187]]\n",
       "1                    [[ 0.  1.]]\n",
       "2                    [[ 0.  1.]]\n",
       "3                    [[ 0.  1.]]\n",
       "4                  [[ 0.9  0.1]]\n",
       "Name: prediction, dtype: object"
      ]
     },
     "execution_count": 3,
     "metadata": {},
     "output_type": "execute_result"
    }
   ],
   "source": [
    "df[\"prediction\"].head()"
   ]
  },
  {
   "cell_type": "code",
   "execution_count": 4,
   "metadata": {
    "collapsed": false
   },
   "outputs": [
    {
     "data": {
      "text/plain": [
       "array([], dtype=float64)"
      ]
     },
     "execution_count": 4,
     "metadata": {},
     "output_type": "execute_result"
    }
   ],
   "source": [
    "np.fromstring('1 2', dtype=int, sep=' ')\n",
    "np.fromstring('[0.01311813  0.98688187]', dtype=float, sep=' ')"
   ]
  },
  {
   "cell_type": "code",
   "execution_count": 5,
   "metadata": {
    "collapsed": false
   },
   "outputs": [],
   "source": [
    "df[\"prediction\"] = df[\"prediction\"].apply(lambda x : np.fromstring(x[2:-2], dtype=float, sep=' ')[-1])"
   ]
  },
  {
   "cell_type": "code",
   "execution_count": 6,
   "metadata": {
    "collapsed": true
   },
   "outputs": [],
   "source": [
    "a = df[\"prediction\"].values"
   ]
  },
  {
   "cell_type": "code",
   "execution_count": 7,
   "metadata": {
    "collapsed": false
   },
   "outputs": [
    {
     "data": {
      "text/plain": [
       "17287"
      ]
     },
     "execution_count": 7,
     "metadata": {},
     "output_type": "execute_result"
    }
   ],
   "source": [
    "df[\"user_id_id\"].max()"
   ]
  },
  {
   "cell_type": "code",
   "execution_count": 8,
   "metadata": {
    "collapsed": true
   },
   "outputs": [],
   "source": [
    "other_sub = pd.read_csv(\"rand_all_data_m2.csv.gz\")"
   ]
  },
  {
   "cell_type": "code",
   "execution_count": 9,
   "metadata": {
    "collapsed": false
   },
   "outputs": [],
   "source": [
    "b = other_sub.ix[17288:][\"is_listened\"].values"
   ]
  },
  {
   "cell_type": "code",
   "execution_count": 10,
   "metadata": {
    "collapsed": false
   },
   "outputs": [],
   "source": [
    "v = np.hstack((a, b))"
   ]
  },
  {
   "cell_type": "code",
   "execution_count": 11,
   "metadata": {
    "collapsed": false
   },
   "outputs": [
    {
     "data": {
      "text/plain": [
       "19918"
      ]
     },
     "execution_count": 11,
     "metadata": {},
     "output_type": "execute_result"
    }
   ],
   "source": [
    "len(v)"
   ]
  },
  {
   "cell_type": "code",
   "execution_count": 12,
   "metadata": {
    "collapsed": true
   },
   "outputs": [],
   "source": [
    "import gzip\n",
    "import csv\n",
    "import numpy as np\n",
    "\n",
    "def build_kaggle_submission(preds, filename=\"my_submission\"):\n",
    "    \"\"\"\n",
    "    Build a compressed Kaggle Submission\n",
    "    \n",
    "    preds: array with predictions\n",
    "    \"\"\"\n",
    "    with gzip.open(filename + '.csv.gz', 'wt') as outf:\n",
    "        fo = csv.writer(outf, lineterminator='\\n')\n",
    "        fo.writerow([\"sample_id\", \"is_listened\"])       \n",
    "        for i, pred in enumerate(preds):\n",
    "            fo.writerow([i, pred])"
   ]
  },
  {
   "cell_type": "code",
   "execution_count": 13,
   "metadata": {
    "collapsed": true
   },
   "outputs": [],
   "source": [
    "build_kaggle_submission(v, \"invividual\")"
   ]
  },
  {
   "cell_type": "code",
   "execution_count": 14,
   "metadata": {
    "collapsed": true
   },
   "outputs": [],
   "source": [
    "a = pd.read_csv(\"rand_all_data_m2.csv.gz\")[\"is_listened\"].values\n",
    "b = pd.read_csv(\"rand_test.csv.gz\")[\"is_listened\"].values\n",
    "c = pd.read_csv(\"note12_4.csv.gz\")[\"is_listened\"].values"
   ]
  },
  {
   "cell_type": "code",
   "execution_count": 15,
   "metadata": {
    "collapsed": true
   },
   "outputs": [],
   "source": [
    "d = 0.35 * a + 0.35 * b + 0.3* c"
   ]
  },
  {
   "cell_type": "code",
   "execution_count": 16,
   "metadata": {
    "collapsed": true
   },
   "outputs": [],
   "source": [
    "build_kaggle_submission(d, \"merge2\")"
   ]
  },
  {
   "cell_type": "code",
   "execution_count": 17,
   "metadata": {
    "collapsed": true
   },
   "outputs": [],
   "source": [
    "a = pd.read_csv(\"rand_all_data_m2.csv.gz\")[\"is_listened\"].values\n",
    "b = pd.read_csv(\"rand_test.csv.gz\")[\"is_listened\"].values\n",
    "c = pd.read_csv(\"note12_4.csv.gz\")[\"is_listened\"].values\n",
    "\n",
    "d = 0.4 * a + 0.4 * b + 0.2* c\n",
    "\n",
    "build_kaggle_submission(d, \"merge3\")"
   ]
  },
  {
   "cell_type": "code",
   "execution_count": 18,
   "metadata": {
    "collapsed": true
   },
   "outputs": [],
   "source": [
    "a = pd.read_csv(\"rand_all_data_m2.csv.gz\")[\"is_listened\"].values\n",
    "b = pd.read_csv(\"rand_test.csv.gz\")[\"is_listened\"].values\n",
    "c = pd.read_csv(\"note12_4.csv.gz\")[\"is_listened\"].values\n",
    "\n",
    "d = 0.25 * a + 0.25 * b + 0.5* c\n",
    "\n",
    "build_kaggle_submission(d, \"merge4\")"
   ]
  },
  {
   "cell_type": "code",
   "execution_count": 19,
   "metadata": {
    "collapsed": true
   },
   "outputs": [],
   "source": [
    "a = pd.read_csv(\"rand_all_data_m2.csv.gz\")[\"is_listened\"].values\n",
    "b = pd.read_csv(\"rand_test.csv.gz\")[\"is_listened\"].values\n",
    "c = pd.read_csv(\"note12_4.csv.gz\")[\"is_listened\"].values\n",
    "\n",
    "d = 0.35 * a + 0.3 * b + 0.35* c\n",
    "\n",
    "build_kaggle_submission(d, \"merge5\")"
   ]
  },
  {
   "cell_type": "code",
   "execution_count": 21,
   "metadata": {
    "collapsed": true
   },
   "outputs": [],
   "source": [
    "a = pd.read_csv(\"rand_all_data_m2.csv.gz\")[\"is_listened\"].values\n",
    "b = pd.read_csv(\"rand_test.csv.gz\")[\"is_listened\"].values\n",
    "c = pd.read_csv(\"note12_4.csv.gz\")[\"is_listened\"].values\n",
    "\n",
    "d = 0.4 * a + 0.3 * b + 0.3* c\n",
    "\n",
    "build_kaggle_submission(d, \"merge6\")"
   ]
  },
  {
   "cell_type": "code",
   "execution_count": null,
   "metadata": {
    "collapsed": true
   },
   "outputs": [],
   "source": []
  }
 ],
 "metadata": {
  "anaconda-cloud": {},
  "kernelspec": {
   "display_name": "Python [conda env:ml]",
   "language": "python",
   "name": "conda-env-ml-py"
  },
  "language_info": {
   "codemirror_mode": {
    "name": "ipython",
    "version": 2
   },
   "file_extension": ".py",
   "mimetype": "text/x-python",
   "name": "python",
   "nbconvert_exporter": "python",
   "pygments_lexer": "ipython2",
   "version": "2.7.12"
  }
 },
 "nbformat": 4,
 "nbformat_minor": 1
}
