{
 "cells": [
  {
   "cell_type": "code",
   "execution_count": 21,
   "metadata": {
    "autoscroll": "json-false",
    "collapsed": false,
    "ein.tags": [
     "worksheet-0"
    ],
    "slideshow": {
     "slide_type": "-"
    }
   },
   "outputs": [],
   "source": [
    "import pandas as pd\n",
    "artists = pd.read_csv(\"../data/deezer_API_artist_features.csv\", sep=\";\")\n",
    "medias = pd.read_csv(\"../data/deezer_API_media_features.csv\", sep=\";\")"
   ]
  },
  {
   "cell_type": "code",
   "execution_count": 22,
   "metadata": {
    "autoscroll": "json-false",
    "collapsed": false,
    "ein.tags": [
     "worksheet-0"
    ],
    "slideshow": {
     "slide_type": "-"
    }
   },
   "outputs": [
    {
     "data": {
      "text/plain": [
       "   artist_albuns  artist_fans  artist_id artist_radio\n",
       "0            1.0         32.0      55164        False"
      ]
     },
     "execution_count": 22,
     "metadata": {},
     "output_type": "execute_result"
    }
   ],
   "source": [
    "artists.head(1)"
   ]
  },
  {
   "cell_type": "code",
   "execution_count": 23,
   "metadata": {
    "autoscroll": "json-false",
    "collapsed": false,
    "ein.tags": [
     "worksheet-0"
    ],
    "slideshow": {
     "slide_type": "-"
    }
   },
   "outputs": [
    {
     "data": {
      "text/plain": [
       "artist_albuns    0\n",
       "artist_fans      0\n",
       "artist_id        0\n",
       "artist_radio     0\n",
       "dtype: int64"
      ]
     },
     "execution_count": 23,
     "metadata": {},
     "output_type": "execute_result"
    }
   ],
   "source": [
    "pd.isnull(artists).sum()"
   ]
  },
  {
   "cell_type": "markdown",
   "metadata": {
    "ein.tags": [
     "worksheet-0"
    ],
    "slideshow": {
     "slide_type": "-"
    }
   },
   "source": [
    "### Adicionando informações dos artistas que não tiveram retorno"
   ]
  },
  {
   "cell_type": "code",
   "execution_count": 24,
   "metadata": {
    "autoscroll": "json-false",
    "collapsed": false,
    "ein.tags": [
     "worksheet-0"
    ],
    "slideshow": {
     "slide_type": "-"
    }
   },
   "outputs": [],
   "source": [
    "ids_no_info = \t[1626452, 87253, 359909, 12982, 473163, 210888, 812245, 11103102, 993921, 2089, 145898, 66576, 8676932, 253352, 8943260, 291675,\n",
    " \t299814, 4979044, 4404384, 2476171, 155822, 17137, 11214594, 9921618, 171950, 66043, 1633416, 1416446, 3917, 4831197, 9993992,\n",
    "\t 5510573, 9036106, 4511377, 5536561, 1570479, 11034668]\n"
   ]
  },
  {
   "cell_type": "code",
   "execution_count": 25,
   "metadata": {
    "autoscroll": "json-false",
    "collapsed": false,
    "ein.tags": [
     "worksheet-0"
    ],
    "slideshow": {
     "slide_type": "-"
    }
   },
   "outputs": [
    {
     "data": {
      "text/plain": [
       "True     49405\n",
       "False    17700\n",
       "Name: artist_radio, dtype: int64"
      ]
     },
     "execution_count": 25,
     "metadata": {},
     "output_type": "execute_result"
    }
   ],
   "source": [
    "artists[\"artist_radio\"].value_counts()"
   ]
  },
  {
   "cell_type": "code",
   "execution_count": 26,
   "metadata": {
    "autoscroll": "json-false",
    "collapsed": false,
    "ein.tags": [
     "worksheet-0"
    ],
    "slideshow": {
     "slide_type": "-"
    }
   },
   "outputs": [
    {
     "data": {
      "text/plain": [
       "count    67105.000000\n",
       "mean        13.219000\n",
       "std         34.894742\n",
       "min          0.000000\n",
       "25%          1.000000\n",
       "50%          5.000000\n",
       "75%         12.000000\n",
       "max        500.000000\n",
       "Name: artist_albuns, dtype: float64"
      ]
     },
     "execution_count": 26,
     "metadata": {},
     "output_type": "execute_result"
    }
   ],
   "source": [
    "artists[\"artist_albuns\"].describe()"
   ]
  },
  {
   "cell_type": "code",
   "execution_count": 27,
   "metadata": {
    "autoscroll": "json-false",
    "collapsed": false,
    "ein.tags": [
     "worksheet-0"
    ],
    "slideshow": {
     "slide_type": "-"
    }
   },
   "outputs": [
    {
     "data": {
      "text/plain": [
       "0.0    10345\n",
       "1.0     8418\n",
       "2.0     5650\n",
       "3.0     4633\n",
       "4.0     3848\n",
       "5.0     3402\n",
       "6.0     2890\n",
       "7.0     2551\n",
       "8.0     2184\n",
       "9.0     1973\n",
       "Name: artist_albuns, dtype: int64"
      ]
     },
     "execution_count": 27,
     "metadata": {},
     "output_type": "execute_result"
    }
   ],
   "source": [
    "artists[\"artist_albuns\"].value_counts().head(10)"
   ]
  },
  {
   "cell_type": "code",
   "execution_count": 28,
   "metadata": {
    "autoscroll": "json-false",
    "collapsed": false,
    "ein.tags": [
     "worksheet-0"
    ],
    "slideshow": {
     "slide_type": "-"
    }
   },
   "outputs": [
    {
     "data": {
      "text/plain": [
       "ModeResult(mode=array([ 0.]), count=array([10345]))"
      ]
     },
     "execution_count": 28,
     "metadata": {},
     "output_type": "execute_result"
    }
   ],
   "source": [
    "import numpy as np\n",
    "import scipy.stats\n",
    "scipy.stats.mode(artists[\"artist_albuns\"].values)"
   ]
  },
  {
   "cell_type": "code",
   "execution_count": 31,
   "metadata": {
    "autoscroll": "json-false",
    "collapsed": false,
    "ein.tags": [
     "worksheet-0"
    ],
    "slideshow": {
     "slide_type": "-"
    }
   },
   "outputs": [],
   "source": [
    "artists[\"artist_radio\"] = artists[\"artist_radio\"].apply(lambda x : 1 if True else 0)\n",
    "for id_ in ids_no_info:\n",
    "    artists.loc[-1] = [0, 0, id_, 1]"
   ]
  },
  {
   "cell_type": "code",
   "execution_count": 32,
   "metadata": {
    "autoscroll": "json-false",
    "collapsed": false,
    "ein.tags": [
     "worksheet-0"
    ],
    "slideshow": {
     "slide_type": "-"
    }
   },
   "outputs": [
    {
     "data": {
      "text/plain": [
       "   media_bpm  media_id  media_rank\n",
       "0      100.1    222606    292784.0"
      ]
     },
     "execution_count": 32,
     "metadata": {},
     "output_type": "execute_result"
    }
   ],
   "source": [
    "medias.head(1)"
   ]
  },
  {
   "cell_type": "code",
   "execution_count": 33,
   "metadata": {
    "autoscroll": "json-false",
    "collapsed": false,
    "ein.tags": [
     "worksheet-0"
    ],
    "slideshow": {
     "slide_type": "-"
    }
   },
   "outputs": [
    {
     "data": {
      "text/plain": [
       "121.3801257449708"
      ]
     },
     "execution_count": 33,
     "metadata": {},
     "output_type": "execute_result"
    }
   ],
   "source": [
    "medias[\"media_bpm\"].mean()"
   ]
  },
  {
   "cell_type": "code",
   "execution_count": 34,
   "metadata": {
    "autoscroll": "json-false",
    "collapsed": false,
    "ein.tags": [
     "worksheet-0"
    ],
    "slideshow": {
     "slide_type": "-"
    }
   },
   "outputs": [
    {
     "data": {
      "text/plain": [
       "324678.2096386287"
      ]
     },
     "execution_count": 34,
     "metadata": {},
     "output_type": "execute_result"
    }
   ],
   "source": [
    "medias[\"media_rank\"].mean()"
   ]
  },
  {
   "cell_type": "code",
   "execution_count": 35,
   "metadata": {
    "autoscroll": "json-false",
    "collapsed": false,
    "ein.tags": [
     "worksheet-0"
    ],
    "slideshow": {
     "slide_type": "-"
    }
   },
   "outputs": [],
   "source": [
    "ids_no_info = \t[122156032, 122156034,\n",
    " 122156036,\n",
    " 122156038,\n",
    " 5056520,\n",
    " 41325621,\n",
    " 119494722,\n",
    " 119494724,\n",
    " 119494726,\n",
    " 119494728,\n",
    " 119494730,\n",
    " 119494732,\n",
    " 119494734,\n",
    " 1159265,\n",
    " 101261472,\n",
    " 101533868,\n",
    " 101533870,\n",
    " 101533872,\n",
    " 101533874,\n",
    " 101533876,\n",
    " 101533878,\n",
    " 101533880,\n",
    " 101533882,\n",
    " 101533884,\n",
    " 101533886,\n",
    " 101533888,\n",
    " 101533890,\n",
    " 2450633,\n",
    " 112126158,\n",
    " 112126164,\n",
    " 122222836,\n",
    " 109285650,\n",
    " 5712181,\n",
    " 122462544,\n",
    " 122462564,\n",
    " 12426647,\n",
    " 67999131,\n",
    " 133048736,\n",
    " 3836327,\n",
    " 103937478,\n",
    " 4543948,\n",
    " 4543949,\n",
    " 4543951,\n",
    " 4543952,\n",
    " 4543954,\n",
    " 4543955,\n",
    " 4543956,\n",
    " 4543957,\n",
    " 4543958,\n",
    " 4543960,\n",
    " 4543961,\n",
    " 4543963,\n",
    " 86782433,\n",
    " 3907042,\n",
    " 3907043,\n",
    " 3907044,\n",
    " 3907045,\n",
    " 3907046,\n",
    " 3907047,\n",
    " 3907048,\n",
    " 3907049,\n",
    " 3907050,\n",
    " 3907051,\n",
    " 3907052,\n",
    " 3907053,\n",
    " 3907054,\n",
    " 3907055,\n",
    " 4543984,\n",
    " 4543985,\n",
    " 4543991,\n",
    " 4543999,\n",
    " 4544003,\n",
    " 4544004,\n",
    " 4544005,\n",
    " 134741510,\n",
    " 1168904,\n",
    " 1168905,\n",
    " 1168906,\n",
    " 1168907,\n",
    " 1168908,\n",
    " 1168909,\n",
    " 1168910,\n",
    " 1168911,\n",
    " 1168912,\n",
    " 105065994,\n",
    " 105065998,\n",
    " 6598165,\n",
    " 105066010,\n",
    " 105066016,\n",
    " 79042090,\n",
    " 105066028,\n",
    " 65593903,\n",
    " 107766346,\n",
    " 106442330,\n",
    " 106442332,\n",
    " 106442334,\n",
    " 106442336,\n",
    " 106442338,\n",
    " 106442340,\n",
    " 106442342,\n",
    " 106442344,\n",
    " 106442346,\n",
    " 106442348,\n",
    " 106442350,\n",
    " 106442352,\n",
    " 106442354,\n",
    " 106442356,\n",
    " 122155638,\n",
    " 122155640,\n",
    " 122155642,\n",
    " 17582715,\n",
    " 122155644,\n",
    " 122155646,\n",
    " 98355838,\n",
    " 122155648,\n",
    " 122155650,\n",
    " 122155652,\n",
    " 103891590,\n",
    " 122155654,\n",
    " 122155656,\n",
    " 99234440,\n",
    " 122155658,\n",
    " 122155660,\n",
    " 103891626,\n",
    " 95944392,\n",
    " 4556501,\n",
    " 64562982,\n",
    " 64562988,\n",
    " 64562989,\n",
    " 93840176,\n",
    " 93840196,\n",
    " 876357,\n",
    " 876409,\n",
    " 93840252,\n",
    " 876413,\n",
    " 73233296,\n",
    " 73233297,\n",
    " 131735442,\n",
    " 131735444,\n",
    " 73233300,\n",
    " 131735446,\n",
    " 131735448,\n",
    " 131735450,\n",
    " 131735452,\n",
    " 131735454,\n",
    " 131735456,\n",
    " 131735460,\n",
    " 131735462,\n",
    " 131735464,\n",
    " 131735466,\n",
    " 131735468,\n",
    " 131735470,\n",
    " 131735472,\n",
    " 131735474,\n",
    " 131735476,\n",
    " 131735478,\n",
    " 131735480,\n",
    " 131735482,\n",
    " 131735484,\n",
    " 131735486,\n",
    " 131735488,\n",
    " 123815894,\n",
    " 65361897,\n",
    " 122156016,\n",
    " 122156018,\n",
    " 122156020,\n",
    " 122156022,\n",
    " 3770359,\n",
    " 122156024,\n",
    " 122156026,\n",
    " 122156028,\n",
    " 122156030]\n"
   ]
  },
  {
   "cell_type": "code",
   "execution_count": 36,
   "metadata": {
    "autoscroll": "json-false",
    "collapsed": false,
    "ein.tags": [
     "worksheet-0"
    ],
    "slideshow": {
     "slide_type": "-"
    }
   },
   "outputs": [],
   "source": [
    "for id_ in ids_no_info:\n",
    "    medias.loc[-1] = [121, id_, 324678]\n"
   ]
  },
  {
   "cell_type": "code",
   "execution_count": 37,
   "metadata": {
    "autoscroll": "json-false",
    "collapsed": false,
    "ein.tags": [
     "worksheet-0"
    ],
    "slideshow": {
     "slide_type": "-"
    }
   },
   "outputs": [
    {
     "data": {
      "text/plain": [
       "media_bpm     0\n",
       "media_id      0\n",
       "media_rank    0\n",
       "dtype: int64"
      ]
     },
     "execution_count": 37,
     "metadata": {},
     "output_type": "execute_result"
    }
   ],
   "source": [
    "pd.isnull(medias).sum()"
   ]
  },
  {
   "cell_type": "code",
   "execution_count": 38,
   "metadata": {
    "autoscroll": "json-false",
    "collapsed": false,
    "ein.tags": [
     "worksheet-0"
    ],
    "slideshow": {
     "slide_type": "-"
    }
   },
   "outputs": [],
   "source": [
    "artists = artists.rename(columns={col: \"API_\" + col for col in artists.columns.values if \"id\" not in col})\n",
    "medias = medias.rename(columns={col: \"API_\" + col for col in medias.columns.values  if \"id\" not in col})"
   ]
  },
  {
   "cell_type": "code",
   "execution_count": 39,
   "metadata": {
    "autoscroll": "json-false",
    "collapsed": false,
    "ein.tags": [
     "worksheet-0"
    ],
    "slideshow": {
     "slide_type": "-"
    }
   },
   "outputs": [],
   "source": [
    "df_train = pd.read_csv(\"../data/train_data3.csv\")"
   ]
  },
  {
   "cell_type": "code",
   "execution_count": 40,
   "metadata": {
    "autoscroll": "json-false",
    "collapsed": false,
    "ein.tags": [
     "worksheet-0"
    ],
    "slideshow": {
     "slide_type": "-"
    }
   },
   "outputs": [],
   "source": [
    "df_train = pd.merge(df_train, artists, how=\"left\", on=\"artist_id\")"
   ]
  },
  {
   "cell_type": "code",
   "execution_count": 41,
   "metadata": {
    "autoscroll": "json-false",
    "collapsed": false,
    "ein.tags": [
     "worksheet-0"
    ],
    "slideshow": {
     "slide_type": "-"
    }
   },
   "outputs": [
    {
     "data": {
      "text/plain": [
       "Index([u'Unnamed: 0', u'genre_id', u'ts_listen', u'media_id', u'album_id',\n",
       "       u'context_type', u'release_date', u'platform_name', u'platform_family',\n",
       "       u'media_duration', u'listen_type', u'user_gender', u'user_id',\n",
       "       u'artist_id', u'user_age', u'is_listened', u'text', u'year',\n",
       "       u'diff_ts_listen_AND_release_date_D',\n",
       "       u'diff_ts_listen_AND_release_date_M',\n",
       "       u'diff_ts_listen_AND_release_date_Y', u'release_date_DAY',\n",
       "       u'release_date_MONTH', u'release_date_YEAR', u'ts_listen_DAY_OF_WEEK',\n",
       "       u'ts_listen_PERIOD_OF_DAY', u'user_age_group', u'diff_user_song_age',\n",
       "       u'media_decade', u'API_artist_albuns', u'API_artist_fans',\n",
       "       u'API_artist_radio'],\n",
       "      dtype='object')"
      ]
     },
     "execution_count": 41,
     "metadata": {},
     "output_type": "execute_result"
    }
   ],
   "source": [
    "df_train.columns"
   ]
  },
  {
   "cell_type": "code",
   "execution_count": 42,
   "metadata": {
    "autoscroll": "json-false",
    "collapsed": false,
    "ein.tags": [
     "worksheet-0"
    ],
    "slideshow": {
     "slide_type": "-"
    }
   },
   "outputs": [
    {
     "data": {
      "text/plain": [
       "Unnamed: 0                              0\n",
       "genre_id                                0\n",
       "ts_listen                               0\n",
       "media_id                                0\n",
       "album_id                                0\n",
       "context_type                            0\n",
       "release_date                            0\n",
       "platform_name                           0\n",
       "platform_family                         0\n",
       "media_duration                          0\n",
       "listen_type                             0\n",
       "user_gender                             0\n",
       "user_id                                 0\n",
       "artist_id                               0\n",
       "user_age                                0\n",
       "is_listened                             0\n",
       "text                                    0\n",
       "year                                    0\n",
       "diff_ts_listen_AND_release_date_D       0\n",
       "diff_ts_listen_AND_release_date_M       0\n",
       "diff_ts_listen_AND_release_date_Y       0\n",
       "release_date_DAY                        0\n",
       "release_date_MONTH                      0\n",
       "release_date_YEAR                       0\n",
       "ts_listen_DAY_OF_WEEK                   0\n",
       "ts_listen_PERIOD_OF_DAY                 0\n",
       "user_age_group                          0\n",
       "diff_user_song_age                      0\n",
       "media_decade                            0\n",
       "API_artist_albuns                    3413\n",
       "API_artist_fans                      3413\n",
       "API_artist_radio                     3413\n",
       "dtype: int64"
      ]
     },
     "execution_count": 42,
     "metadata": {},
     "output_type": "execute_result"
    }
   ],
   "source": [
    "pd.isnull(df_train).sum()"
   ]
  },
  {
   "cell_type": "code",
   "execution_count": 44,
   "metadata": {
    "autoscroll": "json-false",
    "collapsed": false,
    "ein.tags": [
     "worksheet-0"
    ],
    "slideshow": {
     "slide_type": "-"
    }
   },
   "outputs": [],
   "source": [
    "df_train[\"API_artist_albuns\"].fillna(0, inplace=True)\n",
    "df_train[\"API_artist_fans\"].fillna(0, inplace=True)\n",
    "df_train[\"API_artist_radio\"].fillna(1, inplace=True)"
   ]
  },
  {
   "cell_type": "code",
   "execution_count": 45,
   "metadata": {
    "autoscroll": "json-false",
    "collapsed": false,
    "ein.tags": [
     "worksheet-0"
    ],
    "slideshow": {
     "slide_type": "-"
    }
   },
   "outputs": [],
   "source": [
    "df_train = pd.merge(df_train, medias, how=\"left\", on=\"media_id\")"
   ]
  },
  {
   "cell_type": "code",
   "execution_count": 46,
   "metadata": {
    "autoscroll": "json-false",
    "collapsed": false,
    "ein.tags": [
     "worksheet-0"
    ],
    "slideshow": {
     "slide_type": "-"
    }
   },
   "outputs": [
    {
     "data": {
      "text/plain": [
       "Unnamed: 0                             0\n",
       "genre_id                               0\n",
       "ts_listen                              0\n",
       "media_id                               0\n",
       "album_id                               0\n",
       "context_type                           0\n",
       "release_date                           0\n",
       "platform_name                          0\n",
       "platform_family                        0\n",
       "media_duration                         0\n",
       "listen_type                            0\n",
       "user_gender                            0\n",
       "user_id                                0\n",
       "artist_id                              0\n",
       "user_age                               0\n",
       "is_listened                            0\n",
       "text                                   0\n",
       "year                                   0\n",
       "diff_ts_listen_AND_release_date_D      0\n",
       "diff_ts_listen_AND_release_date_M      0\n",
       "diff_ts_listen_AND_release_date_Y      0\n",
       "release_date_DAY                       0\n",
       "release_date_MONTH                     0\n",
       "release_date_YEAR                      0\n",
       "ts_listen_DAY_OF_WEEK                  0\n",
       "ts_listen_PERIOD_OF_DAY                0\n",
       "user_age_group                         0\n",
       "diff_user_song_age                     0\n",
       "media_decade                           0\n",
       "API_artist_albuns                      0\n",
       "API_artist_fans                        0\n",
       "API_artist_radio                       0\n",
       "API_media_bpm                        458\n",
       "API_media_rank                       458\n",
       "dtype: int64"
      ]
     },
     "execution_count": 46,
     "metadata": {},
     "output_type": "execute_result"
    }
   ],
   "source": [
    "pd.isnull(df_train).sum()"
   ]
  },
  {
   "cell_type": "code",
   "execution_count": 47,
   "metadata": {
    "autoscroll": "json-false",
    "collapsed": false,
    "ein.tags": [
     "worksheet-0"
    ],
    "slideshow": {
     "slide_type": "-"
    }
   },
   "outputs": [],
   "source": [
    "df_train[\"API_media_rank\"].fillna(324678, inplace=True)\n",
    "df_train[\"API_media_bpm\"].fillna(121, inplace=True)"
   ]
  },
  {
   "cell_type": "code",
   "execution_count": 0,
   "metadata": {
    "autoscroll": "json-false",
    "collapsed": false,
    "ein.tags": [
     "worksheet-0"
    ],
    "slideshow": {
     "slide_type": "-"
    }
   },
   "outputs": [],
   "source": [
    "pd.isnull(df_train).sum()"
   ]
  },
  {
   "cell_type": "code",
   "execution_count": 0,
   "metadata": {
    "autoscroll": "json-false",
    "collapsed": false,
    "ein.tags": [
     "worksheet-0"
    ],
    "slideshow": {
     "slide_type": "-"
    }
   },
   "outputs": [],
   "source": [
    "df_train.to_csv(\"../data/train_data4.csv\")"
   ]
  },
  {
   "cell_type": "code",
   "execution_count": 0,
   "metadata": {
    "autoscroll": "json-false",
    "collapsed": false,
    "ein.tags": [
     "worksheet-0"
    ],
    "slideshow": {
     "slide_type": "-"
    }
   },
   "outputs": [],
   "source": [
    "df_test = pd.read_csv(\"../data/test_data3.csv\")"
   ]
  },
  {
   "cell_type": "code",
   "execution_count": 0,
   "metadata": {
    "autoscroll": "json-false",
    "collapsed": false,
    "ein.tags": [
     "worksheet-0"
    ],
    "slideshow": {
     "slide_type": "-"
    }
   },
   "outputs": [],
   "source": [
    "df_test = pd.merge(df_test, medias, how=\"left\", on=\"media_id\")\n",
    "df_test = pd.merge(df_test, artists, how=\"left\", on=\"artist_id\")"
   ]
  },
  {
   "cell_type": "code",
   "execution_count": 0,
   "metadata": {
    "autoscroll": "json-false",
    "collapsed": false,
    "ein.tags": [
     "worksheet-0"
    ],
    "slideshow": {
     "slide_type": "-"
    }
   },
   "outputs": [],
   "source": [
    "df_test.to_csv(\"../data/test_data4.csv\")"
   ]
  },
  {
   "cell_type": "code",
   "execution_count": 0,
   "metadata": {
    "autoscroll": "json-false",
    "collapsed": false,
    "ein.tags": [
     "worksheet-0"
    ],
    "slideshow": {
     "slide_type": "-"
    }
   },
   "outputs": [],
   "source": []
  },
  {
   "cell_type": "code",
   "execution_count": 0,
   "metadata": {
    "autoscroll": "json-false",
    "collapsed": false,
    "ein.tags": [
     "worksheet-0"
    ],
    "slideshow": {
     "slide_type": "-"
    }
   },
   "outputs": [],
   "source": []
  }
 ],
 "metadata": {
  "kernelspec": {
   "display_name": "Python 2",
   "name": "python2"
  },
  "language_info": {
   "codemirror_mode": {
    "name": "ipython",
    "version": 2
   },
   "file_extension": ".py",
   "mimetype": "text/x-python",
   "name": "python",
   "nbconvert_exporter": "python",
   "pygments_lexer": "ipython2",
   "version": "2.7.13"
  },
  "name": "8 - Deezer_API_features.ipynb"
 },
 "nbformat": 4,
 "nbformat_minor": 2
}
