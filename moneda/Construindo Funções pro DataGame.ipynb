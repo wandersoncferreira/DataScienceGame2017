{
 "cells": [
  {
   "cell_type": "code",
   "execution_count": 30,
   "metadata": {
    "collapsed": true
   },
   "outputs": [],
   "source": [
    "from features import DataGame"
   ]
  },
  {
   "cell_type": "code",
   "execution_count": 33,
   "metadata": {
    "collapsed": true
   },
   "outputs": [],
   "source": [
    "dg = DataGame(\"../data/train_data3.csv\", nrows=5000)"
   ]
  },
  {
   "cell_type": "code",
   "execution_count": 32,
   "metadata": {
    "collapsed": true
   },
   "outputs": [],
   "source": [
    "df = pd.read_csv(\"../data/train_data3.csv\", nrows = 5000)\n",
    "users = df[\"user_id\"].unique()"
   ]
  },
  {
   "cell_type": "code",
   "execution_count": 16,
   "metadata": {
    "collapsed": true
   },
   "outputs": [],
   "source": [
    "def number_musics_listened(user_id, df):\n",
    "    df_user = df[(df[\"user_id\"] == user_id)].copy()\n",
    "    list_feats = [\"nmidia_with_flow\", \"nmidia_regular\", \"nmidia_with_flow_listened\",\n",
    "                  \"nmidia_regular_listened\", \"nmidia_max_repeat\"]\n",
    "    max_repeat = df_user[\"media_id\"].value_counts().values[0]\n",
    "    with_flow = len(df_user[(df_user[\"listen_type\"] == 1)][\"media_id\"].unique())\n",
    "    regular = len(df_user[(df_user[\"listen_type\"] == 0)][\"media_id\"].unique())\n",
    "    with_flow_listened = len(df_user[(df_user[\"listen_type\"] == 1) & (df_user[\"is_listened\"] == 1)][\"media_id\"].unique())\n",
    "    regular_listened = len(df_user[(df_user[\"listen_type\"] == 0) & (df_user[\"is_listened\"] == 1)][\"media_id\"].unique())\n",
    "\n",
    "    df_user[list_feats] = df_user.apply(lambda row: pd.Series([with_flow, regular, with_flow_listened, regular_listened, max_repeat]), axis=1)\n",
    "    df_user.set_index(\"user_id\", inplace=True)\n",
    "    return df_user[list_feats].iloc[0:1]"
   ]
  },
  {
   "cell_type": "code",
   "execution_count": 17,
   "metadata": {
    "collapsed": false
   },
   "outputs": [
    {
     "data": {
      "text/html": [
       "<div>\n",
       "<table border=\"1\" class=\"dataframe\">\n",
       "  <thead>\n",
       "    <tr style=\"text-align: right;\">\n",
       "      <th></th>\n",
       "      <th>nmidia_with_flow</th>\n",
       "      <th>nmidia_regular</th>\n",
       "      <th>nmidia_with_flow_listened</th>\n",
       "      <th>nmidia_regular_listened</th>\n",
       "      <th>nmidia_max_repeat</th>\n",
       "    </tr>\n",
       "    <tr>\n",
       "      <th>user_id</th>\n",
       "      <th></th>\n",
       "      <th></th>\n",
       "      <th></th>\n",
       "      <th></th>\n",
       "      <th></th>\n",
       "    </tr>\n",
       "  </thead>\n",
       "  <tbody>\n",
       "    <tr>\n",
       "      <th>9241</th>\n",
       "      <td>0</td>\n",
       "      <td>1</td>\n",
       "      <td>0</td>\n",
       "      <td>0</td>\n",
       "      <td>1</td>\n",
       "    </tr>\n",
       "  </tbody>\n",
       "</table>\n",
       "</div>"
      ],
      "text/plain": [
       "         nmidia_with_flow  nmidia_regular  nmidia_with_flow_listened  \\\n",
       "user_id                                                                \n",
       "9241                    0               1                          0   \n",
       "\n",
       "         nmidia_regular_listened  nmidia_max_repeat  \n",
       "user_id                                              \n",
       "9241                           0                  1  "
      ]
     },
     "execution_count": 17,
     "metadata": {},
     "output_type": "execute_result"
    }
   ],
   "source": [
    "number_musics_listened(users[0], df)"
   ]
  },
  {
   "cell_type": "code",
   "execution_count": 52,
   "metadata": {
    "collapsed": false
   },
   "outputs": [],
   "source": [
    "def stats_musics_listened(user_id, df):\n",
    "    df_user = df[(df[\"user_id\"] == user_id)].copy()\n",
    "    \n",
    "    list_feats = [\"mean_media_duration_not_listened\", \n",
    "                  \"mean_media_duration_listened\",\n",
    "                  \"mean_media_age_not_listened\",\n",
    "                  \"mean_media_age_listened\"]\n",
    "    \n",
    "    mean_duration = df_user[(df_user[\"is_listened\"] == 0)][\"media_duration\"].mean()\n",
    "    mean_duration_listened = df_user[(df_user[\"is_listened\"] == 1)][\"media_duration\"].mean()\n",
    "    mean_age = df_user[(df_user[\"is_listened\"] == 0)][\"diff_ts_listen_AND_release_date_Y\"].mean()\n",
    "    mean_age_listened = df_user[(df_user[\"is_listened\"] == 1)][\"diff_ts_listen_AND_release_date_Y\"].mean()\n",
    "    \n",
    "    \n",
    "    df_user[list_feats] = df_user.apply(lambda row: pd.Series([mean_duration, mean_duration_listened, mean_age, mean_age_listened]), axis=1)\n",
    "    df_user.set_index(\"user_id\", inplace=True)\n",
    "    df_user.fillna(0, inplace=True)\n",
    "    return df_user[list_feats].iloc[0:1]"
   ]
  },
  {
   "cell_type": "code",
   "execution_count": 54,
   "metadata": {
    "collapsed": false
   },
   "outputs": [
    {
     "data": {
      "text/html": [
       "<div>\n",
       "<table border=\"1\" class=\"dataframe\">\n",
       "  <thead>\n",
       "    <tr style=\"text-align: right;\">\n",
       "      <th></th>\n",
       "      <th>mean_media_duration_not_listened</th>\n",
       "      <th>mean_media_duration_listened</th>\n",
       "      <th>mean_media_age_not_listened</th>\n",
       "      <th>mean_media_age_listened</th>\n",
       "    </tr>\n",
       "    <tr>\n",
       "      <th>user_id</th>\n",
       "      <th></th>\n",
       "      <th></th>\n",
       "      <th></th>\n",
       "      <th></th>\n",
       "    </tr>\n",
       "  </thead>\n",
       "  <tbody>\n",
       "    <tr>\n",
       "      <th>551</th>\n",
       "      <td>0.0</td>\n",
       "      <td>3.5</td>\n",
       "      <td>0.0</td>\n",
       "      <td>8.621918</td>\n",
       "    </tr>\n",
       "  </tbody>\n",
       "</table>\n",
       "</div>"
      ],
      "text/plain": [
       "         mean_media_duration_not_listened  mean_media_duration_listened  \\\n",
       "user_id                                                                   \n",
       "551                                   0.0                           3.5   \n",
       "\n",
       "         mean_media_age_not_listened  mean_media_age_listened  \n",
       "user_id                                                        \n",
       "551                              0.0                 8.621918  "
      ]
     },
     "execution_count": 54,
     "metadata": {},
     "output_type": "execute_result"
    }
   ],
   "source": [
    "stats_musics_listened(users[19], df)"
   ]
  },
  {
   "cell_type": "code",
   "execution_count": null,
   "metadata": {
    "collapsed": true
   },
   "outputs": [],
   "source": []
  },
  {
   "cell_type": "code",
   "execution_count": 28,
   "metadata": {
    "collapsed": true
   },
   "outputs": [],
   "source": [
    "def stats_api_musics_listened(user_id, df):\n",
    "    df_user = df[(df[\"user_id\"] == user_id)].copy()\n",
    "    \n",
    "    list_feats = [\"mean_media_bpm_listened\",\n",
    "                  \"mean_media_bpm_not_listened\",\n",
    "                  \"max_bpm_listened\",\n",
    "                  \"min_bpm_listened\",\n",
    "                  \"mean_media_rank_listened\",\n",
    "                  \"mean_media_rank_not_listened\"]\n",
    "    \n",
    "\n",
    "    mean_bpm_listened = df_user[(df_user[\"is_listened\"] == 1)][\"media_bpm\"].mean()\n",
    "    mean_rank_listened = df_user[(df_user[\"is_listened\"] == 1)][\"media_rank\"].mean()\n",
    "    \n",
    "    mean_bpm = df_user[(df_user[\"is_listened\"] == 0)][\"media_bpm\"].mean()\n",
    "    mean_rank = df_user[(df_user[\"is_listened\"] == 0)][\"media_rank\"].mean()\n",
    "    \n",
    "    max_bpm_listened = df_user[(df_user[\"is_listened\"] == 1)][\"media_bpm\"].max()\n",
    "    min_bpm_listened = df_user[(df_user[\"is_listened\"] == 1)][\"media_bpm\"].min()\n",
    "\n",
    "    \n",
    "    df_user[list_feats] = df_user.apply(lambda row: pd.Series([mean_bpm_listened, \n",
    "                                                               mean_bpm,\n",
    "                                                               max_bpm_listened,\n",
    "                                                               min_bpm_listened,\n",
    "                                                               mean_rank_listened,\n",
    "                                                               mean_rank]), axis=1)\n",
    "    df_user.set_index(\"user_id\", inplace=True)\n",
    "    df_user.fillna(0, inplace=True)\n",
    "    return df_user[list_feats].iloc[0:1]"
   ]
  },
  {
   "cell_type": "code",
   "execution_count": 55,
   "metadata": {
    "collapsed": false
   },
   "outputs": [],
   "source": [
    "stats_api_musics_listened(users[109], df)"
   ]
  },
  {
   "cell_type": "markdown",
   "metadata": {},
   "source": [
    "### Quantidade de gêneros / décadas diferentes que o usuário ouviu"
   ]
  },
  {
   "cell_type": "code",
   "execution_count": 56,
   "metadata": {
    "collapsed": true
   },
   "outputs": [],
   "source": [
    "def genres_listened(user_id, df):\n",
    "    df_user = df[(df[\"user_id\"] == user_id)].copy()\n",
    "    \n",
    "    list_feats = [\"ngenres_noflow\",\n",
    "                  \"ngenres_flow\",\n",
    "                  \"ngenres_noflow_listened\",\n",
    "                  \"ngenres_noflow_listened\"]\n",
    "    \n",
    "    with_flow = len(df_user[(df_user[\"listen_type\"] == 1)][\"genre_id\"].unique())\n",
    "    regular = len(df_user[(df_user[\"listen_type\"] == 0)][\"genre_id\"].unique())\n",
    "    with_flow_listened = len(df_user[(df_user[\"listen_type\"] == 1) & (df_user[\"is_listened\"] == 1)][\"genre_id\"].unique())\n",
    "    regular_listened = len(df_user[(df_user[\"listen_type\"] == 0) & (df_user[\"is_listened\"] == 1)][\"genre_id\"].unique())\n",
    "    \n",
    "    df_user[list_feats] = df_user.apply(lambda row: pd.Series([with_flow, \n",
    "                                                               regular,\n",
    "                                                               with_flow_listened,\n",
    "                                                               regular_listened]), axis=1)\n",
    "    df_user.set_index(\"user_id\", inplace=True)\n",
    "    df_user.fillna(0, inplace=True)\n",
    "    return df_user[list_feats].iloc[0:1]"
   ]
  },
  {
   "cell_type": "code",
   "execution_count": 57,
   "metadata": {
    "collapsed": false
   },
   "outputs": [
    {
     "data": {
      "text/html": [
       "<div>\n",
       "<table border=\"1\" class=\"dataframe\">\n",
       "  <thead>\n",
       "    <tr style=\"text-align: right;\">\n",
       "      <th></th>\n",
       "      <th>ngenres_noflow</th>\n",
       "      <th>ngenres_flow</th>\n",
       "      <th>ngenres_noflow_listened</th>\n",
       "      <th>ngenres_noflow_listened</th>\n",
       "    </tr>\n",
       "    <tr>\n",
       "      <th>user_id</th>\n",
       "      <th></th>\n",
       "      <th></th>\n",
       "      <th></th>\n",
       "      <th></th>\n",
       "    </tr>\n",
       "  </thead>\n",
       "  <tbody>\n",
       "    <tr>\n",
       "      <th>669</th>\n",
       "      <td>3</td>\n",
       "      <td>0</td>\n",
       "      <td>0</td>\n",
       "      <td>0</td>\n",
       "    </tr>\n",
       "  </tbody>\n",
       "</table>\n",
       "</div>"
      ],
      "text/plain": [
       "         ngenres_noflow  ngenres_flow  ngenres_noflow_listened  \\\n",
       "user_id                                                          \n",
       "669                   3             0                        0   \n",
       "\n",
       "         ngenres_noflow_listened  \n",
       "user_id                           \n",
       "669                            0  "
      ]
     },
     "execution_count": 57,
     "metadata": {},
     "output_type": "execute_result"
    }
   ],
   "source": [
    "genres_listened(users[109], df)"
   ]
  },
  {
   "cell_type": "markdown",
   "metadata": {},
   "source": [
    "### Proporção de reprodução em alguns contextos sobre o total para o usuário"
   ]
  },
  {
   "cell_type": "code",
   "execution_count": 72,
   "metadata": {
    "collapsed": true
   },
   "outputs": [],
   "source": [
    "def contexts_listened(user_id, df):\n",
    "    df_user = df[(df[\"user_id\"] == user_id)].copy()\n",
    "    \n",
    "    list_feats = [\"prop_context_0\",\n",
    "                  \"prop_context_1\",\n",
    "                  \"prop_context_2\",\n",
    "                  \"prop_context_3\"]\n",
    "    \n",
    "    \n",
    "    all_contexts = df_user[\"context_type\"].value_counts().sum()\n",
    "    counts = df_user[\"context_type\"].value_counts()\n",
    "    contexts = []\n",
    "    for i in range(5):\n",
    "        try:\n",
    "            contexts.append(counts[i] / float(all_contexts))\n",
    "        except:\n",
    "            contexts.append(0)\n",
    "    \n",
    "    df_user[list_feats] = df_user.apply(lambda row: pd.Series([contexts[0], \n",
    "                                                               contexts[1],\n",
    "                                                               contexts[2],\n",
    "                                                               contexts[3]]), axis=1)\n",
    "    df_user.set_index(\"user_id\", inplace=True)\n",
    "    df_user.fillna(0, inplace=True)\n",
    "    return df_user[list_feats].iloc[0:1]"
   ]
  },
  {
   "cell_type": "code",
   "execution_count": 73,
   "metadata": {
    "collapsed": false
   },
   "outputs": [
    {
     "name": "stdout",
     "output_type": "stream",
     "text": [
      "202     6\n",
      "1350    1\n",
      "2916    4\n",
      "4910    1\n",
      "Name: context_type, dtype: int64\n",
      "4\n",
      "2\n",
      "[0, 0.5, 0, 0, 0.25]\n"
     ]
    },
    {
     "data": {
      "text/html": [
       "<div>\n",
       "<table border=\"1\" class=\"dataframe\">\n",
       "  <thead>\n",
       "    <tr style=\"text-align: right;\">\n",
       "      <th></th>\n",
       "      <th>prop_context_0</th>\n",
       "      <th>prop_context_1</th>\n",
       "      <th>prop_context_2</th>\n",
       "      <th>prop_context_3</th>\n",
       "    </tr>\n",
       "    <tr>\n",
       "      <th>user_id</th>\n",
       "      <th></th>\n",
       "      <th></th>\n",
       "      <th></th>\n",
       "      <th></th>\n",
       "    </tr>\n",
       "  </thead>\n",
       "  <tbody>\n",
       "    <tr>\n",
       "      <th>669</th>\n",
       "      <td>0.0</td>\n",
       "      <td>0.5</td>\n",
       "      <td>0.0</td>\n",
       "      <td>0.0</td>\n",
       "    </tr>\n",
       "  </tbody>\n",
       "</table>\n",
       "</div>"
      ],
      "text/plain": [
       "         prop_context_0  prop_context_1  prop_context_2  prop_context_3\n",
       "user_id                                                                \n",
       "669                 0.0             0.5             0.0             0.0"
      ]
     },
     "execution_count": 73,
     "metadata": {},
     "output_type": "execute_result"
    }
   ],
   "source": [
    "contexts_listened(users[109], df)"
   ]
  },
  {
   "cell_type": "code",
   "execution_count": null,
   "metadata": {
    "collapsed": true
   },
   "outputs": [],
   "source": []
  }
 ],
 "metadata": {
  "kernelspec": {
   "display_name": "Python 2",
   "language": "python",
   "name": "python2"
  },
  "language_info": {
   "codemirror_mode": {
    "name": "ipython",
    "version": 2
   },
   "file_extension": ".py",
   "mimetype": "text/x-python",
   "name": "python",
   "nbconvert_exporter": "python",
   "pygments_lexer": "ipython2",
   "version": "2.7.13"
  }
 },
 "nbformat": 4,
 "nbformat_minor": 2
}
