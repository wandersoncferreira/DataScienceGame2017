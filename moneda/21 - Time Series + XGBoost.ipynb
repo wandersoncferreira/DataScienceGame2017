{
 "cells": [
  {
   "cell_type": "markdown",
   "metadata": {
    "deletable": true,
    "editable": true,
    "ein.tags": [
     "worksheet-0"
    ],
    "slideshow": {
     "slide_type": "-"
    }
   },
   "source": [
    "### Data Science Game 2017\n",
    "\n",
    "Data fields\n",
    "\n",
    "    media_id - identifiant of the song listened by the user\n",
    "    album_id - identifiant of the album of the song\n",
    "    media_duration - duration of the song\n",
    "    user_gender -  gender of the user\n",
    "    user_id -  anonymized id of the user\n",
    "    context_type - type of content where the song was listened: playlist, album ...\n",
    "    release_date - release date of the song with the format YYYYMMDD\n",
    "    ts_listen - timestamp of the listening in UNIX time\n",
    "    platform_name - type of os\n",
    "    platform_family - type of device\n",
    "    user_age - age of the user\n",
    "    listen_type - if the songs was listened in a flow or not\n",
    "    artist_id - identifiant of the artist of the song\n",
    "    genre_id - identifiant of the genre of the song\n",
    "    is_listened - 1 if the track was listened, 0 otherwise\n"
   ]
  },
  {
   "cell_type": "code",
   "execution_count": 102,
   "metadata": {
    "autoscroll": "json-false",
    "collapsed": false,
    "deletable": true,
    "editable": true,
    "ein.tags": [
     "worksheet-0"
    ],
    "slideshow": {
     "slide_type": "-"
    }
   },
   "outputs": [],
   "source": [
    "import pandas as pd\n",
    "import numpy as np"
   ]
  },
  {
   "cell_type": "code",
   "execution_count": 103,
   "metadata": {
    "collapsed": false,
    "deletable": true,
    "editable": true
   },
   "outputs": [],
   "source": [
    "# df_train_ = pd.read_csv(\"../data/bigdata.csv\")\n",
    "\n",
    "# df_train = df_train_[df_train_[\"is_train\"] == 1]\n",
    "# df_test = df_train_[df_train_[\"is_train\"] == 0]\n",
    "    \n",
    "# df_test.drop([\"is_listened\"], axis=1, inplace=True)\n",
    "\n",
    "# print(len(df_train))\n",
    "# print(len(df_test))"
   ]
  },
  {
   "cell_type": "code",
   "execution_count": 104,
   "metadata": {
    "autoscroll": "json-false",
    "collapsed": false,
    "deletable": true,
    "editable": true,
    "ein.tags": [
     "worksheet-0"
    ],
    "slideshow": {
     "slide_type": "-"
    }
   },
   "outputs": [],
   "source": [
    "df_train = pd.read_csv(\"../data/train_data4.csv\")\n",
    "df_test = pd.read_csv(\"../data/test_data4.csv\")\n",
    "\n",
    "df_train[\"user_id_id\"] = df_train[\"user_id\"]\n",
    "df_test[\"user_id_id\"] = df_test[\"user_id\"]"
   ]
  },
  {
   "cell_type": "code",
   "execution_count": 105,
   "metadata": {
    "collapsed": false,
    "deletable": true,
    "editable": true
   },
   "outputs": [],
   "source": [
    "len(df_train)\n",
    "test_user_ids = df_test[\"user_id\"].unique()\n",
    "df_train[\"ts_listen\"] = pd.to_datetime(df_train[\"ts_listen\"] )\n",
    "df_test[\"ts_listen\"] = pd.to_datetime(df_test[\"ts_listen\"] )\n"
   ]
  },
  {
   "cell_type": "code",
   "execution_count": 106,
   "metadata": {
    "collapsed": false,
    "deletable": true,
    "editable": true
   },
   "outputs": [],
   "source": [
    "def print_full(x):\n",
    "    pd.set_option('display.max_rows', len(x))\n",
    "    print(x)\n",
    "    pd.reset_option('display.max_rows')\n",
    "\n",
    "def delayed_data(data, delayed_columns, delays=1, start_delay=1):\n",
    "    \"\"\" Retorna um Dataframe com o delay indicado aplicado na lista de colunas indicadas\n",
    "    \n",
    "    Params:\n",
    "        data: um dataframe com os dados originais\n",
    "        delayed_columns: uma lista de strings com o nome das colunas que quero aplicar o delay\n",
    "        delays: um int com a quantidade de delays desejados\n",
    "    Returns:\n",
    "        df: um dataframe com as colunas indicadas delayadas e já com os dados deslocados retirados\n",
    "    \"\"\"\n",
    "    new_columns_names = []\n",
    "    df = pd.DataFrame()\n",
    "    df = data.copy()\n",
    "\n",
    "    ### Aplico a série de delay em todas as colunas\n",
    "    for column in delayed_columns:\n",
    "        for i in range(start_delay, delays + 1):   \n",
    "            ### Crio uma nova coluna com o delay\n",
    "            new_columns_names.append(column + \"_delayed_\" + str(i))\n",
    "            df[column + \"_delayed_\" + str(i)] = df[column].shift(i)\n",
    "            \n",
    "    ### Excluo os dados que ficam com NaN por causa\n",
    "    ### do deslocamento.\n",
    "    df = df.iloc[delays:]\n",
    "    return df, new_columns_names\n",
    "\n",
    "def random_sampler(df, user_ids, multiple=1):\n",
    "    \"\"\"\n",
    "    df: a DataFrame to sample from;\n",
    "    user_ids: a list / array with user ids you want to see in your sample\n",
    "    multiple: the quantity of examples each id should present in the sample,\n",
    "              if there is not enough examples in the df for a certain id,\n",
    "              it returns all of them.\n",
    "    ---\n",
    "    sample_index: an array with df indices for the sample\n",
    "    \"\"\"\n",
    "    sample_index = []\n",
    "    for user_id in user_ids:\n",
    "        #l = df[df[\"user_id\"] == user_id].index.values\n",
    "        l = df[df[\"user_id\"] == user_id].iloc[-1].index\n",
    "        if multiple <= len(l):\n",
    "            x = np.random.choice(l, multiple, replace=False) \n",
    "            sample_index.append(x)\n",
    "        else:\n",
    "            sample_index.append(l)\n",
    "    return np.concatenate(sample_index, axis=0)\n",
    "\n",
    "\n",
    "def time_series_split(data, proportion=0.8, val=True, verbose=1):\n",
    "    \"\"\"\n",
    "    \"\"\"\n",
    "    ### Estou assumindo que o target sempre será a partir da primeira coluna\n",
    "    features = data.columns.values[1:]\n",
    "    target = data.columns.values[0]\n",
    "    train_size = int(len(data) * proportion)\n",
    "    X_train = data.iloc[0:train_size][features]\n",
    "    y_train = data.iloc[0:train_size][target]\n",
    "    \n",
    "    #test_prop = 1.0 - proportion / 2.0\n",
    "    X_test = data.iloc[train_size:][features]\n",
    "    y_test = data.iloc[train_size:][target]\n",
    "    \n",
    "    if val:\n",
    "        index = int(len(X_test)/2)\n",
    "        X_val = X_test[:index]\n",
    "        y_val = y_test[:index]\n",
    "\n",
    "        X_test = X_test[index:]\n",
    "        y_test = y_test[index:]\n",
    "\n",
    "        if verbose:\n",
    "            print(\"Tamanho do treino: {0}, teste {1} e validação {2}.\".format(len(X_train), len(X_test), len(X_val)))\n",
    "        return X_train, y_train, X_val, y_val, X_test, y_test\n",
    "    else:\n",
    "        if verbose:\n",
    "            print(\"Tamanho do treino: {0}, teste {1}.\".format(len(X_train), len(X_test)))\n",
    "        return X_train, y_train, X_test, y_test\n",
    "\n",
    "#ids_for_test = random_sampler(df_train, test_user_ids)"
   ]
  },
  {
   "cell_type": "markdown",
   "metadata": {
    "deletable": true,
    "editable": true,
    "ein.tags": [
     "worksheet-0"
    ],
    "slideshow": {
     "slide_type": "-"
    }
   },
   "source": [
    "### Analisando quantidade de registro por usuário"
   ]
  },
  {
   "cell_type": "code",
   "execution_count": 107,
   "metadata": {
    "autoscroll": "json-false",
    "collapsed": false,
    "deletable": true,
    "editable": true,
    "ein.tags": [
     "worksheet-0"
    ],
    "slideshow": {
     "slide_type": "-"
    }
   },
   "outputs": [
    {
     "data": {
      "text/plain": [
       "count    19918.000000\n",
       "mean       379.496787\n",
       "std        508.267045\n",
       "min          1.000000\n",
       "25%         66.000000\n",
       "50%        197.000000\n",
       "75%        495.000000\n",
       "max       6317.000000\n",
       "Name: user_id, dtype: float64"
      ]
     },
     "execution_count": 107,
     "metadata": {},
     "output_type": "execute_result"
    }
   ],
   "source": [
    "import matplotlib.pyplot as plt\n",
    "import seaborn as sns\n",
    "#plt.style.use(['dark_background'])\n",
    "#plt.style.use('ggplot')\n",
    "register_count = df_train[\"user_id\"].value_counts()\n",
    "register_count.describe()\n",
    "# plt.show()"
   ]
  },
  {
   "cell_type": "code",
   "execution_count": 108,
   "metadata": {
    "collapsed": false,
    "deletable": true,
    "editable": true
   },
   "outputs": [
    {
     "data": {
      "text/plain": [
       "array([0, 1, 2, 3, 4])"
      ]
     },
     "execution_count": 108,
     "metadata": {},
     "output_type": "execute_result"
    }
   ],
   "source": [
    "register_count[:5].index.values"
   ]
  },
  {
   "cell_type": "code",
   "execution_count": 109,
   "metadata": {
    "collapsed": true,
    "deletable": true,
    "editable": true
   },
   "outputs": [],
   "source": [
    "df_train = df_train[df_train[\"user_id\"].isin(register_count[:].index.values)]"
   ]
  },
  {
   "cell_type": "code",
   "execution_count": 110,
   "metadata": {
    "autoscroll": "json-false",
    "collapsed": false,
    "deletable": true,
    "editable": true,
    "ein.tags": [
     "worksheet-0"
    ],
    "slideshow": {
     "slide_type": "-"
    }
   },
   "outputs": [
    {
     "data": {
      "text/plain": [
       "(array([  1.61650000e+04,   2.60900000e+03,   7.13000000e+02,\n",
       "          2.60000000e+02,   9.50000000e+01,   3.80000000e+01,\n",
       "          2.10000000e+01,   8.00000000e+00,   6.00000000e+00,\n",
       "          3.00000000e+00]),\n",
       " array([  1.00000000e+00,   6.32600000e+02,   1.26420000e+03,\n",
       "          1.89580000e+03,   2.52740000e+03,   3.15900000e+03,\n",
       "          3.79060000e+03,   4.42220000e+03,   5.05380000e+03,\n",
       "          5.68540000e+03,   6.31700000e+03]),\n",
       " <a list of 10 Patch objects>)"
      ]
     },
     "execution_count": 110,
     "metadata": {},
     "output_type": "execute_result"
    },
    {
     "data": {
      "image/png": "[encoded data removed]",
      "text/plain": [
       "<matplotlib.figure.Figure at 0x7fe64fe92610>"
      ]
     },
     "metadata": {},
     "output_type": "display_data"
    }
   ],
   "source": [
    "%matplotlib inline\n",
    "plt.hist(df_train[\"user_id\"].value_counts())"
   ]
  },
  {
   "cell_type": "code",
   "execution_count": 111,
   "metadata": {
    "autoscroll": "json-false",
    "collapsed": false,
    "deletable": true,
    "editable": true,
    "ein.tags": [
     "worksheet-0"
    ],
    "slideshow": {
     "slide_type": "-"
    }
   },
   "outputs": [
    {
     "name": "stdout",
     "output_type": "stream",
     "text": [
      "662\n",
      "19256\n"
     ]
    }
   ],
   "source": [
    "df_train__ = pd.read_csv(\"../data/train_data4.csv\")\n",
    "register_count = df_train__[\"user_id\"].value_counts()\n",
    "\n",
    "threshold = 5\n",
    "\n",
    "user_for_general_model = register_count[(register_count <= threshold)].index\n",
    "user_for_specific_model = register_count[(register_count > threshold)].index\n",
    "print(len(user_for_general_model))\n",
    "print(len(user_for_specific_model))"
   ]
  },
  {
   "cell_type": "code",
   "execution_count": 112,
   "metadata": {
    "collapsed": true,
    "deletable": true,
    "editable": true
   },
   "outputs": [],
   "source": [
    "del df_train__"
   ]
  },
  {
   "cell_type": "code",
   "execution_count": 113,
   "metadata": {
    "collapsed": false,
    "deletable": true,
    "editable": true
   },
   "outputs": [
    {
     "name": "stdout",
     "output_type": "stream",
     "text": [
      "7558817\n",
      "19918\n"
     ]
    }
   ],
   "source": [
    "print(len(df_train))\n",
    "print(len(df_test))"
   ]
  },
  {
   "cell_type": "code",
   "execution_count": 114,
   "metadata": {
    "collapsed": false,
    "deletable": true,
    "editable": true
   },
   "outputs": [
    {
     "name": "stdout",
     "output_type": "stream",
     "text": [
      "Unnamed: 0                           0\n",
      "Unnamed: 0.1                         0\n",
      "sample_id                            0\n",
      "genre_id                             0\n",
      "ts_listen                            0\n",
      "media_id                             0\n",
      "album_id                             0\n",
      "context_type                         0\n",
      "release_date                         0\n",
      "platform_name                        0\n",
      "platform_family                      0\n",
      "media_duration                       0\n",
      "listen_type                          0\n",
      "user_gender                          0\n",
      "user_id                              0\n",
      "artist_id                            0\n",
      "user_age                             0\n",
      "text                                 0\n",
      "year                                 0\n",
      "diff_ts_listen_AND_release_date_D    0\n",
      "diff_ts_listen_AND_release_date_M    0\n",
      "diff_ts_listen_AND_release_date_Y    0\n",
      "release_date_DAY                     0\n",
      "release_date_MONTH                   0\n",
      "release_date_YEAR                    0\n",
      "ts_listen_DAY_OF_WEEK                0\n",
      "ts_listen_PERIOD_OF_DAY              0\n",
      "user_age_group                       0\n",
      "diff_user_song_age                   0\n",
      "media_decade                         0\n",
      "media_bpm                            0\n",
      "media_rank                           0\n",
      "artist_albuns                        0\n",
      "artist_fans                          0\n",
      "artist_radio                         0\n",
      "user_id_id                           0\n",
      "dtype: int64\n"
     ]
    }
   ],
   "source": [
    "d = pd.isnull(df_test).sum()\n",
    "cols_w_na = d[d > 0].index\n",
    "\n",
    "for column in cols_w_na:\n",
    "    try:\n",
    "        df_test[column] = df_test[column].fillna(df_train[column].mean(skipna=True))\n",
    "    except:\n",
    "        df_test[column].fillna(0, inplace=True)\n",
    "\n",
    "print_full(pd.isnull(df_test).sum())"
   ]
  },
  {
   "cell_type": "code",
   "execution_count": 115,
   "metadata": {
    "collapsed": false,
    "deletable": true,
    "editable": true,
    "scrolled": true
   },
   "outputs": [
    {
     "name": "stderr",
     "output_type": "stream",
     "text": [
      "100%|██████████| 19256/19256 [1:00:54<00:00,  3.50it/s]\n"
     ]
    },
    {
     "name": "stdout",
     "output_type": "stream",
     "text": [
      "7441661\n"
     ]
    },
    {
     "data": {
      "text/html": [
       "<div>\n",
       "<table border=\"1\" class=\"dataframe\">\n",
       "  <thead>\n",
       "    <tr style=\"text-align: right;\">\n",
       "      <th></th>\n",
       "      <th>Unnamed: 0</th>\n",
       "      <th>Unnamed: 0.1</th>\n",
       "      <th>album_id</th>\n",
       "      <th>artist_albuns</th>\n",
       "      <th>artist_fans</th>\n",
       "      <th>artist_id</th>\n",
       "      <th>artist_radio</th>\n",
       "      <th>context_type</th>\n",
       "      <th>diff_ts_listen_AND_release_date_D</th>\n",
       "      <th>diff_ts_listen_AND_release_date_M</th>\n",
       "      <th>...</th>\n",
       "      <th>flow_listened_delayed_3</th>\n",
       "      <th>flow_listened_delayed_4</th>\n",
       "      <th>flows_listened_last_10_delayed_1</th>\n",
       "      <th>flows_listened_last_10_delayed_2</th>\n",
       "      <th>flows_listened_last_10_delayed_3</th>\n",
       "      <th>flows_listened_last_10_delayed_4</th>\n",
       "      <th>flows_listened_mean_last_10_delayed_1</th>\n",
       "      <th>flows_listened_mean_last_10_delayed_2</th>\n",
       "      <th>flows_listened_mean_last_10_delayed_3</th>\n",
       "      <th>flows_listened_mean_last_10_delayed_4</th>\n",
       "    </tr>\n",
       "  </thead>\n",
       "  <tbody>\n",
       "    <tr>\n",
       "      <th>1209271</th>\n",
       "      <td>1209271</td>\n",
       "      <td>1209271</td>\n",
       "      <td>13677550</td>\n",
       "      <td>12.0</td>\n",
       "      <td>95652.0</td>\n",
       "      <td>274673</td>\n",
       "      <td>1.0</td>\n",
       "      <td>0</td>\n",
       "      <td>95.0</td>\n",
       "      <td>3.166667</td>\n",
       "      <td>...</td>\n",
       "      <td>0.0</td>\n",
       "      <td>0.0</td>\n",
       "      <td>0.0</td>\n",
       "      <td>0.0</td>\n",
       "      <td>0.0</td>\n",
       "      <td>0.0</td>\n",
       "      <td>0.0</td>\n",
       "      <td>0.0</td>\n",
       "      <td>0.0</td>\n",
       "      <td>0.0</td>\n",
       "    </tr>\n",
       "    <tr>\n",
       "      <th>6888421</th>\n",
       "      <td>6888421</td>\n",
       "      <td>6888438</td>\n",
       "      <td>12865076</td>\n",
       "      <td>5.0</td>\n",
       "      <td>99868.0</td>\n",
       "      <td>1009000</td>\n",
       "      <td>1.0</td>\n",
       "      <td>0</td>\n",
       "      <td>200.0</td>\n",
       "      <td>6.666667</td>\n",
       "      <td>...</td>\n",
       "      <td>0.0</td>\n",
       "      <td>0.0</td>\n",
       "      <td>0.0</td>\n",
       "      <td>0.0</td>\n",
       "      <td>0.0</td>\n",
       "      <td>0.0</td>\n",
       "      <td>0.0</td>\n",
       "      <td>0.0</td>\n",
       "      <td>0.0</td>\n",
       "      <td>0.0</td>\n",
       "    </tr>\n",
       "    <tr>\n",
       "      <th>6714875</th>\n",
       "      <td>6714875</td>\n",
       "      <td>6714892</td>\n",
       "      <td>12811488</td>\n",
       "      <td>7.0</td>\n",
       "      <td>237704.0</td>\n",
       "      <td>5542423</td>\n",
       "      <td>1.0</td>\n",
       "      <td>0</td>\n",
       "      <td>207.0</td>\n",
       "      <td>6.900000</td>\n",
       "      <td>...</td>\n",
       "      <td>0.0</td>\n",
       "      <td>0.0</td>\n",
       "      <td>0.0</td>\n",
       "      <td>0.0</td>\n",
       "      <td>0.0</td>\n",
       "      <td>0.0</td>\n",
       "      <td>0.0</td>\n",
       "      <td>0.0</td>\n",
       "      <td>0.0</td>\n",
       "      <td>0.0</td>\n",
       "    </tr>\n",
       "    <tr>\n",
       "      <th>2385840</th>\n",
       "      <td>2385840</td>\n",
       "      <td>2385846</td>\n",
       "      <td>13369079</td>\n",
       "      <td>9.0</td>\n",
       "      <td>95310.0</td>\n",
       "      <td>112259</td>\n",
       "      <td>1.0</td>\n",
       "      <td>0</td>\n",
       "      <td>137.0</td>\n",
       "      <td>4.566667</td>\n",
       "      <td>...</td>\n",
       "      <td>0.0</td>\n",
       "      <td>0.0</td>\n",
       "      <td>0.0</td>\n",
       "      <td>0.0</td>\n",
       "      <td>0.0</td>\n",
       "      <td>0.0</td>\n",
       "      <td>0.0</td>\n",
       "      <td>0.0</td>\n",
       "      <td>0.0</td>\n",
       "      <td>0.0</td>\n",
       "    </tr>\n",
       "    <tr>\n",
       "      <th>3706429</th>\n",
       "      <td>3706429</td>\n",
       "      <td>3706435</td>\n",
       "      <td>13257415</td>\n",
       "      <td>11.0</td>\n",
       "      <td>241904.0</td>\n",
       "      <td>5306539</td>\n",
       "      <td>1.0</td>\n",
       "      <td>0</td>\n",
       "      <td>151.0</td>\n",
       "      <td>5.033333</td>\n",
       "      <td>...</td>\n",
       "      <td>0.0</td>\n",
       "      <td>0.0</td>\n",
       "      <td>0.0</td>\n",
       "      <td>0.0</td>\n",
       "      <td>0.0</td>\n",
       "      <td>0.0</td>\n",
       "      <td>0.0</td>\n",
       "      <td>0.0</td>\n",
       "      <td>0.0</td>\n",
       "      <td>0.0</td>\n",
       "    </tr>\n",
       "  </tbody>\n",
       "</table>\n",
       "<p>5 rows × 67 columns</p>\n",
       "</div>"
      ],
      "text/plain": [
       "         Unnamed: 0  Unnamed: 0.1  album_id  artist_albuns  artist_fans  artist_id  artist_radio  context_type  diff_ts_listen_AND_release_date_D  diff_ts_listen_AND_release_date_M  \\\n",
       "1209271     1209271       1209271  13677550           12.0      95652.0     274673           1.0             0                               95.0                           3.166667   \n",
       "6888421     6888421       6888438  12865076            5.0      99868.0    1009000           1.0             0                              200.0                           6.666667   \n",
       "6714875     6714875       6714892  12811488            7.0     237704.0    5542423           1.0             0                              207.0                           6.900000   \n",
       "2385840     2385840       2385846  13369079            9.0      95310.0     112259           1.0             0                              137.0                           4.566667   \n",
       "3706429     3706429       3706435  13257415           11.0     241904.0    5306539           1.0             0                              151.0                           5.033333   \n",
       "\n",
       "                         ...                    flow_listened_delayed_3  flow_listened_delayed_4  flows_listened_last_10_delayed_1  flows_listened_last_10_delayed_2  \\\n",
       "1209271                  ...                                        0.0                      0.0                               0.0                               0.0   \n",
       "6888421                  ...                                        0.0                      0.0                               0.0                               0.0   \n",
       "6714875                  ...                                        0.0                      0.0                               0.0                               0.0   \n",
       "2385840                  ...                                        0.0                      0.0                               0.0                               0.0   \n",
       "3706429                  ...                                        0.0                      0.0                               0.0                               0.0   \n",
       "\n",
       "         flows_listened_last_10_delayed_3  flows_listened_last_10_delayed_4  flows_listened_mean_last_10_delayed_1  flows_listened_mean_last_10_delayed_2  flows_listened_mean_last_10_delayed_3  \\\n",
       "1209271                               0.0                               0.0                                    0.0                                    0.0                                    0.0   \n",
       "6888421                               0.0                               0.0                                    0.0                                    0.0                                    0.0   \n",
       "6714875                               0.0                               0.0                                    0.0                                    0.0                                    0.0   \n",
       "2385840                               0.0                               0.0                                    0.0                                    0.0                                    0.0   \n",
       "3706429                               0.0                               0.0                                    0.0                                    0.0                                    0.0   \n",
       "\n",
       "         flows_listened_mean_last_10_delayed_4  \n",
       "1209271                                    0.0  \n",
       "6888421                                    0.0  \n",
       "6714875                                    0.0  \n",
       "2385840                                    0.0  \n",
       "3706429                                    0.0  \n",
       "\n",
       "[5 rows x 67 columns]"
      ]
     },
     "execution_count": 115,
     "metadata": {},
     "output_type": "execute_result"
    }
   ],
   "source": [
    "users = df_train[\"user_id\"].unique()[:]\n",
    "from tqdm import tqdm\n",
    "all_dfs = []\n",
    "\n",
    "df_train[\"is_train\"] = 1\n",
    "df_train[\"sample_id\"] = 1\n",
    "df_test[\"is_train\"] = 0\n",
    "df_test[\"is_listened\"] = 0\n",
    "\n",
    "df_train_ = pd.concat([df_train, df_test])\n",
    "\n",
    "#print(pd.isnull(df_train_).sum())\n",
    "\n",
    "#print(pd.isnull(df_train_[df_train_[\"is_train\"] == 0]).sum())\n",
    "\n",
    "df_train_[\"is_listened\"] = df_train_[\"is_listened\"].apply(lambda x : float(x))\n",
    "df_train_[\"listen_type\"] = df_train_[\"listen_type\"].apply(lambda x : float(x))\n",
    "#print(len(df_train_))\n",
    "\n",
    "for user in tqdm(user_for_specific_model[:]):\n",
    "    df = df_train_[df_train_[\"user_id\"] == user] #.copy(deep=True)\n",
    "    #print(len(df))\n",
    "    #df = df.sort(\"ts_listen\")\n",
    "    df = df.sort_values(by = \"ts_listen\")\n",
    "    \n",
    "    df[\"flow_listened\"] = df[\"is_listened\"] * df[\"listen_type\"]\n",
    "    df[\"flows_listened_last_10\"] = df[\"flow_listened\"].rolling(4).apply(lambda x : np.sum(x))\n",
    "    df[\"flows_listened_mean_last_10\"] = df[\"flow_listened\"].rolling(4).apply(lambda x : np.mean(x))\n",
    "    \n",
    "    #print(df[\"flow_listened\"].head())\n",
    "    \n",
    "    #print(df[\"flows_listened_mean_last_10\"].head(15))\n",
    "    \n",
    "    #print(df[\"flow_listened\"].head())\n",
    "    #df.drop([\"flow_listened\"], axis=1, inplace=True)\n",
    "    #print(pd.isnull(df).sum())\n",
    "    \n",
    "    #print(pd.isnull(df_train_[df_train_[\"is_train\"] == 0]).sum())\n",
    "    \n",
    "    df[\"diff_last_ts_listen\"] = df[\"ts_listen\"].diff()\n",
    "    df.dropna(inplace=True)\n",
    "    \n",
    "    \n",
    "    df[\"diff_last_ts_listen\"] = df[\"diff_last_ts_listen\"].apply(lambda x : x.seconds / 3600.0)\n",
    "    \n",
    "    df, cols = delayed_data(df, [\"diff_last_ts_listen\", \n",
    "                                 \"is_listened\", \n",
    "                                 \"listen_type\", \n",
    "                                 \"media_bpm\",\n",
    "                                 \"flow_listened\",\n",
    "                                 \"flows_listened_last_10\", \n",
    "                                 \"flows_listened_mean_last_10\"], 4)\n",
    "    \n",
    "    \n",
    "    #print(\"null\")\n",
    "    #print(pd.isnull(df).sum().sum())\n",
    "    df.drop([\"flow_listened\",\n",
    "            \"flows_listened_last_10\",\n",
    "            \"flows_listened_mean_last_10\"], axis=1, inplace=True)\n",
    "    \n",
    "    #print(\"len final: {}\".format(len(df)))\n",
    "    \n",
    "\n",
    "\n",
    "    #print(\"len final: {}\".format(len(df)))\n",
    "    \n",
    "    all_dfs.append(df)\n",
    "    \n",
    "df_train_ = pd.concat(all_dfs)\n",
    "print(len(df_train_))\n",
    "df_train_.head()"
   ]
  },
  {
   "cell_type": "code",
   "execution_count": 116,
   "metadata": {
    "collapsed": true,
    "deletable": true,
    "editable": true
   },
   "outputs": [],
   "source": [
    "#df_train_.to_csv(\"../data/bigdata.csv\")"
   ]
  },
  {
   "cell_type": "code",
   "execution_count": 117,
   "metadata": {
    "collapsed": false,
    "deletable": true,
    "editable": true
   },
   "outputs": [
    {
     "data": {
      "text/html": [
       "<div>\n",
       "<table border=\"1\" class=\"dataframe\">\n",
       "  <thead>\n",
       "    <tr style=\"text-align: right;\">\n",
       "      <th></th>\n",
       "      <th>Unnamed: 0</th>\n",
       "      <th>Unnamed: 0.1</th>\n",
       "      <th>sample_id</th>\n",
       "      <th>genre_id</th>\n",
       "      <th>ts_listen</th>\n",
       "      <th>media_id</th>\n",
       "      <th>album_id</th>\n",
       "      <th>context_type</th>\n",
       "      <th>release_date</th>\n",
       "      <th>platform_name</th>\n",
       "      <th>...</th>\n",
       "      <th>diff_user_song_age</th>\n",
       "      <th>media_decade</th>\n",
       "      <th>media_bpm</th>\n",
       "      <th>media_rank</th>\n",
       "      <th>artist_albuns</th>\n",
       "      <th>artist_fans</th>\n",
       "      <th>artist_radio</th>\n",
       "      <th>user_id_id</th>\n",
       "      <th>is_train</th>\n",
       "      <th>is_listened</th>\n",
       "    </tr>\n",
       "  </thead>\n",
       "  <tbody>\n",
       "    <tr>\n",
       "      <th>0</th>\n",
       "      <td>0</td>\n",
       "      <td>0</td>\n",
       "      <td>0</td>\n",
       "      <td>50</td>\n",
       "      <td>2016-11-02 14:32:51</td>\n",
       "      <td>683078</td>\n",
       "      <td>82356</td>\n",
       "      <td>1</td>\n",
       "      <td>2002-10-08 00:00:00</td>\n",
       "      <td>0</td>\n",
       "      <td>...</td>\n",
       "      <td>15.920548</td>\n",
       "      <td>7</td>\n",
       "      <td>181.0</td>\n",
       "      <td>293191.0</td>\n",
       "      <td>25.0</td>\n",
       "      <td>31649.0</td>\n",
       "      <td>1.0</td>\n",
       "      <td>17698</td>\n",
       "      <td>0</td>\n",
       "      <td>0</td>\n",
       "    </tr>\n",
       "    <tr>\n",
       "      <th>1</th>\n",
       "      <td>1</td>\n",
       "      <td>1</td>\n",
       "      <td>1</td>\n",
       "      <td>2744</td>\n",
       "      <td>2016-11-16 15:25:40</td>\n",
       "      <td>876497</td>\n",
       "      <td>99692</td>\n",
       "      <td>1</td>\n",
       "      <td>1985-12-31 00:00:00</td>\n",
       "      <td>0</td>\n",
       "      <td>...</td>\n",
       "      <td>-2.898630</td>\n",
       "      <td>5</td>\n",
       "      <td>88.0</td>\n",
       "      <td>743839.0</td>\n",
       "      <td>10.0</td>\n",
       "      <td>585650.0</td>\n",
       "      <td>1.0</td>\n",
       "      <td>10525</td>\n",
       "      <td>0</td>\n",
       "      <td>0</td>\n",
       "    </tr>\n",
       "    <tr>\n",
       "      <th>2</th>\n",
       "      <td>2</td>\n",
       "      <td>2</td>\n",
       "      <td>2</td>\n",
       "      <td>2744</td>\n",
       "      <td>2016-11-19 07:06:01</td>\n",
       "      <td>876497</td>\n",
       "      <td>99692</td>\n",
       "      <td>1</td>\n",
       "      <td>1985-12-31 00:00:00</td>\n",
       "      <td>0</td>\n",
       "      <td>...</td>\n",
       "      <td>-3.906849</td>\n",
       "      <td>5</td>\n",
       "      <td>88.0</td>\n",
       "      <td>743839.0</td>\n",
       "      <td>10.0</td>\n",
       "      <td>585650.0</td>\n",
       "      <td>1.0</td>\n",
       "      <td>8716</td>\n",
       "      <td>0</td>\n",
       "      <td>0</td>\n",
       "    </tr>\n",
       "    <tr>\n",
       "      <th>3</th>\n",
       "      <td>3</td>\n",
       "      <td>3</td>\n",
       "      <td>3</td>\n",
       "      <td>2744</td>\n",
       "      <td>2016-11-06 16:42:09</td>\n",
       "      <td>876500</td>\n",
       "      <td>99692</td>\n",
       "      <td>1</td>\n",
       "      <td>1985-12-31 00:00:00</td>\n",
       "      <td>2</td>\n",
       "      <td>...</td>\n",
       "      <td>-0.871233</td>\n",
       "      <td>5</td>\n",
       "      <td>107.0</td>\n",
       "      <td>630042.0</td>\n",
       "      <td>10.0</td>\n",
       "      <td>585650.0</td>\n",
       "      <td>1.0</td>\n",
       "      <td>5443</td>\n",
       "      <td>0</td>\n",
       "      <td>0</td>\n",
       "    </tr>\n",
       "    <tr>\n",
       "      <th>4</th>\n",
       "      <td>4</td>\n",
       "      <td>4</td>\n",
       "      <td>4</td>\n",
       "      <td>2744</td>\n",
       "      <td>2016-11-29 17:42:40</td>\n",
       "      <td>876504</td>\n",
       "      <td>99692</td>\n",
       "      <td>1</td>\n",
       "      <td>1985-12-31 00:00:00</td>\n",
       "      <td>2</td>\n",
       "      <td>...</td>\n",
       "      <td>-1.934247</td>\n",
       "      <td>5</td>\n",
       "      <td>110.0</td>\n",
       "      <td>372256.0</td>\n",
       "      <td>10.0</td>\n",
       "      <td>585650.0</td>\n",
       "      <td>1.0</td>\n",
       "      <td>7600</td>\n",
       "      <td>0</td>\n",
       "      <td>0</td>\n",
       "    </tr>\n",
       "  </tbody>\n",
       "</table>\n",
       "<p>5 rows × 38 columns</p>\n",
       "</div>"
      ],
      "text/plain": [
       "   Unnamed: 0  Unnamed: 0.1  sample_id  genre_id           ts_listen  media_id  album_id  context_type         release_date  platform_name     ...       diff_user_song_age  media_decade  media_bpm  \\\n",
       "0           0             0          0        50 2016-11-02 14:32:51    683078     82356             1  2002-10-08 00:00:00              0     ...                15.920548             7      181.0   \n",
       "1           1             1          1      2744 2016-11-16 15:25:40    876497     99692             1  1985-12-31 00:00:00              0     ...                -2.898630             5       88.0   \n",
       "2           2             2          2      2744 2016-11-19 07:06:01    876497     99692             1  1985-12-31 00:00:00              0     ...                -3.906849             5       88.0   \n",
       "3           3             3          3      2744 2016-11-06 16:42:09    876500     99692             1  1985-12-31 00:00:00              2     ...                -0.871233             5      107.0   \n",
       "4           4             4          4      2744 2016-11-29 17:42:40    876504     99692             1  1985-12-31 00:00:00              2     ...                -1.934247             5      110.0   \n",
       "\n",
       "   media_rank  artist_albuns  artist_fans  artist_radio user_id_id  is_train  is_listened  \n",
       "0    293191.0           25.0      31649.0           1.0      17698         0            0  \n",
       "1    743839.0           10.0     585650.0           1.0      10525         0            0  \n",
       "2    743839.0           10.0     585650.0           1.0       8716         0            0  \n",
       "3    630042.0           10.0     585650.0           1.0       5443         0            0  \n",
       "4    372256.0           10.0     585650.0           1.0       7600         0            0  \n",
       "\n",
       "[5 rows x 38 columns]"
      ]
     },
     "execution_count": 117,
     "metadata": {},
     "output_type": "execute_result"
    }
   ],
   "source": [
    "df_test.head()"
   ]
  },
  {
   "cell_type": "code",
   "execution_count": 118,
   "metadata": {
    "collapsed": false,
    "deletable": true,
    "editable": true
   },
   "outputs": [
    {
     "data": {
      "text/plain": [
       "1209271    1\n",
       "6888421    1\n",
       "6714875    1\n",
       "2385840    1\n",
       "3706429    1\n",
       "Name: is_train, dtype: int64"
      ]
     },
     "execution_count": 118,
     "metadata": {},
     "output_type": "execute_result"
    }
   ],
   "source": [
    "df_train_[\"is_train\"].head()"
   ]
  },
  {
   "cell_type": "code",
   "execution_count": 119,
   "metadata": {
    "collapsed": false,
    "deletable": true,
    "editable": true
   },
   "outputs": [
    {
     "name": "stdout",
     "output_type": "stream",
     "text": [
      "7422501\n",
      "19160\n"
     ]
    },
    {
     "name": "stderr",
     "output_type": "stream",
     "text": [
      "/home/ubuntu/anaconda3/envs/ml/lib/python2.7/site-packages/ipykernel/__main__.py:4: SettingWithCopyWarning: \n",
      "A value is trying to be set on a copy of a slice from a DataFrame\n",
      "\n",
      "See the caveats in the documentation: http://pandas.pydata.org/pandas-docs/stable/indexing.html#indexing-view-versus-copy\n"
     ]
    }
   ],
   "source": [
    "df_train = df_train_[df_train_[\"is_train\"] == 1]\n",
    "df_test = df_train_[df_train_[\"is_train\"] == 0]\n",
    "    \n",
    "df_test.drop([\"is_listened\"], axis=1, inplace=True)\n",
    "\n",
    "print(len(df_train))\n",
    "print(len(df_test))"
   ]
  },
  {
   "cell_type": "code",
   "execution_count": 120,
   "metadata": {
    "collapsed": false,
    "deletable": true,
    "editable": true
   },
   "outputs": [
    {
     "name": "stdout",
     "output_type": "stream",
     "text": [
      "Unnamed: 0                                        int64\n",
      "Unnamed: 0.1                                      int64\n",
      "album_id                                          int64\n",
      "artist_albuns                                   float64\n",
      "artist_fans                                     float64\n",
      "artist_id                                         int64\n",
      "artist_radio                                    float64\n",
      "context_type                                      int64\n",
      "diff_ts_listen_AND_release_date_D               float64\n",
      "diff_ts_listen_AND_release_date_M               float64\n",
      "diff_ts_listen_AND_release_date_Y               float64\n",
      "diff_user_song_age                              float64\n",
      "genre_id                                          int64\n",
      "is_listened                                     float64\n",
      "is_train                                          int64\n",
      "listen_type                                     float64\n",
      "media_bpm                                       float64\n",
      "media_decade                                      int64\n",
      "media_duration                                  float64\n",
      "media_id                                          int64\n",
      "media_rank                                      float64\n",
      "platform_family                                   int64\n",
      "platform_name                                     int64\n",
      "release_date                                     object\n",
      "release_date_DAY                                  int64\n",
      "release_date_MONTH                                int64\n",
      "release_date_YEAR                                 int64\n",
      "sample_id                                         int64\n",
      "text                                             object\n",
      "ts_listen                                datetime64[ns]\n",
      "ts_listen_DAY_OF_WEEK                             int64\n",
      "ts_listen_PERIOD_OF_DAY                           int64\n",
      "user_age                                          int64\n",
      "user_age_group                                    int64\n",
      "user_gender                                       int64\n",
      "user_id                                           int64\n",
      "user_id_id                                        int64\n",
      "year                                              int64\n",
      "diff_last_ts_listen                             float64\n",
      "diff_last_ts_listen_delayed_1                   float64\n",
      "diff_last_ts_listen_delayed_2                   float64\n",
      "diff_last_ts_listen_delayed_3                   float64\n",
      "diff_last_ts_listen_delayed_4                   float64\n",
      "is_listened_delayed_1                           float64\n",
      "is_listened_delayed_2                           float64\n",
      "is_listened_delayed_3                           float64\n",
      "is_listened_delayed_4                           float64\n",
      "listen_type_delayed_1                           float64\n",
      "listen_type_delayed_2                           float64\n",
      "listen_type_delayed_3                           float64\n",
      "listen_type_delayed_4                           float64\n",
      "media_bpm_delayed_1                             float64\n",
      "media_bpm_delayed_2                             float64\n",
      "media_bpm_delayed_3                             float64\n",
      "media_bpm_delayed_4                             float64\n",
      "flow_listened_delayed_1                         float64\n",
      "flow_listened_delayed_2                         float64\n",
      "flow_listened_delayed_3                         float64\n",
      "flow_listened_delayed_4                         float64\n",
      "flows_listened_last_10_delayed_1                float64\n",
      "flows_listened_last_10_delayed_2                float64\n",
      "flows_listened_last_10_delayed_3                float64\n",
      "flows_listened_last_10_delayed_4                float64\n",
      "flows_listened_mean_last_10_delayed_1           float64\n",
      "flows_listened_mean_last_10_delayed_2           float64\n",
      "flows_listened_mean_last_10_delayed_3           float64\n",
      "flows_listened_mean_last_10_delayed_4           float64\n",
      "dtype: object\n"
     ]
    }
   ],
   "source": [
    "print_full(df_train.dtypes[:])"
   ]
  },
  {
   "cell_type": "code",
   "execution_count": 121,
   "metadata": {
    "collapsed": false,
    "deletable": true,
    "editable": true
   },
   "outputs": [
    {
     "data": {
      "text/html": [
       "<div>\n",
       "<table border=\"1\" class=\"dataframe\">\n",
       "  <thead>\n",
       "    <tr style=\"text-align: right;\">\n",
       "      <th></th>\n",
       "      <th>Unnamed: 0</th>\n",
       "      <th>Unnamed: 0.1</th>\n",
       "      <th>album_id</th>\n",
       "      <th>artist_albuns</th>\n",
       "      <th>artist_fans</th>\n",
       "      <th>artist_id</th>\n",
       "      <th>artist_radio</th>\n",
       "      <th>context_type</th>\n",
       "      <th>diff_ts_listen_AND_release_date_D</th>\n",
       "      <th>diff_ts_listen_AND_release_date_M</th>\n",
       "      <th>...</th>\n",
       "      <th>flow_listened_delayed_3</th>\n",
       "      <th>flow_listened_delayed_4</th>\n",
       "      <th>flows_listened_last_10_delayed_1</th>\n",
       "      <th>flows_listened_last_10_delayed_2</th>\n",
       "      <th>flows_listened_last_10_delayed_3</th>\n",
       "      <th>flows_listened_last_10_delayed_4</th>\n",
       "      <th>flows_listened_mean_last_10_delayed_1</th>\n",
       "      <th>flows_listened_mean_last_10_delayed_2</th>\n",
       "      <th>flows_listened_mean_last_10_delayed_3</th>\n",
       "      <th>flows_listened_mean_last_10_delayed_4</th>\n",
       "    </tr>\n",
       "  </thead>\n",
       "  <tbody>\n",
       "    <tr>\n",
       "      <th>1209271</th>\n",
       "      <td>1209271</td>\n",
       "      <td>1209271</td>\n",
       "      <td>13677550</td>\n",
       "      <td>12.0</td>\n",
       "      <td>95652.0</td>\n",
       "      <td>274673</td>\n",
       "      <td>1.0</td>\n",
       "      <td>0</td>\n",
       "      <td>95.0</td>\n",
       "      <td>3.166667</td>\n",
       "      <td>...</td>\n",
       "      <td>0.0</td>\n",
       "      <td>0.0</td>\n",
       "      <td>0.0</td>\n",
       "      <td>0.0</td>\n",
       "      <td>0.0</td>\n",
       "      <td>0.0</td>\n",
       "      <td>0.0</td>\n",
       "      <td>0.0</td>\n",
       "      <td>0.0</td>\n",
       "      <td>0.0</td>\n",
       "    </tr>\n",
       "    <tr>\n",
       "      <th>6888421</th>\n",
       "      <td>6888421</td>\n",
       "      <td>6888438</td>\n",
       "      <td>12865076</td>\n",
       "      <td>5.0</td>\n",
       "      <td>99868.0</td>\n",
       "      <td>1009000</td>\n",
       "      <td>1.0</td>\n",
       "      <td>0</td>\n",
       "      <td>200.0</td>\n",
       "      <td>6.666667</td>\n",
       "      <td>...</td>\n",
       "      <td>0.0</td>\n",
       "      <td>0.0</td>\n",
       "      <td>0.0</td>\n",
       "      <td>0.0</td>\n",
       "      <td>0.0</td>\n",
       "      <td>0.0</td>\n",
       "      <td>0.0</td>\n",
       "      <td>0.0</td>\n",
       "      <td>0.0</td>\n",
       "      <td>0.0</td>\n",
       "    </tr>\n",
       "    <tr>\n",
       "      <th>6714875</th>\n",
       "      <td>6714875</td>\n",
       "      <td>6714892</td>\n",
       "      <td>12811488</td>\n",
       "      <td>7.0</td>\n",
       "      <td>237704.0</td>\n",
       "      <td>5542423</td>\n",
       "      <td>1.0</td>\n",
       "      <td>0</td>\n",
       "      <td>207.0</td>\n",
       "      <td>6.900000</td>\n",
       "      <td>...</td>\n",
       "      <td>0.0</td>\n",
       "      <td>0.0</td>\n",
       "      <td>0.0</td>\n",
       "      <td>0.0</td>\n",
       "      <td>0.0</td>\n",
       "      <td>0.0</td>\n",
       "      <td>0.0</td>\n",
       "      <td>0.0</td>\n",
       "      <td>0.0</td>\n",
       "      <td>0.0</td>\n",
       "    </tr>\n",
       "    <tr>\n",
       "      <th>2385840</th>\n",
       "      <td>2385840</td>\n",
       "      <td>2385846</td>\n",
       "      <td>13369079</td>\n",
       "      <td>9.0</td>\n",
       "      <td>95310.0</td>\n",
       "      <td>112259</td>\n",
       "      <td>1.0</td>\n",
       "      <td>0</td>\n",
       "      <td>137.0</td>\n",
       "      <td>4.566667</td>\n",
       "      <td>...</td>\n",
       "      <td>0.0</td>\n",
       "      <td>0.0</td>\n",
       "      <td>0.0</td>\n",
       "      <td>0.0</td>\n",
       "      <td>0.0</td>\n",
       "      <td>0.0</td>\n",
       "      <td>0.0</td>\n",
       "      <td>0.0</td>\n",
       "      <td>0.0</td>\n",
       "      <td>0.0</td>\n",
       "    </tr>\n",
       "    <tr>\n",
       "      <th>3706429</th>\n",
       "      <td>3706429</td>\n",
       "      <td>3706435</td>\n",
       "      <td>13257415</td>\n",
       "      <td>11.0</td>\n",
       "      <td>241904.0</td>\n",
       "      <td>5306539</td>\n",
       "      <td>1.0</td>\n",
       "      <td>0</td>\n",
       "      <td>151.0</td>\n",
       "      <td>5.033333</td>\n",
       "      <td>...</td>\n",
       "      <td>0.0</td>\n",
       "      <td>0.0</td>\n",
       "      <td>0.0</td>\n",
       "      <td>0.0</td>\n",
       "      <td>0.0</td>\n",
       "      <td>0.0</td>\n",
       "      <td>0.0</td>\n",
       "      <td>0.0</td>\n",
       "      <td>0.0</td>\n",
       "      <td>0.0</td>\n",
       "    </tr>\n",
       "  </tbody>\n",
       "</table>\n",
       "<p>5 rows × 67 columns</p>\n",
       "</div>"
      ],
      "text/plain": [
       "         Unnamed: 0  Unnamed: 0.1  album_id  artist_albuns  artist_fans  artist_id  artist_radio  context_type  diff_ts_listen_AND_release_date_D  diff_ts_listen_AND_release_date_M  \\\n",
       "1209271     1209271       1209271  13677550           12.0      95652.0     274673           1.0             0                               95.0                           3.166667   \n",
       "6888421     6888421       6888438  12865076            5.0      99868.0    1009000           1.0             0                              200.0                           6.666667   \n",
       "6714875     6714875       6714892  12811488            7.0     237704.0    5542423           1.0             0                              207.0                           6.900000   \n",
       "2385840     2385840       2385846  13369079            9.0      95310.0     112259           1.0             0                              137.0                           4.566667   \n",
       "3706429     3706429       3706435  13257415           11.0     241904.0    5306539           1.0             0                              151.0                           5.033333   \n",
       "\n",
       "                         ...                    flow_listened_delayed_3  flow_listened_delayed_4  flows_listened_last_10_delayed_1  flows_listened_last_10_delayed_2  \\\n",
       "1209271                  ...                                        0.0                      0.0                               0.0                               0.0   \n",
       "6888421                  ...                                        0.0                      0.0                               0.0                               0.0   \n",
       "6714875                  ...                                        0.0                      0.0                               0.0                               0.0   \n",
       "2385840                  ...                                        0.0                      0.0                               0.0                               0.0   \n",
       "3706429                  ...                                        0.0                      0.0                               0.0                               0.0   \n",
       "\n",
       "         flows_listened_last_10_delayed_3  flows_listened_last_10_delayed_4  flows_listened_mean_last_10_delayed_1  flows_listened_mean_last_10_delayed_2  flows_listened_mean_last_10_delayed_3  \\\n",
       "1209271                               0.0                               0.0                                    0.0                                    0.0                                    0.0   \n",
       "6888421                               0.0                               0.0                                    0.0                                    0.0                                    0.0   \n",
       "6714875                               0.0                               0.0                                    0.0                                    0.0                                    0.0   \n",
       "2385840                               0.0                               0.0                                    0.0                                    0.0                                    0.0   \n",
       "3706429                               0.0                               0.0                                    0.0                                    0.0                                    0.0   \n",
       "\n",
       "         flows_listened_mean_last_10_delayed_4  \n",
       "1209271                                    0.0  \n",
       "6888421                                    0.0  \n",
       "6714875                                    0.0  \n",
       "2385840                                    0.0  \n",
       "3706429                                    0.0  \n",
       "\n",
       "[5 rows x 67 columns]"
      ]
     },
     "execution_count": 121,
     "metadata": {},
     "output_type": "execute_result"
    }
   ],
   "source": [
    "df_train.head()"
   ]
  },
  {
   "cell_type": "code",
   "execution_count": 122,
   "metadata": {
    "autoscroll": "json-false",
    "collapsed": false,
    "deletable": true,
    "editable": true,
    "ein.tags": [
     "worksheet-0"
    ],
    "slideshow": {
     "slide_type": "-"
    }
   },
   "outputs": [
    {
     "data": {
      "text/html": [
       "<div>\n",
       "<table border=\"1\" class=\"dataframe\">\n",
       "  <thead>\n",
       "    <tr style=\"text-align: right;\">\n",
       "      <th></th>\n",
       "      <th>Unnamed: 0</th>\n",
       "      <th>Unnamed: 0.1</th>\n",
       "      <th>album_id</th>\n",
       "      <th>artist_albuns</th>\n",
       "      <th>artist_fans</th>\n",
       "      <th>artist_id</th>\n",
       "      <th>artist_radio</th>\n",
       "      <th>context_type</th>\n",
       "      <th>diff_ts_listen_AND_release_date_D</th>\n",
       "      <th>diff_ts_listen_AND_release_date_M</th>\n",
       "      <th>...</th>\n",
       "      <th>flow_listened_delayed_3</th>\n",
       "      <th>flow_listened_delayed_4</th>\n",
       "      <th>flows_listened_last_10_delayed_1</th>\n",
       "      <th>flows_listened_last_10_delayed_2</th>\n",
       "      <th>flows_listened_last_10_delayed_3</th>\n",
       "      <th>flows_listened_last_10_delayed_4</th>\n",
       "      <th>flows_listened_mean_last_10_delayed_1</th>\n",
       "      <th>flows_listened_mean_last_10_delayed_2</th>\n",
       "      <th>flows_listened_mean_last_10_delayed_3</th>\n",
       "      <th>flows_listened_mean_last_10_delayed_4</th>\n",
       "    </tr>\n",
       "  </thead>\n",
       "  <tbody>\n",
       "    <tr>\n",
       "      <th>14561</th>\n",
       "      <td>14561</td>\n",
       "      <td>14561</td>\n",
       "      <td>12219078</td>\n",
       "      <td>5.000000</td>\n",
       "      <td>2.972420e+05</td>\n",
       "      <td>468920</td>\n",
       "      <td>1.0</td>\n",
       "      <td>1</td>\n",
       "      <td>416.0</td>\n",
       "      <td>13.866667</td>\n",
       "      <td>...</td>\n",
       "      <td>1.0</td>\n",
       "      <td>1.0</td>\n",
       "      <td>4.0</td>\n",
       "      <td>3.0</td>\n",
       "      <td>3.0</td>\n",
       "      <td>3.0</td>\n",
       "      <td>1.00</td>\n",
       "      <td>0.75</td>\n",
       "      <td>0.75</td>\n",
       "      <td>0.75</td>\n",
       "    </tr>\n",
       "    <tr>\n",
       "      <th>6026</th>\n",
       "      <td>6026</td>\n",
       "      <td>6026</td>\n",
       "      <td>10804138</td>\n",
       "      <td>14.000000</td>\n",
       "      <td>1.043900e+05</td>\n",
       "      <td>4052518</td>\n",
       "      <td>1.0</td>\n",
       "      <td>1</td>\n",
       "      <td>504.0</td>\n",
       "      <td>16.800000</td>\n",
       "      <td>...</td>\n",
       "      <td>0.0</td>\n",
       "      <td>0.0</td>\n",
       "      <td>0.0</td>\n",
       "      <td>0.0</td>\n",
       "      <td>0.0</td>\n",
       "      <td>0.0</td>\n",
       "      <td>0.00</td>\n",
       "      <td>0.00</td>\n",
       "      <td>0.00</td>\n",
       "      <td>0.00</td>\n",
       "    </tr>\n",
       "    <tr>\n",
       "      <th>9627</th>\n",
       "      <td>9627</td>\n",
       "      <td>9627</td>\n",
       "      <td>11516526</td>\n",
       "      <td>9.000000</td>\n",
       "      <td>3.506000e+03</td>\n",
       "      <td>5328949</td>\n",
       "      <td>1.0</td>\n",
       "      <td>1</td>\n",
       "      <td>363.0</td>\n",
       "      <td>12.100000</td>\n",
       "      <td>...</td>\n",
       "      <td>0.0</td>\n",
       "      <td>0.0</td>\n",
       "      <td>0.0</td>\n",
       "      <td>0.0</td>\n",
       "      <td>0.0</td>\n",
       "      <td>0.0</td>\n",
       "      <td>0.00</td>\n",
       "      <td>0.00</td>\n",
       "      <td>0.00</td>\n",
       "      <td>0.00</td>\n",
       "    </tr>\n",
       "    <tr>\n",
       "      <th>6064</th>\n",
       "      <td>6064</td>\n",
       "      <td>6064</td>\n",
       "      <td>425785</td>\n",
       "      <td>28.015696</td>\n",
       "      <td>1.272644e+06</td>\n",
       "      <td>57456</td>\n",
       "      <td>1.0</td>\n",
       "      <td>1</td>\n",
       "      <td>2586.0</td>\n",
       "      <td>86.200000</td>\n",
       "      <td>...</td>\n",
       "      <td>1.0</td>\n",
       "      <td>1.0</td>\n",
       "      <td>4.0</td>\n",
       "      <td>4.0</td>\n",
       "      <td>4.0</td>\n",
       "      <td>4.0</td>\n",
       "      <td>1.00</td>\n",
       "      <td>1.00</td>\n",
       "      <td>1.00</td>\n",
       "      <td>1.00</td>\n",
       "    </tr>\n",
       "    <tr>\n",
       "      <th>8065</th>\n",
       "      <td>8065</td>\n",
       "      <td>8065</td>\n",
       "      <td>6985314</td>\n",
       "      <td>16.000000</td>\n",
       "      <td>3.539680e+05</td>\n",
       "      <td>1435566</td>\n",
       "      <td>1.0</td>\n",
       "      <td>1</td>\n",
       "      <td>1158.0</td>\n",
       "      <td>38.600000</td>\n",
       "      <td>...</td>\n",
       "      <td>1.0</td>\n",
       "      <td>0.0</td>\n",
       "      <td>1.0</td>\n",
       "      <td>1.0</td>\n",
       "      <td>1.0</td>\n",
       "      <td>1.0</td>\n",
       "      <td>0.25</td>\n",
       "      <td>0.25</td>\n",
       "      <td>0.25</td>\n",
       "      <td>0.25</td>\n",
       "    </tr>\n",
       "  </tbody>\n",
       "</table>\n",
       "<p>5 rows × 66 columns</p>\n",
       "</div>"
      ],
      "text/plain": [
       "       Unnamed: 0  Unnamed: 0.1  album_id  artist_albuns   artist_fans  artist_id  artist_radio  context_type  diff_ts_listen_AND_release_date_D  diff_ts_listen_AND_release_date_M  \\\n",
       "14561       14561         14561  12219078       5.000000  2.972420e+05     468920           1.0             1                              416.0                          13.866667   \n",
       "6026         6026          6026  10804138      14.000000  1.043900e+05    4052518           1.0             1                              504.0                          16.800000   \n",
       "9627         9627          9627  11516526       9.000000  3.506000e+03    5328949           1.0             1                              363.0                          12.100000   \n",
       "6064         6064          6064    425785      28.015696  1.272644e+06      57456           1.0             1                             2586.0                          86.200000   \n",
       "8065         8065          8065   6985314      16.000000  3.539680e+05    1435566           1.0             1                             1158.0                          38.600000   \n",
       "\n",
       "                       ...                    flow_listened_delayed_3  flow_listened_delayed_4  flows_listened_last_10_delayed_1  flows_listened_last_10_delayed_2  flows_listened_last_10_delayed_3  \\\n",
       "14561                  ...                                        1.0                      1.0                               4.0                               3.0                               3.0   \n",
       "6026                   ...                                        0.0                      0.0                               0.0                               0.0                               0.0   \n",
       "9627                   ...                                        0.0                      0.0                               0.0                               0.0                               0.0   \n",
       "6064                   ...                                        1.0                      1.0                               4.0                               4.0                               4.0   \n",
       "8065                   ...                                        1.0                      0.0                               1.0                               1.0                               1.0   \n",
       "\n",
       "       flows_listened_last_10_delayed_4  flows_listened_mean_last_10_delayed_1  flows_listened_mean_last_10_delayed_2  flows_listened_mean_last_10_delayed_3  flows_listened_mean_last_10_delayed_4  \n",
       "14561                               3.0                                   1.00                                   0.75                                   0.75                                   0.75  \n",
       "6026                                0.0                                   0.00                                   0.00                                   0.00                                   0.00  \n",
       "9627                                0.0                                   0.00                                   0.00                                   0.00                                   0.00  \n",
       "6064                                4.0                                   1.00                                   1.00                                   1.00                                   1.00  \n",
       "8065                                1.0                                   0.25                                   0.25                                   0.25                                   0.25  \n",
       "\n",
       "[5 rows x 66 columns]"
      ]
     },
     "execution_count": 122,
     "metadata": {},
     "output_type": "execute_result"
    }
   ],
   "source": [
    "df_test.head()\n",
    "# ### select users for specific\n",
    "# df_train = df_train[df_train[\"user_id\"].isin(user_for_specific_model)]\n",
    "# df_test = df_test[df_test[\"user_id\"].isin(user_for_specific_model)]\n",
    "# df_train.columns"
   ]
  },
  {
   "cell_type": "code",
   "execution_count": 123,
   "metadata": {
    "autoscroll": "json-false",
    "collapsed": false,
    "deletable": true,
    "editable": true,
    "ein.tags": [
     "worksheet-0"
    ],
    "slideshow": {
     "slide_type": "-"
    }
   },
   "outputs": [
    {
     "name": "stderr",
     "output_type": "stream",
     "text": [
      "/home/ubuntu/anaconda3/envs/ml/lib/python2.7/site-packages/ipykernel/__main__.py:2: SettingWithCopyWarning: \n",
      "A value is trying to be set on a copy of a slice from a DataFrame\n",
      "\n",
      "See the caveats in the documentation: http://pandas.pydata.org/pandas-docs/stable/indexing.html#indexing-view-versus-copy\n",
      "  from ipykernel import kernelapp as app\n"
     ]
    },
    {
     "data": {
      "text/html": [
       "<div>\n",
       "<table border=\"1\" class=\"dataframe\">\n",
       "  <thead>\n",
       "    <tr style=\"text-align: right;\">\n",
       "      <th></th>\n",
       "      <th>album_id</th>\n",
       "      <th>artist_albuns</th>\n",
       "      <th>artist_fans</th>\n",
       "      <th>artist_id</th>\n",
       "      <th>artist_radio</th>\n",
       "      <th>context_type</th>\n",
       "      <th>diff_ts_listen_AND_release_date_D</th>\n",
       "      <th>diff_ts_listen_AND_release_date_M</th>\n",
       "      <th>diff_ts_listen_AND_release_date_Y</th>\n",
       "      <th>diff_user_song_age</th>\n",
       "      <th>...</th>\n",
       "      <th>flow_listened_delayed_3</th>\n",
       "      <th>flow_listened_delayed_4</th>\n",
       "      <th>flows_listened_last_10_delayed_1</th>\n",
       "      <th>flows_listened_last_10_delayed_2</th>\n",
       "      <th>flows_listened_last_10_delayed_3</th>\n",
       "      <th>flows_listened_last_10_delayed_4</th>\n",
       "      <th>flows_listened_mean_last_10_delayed_1</th>\n",
       "      <th>flows_listened_mean_last_10_delayed_2</th>\n",
       "      <th>flows_listened_mean_last_10_delayed_3</th>\n",
       "      <th>flows_listened_mean_last_10_delayed_4</th>\n",
       "    </tr>\n",
       "  </thead>\n",
       "  <tbody>\n",
       "    <tr>\n",
       "      <th>1209271</th>\n",
       "      <td>13677550</td>\n",
       "      <td>12.0</td>\n",
       "      <td>95652.0</td>\n",
       "      <td>274673</td>\n",
       "      <td>1.0</td>\n",
       "      <td>0</td>\n",
       "      <td>95.0</td>\n",
       "      <td>3.166667</td>\n",
       "      <td>0.260274</td>\n",
       "      <td>25.739726</td>\n",
       "      <td>...</td>\n",
       "      <td>0.0</td>\n",
       "      <td>0.0</td>\n",
       "      <td>0.0</td>\n",
       "      <td>0.0</td>\n",
       "      <td>0.0</td>\n",
       "      <td>0.0</td>\n",
       "      <td>0.0</td>\n",
       "      <td>0.0</td>\n",
       "      <td>0.0</td>\n",
       "      <td>0.0</td>\n",
       "    </tr>\n",
       "    <tr>\n",
       "      <th>6888421</th>\n",
       "      <td>12865076</td>\n",
       "      <td>5.0</td>\n",
       "      <td>99868.0</td>\n",
       "      <td>1009000</td>\n",
       "      <td>1.0</td>\n",
       "      <td>0</td>\n",
       "      <td>200.0</td>\n",
       "      <td>6.666667</td>\n",
       "      <td>0.547945</td>\n",
       "      <td>25.452055</td>\n",
       "      <td>...</td>\n",
       "      <td>0.0</td>\n",
       "      <td>0.0</td>\n",
       "      <td>0.0</td>\n",
       "      <td>0.0</td>\n",
       "      <td>0.0</td>\n",
       "      <td>0.0</td>\n",
       "      <td>0.0</td>\n",
       "      <td>0.0</td>\n",
       "      <td>0.0</td>\n",
       "      <td>0.0</td>\n",
       "    </tr>\n",
       "    <tr>\n",
       "      <th>6714875</th>\n",
       "      <td>12811488</td>\n",
       "      <td>7.0</td>\n",
       "      <td>237704.0</td>\n",
       "      <td>5542423</td>\n",
       "      <td>1.0</td>\n",
       "      <td>0</td>\n",
       "      <td>207.0</td>\n",
       "      <td>6.900000</td>\n",
       "      <td>0.567123</td>\n",
       "      <td>25.432877</td>\n",
       "      <td>...</td>\n",
       "      <td>0.0</td>\n",
       "      <td>0.0</td>\n",
       "      <td>0.0</td>\n",
       "      <td>0.0</td>\n",
       "      <td>0.0</td>\n",
       "      <td>0.0</td>\n",
       "      <td>0.0</td>\n",
       "      <td>0.0</td>\n",
       "      <td>0.0</td>\n",
       "      <td>0.0</td>\n",
       "    </tr>\n",
       "    <tr>\n",
       "      <th>2385840</th>\n",
       "      <td>13369079</td>\n",
       "      <td>9.0</td>\n",
       "      <td>95310.0</td>\n",
       "      <td>112259</td>\n",
       "      <td>1.0</td>\n",
       "      <td>0</td>\n",
       "      <td>137.0</td>\n",
       "      <td>4.566667</td>\n",
       "      <td>0.375342</td>\n",
       "      <td>25.624658</td>\n",
       "      <td>...</td>\n",
       "      <td>0.0</td>\n",
       "      <td>0.0</td>\n",
       "      <td>0.0</td>\n",
       "      <td>0.0</td>\n",
       "      <td>0.0</td>\n",
       "      <td>0.0</td>\n",
       "      <td>0.0</td>\n",
       "      <td>0.0</td>\n",
       "      <td>0.0</td>\n",
       "      <td>0.0</td>\n",
       "    </tr>\n",
       "    <tr>\n",
       "      <th>3706429</th>\n",
       "      <td>13257415</td>\n",
       "      <td>11.0</td>\n",
       "      <td>241904.0</td>\n",
       "      <td>5306539</td>\n",
       "      <td>1.0</td>\n",
       "      <td>0</td>\n",
       "      <td>151.0</td>\n",
       "      <td>5.033333</td>\n",
       "      <td>0.413699</td>\n",
       "      <td>25.586301</td>\n",
       "      <td>...</td>\n",
       "      <td>0.0</td>\n",
       "      <td>0.0</td>\n",
       "      <td>0.0</td>\n",
       "      <td>0.0</td>\n",
       "      <td>0.0</td>\n",
       "      <td>0.0</td>\n",
       "      <td>0.0</td>\n",
       "      <td>0.0</td>\n",
       "      <td>0.0</td>\n",
       "      <td>0.0</td>\n",
       "    </tr>\n",
       "  </tbody>\n",
       "</table>\n",
       "<p>5 rows × 65 columns</p>\n",
       "</div>"
      ],
      "text/plain": [
       "         album_id  artist_albuns  artist_fans  artist_id  artist_radio  context_type  diff_ts_listen_AND_release_date_D  diff_ts_listen_AND_release_date_M  diff_ts_listen_AND_release_date_Y  \\\n",
       "1209271  13677550           12.0      95652.0     274673           1.0             0                               95.0                           3.166667                           0.260274   \n",
       "6888421  12865076            5.0      99868.0    1009000           1.0             0                              200.0                           6.666667                           0.547945   \n",
       "6714875  12811488            7.0     237704.0    5542423           1.0             0                              207.0                           6.900000                           0.567123   \n",
       "2385840  13369079            9.0      95310.0     112259           1.0             0                              137.0                           4.566667                           0.375342   \n",
       "3706429  13257415           11.0     241904.0    5306539           1.0             0                              151.0                           5.033333                           0.413699   \n",
       "\n",
       "         diff_user_song_age                  ...                    flow_listened_delayed_3  flow_listened_delayed_4  flows_listened_last_10_delayed_1  flows_listened_last_10_delayed_2  \\\n",
       "1209271           25.739726                  ...                                        0.0                      0.0                               0.0                               0.0   \n",
       "6888421           25.452055                  ...                                        0.0                      0.0                               0.0                               0.0   \n",
       "6714875           25.432877                  ...                                        0.0                      0.0                               0.0                               0.0   \n",
       "2385840           25.624658                  ...                                        0.0                      0.0                               0.0                               0.0   \n",
       "3706429           25.586301                  ...                                        0.0                      0.0                               0.0                               0.0   \n",
       "\n",
       "         flows_listened_last_10_delayed_3  flows_listened_last_10_delayed_4  flows_listened_mean_last_10_delayed_1  flows_listened_mean_last_10_delayed_2  flows_listened_mean_last_10_delayed_3  \\\n",
       "1209271                               0.0                               0.0                                    0.0                                    0.0                                    0.0   \n",
       "6888421                               0.0                               0.0                                    0.0                                    0.0                                    0.0   \n",
       "6714875                               0.0                               0.0                                    0.0                                    0.0                                    0.0   \n",
       "2385840                               0.0                               0.0                                    0.0                                    0.0                                    0.0   \n",
       "3706429                               0.0                               0.0                                    0.0                                    0.0                                    0.0   \n",
       "\n",
       "         flows_listened_mean_last_10_delayed_4  \n",
       "1209271                                    0.0  \n",
       "6888421                                    0.0  \n",
       "6714875                                    0.0  \n",
       "2385840                                    0.0  \n",
       "3706429                                    0.0  \n",
       "\n",
       "[5 rows x 65 columns]"
      ]
     },
     "execution_count": 123,
     "metadata": {},
     "output_type": "execute_result"
    }
   ],
   "source": [
    "to_drop = ['Unnamed: 0', 'Unnamed: 0.1']#, 'Unnamed: 0.1']\n",
    "df_train.drop(to_drop, axis = 1,inplace=True)\n",
    "df_train.head()"
   ]
  },
  {
   "cell_type": "code",
   "execution_count": 124,
   "metadata": {
    "autoscroll": "json-false",
    "collapsed": false,
    "deletable": true,
    "editable": true,
    "ein.tags": [
     "worksheet-0"
    ],
    "slideshow": {
     "slide_type": "-"
    }
   },
   "outputs": [
    {
     "data": {
      "text/html": [
       "<div>\n",
       "<table border=\"1\" class=\"dataframe\">\n",
       "  <thead>\n",
       "    <tr style=\"text-align: right;\">\n",
       "      <th></th>\n",
       "      <th>album_id</th>\n",
       "      <th>artist_albuns</th>\n",
       "      <th>artist_fans</th>\n",
       "      <th>artist_id</th>\n",
       "      <th>artist_radio</th>\n",
       "      <th>context_type</th>\n",
       "      <th>diff_ts_listen_AND_release_date_D</th>\n",
       "      <th>diff_ts_listen_AND_release_date_M</th>\n",
       "      <th>diff_ts_listen_AND_release_date_Y</th>\n",
       "      <th>diff_user_song_age</th>\n",
       "      <th>...</th>\n",
       "      <th>flow_listened_delayed_3</th>\n",
       "      <th>flow_listened_delayed_4</th>\n",
       "      <th>flows_listened_last_10_delayed_1</th>\n",
       "      <th>flows_listened_last_10_delayed_2</th>\n",
       "      <th>flows_listened_last_10_delayed_3</th>\n",
       "      <th>flows_listened_last_10_delayed_4</th>\n",
       "      <th>flows_listened_mean_last_10_delayed_1</th>\n",
       "      <th>flows_listened_mean_last_10_delayed_2</th>\n",
       "      <th>flows_listened_mean_last_10_delayed_3</th>\n",
       "      <th>flows_listened_mean_last_10_delayed_4</th>\n",
       "    </tr>\n",
       "  </thead>\n",
       "  <tbody>\n",
       "    <tr>\n",
       "      <th>1209271</th>\n",
       "      <td>13677550</td>\n",
       "      <td>12.0</td>\n",
       "      <td>95652.0</td>\n",
       "      <td>274673</td>\n",
       "      <td>1.0</td>\n",
       "      <td>0</td>\n",
       "      <td>95.0</td>\n",
       "      <td>3.166667</td>\n",
       "      <td>0.260274</td>\n",
       "      <td>25.739726</td>\n",
       "      <td>...</td>\n",
       "      <td>0.0</td>\n",
       "      <td>0.0</td>\n",
       "      <td>0.0</td>\n",
       "      <td>0.0</td>\n",
       "      <td>0.0</td>\n",
       "      <td>0.0</td>\n",
       "      <td>0.0</td>\n",
       "      <td>0.0</td>\n",
       "      <td>0.0</td>\n",
       "      <td>0.0</td>\n",
       "    </tr>\n",
       "    <tr>\n",
       "      <th>6888421</th>\n",
       "      <td>12865076</td>\n",
       "      <td>5.0</td>\n",
       "      <td>99868.0</td>\n",
       "      <td>1009000</td>\n",
       "      <td>1.0</td>\n",
       "      <td>0</td>\n",
       "      <td>200.0</td>\n",
       "      <td>6.666667</td>\n",
       "      <td>0.547945</td>\n",
       "      <td>25.452055</td>\n",
       "      <td>...</td>\n",
       "      <td>0.0</td>\n",
       "      <td>0.0</td>\n",
       "      <td>0.0</td>\n",
       "      <td>0.0</td>\n",
       "      <td>0.0</td>\n",
       "      <td>0.0</td>\n",
       "      <td>0.0</td>\n",
       "      <td>0.0</td>\n",
       "      <td>0.0</td>\n",
       "      <td>0.0</td>\n",
       "    </tr>\n",
       "    <tr>\n",
       "      <th>6714875</th>\n",
       "      <td>12811488</td>\n",
       "      <td>7.0</td>\n",
       "      <td>237704.0</td>\n",
       "      <td>5542423</td>\n",
       "      <td>1.0</td>\n",
       "      <td>0</td>\n",
       "      <td>207.0</td>\n",
       "      <td>6.900000</td>\n",
       "      <td>0.567123</td>\n",
       "      <td>25.432877</td>\n",
       "      <td>...</td>\n",
       "      <td>0.0</td>\n",
       "      <td>0.0</td>\n",
       "      <td>0.0</td>\n",
       "      <td>0.0</td>\n",
       "      <td>0.0</td>\n",
       "      <td>0.0</td>\n",
       "      <td>0.0</td>\n",
       "      <td>0.0</td>\n",
       "      <td>0.0</td>\n",
       "      <td>0.0</td>\n",
       "    </tr>\n",
       "    <tr>\n",
       "      <th>2385840</th>\n",
       "      <td>13369079</td>\n",
       "      <td>9.0</td>\n",
       "      <td>95310.0</td>\n",
       "      <td>112259</td>\n",
       "      <td>1.0</td>\n",
       "      <td>0</td>\n",
       "      <td>137.0</td>\n",
       "      <td>4.566667</td>\n",
       "      <td>0.375342</td>\n",
       "      <td>25.624658</td>\n",
       "      <td>...</td>\n",
       "      <td>0.0</td>\n",
       "      <td>0.0</td>\n",
       "      <td>0.0</td>\n",
       "      <td>0.0</td>\n",
       "      <td>0.0</td>\n",
       "      <td>0.0</td>\n",
       "      <td>0.0</td>\n",
       "      <td>0.0</td>\n",
       "      <td>0.0</td>\n",
       "      <td>0.0</td>\n",
       "    </tr>\n",
       "    <tr>\n",
       "      <th>3706429</th>\n",
       "      <td>13257415</td>\n",
       "      <td>11.0</td>\n",
       "      <td>241904.0</td>\n",
       "      <td>5306539</td>\n",
       "      <td>1.0</td>\n",
       "      <td>0</td>\n",
       "      <td>151.0</td>\n",
       "      <td>5.033333</td>\n",
       "      <td>0.413699</td>\n",
       "      <td>25.586301</td>\n",
       "      <td>...</td>\n",
       "      <td>0.0</td>\n",
       "      <td>0.0</td>\n",
       "      <td>0.0</td>\n",
       "      <td>0.0</td>\n",
       "      <td>0.0</td>\n",
       "      <td>0.0</td>\n",
       "      <td>0.0</td>\n",
       "      <td>0.0</td>\n",
       "      <td>0.0</td>\n",
       "      <td>0.0</td>\n",
       "    </tr>\n",
       "  </tbody>\n",
       "</table>\n",
       "<p>5 rows × 65 columns</p>\n",
       "</div>"
      ],
      "text/plain": [
       "         album_id  artist_albuns  artist_fans  artist_id  artist_radio  context_type  diff_ts_listen_AND_release_date_D  diff_ts_listen_AND_release_date_M  diff_ts_listen_AND_release_date_Y  \\\n",
       "1209271  13677550           12.0      95652.0     274673           1.0             0                               95.0                           3.166667                           0.260274   \n",
       "6888421  12865076            5.0      99868.0    1009000           1.0             0                              200.0                           6.666667                           0.547945   \n",
       "6714875  12811488            7.0     237704.0    5542423           1.0             0                              207.0                           6.900000                           0.567123   \n",
       "2385840  13369079            9.0      95310.0     112259           1.0             0                              137.0                           4.566667                           0.375342   \n",
       "3706429  13257415           11.0     241904.0    5306539           1.0             0                              151.0                           5.033333                           0.413699   \n",
       "\n",
       "         diff_user_song_age                  ...                    flow_listened_delayed_3  flow_listened_delayed_4  flows_listened_last_10_delayed_1  flows_listened_last_10_delayed_2  \\\n",
       "1209271           25.739726                  ...                                        0.0                      0.0                               0.0                               0.0   \n",
       "6888421           25.452055                  ...                                        0.0                      0.0                               0.0                               0.0   \n",
       "6714875           25.432877                  ...                                        0.0                      0.0                               0.0                               0.0   \n",
       "2385840           25.624658                  ...                                        0.0                      0.0                               0.0                               0.0   \n",
       "3706429           25.586301                  ...                                        0.0                      0.0                               0.0                               0.0   \n",
       "\n",
       "         flows_listened_last_10_delayed_3  flows_listened_last_10_delayed_4  flows_listened_mean_last_10_delayed_1  flows_listened_mean_last_10_delayed_2  flows_listened_mean_last_10_delayed_3  \\\n",
       "1209271                               0.0                               0.0                                    0.0                                    0.0                                    0.0   \n",
       "6888421                               0.0                               0.0                                    0.0                                    0.0                                    0.0   \n",
       "6714875                               0.0                               0.0                                    0.0                                    0.0                                    0.0   \n",
       "2385840                               0.0                               0.0                                    0.0                                    0.0                                    0.0   \n",
       "3706429                               0.0                               0.0                                    0.0                                    0.0                                    0.0   \n",
       "\n",
       "         flows_listened_mean_last_10_delayed_4  \n",
       "1209271                                    0.0  \n",
       "6888421                                    0.0  \n",
       "6714875                                    0.0  \n",
       "2385840                                    0.0  \n",
       "3706429                                    0.0  \n",
       "\n",
       "[5 rows x 65 columns]"
      ]
     },
     "execution_count": 124,
     "metadata": {},
     "output_type": "execute_result"
    }
   ],
   "source": [
    "#pd.set_option('display.height', 1000)\n",
    "#pd.set_option('display.max_rows', 500)\n",
    "#pd.set_option('display.max_columns', 500)\n",
    "pd.set_option('display.width', 200)\n",
    "#pd.set_option(\"precision\", 2)\n",
    "df_train.head()"
   ]
  },
  {
   "cell_type": "code",
   "execution_count": 125,
   "metadata": {
    "autoscroll": "json-false",
    "collapsed": false,
    "deletable": true,
    "editable": true,
    "ein.tags": [
     "worksheet-0"
    ],
    "slideshow": {
     "slide_type": "-"
    }
   },
   "outputs": [],
   "source": [
    "# pd.isnull(df_train).sum()[pd.isnull(df_train).sum() > 0]"
   ]
  },
  {
   "cell_type": "code",
   "execution_count": 126,
   "metadata": {
    "autoscroll": "json-false",
    "collapsed": false,
    "deletable": true,
    "editable": true,
    "ein.tags": [
     "worksheet-0"
    ],
    "slideshow": {
     "slide_type": "-"
    }
   },
   "outputs": [],
   "source": [
    "# df_train[df_train[\"release_date_YEAR\"] == 1900][[\"media_id\", \"ts_listen\"]]"
   ]
  },
  {
   "cell_type": "code",
   "execution_count": 127,
   "metadata": {
    "autoscroll": "json-false",
    "collapsed": false,
    "deletable": true,
    "editable": true,
    "ein.tags": [
     "worksheet-0"
    ],
    "slideshow": {
     "slide_type": "-"
    }
   },
   "outputs": [],
   "source": [
    "# df_train[df_train[\"release_date_YEAR\"] == 1900][[\"media_id\", \"ts_listen\"]]"
   ]
  },
  {
   "cell_type": "markdown",
   "metadata": {
    "deletable": true,
    "editable": true,
    "ein.tags": [
     "worksheet-0"
    ],
    "slideshow": {
     "slide_type": "-"
    }
   },
   "source": [
    "### Append User Specific"
   ]
  },
  {
   "cell_type": "code",
   "execution_count": 128,
   "metadata": {
    "autoscroll": "json-false",
    "collapsed": false,
    "deletable": true,
    "editable": true,
    "ein.tags": [
     "worksheet-0"
    ],
    "slideshow": {
     "slide_type": "-"
    }
   },
   "outputs": [
    {
     "data": {
      "text/plain": [
       "array(['user_id', 'nmidia_regular_listened', 'nmidia_with_flow_listened',\n",
       "       'nmidia_regular', 'nmidia_with_flow',\n",
       "       'nmidia_with_flow_listened_PROP', 'nmidia_regular_listened_PROP',\n",
       "       'nmidia_PROP_diff'], dtype=object)"
      ]
     },
     "execution_count": 128,
     "metadata": {},
     "output_type": "execute_result"
    }
   ],
   "source": [
    "df_user = pd.read_csv(\"../data/nmidia_feats.csv\", sep=\";\")\n",
    "# pd.isnull(df_user).sum()[pd.isnull(df_user).sum() > 0]\n",
    "\n",
    "\n",
    "#df_user = df_user.drop([\"nmidia_with_flow_listened_PROP\", \"nmidia_regular_listened_PROP\", \"nmidia_PROP_diff\"], axis=1)\n",
    "df_user.fillna(0, inplace=True)\n",
    "\n",
    "df_user[\"nmidia_PROP_diff\"] = df_user['nmidia_with_flow_listened_PROP'] - df_user['nmidia_regular_listened_PROP']\n",
    "\n",
    "df_user.columns.values"
   ]
  },
  {
   "cell_type": "code",
   "execution_count": 129,
   "metadata": {
    "autoscroll": "json-false",
    "collapsed": false,
    "deletable": true,
    "editable": true,
    "ein.tags": [
     "worksheet-0"
    ],
    "slideshow": {
     "slide_type": "-"
    }
   },
   "outputs": [
    {
     "name": "stdout",
     "output_type": "stream",
     "text": [
      "4750.400672\n",
      "12.415712\n"
     ]
    },
    {
     "data": {
      "text/plain": [
       "98"
      ]
     },
     "execution_count": 129,
     "metadata": {},
     "output_type": "execute_result"
    }
   ],
   "source": [
    "# x = pd.isnull(df_user).sum()\n",
    "# x[x > 0]\n",
    "\n",
    "import sys\n",
    "print(sys.getsizeof(df_train) / 1e6)\n",
    "print(sys.getsizeof(df_test) / 1e6)\n",
    "\n",
    "import gc\n",
    "gc.collect()\n",
    "\n",
    "#del df_train_"
   ]
  },
  {
   "cell_type": "code",
   "execution_count": 130,
   "metadata": {
    "collapsed": false,
    "deletable": true,
    "editable": true
   },
   "outputs": [],
   "source": [
    "# df_test.to_csv(\"../data/test_ts.csv\")\n",
    "# df_train.to_csv(\"../data/train_ts.csv\")\n",
    "# #!rm ../data/test_ts.csv"
   ]
  },
  {
   "cell_type": "code",
   "execution_count": 131,
   "metadata": {
    "autoscroll": "json-false",
    "collapsed": false,
    "deletable": true,
    "editable": true,
    "ein.tags": [
     "worksheet-0"
    ],
    "slideshow": {
     "slide_type": "-"
    }
   },
   "outputs": [
    {
     "data": {
      "text/html": [
       "<div>\n",
       "<table border=\"1\" class=\"dataframe\">\n",
       "  <thead>\n",
       "    <tr style=\"text-align: right;\">\n",
       "      <th></th>\n",
       "      <th>album_id</th>\n",
       "      <th>artist_albuns</th>\n",
       "      <th>artist_fans</th>\n",
       "      <th>artist_id</th>\n",
       "      <th>artist_radio</th>\n",
       "      <th>context_type</th>\n",
       "      <th>diff_ts_listen_AND_release_date_D</th>\n",
       "      <th>diff_ts_listen_AND_release_date_M</th>\n",
       "      <th>diff_ts_listen_AND_release_date_Y</th>\n",
       "      <th>diff_user_song_age</th>\n",
       "      <th>...</th>\n",
       "      <th>flows_listened_mean_last_10_delayed_2</th>\n",
       "      <th>flows_listened_mean_last_10_delayed_3</th>\n",
       "      <th>flows_listened_mean_last_10_delayed_4</th>\n",
       "      <th>nmidia_regular_listened</th>\n",
       "      <th>nmidia_with_flow_listened</th>\n",
       "      <th>nmidia_regular</th>\n",
       "      <th>nmidia_with_flow</th>\n",
       "      <th>nmidia_with_flow_listened_PROP</th>\n",
       "      <th>nmidia_regular_listened_PROP</th>\n",
       "      <th>nmidia_PROP_diff</th>\n",
       "    </tr>\n",
       "  </thead>\n",
       "  <tbody>\n",
       "    <tr>\n",
       "      <th>0</th>\n",
       "      <td>13677550</td>\n",
       "      <td>12.0</td>\n",
       "      <td>95652.0</td>\n",
       "      <td>274673</td>\n",
       "      <td>1.0</td>\n",
       "      <td>0</td>\n",
       "      <td>95.0</td>\n",
       "      <td>3.166667</td>\n",
       "      <td>0.260274</td>\n",
       "      <td>25.739726</td>\n",
       "      <td>...</td>\n",
       "      <td>0.0</td>\n",
       "      <td>0.0</td>\n",
       "      <td>0.0</td>\n",
       "      <td>1695</td>\n",
       "      <td>833</td>\n",
       "      <td>1710</td>\n",
       "      <td>848</td>\n",
       "      <td>0.982311</td>\n",
       "      <td>0.991228</td>\n",
       "      <td>-0.008917</td>\n",
       "    </tr>\n",
       "    <tr>\n",
       "      <th>1</th>\n",
       "      <td>12865076</td>\n",
       "      <td>5.0</td>\n",
       "      <td>99868.0</td>\n",
       "      <td>1009000</td>\n",
       "      <td>1.0</td>\n",
       "      <td>0</td>\n",
       "      <td>200.0</td>\n",
       "      <td>6.666667</td>\n",
       "      <td>0.547945</td>\n",
       "      <td>25.452055</td>\n",
       "      <td>...</td>\n",
       "      <td>0.0</td>\n",
       "      <td>0.0</td>\n",
       "      <td>0.0</td>\n",
       "      <td>1695</td>\n",
       "      <td>833</td>\n",
       "      <td>1710</td>\n",
       "      <td>848</td>\n",
       "      <td>0.982311</td>\n",
       "      <td>0.991228</td>\n",
       "      <td>-0.008917</td>\n",
       "    </tr>\n",
       "    <tr>\n",
       "      <th>2</th>\n",
       "      <td>12811488</td>\n",
       "      <td>7.0</td>\n",
       "      <td>237704.0</td>\n",
       "      <td>5542423</td>\n",
       "      <td>1.0</td>\n",
       "      <td>0</td>\n",
       "      <td>207.0</td>\n",
       "      <td>6.900000</td>\n",
       "      <td>0.567123</td>\n",
       "      <td>25.432877</td>\n",
       "      <td>...</td>\n",
       "      <td>0.0</td>\n",
       "      <td>0.0</td>\n",
       "      <td>0.0</td>\n",
       "      <td>1695</td>\n",
       "      <td>833</td>\n",
       "      <td>1710</td>\n",
       "      <td>848</td>\n",
       "      <td>0.982311</td>\n",
       "      <td>0.991228</td>\n",
       "      <td>-0.008917</td>\n",
       "    </tr>\n",
       "    <tr>\n",
       "      <th>3</th>\n",
       "      <td>13369079</td>\n",
       "      <td>9.0</td>\n",
       "      <td>95310.0</td>\n",
       "      <td>112259</td>\n",
       "      <td>1.0</td>\n",
       "      <td>0</td>\n",
       "      <td>137.0</td>\n",
       "      <td>4.566667</td>\n",
       "      <td>0.375342</td>\n",
       "      <td>25.624658</td>\n",
       "      <td>...</td>\n",
       "      <td>0.0</td>\n",
       "      <td>0.0</td>\n",
       "      <td>0.0</td>\n",
       "      <td>1695</td>\n",
       "      <td>833</td>\n",
       "      <td>1710</td>\n",
       "      <td>848</td>\n",
       "      <td>0.982311</td>\n",
       "      <td>0.991228</td>\n",
       "      <td>-0.008917</td>\n",
       "    </tr>\n",
       "    <tr>\n",
       "      <th>4</th>\n",
       "      <td>13257415</td>\n",
       "      <td>11.0</td>\n",
       "      <td>241904.0</td>\n",
       "      <td>5306539</td>\n",
       "      <td>1.0</td>\n",
       "      <td>0</td>\n",
       "      <td>151.0</td>\n",
       "      <td>5.033333</td>\n",
       "      <td>0.413699</td>\n",
       "      <td>25.586301</td>\n",
       "      <td>...</td>\n",
       "      <td>0.0</td>\n",
       "      <td>0.0</td>\n",
       "      <td>0.0</td>\n",
       "      <td>1695</td>\n",
       "      <td>833</td>\n",
       "      <td>1710</td>\n",
       "      <td>848</td>\n",
       "      <td>0.982311</td>\n",
       "      <td>0.991228</td>\n",
       "      <td>-0.008917</td>\n",
       "    </tr>\n",
       "  </tbody>\n",
       "</table>\n",
       "<p>5 rows × 72 columns</p>\n",
       "</div>"
      ],
      "text/plain": [
       "   album_id  artist_albuns  artist_fans  artist_id  artist_radio  context_type  diff_ts_listen_AND_release_date_D  diff_ts_listen_AND_release_date_M  diff_ts_listen_AND_release_date_Y  \\\n",
       "0  13677550           12.0      95652.0     274673           1.0             0                               95.0                           3.166667                           0.260274   \n",
       "1  12865076            5.0      99868.0    1009000           1.0             0                              200.0                           6.666667                           0.547945   \n",
       "2  12811488            7.0     237704.0    5542423           1.0             0                              207.0                           6.900000                           0.567123   \n",
       "3  13369079            9.0      95310.0     112259           1.0             0                              137.0                           4.566667                           0.375342   \n",
       "4  13257415           11.0     241904.0    5306539           1.0             0                              151.0                           5.033333                           0.413699   \n",
       "\n",
       "   diff_user_song_age        ...         flows_listened_mean_last_10_delayed_2  flows_listened_mean_last_10_delayed_3  flows_listened_mean_last_10_delayed_4  nmidia_regular_listened  \\\n",
       "0           25.739726        ...                                           0.0                                    0.0                                    0.0                     1695   \n",
       "1           25.452055        ...                                           0.0                                    0.0                                    0.0                     1695   \n",
       "2           25.432877        ...                                           0.0                                    0.0                                    0.0                     1695   \n",
       "3           25.624658        ...                                           0.0                                    0.0                                    0.0                     1695   \n",
       "4           25.586301        ...                                           0.0                                    0.0                                    0.0                     1695   \n",
       "\n",
       "   nmidia_with_flow_listened  nmidia_regular  nmidia_with_flow  nmidia_with_flow_listened_PROP  nmidia_regular_listened_PROP  nmidia_PROP_diff  \n",
       "0                        833            1710               848                        0.982311                      0.991228         -0.008917  \n",
       "1                        833            1710               848                        0.982311                      0.991228         -0.008917  \n",
       "2                        833            1710               848                        0.982311                      0.991228         -0.008917  \n",
       "3                        833            1710               848                        0.982311                      0.991228         -0.008917  \n",
       "4                        833            1710               848                        0.982311                      0.991228         -0.008917  \n",
       "\n",
       "[5 rows x 72 columns]"
      ]
     },
     "execution_count": 131,
     "metadata": {},
     "output_type": "execute_result"
    }
   ],
   "source": [
    "df_train = pd.merge(df_train, df_user, on=\"user_id\")\n",
    "df_test = pd.merge(df_test, df_user, on=\"user_id\")\n",
    "df_train.head()"
   ]
  },
  {
   "cell_type": "code",
   "execution_count": null,
   "metadata": {
    "collapsed": true,
    "deletable": true,
    "editable": true
   },
   "outputs": [],
   "source": []
  },
  {
   "cell_type": "code",
   "execution_count": null,
   "metadata": {
    "collapsed": false,
    "deletable": true,
    "editable": true
   },
   "outputs": [],
   "source": []
  },
  {
   "cell_type": "markdown",
   "metadata": {
    "deletable": true,
    "editable": true,
    "ein.tags": [
     "worksheet-0"
    ],
    "slideshow": {
     "slide_type": "-"
    }
   },
   "source": [
    "### Check for NA\n",
    "#### Ver depois sobre o user_age_group!"
   ]
  },
  {
   "cell_type": "code",
   "execution_count": 132,
   "metadata": {
    "autoscroll": "json-false",
    "collapsed": false,
    "deletable": true,
    "editable": true,
    "ein.tags": [
     "worksheet-0"
    ],
    "slideshow": {
     "slide_type": "-"
    }
   },
   "outputs": [],
   "source": [
    "# x = pd.isnull(df_train).sum()\n",
    "# x[x > 0]"
   ]
  },
  {
   "cell_type": "code",
   "execution_count": 133,
   "metadata": {
    "autoscroll": "json-false",
    "collapsed": false,
    "deletable": true,
    "editable": true,
    "ein.tags": [
     "worksheet-0"
    ],
    "slideshow": {
     "slide_type": "-"
    }
   },
   "outputs": [],
   "source": [
    "# df_train.dropna(inplace=True)"
   ]
  },
  {
   "cell_type": "code",
   "execution_count": 134,
   "metadata": {
    "autoscroll": "json-false",
    "collapsed": false,
    "deletable": true,
    "editable": true,
    "ein.tags": [
     "worksheet-0"
    ],
    "slideshow": {
     "slide_type": "-"
    }
   },
   "outputs": [],
   "source": [
    "# x = pd.isnull(df_train).sum()\n",
    "# x[x > 0]\n",
    "# del x"
   ]
  },
  {
   "cell_type": "code",
   "execution_count": 135,
   "metadata": {
    "autoscroll": "json-false",
    "collapsed": false,
    "deletable": true,
    "editable": true,
    "ein.tags": [
     "worksheet-0"
    ],
    "slideshow": {
     "slide_type": "-"
    }
   },
   "outputs": [],
   "source": [
    "y = df_train[\"is_listened\"].values"
   ]
  },
  {
   "cell_type": "code",
   "execution_count": 136,
   "metadata": {
    "autoscroll": "json-false",
    "collapsed": false,
    "deletable": true,
    "editable": true,
    "ein.tags": [
     "worksheet-0"
    ],
    "slideshow": {
     "slide_type": "-"
    }
   },
   "outputs": [],
   "source": [
    "categorical_cols = [\"genre_id\",\n",
    "                   \"media_id\",\n",
    "                   \"album_id\",\n",
    "                   \"context_type\",\n",
    "                   \"release_date\",\n",
    "                   \"platform_name\",\n",
    "                   \"platform_family\",\n",
    "                   \"listen_type\",\n",
    "                   \"user_gender\",\n",
    "                   \"user_id\",\n",
    "                   \"artist_id\",\n",
    "                   \"user_age\"]"
   ]
  },
  {
   "cell_type": "code",
   "execution_count": 137,
   "metadata": {
    "collapsed": false,
    "deletable": true,
    "editable": true
   },
   "outputs": [
    {
     "name": "stdout",
     "output_type": "stream",
     "text": [
      "72\n",
      "72\n"
     ]
    }
   ],
   "source": [
    "print(len(df_train.columns))\n",
    "print(len(set(df_train.columns)))"
   ]
  },
  {
   "cell_type": "markdown",
   "metadata": {
    "deletable": true,
    "editable": true,
    "ein.tags": [
     "worksheet-0"
    ],
    "slideshow": {
     "slide_type": "-"
    }
   },
   "source": [
    "### Let's inspect the categorical variables!"
   ]
  },
  {
   "cell_type": "code",
   "execution_count": 138,
   "metadata": {
    "autoscroll": "json-false",
    "collapsed": false,
    "deletable": true,
    "editable": true,
    "ein.tags": [
     "worksheet-0"
    ],
    "slideshow": {
     "slide_type": "-"
    }
   },
   "outputs": [
    {
     "name": "stdout",
     "output_type": "stream",
     "text": [
      "genre_id: 2905\n",
      "media_id: 448845\n",
      "album_id: 150115\n",
      "context_type: 74\n",
      "release_date: 8872\n",
      "platform_name: 3\n",
      "platform_family: 3\n",
      "listen_type: 2\n",
      "user_gender: 2\n",
      "user_id: 19054\n",
      "artist_id: 66524\n",
      "user_age: 13\n"
     ]
    }
   ],
   "source": [
    "for col in categorical_cols:\n",
    "    print(\"{}: {}\".format(col, len(df_train[col].unique())))"
   ]
  },
  {
   "cell_type": "markdown",
   "metadata": {
    "deletable": true,
    "editable": true,
    "ein.tags": [
     "worksheet-0"
    ],
    "slideshow": {
     "slide_type": "-"
    }
   },
   "source": [
    "### Strategy\n",
    "1. Apply onehot to categorical with few classes\n",
    "2. Rank categories to artist id\n",
    "3. target encoder for context and genre\n",
    "4. discard media, album, release date and user_id"
   ]
  },
  {
   "cell_type": "code",
   "execution_count": 139,
   "metadata": {
    "autoscroll": "json-false",
    "collapsed": false,
    "deletable": true,
    "editable": true,
    "ein.tags": [
     "worksheet-0"
    ],
    "slideshow": {
     "slide_type": "-"
    }
   },
   "outputs": [],
   "source": [
    "from greenpyce.feature_engineering import TargetEncoder\n",
    "from greenpyce.feature_engineering import onehot\n",
    "from greenpyce.feature_engineering import RankCategorical\n",
    "from greenpyce.feature_engineering import LabelCount"
   ]
  },
  {
   "cell_type": "code",
   "execution_count": 140,
   "metadata": {
    "autoscroll": "json-false",
    "collapsed": false,
    "deletable": true,
    "editable": true,
    "ein.tags": [
     "worksheet-0"
    ],
    "slideshow": {
     "slide_type": "-"
    }
   },
   "outputs": [
    {
     "data": {
      "text/plain": [
       "array(['album_id', 'artist_albuns', 'artist_fans', 'artist_id',\n",
       "       'artist_radio', 'context_type', 'diff_ts_listen_AND_release_date_D',\n",
       "       'diff_ts_listen_AND_release_date_M',\n",
       "       'diff_ts_listen_AND_release_date_Y', 'diff_user_song_age',\n",
       "       'genre_id', 'is_listened', 'is_train', 'listen_type', 'media_bpm',\n",
       "       'media_decade', 'media_duration', 'media_id', 'media_rank',\n",
       "       'platform_family', 'platform_name', 'release_date',\n",
       "       'release_date_DAY', 'release_date_MONTH', 'release_date_YEAR',\n",
       "       'sample_id', 'text', 'ts_listen', 'ts_listen_DAY_OF_WEEK',\n",
       "       'ts_listen_PERIOD_OF_DAY', 'user_age', 'user_age_group',\n",
       "       'user_gender', 'user_id', 'user_id_id', 'year',\n",
       "       'diff_last_ts_listen', 'diff_last_ts_listen_delayed_1',\n",
       "       'diff_last_ts_listen_delayed_2', 'diff_last_ts_listen_delayed_3',\n",
       "       'diff_last_ts_listen_delayed_4', 'is_listened_delayed_1',\n",
       "       'is_listened_delayed_2', 'is_listened_delayed_3',\n",
       "       'is_listened_delayed_4', 'listen_type_delayed_1',\n",
       "       'listen_type_delayed_2', 'listen_type_delayed_3',\n",
       "       'listen_type_delayed_4', 'media_bpm_delayed_1',\n",
       "       'media_bpm_delayed_2', 'media_bpm_delayed_3', 'media_bpm_delayed_4',\n",
       "       'flow_listened_delayed_1', 'flow_listened_delayed_2',\n",
       "       'flow_listened_delayed_3', 'flow_listened_delayed_4',\n",
       "       'flows_listened_last_10_delayed_1',\n",
       "       'flows_listened_last_10_delayed_2',\n",
       "       'flows_listened_last_10_delayed_3',\n",
       "       'flows_listened_last_10_delayed_4',\n",
       "       'flows_listened_mean_last_10_delayed_1',\n",
       "       'flows_listened_mean_last_10_delayed_2',\n",
       "       'flows_listened_mean_last_10_delayed_3',\n",
       "       'flows_listened_mean_last_10_delayed_4', 'nmidia_regular_listened',\n",
       "       'nmidia_with_flow_listened', 'nmidia_regular', 'nmidia_with_flow',\n",
       "       'nmidia_with_flow_listened_PROP', 'nmidia_regular_listened_PROP',\n",
       "       'nmidia_PROP_diff'], dtype=object)"
      ]
     },
     "execution_count": 140,
     "metadata": {},
     "output_type": "execute_result"
    }
   ],
   "source": [
    "df_train.columns.values"
   ]
  },
  {
   "cell_type": "markdown",
   "metadata": {
    "deletable": true,
    "editable": true,
    "ein.tags": [
     "worksheet-0"
    ],
    "slideshow": {
     "slide_type": "-"
    }
   },
   "source": [
    "Index([u'Unnamed: 0', u'Unnamed: 0.1', u'genre_id', u'ts_listen', u'media_id',\n",
    "       u'album_id', u'context_type', u'release_date', u'platform_name',\n",
    "       u'platform_family', u'media_duration', u'listen_type', u'user_gender',\n",
    "       u'user_id', u'artist_id', u'user_age', u'is_listened', u'text', u'year',\n",
    "       u'diff_ts_listen_AND_release_date_D',\n",
    "       u'diff_ts_listen_AND_release_date_M',\n",
    "       u'diff_ts_listen_AND_release_date_Y', u'release_date_DAY',\n",
    "       u'release_date_MONTH', u'release_date_YEAR', u'ts_listen_DAY_OF_WEEK',\n",
    "       u'ts_listen_PERIOD_OF_DAY', u'user_age_group', u'diff_user_song_age',\n",
    "       u'media_decade'],\n",
    "      dtype='object')"
   ]
  },
  {
   "cell_type": "markdown",
   "metadata": {
    "deletable": true,
    "editable": true
   },
   "source": [
    "('media_rank', 108554)\n",
    "('media_bpm', 105514)\n",
    "('diff_user_song_age', 100350)\n",
    "('artist_fans', 99141)\n",
    "('artist_albuns', 95015)\n",
    "('album_id', 80906)\n",
    "('diff_ts_listen_AND_release_date_Y', 77166)\n",
    "('media_id', 73054)\n",
    "('nmidia_regular_listened_PROP', 71187)\n",
    "('nmidia_regular_listened', 69962)\n",
    "('nmidia_PROP_diff', 64373)\n",
    "('nmidia_with_flow_listened', 62142)\n",
    "('nmidia_regular', 59499)\n",
    "('nmidia_with_flow', 57739)\n",
    "('user_id', 56269)\n",
    "('nmidia_with_flow_listened_PROP', 55801)\n",
    "('genre_id', 36985)\n",
    "('context_type', 29875)\n",
    "('ts_listen_PERIOD_OF_DAY_1', 26963)\n",
    "('media_duration', 23570)\n",
    "('release_date_YEAR', 18939)\n",
    "('user_gender_1', 15002)\n",
    "('ts_listen_PERIOD_OF_DAY_2', 10208)\n",
    "('ts_listen_DAY_OF_WEEK_1', 9843)\n",
    "('ts_listen_DAY_OF_WEEK_3', 9767)\n",
    "('ts_listen_DAY_OF_WEEK_4', 9611)\n",
    "('ts_listen_DAY_OF_WEEK_5', 9029)"
   ]
  },
  {
   "cell_type": "code",
   "execution_count": 141,
   "metadata": {
    "autoscroll": "json-false",
    "collapsed": false,
    "deletable": true,
    "editable": true,
    "ein.tags": [
     "worksheet-0"
    ],
    "slideshow": {
     "slide_type": "-"
    }
   },
   "outputs": [],
   "source": [
    "cols_for_target_encoder = [\"user_id\"]\n",
    "\n",
    "cols_for_onehot = [\"platform_name\", \n",
    "                   \"platform_family\", \n",
    "                   \"user_age\",\n",
    "                   \"listen_type\",\n",
    "                   \"artist_radio\",\n",
    "                   \"user_age_group\",\n",
    "                   \"media_decade\",\n",
    "                   \"user_gender\", \n",
    "                   \"ts_listen_DAY_OF_WEEK\",\n",
    "                   \"ts_listen_PERIOD_OF_DAY\"]\n",
    "\n",
    "cols_for_rank = [\"artist_id\",\n",
    "                 \"genre_id\",\n",
    "                \"artist_fans\",\n",
    "                \"media_id\", \n",
    "                 \"album_id\",\n",
    "                \"context_type\"]\n",
    "\n",
    "\n",
    "target = \"is_listened\"\n",
    "\n",
    "\n",
    "\n",
    "###########################\n",
    "\n",
    "cols_for_target_encoder = [\"genre_id\", \n",
    "                           \"context_type\", \n",
    "                           \"user_id\", \n",
    "                           \"media_id\", \n",
    "                           \"album_id\",\n",
    "                           \"listen_type\"]\n",
    "\n",
    "cols_for_onehot = [\"platform_name\", \n",
    "                   \"platform_family\", \n",
    "                   \"user_age\",\n",
    "                   \"artist_radio\",\n",
    "                   \"user_age_group\",\n",
    "                   \"media_decade\",\n",
    "                   \"user_gender\", \n",
    "                   \"ts_listen_DAY_OF_WEEK\",\n",
    "                  \"ts_listen_PERIOD_OF_DAY\"]\n",
    "\n",
    "cols_for_rank = [\"artist_id\",\n",
    "                \"artist_fans\"]\n",
    "\n",
    "\n",
    "target = \"is_listened\""
   ]
  },
  {
   "cell_type": "code",
   "execution_count": null,
   "metadata": {
    "collapsed": true,
    "deletable": true,
    "editable": true
   },
   "outputs": [],
   "source": []
  },
  {
   "cell_type": "code",
   "execution_count": 142,
   "metadata": {
    "autoscroll": "json-false",
    "collapsed": false,
    "deletable": true,
    "editable": true,
    "ein.tags": [
     "worksheet-0"
    ],
    "slideshow": {
     "slide_type": "-"
    }
   },
   "outputs": [],
   "source": [
    "te = TargetEncoder(cols_for_target_encoder, \"is_listened\")"
   ]
  },
  {
   "cell_type": "code",
   "execution_count": 143,
   "metadata": {
    "autoscroll": "json-false",
    "collapsed": false,
    "deletable": true,
    "editable": true,
    "ein.tags": [
     "worksheet-0"
    ],
    "slideshow": {
     "slide_type": "-"
    }
   },
   "outputs": [],
   "source": [
    "te.fit(df_train)"
   ]
  },
  {
   "cell_type": "code",
   "execution_count": 144,
   "metadata": {
    "autoscroll": "json-false",
    "collapsed": false,
    "deletable": true,
    "editable": true,
    "ein.tags": [
     "worksheet-0"
    ],
    "slideshow": {
     "slide_type": "-"
    }
   },
   "outputs": [],
   "source": [
    "te.transform(df_train)\n",
    "te.transform(df_test)\n",
    "del te"
   ]
  },
  {
   "cell_type": "code",
   "execution_count": 145,
   "metadata": {
    "collapsed": false,
    "deletable": true,
    "editable": true
   },
   "outputs": [
    {
     "name": "stdout",
     "output_type": "stream",
     "text": [
      "das\n"
     ]
    }
   ],
   "source": [
    "print(\"das\")"
   ]
  },
  {
   "cell_type": "code",
   "execution_count": 146,
   "metadata": {
    "collapsed": false,
    "deletable": true,
    "editable": true
   },
   "outputs": [
    {
     "name": "stdout",
     "output_type": "stream",
     "text": [
      "teste\n"
     ]
    }
   ],
   "source": [
    "print(\"teste\")"
   ]
  },
  {
   "cell_type": "code",
   "execution_count": 147,
   "metadata": {
    "autoscroll": "json-false",
    "collapsed": false,
    "deletable": true,
    "editable": true,
    "ein.tags": [
     "worksheet-0"
    ],
    "slideshow": {
     "slide_type": "-"
    }
   },
   "outputs": [],
   "source": [
    "rc = RankCategorical(cols_for_rank)\n",
    "rc.fit(df_train)\n",
    "rc.transform(df_train)\n",
    "rc.transform(df_test)\n",
    "del rc"
   ]
  },
  {
   "cell_type": "code",
   "execution_count": 148,
   "metadata": {
    "autoscroll": "json-false",
    "collapsed": false,
    "deletable": true,
    "editable": true,
    "ein.tags": [
     "worksheet-0"
    ],
    "slideshow": {
     "slide_type": "-"
    }
   },
   "outputs": [],
   "source": [
    "# rc = RankCategorical([\"media_decade\"])\n",
    "# rc.fit(df_train)\n",
    "# rc.transform(df_train)\n",
    "# rc.transform(df_test)\n",
    "# del rc"
   ]
  },
  {
   "cell_type": "code",
   "execution_count": 149,
   "metadata": {
    "autoscroll": "json-false",
    "collapsed": false,
    "deletable": true,
    "editable": true,
    "ein.tags": [
     "worksheet-0"
    ],
    "slideshow": {
     "slide_type": "-"
    }
   },
   "outputs": [],
   "source": [
    "# lc = RankCategorical(cols_for_count)\n",
    "# lc.fit(df_train)\n",
    "# lc.transform(df_train)\n",
    "# lc.transform(df_test)"
   ]
  },
  {
   "cell_type": "code",
   "execution_count": 150,
   "metadata": {
    "autoscroll": "json-false",
    "collapsed": false,
    "deletable": true,
    "editable": true,
    "ein.tags": [
     "worksheet-0"
    ],
    "slideshow": {
     "slide_type": "-"
    }
   },
   "outputs": [
    {
     "data": {
      "text/html": [
       "<div>\n",
       "<table border=\"1\" class=\"dataframe\">\n",
       "  <thead>\n",
       "    <tr style=\"text-align: right;\">\n",
       "      <th></th>\n",
       "      <th>album_id</th>\n",
       "      <th>artist_albuns</th>\n",
       "      <th>artist_fans</th>\n",
       "      <th>artist_id</th>\n",
       "      <th>artist_radio</th>\n",
       "      <th>context_type</th>\n",
       "      <th>diff_ts_listen_AND_release_date_D</th>\n",
       "      <th>diff_ts_listen_AND_release_date_M</th>\n",
       "      <th>diff_ts_listen_AND_release_date_Y</th>\n",
       "      <th>diff_user_song_age</th>\n",
       "      <th>...</th>\n",
       "      <th>flows_listened_mean_last_10_delayed_2</th>\n",
       "      <th>flows_listened_mean_last_10_delayed_3</th>\n",
       "      <th>flows_listened_mean_last_10_delayed_4</th>\n",
       "      <th>nmidia_regular_listened</th>\n",
       "      <th>nmidia_with_flow_listened</th>\n",
       "      <th>nmidia_regular</th>\n",
       "      <th>nmidia_with_flow</th>\n",
       "      <th>nmidia_with_flow_listened_PROP</th>\n",
       "      <th>nmidia_regular_listened_PROP</th>\n",
       "      <th>nmidia_PROP_diff</th>\n",
       "    </tr>\n",
       "  </thead>\n",
       "  <tbody>\n",
       "    <tr>\n",
       "      <th>0</th>\n",
       "      <td>0.654807</td>\n",
       "      <td>12.0</td>\n",
       "      <td>173</td>\n",
       "      <td>173</td>\n",
       "      <td>1.0</td>\n",
       "      <td>0.688276</td>\n",
       "      <td>95.0</td>\n",
       "      <td>3.166667</td>\n",
       "      <td>0.260274</td>\n",
       "      <td>25.739726</td>\n",
       "      <td>...</td>\n",
       "      <td>0.0</td>\n",
       "      <td>0.0</td>\n",
       "      <td>0.0</td>\n",
       "      <td>1695</td>\n",
       "      <td>833</td>\n",
       "      <td>1710</td>\n",
       "      <td>848</td>\n",
       "      <td>0.982311</td>\n",
       "      <td>0.991228</td>\n",
       "      <td>-0.008917</td>\n",
       "    </tr>\n",
       "    <tr>\n",
       "      <th>1</th>\n",
       "      <td>0.695519</td>\n",
       "      <td>5.0</td>\n",
       "      <td>138</td>\n",
       "      <td>138</td>\n",
       "      <td>1.0</td>\n",
       "      <td>0.688276</td>\n",
       "      <td>200.0</td>\n",
       "      <td>6.666667</td>\n",
       "      <td>0.547945</td>\n",
       "      <td>25.452055</td>\n",
       "      <td>...</td>\n",
       "      <td>0.0</td>\n",
       "      <td>0.0</td>\n",
       "      <td>0.0</td>\n",
       "      <td>1695</td>\n",
       "      <td>833</td>\n",
       "      <td>1710</td>\n",
       "      <td>848</td>\n",
       "      <td>0.982311</td>\n",
       "      <td>0.991228</td>\n",
       "      <td>-0.008917</td>\n",
       "    </tr>\n",
       "    <tr>\n",
       "      <th>2</th>\n",
       "      <td>0.722461</td>\n",
       "      <td>7.0</td>\n",
       "      <td>50</td>\n",
       "      <td>50</td>\n",
       "      <td>1.0</td>\n",
       "      <td>0.688276</td>\n",
       "      <td>207.0</td>\n",
       "      <td>6.900000</td>\n",
       "      <td>0.567123</td>\n",
       "      <td>25.432877</td>\n",
       "      <td>...</td>\n",
       "      <td>0.0</td>\n",
       "      <td>0.0</td>\n",
       "      <td>0.0</td>\n",
       "      <td>1695</td>\n",
       "      <td>833</td>\n",
       "      <td>1710</td>\n",
       "      <td>848</td>\n",
       "      <td>0.982311</td>\n",
       "      <td>0.991228</td>\n",
       "      <td>-0.008917</td>\n",
       "    </tr>\n",
       "    <tr>\n",
       "      <th>3</th>\n",
       "      <td>0.694836</td>\n",
       "      <td>9.0</td>\n",
       "      <td>113</td>\n",
       "      <td>113</td>\n",
       "      <td>1.0</td>\n",
       "      <td>0.688276</td>\n",
       "      <td>137.0</td>\n",
       "      <td>4.566667</td>\n",
       "      <td>0.375342</td>\n",
       "      <td>25.624658</td>\n",
       "      <td>...</td>\n",
       "      <td>0.0</td>\n",
       "      <td>0.0</td>\n",
       "      <td>0.0</td>\n",
       "      <td>1695</td>\n",
       "      <td>833</td>\n",
       "      <td>1710</td>\n",
       "      <td>848</td>\n",
       "      <td>0.982311</td>\n",
       "      <td>0.991228</td>\n",
       "      <td>-0.008917</td>\n",
       "    </tr>\n",
       "    <tr>\n",
       "      <th>4</th>\n",
       "      <td>0.690633</td>\n",
       "      <td>11.0</td>\n",
       "      <td>97</td>\n",
       "      <td>97</td>\n",
       "      <td>1.0</td>\n",
       "      <td>0.688276</td>\n",
       "      <td>151.0</td>\n",
       "      <td>5.033333</td>\n",
       "      <td>0.413699</td>\n",
       "      <td>25.586301</td>\n",
       "      <td>...</td>\n",
       "      <td>0.0</td>\n",
       "      <td>0.0</td>\n",
       "      <td>0.0</td>\n",
       "      <td>1695</td>\n",
       "      <td>833</td>\n",
       "      <td>1710</td>\n",
       "      <td>848</td>\n",
       "      <td>0.982311</td>\n",
       "      <td>0.991228</td>\n",
       "      <td>-0.008917</td>\n",
       "    </tr>\n",
       "  </tbody>\n",
       "</table>\n",
       "<p>5 rows × 72 columns</p>\n",
       "</div>"
      ],
      "text/plain": [
       "   album_id  artist_albuns  artist_fans  artist_id  artist_radio  context_type  diff_ts_listen_AND_release_date_D  diff_ts_listen_AND_release_date_M  diff_ts_listen_AND_release_date_Y  \\\n",
       "0  0.654807           12.0          173        173           1.0      0.688276                               95.0                           3.166667                           0.260274   \n",
       "1  0.695519            5.0          138        138           1.0      0.688276                              200.0                           6.666667                           0.547945   \n",
       "2  0.722461            7.0           50         50           1.0      0.688276                              207.0                           6.900000                           0.567123   \n",
       "3  0.694836            9.0          113        113           1.0      0.688276                              137.0                           4.566667                           0.375342   \n",
       "4  0.690633           11.0           97         97           1.0      0.688276                              151.0                           5.033333                           0.413699   \n",
       "\n",
       "   diff_user_song_age        ...         flows_listened_mean_last_10_delayed_2  flows_listened_mean_last_10_delayed_3  flows_listened_mean_last_10_delayed_4  nmidia_regular_listened  \\\n",
       "0           25.739726        ...                                           0.0                                    0.0                                    0.0                     1695   \n",
       "1           25.452055        ...                                           0.0                                    0.0                                    0.0                     1695   \n",
       "2           25.432877        ...                                           0.0                                    0.0                                    0.0                     1695   \n",
       "3           25.624658        ...                                           0.0                                    0.0                                    0.0                     1695   \n",
       "4           25.586301        ...                                           0.0                                    0.0                                    0.0                     1695   \n",
       "\n",
       "   nmidia_with_flow_listened  nmidia_regular  nmidia_with_flow  nmidia_with_flow_listened_PROP  nmidia_regular_listened_PROP  nmidia_PROP_diff  \n",
       "0                        833            1710               848                        0.982311                      0.991228         -0.008917  \n",
       "1                        833            1710               848                        0.982311                      0.991228         -0.008917  \n",
       "2                        833            1710               848                        0.982311                      0.991228         -0.008917  \n",
       "3                        833            1710               848                        0.982311                      0.991228         -0.008917  \n",
       "4                        833            1710               848                        0.982311                      0.991228         -0.008917  \n",
       "\n",
       "[5 rows x 72 columns]"
      ]
     },
     "execution_count": 150,
     "metadata": {},
     "output_type": "execute_result"
    }
   ],
   "source": [
    "df_train.head()"
   ]
  },
  {
   "cell_type": "code",
   "execution_count": 151,
   "metadata": {
    "autoscroll": "json-false",
    "collapsed": false,
    "deletable": true,
    "editable": true,
    "ein.tags": [
     "worksheet-0"
    ],
    "slideshow": {
     "slide_type": "-"
    }
   },
   "outputs": [],
   "source": [
    "df_train = onehot(df_train, cols_for_onehot)\n",
    "df_test = onehot(df_test, cols_for_onehot)"
   ]
  },
  {
   "cell_type": "code",
   "execution_count": 152,
   "metadata": {
    "autoscroll": "json-false",
    "collapsed": false,
    "deletable": true,
    "editable": true,
    "ein.tags": [
     "worksheet-0"
    ],
    "slideshow": {
     "slide_type": "-"
    }
   },
   "outputs": [
    {
     "name": "stdout",
     "output_type": "stream",
     "text": [
      "   album_id  artist_albuns  artist_fans  artist_id  context_type  diff_ts_listen_AND_release_date_D  diff_ts_listen_AND_release_date_M  diff_ts_listen_AND_release_date_Y  diff_user_song_age  \\\n",
      "0  0.654807           12.0          173        173      0.688276                               95.0                           3.166667                           0.260274           25.739726   \n",
      "1  0.695519            5.0          138        138      0.688276                              200.0                           6.666667                           0.547945           25.452055   \n",
      "2  0.722461            7.0           50         50      0.688276                              207.0                           6.900000                           0.567123           25.432877   \n",
      "3  0.694836            9.0          113        113      0.688276                              137.0                           4.566667                           0.375342           25.624658   \n",
      "4  0.690633           11.0           97         97      0.688276                              151.0                           5.033333                           0.413699           25.586301   \n",
      "\n",
      "   genre_id            ...              user_gender_1  ts_listen_DAY_OF_WEEK_1  ts_listen_DAY_OF_WEEK_2  ts_listen_DAY_OF_WEEK_3  ts_listen_DAY_OF_WEEK_4  ts_listen_DAY_OF_WEEK_5  \\\n",
      "0  0.701645            ...                          0                        1                        0                        0                        0                        0   \n",
      "1  0.701645            ...                          0                        1                        0                        0                        0                        0   \n",
      "2  0.701645            ...                          0                        1                        0                        0                        0                        0   \n",
      "3  0.701645            ...                          0                        1                        0                        0                        0                        0   \n",
      "4  0.701645            ...                          0                        1                        0                        0                        0                        0   \n",
      "\n",
      "   ts_listen_DAY_OF_WEEK_6 ts_listen_PERIOD_OF_DAY_1  ts_listen_PERIOD_OF_DAY_2  ts_listen_PERIOD_OF_DAY_3  \n",
      "0                        0                         0                          0                          1  \n",
      "1                        0                         0                          0                          1  \n",
      "2                        0                         0                          0                          1  \n",
      "3                        0                         0                          0                          1  \n",
      "4                        0                         0                          0                          1  \n",
      "\n",
      "[5 rows x 99 columns]\n"
     ]
    }
   ],
   "source": [
    "print(df_train.head())"
   ]
  },
  {
   "cell_type": "code",
   "execution_count": 153,
   "metadata": {
    "autoscroll": "json-false",
    "collapsed": false,
    "deletable": true,
    "editable": true,
    "ein.tags": [
     "worksheet-0"
    ],
    "slideshow": {
     "slide_type": "-"
    }
   },
   "outputs": [
    {
     "data": {
      "text/plain": [
       "Counter({'album_id': 1,\n",
       "         'artist_albuns': 1,\n",
       "         'artist_fans': 1,\n",
       "         'artist_id': 1,\n",
       "         'context_type': 1,\n",
       "         'diff_last_ts_listen': 1,\n",
       "         'diff_last_ts_listen_delayed_1': 1,\n",
       "         'diff_last_ts_listen_delayed_2': 1,\n",
       "         'diff_last_ts_listen_delayed_3': 1,\n",
       "         'diff_last_ts_listen_delayed_4': 1,\n",
       "         'diff_ts_listen_AND_release_date_D': 1,\n",
       "         'diff_ts_listen_AND_release_date_M': 1,\n",
       "         'diff_ts_listen_AND_release_date_Y': 1,\n",
       "         'diff_user_song_age': 1,\n",
       "         'flow_listened_delayed_1': 1,\n",
       "         'flow_listened_delayed_2': 1,\n",
       "         'flow_listened_delayed_3': 1,\n",
       "         'flow_listened_delayed_4': 1,\n",
       "         'flows_listened_last_10_delayed_1': 1,\n",
       "         'flows_listened_last_10_delayed_2': 1,\n",
       "         'flows_listened_last_10_delayed_3': 1,\n",
       "         'flows_listened_last_10_delayed_4': 1,\n",
       "         'flows_listened_mean_last_10_delayed_1': 1,\n",
       "         'flows_listened_mean_last_10_delayed_2': 1,\n",
       "         'flows_listened_mean_last_10_delayed_3': 1,\n",
       "         'flows_listened_mean_last_10_delayed_4': 1,\n",
       "         'genre_id': 1,\n",
       "         'is_listened': 1,\n",
       "         'is_listened_delayed_1': 1,\n",
       "         'is_listened_delayed_2': 1,\n",
       "         'is_listened_delayed_3': 1,\n",
       "         'is_listened_delayed_4': 1,\n",
       "         'is_train': 1,\n",
       "         'listen_type': 1,\n",
       "         'listen_type_delayed_1': 1,\n",
       "         'listen_type_delayed_2': 1,\n",
       "         'listen_type_delayed_3': 1,\n",
       "         'listen_type_delayed_4': 1,\n",
       "         'media_bpm': 1,\n",
       "         'media_bpm_delayed_1': 1,\n",
       "         'media_bpm_delayed_2': 1,\n",
       "         'media_bpm_delayed_3': 1,\n",
       "         'media_bpm_delayed_4': 1,\n",
       "         'media_decade_1': 1,\n",
       "         'media_decade_2': 1,\n",
       "         'media_decade_3': 1,\n",
       "         'media_decade_4': 1,\n",
       "         'media_decade_5': 1,\n",
       "         'media_decade_6': 1,\n",
       "         'media_decade_7': 1,\n",
       "         'media_decade_8': 1,\n",
       "         'media_duration': 1,\n",
       "         'media_id': 1,\n",
       "         'media_rank': 1,\n",
       "         'nmidia_PROP_diff': 1,\n",
       "         'nmidia_regular': 1,\n",
       "         'nmidia_regular_listened': 1,\n",
       "         'nmidia_regular_listened_PROP': 1,\n",
       "         'nmidia_with_flow': 1,\n",
       "         'nmidia_with_flow_listened': 1,\n",
       "         'nmidia_with_flow_listened_PROP': 1,\n",
       "         'platform_family_1': 1,\n",
       "         'platform_family_2': 1,\n",
       "         'platform_name_1': 1,\n",
       "         'platform_name_2': 1,\n",
       "         'release_date': 1,\n",
       "         'release_date_DAY': 1,\n",
       "         'release_date_MONTH': 1,\n",
       "         'release_date_YEAR': 1,\n",
       "         'sample_id': 1,\n",
       "         'text': 1,\n",
       "         'ts_listen': 1,\n",
       "         'ts_listen_DAY_OF_WEEK_1': 1,\n",
       "         'ts_listen_DAY_OF_WEEK_2': 1,\n",
       "         'ts_listen_DAY_OF_WEEK_3': 1,\n",
       "         'ts_listen_DAY_OF_WEEK_4': 1,\n",
       "         'ts_listen_DAY_OF_WEEK_5': 1,\n",
       "         'ts_listen_DAY_OF_WEEK_6': 1,\n",
       "         'ts_listen_PERIOD_OF_DAY_1': 1,\n",
       "         'ts_listen_PERIOD_OF_DAY_2': 1,\n",
       "         'ts_listen_PERIOD_OF_DAY_3': 1,\n",
       "         'user_age_19': 1,\n",
       "         'user_age_20': 1,\n",
       "         'user_age_21': 1,\n",
       "         'user_age_22': 1,\n",
       "         'user_age_23': 1,\n",
       "         'user_age_24': 1,\n",
       "         'user_age_25': 1,\n",
       "         'user_age_26': 1,\n",
       "         'user_age_27': 1,\n",
       "         'user_age_28': 1,\n",
       "         'user_age_29': 1,\n",
       "         'user_age_30': 1,\n",
       "         'user_age_group_1': 1,\n",
       "         'user_age_group_2': 1,\n",
       "         'user_gender_1': 1,\n",
       "         'user_id': 1,\n",
       "         'user_id_id': 1,\n",
       "         'year': 1})"
      ]
     },
     "execution_count": 153,
     "metadata": {},
     "output_type": "execute_result"
    }
   ],
   "source": [
    "#df_train = rank_categorical(df_train, cols_for_rank)\n",
    "from collections import Counter\n",
    "Counter(list(df_train.columns))"
   ]
  },
  {
   "cell_type": "code",
   "execution_count": 154,
   "metadata": {
    "collapsed": false,
    "deletable": true,
    "editable": true
   },
   "outputs": [
    {
     "name": "stdout",
     "output_type": "stream",
     "text": [
      "99\n",
      "99\n"
     ]
    }
   ],
   "source": [
    "print(len(df_train.columns))\n",
    "print(len(set(df_train.columns)))"
   ]
  },
  {
   "cell_type": "code",
   "execution_count": 155,
   "metadata": {
    "autoscroll": "json-false",
    "collapsed": false,
    "deletable": true,
    "editable": true,
    "ein.tags": [
     "worksheet-0"
    ],
    "slideshow": {
     "slide_type": "-"
    }
   },
   "outputs": [
    {
     "data": {
      "text/plain": [
       "array(['album_id', 'artist_albuns', 'artist_fans', 'artist_id',\n",
       "       'context_type', 'diff_ts_listen_AND_release_date_D',\n",
       "       'diff_ts_listen_AND_release_date_M',\n",
       "       'diff_ts_listen_AND_release_date_Y', 'diff_user_song_age',\n",
       "       'genre_id', 'is_listened', 'is_train', 'listen_type', 'media_bpm',\n",
       "       'media_duration', 'media_id', 'media_rank', 'release_date',\n",
       "       'release_date_DAY', 'release_date_MONTH', 'release_date_YEAR',\n",
       "       'sample_id', 'text', 'ts_listen', 'user_id', 'user_id_id', 'year',\n",
       "       'diff_last_ts_listen', 'diff_last_ts_listen_delayed_1',\n",
       "       'diff_last_ts_listen_delayed_2', 'diff_last_ts_listen_delayed_3',\n",
       "       'diff_last_ts_listen_delayed_4', 'is_listened_delayed_1',\n",
       "       'is_listened_delayed_2', 'is_listened_delayed_3',\n",
       "       'is_listened_delayed_4', 'listen_type_delayed_1',\n",
       "       'listen_type_delayed_2', 'listen_type_delayed_3',\n",
       "       'listen_type_delayed_4', 'media_bpm_delayed_1',\n",
       "       'media_bpm_delayed_2', 'media_bpm_delayed_3', 'media_bpm_delayed_4',\n",
       "       'flow_listened_delayed_1', 'flow_listened_delayed_2',\n",
       "       'flow_listened_delayed_3', 'flow_listened_delayed_4',\n",
       "       'flows_listened_last_10_delayed_1',\n",
       "       'flows_listened_last_10_delayed_2',\n",
       "       'flows_listened_last_10_delayed_3',\n",
       "       'flows_listened_last_10_delayed_4',\n",
       "       'flows_listened_mean_last_10_delayed_1',\n",
       "       'flows_listened_mean_last_10_delayed_2',\n",
       "       'flows_listened_mean_last_10_delayed_3',\n",
       "       'flows_listened_mean_last_10_delayed_4', 'nmidia_regular_listened',\n",
       "       'nmidia_with_flow_listened', 'nmidia_regular', 'nmidia_with_flow',\n",
       "       'nmidia_with_flow_listened_PROP', 'nmidia_regular_listened_PROP',\n",
       "       'nmidia_PROP_diff', 'platform_name_1', 'platform_name_2',\n",
       "       'platform_family_1', 'platform_family_2', 'user_age_19',\n",
       "       'user_age_20', 'user_age_21', 'user_age_22', 'user_age_23',\n",
       "       'user_age_24', 'user_age_25', 'user_age_26', 'user_age_27',\n",
       "       'user_age_28', 'user_age_29', 'user_age_30', 'user_age_group_1',\n",
       "       'user_age_group_2', 'media_decade_1', 'media_decade_2',\n",
       "       'media_decade_3', 'media_decade_4', 'media_decade_5',\n",
       "       'media_decade_6', 'media_decade_7', 'media_decade_8',\n",
       "       'user_gender_1', 'ts_listen_DAY_OF_WEEK_1',\n",
       "       'ts_listen_DAY_OF_WEEK_2', 'ts_listen_DAY_OF_WEEK_3',\n",
       "       'ts_listen_DAY_OF_WEEK_4', 'ts_listen_DAY_OF_WEEK_5',\n",
       "       'ts_listen_DAY_OF_WEEK_6', 'ts_listen_PERIOD_OF_DAY_1',\n",
       "       'ts_listen_PERIOD_OF_DAY_2', 'ts_listen_PERIOD_OF_DAY_3'], dtype=object)"
      ]
     },
     "execution_count": 155,
     "metadata": {},
     "output_type": "execute_result"
    }
   ],
   "source": [
    "df_train.columns.values"
   ]
  },
  {
   "cell_type": "code",
   "execution_count": 156,
   "metadata": {
    "collapsed": false,
    "deletable": true,
    "editable": true
   },
   "outputs": [
    {
     "name": "stdout",
     "output_type": "stream",
     "text": [
      "99\n",
      "99\n"
     ]
    }
   ],
   "source": [
    "print(len(df_train.columns))\n",
    "print(len(set(df_train.columns)))"
   ]
  },
  {
   "cell_type": "code",
   "execution_count": 157,
   "metadata": {
    "autoscroll": "json-false",
    "collapsed": false,
    "deletable": true,
    "editable": true,
    "ein.tags": [
     "worksheet-0"
    ],
    "slideshow": {
     "slide_type": "-"
    }
   },
   "outputs": [],
   "source": [
    "%timeit\n",
    "### Drop\n",
    "to_drop = ['ts_listen', 'release_date', \"year\", \"text\", 'release_date_DAY', 'release_date_MONTH']#, \"nmidia_with_flow_listened_PROP\", \"nmidia_PROP_diff\", \"nmidia_regular_listened_PROP\"]\n",
    "df_train.drop(to_drop, axis = 1,inplace=True)\n",
    "df_test.drop(to_drop, axis = 1,inplace=True)"
   ]
  },
  {
   "cell_type": "code",
   "execution_count": 158,
   "metadata": {
    "autoscroll": "json-false",
    "collapsed": false,
    "deletable": true,
    "editable": true,
    "ein.tags": [
     "worksheet-0"
    ],
    "slideshow": {
     "slide_type": "-"
    }
   },
   "outputs": [],
   "source": [
    "# to_drop = [\"year\", \"text\"]\n",
    "# df_train.drop(to_drop, axis = 1,inplace=True)"
   ]
  },
  {
   "cell_type": "code",
   "execution_count": 159,
   "metadata": {
    "autoscroll": "json-false",
    "collapsed": false,
    "deletable": true,
    "editable": true,
    "ein.tags": [
     "worksheet-0"
    ],
    "slideshow": {
     "slide_type": "-"
    }
   },
   "outputs": [
    {
     "data": {
      "text/plain": [
       "['album_id',\n",
       " 'artist_albuns',\n",
       " 'artist_fans',\n",
       " 'artist_id',\n",
       " 'context_type',\n",
       " 'diff_ts_listen_AND_release_date_D',\n",
       " 'diff_ts_listen_AND_release_date_M',\n",
       " 'diff_ts_listen_AND_release_date_Y',\n",
       " 'diff_user_song_age',\n",
       " 'genre_id',\n",
       " 'is_train',\n",
       " 'listen_type',\n",
       " 'media_bpm',\n",
       " 'media_duration',\n",
       " 'media_id',\n",
       " 'media_rank',\n",
       " 'release_date_YEAR',\n",
       " 'sample_id',\n",
       " 'user_id',\n",
       " 'diff_last_ts_listen',\n",
       " 'diff_last_ts_listen_delayed_1',\n",
       " 'diff_last_ts_listen_delayed_2',\n",
       " 'diff_last_ts_listen_delayed_3',\n",
       " 'diff_last_ts_listen_delayed_4',\n",
       " 'is_listened_delayed_1',\n",
       " 'is_listened_delayed_2',\n",
       " 'is_listened_delayed_3',\n",
       " 'is_listened_delayed_4',\n",
       " 'listen_type_delayed_1',\n",
       " 'listen_type_delayed_2',\n",
       " 'listen_type_delayed_3',\n",
       " 'listen_type_delayed_4',\n",
       " 'media_bpm_delayed_1',\n",
       " 'media_bpm_delayed_2',\n",
       " 'media_bpm_delayed_3',\n",
       " 'media_bpm_delayed_4',\n",
       " 'flow_listened_delayed_1',\n",
       " 'flow_listened_delayed_2',\n",
       " 'flow_listened_delayed_3',\n",
       " 'flow_listened_delayed_4',\n",
       " 'flows_listened_last_10_delayed_1',\n",
       " 'flows_listened_last_10_delayed_2',\n",
       " 'flows_listened_last_10_delayed_3',\n",
       " 'flows_listened_last_10_delayed_4',\n",
       " 'flows_listened_mean_last_10_delayed_1',\n",
       " 'flows_listened_mean_last_10_delayed_2',\n",
       " 'flows_listened_mean_last_10_delayed_3',\n",
       " 'flows_listened_mean_last_10_delayed_4',\n",
       " 'nmidia_regular_listened',\n",
       " 'nmidia_with_flow_listened',\n",
       " 'nmidia_regular',\n",
       " 'nmidia_with_flow',\n",
       " 'nmidia_with_flow_listened_PROP',\n",
       " 'nmidia_regular_listened_PROP',\n",
       " 'nmidia_PROP_diff',\n",
       " 'platform_name_1',\n",
       " 'platform_name_2',\n",
       " 'platform_family_1',\n",
       " 'platform_family_2',\n",
       " 'user_age_19',\n",
       " 'user_age_20',\n",
       " 'user_age_21',\n",
       " 'user_age_22',\n",
       " 'user_age_23',\n",
       " 'user_age_24',\n",
       " 'user_age_25',\n",
       " 'user_age_26',\n",
       " 'user_age_27',\n",
       " 'user_age_28',\n",
       " 'user_age_29',\n",
       " 'user_age_30',\n",
       " 'user_age_group_1',\n",
       " 'user_age_group_2',\n",
       " 'media_decade_1',\n",
       " 'media_decade_2',\n",
       " 'media_decade_3',\n",
       " 'media_decade_4',\n",
       " 'media_decade_5',\n",
       " 'media_decade_6',\n",
       " 'media_decade_7',\n",
       " 'media_decade_8',\n",
       " 'user_gender_1',\n",
       " 'ts_listen_DAY_OF_WEEK_1',\n",
       " 'ts_listen_DAY_OF_WEEK_2',\n",
       " 'ts_listen_DAY_OF_WEEK_3',\n",
       " 'ts_listen_DAY_OF_WEEK_4',\n",
       " 'ts_listen_DAY_OF_WEEK_5',\n",
       " 'ts_listen_DAY_OF_WEEK_6',\n",
       " 'ts_listen_PERIOD_OF_DAY_1',\n",
       " 'ts_listen_PERIOD_OF_DAY_2',\n",
       " 'ts_listen_PERIOD_OF_DAY_3']"
      ]
     },
     "execution_count": 159,
     "metadata": {},
     "output_type": "execute_result"
    }
   ],
   "source": [
    "ignore_list = [target, \"user_id_id\"]\n",
    "features = [col for col in df_train.columns.values if col not in ignore_list]\n",
    "features"
   ]
  },
  {
   "cell_type": "code",
   "execution_count": null,
   "metadata": {
    "collapsed": true,
    "deletable": true,
    "editable": true
   },
   "outputs": [],
   "source": []
  },
  {
   "cell_type": "code",
   "execution_count": 160,
   "metadata": {
    "collapsed": false,
    "deletable": true,
    "editable": true
   },
   "outputs": [
    {
     "data": {
      "text/plain": [
       "array([0, 0, 0, 0, 0, 0, 0, 0, 0, 0, 0, 0, 0, 0, 0, 0, 0, 0, 0, 0, 0, 0, 0,\n",
       "       0, 0, 0, 0, 0, 0, 0, 0, 0, 0, 0, 0, 0, 0, 0, 0, 0, 0, 0, 0, 0, 0, 0,\n",
       "       0, 0, 0, 0, 0, 0, 0, 0, 0, 0, 0, 0, 0, 0, 0, 0, 0, 0, 0, 0, 0, 0, 0,\n",
       "       0, 0, 0, 0, 0, 0, 0, 0, 0, 0, 0, 0, 0, 0, 0, 0, 0, 0, 0, 0, 0, 0, 0,\n",
       "       0])"
      ]
     },
     "execution_count": 160,
     "metadata": {},
     "output_type": "execute_result"
    }
   ],
   "source": [
    "pd.isnull(df_train).sum().values"
   ]
  },
  {
   "cell_type": "code",
   "execution_count": 161,
   "metadata": {
    "collapsed": false,
    "deletable": true,
    "editable": true
   },
   "outputs": [
    {
     "data": {
      "text/plain": [
       "album_id                             0\n",
       "artist_albuns                        0\n",
       "artist_fans                          0\n",
       "artist_id                            0\n",
       "context_type                         0\n",
       "diff_ts_listen_AND_release_date_D    0\n",
       "diff_ts_listen_AND_release_date_M    0\n",
       "diff_ts_listen_AND_release_date_Y    0\n",
       "diff_user_song_age                   0\n",
       "genre_id                             0\n",
       "is_listened                          0\n",
       "is_train                             0\n",
       "listen_type                          0\n",
       "media_bpm                            0\n",
       "media_duration                       0\n",
       "media_id                             0\n",
       "media_rank                           0\n",
       "release_date_YEAR                    0\n",
       "sample_id                            0\n",
       "user_id                              0\n",
       "user_id_id                           0\n",
       "diff_last_ts_listen                  0\n",
       "diff_last_ts_listen_delayed_1        0\n",
       "diff_last_ts_listen_delayed_2        0\n",
       "diff_last_ts_listen_delayed_3        0\n",
       "diff_last_ts_listen_delayed_4        0\n",
       "is_listened_delayed_1                0\n",
       "is_listened_delayed_2                0\n",
       "is_listened_delayed_3                0\n",
       "is_listened_delayed_4                0\n",
       "                                    ..\n",
       "user_age_21                          0\n",
       "user_age_22                          0\n",
       "user_age_23                          0\n",
       "user_age_24                          0\n",
       "user_age_25                          0\n",
       "user_age_26                          0\n",
       "user_age_27                          0\n",
       "user_age_28                          0\n",
       "user_age_29                          0\n",
       "user_age_30                          0\n",
       "user_age_group_1                     0\n",
       "user_age_group_2                     0\n",
       "media_decade_1                       0\n",
       "media_decade_2                       0\n",
       "media_decade_3                       0\n",
       "media_decade_4                       0\n",
       "media_decade_5                       0\n",
       "media_decade_6                       0\n",
       "media_decade_7                       0\n",
       "media_decade_8                       0\n",
       "user_gender_1                        0\n",
       "ts_listen_DAY_OF_WEEK_1              0\n",
       "ts_listen_DAY_OF_WEEK_2              0\n",
       "ts_listen_DAY_OF_WEEK_3              0\n",
       "ts_listen_DAY_OF_WEEK_4              0\n",
       "ts_listen_DAY_OF_WEEK_5              0\n",
       "ts_listen_DAY_OF_WEEK_6              0\n",
       "ts_listen_PERIOD_OF_DAY_1            0\n",
       "ts_listen_PERIOD_OF_DAY_2            0\n",
       "ts_listen_PERIOD_OF_DAY_3            0\n",
       "dtype: int64"
      ]
     },
     "execution_count": 161,
     "metadata": {},
     "output_type": "execute_result"
    }
   ],
   "source": [
    "import numpy as np\n",
    "np.sum(np.isinf(df_train))"
   ]
  },
  {
   "cell_type": "code",
   "execution_count": null,
   "metadata": {
    "collapsed": true,
    "deletable": true,
    "editable": true
   },
   "outputs": [],
   "source": []
  },
  {
   "cell_type": "code",
   "execution_count": 162,
   "metadata": {
    "collapsed": false,
    "deletable": true,
    "editable": true
   },
   "outputs": [
    {
     "name": "stdout",
     "output_type": "stream",
     "text": [
      "Unnamed: 0                               0\n",
      "Unnamed: 0.1                             0\n",
      "album_id                                 0\n",
      "artist_albuns                            0\n",
      "artist_fans                              0\n",
      "artist_id                                0\n",
      "context_type                             0\n",
      "diff_ts_listen_AND_release_date_D        0\n",
      "diff_ts_listen_AND_release_date_M        0\n",
      "diff_ts_listen_AND_release_date_Y        0\n",
      "diff_user_song_age                       0\n",
      "genre_id                                 0\n",
      "is_train                                 0\n",
      "listen_type                              0\n",
      "media_bpm                                0\n",
      "media_duration                           0\n",
      "media_id                                 0\n",
      "media_rank                               0\n",
      "release_date_YEAR                        0\n",
      "sample_id                                0\n",
      "user_id                                  0\n",
      "user_id_id                               0\n",
      "diff_last_ts_listen                      0\n",
      "diff_last_ts_listen_delayed_1            0\n",
      "diff_last_ts_listen_delayed_2            0\n",
      "diff_last_ts_listen_delayed_3            0\n",
      "diff_last_ts_listen_delayed_4            0\n",
      "is_listened_delayed_1                    0\n",
      "is_listened_delayed_2                    0\n",
      "is_listened_delayed_3                    0\n",
      "is_listened_delayed_4                    0\n",
      "listen_type_delayed_1                    0\n",
      "listen_type_delayed_2                    0\n",
      "listen_type_delayed_3                    0\n",
      "listen_type_delayed_4                    0\n",
      "media_bpm_delayed_1                      0\n",
      "media_bpm_delayed_2                      0\n",
      "media_bpm_delayed_3                      0\n",
      "media_bpm_delayed_4                      0\n",
      "flow_listened_delayed_1                  0\n",
      "flow_listened_delayed_2                  0\n",
      "flow_listened_delayed_3                  0\n",
      "flow_listened_delayed_4                  0\n",
      "flows_listened_last_10_delayed_1         0\n",
      "flows_listened_last_10_delayed_2         0\n",
      "flows_listened_last_10_delayed_3         0\n",
      "flows_listened_last_10_delayed_4         0\n",
      "flows_listened_mean_last_10_delayed_1    0\n",
      "flows_listened_mean_last_10_delayed_2    0\n",
      "flows_listened_mean_last_10_delayed_3    0\n",
      "flows_listened_mean_last_10_delayed_4    0\n",
      "nmidia_regular_listened                  0\n",
      "nmidia_with_flow_listened                0\n",
      "nmidia_regular                           0\n",
      "nmidia_with_flow                         0\n",
      "nmidia_with_flow_listened_PROP           0\n",
      "nmidia_regular_listened_PROP             0\n",
      "nmidia_PROP_diff                         0\n",
      "platform_name_1                          0\n",
      "platform_name_2                          0\n",
      "platform_family_1                        0\n",
      "platform_family_2                        0\n",
      "user_age_19                              0\n",
      "user_age_20                              0\n",
      "user_age_21                              0\n",
      "user_age_22                              0\n",
      "user_age_23                              0\n",
      "user_age_24                              0\n",
      "user_age_25                              0\n",
      "user_age_26                              0\n",
      "user_age_27                              0\n",
      "user_age_28                              0\n",
      "user_age_29                              0\n",
      "user_age_30                              0\n",
      "user_age_group_1                         0\n",
      "user_age_group_2                         0\n",
      "media_decade_2                           0\n",
      "media_decade_3                           0\n",
      "media_decade_4                           0\n",
      "media_decade_5                           0\n",
      "media_decade_6                           0\n",
      "media_decade_7                           0\n",
      "media_decade_8                           0\n",
      "user_gender_1                            0\n",
      "ts_listen_DAY_OF_WEEK_1                  0\n",
      "ts_listen_DAY_OF_WEEK_2                  0\n",
      "ts_listen_DAY_OF_WEEK_3                  0\n",
      "ts_listen_DAY_OF_WEEK_4                  0\n",
      "ts_listen_DAY_OF_WEEK_5                  0\n",
      "ts_listen_DAY_OF_WEEK_6                  0\n",
      "ts_listen_PERIOD_OF_DAY_1                0\n",
      "ts_listen_PERIOD_OF_DAY_2                0\n",
      "ts_listen_PERIOD_OF_DAY_3                0\n",
      "dtype: int64\n"
     ]
    }
   ],
   "source": [
    "print_full(pd.isnull(df_test).sum()[:])"
   ]
  },
  {
   "cell_type": "code",
   "execution_count": null,
   "metadata": {
    "collapsed": false,
    "deletable": true,
    "editable": true
   },
   "outputs": [],
   "source": []
  },
  {
   "cell_type": "code",
   "execution_count": 163,
   "metadata": {
    "collapsed": false,
    "deletable": true,
    "editable": true
   },
   "outputs": [
    {
     "data": {
      "text/plain": [
       "array([0, 0, 0, 0, 0, 0, 0, 0, 0, 0, 0, 0, 0, 0, 0, 0, 0, 0, 0, 0, 0, 0, 0,\n",
       "       0, 0, 0, 0, 0, 0, 0, 0, 0, 0, 0, 0, 0, 0, 0, 0, 0, 0, 0, 0, 0, 0, 0,\n",
       "       0, 0, 0, 0, 0, 0, 0, 0, 0, 0, 0, 0, 0, 0, 0, 0, 0, 0, 0, 0, 0, 0, 0,\n",
       "       0, 0, 0, 0, 0, 0, 0, 0, 0, 0, 0, 0, 0, 0, 0, 0, 0, 0, 0, 0, 0, 0, 0,\n",
       "       0])"
      ]
     },
     "execution_count": 163,
     "metadata": {},
     "output_type": "execute_result"
    }
   ],
   "source": [
    "np.sum(np.isinf(df_test)).values"
   ]
  },
  {
   "cell_type": "code",
   "execution_count": 164,
   "metadata": {
    "collapsed": false,
    "deletable": true,
    "editable": true
   },
   "outputs": [
    {
     "data": {
      "text/plain": [
       "0"
      ]
     },
     "execution_count": 164,
     "metadata": {},
     "output_type": "execute_result"
    }
   ],
   "source": [
    "for column in features:\n",
    "    try:\n",
    "        df_test[column] = df_test[column].fillna(df_train[column].mean(skipna=True))\n",
    "    except:\n",
    "        df_test[column] = 0\n",
    "\n",
    "#df_test = df_test.fillna(df_train.mean(skipna=True), axis=1)\n",
    "df_test = df_test.applymap(lambda x : float(x))\n",
    "pd.isnull(df_test).sum().sum()"
   ]
  },
  {
   "cell_type": "code",
   "execution_count": 165,
   "metadata": {
    "collapsed": false,
    "deletable": true,
    "editable": true
   },
   "outputs": [
    {
     "data": {
      "text/plain": [
       "array([0, 0, 0, 0, 0, 0, 0, 0, 0, 0, 0, 0, 0, 0, 0, 0, 0, 0, 0, 0, 0, 0, 0,\n",
       "       0, 0, 0, 0, 0, 0, 0, 0, 0, 0, 0, 0, 0, 0, 0, 0, 0, 0, 0, 0, 0, 0, 0,\n",
       "       0, 0, 0, 0, 0, 0, 0, 0, 0, 0, 0, 0, 0, 0, 0, 0, 0, 0, 0, 0, 0, 0, 0,\n",
       "       0, 0, 0, 0, 0, 0, 0, 0, 0, 0, 0, 0, 0, 0, 0, 0, 0, 0, 0, 0, 0, 0, 0,\n",
       "       0, 0])"
      ]
     },
     "execution_count": 165,
     "metadata": {},
     "output_type": "execute_result"
    }
   ],
   "source": [
    "np.sum(np.isinf(df_test)).values"
   ]
  },
  {
   "cell_type": "code",
   "execution_count": 166,
   "metadata": {
    "collapsed": false,
    "deletable": true,
    "editable": true
   },
   "outputs": [],
   "source": [
    "# df_train.fillna(0, inplace=True)\n",
    "# df_test.fillna(0, inplace=True)"
   ]
  },
  {
   "cell_type": "code",
   "execution_count": 167,
   "metadata": {
    "collapsed": false,
    "deletable": true,
    "editable": true
   },
   "outputs": [],
   "source": [
    "# pd.isnull(df_train).sum()"
   ]
  },
  {
   "cell_type": "code",
   "execution_count": 168,
   "metadata": {
    "autoscroll": "json-false",
    "collapsed": false,
    "deletable": true,
    "editable": true,
    "ein.tags": [
     "worksheet-0"
    ],
    "slideshow": {
     "slide_type": "-"
    }
   },
   "outputs": [],
   "source": [
    "from sklearn.model_selection import train_test_split\n",
    "features = list(set(features))"
   ]
  },
  {
   "cell_type": "code",
   "execution_count": 169,
   "metadata": {
    "collapsed": true,
    "deletable": true,
    "editable": true
   },
   "outputs": [],
   "source": [
    "# features = ['media_duration',\n",
    "#  'user_id',\n",
    "#  'artist_id',\n",
    "#  'diff_ts_listen_AND_release_date_M',\n",
    "#  'diff_ts_listen_AND_release_date_Y',\n",
    "#  'release_date_YEAR',\n",
    "#  'diff_user_song_age',\n",
    "#  'artist_albuns',\n",
    "#  'artist_fans',\n",
    "#  'media_bpm',\n",
    "#  'media_rank',\n",
    "#  'nmidia_regular_listened',\n",
    "#  'nmidia_with_flow_listened',\n",
    "#  'nmidia_regular',\n",
    "#  'nmidia_with_flow',\n",
    "#  'nmidia_with_flow_listened_PROP',\n",
    "#  'nmidia_regular_listened_PROP',\n",
    "#  'nmidia_PROP_diff',\n",
    "#  'listen_type_1',\n",
    "#  'user_gender_1',\n",
    "#  'ts_listen_DAY_OF_WEEK_1',\n",
    "#  'ts_listen_DAY_OF_WEEK_2',\n",
    "#  'ts_listen_DAY_OF_WEEK_3',\n",
    "#  'ts_listen_DAY_OF_WEEK_4',\n",
    "#  'ts_listen_DAY_OF_WEEK_5',\n",
    "#  'ts_listen_DAY_OF_WEEK_6',\n",
    "#  'ts_listen_PERIOD_OF_DAY_1',\n",
    "#  'ts_listen_PERIOD_OF_DAY_2',\n",
    "#  'ts_listen_PERIOD_OF_DAY_3']"
   ]
  },
  {
   "cell_type": "code",
   "execution_count": 170,
   "metadata": {
    "autoscroll": "json-false",
    "collapsed": false,
    "deletable": true,
    "editable": true,
    "ein.tags": [
     "worksheet-0"
    ],
    "slideshow": {
     "slide_type": "-"
    }
   },
   "outputs": [
    {
     "data": {
      "text/plain": [
       "1444"
      ]
     },
     "execution_count": 170,
     "metadata": {},
     "output_type": "execute_result"
    }
   ],
   "source": [
    "X_train, X_test, y_train, y_test = train_test_split(df_train[features], df_train[target], test_size = 0.2)\n",
    "import gc\n",
    "gc.collect()"
   ]
  },
  {
   "cell_type": "markdown",
   "metadata": {
    "deletable": true,
    "editable": true,
    "ein.tags": [
     "worksheet-0"
    ],
    "slideshow": {
     "slide_type": "-"
    }
   },
   "source": [
    "### Feature Selection"
   ]
  },
  {
   "cell_type": "code",
   "execution_count": 171,
   "metadata": {
    "autoscroll": "json-false",
    "collapsed": false,
    "deletable": true,
    "editable": true,
    "ein.tags": [
     "worksheet-0"
    ],
    "slideshow": {
     "slide_type": "-"
    }
   },
   "outputs": [
    {
     "name": "stdout",
     "output_type": "stream",
     "text": [
      "82 selected variables from 91, 90.11%\n",
      "['diff_user_song_age', 'flows_listened_mean_last_10_delayed_2', 'flows_listened_mean_last_10_delayed_3', 'flows_listened_mean_last_10_delayed_1', 'media_duration', 'flows_listened_mean_last_10_delayed_4', 'platform_family_1', 'nmidia_with_flow', 'platform_family_2', 'flows_listened_last_10_delayed_3', 'flows_listened_last_10_delayed_2', 'flows_listened_last_10_delayed_1', 'flows_listened_last_10_delayed_4', 'album_id', 'diff_last_ts_listen_delayed_1', 'diff_last_ts_listen_delayed_3', 'diff_last_ts_listen_delayed_2', 'diff_last_ts_listen_delayed_4', 'ts_listen_PERIOD_OF_DAY_1', 'ts_listen_PERIOD_OF_DAY_2', 'ts_listen_PERIOD_OF_DAY_3', 'listen_type_delayed_3', 'listen_type_delayed_2', 'listen_type_delayed_1', 'listen_type', 'listen_type_delayed_4', 'artist_albuns', 'context_type', 'artist_fans', 'genre_id', 'platform_name_2', 'platform_name_1', 'diff_ts_listen_AND_release_date_Y', 'user_id', 'nmidia_regular_listened', 'user_age_19', 'diff_ts_listen_AND_release_date_M', 'nmidia_with_flow_listened', 'diff_ts_listen_AND_release_date_D', 'media_rank', 'media_id', 'nmidia_with_flow_listened_PROP', 'media_bpm', 'user_age_25', 'user_age_27', 'user_age_26', 'user_age_21', 'user_age_20', 'user_age_23', 'user_age_22', 'user_age_29', 'user_age_28', 'flow_listened_delayed_4', 'flow_listened_delayed_1', 'flow_listened_delayed_2', 'flow_listened_delayed_3', 'media_bpm_delayed_3', 'media_bpm_delayed_2', 'media_bpm_delayed_1', 'media_bpm_delayed_4', 'release_date_YEAR', 'user_age_30', 'nmidia_regular_listened_PROP', 'nmidia_regular', 'user_gender_1', 'ts_listen_DAY_OF_WEEK_1', 'ts_listen_DAY_OF_WEEK_5', 'ts_listen_DAY_OF_WEEK_4', 'ts_listen_DAY_OF_WEEK_6', 'diff_last_ts_listen', 'is_listened_delayed_4', 'is_listened_delayed_2', 'is_listened_delayed_3', 'is_listened_delayed_1', 'media_decade_3', 'media_decade_5', 'media_decade_6', 'media_decade_7', 'media_decade_8', 'user_age_group_1', 'user_age_group_2', 'nmidia_PROP_diff']\n"
     ]
    }
   ],
   "source": [
    "from sklearn import feature_selection\n",
    "all_features = features\n",
    "function_rule_selection = feature_selection.f_classif\n",
    "alpha_cutoff = 0.01\n",
    "\n",
    "selection_rule = feature_selection.SelectFdr(function_rule_selection, alpha_cutoff)\n",
    "selection_rule.fit(X_train, y_train);\n",
    "\n",
    "all_pvalues = list(filter(lambda x: pd.notnull(x[0]), zip(selection_rule.pvalues_, all_features)))\n",
    "#print(all_pvalues)\n",
    "filtered_pvalues = list(filter(lambda x: x[0]<=alpha_cutoff, all_pvalues))\n",
    "#print(filtered_pvalues)\n",
    "all_select_features = list(map(lambda x: x[1], filtered_pvalues))\n",
    "\n",
    "print(\"{0} selected variables from {1}, {2:.2f}%\".format(len(all_select_features), \n",
    "                                                        len(all_features), \n",
    "                                                        len(filtered_pvalues)*100/float(len(all_features))))\n",
    "print(all_select_features)\n",
    "#print(filtered_pvalues)"
   ]
  },
  {
   "cell_type": "code",
   "execution_count": 172,
   "metadata": {
    "autoscroll": "json-false",
    "collapsed": false,
    "deletable": true,
    "editable": true,
    "ein.tags": [
     "worksheet-0"
    ],
    "slideshow": {
     "slide_type": "-"
    }
   },
   "outputs": [],
   "source": [
    "features = all_select_features\n",
    "X_train, X_test, y_train, y_test = train_test_split(df_train[features], df_train[target], test_size = 0.2)"
   ]
  },
  {
   "cell_type": "code",
   "execution_count": 173,
   "metadata": {
    "autoscroll": "json-false",
    "collapsed": false,
    "deletable": true,
    "editable": true,
    "ein.tags": [
     "worksheet-0"
    ],
    "slideshow": {
     "slide_type": "-"
    }
   },
   "outputs": [],
   "source": [
    "from sklearn import metrics\n",
    "from sklearn.metrics import confusion_matrix\n",
    "from sklearn.metrics import accuracy_score\n",
    "import matplotlib.pyplot as plt\n",
    "\n",
    "def complete_report(y_test, y_pred):\n",
    "    print(\"*********************************\")\n",
    "    print(\"Accuracy: {0:.2f}\".format(accuracy_score(y_test, y_pred)))\n",
    "    print(\"Precision: {0}\".format(metrics.precision_score(y_test, y_pred)))\n",
    "    print(\"Recall: {0}\".format(metrics.recall_score(y_test, y_pred)))\n",
    "    print(\"F1-Score: {0}\".format(metrics.f1_score(y_test, y_pred)))\n",
    "    conf_m = confusion_matrix(y_test, y_pred)\n",
    "    print(conf_m)\n",
    "    try: \n",
    "        print(\"Roc Area: {0}\".format(metrics.roc_auc_score(y_test, y_pred))) \n",
    "        roc_curve_label(y_test, y_pred)\n",
    "    except:\n",
    "        print(\"--\")\n",
    "    print(\"*********************************\")\n",
    "    \n",
    "    return metrics.roc_auc_score(y_test, y_pred)\n",
    "        \n",
    "def roc_curve_label(y_test, y_pred):\n",
    "    plt.figsize=(10,6)\n",
    "    fpr, tpr, _ = metrics.roc_curve(y_test, y_pred)\n",
    "    plt.figure(1)\n",
    "    plt.plot([0, 1], [0, 1], 'k--')\n",
    "    plt.plot(fpr, tpr, label='RT + LR')\n",
    "    plt.xlabel('False positive rate')\n",
    "    plt.ylabel('True positive rate')\n",
    "    plt.title('ROC curve')\n",
    "    plt.legend(loc='best')\n",
    "    plt.show()"
   ]
  },
  {
   "cell_type": "code",
   "execution_count": 174,
   "metadata": {
    "autoscroll": "json-false",
    "collapsed": false,
    "deletable": true,
    "editable": true,
    "ein.tags": [
     "worksheet-0"
    ],
    "slideshow": {
     "slide_type": "-"
    }
   },
   "outputs": [],
   "source": [
    "# %timeit\n",
    "# from sklearn.tree import DecisionTreeClassifier\n",
    "# model = DecisionTreeClassifier()\n",
    "# model.fit(X_train, y_train)"
   ]
  },
  {
   "cell_type": "code",
   "execution_count": 175,
   "metadata": {
    "autoscroll": "json-false",
    "collapsed": false,
    "deletable": true,
    "editable": true,
    "ein.tags": [
     "worksheet-0"
    ],
    "slideshow": {
     "slide_type": "-"
    }
   },
   "outputs": [
    {
     "name": "stdout",
     "output_type": "stream",
     "text": [
      "82\n",
      "82\n"
     ]
    }
   ],
   "source": [
    "# print(model.score(X_test, y_test))\n",
    "# complete_report(y_test, model.predict(X_test))\n",
    "print(len(X_train.columns))\n",
    "print(len(set(X_train.columns)))"
   ]
  },
  {
   "cell_type": "code",
   "execution_count": 176,
   "metadata": {
    "collapsed": false,
    "deletable": true,
    "editable": true
   },
   "outputs": [
    {
     "name": "stdout",
     "output_type": "stream",
     "text": [
      "82\n",
      "82\n"
     ]
    }
   ],
   "source": [
    "print(len(features))\n",
    "print(len(set(features)))"
   ]
  },
  {
   "cell_type": "markdown",
   "metadata": {
    "deletable": true,
    "editable": true,
    "ein.tags": [
     "worksheet-0"
    ],
    "slideshow": {
     "slide_type": "-"
    }
   },
   "source": [
    "acc: 0.70345496362865445  \n",
    "roc: 0.6912675674785278"
   ]
  },
  {
   "cell_type": "code",
   "execution_count": 177,
   "metadata": {
    "autoscroll": "json-false",
    "collapsed": false,
    "deletable": true,
    "editable": true,
    "ein.tags": [
     "worksheet-0"
    ],
    "slideshow": {
     "slide_type": "-"
    }
   },
   "outputs": [],
   "source": [
    "from sklearn.metrics import confusion_matrix"
   ]
  },
  {
   "cell_type": "code",
   "execution_count": 178,
   "metadata": {
    "collapsed": false,
    "deletable": true,
    "editable": true
   },
   "outputs": [
    {
     "name": "stdout",
     "output_type": "stream",
     "text": [
      "*********************************\n",
      "Accuracy: 0.82\n",
      "Precision: 0.870550928993\n",
      "Recall: 0.863785868098\n",
      "F1-Score: 0.867155204439\n",
      "[[337908 130509]\n",
      " [138405 877679]]\n",
      "Roc Area: 0.792584369244\n"
     ]
    },
    {
     "data": {
      "image/png": "[encoded data removed]",
      "text/plain": [
       "<matplotlib.figure.Figure at 0x7fe6532b5990>"
      ]
     },
     "metadata": {},
     "output_type": "display_data"
    },
    {
     "name": "stdout",
     "output_type": "stream",
     "text": [
      "*********************************\n"
     ]
    },
    {
     "data": {
      "text/plain": [
       "0.79258436924432263"
      ]
     },
     "execution_count": 178,
     "metadata": {},
     "output_type": "execute_result"
    }
   ],
   "source": [
    "from sklearn.ensemble import RandomForestClassifier\n",
    "\n",
    "model = RandomForestClassifier(n_jobs=-1)\n",
    "model.fit(X_train, y_train)\n",
    "model.score(X_test, y_test)\n",
    "complete_report(y_test, model.predict(X_test))"
   ]
  },
  {
   "cell_type": "code",
   "execution_count": 81,
   "metadata": {
    "collapsed": false,
    "deletable": true,
    "editable": true
   },
   "outputs": [
    {
     "name": "stdout",
     "output_type": "stream",
     "text": [
      "19160\n",
      "19160\n"
     ]
    }
   ],
   "source": [
    "# df_test_group_1 = df_test[df_test[\"user_id_id\"].isin(user_for_specific_model)].copy(deep=True)\n",
    "\n",
    "# p = model.predict_proba(df_test_group_1[features])\n",
    "# p = p[:, 1]\n",
    "# df_test_group_1[\"prediction\"] = p\n",
    "# df_test_group_1[\"prediction\"].head()\n",
    "\n",
    "# len(X_train.columns)\n",
    "\n",
    "# print(len(df_test))\n",
    "# print(len(df_test_group_1))\n",
    "# df_test_group_1[[\"prediction\", \"user_id_id\"]].to_csv(\"group1_note21_rand.csv\")"
   ]
  },
  {
   "cell_type": "code",
   "execution_count": 83,
   "metadata": {
    "collapsed": false,
    "deletable": true,
    "editable": true
   },
   "outputs": [
    {
     "data": {
      "text/plain": [
       "nan"
      ]
     },
     "execution_count": 83,
     "metadata": {},
     "output_type": "execute_result"
    }
   ],
   "source": [
    "# df_train[(df_train[\"listen_type\"] == 1)][\"is_listened\"].mean()"
   ]
  },
  {
   "cell_type": "code",
   "execution_count": 85,
   "metadata": {
    "collapsed": true,
    "deletable": true,
    "editable": true
   },
   "outputs": [],
   "source": []
  },
  {
   "cell_type": "code",
   "execution_count": 84,
   "metadata": {
    "collapsed": false,
    "deletable": true,
    "editable": true
   },
   "outputs": [
    {
     "data": {
      "text/plain": [
       "Series([], Name: prediction, dtype: float64)"
      ]
     },
     "execution_count": 84,
     "metadata": {},
     "output_type": "execute_result"
    }
   ],
   "source": [
    "# df_test_group_2 = df_test[df_test[\"user_id_id\"].isin(user_for_general_model)].copy(deep=True)\n",
    "\n",
    "# p = 0.63\n",
    "# df_test_group_2[\"prediction\"] = p\n",
    "\n",
    "# df_test_group_2[\"prediction\"] = p\n",
    "# df_test_group_2[\"prediction\"].head()"
   ]
  },
  {
   "cell_type": "code",
   "execution_count": 180,
   "metadata": {
    "collapsed": false,
    "deletable": true,
    "editable": true
   },
   "outputs": [
    {
     "name": "stderr",
     "output_type": "stream",
     "text": [
      "100%|██████████| 19054/19054 [01:57<00:00, 163.76it/s]\n"
     ]
    }
   ],
   "source": [
    "def random_sampler(df, user_ids, multiple=1):\n",
    "    \"\"\"\n",
    "    df: a DataFrame to sample from;\n",
    "    user_ids: a list / array with user ids you want to see in your sample\n",
    "    multiple: the quantity of examples each id should present in the sample,\n",
    "              if there is not enough examples in the df for a certain id,\n",
    "              it returns all of them.\n",
    "    ---\n",
    "    sample_index: an array with df indices for the sample\n",
    "    \"\"\"\n",
    "    sample_index = []\n",
    "    for user_id in tqdm(user_ids):\n",
    "        l = df[df[\"user_id\"] == user_id].index.values\n",
    "        if multiple <= len(l):\n",
    "            x = np.random.choice(l, multiple, replace=False) \n",
    "            sample_index.append(x)\n",
    "        else:\n",
    "            sample_index.append(l)\n",
    "    return np.concatenate(sample_index, axis=0)\n",
    "\n",
    "test_user_ids = df_train[\"user_id_id\"].unique()\n",
    "\n",
    "ids_for_test = random_sampler(df_train, test_user_ids, multiple=2)\n",
    "\n",
    "\n",
    "X_train = df_train[~df_train.index.isin(ids_for_test)][features]\n",
    "X_test = df_train[df_train.index.isin(ids_for_test)][features]\n",
    "y_test = df_train[df_train.index.isin(ids_for_test)][features]\n",
    "y_train = df_train[~df_train.index.isin(ids_for_test)][target]\n",
    "\n",
    "X_val, X_test, y_val, y_test = train_test_split(X_test, y_test, test_size = 0.5)"
   ]
  },
  {
   "cell_type": "code",
   "execution_count": 92,
   "metadata": {
    "collapsed": true,
    "deletable": true,
    "editable": true
   },
   "outputs": [],
   "source": [
    "X_train, X_test, y_train, y_test = train_test_split(df_train[features], df_train[target], test_size = 0.3)\n",
    "X_val, X_test, y_val, y_test = train_test_split(X_test, y_test, test_size = 0.5)"
   ]
  },
  {
   "cell_type": "code",
   "execution_count": null,
   "metadata": {
    "autoscroll": "json-false",
    "collapsed": false,
    "deletable": true,
    "editable": true,
    "ein.tags": [
     "worksheet-0"
    ],
    "slideshow": {
     "slide_type": "-"
    }
   },
   "outputs": [],
   "source": [
    "import xgboost as xgb\n",
    "from time import time\n",
    "import numpy as np\n",
    "\n",
    "start = time()\n",
    "xg_train = xgb.DMatrix(X_train, label=y_train.values, missing=np.NaN)\n",
    "xg_test = xgb.DMatrix(X_test, label=y_test.values, missing=np.NaN)\n",
    "xg_val = xgb.DMatrix(X_val, label=y_val.values, missing=np.NaN)\n",
    "param = {'max_depth':50, \n",
    "         'eta':0.2, \n",
    "         'silent':0, \n",
    "         'objective':'binary:logistic', \n",
    "         \"booster\": \"gbtree\", \n",
    "         \"max_delta_step\":1,\n",
    "         \"alpha\": 0.2,\n",
    "         \"lambda\": 0.2,\n",
    "         #\"scale_pos_weight\": class_ratio,\n",
    "         \"eval_metric\": \"auc\",\n",
    "          \"verbose\": 1}\n",
    "\n",
    "### Objectives\n",
    "## 'binary:logistic'\n",
    "## 'multi:softprob'\n",
    "#param['num_class'] = 2\n",
    "param[\"min_child_weight\"] = 30\n",
    "param[\"colsample_bytree\"] = 0.5\n",
    "num_round = 100\n",
    "\n",
    "watchlist = [(xg_train,'train'), (xg_test,'test'), (xg_val,'validation')]\n",
    "#watchlist = [(xg_val,'validation')]\n",
    "\n",
    "bst = xgb.train(param, \n",
    "                xg_train, \n",
    "                num_round,\n",
    "                watchlist,\n",
    "                early_stopping_rounds=3)\n",
    "\n",
    "yprob = bst.predict( xg_test ) #.reshape( y_test.shape[0], 2)\n",
    "print(yprob[0])\n",
    "\n",
    "print('Tempo de execução: {0}m{1}s'.format(int((time()-start)/60),\n",
    "             int((time()-start)%60 )))"
   ]
  },
  {
   "cell_type": "code",
   "execution_count": null,
   "metadata": {
    "collapsed": false,
    "deletable": true,
    "editable": true
   },
   "outputs": [],
   "source": [
    "y_pred = [1 if y > 0.5 else 0 for y in yprob]\n",
    "#print(metrics.confusion_matrix(y_test, y_pred))\n",
    "yprob = bst.predict( xg_test ) \n",
    "#complete_report(y_test, yprob)\n",
    "len(yprob)\n",
    "\n",
    "### Verificando a importância de cada feature para a previsão do modelo\n",
    "import operator\n",
    "importance = bst.get_fscore()\n",
    "importance = sorted(importance.items(), key=operator.itemgetter(1), reverse=True)\n",
    "for item in importance:\n",
    "    print(item)"
   ]
  },
  {
   "cell_type": "code",
   "execution_count": null,
   "metadata": {
    "collapsed": false,
    "deletable": true,
    "editable": true
   },
   "outputs": [],
   "source": [
    "complete_report(y_test, y_pred)"
   ]
  },
  {
   "cell_type": "code",
   "execution_count": null,
   "metadata": {
    "autoscroll": "json-false",
    "collapsed": false,
    "deletable": true,
    "editable": true,
    "ein.tags": [
     "worksheet-0"
    ],
    "slideshow": {
     "slide_type": "-"
    }
   },
   "outputs": [],
   "source": [
    "df_test_group_1 = df_test[df_test[\"user_id_id\"].isin(user_for_specific_model)].copy(deep=True)\n",
    "xg_sub = xgb.DMatrix(df_test_group_1[features], missing=np.NaN)\n",
    "p = bst.predict(xg_sub)\n",
    "\n",
    "#p = model.predict_proba(df_test_group_1[features])\n",
    "#p = p[:, 1]\n",
    "df_test_group_1[\"prediction\"] = p\n",
    "df_test_group_1[\"prediction\"].head()"
   ]
  },
  {
   "cell_type": "code",
   "execution_count": null,
   "metadata": {
    "collapsed": false,
    "deletable": true,
    "editable": true
   },
   "outputs": [],
   "source": [
    "print(len(df_test))\n",
    "print(len(df_test_group_1))\n",
    "df_test_group_1[[\"prediction\", \"user_id_id\"]]\n",
    "df_test_group_1[[\"prediction\", \"user_id_id\"]].to_csv(\"group1.csv\")\n",
    "df_test_group_1[[\"prediction\", \"user_id_id\"]].to_csv(\"group1_note21.csv\")"
   ]
  },
  {
   "cell_type": "code",
   "execution_count": 123,
   "metadata": {
    "collapsed": false,
    "deletable": true,
    "editable": true
   },
   "outputs": [
    {
     "data": {
      "text/html": [
       "<div>\n",
       "<table border=\"1\" class=\"dataframe\">\n",
       "  <thead>\n",
       "    <tr style=\"text-align: right;\">\n",
       "      <th></th>\n",
       "      <th>Unnamed: 0</th>\n",
       "      <th>prediction</th>\n",
       "    </tr>\n",
       "    <tr>\n",
       "      <th>user_id_id</th>\n",
       "      <th></th>\n",
       "      <th></th>\n",
       "    </tr>\n",
       "  </thead>\n",
       "  <tbody>\n",
       "    <tr>\n",
       "      <th>0.0</th>\n",
       "      <td>0</td>\n",
       "      <td>0.981403</td>\n",
       "    </tr>\n",
       "    <tr>\n",
       "      <th>1.0</th>\n",
       "      <td>1</td>\n",
       "      <td>0.928719</td>\n",
       "    </tr>\n",
       "    <tr>\n",
       "      <th>2.0</th>\n",
       "      <td>2</td>\n",
       "      <td>0.854829</td>\n",
       "    </tr>\n",
       "    <tr>\n",
       "      <th>3.0</th>\n",
       "      <td>3</td>\n",
       "      <td>0.978622</td>\n",
       "    </tr>\n",
       "    <tr>\n",
       "      <th>4.0</th>\n",
       "      <td>4</td>\n",
       "      <td>0.388160</td>\n",
       "    </tr>\n",
       "  </tbody>\n",
       "</table>\n",
       "</div>"
      ],
      "text/plain": [
       "            Unnamed: 0  prediction\n",
       "user_id_id                        \n",
       "0.0                  0    0.981403\n",
       "1.0                  1    0.928719\n",
       "2.0                  2    0.854829\n",
       "3.0                  3    0.978622\n",
       "4.0                  4    0.388160"
      ]
     },
     "execution_count": 123,
     "metadata": {},
     "output_type": "execute_result"
    }
   ],
   "source": [
    "df_test_group_1.head()"
   ]
  },
  {
   "cell_type": "code",
   "execution_count": null,
   "metadata": {
    "collapsed": false,
    "deletable": true,
    "editable": true
   },
   "outputs": [],
   "source": [
    "import gc\n",
    "gc.collect()\n",
    "#del df_test_group_1"
   ]
  },
  {
   "cell_type": "code",
   "execution_count": null,
   "metadata": {
    "collapsed": true,
    "deletable": true,
    "editable": true
   },
   "outputs": [],
   "source": []
  },
  {
   "cell_type": "code",
   "execution_count": 139,
   "metadata": {
    "collapsed": false,
    "deletable": true,
    "editable": true
   },
   "outputs": [
    {
     "name": "stdout",
     "output_type": "stream",
     "text": [
      "662\n",
      "19256\n"
     ]
    },
    {
     "data": {
      "text/plain": [
       "['genre_id',\n",
       " 'media_id',\n",
       " 'context_type',\n",
       " 'platform_family',\n",
       " 'media_duration',\n",
       " 'diff_ts_listen_AND_release_date_D',\n",
       " 'diff_ts_listen_AND_release_date_M',\n",
       " 'diff_ts_listen_AND_release_date_Y',\n",
       " 'release_date_DAY',\n",
       " 'release_date_MONTH',\n",
       " 'release_date_YEAR',\n",
       " 'user_age_group',\n",
       " 'diff_user_song_age',\n",
       " 'media_decade',\n",
       " 'artist_albuns',\n",
       " 'artist_fans',\n",
       " 'artist_radio',\n",
       " 'media_bpm',\n",
       " 'media_rank',\n",
       " 'platform_name_1',\n",
       " 'platform_name_2',\n",
       " 'user_age_19',\n",
       " 'user_age_20',\n",
       " 'user_age_21',\n",
       " 'user_age_22',\n",
       " 'user_age_23',\n",
       " 'user_age_24',\n",
       " 'user_age_25',\n",
       " 'user_age_26',\n",
       " 'user_age_27',\n",
       " 'user_age_28',\n",
       " 'user_age_29',\n",
       " 'user_age_30',\n",
       " 'listen_type_1',\n",
       " 'user_gender_1',\n",
       " 'ts_listen_DAY_OF_WEEK_1',\n",
       " 'ts_listen_DAY_OF_WEEK_2',\n",
       " 'ts_listen_DAY_OF_WEEK_3',\n",
       " 'ts_listen_DAY_OF_WEEK_4',\n",
       " 'ts_listen_DAY_OF_WEEK_5',\n",
       " 'ts_listen_DAY_OF_WEEK_6',\n",
       " 'ts_listen_PERIOD_OF_DAY_1',\n",
       " 'ts_listen_PERIOD_OF_DAY_2',\n",
       " 'ts_listen_PERIOD_OF_DAY_3']"
      ]
     },
     "execution_count": 139,
     "metadata": {},
     "output_type": "execute_result"
    }
   ],
   "source": [
    "import pandas as pd\n",
    "from greenpyce.feature_engineering import TargetEncoder\n",
    "from greenpyce.feature_engineering import onehot\n",
    "from greenpyce.feature_engineering import RankCategorical\n",
    "from greenpyce.feature_engineering import LabelCount\n",
    "df_train = pd.read_csv(\"../data/train_data4.csv\")\n",
    "df_test = pd.read_csv(\"../data/test_data4.csv\")\n",
    "\n",
    "df_train[\"user_id_id\"] = df_train[\"user_id\"]\n",
    "df_test[\"user_id_id\"] = df_test[\"user_id\"]\n",
    "\n",
    "to_drop = ['Unnamed: 0', 'Unnamed: 0.1']\n",
    "df_train.drop(to_drop, axis = 1,inplace=True)\n",
    "\n",
    "# df_user = pd.read_csv(\"../data/nmidia_feats.csv\", sep=\";\")\n",
    "# # pd.isnull(df_user).sum()[pd.isnull(df_user).sum() > 0]\n",
    "# df_user = df_user.drop([\"nmidia_with_flow_listened_PROP\", \"nmidia_regular_listened_PROP\", \"nmidia_PROP_diff\"], axis=1)\n",
    "# df_user.columns.values\n",
    "# df_train = pd.merge(df_train, df_user, on=\"user_id\")\n",
    "# df_test = pd.merge(df_test, df_user, on=\"user_id\")\n",
    "# del df_user\n",
    "\n",
    "\n",
    "### select users for general\n",
    "\n",
    "#df_train = df_train[df_train[\"user_id\"].isin(user_for_general_model)]\n",
    "\n",
    "threshold = 5\n",
    "\n",
    "register_count = df_train[\"user_id\"].value_counts()\n",
    "\n",
    "user_for_general_model = register_count[(register_count <= threshold)].index\n",
    "user_for_specific_model = register_count[(register_count > threshold)].index\n",
    "print(len(user_for_general_model))\n",
    "print(len(user_for_specific_model))\n",
    "\n",
    "cols_for_target_encoder = [\"genre_id\", \n",
    "                           \"media_id\", \n",
    "                           \"artist_radio\"]\n",
    "\n",
    "cols_for_onehot = [\"platform_name\", \n",
    "                   \"user_age\",\n",
    "                   \"listen_type\",\n",
    "                   \"user_gender\", \n",
    "                   \"ts_listen_DAY_OF_WEEK\",\n",
    "                  \"ts_listen_PERIOD_OF_DAY\"]\n",
    "\n",
    "cols_for_rank = [\"artist_id\",\n",
    "                \"artist_fans\"]\n",
    "\n",
    "target = \"is_listened\"\n",
    "\n",
    "df_test = df_test[df_test[\"user_id\"].isin(user_for_general_model)]\n",
    "df_train.columns\n",
    "\n",
    "te = TargetEncoder(cols_for_target_encoder, \"is_listened\")\n",
    "te.fit(df_train)\n",
    "te.transform(df_train)\n",
    "te.transform(df_test)\n",
    "del te\n",
    "\n",
    "rc = RankCategorical(cols_for_rank)\n",
    "rc.fit(df_train)\n",
    "rc.transform(df_train)\n",
    "rc.transform(df_test)\n",
    "del rc\n",
    "\n",
    "rc = RankCategorical([\"media_decade\"])\n",
    "rc.fit(df_train)\n",
    "rc.transform(df_train)\n",
    "rc.transform(df_test)\n",
    "del rc\n",
    "\n",
    "df_train = onehot(df_train, cols_for_onehot)\n",
    "df_test = onehot(df_test, cols_for_onehot)\n",
    "\n",
    "%timeit\n",
    "### Drop\n",
    "to_drop = ['ts_listen', 'album_id', 'release_date', 'artist_id', \"year\", \"text\"]#, \"nmidia_with_flow_listened_PROP\", \"nmidia_PROP_diff\", \"nmidia_regular_listened_PROP\"]\n",
    "df_train.drop(to_drop, axis = 1,inplace=True)\n",
    "df_test.drop(to_drop, axis = 1,inplace=True)\n",
    "\n",
    "ban = [\"user_id\", \"user_id_id\"]\n",
    "features = [col for col in df_train.columns.values if col != target and col not in ban]\n",
    "features"
   ]
  },
  {
   "cell_type": "code",
   "execution_count": 140,
   "metadata": {
    "collapsed": false,
    "deletable": true,
    "editable": true
   },
   "outputs": [
    {
     "name": "stdout",
     "output_type": "stream",
     "text": [
      "39 selected variables from 44, 88.64%\n",
      "['genre_id', 'media_id', 'context_type', 'platform_family', 'media_duration', 'diff_ts_listen_AND_release_date_D', 'diff_ts_listen_AND_release_date_M', 'diff_ts_listen_AND_release_date_Y', 'release_date_MONTH', 'release_date_YEAR', 'user_age_group', 'diff_user_song_age', 'media_decade', 'artist_albuns', 'artist_fans', 'media_bpm', 'media_rank', 'platform_name_1', 'platform_name_2', 'user_age_19', 'user_age_20', 'user_age_21', 'user_age_22', 'user_age_23', 'user_age_25', 'user_age_26', 'user_age_27', 'user_age_28', 'user_age_29', 'user_age_30', 'listen_type_1', 'user_gender_1', 'ts_listen_DAY_OF_WEEK_1', 'ts_listen_DAY_OF_WEEK_4', 'ts_listen_DAY_OF_WEEK_5', 'ts_listen_DAY_OF_WEEK_6', 'ts_listen_PERIOD_OF_DAY_1', 'ts_listen_PERIOD_OF_DAY_2', 'ts_listen_PERIOD_OF_DAY_3']\n"
     ]
    },
    {
     "data": {
      "text/plain": [
       "0.70515834482101702"
      ]
     },
     "execution_count": 140,
     "metadata": {},
     "output_type": "execute_result"
    }
   ],
   "source": [
    "# features =['genre_id', \n",
    "#            'media_id', \n",
    "#            'context_type', \n",
    "#     #       'media_duration', \n",
    "#            'listen_type', \n",
    "#     #       'user_id', \n",
    "#    #        'diff_ts_listen_AND_release_date_D', \n",
    "#            'diff_ts_listen_AND_release_date_M', \n",
    "#    #        'diff_ts_listen_AND_release_date_Y', \n",
    "#     #       'release_date_YEAR', \n",
    "#            'diff_user_song_age', \n",
    "#            'artist_albuns', \n",
    "#            'artist_fans', \n",
    "#            'artist_radio', \n",
    "#            'media_bpm', \n",
    "#            'media_rank', \n",
    "#            #'user_id_id', \n",
    "# #            'nmidia_regular_listened', \n",
    "# #            'nmidia_with_flow_listened', \n",
    "# #            'nmidia_regular', \n",
    "# #            'nmidia_with_flow', \n",
    "#            'platform_name_1', \n",
    "#            'platform_name_2', \n",
    "#            'platform_family_1', \n",
    "#            'platform_family_2', \n",
    "#            'user_age_19', \n",
    "#            'user_age_20', \n",
    "#            'user_age_21', \n",
    "#            'user_age_22', \n",
    "#            'user_age_23', \n",
    "#            'user_age_25', \n",
    "#            'user_age_26', \n",
    "#            'user_age_27', \n",
    "#            'user_age_28', \n",
    "#            'user_age_29', \n",
    "#            'user_age_30', \n",
    "#            'user_age_group_1',\n",
    "#            'user_age_group_2', \n",
    "#            'user_gender_1', \n",
    "#            'user_age_group_1', \n",
    "#            'user_age_group_2', \n",
    "#            'ts_listen_DAY_OF_WEEK_1',\n",
    "#            'ts_listen_DAY_OF_WEEK_2', \n",
    "#            'ts_listen_DAY_OF_WEEK_3', \n",
    "#            'ts_listen_DAY_OF_WEEK_4', \n",
    "#            'ts_listen_DAY_OF_WEEK_5',\n",
    "#            'ts_listen_PERIOD_OF_DAY_2', \n",
    "#            'ts_listen_PERIOD_OF_DAY_3']\n",
    "\n",
    "from sklearn.model_selection import train_test_split\n",
    "X_train, X_test, y_train, y_test = train_test_split(df_train[features], df_train[target], test_size = 0.2)\n",
    "\n",
    "from sklearn import feature_selection\n",
    "all_features = features\n",
    "function_rule_selection = feature_selection.f_classif\n",
    "alpha_cutoff = 0.001\n",
    "\n",
    "selection_rule = feature_selection.SelectFdr(function_rule_selection, alpha_cutoff)\n",
    "selection_rule.fit(X_train, y_train);\n",
    "\n",
    "all_pvalues = list(filter(lambda x: pd.notnull(x[0]), zip(selection_rule.pvalues_, all_features)))\n",
    "#print(all_pvalues)\n",
    "filtered_pvalues = list(filter(lambda x: x[0]<=alpha_cutoff, all_pvalues))\n",
    "#print(filtered_pvalues)\n",
    "all_select_features = list(map(lambda x: x[1], filtered_pvalues))\n",
    "\n",
    "print(\"{0} selected variables from {1}, {2:.2f}%\".format(len(all_select_features), \n",
    "                                                        len(all_features), \n",
    "                                                        len(filtered_pvalues)*100/float(len(all_features))))\n",
    "print(all_select_features)\n",
    "#print(filtered_pvalues)\n",
    "\n",
    "features = all_select_features\n",
    "X_train, X_test, y_train, y_test = train_test_split(df_train[features], df_train[target], test_size = 0.2)\n",
    "\n",
    "from sklearn.ensemble import RandomForestClassifier\n",
    "\n",
    "model = RandomForestClassifier(n_jobs=-1)\n",
    "model.fit(X_train, y_train)\n",
    "model.score(X_test, y_test)"
   ]
  },
  {
   "cell_type": "code",
   "execution_count": 141,
   "metadata": {
    "collapsed": false,
    "deletable": true,
    "editable": true
   },
   "outputs": [
    {
     "name": "stdout",
     "output_type": "stream",
     "text": [
      "*********************************\n",
      "Accuracy: 0.71\n",
      "Precision: 0.774869638163\n",
      "Recall: 0.802040577558\n",
      "F1-Score: 0.788221023529\n",
      "[[236549 240998]\n",
      " [204733 829484]]\n",
      "Roc Area: 0.648691198658\n"
     ]
    },
    {
     "data": {
      "image/png": "[encoded data removed]",
      "text/plain": [
       "<matplotlib.figure.Figure at 0x7fb409207790>"
      ]
     },
     "metadata": {},
     "output_type": "display_data"
    },
    {
     "name": "stdout",
     "output_type": "stream",
     "text": [
      "*********************************\n"
     ]
    },
    {
     "data": {
      "text/plain": [
       "0.6486911986578815"
      ]
     },
     "execution_count": 141,
     "metadata": {},
     "output_type": "execute_result"
    }
   ],
   "source": [
    "complete_report(y_test, model.predict(X_test))"
   ]
  },
  {
   "cell_type": "code",
   "execution_count": 142,
   "metadata": {
    "collapsed": false,
    "deletable": true,
    "editable": true
   },
   "outputs": [
    {
     "name": "stdout",
     "output_type": "stream",
     "text": [
      "Unnamed: 0                           0\n",
      "Unnamed: 0.1                         0\n",
      "sample_id                            0\n",
      "genre_id                             0\n",
      "media_id                             0\n",
      "context_type                         0\n",
      "platform_family                      0\n",
      "media_duration                       0\n",
      "user_id                              0\n",
      "diff_ts_listen_AND_release_date_D    0\n",
      "diff_ts_listen_AND_release_date_M    0\n",
      "diff_ts_listen_AND_release_date_Y    0\n",
      "release_date_DAY                     0\n",
      "release_date_MONTH                   0\n",
      "release_date_YEAR                    0\n",
      "user_age_group                       0\n",
      "diff_user_song_age                   0\n",
      "media_decade                         0\n",
      "media_bpm                            0\n",
      "media_rank                           0\n",
      "artist_albuns                        0\n",
      "artist_fans                          0\n",
      "artist_radio                         0\n",
      "user_id_id                           0\n",
      "platform_name_1                      0\n",
      "platform_name_2                      0\n",
      "user_age_19                          0\n",
      "user_age_20                          0\n",
      "user_age_21                          0\n",
      "user_age_22                          0\n",
      "user_age_23                          0\n",
      "user_age_24                          0\n",
      "user_age_25                          0\n",
      "user_age_26                          0\n",
      "user_age_27                          0\n",
      "user_age_28                          0\n",
      "user_age_29                          0\n",
      "user_age_30                          0\n",
      "user_gender_1                        0\n",
      "ts_listen_DAY_OF_WEEK_1              0\n",
      "ts_listen_DAY_OF_WEEK_2              0\n",
      "ts_listen_DAY_OF_WEEK_3              0\n",
      "ts_listen_DAY_OF_WEEK_4              0\n",
      "ts_listen_DAY_OF_WEEK_5              0\n",
      "ts_listen_DAY_OF_WEEK_6              0\n",
      "ts_listen_PERIOD_OF_DAY_1            0\n",
      "ts_listen_PERIOD_OF_DAY_2            0\n",
      "ts_listen_PERIOD_OF_DAY_3            0\n",
      "listen_type_1                        0\n",
      "dtype: int64\n"
     ]
    },
    {
     "data": {
      "text/plain": [
       "Unnamed: 0                           0\n",
       "Unnamed: 0.1                         0\n",
       "sample_id                            0\n",
       "genre_id                             0\n",
       "media_id                             0\n",
       "context_type                         0\n",
       "platform_family                      0\n",
       "media_duration                       0\n",
       "user_id                              0\n",
       "diff_ts_listen_AND_release_date_D    0\n",
       "diff_ts_listen_AND_release_date_M    0\n",
       "diff_ts_listen_AND_release_date_Y    0\n",
       "release_date_DAY                     0\n",
       "release_date_MONTH                   0\n",
       "release_date_YEAR                    0\n",
       "user_age_group                       0\n",
       "diff_user_song_age                   0\n",
       "media_decade                         0\n",
       "media_bpm                            0\n",
       "media_rank                           0\n",
       "artist_albuns                        0\n",
       "artist_fans                          0\n",
       "artist_radio                         0\n",
       "user_id_id                           0\n",
       "platform_name_1                      0\n",
       "platform_name_2                      0\n",
       "user_age_19                          0\n",
       "user_age_20                          0\n",
       "user_age_21                          0\n",
       "user_age_22                          0\n",
       "user_age_23                          0\n",
       "user_age_24                          0\n",
       "user_age_25                          0\n",
       "user_age_26                          0\n",
       "user_age_27                          0\n",
       "user_age_28                          0\n",
       "user_age_29                          0\n",
       "user_age_30                          0\n",
       "user_gender_1                        0\n",
       "ts_listen_DAY_OF_WEEK_1              0\n",
       "ts_listen_DAY_OF_WEEK_2              0\n",
       "ts_listen_DAY_OF_WEEK_3              0\n",
       "ts_listen_DAY_OF_WEEK_4              0\n",
       "ts_listen_DAY_OF_WEEK_5              0\n",
       "ts_listen_DAY_OF_WEEK_6              0\n",
       "ts_listen_PERIOD_OF_DAY_1            0\n",
       "ts_listen_PERIOD_OF_DAY_2            0\n",
       "ts_listen_PERIOD_OF_DAY_3            0\n",
       "listen_type_1                        0\n",
       "dtype: int64"
      ]
     },
     "execution_count": 142,
     "metadata": {},
     "output_type": "execute_result"
    }
   ],
   "source": [
    "df_test[\"listen_type_1\"] = 1\n",
    "features\n",
    "\n",
    "d = pd.isnull(df_test).sum()\n",
    "cols_w_na = d[d > 0].index\n",
    "\n",
    "for column in cols_w_na:\n",
    "    try:\n",
    "        df_test[column] = df_test[column].fillna(df_train[column].mean(skipna=True))\n",
    "    except:\n",
    "        df_test[column].fillna(0, inplace=True)\n",
    "\n",
    "print_full(pd.isnull(df_test).sum())\n",
    "\n",
    "pd.isnull(df_test).sum()"
   ]
  },
  {
   "cell_type": "code",
   "execution_count": 143,
   "metadata": {
    "collapsed": false,
    "deletable": true,
    "editable": true
   },
   "outputs": [
    {
     "name": "stdout",
     "output_type": "stream",
     "text": [
      "662\n",
      "19160\n"
     ]
    }
   ],
   "source": [
    "df_test_group_2 = df_test[df_test[\"user_id_id\"].isin(user_for_general_model)].copy(deep=True)\n",
    "\n",
    "p = model.predict_proba(df_test_group_2[features])\n",
    "p = p[:, 1]\n",
    "\n",
    "df_test_group_2[\"prediction\"] = p\n",
    "df_test_group_2[\"prediction\"].head()\n",
    "\n",
    "print(len(df_test))\n",
    "print(len(df_test_group_1))\n",
    "df_test_group_2[[\"prediction\", \"user_id_id\"]]\n",
    "df_test_group_2[[\"prediction\", \"user_id_id\"]].to_csv(\"group2.csv\")\n",
    "df_test_group_2[[\"prediction\", \"user_id_id\"]].to_csv(\"group2_note21.csv\")"
   ]
  },
  {
   "cell_type": "code",
   "execution_count": 83,
   "metadata": {
    "collapsed": false,
    "deletable": true,
    "editable": true
   },
   "outputs": [
    {
     "data": {
      "text/plain": [
       "['genre_id',\n",
       " 'media_id',\n",
       " 'context_type',\n",
       " 'platform_family',\n",
       " 'media_duration',\n",
       " 'user_id',\n",
       " 'diff_ts_listen_AND_release_date_D',\n",
       " 'diff_ts_listen_AND_release_date_M',\n",
       " 'diff_ts_listen_AND_release_date_Y',\n",
       " 'release_date_DAY',\n",
       " 'release_date_MONTH',\n",
       " 'release_date_YEAR',\n",
       " 'user_age_group',\n",
       " 'diff_user_song_age',\n",
       " 'media_decade',\n",
       " 'artist_albuns',\n",
       " 'artist_fans',\n",
       " 'artist_radio',\n",
       " 'media_bpm',\n",
       " 'media_rank',\n",
       " 'user_id_id',\n",
       " 'platform_name_1',\n",
       " 'platform_name_2',\n",
       " 'user_age_19',\n",
       " 'user_age_20',\n",
       " 'user_age_21',\n",
       " 'user_age_22',\n",
       " 'user_age_23',\n",
       " 'user_age_24',\n",
       " 'user_age_25',\n",
       " 'user_age_26',\n",
       " 'user_age_27',\n",
       " 'user_age_28',\n",
       " 'user_age_29',\n",
       " 'user_age_30',\n",
       " 'listen_type_1',\n",
       " 'user_gender_1',\n",
       " 'ts_listen_DAY_OF_WEEK_1',\n",
       " 'ts_listen_DAY_OF_WEEK_2',\n",
       " 'ts_listen_DAY_OF_WEEK_3',\n",
       " 'ts_listen_DAY_OF_WEEK_4',\n",
       " 'ts_listen_DAY_OF_WEEK_5',\n",
       " 'ts_listen_DAY_OF_WEEK_6',\n",
       " 'ts_listen_PERIOD_OF_DAY_1',\n",
       " 'ts_listen_PERIOD_OF_DAY_2',\n",
       " 'ts_listen_PERIOD_OF_DAY_3']"
      ]
     },
     "execution_count": 83,
     "metadata": {},
     "output_type": "execute_result"
    }
   ],
   "source": [
    "features"
   ]
  },
  {
   "cell_type": "code",
   "execution_count": 84,
   "metadata": {
    "collapsed": false,
    "deletable": true,
    "editable": true
   },
   "outputs": [
    {
     "data": {
      "text/plain": [
       "2630"
      ]
     },
     "execution_count": 84,
     "metadata": {},
     "output_type": "execute_result"
    }
   ],
   "source": [
    "len(df_test)"
   ]
  },
  {
   "cell_type": "code",
   "execution_count": 85,
   "metadata": {
    "autoscroll": "json-false",
    "collapsed": false,
    "deletable": true,
    "editable": true,
    "ein.tags": [
     "worksheet-0"
    ],
    "slideshow": {
     "slide_type": "-"
    }
   },
   "outputs": [],
   "source": [
    "# features =['genre_id', \n",
    "#            'media_id', \n",
    "#            'context_type', \n",
    "#     #       'media_duration', \n",
    "#            'listen_type', \n",
    "#     #       'user_id', \n",
    "#    #        'diff_ts_listen_AND_release_date_D', \n",
    "#            'diff_ts_listen_AND_release_date_M', \n",
    "#    #        'diff_ts_listen_AND_release_date_Y', \n",
    "#     #       'release_date_YEAR', \n",
    "#            'diff_user_song_age', \n",
    "#            'artist_albuns', \n",
    "#            'artist_fans', \n",
    "#            'artist_radio', \n",
    "#            'media_bpm', \n",
    "#            'media_rank', \n",
    "#            #'user_id_id', \n",
    "# #            'nmidia_regular_listened', \n",
    "# #            'nmidia_with_flow_listened', \n",
    "# #            'nmidia_regular', \n",
    "# #            'nmidia_with_flow', \n",
    "#            'platform_name_1', \n",
    "#            'platform_name_2', \n",
    "#            'platform_family_1', \n",
    "#            'platform_family_2', \n",
    "#            'user_age_19', \n",
    "#            'user_age_20', \n",
    "#            'user_age_21', \n",
    "#            'user_age_22', \n",
    "#            'user_age_23', \n",
    "#            'user_age_25', \n",
    "#            'user_age_26', \n",
    "#            'user_age_27', \n",
    "#            'user_age_28', \n",
    "#            'user_age_29', \n",
    "#            'user_age_30', \n",
    "#            'user_age_group_1',\n",
    "#            'user_age_group_2', \n",
    "# #            'media_decade_1', \n",
    "#            'media_decade_2',\n",
    "#            'media_decade_5', \n",
    "#            'media_decade_7', \n",
    "#            'media_decade_8', \n",
    "#            'user_gender_1', \n",
    "#            'user_age_group_1', \n",
    "#            'user_age_group_2', \n",
    "#            'ts_listen_DAY_OF_WEEK_1',\n",
    "#            'ts_listen_DAY_OF_WEEK_2', \n",
    "#            'ts_listen_DAY_OF_WEEK_3', \n",
    "#            'ts_listen_DAY_OF_WEEK_4', \n",
    "#            'ts_listen_DAY_OF_WEEK_5',\n",
    "#            'ts_listen_PERIOD_OF_DAY_2', \n",
    "#            'ts_listen_PERIOD_OF_DAY_3']"
   ]
  },
  {
   "cell_type": "markdown",
   "metadata": {
    "deletable": true,
    "editable": true
   },
   "source": [
    "['genre_id', 'media_id', 'context_type', 'media_duration', 'listen_type', 'user_id', 'diff_ts_listen_AND_release_date_D', 'diff_ts_listen_AND_release_date_M', 'diff_ts_listen_AND_release_date_Y', 'release_date_YEAR', 'diff_user_song_age', 'artist_albuns', 'artist_fans', 'artist_radio', 'media_bpm', 'media_rank', 'user_id_id', 'nmidia_regular_listened', 'nmidia_with_flow_listened', 'nmidia_regular', 'nmidia_with_flow', 'platform_name_1', 'platform_name_2', 'platform_family_1', 'platform_family_2', 'user_age_19', 'user_age_20', 'user_age_21', 'user_age_22', 'user_age_23', 'user_age_25', 'user_age_26', 'user_age_27', 'user_age_28', 'user_age_29', 'user_age_30', 'user_age_group_1', 'user_age_group_2', 'media_decade_1', 'media_decade_2', 'media_decade_5', 'media_decade_7', 'media_decade_8', 'user_gender_1', 'user_age_group_1', 'user_age_group_2', 'ts_listen_DAY_OF_WEEK_1', 'ts_listen_DAY_OF_WEEK_2', 'ts_listen_DAY_OF_WEEK_3', 'ts_listen_DAY_OF_WEEK_4', 'ts_listen_DAY_OF_WEEK_5', 'ts_listen_PERIOD_OF_DAY_2', 'ts_listen_PERIOD_OF_DAY_3']"
   ]
  },
  {
   "cell_type": "code",
   "execution_count": 86,
   "metadata": {
    "collapsed": false,
    "deletable": true,
    "editable": true
   },
   "outputs": [
    {
     "data": {
      "text/plain": [
       "0"
      ]
     },
     "execution_count": 86,
     "metadata": {},
     "output_type": "execute_result"
    }
   ],
   "source": [
    "### 0.7678\n",
    "\n",
    "for column in features:\n",
    "    try:\n",
    "        df_test[column] = df_test[column].fillna(df_train[column].mean(skipna=True))\n",
    "    except:\n",
    "        df_test[column] = 0\n",
    "\n",
    "#df_test = df_test.fillna(df_train.mean(skipna=True), axis=1)\n",
    "df_test = df_test.applymap(lambda x : float(x))\n",
    "pd.isnull(df_test).sum().sum()"
   ]
  },
  {
   "cell_type": "code",
   "execution_count": 87,
   "metadata": {
    "collapsed": false,
    "deletable": true,
    "editable": true
   },
   "outputs": [],
   "source": [
    "# df_test = df_test.fillna(df_train.mean(skipna=True).to_dict, axis=1)#.dropna(axis=1, how='all')\n",
    "# pd.isnull(df_test).sum()\n",
    "# df_train.mean(skipna=True).to_dict\n",
    "features = ['media_duration',\n",
    "            \"genre_id\",\n",
    "            \"artist_radio\",\n",
    " #'artist_id',\n",
    " 'diff_ts_listen_AND_release_date_M',\n",
    " 'diff_user_song_age',\n",
    " 'artist_albuns',\n",
    " 'artist_fans',\n",
    " 'media_bpm',\n",
    " 'media_rank',\n",
    " 'listen_type_1',\n",
    " 'user_gender_1',\n",
    " 'ts_listen_DAY_OF_WEEK_1',\n",
    " 'ts_listen_DAY_OF_WEEK_2',\n",
    " 'ts_listen_DAY_OF_WEEK_3',\n",
    " 'ts_listen_DAY_OF_WEEK_4',\n",
    " 'ts_listen_DAY_OF_WEEK_5',\n",
    " 'ts_listen_DAY_OF_WEEK_6',\n",
    " 'ts_listen_PERIOD_OF_DAY_1',\n",
    " 'ts_listen_PERIOD_OF_DAY_2',\n",
    " 'ts_listen_PERIOD_OF_DAY_3']"
   ]
  },
  {
   "cell_type": "code",
   "execution_count": 88,
   "metadata": {
    "autoscroll": "json-false",
    "collapsed": false,
    "deletable": true,
    "editable": true,
    "ein.tags": [
     "worksheet-0"
    ],
    "slideshow": {
     "slide_type": "-"
    }
   },
   "outputs": [
    {
     "name": "stdout",
     "output_type": "stream",
     "text": [
      "17 selected variables from 20, 85.00%\n",
      "['media_duration', 'genre_id', 'diff_ts_listen_AND_release_date_M', 'diff_user_song_age', 'artist_albuns', 'artist_fans', 'media_bpm', 'media_rank', 'listen_type_1', 'user_gender_1', 'ts_listen_DAY_OF_WEEK_1', 'ts_listen_DAY_OF_WEEK_4', 'ts_listen_DAY_OF_WEEK_5', 'ts_listen_DAY_OF_WEEK_6', 'ts_listen_PERIOD_OF_DAY_1', 'ts_listen_PERIOD_OF_DAY_2', 'ts_listen_PERIOD_OF_DAY_3']\n"
     ]
    }
   ],
   "source": [
    "from sklearn.model_selection import train_test_split\n",
    "X_train, X_test, y_train, y_test = train_test_split(df_train[features], df_train[target], test_size = 0.2)\n",
    "\n",
    "from sklearn import feature_selection\n",
    "all_features = features\n",
    "function_rule_selection = feature_selection.f_classif\n",
    "alpha_cutoff = 0.001\n",
    "\n",
    "selection_rule = feature_selection.SelectFdr(function_rule_selection, alpha_cutoff)\n",
    "selection_rule.fit(X_train, y_train);\n",
    "\n",
    "all_pvalues = list(filter(lambda x: pd.notnull(x[0]), zip(selection_rule.pvalues_, all_features)))\n",
    "#print(all_pvalues)\n",
    "filtered_pvalues = list(filter(lambda x: x[0]<=alpha_cutoff, all_pvalues))\n",
    "#print(filtered_pvalues)\n",
    "all_select_features = list(map(lambda x: x[1], filtered_pvalues))\n",
    "\n",
    "print(\"{0} selected variables from {1}, {2:.2f}%\".format(len(all_select_features), \n",
    "                                                        len(all_features), \n",
    "                                                        len(filtered_pvalues)*100/float(len(all_features))))\n",
    "print(all_select_features)\n",
    "#print(filtered_pvalues)\n",
    "\n",
    "features = all_select_features\n",
    "X_train, X_test, y_train, y_test = train_test_split(df_train[features], df_train[target], test_size = 0.3)\n",
    "X_val, X_test, y_val, y_test = train_test_split(X_test, y_test, test_size = 0.5)"
   ]
  },
  {
   "cell_type": "code",
   "execution_count": 89,
   "metadata": {
    "autoscroll": "json-false",
    "collapsed": false,
    "deletable": true,
    "editable": true,
    "ein.tags": [
     "worksheet-0"
    ],
    "slideshow": {
     "slide_type": "-"
    }
   },
   "outputs": [
    {
     "name": "stdout",
     "output_type": "stream",
     "text": [
      "[0]\ttrain-auc:0.623018\ttest-auc:0.604878\tvalidation-auc:0.605316\n",
      "Multiple eval metrics have been passed: 'validation-auc' will be used for early stopping.\n",
      "\n",
      "Will train until validation-auc hasn't improved in 5 rounds.\n",
      "[1]\ttrain-auc:0.641451\ttest-auc:0.622001\tvalidation-auc:0.621474\n",
      "[2]\ttrain-auc:0.660316\ttest-auc:0.630156\tvalidation-auc:0.629175\n",
      "[3]\ttrain-auc:0.665088\ttest-auc:0.632334\tvalidation-auc:0.631071\n",
      "[4]\ttrain-auc:0.67589\ttest-auc:0.643068\tvalidation-auc:0.641985\n",
      "[5]\ttrain-auc:0.687978\ttest-auc:0.648012\tvalidation-auc:0.646999\n",
      "[6]\ttrain-auc:0.697887\ttest-auc:0.653618\tvalidation-auc:0.652484\n",
      "[7]\ttrain-auc:0.700155\ttest-auc:0.655687\tvalidation-auc:0.654828\n",
      "[8]\ttrain-auc:0.705114\ttest-auc:0.65982\tvalidation-auc:0.659063\n",
      "[9]\ttrain-auc:0.709947\ttest-auc:0.661405\tvalidation-auc:0.660723\n",
      "[10]\ttrain-auc:0.712705\ttest-auc:0.663522\tvalidation-auc:0.662892\n",
      "[11]\ttrain-auc:0.714199\ttest-auc:0.663423\tvalidation-auc:0.662781\n",
      "[12]\ttrain-auc:0.717878\ttest-auc:0.663518\tvalidation-auc:0.662816\n",
      "[13]\ttrain-auc:0.720273\ttest-auc:0.665205\tvalidation-auc:0.664481\n",
      "[14]\ttrain-auc:0.724818\ttest-auc:0.666975\tvalidation-auc:0.666301\n",
      "[15]\ttrain-auc:0.726872\ttest-auc:0.667003\tvalidation-auc:0.666313\n",
      "[16]\ttrain-auc:0.728474\ttest-auc:0.667543\tvalidation-auc:0.666806\n",
      "[17]\ttrain-auc:0.731098\ttest-auc:0.66833\tvalidation-auc:0.667685\n",
      "[18]\ttrain-auc:0.734969\ttest-auc:0.670573\tvalidation-auc:0.669914\n",
      "[19]\ttrain-auc:0.734812\ttest-auc:0.67057\tvalidation-auc:0.669932\n",
      "[20]\ttrain-auc:0.737882\ttest-auc:0.671046\tvalidation-auc:0.670389\n",
      "[21]\ttrain-auc:0.73855\ttest-auc:0.67113\tvalidation-auc:0.670432\n",
      "[22]\ttrain-auc:0.740557\ttest-auc:0.671274\tvalidation-auc:0.670583\n",
      "[23]\ttrain-auc:0.743377\ttest-auc:0.672002\tvalidation-auc:0.671291\n",
      "[24]\ttrain-auc:0.743735\ttest-auc:0.672192\tvalidation-auc:0.671481\n",
      "[25]\ttrain-auc:0.747327\ttest-auc:0.673618\tvalidation-auc:0.672946\n",
      "[26]\ttrain-auc:0.748718\ttest-auc:0.674091\tvalidation-auc:0.673448\n",
      "[27]\ttrain-auc:0.751862\ttest-auc:0.674333\tvalidation-auc:0.673703\n",
      "[28]\ttrain-auc:0.754229\ttest-auc:0.674472\tvalidation-auc:0.673801\n",
      "[29]\ttrain-auc:0.755799\ttest-auc:0.674334\tvalidation-auc:0.673653\n",
      "[30]\ttrain-auc:0.757083\ttest-auc:0.674747\tvalidation-auc:0.674043\n",
      "[31]\ttrain-auc:0.758821\ttest-auc:0.674688\tvalidation-auc:0.674111\n",
      "[32]\ttrain-auc:0.760106\ttest-auc:0.674934\tvalidation-auc:0.674329\n",
      "[33]\ttrain-auc:0.763423\ttest-auc:0.675926\tvalidation-auc:0.675331\n",
      "[34]\ttrain-auc:0.765729\ttest-auc:0.676803\tvalidation-auc:0.676193\n",
      "[35]\ttrain-auc:0.768659\ttest-auc:0.677229\tvalidation-auc:0.676647\n",
      "[36]\ttrain-auc:0.769684\ttest-auc:0.67721\tvalidation-auc:0.67665\n",
      "[37]\ttrain-auc:0.771705\ttest-auc:0.677449\tvalidation-auc:0.676811\n",
      "[38]\ttrain-auc:0.772399\ttest-auc:0.677518\tvalidation-auc:0.6769\n",
      "[39]\ttrain-auc:0.773123\ttest-auc:0.677627\tvalidation-auc:0.676994\n",
      "[40]\ttrain-auc:0.774399\ttest-auc:0.67775\tvalidation-auc:0.677137\n",
      "[41]\ttrain-auc:0.777185\ttest-auc:0.67815\tvalidation-auc:0.67756\n",
      "[42]\ttrain-auc:0.77757\ttest-auc:0.678184\tvalidation-auc:0.67756\n",
      "[43]\ttrain-auc:0.77896\ttest-auc:0.677897\tvalidation-auc:0.677356\n",
      "[44]\ttrain-auc:0.779974\ttest-auc:0.678153\tvalidation-auc:0.677603\n",
      "[45]\ttrain-auc:0.781027\ttest-auc:0.678296\tvalidation-auc:0.677711\n",
      "[46]\ttrain-auc:0.782658\ttest-auc:0.678306\tvalidation-auc:0.677681\n",
      "[47]\ttrain-auc:0.783754\ttest-auc:0.678381\tvalidation-auc:0.677761\n",
      "[48]\ttrain-auc:0.785552\ttest-auc:0.678302\tvalidation-auc:0.677737\n",
      "[49]\ttrain-auc:0.78558\ttest-auc:0.678333\tvalidation-auc:0.677773\n",
      "0.749033\n",
      "Tempo de execução: 9m1s\n"
     ]
    }
   ],
   "source": [
    "import xgboost as xgb\n",
    "from time import time\n",
    "import numpy as np\n",
    "\n",
    "start = time()\n",
    "xg_train = xgb.DMatrix(X_train, label=y_train.values, missing=np.NaN)\n",
    "xg_test = xgb.DMatrix(X_test, label=y_test.values, missing=np.NaN)\n",
    "xg_val = xgb.DMatrix(X_val, label=y_val.values, missing=np.NaN)\n",
    "param = {'max_depth':55, \n",
    "         'eta':0.2, \n",
    "         'silent':0, \n",
    "         'objective':'binary:logistic', \n",
    "         \"booster\": \"gbtree\", \n",
    "         \"max_delta_step\":1,\n",
    "         \"alpha\": 0.2,\n",
    "         \"lambda\": 0.2,\n",
    "         #\"scale_pos_weight\": class_ratio,\n",
    "         \"eval_metric\": \"auc\",\n",
    "          \"verbose\": 1}\n",
    "\n",
    "### Objectives\n",
    "## 'binary:logistic'\n",
    "## 'multi:softprob'\n",
    "#param['num_class'] = 2\n",
    "param[\"min_child_weight\"] = 30\n",
    "param[\"colsample_bytree\"] = 0.5\n",
    "num_round = 50\n",
    "\n",
    "watchlist = [(xg_train,'train'), (xg_test,'test'), (xg_val,'validation')]\n",
    "#watchlist = [(xg_val,'validation')]\n",
    "\n",
    "bst = xgb.train(param, \n",
    "                xg_train, \n",
    "                num_round,\n",
    "                watchlist,\n",
    "                early_stopping_rounds=5)\n",
    "\n",
    "yprob = bst.predict( xg_test ) #.reshape( y_test.shape[0], 2)\n",
    "print(yprob[0])\n",
    "\n",
    "print('Tempo de execução: {0}m{1}s'.format(int((time()-start)/60),\n",
    "             int((time()-start)%60 )))"
   ]
  },
  {
   "cell_type": "code",
   "execution_count": 111,
   "metadata": {
    "collapsed": false,
    "deletable": true,
    "editable": true
   },
   "outputs": [
    {
     "name": "stdout",
     "output_type": "stream",
     "text": [
      "*********************************\n",
      "Accuracy: 0.70\n",
      "Precision: 0.715909700412\n",
      "Recall: 0.930004954762\n",
      "F1-Score: 0.809032918508\n",
      "[[ 72794 286017]\n",
      " [ 54247 720765]]\n",
      "Roc Area: 0.566440281685\n"
     ]
    },
    {
     "data": {
      "image/png": "[encoded data removed]",
      "text/plain": [
       "<matplotlib.figure.Figure at 0x7f9a9a9f1710>"
      ]
     },
     "metadata": {},
     "output_type": "display_data"
    },
    {
     "name": "stdout",
     "output_type": "stream",
     "text": [
      "*********************************\n"
     ]
    },
    {
     "data": {
      "text/plain": [
       "0.56644028168465388"
      ]
     },
     "execution_count": 111,
     "metadata": {},
     "output_type": "execute_result"
    }
   ],
   "source": [
    "y_pred = [1 if y > 0.5 else 0 for y in yprob]\n",
    "complete_report(y_test, y_pred)"
   ]
  },
  {
   "cell_type": "code",
   "execution_count": 133,
   "metadata": {
    "collapsed": false,
    "deletable": true,
    "editable": true
   },
   "outputs": [
    {
     "data": {
      "text/plain": [
       "Index([u'Unnamed: 0', u'Unnamed: 0.1', u'sample_id', u'genre_id', u'media_id', u'context_type', u'platform_family', u'media_duration', u'user_id', u'diff_ts_listen_AND_release_date_D',\n",
       "       u'diff_ts_listen_AND_release_date_M', u'diff_ts_listen_AND_release_date_Y', u'release_date_DAY', u'release_date_MONTH', u'release_date_YEAR', u'user_age_group', u'diff_user_song_age',\n",
       "       u'media_decade', u'media_bpm', u'media_rank', u'artist_albuns', u'artist_fans', u'artist_radio', u'user_id_id', u'platform_name_1', u'platform_name_2', u'user_age_19', u'user_age_20',\n",
       "       u'user_age_21', u'user_age_22', u'user_age_23', u'user_age_24', u'user_age_25', u'user_age_26', u'user_age_27', u'user_age_28', u'user_age_29', u'user_age_30', u'user_gender_1',\n",
       "       u'ts_listen_DAY_OF_WEEK_1', u'ts_listen_DAY_OF_WEEK_2', u'ts_listen_DAY_OF_WEEK_3', u'ts_listen_DAY_OF_WEEK_4', u'ts_listen_DAY_OF_WEEK_5', u'ts_listen_DAY_OF_WEEK_6',\n",
       "       u'ts_listen_PERIOD_OF_DAY_1', u'ts_listen_PERIOD_OF_DAY_2', u'ts_listen_PERIOD_OF_DAY_3', u'listen_type_1'],\n",
       "      dtype='object')"
      ]
     },
     "execution_count": 133,
     "metadata": {},
     "output_type": "execute_result"
    }
   ],
   "source": [
    "df_test_group_2.columns"
   ]
  },
  {
   "cell_type": "code",
   "execution_count": 132,
   "metadata": {
    "autoscroll": "json-false",
    "collapsed": false,
    "deletable": true,
    "editable": true,
    "ein.tags": [
     "worksheet-0"
    ],
    "slideshow": {
     "slide_type": "-"
    }
   },
   "outputs": [
    {
     "ename": "ValueError",
     "evalue": "Input contains NaN, infinity or a value too large for dtype('float32').",
     "output_type": "error",
     "traceback": [
      "\u001b[0;31m--------------------------------------------------------------------------\u001b[0m",
      "\u001b[0;31mValueError\u001b[0m                               Traceback (most recent call last)",
      "\u001b[0;32m<ipython-input-132-a9dfdbf8693c>\u001b[0m in \u001b[0;36m<module>\u001b[0;34m()\u001b[0m\n\u001b[1;32m      4\u001b[0m \u001b[0;34m\u001b[0m\u001b[0m\n\u001b[1;32m      5\u001b[0m \u001b[0mdf_test_group_2\u001b[0m\u001b[0;34m[\u001b[0m\u001b[0;34m\"listen_type_1\"\u001b[0m\u001b[0;34m]\u001b[0m\u001b[0;34m=\u001b[0m \u001b[0;36m1\u001b[0m\u001b[0;34m\u001b[0m\u001b[0m\n\u001b[0;32m----> 6\u001b[0;31m \u001b[0mp\u001b[0m \u001b[0;34m=\u001b[0m \u001b[0mmodel\u001b[0m\u001b[0;34m.\u001b[0m\u001b[0mpredict_proba\u001b[0m\u001b[0;34m(\u001b[0m\u001b[0mdf_test_group_2\u001b[0m\u001b[0;34m[\u001b[0m\u001b[0mfeatures\u001b[0m\u001b[0;34m]\u001b[0m\u001b[0;34m)\u001b[0m\u001b[0;34m\u001b[0m\u001b[0m\n\u001b[0m\u001b[1;32m      7\u001b[0m \u001b[0mp\u001b[0m \u001b[0;34m=\u001b[0m \u001b[0mp\u001b[0m\u001b[0;34m[\u001b[0m\u001b[0;34m:\u001b[0m\u001b[0;34m,\u001b[0m \u001b[0;36m1\u001b[0m\u001b[0;34m]\u001b[0m\u001b[0;34m\u001b[0m\u001b[0m\n\u001b[1;32m      8\u001b[0m \u001b[0mdf_test_group_2\u001b[0m\u001b[0;34m[\u001b[0m\u001b[0;34m\"prediction\"\u001b[0m\u001b[0;34m]\u001b[0m \u001b[0;34m=\u001b[0m \u001b[0mp\u001b[0m\u001b[0;34m\u001b[0m\u001b[0m\n",
      "\u001b[0;32m/home/ubuntu/anaconda3/envs/ml/lib/python2.7/site-packages/sklearn/ensemble/forest.pyc\u001b[0m in \u001b[0;36mpredict_proba\u001b[0;34m(self, X)\u001b[0m\n\u001b[1;32m    571\u001b[0m         \"\"\"\n\u001b[1;32m    572\u001b[0m         \u001b[0;31m# Check data\u001b[0m\u001b[0;34m\u001b[0m\u001b[0;34m\u001b[0m\u001b[0m\n\u001b[0;32m--> 573\u001b[0;31m         \u001b[0mX\u001b[0m \u001b[0;34m=\u001b[0m \u001b[0mself\u001b[0m\u001b[0;34m.\u001b[0m\u001b[0m_validate_X_predict\u001b[0m\u001b[0;34m(\u001b[0m\u001b[0mX\u001b[0m\u001b[0;34m)\u001b[0m\u001b[0;34m\u001b[0m\u001b[0m\n\u001b[0m\u001b[1;32m    574\u001b[0m \u001b[0;34m\u001b[0m\u001b[0m\n\u001b[1;32m    575\u001b[0m         \u001b[0;31m# Assign chunk of trees to jobs\u001b[0m\u001b[0;34m\u001b[0m\u001b[0;34m\u001b[0m\u001b[0m\n",
      "\u001b[0;32m/home/ubuntu/anaconda3/envs/ml/lib/python2.7/site-packages/sklearn/ensemble/forest.pyc\u001b[0m in \u001b[0;36m_validate_X_predict\u001b[0;34m(self, X)\u001b[0m\n\u001b[1;32m    353\u001b[0m                                  \"call `fit` before exploiting the model.\")\n\u001b[1;32m    354\u001b[0m \u001b[0;34m\u001b[0m\u001b[0m\n\u001b[0;32m--> 355\u001b[0;31m         \u001b[0;32mreturn\u001b[0m \u001b[0mself\u001b[0m\u001b[0;34m.\u001b[0m\u001b[0mestimators_\u001b[0m\u001b[0;34m[\u001b[0m\u001b[0;36m0\u001b[0m\u001b[0;34m]\u001b[0m\u001b[0;34m.\u001b[0m\u001b[0m_validate_X_predict\u001b[0m\u001b[0;34m(\u001b[0m\u001b[0mX\u001b[0m\u001b[0;34m,\u001b[0m \u001b[0mcheck_input\u001b[0m\u001b[0;34m=\u001b[0m\u001b[0mTrue\u001b[0m\u001b[0;34m)\u001b[0m\u001b[0;34m\u001b[0m\u001b[0m\n\u001b[0m\u001b[1;32m    356\u001b[0m \u001b[0;34m\u001b[0m\u001b[0m\n\u001b[1;32m    357\u001b[0m     \u001b[0;34m@\u001b[0m\u001b[0mproperty\u001b[0m\u001b[0;34m\u001b[0m\u001b[0m\n",
      "\u001b[0;32m/home/ubuntu/anaconda3/envs/ml/lib/python2.7/site-packages/sklearn/tree/tree.pyc\u001b[0m in \u001b[0;36m_validate_X_predict\u001b[0;34m(self, X, check_input)\u001b[0m\n\u001b[1;32m    363\u001b[0m \u001b[0;34m\u001b[0m\u001b[0m\n\u001b[1;32m    364\u001b[0m         \u001b[0;32mif\u001b[0m \u001b[0mcheck_input\u001b[0m\u001b[0;34m:\u001b[0m\u001b[0;34m\u001b[0m\u001b[0m\n\u001b[0;32m--> 365\u001b[0;31m             \u001b[0mX\u001b[0m \u001b[0;34m=\u001b[0m \u001b[0mcheck_array\u001b[0m\u001b[0;34m(\u001b[0m\u001b[0mX\u001b[0m\u001b[0;34m,\u001b[0m \u001b[0mdtype\u001b[0m\u001b[0;34m=\u001b[0m\u001b[0mDTYPE\u001b[0m\u001b[0;34m,\u001b[0m \u001b[0maccept_sparse\u001b[0m\u001b[0;34m=\u001b[0m\u001b[0;34m\"csr\"\u001b[0m\u001b[0;34m)\u001b[0m\u001b[0;34m\u001b[0m\u001b[0m\n\u001b[0m\u001b[1;32m    366\u001b[0m             if issparse(X) and (X.indices.dtype != np.intc or\n\u001b[1;32m    367\u001b[0m                                 X.indptr.dtype != np.intc):\n",
      "\u001b[0;32m/home/ubuntu/anaconda3/envs/ml/lib/python2.7/site-packages/sklearn/utils/validation.pyc\u001b[0m in \u001b[0;36mcheck_array\u001b[0;34m(array, accept_sparse, dtype, order, copy, force_all_finite, ensure_2d, allow_nd, ensure_min_samples, ensure_min_features, warn_on_dtype, estimator)\u001b[0m\n\u001b[1;32m    405\u001b[0m                              % (array.ndim, estimator_name))\n\u001b[1;32m    406\u001b[0m         \u001b[0;32mif\u001b[0m \u001b[0mforce_all_finite\u001b[0m\u001b[0;34m:\u001b[0m\u001b[0;34m\u001b[0m\u001b[0m\n\u001b[0;32m--> 407\u001b[0;31m             \u001b[0m_assert_all_finite\u001b[0m\u001b[0;34m(\u001b[0m\u001b[0marray\u001b[0m\u001b[0;34m)\u001b[0m\u001b[0;34m\u001b[0m\u001b[0m\n\u001b[0m\u001b[1;32m    408\u001b[0m \u001b[0;34m\u001b[0m\u001b[0m\n\u001b[1;32m    409\u001b[0m     \u001b[0mshape_repr\u001b[0m \u001b[0;34m=\u001b[0m \u001b[0m_shape_repr\u001b[0m\u001b[0;34m(\u001b[0m\u001b[0marray\u001b[0m\u001b[0;34m.\u001b[0m\u001b[0mshape\u001b[0m\u001b[0;34m)\u001b[0m\u001b[0;34m\u001b[0m\u001b[0m\n",
      "\u001b[0;32m/home/ubuntu/anaconda3/envs/ml/lib/python2.7/site-packages/sklearn/utils/validation.pyc\u001b[0m in \u001b[0;36m_assert_all_finite\u001b[0;34m(X)\u001b[0m\n\u001b[1;32m     56\u001b[0m             and not np.isfinite(X).all()):\n\u001b[1;32m     57\u001b[0m         raise ValueError(\"Input contains NaN, infinity\"\n\u001b[0;32m---> 58\u001b[0;31m                          \" or a value too large for %r.\" % X.dtype)\n\u001b[0m\u001b[1;32m     59\u001b[0m \u001b[0;34m\u001b[0m\u001b[0m\n\u001b[1;32m     60\u001b[0m \u001b[0;34m\u001b[0m\u001b[0m\n",
      "\u001b[0;31mValueError\u001b[0m: Input contains NaN, infinity or a value too large for dtype('float32')."
     ]
    }
   ],
   "source": [
    "df_test_group_2 = df_test[df_test[\"user_id_id\"].isin(user_for_general_model)].copy(deep=True)\n",
    "# xg_sub = xgb.DMatrix(df_test_group_2[features], missing=np.NaN)\n",
    "# p = bst.predict(xg_sub)\n",
    "\n",
    "#df_test_group_2[\"listen_type_1\"]= 1\n",
    "p = model.predict_proba(df_test_group_2[features])\n",
    "p = p[:, 1]\n",
    "df_test_group_2[\"prediction\"] = p\n",
    "\n",
    "df_test_group_2[\"prediction\"] = p\n",
    "df_test_group_2[\"prediction\"].head()"
   ]
  },
  {
   "cell_type": "code",
   "execution_count": null,
   "metadata": {
    "autoscroll": "json-false",
    "collapsed": false,
    "deletable": true,
    "editable": true,
    "ein.tags": [
     "worksheet-0"
    ],
    "slideshow": {
     "slide_type": "-"
    }
   },
   "outputs": [],
   "source": [
    "df_test_group_2[[\"user_id_id\", \"prediction\"]].to_csv(\"group2.csv\")"
   ]
  },
  {
   "cell_type": "code",
   "execution_count": 144,
   "metadata": {
    "collapsed": true,
    "deletable": true,
    "editable": true
   },
   "outputs": [],
   "source": [
    "df_test_group_1 = pd.read_csv(\"group1.csv\", index_col=\"user_id_id\")\n",
    "df_test_group_2 = pd.read_csv(\"group2.csv\", index_col=\"user_id_id\")"
   ]
  },
  {
   "cell_type": "code",
   "execution_count": 145,
   "metadata": {
    "autoscroll": "json-false",
    "collapsed": false,
    "deletable": true,
    "editable": true,
    "ein.tags": [
     "worksheet-0"
    ],
    "slideshow": {
     "slide_type": "-"
    }
   },
   "outputs": [],
   "source": [
    "df_test = pd.read_csv(\"../data/test_data4.csv\")\n",
    "#df_test = df_test[\"user_id\"]\n",
    "#df_test[\"user_id_id\"] = df_test[\"user_id\"]\n",
    "# df_test = pd.merge(df_test, df_test_group_1[[\"user_id\", \"prediction\"]], on=\"user_id\")\n",
    "# df_test = pd.merge(df_test, df_test_group_2[[\"user_id\", \"prediction\"]], on=\"user_id\")\n",
    "df_test = pd.merge(df_test, df_test_group_1[[\"prediction\"]], left_on=\"user_id\", right_index=True, how=\"outer\")\n",
    "#df_test.join(df_test_group_2[[\"prediction\"]])\n",
    "df_test = pd.merge(df_test, df_test_group_2[[\"prediction\"]], left_on=\"user_id\", right_index=True, how=\"outer\")"
   ]
  },
  {
   "cell_type": "code",
   "execution_count": 146,
   "metadata": {
    "collapsed": false,
    "deletable": true,
    "editable": true
   },
   "outputs": [
    {
     "name": "stdout",
     "output_type": "stream",
     "text": [
      "19160\n",
      "662\n",
      "19918\n"
     ]
    }
   ],
   "source": [
    "print(len(df_test_group_1))\n",
    "print(len(df_test_group_2))\n",
    "print(len(df_test))"
   ]
  },
  {
   "cell_type": "code",
   "execution_count": 147,
   "metadata": {
    "collapsed": false,
    "deletable": true,
    "editable": true
   },
   "outputs": [],
   "source": [
    "#pd.set_option(\"precision\", 10)\n",
    "#df_test_group_2[[\"user_id\", \"prediction\"]].head()\n",
    "a = pd.read_csv(\"../data/test_data4.csv\")"
   ]
  },
  {
   "cell_type": "code",
   "execution_count": 148,
   "metadata": {
    "collapsed": false,
    "deletable": true,
    "editable": true
   },
   "outputs": [
    {
     "data": {
      "text/plain": [
       "0    17698\n",
       "1    10525\n",
       "2     8716\n",
       "3     5443\n",
       "4     7600\n",
       "Name: user_id, dtype: int64"
      ]
     },
     "execution_count": 148,
     "metadata": {},
     "output_type": "execute_result"
    }
   ],
   "source": [
    "a[\"user_id\"].head()"
   ]
  },
  {
   "cell_type": "code",
   "execution_count": 149,
   "metadata": {
    "collapsed": false,
    "deletable": true,
    "editable": true
   },
   "outputs": [
    {
     "data": {
      "text/html": [
       "<div>\n",
       "<table border=\"1\" class=\"dataframe\">\n",
       "  <thead>\n",
       "    <tr style=\"text-align: right;\">\n",
       "      <th></th>\n",
       "      <th>Unnamed: 0</th>\n",
       "      <th>Unnamed: 0.1</th>\n",
       "      <th>sample_id</th>\n",
       "      <th>genre_id</th>\n",
       "      <th>ts_listen</th>\n",
       "      <th>media_id</th>\n",
       "      <th>album_id</th>\n",
       "      <th>context_type</th>\n",
       "      <th>release_date</th>\n",
       "      <th>platform_name</th>\n",
       "      <th>...</th>\n",
       "      <th>user_age_group</th>\n",
       "      <th>diff_user_song_age</th>\n",
       "      <th>media_decade</th>\n",
       "      <th>media_bpm</th>\n",
       "      <th>media_rank</th>\n",
       "      <th>artist_albuns</th>\n",
       "      <th>artist_fans</th>\n",
       "      <th>artist_radio</th>\n",
       "      <th>prediction_x</th>\n",
       "      <th>prediction_y</th>\n",
       "    </tr>\n",
       "  </thead>\n",
       "  <tbody>\n",
       "    <tr>\n",
       "      <th>0</th>\n",
       "      <td>0</td>\n",
       "      <td>0</td>\n",
       "      <td>0</td>\n",
       "      <td>50</td>\n",
       "      <td>2016-11-02 14:32:51</td>\n",
       "      <td>683078</td>\n",
       "      <td>82356</td>\n",
       "      <td>1</td>\n",
       "      <td>2002-10-08 00:00:00</td>\n",
       "      <td>0</td>\n",
       "      <td>...</td>\n",
       "      <td>2</td>\n",
       "      <td>15.920548</td>\n",
       "      <td>7</td>\n",
       "      <td>181.0</td>\n",
       "      <td>293191.0</td>\n",
       "      <td>25.0</td>\n",
       "      <td>31649.0</td>\n",
       "      <td>1.0</td>\n",
       "      <td>1.0</td>\n",
       "      <td>NaN</td>\n",
       "    </tr>\n",
       "    <tr>\n",
       "      <th>1</th>\n",
       "      <td>1</td>\n",
       "      <td>1</td>\n",
       "      <td>1</td>\n",
       "      <td>2744</td>\n",
       "      <td>2016-11-16 15:25:40</td>\n",
       "      <td>876497</td>\n",
       "      <td>99692</td>\n",
       "      <td>1</td>\n",
       "      <td>1985-12-31 00:00:00</td>\n",
       "      <td>0</td>\n",
       "      <td>...</td>\n",
       "      <td>2</td>\n",
       "      <td>-2.898630</td>\n",
       "      <td>5</td>\n",
       "      <td>88.0</td>\n",
       "      <td>743839.0</td>\n",
       "      <td>10.0</td>\n",
       "      <td>585650.0</td>\n",
       "      <td>1.0</td>\n",
       "      <td>0.8</td>\n",
       "      <td>NaN</td>\n",
       "    </tr>\n",
       "    <tr>\n",
       "      <th>2</th>\n",
       "      <td>2</td>\n",
       "      <td>2</td>\n",
       "      <td>2</td>\n",
       "      <td>2744</td>\n",
       "      <td>2016-11-19 07:06:01</td>\n",
       "      <td>876497</td>\n",
       "      <td>99692</td>\n",
       "      <td>1</td>\n",
       "      <td>1985-12-31 00:00:00</td>\n",
       "      <td>0</td>\n",
       "      <td>...</td>\n",
       "      <td>2</td>\n",
       "      <td>-3.906849</td>\n",
       "      <td>5</td>\n",
       "      <td>88.0</td>\n",
       "      <td>743839.0</td>\n",
       "      <td>10.0</td>\n",
       "      <td>585650.0</td>\n",
       "      <td>1.0</td>\n",
       "      <td>0.3</td>\n",
       "      <td>NaN</td>\n",
       "    </tr>\n",
       "    <tr>\n",
       "      <th>3</th>\n",
       "      <td>3</td>\n",
       "      <td>3</td>\n",
       "      <td>3</td>\n",
       "      <td>2744</td>\n",
       "      <td>2016-11-06 16:42:09</td>\n",
       "      <td>876500</td>\n",
       "      <td>99692</td>\n",
       "      <td>1</td>\n",
       "      <td>1985-12-31 00:00:00</td>\n",
       "      <td>2</td>\n",
       "      <td>...</td>\n",
       "      <td>2</td>\n",
       "      <td>-0.871233</td>\n",
       "      <td>5</td>\n",
       "      <td>107.0</td>\n",
       "      <td>630042.0</td>\n",
       "      <td>10.0</td>\n",
       "      <td>585650.0</td>\n",
       "      <td>1.0</td>\n",
       "      <td>0.7</td>\n",
       "      <td>NaN</td>\n",
       "    </tr>\n",
       "    <tr>\n",
       "      <th>4</th>\n",
       "      <td>4</td>\n",
       "      <td>4</td>\n",
       "      <td>4</td>\n",
       "      <td>2744</td>\n",
       "      <td>2016-11-29 17:42:40</td>\n",
       "      <td>876504</td>\n",
       "      <td>99692</td>\n",
       "      <td>1</td>\n",
       "      <td>1985-12-31 00:00:00</td>\n",
       "      <td>2</td>\n",
       "      <td>...</td>\n",
       "      <td>2</td>\n",
       "      <td>-1.934247</td>\n",
       "      <td>5</td>\n",
       "      <td>110.0</td>\n",
       "      <td>372256.0</td>\n",
       "      <td>10.0</td>\n",
       "      <td>585650.0</td>\n",
       "      <td>1.0</td>\n",
       "      <td>0.9</td>\n",
       "      <td>NaN</td>\n",
       "    </tr>\n",
       "  </tbody>\n",
       "</table>\n",
       "<p>5 rows × 37 columns</p>\n",
       "</div>"
      ],
      "text/plain": [
       "   Unnamed: 0  Unnamed: 0.1  sample_id  genre_id            ts_listen  media_id  album_id  context_type         release_date  platform_name      ...       user_age_group  diff_user_song_age  \\\n",
       "0           0             0          0        50  2016-11-02 14:32:51    683078     82356             1  2002-10-08 00:00:00              0      ...                    2           15.920548   \n",
       "1           1             1          1      2744  2016-11-16 15:25:40    876497     99692             1  1985-12-31 00:00:00              0      ...                    2           -2.898630   \n",
       "2           2             2          2      2744  2016-11-19 07:06:01    876497     99692             1  1985-12-31 00:00:00              0      ...                    2           -3.906849   \n",
       "3           3             3          3      2744  2016-11-06 16:42:09    876500     99692             1  1985-12-31 00:00:00              2      ...                    2           -0.871233   \n",
       "4           4             4          4      2744  2016-11-29 17:42:40    876504     99692             1  1985-12-31 00:00:00              2      ...                    2           -1.934247   \n",
       "\n",
       "   media_decade  media_bpm  media_rank  artist_albuns  artist_fans artist_radio  prediction_x  prediction_y  \n",
       "0             7      181.0    293191.0           25.0      31649.0          1.0           1.0           NaN  \n",
       "1             5       88.0    743839.0           10.0     585650.0          1.0           0.8           NaN  \n",
       "2             5       88.0    743839.0           10.0     585650.0          1.0           0.3           NaN  \n",
       "3             5      107.0    630042.0           10.0     585650.0          1.0           0.7           NaN  \n",
       "4             5      110.0    372256.0           10.0     585650.0          1.0           0.9           NaN  \n",
       "\n",
       "[5 rows x 37 columns]"
      ]
     },
     "execution_count": 149,
     "metadata": {},
     "output_type": "execute_result"
    }
   ],
   "source": [
    "df_test.head()"
   ]
  },
  {
   "cell_type": "code",
   "execution_count": 150,
   "metadata": {
    "collapsed": true,
    "deletable": true,
    "editable": true
   },
   "outputs": [],
   "source": [
    "df_test[\"prediction_x\"].fillna(0, inplace=True)\n",
    "df_test[\"prediction_y\"].fillna(0, inplace=True)\n",
    "df_test[\"prediction\"] = df_test[\"prediction_x\"] + df_test[\"prediction_y\"]"
   ]
  },
  {
   "cell_type": "code",
   "execution_count": 151,
   "metadata": {
    "collapsed": false,
    "deletable": true,
    "editable": true
   },
   "outputs": [
    {
     "data": {
      "text/plain": [
       "0    1.0\n",
       "1    0.8\n",
       "2    0.3\n",
       "3    0.7\n",
       "4    0.9\n",
       "Name: prediction, dtype: float64"
      ]
     },
     "execution_count": 151,
     "metadata": {},
     "output_type": "execute_result"
    }
   ],
   "source": [
    "df_test[\"prediction\"].head()"
   ]
  },
  {
   "cell_type": "code",
   "execution_count": 152,
   "metadata": {
    "collapsed": false,
    "deletable": true,
    "editable": true
   },
   "outputs": [
    {
     "data": {
      "text/plain": [
       "0.59999999999999998"
      ]
     },
     "execution_count": 152,
     "metadata": {},
     "output_type": "execute_result"
    }
   ],
   "source": [
    "df_test.ix[8716][\"prediction\"]"
   ]
  },
  {
   "cell_type": "code",
   "execution_count": 153,
   "metadata": {
    "collapsed": false,
    "deletable": true,
    "editable": true
   },
   "outputs": [
    {
     "data": {
      "text/plain": [
       "array([ 1. ,  0.8,  0.3,  0.7,  0.9])"
      ]
     },
     "execution_count": 153,
     "metadata": {},
     "output_type": "execute_result"
    }
   ],
   "source": [
    "df_test[\"prediction\"].values[:5]"
   ]
  },
  {
   "cell_type": "code",
   "execution_count": 154,
   "metadata": {
    "collapsed": false,
    "deletable": true,
    "editable": true
   },
   "outputs": [
    {
     "data": {
      "text/plain": [
       "19918"
      ]
     },
     "execution_count": 154,
     "metadata": {},
     "output_type": "execute_result"
    }
   ],
   "source": [
    "len(df_test)"
   ]
  },
  {
   "cell_type": "code",
   "execution_count": 155,
   "metadata": {
    "collapsed": false,
    "deletable": true,
    "editable": true
   },
   "outputs": [
    {
     "data": {
      "text/plain": [
       "0"
      ]
     },
     "execution_count": 155,
     "metadata": {},
     "output_type": "execute_result"
    }
   ],
   "source": [
    "(df_test[\"prediction\"] > 1.0).sum()"
   ]
  },
  {
   "cell_type": "code",
   "execution_count": 156,
   "metadata": {
    "collapsed": false,
    "deletable": true,
    "editable": true
   },
   "outputs": [
    {
     "data": {
      "text/plain": [
       "1111"
      ]
     },
     "execution_count": 156,
     "metadata": {},
     "output_type": "execute_result"
    }
   ],
   "source": [
    "(df_test[\"prediction\"] == 1.0).sum()"
   ]
  },
  {
   "cell_type": "code",
   "execution_count": 157,
   "metadata": {
    "collapsed": false,
    "deletable": true,
    "editable": true
   },
   "outputs": [
    {
     "data": {
      "text/plain": [
       "380"
      ]
     },
     "execution_count": 157,
     "metadata": {},
     "output_type": "execute_result"
    }
   ],
   "source": [
    "(df_test[\"prediction\"] == 0).sum()"
   ]
  },
  {
   "cell_type": "code",
   "execution_count": 158,
   "metadata": {
    "collapsed": false,
    "deletable": true,
    "editable": true
   },
   "outputs": [
    {
     "data": {
      "text/plain": [
       "0"
      ]
     },
     "execution_count": 158,
     "metadata": {},
     "output_type": "execute_result"
    }
   ],
   "source": [
    "pd.isnull(df_test[\"prediction_y\"]).sum()"
   ]
  },
  {
   "cell_type": "code",
   "execution_count": 159,
   "metadata": {
    "collapsed": true,
    "deletable": true,
    "editable": true
   },
   "outputs": [],
   "source": [
    "#df_test[\"prediction\"] = df_test[\"prediction\"].apply(lambda x : 1 if x > 1 else x)"
   ]
  },
  {
   "cell_type": "code",
   "execution_count": 160,
   "metadata": {
    "autoscroll": "json-false",
    "collapsed": false,
    "deletable": true,
    "editable": true,
    "ein.tags": [
     "worksheet-0"
    ],
    "slideshow": {
     "slide_type": "-"
    }
   },
   "outputs": [],
   "source": [
    "import gzip\n",
    "import csv\n",
    "import numpy as np\n",
    "\n",
    "def build_kaggle_submission(preds, filename=\"my_submission\"):\n",
    "    \"\"\"\n",
    "    Build a compressed Kaggle Submission\n",
    "    \n",
    "    preds: array with predictions\n",
    "    \"\"\"\n",
    "    with gzip.open(filename + '.csv.gz', 'wt') as outf:\n",
    "        fo = csv.writer(outf, lineterminator='\\n')\n",
    "        fo.writerow([\"sample_id\", \"is_listened\"])       \n",
    "        for i, pred in enumerate(preds):\n",
    "            fo.writerow([i, pred])"
   ]
  },
  {
   "cell_type": "code",
   "execution_count": 161,
   "metadata": {
    "autoscroll": "json-false",
    "collapsed": false,
    "deletable": true,
    "editable": true,
    "ein.tags": [
     "worksheet-0"
    ],
    "slideshow": {
     "slide_type": "-"
    }
   },
   "outputs": [],
   "source": [
    "#p = model.predict_proba(df_test[features])\n",
    "#p = p[:, 1]\n",
    "p = df_test[\"prediction\"].values\n",
    "\n",
    "df_test[[\"user_id\", \"sample_id\", \"prediction\"]].to_csv(\"note20.csv\")"
   ]
  },
  {
   "cell_type": "code",
   "execution_count": 162,
   "metadata": {
    "autoscroll": "json-false",
    "collapsed": false,
    "deletable": true,
    "editable": true,
    "ein.tags": [
     "worksheet-0"
    ],
    "slideshow": {
     "slide_type": "-"
    }
   },
   "outputs": [],
   "source": [
    "build_kaggle_submission(p, \"note21_2\")"
   ]
  },
  {
   "cell_type": "code",
   "execution_count": 163,
   "metadata": {
    "autoscroll": "json-false",
    "collapsed": false,
    "deletable": true,
    "editable": true,
    "ein.tags": [
     "worksheet-0"
    ],
    "slideshow": {
     "slide_type": "-"
    }
   },
   "outputs": [
    {
     "name": "stdout",
     "output_type": "stream",
     "text": [
      "1519.322321\n",
      "9.560672\n",
      "6.4e-05\n"
     ]
    }
   ],
   "source": [
    "import sys\n",
    "print(sys.getsizeof(df_train) / 1e6)\n",
    "print(sys.getsizeof(df_test) / 1e6)\n",
    "print(sys.getsizeof(model) / 1e6)"
   ]
  },
  {
   "cell_type": "code",
   "execution_count": null,
   "metadata": {
    "collapsed": false,
    "deletable": true,
    "editable": true
   },
   "outputs": [],
   "source": [
    "!ls"
   ]
  },
  {
   "cell_type": "code",
   "execution_count": 124,
   "metadata": {
    "collapsed": false,
    "deletable": true,
    "editable": true
   },
   "outputs": [
    {
     "ename": "KeyError",
     "evalue": "\"['prediction'] not in index\"",
     "output_type": "error",
     "traceback": [
      "\u001b[0;31m--------------------------------------------------------------------------\u001b[0m",
      "\u001b[0;31mKeyError\u001b[0m                                 Traceback (most recent call last)",
      "\u001b[0;32m<ipython-input-124-255f8cbe32a8>\u001b[0m in \u001b[0;36m<module>\u001b[0;34m()\u001b[0m\n\u001b[0;32m----> 1\u001b[0;31m \u001b[0mdf_test\u001b[0m\u001b[0;34m[\u001b[0m\u001b[0;34m[\u001b[0m\u001b[0;34m\"user_id_id\"\u001b[0m\u001b[0;34m,\u001b[0m \u001b[0;34m\"sample_id\"\u001b[0m\u001b[0;34m,\u001b[0m \u001b[0;34m\"prediction\"\u001b[0m\u001b[0;34m]\u001b[0m\u001b[0;34m]\u001b[0m\u001b[0;34m\u001b[0m\u001b[0m\n\u001b[0m",
      "\u001b[0;32m/home/ubuntu/anaconda3/envs/ml/lib/python2.7/site-packages/pandas/core/frame.pyc\u001b[0m in \u001b[0;36m__getitem__\u001b[0;34m(self, key)\u001b[0m\n\u001b[1;32m   2051\u001b[0m         \u001b[0;32mif\u001b[0m \u001b[0misinstance\u001b[0m\u001b[0;34m(\u001b[0m\u001b[0mkey\u001b[0m\u001b[0;34m,\u001b[0m \u001b[0;34m(\u001b[0m\u001b[0mSeries\u001b[0m\u001b[0;34m,\u001b[0m \u001b[0mnp\u001b[0m\u001b[0;34m.\u001b[0m\u001b[0mndarray\u001b[0m\u001b[0;34m,\u001b[0m \u001b[0mIndex\u001b[0m\u001b[0;34m,\u001b[0m \u001b[0mlist\u001b[0m\u001b[0;34m)\u001b[0m\u001b[0;34m)\u001b[0m\u001b[0;34m:\u001b[0m\u001b[0;34m\u001b[0m\u001b[0m\n\u001b[1;32m   2052\u001b[0m             \u001b[0;31m# either boolean or fancy integer index\u001b[0m\u001b[0;34m\u001b[0m\u001b[0;34m\u001b[0m\u001b[0m\n\u001b[0;32m-> 2053\u001b[0;31m             \u001b[0;32mreturn\u001b[0m \u001b[0mself\u001b[0m\u001b[0;34m.\u001b[0m\u001b[0m_getitem_array\u001b[0m\u001b[0;34m(\u001b[0m\u001b[0mkey\u001b[0m\u001b[0;34m)\u001b[0m\u001b[0;34m\u001b[0m\u001b[0m\n\u001b[0m\u001b[1;32m   2054\u001b[0m         \u001b[0;32melif\u001b[0m \u001b[0misinstance\u001b[0m\u001b[0;34m(\u001b[0m\u001b[0mkey\u001b[0m\u001b[0;34m,\u001b[0m \u001b[0mDataFrame\u001b[0m\u001b[0;34m)\u001b[0m\u001b[0;34m:\u001b[0m\u001b[0;34m\u001b[0m\u001b[0m\n\u001b[1;32m   2055\u001b[0m             \u001b[0;32mreturn\u001b[0m \u001b[0mself\u001b[0m\u001b[0;34m.\u001b[0m\u001b[0m_getitem_frame\u001b[0m\u001b[0;34m(\u001b[0m\u001b[0mkey\u001b[0m\u001b[0;34m)\u001b[0m\u001b[0;34m\u001b[0m\u001b[0m\n",
      "\u001b[0;32m/home/ubuntu/anaconda3/envs/ml/lib/python2.7/site-packages/pandas/core/frame.pyc\u001b[0m in \u001b[0;36m_getitem_array\u001b[0;34m(self, key)\u001b[0m\n\u001b[1;32m   2095\u001b[0m             \u001b[0;32mreturn\u001b[0m \u001b[0mself\u001b[0m\u001b[0;34m.\u001b[0m\u001b[0mtake\u001b[0m\u001b[0;34m(\u001b[0m\u001b[0mindexer\u001b[0m\u001b[0;34m,\u001b[0m \u001b[0maxis\u001b[0m\u001b[0;34m=\u001b[0m\u001b[0;36m0\u001b[0m\u001b[0;34m,\u001b[0m \u001b[0mconvert\u001b[0m\u001b[0;34m=\u001b[0m\u001b[0mFalse\u001b[0m\u001b[0;34m)\u001b[0m\u001b[0;34m\u001b[0m\u001b[0m\n\u001b[1;32m   2096\u001b[0m         \u001b[0;32melse\u001b[0m\u001b[0;34m:\u001b[0m\u001b[0;34m\u001b[0m\u001b[0m\n\u001b[0;32m-> 2097\u001b[0;31m             \u001b[0mindexer\u001b[0m \u001b[0;34m=\u001b[0m \u001b[0mself\u001b[0m\u001b[0;34m.\u001b[0m\u001b[0mix\u001b[0m\u001b[0;34m.\u001b[0m\u001b[0m_convert_to_indexer\u001b[0m\u001b[0;34m(\u001b[0m\u001b[0mkey\u001b[0m\u001b[0;34m,\u001b[0m \u001b[0maxis\u001b[0m\u001b[0;34m=\u001b[0m\u001b[0;36m1\u001b[0m\u001b[0;34m)\u001b[0m\u001b[0;34m\u001b[0m\u001b[0m\n\u001b[0m\u001b[1;32m   2098\u001b[0m             \u001b[0;32mreturn\u001b[0m \u001b[0mself\u001b[0m\u001b[0;34m.\u001b[0m\u001b[0mtake\u001b[0m\u001b[0;34m(\u001b[0m\u001b[0mindexer\u001b[0m\u001b[0;34m,\u001b[0m \u001b[0maxis\u001b[0m\u001b[0;34m=\u001b[0m\u001b[0;36m1\u001b[0m\u001b[0;34m,\u001b[0m \u001b[0mconvert\u001b[0m\u001b[0;34m=\u001b[0m\u001b[0mTrue\u001b[0m\u001b[0;34m)\u001b[0m\u001b[0;34m\u001b[0m\u001b[0m\n\u001b[1;32m   2099\u001b[0m \u001b[0;34m\u001b[0m\u001b[0m\n",
      "\u001b[0;32m/home/ubuntu/anaconda3/envs/ml/lib/python2.7/site-packages/pandas/core/indexing.pyc\u001b[0m in \u001b[0;36m_convert_to_indexer\u001b[0;34m(self, obj, axis, is_setter)\u001b[0m\n\u001b[1;32m   1228\u001b[0m                 \u001b[0mmask\u001b[0m \u001b[0;34m=\u001b[0m \u001b[0mcheck\u001b[0m \u001b[0;34m==\u001b[0m \u001b[0;34m-\u001b[0m\u001b[0;36m1\u001b[0m\u001b[0;34m\u001b[0m\u001b[0m\n\u001b[1;32m   1229\u001b[0m                 \u001b[0;32mif\u001b[0m \u001b[0mmask\u001b[0m\u001b[0;34m.\u001b[0m\u001b[0many\u001b[0m\u001b[0;34m(\u001b[0m\u001b[0;34m)\u001b[0m\u001b[0;34m:\u001b[0m\u001b[0;34m\u001b[0m\u001b[0m\n\u001b[0;32m-> 1230\u001b[0;31m                     \u001b[0;32mraise\u001b[0m \u001b[0mKeyError\u001b[0m\u001b[0;34m(\u001b[0m\u001b[0;34m'%s not in index'\u001b[0m \u001b[0;34m%\u001b[0m \u001b[0mobjarr\u001b[0m\u001b[0;34m[\u001b[0m\u001b[0mmask\u001b[0m\u001b[0;34m]\u001b[0m\u001b[0;34m)\u001b[0m\u001b[0;34m\u001b[0m\u001b[0m\n\u001b[0m\u001b[1;32m   1231\u001b[0m \u001b[0;34m\u001b[0m\u001b[0m\n\u001b[1;32m   1232\u001b[0m                 \u001b[0;32mreturn\u001b[0m \u001b[0m_values_from_object\u001b[0m\u001b[0;34m(\u001b[0m\u001b[0mindexer\u001b[0m\u001b[0;34m)\u001b[0m\u001b[0;34m\u001b[0m\u001b[0m\n",
      "\u001b[0;31mKeyError\u001b[0m: \"['prediction'] not in index\""
     ]
    }
   ],
   "source": [
    "df_test[[\"user_id_id\", \"sample_id\", \"prediction\"]]"
   ]
  },
  {
   "cell_type": "code",
   "execution_count": null,
   "metadata": {
    "collapsed": true,
    "deletable": true,
    "editable": true
   },
   "outputs": [],
   "source": []
  },
  {
   "cell_type": "code",
   "execution_count": null,
   "metadata": {
    "collapsed": true,
    "deletable": true,
    "editable": true
   },
   "outputs": [],
   "source": []
  },
  {
   "cell_type": "code",
   "execution_count": null,
   "metadata": {
    "collapsed": true,
    "deletable": true,
    "editable": true
   },
   "outputs": [],
   "source": []
  },
  {
   "cell_type": "code",
   "execution_count": null,
   "metadata": {
    "collapsed": true,
    "deletable": true,
    "editable": true
   },
   "outputs": [],
   "source": []
  }
 ],
 "metadata": {
  "kernelspec": {
   "display_name": "Python 2",
   "language": "python",
   "name": "python2"
  },
  "language_info": {
   "codemirror_mode": {
    "name": "ipython",
    "version": 2
   },
   "file_extension": ".py",
   "mimetype": "text/x-python",
   "name": "python",
   "nbconvert_exporter": "python",
   "pygments_lexer": "ipython2",
   "version": "2.7.13"
  },
  "name": "6 - Simple Model + User Specific + 2 models.ipynb"
 },
 "nbformat": 4,
 "nbformat_minor": 2
}
