{
 "cells": [
  {
   "cell_type": "code",
   "execution_count": 2,
   "metadata": {
    "collapsed": true,
    "deletable": true,
    "editable": true
   },
   "outputs": [],
   "source": [
    "import pandas as pd\n",
    "from datetime import datetime\n",
    "from tqdm import tqdm"
   ]
  },
  {
   "cell_type": "code",
   "execution_count": 3,
   "metadata": {
    "collapsed": false,
    "deletable": true,
    "editable": true
   },
   "outputs": [],
   "source": [
    "df_train = pd.read_csv(\"data/train.csv\", nrows=10)"
   ]
  },
  {
   "cell_type": "code",
   "execution_count": 16,
   "metadata": {
    "collapsed": false
   },
   "outputs": [
    {
     "data": {
      "text/plain": [
       "[(25471,\n",
       "  1480597215,\n",
       "  222606,\n",
       "  41774,\n",
       "  12,\n",
       "  20040704,\n",
       "  1,\n",
       "  0,\n",
       "  223,\n",
       "  0,\n",
       "  0,\n",
       "  9241,\n",
       "  55164,\n",
       "  29,\n",
       "  0),\n",
       " (25571,\n",
       "  1480544735,\n",
       "  250467,\n",
       "  43941,\n",
       "  0,\n",
       "  20060301,\n",
       "  2,\n",
       "  1,\n",
       "  171,\n",
       "  0,\n",
       "  0,\n",
       "  16547,\n",
       "  55830,\n",
       "  30,\n",
       "  1),\n",
       " (16,\n",
       "  1479563953,\n",
       "  305197,\n",
       "  48078,\n",
       "  1,\n",
       "  20140714,\n",
       "  2,\n",
       "  1,\n",
       "  149,\n",
       "  1,\n",
       "  1,\n",
       "  7665,\n",
       "  2704,\n",
       "  29,\n",
       "  1),\n",
       " (7,\n",
       "  1480152098,\n",
       "  900502,\n",
       "  71521,\n",
       "  0,\n",
       "  20001030,\n",
       "  0,\n",
       "  0,\n",
       "  240,\n",
       "  0,\n",
       "  1,\n",
       "  1580,\n",
       "  938,\n",
       "  30,\n",
       "  0),\n",
       " (7,\n",
       "  1478368974,\n",
       "  542335,\n",
       "  71718,\n",
       "  0,\n",
       "  20080215,\n",
       "  0,\n",
       "  0,\n",
       "  150,\n",
       "  0,\n",
       "  1,\n",
       "  1812,\n",
       "  2939,\n",
       "  24,\n",
       "  1),\n",
       " (7,\n",
       "  1478382544,\n",
       "  542335,\n",
       "  71718,\n",
       "  0,\n",
       "  20080215,\n",
       "  0,\n",
       "  0,\n",
       "  150,\n",
       "  0,\n",
       "  1,\n",
       "  1812,\n",
       "  2939,\n",
       "  24,\n",
       "  1),\n",
       " (7,\n",
       "  1478338409,\n",
       "  542335,\n",
       "  71718,\n",
       "  0,\n",
       "  20080215,\n",
       "  0,\n",
       "  0,\n",
       "  150,\n",
       "  0,\n",
       "  1,\n",
       "  1812,\n",
       "  2939,\n",
       "  24,\n",
       "  1),\n",
       " (7,\n",
       "  1478353709,\n",
       "  542335,\n",
       "  71718,\n",
       "  1,\n",
       "  20080215,\n",
       "  1,\n",
       "  0,\n",
       "  150,\n",
       "  1,\n",
       "  1,\n",
       "  10325,\n",
       "  2939,\n",
       "  29,\n",
       "  1),\n",
       " (7,\n",
       "  1479130924,\n",
       "  542335,\n",
       "  71718,\n",
       "  0,\n",
       "  20080215,\n",
       "  0,\n",
       "  0,\n",
       "  150,\n",
       "  0,\n",
       "  1,\n",
       "  1812,\n",
       "  2939,\n",
       "  24,\n",
       "  1),\n",
       " (7, 1479214304, 542335, 71718, 1, 20080215, 1, 2, 150, 1, 1, 51, 2939, 28, 1)]"
      ]
     },
     "execution_count": 16,
     "metadata": {},
     "output_type": "execute_result"
    }
   ],
   "source": [
    "[tuple(x) for x in df_train.values]"
   ]
  },
  {
   "cell_type": "code",
   "execution_count": 7,
   "metadata": {
    "collapsed": false
   },
   "outputs": [
    {
     "data": {
      "text/plain": [
       "Index([u'genre_id', u'ts_listen', u'media_id', u'album_id', u'context_type',\n",
       "       u'release_date', u'platform_name', u'platform_family',\n",
       "       u'media_duration', u'listen_type', u'user_gender', u'user_id',\n",
       "       u'artist_id', u'user_age', u'is_listened'],\n",
       "      dtype='object')"
      ]
     },
     "execution_count": 7,
     "metadata": {},
     "output_type": "execute_result"
    }
   ],
   "source": [
    "df_train.columns"
   ]
  },
  {
   "cell_type": "code",
   "execution_count": null,
   "metadata": {
    "collapsed": true
   },
   "outputs": [],
   "source": []
  },
  {
   "cell_type": "code",
   "execution_count": null,
   "metadata": {
    "collapsed": false,
    "deletable": true,
    "editable": true
   },
   "outputs": [],
   "source": [
    "df_train[\"ts_datetime\"] = df_train.apply(lambda x: datetime.fromtimestamp(x[\"ts_listen\"]), axis=1)"
   ]
  },
  {
   "cell_type": "code",
   "execution_count": null,
   "metadata": {
    "collapsed": true,
    "deletable": true,
    "editable": true
   },
   "outputs": [],
   "source": [
    "users = df_train[\"user_id\"].unique().tolist()"
   ]
  },
  {
   "cell_type": "code",
   "execution_count": null,
   "metadata": {
    "collapsed": true,
    "deletable": true,
    "editable": true
   },
   "outputs": [],
   "source": [
    "import pandas as pd\n",
    "from datetime import datetime, timedelta\n",
    "import numpy as np\n",
    "\n",
    "def time_offset_rolling_df_count(data_df_ser, window_i_s, min_periods_i=1, center_b=False):\n",
    "    def calculate_count_ts(ts):\n",
    "        \"\"\"Function (closure) to apply that actually computes the rolling mean\"\"\"\n",
    "        if center_b == False:\n",
    "            dslice_df_ser = data_df_ser[\n",
    "                ts-pd.datetools.to_offset(window_i_s).delta+timedelta(0,0,1):\n",
    "                ts\n",
    "            ]\n",
    "            # adding a microsecond because when slicing with labels start and endpoint\n",
    "            # are inclusive\n",
    "        else:\n",
    "            dslice_df_ser = data_df_ser[\n",
    "                ts-pd.datetools.to_offset(window_i_s).delta/2+timedelta(0,0,1):\n",
    "                ts+pd.datetools.to_offset(window_i_s).delta/2\n",
    "            ]\n",
    "        if  (isinstance(dslice_df_ser, pd.DataFrame) and dslice_df_ser.shape[0] < min_periods_i) or \\\n",
    "            (isinstance(dslice_df_ser, pd.Series) and dslice_df_ser.size < min_periods_i):\n",
    "            return dslice_df_ser.count()*np.nan   # keeps number format and whether Series or DataFrame\n",
    "        else:\n",
    "            return dslice_df_ser.count()\n",
    "\n",
    "    idx_ser = pd.Series(data_df_ser.index.to_pydatetime(), index=data_df_ser.index)\n",
    "    count_df_ser = idx_ser.apply(calculate_count_ts)\n",
    "    return count_df_ser\n",
    "\n",
    "\n",
    "def time_offset_rolling_df_sum(data_df_ser, window_i_s, min_periods_i=1, center_b=False):\n",
    "    def calculate_sum_ts(ts):\n",
    "        \"\"\"Function (closure) to apply that actually computes the rolling mean\"\"\"\n",
    "        if center_b == False:\n",
    "            dslice_df_ser = data_df_ser[\n",
    "                ts-pd.datetools.to_offset(window_i_s).delta+timedelta(0,0,1):\n",
    "                ts\n",
    "            ]\n",
    "            # adding a microsecond because when slicing with labels start and endpoint\n",
    "            # are inclusive\n",
    "        else:\n",
    "            dslice_df_ser = data_df_ser[\n",
    "                ts-pd.datetools.to_offset(window_i_s).delta/2+timedelta(0,0,1):\n",
    "                ts+pd.datetools.to_offset(window_i_s).delta/2\n",
    "            ]\n",
    "        if  (isinstance(dslice_df_ser, pd.DataFrame) and dslice_df_ser.shape[0] < min_periods_i) or \\\n",
    "            (isinstance(dslice_df_ser, pd.Series) and dslice_df_ser.size < min_periods_i):\n",
    "            return dslice_df_ser.sum()*np.nan   # keeps number format and whether Series or DataFrame\n",
    "        else:\n",
    "            return dslice_df_ser.sum()\n",
    "\n",
    "    idx_ser = pd.Series(data_df_ser.index.to_pydatetime(), index=data_df_ser.index)\n",
    "    sum_df_ser = idx_ser.apply(calculate_sum_ts)\n",
    "    return sum_df_ser"
   ]
  },
  {
   "cell_type": "code",
   "execution_count": null,
   "metadata": {
    "collapsed": true,
    "deletable": true,
    "editable": true
   },
   "outputs": [],
   "source": [
    "last_x_min = \"120min\""
   ]
  },
  {
   "cell_type": "code",
   "execution_count": null,
   "metadata": {
    "collapsed": false,
    "deletable": true,
    "editable": true
   },
   "outputs": [],
   "source": [
    "list_df_users = []\n",
    "for user_id in tqdm(users):\n",
    "    df_user = df_train[(df_train[\"user_id\"] == user_id)].copy()\n",
    "    df_user = df_user.reset_index(level=0)\n",
    "    df_user = df_user.set_index(\"ts_datetime\")\n",
    "    df_user = df_user.sort_index()\n",
    "    df_rolling_count = time_offset_rolling_df_count(df_user, window_i_s=last_x_min)\n",
    "    df_rolling_sum = time_offset_rolling_df_sum(df_user, window_i_s=last_x_min)\n",
    "\n",
    "    df_user[\"count_listened_{}\".format(last_x_min)] = df_rolling_count[\"is_listened\"]\n",
    "    df_user[\"sum_listened_{}\".format(last_x_min)] = df_rolling_sum[\"is_listened\"]\n",
    "    df_user = df_user.reset_index(level=0)\n",
    "    list_df_users.append(df_user)"
   ]
  },
  {
   "cell_type": "code",
   "execution_count": null,
   "metadata": {
    "collapsed": false,
    "deletable": true,
    "editable": true
   },
   "outputs": [],
   "source": [
    "df_treino_final = pd.concat(list_df_users)"
   ]
  },
  {
   "cell_type": "code",
   "execution_count": null,
   "metadata": {
    "collapsed": true,
    "deletable": true,
    "editable": true
   },
   "outputs": [],
   "source": []
  }
 ],
 "metadata": {
  "kernelspec": {
   "display_name": "Python 2",
   "language": "python",
   "name": "python2"
  },
  "language_info": {
   "codemirror_mode": {
    "name": "ipython",
    "version": 2
   },
   "file_extension": ".py",
   "mimetype": "text/x-python",
   "name": "python",
   "nbconvert_exporter": "python",
   "pygments_lexer": "ipython2",
   "version": "2.7.13"
  }
 },
 "nbformat": 4,
 "nbformat_minor": 2
}
