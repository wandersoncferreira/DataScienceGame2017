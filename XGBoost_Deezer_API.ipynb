{
 "cells": [
  {
   "cell_type": "code",
   "execution_count": 233,
   "metadata": {
    "autoscroll": "json-false",
    "collapsed": false,
    "ein.tags": [
     "worksheet-0"
    ],
    "slideshow": {
     "slide_type": "-"
    }
   },
   "outputs": [],
   "source": [
    "import pandas as pd\n",
    "import numpy as np\n",
    "from utils.features import DataGame\n",
    "from greenpyce.feature_engineering import TargetEncoder\n",
    "from greenpyce.feature_engineering import onehot\n",
    "from greenpyce.feature_engineering import RankCategorical\n",
    "from greenpyce.feature_engineering import LabelCount\n",
    "from sklearn.model_selection import train_test_split\n",
    "from sklearn import metrics\n",
    "from sklearn.metrics import confusion_matrix\n",
    "from sklearn.metrics import accuracy_score\n",
    "from sklearn.tree import DecisionTreeClassifier\n",
    "import matplotlib.pyplot as plt\n",
    "import xgboost as xgb \n",
    "from time import time"
   ]
  },
  {
   "cell_type": "markdown",
   "metadata": {
    "ein.tags": [
     "worksheet-0"
    ],
    "slideshow": {
     "slide_type": "-"
    }
   },
   "source": [
    "# Funções para analise de acuracia"
   ]
  },
  {
   "cell_type": "code",
   "execution_count": 234,
   "metadata": {
    "autoscroll": "json-false",
    "collapsed": false,
    "ein.tags": [
     "worksheet-0"
    ],
    "slideshow": {
     "slide_type": "-"
    }
   },
   "outputs": [],
   "source": [
    "def complete_report(y_test, y_pred):\n",
    "    print(\"*********************************\")\n",
    "    print(\"Accuracy: {0:.2f}\".format(accuracy_score(y_test, y_pred)))\n",
    "    print(\"Precision: {0}\".format(metrics.precision_score(y_test, y_pred)))\n",
    "    print(\"Recall: {0}\".format(metrics.recall_score(y_test, y_pred)))\n",
    "    print(\"F1-Score: {0}\".format(metrics.f1_score(y_test, y_pred)))\n",
    "    conf_m = confusion_matrix(y_test, y_pred)\n",
    "    print(conf_m)\n",
    "    try: \n",
    "        print(\"Roc Area: {0}\".format(metrics.roc_auc_score(y_test, y_pred))) \n",
    "        roc_curve_label(y_test, y_pred)\n",
    "    except:\n",
    "        print(\"--\")\n",
    "    print(\"*********************************\")\n",
    "    \n",
    "    return metrics.roc_auc_score(y_test, y_pred)\n",
    "        \n",
    "def roc_curve_label(y_test, y_pred):\n",
    "    plt.figsize=(10,6)\n",
    "    fpr, tpr, _ = metrics.roc_curve(y_test, y_pred)\n",
    "    plt.figure(1)\n",
    "    plt.plot([0, 1], [0, 1], 'k--')\n",
    "    plt.plot(fpr, tpr, label='RT + LR')\n",
    "    plt.xlabel('False positive rate')\n",
    "    plt.ylabel('True positive rate')\n",
    "    plt.title('ROC curve')\n",
    "    plt.legend(loc='best')\n",
    "    plt.show()\n"
   ]
  },
  {
   "cell_type": "code",
   "execution_count": 376,
   "metadata": {
    "autoscroll": "json-false",
    "collapsed": false,
    "ein.tags": [
     "worksheet-0"
    ],
    "slideshow": {
     "slide_type": "-"
    }
   },
   "outputs": [],
   "source": [
    "pd.set_option('display.width', 200)"
   ]
  },
  {
   "cell_type": "code",
   "execution_count": 377,
   "metadata": {
    "autoscroll": "json-false",
    "collapsed": false,
    "ein.tags": [
     "worksheet-0"
    ],
    "slideshow": {
     "slide_type": "-"
    }
   },
   "outputs": [],
   "source": [
    "game_train = DataGame(\"data/train.csv\", nrows=100000, nusers=10000)"
   ]
  },
  {
   "cell_type": "code",
   "execution_count": 378,
   "metadata": {
    "autoscroll": "json-false",
    "collapsed": false,
    "ein.tags": [
     "worksheet-0"
    ],
    "slideshow": {
     "slide_type": "-"
    }
   },
   "outputs": [
    {
     "data": {
      "text/plain": [
       "   genre_id   ts_listen  media_id  album_id  context_type  release_date  platform_name  platform_family  media_duration  listen_type  user_gender  user_id  artist_id  user_age  is_listened\n",
       "0     25471  1480597215    222606     41774            12      20040704              1                0             223            0            0     9241      55164        29            0\n",
       "1     25571  1480544735    250467     43941             0      20060301              2                1             171            0            0    16547      55830        30            1\n",
       "2        16  1479563953    305197     48078             1      20140714              2                1             149            1            1     7665       2704        29            1\n",
       "3         7  1480152098    900502     71521             0      20001030              0                0             240            0            1     1580        938        30            0\n",
       "4         7  1478368974    542335     71718             0      20080215              0                0             150            0            1     1812       2939        24            1"
      ]
     },
     "execution_count": 378,
     "metadata": {},
     "output_type": "execute_result"
    }
   ],
   "source": [
    "df_train = game_train.compute_features([\"nmidia\", \"nartist\", \"nplatform\", \"flow_noflow\"])\n",
    "game_train.df.head()"
   ]
  },
  {
   "cell_type": "markdown",
   "metadata": {
    "ein.tags": [
     "worksheet-0"
    ],
    "slideshow": {
     "slide_type": "-"
    }
   },
   "source": [
    "# Organizando as features coletadas pela API do Deezer"
   ]
  },
  {
   "cell_type": "code",
   "execution_count": 634,
   "metadata": {
    "autoscroll": "json-false",
    "collapsed": false,
    "ein.tags": [
     "worksheet-0"
    ],
    "slideshow": {
     "slide_type": "-"
    }
   },
   "outputs": [],
   "source": [
    "df_artist = pd.read_csv(\"data/deezer_API_artist_features.csv\", sep=\";\")\n",
    "df_media = pd.read_csv(\"data/deezer_API_media_features.csv\", sep=\";\")"
   ]
  },
  {
   "cell_type": "code",
   "execution_count": 635,
   "metadata": {
    "autoscroll": "json-false",
    "collapsed": false,
    "ein.tags": [
     "worksheet-0"
    ],
    "slideshow": {
     "slide_type": "-"
    }
   },
   "outputs": [],
   "source": [
    "df_final = pd.merge(game_train.df, df_artist, on=\"artist_id\")\n",
    "df_final = pd.merge(df_final, df_media, on=\"media_id\")"
   ]
  },
  {
   "cell_type": "code",
   "execution_count": 636,
   "metadata": {
    "autoscroll": "json-false",
    "collapsed": false,
    "ein.tags": [
     "worksheet-0"
    ],
    "slideshow": {
     "slide_type": "-"
    }
   },
   "outputs": [
    {
     "data": {
      "text/plain": [
       "Index([u'genre_id', u'ts_listen', u'media_id', u'album_id', u'context_type', u'release_date', u'platform_name', u'platform_family', u'media_duration', u'listen_type', u'user_gender', u'user_id',\n",
       "       u'artist_id', u'user_age', u'is_listened', u'artist_albuns', u'artist_fans', u'artist_radio', u'media_bpm', u'media_rank'],\n",
       "      dtype='object')"
      ]
     },
     "execution_count": 636,
     "metadata": {},
     "output_type": "execute_result"
    }
   ],
   "source": [
    "df_final.columns"
   ]
  },
  {
   "cell_type": "code",
   "execution_count": 636,
   "metadata": {
    "autoscroll": "json-false",
    "collapsed": false,
    "ein.tags": [
     "worksheet-0"
    ],
    "slideshow": {
     "slide_type": "-"
    }
   },
   "outputs": [],
   "source": []
  },
  {
   "cell_type": "code",
   "execution_count": 636,
   "metadata": {
    "autoscroll": "json-false",
    "collapsed": false,
    "ein.tags": [
     "worksheet-0"
    ],
    "slideshow": {
     "slide_type": "-"
    }
   },
   "outputs": [],
   "source": []
  },
  {
   "cell_type": "code",
   "execution_count": 636,
   "metadata": {
    "autoscroll": "json-false",
    "collapsed": false,
    "ein.tags": [
     "worksheet-0"
    ],
    "slideshow": {
     "slide_type": "-"
    }
   },
   "outputs": [],
   "source": []
  },
  {
   "cell_type": "code",
   "execution_count": 748,
   "metadata": {
    "autoscroll": "json-false",
    "collapsed": false,
    "ein.tags": [
     "worksheet-0"
    ],
    "slideshow": {
     "slide_type": "-"
    }
   },
   "outputs": [],
   "source": [
    "df_game_copy = df_final.copy()"
   ]
  },
  {
   "cell_type": "code",
   "execution_count": 749,
   "metadata": {
    "autoscroll": "json-false",
    "collapsed": false,
    "ein.tags": [
     "worksheet-0"
    ],
    "slideshow": {
     "slide_type": "-"
    }
   },
   "outputs": [],
   "source": [
    "df_game_copy[\"year\"] = df_game_copy.apply(lambda row: int(str(row[\"release_date\"])[0:4]), axis=1)"
   ]
  },
  {
   "cell_type": "code",
   "execution_count": 750,
   "metadata": {
    "autoscroll": "json-false",
    "collapsed": false,
    "ein.tags": [
     "worksheet-0"
    ],
    "slideshow": {
     "slide_type": "-"
    }
   },
   "outputs": [],
   "source": [
    "# create a new categorical variable for year\n",
    "bins = [1900, 1970, 1990, 2000, 2006, 2012, 2017]\n",
    "group_names = [\"release_50s\", \"release_90s\", \"release_2000s\", \"release_2006\", \"release_2012\", \"release_2016\"]\n",
    "df_game_copy[\"categories\"] = pd.cut(df_game_copy[\"year\"], bins, labels=group_names)"
   ]
  },
  {
   "cell_type": "code",
   "execution_count": 751,
   "metadata": {
    "autoscroll": "json-false",
    "collapsed": false,
    "ein.tags": [
     "worksheet-0"
    ],
    "slideshow": {
     "slide_type": "-"
    }
   },
   "outputs": [],
   "source": [
    "# create a new categorical variable for the user age\n",
    "bins = [10, 18, 24, 28, 40]\n",
    "group_names = [\"young\", \"teenagers\", \"fresh_graduated\", \"adults\"]\n",
    "df_game_copy[\"cat_user_age\"] = pd.cut(df_game_copy[\"user_age\"], bins, labels=group_names)"
   ]
  },
  {
   "cell_type": "code",
   "execution_count": 752,
   "metadata": {
    "autoscroll": "json-false",
    "collapsed": false,
    "ein.tags": [
     "worksheet-0"
    ],
    "slideshow": {
     "slide_type": "-"
    }
   },
   "outputs": [],
   "source": [
    "bins = [0, 1, 70]\n",
    "group_names = [\"context_playlist\", \"context_album\"]\n",
    "df_game_copy[\"cat_context_type\"] = pd.cut(df_game_copy[\"context_type\"], bins, labels=group_names)"
   ]
  },
  {
   "cell_type": "code",
   "execution_count": 753,
   "metadata": {
    "autoscroll": "json-false",
    "collapsed": false,
    "ein.tags": [
     "worksheet-0"
    ],
    "slideshow": {
     "slide_type": "-"
    }
   },
   "outputs": [],
   "source": [
    "bins = [0, 10000, 60000, 100000, 600000, 1000000]\n",
    "group_names = [\"low_pop\", \"avg_pop\", \"pop\", \"max_pop\", \"sup_pop\"]\n",
    "df_game_copy[\"artist_fans\"] = pd.cut(df_game_copy[\"artist_fans\"], bins, labels=group_names)"
   ]
  },
  {
   "cell_type": "code",
   "execution_count": 754,
   "metadata": {
    "autoscroll": "json-false",
    "collapsed": false,
    "ein.tags": [
     "worksheet-0"
    ],
    "slideshow": {
     "slide_type": "-"
    }
   },
   "outputs": [
    {
     "data": {
      "text/plain": [
       "max_pop    55381\n",
       "low_pop    12621\n",
       "avg_pop     7948\n",
       "sup_pop     3479\n",
       "pop         2961\n",
       "Name: artist_fans, dtype: int64"
      ]
     },
     "execution_count": 754,
     "metadata": {},
     "output_type": "execute_result"
    }
   ],
   "source": [
    "df_game_copy[\"artist_fans\"].value_counts()"
   ]
  },
  {
   "cell_type": "code",
   "execution_count": 755,
   "metadata": {
    "autoscroll": "json-false",
    "collapsed": false,
    "ein.tags": [
     "worksheet-0"
    ],
    "slideshow": {
     "slide_type": "-"
    }
   },
   "outputs": [],
   "source": [
    "bins = [0, 200000, 400000, 800000, 1000000]\n",
    "group_names = [\"bad_rank\", \"avg_rank\", \"good_rank\", \"great_rank\"]\n",
    "df_game_copy[\"media_rank\"] = pd.cut(df_game_copy[\"media_rank\"], bins, labels=group_names)"
   ]
  },
  {
   "cell_type": "code",
   "execution_count": 756,
   "metadata": {
    "autoscroll": "json-false",
    "collapsed": false,
    "ein.tags": [
     "worksheet-0"
    ],
    "slideshow": {
     "slide_type": "-"
    }
   },
   "outputs": [
    {
     "data": {
      "text/plain": [
       "good_rank     54163\n",
       "great_rank    31411\n",
       "avg_rank      14064\n",
       "bad_rank        343\n",
       "Name: media_rank, dtype: int64"
      ]
     },
     "execution_count": 756,
     "metadata": {},
     "output_type": "execute_result"
    }
   ],
   "source": [
    "df_game_copy[\"media_rank\"].value_counts()"
   ]
  },
  {
   "cell_type": "code",
   "execution_count": 757,
   "metadata": {
    "autoscroll": "json-false",
    "collapsed": false,
    "ein.tags": [
     "worksheet-0"
    ],
    "slideshow": {
     "slide_type": "-"
    }
   },
   "outputs": [],
   "source": [
    "bins = [0, 80, 150, 200]\n",
    "group_names = [\"low_bpm\", \"avg_bpm\", \"high_bpm\"]\n",
    "df_game_copy[\"media_bpm\"] = pd.cut(df_game_copy[\"media_bpm\"], bins, labels=group_names)"
   ]
  },
  {
   "cell_type": "code",
   "execution_count": 758,
   "metadata": {
    "autoscroll": "json-false",
    "collapsed": false,
    "ein.tags": [
     "worksheet-0"
    ],
    "slideshow": {
     "slide_type": "-"
    }
   },
   "outputs": [
    {
     "data": {
      "text/plain": [
       "avg_bpm     82102\n",
       "high_bpm    14509\n",
       "low_bpm        71\n",
       "Name: media_bpm, dtype: int64"
      ]
     },
     "execution_count": 758,
     "metadata": {},
     "output_type": "execute_result"
    }
   ],
   "source": [
    "df_game_copy[\"media_bpm\"].value_counts()"
   ]
  },
  {
   "cell_type": "code",
   "execution_count": 759,
   "metadata": {
    "autoscroll": "json-false",
    "collapsed": false,
    "ein.tags": [
     "worksheet-0"
    ],
    "slideshow": {
     "slide_type": "-"
    }
   },
   "outputs": [],
   "source": [
    "bins = [0, 10, 20, 60, 600]\n",
    "group_names = [\"low_nalbum\", \"avg_nalbum\", \"good_nalbum\", \"great_nalbum\"]\n",
    "df_game_copy[\"artist_albuns\"] = pd.cut(df_game_copy[\"artist_albuns\"], bins, labels=group_names)"
   ]
  },
  {
   "cell_type": "code",
   "execution_count": 760,
   "metadata": {
    "autoscroll": "json-false",
    "collapsed": false,
    "ein.tags": [
     "worksheet-0"
    ],
    "slideshow": {
     "slide_type": "-"
    }
   },
   "outputs": [
    {
     "data": {
      "text/plain": [
       "avg_nalbum      48444\n",
       "good_nalbum     24606\n",
       "low_nalbum      19250\n",
       "great_nalbum     5134\n",
       "Name: artist_albuns, dtype: int64"
      ]
     },
     "execution_count": 760,
     "metadata": {},
     "output_type": "execute_result"
    }
   ],
   "source": [
    "df_game_copy[\"artist_albuns\"].value_counts()"
   ]
  },
  {
   "cell_type": "code",
   "execution_count": 761,
   "metadata": {
    "autoscroll": "json-false",
    "collapsed": false,
    "ein.tags": [
     "worksheet-0"
    ],
    "slideshow": {
     "slide_type": "-"
    }
   },
   "outputs": [],
   "source": [
    "df_train2 = df_train.reset_index(level=0)\n",
    "df_game = pd.merge(df_game_copy, df_train2, on=\"user_id\")"
   ]
  },
  {
   "cell_type": "code",
   "execution_count": 762,
   "metadata": {
    "autoscroll": "json-false",
    "collapsed": false,
    "ein.tags": [
     "worksheet-0"
    ],
    "slideshow": {
     "slide_type": "-"
    }
   },
   "outputs": [],
   "source": [
    "## Colunas que contem informacoes relevantes para uma primeira analise\n",
    "categorical_cols = [\"genre_id\", \"media_id\", \"album_id\", \"context_type\", \"release_date\", \"platform_name\", \"platform_family\", \"listen_type\", \"user_gender\",\n",
    "                    \"user_id\", \"artist_id\", \"categories\", \"cat_user_age\", \"cat_context_type\", \"media_bpm\", \"media_rank\", \"artist_albuns\", \"artist_radio\",\n",
    "                    \"artist_fans\"]\n",
    "target = \"is_listened\""
   ]
  },
  {
   "cell_type": "markdown",
   "metadata": {
    "ein.tags": [
     "worksheet-0"
    ],
    "slideshow": {
     "slide_type": "-"
    }
   },
   "source": [
    "# Strategy\n",
    "1. Apply onehot to categorical with few classes\n",
    "2. Rank categories to artist_id\n",
    "3. Target encoder for context and genre\n",
    "4. Discard media, album, release date and user_id"
   ]
  },
  {
   "cell_type": "markdown",
   "metadata": {
    "ein.tags": [
     "worksheet-0"
    ],
    "slideshow": {
     "slide_type": "-"
    }
   },
   "source": [
    "## Description of categorical variables"
   ]
  },
  {
   "cell_type": "code",
   "execution_count": 763,
   "metadata": {
    "autoscroll": "json-false",
    "collapsed": false,
    "ein.tags": [
     "worksheet-0"
    ],
    "slideshow": {
     "slide_type": "-"
    }
   },
   "outputs": [],
   "source": [
    "# For now lets only replace all NAN values for zero\n",
    "df_game.replace([np.inf, -np.inf], np.nan, inplace=True)\n",
    "df_game.fillna(0, inplace=True)"
   ]
  },
  {
   "cell_type": "code",
   "execution_count": 764,
   "metadata": {
    "autoscroll": "json-false",
    "collapsed": false,
    "ein.tags": [
     "worksheet-0"
    ],
    "slideshow": {
     "slide_type": "-"
    }
   },
   "outputs": [
    {
     "name": "stdout",
     "output_type": "stream",
     "text": [
      "genre_id: 312\n",
      "media_id: 4608\n",
      "album_id: 1517\n",
      "context_type: 58\n",
      "release_date: 1065\n",
      "platform_name: 3\n",
      "platform_family: 3\n",
      "listen_type: 2\n",
      "user_gender: 2\n",
      "user_id: 10000\n",
      "artist_id: 1776\n",
      "categories: 6\n",
      "cat_user_age: 4\n",
      "cat_context_type: 3\n",
      "media_bpm: 4\n",
      "media_rank: 5\n",
      "artist_albuns: 5\n",
      "artist_radio: 2\n",
      "artist_fans: 6\n"
     ]
    }
   ],
   "source": [
    "for col in categorical_cols:\n",
    "    print(\"{}: {}\".format(col, len(df_game[col].unique())))"
   ]
  },
  {
   "cell_type": "code",
   "execution_count": 765,
   "metadata": {
    "autoscroll": "json-false",
    "collapsed": false,
    "ein.tags": [
     "worksheet-0"
    ],
    "slideshow": {
     "slide_type": "-"
    }
   },
   "outputs": [],
   "source": [
    "cols_for_onehot = [\"platform_name\", \"platform_family\", \"listen_type\", \"user_gender\", \"categories\", \"cat_user_age\", \"cat_context_type\",\n",
    "                   \"media_bpm\", \"artist_fans\", \"media_rank\", \"artist_albuns\"]\n",
    "cols_for_target_encoder = [\"genre_id\", \"album_id\"]\n",
    "#cols_for_rank = [\"artist_id\"]"
   ]
  },
  {
   "cell_type": "code",
   "execution_count": 766,
   "metadata": {
    "autoscroll": "json-false",
    "collapsed": false,
    "ein.tags": [
     "worksheet-0"
    ],
    "slideshow": {
     "slide_type": "-"
    }
   },
   "outputs": [],
   "source": [
    "te = TargetEncoder(cols_for_target_encoder, \"is_listened\", inplace=True)\n",
    "te.fit(df_game)\n",
    "te.transform(df_game)"
   ]
  },
  {
   "cell_type": "code",
   "execution_count": 767,
   "metadata": {
    "autoscroll": "json-false",
    "collapsed": false,
    "ein.tags": [
     "worksheet-0"
    ],
    "slideshow": {
     "slide_type": "-"
    }
   },
   "outputs": [],
   "source": [
    "#rc = RankCategorical(cols_for_rank)\n",
    "#rc.fit(df_game)\n",
    "#rc.transform(df_game)"
   ]
  },
  {
   "cell_type": "code",
   "execution_count": 768,
   "metadata": {
    "autoscroll": "json-false",
    "collapsed": false,
    "ein.tags": [
     "worksheet-0"
    ],
    "slideshow": {
     "slide_type": "-"
    }
   },
   "outputs": [],
   "source": [
    "df_game = onehot(df_game, cols_for_onehot)"
   ]
  },
  {
   "cell_type": "code",
   "execution_count": 769,
   "metadata": {
    "autoscroll": "json-false",
    "collapsed": false,
    "ein.tags": [
     "worksheet-0"
    ],
    "slideshow": {
     "slide_type": "-"
    }
   },
   "outputs": [],
   "source": [
    "# cols to drop\n",
    "cols_to_drop = [\"media_id\", \"user_id\", \"ts_listen\", \"media_duration\", \"year\",\n",
    "                \"release_date\", \"user_age\", \"context_type\", \"artist_id\"]\n",
    "df_game.drop(cols_to_drop, axis=1, inplace=True)\n",
    "df_game.fillna(0, inplace=True)"
   ]
  },
  {
   "cell_type": "code",
   "execution_count": 770,
   "metadata": {
    "autoscroll": "json-false",
    "collapsed": false,
    "ein.tags": [
     "worksheet-0"
    ],
    "slideshow": {
     "slide_type": "-"
    }
   },
   "outputs": [
    {
     "data": {
      "text/plain": [
       "['genre_id',\n",
       " 'album_id',\n",
       " 'artist_radio',\n",
       " 'nmidia_with_flow',\n",
       " 'nmidia_regular',\n",
       " 'nmidia_with_flow_listened',\n",
       " 'nmidia_regular_listened',\n",
       " 'nmidia_max_repeat',\n",
       " 'nartist_with_flow',\n",
       " 'nartist_regular',\n",
       " 'nartist_with_flow_listened',\n",
       " 'nartist_regular_listened',\n",
       " 'nplatform_with_flow',\n",
       " 'nplatform_regular',\n",
       " 'nplatform_with_flow_listened',\n",
       " 'nplatform_regular_listened',\n",
       " 'nmidia_noflow',\n",
       " 'nmidia_noflow_sucess',\n",
       " 'nmidia_noflow_sucess_PROP',\n",
       " 'nmodia_flow',\n",
       " 'nmidia_flow_success',\n",
       " 'midia_flow_success_PROP',\n",
       " 'PROP_flow_PROP_noflow',\n",
       " 'qtd_flow_noflow_PROP',\n",
       " 'nmidia_with_flow_listened_PROP',\n",
       " 'nmidia_regular_listened_PROP',\n",
       " 'nmidia_PROP_diff',\n",
       " 'nartist_with_flow_listened_PROP',\n",
       " 'nartist_regular_listened_PROP',\n",
       " 'nartist_PROP_diff',\n",
       " 'platform_name_1',\n",
       " 'platform_name_2',\n",
       " 'platform_family_1',\n",
       " 'platform_family_2',\n",
       " 'listen_type_1',\n",
       " 'user_gender_1',\n",
       " 'categories_release_2006',\n",
       " 'categories_release_2012',\n",
       " 'categories_release_2016',\n",
       " 'categories_release_50s',\n",
       " 'categories_release_90s',\n",
       " 'cat_user_age_fresh_graduated',\n",
       " 'cat_user_age_teenagers',\n",
       " 'cat_user_age_young',\n",
       " 'cat_context_type_context_album',\n",
       " 'cat_context_type_context_playlist',\n",
       " 'media_bpm_avg_bpm',\n",
       " 'media_bpm_high_bpm',\n",
       " 'media_bpm_low_bpm',\n",
       " 'artist_fans_avg_pop',\n",
       " 'artist_fans_low_pop',\n",
       " 'artist_fans_max_pop',\n",
       " 'artist_fans_pop',\n",
       " 'artist_fans_sup_pop',\n",
       " 'media_rank_avg_rank',\n",
       " 'media_rank_bad_rank',\n",
       " 'media_rank_good_rank',\n",
       " 'media_rank_great_rank',\n",
       " 'artist_albuns_avg_nalbum',\n",
       " 'artist_albuns_good_nalbum',\n",
       " 'artist_albuns_great_nalbum',\n",
       " 'artist_albuns_low_nalbum']"
      ]
     },
     "execution_count": 770,
     "metadata": {},
     "output_type": "execute_result"
    }
   ],
   "source": [
    "features = [col for col in df_game.columns.values if col != target]\n",
    "features"
   ]
  },
  {
   "cell_type": "code",
   "execution_count": 771,
   "metadata": {
    "autoscroll": "json-false",
    "collapsed": false,
    "ein.tags": [
     "worksheet-0"
    ],
    "slideshow": {
     "slide_type": "-"
    }
   },
   "outputs": [],
   "source": [
    "X_train,  X_test, y_train, y_test = train_test_split(df_game[features], df_game[target], test_size = 0.3)\n",
    "X_val, X_test, y_val, y_test = train_test_split(X_test, y_test, test_size=0.3)"
   ]
  },
  {
   "cell_type": "markdown",
   "metadata": {
    "ein.tags": [
     "worksheet-0"
    ],
    "slideshow": {
     "slide_type": "-"
    }
   },
   "source": [
    "Implementando o XGBOOST"
   ]
  },
  {
   "cell_type": "code",
   "execution_count": 772,
   "metadata": {
    "autoscroll": "json-false",
    "collapsed": false,
    "ein.tags": [
     "worksheet-0"
    ],
    "slideshow": {
     "slide_type": "-"
    }
   },
   "outputs": [
    {
     "name": "stdout",
     "output_type": "stream",
     "text": [
      "[9]\ttrain-auc:0.944464\tvalidation-auc:0.864223\n"
     ]
    },
    {
     "name": "stdout",
     "output_type": "stream",
     "text": [
      "[8]\ttrain-auc:0.942356\tvalidation-auc:0.863636\n"
     ]
    },
    {
     "name": "stdout",
     "output_type": "stream",
     "text": [
      "[7]\ttrain-auc:0.940293\tvalidation-auc:0.86376\n"
     ]
    },
    {
     "name": "stdout",
     "output_type": "stream",
     "text": [
      "[6]\ttrain-auc:0.937841\tvalidation-auc:0.863494\n"
     ]
    },
    {
     "name": "stdout",
     "output_type": "stream",
     "text": [
      "[5]\ttrain-auc:0.935234\tvalidation-auc:0.863074\n"
     ]
    },
    {
     "name": "stdout",
     "output_type": "stream",
     "text": [
      "[4]\ttrain-auc:0.931887\tvalidation-auc:0.862247\n"
     ]
    },
    {
     "name": "stdout",
     "output_type": "stream",
     "text": [
      "[3]\ttrain-auc:0.928753\tvalidation-auc:0.861521\n"
     ]
    },
    {
     "name": "stdout",
     "output_type": "stream",
     "text": [
      "[2]\ttrain-auc:0.925193\tvalidation-auc:0.860767\n"
     ]
    },
    {
     "name": "stdout",
     "output_type": "stream",
     "text": [
      "[1]\ttrain-auc:0.920192\tvalidation-auc:0.858774\n"
     ]
    },
    {
     "name": "stdout",
     "output_type": "stream",
     "text": [
      "Will train until validation-auc hasn't improved in 4 rounds.\n"
     ]
    },
    {
     "name": "stdout",
     "output_type": "stream",
     "text": [
      "Multiple eval metrics have been passed: 'validation-auc' will be used for early stopping.\n",
      "\n"
     ]
    },
    {
     "name": "stdout",
     "output_type": "stream",
     "text": [
      "[0]\ttrain-auc:0.91037\tvalidation-auc:0.852646\n"
     ]
    }
   ],
   "source": [
    "xg_train = xgb.DMatrix(X_train, label=y_train, missing=np.NaN)\n",
    "xg_test = xgb.DMatrix(X_test, label=y_test, missing=np.NaN)\n",
    "xg_val = xgb.DMatrix(X_val, label=y_val, missing=np.NaN)\n",
    "\n",
    "num_rounds = 10\n",
    "param = {\n",
    "      \"max_depth\": 30,\n",
    "      \"eta\": 0.2,\n",
    "      \"silent\": 0,\n",
    "      \"objective\": \"binary:logistic\",\n",
    "      \"booster\": \"gbtree\",\n",
    "      \"alpha\": 1.0,\n",
    "      \"lambda\": 0,\n",
    "      \"eval_metric\": \"auc\"\n",
    "}\n",
    "\n",
    "watchlist = [(xg_train, \"train\"), (xg_val, \"validation\")]\n",
    "\n",
    "bst = xgb.train(param,\n",
    "                xg_train,\n",
    "                num_rounds,\n",
    "                watchlist,\n",
    "                early_stopping_rounds=4)\n",
    "\n",
    "yprob = bst.predict(xg_test)"
   ]
  },
  {
   "cell_type": "code",
   "execution_count": 773,
   "metadata": {
    "autoscroll": "json-false",
    "collapsed": false,
    "ein.tags": [
     "worksheet-0"
    ],
    "slideshow": {
     "slide_type": "-"
    }
   },
   "outputs": [
    {
     "data": {
      "text/plain": [
       "0.75088269469693714"
      ]
     },
     "execution_count": 773,
     "metadata": {},
     "output_type": "execute_result"
    },
    {
     "name": "stdout",
     "output_type": "stream",
     "text": [
      "*********************************\n"
     ]
    },
    {
     "data": {
      "image/png": "[encoded data removed]",
      "text/plain": [
       "<matplotlib.figure.Figure at 0x7f7f765de650>"
      ]
     },
     "metadata": {},
     "output_type": "display_data"
    },
    {
     "name": "stdout",
     "output_type": "stream",
     "text": [
      "[[1510  996]\n",
      " [ 588 5246]]\n",
      "*********************************\n",
      "Accuracy: 0.81\n",
      "Precision: 0.84043575777\n",
      "Recall: 0.899211518684\n",
      "F1-Score: 0.868830738655\n",
      "[[1510  996]\n",
      " [ 588 5246]]\n",
      "Roc Area: 0.750882694697\n"
     ]
    }
   ],
   "source": [
    "y_pred = [1 if y > 0.5 else 0 for y in yprob]\n",
    "print(metrics.confusion_matrix(y_test, y_pred))\n",
    "\n",
    "complete_report(y_test, y_pred)\n"
   ]
  },
  {
   "cell_type": "code",
   "execution_count": 774,
   "metadata": {
    "autoscroll": "json-false",
    "collapsed": false,
    "ein.tags": [
     "worksheet-0"
    ],
    "slideshow": {
     "slide_type": "-"
    }
   },
   "outputs": [
    {
     "name": "stdout",
     "output_type": "stream",
     "text": [
      "('album_id', 3025)\n",
      "('nmidia_max_repeat', 2623)\n",
      "('nmidia_regular', 1756)\n",
      "('genre_id', 1744)\n",
      "('nmidia_with_flow', 1559)\n",
      "('nartist_regular', 834)\n",
      "('cat_context_type_context_album', 816)\n",
      "('nmidia_regular_listened_PROP', 750)\n",
      "('nmidia_with_flow_listened_PROP', 747)\n",
      "('media_rank_good_rank', 696)\n",
      "('user_gender_1', 646)\n",
      "('nartist_with_flow', 637)\n",
      "('nartist_with_flow_listened_PROP', 601)\n",
      "('nartist_regular_listened_PROP', 568)\n",
      "('cat_user_age_teenagers', 563)\n",
      "('media_bpm_avg_bpm', 531)\n",
      "('cat_user_age_fresh_graduated', 507)\n",
      "('platform_name_1', 413)\n",
      "('artist_fans_max_pop', 389)\n",
      "('nmidia_PROP_diff', 382)\n",
      "('artist_albuns_avg_nalbum', 377)\n",
      "('artist_albuns_good_nalbum', 338)\n",
      "('media_rank_great_rank', 313)\n",
      "('nartist_PROP_diff', 282)\n",
      "('categories_release_2016', 279)\n",
      "('nplatform_regular', 268)\n",
      "('media_rank_avg_rank', 267)\n",
      "('artist_fans_low_pop', 259)\n",
      "('nartist_regular_listened', 257)\n",
      "('categories_release_2012', 248)\n",
      "('nmidia_with_flow_listened', 242)\n",
      "('platform_name_2', 220)\n",
      "('nartist_with_flow_listened', 220)\n",
      "('artist_albuns_low_nalbum', 204)\n",
      "('nmidia_regular_listened', 200)\n",
      "('nmidia_noflow', 188)\n",
      "('artist_fans_avg_pop', 182)\n",
      "('cat_user_age_young', 174)\n",
      "('categories_release_2006', 166)\n",
      "('artist_albuns_great_nalbum', 164)\n",
      "('media_bpm_high_bpm', 152)\n",
      "('nplatform_with_flow', 147)\n",
      "('nmodia_flow', 133)\n",
      "('platform_family_2', 124)\n",
      "('qtd_flow_noflow_PROP', 121)\n",
      "('listen_type_1', 113)\n",
      "('artist_fans_pop', 92)\n",
      "('artist_fans_sup_pop', 89)\n",
      "('nplatform_regular_listened', 83)\n",
      "('nmidia_flow_success', 78)\n",
      "('categories_release_90s', 66)\n",
      "('artist_radio', 48)\n",
      "('nplatform_with_flow_listened', 39)\n",
      "('cat_context_type_context_playlist', 14)\n",
      "('midia_flow_success_PROP', 10)\n",
      "('media_rank_bad_rank', 4)\n"
     ]
    }
   ],
   "source": [
    "import operator\n",
    "importance = bst.get_fscore()\n",
    "importance = sorted(importance.items(), key=operator.itemgetter(1), reverse=True)\n",
    "for item in importance:\n",
    "    print(item)"
   ]
  },
  {
   "cell_type": "code",
   "execution_count": 747,
   "metadata": {
    "autoscroll": "json-false",
    "collapsed": false,
    "ein.tags": [
     "worksheet-0"
    ],
    "slideshow": {
     "slide_type": "-"
    }
   },
   "outputs": [],
   "source": []
  },
  {
   "cell_type": "code",
   "execution_count": 0,
   "metadata": {
    "autoscroll": "json-false",
    "collapsed": false,
    "ein.tags": [
     "worksheet-0"
    ],
    "slideshow": {
     "slide_type": "-"
    }
   },
   "outputs": [],
   "source": []
  }
 ],
 "metadata": {
  "kernelspec": {
   "display_name": "Python 2",
   "name": "python2"
  },
  "name": "XGBoost_Deezer_API.ipynb"
 },
 "nbformat": 4,
 "nbformat_minor": 2
}
