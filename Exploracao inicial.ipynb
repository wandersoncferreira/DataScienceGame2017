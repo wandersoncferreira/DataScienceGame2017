{
 "cells": [
  {
   "cell_type": "code",
   "execution_count": 2,
   "metadata": {
    "collapsed": true,
    "deletable": true,
    "editable": true
   },
   "outputs": [],
   "source": [
    "import pandas as pd\n",
    "import json"
   ]
  },
  {
   "cell_type": "markdown",
   "metadata": {
    "deletable": true,
    "editable": true
   },
   "source": [
    "Transformando um _nested json_ em um DataFrame"
   ]
  },
  {
   "cell_type": "code",
   "execution_count": 3,
   "metadata": {
    "collapsed": false,
    "deletable": true,
    "editable": true
   },
   "outputs": [],
   "source": [
    "with open('extra_infos.json') as json_data:\n",
    "    df_extra = pd.read_json(json_data, lines=True)"
   ]
  },
  {
   "cell_type": "code",
   "execution_count": 4,
   "metadata": {
    "collapsed": false,
    "deletable": true,
    "editable": true
   },
   "outputs": [
    {
     "data": {
      "text/html": [
       "<div>\n",
       "<table border=\"1\" class=\"dataframe\">\n",
       "  <thead>\n",
       "    <tr style=\"text-align: right;\">\n",
       "      <th></th>\n",
       "      <th>alb_title</th>\n",
       "      <th>art_name</th>\n",
       "      <th>media_id</th>\n",
       "      <th>sng_title</th>\n",
       "    </tr>\n",
       "  </thead>\n",
       "  <tbody>\n",
       "    <tr>\n",
       "      <th>0</th>\n",
       "      <td>El Son de Cuba</td>\n",
       "      <td>Septeto Nacional De Ignacio Pineiro</td>\n",
       "      <td>213952</td>\n",
       "      <td>Maria Cristina</td>\n",
       "    </tr>\n",
       "    <tr>\n",
       "      <th>1</th>\n",
       "      <td>Sounds from the fourth world</td>\n",
       "      <td>Calvin Russell</td>\n",
       "      <td>223014</td>\n",
       "      <td>Love stealer</td>\n",
       "    </tr>\n",
       "    <tr>\n",
       "      <th>2</th>\n",
       "      <td>Le meilleur de Malavoi</td>\n",
       "      <td>Malavoi</td>\n",
       "      <td>237198</td>\n",
       "      <td>Caressé moin</td>\n",
       "    </tr>\n",
       "    <tr>\n",
       "      <th>3</th>\n",
       "      <td>Les titres essentiels Cuba</td>\n",
       "      <td>Soneros De Verdad</td>\n",
       "      <td>238380</td>\n",
       "      <td>A Buena Vista</td>\n",
       "    </tr>\n",
       "    <tr>\n",
       "      <th>4</th>\n",
       "      <td>Dantzig Twist</td>\n",
       "      <td>Marquis de Sade</td>\n",
       "      <td>244881</td>\n",
       "      <td>Nacht und Nebel</td>\n",
       "    </tr>\n",
       "  </tbody>\n",
       "</table>\n",
       "</div>"
      ],
      "text/plain": [
       "                      alb_title                             art_name  \\\n",
       "0                El Son de Cuba  Septeto Nacional De Ignacio Pineiro   \n",
       "1  Sounds from the fourth world                       Calvin Russell   \n",
       "2        Le meilleur de Malavoi                              Malavoi   \n",
       "3    Les titres essentiels Cuba                    Soneros De Verdad   \n",
       "4                 Dantzig Twist                      Marquis de Sade   \n",
       "\n",
       "   media_id        sng_title  \n",
       "0    213952   Maria Cristina  \n",
       "1    223014     Love stealer  \n",
       "2    237198     Caressé moin  \n",
       "3    238380    A Buena Vista  \n",
       "4    244881  Nacht und Nebel  "
      ]
     },
     "execution_count": 4,
     "metadata": {},
     "output_type": "execute_result"
    }
   ],
   "source": [
    "df_extra.head()"
   ]
  },
  {
   "cell_type": "markdown",
   "metadata": {
    "deletable": true,
    "editable": true
   },
   "source": [
    "## Ocorrência "
   ]
  },
  {
   "cell_type": "code",
   "execution_count": 5,
   "metadata": {
    "collapsed": false,
    "deletable": true,
    "editable": true,
    "scrolled": true
   },
   "outputs": [
    {
     "data": {
      "text/plain": [
       "Johnny Hallyday                                                                                                                     901\n",
       "Elvis Presley                                                                                                                       657\n",
       "Georges Brassens                                                                                                                    647\n",
       "Renaud                                                                                                                              632\n",
       "Frank Sinatra                                                                                                                       618\n",
       "Bob Marley & The Wailers                                                                                                            579\n",
       "Céline Dion                                                                                                                         522\n",
       "Bob Marley                                                                                                                          501\n",
       "Ray Charles                                                                                                                         488\n",
       "Oasis de Détente et Relaxation                                                                                                      477\n",
       "Les Enfoirés                                                                                                                        453\n",
       "Michael Jackson                                                                                                                     442\n",
       "Nina Simone                                                                                                                         440\n",
       "Édith Piaf                                                                                                                          429\n",
       "Hans Zimmer                                                                                                                         427\n",
       "Glee Cast                                                                                                                           422\n",
       "Charles Aznavour                                                                                                                    417\n",
       "Ennio Morricone                                                                                                                     414\n",
       "Leonard Cohen                                                                                                                       405\n",
       "IAM                                                                                                                                 401\n",
       "Louis Armstrong                                                                                                                     400\n",
       "Johnny Cash                                                                                                                         395\n",
       "Indochine                                                                                                                           394\n",
       "The Rolling Stones                                                                                                                  391\n",
       "Serge Gainsbourg                                                                                                                    388\n",
       "David Bowie                                                                                                                         386\n",
       "Queen                                                                                                                               385\n",
       "Pink Floyd                                                                                                                          382\n",
       "Madonna                                                                                                                             376\n",
       "The Beatles                                                                                                                         356\n",
       "                                                                                                                                   ... \n",
       "Booka                                                                                                                                 1\n",
       "Dutch Party                                                                                                                           1\n",
       "Tennyson                                                                                                                              1\n",
       "Thierry Malet & The City of Prague Philharmonic Orchestra                                                                             1\n",
       "Oliver Lieb                                                                                                                           1\n",
       "Otto von Schirach                                                                                                                     1\n",
       "B-Legit                                                                                                                               1\n",
       "The Sound Stylistics                                                                                                                  1\n",
       "Jack Purvis and His Orchestra, Adrian Rollini, Charlie Kegley, Will Johnson, Frank Froeba, Coleman Hawkins, Jay C. Higginbotham,      1\n",
       "Wavesonik                                                                                                                             1\n",
       "Till Von Sein & Tigerskin                                                                                                             1\n",
       "Loopers                                                                                                                               1\n",
       "Sweepo                                                                                                                                1\n",
       "Bad Company UK                                                                                                                        1\n",
       "Cock Sparrer                                                                                                                          1\n",
       "Leaders Of The New School                                                                                                             1\n",
       "The Karate Kid                                                                                                                        1\n",
       "Vladi Strecker                                                                                                                        1\n",
       "Gentleman & Tamika                                                                                                                    1\n",
       "Louise Post                                                                                                                           1\n",
       "Drumcell                                                                                                                              1\n",
       "Fred Su                                                                                                                               1\n",
       "Canciones Para Niños & Canciones Infantiles                                                                                           1\n",
       "Notorious B.I.G. & 50 Cent                                                                                                            1\n",
       "Jamie K                                                                                                                               1\n",
       "Barbados                                                                                                                              1\n",
       "Wilo D New                                                                                                                            1\n",
       "Black Mighty Orchestra                                                                                                                1\n",
       "Loredana Bertè                                                                                                                        1\n",
       "Gundula Janowitz/Philharmonia Orchestra/Otto Klemperer/Wilhelm Pitz                                                                   1\n",
       "Name: art_name, dtype: int64"
      ]
     },
     "execution_count": 5,
     "metadata": {},
     "output_type": "execute_result"
    }
   ],
   "source": [
    "df_extra['art_name'].value_counts()"
   ]
  },
  {
   "cell_type": "code",
   "execution_count": 6,
   "metadata": {
    "collapsed": false,
    "deletable": true,
    "editable": true,
    "scrolled": true
   },
   "outputs": [
    {
     "data": {
      "text/plain": [
       "Greatest Hits                                                             1189\n",
       "Best Of                                                                   1186\n",
       "Les 50 Plus Belles Chansons                                                444\n",
       "Triple Best Of                                                             420\n",
       "The Very Best Of                                                           301\n",
       "The Platinum Collection                                                    269\n",
       "Gold                                                                       266\n",
       "The Best Of                                                                263\n",
       "Original Album Classics                                                    249\n",
       "Best of                                                                    216\n",
       "Live                                                                       199\n",
       "Love Songs                                                                 194\n",
       "The Ultimate Collection                                                    184\n",
       "Chopin Classics                                                            175\n",
       "The Collection                                                             169\n",
       "Anthology                                                                  157\n",
       "L'intégrale                                                                147\n",
       "111 Years of Deutsche Grammophon                                           146\n",
       "Best Of 70                                                                 146\n",
       "The 50 Greatest Songs                                                      130\n",
       "Le coffret essentiel                                                       127\n",
       "L'Essentiel Des Albums Studio Vol. 2                                       118\n",
       "Home                                                                       114\n",
       "Freedom                                                                    112\n",
       "150 Comptines et chansons pour bébé                                        112\n",
       "Coffret Nova Tunes 2.1 - 3.0 (2010 - 2014)                                 111\n",
       "50 Plus Belles Chansons                                                    108\n",
       "The Definitive Collection                                                  108\n",
       "Legend                                                                     107\n",
       "MTV Unplugged                                                              104\n",
       "                                                                          ... \n",
       "Paris Music Hall - Maurice Chevalier                                         1\n",
       "The History of Rock'n Roll                                                   1\n",
       "El Mordjane                                                                  1\n",
       "Classical Chillout II                                                        1\n",
       "Alley Cat                                                                    1\n",
       "The Chase (feat. Aruna)                                                      1\n",
       "Tanaslit                                                                     1\n",
       "The Essential Jazz Masters Collection, Vol. 6                                1\n",
       "R8                                                                           1\n",
       "Rongorongo Remixed                                                           1\n",
       "Turbo Century II                                                             1\n",
       "What's Left Of Me                                                            1\n",
       "Africa Calling                                                               1\n",
       "Knuck If You Buck                                                            1\n",
       "Fais le pas de côté ' c' est chaud '                                         1\n",
       "A Tribute to Rap Pioneer Heavy D: 1967-2011                                  1\n",
       "رسالة من إمرأة                                                               1\n",
       "I Command                                                                    1\n",
       "Blunt & Real ft. KG Man ft. Noizy ft. Nappy Paco - Party turn up             1\n",
       "Lean On (Acoustic)                                                           1\n",
       "Vintage Brazil Nº 3 - EPs Collectors, \"Chansons Du Floklore Brésilien\"       1\n",
       "1957                                                                         1\n",
       "XXII                                                                         1\n",
       "Grotesque (After the Gramme) [Expanded Deluxe Edition]                       1\n",
       "All Life                                                                     1\n",
       "Mystery Train                                                                1\n",
       "The Killion Floor                                                            1\n",
       "Keep My Cool (feat. Willy William)                                           1\n",
       "Trance Sensation                                                             1\n",
       "Reggaetón Mega Mix, Vol. 2                                                   1\n",
       "Name: alb_title, dtype: int64"
      ]
     },
     "execution_count": 6,
     "metadata": {},
     "output_type": "execute_result"
    }
   ],
   "source": [
    "df_extra['alb_title'].value_counts()"
   ]
  },
  {
   "cell_type": "code",
   "execution_count": 7,
   "metadata": {
    "collapsed": false,
    "deletable": true,
    "editable": true,
    "scrolled": true
   },
   "outputs": [
    {
     "data": {
      "text/plain": [
       "Intro                                                                         634\n",
       "Interlude                                                                     164\n",
       "Home                                                                          162\n",
       "Outro                                                                         128\n",
       "Summertime                                                                    120\n",
       "Hello                                                                         113\n",
       "Ave Maria                                                                     104\n",
       "Hallelujah                                                                     98\n",
       "You                                                                            96\n",
       "Fire                                                                           95\n",
       "Smile                                                                          92\n",
       "Stay                                                                           91\n",
       "Freedom                                                                        91\n",
       "Silent Night                                                                   91\n",
       "Heaven                                                                         91\n",
       "Paradise                                                                       90\n",
       "Crazy                                                                          90\n",
       "Tonight                                                                        89\n",
       "Closer                                                                         88\n",
       "Without You                                                                    88\n",
       "White Christmas                                                                84\n",
       "Shine                                                                          84\n",
       "Breathe                                                                        83\n",
       "Fever                                                                          83\n",
       "Hold On                                                                        81\n",
       "Prelude                                                                        79\n",
       "Mama                                                                           79\n",
       "Jingle Bells                                                                   78\n",
       "Africa                                                                         78\n",
       "Money                                                                          78\n",
       "                                                                             ... \n",
       "Solido (Remix)                                                                  1\n",
       "Already Over, Pt. 2                                                             1\n",
       "Kiss and Make Up                                                                1\n",
       "Strange Fruit (04-20-39)                                                        1\n",
       "Mon Trésor                                                                      1\n",
       "Electro House                                                                   1\n",
       "53. \"D'une vaine terreur pouvez-vous être atteinte\"                             1\n",
       "Insomnia (Christopher S & Mike Candys Hypnotic Rework) [With Jack Holiday]      1\n",
       "Nights In White Satin - (Tribute to Moody Blues)                                1\n",
       "Entre les gouttes                                                               1\n",
       "Etoh                                                                            1\n",
       "Dear John C.                                                                    1\n",
       "We Live For Love                                                                1\n",
       "One Cup Of Coffee                                                               1\n",
       "Brandon Heights                                                                 1\n",
       "Do What You Were Made For                                                       1\n",
       "Hatzel Vaani                                                                    1\n",
       "Acoustic Coupler (Original Mix)                                                 1\n",
       "Money in your pocket                                                            1\n",
       "Todo                                                                            1\n",
       "Throw Hell At Him                                                               1\n",
       "Lockdown Hurricane                                                              1\n",
       "El Piropo                                                                       1\n",
       "Sonatz campanetas                                                               1\n",
       "Hatha yoga, Kundalini yoga                                                      1\n",
       "Look After You (Originally Performed by the Fray) [Karaoke Version]             1\n",
       "Breathe / Les Sex Intro                                                         1\n",
       "Gönül Dağı                                                                      1\n",
       "T.M.H.S.R.                                                                      1\n",
       "Aún Lo Amo                                                                      1\n",
       "Name: sng_title, dtype: int64"
      ]
     },
     "execution_count": 7,
     "metadata": {},
     "output_type": "execute_result"
    }
   ],
   "source": [
    "df_extra['sng_title'].value_counts()"
   ]
  },
  {
   "cell_type": "code",
   "execution_count": null,
   "metadata": {
    "collapsed": true,
    "deletable": true,
    "editable": true
   },
   "outputs": [],
   "source": []
  },
  {
   "cell_type": "markdown",
   "metadata": {
    "deletable": true,
    "editable": true
   },
   "source": [
    "## Dados de treino"
   ]
  },
  {
   "cell_type": "code",
   "execution_count": 8,
   "metadata": {
    "collapsed": true,
    "deletable": true,
    "editable": true
   },
   "outputs": [],
   "source": [
    "df_train = pd.read_csv('train.csv')"
   ]
  },
  {
   "cell_type": "code",
   "execution_count": 9,
   "metadata": {
    "collapsed": false,
    "deletable": true,
    "editable": true
   },
   "outputs": [
    {
     "data": {
      "text/plain": [
       "0    Malin plaisir\n",
       "1    Malin Plaisir\n",
       "2    Seul au monde\n",
       "dtype: object"
      ]
     },
     "execution_count": 9,
     "metadata": {},
     "output_type": "execute_result"
    }
   ],
   "source": [
    "pd.Series(df_extra[(df_extra.media_id == 222606)][['alb_title', 'art_name', 'sng_title']].values[0])"
   ]
  },
  {
   "cell_type": "code",
   "execution_count": 10,
   "metadata": {
    "collapsed": false,
    "deletable": true,
    "editable": true
   },
   "outputs": [
    {
     "data": {
      "text/html": [
       "<div>\n",
       "<table border=\"1\" class=\"dataframe\">\n",
       "  <thead>\n",
       "    <tr style=\"text-align: right;\">\n",
       "      <th></th>\n",
       "      <th>genre_id</th>\n",
       "      <th>ts_listen</th>\n",
       "      <th>media_id</th>\n",
       "      <th>album_id</th>\n",
       "      <th>context_type</th>\n",
       "      <th>release_date</th>\n",
       "      <th>platform_name</th>\n",
       "      <th>platform_family</th>\n",
       "      <th>media_duration</th>\n",
       "      <th>listen_type</th>\n",
       "      <th>user_gender</th>\n",
       "      <th>user_id</th>\n",
       "      <th>artist_id</th>\n",
       "      <th>user_age</th>\n",
       "      <th>is_listened</th>\n",
       "    </tr>\n",
       "  </thead>\n",
       "  <tbody>\n",
       "    <tr>\n",
       "      <th>0</th>\n",
       "      <td>25471</td>\n",
       "      <td>1480597215</td>\n",
       "      <td>222606</td>\n",
       "      <td>41774</td>\n",
       "      <td>12</td>\n",
       "      <td>20040704</td>\n",
       "      <td>1</td>\n",
       "      <td>0</td>\n",
       "      <td>223</td>\n",
       "      <td>0</td>\n",
       "      <td>0</td>\n",
       "      <td>9241</td>\n",
       "      <td>55164</td>\n",
       "      <td>29</td>\n",
       "      <td>0</td>\n",
       "    </tr>\n",
       "    <tr>\n",
       "      <th>1</th>\n",
       "      <td>25571</td>\n",
       "      <td>1480544735</td>\n",
       "      <td>250467</td>\n",
       "      <td>43941</td>\n",
       "      <td>0</td>\n",
       "      <td>20060301</td>\n",
       "      <td>2</td>\n",
       "      <td>1</td>\n",
       "      <td>171</td>\n",
       "      <td>0</td>\n",
       "      <td>0</td>\n",
       "      <td>16547</td>\n",
       "      <td>55830</td>\n",
       "      <td>30</td>\n",
       "      <td>1</td>\n",
       "    </tr>\n",
       "    <tr>\n",
       "      <th>2</th>\n",
       "      <td>16</td>\n",
       "      <td>1479563953</td>\n",
       "      <td>305197</td>\n",
       "      <td>48078</td>\n",
       "      <td>1</td>\n",
       "      <td>20140714</td>\n",
       "      <td>2</td>\n",
       "      <td>1</td>\n",
       "      <td>149</td>\n",
       "      <td>1</td>\n",
       "      <td>1</td>\n",
       "      <td>7665</td>\n",
       "      <td>2704</td>\n",
       "      <td>29</td>\n",
       "      <td>1</td>\n",
       "    </tr>\n",
       "    <tr>\n",
       "      <th>3</th>\n",
       "      <td>7</td>\n",
       "      <td>1480152098</td>\n",
       "      <td>900502</td>\n",
       "      <td>71521</td>\n",
       "      <td>0</td>\n",
       "      <td>20001030</td>\n",
       "      <td>0</td>\n",
       "      <td>0</td>\n",
       "      <td>240</td>\n",
       "      <td>0</td>\n",
       "      <td>1</td>\n",
       "      <td>1580</td>\n",
       "      <td>938</td>\n",
       "      <td>30</td>\n",
       "      <td>0</td>\n",
       "    </tr>\n",
       "    <tr>\n",
       "      <th>4</th>\n",
       "      <td>7</td>\n",
       "      <td>1478368974</td>\n",
       "      <td>542335</td>\n",
       "      <td>71718</td>\n",
       "      <td>0</td>\n",
       "      <td>20080215</td>\n",
       "      <td>0</td>\n",
       "      <td>0</td>\n",
       "      <td>150</td>\n",
       "      <td>0</td>\n",
       "      <td>1</td>\n",
       "      <td>1812</td>\n",
       "      <td>2939</td>\n",
       "      <td>24</td>\n",
       "      <td>1</td>\n",
       "    </tr>\n",
       "  </tbody>\n",
       "</table>\n",
       "</div>"
      ],
      "text/plain": [
       "   genre_id   ts_listen  media_id  album_id  context_type  release_date  \\\n",
       "0     25471  1480597215    222606     41774            12      20040704   \n",
       "1     25571  1480544735    250467     43941             0      20060301   \n",
       "2        16  1479563953    305197     48078             1      20140714   \n",
       "3         7  1480152098    900502     71521             0      20001030   \n",
       "4         7  1478368974    542335     71718             0      20080215   \n",
       "\n",
       "   platform_name  platform_family  media_duration  listen_type  user_gender  \\\n",
       "0              1                0             223            0            0   \n",
       "1              2                1             171            0            0   \n",
       "2              2                1             149            1            1   \n",
       "3              0                0             240            0            1   \n",
       "4              0                0             150            0            1   \n",
       "\n",
       "   user_id  artist_id  user_age  is_listened  \n",
       "0     9241      55164        29            0  \n",
       "1    16547      55830        30            1  \n",
       "2     7665       2704        29            1  \n",
       "3     1580        938        30            0  \n",
       "4     1812       2939        24            1  "
      ]
     },
     "execution_count": 10,
     "metadata": {},
     "output_type": "execute_result"
    }
   ],
   "source": [
    "df_train.head()"
   ]
  },
  {
   "cell_type": "code",
   "execution_count": null,
   "metadata": {
    "collapsed": true,
    "deletable": true,
    "editable": true
   },
   "outputs": [],
   "source": []
  },
  {
   "cell_type": "markdown",
   "metadata": {
    "deletable": true,
    "editable": true
   },
   "source": [
    "## Extendendo a base de dados de treino com os dados extras"
   ]
  },
  {
   "cell_type": "code",
   "execution_count": 11,
   "metadata": {
    "collapsed": false
   },
   "outputs": [],
   "source": [
    "df_train = df_train[0:10]"
   ]
  },
  {
   "cell_type": "code",
   "execution_count": 12,
   "metadata": {
    "collapsed": false,
    "deletable": true,
    "editable": true
   },
   "outputs": [],
   "source": [
    "df_train[['art_name', 'sng_title', 'alb_title']] = df_train.apply(lambda item: pd.Series(df_extra[(df_extra.media_id == item.media_id)][['alb_title', 'art_name', 'sng_title']].values[0]), axis=1)"
   ]
  },
  {
   "cell_type": "code",
   "execution_count": 13,
   "metadata": {
    "collapsed": false,
    "deletable": true,
    "editable": true
   },
   "outputs": [
    {
     "data": {
      "text/html": [
       "<div>\n",
       "<table border=\"1\" class=\"dataframe\">\n",
       "  <thead>\n",
       "    <tr style=\"text-align: right;\">\n",
       "      <th></th>\n",
       "      <th>genre_id</th>\n",
       "      <th>ts_listen</th>\n",
       "      <th>media_id</th>\n",
       "      <th>album_id</th>\n",
       "      <th>context_type</th>\n",
       "      <th>release_date</th>\n",
       "      <th>platform_name</th>\n",
       "      <th>platform_family</th>\n",
       "      <th>media_duration</th>\n",
       "      <th>listen_type</th>\n",
       "      <th>user_gender</th>\n",
       "      <th>user_id</th>\n",
       "      <th>artist_id</th>\n",
       "      <th>user_age</th>\n",
       "      <th>is_listened</th>\n",
       "      <th>art_name</th>\n",
       "      <th>sng_title</th>\n",
       "      <th>alb_title</th>\n",
       "    </tr>\n",
       "  </thead>\n",
       "  <tbody>\n",
       "    <tr>\n",
       "      <th>0</th>\n",
       "      <td>25471</td>\n",
       "      <td>1480597215</td>\n",
       "      <td>222606</td>\n",
       "      <td>41774</td>\n",
       "      <td>12</td>\n",
       "      <td>20040704</td>\n",
       "      <td>1</td>\n",
       "      <td>0</td>\n",
       "      <td>223</td>\n",
       "      <td>0</td>\n",
       "      <td>0</td>\n",
       "      <td>9241</td>\n",
       "      <td>55164</td>\n",
       "      <td>29</td>\n",
       "      <td>0</td>\n",
       "      <td>Malin plaisir</td>\n",
       "      <td>Malin Plaisir</td>\n",
       "      <td>Seul au monde</td>\n",
       "    </tr>\n",
       "    <tr>\n",
       "      <th>1</th>\n",
       "      <td>25571</td>\n",
       "      <td>1480544735</td>\n",
       "      <td>250467</td>\n",
       "      <td>43941</td>\n",
       "      <td>0</td>\n",
       "      <td>20060301</td>\n",
       "      <td>2</td>\n",
       "      <td>1</td>\n",
       "      <td>171</td>\n",
       "      <td>0</td>\n",
       "      <td>0</td>\n",
       "      <td>16547</td>\n",
       "      <td>55830</td>\n",
       "      <td>30</td>\n",
       "      <td>1</td>\n",
       "      <td>Stop talking / dead tapes</td>\n",
       "      <td>Soldout</td>\n",
       "      <td>You're not ok</td>\n",
       "    </tr>\n",
       "    <tr>\n",
       "      <th>2</th>\n",
       "      <td>16</td>\n",
       "      <td>1479563953</td>\n",
       "      <td>305197</td>\n",
       "      <td>48078</td>\n",
       "      <td>1</td>\n",
       "      <td>20140714</td>\n",
       "      <td>2</td>\n",
       "      <td>1</td>\n",
       "      <td>149</td>\n",
       "      <td>1</td>\n",
       "      <td>1</td>\n",
       "      <td>7665</td>\n",
       "      <td>2704</td>\n",
       "      <td>29</td>\n",
       "      <td>1</td>\n",
       "      <td>Dérives</td>\n",
       "      <td>René Aubry</td>\n",
       "      <td>Samuel</td>\n",
       "    </tr>\n",
       "    <tr>\n",
       "      <th>3</th>\n",
       "      <td>7</td>\n",
       "      <td>1480152098</td>\n",
       "      <td>900502</td>\n",
       "      <td>71521</td>\n",
       "      <td>0</td>\n",
       "      <td>20001030</td>\n",
       "      <td>0</td>\n",
       "      <td>0</td>\n",
       "      <td>240</td>\n",
       "      <td>0</td>\n",
       "      <td>1</td>\n",
       "      <td>1580</td>\n",
       "      <td>938</td>\n",
       "      <td>30</td>\n",
       "      <td>0</td>\n",
       "      <td>Estilolibre</td>\n",
       "      <td>Eros Ramazzotti</td>\n",
       "      <td>Mujer Amiga Mia</td>\n",
       "    </tr>\n",
       "    <tr>\n",
       "      <th>4</th>\n",
       "      <td>7</td>\n",
       "      <td>1478368974</td>\n",
       "      <td>542335</td>\n",
       "      <td>71718</td>\n",
       "      <td>0</td>\n",
       "      <td>20080215</td>\n",
       "      <td>0</td>\n",
       "      <td>0</td>\n",
       "      <td>150</td>\n",
       "      <td>0</td>\n",
       "      <td>1</td>\n",
       "      <td>1812</td>\n",
       "      <td>2939</td>\n",
       "      <td>24</td>\n",
       "      <td>1</td>\n",
       "      <td>Collections - The Byrds Play Dylan</td>\n",
       "      <td>The Byrds</td>\n",
       "      <td>Mr. Tambourine Man</td>\n",
       "    </tr>\n",
       "  </tbody>\n",
       "</table>\n",
       "</div>"
      ],
      "text/plain": [
       "   genre_id   ts_listen  media_id  album_id  context_type  release_date  \\\n",
       "0     25471  1480597215    222606     41774            12      20040704   \n",
       "1     25571  1480544735    250467     43941             0      20060301   \n",
       "2        16  1479563953    305197     48078             1      20140714   \n",
       "3         7  1480152098    900502     71521             0      20001030   \n",
       "4         7  1478368974    542335     71718             0      20080215   \n",
       "\n",
       "   platform_name  platform_family  media_duration  listen_type  user_gender  \\\n",
       "0              1                0             223            0            0   \n",
       "1              2                1             171            0            0   \n",
       "2              2                1             149            1            1   \n",
       "3              0                0             240            0            1   \n",
       "4              0                0             150            0            1   \n",
       "\n",
       "   user_id  artist_id  user_age  is_listened  \\\n",
       "0     9241      55164        29            0   \n",
       "1    16547      55830        30            1   \n",
       "2     7665       2704        29            1   \n",
       "3     1580        938        30            0   \n",
       "4     1812       2939        24            1   \n",
       "\n",
       "                             art_name        sng_title           alb_title  \n",
       "0                       Malin plaisir    Malin Plaisir       Seul au monde  \n",
       "1           Stop talking / dead tapes          Soldout       You're not ok  \n",
       "2                             Dérives       René Aubry              Samuel  \n",
       "3                         Estilolibre  Eros Ramazzotti     Mujer Amiga Mia  \n",
       "4  Collections - The Byrds Play Dylan        The Byrds  Mr. Tambourine Man  "
      ]
     },
     "execution_count": 13,
     "metadata": {},
     "output_type": "execute_result"
    }
   ],
   "source": [
    "df_train.head()"
   ]
  },
  {
   "cell_type": "code",
   "execution_count": null,
   "metadata": {
    "collapsed": true,
    "deletable": true,
    "editable": true
   },
   "outputs": [],
   "source": []
  },
  {
   "cell_type": "code",
   "execution_count": null,
   "metadata": {
    "collapsed": true,
    "deletable": true,
    "editable": true
   },
   "outputs": [],
   "source": []
  }
 ],
 "metadata": {
  "kernelspec": {
   "display_name": "Python 3",
   "language": "python",
   "name": "python3"
  },
  "language_info": {
   "codemirror_mode": {
    "name": "ipython",
    "version": 3
   },
   "file_extension": ".py",
   "mimetype": "text/x-python",
   "name": "python",
   "nbconvert_exporter": "python",
   "pygments_lexer": "ipython3",
   "version": "3.6.0"
  }
 },
 "nbformat": 4,
 "nbformat_minor": 2
}
