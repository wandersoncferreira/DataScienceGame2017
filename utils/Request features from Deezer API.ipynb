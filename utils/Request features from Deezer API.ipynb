{
 "cells": [
  {
   "cell_type": "code",
   "execution_count": 1,
   "metadata": {
    "collapsed": true
   },
   "outputs": [],
   "source": [
    "import requests\n",
    "import pandas as pd\n",
    "from features import DataGame, DeezerFeatures"
   ]
  },
  {
   "cell_type": "code",
   "execution_count": 2,
   "metadata": {
    "collapsed": true
   },
   "outputs": [],
   "source": [
    "treino = DataGame(\"../train.csv\")"
   ]
  },
  {
   "cell_type": "code",
   "execution_count": 3,
   "metadata": {},
   "outputs": [
    {
     "data": {
      "text/plain": [
       "7558834"
      ]
     },
     "execution_count": 3,
     "metadata": {},
     "output_type": "execute_result"
    }
   ],
   "source": [
    "len(treino.df)"
   ]
  },
  {
   "cell_type": "code",
   "execution_count": null,
   "metadata": {
    "collapsed": true
   },
   "outputs": [],
   "source": [
    "# Request link para Track\n",
    "\n",
    "track_link = \"https://api.deezer.com/track/TRACK_ID\"\n",
    "album_link = \"https://api.deezer.com/album/ALBUM_ID\"\n",
    "artist_link = \"https://api.deezer.com/artist/ARTIST_ID\""
   ]
  },
  {
   "cell_type": "code",
   "execution_count": null,
   "metadata": {},
   "outputs": [],
   "source": [
    "track_id = treino.df[\"artist_id\"].iloc[0]\n",
    "requests.get(artist_libk.replace(\"ARTIST_ID\", str(track_id))).json()"
   ]
  },
  {
   "cell_type": "code",
   "execution_count": null,
   "metadata": {
    "collapsed": true
   },
   "outputs": [],
   "source": [
    "def track_features(media_id):\n",
    "    track = track_link.replace(\"TRACK_ID\", str(media_id))\n",
    "    response = requests.get(track)\n",
    "    rjson = response.json()\n",
    "    dict_resp = {\"media_id\": media_id, \"media_bpm\": rjson[\"bpm\"], \"media_rank\": rjson[\"rank\"]}\n",
    "    return dict_resp\n",
    "\n",
    "def album_features(album_id):\n",
    "    album = album_link.replace(\"ALBUM_ID\", str(album_id))\n",
    "    response = requests.get(album)\n",
    "    rjson = response.json()\n",
    "#     ids_genre = [genre[\"id\"] for genre in rjson[\"genres\"][\"data\"]]\n",
    "#     dict_resp = {\"album_id\": album_id, \"album_rating\": rjson[\"rating\"], \"album_fans\": rjson[\"fans\"],\n",
    "#                  \"album_genres\": ids_genre}\n",
    "    return rjson\n",
    "\n",
    "def artist_features(artist_id):\n",
    "    artist = artist_link.replace(\"ARTIST_ID\", str(artist_id))\n",
    "    response = requests.get(artist)\n",
    "    rjson = response.json()\n",
    "    dict_resp = {\"artist_id\": artist_id, \"artist_fans\": rjson[\"nb_fan\"], \"artist_albuns\": rjson[\"nb_album\"]}\n",
    "    return rjson"
   ]
  },
  {
   "cell_type": "code",
   "execution_count": null,
   "metadata": {},
   "outputs": [],
   "source": [
    "track_id = treino.df[\"media_id\"].iloc[0]\n",
    "teste = track_features(track_id)\n",
    "teste"
   ]
  },
  {
   "cell_type": "code",
   "execution_count": null,
   "metadata": {},
   "outputs": [],
   "source": [
    "album_id = treino.df[\"album_id\"].iloc[0]\n",
    "album_id = 45\n",
    "teste = album_features(album_id)\n",
    "t"
   ]
  },
  {
   "cell_type": "code",
   "execution_count": null,
   "metadata": {},
   "outputs": [],
   "source": [
    "artist_id = treino.df[\"artist_id\"].iloc[0]\n",
    "artist_id = 142956\n",
    "teste = artist_features(artist_id)\n",
    "teste"
   ]
  },
  {
   "cell_type": "code",
   "execution_count": null,
   "metadata": {
    "collapsed": true
   },
   "outputs": [],
   "source": []
  },
  {
   "cell_type": "code",
   "execution_count": null,
   "metadata": {
    "collapsed": true
   },
   "outputs": [],
   "source": [
    "artist_ids = treino.df[\"artist_id\"].unique().tolist()\n",
    "album_ids = treino.df[\"album_id\"].unique().tolist()\n",
    "media_ids = treino.df[\"media_id\"].unique().tolist()"
   ]
  },
  {
   "cell_type": "code",
   "execution_count": null,
   "metadata": {},
   "outputs": [],
   "source": [
    "print(\"Quantidade de artistas: \", artist_ids.__len__())\n",
    "print(\"Quantidade de albuns: \", album_ids.__len__())\n",
    "print(\"Quantidade de musicas: \", media_ids.__len__())"
   ]
  },
  {
   "cell_type": "code",
   "execution_count": 4,
   "metadata": {
    "collapsed": true
   },
   "outputs": [],
   "source": [
    "artist_feats = pd.read_csv(\"artist_features_from_deezer.csv\", sep=\",\")"
   ]
  },
  {
   "cell_type": "code",
   "execution_count": 5,
   "metadata": {},
   "outputs": [
    {
     "data": {
      "text/html": [
       "<div>\n",
       "<table border=\"1\" class=\"dataframe\">\n",
       "  <thead>\n",
       "    <tr style=\"text-align: right;\">\n",
       "      <th></th>\n",
       "      <th>artist_albuns</th>\n",
       "      <th>artist_fans</th>\n",
       "      <th>artist_id</th>\n",
       "      <th>artist_radio</th>\n",
       "    </tr>\n",
       "  </thead>\n",
       "  <tbody>\n",
       "    <tr>\n",
       "      <th>0</th>\n",
       "      <td>1.0</td>\n",
       "      <td>32.0</td>\n",
       "      <td>55164</td>\n",
       "      <td>False</td>\n",
       "    </tr>\n",
       "    <tr>\n",
       "      <th>1</th>\n",
       "      <td>18.0</td>\n",
       "      <td>6204.0</td>\n",
       "      <td>55830</td>\n",
       "      <td>True</td>\n",
       "    </tr>\n",
       "    <tr>\n",
       "      <th>2</th>\n",
       "      <td>23.0</td>\n",
       "      <td>20022.0</td>\n",
       "      <td>2704</td>\n",
       "      <td>True</td>\n",
       "    </tr>\n",
       "    <tr>\n",
       "      <th>3</th>\n",
       "      <td>56.0</td>\n",
       "      <td>442765.0</td>\n",
       "      <td>938</td>\n",
       "      <td>True</td>\n",
       "    </tr>\n",
       "    <tr>\n",
       "      <th>4</th>\n",
       "      <td>65.0</td>\n",
       "      <td>28423.0</td>\n",
       "      <td>2939</td>\n",
       "      <td>True</td>\n",
       "    </tr>\n",
       "  </tbody>\n",
       "</table>\n",
       "</div>"
      ],
      "text/plain": [
       "   artist_albuns  artist_fans  artist_id artist_radio\n",
       "0            1.0         32.0      55164        False\n",
       "1           18.0       6204.0      55830         True\n",
       "2           23.0      20022.0       2704         True\n",
       "3           56.0     442765.0        938         True\n",
       "4           65.0      28423.0       2939         True"
      ]
     },
     "execution_count": 5,
     "metadata": {},
     "output_type": "execute_result"
    }
   ],
   "source": [
    "artist_feats.head()"
   ]
  },
  {
   "cell_type": "code",
   "execution_count": 6,
   "metadata": {},
   "outputs": [],
   "source": [
    "artist_ids = artist_feats[(pd.isnull(artist_feats[\"artist_albuns\"]))][\"artist_id\"].tolist()"
   ]
  },
  {
   "cell_type": "code",
   "execution_count": null,
   "metadata": {
    "collapsed": true
   },
   "outputs": [],
   "source": []
  },
  {
   "cell_type": "code",
   "execution_count": 7,
   "metadata": {},
   "outputs": [],
   "source": [
    "deezer = DeezerFeatures(artist_ids=artist_ids, create_csv=True, file_number=1)"
   ]
  },
  {
   "cell_type": "code",
   "execution_count": null,
   "metadata": {},
   "outputs": [],
   "source": [
    "%%time \n",
    "df_artist, df_media, df_album = deezer.compute_features()"
   ]
  },
  {
   "cell_type": "code",
   "execution_count": null,
   "metadata": {
    "collapsed": true
   },
   "outputs": [],
   "source": []
  }
 ],
 "metadata": {
  "kernelspec": {
   "display_name": "Python 3",
   "language": "python",
   "name": "python3"
  },
  "language_info": {
   "codemirror_mode": {
    "name": "ipython",
    "version": 3
   },
   "file_extension": ".py",
   "mimetype": "text/x-python",
   "name": "python",
   "nbconvert_exporter": "python",
   "pygments_lexer": "ipython3",
   "version": "3.6.0"
  }
 },
 "nbformat": 4,
 "nbformat_minor": 2
}
