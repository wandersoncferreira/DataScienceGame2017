{
 "cells": [
  {
   "cell_type": "code",
   "execution_count": 1,
   "metadata": {
    "collapsed": true
   },
   "outputs": [],
   "source": [
    "import requests\n",
    "import pandas as pd\n",
    "from features import DataGame, DeezerFeatures\n",
    "from time import sleep\n",
    "import numpy as np\n",
    "import wget"
   ]
  },
  {
   "cell_type": "code",
   "execution_count": 43,
   "metadata": {
    "collapsed": true
   },
   "outputs": [],
   "source": [
    "treino = DataGame(\"../train.csv\")"
   ]
  },
  {
   "cell_type": "code",
   "execution_count": null,
   "metadata": {
    "collapsed": true
   },
   "outputs": [],
   "source": [
    "len(treino.df)"
   ]
  },
  {
   "cell_type": "code",
   "execution_count": null,
   "metadata": {
    "collapsed": true
   },
   "outputs": [],
   "source": [
    "np.random.random()"
   ]
  },
  {
   "cell_type": "code",
   "execution_count": 39,
   "metadata": {
    "collapsed": true
   },
   "outputs": [],
   "source": [
    "# Request link para Track\n",
    "\n",
    "track_link = \"https://api.deezer.com/track/TRACK_ID\"\n",
    "album_link = \"https://api.deezer.com/album/ALBUM_ID\"\n",
    "artist_link = \"https://api.deezer.com/artist/ARTIST_ID\""
   ]
  },
  {
   "cell_type": "code",
   "execution_count": null,
   "metadata": {
    "collapsed": true
   },
   "outputs": [],
   "source": [
    "track_id = treino.df[\"artist_id\"].iloc[0]\n",
    "requests.get(artist_link.replace(\"ARTIST_ID\", str(track_id))).json()"
   ]
  },
  {
   "cell_type": "code",
   "execution_count": null,
   "metadata": {
    "collapsed": true
   },
   "outputs": [],
   "source": [
    "track_id"
   ]
  },
  {
   "cell_type": "code",
   "execution_count": 1,
   "metadata": {
    "collapsed": true
   },
   "outputs": [],
   "source": [
    "def track_features(media_id):\n",
    "    track = track_link.replace(\"TRACK_ID\", str(media_id))\n",
    "    response = requests.get(track)\n",
    "    rjson = response.json()\n",
    "    dict_resp = {\"media_id\": media_id, \"media_bpm\": rjson[\"bpm\"], \"media_rank\": rjson[\"rank\"]}\n",
    "    return dict_resp\n",
    "\n",
    "def album_features(album_id):\n",
    "    album = album_link.replace(\"ALBUM_ID\", str(album_id))\n",
    "    response = requests.get(album)\n",
    "    rjson = response.json()\n",
    "#     ids_genre = [genre[\"id\"] for genre in rjson[\"genres\"][\"data\"]]\n",
    "#     dict_resp = {\"album_id\": album_id, \"album_rating\": rjson[\"rating\"], \"album_fans\": rjson[\"fans\"],\n",
    "#                  \"album_genres\": ids_genre}\n",
    "    return rjson\n",
    "\n",
    "def artist_features(artist_id):\n",
    "    artist = artist_link.replace(\"ARTIST_ID\", str(artist_id))\n",
    "    response = requests.get(artist)\n",
    "    rjson = response.json()\n",
    "    dict_resp = {\"artist_id\": artist_id, \"artist_fans\": rjson[\"nb_fan\"], \"artist_albuns\": rjson[\"nb_album\"]}\n",
    "    return rjson"
   ]
  },
  {
   "cell_type": "code",
   "execution_count": null,
   "metadata": {
    "collapsed": true
   },
   "outputs": [],
   "source": [
    "track_id = treino.df[\"media_id\"].iloc[0]\n",
    "teste = track_features(track_id)\n",
    "teste"
   ]
  },
  {
   "cell_type": "code",
   "execution_count": null,
   "metadata": {
    "collapsed": true
   },
   "outputs": [],
   "source": [
    "album_id = treino.df[\"album_id\"].iloc[0]\n",
    "album_id = 45\n",
    "teste = album_features(album_id)\n",
    "t"
   ]
  },
  {
   "cell_type": "code",
   "execution_count": 42,
   "metadata": {},
   "outputs": [
    {
     "ename": "NameError",
     "evalue": "name 'treino' is not defined",
     "output_type": "error",
     "traceback": [
      "\u001b[0;31m--------------------------------------------------------------------------\u001b[0m",
      "\u001b[0;31mNameError\u001b[0m                                Traceback (most recent call last)",
      "\u001b[0;32m<ipython-input-42-9f6566a56262>\u001b[0m in \u001b[0;36m<module>\u001b[0;34m()\u001b[0m\n\u001b[0;32m----> 1\u001b[0;31m \u001b[0martist_ids\u001b[0m \u001b[0;34m=\u001b[0m \u001b[0mtreino\u001b[0m\u001b[0;34m.\u001b[0m\u001b[0mdf\u001b[0m\u001b[0;34m[\u001b[0m\u001b[0;34m\"artist_id\"\u001b[0m\u001b[0;34m]\u001b[0m\u001b[0;34m.\u001b[0m\u001b[0munique\u001b[0m\u001b[0;34m(\u001b[0m\u001b[0;34m)\u001b[0m\u001b[0;34m.\u001b[0m\u001b[0mtolist\u001b[0m\u001b[0;34m(\u001b[0m\u001b[0;34m)\u001b[0m\u001b[0;34m\u001b[0m\u001b[0m\n\u001b[0m\u001b[1;32m      2\u001b[0m \u001b[0malbum_ids\u001b[0m \u001b[0;34m=\u001b[0m \u001b[0mtreino\u001b[0m\u001b[0;34m.\u001b[0m\u001b[0mdf\u001b[0m\u001b[0;34m[\u001b[0m\u001b[0;34m\"album_id\"\u001b[0m\u001b[0;34m]\u001b[0m\u001b[0;34m.\u001b[0m\u001b[0munique\u001b[0m\u001b[0;34m(\u001b[0m\u001b[0;34m)\u001b[0m\u001b[0;34m.\u001b[0m\u001b[0mtolist\u001b[0m\u001b[0;34m(\u001b[0m\u001b[0;34m)\u001b[0m\u001b[0;34m\u001b[0m\u001b[0m\n\u001b[1;32m      3\u001b[0m \u001b[0mmedia_ids\u001b[0m \u001b[0;34m=\u001b[0m \u001b[0mtreino\u001b[0m\u001b[0;34m.\u001b[0m\u001b[0mdf\u001b[0m\u001b[0;34m[\u001b[0m\u001b[0;34m\"media_id\"\u001b[0m\u001b[0;34m]\u001b[0m\u001b[0;34m.\u001b[0m\u001b[0munique\u001b[0m\u001b[0;34m(\u001b[0m\u001b[0;34m)\u001b[0m\u001b[0;34m.\u001b[0m\u001b[0mtolist\u001b[0m\u001b[0;34m(\u001b[0m\u001b[0;34m)\u001b[0m\u001b[0;34m\u001b[0m\u001b[0m\n",
      "\u001b[0;31mNameError\u001b[0m: name 'treino' is not defined"
     ]
    }
   ],
   "source": [
    "artist_ids = treino.df[\"artist_id\"].unique().tolist()\n",
    "album_ids = treino.df[\"album_id\"].unique().tolist()\n",
    "media_ids = treino.df[\"media_id\"].unique().tolist()"
   ]
  },
  {
   "cell_type": "code",
   "execution_count": null,
   "metadata": {
    "collapsed": true
   },
   "outputs": [],
   "source": [
    "print(\"Quantidade de artistas: \", artist_ids.__len__())\n",
    "print(\"Quantidade de albuns: \", album_ids.__len__())\n",
    "print(\"Quantidade de musicas: \", media_ids.__len__())"
   ]
  },
  {
   "cell_type": "code",
   "execution_count": 2,
   "metadata": {
    "collapsed": true
   },
   "outputs": [],
   "source": [
    "artist_feats = pd.read_csv(\"artist_features_from_deezer.csv\", sep=\",\")"
   ]
  },
  {
   "cell_type": "code",
   "execution_count": 3,
   "metadata": {},
   "outputs": [
    {
     "data": {
      "text/html": [
       "<div>\n",
       "<table border=\"1\" class=\"dataframe\">\n",
       "  <thead>\n",
       "    <tr style=\"text-align: right;\">\n",
       "      <th></th>\n",
       "      <th>artist_albuns</th>\n",
       "      <th>artist_fans</th>\n",
       "      <th>artist_id</th>\n",
       "      <th>artist_radio</th>\n",
       "    </tr>\n",
       "  </thead>\n",
       "  <tbody>\n",
       "    <tr>\n",
       "      <th>0</th>\n",
       "      <td>1.0</td>\n",
       "      <td>32.0</td>\n",
       "      <td>55164</td>\n",
       "      <td>False</td>\n",
       "    </tr>\n",
       "    <tr>\n",
       "      <th>1</th>\n",
       "      <td>18.0</td>\n",
       "      <td>6204.0</td>\n",
       "      <td>55830</td>\n",
       "      <td>True</td>\n",
       "    </tr>\n",
       "    <tr>\n",
       "      <th>2</th>\n",
       "      <td>23.0</td>\n",
       "      <td>20022.0</td>\n",
       "      <td>2704</td>\n",
       "      <td>True</td>\n",
       "    </tr>\n",
       "    <tr>\n",
       "      <th>3</th>\n",
       "      <td>56.0</td>\n",
       "      <td>442765.0</td>\n",
       "      <td>938</td>\n",
       "      <td>True</td>\n",
       "    </tr>\n",
       "    <tr>\n",
       "      <th>4</th>\n",
       "      <td>65.0</td>\n",
       "      <td>28423.0</td>\n",
       "      <td>2939</td>\n",
       "      <td>True</td>\n",
       "    </tr>\n",
       "  </tbody>\n",
       "</table>\n",
       "</div>"
      ],
      "text/plain": [
       "   artist_albuns  artist_fans  artist_id artist_radio\n",
       "0            1.0         32.0      55164        False\n",
       "1           18.0       6204.0      55830         True\n",
       "2           23.0      20022.0       2704         True\n",
       "3           56.0     442765.0        938         True\n",
       "4           65.0      28423.0       2939         True"
      ]
     },
     "execution_count": 3,
     "metadata": {},
     "output_type": "execute_result"
    }
   ],
   "source": [
    "artist_feats.head()"
   ]
  },
  {
   "cell_type": "code",
   "execution_count": 4,
   "metadata": {
    "collapsed": true
   },
   "outputs": [],
   "source": [
    "artist_ids = artist_feats[(pd.isnull(artist_feats[\"artist_albuns\"]))][\"artist_id\"].tolist()"
   ]
  },
  {
   "cell_type": "code",
   "execution_count": 5,
   "metadata": {
    "collapsed": true
   },
   "outputs": [],
   "source": [
    "deezer = DeezerFeatures(artist_ids=artist_ids, create_csv=True, file_number=1)"
   ]
  },
  {
   "cell_type": "code",
   "execution_count": 6,
   "metadata": {},
   "outputs": [
    {
     "name": "stdout",
     "output_type": "stream",
     "text": [
      "Ainda restam 3 tentativas e 3823 valores NULL \n",
      "\n",
      "\n",
      "\n",
      "Ainda restam 2 tentativas e 486 valores NULL \n",
      "\n",
      "\n",
      "\n",
      "Ainda restam 1 tentativas e 93 valores NULL \n",
      "\n",
      "\n",
      "\n",
      "Ainda restam 0 tentativas e 40 valores NULL \n",
      "\n",
      "\n",
      "\n",
      "Ainda restam -1 tentativas e 37 valores NULL \n",
      "\n",
      "\n",
      "\n",
      "CPU times: user 3min 5s, sys: 12.2 s, total: 3min 18s\n",
      "Wall time: 1h 22min 57s\n"
     ]
    }
   ],
   "source": [
    "%%time \n",
    "df_artist, df_media, df_album = deezer.compute_features()"
   ]
  },
  {
   "cell_type": "code",
   "execution_count": null,
   "metadata": {
    "collapsed": true
   },
   "outputs": [],
   "source": []
  },
  {
   "cell_type": "code",
   "execution_count": null,
   "metadata": {
    "collapsed": true
   },
   "outputs": [],
   "source": []
  },
  {
   "cell_type": "code",
   "execution_count": null,
   "metadata": {
    "collapsed": true
   },
   "outputs": [],
   "source": []
  },
  {
   "cell_type": "code",
   "execution_count": null,
   "metadata": {
    "collapsed": true
   },
   "outputs": [],
   "source": [
    "teste = pd.read_csv(\"artist_features_from_deezer_1.csv\", sep=\";\")"
   ]
  },
  {
   "cell_type": "code",
   "execution_count": null,
   "metadata": {
    "collapsed": true
   },
   "outputs": [],
   "source": [
    "teste[(pd.isnull(teste[\"artist_albuns\"]))].__len__()"
   ]
  },
  {
   "cell_type": "code",
   "execution_count": 24,
   "metadata": {},
   "outputs": [
    {
     "name": "stdout",
     "output_type": "stream",
     "text": [
      "Quantidade total de linhas:  67142\n",
      "Quantidade total de linhas faltantes:  49415\n"
     ]
    }
   ],
   "source": [
    "p1 = pd.read_csv(\"artist_features_from_deezer.csv\", sep=\",\")\n",
    "print(\"Quantidade total de linhas: \", len(p1))\n",
    "no_p1 = p1[(pd.isnull(p1[\"artist_albuns\"]))].__len__()\n",
    "print(\"Quantidade total de linhas faltantes: \", no_p1)\n",
    "\n",
    "p1_ok = p1[(~pd.isnull(p1[\"artist_albuns\"]))]"
   ]
  },
  {
   "cell_type": "code",
   "execution_count": 25,
   "metadata": {},
   "outputs": [
    {
     "name": "stdout",
     "output_type": "stream",
     "text": [
      "Quantidade total de linhas:  49415\n",
      "Quantidade total de linhas faltantes:  3823\n"
     ]
    }
   ],
   "source": [
    "p2 = pd.read_csv(\"artist_features_from_deezer_1.csv\", sep=\";\")\n",
    "print(\"Quantidade total de linhas: \", len(p2))\n",
    "no_p2 = p2[(pd.isnull(p2[\"artist_albuns\"]))].__len__()\n",
    "print(\"Quantidade total de linhas faltantes: \", no_p2)\n",
    "\n",
    "p2_ok = p2[(~pd.isnull(p2[\"artist_albuns\"]))]"
   ]
  },
  {
   "cell_type": "code",
   "execution_count": 26,
   "metadata": {},
   "outputs": [
    {
     "name": "stdout",
     "output_type": "stream",
     "text": [
      "Quantidade total de linhas:  3823\n",
      "Quantidade total de linhas faltantes:  486\n"
     ]
    }
   ],
   "source": [
    "p3 = pd.read_csv(\"artist_features_from_deezer_2.csv\", sep=\";\")\n",
    "print(\"Quantidade total de linhas: \", len(p3))\n",
    "no_p3 = p3[(pd.isnull(p3[\"artist_albuns\"]))].__len__()\n",
    "print(\"Quantidade total de linhas faltantes: \", no_p3)\n",
    "\n",
    "p3_ok = p3[(~pd.isnull(p3[\"artist_albuns\"]))]"
   ]
  },
  {
   "cell_type": "code",
   "execution_count": 27,
   "metadata": {},
   "outputs": [
    {
     "name": "stdout",
     "output_type": "stream",
     "text": [
      "Quantidade total de linhas:  486\n",
      "Quantidade total de linhas faltantes:  93\n"
     ]
    }
   ],
   "source": [
    "p4 = pd.read_csv(\"artist_features_from_deezer_3.csv\", sep=\";\")\n",
    "print(\"Quantidade total de linhas: \", len(p4))\n",
    "no_p4 = p4[(pd.isnull(p4[\"artist_albuns\"]))].__len__()\n",
    "print(\"Quantidade total de linhas faltantes: \", no_p4)\n",
    "\n",
    "p4_ok = p4[(~pd.isnull(p4[\"artist_albuns\"]))]"
   ]
  },
  {
   "cell_type": "code",
   "execution_count": 28,
   "metadata": {},
   "outputs": [
    {
     "name": "stdout",
     "output_type": "stream",
     "text": [
      "Quantidade total de linhas:  93\n",
      "Quantidade total de linhas faltantes:  40\n"
     ]
    }
   ],
   "source": [
    "p5 = pd.read_csv(\"artist_features_from_deezer_4.csv\", sep=\";\")\n",
    "print(\"Quantidade total de linhas: \", len(p5))\n",
    "no_p5 = p5[(pd.isnull(p5[\"artist_albuns\"]))].__len__()\n",
    "print(\"Quantidade total de linhas faltantes: \", no_p5)\n",
    "\n",
    "p5_ok = p5[(~pd.isnull(p5[\"artist_albuns\"]))]"
   ]
  },
  {
   "cell_type": "code",
   "execution_count": 37,
   "metadata": {},
   "outputs": [
    {
     "name": "stdout",
     "output_type": "stream",
     "text": [
      "Quantidade total de linhas:  40\n",
      "Quantidade total de linhas faltantes:  37\n"
     ]
    }
   ],
   "source": [
    "p6 = pd.read_csv(\"artist_features_from_deezer_5.csv\", sep=\";\")\n",
    "print(\"Quantidade total de linhas: \", len(p6))\n",
    "df_no_p6 = p6[(pd.isnull(p6[\"artist_albuns\"]))]\n",
    "no_p6 = df_no_p6.__len__()\n",
    "print(\"Quantidade total de linhas faltantes: \", no_p6)\n",
    "\n",
    "p6_ok = p6[(~pd.isnull(p6[\"artist_albuns\"]))]"
   ]
  },
  {
   "cell_type": "code",
   "execution_count": 34,
   "metadata": {},
   "outputs": [
    {
     "data": {
      "text/plain": [
       "67142"
      ]
     },
     "execution_count": 34,
     "metadata": {},
     "output_type": "execute_result"
    }
   ],
   "source": [
    "len(p1_ok) + len(p2_ok) + len(p3_ok) + len(p4_ok) + len(p5_ok) + len(p6_ok) + 37"
   ]
  },
  {
   "cell_type": "code",
   "execution_count": 36,
   "metadata": {},
   "outputs": [
    {
     "data": {
      "text/html": [
       "<div>\n",
       "<table border=\"1\" class=\"dataframe\">\n",
       "  <thead>\n",
       "    <tr style=\"text-align: right;\">\n",
       "      <th></th>\n",
       "      <th>artist_albuns</th>\n",
       "      <th>artist_fans</th>\n",
       "      <th>artist_id</th>\n",
       "      <th>artist_radio</th>\n",
       "    </tr>\n",
       "  </thead>\n",
       "  <tbody>\n",
       "    <tr>\n",
       "      <th>0</th>\n",
       "      <td>1.0</td>\n",
       "      <td>32.0</td>\n",
       "      <td>55164</td>\n",
       "      <td>False</td>\n",
       "    </tr>\n",
       "    <tr>\n",
       "      <th>1</th>\n",
       "      <td>18.0</td>\n",
       "      <td>6204.0</td>\n",
       "      <td>55830</td>\n",
       "      <td>True</td>\n",
       "    </tr>\n",
       "    <tr>\n",
       "      <th>2</th>\n",
       "      <td>23.0</td>\n",
       "      <td>20022.0</td>\n",
       "      <td>2704</td>\n",
       "      <td>True</td>\n",
       "    </tr>\n",
       "    <tr>\n",
       "      <th>3</th>\n",
       "      <td>56.0</td>\n",
       "      <td>442765.0</td>\n",
       "      <td>938</td>\n",
       "      <td>True</td>\n",
       "    </tr>\n",
       "    <tr>\n",
       "      <th>4</th>\n",
       "      <td>65.0</td>\n",
       "      <td>28423.0</td>\n",
       "      <td>2939</td>\n",
       "      <td>True</td>\n",
       "    </tr>\n",
       "  </tbody>\n",
       "</table>\n",
       "</div>"
      ],
      "text/plain": [
       "   artist_albuns  artist_fans  artist_id artist_radio\n",
       "0            1.0         32.0      55164        False\n",
       "1           18.0       6204.0      55830         True\n",
       "2           23.0      20022.0       2704         True\n",
       "3           56.0     442765.0        938         True\n",
       "4           65.0      28423.0       2939         True"
      ]
     },
     "execution_count": 36,
     "metadata": {},
     "output_type": "execute_result"
    }
   ],
   "source": [
    "df_final = pd.concat([p1_ok, p2_ok, p3_ok, p4_ok, p5_ok, p6_ok])\n",
    "df_final.head()"
   ]
  },
  {
   "cell_type": "code",
   "execution_count": 57,
   "metadata": {
    "collapsed": true
   },
   "outputs": [],
   "source": [
    "df_final.to_csv(\"deezer_API_artist_features.csv\", sep=\";\", index=None)"
   ]
  },
  {
   "cell_type": "code",
   "execution_count": null,
   "metadata": {
    "collapsed": true
   },
   "outputs": [],
   "source": []
  }
 ],
 "metadata": {
  "kernelspec": {
   "display_name": "Python 3",
   "language": "python",
   "name": "python3"
  },
  "language_info": {
   "codemirror_mode": {
    "name": "ipython",
    "version": 3
   },
   "file_extension": ".py",
   "mimetype": "text/x-python",
   "name": "python",
   "nbconvert_exporter": "python",
   "pygments_lexer": "ipython3",
   "version": "3.6.0"
  }
 },
 "nbformat": 4,
 "nbformat_minor": 2
}
