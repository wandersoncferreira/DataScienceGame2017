{
 "cells": [
  {
   "cell_type": "code",
   "execution_count": 1,
   "metadata": {
    "collapsed": true
   },
   "outputs": [],
   "source": [
    "from features import DataGame\n",
    "import pandas as pd"
   ]
  },
  {
   "cell_type": "code",
   "execution_count": 2,
   "metadata": {},
   "outputs": [],
   "source": [
    "treino = DataGame(filepath=\"../train.csv\")"
   ]
  },
  {
   "cell_type": "code",
   "execution_count": 3,
   "metadata": {},
   "outputs": [],
   "source": [
    "teste = DataGame(filepath=\"../test.csv\")"
   ]
  },
  {
   "cell_type": "code",
   "execution_count": 6,
   "metadata": {},
   "outputs": [],
   "source": [
    "df_treino = treino.df"
   ]
  },
  {
   "cell_type": "code",
   "execution_count": 11,
   "metadata": {},
   "outputs": [
    {
     "data": {
      "text/plain": [
       "9241"
      ]
     },
     "execution_count": 11,
     "metadata": {},
     "output_type": "execute_result"
    }
   ],
   "source": [
    "user_id = df_treino[\"user_id\"].unique().tolist()[0]\n",
    "user_id"
   ]
  },
  {
   "cell_type": "code",
   "execution_count": 38,
   "metadata": {
    "collapsed": true
   },
   "outputs": [],
   "source": [
    "def qtd_success_flow_noflow(user_id, df_treino):\n",
    "    df_user = df_treino[(df_treino[\"user_id\"] == user_id)].copy()\n",
    "    list_feats = [\"nmidia_noflow\", \"nmidia_noflow_sucess\", \"nmidia_noflow_sucess_PROP\",\n",
    "                  \"nmodia_flow\", \"nmidia_flow_success\", \"midia_flow_success_PROP\", \n",
    "                  \"PROP_flow_PROP_noflow\", \"qtd_flow_noflow_PROP\"]\n",
    "    \n",
    "    # reproducoes com sucesso em nao-flow\n",
    "    qtd_musics_noflow = df_user[(df_user[\"listen_type\"] == 0)].__len__()\n",
    "    qtd_musics_noflow_success = df_user[(df_user[\"is_listened\"] == 1) & (df_user[\"listen_type\"] == 0)].__len__()\n",
    "    prop_musics_noflow_success = qtd_musics_noflow_success / qtd_musics_noflow\n",
    "\n",
    "    # reproducoes em modo flow\n",
    "    df_flow = df_user[(df_user[\"listen_type\"] == 1)].copy()\n",
    "    qtd_musics_flow = len(df_flow)\n",
    "    qtd_musics_flow_success = df_flow[(df_flow[\"is_listened\"] == 1)].__len__()\n",
    "    prop_musics_flow_success = qtd_musics_flow_success / qtd_musics_flow\n",
    "    \n",
    "    # prop qtd_noflow / qtd_flow\n",
    "    prop_qtd_flow_noflow = qtd_musics_flow / qtd_musics_noflow\n",
    "    \n",
    "    # proporcao entre flow_success e noflow_successs\n",
    "    prop_prop = prop_musics_flow_success / prop_musics_noflow_success\n",
    "    \n",
    "    df_user[list_feats] = df_user.apply(lambda row: pd.Series([qtd_musics_noflow,\n",
    "                                                               qtd_musics_noflow_success, \n",
    "                                                               prop_musics_noflow_success,\n",
    "                                                               qtd_musics_flow, \n",
    "                                                               qtd_musics_flow_success,\n",
    "                                                               prop_musics_flow_success,\n",
    "                                                               prop_prop,\n",
    "                                                               prop_qtd_flow_noflow]), axis=1)\n",
    "    df_user.set_index(\"user_id\", inplace=True)\n",
    "    return df_user[list_feats].iloc[0:1]"
   ]
  },
  {
   "cell_type": "code",
   "execution_count": 39,
   "metadata": {},
   "outputs": [
    {
     "data": {
      "text/html": [
       "<div>\n",
       "<table border=\"1\" class=\"dataframe\">\n",
       "  <thead>\n",
       "    <tr style=\"text-align: right;\">\n",
       "      <th></th>\n",
       "      <th>nmidia_noflow</th>\n",
       "      <th>nmidia_noflow_sucess</th>\n",
       "      <th>nmidia_noflow_sucess_PROP</th>\n",
       "      <th>nmodia_flow</th>\n",
       "      <th>nmidia_flow_success</th>\n",
       "      <th>midia_flow_success_PROP</th>\n",
       "      <th>PROP_flow_PROP_noflow</th>\n",
       "      <th>qtd_flow_noflow_PROP</th>\n",
       "    </tr>\n",
       "    <tr>\n",
       "      <th>user_id</th>\n",
       "      <th></th>\n",
       "      <th></th>\n",
       "      <th></th>\n",
       "      <th></th>\n",
       "      <th></th>\n",
       "      <th></th>\n",
       "      <th></th>\n",
       "      <th></th>\n",
       "    </tr>\n",
       "  </thead>\n",
       "  <tbody>\n",
       "    <tr>\n",
       "      <th>9241</th>\n",
       "      <td>142.0</td>\n",
       "      <td>98.0</td>\n",
       "      <td>0.690141</td>\n",
       "      <td>84.0</td>\n",
       "      <td>55.0</td>\n",
       "      <td>0.654762</td>\n",
       "      <td>0.948737</td>\n",
       "      <td>0.591549</td>\n",
       "    </tr>\n",
       "  </tbody>\n",
       "</table>\n",
       "</div>"
      ],
      "text/plain": [
       "         nmidia_noflow  nmidia_noflow_sucess  nmidia_noflow_sucess_PROP  \\\n",
       "user_id                                                                   \n",
       "9241             142.0                  98.0                   0.690141   \n",
       "\n",
       "         nmodia_flow  nmidia_flow_success  midia_flow_success_PROP  \\\n",
       "user_id                                                              \n",
       "9241            84.0                 55.0                 0.654762   \n",
       "\n",
       "         PROP_flow_PROP_noflow  qtd_flow_noflow_PROP  \n",
       "user_id                                               \n",
       "9241                  0.948737              0.591549  "
      ]
     },
     "execution_count": 39,
     "metadata": {},
     "output_type": "execute_result"
    }
   ],
   "source": [
    "qtd_success_flow_noflow(user_id, df_treino)"
   ]
  },
  {
   "cell_type": "code",
   "execution_count": null,
   "metadata": {
    "collapsed": true
   },
   "outputs": [],
   "source": []
  }
 ],
 "metadata": {
  "kernelspec": {
   "display_name": "Python 3",
   "language": "python",
   "name": "python3"
  },
  "language_info": {
   "codemirror_mode": {
    "name": "ipython",
    "version": 3
   },
   "file_extension": ".py",
   "mimetype": "text/x-python",
   "name": "python",
   "nbconvert_exporter": "python",
   "pygments_lexer": "ipython3",
   "version": "3.6.0"
  }
 },
 "nbformat": 4,
 "nbformat_minor": 2
}
